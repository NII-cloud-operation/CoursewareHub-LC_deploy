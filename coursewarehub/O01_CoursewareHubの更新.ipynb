{
 "cells": [
  {
   "cell_type": "markdown",
   "id": "f09cc430",
   "metadata": {
    "lc_cell_meme": {
     "current": "109d31e6-9535-11ec-b83a-6b42dc3e1973-9-1a95-f030-a0ec-df1f-cd94-f1e0-4301-0ad7-0eeb",
     "history": [
      {
       "current": "109d31e6-9535-11ec-b83a-6b42dc3e1973-1-1a95",
       "next": "f7f67c14-d57f-11e8-a64b-02420aff0006-21-7472-2336-cc52-6026-3896-63ad-f5fa-89da-9be4-5617",
       "previous": null
      },
      {
       "current": "109d31e6-9535-11ec-b83a-6b42dc3e1973-2-1a95-f030",
       "next": "f7f67c14-d57f-11e8-a64b-02420aff0006-22-2336-cc52-6026-3896-63ad-f5fa-89da-9be4-5617-bc3b",
       "previous": null
      },
      {
       "current": "109d31e6-9535-11ec-b83a-6b42dc3e1973-3-1a95-f030-a0ec",
       "next": "f7f67c14-d57f-11e8-a64b-02420aff0006-23-cc52-6026-3896-63ad-f5fa-89da-9be4-5617-bc3b-a3e5",
       "previous": null
      },
      {
       "current": "109d31e6-9535-11ec-b83a-6b42dc3e1973-4-1a95-f030-a0ec-df1f",
       "next": "f7f67c14-d57f-11e8-a64b-02420aff0006-24-6026-3896-63ad-f5fa-89da-9be4-5617-bc3b-a3e5-2b8e",
       "previous": null
      },
      {
       "current": "109d31e6-9535-11ec-b83a-6b42dc3e1973-5-1a95-f030-a0ec-df1f-cd94",
       "next": "f7f67c14-d57f-11e8-a64b-02420aff0006-25-3896-63ad-f5fa-89da-9be4-5617-bc3b-a3e5-2b8e-af79",
       "previous": null
      },
      {
       "current": "109d31e6-9535-11ec-b83a-6b42dc3e1973-6-1a95-f030-a0ec-df1f-cd94-f1e0",
       "next": "f7f67c14-d57f-11e8-a64b-02420aff0006-26-63ad-f5fa-89da-9be4-5617-bc3b-a3e5-2b8e-af79-49fd",
       "previous": null
      },
      {
       "current": "109d31e6-9535-11ec-b83a-6b42dc3e1973-7-1a95-f030-a0ec-df1f-cd94-f1e0-4301",
       "next": "f7f67c14-d57f-11e8-a64b-02420aff0006-27-f5fa-89da-9be4-5617-bc3b-a3e5-2b8e-af79-49fd-b7d8",
       "previous": null
      },
      {
       "current": "109d31e6-9535-11ec-b83a-6b42dc3e1973-8-1a95-f030-a0ec-df1f-cd94-f1e0-4301-0ad7",
       "next": "f7f67c14-d57f-11e8-a64b-02420aff0006-28-89da-9be4-5617-bc3b-a3e5-2b8e-af79-49fd-b7d8-a6c4",
       "previous": null
      },
      {
       "current": "109d31e6-9535-11ec-b83a-6b42dc3e1973-9-1a95-f030-a0ec-df1f-cd94-f1e0-4301-0ad7-0eeb",
       "next": "f7f67c14-d57f-11e8-a64b-02420aff0006-29-9be4-5617-bc3b-a3e5-2b8e-af79-49fd-b7d8-a6c4-9fa5",
       "previous": null
      }
     ],
     "next": "f7f67c14-d57f-11e8-a64b-02420aff0006-30-5617-bc3b-a3e5-2b8e-af79-49fd-b7d8-a6c4-9fa5-efc3",
     "previous": null
    }
   },
   "source": [
    "# CoursewareHubの更新\n",
    "\n",
    "docker-compose.ymlを更新し、イメージをpullして、CoursewareHubのサービスを再起動します。\n",
    "\n",
    "- サーバーは再起動しません\n",
    "- docker serviceの削除と再作成を行います\n",
    "- ユーザーのNotebookサーバーは停止します\n",
    "\n",
    "> JupyterHubのデータベーススキーマのアップグレードには未対応"
   ]
  },
  {
   "cell_type": "markdown",
   "id": "d94f6d14",
   "metadata": {
    "lc_cell_meme": {
     "current": "f7f67c14-d57f-11e8-a64b-02420aff0006-30-5617-bc3b-a3e5-2b8e-af79-49fd-b7d8-a6c4-9fa5-efc3",
     "history": [
      {
       "current": "f7f67c14-d57f-11e8-a64b-02420aff0006-21-7472-2336-cc52-6026-3896-63ad-f5fa-89da-9be4-5617",
       "next": "30306cab-0f87-11ec-975c-c7638f7e44c5-10-4852-98d7-4e3a-da36-51fb-a546-f2b0-eaea-acf4-c480",
       "previous": "a128d540-939b-11ec-82c6-6b42dc3e1973"
      },
      {
       "current": "f7f67c14-d57f-11e8-a64b-02420aff0006-22-2336-cc52-6026-3896-63ad-f5fa-89da-9be4-5617-bc3b",
       "next": "30306cab-0f87-11ec-975c-c7638f7e44c5-12-4e3a-da36-51fb-a546-f2b0-eaea-acf4-c480-d9d4-004a",
       "previous": "109d31e6-9535-11ec-b83a-6b42dc3e1973"
      },
      {
       "current": "f7f67c14-d57f-11e8-a64b-02420aff0006-23-cc52-6026-3896-63ad-f5fa-89da-9be4-5617-bc3b-a3e5",
       "next": "30306cab-0f87-11ec-975c-c7638f7e44c5-13-da36-51fb-a546-f2b0-eaea-acf4-c480-d9d4-004a-9555",
       "previous": "109d31e6-9535-11ec-b83a-6b42dc3e1973-1-1a95"
      },
      {
       "current": "f7f67c14-d57f-11e8-a64b-02420aff0006-24-6026-3896-63ad-f5fa-89da-9be4-5617-bc3b-a3e5-2b8e",
       "next": "30306cab-0f87-11ec-975c-c7638f7e44c5-14-51fb-a546-f2b0-eaea-acf4-c480-d9d4-004a-9555-2e1e",
       "previous": "109d31e6-9535-11ec-b83a-6b42dc3e1973-2-1a95-f030"
      },
      {
       "current": "f7f67c14-d57f-11e8-a64b-02420aff0006-25-3896-63ad-f5fa-89da-9be4-5617-bc3b-a3e5-2b8e-af79",
       "next": "30306cab-0f87-11ec-975c-c7638f7e44c5-15-a546-f2b0-eaea-acf4-c480-d9d4-004a-9555-2e1e-08b5",
       "previous": "109d31e6-9535-11ec-b83a-6b42dc3e1973-3-1a95-f030-a0ec"
      },
      {
       "current": "f7f67c14-d57f-11e8-a64b-02420aff0006-26-63ad-f5fa-89da-9be4-5617-bc3b-a3e5-2b8e-af79-49fd",
       "next": "30306cab-0f87-11ec-975c-c7638f7e44c5-16-f2b0-eaea-acf4-c480-d9d4-004a-9555-2e1e-08b5-779a",
       "previous": "109d31e6-9535-11ec-b83a-6b42dc3e1973-4-1a95-f030-a0ec-df1f"
      },
      {
       "current": "f7f67c14-d57f-11e8-a64b-02420aff0006-27-f5fa-89da-9be4-5617-bc3b-a3e5-2b8e-af79-49fd-b7d8",
       "next": "30306cab-0f87-11ec-975c-c7638f7e44c5-17-eaea-acf4-c480-d9d4-004a-9555-2e1e-08b5-779a-a0c4",
       "previous": "109d31e6-9535-11ec-b83a-6b42dc3e1973-5-1a95-f030-a0ec-df1f-cd94"
      },
      {
       "current": "f7f67c14-d57f-11e8-a64b-02420aff0006-28-89da-9be4-5617-bc3b-a3e5-2b8e-af79-49fd-b7d8-a6c4",
       "next": "30306cab-0f87-11ec-975c-c7638f7e44c5-18-acf4-c480-d9d4-004a-9555-2e1e-08b5-779a-a0c4-e257",
       "previous": "109d31e6-9535-11ec-b83a-6b42dc3e1973-6-1a95-f030-a0ec-df1f-cd94-f1e0"
      },
      {
       "current": "f7f67c14-d57f-11e8-a64b-02420aff0006-29-9be4-5617-bc3b-a3e5-2b8e-af79-49fd-b7d8-a6c4-9fa5",
       "next": "30306cab-0f87-11ec-975c-c7638f7e44c5-19-c480-d9d4-004a-9555-2e1e-08b5-779a-a0c4-e257-2e98",
       "previous": "109d31e6-9535-11ec-b83a-6b42dc3e1973-7-1a95-f030-a0ec-df1f-cd94-f1e0-4301"
      },
      {
       "current": "f7f67c14-d57f-11e8-a64b-02420aff0006-30-5617-bc3b-a3e5-2b8e-af79-49fd-b7d8-a6c4-9fa5-efc3",
       "next": "30306cab-0f87-11ec-975c-c7638f7e44c5-20-d9d4-004a-9555-2e1e-08b5-779a-a0c4-e257-2e98-ad41",
       "previous": "109d31e6-9535-11ec-b83a-6b42dc3e1973-8-1a95-f030-a0ec-df1f-cd94-f1e0-4301-0ad7"
      }
     ],
     "next": "30306cab-0f87-11ec-975c-c7638f7e44c5-21-004a-9555-2e1e-08b5-779a-a0c4-e257-2e98-ad41-41a5",
     "previous": "109d31e6-9535-11ec-b83a-6b42dc3e1973-9-1a95-f030-a0ec-df1f-cd94-f1e0-4301-0ad7-0eeb"
    }
   },
   "source": [
    "# Notebookと環境のBinding\n",
    "\n",
    "Inventory中のgroup名でBind対象ホストを指示する。"
   ]
  },
  {
   "cell_type": "markdown",
   "id": "aa7a09a8",
   "metadata": {
    "lc_cell_meme": {
     "current": "30306cab-0f87-11ec-975c-c7638f7e44c5-21-004a-9555-2e1e-08b5-779a-a0c4-e257-2e98-ad41-41a5",
     "history": [
      {
       "current": "30306cab-0f87-11ec-975c-c7638f7e44c5-12-4e3a-da36-51fb-a546-f2b0-eaea-acf4-c480-d9d4-004a",
       "next": "bee36054-0f87-11ec-a987-c7638f7e44c5-10-cc6c-9efb-7aaa-4982-f1ba-1339-0b84-2ff0-fffe-60f9",
       "previous": "f7f67c14-d57f-11e8-a64b-02420aff0006-19-08e2-83dc-7472-2336-cc52-6026-3896-63ad-f5fa-89da"
      },
      {
       "current": "30306cab-0f87-11ec-975c-c7638f7e44c5-13-da36-51fb-a546-f2b0-eaea-acf4-c480-d9d4-004a-9555",
       "next": "bee36054-0f87-11ec-a987-c7638f7e44c5-12-7aaa-4982-f1ba-1339-0b84-2ff0-fffe-60f9-0397-f517",
       "previous": "f7f67c14-d57f-11e8-a64b-02420aff0006-21-7472-2336-cc52-6026-3896-63ad-f5fa-89da-9be4-5617"
      },
      {
       "current": "30306cab-0f87-11ec-975c-c7638f7e44c5-14-51fb-a546-f2b0-eaea-acf4-c480-d9d4-004a-9555-2e1e",
       "next": "bee36054-0f87-11ec-a987-c7638f7e44c5-13-4982-f1ba-1339-0b84-2ff0-fffe-60f9-0397-f517-698e",
       "previous": "f7f67c14-d57f-11e8-a64b-02420aff0006-22-2336-cc52-6026-3896-63ad-f5fa-89da-9be4-5617-bc3b"
      },
      {
       "current": "30306cab-0f87-11ec-975c-c7638f7e44c5-15-a546-f2b0-eaea-acf4-c480-d9d4-004a-9555-2e1e-08b5",
       "next": "bee36054-0f87-11ec-a987-c7638f7e44c5-14-f1ba-1339-0b84-2ff0-fffe-60f9-0397-f517-698e-d44c",
       "previous": "f7f67c14-d57f-11e8-a64b-02420aff0006-23-cc52-6026-3896-63ad-f5fa-89da-9be4-5617-bc3b-a3e5"
      },
      {
       "current": "30306cab-0f87-11ec-975c-c7638f7e44c5-16-f2b0-eaea-acf4-c480-d9d4-004a-9555-2e1e-08b5-779a",
       "next": "bee36054-0f87-11ec-a987-c7638f7e44c5-15-1339-0b84-2ff0-fffe-60f9-0397-f517-698e-d44c-23f4",
       "previous": "f7f67c14-d57f-11e8-a64b-02420aff0006-24-6026-3896-63ad-f5fa-89da-9be4-5617-bc3b-a3e5-2b8e"
      },
      {
       "current": "30306cab-0f87-11ec-975c-c7638f7e44c5-17-eaea-acf4-c480-d9d4-004a-9555-2e1e-08b5-779a-a0c4",
       "next": "bee36054-0f87-11ec-a987-c7638f7e44c5-16-0b84-2ff0-fffe-60f9-0397-f517-698e-d44c-23f4-e633",
       "previous": "f7f67c14-d57f-11e8-a64b-02420aff0006-25-3896-63ad-f5fa-89da-9be4-5617-bc3b-a3e5-2b8e-af79"
      },
      {
       "current": "30306cab-0f87-11ec-975c-c7638f7e44c5-18-acf4-c480-d9d4-004a-9555-2e1e-08b5-779a-a0c4-e257",
       "next": "bee36054-0f87-11ec-a987-c7638f7e44c5-17-2ff0-fffe-60f9-0397-f517-698e-d44c-23f4-e633-da7c",
       "previous": "f7f67c14-d57f-11e8-a64b-02420aff0006-26-63ad-f5fa-89da-9be4-5617-bc3b-a3e5-2b8e-af79-49fd"
      },
      {
       "current": "30306cab-0f87-11ec-975c-c7638f7e44c5-19-c480-d9d4-004a-9555-2e1e-08b5-779a-a0c4-e257-2e98",
       "next": "bee36054-0f87-11ec-a987-c7638f7e44c5-18-fffe-60f9-0397-f517-698e-d44c-23f4-e633-da7c-47e0",
       "previous": "f7f67c14-d57f-11e8-a64b-02420aff0006-27-f5fa-89da-9be4-5617-bc3b-a3e5-2b8e-af79-49fd-b7d8"
      },
      {
       "current": "30306cab-0f87-11ec-975c-c7638f7e44c5-20-d9d4-004a-9555-2e1e-08b5-779a-a0c4-e257-2e98-ad41",
       "next": "bee36054-0f87-11ec-a987-c7638f7e44c5-19-60f9-0397-f517-698e-d44c-23f4-e633-da7c-47e0-4dae",
       "previous": "f7f67c14-d57f-11e8-a64b-02420aff0006-28-89da-9be4-5617-bc3b-a3e5-2b8e-af79-49fd-b7d8-a6c4"
      },
      {
       "current": "30306cab-0f87-11ec-975c-c7638f7e44c5-21-004a-9555-2e1e-08b5-779a-a0c4-e257-2e98-ad41-41a5",
       "next": "bee36054-0f87-11ec-a987-c7638f7e44c5-20-0397-f517-698e-d44c-23f4-e633-da7c-47e0-4dae-2efc",
       "previous": "f7f67c14-d57f-11e8-a64b-02420aff0006-29-9be4-5617-bc3b-a3e5-2b8e-af79-49fd-b7d8-a6c4-9fa5"
      }
     ],
     "next": "bee36054-0f87-11ec-a987-c7638f7e44c5-21-f517-698e-d44c-23f4-e633-da7c-47e0-4dae-2efc-a104",
     "previous": "f7f67c14-d57f-11e8-a64b-02420aff0006-30-5617-bc3b-a3e5-2b8e-af79-49fd-b7d8-a6c4-9fa5-efc3"
    }
   },
   "source": [
    "Ansible Inventory中に定義されているグループ( `[グループ名]` のように`[]`で囲まれた定義 )のうち、CoursewareHub構築に使うグループ名を指定します。"
   ]
  },
  {
   "cell_type": "code",
   "execution_count": null,
   "id": "3089890d",
   "metadata": {
    "lc_cell_meme": {
     "current": "bee36054-0f87-11ec-a987-c7638f7e44c5-21-f517-698e-d44c-23f4-e633-da7c-47e0-4dae-2efc-a104",
     "history": [
      {
       "current": "bee36054-0f87-11ec-a987-c7638f7e44c5-12-7aaa-4982-f1ba-1339-0b84-2ff0-fffe-60f9-0397-f517",
       "next": "98a63d3e-d364-11e8-a64b-02420aff0006-18-54e6-8b2c-93a7-aceb-e740-12bc-5cad-4e77-9e4c-74ee",
       "previous": "30306cab-0f87-11ec-975c-c7638f7e44c5-10-4852-98d7-4e3a-da36-51fb-a546-f2b0-eaea-acf4-c480"
      },
      {
       "current": "bee36054-0f87-11ec-a987-c7638f7e44c5-13-4982-f1ba-1339-0b84-2ff0-fffe-60f9-0397-f517-698e",
       "next": "98a63d3e-d364-11e8-a64b-02420aff0006-20-93a7-aceb-e740-12bc-5cad-4e77-9e4c-74ee-adc9-f23c",
       "previous": "30306cab-0f87-11ec-975c-c7638f7e44c5-12-4e3a-da36-51fb-a546-f2b0-eaea-acf4-c480-d9d4-004a"
      },
      {
       "current": "bee36054-0f87-11ec-a987-c7638f7e44c5-14-f1ba-1339-0b84-2ff0-fffe-60f9-0397-f517-698e-d44c",
       "next": "98a63d3e-d364-11e8-a64b-02420aff0006-21-aceb-e740-12bc-5cad-4e77-9e4c-74ee-adc9-f23c-e753",
       "previous": "30306cab-0f87-11ec-975c-c7638f7e44c5-13-da36-51fb-a546-f2b0-eaea-acf4-c480-d9d4-004a-9555"
      },
      {
       "current": "bee36054-0f87-11ec-a987-c7638f7e44c5-15-1339-0b84-2ff0-fffe-60f9-0397-f517-698e-d44c-23f4",
       "next": "98a63d3e-d364-11e8-a64b-02420aff0006-22-e740-12bc-5cad-4e77-9e4c-74ee-adc9-f23c-e753-1789",
       "previous": "30306cab-0f87-11ec-975c-c7638f7e44c5-14-51fb-a546-f2b0-eaea-acf4-c480-d9d4-004a-9555-2e1e"
      },
      {
       "current": "bee36054-0f87-11ec-a987-c7638f7e44c5-16-0b84-2ff0-fffe-60f9-0397-f517-698e-d44c-23f4-e633",
       "next": "98a63d3e-d364-11e8-a64b-02420aff0006-23-12bc-5cad-4e77-9e4c-74ee-adc9-f23c-e753-1789-87ec",
       "previous": "30306cab-0f87-11ec-975c-c7638f7e44c5-15-a546-f2b0-eaea-acf4-c480-d9d4-004a-9555-2e1e-08b5"
      },
      {
       "current": "bee36054-0f87-11ec-a987-c7638f7e44c5-17-2ff0-fffe-60f9-0397-f517-698e-d44c-23f4-e633-da7c",
       "next": "98a63d3e-d364-11e8-a64b-02420aff0006-24-5cad-4e77-9e4c-74ee-adc9-f23c-e753-1789-87ec-aa46",
       "previous": "30306cab-0f87-11ec-975c-c7638f7e44c5-16-f2b0-eaea-acf4-c480-d9d4-004a-9555-2e1e-08b5-779a"
      },
      {
       "current": "bee36054-0f87-11ec-a987-c7638f7e44c5-18-fffe-60f9-0397-f517-698e-d44c-23f4-e633-da7c-47e0",
       "next": "98a63d3e-d364-11e8-a64b-02420aff0006-25-4e77-9e4c-74ee-adc9-f23c-e753-1789-87ec-aa46-dfa4",
       "previous": "30306cab-0f87-11ec-975c-c7638f7e44c5-17-eaea-acf4-c480-d9d4-004a-9555-2e1e-08b5-779a-a0c4"
      },
      {
       "current": "bee36054-0f87-11ec-a987-c7638f7e44c5-19-60f9-0397-f517-698e-d44c-23f4-e633-da7c-47e0-4dae",
       "next": "98a63d3e-d364-11e8-a64b-02420aff0006-26-9e4c-74ee-adc9-f23c-e753-1789-87ec-aa46-dfa4-761b",
       "previous": "30306cab-0f87-11ec-975c-c7638f7e44c5-18-acf4-c480-d9d4-004a-9555-2e1e-08b5-779a-a0c4-e257"
      },
      {
       "current": "bee36054-0f87-11ec-a987-c7638f7e44c5-20-0397-f517-698e-d44c-23f4-e633-da7c-47e0-4dae-2efc",
       "next": "98a63d3e-d364-11e8-a64b-02420aff0006-27-74ee-adc9-f23c-e753-1789-87ec-aa46-dfa4-761b-6498",
       "previous": "30306cab-0f87-11ec-975c-c7638f7e44c5-19-c480-d9d4-004a-9555-2e1e-08b5-779a-a0c4-e257-2e98"
      },
      {
       "current": "bee36054-0f87-11ec-a987-c7638f7e44c5-21-f517-698e-d44c-23f4-e633-da7c-47e0-4dae-2efc-a104",
       "next": "98a63d3e-d364-11e8-a64b-02420aff0006-28-adc9-f23c-e753-1789-87ec-aa46-dfa4-761b-6498-e354",
       "previous": "30306cab-0f87-11ec-975c-c7638f7e44c5-20-d9d4-004a-9555-2e1e-08b5-779a-a0c4-e257-2e98-ad41"
      }
     ],
     "next": "98a63d3e-d364-11e8-a64b-02420aff0006-29-f23c-e753-1789-87ec-aa46-dfa4-761b-6498-e354-f06d",
     "previous": "30306cab-0f87-11ec-975c-c7638f7e44c5-21-004a-9555-2e1e-08b5-779a-a0c4-e257-2e98-ad41-41a5"
    },
    "scrolled": true
   },
   "outputs": [],
   "source": [
    "hosts_file = './cwhtest0001_inventory'\n",
    "target_group = 'cwhtest0001'\n",
    "\n",
    "# 接続確認\n",
    "%env ANSIBLE_INVENTORY={hosts_file}\n",
    "!ansible -m ping {target_group}"
   ]
  },
  {
   "cell_type": "markdown",
   "id": "ab8d58c3",
   "metadata": {
    "lc_cell_meme": {
     "current": "98a63d3e-d364-11e8-a64b-02420aff0006-29-f23c-e753-1789-87ec-aa46-dfa4-761b-6498-e354-f06d",
     "history": [
      {
       "current": "98a63d3e-d364-11e8-a64b-02420aff0006-20-93a7-aceb-e740-12bc-5cad-4e77-9e4c-74ee-adc9-f23c",
       "next": "f7f67cc8-d57f-11e8-a64b-02420aff0006-18-d79c-f589-0215-d44e-2e5d-30f5-79aa-8499-fc40-a403",
       "previous": "bee36054-0f87-11ec-a987-c7638f7e44c5-10-cc6c-9efb-7aaa-4982-f1ba-1339-0b84-2ff0-fffe-60f9"
      },
      {
       "current": "98a63d3e-d364-11e8-a64b-02420aff0006-21-aceb-e740-12bc-5cad-4e77-9e4c-74ee-adc9-f23c-e753",
       "next": "f7f67cc8-d57f-11e8-a64b-02420aff0006-20-0215-d44e-2e5d-30f5-79aa-8499-fc40-a403-1114-b1dd",
       "previous": "bee36054-0f87-11ec-a987-c7638f7e44c5-12-7aaa-4982-f1ba-1339-0b84-2ff0-fffe-60f9-0397-f517"
      },
      {
       "current": "98a63d3e-d364-11e8-a64b-02420aff0006-22-e740-12bc-5cad-4e77-9e4c-74ee-adc9-f23c-e753-1789",
       "next": "f7f67cc8-d57f-11e8-a64b-02420aff0006-21-d44e-2e5d-30f5-79aa-8499-fc40-a403-1114-b1dd-4983",
       "previous": "bee36054-0f87-11ec-a987-c7638f7e44c5-13-4982-f1ba-1339-0b84-2ff0-fffe-60f9-0397-f517-698e"
      },
      {
       "current": "98a63d3e-d364-11e8-a64b-02420aff0006-23-12bc-5cad-4e77-9e4c-74ee-adc9-f23c-e753-1789-87ec",
       "next": "f7f67cc8-d57f-11e8-a64b-02420aff0006-22-2e5d-30f5-79aa-8499-fc40-a403-1114-b1dd-4983-ce3c",
       "previous": "bee36054-0f87-11ec-a987-c7638f7e44c5-14-f1ba-1339-0b84-2ff0-fffe-60f9-0397-f517-698e-d44c"
      },
      {
       "current": "98a63d3e-d364-11e8-a64b-02420aff0006-24-5cad-4e77-9e4c-74ee-adc9-f23c-e753-1789-87ec-aa46",
       "next": "f7f67cc8-d57f-11e8-a64b-02420aff0006-23-30f5-79aa-8499-fc40-a403-1114-b1dd-4983-ce3c-36bb",
       "previous": "bee36054-0f87-11ec-a987-c7638f7e44c5-15-1339-0b84-2ff0-fffe-60f9-0397-f517-698e-d44c-23f4"
      },
      {
       "current": "98a63d3e-d364-11e8-a64b-02420aff0006-25-4e77-9e4c-74ee-adc9-f23c-e753-1789-87ec-aa46-dfa4",
       "next": "f7f67cc8-d57f-11e8-a64b-02420aff0006-24-79aa-8499-fc40-a403-1114-b1dd-4983-ce3c-36bb-b203",
       "previous": "bee36054-0f87-11ec-a987-c7638f7e44c5-16-0b84-2ff0-fffe-60f9-0397-f517-698e-d44c-23f4-e633"
      },
      {
       "current": "98a63d3e-d364-11e8-a64b-02420aff0006-26-9e4c-74ee-adc9-f23c-e753-1789-87ec-aa46-dfa4-761b",
       "next": "f7f67cc8-d57f-11e8-a64b-02420aff0006-25-8499-fc40-a403-1114-b1dd-4983-ce3c-36bb-b203-2ac9",
       "previous": "bee36054-0f87-11ec-a987-c7638f7e44c5-17-2ff0-fffe-60f9-0397-f517-698e-d44c-23f4-e633-da7c"
      },
      {
       "current": "98a63d3e-d364-11e8-a64b-02420aff0006-27-74ee-adc9-f23c-e753-1789-87ec-aa46-dfa4-761b-6498",
       "next": "f7f67cc8-d57f-11e8-a64b-02420aff0006-26-fc40-a403-1114-b1dd-4983-ce3c-36bb-b203-2ac9-bfe3",
       "previous": "bee36054-0f87-11ec-a987-c7638f7e44c5-18-fffe-60f9-0397-f517-698e-d44c-23f4-e633-da7c-47e0"
      },
      {
       "current": "98a63d3e-d364-11e8-a64b-02420aff0006-28-adc9-f23c-e753-1789-87ec-aa46-dfa4-761b-6498-e354",
       "next": "f7f67cc8-d57f-11e8-a64b-02420aff0006-27-a403-1114-b1dd-4983-ce3c-36bb-b203-2ac9-bfe3-32a5",
       "previous": "bee36054-0f87-11ec-a987-c7638f7e44c5-19-60f9-0397-f517-698e-d44c-23f4-e633-da7c-47e0-4dae"
      },
      {
       "current": "98a63d3e-d364-11e8-a64b-02420aff0006-29-f23c-e753-1789-87ec-aa46-dfa4-761b-6498-e354-f06d",
       "next": "f7f67cc8-d57f-11e8-a64b-02420aff0006-28-1114-b1dd-4983-ce3c-36bb-b203-2ac9-bfe3-32a5-d5d2",
       "previous": "bee36054-0f87-11ec-a987-c7638f7e44c5-20-0397-f517-698e-d44c-23f4-e633-da7c-47e0-4dae-2efc"
      }
     ],
     "next": "f7f67cc8-d57f-11e8-a64b-02420aff0006-29-b1dd-4983-ce3c-36bb-b203-2ac9-bfe3-32a5-d5d2-9df7",
     "previous": "bee36054-0f87-11ec-a987-c7638f7e44c5-21-f517-698e-d44c-23f4-e633-da7c-47e0-4dae-2efc-a104"
    }
   },
   "source": [
    "masterとするAnsibleのgroup名を指定する。対象が正しいか、Ansible pingモジュールで動作確認する。"
   ]
  },
  {
   "cell_type": "code",
   "execution_count": null,
   "id": "e0738e4f",
   "metadata": {
    "lc_cell_meme": {
     "current": "f7f67cc8-d57f-11e8-a64b-02420aff0006-29-b1dd-4983-ce3c-36bb-b203-2ac9-bfe3-32a5-d5d2-9df7",
     "history": [
      {
       "current": "f7f67cc8-d57f-11e8-a64b-02420aff0006-20-0215-d44e-2e5d-30f5-79aa-8499-fc40-a403-1114-b1dd",
       "next": "98a63e88-d364-11e8-a64b-02420aff0006-17-e85f-7a19-a8d9-ec7b-1856-ff8a-d859-9ee5-6d3a-3c79",
       "previous": "98a63d3e-d364-11e8-a64b-02420aff0006-18-54e6-8b2c-93a7-aceb-e740-12bc-5cad-4e77-9e4c-74ee"
      },
      {
       "current": "f7f67cc8-d57f-11e8-a64b-02420aff0006-21-d44e-2e5d-30f5-79aa-8499-fc40-a403-1114-b1dd-4983",
       "next": "98a63e88-d364-11e8-a64b-02420aff0006-19-a8d9-ec7b-1856-ff8a-d859-9ee5-6d3a-3c79-a792-a032",
       "previous": "98a63d3e-d364-11e8-a64b-02420aff0006-20-93a7-aceb-e740-12bc-5cad-4e77-9e4c-74ee-adc9-f23c"
      },
      {
       "current": "f7f67cc8-d57f-11e8-a64b-02420aff0006-22-2e5d-30f5-79aa-8499-fc40-a403-1114-b1dd-4983-ce3c",
       "next": "98a63e88-d364-11e8-a64b-02420aff0006-20-ec7b-1856-ff8a-d859-9ee5-6d3a-3c79-a792-a032-0ab9",
       "previous": "98a63d3e-d364-11e8-a64b-02420aff0006-21-aceb-e740-12bc-5cad-4e77-9e4c-74ee-adc9-f23c-e753"
      },
      {
       "current": "f7f67cc8-d57f-11e8-a64b-02420aff0006-23-30f5-79aa-8499-fc40-a403-1114-b1dd-4983-ce3c-36bb",
       "next": "98a63e88-d364-11e8-a64b-02420aff0006-21-1856-ff8a-d859-9ee5-6d3a-3c79-a792-a032-0ab9-e289",
       "previous": "98a63d3e-d364-11e8-a64b-02420aff0006-22-e740-12bc-5cad-4e77-9e4c-74ee-adc9-f23c-e753-1789"
      },
      {
       "current": "f7f67cc8-d57f-11e8-a64b-02420aff0006-24-79aa-8499-fc40-a403-1114-b1dd-4983-ce3c-36bb-b203",
       "next": "98a63e88-d364-11e8-a64b-02420aff0006-22-ff8a-d859-9ee5-6d3a-3c79-a792-a032-0ab9-e289-b6ae",
       "previous": "98a63d3e-d364-11e8-a64b-02420aff0006-23-12bc-5cad-4e77-9e4c-74ee-adc9-f23c-e753-1789-87ec"
      },
      {
       "current": "f7f67cc8-d57f-11e8-a64b-02420aff0006-25-8499-fc40-a403-1114-b1dd-4983-ce3c-36bb-b203-2ac9",
       "next": "98a63e88-d364-11e8-a64b-02420aff0006-23-d859-9ee5-6d3a-3c79-a792-a032-0ab9-e289-b6ae-6631",
       "previous": "98a63d3e-d364-11e8-a64b-02420aff0006-24-5cad-4e77-9e4c-74ee-adc9-f23c-e753-1789-87ec-aa46"
      },
      {
       "current": "f7f67cc8-d57f-11e8-a64b-02420aff0006-26-fc40-a403-1114-b1dd-4983-ce3c-36bb-b203-2ac9-bfe3",
       "next": "98a63e88-d364-11e8-a64b-02420aff0006-24-9ee5-6d3a-3c79-a792-a032-0ab9-e289-b6ae-6631-6ab2",
       "previous": "98a63d3e-d364-11e8-a64b-02420aff0006-25-4e77-9e4c-74ee-adc9-f23c-e753-1789-87ec-aa46-dfa4"
      },
      {
       "current": "f7f67cc8-d57f-11e8-a64b-02420aff0006-27-a403-1114-b1dd-4983-ce3c-36bb-b203-2ac9-bfe3-32a5",
       "next": "98a63e88-d364-11e8-a64b-02420aff0006-25-6d3a-3c79-a792-a032-0ab9-e289-b6ae-6631-6ab2-7e40",
       "previous": "98a63d3e-d364-11e8-a64b-02420aff0006-26-9e4c-74ee-adc9-f23c-e753-1789-87ec-aa46-dfa4-761b"
      },
      {
       "current": "f7f67cc8-d57f-11e8-a64b-02420aff0006-28-1114-b1dd-4983-ce3c-36bb-b203-2ac9-bfe3-32a5-d5d2",
       "next": "98a63e88-d364-11e8-a64b-02420aff0006-26-3c79-a792-a032-0ab9-e289-b6ae-6631-6ab2-7e40-c9ed",
       "previous": "98a63d3e-d364-11e8-a64b-02420aff0006-27-74ee-adc9-f23c-e753-1789-87ec-aa46-dfa4-761b-6498"
      },
      {
       "current": "f7f67cc8-d57f-11e8-a64b-02420aff0006-29-b1dd-4983-ce3c-36bb-b203-2ac9-bfe3-32a5-d5d2-9df7",
       "next": "98a63e88-d364-11e8-a64b-02420aff0006-27-a792-a032-0ab9-e289-b6ae-6631-6ab2-7e40-c9ed-899c",
       "previous": "98a63d3e-d364-11e8-a64b-02420aff0006-28-adc9-f23c-e753-1789-87ec-aa46-dfa4-761b-6498-e354"
      }
     ],
     "next": "98a63e88-d364-11e8-a64b-02420aff0006-28-a032-0ab9-e289-b6ae-6631-6ab2-7e40-c9ed-899c-6638",
     "previous": "98a63d3e-d364-11e8-a64b-02420aff0006-29-f23c-e753-1789-87ec-aa46-dfa4-761b-6498-e354-f06d"
    }
   },
   "outputs": [],
   "source": [
    "target_hub = 'cwhub_master'\n",
    "\n",
    "!ansible -m ping {target_hub} -l {target_group}"
   ]
  },
  {
   "cell_type": "markdown",
   "id": "f3bb48cd",
   "metadata": {
    "lc_cell_meme": {
     "current": "98a63e88-d364-11e8-a64b-02420aff0006-28-a032-0ab9-e289-b6ae-6631-6ab2-7e40-c9ed-899c-6638",
     "history": [
      {
       "current": "98a63e88-d364-11e8-a64b-02420aff0006-19-a8d9-ec7b-1856-ff8a-d859-9ee5-6d3a-3c79-a792-a032",
       "next": "f7f67d54-d57f-11e8-a64b-02420aff0006-18-6c21-eade-5308-560e-4a4d-713b-3d95-e998-ba66-d7b2",
       "previous": "f7f67cc8-d57f-11e8-a64b-02420aff0006-18-d79c-f589-0215-d44e-2e5d-30f5-79aa-8499-fc40-a403"
      },
      {
       "current": "98a63e88-d364-11e8-a64b-02420aff0006-20-ec7b-1856-ff8a-d859-9ee5-6d3a-3c79-a792-a032-0ab9",
       "next": "f7f67d54-d57f-11e8-a64b-02420aff0006-20-5308-560e-4a4d-713b-3d95-e998-ba66-d7b2-2da5-140d",
       "previous": "f7f67cc8-d57f-11e8-a64b-02420aff0006-20-0215-d44e-2e5d-30f5-79aa-8499-fc40-a403-1114-b1dd"
      },
      {
       "current": "98a63e88-d364-11e8-a64b-02420aff0006-21-1856-ff8a-d859-9ee5-6d3a-3c79-a792-a032-0ab9-e289",
       "next": "f7f67d54-d57f-11e8-a64b-02420aff0006-21-560e-4a4d-713b-3d95-e998-ba66-d7b2-2da5-140d-ce13",
       "previous": "f7f67cc8-d57f-11e8-a64b-02420aff0006-21-d44e-2e5d-30f5-79aa-8499-fc40-a403-1114-b1dd-4983"
      },
      {
       "current": "98a63e88-d364-11e8-a64b-02420aff0006-22-ff8a-d859-9ee5-6d3a-3c79-a792-a032-0ab9-e289-b6ae",
       "next": "f7f67d54-d57f-11e8-a64b-02420aff0006-22-4a4d-713b-3d95-e998-ba66-d7b2-2da5-140d-ce13-5e32",
       "previous": "f7f67cc8-d57f-11e8-a64b-02420aff0006-22-2e5d-30f5-79aa-8499-fc40-a403-1114-b1dd-4983-ce3c"
      },
      {
       "current": "98a63e88-d364-11e8-a64b-02420aff0006-23-d859-9ee5-6d3a-3c79-a792-a032-0ab9-e289-b6ae-6631",
       "next": "f7f67d54-d57f-11e8-a64b-02420aff0006-23-713b-3d95-e998-ba66-d7b2-2da5-140d-ce13-5e32-2923",
       "previous": "f7f67cc8-d57f-11e8-a64b-02420aff0006-23-30f5-79aa-8499-fc40-a403-1114-b1dd-4983-ce3c-36bb"
      },
      {
       "current": "98a63e88-d364-11e8-a64b-02420aff0006-24-9ee5-6d3a-3c79-a792-a032-0ab9-e289-b6ae-6631-6ab2",
       "next": "f7f67d54-d57f-11e8-a64b-02420aff0006-24-3d95-e998-ba66-d7b2-2da5-140d-ce13-5e32-2923-a3ad",
       "previous": "f7f67cc8-d57f-11e8-a64b-02420aff0006-24-79aa-8499-fc40-a403-1114-b1dd-4983-ce3c-36bb-b203"
      },
      {
       "current": "98a63e88-d364-11e8-a64b-02420aff0006-25-6d3a-3c79-a792-a032-0ab9-e289-b6ae-6631-6ab2-7e40",
       "next": "f7f67d54-d57f-11e8-a64b-02420aff0006-25-e998-ba66-d7b2-2da5-140d-ce13-5e32-2923-a3ad-d244",
       "previous": "f7f67cc8-d57f-11e8-a64b-02420aff0006-25-8499-fc40-a403-1114-b1dd-4983-ce3c-36bb-b203-2ac9"
      },
      {
       "current": "98a63e88-d364-11e8-a64b-02420aff0006-26-3c79-a792-a032-0ab9-e289-b6ae-6631-6ab2-7e40-c9ed",
       "next": "f7f67d54-d57f-11e8-a64b-02420aff0006-26-ba66-d7b2-2da5-140d-ce13-5e32-2923-a3ad-d244-dd1f",
       "previous": "f7f67cc8-d57f-11e8-a64b-02420aff0006-26-fc40-a403-1114-b1dd-4983-ce3c-36bb-b203-2ac9-bfe3"
      },
      {
       "current": "98a63e88-d364-11e8-a64b-02420aff0006-27-a792-a032-0ab9-e289-b6ae-6631-6ab2-7e40-c9ed-899c",
       "next": "f7f67d54-d57f-11e8-a64b-02420aff0006-27-d7b2-2da5-140d-ce13-5e32-2923-a3ad-d244-dd1f-9643",
       "previous": "f7f67cc8-d57f-11e8-a64b-02420aff0006-27-a403-1114-b1dd-4983-ce3c-36bb-b203-2ac9-bfe3-32a5"
      },
      {
       "current": "98a63e88-d364-11e8-a64b-02420aff0006-28-a032-0ab9-e289-b6ae-6631-6ab2-7e40-c9ed-899c-6638",
       "next": "f7f67d54-d57f-11e8-a64b-02420aff0006-28-2da5-140d-ce13-5e32-2923-a3ad-d244-dd1f-9643-db3a",
       "previous": "f7f67cc8-d57f-11e8-a64b-02420aff0006-28-1114-b1dd-4983-ce3c-36bb-b203-2ac9-bfe3-32a5-d5d2"
      }
     ],
     "next": "f7f67d54-d57f-11e8-a64b-02420aff0006-29-140d-ce13-5e32-2923-a3ad-d244-dd1f-9643-db3a-e3e5",
     "previous": "f7f67cc8-d57f-11e8-a64b-02420aff0006-29-b1dd-4983-ce3c-36bb-b203-2ac9-bfe3-32a5-d5d2-9df7"
    }
   },
   "source": [
    "workerとするnodeはAnsibleのgroup名で定義する。Ansible pingモジュールで動作確認する。"
   ]
  },
  {
   "cell_type": "code",
   "execution_count": null,
   "id": "d05d9e6d",
   "metadata": {
    "lc_cell_meme": {
     "current": "f7f67d54-d57f-11e8-a64b-02420aff0006-29-140d-ce13-5e32-2923-a3ad-d244-dd1f-9643-db3a-e3e5",
     "history": [
      {
       "current": "f7f67d54-d57f-11e8-a64b-02420aff0006-20-5308-560e-4a4d-713b-3d95-e998-ba66-d7b2-2da5-140d",
       "next": "4f3cb358-f41e-11ea-9bfc-02420a01001a-11-a1c8-b2e0-1fdf-acf1-8a2d-72fe-3937-ba98-2861-89f4",
       "previous": "98a63e88-d364-11e8-a64b-02420aff0006-17-e85f-7a19-a8d9-ec7b-1856-ff8a-d859-9ee5-6d3a-3c79"
      },
      {
       "current": "f7f67d54-d57f-11e8-a64b-02420aff0006-21-560e-4a4d-713b-3d95-e998-ba66-d7b2-2da5-140d-ce13",
       "next": "4f3cb358-f41e-11ea-9bfc-02420a01001a-13-1fdf-acf1-8a2d-72fe-3937-ba98-2861-89f4-276f-58c6",
       "previous": "98a63e88-d364-11e8-a64b-02420aff0006-19-a8d9-ec7b-1856-ff8a-d859-9ee5-6d3a-3c79-a792-a032"
      },
      {
       "current": "f7f67d54-d57f-11e8-a64b-02420aff0006-22-4a4d-713b-3d95-e998-ba66-d7b2-2da5-140d-ce13-5e32",
       "next": "4f3cb358-f41e-11ea-9bfc-02420a01001a-14-acf1-8a2d-72fe-3937-ba98-2861-89f4-276f-58c6-76ef",
       "previous": "98a63e88-d364-11e8-a64b-02420aff0006-20-ec7b-1856-ff8a-d859-9ee5-6d3a-3c79-a792-a032-0ab9"
      },
      {
       "current": "f7f67d54-d57f-11e8-a64b-02420aff0006-23-713b-3d95-e998-ba66-d7b2-2da5-140d-ce13-5e32-2923",
       "next": "4f3cb358-f41e-11ea-9bfc-02420a01001a-15-8a2d-72fe-3937-ba98-2861-89f4-276f-58c6-76ef-6b12",
       "previous": "98a63e88-d364-11e8-a64b-02420aff0006-21-1856-ff8a-d859-9ee5-6d3a-3c79-a792-a032-0ab9-e289"
      },
      {
       "current": "f7f67d54-d57f-11e8-a64b-02420aff0006-24-3d95-e998-ba66-d7b2-2da5-140d-ce13-5e32-2923-a3ad",
       "next": "4f3cb358-f41e-11ea-9bfc-02420a01001a-16-72fe-3937-ba98-2861-89f4-276f-58c6-76ef-6b12-6164",
       "previous": "98a63e88-d364-11e8-a64b-02420aff0006-22-ff8a-d859-9ee5-6d3a-3c79-a792-a032-0ab9-e289-b6ae"
      },
      {
       "current": "f7f67d54-d57f-11e8-a64b-02420aff0006-25-e998-ba66-d7b2-2da5-140d-ce13-5e32-2923-a3ad-d244",
       "next": "4f3cb358-f41e-11ea-9bfc-02420a01001a-17-3937-ba98-2861-89f4-276f-58c6-76ef-6b12-6164-a77e",
       "previous": "98a63e88-d364-11e8-a64b-02420aff0006-23-d859-9ee5-6d3a-3c79-a792-a032-0ab9-e289-b6ae-6631"
      },
      {
       "current": "f7f67d54-d57f-11e8-a64b-02420aff0006-26-ba66-d7b2-2da5-140d-ce13-5e32-2923-a3ad-d244-dd1f",
       "next": "4f3cb358-f41e-11ea-9bfc-02420a01001a-18-ba98-2861-89f4-276f-58c6-76ef-6b12-6164-a77e-64a7",
       "previous": "98a63e88-d364-11e8-a64b-02420aff0006-24-9ee5-6d3a-3c79-a792-a032-0ab9-e289-b6ae-6631-6ab2"
      },
      {
       "current": "f7f67d54-d57f-11e8-a64b-02420aff0006-27-d7b2-2da5-140d-ce13-5e32-2923-a3ad-d244-dd1f-9643",
       "next": "4f3cb358-f41e-11ea-9bfc-02420a01001a-19-2861-89f4-276f-58c6-76ef-6b12-6164-a77e-64a7-7602",
       "previous": "98a63e88-d364-11e8-a64b-02420aff0006-25-6d3a-3c79-a792-a032-0ab9-e289-b6ae-6631-6ab2-7e40"
      },
      {
       "current": "f7f67d54-d57f-11e8-a64b-02420aff0006-28-2da5-140d-ce13-5e32-2923-a3ad-d244-dd1f-9643-db3a",
       "next": "4f3cb358-f41e-11ea-9bfc-02420a01001a-20-89f4-276f-58c6-76ef-6b12-6164-a77e-64a7-7602-18ee",
       "previous": "98a63e88-d364-11e8-a64b-02420aff0006-26-3c79-a792-a032-0ab9-e289-b6ae-6631-6ab2-7e40-c9ed"
      },
      {
       "current": "f7f67d54-d57f-11e8-a64b-02420aff0006-29-140d-ce13-5e32-2923-a3ad-d244-dd1f-9643-db3a-e3e5",
       "next": "4f3cb358-f41e-11ea-9bfc-02420a01001a-21-276f-58c6-76ef-6b12-6164-a77e-64a7-7602-18ee-5554",
       "previous": "98a63e88-d364-11e8-a64b-02420aff0006-27-a792-a032-0ab9-e289-b6ae-6631-6ab2-7e40-c9ed-899c"
      }
     ],
     "next": "4f3cb358-f41e-11ea-9bfc-02420a01001a-22-58c6-76ef-6b12-6164-a77e-64a7-7602-18ee-5554-d51f",
     "previous": "98a63e88-d364-11e8-a64b-02420aff0006-28-a032-0ab9-e289-b6ae-6631-6ab2-7e40-c9ed-899c-6638"
    }
   },
   "outputs": [],
   "source": [
    "target_nodes = 'cwhub_nodes'\n",
    "\n",
    "!ansible -m ping {target_nodes} -l {target_group}"
   ]
  },
  {
   "cell_type": "markdown",
   "id": "c7068a7b",
   "metadata": {
    "lc_cell_meme": {
     "current": "4f3cb358-f41e-11ea-9bfc-02420a01001a-22-58c6-76ef-6b12-6164-a77e-64a7-7602-18ee-5554-d51f",
     "history": [
      {
       "current": "4f3cb358-f41e-11ea-9bfc-02420a01001a-13-1fdf-acf1-8a2d-72fe-3937-ba98-2861-89f4-276f-58c6",
       "next": "4f3cb470-f41e-11ea-9bfc-02420a01001a-11-f5f9-5b19-573d-ca0c-d6eb-1c17-420a-b088-a052-7b5e",
       "previous": "f7f67d54-d57f-11e8-a64b-02420aff0006-18-6c21-eade-5308-560e-4a4d-713b-3d95-e998-ba66-d7b2"
      },
      {
       "current": "4f3cb358-f41e-11ea-9bfc-02420a01001a-14-acf1-8a2d-72fe-3937-ba98-2861-89f4-276f-58c6-76ef",
       "next": "4f3cb470-f41e-11ea-9bfc-02420a01001a-13-573d-ca0c-d6eb-1c17-420a-b088-a052-7b5e-bb49-b1f9",
       "previous": "f7f67d54-d57f-11e8-a64b-02420aff0006-20-5308-560e-4a4d-713b-3d95-e998-ba66-d7b2-2da5-140d"
      },
      {
       "current": "4f3cb358-f41e-11ea-9bfc-02420a01001a-15-8a2d-72fe-3937-ba98-2861-89f4-276f-58c6-76ef-6b12",
       "next": "4f3cb470-f41e-11ea-9bfc-02420a01001a-14-ca0c-d6eb-1c17-420a-b088-a052-7b5e-bb49-b1f9-4725",
       "previous": "f7f67d54-d57f-11e8-a64b-02420aff0006-21-560e-4a4d-713b-3d95-e998-ba66-d7b2-2da5-140d-ce13"
      },
      {
       "current": "4f3cb358-f41e-11ea-9bfc-02420a01001a-16-72fe-3937-ba98-2861-89f4-276f-58c6-76ef-6b12-6164",
       "next": "4f3cb470-f41e-11ea-9bfc-02420a01001a-15-d6eb-1c17-420a-b088-a052-7b5e-bb49-b1f9-4725-bf96",
       "previous": "f7f67d54-d57f-11e8-a64b-02420aff0006-22-4a4d-713b-3d95-e998-ba66-d7b2-2da5-140d-ce13-5e32"
      },
      {
       "current": "4f3cb358-f41e-11ea-9bfc-02420a01001a-17-3937-ba98-2861-89f4-276f-58c6-76ef-6b12-6164-a77e",
       "next": "4f3cb470-f41e-11ea-9bfc-02420a01001a-16-1c17-420a-b088-a052-7b5e-bb49-b1f9-4725-bf96-8ef9",
       "previous": "f7f67d54-d57f-11e8-a64b-02420aff0006-23-713b-3d95-e998-ba66-d7b2-2da5-140d-ce13-5e32-2923"
      },
      {
       "current": "4f3cb358-f41e-11ea-9bfc-02420a01001a-18-ba98-2861-89f4-276f-58c6-76ef-6b12-6164-a77e-64a7",
       "next": "4f3cb470-f41e-11ea-9bfc-02420a01001a-17-420a-b088-a052-7b5e-bb49-b1f9-4725-bf96-8ef9-19a1",
       "previous": "f7f67d54-d57f-11e8-a64b-02420aff0006-24-3d95-e998-ba66-d7b2-2da5-140d-ce13-5e32-2923-a3ad"
      },
      {
       "current": "4f3cb358-f41e-11ea-9bfc-02420a01001a-19-2861-89f4-276f-58c6-76ef-6b12-6164-a77e-64a7-7602",
       "next": "4f3cb470-f41e-11ea-9bfc-02420a01001a-18-b088-a052-7b5e-bb49-b1f9-4725-bf96-8ef9-19a1-37eb",
       "previous": "f7f67d54-d57f-11e8-a64b-02420aff0006-25-e998-ba66-d7b2-2da5-140d-ce13-5e32-2923-a3ad-d244"
      },
      {
       "current": "4f3cb358-f41e-11ea-9bfc-02420a01001a-20-89f4-276f-58c6-76ef-6b12-6164-a77e-64a7-7602-18ee",
       "next": "4f3cb470-f41e-11ea-9bfc-02420a01001a-19-a052-7b5e-bb49-b1f9-4725-bf96-8ef9-19a1-37eb-f7f5",
       "previous": "f7f67d54-d57f-11e8-a64b-02420aff0006-26-ba66-d7b2-2da5-140d-ce13-5e32-2923-a3ad-d244-dd1f"
      },
      {
       "current": "4f3cb358-f41e-11ea-9bfc-02420a01001a-21-276f-58c6-76ef-6b12-6164-a77e-64a7-7602-18ee-5554",
       "next": "4f3cb470-f41e-11ea-9bfc-02420a01001a-20-7b5e-bb49-b1f9-4725-bf96-8ef9-19a1-37eb-f7f5-a67b",
       "previous": "f7f67d54-d57f-11e8-a64b-02420aff0006-27-d7b2-2da5-140d-ce13-5e32-2923-a3ad-d244-dd1f-9643"
      },
      {
       "current": "4f3cb358-f41e-11ea-9bfc-02420a01001a-22-58c6-76ef-6b12-6164-a77e-64a7-7602-18ee-5554-d51f",
       "next": "4f3cb470-f41e-11ea-9bfc-02420a01001a-21-bb49-b1f9-4725-bf96-8ef9-19a1-37eb-f7f5-a67b-a136",
       "previous": "f7f67d54-d57f-11e8-a64b-02420aff0006-28-2da5-140d-ce13-5e32-2923-a3ad-d244-dd1f-9643-db3a"
      }
     ],
     "next": "4f3cb470-f41e-11ea-9bfc-02420a01001a-22-b1f9-4725-bf96-8ef9-19a1-37eb-f7f5-a67b-a136-b0c8",
     "previous": "f7f67d54-d57f-11e8-a64b-02420aff0006-29-140d-ce13-5e32-2923-a3ad-d244-dd1f-9643-db3a-e3e5"
    }
   },
   "source": [
    "servicenet_ip変数の確認"
   ]
  },
  {
   "cell_type": "code",
   "execution_count": null,
   "id": "07aae13a",
   "metadata": {
    "lc_cell_meme": {
     "current": "4f3cb470-f41e-11ea-9bfc-02420a01001a-22-b1f9-4725-bf96-8ef9-19a1-37eb-f7f5-a67b-a136-b0c8",
     "history": [
      {
       "current": "4f3cb470-f41e-11ea-9bfc-02420a01001a-13-573d-ca0c-d6eb-1c17-420a-b088-a052-7b5e-bb49-b1f9",
       "next": "109d331b-9535-11ec-af0f-6b42dc3e1973",
       "previous": "4f3cb358-f41e-11ea-9bfc-02420a01001a-13-1fdf-acf1-8a2d-72fe-3937-ba98-2861-89f4-276f-58c6"
      },
      {
       "current": "4f3cb470-f41e-11ea-9bfc-02420a01001a-14-ca0c-d6eb-1c17-420a-b088-a052-7b5e-bb49-b1f9-4725",
       "next": "4cba8141-9537-11ec-87cd-6b42dc3e1973",
       "previous": "4f3cb358-f41e-11ea-9bfc-02420a01001a-13-1fdf-acf1-8a2d-72fe-3937-ba98-2861-89f4-276f-58c6"
      },
      {
       "current": "4f3cb470-f41e-11ea-9bfc-02420a01001a-15-d6eb-1c17-420a-b088-a052-7b5e-bb49-b1f9-4725-bf96",
       "next": "4cba8141-9537-11ec-87cd-6b42dc3e1973-1-a5eb",
       "previous": "4f3cb358-f41e-11ea-9bfc-02420a01001a-14-acf1-8a2d-72fe-3937-ba98-2861-89f4-276f-58c6-76ef"
      },
      {
       "current": "4f3cb470-f41e-11ea-9bfc-02420a01001a-16-1c17-420a-b088-a052-7b5e-bb49-b1f9-4725-bf96-8ef9",
       "next": "4cba8141-9537-11ec-87cd-6b42dc3e1973-2-a5eb-89af",
       "previous": "4f3cb358-f41e-11ea-9bfc-02420a01001a-15-8a2d-72fe-3937-ba98-2861-89f4-276f-58c6-76ef-6b12"
      },
      {
       "current": "4f3cb470-f41e-11ea-9bfc-02420a01001a-17-420a-b088-a052-7b5e-bb49-b1f9-4725-bf96-8ef9-19a1",
       "next": "4cba8141-9537-11ec-87cd-6b42dc3e1973-3-a5eb-89af-afbf",
       "previous": "4f3cb358-f41e-11ea-9bfc-02420a01001a-16-72fe-3937-ba98-2861-89f4-276f-58c6-76ef-6b12-6164"
      },
      {
       "current": "4f3cb470-f41e-11ea-9bfc-02420a01001a-18-b088-a052-7b5e-bb49-b1f9-4725-bf96-8ef9-19a1-37eb",
       "next": "4cba8141-9537-11ec-87cd-6b42dc3e1973-4-a5eb-89af-afbf-e74d",
       "previous": "4f3cb358-f41e-11ea-9bfc-02420a01001a-17-3937-ba98-2861-89f4-276f-58c6-76ef-6b12-6164-a77e"
      },
      {
       "current": "4f3cb470-f41e-11ea-9bfc-02420a01001a-19-a052-7b5e-bb49-b1f9-4725-bf96-8ef9-19a1-37eb-f7f5",
       "next": "4cba8141-9537-11ec-87cd-6b42dc3e1973-5-a5eb-89af-afbf-e74d-b0e6",
       "previous": "4f3cb358-f41e-11ea-9bfc-02420a01001a-18-ba98-2861-89f4-276f-58c6-76ef-6b12-6164-a77e-64a7"
      },
      {
       "current": "4f3cb470-f41e-11ea-9bfc-02420a01001a-20-7b5e-bb49-b1f9-4725-bf96-8ef9-19a1-37eb-f7f5-a67b",
       "next": "4cba8141-9537-11ec-87cd-6b42dc3e1973-6-a5eb-89af-afbf-e74d-b0e6-6bb6",
       "previous": "4f3cb358-f41e-11ea-9bfc-02420a01001a-19-2861-89f4-276f-58c6-76ef-6b12-6164-a77e-64a7-7602"
      },
      {
       "current": "4f3cb470-f41e-11ea-9bfc-02420a01001a-21-bb49-b1f9-4725-bf96-8ef9-19a1-37eb-f7f5-a67b-a136",
       "next": "4cba8141-9537-11ec-87cd-6b42dc3e1973-7-a5eb-89af-afbf-e74d-b0e6-6bb6-8cdb",
       "previous": "4f3cb358-f41e-11ea-9bfc-02420a01001a-20-89f4-276f-58c6-76ef-6b12-6164-a77e-64a7-7602-18ee"
      },
      {
       "current": "4f3cb470-f41e-11ea-9bfc-02420a01001a-22-b1f9-4725-bf96-8ef9-19a1-37eb-f7f5-a67b-a136-b0c8",
       "next": "4cba8141-9537-11ec-87cd-6b42dc3e1973-8-a5eb-89af-afbf-e74d-b0e6-6bb6-8cdb-e3e3",
       "previous": "4f3cb358-f41e-11ea-9bfc-02420a01001a-21-276f-58c6-76ef-6b12-6164-a77e-64a7-7602-18ee-5554"
      }
     ],
     "next": "4cba8141-9537-11ec-87cd-6b42dc3e1973-9-a5eb-89af-afbf-e74d-b0e6-6bb6-8cdb-e3e3-3545",
     "previous": "4f3cb358-f41e-11ea-9bfc-02420a01001a-22-58c6-76ef-6b12-6164-a77e-64a7-7602-18ee-5554-d51f"
    },
    "scrolled": true
   },
   "outputs": [],
   "source": [
    "!ansible -m debug -a 'msg={{{{servicenet_ip}}}}' {target_hub}\n",
    "!ansible -m debug -a 'msg={{{{servicenet_ip}}}}' {target_nodes}"
   ]
  },
  {
   "cell_type": "markdown",
   "id": "6d239044",
   "metadata": {
    "lc_cell_meme": {
     "current": "4cba8141-9537-11ec-87cd-6b42dc3e1973-9-a5eb-89af-afbf-e74d-b0e6-6bb6-8cdb-e3e3-3545",
     "history": [
      {
       "current": "4cba8141-9537-11ec-87cd-6b42dc3e1973-1-a5eb",
       "next": "4cba8642-9537-11ec-8f83-6b42dc3e1973",
       "previous": "4f3cb470-f41e-11ea-9bfc-02420a01001a-13-573d-ca0c-d6eb-1c17-420a-b088-a052-7b5e-bb49-b1f9"
      },
      {
       "current": "4cba8141-9537-11ec-87cd-6b42dc3e1973-2-a5eb-89af",
       "next": "4cba8642-9537-11ec-8f83-6b42dc3e1973-1-67e5",
       "previous": "4f3cb470-f41e-11ea-9bfc-02420a01001a-14-ca0c-d6eb-1c17-420a-b088-a052-7b5e-bb49-b1f9-4725"
      },
      {
       "current": "4cba8141-9537-11ec-87cd-6b42dc3e1973-3-a5eb-89af-afbf",
       "next": "4cba8642-9537-11ec-8f83-6b42dc3e1973-2-67e5-f0e2",
       "previous": "4f3cb470-f41e-11ea-9bfc-02420a01001a-15-d6eb-1c17-420a-b088-a052-7b5e-bb49-b1f9-4725-bf96"
      },
      {
       "current": "4cba8141-9537-11ec-87cd-6b42dc3e1973-4-a5eb-89af-afbf-e74d",
       "next": "4cba8642-9537-11ec-8f83-6b42dc3e1973-3-67e5-f0e2-adad",
       "previous": "4f3cb470-f41e-11ea-9bfc-02420a01001a-16-1c17-420a-b088-a052-7b5e-bb49-b1f9-4725-bf96-8ef9"
      },
      {
       "current": "4cba8141-9537-11ec-87cd-6b42dc3e1973-5-a5eb-89af-afbf-e74d-b0e6",
       "next": "4cba8642-9537-11ec-8f83-6b42dc3e1973-4-67e5-f0e2-adad-77d3",
       "previous": "4f3cb470-f41e-11ea-9bfc-02420a01001a-17-420a-b088-a052-7b5e-bb49-b1f9-4725-bf96-8ef9-19a1"
      },
      {
       "current": "4cba8141-9537-11ec-87cd-6b42dc3e1973-6-a5eb-89af-afbf-e74d-b0e6-6bb6",
       "next": "4cba8642-9537-11ec-8f83-6b42dc3e1973-5-67e5-f0e2-adad-77d3-7ea8",
       "previous": "4f3cb470-f41e-11ea-9bfc-02420a01001a-18-b088-a052-7b5e-bb49-b1f9-4725-bf96-8ef9-19a1-37eb"
      },
      {
       "current": "4cba8141-9537-11ec-87cd-6b42dc3e1973-7-a5eb-89af-afbf-e74d-b0e6-6bb6-8cdb",
       "next": "4cba8642-9537-11ec-8f83-6b42dc3e1973-6-67e5-f0e2-adad-77d3-7ea8-49e2",
       "previous": "4f3cb470-f41e-11ea-9bfc-02420a01001a-19-a052-7b5e-bb49-b1f9-4725-bf96-8ef9-19a1-37eb-f7f5"
      },
      {
       "current": "4cba8141-9537-11ec-87cd-6b42dc3e1973-8-a5eb-89af-afbf-e74d-b0e6-6bb6-8cdb-e3e3",
       "next": "4cba8642-9537-11ec-8f83-6b42dc3e1973-7-67e5-f0e2-adad-77d3-7ea8-49e2-0c9d",
       "previous": "4f3cb470-f41e-11ea-9bfc-02420a01001a-20-7b5e-bb49-b1f9-4725-bf96-8ef9-19a1-37eb-f7f5-a67b"
      },
      {
       "current": "4cba8141-9537-11ec-87cd-6b42dc3e1973-9-a5eb-89af-afbf-e74d-b0e6-6bb6-8cdb-e3e3-3545",
       "next": "4cba8642-9537-11ec-8f83-6b42dc3e1973-8-67e5-f0e2-adad-77d3-7ea8-49e2-0c9d-1082",
       "previous": "4f3cb470-f41e-11ea-9bfc-02420a01001a-21-bb49-b1f9-4725-bf96-8ef9-19a1-37eb-f7f5-a67b-a136"
      }
     ],
     "next": "4cba8642-9537-11ec-8f83-6b42dc3e1973-9-67e5-f0e2-adad-77d3-7ea8-49e2-0c9d-1082-7c7e",
     "previous": "4f3cb470-f41e-11ea-9bfc-02420a01001a-22-b1f9-4725-bf96-8ef9-19a1-37eb-f7f5-a67b-a136-b0c8"
    }
   },
   "source": [
    "# 現在の状態の確認"
   ]
  },
  {
   "cell_type": "code",
   "execution_count": null,
   "id": "bc1a1cd6",
   "metadata": {
    "lc_cell_meme": {
     "current": "4cba8642-9537-11ec-8f83-6b42dc3e1973-9-67e5-f0e2-adad-77d3-7ea8-49e2-0c9d-1082-7c7e",
     "history": [
      {
       "current": "4cba8642-9537-11ec-8f83-6b42dc3e1973-1-67e5",
       "next": "4cba8799-9537-11ec-b542-6b42dc3e1973",
       "previous": "4cba8141-9537-11ec-87cd-6b42dc3e1973"
      },
      {
       "current": "4cba8642-9537-11ec-8f83-6b42dc3e1973-2-67e5-f0e2",
       "next": "4cba8799-9537-11ec-b542-6b42dc3e1973-1-9df7",
       "previous": "4cba8141-9537-11ec-87cd-6b42dc3e1973-1-a5eb"
      },
      {
       "current": "4cba8642-9537-11ec-8f83-6b42dc3e1973-3-67e5-f0e2-adad",
       "next": "4cba8799-9537-11ec-b542-6b42dc3e1973-2-9df7-eda8",
       "previous": "4cba8141-9537-11ec-87cd-6b42dc3e1973-2-a5eb-89af"
      },
      {
       "current": "4cba8642-9537-11ec-8f83-6b42dc3e1973-4-67e5-f0e2-adad-77d3",
       "next": "4cba8799-9537-11ec-b542-6b42dc3e1973-3-9df7-eda8-52c5",
       "previous": "4cba8141-9537-11ec-87cd-6b42dc3e1973-3-a5eb-89af-afbf"
      },
      {
       "current": "4cba8642-9537-11ec-8f83-6b42dc3e1973-5-67e5-f0e2-adad-77d3-7ea8",
       "next": "4cba8799-9537-11ec-b542-6b42dc3e1973-4-9df7-eda8-52c5-1346",
       "previous": "4cba8141-9537-11ec-87cd-6b42dc3e1973-4-a5eb-89af-afbf-e74d"
      },
      {
       "current": "4cba8642-9537-11ec-8f83-6b42dc3e1973-6-67e5-f0e2-adad-77d3-7ea8-49e2",
       "next": "4cba8799-9537-11ec-b542-6b42dc3e1973-5-9df7-eda8-52c5-1346-ff38",
       "previous": "4cba8141-9537-11ec-87cd-6b42dc3e1973-5-a5eb-89af-afbf-e74d-b0e6"
      },
      {
       "current": "4cba8642-9537-11ec-8f83-6b42dc3e1973-7-67e5-f0e2-adad-77d3-7ea8-49e2-0c9d",
       "next": "4cba8799-9537-11ec-b542-6b42dc3e1973-6-9df7-eda8-52c5-1346-ff38-f752",
       "previous": "4cba8141-9537-11ec-87cd-6b42dc3e1973-6-a5eb-89af-afbf-e74d-b0e6-6bb6"
      },
      {
       "current": "4cba8642-9537-11ec-8f83-6b42dc3e1973-8-67e5-f0e2-adad-77d3-7ea8-49e2-0c9d-1082",
       "next": "4cba8799-9537-11ec-b542-6b42dc3e1973-7-9df7-eda8-52c5-1346-ff38-f752-d7c7",
       "previous": "4cba8141-9537-11ec-87cd-6b42dc3e1973-7-a5eb-89af-afbf-e74d-b0e6-6bb6-8cdb"
      },
      {
       "current": "4cba8642-9537-11ec-8f83-6b42dc3e1973-9-67e5-f0e2-adad-77d3-7ea8-49e2-0c9d-1082-7c7e",
       "next": "4cba8799-9537-11ec-b542-6b42dc3e1973-8-9df7-eda8-52c5-1346-ff38-f752-d7c7-2368",
       "previous": "4cba8141-9537-11ec-87cd-6b42dc3e1973-8-a5eb-89af-afbf-e74d-b0e6-6bb6-8cdb-e3e3"
      }
     ],
     "next": "4cba8799-9537-11ec-b542-6b42dc3e1973-9-9df7-eda8-52c5-1346-ff38-f752-d7c7-2368-27e7",
     "previous": "4cba8141-9537-11ec-87cd-6b42dc3e1973-9-a5eb-89af-afbf-e74d-b0e6-6bb6-8cdb-e3e3-3545"
    }
   },
   "outputs": [],
   "source": [
    "!ansible -b -a 'docker stack ps coursewarehub' {target_hub}"
   ]
  },
  {
   "cell_type": "code",
   "execution_count": null,
   "id": "fd8eaa5b",
   "metadata": {
    "lc_cell_meme": {
     "current": "4cba8799-9537-11ec-b542-6b42dc3e1973-9-9df7-eda8-52c5-1346-ff38-f752-d7c7-2368-27e7",
     "history": [
      {
       "current": "4cba8799-9537-11ec-b542-6b42dc3e1973-1-9df7",
       "next": "109d331b-9535-11ec-af0f-6b42dc3e1973",
       "previous": "4cba8642-9537-11ec-8f83-6b42dc3e1973"
      },
      {
       "current": "4cba8799-9537-11ec-b542-6b42dc3e1973-1-9df7",
       "next": "109d331b-9535-11ec-af0f-6b42dc3e1973-1-9595",
       "previous": "4cba8642-9537-11ec-8f83-6b42dc3e1973-1-67e5"
      },
      {
       "current": "4cba8799-9537-11ec-b542-6b42dc3e1973-2-9df7-eda8",
       "next": "296c05b0-c874-11e9-85b0-0242ac120002-18-70fe-b89b-8d57-f7e8-6862-6d26-5f27-0952-a6f6-b1ba",
       "previous": "4cba8642-9537-11ec-8f83-6b42dc3e1973-1-67e5"
      },
      {
       "current": "4cba8799-9537-11ec-b542-6b42dc3e1973-3-9df7-eda8-52c5",
       "next": "296c05b0-c874-11e9-85b0-0242ac120002-19-b89b-8d57-f7e8-6862-6d26-5f27-0952-a6f6-b1ba-31d6",
       "previous": "4cba8642-9537-11ec-8f83-6b42dc3e1973-2-67e5-f0e2"
      },
      {
       "current": "4cba8799-9537-11ec-b542-6b42dc3e1973-4-9df7-eda8-52c5-1346",
       "next": "296c05b0-c874-11e9-85b0-0242ac120002-20-8d57-f7e8-6862-6d26-5f27-0952-a6f6-b1ba-31d6-7a13",
       "previous": "4cba8642-9537-11ec-8f83-6b42dc3e1973-3-67e5-f0e2-adad"
      },
      {
       "current": "4cba8799-9537-11ec-b542-6b42dc3e1973-5-9df7-eda8-52c5-1346-ff38",
       "next": "296c05b0-c874-11e9-85b0-0242ac120002-21-f7e8-6862-6d26-5f27-0952-a6f6-b1ba-31d6-7a13-c0e5",
       "previous": "4cba8642-9537-11ec-8f83-6b42dc3e1973-4-67e5-f0e2-adad-77d3"
      },
      {
       "current": "4cba8799-9537-11ec-b542-6b42dc3e1973-6-9df7-eda8-52c5-1346-ff38-f752",
       "next": "296c05b0-c874-11e9-85b0-0242ac120002-22-6862-6d26-5f27-0952-a6f6-b1ba-31d6-7a13-c0e5-b05a",
       "previous": "4cba8642-9537-11ec-8f83-6b42dc3e1973-5-67e5-f0e2-adad-77d3-7ea8"
      },
      {
       "current": "4cba8799-9537-11ec-b542-6b42dc3e1973-7-9df7-eda8-52c5-1346-ff38-f752-d7c7",
       "next": "296c05b0-c874-11e9-85b0-0242ac120002-23-6d26-5f27-0952-a6f6-b1ba-31d6-7a13-c0e5-b05a-5f99",
       "previous": "4cba8642-9537-11ec-8f83-6b42dc3e1973-6-67e5-f0e2-adad-77d3-7ea8-49e2"
      },
      {
       "current": "4cba8799-9537-11ec-b542-6b42dc3e1973-8-9df7-eda8-52c5-1346-ff38-f752-d7c7-2368",
       "next": "296c05b0-c874-11e9-85b0-0242ac120002-24-5f27-0952-a6f6-b1ba-31d6-7a13-c0e5-b05a-5f99-e1b3",
       "previous": "4cba8642-9537-11ec-8f83-6b42dc3e1973-7-67e5-f0e2-adad-77d3-7ea8-49e2-0c9d"
      },
      {
       "current": "4cba8799-9537-11ec-b542-6b42dc3e1973-9-9df7-eda8-52c5-1346-ff38-f752-d7c7-2368-27e7",
       "next": "296c05b0-c874-11e9-85b0-0242ac120002-25-0952-a6f6-b1ba-31d6-7a13-c0e5-b05a-5f99-e1b3-fe07",
       "previous": "4cba8642-9537-11ec-8f83-6b42dc3e1973-8-67e5-f0e2-adad-77d3-7ea8-49e2-0c9d-1082"
      }
     ],
     "next": "296c05b0-c874-11e9-85b0-0242ac120002-26-a6f6-b1ba-31d6-7a13-c0e5-b05a-5f99-e1b3-fe07-5743",
     "previous": "4cba8642-9537-11ec-8f83-6b42dc3e1973-9-67e5-f0e2-adad-77d3-7ea8-49e2-0c9d-1082-7c7e"
    }
   },
   "outputs": [],
   "source": [
    "!ansible -b -a 'docker stack services coursewarehub' {target_hub}"
   ]
  },
  {
   "cell_type": "markdown",
   "id": "c6854d22",
   "metadata": {
    "lc_cell_meme": {
     "current": "296c05b0-c874-11e9-85b0-0242ac120002-26-a6f6-b1ba-31d6-7a13-c0e5-b05a-5f99-e1b3-fe07-5743",
     "history": [
      {
       "current": "296c05b0-c874-11e9-85b0-0242ac120002-17-c8c6-70fe-b89b-8d57-f7e8-6862-6d26-5f27-0952-a6f6",
       "next": "8626f218-b252-11e7-a38f-0242ac120002-16-61bb-c6ba-359b-6170-f3da-0439-ee9f-375e-e3e8-acb3",
       "previous": "10e6e0ac-d5c5-11e8-a64b-02420aff0006-16-e383-2c98-3186-9ef3-9f92-40e5-c3cd-9f1d-4bc8-c6b0"
      },
      {
       "current": "296c05b0-c874-11e9-85b0-0242ac120002-18-70fe-b89b-8d57-f7e8-6862-6d26-5f27-0952-a6f6-b1ba",
       "next": "8626f218-b252-11e7-a38f-0242ac120002-17-c6ba-359b-6170-f3da-0439-ee9f-375e-e3e8-acb3-22f8",
       "previous": "10e6e0ac-d5c5-11e8-a64b-02420aff0006-17-2c98-3186-9ef3-9f92-40e5-c3cd-9f1d-4bc8-c6b0-665e"
      },
      {
       "current": "296c05b0-c874-11e9-85b0-0242ac120002-19-b89b-8d57-f7e8-6862-6d26-5f27-0952-a6f6-b1ba-31d6",
       "next": "8626f218-b252-11e7-a38f-0242ac120002-18-359b-6170-f3da-0439-ee9f-375e-e3e8-acb3-22f8-34e1",
       "previous": "4cba8799-9537-11ec-b542-6b42dc3e1973-1-9df7"
      },
      {
       "current": "296c05b0-c874-11e9-85b0-0242ac120002-20-8d57-f7e8-6862-6d26-5f27-0952-a6f6-b1ba-31d6-7a13",
       "next": "8626f218-b252-11e7-a38f-0242ac120002-19-6170-f3da-0439-ee9f-375e-e3e8-acb3-22f8-34e1-05d0",
       "previous": "4cba8799-9537-11ec-b542-6b42dc3e1973-2-9df7-eda8"
      },
      {
       "current": "296c05b0-c874-11e9-85b0-0242ac120002-21-f7e8-6862-6d26-5f27-0952-a6f6-b1ba-31d6-7a13-c0e5",
       "next": "8626f218-b252-11e7-a38f-0242ac120002-20-f3da-0439-ee9f-375e-e3e8-acb3-22f8-34e1-05d0-b27c",
       "previous": "4cba8799-9537-11ec-b542-6b42dc3e1973-3-9df7-eda8-52c5"
      },
      {
       "current": "296c05b0-c874-11e9-85b0-0242ac120002-22-6862-6d26-5f27-0952-a6f6-b1ba-31d6-7a13-c0e5-b05a",
       "next": "8626f218-b252-11e7-a38f-0242ac120002-21-0439-ee9f-375e-e3e8-acb3-22f8-34e1-05d0-b27c-a67d",
       "previous": "4cba8799-9537-11ec-b542-6b42dc3e1973-4-9df7-eda8-52c5-1346"
      },
      {
       "current": "296c05b0-c874-11e9-85b0-0242ac120002-23-6d26-5f27-0952-a6f6-b1ba-31d6-7a13-c0e5-b05a-5f99",
       "next": "8626f218-b252-11e7-a38f-0242ac120002-22-ee9f-375e-e3e8-acb3-22f8-34e1-05d0-b27c-a67d-78fc",
       "previous": "4cba8799-9537-11ec-b542-6b42dc3e1973-5-9df7-eda8-52c5-1346-ff38"
      },
      {
       "current": "296c05b0-c874-11e9-85b0-0242ac120002-24-5f27-0952-a6f6-b1ba-31d6-7a13-c0e5-b05a-5f99-e1b3",
       "next": "8626f218-b252-11e7-a38f-0242ac120002-23-375e-e3e8-acb3-22f8-34e1-05d0-b27c-a67d-78fc-b687",
       "previous": "4cba8799-9537-11ec-b542-6b42dc3e1973-6-9df7-eda8-52c5-1346-ff38-f752"
      },
      {
       "current": "296c05b0-c874-11e9-85b0-0242ac120002-25-0952-a6f6-b1ba-31d6-7a13-c0e5-b05a-5f99-e1b3-fe07",
       "next": "8626f218-b252-11e7-a38f-0242ac120002-24-e3e8-acb3-22f8-34e1-05d0-b27c-a67d-78fc-b687-f121",
       "previous": "4cba8799-9537-11ec-b542-6b42dc3e1973-7-9df7-eda8-52c5-1346-ff38-f752-d7c7"
      },
      {
       "current": "296c05b0-c874-11e9-85b0-0242ac120002-26-a6f6-b1ba-31d6-7a13-c0e5-b05a-5f99-e1b3-fe07-5743",
       "next": "8626f218-b252-11e7-a38f-0242ac120002-25-acb3-22f8-34e1-05d0-b27c-a67d-78fc-b687-f121-0ebb",
       "previous": "4cba8799-9537-11ec-b542-6b42dc3e1973-8-9df7-eda8-52c5-1346-ff38-f752-d7c7-2368"
      }
     ],
     "next": "8626f218-b252-11e7-a38f-0242ac120002-26-22f8-34e1-05d0-b27c-a67d-78fc-b687-f121-0ebb-1213",
     "previous": "4cba8799-9537-11ec-b542-6b42dc3e1973-9-9df7-eda8-52c5-1346-ff38-f752-d7c7-2368-27e7"
    }
   },
   "source": [
    "# PostgreSQLのパラメータ定義"
   ]
  },
  {
   "cell_type": "code",
   "execution_count": null,
   "id": "5df4122c",
   "metadata": {
    "lc_cell_meme": {
     "current": "8626f218-b252-11e7-a38f-0242ac120002-26-22f8-34e1-05d0-b27c-a67d-78fc-b687-f121-0ebb-1213",
     "history": [
      {
       "current": "8626f218-b252-11e7-a38f-0242ac120002-17-c6ba-359b-6170-f3da-0439-ee9f-375e-e3e8-acb3-22f8",
       "next": "5cbb144e-b253-11e7-a38f-0242ac120002-16-b798-cfe4-fba1-38d3-26d2-e07e-e735-a2f5-e501-afc8",
       "previous": "296c05b0-c874-11e9-85b0-0242ac120002-16-2d33-c8c6-70fe-b89b-8d57-f7e8-6862-6d26-5f27-0952"
      },
      {
       "current": "8626f218-b252-11e7-a38f-0242ac120002-18-359b-6170-f3da-0439-ee9f-375e-e3e8-acb3-22f8-34e1",
       "next": "5cbb144e-b253-11e7-a38f-0242ac120002-17-cfe4-fba1-38d3-26d2-e07e-e735-a2f5-e501-afc8-9790",
       "previous": "296c05b0-c874-11e9-85b0-0242ac120002-17-c8c6-70fe-b89b-8d57-f7e8-6862-6d26-5f27-0952-a6f6"
      },
      {
       "current": "8626f218-b252-11e7-a38f-0242ac120002-19-6170-f3da-0439-ee9f-375e-e3e8-acb3-22f8-34e1-05d0",
       "next": "5cbb144e-b253-11e7-a38f-0242ac120002-18-fba1-38d3-26d2-e07e-e735-a2f5-e501-afc8-9790-bcac",
       "previous": "296c05b0-c874-11e9-85b0-0242ac120002-18-70fe-b89b-8d57-f7e8-6862-6d26-5f27-0952-a6f6-b1ba"
      },
      {
       "current": "8626f218-b252-11e7-a38f-0242ac120002-20-f3da-0439-ee9f-375e-e3e8-acb3-22f8-34e1-05d0-b27c",
       "next": "5cbb144e-b253-11e7-a38f-0242ac120002-19-38d3-26d2-e07e-e735-a2f5-e501-afc8-9790-bcac-dad3",
       "previous": "296c05b0-c874-11e9-85b0-0242ac120002-19-b89b-8d57-f7e8-6862-6d26-5f27-0952-a6f6-b1ba-31d6"
      },
      {
       "current": "8626f218-b252-11e7-a38f-0242ac120002-21-0439-ee9f-375e-e3e8-acb3-22f8-34e1-05d0-b27c-a67d",
       "next": "5cbb144e-b253-11e7-a38f-0242ac120002-20-26d2-e07e-e735-a2f5-e501-afc8-9790-bcac-dad3-2690",
       "previous": "296c05b0-c874-11e9-85b0-0242ac120002-20-8d57-f7e8-6862-6d26-5f27-0952-a6f6-b1ba-31d6-7a13"
      },
      {
       "current": "8626f218-b252-11e7-a38f-0242ac120002-22-ee9f-375e-e3e8-acb3-22f8-34e1-05d0-b27c-a67d-78fc",
       "next": "5cbb144e-b253-11e7-a38f-0242ac120002-21-e07e-e735-a2f5-e501-afc8-9790-bcac-dad3-2690-5f07",
       "previous": "296c05b0-c874-11e9-85b0-0242ac120002-21-f7e8-6862-6d26-5f27-0952-a6f6-b1ba-31d6-7a13-c0e5"
      },
      {
       "current": "8626f218-b252-11e7-a38f-0242ac120002-23-375e-e3e8-acb3-22f8-34e1-05d0-b27c-a67d-78fc-b687",
       "next": "5cbb144e-b253-11e7-a38f-0242ac120002-22-e735-a2f5-e501-afc8-9790-bcac-dad3-2690-5f07-d14f",
       "previous": "296c05b0-c874-11e9-85b0-0242ac120002-22-6862-6d26-5f27-0952-a6f6-b1ba-31d6-7a13-c0e5-b05a"
      },
      {
       "current": "8626f218-b252-11e7-a38f-0242ac120002-24-e3e8-acb3-22f8-34e1-05d0-b27c-a67d-78fc-b687-f121",
       "next": "5cbb144e-b253-11e7-a38f-0242ac120002-23-a2f5-e501-afc8-9790-bcac-dad3-2690-5f07-d14f-ca4f",
       "previous": "296c05b0-c874-11e9-85b0-0242ac120002-23-6d26-5f27-0952-a6f6-b1ba-31d6-7a13-c0e5-b05a-5f99"
      },
      {
       "current": "8626f218-b252-11e7-a38f-0242ac120002-25-acb3-22f8-34e1-05d0-b27c-a67d-78fc-b687-f121-0ebb",
       "next": "5cbb144e-b253-11e7-a38f-0242ac120002-24-e501-afc8-9790-bcac-dad3-2690-5f07-d14f-ca4f-4501",
       "previous": "296c05b0-c874-11e9-85b0-0242ac120002-24-5f27-0952-a6f6-b1ba-31d6-7a13-c0e5-b05a-5f99-e1b3"
      },
      {
       "current": "8626f218-b252-11e7-a38f-0242ac120002-26-22f8-34e1-05d0-b27c-a67d-78fc-b687-f121-0ebb-1213",
       "next": "5cbb144e-b253-11e7-a38f-0242ac120002-25-afc8-9790-bcac-dad3-2690-5f07-d14f-ca4f-4501-25a6",
       "previous": "296c05b0-c874-11e9-85b0-0242ac120002-25-0952-a6f6-b1ba-31d6-7a13-c0e5-b05a-5f99-e1b3-fe07"
      }
     ],
     "next": "5cbb144e-b253-11e7-a38f-0242ac120002-26-9790-bcac-dad3-2690-5f07-d14f-ca4f-4501-25a6-2f6e",
     "previous": "296c05b0-c874-11e9-85b0-0242ac120002-26-a6f6-b1ba-31d6-7a13-c0e5-b05a-5f99-e1b3-fe07-5743"
    }
   },
   "outputs": [],
   "source": [
    "db_user = 'jhauth'\n",
    "db_user"
   ]
  },
  {
   "cell_type": "code",
   "execution_count": null,
   "id": "6a3038ca",
   "metadata": {
    "lc_cell_meme": {
     "current": "5cbb144e-b253-11e7-a38f-0242ac120002-26-9790-bcac-dad3-2690-5f07-d14f-ca4f-4501-25a6-2f6e",
     "history": [
      {
       "current": "5cbb144e-b253-11e7-a38f-0242ac120002-17-cfe4-fba1-38d3-26d2-e07e-e735-a2f5-e501-afc8-9790",
       "next": "0dc8d4bc-2260-11ec-ab59-d786279a4de8-1-ace4",
       "previous": "8626f218-b252-11e7-a38f-0242ac120002-16-61bb-c6ba-359b-6170-f3da-0439-ee9f-375e-e3e8-acb3"
      },
      {
       "current": "5cbb144e-b253-11e7-a38f-0242ac120002-18-fba1-38d3-26d2-e07e-e735-a2f5-e501-afc8-9790-bcac",
       "next": "0dc8d4bc-2260-11ec-ab59-d786279a4de8-2-ace4-5f64",
       "previous": "8626f218-b252-11e7-a38f-0242ac120002-17-c6ba-359b-6170-f3da-0439-ee9f-375e-e3e8-acb3-22f8"
      },
      {
       "current": "5cbb144e-b253-11e7-a38f-0242ac120002-19-38d3-26d2-e07e-e735-a2f5-e501-afc8-9790-bcac-dad3",
       "next": "0dc8d4bc-2260-11ec-ab59-d786279a4de8-3-ace4-5f64-0024",
       "previous": "8626f218-b252-11e7-a38f-0242ac120002-18-359b-6170-f3da-0439-ee9f-375e-e3e8-acb3-22f8-34e1"
      },
      {
       "current": "5cbb144e-b253-11e7-a38f-0242ac120002-20-26d2-e07e-e735-a2f5-e501-afc8-9790-bcac-dad3-2690",
       "next": "0dc8d4bc-2260-11ec-ab59-d786279a4de8-4-ace4-5f64-0024-581f",
       "previous": "8626f218-b252-11e7-a38f-0242ac120002-19-6170-f3da-0439-ee9f-375e-e3e8-acb3-22f8-34e1-05d0"
      },
      {
       "current": "5cbb144e-b253-11e7-a38f-0242ac120002-21-e07e-e735-a2f5-e501-afc8-9790-bcac-dad3-2690-5f07",
       "next": "0dc8d4bc-2260-11ec-ab59-d786279a4de8-5-ace4-5f64-0024-581f-7df1",
       "previous": "8626f218-b252-11e7-a38f-0242ac120002-20-f3da-0439-ee9f-375e-e3e8-acb3-22f8-34e1-05d0-b27c"
      },
      {
       "current": "5cbb144e-b253-11e7-a38f-0242ac120002-22-e735-a2f5-e501-afc8-9790-bcac-dad3-2690-5f07-d14f",
       "next": "0dc8d4bc-2260-11ec-ab59-d786279a4de8-6-ace4-5f64-0024-581f-7df1-eeb7",
       "previous": "8626f218-b252-11e7-a38f-0242ac120002-21-0439-ee9f-375e-e3e8-acb3-22f8-34e1-05d0-b27c-a67d"
      },
      {
       "current": "5cbb144e-b253-11e7-a38f-0242ac120002-23-a2f5-e501-afc8-9790-bcac-dad3-2690-5f07-d14f-ca4f",
       "next": "0dc8d4bc-2260-11ec-ab59-d786279a4de8-7-ace4-5f64-0024-581f-7df1-eeb7-819e",
       "previous": "8626f218-b252-11e7-a38f-0242ac120002-22-ee9f-375e-e3e8-acb3-22f8-34e1-05d0-b27c-a67d-78fc"
      },
      {
       "current": "5cbb144e-b253-11e7-a38f-0242ac120002-24-e501-afc8-9790-bcac-dad3-2690-5f07-d14f-ca4f-4501",
       "next": "0dc8d4bc-2260-11ec-ab59-d786279a4de8-8-ace4-5f64-0024-581f-7df1-eeb7-819e-8996",
       "previous": "8626f218-b252-11e7-a38f-0242ac120002-23-375e-e3e8-acb3-22f8-34e1-05d0-b27c-a67d-78fc-b687"
      },
      {
       "current": "5cbb144e-b253-11e7-a38f-0242ac120002-25-afc8-9790-bcac-dad3-2690-5f07-d14f-ca4f-4501-25a6",
       "next": "0dc8d4bc-2260-11ec-ab59-d786279a4de8-9-ace4-5f64-0024-581f-7df1-eeb7-819e-8996-bc77",
       "previous": "8626f218-b252-11e7-a38f-0242ac120002-24-e3e8-acb3-22f8-34e1-05d0-b27c-a67d-78fc-b687-f121"
      },
      {
       "current": "5cbb144e-b253-11e7-a38f-0242ac120002-26-9790-bcac-dad3-2690-5f07-d14f-ca4f-4501-25a6-2f6e",
       "next": "0dc8d4bc-2260-11ec-ab59-d786279a4de8-10-ace4-5f64-0024-581f-7df1-eeb7-819e-8996-bc77-9de6",
       "previous": "8626f218-b252-11e7-a38f-0242ac120002-25-acb3-22f8-34e1-05d0-b27c-a67d-78fc-b687-f121-0ebb"
      }
     ],
     "next": "0dc8d4bc-2260-11ec-ab59-d786279a4de8-11-5f64-0024-581f-7df1-eeb7-819e-8996-bc77-9de6-dfc8",
     "previous": "8626f218-b252-11e7-a38f-0242ac120002-26-22f8-34e1-05d0-b27c-a67d-78fc-b687-f121-0ebb-1213"
    }
   },
   "outputs": [],
   "source": [
    "db_name = 'jupyterhub'\n",
    "db_name"
   ]
  },
  {
   "cell_type": "markdown",
   "id": "1398eb3b",
   "metadata": {
    "lc_cell_meme": {
     "current": "0dc8d4bc-2260-11ec-ab59-d786279a4de8-11-5f64-0024-581f-7df1-eeb7-819e-8996-bc77-9de6-dfc8",
     "history": [
      {
       "current": "0dc8d4bc-2260-11ec-ab59-d786279a4de8-2-ace4-5f64",
       "next": "ce34ea7e-b252-11e7-a38f-0242ac120002-16-9cbe-99b8-a74f-477e-4f9b-168c-2c8f-f551-e7d1-2fd5",
       "previous": "5cbb144e-b253-11e7-a38f-0242ac120002-16-b798-cfe4-fba1-38d3-26d2-e07e-e735-a2f5-e501-afc8"
      },
      {
       "current": "0dc8d4bc-2260-11ec-ab59-d786279a4de8-3-ace4-5f64-0024",
       "next": "ce34ea7e-b252-11e7-a38f-0242ac120002-17-99b8-a74f-477e-4f9b-168c-2c8f-f551-e7d1-2fd5-bed6",
       "previous": "5cbb144e-b253-11e7-a38f-0242ac120002-17-cfe4-fba1-38d3-26d2-e07e-e735-a2f5-e501-afc8-9790"
      },
      {
       "current": "0dc8d4bc-2260-11ec-ab59-d786279a4de8-4-ace4-5f64-0024-581f",
       "next": "ce34ea7e-b252-11e7-a38f-0242ac120002-18-a74f-477e-4f9b-168c-2c8f-f551-e7d1-2fd5-bed6-0950",
       "previous": "5cbb144e-b253-11e7-a38f-0242ac120002-18-fba1-38d3-26d2-e07e-e735-a2f5-e501-afc8-9790-bcac"
      },
      {
       "current": "0dc8d4bc-2260-11ec-ab59-d786279a4de8-5-ace4-5f64-0024-581f-7df1",
       "next": "ce34ea7e-b252-11e7-a38f-0242ac120002-19-477e-4f9b-168c-2c8f-f551-e7d1-2fd5-bed6-0950-9912",
       "previous": "5cbb144e-b253-11e7-a38f-0242ac120002-19-38d3-26d2-e07e-e735-a2f5-e501-afc8-9790-bcac-dad3"
      },
      {
       "current": "0dc8d4bc-2260-11ec-ab59-d786279a4de8-6-ace4-5f64-0024-581f-7df1-eeb7",
       "next": "ce34ea7e-b252-11e7-a38f-0242ac120002-20-4f9b-168c-2c8f-f551-e7d1-2fd5-bed6-0950-9912-fe66",
       "previous": "5cbb144e-b253-11e7-a38f-0242ac120002-20-26d2-e07e-e735-a2f5-e501-afc8-9790-bcac-dad3-2690"
      },
      {
       "current": "0dc8d4bc-2260-11ec-ab59-d786279a4de8-7-ace4-5f64-0024-581f-7df1-eeb7-819e",
       "next": "ce34ea7e-b252-11e7-a38f-0242ac120002-21-168c-2c8f-f551-e7d1-2fd5-bed6-0950-9912-fe66-e9cb",
       "previous": "5cbb144e-b253-11e7-a38f-0242ac120002-21-e07e-e735-a2f5-e501-afc8-9790-bcac-dad3-2690-5f07"
      },
      {
       "current": "0dc8d4bc-2260-11ec-ab59-d786279a4de8-8-ace4-5f64-0024-581f-7df1-eeb7-819e-8996",
       "next": "ce34ea7e-b252-11e7-a38f-0242ac120002-22-2c8f-f551-e7d1-2fd5-bed6-0950-9912-fe66-e9cb-f48d",
       "previous": "5cbb144e-b253-11e7-a38f-0242ac120002-22-e735-a2f5-e501-afc8-9790-bcac-dad3-2690-5f07-d14f"
      },
      {
       "current": "0dc8d4bc-2260-11ec-ab59-d786279a4de8-9-ace4-5f64-0024-581f-7df1-eeb7-819e-8996-bc77",
       "next": "ce34ea7e-b252-11e7-a38f-0242ac120002-23-f551-e7d1-2fd5-bed6-0950-9912-fe66-e9cb-f48d-befb",
       "previous": "5cbb144e-b253-11e7-a38f-0242ac120002-23-a2f5-e501-afc8-9790-bcac-dad3-2690-5f07-d14f-ca4f"
      },
      {
       "current": "0dc8d4bc-2260-11ec-ab59-d786279a4de8-10-ace4-5f64-0024-581f-7df1-eeb7-819e-8996-bc77-9de6",
       "next": "ce34ea7e-b252-11e7-a38f-0242ac120002-24-e7d1-2fd5-bed6-0950-9912-fe66-e9cb-f48d-befb-4133",
       "previous": "5cbb144e-b253-11e7-a38f-0242ac120002-24-e501-afc8-9790-bcac-dad3-2690-5f07-d14f-ca4f-4501"
      },
      {
       "current": "0dc8d4bc-2260-11ec-ab59-d786279a4de8-11-5f64-0024-581f-7df1-eeb7-819e-8996-bc77-9de6-dfc8",
       "next": "ce34ea7e-b252-11e7-a38f-0242ac120002-25-2fd5-bed6-0950-9912-fe66-e9cb-f48d-befb-4133-80da",
       "previous": "5cbb144e-b253-11e7-a38f-0242ac120002-25-afc8-9790-bcac-dad3-2690-5f07-d14f-ca4f-4501-25a6"
      }
     ],
     "next": "ce34ea7e-b252-11e7-a38f-0242ac120002-26-bed6-0950-9912-fe66-e9cb-f48d-befb-4133-80da-fa21",
     "previous": "5cbb144e-b253-11e7-a38f-0242ac120002-26-9790-bcac-dad3-2690-5f07-d14f-ca4f-4501-25a6-2f6e"
    }
   },
   "source": [
    "以下は内部的に利用するPostgresのパスワード。自身でパスワードを決め、以下に入力する。\n",
    "\n",
    "(再構築で既存のDBが存在している場合、前回と同じものを設定すること)"
   ]
  },
  {
   "cell_type": "code",
   "execution_count": null,
   "id": "99b87f7a",
   "metadata": {
    "lc_cell_meme": {
     "current": "ce34ea7e-b252-11e7-a38f-0242ac120002-26-bed6-0950-9912-fe66-e9cb-f48d-befb-4133-80da-fa21",
     "history": [
      {
       "current": "ce34ea7e-b252-11e7-a38f-0242ac120002-18-a74f-477e-4f9b-168c-2c8f-f551-e7d1-2fd5-bed6-0950",
       "next": "cd17dd64-92e0-11ec-a962-6b42dc3e1973-2-29a9-713e",
       "previous": "0dc8d4bc-2260-11ec-ab59-d786279a4de8-3-ace4-5f64-0024"
      },
      {
       "current": "ce34ea7e-b252-11e7-a38f-0242ac120002-18-a74f-477e-4f9b-168c-2c8f-f551-e7d1-2fd5-bed6-0950",
       "next": "91bbae4c-53a0-11ea-9227-0242ac120002-17-9c99-a561-71ea-2a23-6253-4f5c-2bb7-1b08-99a6-1d06",
       "previous": "0dc8d4bc-2260-11ec-ab59-d786279a4de8-3-ace4-5f64-0024"
      },
      {
       "current": "ce34ea7e-b252-11e7-a38f-0242ac120002-19-477e-4f9b-168c-2c8f-f551-e7d1-2fd5-bed6-0950-9912",
       "next": "bb19f2fe-539f-11ea-9227-0242ac120002-17-e948-294b-37a8-aa99-2e4b-bc5a-ad49-d03e-5992-ac71",
       "previous": "0dc8d4bc-2260-11ec-ab59-d786279a4de8-3-ace4-5f64-0024"
      },
      {
       "current": "ce34ea7e-b252-11e7-a38f-0242ac120002-20-4f9b-168c-2c8f-f551-e7d1-2fd5-bed6-0950-9912-fe66",
       "next": "bb19f2fe-539f-11ea-9227-0242ac120002-18-294b-37a8-aa99-2e4b-bc5a-ad49-d03e-5992-ac71-bb9f",
       "previous": "0dc8d4bc-2260-11ec-ab59-d786279a4de8-4-ace4-5f64-0024-581f"
      },
      {
       "current": "ce34ea7e-b252-11e7-a38f-0242ac120002-21-168c-2c8f-f551-e7d1-2fd5-bed6-0950-9912-fe66-e9cb",
       "next": "bb19f2fe-539f-11ea-9227-0242ac120002-19-37a8-aa99-2e4b-bc5a-ad49-d03e-5992-ac71-bb9f-f8bc",
       "previous": "0dc8d4bc-2260-11ec-ab59-d786279a4de8-5-ace4-5f64-0024-581f-7df1"
      },
      {
       "current": "ce34ea7e-b252-11e7-a38f-0242ac120002-22-2c8f-f551-e7d1-2fd5-bed6-0950-9912-fe66-e9cb-f48d",
       "next": "bb19f2fe-539f-11ea-9227-0242ac120002-20-aa99-2e4b-bc5a-ad49-d03e-5992-ac71-bb9f-f8bc-a4b7",
       "previous": "0dc8d4bc-2260-11ec-ab59-d786279a4de8-6-ace4-5f64-0024-581f-7df1-eeb7"
      },
      {
       "current": "ce34ea7e-b252-11e7-a38f-0242ac120002-23-f551-e7d1-2fd5-bed6-0950-9912-fe66-e9cb-f48d-befb",
       "next": "bb19f2fe-539f-11ea-9227-0242ac120002-21-2e4b-bc5a-ad49-d03e-5992-ac71-bb9f-f8bc-a4b7-8f5c",
       "previous": "0dc8d4bc-2260-11ec-ab59-d786279a4de8-7-ace4-5f64-0024-581f-7df1-eeb7-819e"
      },
      {
       "current": "ce34ea7e-b252-11e7-a38f-0242ac120002-24-e7d1-2fd5-bed6-0950-9912-fe66-e9cb-f48d-befb-4133",
       "next": "bb19f2fe-539f-11ea-9227-0242ac120002-22-bc5a-ad49-d03e-5992-ac71-bb9f-f8bc-a4b7-8f5c-319a",
       "previous": "0dc8d4bc-2260-11ec-ab59-d786279a4de8-8-ace4-5f64-0024-581f-7df1-eeb7-819e-8996"
      },
      {
       "current": "ce34ea7e-b252-11e7-a38f-0242ac120002-25-2fd5-bed6-0950-9912-fe66-e9cb-f48d-befb-4133-80da",
       "next": "bb19f2fe-539f-11ea-9227-0242ac120002-23-ad49-d03e-5992-ac71-bb9f-f8bc-a4b7-8f5c-319a-afb6",
       "previous": "0dc8d4bc-2260-11ec-ab59-d786279a4de8-9-ace4-5f64-0024-581f-7df1-eeb7-819e-8996-bc77"
      },
      {
       "current": "ce34ea7e-b252-11e7-a38f-0242ac120002-26-bed6-0950-9912-fe66-e9cb-f48d-befb-4133-80da-fa21",
       "next": "bb19f2fe-539f-11ea-9227-0242ac120002-24-d03e-5992-ac71-bb9f-f8bc-a4b7-8f5c-319a-afb6-9ed2",
       "previous": "0dc8d4bc-2260-11ec-ab59-d786279a4de8-10-ace4-5f64-0024-581f-7df1-eeb7-819e-8996-bc77-9de6"
      }
     ],
     "next": "bb19f2fe-539f-11ea-9227-0242ac120002-25-5992-ac71-bb9f-f8bc-a4b7-8f5c-319a-afb6-9ed2-ed07",
     "previous": "0dc8d4bc-2260-11ec-ab59-d786279a4de8-11-5f64-0024-581f-7df1-eeb7-819e-8996-bc77-9de6-dfc8"
    }
   },
   "outputs": [],
   "source": [
    "from getpass import getpass\n",
    "\n",
    "db_pass = getpass()\n",
    "len(db_pass)"
   ]
  },
  {
   "cell_type": "markdown",
   "id": "2efdcf46",
   "metadata": {
    "lc_cell_meme": {
     "current": "bb19f2fe-539f-11ea-9227-0242ac120002-25-5992-ac71-bb9f-f8bc-a4b7-8f5c-319a-afb6-9ed2-ed07",
     "history": [
      {
       "current": "bb19f2fe-539f-11ea-9227-0242ac120002-16-8eab-e948-294b-37a8-aa99-2e4b-bc5a-ad49-d03e-5992",
       "next": "efaf0cd2-587e-11ea-bd55-0242ac120002-14-9096-c54d-66f8-3c14-7845-c2a7-e5c0-cfb5-8820-ecf0",
       "previous": "a51e0e42-d581-11e8-a64b-02420aff0006-16-6679-e9e2-b988-39de-f04e-2d31-6424-fb50-8ad3-ed84"
      },
      {
       "current": "bb19f2fe-539f-11ea-9227-0242ac120002-17-e948-294b-37a8-aa99-2e4b-bc5a-ad49-d03e-5992-ac71",
       "next": "efaf0cd2-587e-11ea-bd55-0242ac120002-15-c54d-66f8-3c14-7845-c2a7-e5c0-cfb5-8820-ecf0-b8f5",
       "previous": "a51e0e42-d581-11e8-a64b-02420aff0006-17-e9e2-b988-39de-f04e-2d31-6424-fb50-8ad3-ed84-8c74"
      },
      {
       "current": "bb19f2fe-539f-11ea-9227-0242ac120002-18-294b-37a8-aa99-2e4b-bc5a-ad49-d03e-5992-ac71-bb9f",
       "next": "efaf0cd2-587e-11ea-bd55-0242ac120002-16-66f8-3c14-7845-c2a7-e5c0-cfb5-8820-ecf0-b8f5-5844",
       "previous": "ce34ea7e-b252-11e7-a38f-0242ac120002-18-a74f-477e-4f9b-168c-2c8f-f551-e7d1-2fd5-bed6-0950"
      },
      {
       "current": "bb19f2fe-539f-11ea-9227-0242ac120002-19-37a8-aa99-2e4b-bc5a-ad49-d03e-5992-ac71-bb9f-f8bc",
       "next": "efaf0cd2-587e-11ea-bd55-0242ac120002-17-3c14-7845-c2a7-e5c0-cfb5-8820-ecf0-b8f5-5844-78c5",
       "previous": "ce34ea7e-b252-11e7-a38f-0242ac120002-19-477e-4f9b-168c-2c8f-f551-e7d1-2fd5-bed6-0950-9912"
      },
      {
       "current": "bb19f2fe-539f-11ea-9227-0242ac120002-20-aa99-2e4b-bc5a-ad49-d03e-5992-ac71-bb9f-f8bc-a4b7",
       "next": "efaf0cd2-587e-11ea-bd55-0242ac120002-18-7845-c2a7-e5c0-cfb5-8820-ecf0-b8f5-5844-78c5-62ff",
       "previous": "ce34ea7e-b252-11e7-a38f-0242ac120002-20-4f9b-168c-2c8f-f551-e7d1-2fd5-bed6-0950-9912-fe66"
      },
      {
       "current": "bb19f2fe-539f-11ea-9227-0242ac120002-21-2e4b-bc5a-ad49-d03e-5992-ac71-bb9f-f8bc-a4b7-8f5c",
       "next": "efaf0cd2-587e-11ea-bd55-0242ac120002-19-c2a7-e5c0-cfb5-8820-ecf0-b8f5-5844-78c5-62ff-2e87",
       "previous": "ce34ea7e-b252-11e7-a38f-0242ac120002-21-168c-2c8f-f551-e7d1-2fd5-bed6-0950-9912-fe66-e9cb"
      },
      {
       "current": "bb19f2fe-539f-11ea-9227-0242ac120002-22-bc5a-ad49-d03e-5992-ac71-bb9f-f8bc-a4b7-8f5c-319a",
       "next": "efaf0cd2-587e-11ea-bd55-0242ac120002-20-e5c0-cfb5-8820-ecf0-b8f5-5844-78c5-62ff-2e87-7afa",
       "previous": "ce34ea7e-b252-11e7-a38f-0242ac120002-22-2c8f-f551-e7d1-2fd5-bed6-0950-9912-fe66-e9cb-f48d"
      },
      {
       "current": "bb19f2fe-539f-11ea-9227-0242ac120002-23-ad49-d03e-5992-ac71-bb9f-f8bc-a4b7-8f5c-319a-afb6",
       "next": "efaf0cd2-587e-11ea-bd55-0242ac120002-21-cfb5-8820-ecf0-b8f5-5844-78c5-62ff-2e87-7afa-369b",
       "previous": "ce34ea7e-b252-11e7-a38f-0242ac120002-23-f551-e7d1-2fd5-bed6-0950-9912-fe66-e9cb-f48d-befb"
      },
      {
       "current": "bb19f2fe-539f-11ea-9227-0242ac120002-24-d03e-5992-ac71-bb9f-f8bc-a4b7-8f5c-319a-afb6-9ed2",
       "next": "efaf0cd2-587e-11ea-bd55-0242ac120002-22-8820-ecf0-b8f5-5844-78c5-62ff-2e87-7afa-369b-1492",
       "previous": "ce34ea7e-b252-11e7-a38f-0242ac120002-24-e7d1-2fd5-bed6-0950-9912-fe66-e9cb-f48d-befb-4133"
      },
      {
       "current": "bb19f2fe-539f-11ea-9227-0242ac120002-25-5992-ac71-bb9f-f8bc-a4b7-8f5c-319a-afb6-9ed2-ed07",
       "next": "efaf0cd2-587e-11ea-bd55-0242ac120002-23-ecf0-b8f5-5844-78c5-62ff-2e87-7afa-369b-1492-3d7a",
       "previous": "ce34ea7e-b252-11e7-a38f-0242ac120002-25-2fd5-bed6-0950-9912-fe66-e9cb-f48d-befb-4133-80da"
      }
     ],
     "next": "efaf0cd2-587e-11ea-bd55-0242ac120002-24-b8f5-5844-78c5-62ff-2e87-7afa-369b-1492-3d7a-3ed4",
     "previous": "ce34ea7e-b252-11e7-a38f-0242ac120002-26-bed6-0950-9912-fe66-e9cb-f48d-befb-4133-80da-fa21"
    }
   },
   "source": [
    "# 環境情報\n",
    "\n",
    "環境情報をAnsibleの変数から取得する\n",
    "\n",
    "システム構成のバリエーション\n",
    "\n",
    "1. フェデレーションに参加するSPとして構成しない (`enable_federation=false`)\n",
    "  * idp-proxyを使用して、idp-proxy経由でフェデレーションに参加する (`auth_fqdn != ''`)\n",
    "  * ローカルユーザーのみを使用する (`auth_fqdn == ''`)\n",
    "2. フェデレーションに参加するSPとして構成する  (`enable_federation=false`)\n",
    "\n",
    "\n",
    "2.の場合は、運用フェデレーションに参加するSPとして申請し、運用フェデレーションのメタデータに登録済みである必要がある \n"
   ]
  },
  {
   "cell_type": "markdown",
   "id": "d2722825",
   "metadata": {
    "lc_cell_meme": {
     "current": "efaf0cd2-587e-11ea-bd55-0242ac120002-24-b8f5-5844-78c5-62ff-2e87-7afa-369b-1492-3d7a-3ed4",
     "history": [
      {
       "current": "efaf0cd2-587e-11ea-bd55-0242ac120002-15-c54d-66f8-3c14-7845-c2a7-e5c0-cfb5-8820-ecf0-b8f5",
       "next": "0e19b512-b23e-11e7-a38f-0242ac120002-16-6b16-65d3-0fdb-97c4-3ff5-5217-ddc4-7f00-f950-7fe7",
       "previous": "bb19f2fe-539f-11ea-9227-0242ac120002-15-04fe-8eab-e948-294b-37a8-aa99-2e4b-bc5a-ad49-d03e"
      },
      {
       "current": "efaf0cd2-587e-11ea-bd55-0242ac120002-16-66f8-3c14-7845-c2a7-e5c0-cfb5-8820-ecf0-b8f5-5844",
       "next": "0e19b512-b23e-11e7-a38f-0242ac120002-17-65d3-0fdb-97c4-3ff5-5217-ddc4-7f00-f950-7fe7-43cf",
       "previous": "bb19f2fe-539f-11ea-9227-0242ac120002-16-8eab-e948-294b-37a8-aa99-2e4b-bc5a-ad49-d03e-5992"
      },
      {
       "current": "efaf0cd2-587e-11ea-bd55-0242ac120002-17-3c14-7845-c2a7-e5c0-cfb5-8820-ecf0-b8f5-5844-78c5",
       "next": "0e19b512-b23e-11e7-a38f-0242ac120002-18-0fdb-97c4-3ff5-5217-ddc4-7f00-f950-7fe7-43cf-61a3",
       "previous": "bb19f2fe-539f-11ea-9227-0242ac120002-17-e948-294b-37a8-aa99-2e4b-bc5a-ad49-d03e-5992-ac71"
      },
      {
       "current": "efaf0cd2-587e-11ea-bd55-0242ac120002-18-7845-c2a7-e5c0-cfb5-8820-ecf0-b8f5-5844-78c5-62ff",
       "next": "0e19b512-b23e-11e7-a38f-0242ac120002-19-97c4-3ff5-5217-ddc4-7f00-f950-7fe7-43cf-61a3-b883",
       "previous": "bb19f2fe-539f-11ea-9227-0242ac120002-18-294b-37a8-aa99-2e4b-bc5a-ad49-d03e-5992-ac71-bb9f"
      },
      {
       "current": "efaf0cd2-587e-11ea-bd55-0242ac120002-19-c2a7-e5c0-cfb5-8820-ecf0-b8f5-5844-78c5-62ff-2e87",
       "next": "0e19b512-b23e-11e7-a38f-0242ac120002-20-3ff5-5217-ddc4-7f00-f950-7fe7-43cf-61a3-b883-e626",
       "previous": "bb19f2fe-539f-11ea-9227-0242ac120002-19-37a8-aa99-2e4b-bc5a-ad49-d03e-5992-ac71-bb9f-f8bc"
      },
      {
       "current": "efaf0cd2-587e-11ea-bd55-0242ac120002-20-e5c0-cfb5-8820-ecf0-b8f5-5844-78c5-62ff-2e87-7afa",
       "next": "0e19b512-b23e-11e7-a38f-0242ac120002-21-5217-ddc4-7f00-f950-7fe7-43cf-61a3-b883-e626-9313",
       "previous": "bb19f2fe-539f-11ea-9227-0242ac120002-20-aa99-2e4b-bc5a-ad49-d03e-5992-ac71-bb9f-f8bc-a4b7"
      },
      {
       "current": "efaf0cd2-587e-11ea-bd55-0242ac120002-21-cfb5-8820-ecf0-b8f5-5844-78c5-62ff-2e87-7afa-369b",
       "next": "0e19b512-b23e-11e7-a38f-0242ac120002-22-ddc4-7f00-f950-7fe7-43cf-61a3-b883-e626-9313-0dcf",
       "previous": "bb19f2fe-539f-11ea-9227-0242ac120002-21-2e4b-bc5a-ad49-d03e-5992-ac71-bb9f-f8bc-a4b7-8f5c"
      },
      {
       "current": "efaf0cd2-587e-11ea-bd55-0242ac120002-22-8820-ecf0-b8f5-5844-78c5-62ff-2e87-7afa-369b-1492",
       "next": "0e19b512-b23e-11e7-a38f-0242ac120002-23-7f00-f950-7fe7-43cf-61a3-b883-e626-9313-0dcf-0dd7",
       "previous": "bb19f2fe-539f-11ea-9227-0242ac120002-22-bc5a-ad49-d03e-5992-ac71-bb9f-f8bc-a4b7-8f5c-319a"
      },
      {
       "current": "efaf0cd2-587e-11ea-bd55-0242ac120002-23-ecf0-b8f5-5844-78c5-62ff-2e87-7afa-369b-1492-3d7a",
       "next": "0e19b512-b23e-11e7-a38f-0242ac120002-24-f950-7fe7-43cf-61a3-b883-e626-9313-0dcf-0dd7-54ae",
       "previous": "bb19f2fe-539f-11ea-9227-0242ac120002-23-ad49-d03e-5992-ac71-bb9f-f8bc-a4b7-8f5c-319a-afb6"
      },
      {
       "current": "efaf0cd2-587e-11ea-bd55-0242ac120002-24-b8f5-5844-78c5-62ff-2e87-7afa-369b-1492-3d7a-3ed4",
       "next": "0e19b512-b23e-11e7-a38f-0242ac120002-25-7fe7-43cf-61a3-b883-e626-9313-0dcf-0dd7-54ae-80b5",
       "previous": "bb19f2fe-539f-11ea-9227-0242ac120002-24-d03e-5992-ac71-bb9f-f8bc-a4b7-8f5c-319a-afb6-9ed2"
      }
     ],
     "next": "0e19b512-b23e-11e7-a38f-0242ac120002-26-43cf-61a3-b883-e626-9313-0dcf-0dd7-54ae-80b5-6895",
     "previous": "bb19f2fe-539f-11ea-9227-0242ac120002-25-5992-ac71-bb9f-f8bc-a4b7-8f5c-319a-afb6-9ed2-ed07"
    }
   },
   "source": [
    "CoursewareHubのFQDNをAnsibleに定義した変数から取得する。"
   ]
  },
  {
   "cell_type": "code",
   "execution_count": null,
   "id": "e3221443",
   "metadata": {
    "lc_cell_meme": {
     "current": "0e19b512-b23e-11e7-a38f-0242ac120002-26-43cf-61a3-b883-e626-9313-0dcf-0dd7-54ae-80b5-6895",
     "history": [
      {
       "current": "0e19b512-b23e-11e7-a38f-0242ac120002-17-65d3-0fdb-97c4-3ff5-5217-ddc4-7f00-f950-7fe7-43cf",
       "next": "417827af-92ff-11ec-8d7a-6b42dc3e1973",
       "previous": "efaf0cd2-587e-11ea-bd55-0242ac120002-14-9096-c54d-66f8-3c14-7845-c2a7-e5c0-cfb5-8820-ecf0"
      },
      {
       "current": "0e19b512-b23e-11e7-a38f-0242ac120002-18-0fdb-97c4-3ff5-5217-ddc4-7f00-f950-7fe7-43cf-61a3",
       "next": "417827af-92ff-11ec-8d7a-6b42dc3e1973-1-5523",
       "previous": "efaf0cd2-587e-11ea-bd55-0242ac120002-15-c54d-66f8-3c14-7845-c2a7-e5c0-cfb5-8820-ecf0-b8f5"
      },
      {
       "current": "0e19b512-b23e-11e7-a38f-0242ac120002-19-97c4-3ff5-5217-ddc4-7f00-f950-7fe7-43cf-61a3-b883",
       "next": "417827af-92ff-11ec-8d7a-6b42dc3e1973-2-5523-f714",
       "previous": "efaf0cd2-587e-11ea-bd55-0242ac120002-16-66f8-3c14-7845-c2a7-e5c0-cfb5-8820-ecf0-b8f5-5844"
      },
      {
       "current": "0e19b512-b23e-11e7-a38f-0242ac120002-20-3ff5-5217-ddc4-7f00-f950-7fe7-43cf-61a3-b883-e626",
       "next": "417827af-92ff-11ec-8d7a-6b42dc3e1973-3-5523-f714-e671",
       "previous": "efaf0cd2-587e-11ea-bd55-0242ac120002-17-3c14-7845-c2a7-e5c0-cfb5-8820-ecf0-b8f5-5844-78c5"
      },
      {
       "current": "0e19b512-b23e-11e7-a38f-0242ac120002-21-5217-ddc4-7f00-f950-7fe7-43cf-61a3-b883-e626-9313",
       "next": "417827af-92ff-11ec-8d7a-6b42dc3e1973-4-5523-f714-e671-28fc",
       "previous": "efaf0cd2-587e-11ea-bd55-0242ac120002-18-7845-c2a7-e5c0-cfb5-8820-ecf0-b8f5-5844-78c5-62ff"
      },
      {
       "current": "0e19b512-b23e-11e7-a38f-0242ac120002-22-ddc4-7f00-f950-7fe7-43cf-61a3-b883-e626-9313-0dcf",
       "next": "417827af-92ff-11ec-8d7a-6b42dc3e1973-5-5523-f714-e671-28fc-c287",
       "previous": "efaf0cd2-587e-11ea-bd55-0242ac120002-19-c2a7-e5c0-cfb5-8820-ecf0-b8f5-5844-78c5-62ff-2e87"
      },
      {
       "current": "0e19b512-b23e-11e7-a38f-0242ac120002-23-7f00-f950-7fe7-43cf-61a3-b883-e626-9313-0dcf-0dd7",
       "next": "417827af-92ff-11ec-8d7a-6b42dc3e1973-6-5523-f714-e671-28fc-c287-9367",
       "previous": "efaf0cd2-587e-11ea-bd55-0242ac120002-20-e5c0-cfb5-8820-ecf0-b8f5-5844-78c5-62ff-2e87-7afa"
      },
      {
       "current": "0e19b512-b23e-11e7-a38f-0242ac120002-24-f950-7fe7-43cf-61a3-b883-e626-9313-0dcf-0dd7-54ae",
       "next": "417827af-92ff-11ec-8d7a-6b42dc3e1973-7-5523-f714-e671-28fc-c287-9367-2b5c",
       "previous": "efaf0cd2-587e-11ea-bd55-0242ac120002-21-cfb5-8820-ecf0-b8f5-5844-78c5-62ff-2e87-7afa-369b"
      },
      {
       "current": "0e19b512-b23e-11e7-a38f-0242ac120002-25-7fe7-43cf-61a3-b883-e626-9313-0dcf-0dd7-54ae-80b5",
       "next": "417827af-92ff-11ec-8d7a-6b42dc3e1973-8-5523-f714-e671-28fc-c287-9367-2b5c-625e",
       "previous": "efaf0cd2-587e-11ea-bd55-0242ac120002-22-8820-ecf0-b8f5-5844-78c5-62ff-2e87-7afa-369b-1492"
      },
      {
       "current": "0e19b512-b23e-11e7-a38f-0242ac120002-26-43cf-61a3-b883-e626-9313-0dcf-0dd7-54ae-80b5-6895",
       "next": "417827af-92ff-11ec-8d7a-6b42dc3e1973-9-5523-f714-e671-28fc-c287-9367-2b5c-625e-e88e",
       "previous": "efaf0cd2-587e-11ea-bd55-0242ac120002-23-ecf0-b8f5-5844-78c5-62ff-2e87-7afa-369b-1492-3d7a"
      }
     ],
     "next": "417827af-92ff-11ec-8d7a-6b42dc3e1973-10-5523-f714-e671-28fc-c287-9367-2b5c-625e-e88e-ba22",
     "previous": "efaf0cd2-587e-11ea-bd55-0242ac120002-24-b8f5-5844-78c5-62ff-2e87-7afa-369b-1492-3d7a-3ed4"
    }
   },
   "outputs": [],
   "source": [
    "import json\n",
    "\n",
    "msg_stdout = !ansible -m debug -a 'msg={{{{ master_fqdn }}}}' {target_hub} -l {target_group}\n",
    "master_fqdn = json.loads(''.join([msg_stdout[0].split()[-1]] + msg_stdout[1:]))['msg']\n",
    "master_fqdn"
   ]
  },
  {
   "cell_type": "code",
   "execution_count": null,
   "id": "e273cb16",
   "metadata": {
    "lc_cell_meme": {
     "current": "417827af-92ff-11ec-8d7a-6b42dc3e1973-10-5523-f714-e671-28fc-c287-9367-2b5c-625e-e88e-ba22",
     "history": [
      {
       "current": "417827af-92ff-11ec-8d7a-6b42dc3e1973-1-5523",
       "next": "6efad424-92e4-11ec-b21e-6b42dc3e1973",
       "previous": "0e19b512-b23e-11e7-a38f-0242ac120002-16-6b16-65d3-0fdb-97c4-3ff5-5217-ddc4-7f00-f950-7fe7"
      },
      {
       "current": "417827af-92ff-11ec-8d7a-6b42dc3e1973-2-5523-f714",
       "next": "6efad424-92e4-11ec-b21e-6b42dc3e1973-1-cccf",
       "previous": "0e19b512-b23e-11e7-a38f-0242ac120002-17-65d3-0fdb-97c4-3ff5-5217-ddc4-7f00-f950-7fe7-43cf"
      },
      {
       "current": "417827af-92ff-11ec-8d7a-6b42dc3e1973-3-5523-f714-e671",
       "next": "6efad424-92e4-11ec-b21e-6b42dc3e1973-2-cccf-8ca5",
       "previous": "0e19b512-b23e-11e7-a38f-0242ac120002-18-0fdb-97c4-3ff5-5217-ddc4-7f00-f950-7fe7-43cf-61a3"
      },
      {
       "current": "417827af-92ff-11ec-8d7a-6b42dc3e1973-4-5523-f714-e671-28fc",
       "next": "6efad424-92e4-11ec-b21e-6b42dc3e1973-3-cccf-8ca5-401a",
       "previous": "0e19b512-b23e-11e7-a38f-0242ac120002-19-97c4-3ff5-5217-ddc4-7f00-f950-7fe7-43cf-61a3-b883"
      },
      {
       "current": "417827af-92ff-11ec-8d7a-6b42dc3e1973-5-5523-f714-e671-28fc-c287",
       "next": "6efad424-92e4-11ec-b21e-6b42dc3e1973-4-cccf-8ca5-401a-779e",
       "previous": "0e19b512-b23e-11e7-a38f-0242ac120002-20-3ff5-5217-ddc4-7f00-f950-7fe7-43cf-61a3-b883-e626"
      },
      {
       "current": "417827af-92ff-11ec-8d7a-6b42dc3e1973-6-5523-f714-e671-28fc-c287-9367",
       "next": "6efad424-92e4-11ec-b21e-6b42dc3e1973-5-cccf-8ca5-401a-779e-27c1",
       "previous": "0e19b512-b23e-11e7-a38f-0242ac120002-21-5217-ddc4-7f00-f950-7fe7-43cf-61a3-b883-e626-9313"
      },
      {
       "current": "417827af-92ff-11ec-8d7a-6b42dc3e1973-7-5523-f714-e671-28fc-c287-9367-2b5c",
       "next": "6efad424-92e4-11ec-b21e-6b42dc3e1973-6-cccf-8ca5-401a-779e-27c1-9ba4",
       "previous": "0e19b512-b23e-11e7-a38f-0242ac120002-22-ddc4-7f00-f950-7fe7-43cf-61a3-b883-e626-9313-0dcf"
      },
      {
       "current": "417827af-92ff-11ec-8d7a-6b42dc3e1973-8-5523-f714-e671-28fc-c287-9367-2b5c-625e",
       "next": "6efad424-92e4-11ec-b21e-6b42dc3e1973-7-cccf-8ca5-401a-779e-27c1-9ba4-88b8",
       "previous": "0e19b512-b23e-11e7-a38f-0242ac120002-23-7f00-f950-7fe7-43cf-61a3-b883-e626-9313-0dcf-0dd7"
      },
      {
       "current": "417827af-92ff-11ec-8d7a-6b42dc3e1973-9-5523-f714-e671-28fc-c287-9367-2b5c-625e-e88e",
       "next": "6efad424-92e4-11ec-b21e-6b42dc3e1973-8-cccf-8ca5-401a-779e-27c1-9ba4-88b8-f9b9",
       "previous": "0e19b512-b23e-11e7-a38f-0242ac120002-24-f950-7fe7-43cf-61a3-b883-e626-9313-0dcf-0dd7-54ae"
      },
      {
       "current": "417827af-92ff-11ec-8d7a-6b42dc3e1973-10-5523-f714-e671-28fc-c287-9367-2b5c-625e-e88e-ba22",
       "next": "6efad424-92e4-11ec-b21e-6b42dc3e1973-9-cccf-8ca5-401a-779e-27c1-9ba4-88b8-f9b9-1a73",
       "previous": "0e19b512-b23e-11e7-a38f-0242ac120002-25-7fe7-43cf-61a3-b883-e626-9313-0dcf-0dd7-54ae-80b5"
      }
     ],
     "next": "6efad424-92e4-11ec-b21e-6b42dc3e1973-10-cccf-8ca5-401a-779e-27c1-9ba4-88b8-f9b9-1a73-2121",
     "previous": "0e19b512-b23e-11e7-a38f-0242ac120002-26-43cf-61a3-b883-e626-9313-0dcf-0dd7-54ae-80b5-6895"
    }
   },
   "outputs": [],
   "source": [
    "msg_stdout = !ansible -m debug -a 'msg={{{{ auth_fqdn }}}}' {target_hub} -l {target_group}\n",
    "auth_fqdn = json.loads(''.join([msg_stdout[0].split()[-1]] + msg_stdout[1:]))['msg']\n",
    "auth_fqdn"
   ]
  },
  {
   "cell_type": "code",
   "execution_count": null,
   "id": "14a37cd5",
   "metadata": {
    "lc_cell_meme": {
     "current": "6efad424-92e4-11ec-b21e-6b42dc3e1973-10-cccf-8ca5-401a-779e-27c1-9ba4-88b8-f9b9-1a73-2121",
     "history": [
      {
       "current": "6efad424-92e4-11ec-b21e-6b42dc3e1973-2-cccf-8ca5",
       "next": "efaf1204-587e-11ea-bd55-0242ac120002-15-4d8e-8d48-d2ec-8ed5-6de7-970f-16f9-1e5d-6923-45a9",
       "previous": "417827af-92ff-11ec-8d7a-6b42dc3e1973-1-5523"
      },
      {
       "current": "6efad424-92e4-11ec-b21e-6b42dc3e1973-2-cccf-8ca5",
       "next": "a80840f7-9aae-11ec-b678-0242ac120002",
       "previous": "417827af-92ff-11ec-8d7a-6b42dc3e1973-2-5523-f714"
      },
      {
       "current": "6efad424-92e4-11ec-b21e-6b42dc3e1973-3-cccf-8ca5-401a",
       "next": "7b55da5b-a4c4-11ec-a4cc-0242ac120002",
       "previous": "417827af-92ff-11ec-8d7a-6b42dc3e1973-2-5523-f714"
      },
      {
       "current": "6efad424-92e4-11ec-b21e-6b42dc3e1973-4-cccf-8ca5-401a-779e",
       "next": "7b55da5b-a4c4-11ec-a4cc-0242ac120002-1-3dfb",
       "previous": "417827af-92ff-11ec-8d7a-6b42dc3e1973-3-5523-f714-e671"
      },
      {
       "current": "6efad424-92e4-11ec-b21e-6b42dc3e1973-5-cccf-8ca5-401a-779e-27c1",
       "next": "7b55da5b-a4c4-11ec-a4cc-0242ac120002-2-3dfb-4266",
       "previous": "417827af-92ff-11ec-8d7a-6b42dc3e1973-4-5523-f714-e671-28fc"
      },
      {
       "current": "6efad424-92e4-11ec-b21e-6b42dc3e1973-6-cccf-8ca5-401a-779e-27c1-9ba4",
       "next": "7b55da5b-a4c4-11ec-a4cc-0242ac120002-3-3dfb-4266-1fe5",
       "previous": "417827af-92ff-11ec-8d7a-6b42dc3e1973-5-5523-f714-e671-28fc-c287"
      },
      {
       "current": "6efad424-92e4-11ec-b21e-6b42dc3e1973-6-cccf-8ca5-401a-779e-27c1-9ba4",
       "next": "7b55da5b-a4c4-11ec-a4cc-0242ac120002-4-3dfb-4266-1fe5-e127",
       "previous": "417827af-92ff-11ec-8d7a-6b42dc3e1973-6-5523-f714-e671-28fc-c287-9367"
      },
      {
       "current": "6efad424-92e4-11ec-b21e-6b42dc3e1973-7-cccf-8ca5-401a-779e-27c1-9ba4-88b8",
       "next": "936190d2-d678-11e8-a64b-02420aff0006-24-0991-b11c-fbdd-6f49-fe77-0ba2-7169-3507-1442-5a08",
       "previous": "417827af-92ff-11ec-8d7a-6b42dc3e1973-6-5523-f714-e671-28fc-c287-9367"
      },
      {
       "current": "6efad424-92e4-11ec-b21e-6b42dc3e1973-8-cccf-8ca5-401a-779e-27c1-9ba4-88b8-f9b9",
       "next": "936190d2-d678-11e8-a64b-02420aff0006-25-b11c-fbdd-6f49-fe77-0ba2-7169-3507-1442-5a08-5edc",
       "previous": "417827af-92ff-11ec-8d7a-6b42dc3e1973-7-5523-f714-e671-28fc-c287-9367-2b5c"
      },
      {
       "current": "6efad424-92e4-11ec-b21e-6b42dc3e1973-9-cccf-8ca5-401a-779e-27c1-9ba4-88b8-f9b9-1a73",
       "next": "936190d2-d678-11e8-a64b-02420aff0006-26-fbdd-6f49-fe77-0ba2-7169-3507-1442-5a08-5edc-6153",
       "previous": "417827af-92ff-11ec-8d7a-6b42dc3e1973-8-5523-f714-e671-28fc-c287-9367-2b5c-625e"
      },
      {
       "current": "6efad424-92e4-11ec-b21e-6b42dc3e1973-10-cccf-8ca5-401a-779e-27c1-9ba4-88b8-f9b9-1a73-2121",
       "next": "936190d2-d678-11e8-a64b-02420aff0006-27-6f49-fe77-0ba2-7169-3507-1442-5a08-5edc-6153-db9e",
       "previous": "417827af-92ff-11ec-8d7a-6b42dc3e1973-9-5523-f714-e671-28fc-c287-9367-2b5c-625e-e88e"
      }
     ],
     "next": "936190d2-d678-11e8-a64b-02420aff0006-28-fe77-0ba2-7169-3507-1442-5a08-5edc-6153-db9e-1c38",
     "previous": "417827af-92ff-11ec-8d7a-6b42dc3e1973-10-5523-f714-e671-28fc-c287-9367-2b5c-625e-e88e-ba22"
    }
   },
   "outputs": [],
   "source": [
    "msg_stdout = !ansible -m debug -a 'msg={{{{ enable_federation }}}}' {target_hub} -l {target_group}\n",
    "enable_federation = json.loads(''.join([msg_stdout[0].split()[-1]] + msg_stdout[1:]))['msg']\n",
    "enable_federation"
   ]
  },
  {
   "cell_type": "markdown",
   "id": "e656beae",
   "metadata": {
    "lc_cell_meme": {
     "current": "936190d2-d678-11e8-a64b-02420aff0006-28-fe77-0ba2-7169-3507-1442-5a08-5edc-6153-db9e-1c38",
     "history": [
      {
       "current": "936190d2-d678-11e8-a64b-02420aff0006-17-837d-6ad5-7201-175f-6911-799a-eb0d-0991-b11c-fbdd",
       "next": "f0c51d90-4c6e-11e9-b2d5-0242ac130002-16-47c1-a657-a290-cffc-c1c1-8dbb-ff7d-c8a8-0810-4408",
       "previous": "1ff640d8-92df-11ec-b447-6b42dc3e1973"
      },
      {
       "current": "936190d2-d678-11e8-a64b-02420aff0006-18-6ad5-7201-175f-6911-799a-eb0d-0991-b11c-fbdd-6f49",
       "next": "f0c51d90-4c6e-11e9-b2d5-0242ac130002-17-a657-a290-cffc-c1c1-8dbb-ff7d-c8a8-0810-4408-bc27",
       "previous": "1ff640d8-92df-11ec-b447-6b42dc3e1973-1-0772"
      },
      {
       "current": "936190d2-d678-11e8-a64b-02420aff0006-19-7201-175f-6911-799a-eb0d-0991-b11c-fbdd-6f49-fe77",
       "next": "f0c51d90-4c6e-11e9-b2d5-0242ac130002-18-a290-cffc-c1c1-8dbb-ff7d-c8a8-0810-4408-bc27-73ce",
       "previous": "1ff640d8-92df-11ec-b447-6b42dc3e1973-2-0772-6d20"
      },
      {
       "current": "936190d2-d678-11e8-a64b-02420aff0006-20-175f-6911-799a-eb0d-0991-b11c-fbdd-6f49-fe77-0ba2",
       "next": "f0c51d90-4c6e-11e9-b2d5-0242ac130002-19-cffc-c1c1-8dbb-ff7d-c8a8-0810-4408-bc27-73ce-07db",
       "previous": "1ff640d8-92df-11ec-b447-6b42dc3e1973-3-0772-6d20-7cf8"
      },
      {
       "current": "936190d2-d678-11e8-a64b-02420aff0006-21-6911-799a-eb0d-0991-b11c-fbdd-6f49-fe77-0ba2-7169",
       "next": "f0c51d90-4c6e-11e9-b2d5-0242ac130002-20-c1c1-8dbb-ff7d-c8a8-0810-4408-bc27-73ce-07db-bb9c",
       "previous": "1ff640d8-92df-11ec-b447-6b42dc3e1973-4-0772-6d20-7cf8-264d"
      },
      {
       "current": "936190d2-d678-11e8-a64b-02420aff0006-22-799a-eb0d-0991-b11c-fbdd-6f49-fe77-0ba2-7169-3507",
       "next": "f0c51d90-4c6e-11e9-b2d5-0242ac130002-21-8dbb-ff7d-c8a8-0810-4408-bc27-73ce-07db-bb9c-9fc6",
       "previous": "1ff640d8-92df-11ec-b447-6b42dc3e1973-5-0772-6d20-7cf8-264d-6de3"
      },
      {
       "current": "936190d2-d678-11e8-a64b-02420aff0006-23-eb0d-0991-b11c-fbdd-6f49-fe77-0ba2-7169-3507-1442",
       "next": "f0c51d90-4c6e-11e9-b2d5-0242ac130002-22-ff7d-c8a8-0810-4408-bc27-73ce-07db-bb9c-9fc6-ceaf",
       "previous": "1ff640d8-92df-11ec-b447-6b42dc3e1973-6-0772-6d20-7cf8-264d-6de3-5b84"
      },
      {
       "current": "936190d2-d678-11e8-a64b-02420aff0006-24-0991-b11c-fbdd-6f49-fe77-0ba2-7169-3507-1442-5a08",
       "next": "f0c51d90-4c6e-11e9-b2d5-0242ac130002-23-c8a8-0810-4408-bc27-73ce-07db-bb9c-9fc6-ceaf-9e4c",
       "previous": "1ff640d8-92df-11ec-b447-6b42dc3e1973-6-0772-6d20-7cf8-264d-6de3-fa35"
      },
      {
       "current": "936190d2-d678-11e8-a64b-02420aff0006-25-b11c-fbdd-6f49-fe77-0ba2-7169-3507-1442-5a08-5edc",
       "next": "f0c51d90-4c6e-11e9-b2d5-0242ac130002-24-0810-4408-bc27-73ce-07db-bb9c-9fc6-ceaf-9e4c-e6a1",
       "previous": "6efad424-92e4-11ec-b21e-6b42dc3e1973-6-cccf-8ca5-401a-779e-27c1-9ba4"
      },
      {
       "current": "936190d2-d678-11e8-a64b-02420aff0006-26-fbdd-6f49-fe77-0ba2-7169-3507-1442-5a08-5edc-6153",
       "next": "f0c51d90-4c6e-11e9-b2d5-0242ac130002-25-4408-bc27-73ce-07db-bb9c-9fc6-ceaf-9e4c-e6a1-064c",
       "previous": "6efad424-92e4-11ec-b21e-6b42dc3e1973-7-cccf-8ca5-401a-779e-27c1-9ba4-88b8"
      },
      {
       "current": "936190d2-d678-11e8-a64b-02420aff0006-27-6f49-fe77-0ba2-7169-3507-1442-5a08-5edc-6153-db9e",
       "next": "f0c51d90-4c6e-11e9-b2d5-0242ac130002-26-bc27-73ce-07db-bb9c-9fc6-ceaf-9e4c-e6a1-064c-4ca7",
       "previous": "6efad424-92e4-11ec-b21e-6b42dc3e1973-8-cccf-8ca5-401a-779e-27c1-9ba4-88b8-f9b9"
      },
      {
       "current": "936190d2-d678-11e8-a64b-02420aff0006-28-fe77-0ba2-7169-3507-1442-5a08-5edc-6153-db9e-1c38",
       "next": "f0c51d90-4c6e-11e9-b2d5-0242ac130002-27-73ce-07db-bb9c-9fc6-ceaf-9e4c-e6a1-064c-4ca7-831b",
       "previous": "6efad424-92e4-11ec-b21e-6b42dc3e1973-9-cccf-8ca5-401a-779e-27c1-9ba4-88b8-f9b9-1a73"
      }
     ],
     "next": "f0c51d90-4c6e-11e9-b2d5-0242ac130002-28-07db-bb9c-9fc6-ceaf-9e4c-e6a1-064c-4ca7-831b-e964",
     "previous": "6efad424-92e4-11ec-b21e-6b42dc3e1973-10-cccf-8ca5-401a-779e-27c1-9ba4-88b8-f9b9-1a73-2121"
    }
   },
   "source": [
    "# 初期ユーザーイメージの準備\n",
    "\n",
    "ユーザー環境の初期イメージを用意しておく。"
   ]
  },
  {
   "cell_type": "code",
   "execution_count": null,
   "id": "82639bdf",
   "metadata": {
    "lc_cell_meme": {
     "current": "f0c51d90-4c6e-11e9-b2d5-0242ac130002-28-07db-bb9c-9fc6-ceaf-9e4c-e6a1-064c-4ca7-831b-e964",
     "history": [
      {
       "current": "f0c51d90-4c6e-11e9-b2d5-0242ac130002-17-a657-a290-cffc-c1c1-8dbb-ff7d-c8a8-0810-4408-bc27",
       "next": "936192da-d678-11e8-a64b-02420aff0006-16-6db4-f0dc-e2da-d5f3-77c4-fcda-678b-a8c0-5706-c50e",
       "previous": "936190d2-d678-11e8-a64b-02420aff0006-16-7714-837d-6ad5-7201-175f-6911-799a-eb0d-0991-b11c"
      },
      {
       "current": "f0c51d90-4c6e-11e9-b2d5-0242ac130002-18-a290-cffc-c1c1-8dbb-ff7d-c8a8-0810-4408-bc27-73ce",
       "next": "936192da-d678-11e8-a64b-02420aff0006-17-f0dc-e2da-d5f3-77c4-fcda-678b-a8c0-5706-c50e-082d",
       "previous": "936190d2-d678-11e8-a64b-02420aff0006-17-837d-6ad5-7201-175f-6911-799a-eb0d-0991-b11c-fbdd"
      },
      {
       "current": "f0c51d90-4c6e-11e9-b2d5-0242ac130002-19-cffc-c1c1-8dbb-ff7d-c8a8-0810-4408-bc27-73ce-07db",
       "next": "936192da-d678-11e8-a64b-02420aff0006-18-e2da-d5f3-77c4-fcda-678b-a8c0-5706-c50e-082d-4d73",
       "previous": "936190d2-d678-11e8-a64b-02420aff0006-18-6ad5-7201-175f-6911-799a-eb0d-0991-b11c-fbdd-6f49"
      },
      {
       "current": "f0c51d90-4c6e-11e9-b2d5-0242ac130002-20-c1c1-8dbb-ff7d-c8a8-0810-4408-bc27-73ce-07db-bb9c",
       "next": "936192da-d678-11e8-a64b-02420aff0006-19-d5f3-77c4-fcda-678b-a8c0-5706-c50e-082d-4d73-752b",
       "previous": "936190d2-d678-11e8-a64b-02420aff0006-19-7201-175f-6911-799a-eb0d-0991-b11c-fbdd-6f49-fe77"
      },
      {
       "current": "f0c51d90-4c6e-11e9-b2d5-0242ac130002-21-8dbb-ff7d-c8a8-0810-4408-bc27-73ce-07db-bb9c-9fc6",
       "next": "936192da-d678-11e8-a64b-02420aff0006-20-77c4-fcda-678b-a8c0-5706-c50e-082d-4d73-752b-9805",
       "previous": "936190d2-d678-11e8-a64b-02420aff0006-20-175f-6911-799a-eb0d-0991-b11c-fbdd-6f49-fe77-0ba2"
      },
      {
       "current": "f0c51d90-4c6e-11e9-b2d5-0242ac130002-22-ff7d-c8a8-0810-4408-bc27-73ce-07db-bb9c-9fc6-ceaf",
       "next": "936192da-d678-11e8-a64b-02420aff0006-21-fcda-678b-a8c0-5706-c50e-082d-4d73-752b-9805-8088",
       "previous": "936190d2-d678-11e8-a64b-02420aff0006-21-6911-799a-eb0d-0991-b11c-fbdd-6f49-fe77-0ba2-7169"
      },
      {
       "current": "f0c51d90-4c6e-11e9-b2d5-0242ac130002-23-c8a8-0810-4408-bc27-73ce-07db-bb9c-9fc6-ceaf-9e4c",
       "next": "936192da-d678-11e8-a64b-02420aff0006-22-678b-a8c0-5706-c50e-082d-4d73-752b-9805-8088-b7d7",
       "previous": "936190d2-d678-11e8-a64b-02420aff0006-22-799a-eb0d-0991-b11c-fbdd-6f49-fe77-0ba2-7169-3507"
      },
      {
       "current": "f0c51d90-4c6e-11e9-b2d5-0242ac130002-24-0810-4408-bc27-73ce-07db-bb9c-9fc6-ceaf-9e4c-e6a1",
       "next": "936192da-d678-11e8-a64b-02420aff0006-23-a8c0-5706-c50e-082d-4d73-752b-9805-8088-b7d7-7212",
       "previous": "936190d2-d678-11e8-a64b-02420aff0006-23-eb0d-0991-b11c-fbdd-6f49-fe77-0ba2-7169-3507-1442"
      },
      {
       "current": "f0c51d90-4c6e-11e9-b2d5-0242ac130002-25-4408-bc27-73ce-07db-bb9c-9fc6-ceaf-9e4c-e6a1-064c",
       "next": "936192da-d678-11e8-a64b-02420aff0006-24-5706-c50e-082d-4d73-752b-9805-8088-b7d7-7212-7ac0",
       "previous": "936190d2-d678-11e8-a64b-02420aff0006-24-0991-b11c-fbdd-6f49-fe77-0ba2-7169-3507-1442-5a08"
      },
      {
       "current": "f0c51d90-4c6e-11e9-b2d5-0242ac130002-26-bc27-73ce-07db-bb9c-9fc6-ceaf-9e4c-e6a1-064c-4ca7",
       "next": "936192da-d678-11e8-a64b-02420aff0006-25-c50e-082d-4d73-752b-9805-8088-b7d7-7212-7ac0-bdf0",
       "previous": "936190d2-d678-11e8-a64b-02420aff0006-25-b11c-fbdd-6f49-fe77-0ba2-7169-3507-1442-5a08-5edc"
      },
      {
       "current": "f0c51d90-4c6e-11e9-b2d5-0242ac130002-27-73ce-07db-bb9c-9fc6-ceaf-9e4c-e6a1-064c-4ca7-831b",
       "next": "936192da-d678-11e8-a64b-02420aff0006-26-082d-4d73-752b-9805-8088-b7d7-7212-7ac0-bdf0-f032",
       "previous": "936190d2-d678-11e8-a64b-02420aff0006-26-fbdd-6f49-fe77-0ba2-7169-3507-1442-5a08-5edc-6153"
      },
      {
       "current": "f0c51d90-4c6e-11e9-b2d5-0242ac130002-28-07db-bb9c-9fc6-ceaf-9e4c-e6a1-064c-4ca7-831b-e964",
       "next": "936192da-d678-11e8-a64b-02420aff0006-27-4d73-752b-9805-8088-b7d7-7212-7ac0-bdf0-f032-6ce0",
       "previous": "936190d2-d678-11e8-a64b-02420aff0006-27-6f49-fe77-0ba2-7169-3507-1442-5a08-5edc-6153-db9e"
      }
     ],
     "next": "936192da-d678-11e8-a64b-02420aff0006-28-752b-9805-8088-b7d7-7212-7ac0-bdf0-f032-6ce0-0370",
     "previous": "936190d2-d678-11e8-a64b-02420aff0006-28-fe77-0ba2-7169-3507-1442-5a08-5edc-6153-db9e-1c38"
    },
    "scrolled": true
   },
   "outputs": [],
   "source": [
    "singleuser_image = 'niicloudoperation/notebook'"
   ]
  },
  {
   "cell_type": "code",
   "execution_count": null,
   "id": "83cd71c0",
   "metadata": {
    "lc_cell_meme": {
     "current": "936192da-d678-11e8-a64b-02420aff0006-28-752b-9805-8088-b7d7-7212-7ac0-bdf0-f032-6ce0-0370",
     "history": [
      {
       "current": "936192da-d678-11e8-a64b-02420aff0006-17-f0dc-e2da-d5f3-77c4-fcda-678b-a8c0-5706-c50e-082d",
       "next": "7c82e6e8-4740-11e9-8bae-0242ac130002-16-2038-bb08-5fae-bf01-6b5f-5780-d2ab-9391-bda0-79f2",
       "previous": "f0c51d90-4c6e-11e9-b2d5-0242ac130002-16-47c1-a657-a290-cffc-c1c1-8dbb-ff7d-c8a8-0810-4408"
      },
      {
       "current": "936192da-d678-11e8-a64b-02420aff0006-18-e2da-d5f3-77c4-fcda-678b-a8c0-5706-c50e-082d-4d73",
       "next": "7c82e6e8-4740-11e9-8bae-0242ac130002-17-bb08-5fae-bf01-6b5f-5780-d2ab-9391-bda0-79f2-bcfd",
       "previous": "f0c51d90-4c6e-11e9-b2d5-0242ac130002-17-a657-a290-cffc-c1c1-8dbb-ff7d-c8a8-0810-4408-bc27"
      },
      {
       "current": "936192da-d678-11e8-a64b-02420aff0006-19-d5f3-77c4-fcda-678b-a8c0-5706-c50e-082d-4d73-752b",
       "next": "7c82e6e8-4740-11e9-8bae-0242ac130002-18-5fae-bf01-6b5f-5780-d2ab-9391-bda0-79f2-bcfd-43c2",
       "previous": "f0c51d90-4c6e-11e9-b2d5-0242ac130002-18-a290-cffc-c1c1-8dbb-ff7d-c8a8-0810-4408-bc27-73ce"
      },
      {
       "current": "936192da-d678-11e8-a64b-02420aff0006-20-77c4-fcda-678b-a8c0-5706-c50e-082d-4d73-752b-9805",
       "next": "7c82e6e8-4740-11e9-8bae-0242ac130002-19-bf01-6b5f-5780-d2ab-9391-bda0-79f2-bcfd-43c2-8a24",
       "previous": "f0c51d90-4c6e-11e9-b2d5-0242ac130002-19-cffc-c1c1-8dbb-ff7d-c8a8-0810-4408-bc27-73ce-07db"
      },
      {
       "current": "936192da-d678-11e8-a64b-02420aff0006-21-fcda-678b-a8c0-5706-c50e-082d-4d73-752b-9805-8088",
       "next": "7c82e6e8-4740-11e9-8bae-0242ac130002-20-6b5f-5780-d2ab-9391-bda0-79f2-bcfd-43c2-8a24-964f",
       "previous": "f0c51d90-4c6e-11e9-b2d5-0242ac130002-20-c1c1-8dbb-ff7d-c8a8-0810-4408-bc27-73ce-07db-bb9c"
      },
      {
       "current": "936192da-d678-11e8-a64b-02420aff0006-22-678b-a8c0-5706-c50e-082d-4d73-752b-9805-8088-b7d7",
       "next": "7c82e6e8-4740-11e9-8bae-0242ac130002-21-5780-d2ab-9391-bda0-79f2-bcfd-43c2-8a24-964f-168a",
       "previous": "f0c51d90-4c6e-11e9-b2d5-0242ac130002-21-8dbb-ff7d-c8a8-0810-4408-bc27-73ce-07db-bb9c-9fc6"
      },
      {
       "current": "936192da-d678-11e8-a64b-02420aff0006-23-a8c0-5706-c50e-082d-4d73-752b-9805-8088-b7d7-7212",
       "next": "7c82e6e8-4740-11e9-8bae-0242ac130002-22-d2ab-9391-bda0-79f2-bcfd-43c2-8a24-964f-168a-7c03",
       "previous": "f0c51d90-4c6e-11e9-b2d5-0242ac130002-22-ff7d-c8a8-0810-4408-bc27-73ce-07db-bb9c-9fc6-ceaf"
      },
      {
       "current": "936192da-d678-11e8-a64b-02420aff0006-24-5706-c50e-082d-4d73-752b-9805-8088-b7d7-7212-7ac0",
       "next": "7c82e6e8-4740-11e9-8bae-0242ac130002-23-9391-bda0-79f2-bcfd-43c2-8a24-964f-168a-7c03-4766",
       "previous": "f0c51d90-4c6e-11e9-b2d5-0242ac130002-23-c8a8-0810-4408-bc27-73ce-07db-bb9c-9fc6-ceaf-9e4c"
      },
      {
       "current": "936192da-d678-11e8-a64b-02420aff0006-25-c50e-082d-4d73-752b-9805-8088-b7d7-7212-7ac0-bdf0",
       "next": "7c82e6e8-4740-11e9-8bae-0242ac130002-24-bda0-79f2-bcfd-43c2-8a24-964f-168a-7c03-4766-ea0d",
       "previous": "f0c51d90-4c6e-11e9-b2d5-0242ac130002-24-0810-4408-bc27-73ce-07db-bb9c-9fc6-ceaf-9e4c-e6a1"
      },
      {
       "current": "936192da-d678-11e8-a64b-02420aff0006-26-082d-4d73-752b-9805-8088-b7d7-7212-7ac0-bdf0-f032",
       "next": "7c82e6e8-4740-11e9-8bae-0242ac130002-25-79f2-bcfd-43c2-8a24-964f-168a-7c03-4766-ea0d-3c05",
       "previous": "f0c51d90-4c6e-11e9-b2d5-0242ac130002-25-4408-bc27-73ce-07db-bb9c-9fc6-ceaf-9e4c-e6a1-064c"
      },
      {
       "current": "936192da-d678-11e8-a64b-02420aff0006-27-4d73-752b-9805-8088-b7d7-7212-7ac0-bdf0-f032-6ce0",
       "next": "7c82e6e8-4740-11e9-8bae-0242ac130002-26-bcfd-43c2-8a24-964f-168a-7c03-4766-ea0d-3c05-ce7b",
       "previous": "f0c51d90-4c6e-11e9-b2d5-0242ac130002-26-bc27-73ce-07db-bb9c-9fc6-ceaf-9e4c-e6a1-064c-4ca7"
      },
      {
       "current": "936192da-d678-11e8-a64b-02420aff0006-28-752b-9805-8088-b7d7-7212-7ac0-bdf0-f032-6ce0-0370",
       "next": "7c82e6e8-4740-11e9-8bae-0242ac130002-27-43c2-8a24-964f-168a-7c03-4766-ea0d-3c05-ce7b-132e",
       "previous": "f0c51d90-4c6e-11e9-b2d5-0242ac130002-27-73ce-07db-bb9c-9fc6-ceaf-9e4c-e6a1-064c-4ca7-831b"
      }
     ],
     "next": "7c82e6e8-4740-11e9-8bae-0242ac130002-28-8a24-964f-168a-7c03-4766-ea0d-3c05-ce7b-132e-e852",
     "previous": "f0c51d90-4c6e-11e9-b2d5-0242ac130002-28-07db-bb9c-9fc6-ceaf-9e4c-e6a1-064c-4ca7-831b-e964"
    },
    "scrolled": false
   },
   "outputs": [],
   "source": [
    "!ansible -b -a 'docker pull {singleuser_image}' {target_hub}"
   ]
  },
  {
   "cell_type": "markdown",
   "id": "b6c51adb",
   "metadata": {
    "lc_cell_meme": {
     "current": "7c82e6e8-4740-11e9-8bae-0242ac130002-28-8a24-964f-168a-7c03-4766-ea0d-3c05-ce7b-132e-e852",
     "history": [
      {
       "current": "7c82e6e8-4740-11e9-8bae-0242ac130002-17-bb08-5fae-bf01-6b5f-5780-d2ab-9391-bda0-79f2-bcfd",
       "next": "edbab54e-473f-11e9-8bae-0242ac130002-16-d72b-380b-ffa7-b22f-4aaf-3d4f-dbf0-7d4f-68f3-7db7",
       "previous": "936192da-d678-11e8-a64b-02420aff0006-16-6db4-f0dc-e2da-d5f3-77c4-fcda-678b-a8c0-5706-c50e"
      },
      {
       "current": "7c82e6e8-4740-11e9-8bae-0242ac130002-18-5fae-bf01-6b5f-5780-d2ab-9391-bda0-79f2-bcfd-43c2",
       "next": "edbab54e-473f-11e9-8bae-0242ac130002-17-380b-ffa7-b22f-4aaf-3d4f-dbf0-7d4f-68f3-7db7-bfe3",
       "previous": "936192da-d678-11e8-a64b-02420aff0006-17-f0dc-e2da-d5f3-77c4-fcda-678b-a8c0-5706-c50e-082d"
      },
      {
       "current": "7c82e6e8-4740-11e9-8bae-0242ac130002-19-bf01-6b5f-5780-d2ab-9391-bda0-79f2-bcfd-43c2-8a24",
       "next": "edbab54e-473f-11e9-8bae-0242ac130002-18-ffa7-b22f-4aaf-3d4f-dbf0-7d4f-68f3-7db7-bfe3-f4f3",
       "previous": "936192da-d678-11e8-a64b-02420aff0006-18-e2da-d5f3-77c4-fcda-678b-a8c0-5706-c50e-082d-4d73"
      },
      {
       "current": "7c82e6e8-4740-11e9-8bae-0242ac130002-20-6b5f-5780-d2ab-9391-bda0-79f2-bcfd-43c2-8a24-964f",
       "next": "edbab54e-473f-11e9-8bae-0242ac130002-19-b22f-4aaf-3d4f-dbf0-7d4f-68f3-7db7-bfe3-f4f3-b4e5",
       "previous": "936192da-d678-11e8-a64b-02420aff0006-19-d5f3-77c4-fcda-678b-a8c0-5706-c50e-082d-4d73-752b"
      },
      {
       "current": "7c82e6e8-4740-11e9-8bae-0242ac130002-21-5780-d2ab-9391-bda0-79f2-bcfd-43c2-8a24-964f-168a",
       "next": "edbab54e-473f-11e9-8bae-0242ac130002-20-4aaf-3d4f-dbf0-7d4f-68f3-7db7-bfe3-f4f3-b4e5-b7b6",
       "previous": "936192da-d678-11e8-a64b-02420aff0006-20-77c4-fcda-678b-a8c0-5706-c50e-082d-4d73-752b-9805"
      },
      {
       "current": "7c82e6e8-4740-11e9-8bae-0242ac130002-22-d2ab-9391-bda0-79f2-bcfd-43c2-8a24-964f-168a-7c03",
       "next": "edbab54e-473f-11e9-8bae-0242ac130002-21-3d4f-dbf0-7d4f-68f3-7db7-bfe3-f4f3-b4e5-b7b6-d2de",
       "previous": "936192da-d678-11e8-a64b-02420aff0006-21-fcda-678b-a8c0-5706-c50e-082d-4d73-752b-9805-8088"
      },
      {
       "current": "7c82e6e8-4740-11e9-8bae-0242ac130002-23-9391-bda0-79f2-bcfd-43c2-8a24-964f-168a-7c03-4766",
       "next": "edbab54e-473f-11e9-8bae-0242ac130002-22-dbf0-7d4f-68f3-7db7-bfe3-f4f3-b4e5-b7b6-d2de-4e6f",
       "previous": "936192da-d678-11e8-a64b-02420aff0006-22-678b-a8c0-5706-c50e-082d-4d73-752b-9805-8088-b7d7"
      },
      {
       "current": "7c82e6e8-4740-11e9-8bae-0242ac130002-24-bda0-79f2-bcfd-43c2-8a24-964f-168a-7c03-4766-ea0d",
       "next": "edbab54e-473f-11e9-8bae-0242ac130002-23-7d4f-68f3-7db7-bfe3-f4f3-b4e5-b7b6-d2de-4e6f-12fa",
       "previous": "936192da-d678-11e8-a64b-02420aff0006-23-a8c0-5706-c50e-082d-4d73-752b-9805-8088-b7d7-7212"
      },
      {
       "current": "7c82e6e8-4740-11e9-8bae-0242ac130002-25-79f2-bcfd-43c2-8a24-964f-168a-7c03-4766-ea0d-3c05",
       "next": "edbab54e-473f-11e9-8bae-0242ac130002-24-68f3-7db7-bfe3-f4f3-b4e5-b7b6-d2de-4e6f-12fa-7ef7",
       "previous": "936192da-d678-11e8-a64b-02420aff0006-24-5706-c50e-082d-4d73-752b-9805-8088-b7d7-7212-7ac0"
      },
      {
       "current": "7c82e6e8-4740-11e9-8bae-0242ac130002-26-bcfd-43c2-8a24-964f-168a-7c03-4766-ea0d-3c05-ce7b",
       "next": "edbab54e-473f-11e9-8bae-0242ac130002-25-7db7-bfe3-f4f3-b4e5-b7b6-d2de-4e6f-12fa-7ef7-9df2",
       "previous": "936192da-d678-11e8-a64b-02420aff0006-25-c50e-082d-4d73-752b-9805-8088-b7d7-7212-7ac0-bdf0"
      },
      {
       "current": "7c82e6e8-4740-11e9-8bae-0242ac130002-27-43c2-8a24-964f-168a-7c03-4766-ea0d-3c05-ce7b-132e",
       "next": "edbab54e-473f-11e9-8bae-0242ac130002-26-bfe3-f4f3-b4e5-b7b6-d2de-4e6f-12fa-7ef7-9df2-0245",
       "previous": "936192da-d678-11e8-a64b-02420aff0006-26-082d-4d73-752b-9805-8088-b7d7-7212-7ac0-bdf0-f032"
      },
      {
       "current": "7c82e6e8-4740-11e9-8bae-0242ac130002-28-8a24-964f-168a-7c03-4766-ea0d-3c05-ce7b-132e-e852",
       "next": "edbab54e-473f-11e9-8bae-0242ac130002-27-f4f3-b4e5-b7b6-d2de-4e6f-12fa-7ef7-9df2-0245-5c51",
       "previous": "936192da-d678-11e8-a64b-02420aff0006-27-4d73-752b-9805-8088-b7d7-7212-7ac0-bdf0-f032-6ce0"
      }
     ],
     "next": "edbab54e-473f-11e9-8bae-0242ac130002-28-b4e5-b7b6-d2de-4e6f-12fa-7ef7-9df2-0245-5c51-4c32",
     "previous": "936192da-d678-11e8-a64b-02420aff0006-28-752b-9805-8088-b7d7-7212-7ac0-bdf0-f032-6ce0-0370"
    }
   },
   "source": [
    "初期イメージとして、タグをつけておく\n",
    "\n",
    "CoursewareHub起動後にレジストリにpushする必要がある。"
   ]
  },
  {
   "cell_type": "code",
   "execution_count": null,
   "id": "af0db619",
   "metadata": {
    "lc_cell_meme": {
     "current": "edbab54e-473f-11e9-8bae-0242ac130002-28-b4e5-b7b6-d2de-4e6f-12fa-7ef7-9df2-0245-5c51-4c32",
     "history": [
      {
       "current": "edbab54e-473f-11e9-8bae-0242ac130002-17-380b-ffa7-b22f-4aaf-3d4f-dbf0-7d4f-68f3-7db7-bfe3",
       "next": "edbab54e-473f-11e9-8bae-0242ac130002-16-212d-7f02-36c3-a201-0fe9-bf2d-edaf-6b87-6e7f-06e3",
       "previous": "7c82e6e8-4740-11e9-8bae-0242ac130002-16-2038-bb08-5fae-bf01-6b5f-5780-d2ab-9391-bda0-79f2"
      },
      {
       "current": "edbab54e-473f-11e9-8bae-0242ac130002-18-ffa7-b22f-4aaf-3d4f-dbf0-7d4f-68f3-7db7-bfe3-f4f3",
       "next": "edbab54e-473f-11e9-8bae-0242ac130002-17-7f02-36c3-a201-0fe9-bf2d-edaf-6b87-6e7f-06e3-363a",
       "previous": "7c82e6e8-4740-11e9-8bae-0242ac130002-17-bb08-5fae-bf01-6b5f-5780-d2ab-9391-bda0-79f2-bcfd"
      },
      {
       "current": "edbab54e-473f-11e9-8bae-0242ac130002-19-b22f-4aaf-3d4f-dbf0-7d4f-68f3-7db7-bfe3-f4f3-b4e5",
       "next": "edbab54e-473f-11e9-8bae-0242ac130002-18-36c3-a201-0fe9-bf2d-edaf-6b87-6e7f-06e3-363a-5736",
       "previous": "7c82e6e8-4740-11e9-8bae-0242ac130002-18-5fae-bf01-6b5f-5780-d2ab-9391-bda0-79f2-bcfd-43c2"
      },
      {
       "current": "edbab54e-473f-11e9-8bae-0242ac130002-20-4aaf-3d4f-dbf0-7d4f-68f3-7db7-bfe3-f4f3-b4e5-b7b6",
       "next": "edbab54e-473f-11e9-8bae-0242ac130002-19-a201-0fe9-bf2d-edaf-6b87-6e7f-06e3-363a-5736-df9a",
       "previous": "7c82e6e8-4740-11e9-8bae-0242ac130002-19-bf01-6b5f-5780-d2ab-9391-bda0-79f2-bcfd-43c2-8a24"
      },
      {
       "current": "edbab54e-473f-11e9-8bae-0242ac130002-21-3d4f-dbf0-7d4f-68f3-7db7-bfe3-f4f3-b4e5-b7b6-d2de",
       "next": "edbab54e-473f-11e9-8bae-0242ac130002-20-0fe9-bf2d-edaf-6b87-6e7f-06e3-363a-5736-df9a-650e",
       "previous": "7c82e6e8-4740-11e9-8bae-0242ac130002-20-6b5f-5780-d2ab-9391-bda0-79f2-bcfd-43c2-8a24-964f"
      },
      {
       "current": "edbab54e-473f-11e9-8bae-0242ac130002-22-dbf0-7d4f-68f3-7db7-bfe3-f4f3-b4e5-b7b6-d2de-4e6f",
       "next": "edbab54e-473f-11e9-8bae-0242ac130002-21-bf2d-edaf-6b87-6e7f-06e3-363a-5736-df9a-650e-6c2f",
       "previous": "7c82e6e8-4740-11e9-8bae-0242ac130002-21-5780-d2ab-9391-bda0-79f2-bcfd-43c2-8a24-964f-168a"
      },
      {
       "current": "edbab54e-473f-11e9-8bae-0242ac130002-23-7d4f-68f3-7db7-bfe3-f4f3-b4e5-b7b6-d2de-4e6f-12fa",
       "next": "edbab54e-473f-11e9-8bae-0242ac130002-22-edaf-6b87-6e7f-06e3-363a-5736-df9a-650e-6c2f-3f01",
       "previous": "7c82e6e8-4740-11e9-8bae-0242ac130002-22-d2ab-9391-bda0-79f2-bcfd-43c2-8a24-964f-168a-7c03"
      },
      {
       "current": "edbab54e-473f-11e9-8bae-0242ac130002-24-68f3-7db7-bfe3-f4f3-b4e5-b7b6-d2de-4e6f-12fa-7ef7",
       "next": "edbab54e-473f-11e9-8bae-0242ac130002-23-6b87-6e7f-06e3-363a-5736-df9a-650e-6c2f-3f01-a69a",
       "previous": "7c82e6e8-4740-11e9-8bae-0242ac130002-23-9391-bda0-79f2-bcfd-43c2-8a24-964f-168a-7c03-4766"
      },
      {
       "current": "edbab54e-473f-11e9-8bae-0242ac130002-25-7db7-bfe3-f4f3-b4e5-b7b6-d2de-4e6f-12fa-7ef7-9df2",
       "next": "edbab54e-473f-11e9-8bae-0242ac130002-24-6e7f-06e3-363a-5736-df9a-650e-6c2f-3f01-a69a-8192",
       "previous": "7c82e6e8-4740-11e9-8bae-0242ac130002-24-bda0-79f2-bcfd-43c2-8a24-964f-168a-7c03-4766-ea0d"
      },
      {
       "current": "edbab54e-473f-11e9-8bae-0242ac130002-26-bfe3-f4f3-b4e5-b7b6-d2de-4e6f-12fa-7ef7-9df2-0245",
       "next": "edbab54e-473f-11e9-8bae-0242ac130002-25-06e3-363a-5736-df9a-650e-6c2f-3f01-a69a-8192-b795",
       "previous": "7c82e6e8-4740-11e9-8bae-0242ac130002-25-79f2-bcfd-43c2-8a24-964f-168a-7c03-4766-ea0d-3c05"
      },
      {
       "current": "edbab54e-473f-11e9-8bae-0242ac130002-27-f4f3-b4e5-b7b6-d2de-4e6f-12fa-7ef7-9df2-0245-5c51",
       "next": "edbab54e-473f-11e9-8bae-0242ac130002-26-363a-5736-df9a-650e-6c2f-3f01-a69a-8192-b795-9922",
       "previous": "7c82e6e8-4740-11e9-8bae-0242ac130002-26-bcfd-43c2-8a24-964f-168a-7c03-4766-ea0d-3c05-ce7b"
      },
      {
       "current": "edbab54e-473f-11e9-8bae-0242ac130002-28-b4e5-b7b6-d2de-4e6f-12fa-7ef7-9df2-0245-5c51-4c32",
       "next": "edbab54e-473f-11e9-8bae-0242ac130002-27-5736-df9a-650e-6c2f-3f01-a69a-8192-b795-9922-b548",
       "previous": "7c82e6e8-4740-11e9-8bae-0242ac130002-27-43c2-8a24-964f-168a-7c03-4766-ea0d-3c05-ce7b-132e"
      }
     ],
     "next": "edbab54e-473f-11e9-8bae-0242ac130002-28-df9a-650e-6c2f-3f01-a69a-8192-b795-9922-b548-bbe0",
     "previous": "7c82e6e8-4740-11e9-8bae-0242ac130002-28-8a24-964f-168a-7c03-4766-ea0d-3c05-ce7b-132e-e852"
    },
    "scrolled": true
   },
   "outputs": [],
   "source": [
    "!ansible -b -a 'docker tag {singleuser_image} {master_fqdn}:5000/coursewarehub/initial-course-image' {target_hub}"
   ]
  },
  {
   "cell_type": "code",
   "execution_count": null,
   "id": "6aff5a41",
   "metadata": {
    "lc_cell_meme": {
     "current": "edbab54e-473f-11e9-8bae-0242ac130002-28-df9a-650e-6c2f-3f01-a69a-8192-b795-9922-b548-bbe0",
     "history": [
      {
       "current": "edbab54e-473f-11e9-8bae-0242ac130002-17-7f02-36c3-a201-0fe9-bf2d-edaf-6b87-6e7f-06e3-363a",
       "next": "c8f2e85a-4f33-11eb-af23-0242ac120002-6-fc89-7b5e-81bd-5e32-a7ce-9457",
       "previous": "edbab54e-473f-11e9-8bae-0242ac130002-16-d72b-380b-ffa7-b22f-4aaf-3d4f-dbf0-7d4f-68f3-7db7"
      },
      {
       "current": "edbab54e-473f-11e9-8bae-0242ac130002-18-36c3-a201-0fe9-bf2d-edaf-6b87-6e7f-06e3-363a-5736",
       "next": "c8f2e85a-4f33-11eb-af23-0242ac120002-7-fc89-7b5e-81bd-5e32-a7ce-9457-1a1e",
       "previous": "edbab54e-473f-11e9-8bae-0242ac130002-17-380b-ffa7-b22f-4aaf-3d4f-dbf0-7d4f-68f3-7db7-bfe3"
      },
      {
       "current": "edbab54e-473f-11e9-8bae-0242ac130002-19-a201-0fe9-bf2d-edaf-6b87-6e7f-06e3-363a-5736-df9a",
       "next": "c8f2e85a-4f33-11eb-af23-0242ac120002-8-fc89-7b5e-81bd-5e32-a7ce-9457-1a1e-176d",
       "previous": "edbab54e-473f-11e9-8bae-0242ac130002-18-ffa7-b22f-4aaf-3d4f-dbf0-7d4f-68f3-7db7-bfe3-f4f3"
      },
      {
       "current": "edbab54e-473f-11e9-8bae-0242ac130002-20-0fe9-bf2d-edaf-6b87-6e7f-06e3-363a-5736-df9a-650e",
       "next": "c8f2e85a-4f33-11eb-af23-0242ac120002-9-fc89-7b5e-81bd-5e32-a7ce-9457-1a1e-176d-c3bf",
       "previous": "edbab54e-473f-11e9-8bae-0242ac130002-19-b22f-4aaf-3d4f-dbf0-7d4f-68f3-7db7-bfe3-f4f3-b4e5"
      },
      {
       "current": "edbab54e-473f-11e9-8bae-0242ac130002-21-bf2d-edaf-6b87-6e7f-06e3-363a-5736-df9a-650e-6c2f",
       "next": "c8f2e85a-4f33-11eb-af23-0242ac120002-10-fc89-7b5e-81bd-5e32-a7ce-9457-1a1e-176d-c3bf-2ee9",
       "previous": "edbab54e-473f-11e9-8bae-0242ac130002-20-4aaf-3d4f-dbf0-7d4f-68f3-7db7-bfe3-f4f3-b4e5-b7b6"
      },
      {
       "current": "edbab54e-473f-11e9-8bae-0242ac130002-22-edaf-6b87-6e7f-06e3-363a-5736-df9a-650e-6c2f-3f01",
       "next": "c8f2e85a-4f33-11eb-af23-0242ac120002-11-7b5e-81bd-5e32-a7ce-9457-1a1e-176d-c3bf-2ee9-0e8b",
       "previous": "edbab54e-473f-11e9-8bae-0242ac130002-21-3d4f-dbf0-7d4f-68f3-7db7-bfe3-f4f3-b4e5-b7b6-d2de"
      },
      {
       "current": "edbab54e-473f-11e9-8bae-0242ac130002-23-6b87-6e7f-06e3-363a-5736-df9a-650e-6c2f-3f01-a69a",
       "next": "c8f2e85a-4f33-11eb-af23-0242ac120002-12-81bd-5e32-a7ce-9457-1a1e-176d-c3bf-2ee9-0e8b-c53a",
       "previous": "edbab54e-473f-11e9-8bae-0242ac130002-22-dbf0-7d4f-68f3-7db7-bfe3-f4f3-b4e5-b7b6-d2de-4e6f"
      },
      {
       "current": "edbab54e-473f-11e9-8bae-0242ac130002-24-6e7f-06e3-363a-5736-df9a-650e-6c2f-3f01-a69a-8192",
       "next": "c8f2e85a-4f33-11eb-af23-0242ac120002-12-81bd-5e32-a7ce-9457-1a1e-176d-c3bf-2ee9-0e8b-123b",
       "previous": "edbab54e-473f-11e9-8bae-0242ac130002-23-7d4f-68f3-7db7-bfe3-f4f3-b4e5-b7b6-d2de-4e6f-12fa"
      },
      {
       "current": "edbab54e-473f-11e9-8bae-0242ac130002-25-06e3-363a-5736-df9a-650e-6c2f-3f01-a69a-8192-b795",
       "next": "a80840f7-9aae-11ec-b678-0242ac120002-4-ad7e-7c5b-3dc6-4585",
       "previous": "edbab54e-473f-11e9-8bae-0242ac130002-24-68f3-7db7-bfe3-f4f3-b4e5-b7b6-d2de-4e6f-12fa-7ef7"
      },
      {
       "current": "edbab54e-473f-11e9-8bae-0242ac130002-26-363a-5736-df9a-650e-6c2f-3f01-a69a-8192-b795-9922",
       "next": "a80840f7-9aae-11ec-b678-0242ac120002-5-ad7e-7c5b-3dc6-4585-83ba",
       "previous": "edbab54e-473f-11e9-8bae-0242ac130002-25-7db7-bfe3-f4f3-b4e5-b7b6-d2de-4e6f-12fa-7ef7-9df2"
      },
      {
       "current": "edbab54e-473f-11e9-8bae-0242ac130002-27-5736-df9a-650e-6c2f-3f01-a69a-8192-b795-9922-b548",
       "next": "a80840f7-9aae-11ec-b678-0242ac120002-6-ad7e-7c5b-3dc6-4585-83ba-1fb2",
       "previous": "edbab54e-473f-11e9-8bae-0242ac130002-26-bfe3-f4f3-b4e5-b7b6-d2de-4e6f-12fa-7ef7-9df2-0245"
      },
      {
       "current": "edbab54e-473f-11e9-8bae-0242ac130002-28-df9a-650e-6c2f-3f01-a69a-8192-b795-9922-b548-bbe0",
       "next": "a80840f7-9aae-11ec-b678-0242ac120002-7-ad7e-7c5b-3dc6-4585-83ba-1fb2-1cef",
       "previous": "edbab54e-473f-11e9-8bae-0242ac130002-27-f4f3-b4e5-b7b6-d2de-4e6f-12fa-7ef7-9df2-0245-5c51"
      }
     ],
     "next": "a80840f7-9aae-11ec-b678-0242ac120002-8-ad7e-7c5b-3dc6-4585-83ba-1fb2-1cef-43fd",
     "previous": "edbab54e-473f-11e9-8bae-0242ac130002-28-b4e5-b7b6-d2de-4e6f-12fa-7ef7-9df2-0245-5c51-4c32"
    },
    "scrolled": true
   },
   "outputs": [],
   "source": [
    "!ansible -b -a 'docker images' {target_hub}"
   ]
  },
  {
   "cell_type": "markdown",
   "id": "3e83b24b",
   "metadata": {
    "lc_cell_meme": {
     "current": "a80840f7-9aae-11ec-b678-0242ac120002-8-ad7e-7c5b-3dc6-4585-83ba-1fb2-1cef-43fd",
     "history": [
      {
       "current": "a80840f7-9aae-11ec-b678-0242ac120002",
       "next": "8987fd6c-b234-11e7-a38f-0242ac120002-18-ab86-1871-83f6-da1f-d004-d2e5-90fd-d9ea-7440-9922",
       "previous": "6efad424-92e4-11ec-b21e-6b42dc3e1973-2-cccf-8ca5"
      },
      {
       "current": "a80840f7-9aae-11ec-b678-0242ac120002",
       "next": "8d20f426-d5c2-11e8-a64b-02420aff0006-18-885e-83bd-895f-21e2-f46f-ccbb-8f4b-9ffb-13c2-b599",
       "previous": "6efad424-92e4-11ec-b21e-6b42dc3e1973-2-cccf-8ca5"
      },
      {
       "current": "a80840f7-9aae-11ec-b678-0242ac120002-1-ad7e",
       "next": "8d20f426-d5c2-11e8-a64b-02420aff0006-18-885e-83bd-895f-21e2-f46f-ccbb-8f4b-9ffb-13c2-b599",
       "previous": "edbab54e-473f-11e9-8bae-0242ac130002-18-36c3-a201-0fe9-bf2d-edaf-6b87-6e7f-06e3-363a-e84c"
      },
      {
       "current": "a80840f7-9aae-11ec-b678-0242ac120002-2-ad7e-7c5b",
       "next": "8d20f426-d5c2-11e8-a64b-02420aff0006-19-83bd-895f-21e2-f46f-ccbb-8f4b-9ffb-13c2-b599-9bc0",
       "previous": "edbab54e-473f-11e9-8bae-0242ac130002-19-a201-0fe9-bf2d-edaf-6b87-6e7f-06e3-363a-e84c-f5ae"
      },
      {
       "current": "a80840f7-9aae-11ec-b678-0242ac120002-3-ad7e-7c5b-3dc6",
       "next": "8d20f426-d5c2-11e8-a64b-02420aff0006-20-895f-21e2-f46f-ccbb-8f4b-9ffb-13c2-b599-9bc0-5b53",
       "previous": "edbab54e-473f-11e9-8bae-0242ac130002-20-0fe9-bf2d-edaf-6b87-6e7f-06e3-363a-e84c-f5ae-c49d"
      },
      {
       "current": "a80840f7-9aae-11ec-b678-0242ac120002-4-ad7e-7c5b-3dc6-4585",
       "next": "8d20f426-d5c2-11e8-a64b-02420aff0006-21-21e2-f46f-ccbb-8f4b-9ffb-13c2-b599-9bc0-5b53-c905",
       "previous": "edbab54e-473f-11e9-8bae-0242ac130002-21-bf2d-edaf-6b87-6e7f-06e3-363a-e84c-f5ae-c49d-1a4c"
      },
      {
       "current": "a80840f7-9aae-11ec-b678-0242ac120002-4-ad7e-7c5b-3dc6-4585",
       "next": "8d20f426-d5c2-11e8-a64b-02420aff0006-22-f46f-ccbb-8f4b-9ffb-13c2-b599-9bc0-5b53-c905-78d0",
       "previous": "edbab54e-473f-11e9-8bae-0242ac130002-22-edaf-6b87-6e7f-06e3-363a-e84c-f5ae-c49d-1a4c-748d"
      },
      {
       "current": "a80840f7-9aae-11ec-b678-0242ac120002-5-ad7e-7c5b-3dc6-4585-83ba",
       "next": "8d20f426-d5c2-11e8-a64b-02420aff0006-22-f46f-ccbb-8f4b-9ffb-13c2-b599-9bc0-5b53-c905-78d0",
       "previous": "edbab54e-473f-11e9-8bae-0242ac130002-24-6e7f-06e3-363a-5736-df9a-650e-6c2f-3f01-a69a-8192"
      },
      {
       "current": "a80840f7-9aae-11ec-b678-0242ac120002-6-ad7e-7c5b-3dc6-4585-83ba-1fb2",
       "next": "8d20f426-d5c2-11e8-a64b-02420aff0006-23-ccbb-8f4b-9ffb-13c2-b599-9bc0-5b53-c905-78d0-f7be",
       "previous": "edbab54e-473f-11e9-8bae-0242ac130002-25-06e3-363a-5736-df9a-650e-6c2f-3f01-a69a-8192-b795"
      },
      {
       "current": "a80840f7-9aae-11ec-b678-0242ac120002-7-ad7e-7c5b-3dc6-4585-83ba-1fb2-1cef",
       "next": "8d20f426-d5c2-11e8-a64b-02420aff0006-24-8f4b-9ffb-13c2-b599-9bc0-5b53-c905-78d0-f7be-cd8d",
       "previous": "edbab54e-473f-11e9-8bae-0242ac130002-26-363a-5736-df9a-650e-6c2f-3f01-a69a-8192-b795-9922"
      },
      {
       "current": "a80840f7-9aae-11ec-b678-0242ac120002-8-ad7e-7c5b-3dc6-4585-83ba-1fb2-1cef-43fd",
       "next": "8d20f426-d5c2-11e8-a64b-02420aff0006-25-9ffb-13c2-b599-9bc0-5b53-c905-78d0-f7be-cd8d-8aaf",
       "previous": "edbab54e-473f-11e9-8bae-0242ac130002-27-5736-df9a-650e-6c2f-3f01-a69a-8192-b795-9922-b548"
      }
     ],
     "next": "8d20f426-d5c2-11e8-a64b-02420aff0006-26-13c2-b599-9bc0-5b53-c905-78d0-f7be-cd8d-8aaf-6dbe",
     "previous": "edbab54e-473f-11e9-8bae-0242ac130002-28-df9a-650e-6c2f-3f01-a69a-8192-b795-9922-b548-bbe0"
    }
   },
   "source": [
    "# 証明書の確認"
   ]
  },
  {
   "cell_type": "code",
   "execution_count": null,
   "id": "5ded2c82",
   "metadata": {
    "lc_cell_meme": {
     "current": "8d20f426-d5c2-11e8-a64b-02420aff0006-26-13c2-b599-9bc0-5b53-c905-78d0-f7be-cd8d-8aaf-6dbe",
     "history": [
      {
       "current": "8d20f426-d5c2-11e8-a64b-02420aff0006-17-e089-885e-83bd-895f-21e2-f46f-ccbb-8f4b-9ffb-13c2",
       "next": "9cc69c6c-1728-11e9-9b3e-02420aff0006-16-716c-212b-e8e6-186c-0267-1f17-78f0-6a32-e82c-7e88",
       "previous": "77ac611e-db32-11e8-a64b-02420aff0006-16-a824-5f36-18ba-0b67-d93a-c14f-befd-b9e6-13e4-c7c7"
      },
      {
       "current": "8d20f426-d5c2-11e8-a64b-02420aff0006-18-885e-83bd-895f-21e2-f46f-ccbb-8f4b-9ffb-13c2-b599",
       "next": "9cc69c6c-1728-11e9-9b3e-02420aff0006-17-212b-e8e6-186c-0267-1f17-78f0-6a32-e82c-7e88-1a93",
       "previous": "77ac611e-db32-11e8-a64b-02420aff0006-17-5f36-18ba-0b67-d93a-c14f-befd-b9e6-13e4-c7c7-8e35"
      },
      {
       "current": "8d20f426-d5c2-11e8-a64b-02420aff0006-19-83bd-895f-21e2-f46f-ccbb-8f4b-9ffb-13c2-b599-9bc0",
       "next": "8987fd6c-b234-11e7-a38f-0242ac120002-18-ab86-1871-83f6-da1f-d004-d2e5-90fd-d9ea-7440-9922",
       "previous": "a80840f7-9aae-11ec-b678-0242ac120002"
      },
      {
       "current": "8d20f426-d5c2-11e8-a64b-02420aff0006-20-895f-21e2-f46f-ccbb-8f4b-9ffb-13c2-b599-9bc0-5b53",
       "next": "8987fd6c-b234-11e7-a38f-0242ac120002-19-1871-83f6-da1f-d004-d2e5-90fd-d9ea-7440-9922-0eb9",
       "previous": "a80840f7-9aae-11ec-b678-0242ac120002-1-ad7e"
      },
      {
       "current": "8d20f426-d5c2-11e8-a64b-02420aff0006-21-21e2-f46f-ccbb-8f4b-9ffb-13c2-b599-9bc0-5b53-c905",
       "next": "8987fd6c-b234-11e7-a38f-0242ac120002-20-83f6-da1f-d004-d2e5-90fd-d9ea-7440-9922-0eb9-12dc",
       "previous": "a80840f7-9aae-11ec-b678-0242ac120002-2-ad7e-7c5b"
      },
      {
       "current": "8d20f426-d5c2-11e8-a64b-02420aff0006-22-f46f-ccbb-8f4b-9ffb-13c2-b599-9bc0-5b53-c905-78d0",
       "next": "8987fd6c-b234-11e7-a38f-0242ac120002-21-da1f-d004-d2e5-90fd-d9ea-7440-9922-0eb9-12dc-e284",
       "previous": "a80840f7-9aae-11ec-b678-0242ac120002-3-ad7e-7c5b-3dc6"
      },
      {
       "current": "8d20f426-d5c2-11e8-a64b-02420aff0006-23-ccbb-8f4b-9ffb-13c2-b599-9bc0-5b53-c905-78d0-f7be",
       "next": "8987fd6c-b234-11e7-a38f-0242ac120002-22-d004-d2e5-90fd-d9ea-7440-9922-0eb9-12dc-e284-9896",
       "previous": "a80840f7-9aae-11ec-b678-0242ac120002-4-ad7e-7c5b-3dc6-4585"
      },
      {
       "current": "8d20f426-d5c2-11e8-a64b-02420aff0006-24-8f4b-9ffb-13c2-b599-9bc0-5b53-c905-78d0-f7be-cd8d",
       "next": "8987fd6c-b234-11e7-a38f-0242ac120002-23-d2e5-90fd-d9ea-7440-9922-0eb9-12dc-e284-9896-dbc3",
       "previous": "a80840f7-9aae-11ec-b678-0242ac120002-5-ad7e-7c5b-3dc6-4585-83ba"
      },
      {
       "current": "8d20f426-d5c2-11e8-a64b-02420aff0006-25-9ffb-13c2-b599-9bc0-5b53-c905-78d0-f7be-cd8d-8aaf",
       "next": "8987fd6c-b234-11e7-a38f-0242ac120002-24-90fd-d9ea-7440-9922-0eb9-12dc-e284-9896-dbc3-0445",
       "previous": "a80840f7-9aae-11ec-b678-0242ac120002-6-ad7e-7c5b-3dc6-4585-83ba-1fb2"
      },
      {
       "current": "8d20f426-d5c2-11e8-a64b-02420aff0006-26-13c2-b599-9bc0-5b53-c905-78d0-f7be-cd8d-8aaf-6dbe",
       "next": "8987fd6c-b234-11e7-a38f-0242ac120002-25-d9ea-7440-9922-0eb9-12dc-e284-9896-dbc3-0445-96c6",
       "previous": "a80840f7-9aae-11ec-b678-0242ac120002-7-ad7e-7c5b-3dc6-4585-83ba-1fb2-1cef"
      }
     ],
     "next": "8987fd6c-b234-11e7-a38f-0242ac120002-26-7440-9922-0eb9-12dc-e284-9896-dbc3-0445-96c6-26fa",
     "previous": "a80840f7-9aae-11ec-b678-0242ac120002-8-ad7e-7c5b-3dc6-4585-83ba-1fb2-1cef-43fd"
    }
   },
   "outputs": [],
   "source": [
    "default_user = !ansible -a whoami {target_hub}\n",
    "default_user = default_user[1]\n",
    "default_user"
   ]
  },
  {
   "cell_type": "code",
   "execution_count": null,
   "id": "5dc1e16e",
   "metadata": {
    "lc_cell_meme": {
     "current": "8987fd6c-b234-11e7-a38f-0242ac120002-26-7440-9922-0eb9-12dc-e284-9896-dbc3-0445-96c6-26fa",
     "history": [
      {
       "current": "8987fd6c-b234-11e7-a38f-0242ac120002-18-ab86-1871-83f6-da1f-d004-d2e5-90fd-d9ea-7440-9922",
       "next": "59974744-db31-11e8-a64b-02420aff0006-18-ad7b-d51c-ed9a-af7e-7bac-8380-3195-5adf-8869-b5b9",
       "previous": "a80840f7-9aae-11ec-b678-0242ac120002"
      },
      {
       "current": "8987fd6c-b234-11e7-a38f-0242ac120002-18-ab86-1871-83f6-da1f-d004-d2e5-90fd-d9ea-7440-9922",
       "next": "006b5804-eea3-11ea-9bfc-02420a01001a-10-b326-2a20-892b-d6fc-6700-29c3-d069-9f33-004b-0224",
       "previous": "8d20f426-d5c2-11e8-a64b-02420aff0006-18-885e-83bd-895f-21e2-f46f-ccbb-8f4b-9ffb-13c2-b599"
      },
      {
       "current": "8987fd6c-b234-11e7-a38f-0242ac120002-19-1871-83f6-da1f-d004-d2e5-90fd-d9ea-7440-9922-0eb9",
       "next": "4c346b1f-a339-11ec-8fe5-0242ac120002",
       "previous": "8d20f426-d5c2-11e8-a64b-02420aff0006-18-885e-83bd-895f-21e2-f46f-ccbb-8f4b-9ffb-13c2-b599"
      },
      {
       "current": "8987fd6c-b234-11e7-a38f-0242ac120002-20-83f6-da1f-d004-d2e5-90fd-d9ea-7440-9922-0eb9-12dc",
       "next": "4c346b1f-a339-11ec-8fe5-0242ac120002-1-ce5d",
       "previous": "8d20f426-d5c2-11e8-a64b-02420aff0006-19-83bd-895f-21e2-f46f-ccbb-8f4b-9ffb-13c2-b599-9bc0"
      },
      {
       "current": "8987fd6c-b234-11e7-a38f-0242ac120002-21-da1f-d004-d2e5-90fd-d9ea-7440-9922-0eb9-12dc-e284",
       "next": "4c346b1f-a339-11ec-8fe5-0242ac120002-2-ce5d-3741",
       "previous": "8d20f426-d5c2-11e8-a64b-02420aff0006-20-895f-21e2-f46f-ccbb-8f4b-9ffb-13c2-b599-9bc0-5b53"
      },
      {
       "current": "8987fd6c-b234-11e7-a38f-0242ac120002-22-d004-d2e5-90fd-d9ea-7440-9922-0eb9-12dc-e284-9896",
       "next": "4c346b1f-a339-11ec-8fe5-0242ac120002-3-ce5d-3741-0caf",
       "previous": "8d20f426-d5c2-11e8-a64b-02420aff0006-21-21e2-f46f-ccbb-8f4b-9ffb-13c2-b599-9bc0-5b53-c905"
      },
      {
       "current": "8987fd6c-b234-11e7-a38f-0242ac120002-23-d2e5-90fd-d9ea-7440-9922-0eb9-12dc-e284-9896-dbc3",
       "next": "4c346b1f-a339-11ec-8fe5-0242ac120002-4-ce5d-3741-0caf-0777",
       "previous": "8d20f426-d5c2-11e8-a64b-02420aff0006-22-f46f-ccbb-8f4b-9ffb-13c2-b599-9bc0-5b53-c905-78d0"
      },
      {
       "current": "8987fd6c-b234-11e7-a38f-0242ac120002-24-90fd-d9ea-7440-9922-0eb9-12dc-e284-9896-dbc3-0445",
       "next": "4c346b1f-a339-11ec-8fe5-0242ac120002-5-ce5d-3741-0caf-0777-9b24",
       "previous": "8d20f426-d5c2-11e8-a64b-02420aff0006-23-ccbb-8f4b-9ffb-13c2-b599-9bc0-5b53-c905-78d0-f7be"
      },
      {
       "current": "8987fd6c-b234-11e7-a38f-0242ac120002-25-d9ea-7440-9922-0eb9-12dc-e284-9896-dbc3-0445-96c6",
       "next": "4c346b1f-a339-11ec-8fe5-0242ac120002-6-ce5d-3741-0caf-0777-9b24-2801",
       "previous": "8d20f426-d5c2-11e8-a64b-02420aff0006-24-8f4b-9ffb-13c2-b599-9bc0-5b53-c905-78d0-f7be-cd8d"
      },
      {
       "current": "8987fd6c-b234-11e7-a38f-0242ac120002-26-7440-9922-0eb9-12dc-e284-9896-dbc3-0445-96c6-26fa",
       "next": "4c346b1f-a339-11ec-8fe5-0242ac120002-7-ce5d-3741-0caf-0777-9b24-2801-01e3",
       "previous": "8d20f426-d5c2-11e8-a64b-02420aff0006-25-9ffb-13c2-b599-9bc0-5b53-c905-78d0-f7be-cd8d-8aaf"
      }
     ],
     "next": "4c346b1f-a339-11ec-8fe5-0242ac120002-8-ce5d-3741-0caf-0777-9b24-2801-01e3-d7d2",
     "previous": "8d20f426-d5c2-11e8-a64b-02420aff0006-26-13c2-b599-9bc0-5b53-c905-78d0-f7be-cd8d-8aaf-6dbe"
    }
   },
   "outputs": [],
   "source": [
    "certreq_path = '/home/' + default_user + '/certs'"
   ]
  },
  {
   "cell_type": "code",
   "execution_count": null,
   "id": "4702acc5",
   "metadata": {
    "lc_cell_meme": {
     "current": "4c346b1f-a339-11ec-8fe5-0242ac120002-8-ce5d-3741-0caf-0777-9b24-2801-01e3-d7d2",
     "history": [
      {
       "current": "4c346b1f-a339-11ec-8fe5-0242ac120002-1-ce5d",
       "next": "006b5804-eea3-11ea-9bfc-02420a01001a-10-b326-2a20-892b-d6fc-6700-29c3-d069-9f33-004b-0224",
       "previous": "8987fd6c-b234-11e7-a38f-0242ac120002-18-ab86-1871-83f6-da1f-d004-d2e5-90fd-d9ea-7440-9922"
      },
      {
       "current": "4c346b1f-a339-11ec-8fe5-0242ac120002-2-ce5d-3741",
       "next": "006b5804-eea3-11ea-9bfc-02420a01001a-11-2a20-892b-d6fc-6700-29c3-d069-9f33-004b-0224-0fad",
       "previous": "8987fd6c-b234-11e7-a38f-0242ac120002-19-1871-83f6-da1f-d004-d2e5-90fd-d9ea-7440-9922-0eb9"
      },
      {
       "current": "4c346b1f-a339-11ec-8fe5-0242ac120002-3-ce5d-3741-0caf",
       "next": "006b5804-eea3-11ea-9bfc-02420a01001a-12-892b-d6fc-6700-29c3-d069-9f33-004b-0224-0fad-3a22",
       "previous": "8987fd6c-b234-11e7-a38f-0242ac120002-20-83f6-da1f-d004-d2e5-90fd-d9ea-7440-9922-0eb9-12dc"
      },
      {
       "current": "4c346b1f-a339-11ec-8fe5-0242ac120002-4-ce5d-3741-0caf-0777",
       "next": "006b5804-eea3-11ea-9bfc-02420a01001a-13-d6fc-6700-29c3-d069-9f33-004b-0224-0fad-3a22-844a",
       "previous": "8987fd6c-b234-11e7-a38f-0242ac120002-21-da1f-d004-d2e5-90fd-d9ea-7440-9922-0eb9-12dc-e284"
      },
      {
       "current": "4c346b1f-a339-11ec-8fe5-0242ac120002-5-ce5d-3741-0caf-0777-9b24",
       "next": "006b5804-eea3-11ea-9bfc-02420a01001a-14-6700-29c3-d069-9f33-004b-0224-0fad-3a22-844a-02ea",
       "previous": "8987fd6c-b234-11e7-a38f-0242ac120002-22-d004-d2e5-90fd-d9ea-7440-9922-0eb9-12dc-e284-9896"
      },
      {
       "current": "4c346b1f-a339-11ec-8fe5-0242ac120002-6-ce5d-3741-0caf-0777-9b24-2801",
       "next": "006b5804-eea3-11ea-9bfc-02420a01001a-15-29c3-d069-9f33-004b-0224-0fad-3a22-844a-02ea-e3b8",
       "previous": "8987fd6c-b234-11e7-a38f-0242ac120002-23-d2e5-90fd-d9ea-7440-9922-0eb9-12dc-e284-9896-dbc3"
      },
      {
       "current": "4c346b1f-a339-11ec-8fe5-0242ac120002-7-ce5d-3741-0caf-0777-9b24-2801-01e3",
       "next": "006b5804-eea3-11ea-9bfc-02420a01001a-16-d069-9f33-004b-0224-0fad-3a22-844a-02ea-e3b8-df43",
       "previous": "8987fd6c-b234-11e7-a38f-0242ac120002-24-90fd-d9ea-7440-9922-0eb9-12dc-e284-9896-dbc3-0445"
      },
      {
       "current": "4c346b1f-a339-11ec-8fe5-0242ac120002-8-ce5d-3741-0caf-0777-9b24-2801-01e3-d7d2",
       "next": "006b5804-eea3-11ea-9bfc-02420a01001a-17-9f33-004b-0224-0fad-3a22-844a-02ea-e3b8-df43-3144",
       "previous": "8987fd6c-b234-11e7-a38f-0242ac120002-25-d9ea-7440-9922-0eb9-12dc-e284-9896-dbc3-0445-96c6"
      }
     ],
     "next": "006b5804-eea3-11ea-9bfc-02420a01001a-18-004b-0224-0fad-3a22-844a-02ea-e3b8-df43-3144-8025",
     "previous": "8987fd6c-b234-11e7-a38f-0242ac120002-26-7440-9922-0eb9-12dc-e284-9896-dbc3-0445-96c6-26fa"
    }
   },
   "outputs": [],
   "source": [
    "import os.path"
   ]
  },
  {
   "cell_type": "code",
   "execution_count": null,
   "id": "0d4f4079",
   "metadata": {
    "lc_cell_meme": {
     "current": "006b5804-eea3-11ea-9bfc-02420a01001a-18-004b-0224-0fad-3a22-844a-02ea-e3b8-df43-3144-8025",
     "history": [
      {
       "current": "006b5804-eea3-11ea-9bfc-02420a01001a-10-b326-2a20-892b-d6fc-6700-29c3-d069-9f33-004b-0224",
       "next": "7676c623-92e9-11ec-8a2c-6b42dc3e1973-2-d057-b2fc",
       "previous": "8987fd6c-b234-11e7-a38f-0242ac120002-18-ab86-1871-83f6-da1f-d004-d2e5-90fd-d9ea-7440-9922"
      },
      {
       "current": "006b5804-eea3-11ea-9bfc-02420a01001a-11-2a20-892b-d6fc-6700-29c3-d069-9f33-004b-0224-0fad",
       "next": "7676c623-92e9-11ec-8a2c-6b42dc3e1973-2-d057-b2fc",
       "previous": "4c346b1f-a339-11ec-8fe5-0242ac120002"
      },
      {
       "current": "006b5804-eea3-11ea-9bfc-02420a01001a-11-2a20-892b-d6fc-6700-29c3-d069-9f33-004b-0224-0fad",
       "next": "7676c623-92e9-11ec-8a2c-6b42dc3e1973-3-d057-b2fc-3e48",
       "previous": "4c346b1f-a339-11ec-8fe5-0242ac120002-1-ce5d"
      },
      {
       "current": "006b5804-eea3-11ea-9bfc-02420a01001a-12-892b-d6fc-6700-29c3-d069-9f33-004b-0224-0fad-3a22",
       "next": "7676c623-92e9-11ec-8a2c-6b42dc3e1973-3-d057-4590-d1c5",
       "previous": "4c346b1f-a339-11ec-8fe5-0242ac120002-1-ce5d"
      },
      {
       "current": "006b5804-eea3-11ea-9bfc-02420a01001a-13-d6fc-6700-29c3-d069-9f33-004b-0224-0fad-3a22-844a",
       "next": "7676c623-92e9-11ec-8a2c-6b42dc3e1973-4-d057-4590-d1c5-9d48",
       "previous": "4c346b1f-a339-11ec-8fe5-0242ac120002-2-ce5d-3741"
      },
      {
       "current": "006b5804-eea3-11ea-9bfc-02420a01001a-14-6700-29c3-d069-9f33-004b-0224-0fad-3a22-844a-02ea",
       "next": "7676c623-92e9-11ec-8a2c-6b42dc3e1973-5-d057-4590-d1c5-9d48-ef9f",
       "previous": "4c346b1f-a339-11ec-8fe5-0242ac120002-3-ce5d-3741-0caf"
      },
      {
       "current": "006b5804-eea3-11ea-9bfc-02420a01001a-15-29c3-d069-9f33-004b-0224-0fad-3a22-844a-02ea-e3b8",
       "next": "7676c623-92e9-11ec-8a2c-6b42dc3e1973-6-d057-4590-d1c5-9d48-ef9f-c003",
       "previous": "4c346b1f-a339-11ec-8fe5-0242ac120002-4-ce5d-3741-0caf-0777"
      },
      {
       "current": "006b5804-eea3-11ea-9bfc-02420a01001a-16-d069-9f33-004b-0224-0fad-3a22-844a-02ea-e3b8-df43",
       "next": "7676c623-92e9-11ec-8a2c-6b42dc3e1973-7-d057-4590-d1c5-9d48-ef9f-c003-d72f",
       "previous": "4c346b1f-a339-11ec-8fe5-0242ac120002-5-ce5d-3741-0caf-0777-9b24"
      },
      {
       "current": "006b5804-eea3-11ea-9bfc-02420a01001a-17-9f33-004b-0224-0fad-3a22-844a-02ea-e3b8-df43-3144",
       "next": "7676c623-92e9-11ec-8a2c-6b42dc3e1973-8-d057-4590-d1c5-9d48-ef9f-c003-d72f-99d4",
       "previous": "4c346b1f-a339-11ec-8fe5-0242ac120002-6-ce5d-3741-0caf-0777-9b24-2801"
      },
      {
       "current": "006b5804-eea3-11ea-9bfc-02420a01001a-18-004b-0224-0fad-3a22-844a-02ea-e3b8-df43-3144-8025",
       "next": "7676c623-92e9-11ec-8a2c-6b42dc3e1973-9-d057-4590-d1c5-9d48-ef9f-c003-d72f-99d4-95f2",
       "previous": "4c346b1f-a339-11ec-8fe5-0242ac120002-7-ce5d-3741-0caf-0777-9b24-2801-01e3"
      }
     ],
     "next": "7676c623-92e9-11ec-8a2c-6b42dc3e1973-10-d057-4590-d1c5-9d48-ef9f-c003-d72f-99d4-95f2-2499",
     "previous": "4c346b1f-a339-11ec-8fe5-0242ac120002-8-ce5d-3741-0caf-0777-9b24-2801-01e3-d7d2"
    }
   },
   "outputs": [],
   "source": [
    "print('Certificate:')\n",
    "print(os.path.join(certreq_path, master_fqdn + \".cer\"))\n",
    "print('Private Key:')\n",
    "print(os.path.join(certreq_path, master_fqdn + \".key\"))"
   ]
  },
  {
   "cell_type": "code",
   "execution_count": null,
   "id": "a798059a",
   "metadata": {
    "lc_cell_meme": {
     "current": "7676c623-92e9-11ec-8a2c-6b42dc3e1973-10-d057-4590-d1c5-9d48-ef9f-c003-d72f-99d4-95f2-2499",
     "history": [
      {
       "current": "7676c623-92e9-11ec-8a2c-6b42dc3e1973-2-d057-4590",
       "next": "7ac6648c-f66d-11ea-9bfc-02420a01001a-9-4bde-ff29-f29f-f52b-efb8-9352-a910-7aa1-ec21",
       "previous": "7676c29e-92e9-11ec-8998-6b42dc3e1973-1-2e63"
      },
      {
       "current": "7676c623-92e9-11ec-8a2c-6b42dc3e1973-2-d057-4590",
       "next": "7ac6648c-f66d-11ea-9bfc-02420a01001a-10-4bde-ff29-f29f-f52b-efb8-9352-a910-7aa1-ec21-d9d7",
       "previous": "7676c29e-92e9-11ec-8998-6b42dc3e1973-2-2e63-af78"
      },
      {
       "current": "7676c623-92e9-11ec-8a2c-6b42dc3e1973-3-d057-4590-d1c5",
       "next": "fb7d35b2-c081-11ec-8fb6-0242ac120004",
       "previous": "7676c29e-92e9-11ec-8998-6b42dc3e1973-2-2e63-af78"
      },
      {
       "current": "7676c623-92e9-11ec-8a2c-6b42dc3e1973-4-d057-4590-d1c5-9d48",
       "next": "fb7d35b2-c081-11ec-8fb6-0242ac120004-1-4117",
       "previous": "006b5804-eea3-11ea-9bfc-02420a01001a-11-2a20-892b-d6fc-6700-29c3-d069-9f33-004b-0224-0fad"
      },
      {
       "current": "7676c623-92e9-11ec-8a2c-6b42dc3e1973-5-d057-4590-d1c5-9d48-ef9f",
       "next": "fb7d35b2-c081-11ec-8fb6-0242ac120004-2-4117-8cd7",
       "previous": "006b5804-eea3-11ea-9bfc-02420a01001a-12-892b-d6fc-6700-29c3-d069-9f33-004b-0224-0fad-3a22"
      },
      {
       "current": "7676c623-92e9-11ec-8a2c-6b42dc3e1973-6-d057-4590-d1c5-9d48-ef9f-c003",
       "next": "fb7d35b2-c081-11ec-8fb6-0242ac120004-3-4117-8cd7-b638",
       "previous": "006b5804-eea3-11ea-9bfc-02420a01001a-13-d6fc-6700-29c3-d069-9f33-004b-0224-0fad-3a22-844a"
      },
      {
       "current": "7676c623-92e9-11ec-8a2c-6b42dc3e1973-7-d057-4590-d1c5-9d48-ef9f-c003-d72f",
       "next": "fb7d35b2-c081-11ec-8fb6-0242ac120004-4-4117-8cd7-b638-f645",
       "previous": "006b5804-eea3-11ea-9bfc-02420a01001a-14-6700-29c3-d069-9f33-004b-0224-0fad-3a22-844a-02ea"
      },
      {
       "current": "7676c623-92e9-11ec-8a2c-6b42dc3e1973-8-d057-4590-d1c5-9d48-ef9f-c003-d72f-99d4",
       "next": "fb7d35b2-c081-11ec-8fb6-0242ac120004-5-4117-8cd7-b638-f645-1a35",
       "previous": "006b5804-eea3-11ea-9bfc-02420a01001a-15-29c3-d069-9f33-004b-0224-0fad-3a22-844a-02ea-e3b8"
      },
      {
       "current": "7676c623-92e9-11ec-8a2c-6b42dc3e1973-9-d057-4590-d1c5-9d48-ef9f-c003-d72f-99d4-95f2",
       "next": "fb7d35b2-c081-11ec-8fb6-0242ac120004-6-4117-8cd7-b638-f645-1a35-9a2f",
       "previous": "006b5804-eea3-11ea-9bfc-02420a01001a-16-d069-9f33-004b-0224-0fad-3a22-844a-02ea-e3b8-df43"
      },
      {
       "current": "7676c623-92e9-11ec-8a2c-6b42dc3e1973-10-d057-4590-d1c5-9d48-ef9f-c003-d72f-99d4-95f2-2499",
       "next": "fb7d35b2-c081-11ec-8fb6-0242ac120004-7-4117-8cd7-b638-f645-1a35-9a2f-5c1a",
       "previous": "006b5804-eea3-11ea-9bfc-02420a01001a-17-9f33-004b-0224-0fad-3a22-844a-02ea-e3b8-df43-3144"
      }
     ],
     "next": "fb7d35b2-c081-11ec-8fb6-0242ac120004-8-4117-8cd7-b638-f645-1a35-9a2f-5c1a-65b6",
     "previous": "006b5804-eea3-11ea-9bfc-02420a01001a-18-004b-0224-0fad-3a22-844a-02ea-e3b8-df43-3144-8025"
    }
   },
   "outputs": [],
   "source": [
    "intermediate_certfile = \"nii-odca4g7rsa.cer\""
   ]
  },
  {
   "cell_type": "code",
   "execution_count": null,
   "id": "1a6430b7",
   "metadata": {
    "lc_cell_meme": {
     "current": "fb7d35b2-c081-11ec-8fb6-0242ac120004-8-4117-8cd7-b638-f645-1a35-9a2f-5c1a-65b6",
     "history": [
      {
       "current": "fb7d35b2-c081-11ec-8fb6-0242ac120004-1-4117",
       "next": "7ac6648c-f66d-11ea-9bfc-02420a01001a-10-4bde-ff29-f29f-f52b-efb8-9352-a910-7aa1-ec21-d9d7",
       "previous": "7676c623-92e9-11ec-8a2c-6b42dc3e1973-2-d057-4590"
      },
      {
       "current": "fb7d35b2-c081-11ec-8fb6-0242ac120004-2-4117-8cd7",
       "next": "3efd7ef8-b242-11e7-a38f-0242ac120002-19-3d4e-a06e-015a-1075-834c-e1e4-0d2b-6a69-de49-a882",
       "previous": "7676c623-92e9-11ec-8a2c-6b42dc3e1973-3-d057-4590-d1c5"
      },
      {
       "current": "fb7d35b2-c081-11ec-8fb6-0242ac120004-3-4117-8cd7-b638",
       "next": "3efd7ef8-b242-11e7-a38f-0242ac120002-20-a06e-015a-1075-834c-e1e4-0d2b-6a69-de49-a882-d529",
       "previous": "7676c623-92e9-11ec-8a2c-6b42dc3e1973-4-d057-4590-d1c5-9d48"
      },
      {
       "current": "fb7d35b2-c081-11ec-8fb6-0242ac120004-4-4117-8cd7-b638-f645",
       "next": "3efd7ef8-b242-11e7-a38f-0242ac120002-21-015a-1075-834c-e1e4-0d2b-6a69-de49-a882-d529-16ab",
       "previous": "7676c623-92e9-11ec-8a2c-6b42dc3e1973-5-d057-4590-d1c5-9d48-ef9f"
      },
      {
       "current": "fb7d35b2-c081-11ec-8fb6-0242ac120004-5-4117-8cd7-b638-f645-1a35",
       "next": "3efd7ef8-b242-11e7-a38f-0242ac120002-22-1075-834c-e1e4-0d2b-6a69-de49-a882-d529-16ab-4254",
       "previous": "7676c623-92e9-11ec-8a2c-6b42dc3e1973-6-d057-4590-d1c5-9d48-ef9f-c003"
      },
      {
       "current": "fb7d35b2-c081-11ec-8fb6-0242ac120004-6-4117-8cd7-b638-f645-1a35-9a2f",
       "next": "3efd7ef8-b242-11e7-a38f-0242ac120002-23-834c-e1e4-0d2b-6a69-de49-a882-d529-16ab-4254-91fa",
       "previous": "7676c623-92e9-11ec-8a2c-6b42dc3e1973-7-d057-4590-d1c5-9d48-ef9f-c003-d72f"
      },
      {
       "current": "fb7d35b2-c081-11ec-8fb6-0242ac120004-7-4117-8cd7-b638-f645-1a35-9a2f-5c1a",
       "next": "3efd7ef8-b242-11e7-a38f-0242ac120002-24-e1e4-0d2b-6a69-de49-a882-d529-16ab-4254-91fa-f6f3",
       "previous": "7676c623-92e9-11ec-8a2c-6b42dc3e1973-8-d057-4590-d1c5-9d48-ef9f-c003-d72f-99d4"
      },
      {
       "current": "fb7d35b2-c081-11ec-8fb6-0242ac120004-8-4117-8cd7-b638-f645-1a35-9a2f-5c1a-65b6",
       "next": "3efd7ef8-b242-11e7-a38f-0242ac120002-25-0d2b-6a69-de49-a882-d529-16ab-4254-91fa-f6f3-6258",
       "previous": "7676c623-92e9-11ec-8a2c-6b42dc3e1973-9-d057-4590-d1c5-9d48-ef9f-c003-d72f-99d4-95f2"
      }
     ],
     "next": "3efd7ef8-b242-11e7-a38f-0242ac120002-26-6a69-de49-a882-d529-16ab-4254-91fa-f6f3-6258-f295",
     "previous": "7676c623-92e9-11ec-8a2c-6b42dc3e1973-10-d057-4590-d1c5-9d48-ef9f-c003-d72f-99d4-95f2-2499"
    }
   },
   "outputs": [],
   "source": [
    "if intermediate_certfile:\n",
    "    print(os.path.join(certreq_path, intermediate_certfile))"
   ]
  },
  {
   "cell_type": "code",
   "execution_count": null,
   "id": "48534b38",
   "metadata": {
    "lc_cell_meme": {
     "current": "3efd7ef8-b242-11e7-a38f-0242ac120002-26-6a69-de49-a882-d529-16ab-4254-91fa-f6f3-6258-f295",
     "history": [
      {
       "current": "3efd7ef8-b242-11e7-a38f-0242ac120002-18-cbea-3d4e-a06e-015a-1075-834c-e1e4-0d2b-6a69-de49",
       "next": "b3bf944e-0846-11eb-8784-0242ac120002-8-99c8-597b-4976-6a2d-5787-32ba-a23d-81b2",
       "previous": "2c5eae4a-d5fd-11e8-a64b-02420aff0006-18-f73e-843b-c7f2-401e-a274-2062-4fc3-2738-5955-084c"
      },
      {
       "current": "3efd7ef8-b242-11e7-a38f-0242ac120002-19-3d4e-a06e-015a-1075-834c-e1e4-0d2b-6a69-de49-a882",
       "next": "b3bf944e-0846-11eb-8784-0242ac120002-8-99c8-597b-4976-6a2d-5787-32ba-a23d-81b2",
       "previous": "7676c623-92e9-11ec-8a2c-6b42dc3e1973-2-d057-b2fc"
      },
      {
       "current": "3efd7ef8-b242-11e7-a38f-0242ac120002-19-3d4e-a06e-015a-1075-834c-e1e4-0d2b-6a69-de49-a882",
       "next": "b3bf944e-0846-11eb-8784-0242ac120002-9-99c8-597b-4976-6a2d-5787-32ba-a23d-81b2-c122",
       "previous": "7676c623-92e9-11ec-8a2c-6b42dc3e1973-3-d057-b2fc-3e48"
      },
      {
       "current": "3efd7ef8-b242-11e7-a38f-0242ac120002-20-a06e-015a-1075-834c-e1e4-0d2b-6a69-de49-a882-d529",
       "next": "b3bf944e-0846-11eb-8784-0242ac120002-9-99c8-597b-4976-6a2d-5787-32ba-a23d-81b2-c122",
       "previous": "fb7d35b2-c081-11ec-8fb6-0242ac120004-1-4117"
      },
      {
       "current": "3efd7ef8-b242-11e7-a38f-0242ac120002-21-015a-1075-834c-e1e4-0d2b-6a69-de49-a882-d529-16ab",
       "next": "b3bf944e-0846-11eb-8784-0242ac120002-10-99c8-597b-4976-6a2d-5787-32ba-a23d-81b2-c122-21f5",
       "previous": "fb7d35b2-c081-11ec-8fb6-0242ac120004-2-4117-8cd7"
      },
      {
       "current": "3efd7ef8-b242-11e7-a38f-0242ac120002-22-1075-834c-e1e4-0d2b-6a69-de49-a882-d529-16ab-4254",
       "next": "b3bf944e-0846-11eb-8784-0242ac120002-11-597b-4976-6a2d-5787-32ba-a23d-81b2-c122-21f5-64b9",
       "previous": "fb7d35b2-c081-11ec-8fb6-0242ac120004-3-4117-8cd7-b638"
      },
      {
       "current": "3efd7ef8-b242-11e7-a38f-0242ac120002-23-834c-e1e4-0d2b-6a69-de49-a882-d529-16ab-4254-91fa",
       "next": "b3bf944e-0846-11eb-8784-0242ac120002-12-4976-6a2d-5787-32ba-a23d-81b2-c122-21f5-64b9-ace9",
       "previous": "fb7d35b2-c081-11ec-8fb6-0242ac120004-4-4117-8cd7-b638-f645"
      },
      {
       "current": "3efd7ef8-b242-11e7-a38f-0242ac120002-24-e1e4-0d2b-6a69-de49-a882-d529-16ab-4254-91fa-f6f3",
       "next": "b3bf944e-0846-11eb-8784-0242ac120002-13-6a2d-5787-32ba-a23d-81b2-c122-21f5-64b9-ace9-646f",
       "previous": "fb7d35b2-c081-11ec-8fb6-0242ac120004-5-4117-8cd7-b638-f645-1a35"
      },
      {
       "current": "3efd7ef8-b242-11e7-a38f-0242ac120002-25-0d2b-6a69-de49-a882-d529-16ab-4254-91fa-f6f3-6258",
       "next": "b3bf944e-0846-11eb-8784-0242ac120002-14-5787-32ba-a23d-81b2-c122-21f5-64b9-ace9-646f-658d",
       "previous": "fb7d35b2-c081-11ec-8fb6-0242ac120004-6-4117-8cd7-b638-f645-1a35-9a2f"
      },
      {
       "current": "3efd7ef8-b242-11e7-a38f-0242ac120002-26-6a69-de49-a882-d529-16ab-4254-91fa-f6f3-6258-f295",
       "next": "b3bf944e-0846-11eb-8784-0242ac120002-15-32ba-a23d-81b2-c122-21f5-64b9-ace9-646f-658d-b332",
       "previous": "fb7d35b2-c081-11ec-8fb6-0242ac120004-7-4117-8cd7-b638-f645-1a35-9a2f-5c1a"
      }
     ],
     "next": "b3bf944e-0846-11eb-8784-0242ac120002-16-a23d-81b2-c122-21f5-64b9-ace9-646f-658d-b332-c7ec",
     "previous": "fb7d35b2-c081-11ec-8fb6-0242ac120004-8-4117-8cd7-b638-f645-1a35-9a2f-5c1a-65b6"
    }
   },
   "outputs": [],
   "source": [
    "!ansible -a 'ls -la {os.path.join(certreq_path, master_fqdn + \".key\")}' {target_hub} -l {target_group}\n",
    "!ansible -a 'ls -la {os.path.join(certreq_path, master_fqdn + \".cer\")}' {target_hub} -l {target_group}\n",
    "if intermediate_certfile:\n",
    "    !ansible -a 'ls -la {os.path.join(certreq_path, intermediate_certfile)}' {target_hub} -l {target_group}"
   ]
  },
  {
   "cell_type": "markdown",
   "id": "2a8cf30a",
   "metadata": {
    "lc_cell_meme": {
     "current": "b3bf944e-0846-11eb-8784-0242ac120002-16-a23d-81b2-c122-21f5-64b9-ace9-646f-658d-b332-c7ec",
     "history": [
      {
       "current": "b3bf944e-0846-11eb-8784-0242ac120002-7-99c8-597b-4976-6a2d-5787-32ba-a23d",
       "next": "92dca988-07c4-11eb-b553-0242ac120002-6-53d2-63fc-58f7-e04a-c54b-b407",
       "previous": "3efd7ef8-b242-11e7-a38f-0242ac120002-16-1652-9f5e-cbea-3d4e-a06e-015a-1075-834c-e1e4-0d2b"
      },
      {
       "current": "b3bf944e-0846-11eb-8784-0242ac120002-8-99c8-597b-4976-6a2d-5787-32ba-a23d-81b2",
       "next": "92dca988-07c4-11eb-b553-0242ac120002-7-53d2-63fc-58f7-e04a-c54b-b407-f7f5",
       "previous": "3efd7ef8-b242-11e7-a38f-0242ac120002-17-9f5e-cbea-3d4e-a06e-015a-1075-834c-e1e4-0d2b-6a69"
      },
      {
       "current": "b3bf944e-0846-11eb-8784-0242ac120002-9-99c8-597b-4976-6a2d-5787-32ba-a23d-81b2-c122",
       "next": "92dca988-07c4-11eb-b553-0242ac120002-8-53d2-63fc-58f7-e04a-c54b-b407-f7f5-ec77",
       "previous": "3efd7ef8-b242-11e7-a38f-0242ac120002-18-cbea-3d4e-a06e-015a-1075-834c-e1e4-0d2b-6a69-de49"
      },
      {
       "current": "b3bf944e-0846-11eb-8784-0242ac120002-10-99c8-597b-4976-6a2d-5787-32ba-a23d-81b2-c122-21f5",
       "next": "92dca988-07c4-11eb-b553-0242ac120002-9-53d2-63fc-58f7-e04a-c54b-b407-f7f5-ec77-3bce",
       "previous": "3efd7ef8-b242-11e7-a38f-0242ac120002-19-3d4e-a06e-015a-1075-834c-e1e4-0d2b-6a69-de49-a882"
      },
      {
       "current": "b3bf944e-0846-11eb-8784-0242ac120002-11-597b-4976-6a2d-5787-32ba-a23d-81b2-c122-21f5-64b9",
       "next": "92dca988-07c4-11eb-b553-0242ac120002-10-53d2-63fc-58f7-e04a-c54b-b407-f7f5-ec77-3bce-fc2a",
       "previous": "3efd7ef8-b242-11e7-a38f-0242ac120002-20-a06e-015a-1075-834c-e1e4-0d2b-6a69-de49-a882-d529"
      },
      {
       "current": "b3bf944e-0846-11eb-8784-0242ac120002-12-4976-6a2d-5787-32ba-a23d-81b2-c122-21f5-64b9-ace9",
       "next": "92dca988-07c4-11eb-b553-0242ac120002-11-63fc-58f7-e04a-c54b-b407-f7f5-ec77-3bce-fc2a-ea5b",
       "previous": "3efd7ef8-b242-11e7-a38f-0242ac120002-21-015a-1075-834c-e1e4-0d2b-6a69-de49-a882-d529-16ab"
      },
      {
       "current": "b3bf944e-0846-11eb-8784-0242ac120002-13-6a2d-5787-32ba-a23d-81b2-c122-21f5-64b9-ace9-646f",
       "next": "92dca988-07c4-11eb-b553-0242ac120002-12-58f7-e04a-c54b-b407-f7f5-ec77-3bce-fc2a-ea5b-b2e4",
       "previous": "3efd7ef8-b242-11e7-a38f-0242ac120002-22-1075-834c-e1e4-0d2b-6a69-de49-a882-d529-16ab-4254"
      },
      {
       "current": "b3bf944e-0846-11eb-8784-0242ac120002-14-5787-32ba-a23d-81b2-c122-21f5-64b9-ace9-646f-658d",
       "next": "92dca988-07c4-11eb-b553-0242ac120002-13-e04a-c54b-b407-f7f5-ec77-3bce-fc2a-ea5b-b2e4-107c",
       "previous": "3efd7ef8-b242-11e7-a38f-0242ac120002-23-834c-e1e4-0d2b-6a69-de49-a882-d529-16ab-4254-91fa"
      },
      {
       "current": "b3bf944e-0846-11eb-8784-0242ac120002-15-32ba-a23d-81b2-c122-21f5-64b9-ace9-646f-658d-b332",
       "next": "92dca988-07c4-11eb-b553-0242ac120002-14-c54b-b407-f7f5-ec77-3bce-fc2a-ea5b-b2e4-107c-2e82",
       "previous": "3efd7ef8-b242-11e7-a38f-0242ac120002-24-e1e4-0d2b-6a69-de49-a882-d529-16ab-4254-91fa-f6f3"
      },
      {
       "current": "b3bf944e-0846-11eb-8784-0242ac120002-16-a23d-81b2-c122-21f5-64b9-ace9-646f-658d-b332-c7ec",
       "next": "92dca988-07c4-11eb-b553-0242ac120002-15-b407-f7f5-ec77-3bce-fc2a-ea5b-b2e4-107c-2e82-f660",
       "previous": "3efd7ef8-b242-11e7-a38f-0242ac120002-25-0d2b-6a69-de49-a882-d529-16ab-4254-91fa-f6f3-6258"
      }
     ],
     "next": "92dca988-07c4-11eb-b553-0242ac120002-16-f7f5-ec77-3bce-fc2a-ea5b-b2e4-107c-2e82-f660-bbd9",
     "previous": "3efd7ef8-b242-11e7-a38f-0242ac120002-26-6a69-de49-a882-d529-16ab-4254-91fa-f6f3-6258-f295"
    }
   },
   "source": [
    "証明書と秘密鍵を確認する。\n",
    "\n",
    "証明書の内容と、両者に含まれる公開鍵のfingerprintを確認する。\n",
    "\n",
    "> 実行が完了しない場合は、パスフレーズが設定されている可能性がある"
   ]
  },
  {
   "cell_type": "code",
   "execution_count": null,
   "id": "d6d3610d",
   "metadata": {
    "lc_cell_meme": {
     "current": "92dca988-07c4-11eb-b553-0242ac120002-16-f7f5-ec77-3bce-fc2a-ea5b-b2e4-107c-2e82-f660-bbd9",
     "history": [
      {
       "current": "92dca988-07c4-11eb-b553-0242ac120002-7-53d2-63fc-58f7-e04a-c54b-b407-f7f5",
       "next": "2d70ef4c-07c3-11eb-b553-0242ac120002-6-7bb2-cbe8-9f91-74f7-ff39-3cca",
       "previous": "b3bf944e-0846-11eb-8784-0242ac120002-6-99c8-597b-4976-6a2d-5787-32ba"
      },
      {
       "current": "92dca988-07c4-11eb-b553-0242ac120002-8-53d2-63fc-58f7-e04a-c54b-b407-f7f5-ec77",
       "next": "2d70ef4c-07c3-11eb-b553-0242ac120002-7-7bb2-cbe8-9f91-74f7-ff39-3cca-06f8",
       "previous": "b3bf944e-0846-11eb-8784-0242ac120002-7-99c8-597b-4976-6a2d-5787-32ba-a23d"
      },
      {
       "current": "92dca988-07c4-11eb-b553-0242ac120002-9-53d2-63fc-58f7-e04a-c54b-b407-f7f5-ec77-3bce",
       "next": "2d70ef4c-07c3-11eb-b553-0242ac120002-8-7bb2-cbe8-9f91-74f7-ff39-3cca-06f8-f82b",
       "previous": "b3bf944e-0846-11eb-8784-0242ac120002-8-99c8-597b-4976-6a2d-5787-32ba-a23d-81b2"
      },
      {
       "current": "92dca988-07c4-11eb-b553-0242ac120002-10-53d2-63fc-58f7-e04a-c54b-b407-f7f5-ec77-3bce-fc2a",
       "next": "2d70ef4c-07c3-11eb-b553-0242ac120002-9-7bb2-cbe8-9f91-74f7-ff39-3cca-06f8-f82b-1b45",
       "previous": "b3bf944e-0846-11eb-8784-0242ac120002-9-99c8-597b-4976-6a2d-5787-32ba-a23d-81b2-c122"
      },
      {
       "current": "92dca988-07c4-11eb-b553-0242ac120002-11-63fc-58f7-e04a-c54b-b407-f7f5-ec77-3bce-fc2a-ea5b",
       "next": "2d70ef4c-07c3-11eb-b553-0242ac120002-10-7bb2-cbe8-9f91-74f7-ff39-3cca-06f8-f82b-1b45-2cca",
       "previous": "b3bf944e-0846-11eb-8784-0242ac120002-10-99c8-597b-4976-6a2d-5787-32ba-a23d-81b2-c122-21f5"
      },
      {
       "current": "92dca988-07c4-11eb-b553-0242ac120002-12-58f7-e04a-c54b-b407-f7f5-ec77-3bce-fc2a-ea5b-b2e4",
       "next": "2d70ef4c-07c3-11eb-b553-0242ac120002-11-cbe8-9f91-74f7-ff39-3cca-06f8-f82b-1b45-2cca-9a69",
       "previous": "b3bf944e-0846-11eb-8784-0242ac120002-11-597b-4976-6a2d-5787-32ba-a23d-81b2-c122-21f5-64b9"
      },
      {
       "current": "92dca988-07c4-11eb-b553-0242ac120002-13-e04a-c54b-b407-f7f5-ec77-3bce-fc2a-ea5b-b2e4-107c",
       "next": "2d70ef4c-07c3-11eb-b553-0242ac120002-12-9f91-74f7-ff39-3cca-06f8-f82b-1b45-2cca-9a69-318f",
       "previous": "b3bf944e-0846-11eb-8784-0242ac120002-12-4976-6a2d-5787-32ba-a23d-81b2-c122-21f5-64b9-ace9"
      },
      {
       "current": "92dca988-07c4-11eb-b553-0242ac120002-14-c54b-b407-f7f5-ec77-3bce-fc2a-ea5b-b2e4-107c-2e82",
       "next": "2d70ef4c-07c3-11eb-b553-0242ac120002-13-74f7-ff39-3cca-06f8-f82b-1b45-2cca-9a69-318f-9ca4",
       "previous": "b3bf944e-0846-11eb-8784-0242ac120002-13-6a2d-5787-32ba-a23d-81b2-c122-21f5-64b9-ace9-646f"
      },
      {
       "current": "92dca988-07c4-11eb-b553-0242ac120002-15-b407-f7f5-ec77-3bce-fc2a-ea5b-b2e4-107c-2e82-f660",
       "next": "2d70ef4c-07c3-11eb-b553-0242ac120002-14-ff39-3cca-06f8-f82b-1b45-2cca-9a69-318f-9ca4-e1d5",
       "previous": "b3bf944e-0846-11eb-8784-0242ac120002-14-5787-32ba-a23d-81b2-c122-21f5-64b9-ace9-646f-658d"
      },
      {
       "current": "92dca988-07c4-11eb-b553-0242ac120002-16-f7f5-ec77-3bce-fc2a-ea5b-b2e4-107c-2e82-f660-bbd9",
       "next": "2d70ef4c-07c3-11eb-b553-0242ac120002-15-3cca-06f8-f82b-1b45-2cca-9a69-318f-9ca4-e1d5-8996",
       "previous": "b3bf944e-0846-11eb-8784-0242ac120002-15-32ba-a23d-81b2-c122-21f5-64b9-ace9-646f-658d-b332"
      }
     ],
     "next": "2d70ef4c-07c3-11eb-b553-0242ac120002-16-06f8-f82b-1b45-2cca-9a69-318f-9ca4-e1d5-8996-bbd4",
     "previous": "b3bf944e-0846-11eb-8784-0242ac120002-16-a23d-81b2-c122-21f5-64b9-ace9-646f-658d-b332-c7ec"
    }
   },
   "outputs": [],
   "source": [
    "!ansible -m shell -a 'openssl rsa -in {os.path.join(certreq_path, master_fqdn + \".key\")} -pubout | openssl sha1 -c' {target_hub} -l {target_group}"
   ]
  },
  {
   "cell_type": "code",
   "execution_count": null,
   "id": "1cdb5544",
   "metadata": {
    "lc_cell_meme": {
     "current": "2d70ef4c-07c3-11eb-b553-0242ac120002-16-06f8-f82b-1b45-2cca-9a69-318f-9ca4-e1d5-8996-bbd4",
     "history": [
      {
       "current": "2d70ef4c-07c3-11eb-b553-0242ac120002-7-7bb2-cbe8-9f91-74f7-ff39-3cca-06f8",
       "next": "91baafd8-53a0-11ea-9227-0242ac120002-15-4983-f1f1-7611-a997-bb58-b5a3-0d15-817c-073c-789d",
       "previous": "92dca988-07c4-11eb-b553-0242ac120002-6-53d2-63fc-58f7-e04a-c54b-b407"
      },
      {
       "current": "2d70ef4c-07c3-11eb-b553-0242ac120002-8-7bb2-cbe8-9f91-74f7-ff39-3cca-06f8-f82b",
       "next": "91baafd8-53a0-11ea-9227-0242ac120002-16-f1f1-7611-a997-bb58-b5a3-0d15-817c-073c-789d-f74d",
       "previous": "92dca988-07c4-11eb-b553-0242ac120002-7-53d2-63fc-58f7-e04a-c54b-b407-f7f5"
      },
      {
       "current": "2d70ef4c-07c3-11eb-b553-0242ac120002-9-7bb2-cbe8-9f91-74f7-ff39-3cca-06f8-f82b-1b45",
       "next": "91baafd8-53a0-11ea-9227-0242ac120002-17-7611-a997-bb58-b5a3-0d15-817c-073c-789d-f74d-c6e8",
       "previous": "92dca988-07c4-11eb-b553-0242ac120002-8-53d2-63fc-58f7-e04a-c54b-b407-f7f5-ec77"
      },
      {
       "current": "2d70ef4c-07c3-11eb-b553-0242ac120002-10-7bb2-cbe8-9f91-74f7-ff39-3cca-06f8-f82b-1b45-2cca",
       "next": "91baafd8-53a0-11ea-9227-0242ac120002-18-a997-bb58-b5a3-0d15-817c-073c-789d-f74d-c6e8-4f38",
       "previous": "92dca988-07c4-11eb-b553-0242ac120002-9-53d2-63fc-58f7-e04a-c54b-b407-f7f5-ec77-3bce"
      },
      {
       "current": "2d70ef4c-07c3-11eb-b553-0242ac120002-11-cbe8-9f91-74f7-ff39-3cca-06f8-f82b-1b45-2cca-9a69",
       "next": "91baafd8-53a0-11ea-9227-0242ac120002-19-bb58-b5a3-0d15-817c-073c-789d-f74d-c6e8-4f38-de74",
       "previous": "92dca988-07c4-11eb-b553-0242ac120002-10-53d2-63fc-58f7-e04a-c54b-b407-f7f5-ec77-3bce-fc2a"
      },
      {
       "current": "2d70ef4c-07c3-11eb-b553-0242ac120002-12-9f91-74f7-ff39-3cca-06f8-f82b-1b45-2cca-9a69-318f",
       "next": "91baafd8-53a0-11ea-9227-0242ac120002-20-b5a3-0d15-817c-073c-789d-f74d-c6e8-4f38-de74-0fa6",
       "previous": "92dca988-07c4-11eb-b553-0242ac120002-11-63fc-58f7-e04a-c54b-b407-f7f5-ec77-3bce-fc2a-ea5b"
      },
      {
       "current": "2d70ef4c-07c3-11eb-b553-0242ac120002-13-74f7-ff39-3cca-06f8-f82b-1b45-2cca-9a69-318f-9ca4",
       "next": "91baafd8-53a0-11ea-9227-0242ac120002-21-0d15-817c-073c-789d-f74d-c6e8-4f38-de74-0fa6-cc7b",
       "previous": "92dca988-07c4-11eb-b553-0242ac120002-12-58f7-e04a-c54b-b407-f7f5-ec77-3bce-fc2a-ea5b-b2e4"
      },
      {
       "current": "2d70ef4c-07c3-11eb-b553-0242ac120002-14-ff39-3cca-06f8-f82b-1b45-2cca-9a69-318f-9ca4-e1d5",
       "next": "91baafd8-53a0-11ea-9227-0242ac120002-22-817c-073c-789d-f74d-c6e8-4f38-de74-0fa6-cc7b-2f8d",
       "previous": "92dca988-07c4-11eb-b553-0242ac120002-13-e04a-c54b-b407-f7f5-ec77-3bce-fc2a-ea5b-b2e4-107c"
      },
      {
       "current": "2d70ef4c-07c3-11eb-b553-0242ac120002-15-3cca-06f8-f82b-1b45-2cca-9a69-318f-9ca4-e1d5-8996",
       "next": "91baafd8-53a0-11ea-9227-0242ac120002-23-073c-789d-f74d-c6e8-4f38-de74-0fa6-cc7b-2f8d-1b4c",
       "previous": "92dca988-07c4-11eb-b553-0242ac120002-14-c54b-b407-f7f5-ec77-3bce-fc2a-ea5b-b2e4-107c-2e82"
      },
      {
       "current": "2d70ef4c-07c3-11eb-b553-0242ac120002-16-06f8-f82b-1b45-2cca-9a69-318f-9ca4-e1d5-8996-bbd4",
       "next": "91baafd8-53a0-11ea-9227-0242ac120002-24-789d-f74d-c6e8-4f38-de74-0fa6-cc7b-2f8d-1b4c-ca33",
       "previous": "92dca988-07c4-11eb-b553-0242ac120002-15-b407-f7f5-ec77-3bce-fc2a-ea5b-b2e4-107c-2e82-f660"
      }
     ],
     "next": "91baafd8-53a0-11ea-9227-0242ac120002-25-f74d-c6e8-4f38-de74-0fa6-cc7b-2f8d-1b4c-ca33-3376",
     "previous": "92dca988-07c4-11eb-b553-0242ac120002-16-f7f5-ec77-3bce-fc2a-ea5b-b2e4-107c-2e82-f660-bbd9"
    }
   },
   "outputs": [],
   "source": [
    "!ansible -m shell -a 'openssl x509 -noout -in {os.path.join(certreq_path, master_fqdn + \".cer\")} -pubkey | openssl sha1 -c' {target_hub} -l {target_group}\n",
    "!ansible -a 'openssl x509 -text -noout -in {os.path.join(certreq_path, master_fqdn + \".cer\")}' {target_hub} -l {target_group}"
   ]
  },
  {
   "cell_type": "markdown",
   "id": "d04574fc",
   "metadata": {
    "lc_cell_meme": {
     "current": "91baafd8-53a0-11ea-9227-0242ac120002-25-f74d-c6e8-4f38-de74-0fa6-cc7b-2f8d-1b4c-ca33-3376",
     "history": [
      {
       "current": "91baafd8-53a0-11ea-9227-0242ac120002-16-f1f1-7611-a997-bb58-b5a3-0d15-817c-073c-789d-f74d",
       "next": "91bab3f2-53a0-11ea-9227-0242ac120002-15-56b2-b3fe-d9a9-23d9-ce79-e25d-b09e-7d12-028f-b6e9",
       "previous": "2d70ef4c-07c3-11eb-b553-0242ac120002-6-7bb2-cbe8-9f91-74f7-ff39-3cca"
      },
      {
       "current": "91baafd8-53a0-11ea-9227-0242ac120002-17-7611-a997-bb58-b5a3-0d15-817c-073c-789d-f74d-c6e8",
       "next": "91bab3f2-53a0-11ea-9227-0242ac120002-16-b3fe-d9a9-23d9-ce79-e25d-b09e-7d12-028f-b6e9-c34b",
       "previous": "2d70ef4c-07c3-11eb-b553-0242ac120002-7-7bb2-cbe8-9f91-74f7-ff39-3cca-06f8"
      },
      {
       "current": "91baafd8-53a0-11ea-9227-0242ac120002-18-a997-bb58-b5a3-0d15-817c-073c-789d-f74d-c6e8-4f38",
       "next": "91bab3f2-53a0-11ea-9227-0242ac120002-17-d9a9-23d9-ce79-e25d-b09e-7d12-028f-b6e9-c34b-70e3",
       "previous": "2d70ef4c-07c3-11eb-b553-0242ac120002-8-7bb2-cbe8-9f91-74f7-ff39-3cca-06f8-f82b"
      },
      {
       "current": "91baafd8-53a0-11ea-9227-0242ac120002-19-bb58-b5a3-0d15-817c-073c-789d-f74d-c6e8-4f38-de74",
       "next": "91bab3f2-53a0-11ea-9227-0242ac120002-18-23d9-ce79-e25d-b09e-7d12-028f-b6e9-c34b-70e3-11cd",
       "previous": "2d70ef4c-07c3-11eb-b553-0242ac120002-9-7bb2-cbe8-9f91-74f7-ff39-3cca-06f8-f82b-1b45"
      },
      {
       "current": "91baafd8-53a0-11ea-9227-0242ac120002-20-b5a3-0d15-817c-073c-789d-f74d-c6e8-4f38-de74-0fa6",
       "next": "91bab3f2-53a0-11ea-9227-0242ac120002-19-ce79-e25d-b09e-7d12-028f-b6e9-c34b-70e3-11cd-abef",
       "previous": "2d70ef4c-07c3-11eb-b553-0242ac120002-10-7bb2-cbe8-9f91-74f7-ff39-3cca-06f8-f82b-1b45-2cca"
      },
      {
       "current": "91baafd8-53a0-11ea-9227-0242ac120002-21-0d15-817c-073c-789d-f74d-c6e8-4f38-de74-0fa6-cc7b",
       "next": "91bab3f2-53a0-11ea-9227-0242ac120002-20-e25d-b09e-7d12-028f-b6e9-c34b-70e3-11cd-abef-5a2e",
       "previous": "2d70ef4c-07c3-11eb-b553-0242ac120002-11-cbe8-9f91-74f7-ff39-3cca-06f8-f82b-1b45-2cca-9a69"
      },
      {
       "current": "91baafd8-53a0-11ea-9227-0242ac120002-22-817c-073c-789d-f74d-c6e8-4f38-de74-0fa6-cc7b-2f8d",
       "next": "91bab3f2-53a0-11ea-9227-0242ac120002-21-b09e-7d12-028f-b6e9-c34b-70e3-11cd-abef-5a2e-3f72",
       "previous": "2d70ef4c-07c3-11eb-b553-0242ac120002-12-9f91-74f7-ff39-3cca-06f8-f82b-1b45-2cca-9a69-318f"
      },
      {
       "current": "91baafd8-53a0-11ea-9227-0242ac120002-23-073c-789d-f74d-c6e8-4f38-de74-0fa6-cc7b-2f8d-1b4c",
       "next": "91bab3f2-53a0-11ea-9227-0242ac120002-22-7d12-028f-b6e9-c34b-70e3-11cd-abef-5a2e-3f72-43b6",
       "previous": "2d70ef4c-07c3-11eb-b553-0242ac120002-13-74f7-ff39-3cca-06f8-f82b-1b45-2cca-9a69-318f-9ca4"
      },
      {
       "current": "91baafd8-53a0-11ea-9227-0242ac120002-24-789d-f74d-c6e8-4f38-de74-0fa6-cc7b-2f8d-1b4c-ca33",
       "next": "91bab3f2-53a0-11ea-9227-0242ac120002-23-028f-b6e9-c34b-70e3-11cd-abef-5a2e-3f72-43b6-5114",
       "previous": "2d70ef4c-07c3-11eb-b553-0242ac120002-14-ff39-3cca-06f8-f82b-1b45-2cca-9a69-318f-9ca4-e1d5"
      },
      {
       "current": "91baafd8-53a0-11ea-9227-0242ac120002-25-f74d-c6e8-4f38-de74-0fa6-cc7b-2f8d-1b4c-ca33-3376",
       "next": "91bab3f2-53a0-11ea-9227-0242ac120002-24-b6e9-c34b-70e3-11cd-abef-5a2e-3f72-43b6-5114-3eee",
       "previous": "2d70ef4c-07c3-11eb-b553-0242ac120002-15-3cca-06f8-f82b-1b45-2cca-9a69-318f-9ca4-e1d5-8996"
      }
     ],
     "next": "91bab3f2-53a0-11ea-9227-0242ac120002-25-c34b-70e3-11cd-abef-5a2e-3f72-43b6-5114-3eee-25dc",
     "previous": "2d70ef4c-07c3-11eb-b553-0242ac120002-16-06f8-f82b-1b45-2cca-9a69-318f-9ca4-e1d5-8996-bbd4"
    }
   },
   "source": [
    "idp-proxyを利用しない場合は、idp-proxyの証明書は不要"
   ]
  },
  {
   "cell_type": "code",
   "execution_count": null,
   "id": "9eb495e5",
   "metadata": {
    "lc_cell_meme": {
     "current": "91bab3f2-53a0-11ea-9227-0242ac120002-25-c34b-70e3-11cd-abef-5a2e-3f72-43b6-5114-3eee-25dc",
     "history": [
      {
       "current": "91bab3f2-53a0-11ea-9227-0242ac120002-16-b3fe-d9a9-23d9-ce79-e25d-b09e-7d12-028f-b6e9-c34b",
       "next": "91bbae4c-53a0-11ea-9227-0242ac120002-15-7b03-53bf-9c99-a561-71ea-2a23-6253-4f5c-2bb7-1b08",
       "previous": "91baafd8-53a0-11ea-9227-0242ac120002-15-4983-f1f1-7611-a997-bb58-b5a3-0d15-817c-073c-789d"
      },
      {
       "current": "91bab3f2-53a0-11ea-9227-0242ac120002-17-d9a9-23d9-ce79-e25d-b09e-7d12-028f-b6e9-c34b-70e3",
       "next": "91bbae4c-53a0-11ea-9227-0242ac120002-16-53bf-9c99-a561-71ea-2a23-6253-4f5c-2bb7-1b08-99a6",
       "previous": "91baafd8-53a0-11ea-9227-0242ac120002-16-f1f1-7611-a997-bb58-b5a3-0d15-817c-073c-789d-f74d"
      },
      {
       "current": "91bab3f2-53a0-11ea-9227-0242ac120002-18-23d9-ce79-e25d-b09e-7d12-028f-b6e9-c34b-70e3-11cd",
       "next": "91bbae4c-53a0-11ea-9227-0242ac120002-17-9c99-a561-71ea-2a23-6253-4f5c-2bb7-1b08-99a6-1d06",
       "previous": "91baafd8-53a0-11ea-9227-0242ac120002-17-7611-a997-bb58-b5a3-0d15-817c-073c-789d-f74d-c6e8"
      },
      {
       "current": "91bab3f2-53a0-11ea-9227-0242ac120002-19-ce79-e25d-b09e-7d12-028f-b6e9-c34b-70e3-11cd-abef",
       "next": "91bbae4c-53a0-11ea-9227-0242ac120002-18-a561-71ea-2a23-6253-4f5c-2bb7-1b08-99a6-1d06-c29e",
       "previous": "91baafd8-53a0-11ea-9227-0242ac120002-18-a997-bb58-b5a3-0d15-817c-073c-789d-f74d-c6e8-4f38"
      },
      {
       "current": "91bab3f2-53a0-11ea-9227-0242ac120002-20-e25d-b09e-7d12-028f-b6e9-c34b-70e3-11cd-abef-5a2e",
       "next": "91bbae4c-53a0-11ea-9227-0242ac120002-19-71ea-2a23-6253-4f5c-2bb7-1b08-99a6-1d06-c29e-1d6c",
       "previous": "91baafd8-53a0-11ea-9227-0242ac120002-19-bb58-b5a3-0d15-817c-073c-789d-f74d-c6e8-4f38-de74"
      },
      {
       "current": "91bab3f2-53a0-11ea-9227-0242ac120002-21-b09e-7d12-028f-b6e9-c34b-70e3-11cd-abef-5a2e-3f72",
       "next": "91bbae4c-53a0-11ea-9227-0242ac120002-20-2a23-6253-4f5c-2bb7-1b08-99a6-1d06-c29e-1d6c-ac71",
       "previous": "91baafd8-53a0-11ea-9227-0242ac120002-20-b5a3-0d15-817c-073c-789d-f74d-c6e8-4f38-de74-0fa6"
      },
      {
       "current": "91bab3f2-53a0-11ea-9227-0242ac120002-22-7d12-028f-b6e9-c34b-70e3-11cd-abef-5a2e-3f72-43b6",
       "next": "91bbae4c-53a0-11ea-9227-0242ac120002-21-6253-4f5c-2bb7-1b08-99a6-1d06-c29e-1d6c-ac71-7d61",
       "previous": "91baafd8-53a0-11ea-9227-0242ac120002-21-0d15-817c-073c-789d-f74d-c6e8-4f38-de74-0fa6-cc7b"
      },
      {
       "current": "91bab3f2-53a0-11ea-9227-0242ac120002-23-028f-b6e9-c34b-70e3-11cd-abef-5a2e-3f72-43b6-5114",
       "next": "91bbae4c-53a0-11ea-9227-0242ac120002-22-4f5c-2bb7-1b08-99a6-1d06-c29e-1d6c-ac71-7d61-9b47",
       "previous": "91baafd8-53a0-11ea-9227-0242ac120002-22-817c-073c-789d-f74d-c6e8-4f38-de74-0fa6-cc7b-2f8d"
      },
      {
       "current": "91bab3f2-53a0-11ea-9227-0242ac120002-24-b6e9-c34b-70e3-11cd-abef-5a2e-3f72-43b6-5114-3eee",
       "next": "91bbae4c-53a0-11ea-9227-0242ac120002-23-2bb7-1b08-99a6-1d06-c29e-1d6c-ac71-7d61-9b47-062c",
       "previous": "91baafd8-53a0-11ea-9227-0242ac120002-23-073c-789d-f74d-c6e8-4f38-de74-0fa6-cc7b-2f8d-1b4c"
      },
      {
       "current": "91bab3f2-53a0-11ea-9227-0242ac120002-25-c34b-70e3-11cd-abef-5a2e-3f72-43b6-5114-3eee-25dc",
       "next": "91bbae4c-53a0-11ea-9227-0242ac120002-24-1b08-99a6-1d06-c29e-1d6c-ac71-7d61-9b47-062c-bb03",
       "previous": "91baafd8-53a0-11ea-9227-0242ac120002-24-789d-f74d-c6e8-4f38-de74-0fa6-cc7b-2f8d-1b4c-ca33"
      }
     ],
     "next": "91bbae4c-53a0-11ea-9227-0242ac120002-25-99a6-1d06-c29e-1d6c-ac71-7d61-9b47-062c-bb03-b831",
     "previous": "91baafd8-53a0-11ea-9227-0242ac120002-25-f74d-c6e8-4f38-de74-0fa6-cc7b-2f8d-1b4c-ca33-3376"
    }
   },
   "outputs": [],
   "source": [
    "if not enable_federation and auth_fqdn != '':\n",
    "    !ansible -a 'ls -la {os.path.join(certreq_path, auth_fqdn + \".cer\")}' {target_hub} -l {target_group}"
   ]
  },
  {
   "cell_type": "markdown",
   "id": "d6ae890a",
   "metadata": {
    "lc_cell_meme": {
     "current": "91bbae4c-53a0-11ea-9227-0242ac120002-25-99a6-1d06-c29e-1d6c-ac71-7d61-9b47-062c-bb03-b831",
     "history": [
      {
       "current": "91bbae4c-53a0-11ea-9227-0242ac120002-17-9c99-a561-71ea-2a23-6253-4f5c-2bb7-1b08-99a6-1d06",
       "next": "276846db-92e4-11ec-8a73-6b42dc3e1973-2-9255-8160",
       "previous": "ce34ea7e-b252-11e7-a38f-0242ac120002-18-a74f-477e-4f9b-168c-2c8f-f551-e7d1-2fd5-bed6-0950"
      },
      {
       "current": "91bbae4c-53a0-11ea-9227-0242ac120002-17-9c99-a561-71ea-2a23-6253-4f5c-2bb7-1b08-99a6-1d06",
       "next": "276846db-92e4-11ec-8a73-6b42dc3e1973-2-9255-8160",
       "previous": "91bab3f2-53a0-11ea-9227-0242ac120002-17-d9a9-23d9-ce79-e25d-b09e-7d12-028f-b6e9-c34b-70e3"
      },
      {
       "current": "91bbae4c-53a0-11ea-9227-0242ac120002-18-a561-71ea-2a23-6253-4f5c-2bb7-1b08-99a6-1d06-c29e",
       "next": "848e31c4-f407-11ea-9bfc-02420a01001a-12-90d5-2630-5f2d-c52a-fefd-6751-70e8-ba4c-0ea8-53cc",
       "previous": "91bab3f2-53a0-11ea-9227-0242ac120002-17-d9a9-23d9-ce79-e25d-b09e-7d12-028f-b6e9-c34b-70e3"
      },
      {
       "current": "91bbae4c-53a0-11ea-9227-0242ac120002-19-71ea-2a23-6253-4f5c-2bb7-1b08-99a6-1d06-c29e-1d6c",
       "next": "848e31c4-f407-11ea-9bfc-02420a01001a-13-2630-5f2d-c52a-fefd-6751-70e8-ba4c-0ea8-53cc-0d09",
       "previous": "91bab3f2-53a0-11ea-9227-0242ac120002-18-23d9-ce79-e25d-b09e-7d12-028f-b6e9-c34b-70e3-11cd"
      },
      {
       "current": "91bbae4c-53a0-11ea-9227-0242ac120002-20-2a23-6253-4f5c-2bb7-1b08-99a6-1d06-c29e-1d6c-ac71",
       "next": "848e31c4-f407-11ea-9bfc-02420a01001a-14-5f2d-c52a-fefd-6751-70e8-ba4c-0ea8-53cc-0d09-7924",
       "previous": "91bab3f2-53a0-11ea-9227-0242ac120002-19-ce79-e25d-b09e-7d12-028f-b6e9-c34b-70e3-11cd-abef"
      },
      {
       "current": "91bbae4c-53a0-11ea-9227-0242ac120002-21-6253-4f5c-2bb7-1b08-99a6-1d06-c29e-1d6c-ac71-7d61",
       "next": "848e31c4-f407-11ea-9bfc-02420a01001a-15-c52a-fefd-6751-70e8-ba4c-0ea8-53cc-0d09-7924-a16f",
       "previous": "91bab3f2-53a0-11ea-9227-0242ac120002-20-e25d-b09e-7d12-028f-b6e9-c34b-70e3-11cd-abef-5a2e"
      },
      {
       "current": "91bbae4c-53a0-11ea-9227-0242ac120002-22-4f5c-2bb7-1b08-99a6-1d06-c29e-1d6c-ac71-7d61-9b47",
       "next": "848e31c4-f407-11ea-9bfc-02420a01001a-16-fefd-6751-70e8-ba4c-0ea8-53cc-0d09-7924-a16f-0ad1",
       "previous": "91bab3f2-53a0-11ea-9227-0242ac120002-21-b09e-7d12-028f-b6e9-c34b-70e3-11cd-abef-5a2e-3f72"
      },
      {
       "current": "91bbae4c-53a0-11ea-9227-0242ac120002-23-2bb7-1b08-99a6-1d06-c29e-1d6c-ac71-7d61-9b47-062c",
       "next": "848e31c4-f407-11ea-9bfc-02420a01001a-17-6751-70e8-ba4c-0ea8-53cc-0d09-7924-a16f-0ad1-3405",
       "previous": "91bab3f2-53a0-11ea-9227-0242ac120002-22-7d12-028f-b6e9-c34b-70e3-11cd-abef-5a2e-3f72-43b6"
      },
      {
       "current": "91bbae4c-53a0-11ea-9227-0242ac120002-24-1b08-99a6-1d06-c29e-1d6c-ac71-7d61-9b47-062c-bb03",
       "next": "848e31c4-f407-11ea-9bfc-02420a01001a-18-70e8-ba4c-0ea8-53cc-0d09-7924-a16f-0ad1-3405-2d45",
       "previous": "91bab3f2-53a0-11ea-9227-0242ac120002-23-028f-b6e9-c34b-70e3-11cd-abef-5a2e-3f72-43b6-5114"
      },
      {
       "current": "91bbae4c-53a0-11ea-9227-0242ac120002-25-99a6-1d06-c29e-1d6c-ac71-7d61-9b47-062c-bb03-b831",
       "next": "848e31c4-f407-11ea-9bfc-02420a01001a-19-ba4c-0ea8-53cc-0d09-7924-a16f-0ad1-3405-2d45-04b9",
       "previous": "91bab3f2-53a0-11ea-9227-0242ac120002-24-b6e9-c34b-70e3-11cd-abef-5a2e-3f72-43b6-5114-3eee"
      }
     ],
     "next": "848e31c4-f407-11ea-9bfc-02420a01001a-20-0ea8-53cc-0d09-7924-a16f-0ad1-3405-2d45-04b9-5f1c",
     "previous": "91bab3f2-53a0-11ea-9227-0242ac120002-25-c34b-70e3-11cd-abef-5a2e-3f72-43b6-5114-3eee-25dc"
    }
   },
   "source": [
    "# auth-proxyコンテナの準備"
   ]
  },
  {
   "cell_type": "markdown",
   "id": "e5521443",
   "metadata": {
    "lc_cell_meme": {
     "current": "848e31c4-f407-11ea-9bfc-02420a01001a-20-0ea8-53cc-0d09-7924-a16f-0ad1-3405-2d45-04b9-5f1c",
     "history": [
      {
       "current": "848e31c4-f407-11ea-9bfc-02420a01001a-12-90d5-2630-5f2d-c52a-fefd-6751-70e8-ba4c-0ea8-53cc",
       "next": "1e5f8eaa-4c67-11e9-b2d5-0242ac130002-17-526f-da8a-10e4-1ca7-f376-8d9d-2567-1a03-ce3c-2393",
       "previous": "bee36054-0f87-11ec-a987-c7638f7e44c5-9-cc6c-9efb-7aaa-4982-f1ba-1339-0b84-2ff0-7bbb"
      },
      {
       "current": "848e31c4-f407-11ea-9bfc-02420a01001a-12-90d5-2630-5f2d-c52a-fefd-6751-70e8-ba4c-0ea8-53cc",
       "next": "1e5f8eaa-4c67-11e9-b2d5-0242ac130002-18-da8a-10e4-1ca7-f376-8d9d-2567-1a03-ce3c-2393-8bfb",
       "previous": "187d56cf-9aae-11ec-9e5c-0242ac120002"
      },
      {
       "current": "848e31c4-f407-11ea-9bfc-02420a01001a-13-2630-5f2d-c52a-fefd-6751-70e8-ba4c-0ea8-53cc-0d09",
       "next": "1e5f8eaa-4c67-11e9-b2d5-0242ac130002-18-da8a-10e4-1ca7-f376-8d9d-2567-1a03-ce3c-2393-8bfb",
       "previous": "91bbae4c-53a0-11ea-9227-0242ac120002-17-9c99-a561-71ea-2a23-6253-4f5c-2bb7-1b08-99a6-1d06"
      },
      {
       "current": "848e31c4-f407-11ea-9bfc-02420a01001a-14-5f2d-c52a-fefd-6751-70e8-ba4c-0ea8-53cc-0d09-7924",
       "next": "1e5f8eaa-4c67-11e9-b2d5-0242ac130002-19-10e4-1ca7-f376-8d9d-2567-1a03-ce3c-2393-8bfb-564a",
       "previous": "91bbae4c-53a0-11ea-9227-0242ac120002-18-a561-71ea-2a23-6253-4f5c-2bb7-1b08-99a6-1d06-c29e"
      },
      {
       "current": "848e31c4-f407-11ea-9bfc-02420a01001a-15-c52a-fefd-6751-70e8-ba4c-0ea8-53cc-0d09-7924-a16f",
       "next": "1e5f8eaa-4c67-11e9-b2d5-0242ac130002-20-1ca7-f376-8d9d-2567-1a03-ce3c-2393-8bfb-564a-1325",
       "previous": "91bbae4c-53a0-11ea-9227-0242ac120002-19-71ea-2a23-6253-4f5c-2bb7-1b08-99a6-1d06-c29e-1d6c"
      },
      {
       "current": "848e31c4-f407-11ea-9bfc-02420a01001a-16-fefd-6751-70e8-ba4c-0ea8-53cc-0d09-7924-a16f-0ad1",
       "next": "1e5f8eaa-4c67-11e9-b2d5-0242ac130002-21-f376-8d9d-2567-1a03-ce3c-2393-8bfb-564a-1325-fbf0",
       "previous": "91bbae4c-53a0-11ea-9227-0242ac120002-20-2a23-6253-4f5c-2bb7-1b08-99a6-1d06-c29e-1d6c-ac71"
      },
      {
       "current": "848e31c4-f407-11ea-9bfc-02420a01001a-17-6751-70e8-ba4c-0ea8-53cc-0d09-7924-a16f-0ad1-3405",
       "next": "1e5f8eaa-4c67-11e9-b2d5-0242ac130002-22-8d9d-2567-1a03-ce3c-2393-8bfb-564a-1325-fbf0-7e0b",
       "previous": "91bbae4c-53a0-11ea-9227-0242ac120002-21-6253-4f5c-2bb7-1b08-99a6-1d06-c29e-1d6c-ac71-7d61"
      },
      {
       "current": "848e31c4-f407-11ea-9bfc-02420a01001a-18-70e8-ba4c-0ea8-53cc-0d09-7924-a16f-0ad1-3405-2d45",
       "next": "1e5f8eaa-4c67-11e9-b2d5-0242ac130002-23-2567-1a03-ce3c-2393-8bfb-564a-1325-fbf0-7e0b-126c",
       "previous": "91bbae4c-53a0-11ea-9227-0242ac120002-22-4f5c-2bb7-1b08-99a6-1d06-c29e-1d6c-ac71-7d61-9b47"
      },
      {
       "current": "848e31c4-f407-11ea-9bfc-02420a01001a-19-ba4c-0ea8-53cc-0d09-7924-a16f-0ad1-3405-2d45-04b9",
       "next": "1e5f8eaa-4c67-11e9-b2d5-0242ac130002-24-1a03-ce3c-2393-8bfb-564a-1325-fbf0-7e0b-126c-4cb1",
       "previous": "91bbae4c-53a0-11ea-9227-0242ac120002-23-2bb7-1b08-99a6-1d06-c29e-1d6c-ac71-7d61-9b47-062c"
      },
      {
       "current": "848e31c4-f407-11ea-9bfc-02420a01001a-20-0ea8-53cc-0d09-7924-a16f-0ad1-3405-2d45-04b9-5f1c",
       "next": "1e5f8eaa-4c67-11e9-b2d5-0242ac130002-25-ce3c-2393-8bfb-564a-1325-fbf0-7e0b-126c-4cb1-751b",
       "previous": "91bbae4c-53a0-11ea-9227-0242ac120002-24-1b08-99a6-1d06-c29e-1d6c-ac71-7d61-9b47-062c-bb03"
      }
     ],
     "next": "1e5f8eaa-4c67-11e9-b2d5-0242ac130002-26-2393-8bfb-564a-1325-fbf0-7e0b-126c-4cb1-751b-976d",
     "previous": "91bbae4c-53a0-11ea-9227-0242ac120002-25-99a6-1d06-c29e-1d6c-ac71-7d61-9b47-062c-bb03-b831"
    }
   },
   "source": [
    "作業ディレクトリを作成"
   ]
  },
  {
   "cell_type": "code",
   "execution_count": null,
   "id": "b0120739",
   "metadata": {
    "lc_cell_meme": {
     "current": "1e5f8eaa-4c67-11e9-b2d5-0242ac130002-26-2393-8bfb-564a-1325-fbf0-7e0b-126c-4cb1-751b-976d",
     "history": [
      {
       "current": "1e5f8eaa-4c67-11e9-b2d5-0242ac130002-18-da8a-10e4-1ca7-f376-8d9d-2567-1a03-ce3c-2393-8bfb",
       "next": "98a63d3e-d364-11e8-a64b-02420aff0006-17-b3a6-54e6-8b2c-93a7-aceb-e740-12bc-5cad-4e77-0acf",
       "previous": "848e31c4-f407-11ea-9bfc-02420a01001a-11-75b6-90d5-2630-5f2d-c52a-fefd-6751-70e8-ba4c-0ea8"
      },
      {
       "current": "1e5f8eaa-4c67-11e9-b2d5-0242ac130002-18-da8a-10e4-1ca7-f376-8d9d-2567-1a03-ce3c-2393-8bfb",
       "next": "a490b046-53a3-11ea-9227-0242ac120002-17-a087-19a3-995a-431d-9ad7-9742-a1dd-a124-33c2-f6a4",
       "previous": "848e31c4-f407-11ea-9bfc-02420a01001a-12-90d5-2630-5f2d-c52a-fefd-6751-70e8-ba4c-0ea8-53cc"
      },
      {
       "current": "1e5f8eaa-4c67-11e9-b2d5-0242ac130002-19-10e4-1ca7-f376-8d9d-2567-1a03-ce3c-2393-8bfb-564a",
       "next": "276846db-92e4-11ec-8a73-6b42dc3e1973-2-9255-f2cb",
       "previous": "848e31c4-f407-11ea-9bfc-02420a01001a-12-90d5-2630-5f2d-c52a-fefd-6751-70e8-ba4c-0ea8-53cc"
      },
      {
       "current": "1e5f8eaa-4c67-11e9-b2d5-0242ac130002-20-1ca7-f376-8d9d-2567-1a03-ce3c-2393-8bfb-564a-1325",
       "next": "276846db-92e4-11ec-8a73-6b42dc3e1973-3-9255-f2cb-4d47",
       "previous": "848e31c4-f407-11ea-9bfc-02420a01001a-13-2630-5f2d-c52a-fefd-6751-70e8-ba4c-0ea8-53cc-0d09"
      },
      {
       "current": "1e5f8eaa-4c67-11e9-b2d5-0242ac130002-21-f376-8d9d-2567-1a03-ce3c-2393-8bfb-564a-1325-fbf0",
       "next": "276846db-92e4-11ec-8a73-6b42dc3e1973-4-9255-f2cb-4d47-c971",
       "previous": "848e31c4-f407-11ea-9bfc-02420a01001a-14-5f2d-c52a-fefd-6751-70e8-ba4c-0ea8-53cc-0d09-7924"
      },
      {
       "current": "1e5f8eaa-4c67-11e9-b2d5-0242ac130002-22-8d9d-2567-1a03-ce3c-2393-8bfb-564a-1325-fbf0-7e0b",
       "next": "276846db-92e4-11ec-8a73-6b42dc3e1973-5-9255-f2cb-4d47-c971-144d",
       "previous": "848e31c4-f407-11ea-9bfc-02420a01001a-15-c52a-fefd-6751-70e8-ba4c-0ea8-53cc-0d09-7924-a16f"
      },
      {
       "current": "1e5f8eaa-4c67-11e9-b2d5-0242ac130002-23-2567-1a03-ce3c-2393-8bfb-564a-1325-fbf0-7e0b-126c",
       "next": "276846db-92e4-11ec-8a73-6b42dc3e1973-6-9255-f2cb-4d47-c971-144d-d0fb",
       "previous": "848e31c4-f407-11ea-9bfc-02420a01001a-16-fefd-6751-70e8-ba4c-0ea8-53cc-0d09-7924-a16f-0ad1"
      },
      {
       "current": "1e5f8eaa-4c67-11e9-b2d5-0242ac130002-24-1a03-ce3c-2393-8bfb-564a-1325-fbf0-7e0b-126c-4cb1",
       "next": "276846db-92e4-11ec-8a73-6b42dc3e1973-7-9255-f2cb-4d47-c971-144d-d0fb-5c5e",
       "previous": "848e31c4-f407-11ea-9bfc-02420a01001a-17-6751-70e8-ba4c-0ea8-53cc-0d09-7924-a16f-0ad1-3405"
      },
      {
       "current": "1e5f8eaa-4c67-11e9-b2d5-0242ac130002-25-ce3c-2393-8bfb-564a-1325-fbf0-7e0b-126c-4cb1-751b",
       "next": "276846db-92e4-11ec-8a73-6b42dc3e1973-8-9255-f2cb-4d47-c971-144d-d0fb-5c5e-edd7",
       "previous": "848e31c4-f407-11ea-9bfc-02420a01001a-18-70e8-ba4c-0ea8-53cc-0d09-7924-a16f-0ad1-3405-2d45"
      },
      {
       "current": "1e5f8eaa-4c67-11e9-b2d5-0242ac130002-26-2393-8bfb-564a-1325-fbf0-7e0b-126c-4cb1-751b-976d",
       "next": "276846db-92e4-11ec-8a73-6b42dc3e1973-9-9255-f2cb-4d47-c971-144d-d0fb-5c5e-edd7-4f6a",
       "previous": "848e31c4-f407-11ea-9bfc-02420a01001a-19-ba4c-0ea8-53cc-0d09-7924-a16f-0ad1-3405-2d45-04b9"
      }
     ],
     "next": "276846db-92e4-11ec-8a73-6b42dc3e1973-10-9255-f2cb-4d47-c971-144d-d0fb-5c5e-edd7-4f6a-4940",
     "previous": "848e31c4-f407-11ea-9bfc-02420a01001a-20-0ea8-53cc-0d09-7924-a16f-0ad1-3405-2d45-04b9-5f1c"
    }
   },
   "outputs": [],
   "source": [
    "import tempfile\n",
    "work_dir = tempfile.mkdtemp()\n",
    "work_dir"
   ]
  },
  {
   "cell_type": "markdown",
   "id": "d1af6695",
   "metadata": {
    "lc_cell_meme": {
     "current": "276846db-92e4-11ec-8a73-6b42dc3e1973-10-9255-f2cb-4d47-c971-144d-d0fb-5c5e-edd7-4f6a-4940",
     "history": [
      {
       "current": "276846db-92e4-11ec-8a73-6b42dc3e1973-1-9255",
       "next": "a490b046-53a3-11ea-9227-0242ac120002-15-c815-3fb8-a087-19a3-995a-431d-9ad7-9742-a1dd-a124",
       "previous": "6acc208c-650c-11ea-bf98-0242ac120002-14-b0ba-9d96-8318-593a-ede2-e49c-84f3-a825-22a8-bef3"
      },
      {
       "current": "276846db-92e4-11ec-8a73-6b42dc3e1973-2-9255-f2cb",
       "next": "a490b046-53a3-11ea-9227-0242ac120002-16-3fb8-a087-19a3-995a-431d-9ad7-9742-a1dd-a124-33c2",
       "previous": "6acc208c-650c-11ea-bf98-0242ac120002-15-9d96-8318-593a-ede2-e49c-84f3-a825-22a8-bef3-9a2c"
      },
      {
       "current": "276846db-92e4-11ec-8a73-6b42dc3e1973-3-9255-f2cb-4d47",
       "next": "a490b046-53a3-11ea-9227-0242ac120002-18-19a3-995a-431d-9ad7-9742-a1dd-a124-33c2-6a9b-9fcd",
       "previous": "1e5f8eaa-4c67-11e9-b2d5-0242ac130002-18-da8a-10e4-1ca7-f376-8d9d-2567-1a03-ce3c-2393-8bfb"
      },
      {
       "current": "276846db-92e4-11ec-8a73-6b42dc3e1973-4-9255-f2cb-4d47-c971",
       "next": "a490b046-53a3-11ea-9227-0242ac120002-19-995a-431d-9ad7-9742-a1dd-a124-33c2-6a9b-9fcd-e30b",
       "previous": "1e5f8eaa-4c67-11e9-b2d5-0242ac130002-19-10e4-1ca7-f376-8d9d-2567-1a03-ce3c-2393-8bfb-564a"
      },
      {
       "current": "276846db-92e4-11ec-8a73-6b42dc3e1973-5-9255-f2cb-4d47-c971-144d",
       "next": "a490b046-53a3-11ea-9227-0242ac120002-20-431d-9ad7-9742-a1dd-a124-33c2-6a9b-9fcd-e30b-cc2e",
       "previous": "1e5f8eaa-4c67-11e9-b2d5-0242ac130002-20-1ca7-f376-8d9d-2567-1a03-ce3c-2393-8bfb-564a-1325"
      },
      {
       "current": "276846db-92e4-11ec-8a73-6b42dc3e1973-6-9255-f2cb-4d47-c971-144d-d0fb",
       "next": "a490b046-53a3-11ea-9227-0242ac120002-21-9ad7-9742-a1dd-a124-33c2-6a9b-9fcd-e30b-cc2e-25f6",
       "previous": "1e5f8eaa-4c67-11e9-b2d5-0242ac130002-21-f376-8d9d-2567-1a03-ce3c-2393-8bfb-564a-1325-fbf0"
      },
      {
       "current": "276846db-92e4-11ec-8a73-6b42dc3e1973-7-9255-f2cb-4d47-c971-144d-d0fb-5c5e",
       "next": "a490b046-53a3-11ea-9227-0242ac120002-22-9742-a1dd-a124-33c2-6a9b-9fcd-e30b-cc2e-25f6-6e74",
       "previous": "1e5f8eaa-4c67-11e9-b2d5-0242ac130002-22-8d9d-2567-1a03-ce3c-2393-8bfb-564a-1325-fbf0-7e0b"
      },
      {
       "current": "276846db-92e4-11ec-8a73-6b42dc3e1973-8-9255-f2cb-4d47-c971-144d-d0fb-5c5e-edd7",
       "next": "a490b046-53a3-11ea-9227-0242ac120002-23-a1dd-a124-33c2-6a9b-9fcd-e30b-cc2e-25f6-6e74-1759",
       "previous": "1e5f8eaa-4c67-11e9-b2d5-0242ac130002-23-2567-1a03-ce3c-2393-8bfb-564a-1325-fbf0-7e0b-126c"
      },
      {
       "current": "276846db-92e4-11ec-8a73-6b42dc3e1973-9-9255-f2cb-4d47-c971-144d-d0fb-5c5e-edd7-4f6a",
       "next": "a490b046-53a3-11ea-9227-0242ac120002-24-a124-33c2-6a9b-9fcd-e30b-cc2e-25f6-6e74-1759-7cf4",
       "previous": "1e5f8eaa-4c67-11e9-b2d5-0242ac130002-24-1a03-ce3c-2393-8bfb-564a-1325-fbf0-7e0b-126c-4cb1"
      },
      {
       "current": "276846db-92e4-11ec-8a73-6b42dc3e1973-10-9255-f2cb-4d47-c971-144d-d0fb-5c5e-edd7-4f6a-4940",
       "next": "a490b046-53a3-11ea-9227-0242ac120002-25-33c2-6a9b-9fcd-e30b-cc2e-25f6-6e74-1759-7cf4-b5b5",
       "previous": "1e5f8eaa-4c67-11e9-b2d5-0242ac130002-25-ce3c-2393-8bfb-564a-1325-fbf0-7e0b-126c-4cb1-751b"
      }
     ],
     "next": "a490b046-53a3-11ea-9227-0242ac120002-26-6a9b-9fcd-e30b-cc2e-25f6-6e74-1759-7cf4-b5b5-a765",
     "previous": "1e5f8eaa-4c67-11e9-b2d5-0242ac130002-26-2393-8bfb-564a-1325-fbf0-7e0b-126c-4cb1-751b-976d"
    }
   },
   "source": [
    "設定ファイルを生成"
   ]
  },
  {
   "cell_type": "code",
   "execution_count": null,
   "id": "35a9bcd3",
   "metadata": {
    "lc_cell_meme": {
     "current": "a490b046-53a3-11ea-9227-0242ac120002-26-6a9b-9fcd-e30b-cc2e-25f6-6e74-1759-7cf4-b5b5-a765",
     "history": [
      {
       "current": "a490b046-53a3-11ea-9227-0242ac120002-17-a087-19a3-995a-431d-9ad7-9742-a1dd-a124-33c2-6a9b",
       "next": "d929a180-5882-11ea-bd55-0242ac120002-16-a3e3-4e41-029c-a33b-6108-7436-52c0-f79e-53a6-831a",
       "previous": "9230a7cf-9307-11ec-9e1b-6b42dc3e1973-3-2896-0892-197b"
      },
      {
       "current": "a490b046-53a3-11ea-9227-0242ac120002-18-19a3-995a-431d-9ad7-9742-a1dd-a124-33c2-6a9b-9fcd",
       "next": "d929a180-5882-11ea-bd55-0242ac120002-16-a3e3-4e41-029c-a33b-6108-7436-52c0-f79e-53a6-831a",
       "previous": "ab1039bb-9a2a-11ec-8c7d-0242ac120002"
      },
      {
       "current": "a490b046-53a3-11ea-9227-0242ac120002-19-995a-431d-9ad7-9742-a1dd-a124-33c2-6a9b-9fcd-e30b",
       "next": "d929a180-5882-11ea-bd55-0242ac120002-16-a3e3-4e41-029c-a33b-6108-7436-52c0-f79e-53a6-3573",
       "previous": "276846db-92e4-11ec-8a73-6b42dc3e1973-2-9255-f2cb"
      },
      {
       "current": "a490b046-53a3-11ea-9227-0242ac120002-20-431d-9ad7-9742-a1dd-a124-33c2-6a9b-9fcd-e30b-cc2e",
       "next": "d929a180-5882-11ea-bd55-0242ac120002-17-4e41-029c-a33b-6108-7436-52c0-f79e-53a6-3573-a42f",
       "previous": "276846db-92e4-11ec-8a73-6b42dc3e1973-3-9255-f2cb-4d47"
      },
      {
       "current": "a490b046-53a3-11ea-9227-0242ac120002-21-9ad7-9742-a1dd-a124-33c2-6a9b-9fcd-e30b-cc2e-25f6",
       "next": "d929a180-5882-11ea-bd55-0242ac120002-18-029c-a33b-6108-7436-52c0-f79e-53a6-3573-a42f-c6ef",
       "previous": "276846db-92e4-11ec-8a73-6b42dc3e1973-4-9255-f2cb-4d47-c971"
      },
      {
       "current": "a490b046-53a3-11ea-9227-0242ac120002-22-9742-a1dd-a124-33c2-6a9b-9fcd-e30b-cc2e-25f6-6e74",
       "next": "d929a180-5882-11ea-bd55-0242ac120002-19-a33b-6108-7436-52c0-f79e-53a6-3573-a42f-c6ef-83f9",
       "previous": "276846db-92e4-11ec-8a73-6b42dc3e1973-5-9255-f2cb-4d47-c971-144d"
      },
      {
       "current": "a490b046-53a3-11ea-9227-0242ac120002-23-a1dd-a124-33c2-6a9b-9fcd-e30b-cc2e-25f6-6e74-1759",
       "next": "d929a180-5882-11ea-bd55-0242ac120002-20-6108-7436-52c0-f79e-53a6-3573-a42f-c6ef-83f9-550d",
       "previous": "276846db-92e4-11ec-8a73-6b42dc3e1973-6-9255-f2cb-4d47-c971-144d-d0fb"
      },
      {
       "current": "a490b046-53a3-11ea-9227-0242ac120002-24-a124-33c2-6a9b-9fcd-e30b-cc2e-25f6-6e74-1759-7cf4",
       "next": "d929a180-5882-11ea-bd55-0242ac120002-21-7436-52c0-f79e-53a6-3573-a42f-c6ef-83f9-550d-63fb",
       "previous": "276846db-92e4-11ec-8a73-6b42dc3e1973-7-9255-f2cb-4d47-c971-144d-d0fb-5c5e"
      },
      {
       "current": "a490b046-53a3-11ea-9227-0242ac120002-25-33c2-6a9b-9fcd-e30b-cc2e-25f6-6e74-1759-7cf4-b5b5",
       "next": "d929a180-5882-11ea-bd55-0242ac120002-22-52c0-f79e-53a6-3573-a42f-c6ef-83f9-550d-63fb-f5c8",
       "previous": "276846db-92e4-11ec-8a73-6b42dc3e1973-8-9255-f2cb-4d47-c971-144d-d0fb-5c5e-edd7"
      },
      {
       "current": "a490b046-53a3-11ea-9227-0242ac120002-26-6a9b-9fcd-e30b-cc2e-25f6-6e74-1759-7cf4-b5b5-a765",
       "next": "d929a180-5882-11ea-bd55-0242ac120002-23-f79e-53a6-3573-a42f-c6ef-83f9-550d-63fb-f5c8-87e9",
       "previous": "276846db-92e4-11ec-8a73-6b42dc3e1973-9-9255-f2cb-4d47-c971-144d-d0fb-5c5e-edd7-4f6a"
      }
     ],
     "next": "d929a180-5882-11ea-bd55-0242ac120002-24-53a6-3573-a42f-c6ef-83f9-550d-63fb-f5c8-87e9-7e25",
     "previous": "276846db-92e4-11ec-8a73-6b42dc3e1973-10-9255-f2cb-4d47-c971-144d-d0fb-5c5e-edd7-4f6a-4940"
    }
   },
   "outputs": [],
   "source": [
    "with open(os.path.join(work_dir, 'hub-const.php'), 'w') as f:\n",
    "    f.write('''<?php\n",
    "const COURSE_NAME = \"\";\n",
    "const HUB_URL = \"http://{master_ip}:8000\";\n",
    "const AUTHOR_GROUP_LIST = array ({{{{ cg_groups | map('regex_replace', '(^|$)', \"'\") | join('\\\", \\\"') }}}});\n",
    "const DB_USER = \"{db_user}\";\n",
    "const DB_PASS = \"{db_pass}\";\n",
    "const DB_PORT = \"5432\";\n",
    "const DB_NAME = \"{db_name}\";\n",
    "const DB_HOST = \"postgres\";\n",
    "?>'''.format(master_ip='jupyterhub', db_user=db_user, db_pass=db_pass, db_name=db_name))"
   ]
  },
  {
   "cell_type": "markdown",
   "id": "ede1666f",
   "metadata": {
    "lc_cell_meme": {
     "current": "d929a180-5882-11ea-bd55-0242ac120002-24-53a6-3573-a42f-c6ef-83f9-550d-63fb-f5c8-87e9-7e25",
     "history": [
      {
       "current": "d929a180-5882-11ea-bd55-0242ac120002-16-a3e3-4e41-029c-a33b-6108-7436-52c0-f79e-53a6-3573",
       "next": "d92a90ae-5882-11ea-bd55-0242ac120002-15-5d77-a882-d0b0-89a0-8ecd-904d-13cd-637d-4c84-1d8c",
       "previous": "a490b046-53a3-11ea-9227-0242ac120002-16-3fb8-a087-19a3-995a-431d-9ad7-9742-a1dd-a124-33c2"
      },
      {
       "current": "d929a180-5882-11ea-bd55-0242ac120002-16-a3e3-4e41-029c-a33b-6108-7436-52c0-f79e-53a6-3573",
       "next": "d92a90ae-5882-11ea-bd55-0242ac120002-16-a882-d0b0-89a0-8ecd-904d-13cd-637d-4c84-1d8c-064d",
       "previous": "a490b046-53a3-11ea-9227-0242ac120002-17-a087-19a3-995a-431d-9ad7-9742-a1dd-a124-33c2-f6a4"
      },
      {
       "current": "d929a180-5882-11ea-bd55-0242ac120002-17-4e41-029c-a33b-6108-7436-52c0-f79e-53a6-3573-a42f",
       "next": "d92a90ae-5882-11ea-bd55-0242ac120002-16-a882-d0b0-89a0-8ecd-904d-13cd-637d-4c84-1d8c-064d",
       "previous": "a490b046-53a3-11ea-9227-0242ac120002-18-19a3-995a-431d-9ad7-9742-a1dd-a124-33c2-6a9b-9fcd"
      },
      {
       "current": "d929a180-5882-11ea-bd55-0242ac120002-18-029c-a33b-6108-7436-52c0-f79e-53a6-3573-a42f-c6ef",
       "next": "d92a90ae-5882-11ea-bd55-0242ac120002-17-d0b0-89a0-8ecd-904d-13cd-637d-4c84-1d8c-064d-ff0b",
       "previous": "a490b046-53a3-11ea-9227-0242ac120002-19-995a-431d-9ad7-9742-a1dd-a124-33c2-6a9b-9fcd-e30b"
      },
      {
       "current": "d929a180-5882-11ea-bd55-0242ac120002-19-a33b-6108-7436-52c0-f79e-53a6-3573-a42f-c6ef-83f9",
       "next": "d92a90ae-5882-11ea-bd55-0242ac120002-18-89a0-8ecd-904d-13cd-637d-4c84-1d8c-064d-ff0b-ec66",
       "previous": "a490b046-53a3-11ea-9227-0242ac120002-20-431d-9ad7-9742-a1dd-a124-33c2-6a9b-9fcd-e30b-cc2e"
      },
      {
       "current": "d929a180-5882-11ea-bd55-0242ac120002-20-6108-7436-52c0-f79e-53a6-3573-a42f-c6ef-83f9-550d",
       "next": "d92a90ae-5882-11ea-bd55-0242ac120002-19-8ecd-904d-13cd-637d-4c84-1d8c-064d-ff0b-ec66-0f0f",
       "previous": "a490b046-53a3-11ea-9227-0242ac120002-21-9ad7-9742-a1dd-a124-33c2-6a9b-9fcd-e30b-cc2e-25f6"
      },
      {
       "current": "d929a180-5882-11ea-bd55-0242ac120002-21-7436-52c0-f79e-53a6-3573-a42f-c6ef-83f9-550d-63fb",
       "next": "d92a90ae-5882-11ea-bd55-0242ac120002-20-904d-13cd-637d-4c84-1d8c-064d-ff0b-ec66-0f0f-75b6",
       "previous": "a490b046-53a3-11ea-9227-0242ac120002-22-9742-a1dd-a124-33c2-6a9b-9fcd-e30b-cc2e-25f6-6e74"
      },
      {
       "current": "d929a180-5882-11ea-bd55-0242ac120002-22-52c0-f79e-53a6-3573-a42f-c6ef-83f9-550d-63fb-f5c8",
       "next": "d92a90ae-5882-11ea-bd55-0242ac120002-21-13cd-637d-4c84-1d8c-064d-ff0b-ec66-0f0f-75b6-c59d",
       "previous": "a490b046-53a3-11ea-9227-0242ac120002-23-a1dd-a124-33c2-6a9b-9fcd-e30b-cc2e-25f6-6e74-1759"
      },
      {
       "current": "d929a180-5882-11ea-bd55-0242ac120002-23-f79e-53a6-3573-a42f-c6ef-83f9-550d-63fb-f5c8-87e9",
       "next": "d92a90ae-5882-11ea-bd55-0242ac120002-22-637d-4c84-1d8c-064d-ff0b-ec66-0f0f-75b6-c59d-6a15",
       "previous": "a490b046-53a3-11ea-9227-0242ac120002-24-a124-33c2-6a9b-9fcd-e30b-cc2e-25f6-6e74-1759-7cf4"
      },
      {
       "current": "d929a180-5882-11ea-bd55-0242ac120002-24-53a6-3573-a42f-c6ef-83f9-550d-63fb-f5c8-87e9-7e25",
       "next": "d92a90ae-5882-11ea-bd55-0242ac120002-23-4c84-1d8c-064d-ff0b-ec66-0f0f-75b6-c59d-6a15-2de6",
       "previous": "a490b046-53a3-11ea-9227-0242ac120002-25-33c2-6a9b-9fcd-e30b-cc2e-25f6-6e74-1759-7cf4-b5b5"
      }
     ],
     "next": "d92a90ae-5882-11ea-bd55-0242ac120002-24-1d8c-064d-ff0b-ec66-0f0f-75b6-c59d-6a15-2de6-9fa8",
     "previous": "a490b046-53a3-11ea-9227-0242ac120002-26-6a9b-9fcd-e30b-cc2e-25f6-6e74-1759-7cf4-b5b5-a765"
    }
   },
   "source": [
    "設定ファイルを転送"
   ]
  },
  {
   "cell_type": "code",
   "execution_count": null,
   "id": "7e2b9889",
   "metadata": {
    "lc_cell_meme": {
     "current": "d92a90ae-5882-11ea-bd55-0242ac120002-24-1d8c-064d-ff0b-ec66-0f0f-75b6-c59d-6a15-2de6-9fa8",
     "history": [
      {
       "current": "d92a90ae-5882-11ea-bd55-0242ac120002-16-a882-d0b0-89a0-8ecd-904d-13cd-637d-4c84-1d8c-064d",
       "next": "74ec7288-547c-11ea-9227-0242ac120002-17-ecf0-b2d2-3123-ea56-d718-dfb6-14f4-72c2-ecb3-12ed",
       "previous": "d929a180-5882-11ea-bd55-0242ac120002-16-a3e3-4e41-029c-a33b-6108-7436-52c0-f79e-53a6-3573"
      },
      {
       "current": "d92a90ae-5882-11ea-bd55-0242ac120002-16-a882-d0b0-89a0-8ecd-904d-13cd-637d-4c84-1d8c-064d",
       "next": "697db6c7-a4d2-11ec-9f08-0242ac120002-1-a6fc",
       "previous": "d929a180-5882-11ea-bd55-0242ac120002-16-a3e3-4e41-029c-a33b-6108-7436-52c0-f79e-53a6-3573"
      },
      {
       "current": "d92a90ae-5882-11ea-bd55-0242ac120002-17-d0b0-89a0-8ecd-904d-13cd-637d-4c84-1d8c-064d-ff0b",
       "next": "74ec7288-547c-11ea-9227-0242ac120002-17-ecf0-b2d2-3123-ea56-d718-dfb6-14f4-72c2-ecb3-12ed",
       "previous": "d929a180-5882-11ea-bd55-0242ac120002-16-a3e3-4e41-029c-a33b-6108-7436-52c0-f79e-53a6-3573"
      },
      {
       "current": "d92a90ae-5882-11ea-bd55-0242ac120002-18-89a0-8ecd-904d-13cd-637d-4c84-1d8c-064d-ff0b-ec66",
       "next": "74ec7288-547c-11ea-9227-0242ac120002-18-b2d2-3123-ea56-d718-dfb6-14f4-72c2-ecb3-12ed-c263",
       "previous": "d929a180-5882-11ea-bd55-0242ac120002-17-4e41-029c-a33b-6108-7436-52c0-f79e-53a6-3573-a42f"
      },
      {
       "current": "d92a90ae-5882-11ea-bd55-0242ac120002-19-8ecd-904d-13cd-637d-4c84-1d8c-064d-ff0b-ec66-0f0f",
       "next": "74ec7288-547c-11ea-9227-0242ac120002-19-3123-ea56-d718-dfb6-14f4-72c2-ecb3-12ed-c263-d0e2",
       "previous": "d929a180-5882-11ea-bd55-0242ac120002-18-029c-a33b-6108-7436-52c0-f79e-53a6-3573-a42f-c6ef"
      },
      {
       "current": "d92a90ae-5882-11ea-bd55-0242ac120002-20-904d-13cd-637d-4c84-1d8c-064d-ff0b-ec66-0f0f-75b6",
       "next": "74ec7288-547c-11ea-9227-0242ac120002-20-ea56-d718-dfb6-14f4-72c2-ecb3-12ed-c263-d0e2-e88d",
       "previous": "d929a180-5882-11ea-bd55-0242ac120002-19-a33b-6108-7436-52c0-f79e-53a6-3573-a42f-c6ef-83f9"
      },
      {
       "current": "d92a90ae-5882-11ea-bd55-0242ac120002-21-13cd-637d-4c84-1d8c-064d-ff0b-ec66-0f0f-75b6-c59d",
       "next": "74ec7288-547c-11ea-9227-0242ac120002-21-d718-dfb6-14f4-72c2-ecb3-12ed-c263-d0e2-e88d-4933",
       "previous": "d929a180-5882-11ea-bd55-0242ac120002-20-6108-7436-52c0-f79e-53a6-3573-a42f-c6ef-83f9-550d"
      },
      {
       "current": "d92a90ae-5882-11ea-bd55-0242ac120002-22-637d-4c84-1d8c-064d-ff0b-ec66-0f0f-75b6-c59d-6a15",
       "next": "74ec7288-547c-11ea-9227-0242ac120002-22-dfb6-14f4-72c2-ecb3-12ed-c263-d0e2-e88d-4933-7dd5",
       "previous": "d929a180-5882-11ea-bd55-0242ac120002-21-7436-52c0-f79e-53a6-3573-a42f-c6ef-83f9-550d-63fb"
      },
      {
       "current": "d92a90ae-5882-11ea-bd55-0242ac120002-23-4c84-1d8c-064d-ff0b-ec66-0f0f-75b6-c59d-6a15-2de6",
       "next": "74ec7288-547c-11ea-9227-0242ac120002-23-14f4-72c2-ecb3-12ed-c263-d0e2-e88d-4933-7dd5-c343",
       "previous": "d929a180-5882-11ea-bd55-0242ac120002-22-52c0-f79e-53a6-3573-a42f-c6ef-83f9-550d-63fb-f5c8"
      },
      {
       "current": "d92a90ae-5882-11ea-bd55-0242ac120002-24-1d8c-064d-ff0b-ec66-0f0f-75b6-c59d-6a15-2de6-9fa8",
       "next": "74ec7288-547c-11ea-9227-0242ac120002-24-72c2-ecb3-12ed-c263-d0e2-e88d-4933-7dd5-c343-1762",
       "previous": "d929a180-5882-11ea-bd55-0242ac120002-23-f79e-53a6-3573-a42f-c6ef-83f9-550d-63fb-f5c8-87e9"
      }
     ],
     "next": "74ec7288-547c-11ea-9227-0242ac120002-25-ecb3-12ed-c263-d0e2-e88d-4933-7dd5-c343-1762-4ff8",
     "previous": "d929a180-5882-11ea-bd55-0242ac120002-24-53a6-3573-a42f-c6ef-83f9-550d-63fb-f5c8-87e9-7e25"
    }
   },
   "outputs": [],
   "source": [
    "!ansible -b -m template -a 'src={work_dir}/hub-const.php dest=/etc/jupyterhub/hub-const.php'  {target_hub} -l {target_group}"
   ]
  },
  {
   "cell_type": "markdown",
   "id": "3a2d8390",
   "metadata": {
    "lc_cell_meme": {
     "current": "74ec7288-547c-11ea-9227-0242ac120002-25-ecb3-12ed-c263-d0e2-e88d-4933-7dd5-c343-1762-4ff8",
     "history": [
      {
       "current": "74ec7288-547c-11ea-9227-0242ac120002-17-ecf0-b2d2-3123-ea56-d718-dfb6-14f4-72c2-ecb3-12ed",
       "next": "5940ca2e-b24a-11e7-a38f-0242ac120002-18-d8f9-d279-6f67-53fe-a454-f698-e3a2-8647-6621-71a9",
       "previous": "f2b66634-a4e4-11ec-883f-0242ac120002"
      },
      {
       "current": "74ec7288-547c-11ea-9227-0242ac120002-17-ecf0-b2d2-3123-ea56-d718-dfb6-14f4-72c2-ecb3-12ed",
       "next": "5940ca2e-b24a-11e7-a38f-0242ac120002-18-d8f9-d279-6f67-53fe-a454-f698-e3a2-8647-6621-71a9",
       "previous": "f8638b90-a4d2-11ec-9a8c-0242ac120002-4-b56f-c262-4c66-97bf"
      },
      {
       "current": "74ec7288-547c-11ea-9227-0242ac120002-18-b2d2-3123-ea56-d718-dfb6-14f4-72c2-ecb3-12ed-c263",
       "next": "5940ca2e-b24a-11e7-a38f-0242ac120002-18-d8f9-d279-6f67-53fe-a454-f698-e3a2-8647-6621-71a9",
       "previous": "d92a90ae-5882-11ea-bd55-0242ac120002-16-a882-d0b0-89a0-8ecd-904d-13cd-637d-4c84-1d8c-064d"
      },
      {
       "current": "74ec7288-547c-11ea-9227-0242ac120002-19-3123-ea56-d718-dfb6-14f4-72c2-ecb3-12ed-c263-d0e2",
       "next": "5940ca2e-b24a-11e7-a38f-0242ac120002-19-d279-6f67-53fe-a454-f698-e3a2-8647-6621-71a9-e5c7",
       "previous": "d92a90ae-5882-11ea-bd55-0242ac120002-17-d0b0-89a0-8ecd-904d-13cd-637d-4c84-1d8c-064d-ff0b"
      },
      {
       "current": "74ec7288-547c-11ea-9227-0242ac120002-20-ea56-d718-dfb6-14f4-72c2-ecb3-12ed-c263-d0e2-e88d",
       "next": "5940ca2e-b24a-11e7-a38f-0242ac120002-20-6f67-53fe-a454-f698-e3a2-8647-6621-71a9-e5c7-e5dd",
       "previous": "d92a90ae-5882-11ea-bd55-0242ac120002-18-89a0-8ecd-904d-13cd-637d-4c84-1d8c-064d-ff0b-ec66"
      },
      {
       "current": "74ec7288-547c-11ea-9227-0242ac120002-21-d718-dfb6-14f4-72c2-ecb3-12ed-c263-d0e2-e88d-4933",
       "next": "5940ca2e-b24a-11e7-a38f-0242ac120002-21-53fe-a454-f698-e3a2-8647-6621-71a9-e5c7-e5dd-b962",
       "previous": "d92a90ae-5882-11ea-bd55-0242ac120002-19-8ecd-904d-13cd-637d-4c84-1d8c-064d-ff0b-ec66-0f0f"
      },
      {
       "current": "74ec7288-547c-11ea-9227-0242ac120002-22-dfb6-14f4-72c2-ecb3-12ed-c263-d0e2-e88d-4933-7dd5",
       "next": "5940ca2e-b24a-11e7-a38f-0242ac120002-22-a454-f698-e3a2-8647-6621-71a9-e5c7-e5dd-b962-f7d5",
       "previous": "d92a90ae-5882-11ea-bd55-0242ac120002-20-904d-13cd-637d-4c84-1d8c-064d-ff0b-ec66-0f0f-75b6"
      },
      {
       "current": "74ec7288-547c-11ea-9227-0242ac120002-23-14f4-72c2-ecb3-12ed-c263-d0e2-e88d-4933-7dd5-c343",
       "next": "5940ca2e-b24a-11e7-a38f-0242ac120002-23-f698-e3a2-8647-6621-71a9-e5c7-e5dd-b962-f7d5-7ce8",
       "previous": "d92a90ae-5882-11ea-bd55-0242ac120002-21-13cd-637d-4c84-1d8c-064d-ff0b-ec66-0f0f-75b6-c59d"
      },
      {
       "current": "74ec7288-547c-11ea-9227-0242ac120002-24-72c2-ecb3-12ed-c263-d0e2-e88d-4933-7dd5-c343-1762",
       "next": "5940ca2e-b24a-11e7-a38f-0242ac120002-24-e3a2-8647-6621-71a9-e5c7-e5dd-b962-f7d5-7ce8-1320",
       "previous": "d92a90ae-5882-11ea-bd55-0242ac120002-22-637d-4c84-1d8c-064d-ff0b-ec66-0f0f-75b6-c59d-6a15"
      },
      {
       "current": "74ec7288-547c-11ea-9227-0242ac120002-25-ecb3-12ed-c263-d0e2-e88d-4933-7dd5-c343-1762-4ff8",
       "next": "5940ca2e-b24a-11e7-a38f-0242ac120002-25-8647-6621-71a9-e5c7-e5dd-b962-f7d5-7ce8-1320-a68c",
       "previous": "d92a90ae-5882-11ea-bd55-0242ac120002-23-4c84-1d8c-064d-ff0b-ec66-0f0f-75b6-c59d-6a15-2de6"
      }
     ],
     "next": "5940ca2e-b24a-11e7-a38f-0242ac120002-26-6621-71a9-e5c7-e5dd-b962-f7d5-7ce8-1320-a68c-a411",
     "previous": "d92a90ae-5882-11ea-bd55-0242ac120002-24-1d8c-064d-ff0b-ec66-0f0f-75b6-c59d-6a15-2de6-9fa8"
    }
   },
   "source": [
    "証明書、秘密鍵等を全ノードにデプロイする\n"
   ]
  },
  {
   "cell_type": "code",
   "execution_count": null,
   "id": "f59188ac",
   "metadata": {
    "lc_cell_meme": {
     "current": "5940ca2e-b24a-11e7-a38f-0242ac120002-26-6621-71a9-e5c7-e5dd-b962-f7d5-7ce8-1320-a68c-a411",
     "history": [
      {
       "current": "5940ca2e-b24a-11e7-a38f-0242ac120002-17-4fc3-d8f9-d279-6f67-53fe-a454-f698-e3a2-8647-6621",
       "next": "86c0c1ea-d600-11e8-a64b-02420aff0006-16-8f03-e282-0168-1f94-9928-38de-0493-2eed-750d-8408",
       "previous": "74ec7288-547c-11ea-9227-0242ac120002-15-b3bd-0380-ecf0-b2d2-3123-ea56-d718-dfb6-14f4-72c2"
      },
      {
       "current": "5940ca2e-b24a-11e7-a38f-0242ac120002-18-d8f9-d279-6f67-53fe-a454-f698-e3a2-8647-6621-71a9",
       "next": "86c0c1ea-d600-11e8-a64b-02420aff0006-17-e282-0168-1f94-9928-38de-0493-2eed-750d-8408-7bfd",
       "previous": "74ec7288-547c-11ea-9227-0242ac120002-16-0380-ecf0-b2d2-3123-ea56-d718-dfb6-14f4-72c2-ecb3"
      },
      {
       "current": "5940ca2e-b24a-11e7-a38f-0242ac120002-19-d279-6f67-53fe-a454-f698-e3a2-8647-6621-71a9-e5c7",
       "next": "86c0c1ea-d600-11e8-a64b-02420aff0006-18-0168-1f94-9928-38de-0493-2eed-750d-8408-7bfd-e912",
       "previous": "74ec7288-547c-11ea-9227-0242ac120002-17-ecf0-b2d2-3123-ea56-d718-dfb6-14f4-72c2-ecb3-12ed"
      },
      {
       "current": "5940ca2e-b24a-11e7-a38f-0242ac120002-20-6f67-53fe-a454-f698-e3a2-8647-6621-71a9-e5c7-e5dd",
       "next": "86c0c1ea-d600-11e8-a64b-02420aff0006-19-1f94-9928-38de-0493-2eed-750d-8408-7bfd-e912-16be",
       "previous": "74ec7288-547c-11ea-9227-0242ac120002-18-b2d2-3123-ea56-d718-dfb6-14f4-72c2-ecb3-12ed-c263"
      },
      {
       "current": "5940ca2e-b24a-11e7-a38f-0242ac120002-21-53fe-a454-f698-e3a2-8647-6621-71a9-e5c7-e5dd-b962",
       "next": "86c0c1ea-d600-11e8-a64b-02420aff0006-20-9928-38de-0493-2eed-750d-8408-7bfd-e912-16be-10bc",
       "previous": "74ec7288-547c-11ea-9227-0242ac120002-19-3123-ea56-d718-dfb6-14f4-72c2-ecb3-12ed-c263-d0e2"
      },
      {
       "current": "5940ca2e-b24a-11e7-a38f-0242ac120002-22-a454-f698-e3a2-8647-6621-71a9-e5c7-e5dd-b962-f7d5",
       "next": "86c0c1ea-d600-11e8-a64b-02420aff0006-21-38de-0493-2eed-750d-8408-7bfd-e912-16be-10bc-5aed",
       "previous": "74ec7288-547c-11ea-9227-0242ac120002-20-ea56-d718-dfb6-14f4-72c2-ecb3-12ed-c263-d0e2-e88d"
      },
      {
       "current": "5940ca2e-b24a-11e7-a38f-0242ac120002-23-f698-e3a2-8647-6621-71a9-e5c7-e5dd-b962-f7d5-7ce8",
       "next": "86c0c1ea-d600-11e8-a64b-02420aff0006-22-0493-2eed-750d-8408-7bfd-e912-16be-10bc-5aed-d9ed",
       "previous": "74ec7288-547c-11ea-9227-0242ac120002-21-d718-dfb6-14f4-72c2-ecb3-12ed-c263-d0e2-e88d-4933"
      },
      {
       "current": "5940ca2e-b24a-11e7-a38f-0242ac120002-24-e3a2-8647-6621-71a9-e5c7-e5dd-b962-f7d5-7ce8-1320",
       "next": "86c0c1ea-d600-11e8-a64b-02420aff0006-23-2eed-750d-8408-7bfd-e912-16be-10bc-5aed-d9ed-833f",
       "previous": "74ec7288-547c-11ea-9227-0242ac120002-22-dfb6-14f4-72c2-ecb3-12ed-c263-d0e2-e88d-4933-7dd5"
      },
      {
       "current": "5940ca2e-b24a-11e7-a38f-0242ac120002-25-8647-6621-71a9-e5c7-e5dd-b962-f7d5-7ce8-1320-a68c",
       "next": "86c0c1ea-d600-11e8-a64b-02420aff0006-24-750d-8408-7bfd-e912-16be-10bc-5aed-d9ed-833f-f0d3",
       "previous": "74ec7288-547c-11ea-9227-0242ac120002-23-14f4-72c2-ecb3-12ed-c263-d0e2-e88d-4933-7dd5-c343"
      },
      {
       "current": "5940ca2e-b24a-11e7-a38f-0242ac120002-26-6621-71a9-e5c7-e5dd-b962-f7d5-7ce8-1320-a68c-a411",
       "next": "86c0c1ea-d600-11e8-a64b-02420aff0006-25-8408-7bfd-e912-16be-10bc-5aed-d9ed-833f-f0d3-9781",
       "previous": "74ec7288-547c-11ea-9227-0242ac120002-24-72c2-ecb3-12ed-c263-d0e2-e88d-4933-7dd5-c343-1762"
      }
     ],
     "next": "86c0c1ea-d600-11e8-a64b-02420aff0006-26-7bfd-e912-16be-10bc-5aed-d9ed-833f-f0d3-9781-d1f1",
     "previous": "74ec7288-547c-11ea-9227-0242ac120002-25-ecb3-12ed-c263-d0e2-e88d-4933-7dd5-c343-1762-4ff8"
    },
    "scrolled": true
   },
   "outputs": [],
   "source": [
    "!ansible -b -m file -a 'path=/etc/jupyterhub/nginx/certs state=directory' {target_hub} -l {target_group}\n",
    "!ansible -b -a 'cp {os.path.join(certreq_path, master_fqdn + \".key\")} /etc/jupyterhub/nginx/certs/auth-proxy.key' {target_hub} -l {target_group}\n",
    "if intermediate_certfile:\n",
    "    !ansible -b -m shell -a 'cat {os.path.join(certreq_path, master_fqdn + \".cer\")} \\\n",
    "      {os.path.join(certreq_path, intermediate_certfile)} \\\n",
    "      > /etc/jupyterhub/nginx/certs/auth-proxy.chained.cer' {target_hub} -l {target_group}\n",
    "else:\n",
    "    !ansible -b -m shell -a 'cat {os.path.join(certreq_path, master_fqdn + \".cer\")} \\\n",
    "      > /etc/jupyterhub/nginx/certs/auth-proxy.chained.cer' {target_hub}\n",
    "!ansible -b -m file -a 'path=/etc/jupyterhub/simplesamlphp/cert state=directory' {target_hub} -l {target_group}\n",
    "!ansible -b -a 'cp {os.path.join(certreq_path, master_fqdn + \".key\")} /etc/jupyterhub/simplesamlphp/cert/auth-proxy.key' {target_hub} -l {target_group}\n",
    "if not enable_federation and auth_fqdn != '':\n",
    "    !ansible -b -a 'cp {os.path.join(certreq_path, auth_fqdn + \".cer\")} /etc/jupyterhub/simplesamlphp/cert/idp-proxy.cer' {target_hub} -l {target_group}\n",
    "!ansible -b -m shell -a 'cp {os.path.join(certreq_path, master_fqdn + \".cer\")} \\\n",
    "    /etc/jupyterhub/simplesamlphp/cert/auth-proxy.cer' {target_hub} -l {target_group}"
   ]
  },
  {
   "cell_type": "code",
   "execution_count": null,
   "id": "fdf2bd4c",
   "metadata": {
    "lc_cell_meme": {
     "current": "86c0c1ea-d600-11e8-a64b-02420aff0006-26-7bfd-e912-16be-10bc-5aed-d9ed-833f-f0d3-9781-d1f1",
     "history": [
      {
       "current": "86c0c1ea-d600-11e8-a64b-02420aff0006-17-e282-0168-1f94-9928-38de-0493-2eed-750d-8408-7bfd",
       "next": "d92a931a-5882-11ea-bd55-0242ac120002-14-04e6-916d-9bdf-7d38-2afd-60ed-7aae-d804-53cc-d59c",
       "previous": "5940ca2e-b24a-11e7-a38f-0242ac120002-16-388f-4fc3-d8f9-d279-6f67-53fe-a454-f698-e3a2-8647"
      },
      {
       "current": "86c0c1ea-d600-11e8-a64b-02420aff0006-18-0168-1f94-9928-38de-0493-2eed-750d-8408-7bfd-e912",
       "next": "d92a931a-5882-11ea-bd55-0242ac120002-15-916d-9bdf-7d38-2afd-60ed-7aae-d804-53cc-d59c-57ac",
       "previous": "5940ca2e-b24a-11e7-a38f-0242ac120002-17-4fc3-d8f9-d279-6f67-53fe-a454-f698-e3a2-8647-6621"
      },
      {
       "current": "86c0c1ea-d600-11e8-a64b-02420aff0006-19-1f94-9928-38de-0493-2eed-750d-8408-7bfd-e912-16be",
       "next": "d92a931a-5882-11ea-bd55-0242ac120002-16-9bdf-7d38-2afd-60ed-7aae-d804-53cc-d59c-57ac-5fd9",
       "previous": "5940ca2e-b24a-11e7-a38f-0242ac120002-18-d8f9-d279-6f67-53fe-a454-f698-e3a2-8647-6621-71a9"
      },
      {
       "current": "86c0c1ea-d600-11e8-a64b-02420aff0006-20-9928-38de-0493-2eed-750d-8408-7bfd-e912-16be-10bc",
       "next": "d92a931a-5882-11ea-bd55-0242ac120002-17-7d38-2afd-60ed-7aae-d804-53cc-d59c-57ac-5fd9-e975",
       "previous": "5940ca2e-b24a-11e7-a38f-0242ac120002-19-d279-6f67-53fe-a454-f698-e3a2-8647-6621-71a9-e5c7"
      },
      {
       "current": "86c0c1ea-d600-11e8-a64b-02420aff0006-21-38de-0493-2eed-750d-8408-7bfd-e912-16be-10bc-5aed",
       "next": "d92a931a-5882-11ea-bd55-0242ac120002-18-2afd-60ed-7aae-d804-53cc-d59c-57ac-5fd9-e975-aae8",
       "previous": "5940ca2e-b24a-11e7-a38f-0242ac120002-20-6f67-53fe-a454-f698-e3a2-8647-6621-71a9-e5c7-e5dd"
      },
      {
       "current": "86c0c1ea-d600-11e8-a64b-02420aff0006-22-0493-2eed-750d-8408-7bfd-e912-16be-10bc-5aed-d9ed",
       "next": "d92a931a-5882-11ea-bd55-0242ac120002-19-60ed-7aae-d804-53cc-d59c-57ac-5fd9-e975-aae8-77b4",
       "previous": "5940ca2e-b24a-11e7-a38f-0242ac120002-21-53fe-a454-f698-e3a2-8647-6621-71a9-e5c7-e5dd-b962"
      },
      {
       "current": "86c0c1ea-d600-11e8-a64b-02420aff0006-23-2eed-750d-8408-7bfd-e912-16be-10bc-5aed-d9ed-833f",
       "next": "d92a931a-5882-11ea-bd55-0242ac120002-20-7aae-d804-53cc-d59c-57ac-5fd9-e975-aae8-77b4-6134",
       "previous": "5940ca2e-b24a-11e7-a38f-0242ac120002-22-a454-f698-e3a2-8647-6621-71a9-e5c7-e5dd-b962-f7d5"
      },
      {
       "current": "86c0c1ea-d600-11e8-a64b-02420aff0006-24-750d-8408-7bfd-e912-16be-10bc-5aed-d9ed-833f-f0d3",
       "next": "d92a931a-5882-11ea-bd55-0242ac120002-21-d804-53cc-d59c-57ac-5fd9-e975-aae8-77b4-6134-8e01",
       "previous": "5940ca2e-b24a-11e7-a38f-0242ac120002-23-f698-e3a2-8647-6621-71a9-e5c7-e5dd-b962-f7d5-7ce8"
      },
      {
       "current": "86c0c1ea-d600-11e8-a64b-02420aff0006-25-8408-7bfd-e912-16be-10bc-5aed-d9ed-833f-f0d3-9781",
       "next": "d92a931a-5882-11ea-bd55-0242ac120002-22-53cc-d59c-57ac-5fd9-e975-aae8-77b4-6134-8e01-45a5",
       "previous": "5940ca2e-b24a-11e7-a38f-0242ac120002-24-e3a2-8647-6621-71a9-e5c7-e5dd-b962-f7d5-7ce8-1320"
      },
      {
       "current": "86c0c1ea-d600-11e8-a64b-02420aff0006-26-7bfd-e912-16be-10bc-5aed-d9ed-833f-f0d3-9781-d1f1",
       "next": "d92a931a-5882-11ea-bd55-0242ac120002-23-d59c-57ac-5fd9-e975-aae8-77b4-6134-8e01-45a5-c508",
       "previous": "5940ca2e-b24a-11e7-a38f-0242ac120002-25-8647-6621-71a9-e5c7-e5dd-b962-f7d5-7ce8-1320-a68c"
      }
     ],
     "next": "d92a931a-5882-11ea-bd55-0242ac120002-24-57ac-5fd9-e975-aae8-77b4-6134-8e01-45a5-c508-b63b",
     "previous": "5940ca2e-b24a-11e7-a38f-0242ac120002-26-6621-71a9-e5c7-e5dd-b962-f7d5-7ce8-1320-a68c-a411"
    },
    "scrolled": true
   },
   "outputs": [],
   "source": [
    "!ansible -b -m shell -a 'chdir=/etc/jupyterhub/ rm -f /exchange/config-jupyterhub.tar.gz && \\\n",
    "         tar czvf /exchange/config-jupyterhub.tar.gz .' {target_hub} -l {target_group}\n",
    "!ansible -b -m file -a 'path=/etc/jupyterhub state=absent' {target_nodes} -l {target_group}\n",
    "!ansible -b -m file -a 'path=/etc/jupyterhub state=directory' {target_nodes} -l {target_group}\n",
    "!ansible -b -m shell -a 'chdir=/etc/jupyterhub/ tar zxvf /exchange/config-jupyterhub.tar.gz' {target_nodes} -l {target_group}\n",
    "!ansible -b -m file -a 'path=/exchange/config-jupyterhub.tar.gz state=absent' {target_hub} -l {target_group}"
   ]
  },
  {
   "cell_type": "markdown",
   "id": "be7ffbd6",
   "metadata": {
    "lc_cell_meme": {
     "current": "d92a931a-5882-11ea-bd55-0242ac120002-24-57ac-5fd9-e975-aae8-77b4-6134-8e01-45a5-c508-b63b",
     "history": [
      {
       "current": "d92a931a-5882-11ea-bd55-0242ac120002-15-916d-9bdf-7d38-2afd-60ed-7aae-d804-53cc-d59c-57ac",
       "next": "56e2c76e-208a-11e9-99c7-02420aff0008-16-256a-986e-9b7f-7b0d-4d92-35b4-12ed-ab66-c379-2498",
       "previous": "86c0c1ea-d600-11e8-a64b-02420aff0006-16-8f03-e282-0168-1f94-9928-38de-0493-2eed-750d-8408"
      },
      {
       "current": "d92a931a-5882-11ea-bd55-0242ac120002-16-9bdf-7d38-2afd-60ed-7aae-d804-53cc-d59c-57ac-5fd9",
       "next": "56e2c76e-208a-11e9-99c7-02420aff0008-17-986e-9b7f-7b0d-4d92-35b4-12ed-ab66-c379-2498-1af6",
       "previous": "86c0c1ea-d600-11e8-a64b-02420aff0006-17-e282-0168-1f94-9928-38de-0493-2eed-750d-8408-7bfd"
      },
      {
       "current": "d92a931a-5882-11ea-bd55-0242ac120002-17-7d38-2afd-60ed-7aae-d804-53cc-d59c-57ac-5fd9-e975",
       "next": "56e2c76e-208a-11e9-99c7-02420aff0008-18-9b7f-7b0d-4d92-35b4-12ed-ab66-c379-2498-1af6-e00c",
       "previous": "86c0c1ea-d600-11e8-a64b-02420aff0006-18-0168-1f94-9928-38de-0493-2eed-750d-8408-7bfd-e912"
      },
      {
       "current": "d92a931a-5882-11ea-bd55-0242ac120002-18-2afd-60ed-7aae-d804-53cc-d59c-57ac-5fd9-e975-aae8",
       "next": "56e2c76e-208a-11e9-99c7-02420aff0008-19-7b0d-4d92-35b4-12ed-ab66-c379-2498-1af6-e00c-b148",
       "previous": "86c0c1ea-d600-11e8-a64b-02420aff0006-19-1f94-9928-38de-0493-2eed-750d-8408-7bfd-e912-16be"
      },
      {
       "current": "d92a931a-5882-11ea-bd55-0242ac120002-19-60ed-7aae-d804-53cc-d59c-57ac-5fd9-e975-aae8-77b4",
       "next": "56e2c76e-208a-11e9-99c7-02420aff0008-20-4d92-35b4-12ed-ab66-c379-2498-1af6-e00c-b148-7ced",
       "previous": "86c0c1ea-d600-11e8-a64b-02420aff0006-20-9928-38de-0493-2eed-750d-8408-7bfd-e912-16be-10bc"
      },
      {
       "current": "d92a931a-5882-11ea-bd55-0242ac120002-20-7aae-d804-53cc-d59c-57ac-5fd9-e975-aae8-77b4-6134",
       "next": "56e2c76e-208a-11e9-99c7-02420aff0008-21-35b4-12ed-ab66-c379-2498-1af6-e00c-b148-7ced-34f8",
       "previous": "86c0c1ea-d600-11e8-a64b-02420aff0006-21-38de-0493-2eed-750d-8408-7bfd-e912-16be-10bc-5aed"
      },
      {
       "current": "d92a931a-5882-11ea-bd55-0242ac120002-21-d804-53cc-d59c-57ac-5fd9-e975-aae8-77b4-6134-8e01",
       "next": "56e2c76e-208a-11e9-99c7-02420aff0008-22-12ed-ab66-c379-2498-1af6-e00c-b148-7ced-34f8-53ea",
       "previous": "86c0c1ea-d600-11e8-a64b-02420aff0006-22-0493-2eed-750d-8408-7bfd-e912-16be-10bc-5aed-d9ed"
      },
      {
       "current": "d92a931a-5882-11ea-bd55-0242ac120002-22-53cc-d59c-57ac-5fd9-e975-aae8-77b4-6134-8e01-45a5",
       "next": "56e2c76e-208a-11e9-99c7-02420aff0008-23-ab66-c379-2498-1af6-e00c-b148-7ced-34f8-53ea-d107",
       "previous": "86c0c1ea-d600-11e8-a64b-02420aff0006-23-2eed-750d-8408-7bfd-e912-16be-10bc-5aed-d9ed-833f"
      },
      {
       "current": "d92a931a-5882-11ea-bd55-0242ac120002-23-d59c-57ac-5fd9-e975-aae8-77b4-6134-8e01-45a5-c508",
       "next": "56e2c76e-208a-11e9-99c7-02420aff0008-24-c379-2498-1af6-e00c-b148-7ced-34f8-53ea-d107-be85",
       "previous": "86c0c1ea-d600-11e8-a64b-02420aff0006-24-750d-8408-7bfd-e912-16be-10bc-5aed-d9ed-833f-f0d3"
      },
      {
       "current": "d92a931a-5882-11ea-bd55-0242ac120002-24-57ac-5fd9-e975-aae8-77b4-6134-8e01-45a5-c508-b63b",
       "next": "56e2c76e-208a-11e9-99c7-02420aff0008-25-2498-1af6-e00c-b148-7ced-34f8-53ea-d107-be85-ecc3",
       "previous": "86c0c1ea-d600-11e8-a64b-02420aff0006-25-8408-7bfd-e912-16be-10bc-5aed-d9ed-833f-f0d3-9781"
      }
     ],
     "next": "56e2c76e-208a-11e9-99c7-02420aff0008-26-1af6-e00c-b148-7ced-34f8-53ea-d107-be85-ecc3-55ef",
     "previous": "86c0c1ea-d600-11e8-a64b-02420aff0006-26-7bfd-e912-16be-10bc-5aed-d9ed-833f-f0d3-9781-d1f1"
    }
   },
   "source": [
    "SimpleSAMLphp cronモジュールのトリガー用secret文字列を生成"
   ]
  },
  {
   "cell_type": "code",
   "execution_count": null,
   "id": "965cc519",
   "metadata": {
    "lc_cell_meme": {
     "current": "56e2c76e-208a-11e9-99c7-02420aff0008-26-1af6-e00c-b148-7ced-34f8-53ea-d107-be85-ecc3-55ef",
     "history": [
      {
       "current": "56e2c76e-208a-11e9-99c7-02420aff0008-17-986e-9b7f-7b0d-4d92-35b4-12ed-ab66-c379-2498-1af6",
       "next": "af7d6fc9-92df-11ec-864d-6b42dc3e1973",
       "previous": "d92a931a-5882-11ea-bd55-0242ac120002-14-04e6-916d-9bdf-7d38-2afd-60ed-7aae-d804-53cc-d59c"
      },
      {
       "current": "56e2c76e-208a-11e9-99c7-02420aff0008-18-9b7f-7b0d-4d92-35b4-12ed-ab66-c379-2498-1af6-e00c",
       "next": "af7d6fc9-92df-11ec-864d-6b42dc3e1973-1-20bc",
       "previous": "d92a931a-5882-11ea-bd55-0242ac120002-15-916d-9bdf-7d38-2afd-60ed-7aae-d804-53cc-d59c-57ac"
      },
      {
       "current": "56e2c76e-208a-11e9-99c7-02420aff0008-19-7b0d-4d92-35b4-12ed-ab66-c379-2498-1af6-e00c-b148",
       "next": "cd17dd64-92e0-11ec-a962-6b42dc3e1973-2-29a9-713e",
       "previous": "d92a931a-5882-11ea-bd55-0242ac120002-16-9bdf-7d38-2afd-60ed-7aae-d804-53cc-d59c-57ac-5fd9"
      },
      {
       "current": "56e2c76e-208a-11e9-99c7-02420aff0008-20-4d92-35b4-12ed-ab66-c379-2498-1af6-e00c-b148-7ced",
       "next": "cd17dd64-92e0-11ec-a962-6b42dc3e1973-3-29a9-713e-b87a",
       "previous": "d92a931a-5882-11ea-bd55-0242ac120002-17-7d38-2afd-60ed-7aae-d804-53cc-d59c-57ac-5fd9-e975"
      },
      {
       "current": "56e2c76e-208a-11e9-99c7-02420aff0008-21-35b4-12ed-ab66-c379-2498-1af6-e00c-b148-7ced-34f8",
       "next": "cd17dd64-92e0-11ec-a962-6b42dc3e1973-4-29a9-713e-b87a-3bfc",
       "previous": "d92a931a-5882-11ea-bd55-0242ac120002-18-2afd-60ed-7aae-d804-53cc-d59c-57ac-5fd9-e975-aae8"
      },
      {
       "current": "56e2c76e-208a-11e9-99c7-02420aff0008-22-12ed-ab66-c379-2498-1af6-e00c-b148-7ced-34f8-53ea",
       "next": "cd17dd64-92e0-11ec-a962-6b42dc3e1973-5-29a9-713e-b87a-3bfc-01d6",
       "previous": "d92a931a-5882-11ea-bd55-0242ac120002-19-60ed-7aae-d804-53cc-d59c-57ac-5fd9-e975-aae8-77b4"
      },
      {
       "current": "56e2c76e-208a-11e9-99c7-02420aff0008-23-ab66-c379-2498-1af6-e00c-b148-7ced-34f8-53ea-d107",
       "next": "ae8e86dc-acfa-11ed-b564-0242ac120006-2-7273-2def",
       "previous": "d92a931a-5882-11ea-bd55-0242ac120002-20-7aae-d804-53cc-d59c-57ac-5fd9-e975-aae8-77b4-6134"
      },
      {
       "current": "56e2c76e-208a-11e9-99c7-02420aff0008-24-c379-2498-1af6-e00c-b148-7ced-34f8-53ea-d107-be85",
       "next": "ae8e86dc-acfa-11ed-b564-0242ac120006-3-7273-2def-182a",
       "previous": "d92a931a-5882-11ea-bd55-0242ac120002-21-d804-53cc-d59c-57ac-5fd9-e975-aae8-77b4-6134-8e01"
      },
      {
       "current": "56e2c76e-208a-11e9-99c7-02420aff0008-25-2498-1af6-e00c-b148-7ced-34f8-53ea-d107-be85-ecc3",
       "next": "ae8e86dc-acfa-11ed-b564-0242ac120006-4-7273-2def-182a-7f7f",
       "previous": "d92a931a-5882-11ea-bd55-0242ac120002-22-53cc-d59c-57ac-5fd9-e975-aae8-77b4-6134-8e01-45a5"
      },
      {
       "current": "56e2c76e-208a-11e9-99c7-02420aff0008-26-1af6-e00c-b148-7ced-34f8-53ea-d107-be85-ecc3-55ef",
       "next": "ae8e86dc-acfa-11ed-b564-0242ac120006-5-7273-2def-182a-7f7f-507f",
       "previous": "d92a931a-5882-11ea-bd55-0242ac120002-23-d59c-57ac-5fd9-e975-aae8-77b4-6134-8e01-45a5-c508"
      }
     ],
     "next": "ae8e86dc-acfa-11ed-b564-0242ac120006-6-7273-2def-182a-7f7f-507f-61ba",
     "previous": "d92a931a-5882-11ea-bd55-0242ac120002-24-57ac-5fd9-e975-aae8-77b4-6134-8e01-45a5-c508-b63b"
    }
   },
   "outputs": [],
   "source": [
    "import random\n",
    "import string\n",
    "cron_secret = ''.join([random.choice(\"abcdef\" + string.digits) for _ in range(32)])\n",
    "cron_secret"
   ]
  },
  {
   "cell_type": "markdown",
   "id": "a12c69a1",
   "metadata": {
    "lc_cell_meme": {
     "current": "ae8e86dc-acfa-11ed-b564-0242ac120006-6-7273-2def-182a-7f7f-507f-61ba",
     "history": [
      {
       "current": "ae8e86dc-acfa-11ed-b564-0242ac120006-2-7273-2def",
       "next": "ae8e88ee-acfa-11ed-b564-0242ac120006",
       "previous": "56e2c76e-208a-11e9-99c7-02420aff0008-22-12ed-ab66-c379-2498-1af6-e00c-b148-7ced-34f8-00b9"
      },
      {
       "current": "ae8e86dc-acfa-11ed-b564-0242ac120006-3-7273-2def-182a",
       "next": "ae8e88ee-acfa-11ed-b564-0242ac120006-2-fb89-d53f",
       "previous": "56e2c76e-208a-11e9-99c7-02420aff0008-22-12ed-ab66-c379-2498-1af6-e00c-b148-7ced-34f8-53ea"
      },
      {
       "current": "ae8e86dc-acfa-11ed-b564-0242ac120006-4-7273-2def-182a-7f7f",
       "next": "ae8e88ee-acfa-11ed-b564-0242ac120006-3-fb89-d53f-59c0",
       "previous": "56e2c76e-208a-11e9-99c7-02420aff0008-23-ab66-c379-2498-1af6-e00c-b148-7ced-34f8-53ea-d107"
      },
      {
       "current": "ae8e86dc-acfa-11ed-b564-0242ac120006-5-7273-2def-182a-7f7f-507f",
       "next": "ae8e88ee-acfa-11ed-b564-0242ac120006-4-fb89-d53f-59c0-3962",
       "previous": "56e2c76e-208a-11e9-99c7-02420aff0008-24-c379-2498-1af6-e00c-b148-7ced-34f8-53ea-d107-be85"
      },
      {
       "current": "ae8e86dc-acfa-11ed-b564-0242ac120006-6-7273-2def-182a-7f7f-507f-61ba",
       "next": "ae8e88ee-acfa-11ed-b564-0242ac120006-5-fb89-d53f-59c0-3962-65aa",
       "previous": "56e2c76e-208a-11e9-99c7-02420aff0008-25-2498-1af6-e00c-b148-7ced-34f8-53ea-d107-be85-ecc3"
      }
     ],
     "next": "ae8e88ee-acfa-11ed-b564-0242ac120006-6-fb89-d53f-59c0-3962-65aa-6650",
     "previous": "56e2c76e-208a-11e9-99c7-02420aff0008-26-1af6-e00c-b148-7ced-34f8-53ea-d107-be85-ecc3-55ef"
    }
   },
   "source": [
    "# registryコンテナの準備"
   ]
  },
  {
   "cell_type": "code",
   "execution_count": null,
   "id": "d70a3dc7",
   "metadata": {
    "lc_cell_meme": {
     "current": "ae8e88ee-acfa-11ed-b564-0242ac120006-6-fb89-d53f-59c0-3962-65aa-6650",
     "history": [
      {
       "current": "ae8e88ee-acfa-11ed-b564-0242ac120006",
       "next": "cd17dd64-92e0-11ec-a962-6b42dc3e1973-6-29a9-713e-b87a-3bfc-01d6-93b3",
       "previous": "ae8e86dc-acfa-11ed-b564-0242ac120006"
      },
      {
       "current": "ae8e88ee-acfa-11ed-b564-0242ac120006",
       "next": "c8e1bc86-ad02-11ed-b564-0242ac120006",
       "previous": "ae8e86dc-acfa-11ed-b564-0242ac120006"
      },
      {
       "current": "ae8e88ee-acfa-11ed-b564-0242ac120006-2-fb89-d53f",
       "next": "2aa59e76-ad0b-11ed-b564-0242ac120006",
       "previous": "ae8e86dc-acfa-11ed-b564-0242ac120006"
      },
      {
       "current": "ae8e88ee-acfa-11ed-b564-0242ac120006-3-fb89-d53f-59c0",
       "next": "2aa59e76-ad0b-11ed-b564-0242ac120006-2-f2a3-48fa",
       "previous": "ae8e86dc-acfa-11ed-b564-0242ac120006-2-7273-2def"
      },
      {
       "current": "ae8e88ee-acfa-11ed-b564-0242ac120006-4-fb89-d53f-59c0-3962",
       "next": "2aa59e76-ad0b-11ed-b564-0242ac120006-3-f2a3-48fa-9e08",
       "previous": "ae8e86dc-acfa-11ed-b564-0242ac120006-3-7273-2def-182a"
      },
      {
       "current": "ae8e88ee-acfa-11ed-b564-0242ac120006-5-fb89-d53f-59c0-3962-65aa",
       "next": "2aa59e76-ad0b-11ed-b564-0242ac120006-4-f2a3-48fa-9e08-9d7f",
       "previous": "ae8e86dc-acfa-11ed-b564-0242ac120006-4-7273-2def-182a-7f7f"
      },
      {
       "current": "ae8e88ee-acfa-11ed-b564-0242ac120006-6-fb89-d53f-59c0-3962-65aa-6650",
       "next": "2aa59e76-ad0b-11ed-b564-0242ac120006-5-f2a3-48fa-9e08-9d7f-0323",
       "previous": "ae8e86dc-acfa-11ed-b564-0242ac120006-5-7273-2def-182a-7f7f-507f"
      }
     ],
     "next": "2aa59e76-ad0b-11ed-b564-0242ac120006-6-f2a3-48fa-9e08-9d7f-0323-67de",
     "previous": "ae8e86dc-acfa-11ed-b564-0242ac120006-6-7273-2def-182a-7f7f-507f-61ba"
    }
   },
   "outputs": [],
   "source": [
    "registry_pass = ''.join([random.choice(\"abcdef\" + string.digits) for _ in range(32)])\n",
    "registry_pass"
   ]
  },
  {
   "cell_type": "code",
   "execution_count": null,
   "id": "70ccd708",
   "metadata": {
    "lc_cell_meme": {
     "current": "2aa59e76-ad0b-11ed-b564-0242ac120006-6-f2a3-48fa-9e08-9d7f-0323-67de",
     "history": [
      {
       "current": "2aa59e76-ad0b-11ed-b564-0242ac120006-2-f2a3-48fa",
       "next": "c8e1bc86-ad02-11ed-b564-0242ac120006",
       "previous": "ae8e88ee-acfa-11ed-b564-0242ac120006"
      },
      {
       "current": "2aa59e76-ad0b-11ed-b564-0242ac120006-3-f2a3-48fa-9e08",
       "next": "c8e1bc86-ad02-11ed-b564-0242ac120006-2-9875-a034",
       "previous": "ae8e88ee-acfa-11ed-b564-0242ac120006-2-fb89-d53f"
      },
      {
       "current": "2aa59e76-ad0b-11ed-b564-0242ac120006-4-f2a3-48fa-9e08-9d7f",
       "next": "c8e1bc86-ad02-11ed-b564-0242ac120006-3-9875-a034-3d66",
       "previous": "ae8e88ee-acfa-11ed-b564-0242ac120006-3-fb89-d53f-59c0"
      },
      {
       "current": "2aa59e76-ad0b-11ed-b564-0242ac120006-5-f2a3-48fa-9e08-9d7f-0323",
       "next": "c8e1bc86-ad02-11ed-b564-0242ac120006-4-9875-a034-3d66-96a6",
       "previous": "ae8e88ee-acfa-11ed-b564-0242ac120006-4-fb89-d53f-59c0-3962"
      },
      {
       "current": "2aa59e76-ad0b-11ed-b564-0242ac120006-6-f2a3-48fa-9e08-9d7f-0323-67de",
       "next": "c8e1bc86-ad02-11ed-b564-0242ac120006-5-9875-a034-3d66-96a6-1cb7",
       "previous": "ae8e88ee-acfa-11ed-b564-0242ac120006-5-fb89-d53f-59c0-3962-65aa"
      }
     ],
     "next": "c8e1bc86-ad02-11ed-b564-0242ac120006-6-9875-a034-3d66-96a6-1cb7-bd8b",
     "previous": "ae8e88ee-acfa-11ed-b564-0242ac120006-6-fb89-d53f-59c0-3962-65aa-6650"
    }
   },
   "outputs": [],
   "source": [
    "!ansible -b -m file -a 'path=/jupyter/registry/data state=directory' {target_hub} -l {target_group}"
   ]
  },
  {
   "cell_type": "code",
   "execution_count": null,
   "id": "fb4450fd",
   "metadata": {
    "lc_cell_meme": {
     "current": "c8e1bc86-ad02-11ed-b564-0242ac120006-6-9875-a034-3d66-96a6-1cb7-bd8b",
     "history": [
      {
       "current": "c8e1bc86-ad02-11ed-b564-0242ac120006",
       "next": "cd17dd64-92e0-11ec-a962-6b42dc3e1973-6-29a9-713e-b87a-3bfc-01d6-93b3",
       "previous": "ae8e88ee-acfa-11ed-b564-0242ac120006"
      },
      {
       "current": "c8e1bc86-ad02-11ed-b564-0242ac120006",
       "next": "cd17dd64-92e0-11ec-a962-6b42dc3e1973-6-29a9-713e-b87a-3bfc-01d6-93b3",
       "previous": "2aa59e76-ad0b-11ed-b564-0242ac120006"
      },
      {
       "current": "c8e1bc86-ad02-11ed-b564-0242ac120006-2-9875-a034",
       "next": "e3a1e85c-aeab-11ed-b564-0242ac120006-1-42df",
       "previous": "2aa59e76-ad0b-11ed-b564-0242ac120006"
      },
      {
       "current": "c8e1bc86-ad02-11ed-b564-0242ac120006-3-9875-a034-3d66",
       "next": "cd17dd64-92e0-11ec-a962-6b42dc3e1973-6-29a9-713e-b87a-3bfc-01d6-7c05",
       "previous": "2aa59e76-ad0b-11ed-b564-0242ac120006-2-f2a3-48fa"
      },
      {
       "current": "c8e1bc86-ad02-11ed-b564-0242ac120006-4-9875-a034-3d66-96a6",
       "next": "cd17dd64-92e0-11ec-a962-6b42dc3e1973-7-29a9-713e-b87a-3bfc-01d6-7c05-6e70",
       "previous": "2aa59e76-ad0b-11ed-b564-0242ac120006-3-f2a3-48fa-9e08"
      },
      {
       "current": "c8e1bc86-ad02-11ed-b564-0242ac120006-5-9875-a034-3d66-96a6-1cb7",
       "next": "cd17dd64-92e0-11ec-a962-6b42dc3e1973-8-29a9-713e-b87a-3bfc-01d6-7c05-6e70-1212",
       "previous": "2aa59e76-ad0b-11ed-b564-0242ac120006-4-f2a3-48fa-9e08-9d7f"
      },
      {
       "current": "c8e1bc86-ad02-11ed-b564-0242ac120006-6-9875-a034-3d66-96a6-1cb7-bd8b",
       "next": "cd17dd64-92e0-11ec-a962-6b42dc3e1973-9-29a9-713e-b87a-3bfc-01d6-7c05-6e70-1212-3fdb",
       "previous": "2aa59e76-ad0b-11ed-b564-0242ac120006-5-f2a3-48fa-9e08-9d7f-0323"
      }
     ],
     "next": "cd17dd64-92e0-11ec-a962-6b42dc3e1973-10-29a9-713e-b87a-3bfc-01d6-7c05-6e70-1212-3fdb-b53a",
     "previous": "2aa59e76-ad0b-11ed-b564-0242ac120006-6-f2a3-48fa-9e08-9d7f-0323-67de"
    },
    "scrolled": true
   },
   "outputs": [],
   "source": [
    "!ansible -b -m shell \\\n",
    "    -a 'docker run --rm --entrypoint htpasswd httpd:2 -Bbn cwh {registry_pass} > /jupyter/registry/htpasswd' \\\n",
    "    {target_hub} -l {target_group}"
   ]
  },
  {
   "cell_type": "markdown",
   "id": "a42b44f6",
   "metadata": {
    "lc_cell_meme": {
     "current": "cd17dd64-92e0-11ec-a962-6b42dc3e1973-10-29a9-713e-b87a-3bfc-01d6-7c05-6e70-1212-3fdb-b53a",
     "history": [
      {
       "current": "cd17dd64-92e0-11ec-a962-6b42dc3e1973-2-29a9-713e",
       "next": "74f5ddee-e639-11e8-af4c-21bc3571b6b2-18-39f2-3787-ee34-d778-e338-cd17-75ea-6332-6672-f9da",
       "previous": "cd17dc3b-92e0-11ec-80dd-6b42dc3e1973-1-e494"
      },
      {
       "current": "cd17dd64-92e0-11ec-a962-6b42dc3e1973-2-29a9-713e",
       "next": "74f5ddee-e639-11e8-af4c-21bc3571b6b2-19-3787-ee34-d778-e338-cd17-75ea-6332-6672-f9da-8648",
       "previous": "ce34ea7e-b252-11e7-a38f-0242ac120002-18-a74f-477e-4f9b-168c-2c8f-f551-e7d1-2fd5-bed6-0950"
      },
      {
       "current": "cd17dd64-92e0-11ec-a962-6b42dc3e1973-3-29a9-713e-b87a",
       "next": "74f5ddee-e639-11e8-af4c-21bc3571b6b2-19-3787-ee34-d778-e338-cd17-75ea-6332-6672-f9da-8648",
       "previous": "56e2c76e-208a-11e9-99c7-02420aff0008-18-9b7f-7b0d-4d92-35b4-12ed-ab66-c379-2498-1af6-e00c"
      },
      {
       "current": "cd17dd64-92e0-11ec-a962-6b42dc3e1973-4-29a9-713e-b87a-3bfc",
       "next": "74f5ddee-e639-11e8-af4c-21bc3571b6b2-20-ee34-d778-e338-cd17-75ea-6332-6672-f9da-8648-ec04",
       "previous": "56e2c76e-208a-11e9-99c7-02420aff0008-19-7b0d-4d92-35b4-12ed-ab66-c379-2498-1af6-e00c-b148"
      },
      {
       "current": "cd17dd64-92e0-11ec-a962-6b42dc3e1973-5-29a9-713e-b87a-3bfc-01d6",
       "next": "74f5ddee-e639-11e8-af4c-21bc3571b6b2-21-d778-e338-cd17-75ea-6332-6672-f9da-8648-ec04-5418",
       "previous": "56e2c76e-208a-11e9-99c7-02420aff0008-20-4d92-35b4-12ed-ab66-c379-2498-1af6-e00c-b148-7ced"
      },
      {
       "current": "cd17dd64-92e0-11ec-a962-6b42dc3e1973-6-29a9-713e-b87a-3bfc-01d6-7c05",
       "next": "74f5ddee-e639-11e8-af4c-21bc3571b6b2-22-e338-cd17-75ea-6332-6672-f9da-8648-ec04-5418-47fd",
       "previous": "56e2c76e-208a-11e9-99c7-02420aff0008-21-35b4-12ed-ab66-c379-2498-1af6-e00c-b148-7ced-34f8"
      },
      {
       "current": "cd17dd64-92e0-11ec-a962-6b42dc3e1973-7-29a9-713e-b87a-3bfc-01d6-7c05-6e70",
       "next": "74f5ddee-e639-11e8-af4c-21bc3571b6b2-23-cd17-75ea-6332-6672-f9da-8648-ec04-5418-47fd-1c45",
       "previous": "c8e1bc86-ad02-11ed-b564-0242ac120006-2-9875-a034"
      },
      {
       "current": "cd17dd64-92e0-11ec-a962-6b42dc3e1973-8-29a9-713e-b87a-3bfc-01d6-7c05-6e70-1212",
       "next": "74f5ddee-e639-11e8-af4c-21bc3571b6b2-24-75ea-6332-6672-f9da-8648-ec04-5418-47fd-1c45-4b6a",
       "previous": "c8e1bc86-ad02-11ed-b564-0242ac120006-3-9875-a034-3d66"
      },
      {
       "current": "cd17dd64-92e0-11ec-a962-6b42dc3e1973-9-29a9-713e-b87a-3bfc-01d6-7c05-6e70-1212-3fdb",
       "next": "74f5ddee-e639-11e8-af4c-21bc3571b6b2-25-6332-6672-f9da-8648-ec04-5418-47fd-1c45-4b6a-d9ec",
       "previous": "c8e1bc86-ad02-11ed-b564-0242ac120006-4-9875-a034-3d66-96a6"
      },
      {
       "current": "cd17dd64-92e0-11ec-a962-6b42dc3e1973-10-29a9-713e-b87a-3bfc-01d6-7c05-6e70-1212-3fdb-b53a",
       "next": "74f5ddee-e639-11e8-af4c-21bc3571b6b2-26-6672-f9da-8648-ec04-5418-47fd-1c45-4b6a-d9ec-9392",
       "previous": "c8e1bc86-ad02-11ed-b564-0242ac120006-5-9875-a034-3d66-96a6-1cb7"
      }
     ],
     "next": "74f5ddee-e639-11e8-af4c-21bc3571b6b2-27-f9da-8648-ec04-5418-47fd-1c45-4b6a-d9ec-9392-ce97",
     "previous": "c8e1bc86-ad02-11ed-b564-0242ac120006-6-9875-a034-3d66-96a6-1cb7-bd8b"
    }
   },
   "source": [
    "# docker-compose.ymlの生成"
   ]
  },
  {
   "cell_type": "markdown",
   "id": "119c3c57",
   "metadata": {
    "lc_cell_meme": {
     "current": "74f5ddee-e639-11e8-af4c-21bc3571b6b2-27-f9da-8648-ec04-5418-47fd-1c45-4b6a-d9ec-9392-ce97",
     "history": [
      {
       "current": "74f5ddee-e639-11e8-af4c-21bc3571b6b2-18-39f2-3787-ee34-d778-e338-cd17-75ea-6332-6672-f9da",
       "next": "d7fcf209-9304-11ec-bcd1-6b42dc3e1973",
       "previous": "cd17dd64-92e0-11ec-a962-6b42dc3e1973"
      },
      {
       "current": "74f5ddee-e639-11e8-af4c-21bc3571b6b2-19-3787-ee34-d778-e338-cd17-75ea-6332-6672-f9da-8648",
       "next": "d7fcf209-9304-11ec-bcd1-6b42dc3e1973-1-d784",
       "previous": "cd17dd64-92e0-11ec-a962-6b42dc3e1973-1-29a9"
      },
      {
       "current": "74f5ddee-e639-11e8-af4c-21bc3571b6b2-20-ee34-d778-e338-cd17-75ea-6332-6672-f9da-8648-ec04",
       "next": "d7fcf209-9304-11ec-bcd1-6b42dc3e1973-2-d784-5ab0",
       "previous": "cd17dd64-92e0-11ec-a962-6b42dc3e1973-2-29a9-713e"
      },
      {
       "current": "74f5ddee-e639-11e8-af4c-21bc3571b6b2-21-d778-e338-cd17-75ea-6332-6672-f9da-8648-ec04-5418",
       "next": "d7fcf209-9304-11ec-bcd1-6b42dc3e1973-3-d784-5ab0-e31c",
       "previous": "cd17dd64-92e0-11ec-a962-6b42dc3e1973-3-29a9-713e-b87a"
      },
      {
       "current": "74f5ddee-e639-11e8-af4c-21bc3571b6b2-22-e338-cd17-75ea-6332-6672-f9da-8648-ec04-5418-47fd",
       "next": "d7fcf209-9304-11ec-bcd1-6b42dc3e1973-4-d784-5ab0-e31c-313b",
       "previous": "cd17dd64-92e0-11ec-a962-6b42dc3e1973-4-29a9-713e-b87a-3bfc"
      },
      {
       "current": "74f5ddee-e639-11e8-af4c-21bc3571b6b2-23-cd17-75ea-6332-6672-f9da-8648-ec04-5418-47fd-1c45",
       "next": "d7fcf209-9304-11ec-bcd1-6b42dc3e1973-5-d784-5ab0-e31c-313b-8665",
       "previous": "cd17dd64-92e0-11ec-a962-6b42dc3e1973-5-29a9-713e-b87a-3bfc-01d6"
      },
      {
       "current": "74f5ddee-e639-11e8-af4c-21bc3571b6b2-24-75ea-6332-6672-f9da-8648-ec04-5418-47fd-1c45-4b6a",
       "next": "d7fcf209-9304-11ec-bcd1-6b42dc3e1973-6-d784-5ab0-e31c-313b-8665-ce2e",
       "previous": "cd17dd64-92e0-11ec-a962-6b42dc3e1973-6-29a9-713e-b87a-3bfc-01d6-7c05"
      },
      {
       "current": "74f5ddee-e639-11e8-af4c-21bc3571b6b2-25-6332-6672-f9da-8648-ec04-5418-47fd-1c45-4b6a-d9ec",
       "next": "d7fcf209-9304-11ec-bcd1-6b42dc3e1973-7-d784-5ab0-e31c-313b-8665-ce2e-5767",
       "previous": "cd17dd64-92e0-11ec-a962-6b42dc3e1973-7-29a9-713e-b87a-3bfc-01d6-7c05-6e70"
      },
      {
       "current": "74f5ddee-e639-11e8-af4c-21bc3571b6b2-26-6672-f9da-8648-ec04-5418-47fd-1c45-4b6a-d9ec-9392",
       "next": "d7fcf209-9304-11ec-bcd1-6b42dc3e1973-8-d784-5ab0-e31c-313b-8665-ce2e-5767-996f",
       "previous": "cd17dd64-92e0-11ec-a962-6b42dc3e1973-8-29a9-713e-b87a-3bfc-01d6-7c05-6e70-1212"
      },
      {
       "current": "74f5ddee-e639-11e8-af4c-21bc3571b6b2-27-f9da-8648-ec04-5418-47fd-1c45-4b6a-d9ec-9392-ce97",
       "next": "d7fcf209-9304-11ec-bcd1-6b42dc3e1973-9-d784-5ab0-e31c-313b-8665-ce2e-5767-996f-3e5d",
       "previous": "cd17dd64-92e0-11ec-a962-6b42dc3e1973-9-29a9-713e-b87a-3bfc-01d6-7c05-6e70-1212-3fdb"
      }
     ],
     "next": "d7fcf209-9304-11ec-bcd1-6b42dc3e1973-10-d784-5ab0-e31c-313b-8665-ce2e-5767-996f-3e5d-625e",
     "previous": "cd17dd64-92e0-11ec-a962-6b42dc3e1973-10-29a9-713e-b87a-3bfc-01d6-7c05-6e70-1212-3fdb-b53a"
    }
   },
   "source": [
    "> *MEMO auth-proxy内でFQDNでProxyをしたくなる箇所があるようなので、container中からhost NICに迂回しないようhost mappingを追加*"
   ]
  },
  {
   "cell_type": "markdown",
   "id": "2dcad136",
   "metadata": {
    "lc_cell_meme": {
     "current": "d7fcf209-9304-11ec-bcd1-6b42dc3e1973-10-d784-5ab0-e31c-313b-8665-ce2e-5767-996f-3e5d-625e",
     "history": [
      {
       "current": "d7fcf209-9304-11ec-bcd1-6b42dc3e1973-1-d784",
       "next": "32bf0bb1-92e2-11ec-9e7f-6b42dc3e1973",
       "previous": "74f5ddee-e639-11e8-af4c-21bc3571b6b2-17-c685-39f2-3787-ee34-d778-e338-cd17-75ea-6332-6672"
      },
      {
       "current": "d7fcf209-9304-11ec-bcd1-6b42dc3e1973-2-d784-5ab0",
       "next": "32bf0bb1-92e2-11ec-9e7f-6b42dc3e1973-1-cf80",
       "previous": "74f5ddee-e639-11e8-af4c-21bc3571b6b2-18-39f2-3787-ee34-d778-e338-cd17-75ea-6332-6672-f9da"
      },
      {
       "current": "d7fcf209-9304-11ec-bcd1-6b42dc3e1973-3-d784-5ab0-e31c",
       "next": "32bf0bb1-92e2-11ec-9e7f-6b42dc3e1973-2-cf80-409a",
       "previous": "74f5ddee-e639-11e8-af4c-21bc3571b6b2-19-3787-ee34-d778-e338-cd17-75ea-6332-6672-f9da-8648"
      },
      {
       "current": "d7fcf209-9304-11ec-bcd1-6b42dc3e1973-4-d784-5ab0-e31c-313b",
       "next": "32bf0bb1-92e2-11ec-9e7f-6b42dc3e1973-3-cf80-409a-7cb2",
       "previous": "74f5ddee-e639-11e8-af4c-21bc3571b6b2-20-ee34-d778-e338-cd17-75ea-6332-6672-f9da-8648-ec04"
      },
      {
       "current": "d7fcf209-9304-11ec-bcd1-6b42dc3e1973-5-d784-5ab0-e31c-313b-8665",
       "next": "32bf0bb1-92e2-11ec-9e7f-6b42dc3e1973-4-cf80-409a-7cb2-4825",
       "previous": "74f5ddee-e639-11e8-af4c-21bc3571b6b2-21-d778-e338-cd17-75ea-6332-6672-f9da-8648-ec04-5418"
      },
      {
       "current": "d7fcf209-9304-11ec-bcd1-6b42dc3e1973-6-d784-5ab0-e31c-313b-8665-ce2e",
       "next": "32bf0bb1-92e2-11ec-9e7f-6b42dc3e1973-5-cf80-409a-7cb2-4825-0866",
       "previous": "74f5ddee-e639-11e8-af4c-21bc3571b6b2-22-e338-cd17-75ea-6332-6672-f9da-8648-ec04-5418-47fd"
      },
      {
       "current": "d7fcf209-9304-11ec-bcd1-6b42dc3e1973-7-d784-5ab0-e31c-313b-8665-ce2e-5767",
       "next": "32bf0bb1-92e2-11ec-9e7f-6b42dc3e1973-6-cf80-409a-7cb2-4825-0866-d72a",
       "previous": "74f5ddee-e639-11e8-af4c-21bc3571b6b2-23-cd17-75ea-6332-6672-f9da-8648-ec04-5418-47fd-1c45"
      },
      {
       "current": "d7fcf209-9304-11ec-bcd1-6b42dc3e1973-8-d784-5ab0-e31c-313b-8665-ce2e-5767-996f",
       "next": "32bf0bb1-92e2-11ec-9e7f-6b42dc3e1973-7-cf80-409a-7cb2-4825-0866-d72a-d55d",
       "previous": "74f5ddee-e639-11e8-af4c-21bc3571b6b2-24-75ea-6332-6672-f9da-8648-ec04-5418-47fd-1c45-4b6a"
      },
      {
       "current": "d7fcf209-9304-11ec-bcd1-6b42dc3e1973-9-d784-5ab0-e31c-313b-8665-ce2e-5767-996f-3e5d",
       "next": "32bf0bb1-92e2-11ec-9e7f-6b42dc3e1973-8-cf80-409a-7cb2-4825-0866-d72a-d55d-cfaf",
       "previous": "74f5ddee-e639-11e8-af4c-21bc3571b6b2-25-6332-6672-f9da-8648-ec04-5418-47fd-1c45-4b6a-d9ec"
      },
      {
       "current": "d7fcf209-9304-11ec-bcd1-6b42dc3e1973-10-d784-5ab0-e31c-313b-8665-ce2e-5767-996f-3e5d-625e",
       "next": "32bf0bb1-92e2-11ec-9e7f-6b42dc3e1973-9-cf80-409a-7cb2-4825-0866-d72a-d55d-cfaf-ee99",
       "previous": "74f5ddee-e639-11e8-af4c-21bc3571b6b2-26-6672-f9da-8648-ec04-5418-47fd-1c45-4b6a-d9ec-9392"
      }
     ],
     "next": "32bf0bb1-92e2-11ec-9e7f-6b42dc3e1973-10-cf80-409a-7cb2-4825-0866-d72a-d55d-cfaf-ee99-5bda",
     "previous": "74f5ddee-e639-11e8-af4c-21bc3571b6b2-27-f9da-8648-ec04-5418-47fd-1c45-4b6a-d9ec-9392-ce97"
    }
   },
   "source": [
    "あらかじめ定義されたAnsibleの変数から生成します。\n",
    "\n",
    "まず、テンプレートを用意します。"
   ]
  },
  {
   "cell_type": "code",
   "execution_count": null,
   "id": "4a8fc92d",
   "metadata": {
    "lc_cell_meme": {
     "current": "32bf0bb1-92e2-11ec-9e7f-6b42dc3e1973-10-cf80-409a-7cb2-4825-0866-d72a-d55d-cfaf-ee99-5bda",
     "history": [
      {
       "current": "32bf0bb1-92e2-11ec-9e7f-6b42dc3e1973-1-cf80",
       "next": "32bf0eac-92e2-11ec-8f97-6b42dc3e1973",
       "previous": "d7fcf209-9304-11ec-bcd1-6b42dc3e1973"
      },
      {
       "current": "32bf0bb1-92e2-11ec-9e7f-6b42dc3e1973-2-cf80-409a",
       "next": "32bf0eac-92e2-11ec-8f97-6b42dc3e1973-1-c393",
       "previous": "d7fcf209-9304-11ec-bcd1-6b42dc3e1973-1-d784"
      },
      {
       "current": "32bf0bb1-92e2-11ec-9e7f-6b42dc3e1973-3-cf80-409a-7cb2",
       "next": "32bf0eac-92e2-11ec-8f97-6b42dc3e1973-2-c393-471b",
       "previous": "d7fcf209-9304-11ec-bcd1-6b42dc3e1973-2-d784-5ab0"
      },
      {
       "current": "32bf0bb1-92e2-11ec-9e7f-6b42dc3e1973-4-cf80-409a-7cb2-4825",
       "next": "32bf0eac-92e2-11ec-8f97-6b42dc3e1973-3-c393-471b-9ee9",
       "previous": "d7fcf209-9304-11ec-bcd1-6b42dc3e1973-3-d784-5ab0-e31c"
      },
      {
       "current": "32bf0bb1-92e2-11ec-9e7f-6b42dc3e1973-5-cf80-409a-7cb2-4825-0866",
       "next": "32bf0eac-92e2-11ec-8f97-6b42dc3e1973-4-c393-471b-9ee9-629c",
       "previous": "d7fcf209-9304-11ec-bcd1-6b42dc3e1973-4-d784-5ab0-e31c-313b"
      },
      {
       "current": "32bf0bb1-92e2-11ec-9e7f-6b42dc3e1973-6-cf80-409a-7cb2-4825-0866-d72a",
       "next": "32bf0eac-92e2-11ec-8f97-6b42dc3e1973-5-c393-471b-9ee9-629c-0e25",
       "previous": "d7fcf209-9304-11ec-bcd1-6b42dc3e1973-5-d784-5ab0-e31c-313b-8665"
      },
      {
       "current": "32bf0bb1-92e2-11ec-9e7f-6b42dc3e1973-7-cf80-409a-7cb2-4825-0866-d72a-d55d",
       "next": "32bf0eac-92e2-11ec-8f97-6b42dc3e1973-6-c393-471b-9ee9-629c-0e25-19bf",
       "previous": "d7fcf209-9304-11ec-bcd1-6b42dc3e1973-6-d784-5ab0-e31c-313b-8665-ce2e"
      },
      {
       "current": "32bf0bb1-92e2-11ec-9e7f-6b42dc3e1973-8-cf80-409a-7cb2-4825-0866-d72a-d55d-cfaf",
       "next": "32bf0eac-92e2-11ec-8f97-6b42dc3e1973-7-c393-471b-9ee9-629c-0e25-19bf-769d",
       "previous": "d7fcf209-9304-11ec-bcd1-6b42dc3e1973-7-d784-5ab0-e31c-313b-8665-ce2e-5767"
      },
      {
       "current": "32bf0bb1-92e2-11ec-9e7f-6b42dc3e1973-9-cf80-409a-7cb2-4825-0866-d72a-d55d-cfaf-ee99",
       "next": "32bf0eac-92e2-11ec-8f97-6b42dc3e1973-8-c393-471b-9ee9-629c-0e25-19bf-769d-7345",
       "previous": "d7fcf209-9304-11ec-bcd1-6b42dc3e1973-8-d784-5ab0-e31c-313b-8665-ce2e-5767-996f"
      },
      {
       "current": "32bf0bb1-92e2-11ec-9e7f-6b42dc3e1973-10-cf80-409a-7cb2-4825-0866-d72a-d55d-cfaf-ee99-5bda",
       "next": "32bf0eac-92e2-11ec-8f97-6b42dc3e1973-9-c393-471b-9ee9-629c-0e25-19bf-769d-7345-6f4c",
       "previous": "d7fcf209-9304-11ec-bcd1-6b42dc3e1973-9-d784-5ab0-e31c-313b-8665-ce2e-5767-996f-3e5d"
      }
     ],
     "next": "32bf0eac-92e2-11ec-8f97-6b42dc3e1973-10-c393-471b-9ee9-629c-0e25-19bf-769d-7345-6f4c-2714",
     "previous": "d7fcf209-9304-11ec-bcd1-6b42dc3e1973-10-d784-5ab0-e31c-313b-8665-ce2e-5767-996f-3e5d-625e"
    }
   },
   "outputs": [],
   "source": [
    "import os\n",
    "\n",
    "docker_compose_j2_path = os.path.join(work_dir, 'docker-compose.yml.j2')\n",
    "\n",
    "with open(docker_compose_j2_path, 'w') as f:\n",
    "    f.write('''version: '3.8'\n",
    "services:\n",
    "  auth-proxy:\n",
    "    deploy:\n",
    "      placement:\n",
    "        constraints:\n",
    "        - node.role==manager\n",
    "      replicas: 1\n",
    "    depends_on:\n",
    "      - jupyterhub\n",
    "    healthcheck:\n",
    "      test: [\"CMD\", \"curl\", \"-k\", \"-f\", \"https://localhost/php/login.php\"]\n",
    "      interval: 30s\n",
    "      timeout: 3s\n",
    "      retries: 3\n",
    "      start_period: 5s\n",
    "    environment:\n",
    "      AUTH_FQDN: \"{{ auth_fqdn }}\"\n",
    "      CRON_SECRET: \"{{ cron_secret }}\"\n",
    "      HUB_NAME: jupyterhub\n",
    "      MASTER_FQDN: \"{{ master_fqdn }}\"\n",
    "{% if enable_federation %}\n",
    "      ENABLE_FEDERATION: \"yes\"\n",
    "{%- endif %}\n",
    "{% if enable_test_federation %}      \n",
    "      ENABLE_TEST_FEDERATION: \"yes\"\n",
    "{% endif %}\n",
    "      CG_FQDN: \"{{ cg_fqdn | default('') }}\"\n",
    "      DS_FQDN: \"{{ gakunin_ds_hostname | default('') }}\"\n",
    "    extra_hosts:\n",
    "    - {{ master_fqdn }}:127.0.0.2\n",
    "    hostname: auth-proxy\n",
    "    image: \"{{ auth_proxy_image }}\"\n",
    "    networks:\n",
    "    - backend\n",
    "    ports:\n",
    "    - 80:80\n",
    "    - 443:443\n",
    "    volumes:\n",
    "    - read_only: true\n",
    "      source: /etc/jupyterhub/nginx/certs\n",
    "      target: /etc/nginx/certs\n",
    "      type: bind\n",
    "    - read_only: true\n",
    "      source: /etc/jupyterhub/hub-const.php\n",
    "      target: /var/www/lib/hub-const.php\n",
    "      type: bind\n",
    "    - read_only: true\n",
    "      source: /etc/jupyterhub/lti/private.key\n",
    "      target: /var/www/lib/lti/private.key\n",
    "      type: bind\n",
    "    - read_only: true\n",
    "      source: /etc/jupyterhub/lti/lti.json\n",
    "      target: /var/www/lib/lti/configs/lti.json\n",
    "      type: bind\n",
    "    - read_only: true\n",
    "      source: /etc/jupyterhub/simplesamlphp/metadata/xml\n",
    "      target: /var/www/simplesamlphp/metadata/xml\n",
    "      type: bind\n",
    "    - read_only: true\n",
    "      source: /etc/jupyterhub/simplesamlphp/cert\n",
    "      target: /var/www/simplesamlphp/cert\n",
    "      type: bind\n",
    "  jupyterhub:\n",
    "    deploy:\n",
    "      placement:\n",
    "        constraints:\n",
    "        - node.role==manager\n",
    "      replicas: 1\n",
    "    depends_on:\n",
    "      - postgres\n",
    "      - registry\n",
    "    environment:\n",
    "      BACKEND_NETWORK: courseware-backend\n",
    "      CONCURRENT_SPAWN_LIMIT: \"{{ concurrent_spawn_limit | default('20')}}\"\n",
    "{% if cull_server is defined %}\n",
    "      CULL_SERVER: '{{ cull_server }}'\n",
    "{% endif %}\n",
    "{% if cull_server_every is defined %}\n",
    "      CULL_SERVER_EVERY: '{{ cull_server_every }}'\n",
    "{% endif %}\n",
    "{% if cull_server_idle_timeout is defined %}\n",
    "      CULL_SERVER_IDLE_TIMEOUT: '{{ cull_server_idle_timeout }}'\n",
    "{% endif %}\n",
    "{% if cull_server_max_age is defined %}\n",
    "      CULL_SERVER_MAX_AGE: '{{ cull_server_max_age }}'\n",
    "{% endif %}\n",
    "      DEBUG: 'yes'\n",
    "      POSTGRES_ENV_JPY_PSQL_PASSWORD: \"{{ db_pass }}\"\n",
    "      POSTGRES_ENV_JPY_PSQL_USER: {{ db_user }}\n",
    "      POSTGRES_PORT_5432_TCP_ADDR: 'postgres'\n",
    "      RESOURCE_ALLOCATION_FILE: /srv/jupyterhub/resource.yaml\n",
    "      SPAWNER_CONSTRAINTS: node.role==worker\n",
    "      SPAWNER_HTTP_TIMEOUT: \"{{ spawner_http_timeout | default('120') }}\"\n",
    "      SPAWNER_RESTART_MAX_ATTEMPTS: \"{{ spawner_restart_max_attempts | default('5') }}\"\n",
    "      SPAWNER_START_TIMEOUT: \"{{ spawner_start_timeout | default('300') }}\"\n",
    "{% if jupyterhub_singleuser_app is defined %}\n",
    "      JUPYTERHUB_SINGLEUSER_APP: '{{ jupyterhub_singleuser_app }}'\n",
    "{% endif %}\n",
    "{% if jupyterhub_singleuser_default_url is defined %}\n",
    "      JUPYTERHUB_SINGLEUSER_DEFAULT_URL: '{{ jupyterhub_singleuser_default_url }}'\n",
    "{% endif %}\n",
    "      REGISTRY_HOST: \"{{ master_fqdn }}:5000\"\n",
    "      REGISTRY_USER: \"cwh\"\n",
    "      REGISTRY_PASSWORD: \"{{ registry_pass }}\"\n",
    "    hostname: jupyterhub\n",
    "    image: {{ jupyterhub_image }}\n",
    "    networks:\n",
    "    - backend\n",
    "    ports:\n",
    "    - 8000:8000\n",
    "    - 8081:8081\n",
    "    volumes:\n",
    "    - source: /var/run/docker.sock\n",
    "      target: /var/run/docker.sock\n",
    "      type: bind\n",
    "    - source: /var/run/restuser.sock\n",
    "      target: /var/run/restuser.sock\n",
    "      type: bind\n",
    "    - read_only: true\n",
    "      source: /var/jupyterhub/logo.png\n",
    "      target: /var/jupyterhub/logo.png\n",
    "      type: bind\n",
    "    - read_only: true\n",
    "      source: /etc/jupyterhub/resource.yaml\n",
    "      target: /srv/jupyterhub/resource.yaml\n",
    "      type: bind\n",
    "    - read_only: true\n",
    "      source: /etc/jupyterhub/jupyterhub_config.d\n",
    "      target: /jupyterhub_config.d\n",
    "      type: bind\n",
    "    command: >\n",
    "      /bin/bash -c\n",
    "      \"jupyterhub upgrade-db && exec jupyterhub\"\n",
    "  postgres:\n",
    "    deploy:\n",
    "      placement:\n",
    "        constraints:\n",
    "        - node.role==manager\n",
    "      replicas: 1\n",
    "    environment:\n",
    "      PGDATA: /var/lib/postgresql/data/pgdata\n",
    "      POSTGRES_DB: jupyterhub\n",
    "      POSTGRES_PASSWORD: \"{{ db_pass }}\"\n",
    "      POSTGRES_USER: {{ db_user }}\n",
    "    hostname: postgres\n",
    "    image: postgres:13\n",
    "    networks:\n",
    "    - backend\n",
    "    volumes:\n",
    "    - source: /jupyter/psql/data\n",
    "      target: /var/lib/postgresql/data\n",
    "      type: bind\n",
    "    - source: /jupyter/psql/create.sql\n",
    "      target: /docker-entrypoint-initdb.d/create.sql\n",
    "      type: bind\n",
    "  registry:\n",
    "    deploy:\n",
    "      placement:\n",
    "        constraints:\n",
    "        - node.role==manager\n",
    "      replicas: 1\n",
    "    image: registry:2\n",
    "    networks:\n",
    "    - backend\n",
    "    ports:\n",
    "    - 5000:5000\n",
    "    environment:\n",
    "      REGISTRY_HTTP_TLS_CERTIFICATE: /certs/auth-proxy.chained.cer\n",
    "      REGISTRY_HTTP_TLS_KEY: /certs/auth-proxy.key\n",
    "      REGISTRY_AUTH: htpasswd\n",
    "      REGISTRY_AUTH_HTPASSWD_PATH: /auth/htpasswd\n",
    "      REGISTRY_AUTH_HTPASSWD_REALM: Registry Realm\n",
    "      REGISTRY_STORAGE_DELETE_ENABLED: 'true'\n",
    "    volumes:\n",
    "    - source: /jupyter/registry/data\n",
    "      target: /var/lib/registry\n",
    "      type: bind\n",
    "    - read_only: true\n",
    "      source: /jupyter/registry/htpasswd\n",
    "      target: /auth/htpasswd\n",
    "      type: bind\n",
    "    - read_only: true\n",
    "      source: /etc/jupyterhub/nginx/certs\n",
    "      target: /certs\n",
    "      type: bind\n",
    "networks:\n",
    "  backend:\n",
    "    external: true\n",
    "    name: courseware-backend\n",
    "'''.lstrip())"
   ]
  },
  {
   "cell_type": "code",
   "execution_count": null,
   "id": "9f82d953",
   "metadata": {
    "lc_cell_meme": {
     "current": "32bf0eac-92e2-11ec-8f97-6b42dc3e1973-10-c393-471b-9ee9-629c-0e25-19bf-769d-7345-6f4c-2714",
     "history": [
      {
       "current": "32bf0eac-92e2-11ec-8f97-6b42dc3e1973-1-c393",
       "next": "d7fcf661-9304-11ec-83d0-6b42dc3e1973",
       "previous": "32bf0bb1-92e2-11ec-9e7f-6b42dc3e1973"
      },
      {
       "current": "32bf0eac-92e2-11ec-8f97-6b42dc3e1973-2-c393-471b",
       "next": "d7fcf661-9304-11ec-83d0-6b42dc3e1973-1-36ae",
       "previous": "32bf0bb1-92e2-11ec-9e7f-6b42dc3e1973-1-cf80"
      },
      {
       "current": "32bf0eac-92e2-11ec-8f97-6b42dc3e1973-3-c393-471b-9ee9",
       "next": "d7fcf661-9304-11ec-83d0-6b42dc3e1973-2-36ae-dab9",
       "previous": "32bf0bb1-92e2-11ec-9e7f-6b42dc3e1973-2-cf80-409a"
      },
      {
       "current": "32bf0eac-92e2-11ec-8f97-6b42dc3e1973-4-c393-471b-9ee9-629c",
       "next": "d7fcf661-9304-11ec-83d0-6b42dc3e1973-3-36ae-dab9-d62a",
       "previous": "32bf0bb1-92e2-11ec-9e7f-6b42dc3e1973-3-cf80-409a-7cb2"
      },
      {
       "current": "32bf0eac-92e2-11ec-8f97-6b42dc3e1973-5-c393-471b-9ee9-629c-0e25",
       "next": "d7fcf661-9304-11ec-83d0-6b42dc3e1973-4-36ae-dab9-d62a-73e4",
       "previous": "32bf0bb1-92e2-11ec-9e7f-6b42dc3e1973-4-cf80-409a-7cb2-4825"
      },
      {
       "current": "32bf0eac-92e2-11ec-8f97-6b42dc3e1973-6-c393-471b-9ee9-629c-0e25-19bf",
       "next": "d7fcf661-9304-11ec-83d0-6b42dc3e1973-5-36ae-dab9-d62a-73e4-736e",
       "previous": "32bf0bb1-92e2-11ec-9e7f-6b42dc3e1973-5-cf80-409a-7cb2-4825-0866"
      },
      {
       "current": "32bf0eac-92e2-11ec-8f97-6b42dc3e1973-7-c393-471b-9ee9-629c-0e25-19bf-769d",
       "next": "d7fcf661-9304-11ec-83d0-6b42dc3e1973-6-36ae-dab9-d62a-73e4-736e-3a2f",
       "previous": "32bf0bb1-92e2-11ec-9e7f-6b42dc3e1973-6-cf80-409a-7cb2-4825-0866-d72a"
      },
      {
       "current": "32bf0eac-92e2-11ec-8f97-6b42dc3e1973-8-c393-471b-9ee9-629c-0e25-19bf-769d-7345",
       "next": "d7fcf661-9304-11ec-83d0-6b42dc3e1973-7-36ae-dab9-d62a-73e4-736e-3a2f-3840",
       "previous": "32bf0bb1-92e2-11ec-9e7f-6b42dc3e1973-7-cf80-409a-7cb2-4825-0866-d72a-d55d"
      },
      {
       "current": "32bf0eac-92e2-11ec-8f97-6b42dc3e1973-9-c393-471b-9ee9-629c-0e25-19bf-769d-7345-6f4c",
       "next": "d7fcf661-9304-11ec-83d0-6b42dc3e1973-8-36ae-dab9-d62a-73e4-736e-3a2f-3840-3d08",
       "previous": "32bf0bb1-92e2-11ec-9e7f-6b42dc3e1973-8-cf80-409a-7cb2-4825-0866-d72a-d55d-cfaf"
      },
      {
       "current": "32bf0eac-92e2-11ec-8f97-6b42dc3e1973-10-c393-471b-9ee9-629c-0e25-19bf-769d-7345-6f4c-2714",
       "next": "d7fcf661-9304-11ec-83d0-6b42dc3e1973-9-36ae-dab9-d62a-73e4-736e-3a2f-3840-3d08-b7d5",
       "previous": "32bf0bb1-92e2-11ec-9e7f-6b42dc3e1973-9-cf80-409a-7cb2-4825-0866-d72a-d55d-cfaf-ee99"
      }
     ],
     "next": "d7fcf661-9304-11ec-83d0-6b42dc3e1973-10-36ae-dab9-d62a-73e4-736e-3a2f-3840-3d08-b7d5-39ed",
     "previous": "32bf0bb1-92e2-11ec-9e7f-6b42dc3e1973-10-cf80-409a-7cb2-4825-0866-d72a-d55d-cfaf-ee99-5bda"
    }
   },
   "outputs": [],
   "source": [
    "!cat {docker_compose_j2_path}"
   ]
  },
  {
   "cell_type": "markdown",
   "id": "495bcf6f",
   "metadata": {
    "lc_cell_meme": {
     "current": "d7fcf661-9304-11ec-83d0-6b42dc3e1973-10-36ae-dab9-d62a-73e4-736e-3a2f-3840-3d08-b7d5-39ed",
     "history": [
      {
       "current": "d7fcf661-9304-11ec-83d0-6b42dc3e1973-2-36ae-dab9",
       "next": "32bf0fd4-92e2-11ec-8430-6b42dc3e1973-2-7467-46d6",
       "previous": "32bf0eac-92e2-11ec-8f97-6b42dc3e1973-2-c393-471b"
      },
      {
       "current": "d7fcf661-9304-11ec-83d0-6b42dc3e1973-2-36ae-dab9",
       "next": "85940f7c-9ab4-11ec-895e-0242ac120002",
       "previous": "32bf0eac-92e2-11ec-8f97-6b42dc3e1973-2-c393-471b"
      },
      {
       "current": "d7fcf661-9304-11ec-83d0-6b42dc3e1973-3-36ae-dab9-d62a",
       "next": "32bf0fd4-92e2-11ec-8430-6b42dc3e1973-2-7467-46d6",
       "previous": "32bf0eac-92e2-11ec-8f97-6b42dc3e1973-2-c393-471b"
      },
      {
       "current": "d7fcf661-9304-11ec-83d0-6b42dc3e1973-4-36ae-dab9-d62a-73e4",
       "next": "32bf0fd4-92e2-11ec-8430-6b42dc3e1973-3-7467-46d6-6c13",
       "previous": "32bf0eac-92e2-11ec-8f97-6b42dc3e1973-3-c393-471b-9ee9"
      },
      {
       "current": "d7fcf661-9304-11ec-83d0-6b42dc3e1973-5-36ae-dab9-d62a-73e4-736e",
       "next": "32bf0fd4-92e2-11ec-8430-6b42dc3e1973-4-7467-46d6-6c13-cbe3",
       "previous": "32bf0eac-92e2-11ec-8f97-6b42dc3e1973-4-c393-471b-9ee9-629c"
      },
      {
       "current": "d7fcf661-9304-11ec-83d0-6b42dc3e1973-6-36ae-dab9-d62a-73e4-736e-3a2f",
       "next": "32bf0fd4-92e2-11ec-8430-6b42dc3e1973-5-7467-46d6-6c13-cbe3-ec96",
       "previous": "32bf0eac-92e2-11ec-8f97-6b42dc3e1973-5-c393-471b-9ee9-629c-0e25"
      },
      {
       "current": "d7fcf661-9304-11ec-83d0-6b42dc3e1973-7-36ae-dab9-d62a-73e4-736e-3a2f-3840",
       "next": "32bf0fd4-92e2-11ec-8430-6b42dc3e1973-6-7467-46d6-6c13-cbe3-ec96-1ddd",
       "previous": "32bf0eac-92e2-11ec-8f97-6b42dc3e1973-6-c393-471b-9ee9-629c-0e25-19bf"
      },
      {
       "current": "d7fcf661-9304-11ec-83d0-6b42dc3e1973-8-36ae-dab9-d62a-73e4-736e-3a2f-3840-3d08",
       "next": "32bf0fd4-92e2-11ec-8430-6b42dc3e1973-7-7467-46d6-6c13-cbe3-ec96-1ddd-fb90",
       "previous": "32bf0eac-92e2-11ec-8f97-6b42dc3e1973-7-c393-471b-9ee9-629c-0e25-19bf-769d"
      },
      {
       "current": "d7fcf661-9304-11ec-83d0-6b42dc3e1973-9-36ae-dab9-d62a-73e4-736e-3a2f-3840-3d08-b7d5",
       "next": "32bf0fd4-92e2-11ec-8430-6b42dc3e1973-8-7467-46d6-6c13-cbe3-ec96-1ddd-fb90-e200",
       "previous": "32bf0eac-92e2-11ec-8f97-6b42dc3e1973-8-c393-471b-9ee9-629c-0e25-19bf-769d-7345"
      },
      {
       "current": "d7fcf661-9304-11ec-83d0-6b42dc3e1973-10-36ae-dab9-d62a-73e4-736e-3a2f-3840-3d08-b7d5-39ed",
       "next": "32bf0fd4-92e2-11ec-8430-6b42dc3e1973-9-7467-46d6-6c13-cbe3-ec96-1ddd-fb90-e200-e284",
       "previous": "32bf0eac-92e2-11ec-8f97-6b42dc3e1973-9-c393-471b-9ee9-629c-0e25-19bf-769d-7345-6f4c"
      }
     ],
     "next": "32bf0fd4-92e2-11ec-8430-6b42dc3e1973-10-7467-46d6-6c13-cbe3-ec96-1ddd-fb90-e200-e284-43a4",
     "previous": "32bf0eac-92e2-11ec-8f97-6b42dc3e1973-10-c393-471b-9ee9-629c-0e25-19bf-769d-7345-6f4c-2714"
    }
   },
   "source": [
    "テンプレートの展開、マスターノードへの配備を行います。"
   ]
  },
  {
   "cell_type": "code",
   "execution_count": null,
   "id": "14dc0138",
   "metadata": {
    "lc_cell_meme": {
     "current": "32bf0fd4-92e2-11ec-8430-6b42dc3e1973-10-7467-46d6-6c13-cbe3-ec96-1ddd-fb90-e200-e284-43a4",
     "history": [
      {
       "current": "32bf0fd4-92e2-11ec-8430-6b42dc3e1973-2-7467-46d6",
       "next": "32bf0fd4-92e2-11ec-8430-6b42dc3e1973-3-3003-403b-d510",
       "previous": "d7fcf661-9304-11ec-83d0-6b42dc3e1973-2-36ae-dab9"
      },
      {
       "current": "32bf0fd4-92e2-11ec-8430-6b42dc3e1973-2-7467-46d6",
       "next": "32bf0fd4-92e2-11ec-8430-6b42dc3e1973-3-3003-403b-d510",
       "previous": "85940f7c-9ab4-11ec-895e-0242ac120002"
      },
      {
       "current": "32bf0fd4-92e2-11ec-8430-6b42dc3e1973-3-7467-46d6-6c13",
       "next": "32bf0fd4-92e2-11ec-8430-6b42dc3e1973-3-3003-403b-d510",
       "previous": "d7fcf661-9304-11ec-83d0-6b42dc3e1973-2-36ae-dab9"
      },
      {
       "current": "32bf0fd4-92e2-11ec-8430-6b42dc3e1973-4-7467-46d6-6c13-cbe3",
       "next": "32bf0fd4-92e2-11ec-8430-6b42dc3e1973-4-3003-403b-d510-73db",
       "previous": "d7fcf661-9304-11ec-83d0-6b42dc3e1973-3-36ae-dab9-d62a"
      },
      {
       "current": "32bf0fd4-92e2-11ec-8430-6b42dc3e1973-5-7467-46d6-6c13-cbe3-ec96",
       "next": "32bf0fd4-92e2-11ec-8430-6b42dc3e1973-5-3003-403b-d510-73db-45a7",
       "previous": "d7fcf661-9304-11ec-83d0-6b42dc3e1973-4-36ae-dab9-d62a-73e4"
      },
      {
       "current": "32bf0fd4-92e2-11ec-8430-6b42dc3e1973-6-7467-46d6-6c13-cbe3-ec96-1ddd",
       "next": "32bf0fd4-92e2-11ec-8430-6b42dc3e1973-6-3003-403b-d510-73db-45a7-2c87",
       "previous": "d7fcf661-9304-11ec-83d0-6b42dc3e1973-5-36ae-dab9-d62a-73e4-736e"
      },
      {
       "current": "32bf0fd4-92e2-11ec-8430-6b42dc3e1973-7-7467-46d6-6c13-cbe3-ec96-1ddd-fb90",
       "next": "32bf0fd4-92e2-11ec-8430-6b42dc3e1973-7-3003-403b-d510-73db-45a7-2c87-5966",
       "previous": "d7fcf661-9304-11ec-83d0-6b42dc3e1973-6-36ae-dab9-d62a-73e4-736e-3a2f"
      },
      {
       "current": "32bf0fd4-92e2-11ec-8430-6b42dc3e1973-8-7467-46d6-6c13-cbe3-ec96-1ddd-fb90-e200",
       "next": "32bf0fd4-92e2-11ec-8430-6b42dc3e1973-8-3003-403b-d510-73db-45a7-2c87-5966-18e0",
       "previous": "d7fcf661-9304-11ec-83d0-6b42dc3e1973-7-36ae-dab9-d62a-73e4-736e-3a2f-3840"
      },
      {
       "current": "32bf0fd4-92e2-11ec-8430-6b42dc3e1973-9-7467-46d6-6c13-cbe3-ec96-1ddd-fb90-e200-e284",
       "next": "32bf0fd4-92e2-11ec-8430-6b42dc3e1973-9-3003-403b-d510-73db-45a7-2c87-5966-18e0-65c9",
       "previous": "d7fcf661-9304-11ec-83d0-6b42dc3e1973-8-36ae-dab9-d62a-73e4-736e-3a2f-3840-3d08"
      },
      {
       "current": "32bf0fd4-92e2-11ec-8430-6b42dc3e1973-10-7467-46d6-6c13-cbe3-ec96-1ddd-fb90-e200-e284-43a4",
       "next": "32bf0fd4-92e2-11ec-8430-6b42dc3e1973-10-3003-403b-d510-73db-45a7-2c87-5966-18e0-65c9-64e2",
       "previous": "d7fcf661-9304-11ec-83d0-6b42dc3e1973-9-36ae-dab9-d62a-73e4-736e-3a2f-3840-3d08-b7d5"
      }
     ],
     "next": "32bf0fd4-92e2-11ec-8430-6b42dc3e1973-11-403b-d510-73db-45a7-2c87-5966-18e0-65c9-64e2-61ad",
     "previous": "d7fcf661-9304-11ec-83d0-6b42dc3e1973-10-36ae-dab9-d62a-73e4-736e-3a2f-3840-3d08-b7d5-39ed"
    }
   },
   "outputs": [],
   "source": [
    "!ansible -CDv -b --extra-vars \"db_user={db_user} db_pass={db_pass} cron_secret={cron_secret} registry_pass={registry_pass}\" -m template \\\n",
    "    -a 'src={docker_compose_j2_path} dest=/opt/coursewarehub/docker-compose.yml' {target_hub} -l {target_group}"
   ]
  },
  {
   "cell_type": "code",
   "execution_count": null,
   "id": "d89b76c8",
   "metadata": {
    "lc_cell_meme": {
     "current": "32bf0fd4-92e2-11ec-8430-6b42dc3e1973-11-403b-d510-73db-45a7-2c87-5966-18e0-65c9-64e2-61ad",
     "history": [
      {
       "current": "32bf0fd4-92e2-11ec-8430-6b42dc3e1973-3-3003-403b-d510",
       "next": "f6c94c75-9aa0-11ec-87de-0242ac120002",
       "previous": "32bf0fd4-92e2-11ec-8430-6b42dc3e1973-2-7467-46d6"
      },
      {
       "current": "32bf0fd4-92e2-11ec-8430-6b42dc3e1973-3-3003-403b-d510",
       "next": "697db6c7-a4d2-11ec-9f08-0242ac120002",
       "previous": "32bf0fd4-92e2-11ec-8430-6b42dc3e1973-2-7467-46d6"
      },
      {
       "current": "32bf0fd4-92e2-11ec-8430-6b42dc3e1973-4-3003-403b-d510-73db",
       "next": "f6c94c75-9aa0-11ec-87de-0242ac120002",
       "previous": "32bf0fd4-92e2-11ec-8430-6b42dc3e1973-2-7467-46d6"
      },
      {
       "current": "32bf0fd4-92e2-11ec-8430-6b42dc3e1973-5-3003-403b-d510-73db-45a7",
       "next": "f6c94c75-9aa0-11ec-87de-0242ac120002-1-f298",
       "previous": "32bf0fd4-92e2-11ec-8430-6b42dc3e1973-3-7467-46d6-6c13"
      },
      {
       "current": "32bf0fd4-92e2-11ec-8430-6b42dc3e1973-6-3003-403b-d510-73db-45a7-2c87",
       "next": "f6c94c75-9aa0-11ec-87de-0242ac120002-2-f298-8404",
       "previous": "32bf0fd4-92e2-11ec-8430-6b42dc3e1973-4-7467-46d6-6c13-cbe3"
      },
      {
       "current": "32bf0fd4-92e2-11ec-8430-6b42dc3e1973-7-3003-403b-d510-73db-45a7-2c87-5966",
       "next": "f6c94c75-9aa0-11ec-87de-0242ac120002-3-f298-8404-5c1e",
       "previous": "32bf0fd4-92e2-11ec-8430-6b42dc3e1973-5-7467-46d6-6c13-cbe3-ec96"
      },
      {
       "current": "32bf0fd4-92e2-11ec-8430-6b42dc3e1973-8-3003-403b-d510-73db-45a7-2c87-5966-18e0",
       "next": "f6c94c75-9aa0-11ec-87de-0242ac120002-4-f298-8404-5c1e-58a3",
       "previous": "32bf0fd4-92e2-11ec-8430-6b42dc3e1973-6-7467-46d6-6c13-cbe3-ec96-1ddd"
      },
      {
       "current": "32bf0fd4-92e2-11ec-8430-6b42dc3e1973-9-3003-403b-d510-73db-45a7-2c87-5966-18e0-65c9",
       "next": "f6c94c75-9aa0-11ec-87de-0242ac120002-5-f298-8404-5c1e-58a3-50f9",
       "previous": "32bf0fd4-92e2-11ec-8430-6b42dc3e1973-7-7467-46d6-6c13-cbe3-ec96-1ddd-fb90"
      },
      {
       "current": "32bf0fd4-92e2-11ec-8430-6b42dc3e1973-10-3003-403b-d510-73db-45a7-2c87-5966-18e0-65c9-64e2",
       "next": "f6c94c75-9aa0-11ec-87de-0242ac120002-6-f298-8404-5c1e-58a3-50f9-0efe",
       "previous": "32bf0fd4-92e2-11ec-8430-6b42dc3e1973-8-7467-46d6-6c13-cbe3-ec96-1ddd-fb90-e200"
      },
      {
       "current": "32bf0fd4-92e2-11ec-8430-6b42dc3e1973-11-403b-d510-73db-45a7-2c87-5966-18e0-65c9-64e2-61ad",
       "next": "f6c94c75-9aa0-11ec-87de-0242ac120002-7-f298-8404-5c1e-58a3-50f9-0efe-fd2a",
       "previous": "32bf0fd4-92e2-11ec-8430-6b42dc3e1973-9-7467-46d6-6c13-cbe3-ec96-1ddd-fb90-e200-e284"
      }
     ],
     "next": "f6c94c75-9aa0-11ec-87de-0242ac120002-8-f298-8404-5c1e-58a3-50f9-0efe-fd2a-98f6",
     "previous": "32bf0fd4-92e2-11ec-8430-6b42dc3e1973-10-7467-46d6-6c13-cbe3-ec96-1ddd-fb90-e200-e284-43a4"
    }
   },
   "outputs": [],
   "source": [
    "!ansible -b --extra-vars \"db_user={db_user} db_pass={db_pass} cron_secret={cron_secret} registry_pass={registry_pass}\" -m template \\\n",
    "    -a 'src={docker_compose_j2_path} dest=/opt/coursewarehub/docker-compose.yml' {target_hub} -l {target_group}"
   ]
  },
  {
   "cell_type": "markdown",
   "id": "7c8936ed",
   "metadata": {
    "lc_cell_meme": {
     "current": "f6c94c75-9aa0-11ec-87de-0242ac120002-8-f298-8404-5c1e-58a3-50f9-0efe-fd2a-98f6",
     "history": [
      {
       "current": "f6c94c75-9aa0-11ec-87de-0242ac120002",
       "next": "50c2a26c-9a27-11ec-9c01-0242ac120002-1-2ebd",
       "previous": "697db841-a4d2-11ec-a84a-0242ac120002"
      },
      {
       "current": "f6c94c75-9aa0-11ec-87de-0242ac120002",
       "next": "50c2a26c-9a27-11ec-9c01-0242ac120002-1-2ebd",
       "previous": "f8638b90-a4d2-11ec-9a8c-0242ac120002"
      },
      {
       "current": "f6c94c75-9aa0-11ec-87de-0242ac120002-1-f298",
       "next": "50c2a26c-9a27-11ec-9c01-0242ac120002-1-2ebd",
       "previous": "32bf0fd4-92e2-11ec-8430-6b42dc3e1973-3-3003-403b-d510"
      },
      {
       "current": "f6c94c75-9aa0-11ec-87de-0242ac120002-2-f298-8404",
       "next": "50c2a26c-9a27-11ec-9c01-0242ac120002-2-2ebd-f0e1",
       "previous": "32bf0fd4-92e2-11ec-8430-6b42dc3e1973-4-3003-403b-d510-73db"
      },
      {
       "current": "f6c94c75-9aa0-11ec-87de-0242ac120002-3-f298-8404-5c1e",
       "next": "50c2a26c-9a27-11ec-9c01-0242ac120002-3-2ebd-f0e1-4efd",
       "previous": "32bf0fd4-92e2-11ec-8430-6b42dc3e1973-5-3003-403b-d510-73db-45a7"
      },
      {
       "current": "f6c94c75-9aa0-11ec-87de-0242ac120002-4-f298-8404-5c1e-58a3",
       "next": "50c2a26c-9a27-11ec-9c01-0242ac120002-4-2ebd-f0e1-4efd-7efe",
       "previous": "32bf0fd4-92e2-11ec-8430-6b42dc3e1973-6-3003-403b-d510-73db-45a7-2c87"
      },
      {
       "current": "f6c94c75-9aa0-11ec-87de-0242ac120002-5-f298-8404-5c1e-58a3-50f9",
       "next": "50c2a26c-9a27-11ec-9c01-0242ac120002-5-2ebd-f0e1-4efd-7efe-bc48",
       "previous": "32bf0fd4-92e2-11ec-8430-6b42dc3e1973-7-3003-403b-d510-73db-45a7-2c87-5966"
      },
      {
       "current": "f6c94c75-9aa0-11ec-87de-0242ac120002-6-f298-8404-5c1e-58a3-50f9-0efe",
       "next": "50c2a26c-9a27-11ec-9c01-0242ac120002-6-2ebd-f0e1-4efd-7efe-bc48-c2fb",
       "previous": "32bf0fd4-92e2-11ec-8430-6b42dc3e1973-8-3003-403b-d510-73db-45a7-2c87-5966-18e0"
      },
      {
       "current": "f6c94c75-9aa0-11ec-87de-0242ac120002-7-f298-8404-5c1e-58a3-50f9-0efe-fd2a",
       "next": "50c2a26c-9a27-11ec-9c01-0242ac120002-7-2ebd-f0e1-4efd-7efe-bc48-c2fb-124c",
       "previous": "32bf0fd4-92e2-11ec-8430-6b42dc3e1973-9-3003-403b-d510-73db-45a7-2c87-5966-18e0-65c9"
      },
      {
       "current": "f6c94c75-9aa0-11ec-87de-0242ac120002-8-f298-8404-5c1e-58a3-50f9-0efe-fd2a-98f6",
       "next": "50c2a26c-9a27-11ec-9c01-0242ac120002-8-2ebd-f0e1-4efd-7efe-bc48-c2fb-124c-bb11",
       "previous": "32bf0fd4-92e2-11ec-8430-6b42dc3e1973-10-3003-403b-d510-73db-45a7-2c87-5966-18e0-65c9-64e2"
      }
     ],
     "next": "50c2a26c-9a27-11ec-9c01-0242ac120002-9-2ebd-f0e1-4efd-7efe-bc48-c2fb-124c-bb11-c181",
     "previous": "32bf0fd4-92e2-11ec-8430-6b42dc3e1973-11-403b-d510-73db-45a7-2c87-5966-18e0-65c9-64e2-61ad"
    }
   },
   "source": [
    "# イメージ更新"
   ]
  },
  {
   "cell_type": "code",
   "execution_count": null,
   "id": "ad4fc29a",
   "metadata": {
    "lc_cell_meme": {
     "current": "50c2a26c-9a27-11ec-9c01-0242ac120002-9-2ebd-f0e1-4efd-7efe-bc48-c2fb-124c-bb11-c181",
     "history": [
      {
       "current": "50c2a26c-9a27-11ec-9c01-0242ac120002-1-2ebd",
       "next": "50c2a346-9a27-11ec-b860-0242ac120002",
       "previous": "bdf755fa-92e9-11ec-99d1-6b42dc3e1973-1-64df"
      },
      {
       "current": "50c2a26c-9a27-11ec-9c01-0242ac120002-2-2ebd-f0e1",
       "next": "50c2a346-9a27-11ec-b860-0242ac120002-1-a6a6",
       "previous": "f6c94c75-9aa0-11ec-87de-0242ac120002"
      },
      {
       "current": "50c2a26c-9a27-11ec-9c01-0242ac120002-3-2ebd-f0e1-4efd",
       "next": "50c2a346-9a27-11ec-b860-0242ac120002-2-a6a6-91cf",
       "previous": "f6c94c75-9aa0-11ec-87de-0242ac120002-1-f298"
      },
      {
       "current": "50c2a26c-9a27-11ec-9c01-0242ac120002-4-2ebd-f0e1-4efd-7efe",
       "next": "50c2a346-9a27-11ec-b860-0242ac120002-3-a6a6-91cf-3b4e",
       "previous": "f6c94c75-9aa0-11ec-87de-0242ac120002-2-f298-8404"
      },
      {
       "current": "50c2a26c-9a27-11ec-9c01-0242ac120002-5-2ebd-f0e1-4efd-7efe-bc48",
       "next": "50c2a346-9a27-11ec-b860-0242ac120002-4-a6a6-91cf-3b4e-da67",
       "previous": "f6c94c75-9aa0-11ec-87de-0242ac120002-3-f298-8404-5c1e"
      },
      {
       "current": "50c2a26c-9a27-11ec-9c01-0242ac120002-6-2ebd-f0e1-4efd-7efe-bc48-c2fb",
       "next": "50c2a346-9a27-11ec-b860-0242ac120002-5-a6a6-91cf-3b4e-da67-68fa",
       "previous": "f6c94c75-9aa0-11ec-87de-0242ac120002-4-f298-8404-5c1e-58a3"
      },
      {
       "current": "50c2a26c-9a27-11ec-9c01-0242ac120002-7-2ebd-f0e1-4efd-7efe-bc48-c2fb-124c",
       "next": "50c2a346-9a27-11ec-b860-0242ac120002-6-a6a6-91cf-3b4e-da67-68fa-e546",
       "previous": "f6c94c75-9aa0-11ec-87de-0242ac120002-5-f298-8404-5c1e-58a3-50f9"
      },
      {
       "current": "50c2a26c-9a27-11ec-9c01-0242ac120002-8-2ebd-f0e1-4efd-7efe-bc48-c2fb-124c-bb11",
       "next": "50c2a346-9a27-11ec-b860-0242ac120002-7-a6a6-91cf-3b4e-da67-68fa-e546-67f2",
       "previous": "f6c94c75-9aa0-11ec-87de-0242ac120002-6-f298-8404-5c1e-58a3-50f9-0efe"
      },
      {
       "current": "50c2a26c-9a27-11ec-9c01-0242ac120002-9-2ebd-f0e1-4efd-7efe-bc48-c2fb-124c-bb11-c181",
       "next": "50c2a346-9a27-11ec-b860-0242ac120002-8-a6a6-91cf-3b4e-da67-68fa-e546-67f2-cd0b",
       "previous": "f6c94c75-9aa0-11ec-87de-0242ac120002-7-f298-8404-5c1e-58a3-50f9-0efe-fd2a"
      }
     ],
     "next": "50c2a346-9a27-11ec-b860-0242ac120002-9-a6a6-91cf-3b4e-da67-68fa-e546-67f2-cd0b-826f",
     "previous": "f6c94c75-9aa0-11ec-87de-0242ac120002-8-f298-8404-5c1e-58a3-50f9-0efe-fd2a-98f6"
    }
   },
   "outputs": [],
   "source": [
    "!ansible -b -a 'docker pull {{{{ auth_proxy_image }}}}' {target_hub} -l {target_group}"
   ]
  },
  {
   "cell_type": "code",
   "execution_count": null,
   "id": "fbf83f8f",
   "metadata": {
    "lc_cell_meme": {
     "current": "50c2a346-9a27-11ec-b860-0242ac120002-9-a6a6-91cf-3b4e-da67-68fa-e546-67f2-cd0b-826f",
     "history": [
      {
       "current": "50c2a346-9a27-11ec-b860-0242ac120002-1-a6a6",
       "next": "bdf75ac4-92e9-11ec-b4bf-6b42dc3e1973-1-10db",
       "previous": "50c2a26c-9a27-11ec-9c01-0242ac120002"
      },
      {
       "current": "50c2a346-9a27-11ec-b860-0242ac120002-2-a6a6-91cf",
       "next": "109d331b-9535-11ec-af0f-6b42dc3e1973-1-9595",
       "previous": "50c2a26c-9a27-11ec-9c01-0242ac120002-1-2ebd"
      },
      {
       "current": "50c2a346-9a27-11ec-b860-0242ac120002-3-a6a6-91cf-3b4e",
       "next": "109d331b-9535-11ec-af0f-6b42dc3e1973-2-9595-aa4a",
       "previous": "50c2a26c-9a27-11ec-9c01-0242ac120002-2-2ebd-f0e1"
      },
      {
       "current": "50c2a346-9a27-11ec-b860-0242ac120002-4-a6a6-91cf-3b4e-da67",
       "next": "109d331b-9535-11ec-af0f-6b42dc3e1973-3-9595-aa4a-f454",
       "previous": "50c2a26c-9a27-11ec-9c01-0242ac120002-3-2ebd-f0e1-4efd"
      },
      {
       "current": "50c2a346-9a27-11ec-b860-0242ac120002-5-a6a6-91cf-3b4e-da67-68fa",
       "next": "109d331b-9535-11ec-af0f-6b42dc3e1973-4-9595-aa4a-f454-b2e6",
       "previous": "50c2a26c-9a27-11ec-9c01-0242ac120002-4-2ebd-f0e1-4efd-7efe"
      },
      {
       "current": "50c2a346-9a27-11ec-b860-0242ac120002-6-a6a6-91cf-3b4e-da67-68fa-e546",
       "next": "109d331b-9535-11ec-af0f-6b42dc3e1973-5-9595-aa4a-f454-b2e6-5717",
       "previous": "50c2a26c-9a27-11ec-9c01-0242ac120002-5-2ebd-f0e1-4efd-7efe-bc48"
      },
      {
       "current": "50c2a346-9a27-11ec-b860-0242ac120002-7-a6a6-91cf-3b4e-da67-68fa-e546-67f2",
       "next": "109d331b-9535-11ec-af0f-6b42dc3e1973-6-9595-aa4a-f454-b2e6-5717-ad31",
       "previous": "50c2a26c-9a27-11ec-9c01-0242ac120002-6-2ebd-f0e1-4efd-7efe-bc48-c2fb"
      },
      {
       "current": "50c2a346-9a27-11ec-b860-0242ac120002-8-a6a6-91cf-3b4e-da67-68fa-e546-67f2-cd0b",
       "next": "109d331b-9535-11ec-af0f-6b42dc3e1973-7-9595-aa4a-f454-b2e6-5717-ad31-1cbd",
       "previous": "50c2a26c-9a27-11ec-9c01-0242ac120002-7-2ebd-f0e1-4efd-7efe-bc48-c2fb-124c"
      },
      {
       "current": "50c2a346-9a27-11ec-b860-0242ac120002-9-a6a6-91cf-3b4e-da67-68fa-e546-67f2-cd0b-826f",
       "next": "109d331b-9535-11ec-af0f-6b42dc3e1973-8-9595-aa4a-f454-b2e6-5717-ad31-1cbd-419c",
       "previous": "50c2a26c-9a27-11ec-9c01-0242ac120002-8-2ebd-f0e1-4efd-7efe-bc48-c2fb-124c-bb11"
      }
     ],
     "next": "109d331b-9535-11ec-af0f-6b42dc3e1973-9-9595-aa4a-f454-b2e6-5717-ad31-1cbd-419c-3e45",
     "previous": "50c2a26c-9a27-11ec-9c01-0242ac120002-9-2ebd-f0e1-4efd-7efe-bc48-c2fb-124c-bb11-c181"
    },
    "scrolled": true
   },
   "outputs": [],
   "source": [
    "!ansible -b -a 'docker pull {{{{ jupyterhub_image }}}}' {target_hub} -l {target_group}"
   ]
  },
  {
   "cell_type": "markdown",
   "id": "22f174c6",
   "metadata": {
    "lc_cell_meme": {
     "current": "109d331b-9535-11ec-af0f-6b42dc3e1973-9-9595-aa4a-f454-b2e6-5717-ad31-1cbd-419c-3e45",
     "history": [
      {
       "current": "109d331b-9535-11ec-af0f-6b42dc3e1973-1-9595",
       "next": "bdf75ac4-92e9-11ec-b4bf-6b42dc3e1973-2-d8eb-ca2d",
       "previous": "4cba8799-9537-11ec-b542-6b42dc3e1973-1-9df7"
      },
      {
       "current": "109d331b-9535-11ec-af0f-6b42dc3e1973-1-9595",
       "next": "bdf75ac4-92e9-11ec-b4bf-6b42dc3e1973-2-d8eb-ca2d",
       "previous": "32bf0fd4-92e2-11ec-8430-6b42dc3e1973-3-3003-403b-d510"
      },
      {
       "current": "109d331b-9535-11ec-af0f-6b42dc3e1973-2-9595-aa4a",
       "next": "bdf75ac4-92e9-11ec-b4bf-6b42dc3e1973-2-d8eb-ca2d",
       "previous": "50c2a346-9a27-11ec-b860-0242ac120002-1-a6a6"
      },
      {
       "current": "109d331b-9535-11ec-af0f-6b42dc3e1973-3-9595-aa4a-f454",
       "next": "bdf75ac4-92e9-11ec-b4bf-6b42dc3e1973-3-d8eb-ca2d-8402",
       "previous": "50c2a346-9a27-11ec-b860-0242ac120002-2-a6a6-91cf"
      },
      {
       "current": "109d331b-9535-11ec-af0f-6b42dc3e1973-4-9595-aa4a-f454-b2e6",
       "next": "bdf75ac4-92e9-11ec-b4bf-6b42dc3e1973-4-d8eb-ca2d-8402-614e",
       "previous": "50c2a346-9a27-11ec-b860-0242ac120002-3-a6a6-91cf-3b4e"
      },
      {
       "current": "109d331b-9535-11ec-af0f-6b42dc3e1973-5-9595-aa4a-f454-b2e6-5717",
       "next": "bdf75ac4-92e9-11ec-b4bf-6b42dc3e1973-5-d8eb-ca2d-8402-614e-1f09",
       "previous": "50c2a346-9a27-11ec-b860-0242ac120002-4-a6a6-91cf-3b4e-da67"
      },
      {
       "current": "109d331b-9535-11ec-af0f-6b42dc3e1973-6-9595-aa4a-f454-b2e6-5717-ad31",
       "next": "bdf75ac4-92e9-11ec-b4bf-6b42dc3e1973-6-d8eb-ca2d-8402-614e-1f09-1245",
       "previous": "50c2a346-9a27-11ec-b860-0242ac120002-5-a6a6-91cf-3b4e-da67-68fa"
      },
      {
       "current": "109d331b-9535-11ec-af0f-6b42dc3e1973-7-9595-aa4a-f454-b2e6-5717-ad31-1cbd",
       "next": "bdf75ac4-92e9-11ec-b4bf-6b42dc3e1973-7-d8eb-ca2d-8402-614e-1f09-1245-0aa5",
       "previous": "50c2a346-9a27-11ec-b860-0242ac120002-6-a6a6-91cf-3b4e-da67-68fa-e546"
      },
      {
       "current": "109d331b-9535-11ec-af0f-6b42dc3e1973-8-9595-aa4a-f454-b2e6-5717-ad31-1cbd-419c",
       "next": "bdf75ac4-92e9-11ec-b4bf-6b42dc3e1973-8-d8eb-ca2d-8402-614e-1f09-1245-0aa5-7af9",
       "previous": "50c2a346-9a27-11ec-b860-0242ac120002-7-a6a6-91cf-3b4e-da67-68fa-e546-67f2"
      },
      {
       "current": "109d331b-9535-11ec-af0f-6b42dc3e1973-9-9595-aa4a-f454-b2e6-5717-ad31-1cbd-419c-3e45",
       "next": "bdf75ac4-92e9-11ec-b4bf-6b42dc3e1973-9-d8eb-ca2d-8402-614e-1f09-1245-0aa5-7af9-3c8b",
       "previous": "50c2a346-9a27-11ec-b860-0242ac120002-8-a6a6-91cf-3b4e-da67-68fa-e546-67f2-cd0b"
      }
     ],
     "next": "bdf75ac4-92e9-11ec-b4bf-6b42dc3e1973-10-d8eb-ca2d-8402-614e-1f09-1245-0aa5-7af9-3c8b-9986",
     "previous": "50c2a346-9a27-11ec-b860-0242ac120002-9-a6a6-91cf-3b4e-da67-68fa-e546-67f2-cd0b-826f"
    }
   },
   "source": [
    "# 再起動"
   ]
  },
  {
   "cell_type": "code",
   "execution_count": null,
   "id": "311155f6",
   "metadata": {
    "lc_cell_meme": {
     "current": "bdf75ac4-92e9-11ec-b4bf-6b42dc3e1973-10-d8eb-ca2d-8402-614e-1f09-1245-0aa5-7af9-3c8b-9986",
     "history": [
      {
       "current": "bdf75ac4-92e9-11ec-b4bf-6b42dc3e1973-2-d8eb-ca2d",
       "next": "bdf75cdb-92e9-11ec-8bcd-6b42dc3e1973-1-39c0",
       "previous": "109d331b-9535-11ec-af0f-6b42dc3e1973"
      },
      {
       "current": "bdf75ac4-92e9-11ec-b4bf-6b42dc3e1973-3-d8eb-ca2d-8402",
       "next": "bdf75cdb-92e9-11ec-8bcd-6b42dc3e1973-2-39c0-3c63",
       "previous": "109d331b-9535-11ec-af0f-6b42dc3e1973-1-9595"
      },
      {
       "current": "bdf75ac4-92e9-11ec-b4bf-6b42dc3e1973-3-d8eb-ca2d-8402",
       "next": "bdf75cdb-92e9-11ec-8bcd-6b42dc3e1973-3-39c0-3c63-686a",
       "previous": "109d331b-9535-11ec-af0f-6b42dc3e1973-2-9595-aa4a"
      },
      {
       "current": "bdf75ac4-92e9-11ec-b4bf-6b42dc3e1973-4-d8eb-ca2d-8402-614e",
       "next": "ca1b2cae-c090-11ec-8fb6-0242ac120004-1-5bea",
       "previous": "109d331b-9535-11ec-af0f-6b42dc3e1973-2-9595-aa4a"
      },
      {
       "current": "bdf75ac4-92e9-11ec-b4bf-6b42dc3e1973-5-d8eb-ca2d-8402-614e-1f09",
       "next": "ca1b2cae-c090-11ec-8fb6-0242ac120004-2-5bea-8588",
       "previous": "109d331b-9535-11ec-af0f-6b42dc3e1973-3-9595-aa4a-f454"
      },
      {
       "current": "bdf75ac4-92e9-11ec-b4bf-6b42dc3e1973-6-d8eb-ca2d-8402-614e-1f09-1245",
       "next": "ca1b2cae-c090-11ec-8fb6-0242ac120004-3-5bea-8588-3a1f",
       "previous": "109d331b-9535-11ec-af0f-6b42dc3e1973-4-9595-aa4a-f454-b2e6"
      },
      {
       "current": "bdf75ac4-92e9-11ec-b4bf-6b42dc3e1973-7-d8eb-ca2d-8402-614e-1f09-1245-0aa5",
       "next": "ca1b2cae-c090-11ec-8fb6-0242ac120004-4-5bea-8588-3a1f-0263",
       "previous": "109d331b-9535-11ec-af0f-6b42dc3e1973-5-9595-aa4a-f454-b2e6-5717"
      },
      {
       "current": "bdf75ac4-92e9-11ec-b4bf-6b42dc3e1973-8-d8eb-ca2d-8402-614e-1f09-1245-0aa5-7af9",
       "next": "ca1b2cae-c090-11ec-8fb6-0242ac120004-5-5bea-8588-3a1f-0263-da00",
       "previous": "109d331b-9535-11ec-af0f-6b42dc3e1973-6-9595-aa4a-f454-b2e6-5717-ad31"
      },
      {
       "current": "bdf75ac4-92e9-11ec-b4bf-6b42dc3e1973-9-d8eb-ca2d-8402-614e-1f09-1245-0aa5-7af9-3c8b",
       "next": "ca1b2cae-c090-11ec-8fb6-0242ac120004-6-5bea-8588-3a1f-0263-da00-d6ed",
       "previous": "109d331b-9535-11ec-af0f-6b42dc3e1973-7-9595-aa4a-f454-b2e6-5717-ad31-1cbd"
      },
      {
       "current": "bdf75ac4-92e9-11ec-b4bf-6b42dc3e1973-10-d8eb-ca2d-8402-614e-1f09-1245-0aa5-7af9-3c8b-9986",
       "next": "ca1b2cae-c090-11ec-8fb6-0242ac120004-7-5bea-8588-3a1f-0263-da00-d6ed-809d",
       "previous": "109d331b-9535-11ec-af0f-6b42dc3e1973-8-9595-aa4a-f454-b2e6-5717-ad31-1cbd-419c"
      }
     ],
     "next": "ca1b2cae-c090-11ec-8fb6-0242ac120004-8-5bea-8588-3a1f-0263-da00-d6ed-809d-cf96",
     "previous": "109d331b-9535-11ec-af0f-6b42dc3e1973-9-9595-aa4a-f454-b2e6-5717-ad31-1cbd-419c-3e45"
    }
   },
   "outputs": [],
   "source": [
    "import time\n",
    "\n",
    "!ansible -b -a 'docker stack rm coursewarehub' {target_hub} -l {target_group} ;:\n",
    "!ansible -b -a 'chdir=/opt/coursewarehub docker stack deploy -c docker-compose.yml coursewarehub' {target_hub} -l {target_group}"
   ]
  },
  {
   "cell_type": "markdown",
   "id": "dd7668eb",
   "metadata": {
    "lc_cell_meme": {
     "current": "ca1b2cae-c090-11ec-8fb6-0242ac120004-8-5bea-8588-3a1f-0263-da00-d6ed-809d-cf96",
     "history": [
      {
       "current": "ca1b2cae-c090-11ec-8fb6-0242ac120004-1-5bea",
       "next": "bdf75cdb-92e9-11ec-8bcd-6b42dc3e1973-2-e145-b7a2",
       "previous": "bdf75ac4-92e9-11ec-b4bf-6b42dc3e1973-2-10db-0935"
      },
      {
       "current": "ca1b2cae-c090-11ec-8fb6-0242ac120004-2-5bea-8588",
       "next": "bdf75cdb-92e9-11ec-8bcd-6b42dc3e1973-3-39c0-3c63-686a",
       "previous": "bdf75ac4-92e9-11ec-b4bf-6b42dc3e1973-3-d8eb-ca2d-8402"
      },
      {
       "current": "ca1b2cae-c090-11ec-8fb6-0242ac120004-3-5bea-8588-3a1f",
       "next": "bdf75cdb-92e9-11ec-8bcd-6b42dc3e1973-4-39c0-3c63-686a-6b60",
       "previous": "bdf75ac4-92e9-11ec-b4bf-6b42dc3e1973-4-d8eb-ca2d-8402-614e"
      },
      {
       "current": "ca1b2cae-c090-11ec-8fb6-0242ac120004-4-5bea-8588-3a1f-0263",
       "next": "bdf75cdb-92e9-11ec-8bcd-6b42dc3e1973-5-39c0-3c63-686a-6b60-86f6",
       "previous": "bdf75ac4-92e9-11ec-b4bf-6b42dc3e1973-5-d8eb-ca2d-8402-614e-1f09"
      },
      {
       "current": "ca1b2cae-c090-11ec-8fb6-0242ac120004-5-5bea-8588-3a1f-0263-da00",
       "next": "bdf75cdb-92e9-11ec-8bcd-6b42dc3e1973-6-39c0-3c63-686a-6b60-86f6-a1ad",
       "previous": "bdf75ac4-92e9-11ec-b4bf-6b42dc3e1973-6-d8eb-ca2d-8402-614e-1f09-1245"
      },
      {
       "current": "ca1b2cae-c090-11ec-8fb6-0242ac120004-6-5bea-8588-3a1f-0263-da00-d6ed",
       "next": "bdf75cdb-92e9-11ec-8bcd-6b42dc3e1973-7-39c0-3c63-686a-6b60-86f6-a1ad-f646",
       "previous": "bdf75ac4-92e9-11ec-b4bf-6b42dc3e1973-7-d8eb-ca2d-8402-614e-1f09-1245-0aa5"
      },
      {
       "current": "ca1b2cae-c090-11ec-8fb6-0242ac120004-7-5bea-8588-3a1f-0263-da00-d6ed-809d",
       "next": "bdf75cdb-92e9-11ec-8bcd-6b42dc3e1973-8-39c0-3c63-686a-6b60-86f6-a1ad-f646-748e",
       "previous": "bdf75ac4-92e9-11ec-b4bf-6b42dc3e1973-8-d8eb-ca2d-8402-614e-1f09-1245-0aa5-7af9"
      },
      {
       "current": "ca1b2cae-c090-11ec-8fb6-0242ac120004-8-5bea-8588-3a1f-0263-da00-d6ed-809d-cf96",
       "next": "bdf75cdb-92e9-11ec-8bcd-6b42dc3e1973-9-39c0-3c63-686a-6b60-86f6-a1ad-f646-748e-0497",
       "previous": "bdf75ac4-92e9-11ec-b4bf-6b42dc3e1973-9-d8eb-ca2d-8402-614e-1f09-1245-0aa5-7af9-3c8b"
      }
     ],
     "next": "bdf75cdb-92e9-11ec-8bcd-6b42dc3e1973-10-39c0-3c63-686a-6b60-86f6-a1ad-f646-748e-0497-308d",
     "previous": "bdf75ac4-92e9-11ec-b4bf-6b42dc3e1973-10-d8eb-ca2d-8402-614e-1f09-1245-0aa5-7af9-3c8b-9986"
    }
   },
   "source": [
    "サービス起動完了のタイミングが揃わないので、すぐには安定しません。\n",
    "\n",
    "コンテナが何度か再起動されて、安定するまで待ちます。"
   ]
  },
  {
   "cell_type": "code",
   "execution_count": null,
   "id": "300d6946",
   "metadata": {
    "lc_cell_meme": {
     "current": "bdf75cdb-92e9-11ec-8bcd-6b42dc3e1973-10-39c0-3c63-686a-6b60-86f6-a1ad-f646-748e-0497-308d",
     "history": [
      {
       "current": "bdf75cdb-92e9-11ec-8bcd-6b42dc3e1973-2-39c0-3c63",
       "next": "f6182d48-9305-11ec-8616-6b42dc3e1973-1-7332",
       "previous": "bdf75ac4-92e9-11ec-b4bf-6b42dc3e1973-1-d8eb"
      },
      {
       "current": "bdf75cdb-92e9-11ec-8bcd-6b42dc3e1973-3-39c0-3c63-686a",
       "next": "f6182d48-9305-11ec-8616-6b42dc3e1973-2-7332-5239",
       "previous": "bdf75ac4-92e9-11ec-b4bf-6b42dc3e1973-2-d8eb-ca2d"
      },
      {
       "current": "bdf75cdb-92e9-11ec-8bcd-6b42dc3e1973-3-39c0-3c63-686a",
       "next": "f6182d48-9305-11ec-8616-6b42dc3e1973-3-7332-5239-9bac",
       "previous": "bdf75ac4-92e9-11ec-b4bf-6b42dc3e1973-3-d8eb-ca2d-8402"
      },
      {
       "current": "bdf75cdb-92e9-11ec-8bcd-6b42dc3e1973-4-39c0-3c63-686a-6b60",
       "next": "f6182d48-9305-11ec-8616-6b42dc3e1973-3-7332-5239-9bac",
       "previous": "ca1b2cae-c090-11ec-8fb6-0242ac120004-1-5bea"
      },
      {
       "current": "bdf75cdb-92e9-11ec-8bcd-6b42dc3e1973-5-39c0-3c63-686a-6b60-86f6",
       "next": "f6182d48-9305-11ec-8616-6b42dc3e1973-4-7332-5239-9bac-3de1",
       "previous": "ca1b2cae-c090-11ec-8fb6-0242ac120004-2-5bea-8588"
      },
      {
       "current": "bdf75cdb-92e9-11ec-8bcd-6b42dc3e1973-6-39c0-3c63-686a-6b60-86f6-a1ad",
       "next": "f6182d48-9305-11ec-8616-6b42dc3e1973-5-7332-5239-9bac-3de1-c2ea",
       "previous": "ca1b2cae-c090-11ec-8fb6-0242ac120004-3-5bea-8588-3a1f"
      },
      {
       "current": "bdf75cdb-92e9-11ec-8bcd-6b42dc3e1973-7-39c0-3c63-686a-6b60-86f6-a1ad-f646",
       "next": "f6182d48-9305-11ec-8616-6b42dc3e1973-6-7332-5239-9bac-3de1-c2ea-917e",
       "previous": "ca1b2cae-c090-11ec-8fb6-0242ac120004-4-5bea-8588-3a1f-0263"
      },
      {
       "current": "bdf75cdb-92e9-11ec-8bcd-6b42dc3e1973-8-39c0-3c63-686a-6b60-86f6-a1ad-f646-748e",
       "next": "f6182d48-9305-11ec-8616-6b42dc3e1973-7-7332-5239-9bac-3de1-c2ea-917e-2bad",
       "previous": "ca1b2cae-c090-11ec-8fb6-0242ac120004-5-5bea-8588-3a1f-0263-da00"
      },
      {
       "current": "bdf75cdb-92e9-11ec-8bcd-6b42dc3e1973-9-39c0-3c63-686a-6b60-86f6-a1ad-f646-748e-0497",
       "next": "f6182d48-9305-11ec-8616-6b42dc3e1973-8-7332-5239-9bac-3de1-c2ea-917e-2bad-ed84",
       "previous": "ca1b2cae-c090-11ec-8fb6-0242ac120004-6-5bea-8588-3a1f-0263-da00-d6ed"
      },
      {
       "current": "bdf75cdb-92e9-11ec-8bcd-6b42dc3e1973-10-39c0-3c63-686a-6b60-86f6-a1ad-f646-748e-0497-308d",
       "next": "f6182d48-9305-11ec-8616-6b42dc3e1973-9-7332-5239-9bac-3de1-c2ea-917e-2bad-ed84-d400",
       "previous": "ca1b2cae-c090-11ec-8fb6-0242ac120004-7-5bea-8588-3a1f-0263-da00-d6ed-809d"
      }
     ],
     "next": "f6182d48-9305-11ec-8616-6b42dc3e1973-10-7332-5239-9bac-3de1-c2ea-917e-2bad-ed84-d400-2974",
     "previous": "ca1b2cae-c090-11ec-8fb6-0242ac120004-8-5bea-8588-3a1f-0263-da00-d6ed-809d-cf96"
    }
   },
   "outputs": [],
   "source": [
    "time.sleep(60)"
   ]
  },
  {
   "cell_type": "markdown",
   "id": "56541b2c",
   "metadata": {
    "lc_cell_meme": {
     "current": "f6182d48-9305-11ec-8616-6b42dc3e1973-10-7332-5239-9bac-3de1-c2ea-917e-2bad-ed84-d400-2974",
     "history": [
      {
       "current": "f6182d48-9305-11ec-8616-6b42dc3e1973-1-7332",
       "next": "f6183319-9305-11ec-b1e5-6b42dc3e1973",
       "previous": "bdf75cdb-92e9-11ec-8bcd-6b42dc3e1973"
      },
      {
       "current": "f6182d48-9305-11ec-8616-6b42dc3e1973-2-7332-5239",
       "next": "f6183319-9305-11ec-b1e5-6b42dc3e1973-1-fdb9",
       "previous": "bdf75cdb-92e9-11ec-8bcd-6b42dc3e1973-1-39c0"
      },
      {
       "current": "f6182d48-9305-11ec-8616-6b42dc3e1973-3-7332-5239-9bac",
       "next": "f6183319-9305-11ec-b1e5-6b42dc3e1973-2-fdb9-13ec",
       "previous": "bdf75cdb-92e9-11ec-8bcd-6b42dc3e1973-2-39c0-3c63"
      },
      {
       "current": "f6182d48-9305-11ec-8616-6b42dc3e1973-4-7332-5239-9bac-3de1",
       "next": "f6183319-9305-11ec-b1e5-6b42dc3e1973-3-fdb9-13ec-c0e2",
       "previous": "bdf75cdb-92e9-11ec-8bcd-6b42dc3e1973-3-39c0-3c63-686a"
      },
      {
       "current": "f6182d48-9305-11ec-8616-6b42dc3e1973-5-7332-5239-9bac-3de1-c2ea",
       "next": "f6183319-9305-11ec-b1e5-6b42dc3e1973-4-fdb9-13ec-c0e2-23ed",
       "previous": "bdf75cdb-92e9-11ec-8bcd-6b42dc3e1973-4-39c0-3c63-686a-6b60"
      },
      {
       "current": "f6182d48-9305-11ec-8616-6b42dc3e1973-6-7332-5239-9bac-3de1-c2ea-917e",
       "next": "f6183319-9305-11ec-b1e5-6b42dc3e1973-5-fdb9-13ec-c0e2-23ed-8442",
       "previous": "bdf75cdb-92e9-11ec-8bcd-6b42dc3e1973-5-39c0-3c63-686a-6b60-86f6"
      },
      {
       "current": "f6182d48-9305-11ec-8616-6b42dc3e1973-7-7332-5239-9bac-3de1-c2ea-917e-2bad",
       "next": "f6183319-9305-11ec-b1e5-6b42dc3e1973-6-fdb9-13ec-c0e2-23ed-8442-ed76",
       "previous": "bdf75cdb-92e9-11ec-8bcd-6b42dc3e1973-6-39c0-3c63-686a-6b60-86f6-a1ad"
      },
      {
       "current": "f6182d48-9305-11ec-8616-6b42dc3e1973-8-7332-5239-9bac-3de1-c2ea-917e-2bad-ed84",
       "next": "f6183319-9305-11ec-b1e5-6b42dc3e1973-7-fdb9-13ec-c0e2-23ed-8442-ed76-cfe6",
       "previous": "bdf75cdb-92e9-11ec-8bcd-6b42dc3e1973-7-39c0-3c63-686a-6b60-86f6-a1ad-f646"
      },
      {
       "current": "f6182d48-9305-11ec-8616-6b42dc3e1973-9-7332-5239-9bac-3de1-c2ea-917e-2bad-ed84-d400",
       "next": "f6183319-9305-11ec-b1e5-6b42dc3e1973-8-fdb9-13ec-c0e2-23ed-8442-ed76-cfe6-2e42",
       "previous": "bdf75cdb-92e9-11ec-8bcd-6b42dc3e1973-8-39c0-3c63-686a-6b60-86f6-a1ad-f646-748e"
      },
      {
       "current": "f6182d48-9305-11ec-8616-6b42dc3e1973-10-7332-5239-9bac-3de1-c2ea-917e-2bad-ed84-d400-2974",
       "next": "f6183319-9305-11ec-b1e5-6b42dc3e1973-9-fdb9-13ec-c0e2-23ed-8442-ed76-cfe6-2e42-8b28",
       "previous": "bdf75cdb-92e9-11ec-8bcd-6b42dc3e1973-9-39c0-3c63-686a-6b60-86f6-a1ad-f646-748e-0497"
      }
     ],
     "next": "f6183319-9305-11ec-b1e5-6b42dc3e1973-10-fdb9-13ec-c0e2-23ed-8442-ed76-cfe6-2e42-8b28-22ef",
     "previous": "bdf75cdb-92e9-11ec-8bcd-6b42dc3e1973-10-39c0-3c63-686a-6b60-86f6-a1ad-f646-748e-0497-308d"
    }
   },
   "source": [
    "60秒以上かかる場合もあるので、何度か確認してください。\n",
    "\n",
    "すべての `REPLICAS`が、`1/1`になっていることを確認すること。"
   ]
  },
  {
   "cell_type": "code",
   "execution_count": null,
   "id": "98dc69c4",
   "metadata": {
    "lc_cell_meme": {
     "current": "f6183319-9305-11ec-b1e5-6b42dc3e1973-10-fdb9-13ec-c0e2-23ed-8442-ed76-cfe6-2e42-8b28-22ef",
     "history": [
      {
       "current": "f6183319-9305-11ec-b1e5-6b42dc3e1973-2-fdb9-13ec",
       "next": "3e24cd18-9306-11ec-b8e5-6b42dc3e1973-1-6cb7",
       "previous": "f6182d48-9305-11ec-8616-6b42dc3e1973-1-7332"
      },
      {
       "current": "f6183319-9305-11ec-b1e5-6b42dc3e1973-3-fdb9-13ec-c0e2",
       "next": "3e24cd18-9306-11ec-b8e5-6b42dc3e1973-2-6cb7-8eb5",
       "previous": "f6182d48-9305-11ec-8616-6b42dc3e1973-2-7332-5239"
      },
      {
       "current": "f6183319-9305-11ec-b1e5-6b42dc3e1973-4-fdb9-13ec-c0e2-23ed",
       "next": "3e24cd18-9306-11ec-b8e5-6b42dc3e1973-3-6cb7-8eb5-6ccd",
       "previous": "f6182d48-9305-11ec-8616-6b42dc3e1973-3-7332-5239-9bac"
      },
      {
       "current": "f6183319-9305-11ec-b1e5-6b42dc3e1973-4-fdb9-13ec-c0e2-23ed",
       "next": "3e24cd18-9306-11ec-b8e5-6b42dc3e1973-4-6cb7-8eb5-6ccd-e757",
       "previous": "f6182d48-9305-11ec-8616-6b42dc3e1973-4-7332-5239-9bac-3de1"
      },
      {
       "current": "f6183319-9305-11ec-b1e5-6b42dc3e1973-5-fdb9-13ec-c0e2-23ed-8442",
       "next": "3e24cd18-9306-11ec-b8e5-6b42dc3e1973-4-68a7-107e-f23e-a6cd",
       "previous": "f6182d48-9305-11ec-8616-6b42dc3e1973-4-7332-5239-9bac-3de1"
      },
      {
       "current": "f6183319-9305-11ec-b1e5-6b42dc3e1973-6-fdb9-13ec-c0e2-23ed-8442-ed76",
       "next": "3e24cd18-9306-11ec-b8e5-6b42dc3e1973-5-68a7-107e-f23e-a6cd-11aa",
       "previous": "f6182d48-9305-11ec-8616-6b42dc3e1973-5-7332-5239-9bac-3de1-c2ea"
      },
      {
       "current": "f6183319-9305-11ec-b1e5-6b42dc3e1973-7-fdb9-13ec-c0e2-23ed-8442-ed76-cfe6",
       "next": "3e24cd18-9306-11ec-b8e5-6b42dc3e1973-6-68a7-107e-f23e-a6cd-11aa-1de0",
       "previous": "f6182d48-9305-11ec-8616-6b42dc3e1973-6-7332-5239-9bac-3de1-c2ea-917e"
      },
      {
       "current": "f6183319-9305-11ec-b1e5-6b42dc3e1973-8-fdb9-13ec-c0e2-23ed-8442-ed76-cfe6-2e42",
       "next": "3e24cd18-9306-11ec-b8e5-6b42dc3e1973-7-68a7-107e-f23e-a6cd-11aa-1de0-ae51",
       "previous": "f6182d48-9305-11ec-8616-6b42dc3e1973-7-7332-5239-9bac-3de1-c2ea-917e-2bad"
      },
      {
       "current": "f6183319-9305-11ec-b1e5-6b42dc3e1973-9-fdb9-13ec-c0e2-23ed-8442-ed76-cfe6-2e42-8b28",
       "next": "3e24cd18-9306-11ec-b8e5-6b42dc3e1973-8-68a7-107e-f23e-a6cd-11aa-1de0-ae51-98ff",
       "previous": "f6182d48-9305-11ec-8616-6b42dc3e1973-8-7332-5239-9bac-3de1-c2ea-917e-2bad-ed84"
      },
      {
       "current": "f6183319-9305-11ec-b1e5-6b42dc3e1973-10-fdb9-13ec-c0e2-23ed-8442-ed76-cfe6-2e42-8b28-22ef",
       "next": "3e24cd18-9306-11ec-b8e5-6b42dc3e1973-9-68a7-107e-f23e-a6cd-11aa-1de0-ae51-98ff-3f93",
       "previous": "f6182d48-9305-11ec-8616-6b42dc3e1973-9-7332-5239-9bac-3de1-c2ea-917e-2bad-ed84-d400"
      }
     ],
     "next": "3e24cd18-9306-11ec-b8e5-6b42dc3e1973-10-68a7-107e-f23e-a6cd-11aa-1de0-ae51-98ff-3f93-311a",
     "previous": "f6182d48-9305-11ec-8616-6b42dc3e1973-10-7332-5239-9bac-3de1-c2ea-917e-2bad-ed84-d400-2974"
    }
   },
   "outputs": [],
   "source": [
    "!ansible -b -a 'docker stack services coursewarehub' {target_hub}"
   ]
  },
  {
   "cell_type": "markdown",
   "id": "4c337809",
   "metadata": {
    "lc_cell_meme": {
     "current": "3e24cd18-9306-11ec-b8e5-6b42dc3e1973-10-68a7-107e-f23e-a6cd-11aa-1de0-ae51-98ff-3f93-311a",
     "history": [
      {
       "current": "3e24cd18-9306-11ec-b8e5-6b42dc3e1973-2-68a7-107e",
       "next": "15bd0ab6-d601-11e8-a64b-02420aff0006-19-ca5d-4231-ff49-00a9-188c-04ad-641a-baf2-9693-c3d3",
       "previous": "f6183319-9305-11ec-b1e5-6b42dc3e1973-2-73b7-0540"
      },
      {
       "current": "3e24cd18-9306-11ec-b8e5-6b42dc3e1973-2-68a7-107e",
       "next": "15bd0ab6-d601-11e8-a64b-02420aff0006-19-ca5d-4231-ff49-00a9-188c-04ad-641a-baf2-9693-c3d3",
       "previous": "1cf3336a-c08f-11ec-8fb6-0242ac120004"
      },
      {
       "current": "3e24cd18-9306-11ec-b8e5-6b42dc3e1973-3-68a7-107e-f23e",
       "next": "15bd0ab6-d601-11e8-a64b-02420aff0006-19-ca5d-4231-ff49-00a9-188c-04ad-641a-baf2-9693-c3d3",
       "previous": "f6183319-9305-11ec-b1e5-6b42dc3e1973-2-73b7-0540"
      },
      {
       "current": "3e24cd18-9306-11ec-b8e5-6b42dc3e1973-4-68a7-107e-f23e-a6cd",
       "next": "15bd0ab6-d601-11e8-a64b-02420aff0006-20-4231-ff49-00a9-188c-04ad-641a-baf2-9693-c3d3-9443",
       "previous": "f6183319-9305-11ec-b1e5-6b42dc3e1973-3-73b7-0540-e316"
      },
      {
       "current": "3e24cd18-9306-11ec-b8e5-6b42dc3e1973-5-68a7-107e-f23e-a6cd-11aa",
       "next": "15bd0ab6-d601-11e8-a64b-02420aff0006-21-ff49-00a9-188c-04ad-641a-baf2-6e13-560d-692e-1533",
       "previous": "f6183319-9305-11ec-b1e5-6b42dc3e1973-4-fdb9-13ec-c0e2-23ed"
      },
      {
       "current": "3e24cd18-9306-11ec-b8e5-6b42dc3e1973-6-68a7-107e-f23e-a6cd-11aa-1de0",
       "next": "15bd0ab6-d601-11e8-a64b-02420aff0006-22-00a9-188c-04ad-641a-baf2-6e13-560d-692e-1533-84f2",
       "previous": "f6183319-9305-11ec-b1e5-6b42dc3e1973-5-fdb9-13ec-c0e2-23ed-8442"
      },
      {
       "current": "3e24cd18-9306-11ec-b8e5-6b42dc3e1973-7-68a7-107e-f23e-a6cd-11aa-1de0-ae51",
       "next": "15bd0ab6-d601-11e8-a64b-02420aff0006-23-188c-04ad-641a-baf2-6e13-560d-692e-1533-84f2-ee31",
       "previous": "f6183319-9305-11ec-b1e5-6b42dc3e1973-6-fdb9-13ec-c0e2-23ed-8442-ed76"
      },
      {
       "current": "3e24cd18-9306-11ec-b8e5-6b42dc3e1973-8-68a7-107e-f23e-a6cd-11aa-1de0-ae51-98ff",
       "next": "15bd0ab6-d601-11e8-a64b-02420aff0006-24-04ad-641a-baf2-6e13-560d-692e-1533-84f2-ee31-7e26",
       "previous": "f6183319-9305-11ec-b1e5-6b42dc3e1973-7-fdb9-13ec-c0e2-23ed-8442-ed76-cfe6"
      },
      {
       "current": "3e24cd18-9306-11ec-b8e5-6b42dc3e1973-9-68a7-107e-f23e-a6cd-11aa-1de0-ae51-98ff-3f93",
       "next": "15bd0ab6-d601-11e8-a64b-02420aff0006-25-641a-baf2-6e13-560d-692e-1533-84f2-ee31-7e26-61e0",
       "previous": "f6183319-9305-11ec-b1e5-6b42dc3e1973-8-fdb9-13ec-c0e2-23ed-8442-ed76-cfe6-2e42"
      },
      {
       "current": "3e24cd18-9306-11ec-b8e5-6b42dc3e1973-10-68a7-107e-f23e-a6cd-11aa-1de0-ae51-98ff-3f93-311a",
       "next": "15bd0ab6-d601-11e8-a64b-02420aff0006-26-baf2-6e13-560d-692e-1533-84f2-ee31-7e26-61e0-e04d",
       "previous": "f6183319-9305-11ec-b1e5-6b42dc3e1973-9-fdb9-13ec-c0e2-23ed-8442-ed76-cfe6-2e42-8b28"
      }
     ],
     "next": "15bd0ab6-d601-11e8-a64b-02420aff0006-27-6e13-560d-692e-1533-84f2-ee31-7e26-61e0-e04d-75ef",
     "previous": "f6183319-9305-11ec-b1e5-6b42dc3e1973-10-fdb9-13ec-c0e2-23ed-8442-ed76-cfe6-2e42-8b28-22ef"
    }
   },
   "source": [
    "ログをチェック\n",
    "\n",
    "ログの順番は、タイムスタンプの順序通りでない場合があります。"
   ]
  },
  {
   "cell_type": "code",
   "execution_count": null,
   "id": "b9dfd3e1",
   "metadata": {
    "lc_cell_meme": {
     "current": "15bd0ab6-d601-11e8-a64b-02420aff0006-27-6e13-560d-692e-1533-84f2-ee31-7e26-61e0-e04d-75ef",
     "history": [
      {
       "current": "15bd0ab6-d601-11e8-a64b-02420aff0006-19-ca5d-4231-ff49-00a9-188c-04ad-641a-baf2-6e13-560d",
       "next": "1611c5ae-d581-11e8-a64b-02420aff0006-18-16aa-1153-315a-d590-6de8-a9ef-9c8b-072a-90bb-456e",
       "previous": "3e24cd18-9306-11ec-b8e5-6b42dc3e1973-1-6cb7"
      },
      {
       "current": "15bd0ab6-d601-11e8-a64b-02420aff0006-20-4231-ff49-00a9-188c-04ad-641a-baf2-6e13-560d-692e",
       "next": "1611c5ae-d581-11e8-a64b-02420aff0006-19-1153-315a-d590-6de8-a9ef-9c8b-072a-90bb-456e-f15c",
       "previous": "3e24cd18-9306-11ec-b8e5-6b42dc3e1973-2-6cb7-8eb5"
      },
      {
       "current": "15bd0ab6-d601-11e8-a64b-02420aff0006-21-ff49-00a9-188c-04ad-641a-baf2-6e13-560d-692e-1533",
       "next": "1611c5ae-d581-11e8-a64b-02420aff0006-20-315a-d590-6de8-a9ef-9c8b-072a-90bb-456e-f15c-dd2b",
       "previous": "3e24cd18-9306-11ec-b8e5-6b42dc3e1973-3-6cb7-8eb5-6ccd"
      },
      {
       "current": "15bd0ab6-d601-11e8-a64b-02420aff0006-21-ff49-00a9-188c-04ad-641a-baf2-6e13-560d-692e-1533",
       "next": "1611c5ae-d581-11e8-a64b-02420aff0006-21-d590-6de8-a9ef-9c8b-072a-90bb-456e-f15c-dd2b-8226",
       "previous": "3e24cd18-9306-11ec-b8e5-6b42dc3e1973-4-6cb7-8eb5-6ccd-e757"
      },
      {
       "current": "15bd0ab6-d601-11e8-a64b-02420aff0006-22-00a9-188c-04ad-641a-baf2-6e13-560d-692e-1533-84f2",
       "next": "1611c5ae-d581-11e8-a64b-02420aff0006-21-d590-6de8-a9ef-9c8b-072a-90bb-456e-f15c-dd2b-8226",
       "previous": "3e24cd18-9306-11ec-b8e5-6b42dc3e1973-4-68a7-107e-f23e-a6cd"
      },
      {
       "current": "15bd0ab6-d601-11e8-a64b-02420aff0006-23-188c-04ad-641a-baf2-6e13-560d-692e-1533-84f2-ee31",
       "next": "1611c5ae-d581-11e8-a64b-02420aff0006-22-6de8-a9ef-9c8b-072a-90bb-456e-f15c-dd2b-8226-052c",
       "previous": "3e24cd18-9306-11ec-b8e5-6b42dc3e1973-5-68a7-107e-f23e-a6cd-11aa"
      },
      {
       "current": "15bd0ab6-d601-11e8-a64b-02420aff0006-24-04ad-641a-baf2-6e13-560d-692e-1533-84f2-ee31-7e26",
       "next": "1611c5ae-d581-11e8-a64b-02420aff0006-23-a9ef-9c8b-072a-90bb-456e-f15c-dd2b-8226-052c-f270",
       "previous": "3e24cd18-9306-11ec-b8e5-6b42dc3e1973-6-68a7-107e-f23e-a6cd-11aa-1de0"
      },
      {
       "current": "15bd0ab6-d601-11e8-a64b-02420aff0006-25-641a-baf2-6e13-560d-692e-1533-84f2-ee31-7e26-61e0",
       "next": "1611c5ae-d581-11e8-a64b-02420aff0006-24-9c8b-072a-90bb-456e-f15c-dd2b-8226-052c-f270-352e",
       "previous": "3e24cd18-9306-11ec-b8e5-6b42dc3e1973-7-68a7-107e-f23e-a6cd-11aa-1de0-ae51"
      },
      {
       "current": "15bd0ab6-d601-11e8-a64b-02420aff0006-26-baf2-6e13-560d-692e-1533-84f2-ee31-7e26-61e0-e04d",
       "next": "1611c5ae-d581-11e8-a64b-02420aff0006-25-072a-90bb-456e-f15c-dd2b-8226-052c-f270-352e-73c2",
       "previous": "3e24cd18-9306-11ec-b8e5-6b42dc3e1973-8-68a7-107e-f23e-a6cd-11aa-1de0-ae51-98ff"
      },
      {
       "current": "15bd0ab6-d601-11e8-a64b-02420aff0006-27-6e13-560d-692e-1533-84f2-ee31-7e26-61e0-e04d-75ef",
       "next": "1611c5ae-d581-11e8-a64b-02420aff0006-26-90bb-456e-f15c-dd2b-8226-052c-f270-352e-73c2-99bb",
       "previous": "3e24cd18-9306-11ec-b8e5-6b42dc3e1973-9-68a7-107e-f23e-a6cd-11aa-1de0-ae51-98ff-3f93"
      }
     ],
     "next": "1611c5ae-d581-11e8-a64b-02420aff0006-27-456e-f15c-dd2b-8226-052c-f270-352e-73c2-99bb-6080",
     "previous": "3e24cd18-9306-11ec-b8e5-6b42dc3e1973-10-68a7-107e-f23e-a6cd-11aa-1de0-ae51-98ff-3f93-311a"
    },
    "scrolled": true
   },
   "outputs": [],
   "source": [
    "!ansible -b -a 'docker service logs coursewarehub_auth-proxy' {target_hub}"
   ]
  },
  {
   "cell_type": "code",
   "execution_count": null,
   "id": "0487175a",
   "metadata": {
    "lc_cell_meme": {
     "current": "1611c5ae-d581-11e8-a64b-02420aff0006-27-456e-f15c-dd2b-8226-052c-f270-352e-73c2-99bb-6080",
     "history": [
      {
       "current": "1611c5ae-d581-11e8-a64b-02420aff0006-19-1153-315a-d590-6de8-a9ef-9c8b-072a-90bb-456e-f15c",
       "next": "3e24cf8c-9306-11ec-8dac-6b42dc3e1973-1-6497",
       "previous": "15bd0ab6-d601-11e8-a64b-02420aff0006-18-9536-ca5d-4231-ff49-00a9-188c-04ad-641a-baf2-6e13"
      },
      {
       "current": "1611c5ae-d581-11e8-a64b-02420aff0006-19-1153-315a-d590-6de8-a9ef-9c8b-072a-90bb-456e-f15c",
       "next": "3e24cf8c-9306-11ec-8dac-6b42dc3e1973-2-6497-7ccf",
       "previous": "15bd0ab6-d601-11e8-a64b-02420aff0006-19-ca5d-4231-ff49-00a9-188c-04ad-641a-baf2-6e13-560d"
      },
      {
       "current": "1611c5ae-d581-11e8-a64b-02420aff0006-20-315a-d590-6de8-a9ef-9c8b-072a-90bb-456e-f15c-dd2b",
       "next": "547aa764-92ef-11ec-b357-6b42dc3e1973-2-1172-cc65",
       "previous": "15bd0ab6-d601-11e8-a64b-02420aff0006-19-ca5d-4231-ff49-00a9-188c-04ad-641a-baf2-6e13-560d"
      },
      {
       "current": "1611c5ae-d581-11e8-a64b-02420aff0006-21-d590-6de8-a9ef-9c8b-072a-90bb-456e-f15c-dd2b-8226",
       "next": "547aa764-92ef-11ec-b357-6b42dc3e1973-3-1172-cc65-74d6",
       "previous": "15bd0ab6-d601-11e8-a64b-02420aff0006-20-4231-ff49-00a9-188c-04ad-641a-baf2-6e13-560d-692e"
      },
      {
       "current": "1611c5ae-d581-11e8-a64b-02420aff0006-22-6de8-a9ef-9c8b-072a-90bb-456e-f15c-dd2b-8226-052c",
       "next": "547aa764-92ef-11ec-b357-6b42dc3e1973-4-1172-cc65-74d6-673a",
       "previous": "15bd0ab6-d601-11e8-a64b-02420aff0006-21-ff49-00a9-188c-04ad-641a-baf2-6e13-560d-692e-1533"
      },
      {
       "current": "1611c5ae-d581-11e8-a64b-02420aff0006-23-a9ef-9c8b-072a-90bb-456e-f15c-dd2b-8226-052c-f270",
       "next": "547aa764-92ef-11ec-b357-6b42dc3e1973-5-1172-cc65-74d6-673a-2152",
       "previous": "15bd0ab6-d601-11e8-a64b-02420aff0006-22-00a9-188c-04ad-641a-baf2-6e13-560d-692e-1533-84f2"
      },
      {
       "current": "1611c5ae-d581-11e8-a64b-02420aff0006-23-a9ef-9c8b-072a-90bb-456e-f15c-dd2b-8226-052c-f270",
       "next": "547aa764-92ef-11ec-b357-6b42dc3e1973-6-1172-cc65-74d6-673a-2152-7728",
       "previous": "15bd0ab6-d601-11e8-a64b-02420aff0006-23-188c-04ad-641a-baf2-6e13-560d-692e-1533-84f2-ee31"
      },
      {
       "current": "1611c5ae-d581-11e8-a64b-02420aff0006-24-9c8b-072a-90bb-456e-f15c-dd2b-8226-052c-f270-352e",
       "next": "e3a1e85c-aeab-11ed-b564-0242ac120006-4-42df-19a5-55a8-f20c",
       "previous": "15bd0ab6-d601-11e8-a64b-02420aff0006-23-188c-04ad-641a-baf2-6e13-560d-692e-1533-84f2-ee31"
      },
      {
       "current": "1611c5ae-d581-11e8-a64b-02420aff0006-25-072a-90bb-456e-f15c-dd2b-8226-052c-f270-352e-73c2",
       "next": "e3a1e85c-aeab-11ed-b564-0242ac120006-5-42df-19a5-55a8-f20c-8a41",
       "previous": "15bd0ab6-d601-11e8-a64b-02420aff0006-24-04ad-641a-baf2-6e13-560d-692e-1533-84f2-ee31-7e26"
      },
      {
       "current": "1611c5ae-d581-11e8-a64b-02420aff0006-26-90bb-456e-f15c-dd2b-8226-052c-f270-352e-73c2-99bb",
       "next": "e3a1e85c-aeab-11ed-b564-0242ac120006-6-42df-19a5-55a8-f20c-8a41-7165",
       "previous": "15bd0ab6-d601-11e8-a64b-02420aff0006-25-641a-baf2-6e13-560d-692e-1533-84f2-ee31-7e26-61e0"
      },
      {
       "current": "1611c5ae-d581-11e8-a64b-02420aff0006-27-456e-f15c-dd2b-8226-052c-f270-352e-73c2-99bb-6080",
       "next": "e3a1e85c-aeab-11ed-b564-0242ac120006-7-42df-19a5-55a8-f20c-8a41-7165-3f99",
       "previous": "15bd0ab6-d601-11e8-a64b-02420aff0006-26-baf2-6e13-560d-692e-1533-84f2-ee31-7e26-61e0-e04d"
      }
     ],
     "next": "e3a1e85c-aeab-11ed-b564-0242ac120006-8-42df-19a5-55a8-f20c-8a41-7165-3f99-da87",
     "previous": "15bd0ab6-d601-11e8-a64b-02420aff0006-27-6e13-560d-692e-1533-84f2-ee31-7e26-61e0-e04d-75ef"
    },
    "scrolled": true
   },
   "outputs": [],
   "source": [
    "!ansible -b -a 'docker service logs coursewarehub_jupyterhub' {target_hub}"
   ]
  },
  {
   "cell_type": "markdown",
   "id": "626f9601",
   "metadata": {
    "lc_cell_meme": {
     "current": "e3a1e85c-aeab-11ed-b564-0242ac120006-8-42df-19a5-55a8-f20c-8a41-7165-3f99-da87",
     "history": [
      {
       "current": "e3a1e85c-aeab-11ed-b564-0242ac120006-1-42df",
       "next": "e3a1ea96-aeab-11ed-b564-0242ac120006",
       "previous": "1611c5ae-d581-11e8-a64b-02420aff0006-23-a9ef-9c8b-072a-90bb-456e-f15c-dd2b-8226-052c-f7e1"
      },
      {
       "current": "e3a1e85c-aeab-11ed-b564-0242ac120006-2-42df-19a5",
       "next": "e3a1ea96-aeab-11ed-b564-0242ac120006-1-d8e5",
       "previous": "c8e1bc86-ad02-11ed-b564-0242ac120006"
      },
      {
       "current": "e3a1e85c-aeab-11ed-b564-0242ac120006-3-42df-19a5-55a8",
       "next": "e3a1ea96-aeab-11ed-b564-0242ac120006-2-d8e5-e793",
       "previous": "1611c5ae-d581-11e8-a64b-02420aff0006-23-a9ef-9c8b-072a-90bb-e7f4-2bf4-6af3-77a7-b28a-e884"
      },
      {
       "current": "e3a1e85c-aeab-11ed-b564-0242ac120006-4-42df-19a5-55a8-f20c",
       "next": "e3a1ea96-aeab-11ed-b564-0242ac120006-3-d8e5-e793-50da",
       "previous": "1611c5ae-d581-11e8-a64b-02420aff0006-23-a9ef-9c8b-072a-90bb-e7f4-2bf4-6af3-77a7-b28a-e78b"
      },
      {
       "current": "e3a1e85c-aeab-11ed-b564-0242ac120006-5-42df-19a5-55a8-f20c-8a41",
       "next": "e3a1ea96-aeab-11ed-b564-0242ac120006-4-d8e5-e793-50da-66cc",
       "previous": "1611c5ae-d581-11e8-a64b-02420aff0006-23-a9ef-9c8b-072a-90bb-456e-f15c-dd2b-8226-052c-f270"
      },
      {
       "current": "e3a1e85c-aeab-11ed-b564-0242ac120006-6-42df-19a5-55a8-f20c-8a41-7165",
       "next": "e3a1ea96-aeab-11ed-b564-0242ac120006-5-d8e5-e793-50da-66cc-6ae8",
       "previous": "1611c5ae-d581-11e8-a64b-02420aff0006-24-9c8b-072a-90bb-456e-f15c-dd2b-8226-052c-f270-352e"
      },
      {
       "current": "e3a1e85c-aeab-11ed-b564-0242ac120006-7-42df-19a5-55a8-f20c-8a41-7165-3f99",
       "next": "e3a1ea96-aeab-11ed-b564-0242ac120006-6-d8e5-e793-50da-66cc-6ae8-b778",
       "previous": "1611c5ae-d581-11e8-a64b-02420aff0006-25-072a-90bb-456e-f15c-dd2b-8226-052c-f270-352e-73c2"
      },
      {
       "current": "e3a1e85c-aeab-11ed-b564-0242ac120006-8-42df-19a5-55a8-f20c-8a41-7165-3f99-da87",
       "next": "e3a1ea96-aeab-11ed-b564-0242ac120006-7-d8e5-e793-50da-66cc-6ae8-b778-8d10",
       "previous": "1611c5ae-d581-11e8-a64b-02420aff0006-26-90bb-456e-f15c-dd2b-8226-052c-f270-352e-73c2-99bb"
      }
     ],
     "next": "e3a1ea96-aeab-11ed-b564-0242ac120006-8-d8e5-e793-50da-66cc-6ae8-b778-8d10-223b",
     "previous": "1611c5ae-d581-11e8-a64b-02420aff0006-27-456e-f15c-dd2b-8226-052c-f270-352e-73c2-99bb-6080"
    }
   },
   "source": [
    "# registryにログイン\n",
    "\n",
    "masterノードでdocker loginをしておきます。\n",
    "\n",
    "repo2dockerがregistryにイメージをpushするときに認証情報を得るために必要となります。"
   ]
  },
  {
   "cell_type": "code",
   "execution_count": null,
   "id": "b2993715",
   "metadata": {
    "lc_cell_meme": {
     "current": "e3a1ea96-aeab-11ed-b564-0242ac120006-8-d8e5-e793-50da-66cc-6ae8-b778-8d10-223b",
     "history": [
      {
       "current": "e3a1ea96-aeab-11ed-b564-0242ac120006",
       "next": "08afc8b8-ad11-11ed-b564-0242ac120006",
       "previous": "e3a1e85c-aeab-11ed-b564-0242ac120006"
      },
      {
       "current": "e3a1ea96-aeab-11ed-b564-0242ac120006",
       "next": "a5bb1050-af59-11ed-b564-0242ac120006",
       "previous": "e3a1e85c-aeab-11ed-b564-0242ac120006"
      },
      {
       "current": "e3a1ea96-aeab-11ed-b564-0242ac120006-1-d8e5",
       "next": "08afc8b8-ad11-11ed-b564-0242ac120006",
       "previous": "e3a1e85c-aeab-11ed-b564-0242ac120006"
      },
      {
       "current": "e3a1ea96-aeab-11ed-b564-0242ac120006-2-d8e5-e793",
       "next": "cd17dd64-92e0-11ec-a962-6b42dc3e1973-6-29a9-713e-b87a-3bfc-01d6-93b3",
       "previous": "e3a1e85c-aeab-11ed-b564-0242ac120006-1-42df"
      },
      {
       "current": "e3a1ea96-aeab-11ed-b564-0242ac120006-3-d8e5-e793-50da",
       "next": "08afc8b8-ad11-11ed-b564-0242ac120006-1-cf34",
       "previous": "e3a1e85c-aeab-11ed-b564-0242ac120006-2-42df-19a5"
      },
      {
       "current": "e3a1ea96-aeab-11ed-b564-0242ac120006-4-d8e5-e793-50da-66cc",
       "next": "08afc8b8-ad11-11ed-b564-0242ac120006-2-cf34-51e3",
       "previous": "e3a1e85c-aeab-11ed-b564-0242ac120006-3-42df-19a5-55a8"
      },
      {
       "current": "e3a1ea96-aeab-11ed-b564-0242ac120006-5-d8e5-e793-50da-66cc-6ae8",
       "next": "08afc8b8-ad11-11ed-b564-0242ac120006-3-cf34-51e3-599a",
       "previous": "e3a1e85c-aeab-11ed-b564-0242ac120006-4-42df-19a5-55a8-f20c"
      },
      {
       "current": "e3a1ea96-aeab-11ed-b564-0242ac120006-6-d8e5-e793-50da-66cc-6ae8-b778",
       "next": "08afc8b8-ad11-11ed-b564-0242ac120006-4-cf34-51e3-599a-faeb",
       "previous": "e3a1e85c-aeab-11ed-b564-0242ac120006-5-42df-19a5-55a8-f20c-8a41"
      },
      {
       "current": "e3a1ea96-aeab-11ed-b564-0242ac120006-7-d8e5-e793-50da-66cc-6ae8-b778-8d10",
       "next": "08afc8b8-ad11-11ed-b564-0242ac120006-5-cf34-51e3-599a-faeb-9e00",
       "previous": "e3a1e85c-aeab-11ed-b564-0242ac120006-6-42df-19a5-55a8-f20c-8a41-7165"
      },
      {
       "current": "e3a1ea96-aeab-11ed-b564-0242ac120006-8-d8e5-e793-50da-66cc-6ae8-b778-8d10-223b",
       "next": "08afc8b8-ad11-11ed-b564-0242ac120006-6-cf34-51e3-599a-faeb-9e00-917d",
       "previous": "e3a1e85c-aeab-11ed-b564-0242ac120006-7-42df-19a5-55a8-f20c-8a41-7165-3f99"
      }
     ],
     "next": "08afc8b8-ad11-11ed-b564-0242ac120006-7-cf34-51e3-599a-faeb-9e00-917d-9665",
     "previous": "e3a1e85c-aeab-11ed-b564-0242ac120006-8-42df-19a5-55a8-f20c-8a41-7165-3f99-da87"
    },
    "scrolled": true
   },
   "outputs": [],
   "source": [
    "!ansible -b -a 'docker login -u cwh -p {registry_pass} {master_fqdn}:5000' {target_hub} -l {target_group}"
   ]
  },
  {
   "cell_type": "markdown",
   "id": "21625024",
   "metadata": {
    "lc_cell_meme": {
     "current": "08afc8b8-ad11-11ed-b564-0242ac120006-7-cf34-51e3-599a-faeb-9e00-917d-9665",
     "history": [
      {
       "current": "08afc8b8-ad11-11ed-b564-0242ac120006",
       "next": "08afc9ee-ad11-11ed-b564-0242ac120006",
       "previous": "cc40ef96-aafd-11ea-abc9-0242ac130004-18-8dfe-fa84-126a-7485-6cf8-5a50-d302-2568-0bfb-a7c8"
      },
      {
       "current": "08afc8b8-ad11-11ed-b564-0242ac120006",
       "next": "f215b99c-ad14-11ed-b564-0242ac120006",
       "previous": "cc40ef96-aafd-11ea-abc9-0242ac130004-18-8dfe-fa84-126a-7485-6cf8-5a50-d302-2568-0bfb-a7c8"
      },
      {
       "current": "08afc8b8-ad11-11ed-b564-0242ac120006",
       "next": "f215b99c-ad14-11ed-b564-0242ac120006",
       "previous": "e3a1ea96-aeab-11ed-b564-0242ac120006"
      },
      {
       "current": "08afc8b8-ad11-11ed-b564-0242ac120006",
       "next": "08afc9ee-ad11-11ed-b564-0242ac120006",
       "previous": "e3a1ea96-aeab-11ed-b564-0242ac120006"
      },
      {
       "current": "08afc8b8-ad11-11ed-b564-0242ac120006",
       "next": "08afc9ee-ad11-11ed-b564-0242ac120006",
       "previous": "a5bb1050-af59-11ed-b564-0242ac120006"
      },
      {
       "current": "08afc8b8-ad11-11ed-b564-0242ac120006",
       "next": "08afc9ee-ad11-11ed-b564-0242ac120006",
       "previous": "e3a1ea96-aeab-11ed-b564-0242ac120006"
      },
      {
       "current": "08afc8b8-ad11-11ed-b564-0242ac120006-1-cf34",
       "next": "08afc9ee-ad11-11ed-b564-0242ac120006",
       "previous": "1611c5ae-d581-11e8-a64b-02420aff0006-23-a9ef-9c8b-072a-90bb-456e-f15c-dd2b-8226-052c-f7e1"
      },
      {
       "current": "08afc8b8-ad11-11ed-b564-0242ac120006-2-cf34-51e3",
       "next": "08afc9ee-ad11-11ed-b564-0242ac120006-1-8210",
       "previous": "e3a1ea96-aeab-11ed-b564-0242ac120006-2-d8e5-e793"
      },
      {
       "current": "08afc8b8-ad11-11ed-b564-0242ac120006-3-cf34-51e3-599a",
       "next": "08afc9ee-ad11-11ed-b564-0242ac120006-2-8210-a752",
       "previous": "e3a1ea96-aeab-11ed-b564-0242ac120006-3-d8e5-e793-50da"
      },
      {
       "current": "08afc8b8-ad11-11ed-b564-0242ac120006-4-cf34-51e3-599a-faeb",
       "next": "08afc9ee-ad11-11ed-b564-0242ac120006-3-8210-a752-8617",
       "previous": "e3a1ea96-aeab-11ed-b564-0242ac120006-4-d8e5-e793-50da-66cc"
      },
      {
       "current": "08afc8b8-ad11-11ed-b564-0242ac120006-5-cf34-51e3-599a-faeb-9e00",
       "next": "08afc9ee-ad11-11ed-b564-0242ac120006-4-8210-a752-8617-f0f4",
       "previous": "e3a1ea96-aeab-11ed-b564-0242ac120006-5-d8e5-e793-50da-66cc-6ae8"
      },
      {
       "current": "08afc8b8-ad11-11ed-b564-0242ac120006-6-cf34-51e3-599a-faeb-9e00-917d",
       "next": "08afc9ee-ad11-11ed-b564-0242ac120006-5-8210-a752-8617-f0f4-a0bd",
       "previous": "e3a1ea96-aeab-11ed-b564-0242ac120006-6-d8e5-e793-50da-66cc-6ae8-b778"
      },
      {
       "current": "08afc8b8-ad11-11ed-b564-0242ac120006-7-cf34-51e3-599a-faeb-9e00-917d-9665",
       "next": "08afc9ee-ad11-11ed-b564-0242ac120006-6-8210-a752-8617-f0f4-a0bd-f207",
       "previous": "e3a1ea96-aeab-11ed-b564-0242ac120006-7-d8e5-e793-50da-66cc-6ae8-b778-8d10"
      }
     ],
     "next": "08afc9ee-ad11-11ed-b564-0242ac120006-7-8210-a752-8617-f0f4-a0bd-f207-4f5d",
     "previous": "e3a1ea96-aeab-11ed-b564-0242ac120006-8-d8e5-e793-50da-66cc-6ae8-b778-8d10-223b"
    }
   },
   "source": [
    "# registryにイメージをpush\n",
    "\n",
    "「初期ユーザーイメージの準備」で用意した初期イメージをregistryにpushします。"
   ]
  },
  {
   "cell_type": "code",
   "execution_count": null,
   "id": "d45e7201",
   "metadata": {
    "lc_cell_meme": {
     "current": "08afc9ee-ad11-11ed-b564-0242ac120006-7-8210-a752-8617-f0f4-a0bd-f207-4f5d",
     "history": [
      {
       "current": "08afc9ee-ad11-11ed-b564-0242ac120006",
       "next": "2e8d956c-4bd4-11e9-b2d5-0242ac130002-22-d3b3-29b6-59c4-f1fe-5a95-47ef-89e8-d578-4789-aadd",
       "previous": "08afc8b8-ad11-11ed-b564-0242ac120006"
      },
      {
       "current": "08afc9ee-ad11-11ed-b564-0242ac120006",
       "next": "2e8d956c-4bd4-11e9-b2d5-0242ac130002-22-d3b3-29b6-59c4-f1fe-5a95-47ef-89e8-d578-4789-aadd",
       "previous": "f215b99c-ad14-11ed-b564-0242ac120006"
      },
      {
       "current": "08afc9ee-ad11-11ed-b564-0242ac120006",
       "next": "39a227a0-ad15-11ed-b564-0242ac120006",
       "previous": "f215b99c-ad14-11ed-b564-0242ac120006"
      },
      {
       "current": "08afc9ee-ad11-11ed-b564-0242ac120006-1-8210",
       "next": "547aa764-92ef-11ec-b357-6b42dc3e1973-6-1172-cc65-74d6-673a-2152-f43c",
       "previous": "08afc8b8-ad11-11ed-b564-0242ac120006"
      },
      {
       "current": "08afc9ee-ad11-11ed-b564-0242ac120006-1-8210",
       "next": "547aa764-92ef-11ec-b357-6b42dc3e1973-6-2388-9f31-b886-16b9-5c40-584d",
       "previous": "08afc8b8-ad11-11ed-b564-0242ac120006-1-cf34"
      },
      {
       "current": "08afc9ee-ad11-11ed-b564-0242ac120006-2-8210-a752",
       "next": "c0be1022-c166-11ed-b564-0242ac120006",
       "previous": "08afc8b8-ad11-11ed-b564-0242ac120006-1-cf34"
      },
      {
       "current": "08afc9ee-ad11-11ed-b564-0242ac120006-3-8210-a752-8617",
       "next": "c0be1022-c166-11ed-b564-0242ac120006-1-36b3",
       "previous": "08afc8b8-ad11-11ed-b564-0242ac120006-2-cf34-51e3"
      },
      {
       "current": "08afc9ee-ad11-11ed-b564-0242ac120006-4-8210-a752-8617-f0f4",
       "next": "c0be1022-c166-11ed-b564-0242ac120006-2-36b3-ce5d",
       "previous": "08afc8b8-ad11-11ed-b564-0242ac120006-3-cf34-51e3-599a"
      },
      {
       "current": "08afc9ee-ad11-11ed-b564-0242ac120006-5-8210-a752-8617-f0f4-a0bd",
       "next": "c0be1022-c166-11ed-b564-0242ac120006-3-36b3-ce5d-8463",
       "previous": "08afc8b8-ad11-11ed-b564-0242ac120006-4-cf34-51e3-599a-faeb"
      },
      {
       "current": "08afc9ee-ad11-11ed-b564-0242ac120006-6-8210-a752-8617-f0f4-a0bd-f207",
       "next": "c0be1022-c166-11ed-b564-0242ac120006-4-36b3-ce5d-8463-0fe0",
       "previous": "08afc8b8-ad11-11ed-b564-0242ac120006-5-cf34-51e3-599a-faeb-9e00"
      },
      {
       "current": "08afc9ee-ad11-11ed-b564-0242ac120006-7-8210-a752-8617-f0f4-a0bd-f207-4f5d",
       "next": "c0be1022-c166-11ed-b564-0242ac120006-5-36b3-ce5d-8463-0fe0-b606",
       "previous": "08afc8b8-ad11-11ed-b564-0242ac120006-6-cf34-51e3-599a-faeb-9e00-917d"
      }
     ],
     "next": "c0be1022-c166-11ed-b564-0242ac120006-6-36b3-ce5d-8463-0fe0-b606-bc1a",
     "previous": "08afc8b8-ad11-11ed-b564-0242ac120006-7-cf34-51e3-599a-faeb-9e00-917d-9665"
    },
    "scrolled": true
   },
   "outputs": [],
   "source": [
    "!ansible -b -a 'docker push {master_fqdn}:5000/coursewarehub/initial-course-image' {target_hub}"
   ]
  },
  {
   "cell_type": "markdown",
   "id": "9ed5da8d",
   "metadata": {
    "lc_cell_meme": {
     "current": "c0be1022-c166-11ed-b564-0242ac120006-6-36b3-ce5d-8463-0fe0-b606-bc1a",
     "history": [
      {
       "current": "c0be1022-c166-11ed-b564-0242ac120006-1-36b3",
       "next": "c0be123e-c166-11ed-b564-0242ac120006",
       "previous": "08afc9ee-ad11-11ed-b564-0242ac120006-1-8210"
      },
      {
       "current": "c0be1022-c166-11ed-b564-0242ac120006-2-36b3-ce5d",
       "next": "c0be123e-c166-11ed-b564-0242ac120006-1-27c3",
       "previous": "08afc9ee-ad11-11ed-b564-0242ac120006-2-8210-a752"
      },
      {
       "current": "c0be1022-c166-11ed-b564-0242ac120006-3-36b3-ce5d-8463",
       "next": "c0be123e-c166-11ed-b564-0242ac120006-2-27c3-6bb3",
       "previous": "08afc9ee-ad11-11ed-b564-0242ac120006-3-8210-a752-8617"
      },
      {
       "current": "c0be1022-c166-11ed-b564-0242ac120006-4-36b3-ce5d-8463-0fe0",
       "next": "c0be123e-c166-11ed-b564-0242ac120006-3-27c3-6bb3-39f3",
       "previous": "08afc9ee-ad11-11ed-b564-0242ac120006-4-8210-a752-8617-f0f4"
      },
      {
       "current": "c0be1022-c166-11ed-b564-0242ac120006-5-36b3-ce5d-8463-0fe0-b606",
       "next": "c0be123e-c166-11ed-b564-0242ac120006-4-27c3-6bb3-39f3-f63e",
       "previous": "08afc9ee-ad11-11ed-b564-0242ac120006-5-8210-a752-8617-f0f4-a0bd"
      },
      {
       "current": "c0be1022-c166-11ed-b564-0242ac120006-6-36b3-ce5d-8463-0fe0-b606-bc1a",
       "next": "c0be123e-c166-11ed-b564-0242ac120006-5-27c3-6bb3-39f3-f63e-8147",
       "previous": "08afc9ee-ad11-11ed-b564-0242ac120006-6-8210-a752-8617-f0f4-a0bd-f207"
      }
     ],
     "next": "c0be123e-c166-11ed-b564-0242ac120006-6-27c3-6bb3-39f3-f63e-8147-94bc",
     "previous": "08afc9ee-ad11-11ed-b564-0242ac120006-7-8210-a752-8617-f0f4-a0bd-f207-4f5d"
    }
   },
   "source": [
    "初期ユーザーイメージを、デフォルトのイメージとして設定する場合は、以下のセルのコメントアウトを解除して実行する"
   ]
  },
  {
   "cell_type": "code",
   "execution_count": null,
   "id": "18821af3",
   "metadata": {
    "lc_cell_meme": {
     "current": "c0be123e-c166-11ed-b564-0242ac120006-6-27c3-6bb3-39f3-f63e-8147-94bc",
     "history": [
      {
       "current": "c0be123e-c166-11ed-b564-0242ac120006-1-27c3",
       "next": "547aa764-92ef-11ec-b357-6b42dc3e1973-6-2388-9f31-b886-16b9-5c40-584d",
       "previous": "c0be1022-c166-11ed-b564-0242ac120006"
      },
      {
       "current": "c0be123e-c166-11ed-b564-0242ac120006-2-27c3-6bb3",
       "next": "547aa764-92ef-11ec-b357-6b42dc3e1973-6-2388-9f31-b886-16b9-5c40-21a7",
       "previous": "c0be1022-c166-11ed-b564-0242ac120006-1-36b3"
      },
      {
       "current": "c0be123e-c166-11ed-b564-0242ac120006-3-27c3-6bb3-39f3",
       "next": "547aa764-92ef-11ec-b357-6b42dc3e1973-6-1172-cc65-74d6-673a-2152-7728",
       "previous": "c0be1022-c166-11ed-b564-0242ac120006-2-36b3-ce5d"
      },
      {
       "current": "c0be123e-c166-11ed-b564-0242ac120006-4-27c3-6bb3-39f3-f63e",
       "next": "547aa764-92ef-11ec-b357-6b42dc3e1973-7-1172-cc65-74d6-673a-2152-7728-7ff2",
       "previous": "c0be1022-c166-11ed-b564-0242ac120006-3-36b3-ce5d-8463"
      },
      {
       "current": "c0be123e-c166-11ed-b564-0242ac120006-5-27c3-6bb3-39f3-f63e-8147",
       "next": "547aa764-92ef-11ec-b357-6b42dc3e1973-8-1172-cc65-74d6-673a-2152-7728-7ff2-9c3c",
       "previous": "c0be1022-c166-11ed-b564-0242ac120006-4-36b3-ce5d-8463-0fe0"
      },
      {
       "current": "c0be123e-c166-11ed-b564-0242ac120006-6-27c3-6bb3-39f3-f63e-8147-94bc",
       "next": "547aa764-92ef-11ec-b357-6b42dc3e1973-9-1172-cc65-74d6-673a-2152-7728-7ff2-9c3c-5d17",
       "previous": "c0be1022-c166-11ed-b564-0242ac120006-5-36b3-ce5d-8463-0fe0-b606"
      }
     ],
     "next": "547aa764-92ef-11ec-b357-6b42dc3e1973-10-1172-cc65-74d6-673a-2152-7728-7ff2-9c3c-5d17-0e99",
     "previous": "c0be1022-c166-11ed-b564-0242ac120006-6-36b3-ce5d-8463-0fe0-b606-bc1a"
    },
    "scrolled": true
   },
   "outputs": [],
   "source": [
    "# !ansible -b -a 'docker tag {master_fqdn}:5000/coursewarehub/initial-course-image {master_fqdn}:5000/coursewarehub/default-course-image' {target_hub}\n",
    "# !ansible -b -a 'docker push {master_fqdn}:5000/coursewarehub/default-course-image' {target_hub}"
   ]
  },
  {
   "cell_type": "markdown",
   "id": "2f0b21f3",
   "metadata": {
    "lc_cell_meme": {
     "current": "547aa764-92ef-11ec-b357-6b42dc3e1973-10-1172-cc65-74d6-673a-2152-7728-7ff2-9c3c-5d17-0e99",
     "history": [
      {
       "current": "547aa764-92ef-11ec-b357-6b42dc3e1973-2-1172-cc65",
       "next": "020ef5e0-2928-11e9-99c7-02420aff0008-18-c5ad-b5a2-7b92-7f7e-01df-dbf3-f970-b480-f3e3-e5c3",
       "previous": "9230a7cf-9307-11ec-9e1b-6b42dc3e1973-1-8d21"
      },
      {
       "current": "547aa764-92ef-11ec-b357-6b42dc3e1973-2-1172-cc65",
       "next": "020ef5e0-2928-11e9-99c7-02420aff0008-19-b5a2-7b92-7f7e-01df-dbf3-f970-b480-f3e3-e5c3-0bdd",
       "previous": "9230a7cf-9307-11ec-9e1b-6b42dc3e1973-2-8d21-0e71"
      },
      {
       "current": "547aa764-92ef-11ec-b357-6b42dc3e1973-3-1172-cc65-74d6",
       "next": "020ef5e0-2928-11e9-99c7-02420aff0008-19-b5a2-7b92-7f7e-01df-dbf3-f970-b480-f3e3-e5c3-0bdd",
       "previous": "1611c5ae-d581-11e8-a64b-02420aff0006-19-1153-315a-d590-6de8-a9ef-9c8b-072a-90bb-456e-f15c"
      },
      {
       "current": "547aa764-92ef-11ec-b357-6b42dc3e1973-4-1172-cc65-74d6-673a",
       "next": "020ef5e0-2928-11e9-99c7-02420aff0008-20-7b92-7f7e-01df-dbf3-f970-b480-f3e3-e5c3-0bdd-46bb",
       "previous": "1611c5ae-d581-11e8-a64b-02420aff0006-20-315a-d590-6de8-a9ef-9c8b-072a-90bb-456e-f15c-dd2b"
      },
      {
       "current": "547aa764-92ef-11ec-b357-6b42dc3e1973-5-1172-cc65-74d6-673a-2152",
       "next": "020ef5e0-2928-11e9-99c7-02420aff0008-21-7f7e-01df-dbf3-f970-b480-f3e3-e5c3-0bdd-46bb-89f5",
       "previous": "1611c5ae-d581-11e8-a64b-02420aff0006-21-d590-6de8-a9ef-9c8b-072a-90bb-456e-f15c-dd2b-8226"
      },
      {
       "current": "547aa764-92ef-11ec-b357-6b42dc3e1973-6-1172-cc65-74d6-673a-2152-7728",
       "next": "020ef5e0-2928-11e9-99c7-02420aff0008-22-01df-dbf3-f970-b480-f3e3-e5c3-0bdd-46bb-89f5-021a",
       "previous": "1611c5ae-d581-11e8-a64b-02420aff0006-22-6de8-a9ef-9c8b-072a-90bb-456e-f15c-dd2b-8226-052c"
      },
      {
       "current": "547aa764-92ef-11ec-b357-6b42dc3e1973-6-1172-cc65-74d6-673a-2152-7728",
       "next": "020ef5e0-2928-11e9-99c7-02420aff0008-23-dbf3-f970-b480-f3e3-e5c3-0bdd-46bb-89f5-021a-40e1",
       "previous": "1611c5ae-d581-11e8-a64b-02420aff0006-23-a9ef-9c8b-072a-90bb-456e-f15c-dd2b-8226-052c-f270"
      },
      {
       "current": "547aa764-92ef-11ec-b357-6b42dc3e1973-7-1172-cc65-74d6-673a-2152-7728-7ff2",
       "next": "020ef5e0-2928-11e9-99c7-02420aff0008-23-dbf3-f970-b480-f3e3-e5c3-0bdd-46bb-89f5-021a-40e1",
       "previous": "c0be123e-c166-11ed-b564-0242ac120006-2-27c3-6bb3"
      },
      {
       "current": "547aa764-92ef-11ec-b357-6b42dc3e1973-8-1172-cc65-74d6-673a-2152-7728-7ff2-9c3c",
       "next": "020ef5e0-2928-11e9-99c7-02420aff0008-24-f970-b480-f3e3-e5c3-0bdd-46bb-89f5-021a-40e1-044d",
       "previous": "c0be123e-c166-11ed-b564-0242ac120006-3-27c3-6bb3-39f3"
      },
      {
       "current": "547aa764-92ef-11ec-b357-6b42dc3e1973-9-1172-cc65-74d6-673a-2152-7728-7ff2-9c3c-5d17",
       "next": "020ef5e0-2928-11e9-99c7-02420aff0008-25-b480-f3e3-e5c3-0bdd-46bb-89f5-021a-40e1-044d-f3d6",
       "previous": "c0be123e-c166-11ed-b564-0242ac120006-4-27c3-6bb3-39f3-f63e"
      },
      {
       "current": "547aa764-92ef-11ec-b357-6b42dc3e1973-10-1172-cc65-74d6-673a-2152-7728-7ff2-9c3c-5d17-0e99",
       "next": "020ef5e0-2928-11e9-99c7-02420aff0008-26-f3e3-e5c3-0bdd-46bb-89f5-021a-40e1-044d-f3d6-e34b",
       "previous": "c0be123e-c166-11ed-b564-0242ac120006-5-27c3-6bb3-39f3-f63e-8147"
      }
     ],
     "next": "020ef5e0-2928-11e9-99c7-02420aff0008-27-e5c3-0bdd-46bb-89f5-021a-40e1-044d-f3d6-e34b-5a5a",
     "previous": "c0be123e-c166-11ed-b564-0242ac120006-6-27c3-6bb3-39f3-f63e-8147-94bc"
    }
   },
   "source": [
    "# 起動後の確認"
   ]
  },
  {
   "cell_type": "markdown",
   "id": "5ee2dd8c",
   "metadata": {
    "lc_cell_meme": {
     "current": "020ef5e0-2928-11e9-99c7-02420aff0008-27-e5c3-0bdd-46bb-89f5-021a-40e1-044d-f3d6-e34b-5a5a",
     "history": [
      {
       "current": "020ef5e0-2928-11e9-99c7-02420aff0008-18-c5ad-b5a2-7b92-7f7e-01df-dbf3-f970-b480-f3e3-e5c3",
       "next": "8ef9eeb4-eea3-11ea-9bfc-02420a01001a-9-7e69-d8d9-7459-9aca-71ea-89b3-82ea-1bd9-eb85",
       "previous": "547aa764-92ef-11ec-b357-6b42dc3e1973"
      },
      {
       "current": "020ef5e0-2928-11e9-99c7-02420aff0008-19-b5a2-7b92-7f7e-01df-dbf3-f970-b480-f3e3-e5c3-0bdd",
       "next": "8ef9eeb4-eea3-11ea-9bfc-02420a01001a-10-7e69-d8d9-7459-9aca-71ea-89b3-82ea-1bd9-eb85-ccd8",
       "previous": "547aa764-92ef-11ec-b357-6b42dc3e1973-1-1172"
      },
      {
       "current": "020ef5e0-2928-11e9-99c7-02420aff0008-20-7b92-7f7e-01df-dbf3-f970-b480-f3e3-e5c3-0bdd-46bb",
       "next": "8ef9eeb4-eea3-11ea-9bfc-02420a01001a-11-d8d9-7459-9aca-71ea-89b3-82ea-1bd9-eb85-ccd8-0641",
       "previous": "547aa764-92ef-11ec-b357-6b42dc3e1973-2-1172-cc65"
      },
      {
       "current": "020ef5e0-2928-11e9-99c7-02420aff0008-21-7f7e-01df-dbf3-f970-b480-f3e3-e5c3-0bdd-46bb-89f5",
       "next": "8ef9eeb4-eea3-11ea-9bfc-02420a01001a-12-7459-9aca-71ea-89b3-82ea-1bd9-eb85-ccd8-0641-d5f4",
       "previous": "547aa764-92ef-11ec-b357-6b42dc3e1973-3-1172-cc65-74d6"
      },
      {
       "current": "020ef5e0-2928-11e9-99c7-02420aff0008-22-01df-dbf3-f970-b480-f3e3-e5c3-0bdd-46bb-89f5-021a",
       "next": "8ef9eeb4-eea3-11ea-9bfc-02420a01001a-13-9aca-71ea-89b3-82ea-1bd9-eb85-ccd8-0641-d5f4-16d0",
       "previous": "547aa764-92ef-11ec-b357-6b42dc3e1973-4-1172-cc65-74d6-673a"
      },
      {
       "current": "020ef5e0-2928-11e9-99c7-02420aff0008-23-dbf3-f970-b480-f3e3-e5c3-0bdd-46bb-89f5-021a-40e1",
       "next": "8ef9eeb4-eea3-11ea-9bfc-02420a01001a-14-71ea-89b3-82ea-1bd9-eb85-ccd8-0641-d5f4-16d0-eee3",
       "previous": "547aa764-92ef-11ec-b357-6b42dc3e1973-5-1172-cc65-74d6-673a-2152"
      },
      {
       "current": "020ef5e0-2928-11e9-99c7-02420aff0008-24-f970-b480-f3e3-e5c3-0bdd-46bb-89f5-021a-40e1-044d",
       "next": "8ef9eeb4-eea3-11ea-9bfc-02420a01001a-15-89b3-82ea-1bd9-eb85-ccd8-0641-d5f4-16d0-eee3-f800",
       "previous": "547aa764-92ef-11ec-b357-6b42dc3e1973-6-1172-cc65-74d6-673a-2152-7728"
      },
      {
       "current": "020ef5e0-2928-11e9-99c7-02420aff0008-25-b480-f3e3-e5c3-0bdd-46bb-89f5-021a-40e1-044d-f3d6",
       "next": "8ef9eeb4-eea3-11ea-9bfc-02420a01001a-16-82ea-1bd9-eb85-ccd8-0641-d5f4-16d0-eee3-f800-e98c",
       "previous": "547aa764-92ef-11ec-b357-6b42dc3e1973-7-1172-cc65-74d6-673a-2152-7728-7ff2"
      },
      {
       "current": "020ef5e0-2928-11e9-99c7-02420aff0008-26-f3e3-e5c3-0bdd-46bb-89f5-021a-40e1-044d-f3d6-e34b",
       "next": "8ef9eeb4-eea3-11ea-9bfc-02420a01001a-17-1bd9-eb85-ccd8-0641-d5f4-16d0-eee3-f800-e98c-a4a0",
       "previous": "547aa764-92ef-11ec-b357-6b42dc3e1973-8-1172-cc65-74d6-673a-2152-7728-7ff2-9c3c"
      },
      {
       "current": "020ef5e0-2928-11e9-99c7-02420aff0008-27-e5c3-0bdd-46bb-89f5-021a-40e1-044d-f3d6-e34b-5a5a",
       "next": "8ef9eeb4-eea3-11ea-9bfc-02420a01001a-18-eb85-ccd8-0641-d5f4-16d0-eee3-f800-e98c-a4a0-87dc",
       "previous": "547aa764-92ef-11ec-b357-6b42dc3e1973-9-1172-cc65-74d6-673a-2152-7728-7ff2-9c3c-5d17"
      }
     ],
     "next": "8ef9eeb4-eea3-11ea-9bfc-02420a01001a-19-ccd8-0641-d5f4-16d0-eee3-f800-e98c-a4a0-87dc-cef5",
     "previous": "547aa764-92ef-11ec-b357-6b42dc3e1973-10-1172-cc65-74d6-673a-2152-7728-7ff2-9c3c-5d17-0e99"
    }
   },
   "source": [
    "メタデータファイルの存在と、ログの確認\n",
    "\n",
    "ローカルユーザーのみ使用する場合、メタデータは存在しなくてもかまわない"
   ]
  },
  {
   "cell_type": "markdown",
   "id": "99647e65",
   "metadata": {
    "lc_cell_meme": {
     "current": "8ef9eeb4-eea3-11ea-9bfc-02420a01001a-19-ccd8-0641-d5f4-16d0-eee3-f800-e98c-a4a0-87dc-cef5",
     "history": [
      {
       "current": "8ef9eeb4-eea3-11ea-9bfc-02420a01001a-10-7e69-d8d9-7459-9aca-71ea-89b3-82ea-1bd9-eb85-ccd8",
       "next": "fe45847c-e778-11ea-9c06-02420a010045-13-e4d9-39d8-e14e-f0f2-8039-10f8-27b7-498e-614e-8c47",
       "previous": "020ef5e0-2928-11e9-99c7-02420aff0008-18-c5ad-b5a2-7b92-7f7e-01df-dbf3-f970-b480-f3e3-e5c3"
      },
      {
       "current": "8ef9eeb4-eea3-11ea-9bfc-02420a01001a-11-d8d9-7459-9aca-71ea-89b3-82ea-1bd9-eb85-ccd8-0641",
       "next": "848e31c4-f407-11ea-9bfc-02420a01001a-11-75b6-90d5-2630-5f2d-c52a-fefd-6751-70e8-ba4c-6c69",
       "previous": "020ef5e0-2928-11e9-99c7-02420aff0008-18-c5ad-b5a2-7b92-7f7e-01df-dbf3-f970-b480-f3e3-e5c3"
      },
      {
       "current": "8ef9eeb4-eea3-11ea-9bfc-02420a01001a-12-7459-9aca-71ea-89b3-82ea-1bd9-eb85-ccd8-0641-d5f4",
       "next": "848e31c4-f407-11ea-9bfc-02420a01001a-12-90d5-2630-5f2d-c52a-fefd-6751-70e8-ba4c-6c69-0b7c",
       "previous": "020ef5e0-2928-11e9-99c7-02420aff0008-19-b5a2-7b92-7f7e-01df-dbf3-f970-b480-f3e3-e5c3-0bdd"
      },
      {
       "current": "8ef9eeb4-eea3-11ea-9bfc-02420a01001a-13-9aca-71ea-89b3-82ea-1bd9-eb85-ccd8-0641-d5f4-16d0",
       "next": "848e31c4-f407-11ea-9bfc-02420a01001a-13-2630-5f2d-c52a-fefd-6751-70e8-ba4c-6c69-0b7c-e518",
       "previous": "020ef5e0-2928-11e9-99c7-02420aff0008-20-7b92-7f7e-01df-dbf3-f970-b480-f3e3-e5c3-0bdd-46bb"
      },
      {
       "current": "8ef9eeb4-eea3-11ea-9bfc-02420a01001a-14-71ea-89b3-82ea-1bd9-eb85-ccd8-0641-d5f4-16d0-eee3",
       "next": "848e31c4-f407-11ea-9bfc-02420a01001a-14-5f2d-c52a-fefd-6751-70e8-ba4c-6c69-0b7c-e518-639c",
       "previous": "020ef5e0-2928-11e9-99c7-02420aff0008-21-7f7e-01df-dbf3-f970-b480-f3e3-e5c3-0bdd-46bb-89f5"
      },
      {
       "current": "8ef9eeb4-eea3-11ea-9bfc-02420a01001a-15-89b3-82ea-1bd9-eb85-ccd8-0641-d5f4-16d0-eee3-f800",
       "next": "848e31c4-f407-11ea-9bfc-02420a01001a-15-c52a-fefd-6751-70e8-ba4c-6c69-0b7c-e518-639c-0589",
       "previous": "020ef5e0-2928-11e9-99c7-02420aff0008-22-01df-dbf3-f970-b480-f3e3-e5c3-0bdd-46bb-89f5-021a"
      },
      {
       "current": "8ef9eeb4-eea3-11ea-9bfc-02420a01001a-16-82ea-1bd9-eb85-ccd8-0641-d5f4-16d0-eee3-f800-e98c",
       "next": "848e31c4-f407-11ea-9bfc-02420a01001a-16-fefd-6751-70e8-ba4c-6c69-0b7c-e518-639c-0589-73c6",
       "previous": "020ef5e0-2928-11e9-99c7-02420aff0008-23-dbf3-f970-b480-f3e3-e5c3-0bdd-46bb-89f5-021a-40e1"
      },
      {
       "current": "8ef9eeb4-eea3-11ea-9bfc-02420a01001a-17-1bd9-eb85-ccd8-0641-d5f4-16d0-eee3-f800-e98c-a4a0",
       "next": "fe45847c-e778-11ea-9c06-02420a010045-19-27b7-498e-614e-8c47-d015-8ab2-b967-a24c-090d-a3e8",
       "previous": "020ef5e0-2928-11e9-99c7-02420aff0008-24-f970-b480-f3e3-e5c3-0bdd-46bb-89f5-021a-40e1-044d"
      },
      {
       "current": "8ef9eeb4-eea3-11ea-9bfc-02420a01001a-18-eb85-ccd8-0641-d5f4-16d0-eee3-f800-e98c-a4a0-87dc",
       "next": "fe45847c-e778-11ea-9c06-02420a010045-20-498e-614e-8c47-d015-8ab2-b967-a24c-090d-a3e8-574f",
       "previous": "020ef5e0-2928-11e9-99c7-02420aff0008-25-b480-f3e3-e5c3-0bdd-46bb-89f5-021a-40e1-044d-f3d6"
      },
      {
       "current": "8ef9eeb4-eea3-11ea-9bfc-02420a01001a-19-ccd8-0641-d5f4-16d0-eee3-f800-e98c-a4a0-87dc-cef5",
       "next": "fe45847c-e778-11ea-9c06-02420a010045-21-614e-8c47-d015-8ab2-b967-a24c-090d-a3e8-574f-70e5",
       "previous": "020ef5e0-2928-11e9-99c7-02420aff0008-26-f3e3-e5c3-0bdd-46bb-89f5-021a-40e1-044d-f3d6-e34b"
      }
     ],
     "next": "fe45847c-e778-11ea-9c06-02420a010045-22-8c47-d015-8ab2-b967-a24c-090d-a3e8-574f-70e5-1787",
     "previous": "020ef5e0-2928-11e9-99c7-02420aff0008-27-e5c3-0bdd-46bb-89f5-021a-40e1-044d-f3d6-e34b-5a5a"
    }
   },
   "source": [
    "コンテナが動作するノードを調べて、コンテナ内部のファイルを確認する。"
   ]
  },
  {
   "cell_type": "code",
   "execution_count": null,
   "id": "83d082d7",
   "metadata": {
    "lc_cell_meme": {
     "current": "fe45847c-e778-11ea-9c06-02420a010045-22-8c47-d015-8ab2-b967-a24c-090d-a3e8-574f-70e5-1787",
     "history": [
      {
       "current": "fe45847c-e778-11ea-9c06-02420a010045-13-e4d9-39d8-e14e-f0f2-8039-10f8-27b7-498e-614e-8c47",
       "next": "b6af0ce6-e778-11ea-9c06-02420a010045-13-82dc-eb44-f6bd-71dd-6008-0814-85bf-163a-8eff-dddf",
       "previous": "8ef9eeb4-eea3-11ea-9bfc-02420a01001a-10-7e69-d8d9-7459-9aca-71ea-89b3-82ea-1bd9-eb85-ccd8"
      },
      {
       "current": "fe45847c-e778-11ea-9c06-02420a010045-14-39d8-e14e-f0f2-8039-10f8-27b7-498e-614e-8c47-d015",
       "next": "b6af0ce6-e778-11ea-9c06-02420a010045-13-82dc-eb44-f6bd-71dd-6008-0814-85bf-163a-8eff-dddf",
       "previous": "1e5f8eaa-4c67-11e9-b2d5-0242ac130002-17-526f-da8a-10e4-1ca7-f376-8d9d-2567-1a03-ce3c-15b2"
      },
      {
       "current": "fe45847c-e778-11ea-9c06-02420a010045-15-e14e-f0f2-8039-10f8-27b7-498e-614e-8c47-d015-8ab2",
       "next": "b6af0ce6-e778-11ea-9c06-02420a010045-14-eb44-f6bd-71dd-6008-0814-85bf-163a-8eff-dddf-e2e4",
       "previous": "1e5f8eaa-4c67-11e9-b2d5-0242ac130002-18-da8a-10e4-1ca7-f376-8d9d-2567-1a03-ce3c-15b2-fc9b"
      },
      {
       "current": "fe45847c-e778-11ea-9c06-02420a010045-16-f0f2-8039-10f8-27b7-498e-614e-8c47-d015-8ab2-b967",
       "next": "b6af0ce6-e778-11ea-9c06-02420a010045-15-f6bd-71dd-6008-0814-85bf-163a-8eff-dddf-e2e4-4125",
       "previous": "1e5f8eaa-4c67-11e9-b2d5-0242ac130002-19-10e4-1ca7-f376-8d9d-2567-1a03-ce3c-15b2-fc9b-e974"
      },
      {
       "current": "fe45847c-e778-11ea-9c06-02420a010045-17-8039-10f8-27b7-498e-614e-8c47-d015-8ab2-b967-a24c",
       "next": "b6af0ce6-e778-11ea-9c06-02420a010045-16-71dd-6008-0814-85bf-163a-8eff-dddf-e2e4-4125-409a",
       "previous": "1e5f8eaa-4c67-11e9-b2d5-0242ac130002-20-1ca7-f376-8d9d-2567-1a03-ce3c-15b2-fc9b-e974-9b11"
      },
      {
       "current": "fe45847c-e778-11ea-9c06-02420a010045-18-10f8-27b7-498e-614e-8c47-d015-8ab2-b967-a24c-090d",
       "next": "b6af0ce6-e778-11ea-9c06-02420a010045-17-6008-0814-85bf-163a-8eff-dddf-e2e4-4125-409a-f92b",
       "previous": "1e5f8eaa-4c67-11e9-b2d5-0242ac130002-21-f376-8d9d-2567-1a03-ce3c-15b2-fc9b-e974-9b11-9660"
      },
      {
       "current": "fe45847c-e778-11ea-9c06-02420a010045-19-27b7-498e-614e-8c47-d015-8ab2-b967-a24c-090d-a3e8",
       "next": "b6af0ce6-e778-11ea-9c06-02420a010045-18-0814-85bf-163a-8eff-dddf-e2e4-4125-409a-f92b-ec12",
       "previous": "1e5f8eaa-4c67-11e9-b2d5-0242ac130002-22-8d9d-2567-1a03-ce3c-15b2-fc9b-e974-9b11-9660-011f"
      },
      {
       "current": "fe45847c-e778-11ea-9c06-02420a010045-20-498e-614e-8c47-d015-8ab2-b967-a24c-090d-a3e8-574f",
       "next": "b6af0ce6-e778-11ea-9c06-02420a010045-19-85bf-163a-8eff-dddf-e2e4-4125-409a-f92b-ec12-add7",
       "previous": "8ef9eeb4-eea3-11ea-9bfc-02420a01001a-16-82ea-1bd9-eb85-ccd8-0641-d5f4-16d0-eee3-f800-e98c"
      },
      {
       "current": "fe45847c-e778-11ea-9c06-02420a010045-21-614e-8c47-d015-8ab2-b967-a24c-090d-a3e8-574f-70e5",
       "next": "b6af0ce6-e778-11ea-9c06-02420a010045-20-163a-8eff-dddf-e2e4-4125-409a-f92b-ec12-add7-5161",
       "previous": "8ef9eeb4-eea3-11ea-9bfc-02420a01001a-17-1bd9-eb85-ccd8-0641-d5f4-16d0-eee3-f800-e98c-a4a0"
      },
      {
       "current": "fe45847c-e778-11ea-9c06-02420a010045-22-8c47-d015-8ab2-b967-a24c-090d-a3e8-574f-70e5-1787",
       "next": "b6af0ce6-e778-11ea-9c06-02420a010045-21-8eff-dddf-e2e4-4125-409a-f92b-ec12-add7-5161-edea",
       "previous": "8ef9eeb4-eea3-11ea-9bfc-02420a01001a-18-eb85-ccd8-0641-d5f4-16d0-eee3-f800-e98c-a4a0-87dc"
      }
     ],
     "next": "b6af0ce6-e778-11ea-9c06-02420a010045-22-dddf-e2e4-4125-409a-f92b-ec12-add7-5161-edea-c912",
     "previous": "8ef9eeb4-eea3-11ea-9bfc-02420a01001a-19-ccd8-0641-d5f4-16d0-eee3-f800-e98c-a4a0-87dc-cef5"
    }
   },
   "outputs": [],
   "source": [
    "%%writefile {work_dir}/get_servicenet_ip.yml\n",
    "---\n",
    "- become: true\n",
    "  hosts: all\n",
    "  tasks:\n",
    "      - debug: \"msg={{inventory_hostname}}={{servicenet_ip}}\"\n"
   ]
  },
  {
   "cell_type": "code",
   "execution_count": null,
   "id": "ba3bc28b",
   "metadata": {
    "lc_cell_meme": {
     "current": "b6af0ce6-e778-11ea-9c06-02420a010045-22-dddf-e2e4-4125-409a-f92b-ec12-add7-5161-edea-c912",
     "history": [
      {
       "current": "b6af0ce6-e778-11ea-9c06-02420a010045-13-82dc-eb44-f6bd-71dd-6008-0814-85bf-163a-8eff-dddf",
       "next": "1bea9cc0-208c-11e9-99c7-02420aff0008-17-0264-ffdb-1e48-ecf1-39c0-9758-8950-68bb-fa65-019e",
       "previous": "fe45847c-e778-11ea-9c06-02420a010045-12-6f25-e4d9-39d8-e14e-f0f2-8039-10f8-27b7-498e-614e"
      },
      {
       "current": "b6af0ce6-e778-11ea-9c06-02420a010045-14-eb44-f6bd-71dd-6008-0814-85bf-163a-8eff-dddf-e2e4",
       "next": "1bea9cc0-208c-11e9-99c7-02420aff0008-18-ffdb-1e48-ecf1-39c0-9758-8950-68bb-fa65-019e-3be4",
       "previous": "fe45847c-e778-11ea-9c06-02420a010045-13-e4d9-39d8-e14e-f0f2-8039-10f8-27b7-498e-614e-8c47"
      },
      {
       "current": "b6af0ce6-e778-11ea-9c06-02420a010045-15-f6bd-71dd-6008-0814-85bf-163a-8eff-dddf-e2e4-4125",
       "next": "1bea9cc0-208c-11e9-99c7-02420aff0008-19-1e48-ecf1-39c0-9758-8950-68bb-fa65-019e-3be4-06a4",
       "previous": "fe45847c-e778-11ea-9c06-02420a010045-14-39d8-e14e-f0f2-8039-10f8-27b7-498e-614e-8c47-d015"
      },
      {
       "current": "b6af0ce6-e778-11ea-9c06-02420a010045-16-71dd-6008-0814-85bf-163a-8eff-dddf-e2e4-4125-409a",
       "next": "1bea9cc0-208c-11e9-99c7-02420aff0008-20-ecf1-39c0-9758-8950-68bb-fa65-019e-3be4-06a4-39f6",
       "previous": "fe45847c-e778-11ea-9c06-02420a010045-15-e14e-f0f2-8039-10f8-27b7-498e-614e-8c47-d015-8ab2"
      },
      {
       "current": "b6af0ce6-e778-11ea-9c06-02420a010045-17-6008-0814-85bf-163a-8eff-dddf-e2e4-4125-409a-f92b",
       "next": "1bea9cc0-208c-11e9-99c7-02420aff0008-21-39c0-9758-8950-68bb-fa65-019e-3be4-06a4-39f6-c128",
       "previous": "fe45847c-e778-11ea-9c06-02420a010045-16-f0f2-8039-10f8-27b7-498e-614e-8c47-d015-8ab2-b967"
      },
      {
       "current": "b6af0ce6-e778-11ea-9c06-02420a010045-18-0814-85bf-163a-8eff-dddf-e2e4-4125-409a-f92b-ec12",
       "next": "1bea9cc0-208c-11e9-99c7-02420aff0008-22-9758-8950-68bb-fa65-019e-3be4-06a4-39f6-c128-9c78",
       "previous": "fe45847c-e778-11ea-9c06-02420a010045-17-8039-10f8-27b7-498e-614e-8c47-d015-8ab2-b967-a24c"
      },
      {
       "current": "b6af0ce6-e778-11ea-9c06-02420a010045-19-85bf-163a-8eff-dddf-e2e4-4125-409a-f92b-ec12-add7",
       "next": "1bea9cc0-208c-11e9-99c7-02420aff0008-23-8950-68bb-fa65-019e-3be4-06a4-39f6-c128-9c78-7634",
       "previous": "fe45847c-e778-11ea-9c06-02420a010045-18-10f8-27b7-498e-614e-8c47-d015-8ab2-b967-a24c-090d"
      },
      {
       "current": "b6af0ce6-e778-11ea-9c06-02420a010045-20-163a-8eff-dddf-e2e4-4125-409a-f92b-ec12-add7-5161",
       "next": "1bea9cc0-208c-11e9-99c7-02420aff0008-24-68bb-fa65-019e-3be4-06a4-39f6-c128-9c78-7634-bed2",
       "previous": "fe45847c-e778-11ea-9c06-02420a010045-19-27b7-498e-614e-8c47-d015-8ab2-b967-a24c-090d-a3e8"
      },
      {
       "current": "b6af0ce6-e778-11ea-9c06-02420a010045-21-8eff-dddf-e2e4-4125-409a-f92b-ec12-add7-5161-edea",
       "next": "1bea9cc0-208c-11e9-99c7-02420aff0008-25-fa65-019e-3be4-06a4-39f6-c128-9c78-7634-bed2-8bc8",
       "previous": "fe45847c-e778-11ea-9c06-02420a010045-20-498e-614e-8c47-d015-8ab2-b967-a24c-090d-a3e8-574f"
      },
      {
       "current": "b6af0ce6-e778-11ea-9c06-02420a010045-22-dddf-e2e4-4125-409a-f92b-ec12-add7-5161-edea-c912",
       "next": "1bea9cc0-208c-11e9-99c7-02420aff0008-26-019e-3be4-06a4-39f6-c128-9c78-7634-bed2-8bc8-7acd",
       "previous": "fe45847c-e778-11ea-9c06-02420a010045-21-614e-8c47-d015-8ab2-b967-a24c-090d-a3e8-574f-70e5"
      }
     ],
     "next": "1bea9cc0-208c-11e9-99c7-02420aff0008-27-3be4-06a4-39f6-c128-9c78-7634-bed2-8bc8-7acd-1526",
     "previous": "fe45847c-e778-11ea-9c06-02420a010045-22-8c47-d015-8ab2-b967-a24c-090d-a3e8-574f-70e5-1787"
    }
   },
   "outputs": [],
   "source": [
    "import re\n",
    "\n",
    "servicenet_result = {}\n",
    "\n",
    "msgout = !ansible-playbook -l {target_group} {work_dir}/get_servicenet_ip.yml\n",
    "msgout = msgout.grep('\"msg\"')\n",
    "assert len(msgout) >= 1\n",
    "for l in msgout:\n",
    "    m = re.match(r'.*\\\"msg\\\": \\\"(.+)=(.+)\\\"', l)\n",
    "    if m:\n",
    "        servicenet_result[m.group(2)] = m.group(1)\n",
    "servicenet_result"
   ]
  },
  {
   "cell_type": "code",
   "execution_count": null,
   "id": "d018f2c3",
   "metadata": {
    "lc_cell_meme": {
     "current": "1bea9cc0-208c-11e9-99c7-02420aff0008-27-3be4-06a4-39f6-c128-9c78-7634-bed2-8bc8-7acd-1526",
     "history": [
      {
       "current": "1bea9cc0-208c-11e9-99c7-02420aff0008-18-ffdb-1e48-ecf1-39c0-9758-8950-68bb-fa65-019e-3be4",
       "next": "020ef892-2928-11e9-99c7-02420aff0008-17-aabe-2a0c-8b86-328a-d491-29a7-60c3-52bf-3256-b2c1",
       "previous": "b6af0ce6-e778-11ea-9c06-02420a010045-12-f6fa-82dc-eb44-f6bd-71dd-6008-0814-85bf-163a-8eff"
      },
      {
       "current": "1bea9cc0-208c-11e9-99c7-02420aff0008-19-1e48-ecf1-39c0-9758-8950-68bb-fa65-019e-3be4-06a4",
       "next": "020ef892-2928-11e9-99c7-02420aff0008-18-2a0c-8b86-328a-d491-29a7-60c3-52bf-3256-b2c1-a1ab",
       "previous": "b6af0ce6-e778-11ea-9c06-02420a010045-13-82dc-eb44-f6bd-71dd-6008-0814-85bf-163a-8eff-dddf"
      },
      {
       "current": "1bea9cc0-208c-11e9-99c7-02420aff0008-20-ecf1-39c0-9758-8950-68bb-fa65-019e-3be4-06a4-39f6",
       "next": "020ef892-2928-11e9-99c7-02420aff0008-19-8b86-328a-d491-29a7-60c3-52bf-3256-b2c1-a1ab-364c",
       "previous": "b6af0ce6-e778-11ea-9c06-02420a010045-14-eb44-f6bd-71dd-6008-0814-85bf-163a-8eff-dddf-e2e4"
      },
      {
       "current": "1bea9cc0-208c-11e9-99c7-02420aff0008-21-39c0-9758-8950-68bb-fa65-019e-3be4-06a4-39f6-c128",
       "next": "020ef892-2928-11e9-99c7-02420aff0008-20-328a-d491-29a7-60c3-52bf-3256-b2c1-a1ab-364c-5603",
       "previous": "b6af0ce6-e778-11ea-9c06-02420a010045-15-f6bd-71dd-6008-0814-85bf-163a-8eff-dddf-e2e4-4125"
      },
      {
       "current": "1bea9cc0-208c-11e9-99c7-02420aff0008-22-9758-8950-68bb-fa65-019e-3be4-06a4-39f6-c128-9c78",
       "next": "020ef892-2928-11e9-99c7-02420aff0008-21-d491-29a7-60c3-52bf-3256-b2c1-a1ab-364c-5603-68be",
       "previous": "b6af0ce6-e778-11ea-9c06-02420a010045-16-71dd-6008-0814-85bf-163a-8eff-dddf-e2e4-4125-409a"
      },
      {
       "current": "1bea9cc0-208c-11e9-99c7-02420aff0008-23-8950-68bb-fa65-019e-3be4-06a4-39f6-c128-9c78-7634",
       "next": "020ef892-2928-11e9-99c7-02420aff0008-22-29a7-60c3-52bf-3256-b2c1-a1ab-364c-5603-68be-a0b0",
       "previous": "b6af0ce6-e778-11ea-9c06-02420a010045-17-6008-0814-85bf-163a-8eff-dddf-e2e4-4125-409a-f92b"
      },
      {
       "current": "1bea9cc0-208c-11e9-99c7-02420aff0008-24-68bb-fa65-019e-3be4-06a4-39f6-c128-9c78-7634-bed2",
       "next": "020ef892-2928-11e9-99c7-02420aff0008-23-60c3-52bf-3256-b2c1-a1ab-364c-5603-68be-a0b0-d2d5",
       "previous": "b6af0ce6-e778-11ea-9c06-02420a010045-18-0814-85bf-163a-8eff-dddf-e2e4-4125-409a-f92b-ec12"
      },
      {
       "current": "1bea9cc0-208c-11e9-99c7-02420aff0008-25-fa65-019e-3be4-06a4-39f6-c128-9c78-7634-bed2-8bc8",
       "next": "020ef892-2928-11e9-99c7-02420aff0008-24-52bf-3256-b2c1-a1ab-364c-5603-68be-a0b0-d2d5-7eff",
       "previous": "b6af0ce6-e778-11ea-9c06-02420a010045-19-85bf-163a-8eff-dddf-e2e4-4125-409a-f92b-ec12-add7"
      },
      {
       "current": "1bea9cc0-208c-11e9-99c7-02420aff0008-26-019e-3be4-06a4-39f6-c128-9c78-7634-bed2-8bc8-7acd",
       "next": "020ef892-2928-11e9-99c7-02420aff0008-25-3256-b2c1-a1ab-364c-5603-68be-a0b0-d2d5-7eff-808f",
       "previous": "b6af0ce6-e778-11ea-9c06-02420a010045-20-163a-8eff-dddf-e2e4-4125-409a-f92b-ec12-add7-5161"
      },
      {
       "current": "1bea9cc0-208c-11e9-99c7-02420aff0008-27-3be4-06a4-39f6-c128-9c78-7634-bed2-8bc8-7acd-1526",
       "next": "020ef892-2928-11e9-99c7-02420aff0008-26-b2c1-a1ab-364c-5603-68be-a0b0-d2d5-7eff-808f-ea0c",
       "previous": "b6af0ce6-e778-11ea-9c06-02420a010045-21-8eff-dddf-e2e4-4125-409a-f92b-ec12-add7-5161-edea"
      }
     ],
     "next": "020ef892-2928-11e9-99c7-02420aff0008-27-a1ab-364c-5603-68be-a0b0-d2d5-7eff-808f-ea0c-25b5",
     "previous": "b6af0ce6-e778-11ea-9c06-02420a010045-22-dddf-e2e4-4125-409a-f92b-ec12-add7-5161-edea-c912"
    }
   },
   "outputs": [],
   "source": [
    "auth_proxy_id = !ansible -b -a 'docker service ps coursewarehub_auth-proxy -q' {target_hub} -l {target_group}\n",
    "auth_proxy_id = auth_proxy_id[1]\n",
    "auth_proxy_id = auth_proxy_id.strip()\n",
    "auth_proxy_id"
   ]
  },
  {
   "cell_type": "code",
   "execution_count": null,
   "id": "f89be2a9",
   "metadata": {
    "lc_cell_meme": {
     "current": "020ef892-2928-11e9-99c7-02420aff0008-27-a1ab-364c-5603-68be-a0b0-d2d5-7eff-808f-ea0c-25b5",
     "history": [
      {
       "current": "020ef892-2928-11e9-99c7-02420aff0008-18-2a0c-8b86-328a-d491-29a7-60c3-52bf-3256-b2c1-a1ab",
       "next": "020ef95a-2928-11e9-99c7-02420aff0008-17-ca1b-253f-6e09-9db9-791b-04c5-50b1-65c5-c739-56d7",
       "previous": "1bea9cc0-208c-11e9-99c7-02420aff0008-17-0264-ffdb-1e48-ecf1-39c0-9758-8950-68bb-fa65-019e"
      },
      {
       "current": "020ef892-2928-11e9-99c7-02420aff0008-19-8b86-328a-d491-29a7-60c3-52bf-3256-b2c1-a1ab-364c",
       "next": "020ef95a-2928-11e9-99c7-02420aff0008-18-253f-6e09-9db9-791b-04c5-50b1-65c5-c739-56d7-e231",
       "previous": "1bea9cc0-208c-11e9-99c7-02420aff0008-18-ffdb-1e48-ecf1-39c0-9758-8950-68bb-fa65-019e-3be4"
      },
      {
       "current": "020ef892-2928-11e9-99c7-02420aff0008-20-328a-d491-29a7-60c3-52bf-3256-b2c1-a1ab-364c-5603",
       "next": "020ef95a-2928-11e9-99c7-02420aff0008-19-6e09-9db9-791b-04c5-50b1-65c5-c739-56d7-e231-daaf",
       "previous": "1bea9cc0-208c-11e9-99c7-02420aff0008-19-1e48-ecf1-39c0-9758-8950-68bb-fa65-019e-3be4-06a4"
      },
      {
       "current": "020ef892-2928-11e9-99c7-02420aff0008-21-d491-29a7-60c3-52bf-3256-b2c1-a1ab-364c-5603-68be",
       "next": "020ef95a-2928-11e9-99c7-02420aff0008-20-9db9-791b-04c5-50b1-65c5-c739-56d7-e231-daaf-7ab9",
       "previous": "1bea9cc0-208c-11e9-99c7-02420aff0008-20-ecf1-39c0-9758-8950-68bb-fa65-019e-3be4-06a4-39f6"
      },
      {
       "current": "020ef892-2928-11e9-99c7-02420aff0008-22-29a7-60c3-52bf-3256-b2c1-a1ab-364c-5603-68be-a0b0",
       "next": "020ef95a-2928-11e9-99c7-02420aff0008-21-791b-04c5-50b1-65c5-c739-56d7-e231-daaf-7ab9-c96f",
       "previous": "1bea9cc0-208c-11e9-99c7-02420aff0008-21-39c0-9758-8950-68bb-fa65-019e-3be4-06a4-39f6-c128"
      },
      {
       "current": "020ef892-2928-11e9-99c7-02420aff0008-23-60c3-52bf-3256-b2c1-a1ab-364c-5603-68be-a0b0-d2d5",
       "next": "020ef95a-2928-11e9-99c7-02420aff0008-22-04c5-50b1-65c5-c739-56d7-e231-daaf-7ab9-c96f-7df1",
       "previous": "1bea9cc0-208c-11e9-99c7-02420aff0008-22-9758-8950-68bb-fa65-019e-3be4-06a4-39f6-c128-9c78"
      },
      {
       "current": "020ef892-2928-11e9-99c7-02420aff0008-24-52bf-3256-b2c1-a1ab-364c-5603-68be-a0b0-d2d5-7eff",
       "next": "020ef95a-2928-11e9-99c7-02420aff0008-23-50b1-65c5-c739-56d7-e231-daaf-7ab9-c96f-7df1-d547",
       "previous": "1bea9cc0-208c-11e9-99c7-02420aff0008-23-8950-68bb-fa65-019e-3be4-06a4-39f6-c128-9c78-7634"
      },
      {
       "current": "020ef892-2928-11e9-99c7-02420aff0008-25-3256-b2c1-a1ab-364c-5603-68be-a0b0-d2d5-7eff-808f",
       "next": "020ef95a-2928-11e9-99c7-02420aff0008-24-65c5-c739-56d7-e231-daaf-7ab9-c96f-7df1-d547-0eb5",
       "previous": "1bea9cc0-208c-11e9-99c7-02420aff0008-24-68bb-fa65-019e-3be4-06a4-39f6-c128-9c78-7634-bed2"
      },
      {
       "current": "020ef892-2928-11e9-99c7-02420aff0008-26-b2c1-a1ab-364c-5603-68be-a0b0-d2d5-7eff-808f-ea0c",
       "next": "020ef95a-2928-11e9-99c7-02420aff0008-25-c739-56d7-e231-daaf-7ab9-c96f-7df1-d547-0eb5-72c5",
       "previous": "1bea9cc0-208c-11e9-99c7-02420aff0008-25-fa65-019e-3be4-06a4-39f6-c128-9c78-7634-bed2-8bc8"
      },
      {
       "current": "020ef892-2928-11e9-99c7-02420aff0008-27-a1ab-364c-5603-68be-a0b0-d2d5-7eff-808f-ea0c-25b5",
       "next": "020ef95a-2928-11e9-99c7-02420aff0008-26-56d7-e231-daaf-7ab9-c96f-7df1-d547-0eb5-72c5-f219",
       "previous": "1bea9cc0-208c-11e9-99c7-02420aff0008-26-019e-3be4-06a4-39f6-c128-9c78-7634-bed2-8bc8-7acd"
      }
     ],
     "next": "020ef95a-2928-11e9-99c7-02420aff0008-27-e231-daaf-7ab9-c96f-7df1-d547-0eb5-72c5-f219-cf04",
     "previous": "1bea9cc0-208c-11e9-99c7-02420aff0008-27-3be4-06a4-39f6-c128-9c78-7634-bed2-8bc8-7acd-1526"
    }
   },
   "outputs": [],
   "source": [
    "output = !ansible -b -a 'docker inspect --format \"{{% raw %}} {{{{.NodeID}}}} {{{{.Status.ContainerStatus.ContainerID}}}}\" {{% endraw %}} {auth_proxy_id}' {target_hub} -l {target_group}\n",
    "auth_proxy_node_id, auth_proxy_container_id = output[1].split()\n",
    "(auth_proxy_node_id, auth_proxy_container_id)"
   ]
  },
  {
   "cell_type": "code",
   "execution_count": null,
   "id": "2b0ae1d6",
   "metadata": {
    "lc_cell_meme": {
     "current": "020ef95a-2928-11e9-99c7-02420aff0008-27-e231-daaf-7ab9-c96f-7df1-d547-0eb5-72c5-f219-cf04",
     "history": [
      {
       "current": "020ef95a-2928-11e9-99c7-02420aff0008-18-253f-6e09-9db9-791b-04c5-50b1-65c5-c739-56d7-e231",
       "next": "020ef9f0-2928-11e9-99c7-02420aff0008-17-24a2-9a60-5490-7ff2-af7c-00ee-2629-9ede-2316-838e",
       "previous": "020ef892-2928-11e9-99c7-02420aff0008-17-aabe-2a0c-8b86-328a-d491-29a7-60c3-52bf-3256-b2c1"
      },
      {
       "current": "020ef95a-2928-11e9-99c7-02420aff0008-19-6e09-9db9-791b-04c5-50b1-65c5-c739-56d7-e231-daaf",
       "next": "020ef9f0-2928-11e9-99c7-02420aff0008-18-9a60-5490-7ff2-af7c-00ee-2629-9ede-2316-838e-9704",
       "previous": "020ef892-2928-11e9-99c7-02420aff0008-18-2a0c-8b86-328a-d491-29a7-60c3-52bf-3256-b2c1-a1ab"
      },
      {
       "current": "020ef95a-2928-11e9-99c7-02420aff0008-20-9db9-791b-04c5-50b1-65c5-c739-56d7-e231-daaf-7ab9",
       "next": "020ef9f0-2928-11e9-99c7-02420aff0008-19-5490-7ff2-af7c-00ee-2629-9ede-2316-838e-9704-2266",
       "previous": "020ef892-2928-11e9-99c7-02420aff0008-19-8b86-328a-d491-29a7-60c3-52bf-3256-b2c1-a1ab-364c"
      },
      {
       "current": "020ef95a-2928-11e9-99c7-02420aff0008-21-791b-04c5-50b1-65c5-c739-56d7-e231-daaf-7ab9-c96f",
       "next": "020ef9f0-2928-11e9-99c7-02420aff0008-20-7ff2-af7c-00ee-2629-9ede-2316-838e-9704-2266-a07c",
       "previous": "020ef892-2928-11e9-99c7-02420aff0008-20-328a-d491-29a7-60c3-52bf-3256-b2c1-a1ab-364c-5603"
      },
      {
       "current": "020ef95a-2928-11e9-99c7-02420aff0008-22-04c5-50b1-65c5-c739-56d7-e231-daaf-7ab9-c96f-7df1",
       "next": "020ef9f0-2928-11e9-99c7-02420aff0008-21-af7c-00ee-2629-9ede-2316-838e-9704-2266-a07c-796b",
       "previous": "020ef892-2928-11e9-99c7-02420aff0008-21-d491-29a7-60c3-52bf-3256-b2c1-a1ab-364c-5603-68be"
      },
      {
       "current": "020ef95a-2928-11e9-99c7-02420aff0008-23-50b1-65c5-c739-56d7-e231-daaf-7ab9-c96f-7df1-d547",
       "next": "020ef9f0-2928-11e9-99c7-02420aff0008-22-00ee-2629-9ede-2316-838e-9704-2266-a07c-796b-36d7",
       "previous": "020ef892-2928-11e9-99c7-02420aff0008-22-29a7-60c3-52bf-3256-b2c1-a1ab-364c-5603-68be-a0b0"
      },
      {
       "current": "020ef95a-2928-11e9-99c7-02420aff0008-24-65c5-c739-56d7-e231-daaf-7ab9-c96f-7df1-d547-0eb5",
       "next": "020ef9f0-2928-11e9-99c7-02420aff0008-23-2629-9ede-2316-838e-9704-2266-a07c-796b-36d7-3f66",
       "previous": "020ef892-2928-11e9-99c7-02420aff0008-23-60c3-52bf-3256-b2c1-a1ab-364c-5603-68be-a0b0-d2d5"
      },
      {
       "current": "020ef95a-2928-11e9-99c7-02420aff0008-25-c739-56d7-e231-daaf-7ab9-c96f-7df1-d547-0eb5-72c5",
       "next": "020ef9f0-2928-11e9-99c7-02420aff0008-24-9ede-2316-838e-9704-2266-a07c-796b-36d7-3f66-d5d8",
       "previous": "020ef892-2928-11e9-99c7-02420aff0008-24-52bf-3256-b2c1-a1ab-364c-5603-68be-a0b0-d2d5-7eff"
      },
      {
       "current": "020ef95a-2928-11e9-99c7-02420aff0008-26-56d7-e231-daaf-7ab9-c96f-7df1-d547-0eb5-72c5-f219",
       "next": "020ef9f0-2928-11e9-99c7-02420aff0008-25-2316-838e-9704-2266-a07c-796b-36d7-3f66-d5d8-3ce5",
       "previous": "020ef892-2928-11e9-99c7-02420aff0008-25-3256-b2c1-a1ab-364c-5603-68be-a0b0-d2d5-7eff-808f"
      },
      {
       "current": "020ef95a-2928-11e9-99c7-02420aff0008-27-e231-daaf-7ab9-c96f-7df1-d547-0eb5-72c5-f219-cf04",
       "next": "020ef9f0-2928-11e9-99c7-02420aff0008-26-838e-9704-2266-a07c-796b-36d7-3f66-d5d8-3ce5-3fa9",
       "previous": "020ef892-2928-11e9-99c7-02420aff0008-26-b2c1-a1ab-364c-5603-68be-a0b0-d2d5-7eff-808f-ea0c"
      }
     ],
     "next": "020ef9f0-2928-11e9-99c7-02420aff0008-27-9704-2266-a07c-796b-36d7-3f66-d5d8-3ce5-3fa9-50b5",
     "previous": "020ef892-2928-11e9-99c7-02420aff0008-27-a1ab-364c-5603-68be-a0b0-d2d5-7eff-808f-ea0c-25b5"
    }
   },
   "outputs": [],
   "source": [
    "output = !ansible -b -a 'docker node inspect --format \"{{% raw %}} {{{{.Status.Addr}}}}\" {{% endraw %}} {auth_proxy_node_id}' {target_hub} -l {target_group}\n",
    "auth_proxy_node_ip = output[1].split()\n",
    "auth_proxy_node_ip = [servicenet_result[x] for x in auth_proxy_node_ip]\n",
    "auth_proxy_node_ip"
   ]
  },
  {
   "cell_type": "code",
   "execution_count": null,
   "id": "410f0416",
   "metadata": {
    "lc_cell_meme": {
     "current": "020ef9f0-2928-11e9-99c7-02420aff0008-27-9704-2266-a07c-796b-36d7-3f66-d5d8-3ce5-3fa9-50b5",
     "history": [
      {
       "current": "020ef9f0-2928-11e9-99c7-02420aff0008-18-9a60-5490-7ff2-af7c-00ee-2629-9ede-2316-838e-9704",
       "next": "020efa7c-2928-11e9-99c7-02420aff0008-17-15f8-64c4-67d6-3162-48fb-10ef-31da-6388-5600-f352",
       "previous": "020ef95a-2928-11e9-99c7-02420aff0008-17-ca1b-253f-6e09-9db9-791b-04c5-50b1-65c5-c739-56d7"
      },
      {
       "current": "020ef9f0-2928-11e9-99c7-02420aff0008-19-5490-7ff2-af7c-00ee-2629-9ede-2316-838e-9704-2266",
       "next": "020efa7c-2928-11e9-99c7-02420aff0008-18-64c4-67d6-3162-48fb-10ef-31da-6388-5600-f352-f06c",
       "previous": "020ef95a-2928-11e9-99c7-02420aff0008-18-253f-6e09-9db9-791b-04c5-50b1-65c5-c739-56d7-e231"
      },
      {
       "current": "020ef9f0-2928-11e9-99c7-02420aff0008-20-7ff2-af7c-00ee-2629-9ede-2316-838e-9704-2266-a07c",
       "next": "020efa7c-2928-11e9-99c7-02420aff0008-19-67d6-3162-48fb-10ef-31da-6388-5600-f352-f06c-ab1d",
       "previous": "020ef95a-2928-11e9-99c7-02420aff0008-19-6e09-9db9-791b-04c5-50b1-65c5-c739-56d7-e231-daaf"
      },
      {
       "current": "020ef9f0-2928-11e9-99c7-02420aff0008-21-af7c-00ee-2629-9ede-2316-838e-9704-2266-a07c-796b",
       "next": "020efa7c-2928-11e9-99c7-02420aff0008-20-3162-48fb-10ef-31da-6388-5600-f352-f06c-ab1d-5611",
       "previous": "020ef95a-2928-11e9-99c7-02420aff0008-20-9db9-791b-04c5-50b1-65c5-c739-56d7-e231-daaf-7ab9"
      },
      {
       "current": "020ef9f0-2928-11e9-99c7-02420aff0008-22-00ee-2629-9ede-2316-838e-9704-2266-a07c-796b-36d7",
       "next": "020efa7c-2928-11e9-99c7-02420aff0008-21-48fb-10ef-31da-6388-5600-f352-f06c-ab1d-5611-4e80",
       "previous": "020ef95a-2928-11e9-99c7-02420aff0008-21-791b-04c5-50b1-65c5-c739-56d7-e231-daaf-7ab9-c96f"
      },
      {
       "current": "020ef9f0-2928-11e9-99c7-02420aff0008-23-2629-9ede-2316-838e-9704-2266-a07c-796b-36d7-3f66",
       "next": "020efa7c-2928-11e9-99c7-02420aff0008-22-10ef-31da-6388-5600-f352-f06c-ab1d-5611-4e80-0cf9",
       "previous": "020ef95a-2928-11e9-99c7-02420aff0008-22-04c5-50b1-65c5-c739-56d7-e231-daaf-7ab9-c96f-7df1"
      },
      {
       "current": "020ef9f0-2928-11e9-99c7-02420aff0008-24-9ede-2316-838e-9704-2266-a07c-796b-36d7-3f66-d5d8",
       "next": "020efa7c-2928-11e9-99c7-02420aff0008-23-31da-6388-5600-f352-f06c-ab1d-5611-4e80-0cf9-435f",
       "previous": "020ef95a-2928-11e9-99c7-02420aff0008-23-50b1-65c5-c739-56d7-e231-daaf-7ab9-c96f-7df1-d547"
      },
      {
       "current": "020ef9f0-2928-11e9-99c7-02420aff0008-25-2316-838e-9704-2266-a07c-796b-36d7-3f66-d5d8-3ce5",
       "next": "020efa7c-2928-11e9-99c7-02420aff0008-24-6388-5600-f352-f06c-ab1d-5611-4e80-0cf9-435f-c6ed",
       "previous": "020ef95a-2928-11e9-99c7-02420aff0008-24-65c5-c739-56d7-e231-daaf-7ab9-c96f-7df1-d547-0eb5"
      },
      {
       "current": "020ef9f0-2928-11e9-99c7-02420aff0008-26-838e-9704-2266-a07c-796b-36d7-3f66-d5d8-3ce5-3fa9",
       "next": "020efa7c-2928-11e9-99c7-02420aff0008-25-5600-f352-f06c-ab1d-5611-4e80-0cf9-435f-c6ed-3eb8",
       "previous": "020ef95a-2928-11e9-99c7-02420aff0008-25-c739-56d7-e231-daaf-7ab9-c96f-7df1-d547-0eb5-72c5"
      },
      {
       "current": "020ef9f0-2928-11e9-99c7-02420aff0008-27-9704-2266-a07c-796b-36d7-3f66-d5d8-3ce5-3fa9-50b5",
       "next": "020efa7c-2928-11e9-99c7-02420aff0008-26-f352-f06c-ab1d-5611-4e80-0cf9-435f-c6ed-3eb8-c221",
       "previous": "020ef95a-2928-11e9-99c7-02420aff0008-26-56d7-e231-daaf-7ab9-c96f-7df1-d547-0eb5-72c5-f219"
      }
     ],
     "next": "020efa7c-2928-11e9-99c7-02420aff0008-27-f06c-ab1d-5611-4e80-0cf9-435f-c6ed-3eb8-c221-8e5d",
     "previous": "020ef95a-2928-11e9-99c7-02420aff0008-27-e231-daaf-7ab9-c96f-7df1-d547-0eb5-72c5-f219-cf04"
    }
   },
   "outputs": [],
   "source": [
    "!ansible -b -a 'docker exec -i {auth_proxy_container_id} find /var/www/simplesamlphp/metadata/' \\\n",
    "    {auth_proxy_node_ip[0]}"
   ]
  },
  {
   "cell_type": "code",
   "execution_count": null,
   "id": "00b7e3f1",
   "metadata": {
    "lc_cell_meme": {
     "current": "020efa7c-2928-11e9-99c7-02420aff0008-27-f06c-ab1d-5611-4e80-0cf9-435f-c6ed-3eb8-c221-8e5d",
     "history": [
      {
       "current": "020efa7c-2928-11e9-99c7-02420aff0008-18-64c4-67d6-3162-48fb-10ef-31da-6388-5600-f352-f06c",
       "next": "90825776-5943-11ea-bd55-0242ac120002-15-6ffb-16f0-84a3-b558-d60b-652b-864d-de6b-d864-850b",
       "previous": "020ef9f0-2928-11e9-99c7-02420aff0008-17-24a2-9a60-5490-7ff2-af7c-00ee-2629-9ede-2316-838e"
      },
      {
       "current": "020efa7c-2928-11e9-99c7-02420aff0008-19-67d6-3162-48fb-10ef-31da-6388-5600-f352-f06c-ab1d",
       "next": "90825776-5943-11ea-bd55-0242ac120002-16-16f0-84a3-b558-d60b-652b-864d-de6b-d864-850b-6bf0",
       "previous": "020ef9f0-2928-11e9-99c7-02420aff0008-18-9a60-5490-7ff2-af7c-00ee-2629-9ede-2316-838e-9704"
      },
      {
       "current": "020efa7c-2928-11e9-99c7-02420aff0008-20-3162-48fb-10ef-31da-6388-5600-f352-f06c-ab1d-5611",
       "next": "90825776-5943-11ea-bd55-0242ac120002-17-84a3-b558-d60b-652b-864d-de6b-d864-850b-6bf0-f10f",
       "previous": "020ef9f0-2928-11e9-99c7-02420aff0008-19-5490-7ff2-af7c-00ee-2629-9ede-2316-838e-9704-2266"
      },
      {
       "current": "020efa7c-2928-11e9-99c7-02420aff0008-21-48fb-10ef-31da-6388-5600-f352-f06c-ab1d-5611-4e80",
       "next": "90825776-5943-11ea-bd55-0242ac120002-18-b558-d60b-652b-864d-de6b-d864-850b-6bf0-f10f-553a",
       "previous": "020ef9f0-2928-11e9-99c7-02420aff0008-20-7ff2-af7c-00ee-2629-9ede-2316-838e-9704-2266-a07c"
      },
      {
       "current": "020efa7c-2928-11e9-99c7-02420aff0008-22-10ef-31da-6388-5600-f352-f06c-ab1d-5611-4e80-0cf9",
       "next": "90825776-5943-11ea-bd55-0242ac120002-19-d60b-652b-864d-de6b-d864-850b-6bf0-f10f-553a-38da",
       "previous": "020ef9f0-2928-11e9-99c7-02420aff0008-21-af7c-00ee-2629-9ede-2316-838e-9704-2266-a07c-796b"
      },
      {
       "current": "020efa7c-2928-11e9-99c7-02420aff0008-23-31da-6388-5600-f352-f06c-ab1d-5611-4e80-0cf9-435f",
       "next": "90825776-5943-11ea-bd55-0242ac120002-20-652b-864d-de6b-d864-850b-6bf0-f10f-553a-38da-9376",
       "previous": "020ef9f0-2928-11e9-99c7-02420aff0008-22-00ee-2629-9ede-2316-838e-9704-2266-a07c-796b-36d7"
      },
      {
       "current": "020efa7c-2928-11e9-99c7-02420aff0008-24-6388-5600-f352-f06c-ab1d-5611-4e80-0cf9-435f-c6ed",
       "next": "90825776-5943-11ea-bd55-0242ac120002-21-864d-de6b-d864-850b-6bf0-f10f-553a-38da-9376-011c",
       "previous": "020ef9f0-2928-11e9-99c7-02420aff0008-23-2629-9ede-2316-838e-9704-2266-a07c-796b-36d7-3f66"
      },
      {
       "current": "020efa7c-2928-11e9-99c7-02420aff0008-25-5600-f352-f06c-ab1d-5611-4e80-0cf9-435f-c6ed-3eb8",
       "next": "90825776-5943-11ea-bd55-0242ac120002-22-de6b-d864-850b-6bf0-f10f-553a-38da-9376-011c-deee",
       "previous": "020ef9f0-2928-11e9-99c7-02420aff0008-24-9ede-2316-838e-9704-2266-a07c-796b-36d7-3f66-d5d8"
      },
      {
       "current": "020efa7c-2928-11e9-99c7-02420aff0008-26-f352-f06c-ab1d-5611-4e80-0cf9-435f-c6ed-3eb8-c221",
       "next": "90825776-5943-11ea-bd55-0242ac120002-23-d864-850b-6bf0-f10f-553a-38da-9376-011c-deee-af53",
       "previous": "020ef9f0-2928-11e9-99c7-02420aff0008-25-2316-838e-9704-2266-a07c-796b-36d7-3f66-d5d8-3ce5"
      },
      {
       "current": "020efa7c-2928-11e9-99c7-02420aff0008-27-f06c-ab1d-5611-4e80-0cf9-435f-c6ed-3eb8-c221-8e5d",
       "next": "90825776-5943-11ea-bd55-0242ac120002-24-850b-6bf0-f10f-553a-38da-9376-011c-deee-af53-33ee",
       "previous": "020ef9f0-2928-11e9-99c7-02420aff0008-26-838e-9704-2266-a07c-796b-36d7-3f66-d5d8-3ce5-3fa9"
      }
     ],
     "next": "90825776-5943-11ea-bd55-0242ac120002-25-6bf0-f10f-553a-38da-9376-011c-deee-af53-33ee-4ffb",
     "previous": "020ef9f0-2928-11e9-99c7-02420aff0008-27-9704-2266-a07c-796b-36d7-3f66-d5d8-3ce5-3fa9-50b5"
    },
    "scrolled": true
   },
   "outputs": [],
   "source": [
    "!ansible -b -a 'docker exec -i {auth_proxy_container_id} cat /var/www/simplesamlphp/log/simplesamlphp.log' \\\n",
    "    {auth_proxy_node_ip[0]}"
   ]
  },
  {
   "cell_type": "markdown",
   "id": "06acb2da",
   "metadata": {
    "lc_cell_meme": {
     "current": "90825776-5943-11ea-bd55-0242ac120002-25-6bf0-f10f-553a-38da-9376-011c-deee-af53-33ee-4ffb",
     "history": [
      {
       "current": "90825776-5943-11ea-bd55-0242ac120002-16-16f0-84a3-b558-d60b-652b-864d-de6b-d864-850b-6bf0",
       "next": "607fcc38-292f-11e9-99c7-02420aff0008-17-2bf6-339e-2c82-a90f-6b14-06c3-6faa-bc02-9f4c-9f1d",
       "previous": "020efa7c-2928-11e9-99c7-02420aff0008-17-15f8-64c4-67d6-3162-48fb-10ef-31da-6388-5600-f352"
      },
      {
       "current": "90825776-5943-11ea-bd55-0242ac120002-17-84a3-b558-d60b-652b-864d-de6b-d864-850b-6bf0-f10f",
       "next": "607fcc38-292f-11e9-99c7-02420aff0008-18-339e-2c82-a90f-6b14-06c3-6faa-bc02-9f4c-9f1d-44c2",
       "previous": "020efa7c-2928-11e9-99c7-02420aff0008-18-64c4-67d6-3162-48fb-10ef-31da-6388-5600-f352-f06c"
      },
      {
       "current": "90825776-5943-11ea-bd55-0242ac120002-18-b558-d60b-652b-864d-de6b-d864-850b-6bf0-f10f-553a",
       "next": "607fcc38-292f-11e9-99c7-02420aff0008-19-2c82-a90f-6b14-06c3-6faa-bc02-9f4c-9f1d-44c2-ca27",
       "previous": "020efa7c-2928-11e9-99c7-02420aff0008-19-67d6-3162-48fb-10ef-31da-6388-5600-f352-f06c-ab1d"
      },
      {
       "current": "90825776-5943-11ea-bd55-0242ac120002-19-d60b-652b-864d-de6b-d864-850b-6bf0-f10f-553a-38da",
       "next": "607fcc38-292f-11e9-99c7-02420aff0008-20-a90f-6b14-06c3-6faa-bc02-9f4c-9f1d-44c2-ca27-cc5c",
       "previous": "020efa7c-2928-11e9-99c7-02420aff0008-20-3162-48fb-10ef-31da-6388-5600-f352-f06c-ab1d-5611"
      },
      {
       "current": "90825776-5943-11ea-bd55-0242ac120002-20-652b-864d-de6b-d864-850b-6bf0-f10f-553a-38da-9376",
       "next": "607fcc38-292f-11e9-99c7-02420aff0008-21-6b14-06c3-6faa-bc02-9f4c-9f1d-44c2-ca27-cc5c-8ed5",
       "previous": "020efa7c-2928-11e9-99c7-02420aff0008-21-48fb-10ef-31da-6388-5600-f352-f06c-ab1d-5611-4e80"
      },
      {
       "current": "90825776-5943-11ea-bd55-0242ac120002-21-864d-de6b-d864-850b-6bf0-f10f-553a-38da-9376-011c",
       "next": "607fcc38-292f-11e9-99c7-02420aff0008-22-06c3-6faa-bc02-9f4c-9f1d-44c2-ca27-cc5c-8ed5-06c3",
       "previous": "020efa7c-2928-11e9-99c7-02420aff0008-22-10ef-31da-6388-5600-f352-f06c-ab1d-5611-4e80-0cf9"
      },
      {
       "current": "90825776-5943-11ea-bd55-0242ac120002-22-de6b-d864-850b-6bf0-f10f-553a-38da-9376-011c-deee",
       "next": "607fcc38-292f-11e9-99c7-02420aff0008-23-6faa-bc02-9f4c-9f1d-44c2-ca27-cc5c-8ed5-06c3-14ce",
       "previous": "020efa7c-2928-11e9-99c7-02420aff0008-23-31da-6388-5600-f352-f06c-ab1d-5611-4e80-0cf9-435f"
      },
      {
       "current": "90825776-5943-11ea-bd55-0242ac120002-23-d864-850b-6bf0-f10f-553a-38da-9376-011c-deee-af53",
       "next": "607fcc38-292f-11e9-99c7-02420aff0008-24-bc02-9f4c-9f1d-44c2-ca27-cc5c-8ed5-06c3-14ce-2602",
       "previous": "020efa7c-2928-11e9-99c7-02420aff0008-24-6388-5600-f352-f06c-ab1d-5611-4e80-0cf9-435f-c6ed"
      },
      {
       "current": "90825776-5943-11ea-bd55-0242ac120002-24-850b-6bf0-f10f-553a-38da-9376-011c-deee-af53-33ee",
       "next": "607fcc38-292f-11e9-99c7-02420aff0008-25-9f4c-9f1d-44c2-ca27-cc5c-8ed5-06c3-14ce-2602-4e8c",
       "previous": "020efa7c-2928-11e9-99c7-02420aff0008-25-5600-f352-f06c-ab1d-5611-4e80-0cf9-435f-c6ed-3eb8"
      },
      {
       "current": "90825776-5943-11ea-bd55-0242ac120002-25-6bf0-f10f-553a-38da-9376-011c-deee-af53-33ee-4ffb",
       "next": "607fcc38-292f-11e9-99c7-02420aff0008-26-9f1d-44c2-ca27-cc5c-8ed5-06c3-14ce-2602-4e8c-ba29",
       "previous": "020efa7c-2928-11e9-99c7-02420aff0008-26-f352-f06c-ab1d-5611-4e80-0cf9-435f-c6ed-3eb8-c221"
      }
     ],
     "next": "607fcc38-292f-11e9-99c7-02420aff0008-27-44c2-ca27-cc5c-8ed5-06c3-14ce-2602-4e8c-ba29-1306",
     "previous": "020efa7c-2928-11e9-99c7-02420aff0008-27-f06c-ab1d-5611-4e80-0cf9-435f-c6ed-3eb8-c221-8e5d"
    }
   },
   "source": [
    "idp-proxyを利用する場合は、そのメタデータが必要\n",
    "\n",
    "idp-proxyを使用しない場合は、空で問題無い。"
   ]
  },
  {
   "cell_type": "code",
   "execution_count": null,
   "id": "191bca41",
   "metadata": {
    "lc_cell_meme": {
     "current": "607fcc38-292f-11e9-99c7-02420aff0008-27-44c2-ca27-cc5c-8ed5-06c3-14ce-2602-4e8c-ba29-1306",
     "history": [
      {
       "current": "607fcc38-292f-11e9-99c7-02420aff0008-18-339e-2c82-a90f-6b14-06c3-6faa-bc02-9f4c-9f1d-44c2",
       "next": "cc40e03c-aafd-11ea-abc9-0242ac130004-12-d3b1-4745-c395-b5d7-2f0b-850d-dcc0-57e8-b3a2-aaee",
       "previous": "90825776-5943-11ea-bd55-0242ac120002-15-6ffb-16f0-84a3-b558-d60b-652b-864d-de6b-d864-850b"
      },
      {
       "current": "607fcc38-292f-11e9-99c7-02420aff0008-19-2c82-a90f-6b14-06c3-6faa-bc02-9f4c-9f1d-44c2-ca27",
       "next": "cc40e03c-aafd-11ea-abc9-0242ac130004-13-4745-c395-b5d7-2f0b-850d-dcc0-57e8-b3a2-aaee-1802",
       "previous": "90825776-5943-11ea-bd55-0242ac120002-16-16f0-84a3-b558-d60b-652b-864d-de6b-d864-850b-6bf0"
      },
      {
       "current": "607fcc38-292f-11e9-99c7-02420aff0008-20-a90f-6b14-06c3-6faa-bc02-9f4c-9f1d-44c2-ca27-cc5c",
       "next": "cc40e03c-aafd-11ea-abc9-0242ac130004-14-c395-b5d7-2f0b-850d-dcc0-57e8-b3a2-aaee-1802-6bbb",
       "previous": "90825776-5943-11ea-bd55-0242ac120002-17-84a3-b558-d60b-652b-864d-de6b-d864-850b-6bf0-f10f"
      },
      {
       "current": "607fcc38-292f-11e9-99c7-02420aff0008-21-6b14-06c3-6faa-bc02-9f4c-9f1d-44c2-ca27-cc5c-8ed5",
       "next": "cc40e03c-aafd-11ea-abc9-0242ac130004-15-b5d7-2f0b-850d-dcc0-57e8-b3a2-aaee-1802-6bbb-bb84",
       "previous": "90825776-5943-11ea-bd55-0242ac120002-18-b558-d60b-652b-864d-de6b-d864-850b-6bf0-f10f-553a"
      },
      {
       "current": "607fcc38-292f-11e9-99c7-02420aff0008-22-06c3-6faa-bc02-9f4c-9f1d-44c2-ca27-cc5c-8ed5-06c3",
       "next": "cc40e03c-aafd-11ea-abc9-0242ac130004-16-2f0b-850d-dcc0-57e8-b3a2-aaee-1802-6bbb-bb84-5f0f",
       "previous": "90825776-5943-11ea-bd55-0242ac120002-19-d60b-652b-864d-de6b-d864-850b-6bf0-f10f-553a-38da"
      },
      {
       "current": "607fcc38-292f-11e9-99c7-02420aff0008-23-6faa-bc02-9f4c-9f1d-44c2-ca27-cc5c-8ed5-06c3-14ce",
       "next": "cc40e03c-aafd-11ea-abc9-0242ac130004-17-850d-dcc0-57e8-b3a2-aaee-1802-6bbb-bb84-5f0f-a93d",
       "previous": "90825776-5943-11ea-bd55-0242ac120002-20-652b-864d-de6b-d864-850b-6bf0-f10f-553a-38da-9376"
      },
      {
       "current": "607fcc38-292f-11e9-99c7-02420aff0008-24-bc02-9f4c-9f1d-44c2-ca27-cc5c-8ed5-06c3-14ce-2602",
       "next": "cc40e03c-aafd-11ea-abc9-0242ac130004-18-dcc0-57e8-b3a2-aaee-1802-6bbb-bb84-5f0f-a93d-e61d",
       "previous": "90825776-5943-11ea-bd55-0242ac120002-21-864d-de6b-d864-850b-6bf0-f10f-553a-38da-9376-011c"
      },
      {
       "current": "607fcc38-292f-11e9-99c7-02420aff0008-25-9f4c-9f1d-44c2-ca27-cc5c-8ed5-06c3-14ce-2602-4e8c",
       "next": "cc40e03c-aafd-11ea-abc9-0242ac130004-19-57e8-b3a2-aaee-1802-6bbb-bb84-5f0f-a93d-e61d-d429",
       "previous": "90825776-5943-11ea-bd55-0242ac120002-22-de6b-d864-850b-6bf0-f10f-553a-38da-9376-011c-deee"
      },
      {
       "current": "607fcc38-292f-11e9-99c7-02420aff0008-26-9f1d-44c2-ca27-cc5c-8ed5-06c3-14ce-2602-4e8c-ba29",
       "next": "cc40e03c-aafd-11ea-abc9-0242ac130004-20-b3a2-aaee-1802-6bbb-bb84-5f0f-a93d-e61d-d429-1818",
       "previous": "90825776-5943-11ea-bd55-0242ac120002-23-d864-850b-6bf0-f10f-553a-38da-9376-011c-deee-af53"
      },
      {
       "current": "607fcc38-292f-11e9-99c7-02420aff0008-27-44c2-ca27-cc5c-8ed5-06c3-14ce-2602-4e8c-ba29-1306",
       "next": "cc40e03c-aafd-11ea-abc9-0242ac130004-21-aaee-1802-6bbb-bb84-5f0f-a93d-e61d-d429-1818-580e",
       "previous": "90825776-5943-11ea-bd55-0242ac120002-24-850b-6bf0-f10f-553a-38da-9376-011c-deee-af53-33ee"
      }
     ],
     "next": "cc40e03c-aafd-11ea-abc9-0242ac130004-22-1802-6bbb-bb84-5f0f-a93d-e61d-d429-1818-580e-f9d9",
     "previous": "90825776-5943-11ea-bd55-0242ac120002-25-6bf0-f10f-553a-38da-9376-011c-deee-af53-33ee-4ffb"
    }
   },
   "outputs": [],
   "source": [
    "!ansible -b -a 'docker exec -i {auth_proxy_container_id} ls -l /var/www/simplesamlphp/metadata/idp-proxy' \\\n",
    "    {auth_proxy_node_ip[0]}"
   ]
  },
  {
   "cell_type": "markdown",
   "id": "94243bf3",
   "metadata": {
    "lc_cell_meme": {
     "current": "cc40e03c-aafd-11ea-abc9-0242ac130004-22-1802-6bbb-bb84-5f0f-a93d-e61d-d429-1818-580e-f9d9",
     "history": [
      {
       "current": "cc40e03c-aafd-11ea-abc9-0242ac130004-13-4745-c395-b5d7-2f0b-850d-dcc0-57e8-b3a2-aaee-1802",
       "next": "cc40ebcc-aafd-11ea-abc9-0242ac130004-12-3997-432b-b5b6-553d-fd3c-79a7-6627-677f-078b-9261",
       "previous": "607fcc38-292f-11e9-99c7-02420aff0008-17-2bf6-339e-2c82-a90f-6b14-06c3-6faa-bc02-9f4c-9f1d"
      },
      {
       "current": "cc40e03c-aafd-11ea-abc9-0242ac130004-14-c395-b5d7-2f0b-850d-dcc0-57e8-b3a2-aaee-1802-6bbb",
       "next": "cc40ebcc-aafd-11ea-abc9-0242ac130004-13-432b-b5b6-553d-fd3c-79a7-6627-677f-078b-9261-b1ac",
       "previous": "607fcc38-292f-11e9-99c7-02420aff0008-18-339e-2c82-a90f-6b14-06c3-6faa-bc02-9f4c-9f1d-44c2"
      },
      {
       "current": "cc40e03c-aafd-11ea-abc9-0242ac130004-15-b5d7-2f0b-850d-dcc0-57e8-b3a2-aaee-1802-6bbb-bb84",
       "next": "cc40ebcc-aafd-11ea-abc9-0242ac130004-14-b5b6-553d-fd3c-79a7-6627-677f-078b-9261-b1ac-78e2",
       "previous": "607fcc38-292f-11e9-99c7-02420aff0008-19-2c82-a90f-6b14-06c3-6faa-bc02-9f4c-9f1d-44c2-ca27"
      },
      {
       "current": "cc40e03c-aafd-11ea-abc9-0242ac130004-16-2f0b-850d-dcc0-57e8-b3a2-aaee-1802-6bbb-bb84-5f0f",
       "next": "cc40ebcc-aafd-11ea-abc9-0242ac130004-15-553d-fd3c-79a7-6627-677f-078b-9261-b1ac-78e2-ff7a",
       "previous": "607fcc38-292f-11e9-99c7-02420aff0008-20-a90f-6b14-06c3-6faa-bc02-9f4c-9f1d-44c2-ca27-cc5c"
      },
      {
       "current": "cc40e03c-aafd-11ea-abc9-0242ac130004-17-850d-dcc0-57e8-b3a2-aaee-1802-6bbb-bb84-5f0f-a93d",
       "next": "cc40ebcc-aafd-11ea-abc9-0242ac130004-16-fd3c-79a7-6627-677f-078b-9261-b1ac-78e2-ff7a-afa0",
       "previous": "607fcc38-292f-11e9-99c7-02420aff0008-21-6b14-06c3-6faa-bc02-9f4c-9f1d-44c2-ca27-cc5c-8ed5"
      },
      {
       "current": "cc40e03c-aafd-11ea-abc9-0242ac130004-18-dcc0-57e8-b3a2-aaee-1802-6bbb-bb84-5f0f-a93d-e61d",
       "next": "cc40ebcc-aafd-11ea-abc9-0242ac130004-17-79a7-6627-677f-078b-9261-b1ac-78e2-ff7a-afa0-597c",
       "previous": "607fcc38-292f-11e9-99c7-02420aff0008-22-06c3-6faa-bc02-9f4c-9f1d-44c2-ca27-cc5c-8ed5-06c3"
      },
      {
       "current": "cc40e03c-aafd-11ea-abc9-0242ac130004-19-57e8-b3a2-aaee-1802-6bbb-bb84-5f0f-a93d-e61d-d429",
       "next": "cc40ebcc-aafd-11ea-abc9-0242ac130004-18-6627-677f-078b-9261-b1ac-78e2-ff7a-afa0-597c-03e9",
       "previous": "607fcc38-292f-11e9-99c7-02420aff0008-23-6faa-bc02-9f4c-9f1d-44c2-ca27-cc5c-8ed5-06c3-14ce"
      },
      {
       "current": "cc40e03c-aafd-11ea-abc9-0242ac130004-20-b3a2-aaee-1802-6bbb-bb84-5f0f-a93d-e61d-d429-1818",
       "next": "cc40ebcc-aafd-11ea-abc9-0242ac130004-19-677f-078b-9261-b1ac-78e2-ff7a-afa0-597c-03e9-7d57",
       "previous": "607fcc38-292f-11e9-99c7-02420aff0008-24-bc02-9f4c-9f1d-44c2-ca27-cc5c-8ed5-06c3-14ce-2602"
      },
      {
       "current": "cc40e03c-aafd-11ea-abc9-0242ac130004-21-aaee-1802-6bbb-bb84-5f0f-a93d-e61d-d429-1818-580e",
       "next": "cc40ebcc-aafd-11ea-abc9-0242ac130004-20-078b-9261-b1ac-78e2-ff7a-afa0-597c-03e9-7d57-5b50",
       "previous": "607fcc38-292f-11e9-99c7-02420aff0008-25-9f4c-9f1d-44c2-ca27-cc5c-8ed5-06c3-14ce-2602-4e8c"
      },
      {
       "current": "cc40e03c-aafd-11ea-abc9-0242ac130004-22-1802-6bbb-bb84-5f0f-a93d-e61d-d429-1818-580e-f9d9",
       "next": "cc40ebcc-aafd-11ea-abc9-0242ac130004-21-9261-b1ac-78e2-ff7a-afa0-597c-03e9-7d57-5b50-5b36",
       "previous": "607fcc38-292f-11e9-99c7-02420aff0008-26-9f1d-44c2-ca27-cc5c-8ed5-06c3-14ce-2602-4e8c-ba29"
      }
     ],
     "next": "cc40ebcc-aafd-11ea-abc9-0242ac130004-22-b1ac-78e2-ff7a-afa0-597c-03e9-7d57-5b50-5b36-05e0",
     "previous": "607fcc38-292f-11e9-99c7-02420aff0008-27-44c2-ca27-cc5c-8ed5-06c3-14ce-2602-4e8c-ba29-1306"
    }
   },
   "source": [
    "フェデレーションに直接参加するSPの場合、フェデレーションメタデータが必要。それ以外ではエラーでも問題ない。"
   ]
  },
  {
   "cell_type": "code",
   "execution_count": null,
   "id": "88a55f20",
   "metadata": {
    "lc_cell_meme": {
     "current": "cc40ebcc-aafd-11ea-abc9-0242ac130004-22-b1ac-78e2-ff7a-afa0-597c-03e9-7d57-5b50-5b36-05e0",
     "history": [
      {
       "current": "cc40ebcc-aafd-11ea-abc9-0242ac130004-13-432b-b5b6-553d-fd3c-79a7-6627-677f-078b-9261-b1ac",
       "next": "9847f60c-2049-11e9-99c7-02420aff0008-17-b919-fbc1-2bd1-9ed4-fa88-38c3-f2ad-309a-f460-e5a8",
       "previous": "cc40e03c-aafd-11ea-abc9-0242ac130004-12-d3b1-4745-c395-b5d7-2f0b-850d-dcc0-57e8-b3a2-aaee"
      },
      {
       "current": "cc40ebcc-aafd-11ea-abc9-0242ac130004-14-b5b6-553d-fd3c-79a7-6627-677f-078b-9261-b1ac-78e2",
       "next": "9847f60c-2049-11e9-99c7-02420aff0008-18-fbc1-2bd1-9ed4-fa88-38c3-f2ad-309a-f460-e5a8-10aa",
       "previous": "cc40e03c-aafd-11ea-abc9-0242ac130004-13-4745-c395-b5d7-2f0b-850d-dcc0-57e8-b3a2-aaee-1802"
      },
      {
       "current": "cc40ebcc-aafd-11ea-abc9-0242ac130004-15-553d-fd3c-79a7-6627-677f-078b-9261-b1ac-78e2-ff7a",
       "next": "9847f60c-2049-11e9-99c7-02420aff0008-19-2bd1-9ed4-fa88-38c3-f2ad-309a-f460-e5a8-10aa-8f41",
       "previous": "cc40e03c-aafd-11ea-abc9-0242ac130004-14-c395-b5d7-2f0b-850d-dcc0-57e8-b3a2-aaee-1802-6bbb"
      },
      {
       "current": "cc40ebcc-aafd-11ea-abc9-0242ac130004-16-fd3c-79a7-6627-677f-078b-9261-b1ac-78e2-ff7a-afa0",
       "next": "9847f60c-2049-11e9-99c7-02420aff0008-20-9ed4-fa88-38c3-f2ad-309a-f460-e5a8-10aa-8f41-f208",
       "previous": "cc40e03c-aafd-11ea-abc9-0242ac130004-15-b5d7-2f0b-850d-dcc0-57e8-b3a2-aaee-1802-6bbb-bb84"
      },
      {
       "current": "cc40ebcc-aafd-11ea-abc9-0242ac130004-17-79a7-6627-677f-078b-9261-b1ac-78e2-ff7a-afa0-597c",
       "next": "9847f60c-2049-11e9-99c7-02420aff0008-21-fa88-38c3-f2ad-309a-f460-e5a8-10aa-8f41-f208-1945",
       "previous": "cc40e03c-aafd-11ea-abc9-0242ac130004-16-2f0b-850d-dcc0-57e8-b3a2-aaee-1802-6bbb-bb84-5f0f"
      },
      {
       "current": "cc40ebcc-aafd-11ea-abc9-0242ac130004-18-6627-677f-078b-9261-b1ac-78e2-ff7a-afa0-597c-03e9",
       "next": "9847f60c-2049-11e9-99c7-02420aff0008-22-38c3-f2ad-309a-f460-e5a8-10aa-8f41-f208-1945-449c",
       "previous": "cc40e03c-aafd-11ea-abc9-0242ac130004-17-850d-dcc0-57e8-b3a2-aaee-1802-6bbb-bb84-5f0f-a93d"
      },
      {
       "current": "cc40ebcc-aafd-11ea-abc9-0242ac130004-19-677f-078b-9261-b1ac-78e2-ff7a-afa0-597c-03e9-7d57",
       "next": "9847f60c-2049-11e9-99c7-02420aff0008-23-f2ad-309a-f460-e5a8-10aa-8f41-f208-1945-449c-dbf3",
       "previous": "cc40e03c-aafd-11ea-abc9-0242ac130004-18-dcc0-57e8-b3a2-aaee-1802-6bbb-bb84-5f0f-a93d-e61d"
      },
      {
       "current": "cc40ebcc-aafd-11ea-abc9-0242ac130004-20-078b-9261-b1ac-78e2-ff7a-afa0-597c-03e9-7d57-5b50",
       "next": "9847f60c-2049-11e9-99c7-02420aff0008-24-309a-f460-e5a8-10aa-8f41-f208-1945-449c-dbf3-3b57",
       "previous": "cc40e03c-aafd-11ea-abc9-0242ac130004-19-57e8-b3a2-aaee-1802-6bbb-bb84-5f0f-a93d-e61d-d429"
      },
      {
       "current": "cc40ebcc-aafd-11ea-abc9-0242ac130004-21-9261-b1ac-78e2-ff7a-afa0-597c-03e9-7d57-5b50-5b36",
       "next": "9847f60c-2049-11e9-99c7-02420aff0008-25-f460-e5a8-10aa-8f41-f208-1945-449c-dbf3-3b57-f085",
       "previous": "cc40e03c-aafd-11ea-abc9-0242ac130004-20-b3a2-aaee-1802-6bbb-bb84-5f0f-a93d-e61d-d429-1818"
      },
      {
       "current": "cc40ebcc-aafd-11ea-abc9-0242ac130004-22-b1ac-78e2-ff7a-afa0-597c-03e9-7d57-5b50-5b36-05e0",
       "next": "9847f60c-2049-11e9-99c7-02420aff0008-26-e5a8-10aa-8f41-f208-1945-449c-dbf3-3b57-f085-1211",
       "previous": "cc40e03c-aafd-11ea-abc9-0242ac130004-21-aaee-1802-6bbb-bb84-5f0f-a93d-e61d-d429-1818-580e"
      }
     ],
     "next": "9847f60c-2049-11e9-99c7-02420aff0008-27-10aa-8f41-f208-1945-449c-dbf3-3b57-f085-1211-0e99",
     "previous": "cc40e03c-aafd-11ea-abc9-0242ac130004-22-1802-6bbb-bb84-5f0f-a93d-e61d-d429-1818-580e-f9d9"
    }
   },
   "outputs": [],
   "source": [
    "!ansible -b -a 'docker exec -i {auth_proxy_container_id} ls -l /var/www/simplesamlphp/metadata/gakunin-metadata' \\\n",
    "    {auth_proxy_node_ip[0]} ;:"
   ]
  },
  {
   "cell_type": "markdown",
   "id": "70d62400",
   "metadata": {
    "lc_cell_meme": {
     "current": "9847f60c-2049-11e9-99c7-02420aff0008-27-10aa-8f41-f208-1945-449c-dbf3-3b57-f085-1211-0e99",
     "history": [
      {
       "current": "9847f60c-2049-11e9-99c7-02420aff0008-18-fbc1-2bd1-9ed4-fa88-38c3-f2ad-309a-f460-e5a8-10aa",
       "next": "9847f68e-2049-11e9-99c7-02420aff0008-18-670a-5e38-2dff-5497-8fd5-a8ad-c09a-0741-e8d1-04f4",
       "previous": "cc40ebcc-aafd-11ea-abc9-0242ac130004-13-432b-b5b6-553d-fd3c-79a7-6627-677f-078b-9261-b1ac"
      },
      {
       "current": "9847f60c-2049-11e9-99c7-02420aff0008-19-2bd1-9ed4-fa88-38c3-f2ad-309a-f460-e5a8-10aa-8f41",
       "next": "0e19b512-b23e-11e7-a38f-0242ac120002-17-65d3-0fdb-97c4-3ff5-5217-ddc4-7f00-f950-7fe7-1bef",
       "previous": "cc40ebcc-aafd-11ea-abc9-0242ac130004-13-432b-b5b6-553d-fd3c-79a7-6627-677f-078b-9261-b1ac"
      },
      {
       "current": "9847f60c-2049-11e9-99c7-02420aff0008-20-9ed4-fa88-38c3-f2ad-309a-f460-e5a8-10aa-8f41-f208",
       "next": "0e19b512-b23e-11e7-a38f-0242ac120002-18-0fdb-97c4-3ff5-5217-ddc4-7f00-f950-7fe7-1bef-690c",
       "previous": "cc40ebcc-aafd-11ea-abc9-0242ac130004-14-b5b6-553d-fd3c-79a7-6627-677f-078b-9261-b1ac-78e2"
      },
      {
       "current": "9847f60c-2049-11e9-99c7-02420aff0008-21-fa88-38c3-f2ad-309a-f460-e5a8-10aa-8f41-f208-1945",
       "next": "0e19b512-b23e-11e7-a38f-0242ac120002-19-97c4-3ff5-5217-ddc4-7f00-f950-7fe7-1bef-690c-bee0",
       "previous": "cc40ebcc-aafd-11ea-abc9-0242ac130004-15-553d-fd3c-79a7-6627-677f-078b-9261-b1ac-78e2-ff7a"
      },
      {
       "current": "9847f60c-2049-11e9-99c7-02420aff0008-22-38c3-f2ad-309a-f460-e5a8-10aa-8f41-f208-1945-449c",
       "next": "0e19b512-b23e-11e7-a38f-0242ac120002-20-3ff5-5217-ddc4-7f00-f950-7fe7-1bef-690c-bee0-ea04",
       "previous": "cc40ebcc-aafd-11ea-abc9-0242ac130004-16-fd3c-79a7-6627-677f-078b-9261-b1ac-78e2-ff7a-afa0"
      },
      {
       "current": "9847f60c-2049-11e9-99c7-02420aff0008-23-f2ad-309a-f460-e5a8-10aa-8f41-f208-1945-449c-dbf3",
       "next": "0e19b512-b23e-11e7-a38f-0242ac120002-21-5217-ddc4-7f00-f950-7fe7-1bef-690c-bee0-ea04-e86c",
       "previous": "cc40ebcc-aafd-11ea-abc9-0242ac130004-17-79a7-6627-677f-078b-9261-b1ac-78e2-ff7a-afa0-597c"
      },
      {
       "current": "9847f60c-2049-11e9-99c7-02420aff0008-24-309a-f460-e5a8-10aa-8f41-f208-1945-449c-dbf3-3b57",
       "next": "0e19b512-b23e-11e7-a38f-0242ac120002-22-ddc4-7f00-f950-7fe7-1bef-690c-bee0-ea04-e86c-7dc3",
       "previous": "cc40ebcc-aafd-11ea-abc9-0242ac130004-18-6627-677f-078b-9261-b1ac-78e2-ff7a-afa0-597c-03e9"
      },
      {
       "current": "9847f60c-2049-11e9-99c7-02420aff0008-25-f460-e5a8-10aa-8f41-f208-1945-449c-dbf3-3b57-f085",
       "next": "0e19b512-b23e-11e7-a38f-0242ac120002-23-7f00-f950-7fe7-1bef-690c-bee0-ea04-e86c-7dc3-8b1a",
       "previous": "cc40ebcc-aafd-11ea-abc9-0242ac130004-19-677f-078b-9261-b1ac-78e2-ff7a-afa0-597c-03e9-7d57"
      },
      {
       "current": "9847f60c-2049-11e9-99c7-02420aff0008-26-e5a8-10aa-8f41-f208-1945-449c-dbf3-3b57-f085-1211",
       "next": "0e19b512-b23e-11e7-a38f-0242ac120002-24-f950-7fe7-1bef-690c-bee0-ea04-e86c-7dc3-8b1a-2c1e",
       "previous": "cc40ebcc-aafd-11ea-abc9-0242ac130004-20-078b-9261-b1ac-78e2-ff7a-afa0-597c-03e9-7d57-5b50"
      },
      {
       "current": "9847f60c-2049-11e9-99c7-02420aff0008-27-10aa-8f41-f208-1945-449c-dbf3-3b57-f085-1211-0e99",
       "next": "0e19b512-b23e-11e7-a38f-0242ac120002-25-7fe7-1bef-690c-bee0-ea04-e86c-7dc3-8b1a-2c1e-796c",
       "previous": "cc40ebcc-aafd-11ea-abc9-0242ac130004-21-9261-b1ac-78e2-ff7a-afa0-597c-03e9-7d57-5b50-5b36"
      }
     ],
     "next": "0e19b512-b23e-11e7-a38f-0242ac120002-26-1bef-690c-bee0-ea04-e86c-7dc3-8b1a-2c1e-796c-9675",
     "previous": "cc40ebcc-aafd-11ea-abc9-0242ac130004-22-b1ac-78e2-ff7a-afa0-597c-03e9-7d57-5b50-5b36-05e0"
    }
   },
   "source": [
    "必要なメタデータが無い場合は、手動でメタデータを更新する。以下のページにアクセスする。"
   ]
  },
  {
   "cell_type": "code",
   "execution_count": null,
   "id": "514ddc1a",
   "metadata": {
    "lc_cell_meme": {
     "current": "0e19b512-b23e-11e7-a38f-0242ac120002-26-1bef-690c-bee0-ea04-e86c-7dc3-8b1a-2c1e-796c-9675",
     "history": [
      {
       "current": "0e19b512-b23e-11e7-a38f-0242ac120002-17-65d3-0fdb-97c4-3ff5-5217-ddc4-7f00-f950-7fe7-1bef",
       "next": "9847f68e-2049-11e9-99c7-02420aff0008-18-670a-5e38-2dff-5497-8fd5-a8ad-c09a-0741-e8d1-04f4",
       "previous": "9847f60c-2049-11e9-99c7-02420aff0008-18-fbc1-2bd1-9ed4-fa88-38c3-f2ad-309a-f460-e5a8-10aa"
      },
      {
       "current": "0e19b512-b23e-11e7-a38f-0242ac120002-18-0fdb-97c4-3ff5-5217-ddc4-7f00-f950-7fe7-1bef-690c",
       "next": "f23e705d-9546-11ec-9d26-6b42dc3e1973",
       "previous": "9847f60c-2049-11e9-99c7-02420aff0008-18-fbc1-2bd1-9ed4-fa88-38c3-f2ad-309a-f460-e5a8-10aa"
      },
      {
       "current": "0e19b512-b23e-11e7-a38f-0242ac120002-19-97c4-3ff5-5217-ddc4-7f00-f950-7fe7-1bef-690c-bee0",
       "next": "f23e705d-9546-11ec-9d26-6b42dc3e1973-1-903e",
       "previous": "9847f60c-2049-11e9-99c7-02420aff0008-19-2bd1-9ed4-fa88-38c3-f2ad-309a-f460-e5a8-10aa-8f41"
      },
      {
       "current": "0e19b512-b23e-11e7-a38f-0242ac120002-20-3ff5-5217-ddc4-7f00-f950-7fe7-1bef-690c-bee0-ea04",
       "next": "f23e705d-9546-11ec-9d26-6b42dc3e1973-2-903e-8bfa",
       "previous": "9847f60c-2049-11e9-99c7-02420aff0008-20-9ed4-fa88-38c3-f2ad-309a-f460-e5a8-10aa-8f41-f208"
      },
      {
       "current": "0e19b512-b23e-11e7-a38f-0242ac120002-21-5217-ddc4-7f00-f950-7fe7-1bef-690c-bee0-ea04-e86c",
       "next": "f23e705d-9546-11ec-9d26-6b42dc3e1973-3-903e-8bfa-cc65",
       "previous": "9847f60c-2049-11e9-99c7-02420aff0008-21-fa88-38c3-f2ad-309a-f460-e5a8-10aa-8f41-f208-1945"
      },
      {
       "current": "0e19b512-b23e-11e7-a38f-0242ac120002-22-ddc4-7f00-f950-7fe7-1bef-690c-bee0-ea04-e86c-7dc3",
       "next": "f23e705d-9546-11ec-9d26-6b42dc3e1973-4-903e-8bfa-cc65-d7af",
       "previous": "9847f60c-2049-11e9-99c7-02420aff0008-22-38c3-f2ad-309a-f460-e5a8-10aa-8f41-f208-1945-449c"
      },
      {
       "current": "0e19b512-b23e-11e7-a38f-0242ac120002-23-7f00-f950-7fe7-1bef-690c-bee0-ea04-e86c-7dc3-8b1a",
       "next": "f23e705d-9546-11ec-9d26-6b42dc3e1973-5-903e-8bfa-cc65-d7af-620c",
       "previous": "9847f60c-2049-11e9-99c7-02420aff0008-23-f2ad-309a-f460-e5a8-10aa-8f41-f208-1945-449c-dbf3"
      },
      {
       "current": "0e19b512-b23e-11e7-a38f-0242ac120002-24-f950-7fe7-1bef-690c-bee0-ea04-e86c-7dc3-8b1a-2c1e",
       "next": "f23e705d-9546-11ec-9d26-6b42dc3e1973-6-903e-8bfa-cc65-d7af-620c-7ba4",
       "previous": "9847f60c-2049-11e9-99c7-02420aff0008-24-309a-f460-e5a8-10aa-8f41-f208-1945-449c-dbf3-3b57"
      },
      {
       "current": "0e19b512-b23e-11e7-a38f-0242ac120002-25-7fe7-1bef-690c-bee0-ea04-e86c-7dc3-8b1a-2c1e-796c",
       "next": "f23e705d-9546-11ec-9d26-6b42dc3e1973-7-903e-8bfa-cc65-d7af-620c-7ba4-4517",
       "previous": "9847f60c-2049-11e9-99c7-02420aff0008-25-f460-e5a8-10aa-8f41-f208-1945-449c-dbf3-3b57-f085"
      },
      {
       "current": "0e19b512-b23e-11e7-a38f-0242ac120002-26-1bef-690c-bee0-ea04-e86c-7dc3-8b1a-2c1e-796c-9675",
       "next": "f23e705d-9546-11ec-9d26-6b42dc3e1973-8-903e-8bfa-cc65-d7af-620c-7ba4-4517-390a",
       "previous": "9847f60c-2049-11e9-99c7-02420aff0008-26-e5a8-10aa-8f41-f208-1945-449c-dbf3-3b57-f085-1211"
      }
     ],
     "next": "f23e705d-9546-11ec-9d26-6b42dc3e1973-9-903e-8bfa-cc65-d7af-620c-7ba4-4517-390a-4a82",
     "previous": "9847f60c-2049-11e9-99c7-02420aff0008-27-10aa-8f41-f208-1945-449c-dbf3-3b57-f085-1211-0e99"
    }
   },
   "outputs": [],
   "source": [
    "import json\n",
    "\n",
    "msg_stdout = !ansible -m debug -a 'msg={{{{ master_fqdn }}}}' {target_hub} -l {target_group}\n",
    "master_fqdn = json.loads(''.join([msg_stdout[0].split()[-1]] + msg_stdout[1:]))['msg']\n",
    "master_fqdn"
   ]
  },
  {
   "cell_type": "code",
   "execution_count": null,
   "id": "ed99150c",
   "metadata": {
    "lc_cell_meme": {
     "current": "f23e705d-9546-11ec-9d26-6b42dc3e1973-9-903e-8bfa-cc65-d7af-620c-7ba4-4517-390a-4a82",
     "history": [
      {
       "current": "f23e705d-9546-11ec-9d26-6b42dc3e1973-1-903e",
       "next": "9847f68e-2049-11e9-99c7-02420aff0008-18-670a-5e38-2dff-5497-8fd5-a8ad-c09a-0741-e8d1-04f4",
       "previous": "0e19b512-b23e-11e7-a38f-0242ac120002-17-65d3-0fdb-97c4-3ff5-5217-ddc4-7f00-f950-7fe7-1bef"
      },
      {
       "current": "f23e705d-9546-11ec-9d26-6b42dc3e1973-2-903e-8bfa",
       "next": "9847f68e-2049-11e9-99c7-02420aff0008-19-5e38-2dff-5497-8fd5-a8ad-c09a-0741-e8d1-04f4-815c",
       "previous": "0e19b512-b23e-11e7-a38f-0242ac120002-18-0fdb-97c4-3ff5-5217-ddc4-7f00-f950-7fe7-1bef-690c"
      },
      {
       "current": "f23e705d-9546-11ec-9d26-6b42dc3e1973-3-903e-8bfa-cc65",
       "next": "9847f68e-2049-11e9-99c7-02420aff0008-20-2dff-5497-8fd5-a8ad-c09a-0741-e8d1-04f4-815c-9312",
       "previous": "0e19b512-b23e-11e7-a38f-0242ac120002-19-97c4-3ff5-5217-ddc4-7f00-f950-7fe7-1bef-690c-bee0"
      },
      {
       "current": "f23e705d-9546-11ec-9d26-6b42dc3e1973-4-903e-8bfa-cc65-d7af",
       "next": "9847f68e-2049-11e9-99c7-02420aff0008-21-5497-8fd5-a8ad-c09a-0741-e8d1-04f4-815c-9312-7713",
       "previous": "0e19b512-b23e-11e7-a38f-0242ac120002-20-3ff5-5217-ddc4-7f00-f950-7fe7-1bef-690c-bee0-ea04"
      },
      {
       "current": "f23e705d-9546-11ec-9d26-6b42dc3e1973-5-903e-8bfa-cc65-d7af-620c",
       "next": "9847f68e-2049-11e9-99c7-02420aff0008-22-8fd5-a8ad-c09a-0741-e8d1-04f4-815c-9312-7713-1e5b",
       "previous": "0e19b512-b23e-11e7-a38f-0242ac120002-21-5217-ddc4-7f00-f950-7fe7-1bef-690c-bee0-ea04-e86c"
      },
      {
       "current": "f23e705d-9546-11ec-9d26-6b42dc3e1973-6-903e-8bfa-cc65-d7af-620c-7ba4",
       "next": "9847f68e-2049-11e9-99c7-02420aff0008-23-a8ad-c09a-0741-e8d1-04f4-815c-9312-7713-1e5b-70ef",
       "previous": "0e19b512-b23e-11e7-a38f-0242ac120002-22-ddc4-7f00-f950-7fe7-1bef-690c-bee0-ea04-e86c-7dc3"
      },
      {
       "current": "f23e705d-9546-11ec-9d26-6b42dc3e1973-7-903e-8bfa-cc65-d7af-620c-7ba4-4517",
       "next": "9847f68e-2049-11e9-99c7-02420aff0008-24-c09a-0741-e8d1-04f4-815c-9312-7713-1e5b-70ef-9785",
       "previous": "0e19b512-b23e-11e7-a38f-0242ac120002-23-7f00-f950-7fe7-1bef-690c-bee0-ea04-e86c-7dc3-8b1a"
      },
      {
       "current": "f23e705d-9546-11ec-9d26-6b42dc3e1973-8-903e-8bfa-cc65-d7af-620c-7ba4-4517-390a",
       "next": "9847f68e-2049-11e9-99c7-02420aff0008-25-0741-e8d1-04f4-815c-9312-7713-1e5b-70ef-9785-c45b",
       "previous": "0e19b512-b23e-11e7-a38f-0242ac120002-24-f950-7fe7-1bef-690c-bee0-ea04-e86c-7dc3-8b1a-2c1e"
      },
      {
       "current": "f23e705d-9546-11ec-9d26-6b42dc3e1973-9-903e-8bfa-cc65-d7af-620c-7ba4-4517-390a-4a82",
       "next": "9847f68e-2049-11e9-99c7-02420aff0008-26-e8d1-04f4-815c-9312-7713-1e5b-70ef-9785-c45b-1e7f",
       "previous": "0e19b512-b23e-11e7-a38f-0242ac120002-25-7fe7-1bef-690c-bee0-ea04-e86c-7dc3-8b1a-2c1e-796c"
      }
     ],
     "next": "9847f68e-2049-11e9-99c7-02420aff0008-27-04f4-815c-9312-7713-1e5b-70ef-9785-c45b-1e7f-682a",
     "previous": "0e19b512-b23e-11e7-a38f-0242ac120002-26-1bef-690c-bee0-ea04-e86c-7dc3-8b1a-2c1e-796c-9675"
    }
   },
   "outputs": [],
   "source": [
    "import re\n",
    "msg_stdout = !ansible -b -a 'docker inspect {auth_proxy_container_id}' {auth_proxy_node_ip[0]}\n",
    "\n",
    "m = re.match(r'.*\\\"CRON_SECRET=([0-9a-f]+)\\\"', msg_stdout.grep('CRON_SECRET')[0])\n",
    "cron_secret = m.group(1)"
   ]
  },
  {
   "cell_type": "code",
   "execution_count": null,
   "id": "8cc84004",
   "metadata": {
    "lc_cell_meme": {
     "current": "9847f68e-2049-11e9-99c7-02420aff0008-27-04f4-815c-9312-7713-1e5b-70ef-9785-c45b-1e7f-682a",
     "history": [
      {
       "current": "9847f68e-2049-11e9-99c7-02420aff0008-18-670a-5e38-2dff-5497-8fd5-a8ad-c09a-0741-e8d1-04f4",
       "next": "be88d312-f28f-11ea-9bfc-02420a01001a-10-f04a-a742-66f4-d361-0dde-6405-307f-17dc-6df0-f0a7",
       "previous": "0e19b512-b23e-11e7-a38f-0242ac120002-17-65d3-0fdb-97c4-3ff5-5217-ddc4-7f00-f950-7fe7-1bef"
      },
      {
       "current": "9847f68e-2049-11e9-99c7-02420aff0008-19-5e38-2dff-5497-8fd5-a8ad-c09a-0741-e8d1-04f4-815c",
       "next": "be88d312-f28f-11ea-9bfc-02420a01001a-10-f04a-a742-66f4-d361-0dde-6405-307f-17dc-6df0-f0a7",
       "previous": "f23e705d-9546-11ec-9d26-6b42dc3e1973"
      },
      {
       "current": "9847f68e-2049-11e9-99c7-02420aff0008-20-2dff-5497-8fd5-a8ad-c09a-0741-e8d1-04f4-815c-9312",
       "next": "be88d312-f28f-11ea-9bfc-02420a01001a-11-a742-66f4-d361-0dde-6405-307f-17dc-6df0-f0a7-b285",
       "previous": "f23e705d-9546-11ec-9d26-6b42dc3e1973-1-903e"
      },
      {
       "current": "9847f68e-2049-11e9-99c7-02420aff0008-21-5497-8fd5-a8ad-c09a-0741-e8d1-04f4-815c-9312-7713",
       "next": "be88d312-f28f-11ea-9bfc-02420a01001a-12-66f4-d361-0dde-6405-307f-17dc-6df0-f0a7-b285-723d",
       "previous": "f23e705d-9546-11ec-9d26-6b42dc3e1973-2-903e-8bfa"
      },
      {
       "current": "9847f68e-2049-11e9-99c7-02420aff0008-22-8fd5-a8ad-c09a-0741-e8d1-04f4-815c-9312-7713-1e5b",
       "next": "be88d312-f28f-11ea-9bfc-02420a01001a-13-d361-0dde-6405-307f-17dc-6df0-f0a7-b285-723d-d9ff",
       "previous": "f23e705d-9546-11ec-9d26-6b42dc3e1973-3-903e-8bfa-cc65"
      },
      {
       "current": "9847f68e-2049-11e9-99c7-02420aff0008-23-a8ad-c09a-0741-e8d1-04f4-815c-9312-7713-1e5b-70ef",
       "next": "be88d312-f28f-11ea-9bfc-02420a01001a-14-0dde-6405-307f-17dc-6df0-f0a7-b285-723d-d9ff-cf36",
       "previous": "f23e705d-9546-11ec-9d26-6b42dc3e1973-4-903e-8bfa-cc65-d7af"
      },
      {
       "current": "9847f68e-2049-11e9-99c7-02420aff0008-24-c09a-0741-e8d1-04f4-815c-9312-7713-1e5b-70ef-9785",
       "next": "be88d312-f28f-11ea-9bfc-02420a01001a-15-6405-307f-17dc-6df0-f0a7-b285-723d-d9ff-cf36-db65",
       "previous": "f23e705d-9546-11ec-9d26-6b42dc3e1973-5-903e-8bfa-cc65-d7af-620c"
      },
      {
       "current": "9847f68e-2049-11e9-99c7-02420aff0008-25-0741-e8d1-04f4-815c-9312-7713-1e5b-70ef-9785-c45b",
       "next": "be88d312-f28f-11ea-9bfc-02420a01001a-16-307f-17dc-6df0-f0a7-b285-723d-d9ff-cf36-db65-40db",
       "previous": "f23e705d-9546-11ec-9d26-6b42dc3e1973-6-903e-8bfa-cc65-d7af-620c-7ba4"
      },
      {
       "current": "9847f68e-2049-11e9-99c7-02420aff0008-26-e8d1-04f4-815c-9312-7713-1e5b-70ef-9785-c45b-1e7f",
       "next": "be88d312-f28f-11ea-9bfc-02420a01001a-17-17dc-6df0-f0a7-b285-723d-d9ff-cf36-db65-40db-7134",
       "previous": "f23e705d-9546-11ec-9d26-6b42dc3e1973-7-903e-8bfa-cc65-d7af-620c-7ba4-4517"
      },
      {
       "current": "9847f68e-2049-11e9-99c7-02420aff0008-27-04f4-815c-9312-7713-1e5b-70ef-9785-c45b-1e7f-682a",
       "next": "be88d312-f28f-11ea-9bfc-02420a01001a-18-6df0-f0a7-b285-723d-d9ff-cf36-db65-40db-7134-01ac",
       "previous": "f23e705d-9546-11ec-9d26-6b42dc3e1973-8-903e-8bfa-cc65-d7af-620c-7ba4-4517-390a"
      }
     ],
     "next": "be88d312-f28f-11ea-9bfc-02420a01001a-19-f0a7-b285-723d-d9ff-cf36-db65-40db-7134-01ac-80a2",
     "previous": "f23e705d-9546-11ec-9d26-6b42dc3e1973-9-903e-8bfa-cc65-d7af-620c-7ba4-4517-390a-4a82"
    }
   },
   "outputs": [],
   "source": [
    "!echo \"https://{master_fqdn}/simplesaml/module.php/cron/run/daily/{cron_secret}/xhtml\""
   ]
  },
  {
   "cell_type": "markdown",
   "id": "1f199753",
   "metadata": {
    "lc_cell_meme": {
     "current": "be88d312-f28f-11ea-9bfc-02420a01001a-19-f0a7-b285-723d-d9ff-cf36-db65-40db-7134-01ac-80a2",
     "history": [
      {
       "current": "be88d312-f28f-11ea-9bfc-02420a01001a-10-f04a-a742-66f4-d361-0dde-6405-307f-17dc-6df0-f0a7",
       "next": "aab7a8ac-35d2-11e9-b9a2-02420aff0008-17-3335-e6f3-8143-62c5-ae47-ca0a-5f6f-64a0-6b94-e5b7",
       "previous": "9847f68e-2049-11e9-99c7-02420aff0008-17-ad38-670a-5e38-2dff-5497-8fd5-a8ad-c09a-0741-e8d1"
      },
      {
       "current": "be88d312-f28f-11ea-9bfc-02420a01001a-11-a742-66f4-d361-0dde-6405-307f-17dc-6df0-f0a7-b285",
       "next": "aab7a8ac-35d2-11e9-b9a2-02420aff0008-18-e6f3-8143-62c5-ae47-ca0a-5f6f-64a0-6b94-e5b7-5331",
       "previous": "9847f68e-2049-11e9-99c7-02420aff0008-18-670a-5e38-2dff-5497-8fd5-a8ad-c09a-0741-e8d1-04f4"
      },
      {
       "current": "be88d312-f28f-11ea-9bfc-02420a01001a-12-66f4-d361-0dde-6405-307f-17dc-6df0-f0a7-b285-723d",
       "next": "aab7a8ac-35d2-11e9-b9a2-02420aff0008-19-8143-62c5-ae47-ca0a-5f6f-64a0-6b94-e5b7-5331-8ba8",
       "previous": "9847f68e-2049-11e9-99c7-02420aff0008-19-5e38-2dff-5497-8fd5-a8ad-c09a-0741-e8d1-04f4-815c"
      },
      {
       "current": "be88d312-f28f-11ea-9bfc-02420a01001a-13-d361-0dde-6405-307f-17dc-6df0-f0a7-b285-723d-d9ff",
       "next": "aab7a8ac-35d2-11e9-b9a2-02420aff0008-20-62c5-ae47-ca0a-5f6f-64a0-6b94-e5b7-5331-8ba8-2af6",
       "previous": "9847f68e-2049-11e9-99c7-02420aff0008-20-2dff-5497-8fd5-a8ad-c09a-0741-e8d1-04f4-815c-9312"
      },
      {
       "current": "be88d312-f28f-11ea-9bfc-02420a01001a-14-0dde-6405-307f-17dc-6df0-f0a7-b285-723d-d9ff-cf36",
       "next": "aab7a8ac-35d2-11e9-b9a2-02420aff0008-21-ae47-ca0a-5f6f-64a0-6b94-e5b7-5331-8ba8-2af6-19d8",
       "previous": "9847f68e-2049-11e9-99c7-02420aff0008-21-5497-8fd5-a8ad-c09a-0741-e8d1-04f4-815c-9312-7713"
      },
      {
       "current": "be88d312-f28f-11ea-9bfc-02420a01001a-15-6405-307f-17dc-6df0-f0a7-b285-723d-d9ff-cf36-db65",
       "next": "aab7a8ac-35d2-11e9-b9a2-02420aff0008-22-ca0a-5f6f-64a0-6b94-e5b7-5331-8ba8-2af6-19d8-99ec",
       "previous": "9847f68e-2049-11e9-99c7-02420aff0008-22-8fd5-a8ad-c09a-0741-e8d1-04f4-815c-9312-7713-1e5b"
      },
      {
       "current": "be88d312-f28f-11ea-9bfc-02420a01001a-16-307f-17dc-6df0-f0a7-b285-723d-d9ff-cf36-db65-40db",
       "next": "aab7a8ac-35d2-11e9-b9a2-02420aff0008-23-5f6f-64a0-6b94-e5b7-5331-8ba8-2af6-19d8-99ec-7dd9",
       "previous": "9847f68e-2049-11e9-99c7-02420aff0008-23-a8ad-c09a-0741-e8d1-04f4-815c-9312-7713-1e5b-70ef"
      },
      {
       "current": "be88d312-f28f-11ea-9bfc-02420a01001a-17-17dc-6df0-f0a7-b285-723d-d9ff-cf36-db65-40db-7134",
       "next": "aab7a8ac-35d2-11e9-b9a2-02420aff0008-24-64a0-6b94-e5b7-5331-8ba8-2af6-19d8-99ec-7dd9-c217",
       "previous": "9847f68e-2049-11e9-99c7-02420aff0008-24-c09a-0741-e8d1-04f4-815c-9312-7713-1e5b-70ef-9785"
      },
      {
       "current": "be88d312-f28f-11ea-9bfc-02420a01001a-18-6df0-f0a7-b285-723d-d9ff-cf36-db65-40db-7134-01ac",
       "next": "aab7a8ac-35d2-11e9-b9a2-02420aff0008-25-6b94-e5b7-5331-8ba8-2af6-19d8-99ec-7dd9-c217-e0ca",
       "previous": "9847f68e-2049-11e9-99c7-02420aff0008-25-0741-e8d1-04f4-815c-9312-7713-1e5b-70ef-9785-c45b"
      },
      {
       "current": "be88d312-f28f-11ea-9bfc-02420a01001a-19-f0a7-b285-723d-d9ff-cf36-db65-40db-7134-01ac-80a2",
       "next": "aab7a8ac-35d2-11e9-b9a2-02420aff0008-26-e5b7-5331-8ba8-2af6-19d8-99ec-7dd9-c217-e0ca-f072",
       "previous": "9847f68e-2049-11e9-99c7-02420aff0008-26-e8d1-04f4-815c-9312-7713-1e5b-70ef-9785-c45b-1e7f"
      }
     ],
     "next": "aab7a8ac-35d2-11e9-b9a2-02420aff0008-27-5331-8ba8-2af6-19d8-99ec-7dd9-c217-e0ca-f072-c7d9",
     "previous": "9847f68e-2049-11e9-99c7-02420aff0008-27-04f4-815c-9312-7713-1e5b-70ef-9785-c45b-1e7f-682a"
    }
   },
   "source": [
    "再確認"
   ]
  },
  {
   "cell_type": "code",
   "execution_count": null,
   "id": "eae57163",
   "metadata": {
    "lc_cell_meme": {
     "current": "aab7a8ac-35d2-11e9-b9a2-02420aff0008-27-5331-8ba8-2af6-19d8-99ec-7dd9-c217-e0ca-f072-c7d9",
     "history": [
      {
       "current": "aab7a8ac-35d2-11e9-b9a2-02420aff0008-18-e6f3-8143-62c5-ae47-ca0a-5f6f-64a0-6b94-e5b7-5331",
       "next": "cc40ef96-aafd-11ea-abc9-0242ac130004-12-0451-27e6-b446-752f-73c5-5554-8dfe-fa84-126a-7485",
       "previous": "be88d312-f28f-11ea-9bfc-02420a01001a-9-f04a-a742-66f4-d361-0dde-6405-307f-17dc-6df0"
      },
      {
       "current": "aab7a8ac-35d2-11e9-b9a2-02420aff0008-19-8143-62c5-ae47-ca0a-5f6f-64a0-6b94-e5b7-5331-8ba8",
       "next": "cc40ef96-aafd-11ea-abc9-0242ac130004-13-27e6-b446-752f-73c5-5554-8dfe-fa84-126a-7485-6cf8",
       "previous": "be88d312-f28f-11ea-9bfc-02420a01001a-10-f04a-a742-66f4-d361-0dde-6405-307f-17dc-6df0-f0a7"
      },
      {
       "current": "aab7a8ac-35d2-11e9-b9a2-02420aff0008-20-62c5-ae47-ca0a-5f6f-64a0-6b94-e5b7-5331-8ba8-2af6",
       "next": "cc40ef96-aafd-11ea-abc9-0242ac130004-14-b446-752f-73c5-5554-8dfe-fa84-126a-7485-6cf8-5a50",
       "previous": "be88d312-f28f-11ea-9bfc-02420a01001a-11-a742-66f4-d361-0dde-6405-307f-17dc-6df0-f0a7-b285"
      },
      {
       "current": "aab7a8ac-35d2-11e9-b9a2-02420aff0008-21-ae47-ca0a-5f6f-64a0-6b94-e5b7-5331-8ba8-2af6-19d8",
       "next": "cc40ef96-aafd-11ea-abc9-0242ac130004-15-752f-73c5-5554-8dfe-fa84-126a-7485-6cf8-5a50-d302",
       "previous": "be88d312-f28f-11ea-9bfc-02420a01001a-12-66f4-d361-0dde-6405-307f-17dc-6df0-f0a7-b285-723d"
      },
      {
       "current": "aab7a8ac-35d2-11e9-b9a2-02420aff0008-22-ca0a-5f6f-64a0-6b94-e5b7-5331-8ba8-2af6-19d8-99ec",
       "next": "cc40ef96-aafd-11ea-abc9-0242ac130004-16-73c5-5554-8dfe-fa84-126a-7485-6cf8-5a50-d302-2568",
       "previous": "be88d312-f28f-11ea-9bfc-02420a01001a-13-d361-0dde-6405-307f-17dc-6df0-f0a7-b285-723d-d9ff"
      },
      {
       "current": "aab7a8ac-35d2-11e9-b9a2-02420aff0008-23-5f6f-64a0-6b94-e5b7-5331-8ba8-2af6-19d8-99ec-7dd9",
       "next": "cc40ef96-aafd-11ea-abc9-0242ac130004-17-5554-8dfe-fa84-126a-7485-6cf8-5a50-d302-2568-0bfb",
       "previous": "be88d312-f28f-11ea-9bfc-02420a01001a-14-0dde-6405-307f-17dc-6df0-f0a7-b285-723d-d9ff-cf36"
      },
      {
       "current": "aab7a8ac-35d2-11e9-b9a2-02420aff0008-24-64a0-6b94-e5b7-5331-8ba8-2af6-19d8-99ec-7dd9-c217",
       "next": "cc40ef96-aafd-11ea-abc9-0242ac130004-18-8dfe-fa84-126a-7485-6cf8-5a50-d302-2568-0bfb-00cc",
       "previous": "be88d312-f28f-11ea-9bfc-02420a01001a-15-6405-307f-17dc-6df0-f0a7-b285-723d-d9ff-cf36-db65"
      },
      {
       "current": "aab7a8ac-35d2-11e9-b9a2-02420aff0008-25-6b94-e5b7-5331-8ba8-2af6-19d8-99ec-7dd9-c217-e0ca",
       "next": "cc40ef96-aafd-11ea-abc9-0242ac130004-19-fa84-126a-7485-6cf8-5a50-d302-2568-0bfb-00cc-46e4",
       "previous": "be88d312-f28f-11ea-9bfc-02420a01001a-16-307f-17dc-6df0-f0a7-b285-723d-d9ff-cf36-db65-40db"
      },
      {
       "current": "aab7a8ac-35d2-11e9-b9a2-02420aff0008-26-e5b7-5331-8ba8-2af6-19d8-99ec-7dd9-c217-e0ca-f072",
       "next": "cc40ef96-aafd-11ea-abc9-0242ac130004-20-126a-7485-6cf8-5a50-d302-2568-0bfb-00cc-46e4-b117",
       "previous": "be88d312-f28f-11ea-9bfc-02420a01001a-17-17dc-6df0-f0a7-b285-723d-d9ff-cf36-db65-40db-7134"
      },
      {
       "current": "aab7a8ac-35d2-11e9-b9a2-02420aff0008-27-5331-8ba8-2af6-19d8-99ec-7dd9-c217-e0ca-f072-c7d9",
       "next": "cc40ef96-aafd-11ea-abc9-0242ac130004-21-7485-6cf8-5a50-d302-2568-0bfb-00cc-46e4-b117-9bbe",
       "previous": "be88d312-f28f-11ea-9bfc-02420a01001a-18-6df0-f0a7-b285-723d-d9ff-cf36-db65-40db-7134-01ac"
      }
     ],
     "next": "cc40ef96-aafd-11ea-abc9-0242ac130004-22-6cf8-5a50-d302-2568-0bfb-00cc-46e4-b117-9bbe-3bcd",
     "previous": "be88d312-f28f-11ea-9bfc-02420a01001a-19-f0a7-b285-723d-d9ff-cf36-db65-40db-7134-01ac-80a2"
    }
   },
   "outputs": [],
   "source": [
    "!ansible -b -a 'docker exec -i {auth_proxy_container_id} ls -l /var/www/simplesamlphp/metadata/idp-proxy' \\\n",
    "    {auth_proxy_node_ip[0]}"
   ]
  },
  {
   "cell_type": "code",
   "execution_count": null,
   "id": "089483fd",
   "metadata": {
    "lc_cell_meme": {
     "current": "cc40ef96-aafd-11ea-abc9-0242ac130004-22-6cf8-5a50-d302-2568-0bfb-00cc-46e4-b117-9bbe-3bcd",
     "history": [
      {
       "current": "cc40ef96-aafd-11ea-abc9-0242ac130004-13-27e6-b446-752f-73c5-5554-8dfe-fa84-126a-7485-6cf8",
       "next": null,
       "previous": "aab7a8ac-35d2-11e9-b9a2-02420aff0008-18-e6f3-8143-62c5-ae47-ca0a-5f6f-64a0-6b94-e5b7-5331"
      },
      {
       "current": "cc40ef96-aafd-11ea-abc9-0242ac130004-14-b446-752f-73c5-5554-8dfe-fa84-126a-7485-6cf8-5a50",
       "next": "2e8d956c-4bd4-11e9-b2d5-0242ac130002-17-23df-92ce-4825-31f4-9f19-d3b3-29b6-59c4-f1fe-5a95",
       "previous": "aab7a8ac-35d2-11e9-b9a2-02420aff0008-18-e6f3-8143-62c5-ae47-ca0a-5f6f-64a0-6b94-e5b7-5331"
      },
      {
       "current": "cc40ef96-aafd-11ea-abc9-0242ac130004-15-752f-73c5-5554-8dfe-fa84-126a-7485-6cf8-5a50-d302",
       "next": "2e8d956c-4bd4-11e9-b2d5-0242ac130002-18-92ce-4825-31f4-9f19-d3b3-29b6-59c4-f1fe-5a95-47ef",
       "previous": "aab7a8ac-35d2-11e9-b9a2-02420aff0008-19-8143-62c5-ae47-ca0a-5f6f-64a0-6b94-e5b7-5331-8ba8"
      },
      {
       "current": "cc40ef96-aafd-11ea-abc9-0242ac130004-16-73c5-5554-8dfe-fa84-126a-7485-6cf8-5a50-d302-2568",
       "next": "2e8d956c-4bd4-11e9-b2d5-0242ac130002-19-4825-31f4-9f19-d3b3-29b6-59c4-f1fe-5a95-47ef-89e8",
       "previous": "aab7a8ac-35d2-11e9-b9a2-02420aff0008-20-62c5-ae47-ca0a-5f6f-64a0-6b94-e5b7-5331-8ba8-2af6"
      },
      {
       "current": "cc40ef96-aafd-11ea-abc9-0242ac130004-17-5554-8dfe-fa84-126a-7485-6cf8-5a50-d302-2568-0bfb",
       "next": "2e8d956c-4bd4-11e9-b2d5-0242ac130002-20-31f4-9f19-d3b3-29b6-59c4-f1fe-5a95-47ef-89e8-d578",
       "previous": "aab7a8ac-35d2-11e9-b9a2-02420aff0008-21-ae47-ca0a-5f6f-64a0-6b94-e5b7-5331-8ba8-2af6-19d8"
      },
      {
       "current": "cc40ef96-aafd-11ea-abc9-0242ac130004-18-8dfe-fa84-126a-7485-6cf8-5a50-d302-2568-0bfb-00cc",
       "next": "2e8d956c-4bd4-11e9-b2d5-0242ac130002-21-9f19-d3b3-29b6-59c4-f1fe-5a95-47ef-89e8-d578-4789",
       "previous": "aab7a8ac-35d2-11e9-b9a2-02420aff0008-22-ca0a-5f6f-64a0-6b94-e5b7-5331-8ba8-2af6-19d8-99ec"
      },
      {
       "current": "cc40ef96-aafd-11ea-abc9-0242ac130004-19-fa84-126a-7485-6cf8-5a50-d302-2568-0bfb-00cc-46e4",
       "next": "2e8d956c-4bd4-11e9-b2d5-0242ac130002-22-d3b3-29b6-59c4-f1fe-5a95-47ef-89e8-d578-4789-428d",
       "previous": "aab7a8ac-35d2-11e9-b9a2-02420aff0008-23-5f6f-64a0-6b94-e5b7-5331-8ba8-2af6-19d8-99ec-7dd9"
      },
      {
       "current": "cc40ef96-aafd-11ea-abc9-0242ac130004-20-126a-7485-6cf8-5a50-d302-2568-0bfb-00cc-46e4-b117",
       "next": "2e8d956c-4bd4-11e9-b2d5-0242ac130002-23-29b6-59c4-f1fe-5a95-47ef-89e8-d578-4789-428d-282e",
       "previous": "aab7a8ac-35d2-11e9-b9a2-02420aff0008-24-64a0-6b94-e5b7-5331-8ba8-2af6-19d8-99ec-7dd9-c217"
      },
      {
       "current": "cc40ef96-aafd-11ea-abc9-0242ac130004-21-7485-6cf8-5a50-d302-2568-0bfb-00cc-46e4-b117-9bbe",
       "next": "2e8d956c-4bd4-11e9-b2d5-0242ac130002-24-59c4-f1fe-5a95-47ef-89e8-d578-4789-428d-282e-f82b",
       "previous": "aab7a8ac-35d2-11e9-b9a2-02420aff0008-25-6b94-e5b7-5331-8ba8-2af6-19d8-99ec-7dd9-c217-e0ca"
      },
      {
       "current": "cc40ef96-aafd-11ea-abc9-0242ac130004-22-6cf8-5a50-d302-2568-0bfb-00cc-46e4-b117-9bbe-3bcd",
       "next": "2e8d956c-4bd4-11e9-b2d5-0242ac130002-25-f1fe-5a95-47ef-89e8-d578-4789-428d-282e-f82b-6b09",
       "previous": "aab7a8ac-35d2-11e9-b9a2-02420aff0008-26-e5b7-5331-8ba8-2af6-19d8-99ec-7dd9-c217-e0ca-f072"
      }
     ],
     "next": "2e8d956c-4bd4-11e9-b2d5-0242ac130002-26-5a95-47ef-89e8-d578-4789-428d-282e-f82b-6b09-0f64",
     "previous": "aab7a8ac-35d2-11e9-b9a2-02420aff0008-27-5331-8ba8-2af6-19d8-99ec-7dd9-c217-e0ca-f072-c7d9"
    },
    "scrolled": true
   },
   "outputs": [],
   "source": [
    "!ansible -b -a 'docker exec -i {auth_proxy_container_id} ls -l /var/www/simplesamlphp/metadata/gakunin-metadata' \\\n",
    "    {auth_proxy_node_ip[0]} ;:"
   ]
  },
  {
   "cell_type": "markdown",
   "id": "0dd783b1",
   "metadata": {
    "lc_cell_meme": {
     "current": "2e8d956c-4bd4-11e9-b2d5-0242ac130002-26-5a95-47ef-89e8-d578-4789-428d-282e-f82b-6b09-0f64",
     "history": [
      {
       "current": "2e8d956c-4bd4-11e9-b2d5-0242ac130002-17-23df-92ce-4825-31f4-9f19-d3b3-29b6-59c4-f1fe-5a95",
       "next": "c008f332-4c52-11e9-b2d5-0242ac130002-16-efe4-235a-9e67-da5a-0748-a356-0585-1667-446c-56ea",
       "previous": "d9d4c8e2-f690-11ea-9bfc-02420a01001a-8-afbb-2726-630b-72b8-d69c-e1e5-5299-7db8"
      },
      {
       "current": "2e8d956c-4bd4-11e9-b2d5-0242ac130002-18-92ce-4825-31f4-9f19-d3b3-29b6-59c4-f1fe-5a95-47ef",
       "next": "c008f332-4c52-11e9-b2d5-0242ac130002-17-235a-9e67-da5a-0748-a356-0585-1667-446c-56ea-d379",
       "previous": "cc40ef96-aafd-11ea-abc9-0242ac130004-13-27e6-b446-752f-73c5-5554-8dfe-fa84-126a-7485-6cf8"
      },
      {
       "current": "2e8d956c-4bd4-11e9-b2d5-0242ac130002-19-4825-31f4-9f19-d3b3-29b6-59c4-f1fe-5a95-47ef-89e8",
       "next": "c008f332-4c52-11e9-b2d5-0242ac130002-18-9e67-da5a-0748-a356-0585-1667-446c-56ea-d379-be0f",
       "previous": "cc40ef96-aafd-11ea-abc9-0242ac130004-14-b446-752f-73c5-5554-8dfe-fa84-126a-7485-6cf8-5a50"
      },
      {
       "current": "2e8d956c-4bd4-11e9-b2d5-0242ac130002-20-31f4-9f19-d3b3-29b6-59c4-f1fe-5a95-47ef-89e8-d578",
       "next": "c008f332-4c52-11e9-b2d5-0242ac130002-19-da5a-0748-a356-0585-1667-446c-56ea-d379-be0f-48bd",
       "previous": "cc40ef96-aafd-11ea-abc9-0242ac130004-15-752f-73c5-5554-8dfe-fa84-126a-7485-6cf8-5a50-d302"
      },
      {
       "current": "2e8d956c-4bd4-11e9-b2d5-0242ac130002-21-9f19-d3b3-29b6-59c4-f1fe-5a95-47ef-89e8-d578-4789",
       "next": "c008f332-4c52-11e9-b2d5-0242ac130002-20-0748-a356-0585-1667-446c-56ea-d379-be0f-48bd-80e6",
       "previous": "cc40ef96-aafd-11ea-abc9-0242ac130004-16-73c5-5554-8dfe-fa84-126a-7485-6cf8-5a50-d302-2568"
      },
      {
       "current": "2e8d956c-4bd4-11e9-b2d5-0242ac130002-22-d3b3-29b6-59c4-f1fe-5a95-47ef-89e8-d578-4789-428d",
       "next": "c008f332-4c52-11e9-b2d5-0242ac130002-21-a356-0585-1667-446c-56ea-d379-be0f-48bd-80e6-c4fa",
       "previous": "cc40ef96-aafd-11ea-abc9-0242ac130004-17-5554-8dfe-fa84-126a-7485-6cf8-5a50-d302-2568-0bfb"
      },
      {
       "current": "2e8d956c-4bd4-11e9-b2d5-0242ac130002-23-29b6-59c4-f1fe-5a95-47ef-89e8-d578-4789-428d-282e",
       "next": "c008f332-4c52-11e9-b2d5-0242ac130002-22-0585-1667-446c-56ea-d379-be0f-48bd-80e6-c4fa-3c10",
       "previous": "cc40ef96-aafd-11ea-abc9-0242ac130004-18-8dfe-fa84-126a-7485-6cf8-5a50-d302-2568-0bfb-00cc"
      },
      {
       "current": "2e8d956c-4bd4-11e9-b2d5-0242ac130002-24-59c4-f1fe-5a95-47ef-89e8-d578-4789-428d-282e-f82b",
       "next": "c008f332-4c52-11e9-b2d5-0242ac130002-23-1667-446c-56ea-d379-be0f-48bd-80e6-c4fa-3c10-0cd4",
       "previous": "cc40ef96-aafd-11ea-abc9-0242ac130004-19-fa84-126a-7485-6cf8-5a50-d302-2568-0bfb-00cc-46e4"
      },
      {
       "current": "2e8d956c-4bd4-11e9-b2d5-0242ac130002-25-f1fe-5a95-47ef-89e8-d578-4789-428d-282e-f82b-6b09",
       "next": "c008f332-4c52-11e9-b2d5-0242ac130002-24-446c-56ea-d379-be0f-48bd-80e6-c4fa-3c10-0cd4-92fa",
       "previous": "cc40ef96-aafd-11ea-abc9-0242ac130004-20-126a-7485-6cf8-5a50-d302-2568-0bfb-00cc-46e4-b117"
      },
      {
       "current": "2e8d956c-4bd4-11e9-b2d5-0242ac130002-26-5a95-47ef-89e8-d578-4789-428d-282e-f82b-6b09-0f64",
       "next": "c008f332-4c52-11e9-b2d5-0242ac130002-25-56ea-d379-be0f-48bd-80e6-c4fa-3c10-0cd4-92fa-e0ea",
       "previous": "cc40ef96-aafd-11ea-abc9-0242ac130004-21-7485-6cf8-5a50-d302-2568-0bfb-00cc-46e4-b117-9bbe"
      }
     ],
     "next": "c008f332-4c52-11e9-b2d5-0242ac130002-26-d379-be0f-48bd-80e6-c4fa-3c10-0cd4-92fa-e0ea-6a23",
     "previous": "cc40ef96-aafd-11ea-abc9-0242ac130004-22-6cf8-5a50-d302-2568-0bfb-00cc-46e4-b117-9bbe-3bcd"
    }
   },
   "source": [
    "# 後始末"
   ]
  },
  {
   "cell_type": "code",
   "execution_count": null,
   "id": "8fe0f4fe",
   "metadata": {
    "lc_cell_meme": {
     "current": "c008f332-4c52-11e9-b2d5-0242ac130002-26-d379-be0f-48bd-80e6-c4fa-3c10-0cd4-92fa-e0ea-6a23",
     "history": [
      {
       "current": "c008f332-4c52-11e9-b2d5-0242ac130002-17-235a-9e67-da5a-0748-a356-0585-1667-446c-56ea-d379",
       "next": "1e5f960c-4c67-11e9-b2d5-0242ac130002-16-e725-f8e7-094f-7d2d-e624-3330-6c22-eae0-0195-e12b",
       "previous": "2e8d956c-4bd4-11e9-b2d5-0242ac130002-16-b6a3-23df-92ce-4825-31f4-9f19-d3b3-29b6-59c4-f1fe"
      },
      {
       "current": "c008f332-4c52-11e9-b2d5-0242ac130002-18-9e67-da5a-0748-a356-0585-1667-446c-56ea-d379-be0f",
       "next": null,
       "previous": "2e8d956c-4bd4-11e9-b2d5-0242ac130002-17-23df-92ce-4825-31f4-9f19-d3b3-29b6-59c4-f1fe-5a95"
      },
      {
       "current": "c008f332-4c52-11e9-b2d5-0242ac130002-19-da5a-0748-a356-0585-1667-446c-56ea-d379-be0f-48bd",
       "next": null,
       "previous": "2e8d956c-4bd4-11e9-b2d5-0242ac130002-18-92ce-4825-31f4-9f19-d3b3-29b6-59c4-f1fe-5a95-47ef"
      },
      {
       "current": "c008f332-4c52-11e9-b2d5-0242ac130002-20-0748-a356-0585-1667-446c-56ea-d379-be0f-48bd-80e6",
       "next": null,
       "previous": "2e8d956c-4bd4-11e9-b2d5-0242ac130002-19-4825-31f4-9f19-d3b3-29b6-59c4-f1fe-5a95-47ef-89e8"
      },
      {
       "current": "c008f332-4c52-11e9-b2d5-0242ac130002-21-a356-0585-1667-446c-56ea-d379-be0f-48bd-80e6-c4fa",
       "next": null,
       "previous": "2e8d956c-4bd4-11e9-b2d5-0242ac130002-20-31f4-9f19-d3b3-29b6-59c4-f1fe-5a95-47ef-89e8-d578"
      },
      {
       "current": "c008f332-4c52-11e9-b2d5-0242ac130002-22-0585-1667-446c-56ea-d379-be0f-48bd-80e6-c4fa-3c10",
       "next": null,
       "previous": "2e8d956c-4bd4-11e9-b2d5-0242ac130002-21-9f19-d3b3-29b6-59c4-f1fe-5a95-47ef-89e8-d578-4789"
      },
      {
       "current": "c008f332-4c52-11e9-b2d5-0242ac130002-23-1667-446c-56ea-d379-be0f-48bd-80e6-c4fa-3c10-0cd4",
       "next": null,
       "previous": "2e8d956c-4bd4-11e9-b2d5-0242ac130002-22-d3b3-29b6-59c4-f1fe-5a95-47ef-89e8-d578-4789-428d"
      },
      {
       "current": "c008f332-4c52-11e9-b2d5-0242ac130002-24-446c-56ea-d379-be0f-48bd-80e6-c4fa-3c10-0cd4-92fa",
       "next": null,
       "previous": "2e8d956c-4bd4-11e9-b2d5-0242ac130002-23-29b6-59c4-f1fe-5a95-47ef-89e8-d578-4789-428d-282e"
      },
      {
       "current": "c008f332-4c52-11e9-b2d5-0242ac130002-25-56ea-d379-be0f-48bd-80e6-c4fa-3c10-0cd4-92fa-e0ea",
       "next": null,
       "previous": "2e8d956c-4bd4-11e9-b2d5-0242ac130002-24-59c4-f1fe-5a95-47ef-89e8-d578-4789-428d-282e-f82b"
      },
      {
       "current": "c008f332-4c52-11e9-b2d5-0242ac130002-26-d379-be0f-48bd-80e6-c4fa-3c10-0cd4-92fa-e0ea-6a23",
       "next": null,
       "previous": "2e8d956c-4bd4-11e9-b2d5-0242ac130002-25-f1fe-5a95-47ef-89e8-d578-4789-428d-282e-f82b-6b09"
      }
     ],
     "next": null,
     "previous": "2e8d956c-4bd4-11e9-b2d5-0242ac130002-26-5a95-47ef-89e8-d578-4789-428d-282e-f82b-6b09-0f64"
    }
   },
   "outputs": [],
   "source": [
    "!rm -rf {work_dir}"
   ]
  }
 ],
 "metadata": {
  "kernelspec": {
   "display_name": "Python 3",
   "language": "python",
   "name": "python3"
  },
  "language_info": {
   "file_extension": ".py",
   "mimetype": "text/x-python",
   "name": "python",
   "nbconvert_exporter": "python",
   "pygments_lexer": "ipython3",
   "version": "3.10.11"
  },
  "lc_notebook_meme": {
   "current": "109d2d77-9535-11ec-9182-6b42dc3e1973"
  },
  "toc": {
   "base_numbering": 1,
   "nav_menu": {},
   "number_sections": true,
   "sideBar": true,
   "skip_h1_title": false,
   "title_cell": "Table of Contents",
   "title_sidebar": "Contents",
   "toc_cell": false,
   "toc_position": {
    "height": "calc(100% - 180px)",
    "left": "10px",
    "top": "150px",
    "width": "375px"
   },
   "toc_section_display": true,
   "toc_window_display": true
  }
 },
 "nbformat": 4,
 "nbformat_minor": 5
}
