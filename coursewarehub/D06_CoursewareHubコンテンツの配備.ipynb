{
 "cells": [
  {
   "cell_type": "markdown",
   "metadata": {
    "lc_cell_meme": {
     "current": "0dac5030-6763-11ea-bf98-0242ac120002-6-5aa6-0b41-b067-1fb0-4ac1-06e6",
     "history": [
      {
       "current": "0dac5030-6763-11ea-bf98-0242ac120002-2-5aa6-0b41",
       "next": "f7f67c14-d57f-11e8-a64b-02420aff0006-4-9b0f-51e2-39ec-56e7",
       "previous": null
      },
      {
       "current": "0dac5030-6763-11ea-bf98-0242ac120002-3-5aa6-0b41-b067",
       "next": "f7f67c14-d57f-11e8-a64b-02420aff0006-5-9b0f-51e2-39ec-56e7-95cc",
       "previous": null
      },
      {
       "current": "0dac5030-6763-11ea-bf98-0242ac120002-4-5aa6-0b41-b067-1fb0",
       "next": "f7f67c14-d57f-11e8-a64b-02420aff0006-6-9b0f-51e2-39ec-56e7-95cc-ad20",
       "previous": null
      },
      {
       "current": "0dac5030-6763-11ea-bf98-0242ac120002-5-5aa6-0b41-b067-1fb0-4ac1",
       "next": "f7f67c14-d57f-11e8-a64b-02420aff0006-7-9b0f-51e2-39ec-56e7-95cc-ad20-4aec",
       "previous": null
      },
      {
       "current": "0dac5030-6763-11ea-bf98-0242ac120002-6-5aa6-0b41-b067-1fb0-4ac1-06e6",
       "next": "f7f67c14-d57f-11e8-a64b-02420aff0006-8-9b0f-51e2-39ec-56e7-95cc-ad20-4aec-0241",
       "previous": null
      }
     ],
     "next": "f7f67c14-d57f-11e8-a64b-02420aff0006-9-9b0f-51e2-39ec-56e7-95cc-ad20-4aec-0241-dcae",
     "previous": null
    }
   },
   "source": [
    "# CousewareHubコンテンツの配備\n",
    "\n",
    "講師用コンテンツ、受講者用コンテンツを配備する。\n",
    "\n",
    "**CoursewareHubに講師権限でログインし、このnotebookをアップロードして実行すること。**"
   ]
  },
  {
   "cell_type": "markdown",
   "metadata": {
    "lc_cell_meme": {
     "current": "f7f67c14-d57f-11e8-a64b-02420aff0006-9-9b0f-51e2-39ec-56e7-95cc-ad20-4aec-0241-dcae",
     "history": [
      {
       "current": "f7f67c14-d57f-11e8-a64b-02420aff0006-5-9b0f-51e2-39ec-56e7-95cc",
       "next": "f7f67cc8-d57f-11e8-a64b-02420aff0006-5-26bf-ccf4-fed5-212c-b8ad",
       "previous": "0dac5030-6763-11ea-bf98-0242ac120002-2-5aa6-0b41"
      },
      {
       "current": "f7f67c14-d57f-11e8-a64b-02420aff0006-6-9b0f-51e2-39ec-56e7-95cc-ad20",
       "next": "70bc460e-6771-11ea-b0c1-02420a010039",
       "previous": "0dac5030-6763-11ea-bf98-0242ac120002-2-5aa6-0b41"
      },
      {
       "current": "f7f67c14-d57f-11e8-a64b-02420aff0006-7-9b0f-51e2-39ec-56e7-95cc-ad20-4aec",
       "next": "70bc460e-6771-11ea-b0c1-02420a010039-1-8da1",
       "previous": "0dac5030-6763-11ea-bf98-0242ac120002-3-5aa6-0b41-b067"
      },
      {
       "current": "f7f67c14-d57f-11e8-a64b-02420aff0006-8-9b0f-51e2-39ec-56e7-95cc-ad20-4aec-0241",
       "next": "70bc460e-6771-11ea-b0c1-02420a010039-2-8da1-18d0",
       "previous": "0dac5030-6763-11ea-bf98-0242ac120002-4-5aa6-0b41-b067-1fb0"
      },
      {
       "current": "f7f67c14-d57f-11e8-a64b-02420aff0006-9-9b0f-51e2-39ec-56e7-95cc-ad20-4aec-0241-dcae",
       "next": "70bc460e-6771-11ea-b0c1-02420a010039-3-8da1-18d0-dd34",
       "previous": "0dac5030-6763-11ea-bf98-0242ac120002-5-5aa6-0b41-b067-1fb0-4ac1"
      }
     ],
     "next": "70bc460e-6771-11ea-b0c1-02420a010039-4-8da1-18d0-dd34-c0f1",
     "previous": "0dac5030-6763-11ea-bf98-0242ac120002-6-5aa6-0b41-b067-1fb0-4ac1-06e6"
    }
   },
   "source": [
    "# 設定対象"
   ]
  },
  {
   "cell_type": "markdown",
   "metadata": {
    "lc_cell_meme": {
     "current": "70bc460e-6771-11ea-b0c1-02420a010039-4-8da1-18d0-dd34-c0f1",
     "history": [
      {
       "current": "70bc460e-6771-11ea-b0c1-02420a010039-1-8da1",
       "next": "f7f67cc8-d57f-11e8-a64b-02420aff0006-5-26bf-ccf4-fed5-212c-b8ad",
       "previous": "f7f67c14-d57f-11e8-a64b-02420aff0006-5-9b0f-51e2-39ec-56e7-95cc"
      },
      {
       "current": "70bc460e-6771-11ea-b0c1-02420a010039-2-8da1-18d0",
       "next": "f7f67cc8-d57f-11e8-a64b-02420aff0006-6-26bf-ccf4-fed5-212c-b8ad-5707",
       "previous": "f7f67c14-d57f-11e8-a64b-02420aff0006-6-9b0f-51e2-39ec-56e7-95cc-ad20"
      },
      {
       "current": "70bc460e-6771-11ea-b0c1-02420a010039-3-8da1-18d0-dd34",
       "next": "f7f67cc8-d57f-11e8-a64b-02420aff0006-7-26bf-ccf4-fed5-212c-b8ad-5707-f27d",
       "previous": "f7f67c14-d57f-11e8-a64b-02420aff0006-7-9b0f-51e2-39ec-56e7-95cc-ad20-4aec"
      },
      {
       "current": "70bc460e-6771-11ea-b0c1-02420a010039-4-8da1-18d0-dd34-c0f1",
       "next": "f7f67cc8-d57f-11e8-a64b-02420aff0006-8-26bf-ccf4-fed5-212c-b8ad-5707-f27d-21c6",
       "previous": "f7f67c14-d57f-11e8-a64b-02420aff0006-8-9b0f-51e2-39ec-56e7-95cc-ad20-4aec-0241"
      }
     ],
     "next": "f7f67cc8-d57f-11e8-a64b-02420aff0006-9-26bf-ccf4-fed5-212c-b8ad-5707-f27d-21c6-7053",
     "previous": "f7f67c14-d57f-11e8-a64b-02420aff0006-9-9b0f-51e2-39ec-56e7-95cc-ad20-4aec-0241-dcae"
    }
   },
   "source": [
    "接続確認\n",
    "\n",
    "初回の実行で以下のセルが機能しない場合、`~/.ssh/known_hosts`にノードのssh host keyが登録されていない可能性があるので、登録後に再実行すること。"
   ]
  },
  {
   "cell_type": "code",
   "execution_count": null,
   "metadata": {
    "deletable": false,
    "editable": false,
    "lc_cell_meme": {
     "current": "f7f67cc8-d57f-11e8-a64b-02420aff0006-9-26bf-ccf4-fed5-212c-b8ad-5707-f27d-21c6-7053",
     "execution_end_time": "2020-03-23T08:59:34.267846Z",
     "history": [
      {
       "current": "f7f67cc8-d57f-11e8-a64b-02420aff0006-6-26bf-ccf4-fed5-212c-b8ad-5707",
       "next": "f7f67d54-d57f-11e8-a64b-02420aff0006-6-97ec-ebe1-8e60-3e55-6c04-93cb",
       "previous": "70bc460e-6771-11ea-b0c1-02420a010039"
      },
      {
       "current": "f7f67cc8-d57f-11e8-a64b-02420aff0006-6-26bf-ccf4-fed5-212c-b8ad-5707",
       "next": "f7f67d54-d57f-11e8-a64b-02420aff0006-7-97ec-ebe1-8e60-3e55-6c04-93cb-21bd",
       "previous": "70bc460e-6771-11ea-b0c1-02420a010039-1-8da1"
      },
      {
       "current": "f7f67cc8-d57f-11e8-a64b-02420aff0006-7-26bf-ccf4-fed5-212c-b8ad-5707-f27d",
       "next": "49812700-6765-11ea-bf98-0242ac120002-3-cd0d-9feb-0070",
       "previous": "70bc460e-6771-11ea-b0c1-02420a010039-1-8da1"
      },
      {
       "current": "f7f67cc8-d57f-11e8-a64b-02420aff0006-8-26bf-ccf4-fed5-212c-b8ad-5707-f27d-21c6",
       "next": "49812700-6765-11ea-bf98-0242ac120002-4-cd0d-9feb-0070-bef4",
       "previous": "70bc460e-6771-11ea-b0c1-02420a010039-2-8da1-18d0"
      },
      {
       "current": "f7f67cc8-d57f-11e8-a64b-02420aff0006-9-26bf-ccf4-fed5-212c-b8ad-5707-f27d-21c6-7053",
       "next": "49812700-6765-11ea-bf98-0242ac120002-5-cd0d-9feb-0070-bef4-18c2",
       "previous": "70bc460e-6771-11ea-b0c1-02420a010039-3-8da1-18d0-dd34"
      }
     ],
     "next": "49812700-6765-11ea-bf98-0242ac120002-6-cd0d-9feb-0070-bef4-18c2-1131",
     "previous": "70bc460e-6771-11ea-b0c1-02420a010039-4-8da1-18d0-dd34-c0f1"
    },
    "run_through_control": {
     "frozen": false,
     "read_only": false
    }
   },
   "outputs": [],
   "source": [
    "target_hub = '-i ~/ansible/inventory ch-master'\n",
    "\n",
    "!ansible -m ping {target_hub}"
   ]
  },
  {
   "cell_type": "markdown",
   "metadata": {
    "lc_cell_meme": {
     "current": "49812700-6765-11ea-bf98-0242ac120002-6-cd0d-9feb-0070-bef4-18c2-1131",
     "history": [
      {
       "current": "49812700-6765-11ea-bf98-0242ac120002-3-cd0d-9feb-0070",
       "next": "3e94492e-6767-11ea-bf98-0242ac120002-2-f58f-704d",
       "previous": "f7f67d54-d57f-11e8-a64b-02420aff0006-7-97ec-ebe1-8e60-3e55-6c04-93cb-21bd"
      },
      {
       "current": "49812700-6765-11ea-bf98-0242ac120002-3-cd0d-9feb-0070",
       "next": "3e94492e-6767-11ea-bf98-0242ac120002-2-f58f-704d",
       "previous": "f7f67cc8-d57f-11e8-a64b-02420aff0006-6-26bf-ccf4-fed5-212c-b8ad-5707"
      },
      {
       "current": "49812700-6765-11ea-bf98-0242ac120002-4-cd0d-9feb-0070-bef4",
       "next": "59fda5b8-6c4c-11ea-8c8f-02420a010035",
       "previous": "f7f67cc8-d57f-11e8-a64b-02420aff0006-6-26bf-ccf4-fed5-212c-b8ad-5707"
      },
      {
       "current": "49812700-6765-11ea-bf98-0242ac120002-5-cd0d-9feb-0070-bef4-18c2",
       "next": "59fda5b8-6c4c-11ea-8c8f-02420a010035-1-5845",
       "previous": "f7f67cc8-d57f-11e8-a64b-02420aff0006-7-26bf-ccf4-fed5-212c-b8ad-5707-f27d"
      },
      {
       "current": "49812700-6765-11ea-bf98-0242ac120002-6-cd0d-9feb-0070-bef4-18c2-1131",
       "next": "59fda5b8-6c4c-11ea-8c8f-02420a010035-2-5845-d29a",
       "previous": "f7f67cc8-d57f-11e8-a64b-02420aff0006-8-26bf-ccf4-fed5-212c-b8ad-5707-f27d-21c6"
      }
     ],
     "next": "59fda5b8-6c4c-11ea-8c8f-02420a010035-3-5845-d29a-bd93",
     "previous": "f7f67cc8-d57f-11e8-a64b-02420aff0006-9-26bf-ccf4-fed5-212c-b8ad-5707-f27d-21c6-7053"
    }
   },
   "source": [
    "# コンテンツのダウンロード"
   ]
  },
  {
   "cell_type": "markdown",
   "metadata": {
    "lc_cell_meme": {
     "current": "59fda5b8-6c4c-11ea-8c8f-02420a010035-3-5845-d29a-bd93",
     "history": [
      {
       "current": "59fda5b8-6c4c-11ea-8c8f-02420a010035-1-5845",
       "next": "3e94492e-6767-11ea-bf98-0242ac120002-2-f58f-704d",
       "previous": "49812700-6765-11ea-bf98-0242ac120002-3-cd0d-9feb-0070"
      },
      {
       "current": "59fda5b8-6c4c-11ea-8c8f-02420a010035-2-5845-d29a",
       "next": "3e94492e-6767-11ea-bf98-0242ac120002-3-f58f-704d-0bb6",
       "previous": "49812700-6765-11ea-bf98-0242ac120002-4-cd0d-9feb-0070-bef4"
      },
      {
       "current": "59fda5b8-6c4c-11ea-8c8f-02420a010035-3-5845-d29a-bd93",
       "next": "3e94492e-6767-11ea-bf98-0242ac120002-4-f58f-704d-0bb6-dd92",
       "previous": "49812700-6765-11ea-bf98-0242ac120002-5-cd0d-9feb-0070-bef4-18c2"
      }
     ],
     "next": "3e94492e-6767-11ea-bf98-0242ac120002-5-f58f-704d-0bb6-dd92-7a00",
     "previous": "49812700-6765-11ea-bf98-0242ac120002-6-cd0d-9feb-0070-bef4-18c2-1131"
    }
   },
   "source": [
    "コンテンツの取得元のgitリポジトリを指定する。"
   ]
  },
  {
   "cell_type": "code",
   "execution_count": null,
   "metadata": {
    "deletable": false,
    "editable": false,
    "lc_cell_meme": {
     "current": "3e94492e-6767-11ea-bf98-0242ac120002-5-f58f-704d-0bb6-dd92-7a00",
     "execution_end_time": "2020-03-23T08:59:37.892473Z",
     "history": [
      {
       "current": "3e94492e-6767-11ea-bf98-0242ac120002-2-f58f-704d",
       "next": "3e944dac-6767-11ea-bf98-0242ac120002-1-6d4e",
       "previous": "49812700-6765-11ea-bf98-0242ac120002-2-cd0d-9feb"
      },
      {
       "current": "3e94492e-6767-11ea-bf98-0242ac120002-2-f58f-704d",
       "next": "3e944dac-6767-11ea-bf98-0242ac120002-2-6d4e-2175",
       "previous": "49812700-6765-11ea-bf98-0242ac120002-3-cd0d-9feb-0070"
      },
      {
       "current": "3e94492e-6767-11ea-bf98-0242ac120002-3-f58f-704d-0bb6",
       "next": "3e944dac-6767-11ea-bf98-0242ac120002-2-6d4e-2175",
       "previous": "59fda5b8-6c4c-11ea-8c8f-02420a010035"
      },
      {
       "current": "3e94492e-6767-11ea-bf98-0242ac120002-4-f58f-704d-0bb6-dd92",
       "next": "3e944dac-6767-11ea-bf98-0242ac120002-3-6d4e-2175-9d65",
       "previous": "59fda5b8-6c4c-11ea-8c8f-02420a010035-1-5845"
      },
      {
       "current": "3e94492e-6767-11ea-bf98-0242ac120002-5-f58f-704d-0bb6-dd92-7a00",
       "next": "3e944dac-6767-11ea-bf98-0242ac120002-4-6d4e-2175-9d65-f1af",
       "previous": "59fda5b8-6c4c-11ea-8c8f-02420a010035-2-5845-d29a"
      }
     ],
     "next": "3e944dac-6767-11ea-bf98-0242ac120002-5-6d4e-2175-9d65-f1af-14b6",
     "previous": "59fda5b8-6c4c-11ea-8c8f-02420a010035-3-5845-d29a-bd93"
    },
    "run_through_control": {
     "frozen": false,
     "read_only": false
    }
   },
   "outputs": [],
   "source": [
    "REPOS_URL='https://github.com/NII-cloud-operation/CoursewareHub-LC_manage-tools.git'"
   ]
  },
  {
   "cell_type": "code",
   "execution_count": null,
   "metadata": {
    "deletable": false,
    "editable": false,
    "lc_cell_meme": {
     "current": "3e944dac-6767-11ea-bf98-0242ac120002-5-6d4e-2175-9d65-f1af-14b6",
     "execution_end_time": "2020-03-23T08:59:38.706042Z",
     "history": [
      {
       "current": "3e944dac-6767-11ea-bf98-0242ac120002-1-6d4e",
       "next": "1c1e169e-676d-11ea-bf98-0242ac120002",
       "previous": "3e94492e-6767-11ea-bf98-0242ac120002"
      },
      {
       "current": "3e944dac-6767-11ea-bf98-0242ac120002-2-6d4e-2175",
       "next": "1c1e169e-676d-11ea-bf98-0242ac120002-1-dcdf",
       "previous": "3e94492e-6767-11ea-bf98-0242ac120002-1-f58f"
      },
      {
       "current": "3e944dac-6767-11ea-bf98-0242ac120002-3-6d4e-2175-9d65",
       "next": "1c1e169e-676d-11ea-bf98-0242ac120002-2-dcdf-51ae",
       "previous": "3e94492e-6767-11ea-bf98-0242ac120002-2-f58f-704d"
      },
      {
       "current": "3e944dac-6767-11ea-bf98-0242ac120002-4-6d4e-2175-9d65-f1af",
       "next": "1c1e169e-676d-11ea-bf98-0242ac120002-3-dcdf-51ae-5e80",
       "previous": "3e94492e-6767-11ea-bf98-0242ac120002-3-f58f-704d-0bb6"
      },
      {
       "current": "3e944dac-6767-11ea-bf98-0242ac120002-5-6d4e-2175-9d65-f1af-14b6",
       "next": "1c1e169e-676d-11ea-bf98-0242ac120002-4-dcdf-51ae-5e80-7c41",
       "previous": "3e94492e-6767-11ea-bf98-0242ac120002-4-f58f-704d-0bb6-dd92"
      }
     ],
     "next": "1c1e169e-676d-11ea-bf98-0242ac120002-5-dcdf-51ae-5e80-7c41-134b",
     "previous": "3e94492e-6767-11ea-bf98-0242ac120002-5-f58f-704d-0bb6-dd92-7a00"
    },
    "run_through_control": {
     "frozen": false,
     "read_only": false
    }
   },
   "outputs": [],
   "source": [
    "import tempfile\n",
    "work_dir = tempfile.mkdtemp()\n",
    "work_dir"
   ]
  },
  {
   "cell_type": "code",
   "execution_count": null,
   "metadata": {
    "deletable": false,
    "editable": false,
    "lc_cell_meme": {
     "current": "1c1e169e-676d-11ea-bf98-0242ac120002-5-dcdf-51ae-5e80-7c41-134b",
     "execution_end_time": "2020-03-23T08:59:39.722655Z",
     "history": [
      {
       "current": "1c1e169e-676d-11ea-bf98-0242ac120002-1-dcdf",
       "next": "8ef72b56-6772-11ea-b0c1-02420a010039",
       "previous": "3e944dac-6767-11ea-bf98-0242ac120002-1-6d4e"
      },
      {
       "current": "1c1e169e-676d-11ea-bf98-0242ac120002-2-dcdf-51ae",
       "next": "3e944ece-6767-11ea-bf98-0242ac120002-1-b289",
       "previous": "3e944dac-6767-11ea-bf98-0242ac120002-1-6d4e"
      },
      {
       "current": "1c1e169e-676d-11ea-bf98-0242ac120002-3-dcdf-51ae-5e80",
       "next": "3e944ece-6767-11ea-bf98-0242ac120002-2-b289-f702",
       "previous": "3e944dac-6767-11ea-bf98-0242ac120002-2-6d4e-2175"
      },
      {
       "current": "1c1e169e-676d-11ea-bf98-0242ac120002-4-dcdf-51ae-5e80-7c41",
       "next": "3e944ece-6767-11ea-bf98-0242ac120002-3-b289-f702-9238",
       "previous": "3e944dac-6767-11ea-bf98-0242ac120002-3-6d4e-2175-9d65"
      },
      {
       "current": "1c1e169e-676d-11ea-bf98-0242ac120002-5-dcdf-51ae-5e80-7c41-134b",
       "next": "3e944ece-6767-11ea-bf98-0242ac120002-4-b289-f702-9238-58ad",
       "previous": "3e944dac-6767-11ea-bf98-0242ac120002-4-6d4e-2175-9d65-f1af"
      }
     ],
     "next": "3e944ece-6767-11ea-bf98-0242ac120002-5-b289-f702-9238-58ad-1112",
     "previous": "3e944dac-6767-11ea-bf98-0242ac120002-5-6d4e-2175-9d65-f1af-14b6"
    },
    "run_through_control": {
     "frozen": false,
     "read_only": false
    }
   },
   "outputs": [],
   "source": [
    "repo_name = REPOS_URL.split('/')[-1]\n",
    "repo_name = repo_name.split('.')[0]\n",
    "repo_name"
   ]
  },
  {
   "cell_type": "code",
   "execution_count": null,
   "metadata": {
    "deletable": false,
    "editable": false,
    "lc_cell_meme": {
     "current": "3e944ece-6767-11ea-bf98-0242ac120002-5-b289-f702-9238-58ad-1112",
     "execution_end_time": "2020-03-23T08:59:45.971663Z",
     "history": [
      {
       "current": "3e944ece-6767-11ea-bf98-0242ac120002-1-b289",
       "next": "ab3d54b6-676d-11ea-bf98-0242ac120002-1-2055",
       "previous": "8ef72b56-6772-11ea-b0c1-02420a010039"
      },
      {
       "current": "3e944ece-6767-11ea-bf98-0242ac120002-2-b289-f702",
       "next": "ab3d54b6-676d-11ea-bf98-0242ac120002-1-2055",
       "previous": "1c1e169e-676d-11ea-bf98-0242ac120002-1-dcdf"
      },
      {
       "current": "3e944ece-6767-11ea-bf98-0242ac120002-3-b289-f702-9238",
       "next": "ab3d54b6-676d-11ea-bf98-0242ac120002-2-2055-a335",
       "previous": "1c1e169e-676d-11ea-bf98-0242ac120002-2-dcdf-51ae"
      },
      {
       "current": "3e944ece-6767-11ea-bf98-0242ac120002-4-b289-f702-9238-58ad",
       "next": "ab3d54b6-676d-11ea-bf98-0242ac120002-3-2055-a335-1485",
       "previous": "1c1e169e-676d-11ea-bf98-0242ac120002-3-dcdf-51ae-5e80"
      },
      {
       "current": "3e944ece-6767-11ea-bf98-0242ac120002-5-b289-f702-9238-58ad-1112",
       "next": "ab3d54b6-676d-11ea-bf98-0242ac120002-4-2055-a335-1485-561c",
       "previous": "1c1e169e-676d-11ea-bf98-0242ac120002-4-dcdf-51ae-5e80-7c41"
      }
     ],
     "next": "ab3d54b6-676d-11ea-bf98-0242ac120002-5-2055-a335-1485-561c-54d0",
     "previous": "1c1e169e-676d-11ea-bf98-0242ac120002-5-dcdf-51ae-5e80-7c41-134b"
    },
    "run_through_control": {
     "frozen": false,
     "read_only": false
    }
   },
   "outputs": [],
   "source": [
    "!rm -rf {work_dir}/{repo_name}\n",
    "!git clone {REPOS_URL} {work_dir}/{repo_name}"
   ]
  },
  {
   "cell_type": "code",
   "execution_count": null,
   "metadata": {
    "deletable": false,
    "editable": false,
    "lc_cell_meme": {
     "current": "ab3d54b6-676d-11ea-bf98-0242ac120002-5-2055-a335-1485-561c-54d0",
     "execution_end_time": "2020-03-23T09:00:52.101981Z",
     "history": [
      {
       "current": "ab3d54b6-676d-11ea-bf98-0242ac120002-1-2055",
       "next": "63adc068-676d-11ea-bf98-0242ac120002",
       "previous": "3e944ece-6767-11ea-bf98-0242ac120002"
      },
      {
       "current": "ab3d54b6-676d-11ea-bf98-0242ac120002-2-2055-a335",
       "next": "63adc068-676d-11ea-bf98-0242ac120002-1-982e",
       "previous": "3e944ece-6767-11ea-bf98-0242ac120002-1-b289"
      },
      {
       "current": "ab3d54b6-676d-11ea-bf98-0242ac120002-3-2055-a335-1485",
       "next": "63adc068-676d-11ea-bf98-0242ac120002-2-982e-fb92",
       "previous": "3e944ece-6767-11ea-bf98-0242ac120002-2-b289-f702"
      },
      {
       "current": "ab3d54b6-676d-11ea-bf98-0242ac120002-4-2055-a335-1485-561c",
       "next": "63adc068-676d-11ea-bf98-0242ac120002-3-982e-fb92-0668",
       "previous": "3e944ece-6767-11ea-bf98-0242ac120002-3-b289-f702-9238"
      },
      {
       "current": "ab3d54b6-676d-11ea-bf98-0242ac120002-5-2055-a335-1485-561c-54d0",
       "next": "63adc068-676d-11ea-bf98-0242ac120002-4-982e-fb92-0668-b1fd",
       "previous": "3e944ece-6767-11ea-bf98-0242ac120002-4-b289-f702-9238-58ad"
      }
     ],
     "next": "63adc068-676d-11ea-bf98-0242ac120002-5-982e-fb92-0668-b1fd-5941",
     "previous": "3e944ece-6767-11ea-bf98-0242ac120002-5-b289-f702-9238-58ad-1112"
    },
    "run_through_control": {
     "frozen": false,
     "read_only": false
    }
   },
   "outputs": [],
   "source": [
    "!cd {work_dir}/{repo_name} && git log -n 5"
   ]
  },
  {
   "cell_type": "markdown",
   "metadata": {
    "lc_cell_meme": {
     "current": "63adc068-676d-11ea-bf98-0242ac120002-5-982e-fb92-0668-b1fd-5941",
     "history": [
      {
       "current": "63adc068-676d-11ea-bf98-0242ac120002-1-982e",
       "next": "be158f42-6770-11ea-bf98-0242ac120002",
       "previous": "ab3d54b6-676d-11ea-bf98-0242ac120002"
      },
      {
       "current": "63adc068-676d-11ea-bf98-0242ac120002-2-982e-fb92",
       "next": "be158f42-6770-11ea-bf98-0242ac120002-1-30fe",
       "previous": "ab3d54b6-676d-11ea-bf98-0242ac120002-1-2055"
      },
      {
       "current": "63adc068-676d-11ea-bf98-0242ac120002-3-982e-fb92-0668",
       "next": "be158f42-6770-11ea-bf98-0242ac120002-2-30fe-444e",
       "previous": "ab3d54b6-676d-11ea-bf98-0242ac120002-2-2055-a335"
      },
      {
       "current": "63adc068-676d-11ea-bf98-0242ac120002-4-982e-fb92-0668-b1fd",
       "next": "be158f42-6770-11ea-bf98-0242ac120002-3-30fe-444e-ae7b",
       "previous": "ab3d54b6-676d-11ea-bf98-0242ac120002-3-2055-a335-1485"
      },
      {
       "current": "63adc068-676d-11ea-bf98-0242ac120002-5-982e-fb92-0668-b1fd-5941",
       "next": "be158f42-6770-11ea-bf98-0242ac120002-4-30fe-444e-ae7b-17fd",
       "previous": "ab3d54b6-676d-11ea-bf98-0242ac120002-4-2055-a335-1485-561c"
      }
     ],
     "next": "be158f42-6770-11ea-bf98-0242ac120002-5-30fe-444e-ae7b-17fd-13b3",
     "previous": "ab3d54b6-676d-11ea-bf98-0242ac120002-5-2055-a335-1485-561c-54d0"
    }
   },
   "source": [
    "# コンテンツの配備\n",
    "\n",
    "Playbookを実行して、コンテンツを配備する。"
   ]
  },
  {
   "cell_type": "markdown",
   "metadata": {
    "lc_cell_meme": {
     "current": "be158f42-6770-11ea-bf98-0242ac120002-5-30fe-444e-ae7b-17fd-13b3",
     "history": [
      {
       "current": "be158f42-6770-11ea-bf98-0242ac120002-1-30fe",
       "next": "63adc2de-676d-11ea-bf98-0242ac120002-1-b27b",
       "previous": "63adc068-676d-11ea-bf98-0242ac120002"
      },
      {
       "current": "be158f42-6770-11ea-bf98-0242ac120002-2-30fe-444e",
       "next": "63adc2de-676d-11ea-bf98-0242ac120002-2-b27b-ff8f",
       "previous": "63adc068-676d-11ea-bf98-0242ac120002-1-982e"
      },
      {
       "current": "be158f42-6770-11ea-bf98-0242ac120002-3-30fe-444e-ae7b",
       "next": "63adc2de-676d-11ea-bf98-0242ac120002-3-b27b-ff8f-c128",
       "previous": "63adc068-676d-11ea-bf98-0242ac120002-2-982e-fb92"
      },
      {
       "current": "be158f42-6770-11ea-bf98-0242ac120002-4-30fe-444e-ae7b-17fd",
       "next": "63adc2de-676d-11ea-bf98-0242ac120002-4-b27b-ff8f-c128-3ed4",
       "previous": "63adc068-676d-11ea-bf98-0242ac120002-3-982e-fb92-0668"
      },
      {
       "current": "be158f42-6770-11ea-bf98-0242ac120002-5-30fe-444e-ae7b-17fd-13b3",
       "next": "63adc2de-676d-11ea-bf98-0242ac120002-5-b27b-ff8f-c128-3ed4-01f0",
       "previous": "63adc068-676d-11ea-bf98-0242ac120002-4-982e-fb92-0668-b1fd"
      }
     ],
     "next": "63adc2de-676d-11ea-bf98-0242ac120002-6-b27b-ff8f-c128-3ed4-01f0-4776",
     "previous": "63adc068-676d-11ea-bf98-0242ac120002-5-982e-fb92-0668-b1fd-5941"
    }
   },
   "source": [
    "テスト"
   ]
  },
  {
   "cell_type": "code",
   "execution_count": null,
   "metadata": {
    "deletable": false,
    "editable": false,
    "lc_cell_meme": {
     "current": "63adc2de-676d-11ea-bf98-0242ac120002-6-b27b-ff8f-c128-3ed4-01f0-4776",
     "execution_end_time": "2020-03-23T09:01:27.852828Z",
     "history": [
      {
       "current": "63adc2de-676d-11ea-bf98-0242ac120002-2-b27b-ff8f",
       "next": "be15908c-6770-11ea-bf98-0242ac120002",
       "previous": "be158f42-6770-11ea-bf98-0242ac120002"
      },
      {
       "current": "63adc2de-676d-11ea-bf98-0242ac120002-3-b27b-ff8f-c128",
       "next": "be15908c-6770-11ea-bf98-0242ac120002-1-d02a",
       "previous": "be158f42-6770-11ea-bf98-0242ac120002-1-30fe"
      },
      {
       "current": "63adc2de-676d-11ea-bf98-0242ac120002-4-b27b-ff8f-c128-3ed4",
       "next": "be15908c-6770-11ea-bf98-0242ac120002-2-d02a-2b08",
       "previous": "be158f42-6770-11ea-bf98-0242ac120002-2-30fe-444e"
      },
      {
       "current": "63adc2de-676d-11ea-bf98-0242ac120002-5-b27b-ff8f-c128-3ed4-01f0",
       "next": "be15908c-6770-11ea-bf98-0242ac120002-3-d02a-2b08-68bd",
       "previous": "be158f42-6770-11ea-bf98-0242ac120002-3-30fe-444e-ae7b"
      },
      {
       "current": "63adc2de-676d-11ea-bf98-0242ac120002-6-b27b-ff8f-c128-3ed4-01f0-4776",
       "next": "be15908c-6770-11ea-bf98-0242ac120002-4-d02a-2b08-68bd-c11a",
       "previous": "be158f42-6770-11ea-bf98-0242ac120002-4-30fe-444e-ae7b-17fd"
      }
     ],
     "next": "be15908c-6770-11ea-bf98-0242ac120002-5-d02a-2b08-68bd-c11a-ecff",
     "previous": "be158f42-6770-11ea-bf98-0242ac120002-5-30fe-444e-ae7b-17fd-13b3"
    },
    "run_through_control": {
     "frozen": false,
     "read_only": false
    },
    "scrolled": true
   },
   "outputs": [],
   "source": [
    "!cd {work_dir}/{repo_name} && \\\n",
    "    ansible-playbook -CDv -i ~/ansible/inventory deploy.yml"
   ]
  },
  {
   "cell_type": "markdown",
   "metadata": {
    "lc_cell_meme": {
     "current": "be15908c-6770-11ea-bf98-0242ac120002-5-d02a-2b08-68bd-c11a-ecff",
     "history": [
      {
       "current": "be15908c-6770-11ea-bf98-0242ac120002-2-d02a-2b08",
       "next": "63adc2de-676d-11ea-bf98-0242ac120002-3-b27b-ff8f-e811",
       "previous": "63adc2de-676d-11ea-bf98-0242ac120002-2-b27b-ff8f"
      },
      {
       "current": "be15908c-6770-11ea-bf98-0242ac120002-2-d02a-2b08",
       "next": "63adc2de-676d-11ea-bf98-0242ac120002-4-b27b-ff8f-e811-21ed",
       "previous": "63adc2de-676d-11ea-bf98-0242ac120002-3-b27b-ff8f-c128"
      },
      {
       "current": "be15908c-6770-11ea-bf98-0242ac120002-3-d02a-2b08-68bd",
       "next": "63adc2de-676d-11ea-bf98-0242ac120002-5-b27b-ff8f-e811-7e3f-844b",
       "previous": "63adc2de-676d-11ea-bf98-0242ac120002-3-b27b-ff8f-c128"
      },
      {
       "current": "be15908c-6770-11ea-bf98-0242ac120002-4-d02a-2b08-68bd-c11a",
       "next": "63adc2de-676d-11ea-bf98-0242ac120002-6-b27b-ff8f-e811-7e3f-844b-d1de",
       "previous": "63adc2de-676d-11ea-bf98-0242ac120002-4-b27b-ff8f-c128-3ed4"
      },
      {
       "current": "be15908c-6770-11ea-bf98-0242ac120002-5-d02a-2b08-68bd-c11a-ecff",
       "next": "63adc2de-676d-11ea-bf98-0242ac120002-7-b27b-ff8f-e811-7e3f-844b-d1de-a2db",
       "previous": "63adc2de-676d-11ea-bf98-0242ac120002-5-b27b-ff8f-c128-3ed4-01f0"
      }
     ],
     "next": "63adc2de-676d-11ea-bf98-0242ac120002-8-b27b-ff8f-e811-7e3f-844b-d1de-a2db-2bbe",
     "previous": "63adc2de-676d-11ea-bf98-0242ac120002-6-b27b-ff8f-c128-3ed4-01f0-4776"
    }
   },
   "source": [
    "playbook実行"
   ]
  },
  {
   "cell_type": "code",
   "execution_count": null,
   "metadata": {
    "deletable": false,
    "editable": false,
    "lc_cell_meme": {
     "current": "63adc2de-676d-11ea-bf98-0242ac120002-8-b27b-ff8f-e811-7e3f-844b-d1de-a2db-2bbe",
     "execution_end_time": "2020-03-23T09:03:02.949354Z",
     "history": [
      {
       "current": "63adc2de-676d-11ea-bf98-0242ac120002-5-b27b-ff8f-e811-7e3f-844b",
       "next": "d701f354-6772-11ea-b0c1-02420a010039",
       "previous": "63adc2de-676d-11ea-bf98-0242ac120002-3-b27b-ff8f-e811"
      },
      {
       "current": "63adc2de-676d-11ea-bf98-0242ac120002-5-b27b-ff8f-e811-7e3f-844b",
       "next": "d701f354-6772-11ea-b0c1-02420a010039-1-4c91",
       "previous": "63adc2de-676d-11ea-bf98-0242ac120002-4-b27b-ff8f-e811-21ed"
      },
      {
       "current": "63adc2de-676d-11ea-bf98-0242ac120002-6-b27b-ff8f-e811-7e3f-844b-d1de",
       "next": "d701f354-6772-11ea-b0c1-02420a010039-1-4c91",
       "previous": "be15908c-6770-11ea-bf98-0242ac120002-2-d02a-2b08"
      },
      {
       "current": "63adc2de-676d-11ea-bf98-0242ac120002-7-b27b-ff8f-e811-7e3f-844b-d1de-a2db",
       "next": "d701f354-6772-11ea-b0c1-02420a010039-2-4c91-a06d",
       "previous": "be15908c-6770-11ea-bf98-0242ac120002-3-d02a-2b08-68bd"
      },
      {
       "current": "63adc2de-676d-11ea-bf98-0242ac120002-8-b27b-ff8f-e811-7e3f-844b-d1de-a2db-2bbe",
       "next": "d701f354-6772-11ea-b0c1-02420a010039-3-4c91-a06d-e227",
       "previous": "be15908c-6770-11ea-bf98-0242ac120002-4-d02a-2b08-68bd-c11a"
      }
     ],
     "next": "d701f354-6772-11ea-b0c1-02420a010039-4-4c91-a06d-e227-44c5",
     "previous": "be15908c-6770-11ea-bf98-0242ac120002-5-d02a-2b08-68bd-c11a-ecff"
    },
    "run_through_control": {
     "frozen": false,
     "read_only": false
    },
    "scrolled": true
   },
   "outputs": [],
   "source": [
    "!cd {work_dir}/{repo_name} && \\\n",
    "    ansible-playbook -i ~/ansible/inventory deploy.yml"
   ]
  },
  {
   "cell_type": "markdown",
   "metadata": {
    "lc_cell_meme": {
     "current": "d701f354-6772-11ea-b0c1-02420a010039-4-4c91-a06d-e227-44c5",
     "history": [
      {
       "current": "d701f354-6772-11ea-b0c1-02420a010039",
       "next": "d701f7dc-6772-11ea-b0c1-02420a010039",
       "previous": "63adc2de-676d-11ea-bf98-0242ac120002-3-b27b-ff8f-e811"
      },
      {
       "current": "d701f354-6772-11ea-b0c1-02420a010039-1-4c91",
       "next": "d701f7dc-6772-11ea-b0c1-02420a010039",
       "previous": "63adc2de-676d-11ea-bf98-0242ac120002-4-b27b-ff8f-e811-7e3f"
      },
      {
       "current": "d701f354-6772-11ea-b0c1-02420a010039-2-4c91-a06d",
       "next": "d701f7dc-6772-11ea-b0c1-02420a010039-1-2ee5",
       "previous": "63adc2de-676d-11ea-bf98-0242ac120002-5-b27b-ff8f-e811-7e3f-844b"
      },
      {
       "current": "d701f354-6772-11ea-b0c1-02420a010039-3-4c91-a06d-e227",
       "next": "d701f7dc-6772-11ea-b0c1-02420a010039-2-2ee5-7be4",
       "previous": "63adc2de-676d-11ea-bf98-0242ac120002-6-b27b-ff8f-e811-7e3f-844b-d1de"
      },
      {
       "current": "d701f354-6772-11ea-b0c1-02420a010039-4-4c91-a06d-e227-44c5",
       "next": "d701f7dc-6772-11ea-b0c1-02420a010039-3-2ee5-7be4-3d44",
       "previous": "63adc2de-676d-11ea-bf98-0242ac120002-7-b27b-ff8f-e811-7e3f-844b-d1de-a2db"
      }
     ],
     "next": "d701f7dc-6772-11ea-b0c1-02420a010039-4-2ee5-7be4-3d44-7d75",
     "previous": "63adc2de-676d-11ea-bf98-0242ac120002-8-b27b-ff8f-e811-7e3f-844b-d1de-a2db-2bbe"
    }
   },
   "source": [
    "# 確認\n",
    "\n",
    "ファイルが存在することを確認する"
   ]
  },
  {
   "cell_type": "code",
   "execution_count": null,
   "metadata": {
    "deletable": false,
    "editable": false,
    "lc_cell_meme": {
     "current": "d701f7dc-6772-11ea-b0c1-02420a010039-4-2ee5-7be4-3d44-7d75",
     "execution_end_time": "2020-03-23T09:03:04.523437Z",
     "history": [
      {
       "current": "d701f7dc-6772-11ea-b0c1-02420a010039-1-2ee5",
       "next": "d701fc14-6772-11ea-b0c1-02420a010039",
       "previous": "d701f354-6772-11ea-b0c1-02420a010039"
      },
      {
       "current": "d701f7dc-6772-11ea-b0c1-02420a010039-2-2ee5-7be4",
       "next": "d701fc14-6772-11ea-b0c1-02420a010039-1-3cfa",
       "previous": "d701f354-6772-11ea-b0c1-02420a010039-1-4c91"
      },
      {
       "current": "d701f7dc-6772-11ea-b0c1-02420a010039-3-2ee5-7be4-3d44",
       "next": "d701fc14-6772-11ea-b0c1-02420a010039-2-3cfa-ddfa",
       "previous": "d701f354-6772-11ea-b0c1-02420a010039-2-4c91-a06d"
      },
      {
       "current": "d701f7dc-6772-11ea-b0c1-02420a010039-4-2ee5-7be4-3d44-7d75",
       "next": "d701fc14-6772-11ea-b0c1-02420a010039-3-3cfa-ddfa-cbc9",
       "previous": "d701f354-6772-11ea-b0c1-02420a010039-3-4c91-a06d-e227"
      }
     ],
     "next": "d701fc14-6772-11ea-b0c1-02420a010039-4-3cfa-ddfa-cbc9-29b6",
     "previous": "d701f354-6772-11ea-b0c1-02420a010039-4-4c91-a06d-e227-44c5"
    },
    "run_through_control": {
     "frozen": false,
     "read_only": false
    }
   },
   "outputs": [],
   "source": [
    "!ls -l /jupyter/admin/admin_tools"
   ]
  },
  {
   "cell_type": "code",
   "execution_count": null,
   "metadata": {
    "deletable": false,
    "editable": false,
    "lc_cell_meme": {
     "current": "d701fc14-6772-11ea-b0c1-02420a010039-4-3cfa-ddfa-cbc9-29b6",
     "execution_end_time": "2020-03-23T09:03:06.099612Z",
     "history": [
      {
       "current": "d701fc14-6772-11ea-b0c1-02420a010039-1-3cfa",
       "next": "63adc392-676d-11ea-bf98-0242ac120002-1-a506",
       "previous": "d701f7dc-6772-11ea-b0c1-02420a010039"
      },
      {
       "current": "d701fc14-6772-11ea-b0c1-02420a010039-2-3cfa-ddfa",
       "next": "63adc392-676d-11ea-bf98-0242ac120002-2-a506-3ad0",
       "previous": "d701f7dc-6772-11ea-b0c1-02420a010039-1-2ee5"
      },
      {
       "current": "d701fc14-6772-11ea-b0c1-02420a010039-3-3cfa-ddfa-cbc9",
       "next": "63adc392-676d-11ea-bf98-0242ac120002-3-a506-3ad0-e73f",
       "previous": "d701f7dc-6772-11ea-b0c1-02420a010039-2-2ee5-7be4"
      },
      {
       "current": "d701fc14-6772-11ea-b0c1-02420a010039-4-3cfa-ddfa-cbc9-29b6",
       "next": "63adc392-676d-11ea-bf98-0242ac120002-4-a506-3ad0-e73f-49a1",
       "previous": "d701f7dc-6772-11ea-b0c1-02420a010039-3-2ee5-7be4-3d44"
      }
     ],
     "next": "63adc392-676d-11ea-bf98-0242ac120002-5-a506-3ad0-e73f-49a1-7262",
     "previous": "d701f7dc-6772-11ea-b0c1-02420a010039-4-2ee5-7be4-3d44-7d75"
    },
    "run_through_control": {
     "frozen": false,
     "read_only": false
    }
   },
   "outputs": [],
   "source": [
    "!ls -l /jupyter/admin/tools"
   ]
  },
  {
   "cell_type": "markdown",
   "metadata": {
    "lc_cell_meme": {
     "current": "63adc392-676d-11ea-bf98-0242ac120002-5-a506-3ad0-e73f-49a1-7262",
     "history": [
      {
       "current": "63adc392-676d-11ea-bf98-0242ac120002-1-a506",
       "next": "63adc446-676d-11ea-bf98-0242ac120002-1-a721",
       "previous": "63adc2de-676d-11ea-bf98-0242ac120002-3-b27b-ff8f-e811"
      },
      {
       "current": "63adc392-676d-11ea-bf98-0242ac120002-2-a506-3ad0",
       "next": "63adc446-676d-11ea-bf98-0242ac120002-1-a721",
       "previous": "d701fc14-6772-11ea-b0c1-02420a010039"
      },
      {
       "current": "63adc392-676d-11ea-bf98-0242ac120002-3-a506-3ad0-e73f",
       "next": "63adc446-676d-11ea-bf98-0242ac120002-2-a721-902b",
       "previous": "d701fc14-6772-11ea-b0c1-02420a010039-1-3cfa"
      },
      {
       "current": "63adc392-676d-11ea-bf98-0242ac120002-4-a506-3ad0-e73f-49a1",
       "next": "63adc446-676d-11ea-bf98-0242ac120002-3-a721-902b-0d7c",
       "previous": "d701fc14-6772-11ea-b0c1-02420a010039-2-3cfa-ddfa"
      },
      {
       "current": "63adc392-676d-11ea-bf98-0242ac120002-5-a506-3ad0-e73f-49a1-7262",
       "next": "63adc446-676d-11ea-bf98-0242ac120002-4-a721-902b-0d7c-7bb7",
       "previous": "d701fc14-6772-11ea-b0c1-02420a010039-3-3cfa-ddfa-cbc9"
      }
     ],
     "next": "63adc446-676d-11ea-bf98-0242ac120002-5-a721-902b-0d7c-7bb7-31cb",
     "previous": "d701fc14-6772-11ea-b0c1-02420a010039-4-3cfa-ddfa-cbc9-29b6"
    }
   },
   "source": [
    "# 後始末\n",
    "\n",
    "作業ファイルを削除する"
   ]
  },
  {
   "cell_type": "code",
   "execution_count": null,
   "metadata": {
    "deletable": false,
    "editable": false,
    "lc_cell_meme": {
     "current": "63adc446-676d-11ea-bf98-0242ac120002-5-a721-902b-0d7c-7bb7-31cb",
     "execution_end_time": "2020-03-23T09:17:29.819008Z",
     "history": [
      {
       "current": "63adc446-676d-11ea-bf98-0242ac120002-1-a721",
       "next": null,
       "previous": "63adc392-676d-11ea-bf98-0242ac120002"
      },
      {
       "current": "63adc446-676d-11ea-bf98-0242ac120002-2-a721-902b",
       "next": null,
       "previous": "63adc392-676d-11ea-bf98-0242ac120002-1-a506"
      },
      {
       "current": "63adc446-676d-11ea-bf98-0242ac120002-3-a721-902b-0d7c",
       "next": null,
       "previous": "63adc392-676d-11ea-bf98-0242ac120002-2-a506-3ad0"
      },
      {
       "current": "63adc446-676d-11ea-bf98-0242ac120002-4-a721-902b-0d7c-7bb7",
       "next": null,
       "previous": "63adc392-676d-11ea-bf98-0242ac120002-3-a506-3ad0-e73f"
      },
      {
       "current": "63adc446-676d-11ea-bf98-0242ac120002-5-a721-902b-0d7c-7bb7-31cb",
       "next": null,
       "previous": "63adc392-676d-11ea-bf98-0242ac120002-4-a506-3ad0-e73f-49a1"
      }
     ],
     "next": null,
     "previous": "63adc392-676d-11ea-bf98-0242ac120002-5-a506-3ad0-e73f-49a1-7262"
    },
    "run_through_control": {
     "frozen": false,
     "read_only": false
    }
   },
   "outputs": [],
   "source": [
    "!rm -rf {work_dir}"
   ]
  }
 ],
 "metadata": {
  "kernelspec": {
   "display_name": "Python 3",
   "language": "python",
   "name": "python3"
  },
  "language_info": {
   "file_extension": ".py",
   "mimetype": "text/x-python",
   "name": "python",
   "nbconvert_exporter": "python",
   "pygments_lexer": "ipython3",
   "version": "3.9.2"
  },
  "lc_notebook_meme": {
   "current": "0dac4df6-6763-11ea-bf98-0242ac120002"
  },
  "toc": {
   "base_numbering": 1,
   "nav_menu": {},
   "number_sections": true,
   "sideBar": true,
   "skip_h1_title": false,
   "title_cell": "Table of Contents",
   "title_sidebar": "Contents",
   "toc_cell": false,
   "toc_position": {},
   "toc_section_display": true,
   "toc_window_display": true
  }
 },
 "nbformat": 4,
 "nbformat_minor": 4
}
