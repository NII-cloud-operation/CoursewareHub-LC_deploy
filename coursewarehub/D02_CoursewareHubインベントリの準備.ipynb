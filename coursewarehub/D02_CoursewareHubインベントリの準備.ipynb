{
 "cells": [
  {
   "cell_type": "markdown",
   "id": "17afbf79",
   "metadata": {
    "lc_cell_meme": {
     "current": "a0aee9d2-0f86-11ec-bd98-c7638f7e44c5-7-17a2-a7c3-201e-c7fb-535e-9266-d8aa",
     "history": [
      {
       "current": "a0aee9d2-0f86-11ec-bd98-c7638f7e44c5-3-17a2-a7c3-201e",
       "next": "a0aeea57-0f86-11ec-8fed-c7638f7e44c5-3-b8ca-90ba-e08b",
       "previous": null
      },
      {
       "current": "a0aee9d2-0f86-11ec-bd98-c7638f7e44c5-4-17a2-a7c3-201e-c7fb",
       "next": "a0aeea57-0f86-11ec-8fed-c7638f7e44c5-4-b8ca-90ba-e08b-7e5d",
       "previous": null
      },
      {
       "current": "a0aee9d2-0f86-11ec-bd98-c7638f7e44c5-5-17a2-a7c3-201e-c7fb-535e",
       "next": "a0aeea57-0f86-11ec-8fed-c7638f7e44c5-5-b8ca-90ba-e08b-7e5d-88bc",
       "previous": null
      },
      {
       "current": "a0aee9d2-0f86-11ec-bd98-c7638f7e44c5-6-17a2-a7c3-201e-c7fb-535e-9266",
       "next": "a0aeea57-0f86-11ec-8fed-c7638f7e44c5-6-b8ca-90ba-e08b-7e5d-88bc-5957",
       "previous": null
      },
      {
       "current": "a0aee9d2-0f86-11ec-bd98-c7638f7e44c5-7-17a2-a7c3-201e-c7fb-535e-9266-d8aa",
       "next": "a0aeea57-0f86-11ec-8fed-c7638f7e44c5-7-b8ca-90ba-e08b-7e5d-88bc-5957-e575",
       "previous": null
      }
     ],
     "next": "a0aeea57-0f86-11ec-8fed-c7638f7e44c5-8-b8ca-90ba-e08b-7e5d-88bc-5957-e575-17df",
     "previous": null
    }
   },
   "source": [
    "# About: CoursewareHubインベントリの準備\n",
    "\n",
    "CoursewareHubに必要なソフトウェアの設定は [Ansible](https://www.ansible.com/) を利用します。\n",
    "\n",
    "これから設定するCoursewareHubに関する各種設定を、インベントリ ... 特に [Ansibleグループ変数](https://docs.ansible.com/ansible/latest/user_guide/playbooks_variables.html) として定義します。\n",
    "\n",
    "全ノードのインベントリファイルが`./hosts`に存在していることを前提とします。\n",
    "\n",
    "以下のようなフォルダ、ファイルにAnsible関連ファイルを配置します。\n",
    "\n",
    "- Inventoryファイルは `./(指定したインベントリ名)`\n",
    "- グループ変数定義ディレクトリは `./group_vars` とします。"
   ]
  },
  {
   "cell_type": "markdown",
   "id": "fd973adb",
   "metadata": {
    "lc_cell_meme": {
     "current": "a0aeea57-0f86-11ec-8fed-c7638f7e44c5-8-b8ca-90ba-e08b-7e5d-88bc-5957-e575-17df",
     "history": [
      {
       "current": "a0aeea57-0f86-11ec-8fed-c7638f7e44c5-4-b8ca-90ba-e08b-7e5d",
       "next": "e851861d-0f86-11ec-b216-c7638f7e44c5-2-7cf6-5e3f",
       "previous": "a0aee9d2-0f86-11ec-bd98-c7638f7e44c5-2-17a2-a7c3"
      },
      {
       "current": "a0aeea57-0f86-11ec-8fed-c7638f7e44c5-5-b8ca-90ba-e08b-7e5d-88bc",
       "next": "e851861d-0f86-11ec-b216-c7638f7e44c5-3-7cf6-5e3f-509b",
       "previous": "a0aee9d2-0f86-11ec-bd98-c7638f7e44c5-3-17a2-a7c3-201e"
      },
      {
       "current": "a0aeea57-0f86-11ec-8fed-c7638f7e44c5-6-b8ca-90ba-e08b-7e5d-88bc-5957",
       "next": "e851861d-0f86-11ec-b216-c7638f7e44c5-4-7cf6-5e3f-509b-e7af",
       "previous": "a0aee9d2-0f86-11ec-bd98-c7638f7e44c5-4-17a2-a7c3-201e-c7fb"
      },
      {
       "current": "a0aeea57-0f86-11ec-8fed-c7638f7e44c5-7-b8ca-90ba-e08b-7e5d-88bc-5957-e575",
       "next": "e851861d-0f86-11ec-b216-c7638f7e44c5-5-7cf6-5e3f-509b-e7af-5fc5",
       "previous": "a0aee9d2-0f86-11ec-bd98-c7638f7e44c5-5-17a2-a7c3-201e-c7fb-535e"
      },
      {
       "current": "a0aeea57-0f86-11ec-8fed-c7638f7e44c5-8-b8ca-90ba-e08b-7e5d-88bc-5957-e575-17df",
       "next": "e851861d-0f86-11ec-b216-c7638f7e44c5-6-7cf6-5e3f-509b-e7af-5fc5-cddb",
       "previous": "a0aee9d2-0f86-11ec-bd98-c7638f7e44c5-6-17a2-a7c3-201e-c7fb-535e-9266"
      }
     ],
     "next": "e851861d-0f86-11ec-b216-c7638f7e44c5-7-7cf6-5e3f-509b-e7af-5fc5-cddb-daa8",
     "previous": "a0aee9d2-0f86-11ec-bd98-c7638f7e44c5-7-17a2-a7c3-201e-c7fb-535e-9266-d8aa"
    }
   },
   "source": [
    "# 準備\n",
    "\n",
    "ファイルの準備をします。"
   ]
  },
  {
   "cell_type": "code",
   "execution_count": null,
   "id": "4eca36b0",
   "metadata": {
    "deletable": false,
    "editable": false,
    "lc_cell_meme": {
     "current": "e851861d-0f86-11ec-b216-c7638f7e44c5-7-7cf6-5e3f-509b-e7af-5fc5-cddb-daa8",
     "execution_end_time": "2022-04-27T10:32:06.070904Z",
     "history": [
      {
       "current": "e851861d-0f86-11ec-b216-c7638f7e44c5-3-7cf6-5e3f-509b",
       "next": "e8518757-0f86-11ec-bf88-c7638f7e44c5-2-1615-f291",
       "previous": "a0aeea57-0f86-11ec-8fed-c7638f7e44c5-3-b8ca-90ba-e08b"
      },
      {
       "current": "e851861d-0f86-11ec-b216-c7638f7e44c5-4-7cf6-5e3f-509b-e7af",
       "next": "e8518757-0f86-11ec-bf88-c7638f7e44c5-3-1615-f291-e257",
       "previous": "a0aeea57-0f86-11ec-8fed-c7638f7e44c5-4-b8ca-90ba-e08b-7e5d"
      },
      {
       "current": "e851861d-0f86-11ec-b216-c7638f7e44c5-5-7cf6-5e3f-509b-e7af-5fc5",
       "next": "e8518757-0f86-11ec-bf88-c7638f7e44c5-4-1615-f291-e257-d12a",
       "previous": "a0aeea57-0f86-11ec-8fed-c7638f7e44c5-5-b8ca-90ba-e08b-7e5d-88bc"
      },
      {
       "current": "e851861d-0f86-11ec-b216-c7638f7e44c5-6-7cf6-5e3f-509b-e7af-5fc5-cddb",
       "next": "e8518757-0f86-11ec-bf88-c7638f7e44c5-5-1615-f291-e257-d12a-5929",
       "previous": "a0aeea57-0f86-11ec-8fed-c7638f7e44c5-6-b8ca-90ba-e08b-7e5d-88bc-5957"
      },
      {
       "current": "e851861d-0f86-11ec-b216-c7638f7e44c5-7-7cf6-5e3f-509b-e7af-5fc5-cddb-daa8",
       "next": "e8518757-0f86-11ec-bf88-c7638f7e44c5-6-1615-f291-e257-d12a-5929-c3b8",
       "previous": "a0aeea57-0f86-11ec-8fed-c7638f7e44c5-7-b8ca-90ba-e08b-7e5d-88bc-5957-e575"
      }
     ],
     "next": "e8518757-0f86-11ec-bf88-c7638f7e44c5-7-1615-f291-e257-d12a-5929-c3b8-6336",
     "previous": "a0aeea57-0f86-11ec-8fed-c7638f7e44c5-8-b8ca-90ba-e08b-7e5d-88bc-5957-e575-17df"
    },
    "run_through_control": {
     "frozen": false,
     "read_only": false
    }
   },
   "outputs": [],
   "source": [
    "import os\n",
    "\n",
    "group_vars_dir = './group_vars'\n",
    "if not os.path.exists(group_vars_dir):\n",
    "    os.mkdir(group_vars_dir)\n",
    "!ls -la {group_vars_dir}"
   ]
  },
  {
   "cell_type": "markdown",
   "id": "40555e0d",
   "metadata": {
    "lc_cell_meme": {
     "current": "e8518757-0f86-11ec-bf88-c7638f7e44c5-7-1615-f291-e257-d12a-5929-c3b8-6336",
     "history": [
      {
       "current": "e8518757-0f86-11ec-bf88-c7638f7e44c5-3-1615-f291-e257",
       "next": "30306b68-0f87-11ec-beca-c7638f7e44c5-2-6ce1-8f08",
       "previous": "e851861d-0f86-11ec-b216-c7638f7e44c5-2-7cf6-5e3f"
      },
      {
       "current": "e8518757-0f86-11ec-bf88-c7638f7e44c5-4-1615-f291-e257-d12a",
       "next": "30306b68-0f87-11ec-beca-c7638f7e44c5-3-6ce1-8f08-17c6",
       "previous": "e851861d-0f86-11ec-b216-c7638f7e44c5-3-7cf6-5e3f-509b"
      },
      {
       "current": "e8518757-0f86-11ec-bf88-c7638f7e44c5-5-1615-f291-e257-d12a-5929",
       "next": "30306b68-0f87-11ec-beca-c7638f7e44c5-4-6ce1-8f08-17c6-5242",
       "previous": "e851861d-0f86-11ec-b216-c7638f7e44c5-4-7cf6-5e3f-509b-e7af"
      },
      {
       "current": "e8518757-0f86-11ec-bf88-c7638f7e44c5-6-1615-f291-e257-d12a-5929-c3b8",
       "next": "30306b68-0f87-11ec-beca-c7638f7e44c5-5-6ce1-8f08-17c6-5242-4252",
       "previous": "e851861d-0f86-11ec-b216-c7638f7e44c5-5-7cf6-5e3f-509b-e7af-5fc5"
      },
      {
       "current": "e8518757-0f86-11ec-bf88-c7638f7e44c5-7-1615-f291-e257-d12a-5929-c3b8-6336",
       "next": "30306b68-0f87-11ec-beca-c7638f7e44c5-6-6ce1-8f08-17c6-5242-4252-79d2",
       "previous": "e851861d-0f86-11ec-b216-c7638f7e44c5-6-7cf6-5e3f-509b-e7af-5fc5-cddb"
      }
     ],
     "next": "30306b68-0f87-11ec-beca-c7638f7e44c5-7-6ce1-8f08-17c6-5242-4252-79d2-8a29",
     "previous": "e851861d-0f86-11ec-b216-c7638f7e44c5-7-7cf6-5e3f-509b-e7af-5fc5-cddb-daa8"
    }
   },
   "source": [
    "# 利用可能なサーバーの確認\n",
    "\n",
    "設定対象のサーバーは、すでに `D01_CoursewareHub用VMをAWSに作成.ipynb` などで、Inventory(`./hosts`)に設定されているものとします。"
   ]
  },
  {
   "cell_type": "code",
   "execution_count": null,
   "id": "dc08f827",
   "metadata": {
    "deletable": false,
    "editable": false,
    "lc_cell_meme": {
     "current": "30306b68-0f87-11ec-beca-c7638f7e44c5-7-6ce1-8f08-17c6-5242-4252-79d2-8a29",
     "execution_end_time": "2022-04-27T10:32:07.204469Z",
     "history": [
      {
       "current": "30306b68-0f87-11ec-beca-c7638f7e44c5-3-6ce1-8f08-17c6",
       "next": "30306cab-0f87-11ec-975c-c7638f7e44c5-2-6073-fa58",
       "previous": "e8518757-0f86-11ec-bf88-c7638f7e44c5-2-1615-f291"
      },
      {
       "current": "30306b68-0f87-11ec-beca-c7638f7e44c5-4-6ce1-8f08-17c6-5242",
       "next": "30306cab-0f87-11ec-975c-c7638f7e44c5-3-6073-fa58-a484",
       "previous": "e8518757-0f86-11ec-bf88-c7638f7e44c5-3-1615-f291-e257"
      },
      {
       "current": "30306b68-0f87-11ec-beca-c7638f7e44c5-5-6ce1-8f08-17c6-5242-4252",
       "next": "30306cab-0f87-11ec-975c-c7638f7e44c5-4-6073-fa58-a484-bbfe",
       "previous": "e8518757-0f86-11ec-bf88-c7638f7e44c5-4-1615-f291-e257-d12a"
      },
      {
       "current": "30306b68-0f87-11ec-beca-c7638f7e44c5-6-6ce1-8f08-17c6-5242-4252-79d2",
       "next": "30306cab-0f87-11ec-975c-c7638f7e44c5-5-6073-fa58-a484-bbfe-fa13",
       "previous": "e8518757-0f86-11ec-bf88-c7638f7e44c5-5-1615-f291-e257-d12a-5929"
      },
      {
       "current": "30306b68-0f87-11ec-beca-c7638f7e44c5-7-6ce1-8f08-17c6-5242-4252-79d2-8a29",
       "next": "30306cab-0f87-11ec-975c-c7638f7e44c5-6-6073-fa58-a484-bbfe-fa13-8210",
       "previous": "e8518757-0f86-11ec-bf88-c7638f7e44c5-6-1615-f291-e257-d12a-5929-c3b8"
      }
     ],
     "next": "30306cab-0f87-11ec-975c-c7638f7e44c5-7-6073-fa58-a484-bbfe-fa13-8210-b617",
     "previous": "e8518757-0f86-11ec-bf88-c7638f7e44c5-7-1615-f291-e257-d12a-5929-c3b8-6336"
    },
    "run_through_control": {
     "frozen": false,
     "read_only": false
    },
    "scrolled": true
   },
   "outputs": [],
   "source": [
    "hosts_file = './hosts'\n",
    "!cat {hosts_file}"
   ]
  },
  {
   "cell_type": "markdown",
   "id": "290c39e4",
   "metadata": {
    "lc_cell_meme": {
     "current": "30306cab-0f87-11ec-975c-c7638f7e44c5-7-6073-fa58-a484-bbfe-fa13-8210-b617",
     "history": [
      {
       "current": "30306cab-0f87-11ec-975c-c7638f7e44c5-3-6073-fa58-a484",
       "next": "bee36054-0f87-11ec-a987-c7638f7e44c5-2-04f2-12fe",
       "previous": "30306b68-0f87-11ec-beca-c7638f7e44c5-2-6ce1-8f08"
      },
      {
       "current": "30306cab-0f87-11ec-975c-c7638f7e44c5-4-6073-fa58-a484-bbfe",
       "next": "bee36054-0f87-11ec-a987-c7638f7e44c5-3-04f2-12fe-fbc6",
       "previous": "30306b68-0f87-11ec-beca-c7638f7e44c5-3-6ce1-8f08-17c6"
      },
      {
       "current": "30306cab-0f87-11ec-975c-c7638f7e44c5-5-6073-fa58-a484-bbfe-fa13",
       "next": "bee36054-0f87-11ec-a987-c7638f7e44c5-4-04f2-12fe-fbc6-5afc",
       "previous": "30306b68-0f87-11ec-beca-c7638f7e44c5-4-6ce1-8f08-17c6-5242"
      },
      {
       "current": "30306cab-0f87-11ec-975c-c7638f7e44c5-6-6073-fa58-a484-bbfe-fa13-8210",
       "next": "bee36054-0f87-11ec-a987-c7638f7e44c5-5-04f2-12fe-fbc6-5afc-b192",
       "previous": "30306b68-0f87-11ec-beca-c7638f7e44c5-5-6ce1-8f08-17c6-5242-4252"
      },
      {
       "current": "30306cab-0f87-11ec-975c-c7638f7e44c5-7-6073-fa58-a484-bbfe-fa13-8210-b617",
       "next": "bee36054-0f87-11ec-a987-c7638f7e44c5-6-04f2-12fe-fbc6-5afc-b192-c619",
       "previous": "30306b68-0f87-11ec-beca-c7638f7e44c5-6-6ce1-8f08-17c6-5242-4252-79d2"
      }
     ],
     "next": "bee36054-0f87-11ec-a987-c7638f7e44c5-7-04f2-12fe-fbc6-5afc-b192-c619-b091",
     "previous": "30306b68-0f87-11ec-beca-c7638f7e44c5-7-6ce1-8f08-17c6-5242-4252-79d2-8a29"
    }
   },
   "source": [
    "Ansible Inventory中に定義されているグループ( `[グループ名]` のように`[]`で囲まれた定義 )のうち、CoursewareHub構築に使うグループ名を指定します。"
   ]
  },
  {
   "cell_type": "code",
   "execution_count": null,
   "id": "f992abd4",
   "metadata": {
    "deletable": false,
    "editable": false,
    "lc_cell_meme": {
     "current": "bee36054-0f87-11ec-a987-c7638f7e44c5-7-04f2-12fe-fbc6-5afc-b192-c619-b091",
     "execution_end_time": "2022-04-27T10:32:11.279584Z",
     "history": [
      {
       "current": "bee36054-0f87-11ec-a987-c7638f7e44c5-3-04f2-12fe-fbc6",
       "next": "21bb3e1b-8568-11ec-afef-6b42dc3e1973",
       "previous": "30306cab-0f87-11ec-975c-c7638f7e44c5-2-6073-fa58"
      },
      {
       "current": "bee36054-0f87-11ec-a987-c7638f7e44c5-4-04f2-12fe-fbc6-5afc",
       "next": "065033a5-0f88-11ec-98ee-c7638f7e44c5-3-2c1d-4b63-d60c",
       "previous": "30306cab-0f87-11ec-975c-c7638f7e44c5-3-6073-fa58-a484"
      },
      {
       "current": "bee36054-0f87-11ec-a987-c7638f7e44c5-5-04f2-12fe-fbc6-5afc-b192",
       "next": "065033a5-0f88-11ec-98ee-c7638f7e44c5-4-2c1d-4b63-d60c-f151",
       "previous": "30306cab-0f87-11ec-975c-c7638f7e44c5-4-6073-fa58-a484-bbfe"
      },
      {
       "current": "bee36054-0f87-11ec-a987-c7638f7e44c5-6-04f2-12fe-fbc6-5afc-b192-c619",
       "next": "065033a5-0f88-11ec-98ee-c7638f7e44c5-5-2c1d-4b63-d60c-f151-6042",
       "previous": "30306cab-0f87-11ec-975c-c7638f7e44c5-5-6073-fa58-a484-bbfe-fa13"
      },
      {
       "current": "bee36054-0f87-11ec-a987-c7638f7e44c5-7-04f2-12fe-fbc6-5afc-b192-c619-b091",
       "next": "065033a5-0f88-11ec-98ee-c7638f7e44c5-6-2c1d-4b63-d60c-f151-6042-9ddd",
       "previous": "30306cab-0f87-11ec-975c-c7638f7e44c5-6-6073-fa58-a484-bbfe-fa13-8210"
      }
     ],
     "next": "065033a5-0f88-11ec-98ee-c7638f7e44c5-7-2c1d-4b63-d60c-f151-6042-9ddd-f452",
     "previous": "30306cab-0f87-11ec-975c-c7638f7e44c5-7-6073-fa58-a484-bbfe-fa13-8210-b617"
    },
    "run_through_control": {
     "frozen": false,
     "read_only": false
    },
    "scrolled": true
   },
   "outputs": [],
   "source": [
    "target_group = 'cwhtest0001'\n",
    "\n",
    "# 接続確認\n",
    "%env ANSIBLE_INVENTORY={hosts_file}\n",
    "!ansible -m ping {target_group}"
   ]
  },
  {
   "cell_type": "markdown",
   "id": "b90d77b7",
   "metadata": {
    "lc_cell_meme": {
     "current": "065033a5-0f88-11ec-98ee-c7638f7e44c5-7-2c1d-4b63-d60c-f151-6042-9ddd-f452",
     "history": [
      {
       "current": "065033a5-0f88-11ec-98ee-c7638f7e44c5-3-2c1d-4b63-d60c",
       "next": "4dd3d374-0f88-11ec-b488-c7638f7e44c5-1-656e",
       "previous": "bee36054-0f87-11ec-a987-c7638f7e44c5-1-04f2"
      },
      {
       "current": "065033a5-0f88-11ec-98ee-c7638f7e44c5-4-2c1d-4b63-d60c-f151",
       "next": "4dd3d374-0f88-11ec-b488-c7638f7e44c5-3-656e-068b-d7b1",
       "previous": "bee36054-0f87-11ec-a987-c7638f7e44c5-3-04f2-12fe-fbc6"
      },
      {
       "current": "065033a5-0f88-11ec-98ee-c7638f7e44c5-5-2c1d-4b63-d60c-f151-6042",
       "next": "4dd3d374-0f88-11ec-b488-c7638f7e44c5-4-656e-068b-d7b1-7cfa",
       "previous": "bee36054-0f87-11ec-a987-c7638f7e44c5-4-04f2-12fe-fbc6-5afc"
      },
      {
       "current": "065033a5-0f88-11ec-98ee-c7638f7e44c5-6-2c1d-4b63-d60c-f151-6042-9ddd",
       "next": "4dd3d374-0f88-11ec-b488-c7638f7e44c5-5-656e-068b-d7b1-7cfa-c01b",
       "previous": "bee36054-0f87-11ec-a987-c7638f7e44c5-5-04f2-12fe-fbc6-5afc-b192"
      },
      {
       "current": "065033a5-0f88-11ec-98ee-c7638f7e44c5-7-2c1d-4b63-d60c-f151-6042-9ddd-f452",
       "next": "4dd3d374-0f88-11ec-b488-c7638f7e44c5-6-656e-068b-d7b1-7cfa-c01b-e96b",
       "previous": "bee36054-0f87-11ec-a987-c7638f7e44c5-6-04f2-12fe-fbc6-5afc-b192-c619"
      }
     ],
     "next": "4dd3d374-0f88-11ec-b488-c7638f7e44c5-7-656e-068b-d7b1-7cfa-c01b-e96b-686d",
     "previous": "bee36054-0f87-11ec-a987-c7638f7e44c5-7-04f2-12fe-fbc6-5afc-b192-c619-b091"
    }
   },
   "source": [
    "# サーバーの役割の決定"
   ]
  },
  {
   "cell_type": "markdown",
   "id": "1be42a96",
   "metadata": {
    "lc_cell_meme": {
     "current": "4dd3d374-0f88-11ec-b488-c7638f7e44c5-7-656e-068b-d7b1-7cfa-c01b-e96b-686d",
     "history": [
      {
       "current": "4dd3d374-0f88-11ec-b488-c7638f7e44c5-3-656e-068b-d7b1",
       "next": "4dd3d4be-0f88-11ec-8f73-c7638f7e44c5-3-6795-e66d-9f79",
       "previous": "065033a5-0f88-11ec-98ee-c7638f7e44c5-3-2c1d-4b63-d60c"
      },
      {
       "current": "4dd3d374-0f88-11ec-b488-c7638f7e44c5-4-656e-068b-d7b1-7cfa",
       "next": "e09cbd82-9a08-11ec-8579-0242ac120002",
       "previous": "065033a5-0f88-11ec-98ee-c7638f7e44c5-3-2c1d-4b63-d60c"
      },
      {
       "current": "4dd3d374-0f88-11ec-b488-c7638f7e44c5-5-656e-068b-d7b1-7cfa-c01b",
       "next": "e09cbd82-9a08-11ec-8579-0242ac120002-1-7212",
       "previous": "065033a5-0f88-11ec-98ee-c7638f7e44c5-4-2c1d-4b63-d60c-f151"
      },
      {
       "current": "4dd3d374-0f88-11ec-b488-c7638f7e44c5-6-656e-068b-d7b1-7cfa-c01b-e96b",
       "next": "e09cbd82-9a08-11ec-8579-0242ac120002-2-7212-66a5",
       "previous": "065033a5-0f88-11ec-98ee-c7638f7e44c5-5-2c1d-4b63-d60c-f151-6042"
      },
      {
       "current": "4dd3d374-0f88-11ec-b488-c7638f7e44c5-7-656e-068b-d7b1-7cfa-c01b-e96b-686d",
       "next": "e09cbd82-9a08-11ec-8579-0242ac120002-3-7212-66a5-81f8",
       "previous": "065033a5-0f88-11ec-98ee-c7638f7e44c5-6-2c1d-4b63-d60c-f151-6042-9ddd"
      }
     ],
     "next": "e09cbd82-9a08-11ec-8579-0242ac120002-4-7212-66a5-81f8-d603",
     "previous": "065033a5-0f88-11ec-98ee-c7638f7e44c5-7-2c1d-4b63-d60c-f151-6042-9ddd-f452"
    }
   },
   "source": [
    "以下の3つのサーバーに対して、役割を設定します。"
   ]
  },
  {
   "cell_type": "code",
   "execution_count": null,
   "id": "2c396be0",
   "metadata": {
    "deletable": false,
    "editable": false,
    "lc_cell_meme": {
     "current": "e09cbd82-9a08-11ec-8579-0242ac120002-4-7212-66a5-81f8-d603",
     "execution_end_time": "2022-04-27T10:32:19.141891Z",
     "history": [
      {
       "current": "e09cbd82-9a08-11ec-8579-0242ac120002-1-7212",
       "next": "ed6bd4e2-4c5d-11e9-b2d5-0242ac130002-14-e3ba-e8da-ac15-9144-3c52-3520-bf96-3125-381e-3838",
       "previous": "4dd3d374-0f88-11ec-b488-c7638f7e44c5-3-656e-068b-d7b1"
      },
      {
       "current": "e09cbd82-9a08-11ec-8579-0242ac120002-2-7212-66a5",
       "next": "ed6bd4e2-4c5d-11e9-b2d5-0242ac130002-15-e8da-ac15-9144-3c52-3520-bf96-3125-381e-3838-04d8",
       "previous": "4dd3d374-0f88-11ec-b488-c7638f7e44c5-4-656e-068b-d7b1-7cfa"
      },
      {
       "current": "e09cbd82-9a08-11ec-8579-0242ac120002-3-7212-66a5-81f8",
       "next": "ed6bd4e2-4c5d-11e9-b2d5-0242ac130002-16-ac15-9144-3c52-3520-bf96-3125-381e-3838-04d8-adc8",
       "previous": "4dd3d374-0f88-11ec-b488-c7638f7e44c5-5-656e-068b-d7b1-7cfa-c01b"
      },
      {
       "current": "e09cbd82-9a08-11ec-8579-0242ac120002-4-7212-66a5-81f8-d603",
       "next": "ed6bd4e2-4c5d-11e9-b2d5-0242ac130002-17-9144-3c52-3520-bf96-3125-381e-3838-04d8-adc8-f96c",
       "previous": "4dd3d374-0f88-11ec-b488-c7638f7e44c5-6-656e-068b-d7b1-7cfa-c01b-e96b"
      }
     ],
     "next": "ed6bd4e2-4c5d-11e9-b2d5-0242ac130002-18-3c52-3520-bf96-3125-381e-3838-04d8-adc8-f96c-8214",
     "previous": "4dd3d374-0f88-11ec-b488-c7638f7e44c5-7-656e-068b-d7b1-7cfa-c01b-e96b-686d"
    },
    "run_through_control": {
     "frozen": false,
     "read_only": false
    }
   },
   "outputs": [],
   "source": [
    "hosts_stdout = !ansible -m ping {target_group}\n",
    "hosts = [line.split()[0] for line in hosts_stdout if 'SUCCESS' in line]\n",
    "hosts"
   ]
  },
  {
   "cell_type": "markdown",
   "id": "3412a5f4",
   "metadata": {
    "lc_cell_meme": {
     "current": "ed6bd4e2-4c5d-11e9-b2d5-0242ac130002-18-3c52-3520-bf96-3125-381e-3838-04d8-adc8-f96c-8214",
     "history": [
      {
       "current": "ed6bd4e2-4c5d-11e9-b2d5-0242ac130002-14-e3ba-e8da-ac15-9144-3c52-3520-bf96-3125-381e-3838",
       "next": "30306d2c-0f87-11ec-a1ba-c7638f7e44c5-3-7ff3-301b-3af3",
       "previous": "e09cbd82-9a08-11ec-8579-0242ac120002"
      },
      {
       "current": "ed6bd4e2-4c5d-11e9-b2d5-0242ac130002-15-e8da-ac15-9144-3c52-3520-bf96-3125-381e-3838-04d8",
       "next": "2823e027-9a09-11ec-9d86-0242ac120002",
       "previous": "e09cbd82-9a08-11ec-8579-0242ac120002"
      },
      {
       "current": "ed6bd4e2-4c5d-11e9-b2d5-0242ac130002-16-ac15-9144-3c52-3520-bf96-3125-381e-3838-04d8-adc8",
       "next": "2823e027-9a09-11ec-9d86-0242ac120002-1-fbc1",
       "previous": "e09cbd82-9a08-11ec-8579-0242ac120002-1-7212"
      },
      {
       "current": "ed6bd4e2-4c5d-11e9-b2d5-0242ac130002-17-9144-3c52-3520-bf96-3125-381e-3838-04d8-adc8-f96c",
       "next": "2823e027-9a09-11ec-9d86-0242ac120002-2-fbc1-5527",
       "previous": "e09cbd82-9a08-11ec-8579-0242ac120002-2-7212-66a5"
      },
      {
       "current": "ed6bd4e2-4c5d-11e9-b2d5-0242ac130002-18-3c52-3520-bf96-3125-381e-3838-04d8-adc8-f96c-8214",
       "next": "2823e027-9a09-11ec-9d86-0242ac120002-3-fbc1-5527-9ea7",
       "previous": "e09cbd82-9a08-11ec-8579-0242ac120002-3-7212-66a5-81f8"
      }
     ],
     "next": "2823e027-9a09-11ec-9d86-0242ac120002-4-fbc1-5527-9ea7-309c",
     "previous": "e09cbd82-9a08-11ec-8579-0242ac120002-4-7212-66a5-81f8-d603"
    }
   },
   "source": [
    "以下のコードセルに、NFSサーバーとして使うサーバーと、CoursewareHub masterとして使うサーバーのそれぞれのInventoryでのIPアドレスを記入してください。\n",
    "\n",
    "設定例)\n",
    "\n",
    "**NFSサーバーをCousewareHubのノードと分離する場合**\n",
    "\n",
    "* `10.1.1.100` ... NFSサーバー\n",
    "* `10.1.1.101` ... CoursewareHubノード1\n",
    "* `10.1.1.102` ... CoursewareHubノード2\n",
    "\n",
    "```\n",
    "# NFSサーバーとして使うサーバー\n",
    "nfs_server = '10.1.1.100'\n",
    "\n",
    "# CoursewareHub masterとして使うサーバー ... public_ipがついているものである必要があります\n",
    "master_server = '10.1.1.101'\n",
    "\n",
    "# いずれにも指定されていないサーバーはnodeとして自動的に設定されます。\n",
    "```\n",
    "\n",
    "**NFSサーバーをCousewareHubのmasterノードと共有する場合**\n",
    "\n",
    "* `10.1.1.101` ... CoursewareHubノード1 / NFSサーバー\n",
    "* `10.1.1.102` ... CoursewareHubノード2\n",
    "\n",
    "\n",
    "```\n",
    "# NFSサーバーとして使うサーバー\n",
    "nfs_server = '10.1.1.101'\n",
    "\n",
    "# CoursewareHub masterとして使うサーバー ... public_ipがついているものである必要があります\n",
    "master_server = '10.1.1.101'\n",
    "\n",
    "# いずれにも指定されていないサーバーはnodeとして自動的に設定されます。\n",
    "```\n"
   ]
  },
  {
   "cell_type": "code",
   "execution_count": null,
   "id": "ce3d3852",
   "metadata": {
    "deletable": false,
    "editable": false,
    "lc_cell_meme": {
     "current": "2823e027-9a09-11ec-9d86-0242ac120002-4-fbc1-5527-9ea7-309c",
     "execution_end_time": "2022-04-27T10:32:31.540206Z",
     "history": [
      {
       "current": "2823e027-9a09-11ec-9d86-0242ac120002-1-fbc1",
       "next": "2823e10c-9a09-11ec-8e6e-0242ac120002",
       "previous": "ed6bd4e2-4c5d-11e9-b2d5-0242ac130002-14-e3ba-e8da-ac15-9144-3c52-3520-bf96-3125-381e-3838"
      },
      {
       "current": "2823e027-9a09-11ec-9d86-0242ac120002-2-fbc1-5527",
       "next": "2823e10c-9a09-11ec-8e6e-0242ac120002-1-b29a",
       "previous": "ed6bd4e2-4c5d-11e9-b2d5-0242ac130002-15-e8da-ac15-9144-3c52-3520-bf96-3125-381e-3838-04d8"
      },
      {
       "current": "2823e027-9a09-11ec-9d86-0242ac120002-3-fbc1-5527-9ea7",
       "next": "2823e10c-9a09-11ec-8e6e-0242ac120002-2-b29a-03e0",
       "previous": "ed6bd4e2-4c5d-11e9-b2d5-0242ac130002-16-ac15-9144-3c52-3520-bf96-3125-381e-3838-04d8-adc8"
      },
      {
       "current": "2823e027-9a09-11ec-9d86-0242ac120002-4-fbc1-5527-9ea7-309c",
       "next": "2823e10c-9a09-11ec-8e6e-0242ac120002-3-b29a-03e0-9c58",
       "previous": "ed6bd4e2-4c5d-11e9-b2d5-0242ac130002-17-9144-3c52-3520-bf96-3125-381e-3838-04d8-adc8-f96c"
      }
     ],
     "next": "2823e10c-9a09-11ec-8e6e-0242ac120002-4-b29a-03e0-9c58-fccf",
     "previous": "ed6bd4e2-4c5d-11e9-b2d5-0242ac130002-18-3c52-3520-bf96-3125-381e-3838-04d8-adc8-f96c-8214"
    },
    "run_through_control": {
     "frozen": false,
     "read_only": false
    }
   },
   "outputs": [],
   "source": [
    "# NFSサーバーとして使うサーバー\n",
    "nfs_server = '10.1.1.162'\n",
    "\n",
    "# CoursewareHub masterとして使うサーバー ... public_ipがついているものである必要\n",
    "master_server = '10.1.1.162'\n",
    "\n",
    "# いずれにも指定されていないサーバーはworker nodeとして自動的に設定されます。"
   ]
  },
  {
   "cell_type": "markdown",
   "id": "fd00d429",
   "metadata": {},
   "source": [
    "指定されたIPアドレス(`nfs_server`, `master_server`)がインベントリ中にあるか検証します。\n",
    "\n",
    "以下のセル実行に失敗する場合は、前のセルを選択後Freezeを解除 <i class='fa fa-fw fa-snowflake-o' style='color:gray;'></i> し、正しい値を再設定、実行してください。"
   ]
  },
  {
   "cell_type": "code",
   "execution_count": null,
   "id": "18ee8fb5",
   "metadata": {},
   "outputs": [],
   "source": [
    "assert nfs_server in hosts, 'nfs_server の指定がinventory中に見つかりません'\n",
    "assert master_server in hosts, 'master_server の指定がinventory中に見つかりません'\n",
    "\n",
    "# 以下は master_server に public_ipプロパティが定義されていないとエラーとなる\n",
    "!ansible -m debug -a 'msg={{{{ public_ip }}}}' {target_group} -l {master_server}"
   ]
  },
  {
   "cell_type": "markdown",
   "id": "c85cb2a8",
   "metadata": {},
   "source": [
    "問題なければ変数 `worker_servers` を定義する。"
   ]
  },
  {
   "cell_type": "code",
   "execution_count": null,
   "id": "d2ece218",
   "metadata": {
    "deletable": false,
    "editable": false,
    "lc_cell_meme": {
     "current": "2823e10c-9a09-11ec-8e6e-0242ac120002-4-b29a-03e0-9c58-fccf",
     "execution_end_time": "2022-04-27T10:32:33.022660Z",
     "history": [
      {
       "current": "2823e10c-9a09-11ec-8e6e-0242ac120002-1-b29a",
       "next": "a57e4cb3-856a-11ec-afa7-6b42dc3e1973-1-eda0",
       "previous": "2823e027-9a09-11ec-9d86-0242ac120002"
      },
      {
       "current": "2823e10c-9a09-11ec-8e6e-0242ac120002-2-b29a-03e0",
       "next": "a57e4cb3-856a-11ec-afa7-6b42dc3e1973-2-eda0-f847",
       "previous": "2823e027-9a09-11ec-9d86-0242ac120002-1-fbc1"
      },
      {
       "current": "2823e10c-9a09-11ec-8e6e-0242ac120002-3-b29a-03e0-9c58",
       "next": "a57e4cb3-856a-11ec-afa7-6b42dc3e1973-3-eda0-f847-0aff",
       "previous": "2823e027-9a09-11ec-9d86-0242ac120002-2-fbc1-5527"
      },
      {
       "current": "2823e10c-9a09-11ec-8e6e-0242ac120002-4-b29a-03e0-9c58-fccf",
       "next": "a57e4cb3-856a-11ec-afa7-6b42dc3e1973-4-eda0-f847-0aff-ba78",
       "previous": "2823e027-9a09-11ec-9d86-0242ac120002-3-fbc1-5527-9ea7"
      }
     ],
     "next": "a57e4cb3-856a-11ec-afa7-6b42dc3e1973-5-eda0-f847-0aff-ba78-ea64",
     "previous": "2823e027-9a09-11ec-9d86-0242ac120002-4-fbc1-5527-9ea7-309c"
    },
    "run_through_control": {
     "frozen": false,
     "read_only": false
    }
   },
   "outputs": [],
   "source": [
    "worker_servers = list(set(hosts) - {nfs_server, master_server})\n",
    "worker_servers"
   ]
  },
  {
   "cell_type": "code",
   "execution_count": null,
   "id": "7fc65a68",
   "metadata": {
    "deletable": false,
    "editable": false,
    "lc_cell_meme": {
     "current": "a57e4cb3-856a-11ec-afa7-6b42dc3e1973-5-eda0-f847-0aff-ba78-ea64",
     "execution_end_time": "2022-04-27T10:32:34.352080Z",
     "history": [
      {
       "current": "a57e4cb3-856a-11ec-afa7-6b42dc3e1973-1-eda0",
       "next": "8e7c2bb6-841f-11ec-92b5-6b42dc3e1973-1-8754",
       "previous": "edc215c0-8810-11ec-9184-6b42dc3e1973-1-3ea8"
      },
      {
       "current": "a57e4cb3-856a-11ec-afa7-6b42dc3e1973-2-eda0-f847",
       "next": "8e7c2bb6-841f-11ec-92b5-6b42dc3e1973-1-8754",
       "previous": "2823e10c-9a09-11ec-8e6e-0242ac120002"
      },
      {
       "current": "a57e4cb3-856a-11ec-afa7-6b42dc3e1973-3-eda0-f847-0aff",
       "next": "8e7c2bb6-841f-11ec-92b5-6b42dc3e1973-2-8754-98c0",
       "previous": "2823e10c-9a09-11ec-8e6e-0242ac120002-1-b29a"
      },
      {
       "current": "a57e4cb3-856a-11ec-afa7-6b42dc3e1973-4-eda0-f847-0aff-ba78",
       "next": "8e7c2bb6-841f-11ec-92b5-6b42dc3e1973-3-8754-98c0-efee",
       "previous": "2823e10c-9a09-11ec-8e6e-0242ac120002-2-b29a-03e0"
      },
      {
       "current": "a57e4cb3-856a-11ec-afa7-6b42dc3e1973-5-eda0-f847-0aff-ba78-ea64",
       "next": "8e7c2bb6-841f-11ec-92b5-6b42dc3e1973-4-8754-98c0-efee-b138",
       "previous": "2823e10c-9a09-11ec-8e6e-0242ac120002-3-b29a-03e0-9c58"
      }
     ],
     "next": "8e7c2bb6-841f-11ec-92b5-6b42dc3e1973-5-8754-98c0-efee-b138-6922",
     "previous": "2823e10c-9a09-11ec-8e6e-0242ac120002-4-b29a-03e0-9c58-fccf"
    },
    "run_through_control": {
     "frozen": false,
     "read_only": false
    }
   },
   "outputs": [],
   "source": [
    "print('nfs_server: {}'.format(nfs_server))\n",
    "print('master_server: {}'.format(master_server))\n",
    "print('worker_nodes:')\n",
    "for node in worker_servers:\n",
    "    print('  {}'.format(node))"
   ]
  },
  {
   "cell_type": "markdown",
   "id": "c16b858b",
   "metadata": {
    "lc_cell_meme": {
     "current": "8e7c2bb6-841f-11ec-92b5-6b42dc3e1973-5-8754-98c0-efee-b138-6922",
     "history": [
      {
       "current": "8e7c2bb6-841f-11ec-92b5-6b42dc3e1973-1-8754",
       "next": "abeb3a0e-3842-11ea-9fe0-0242ac120002-13-06cd-1427-8549-8e71-f8c2-d9f1-b790-ecfb-fe84-dbad",
       "previous": "a57e4cb3-856a-11ec-afa7-6b42dc3e1973"
      },
      {
       "current": "8e7c2bb6-841f-11ec-92b5-6b42dc3e1973-2-8754-98c0",
       "next": "abeb3a0e-3842-11ea-9fe0-0242ac120002-14-1427-8549-8e71-f8c2-d9f1-b790-ecfb-fe84-dbad-2eac",
       "previous": "a57e4cb3-856a-11ec-afa7-6b42dc3e1973-1-eda0"
      },
      {
       "current": "8e7c2bb6-841f-11ec-92b5-6b42dc3e1973-3-8754-98c0-efee",
       "next": "abeb3a0e-3842-11ea-9fe0-0242ac120002-15-8549-8e71-f8c2-d9f1-b790-ecfb-fe84-dbad-2eac-2ade",
       "previous": "a57e4cb3-856a-11ec-afa7-6b42dc3e1973-2-eda0-f847"
      },
      {
       "current": "8e7c2bb6-841f-11ec-92b5-6b42dc3e1973-4-8754-98c0-efee-b138",
       "next": "abeb3a0e-3842-11ea-9fe0-0242ac120002-16-8e71-f8c2-d9f1-b790-ecfb-fe84-dbad-2eac-2ade-e531",
       "previous": "a57e4cb3-856a-11ec-afa7-6b42dc3e1973-3-eda0-f847-0aff"
      },
      {
       "current": "8e7c2bb6-841f-11ec-92b5-6b42dc3e1973-5-8754-98c0-efee-b138-6922",
       "next": "abeb3a0e-3842-11ea-9fe0-0242ac120002-17-f8c2-d9f1-b790-ecfb-fe84-dbad-2eac-2ade-e531-bf23",
       "previous": "a57e4cb3-856a-11ec-afa7-6b42dc3e1973-4-eda0-f847-0aff-ba78"
      }
     ],
     "next": "abeb3a0e-3842-11ea-9fe0-0242ac120002-18-d9f1-b790-ecfb-fe84-dbad-2eac-2ade-e531-bf23-dccf",
     "previous": "a57e4cb3-856a-11ec-afa7-6b42dc3e1973-5-eda0-f847-0aff-ba78-ea64"
    }
   },
   "source": [
    "CoursewareHubの識別子を設定する\n",
    "\n",
    "マスターノードの台数と同じ数、CoursewareHubを構築することができます。そのため、個別のCoursewareHubを区別するための識別子を設定しておきます。\n",
    "\n",
    "インベントリのグループ名、NFSのエクスポートパス等で使用されます。\n",
    "\n",
    "NFSサーバーを複数のCoursewareHubで共有する場合には、互いに異なる名前を設定する必要があります。"
   ]
  },
  {
   "cell_type": "code",
   "execution_count": null,
   "id": "89bc8e4a",
   "metadata": {
    "deletable": false,
    "editable": false,
    "lc_cell_meme": {
     "current": "abeb3a0e-3842-11ea-9fe0-0242ac120002-18-d9f1-b790-ecfb-fe84-dbad-2eac-2ade-e531-bf23-dccf",
     "execution_end_time": "2022-04-27T10:34:02.149154Z",
     "history": [
      {
       "current": "abeb3a0e-3842-11ea-9fe0-0242ac120002-14-1427-8549-8e71-f8c2-d9f1-b790-ecfb-fe84-dbad-2eac",
       "next": "159dd9b8-0f92-11ec-95ec-c7638f7e44c5-2-ec7b-3d10",
       "previous": "8e7c2bb6-841f-11ec-92b5-6b42dc3e1973"
      },
      {
       "current": "abeb3a0e-3842-11ea-9fe0-0242ac120002-15-8549-8e71-f8c2-d9f1-b790-ecfb-fe84-dbad-2eac-2ade",
       "next": "159dd9b8-0f92-11ec-95ec-c7638f7e44c5-3-ec7b-3d10-359f",
       "previous": "8e7c2bb6-841f-11ec-92b5-6b42dc3e1973-1-8754"
      },
      {
       "current": "abeb3a0e-3842-11ea-9fe0-0242ac120002-16-8e71-f8c2-d9f1-b790-ecfb-fe84-dbad-2eac-2ade-e531",
       "next": "159dd9b8-0f92-11ec-95ec-c7638f7e44c5-4-ec7b-3d10-359f-a0ee",
       "previous": "8e7c2bb6-841f-11ec-92b5-6b42dc3e1973-2-8754-98c0"
      },
      {
       "current": "abeb3a0e-3842-11ea-9fe0-0242ac120002-17-f8c2-d9f1-b790-ecfb-fe84-dbad-2eac-2ade-e531-bf23",
       "next": "159dd9b8-0f92-11ec-95ec-c7638f7e44c5-5-ec7b-3d10-359f-a0ee-68c1",
       "previous": "8e7c2bb6-841f-11ec-92b5-6b42dc3e1973-3-8754-98c0-efee"
      },
      {
       "current": "abeb3a0e-3842-11ea-9fe0-0242ac120002-18-d9f1-b790-ecfb-fe84-dbad-2eac-2ade-e531-bf23-dccf",
       "next": "159dd9b8-0f92-11ec-95ec-c7638f7e44c5-6-ec7b-3d10-359f-a0ee-68c1-c824",
       "previous": "8e7c2bb6-841f-11ec-92b5-6b42dc3e1973-4-8754-98c0-efee-b138"
      }
     ],
     "next": "159dd9b8-0f92-11ec-95ec-c7638f7e44c5-7-ec7b-3d10-359f-a0ee-68c1-c824-cb9f",
     "previous": "8e7c2bb6-841f-11ec-92b5-6b42dc3e1973-5-8754-98c0-efee-b138-6922"
    },
    "run_through_control": {
     "frozen": false,
     "read_only": false
    }
   },
   "outputs": [],
   "source": [
    "hubname = 'cwhtest0001'"
   ]
  },
  {
   "cell_type": "markdown",
   "id": "4796f87c",
   "metadata": {
    "lc_cell_meme": {
     "current": "159dd9b8-0f92-11ec-95ec-c7638f7e44c5-7-ec7b-3d10-359f-a0ee-68c1-c824-cb9f",
     "history": [
      {
       "current": "159dd9b8-0f92-11ec-95ec-c7638f7e44c5-3-ec7b-3d10-359f",
       "next": "ac72f38a-85a8-11ec-b907-6b42dc3e1973",
       "previous": "abeb3a0e-3842-11ea-9fe0-0242ac120002-13-06cd-1427-8549-8e71-f8c2-d9f1-b790-ecfb-fe84-dbad"
      },
      {
       "current": "159dd9b8-0f92-11ec-95ec-c7638f7e44c5-4-ec7b-3d10-359f-a0ee",
       "next": "ac72f38a-85a8-11ec-b907-6b42dc3e1973-1-8659",
       "previous": "abeb3a0e-3842-11ea-9fe0-0242ac120002-14-1427-8549-8e71-f8c2-d9f1-b790-ecfb-fe84-dbad-2eac"
      },
      {
       "current": "159dd9b8-0f92-11ec-95ec-c7638f7e44c5-5-ec7b-3d10-359f-a0ee-68c1",
       "next": "ac72f38a-85a8-11ec-b907-6b42dc3e1973-2-8659-7267",
       "previous": "abeb3a0e-3842-11ea-9fe0-0242ac120002-15-8549-8e71-f8c2-d9f1-b790-ecfb-fe84-dbad-2eac-2ade"
      },
      {
       "current": "159dd9b8-0f92-11ec-95ec-c7638f7e44c5-6-ec7b-3d10-359f-a0ee-68c1-c824",
       "next": "ac72f38a-85a8-11ec-b907-6b42dc3e1973-3-8659-7267-5bcb",
       "previous": "abeb3a0e-3842-11ea-9fe0-0242ac120002-16-8e71-f8c2-d9f1-b790-ecfb-fe84-dbad-2eac-2ade-e531"
      },
      {
       "current": "159dd9b8-0f92-11ec-95ec-c7638f7e44c5-7-ec7b-3d10-359f-a0ee-68c1-c824-cb9f",
       "next": "ac72f38a-85a8-11ec-b907-6b42dc3e1973-4-8659-7267-5bcb-0bd5",
       "previous": "abeb3a0e-3842-11ea-9fe0-0242ac120002-17-f8c2-d9f1-b790-ecfb-fe84-dbad-2eac-2ade-e531-bf23"
      }
     ],
     "next": "ac72f38a-85a8-11ec-b907-6b42dc3e1973-5-8659-7267-5bcb-0bd5-bf73",
     "previous": "abeb3a0e-3842-11ea-9fe0-0242ac120002-18-d9f1-b790-ecfb-fe84-dbad-2eac-2ade-e531-bf23-dccf"
    }
   },
   "source": [
    "# 各種パラメータの決定"
   ]
  },
  {
   "cell_type": "markdown",
   "id": "8c54b7d7",
   "metadata": {
    "lc_cell_meme": {
     "current": "ac72f38a-85a8-11ec-b907-6b42dc3e1973-5-8659-7267-5bcb-0bd5-bf73",
     "history": [
      {
       "current": "ac72f38a-85a8-11ec-b907-6b42dc3e1973-1-8659",
       "next": "15e6c9bc-85a3-11ec-b1c5-6b42dc3e1973",
       "previous": "159dd9b8-0f92-11ec-95ec-c7638f7e44c5-2-ec7b-3d10"
      },
      {
       "current": "ac72f38a-85a8-11ec-b907-6b42dc3e1973-2-8659-7267",
       "next": "15e6c9bc-85a3-11ec-b1c5-6b42dc3e1973-1-779b",
       "previous": "159dd9b8-0f92-11ec-95ec-c7638f7e44c5-3-ec7b-3d10-359f"
      },
      {
       "current": "ac72f38a-85a8-11ec-b907-6b42dc3e1973-3-8659-7267-5bcb",
       "next": "15e6c9bc-85a3-11ec-b1c5-6b42dc3e1973-2-779b-88d6",
       "previous": "159dd9b8-0f92-11ec-95ec-c7638f7e44c5-4-ec7b-3d10-359f-a0ee"
      },
      {
       "current": "ac72f38a-85a8-11ec-b907-6b42dc3e1973-4-8659-7267-5bcb-0bd5",
       "next": "15e6c9bc-85a3-11ec-b1c5-6b42dc3e1973-3-779b-88d6-1aeb",
       "previous": "159dd9b8-0f92-11ec-95ec-c7638f7e44c5-5-ec7b-3d10-359f-a0ee-68c1"
      },
      {
       "current": "ac72f38a-85a8-11ec-b907-6b42dc3e1973-5-8659-7267-5bcb-0bd5-bf73",
       "next": "15e6c9bc-85a3-11ec-b1c5-6b42dc3e1973-4-779b-88d6-1aeb-8a0d",
       "previous": "159dd9b8-0f92-11ec-95ec-c7638f7e44c5-6-ec7b-3d10-359f-a0ee-68c1-c824"
      }
     ],
     "next": "15e6c9bc-85a3-11ec-b1c5-6b42dc3e1973-5-779b-88d6-1aeb-8a0d-46ff",
     "previous": "159dd9b8-0f92-11ec-95ec-c7638f7e44c5-7-ec7b-3d10-359f-a0ee-68c1-c824-cb9f"
    }
   },
   "source": [
    "Ansibleのgroup_vars用のdictを定義"
   ]
  },
  {
   "cell_type": "code",
   "execution_count": null,
   "id": "61bde753",
   "metadata": {
    "deletable": false,
    "editable": false,
    "lc_cell_meme": {
     "current": "15e6c9bc-85a3-11ec-b1c5-6b42dc3e1973-5-779b-88d6-1aeb-8a0d-46ff",
     "execution_end_time": "2022-04-27T10:34:04.160907Z",
     "history": [
      {
       "current": "15e6c9bc-85a3-11ec-b1c5-6b42dc3e1973-1-779b",
       "next": "b03bc06e-85a1-11ec-86d0-6b42dc3e1973",
       "previous": "ac72f38a-85a8-11ec-b907-6b42dc3e1973"
      },
      {
       "current": "15e6c9bc-85a3-11ec-b1c5-6b42dc3e1973-2-779b-88d6",
       "next": "b03bc06e-85a1-11ec-86d0-6b42dc3e1973-1-51c8",
       "previous": "ac72f38a-85a8-11ec-b907-6b42dc3e1973-1-8659"
      },
      {
       "current": "15e6c9bc-85a3-11ec-b1c5-6b42dc3e1973-3-779b-88d6-1aeb",
       "next": "b03bc06e-85a1-11ec-86d0-6b42dc3e1973-2-51c8-bef7",
       "previous": "ac72f38a-85a8-11ec-b907-6b42dc3e1973-2-8659-7267"
      },
      {
       "current": "15e6c9bc-85a3-11ec-b1c5-6b42dc3e1973-4-779b-88d6-1aeb-8a0d",
       "next": "b03bc06e-85a1-11ec-86d0-6b42dc3e1973-3-51c8-bef7-4a66",
       "previous": "ac72f38a-85a8-11ec-b907-6b42dc3e1973-3-8659-7267-5bcb"
      },
      {
       "current": "15e6c9bc-85a3-11ec-b1c5-6b42dc3e1973-5-779b-88d6-1aeb-8a0d-46ff",
       "next": "b03bc06e-85a1-11ec-86d0-6b42dc3e1973-4-51c8-bef7-4a66-1dde",
       "previous": "ac72f38a-85a8-11ec-b907-6b42dc3e1973-4-8659-7267-5bcb-0bd5"
      }
     ],
     "next": "b03bc06e-85a1-11ec-86d0-6b42dc3e1973-5-51c8-bef7-4a66-1dde-b268",
     "previous": "ac72f38a-85a8-11ec-b907-6b42dc3e1973-5-8659-7267-5bcb-0bd5-bf73"
    },
    "run_through_control": {
     "frozen": false,
     "read_only": false
    }
   },
   "outputs": [],
   "source": [
    "group_vars = {}"
   ]
  },
  {
   "cell_type": "markdown",
   "id": "790ef4dd",
   "metadata": {
    "lc_cell_meme": {
     "current": "b03bc06e-85a1-11ec-86d0-6b42dc3e1973-5-51c8-bef7-4a66-1dde-b268",
     "history": [
      {
       "current": "b03bc06e-85a1-11ec-86d0-6b42dc3e1973-1-51c8",
       "next": "ebd3ab5f-0f92-11ec-bd3a-c7638f7e44c5-2-2eff-10ac",
       "previous": "15e6c9bc-85a3-11ec-b1c5-6b42dc3e1973"
      },
      {
       "current": "b03bc06e-85a1-11ec-86d0-6b42dc3e1973-2-51c8-bef7",
       "next": "ebd3ab5f-0f92-11ec-bd3a-c7638f7e44c5-3-2eff-10ac-9aba",
       "previous": "15e6c9bc-85a3-11ec-b1c5-6b42dc3e1973-1-779b"
      },
      {
       "current": "b03bc06e-85a1-11ec-86d0-6b42dc3e1973-3-51c8-bef7-4a66",
       "next": "ebd3ab5f-0f92-11ec-bd3a-c7638f7e44c5-4-2eff-10ac-9aba-c388",
       "previous": "15e6c9bc-85a3-11ec-b1c5-6b42dc3e1973-2-779b-88d6"
      },
      {
       "current": "b03bc06e-85a1-11ec-86d0-6b42dc3e1973-4-51c8-bef7-4a66-1dde",
       "next": "ebd3ab5f-0f92-11ec-bd3a-c7638f7e44c5-5-2eff-10ac-9aba-c388-4703",
       "previous": "15e6c9bc-85a3-11ec-b1c5-6b42dc3e1973-3-779b-88d6-1aeb"
      },
      {
       "current": "b03bc06e-85a1-11ec-86d0-6b42dc3e1973-5-51c8-bef7-4a66-1dde-b268",
       "next": "ebd3ab5f-0f92-11ec-bd3a-c7638f7e44c5-6-2eff-10ac-9aba-c388-4703-0517",
       "previous": "15e6c9bc-85a3-11ec-b1c5-6b42dc3e1973-4-779b-88d6-1aeb-8a0d"
      }
     ],
     "next": "ebd3ab5f-0f92-11ec-bd3a-c7638f7e44c5-7-2eff-10ac-9aba-c388-4703-0517-3759",
     "previous": "15e6c9bc-85a3-11ec-b1c5-6b42dc3e1973-5-779b-88d6-1aeb-8a0d-46ff"
    }
   },
   "source": [
    "## Private IPアドレスの設定"
   ]
  },
  {
   "cell_type": "markdown",
   "id": "6ef6bf87",
   "metadata": {
    "lc_cell_meme": {
     "current": "ebd3ab5f-0f92-11ec-bd3a-c7638f7e44c5-7-2eff-10ac-9aba-c388-4703-0517-3759",
     "history": [
      {
       "current": "ebd3ab5f-0f92-11ec-bd3a-c7638f7e44c5-3-2eff-10ac-9aba",
       "next": "ebd3acaa-0f92-11ec-943d-c7638f7e44c5-2-fc05-067a",
       "previous": "b03bc06e-85a1-11ec-86d0-6b42dc3e1973"
      },
      {
       "current": "ebd3ab5f-0f92-11ec-bd3a-c7638f7e44c5-4-2eff-10ac-9aba-c388",
       "next": "ebd3acaa-0f92-11ec-943d-c7638f7e44c5-3-fc05-067a-8676",
       "previous": "b03bc06e-85a1-11ec-86d0-6b42dc3e1973-1-51c8"
      },
      {
       "current": "ebd3ab5f-0f92-11ec-bd3a-c7638f7e44c5-5-2eff-10ac-9aba-c388-4703",
       "next": "ebd3acaa-0f92-11ec-943d-c7638f7e44c5-4-fc05-067a-8676-0db9",
       "previous": "b03bc06e-85a1-11ec-86d0-6b42dc3e1973-2-51c8-bef7"
      },
      {
       "current": "ebd3ab5f-0f92-11ec-bd3a-c7638f7e44c5-6-2eff-10ac-9aba-c388-4703-0517",
       "next": "ebd3acaa-0f92-11ec-943d-c7638f7e44c5-5-fc05-067a-8676-0db9-6f6a",
       "previous": "b03bc06e-85a1-11ec-86d0-6b42dc3e1973-3-51c8-bef7-4a66"
      },
      {
       "current": "ebd3ab5f-0f92-11ec-bd3a-c7638f7e44c5-7-2eff-10ac-9aba-c388-4703-0517-3759",
       "next": "ebd3acaa-0f92-11ec-943d-c7638f7e44c5-6-fc05-067a-8676-0db9-6f6a-8462",
       "previous": "b03bc06e-85a1-11ec-86d0-6b42dc3e1973-4-51c8-bef7-4a66-1dde"
      }
     ],
     "next": "ebd3acaa-0f92-11ec-943d-c7638f7e44c5-7-fc05-067a-8676-0db9-6f6a-8462-8232",
     "previous": "b03bc06e-85a1-11ec-86d0-6b42dc3e1973-5-51c8-bef7-4a66-1dde-b268"
    }
   },
   "source": [
    "サーバーに関して、**NFSとDocker Swarmの通信を別のIPアドレスで実施する場合**は以下のように対応表を定義してください。\n",
    "指定されない場合は、Inventoryで定義されたIPでNFSとDocker Swarmの通信を行います。\n",
    "\n",
    "```\n",
    "servicenet_ips = {\n",
    "  'Inventoryで定義されたIP': 'NFSとDocker Swarmの通信のために使用したいIP'\n",
    "}\n",
    "```"
   ]
  },
  {
   "cell_type": "code",
   "execution_count": null,
   "id": "578a355c",
   "metadata": {
    "deletable": false,
    "editable": false,
    "lc_cell_meme": {
     "current": "ebd3acaa-0f92-11ec-943d-c7638f7e44c5-7-fc05-067a-8676-0db9-6f6a-8462-8232",
     "execution_end_time": "2022-04-27T10:34:06.820205Z",
     "history": [
      {
       "current": "ebd3acaa-0f92-11ec-943d-c7638f7e44c5-3-fc05-067a-8676",
       "next": "335b9f06-0f93-11ec-a736-c7638f7e44c5-2-8a7a-a71e",
       "previous": "ebd3ab5f-0f92-11ec-bd3a-c7638f7e44c5-2-2eff-10ac"
      },
      {
       "current": "ebd3acaa-0f92-11ec-943d-c7638f7e44c5-4-fc05-067a-8676-0db9",
       "next": "335b9f06-0f93-11ec-a736-c7638f7e44c5-3-8a7a-a71e-6968",
       "previous": "ebd3ab5f-0f92-11ec-bd3a-c7638f7e44c5-3-2eff-10ac-9aba"
      },
      {
       "current": "ebd3acaa-0f92-11ec-943d-c7638f7e44c5-5-fc05-067a-8676-0db9-6f6a",
       "next": "335b9f06-0f93-11ec-a736-c7638f7e44c5-4-8a7a-a71e-6968-f2ba",
       "previous": "ebd3ab5f-0f92-11ec-bd3a-c7638f7e44c5-4-2eff-10ac-9aba-c388"
      },
      {
       "current": "ebd3acaa-0f92-11ec-943d-c7638f7e44c5-6-fc05-067a-8676-0db9-6f6a-8462",
       "next": "335b9f06-0f93-11ec-a736-c7638f7e44c5-5-8a7a-a71e-6968-f2ba-f1d9",
       "previous": "ebd3ab5f-0f92-11ec-bd3a-c7638f7e44c5-5-2eff-10ac-9aba-c388-4703"
      },
      {
       "current": "ebd3acaa-0f92-11ec-943d-c7638f7e44c5-7-fc05-067a-8676-0db9-6f6a-8462-8232",
       "next": "335b9f06-0f93-11ec-a736-c7638f7e44c5-6-8a7a-a71e-6968-f2ba-f1d9-6ec0",
       "previous": "ebd3ab5f-0f92-11ec-bd3a-c7638f7e44c5-6-2eff-10ac-9aba-c388-4703-0517"
      }
     ],
     "next": "335b9f06-0f93-11ec-a736-c7638f7e44c5-7-8a7a-a71e-6968-f2ba-f1d9-6ec0-babc",
     "previous": "ebd3ab5f-0f92-11ec-bd3a-c7638f7e44c5-7-2eff-10ac-9aba-c388-4703-0517-3759"
    },
    "run_through_control": {
     "frozen": false,
     "read_only": false
    }
   },
   "outputs": [],
   "source": [
    "servicenet_ips = {\n",
    "}"
   ]
  },
  {
   "cell_type": "markdown",
   "id": "1ef2f48c",
   "metadata": {
    "lc_cell_meme": {
     "current": "335b9f06-0f93-11ec-a736-c7638f7e44c5-7-8a7a-a71e-6968-f2ba-f1d9-6ec0-babc",
     "history": [
      {
       "current": "335b9f06-0f93-11ec-a736-c7638f7e44c5-3-8a7a-a71e-6968",
       "next": "335ba041-0f93-11ec-80bf-c7638f7e44c5-2-9017-3d1d",
       "previous": "ebd3acaa-0f92-11ec-943d-c7638f7e44c5-2-fc05-067a"
      },
      {
       "current": "335b9f06-0f93-11ec-a736-c7638f7e44c5-4-8a7a-a71e-6968-f2ba",
       "next": "335ba041-0f93-11ec-80bf-c7638f7e44c5-3-9017-3d1d-731b",
       "previous": "ebd3acaa-0f92-11ec-943d-c7638f7e44c5-3-fc05-067a-8676"
      },
      {
       "current": "335b9f06-0f93-11ec-a736-c7638f7e44c5-5-8a7a-a71e-6968-f2ba-f1d9",
       "next": "335ba041-0f93-11ec-80bf-c7638f7e44c5-4-9017-3d1d-731b-98b9",
       "previous": "ebd3acaa-0f92-11ec-943d-c7638f7e44c5-4-fc05-067a-8676-0db9"
      },
      {
       "current": "335b9f06-0f93-11ec-a736-c7638f7e44c5-6-8a7a-a71e-6968-f2ba-f1d9-6ec0",
       "next": "335ba041-0f93-11ec-80bf-c7638f7e44c5-5-9017-3d1d-731b-98b9-2aa6",
       "previous": "ebd3acaa-0f92-11ec-943d-c7638f7e44c5-5-fc05-067a-8676-0db9-6f6a"
      },
      {
       "current": "335b9f06-0f93-11ec-a736-c7638f7e44c5-7-8a7a-a71e-6968-f2ba-f1d9-6ec0-babc",
       "next": "335ba041-0f93-11ec-80bf-c7638f7e44c5-6-9017-3d1d-731b-98b9-2aa6-be0e",
       "previous": "ebd3acaa-0f92-11ec-943d-c7638f7e44c5-6-fc05-067a-8676-0db9-6f6a-8462"
      }
     ],
     "next": "335ba041-0f93-11ec-80bf-c7638f7e44c5-7-9017-3d1d-731b-98b9-2aa6-be0e-dd57",
     "previous": "ebd3acaa-0f92-11ec-943d-c7638f7e44c5-7-fc05-067a-8676-0db9-6f6a-8462-8232"
    }
   },
   "source": [
    "IPアドレスがリスト中にあるかどうかを検証する。失敗する場合は↑の対応表を修正する。"
   ]
  },
  {
   "cell_type": "code",
   "execution_count": null,
   "id": "71b79f46",
   "metadata": {
    "deletable": false,
    "editable": false,
    "lc_cell_meme": {
     "current": "335ba041-0f93-11ec-80bf-c7638f7e44c5-7-9017-3d1d-731b-98b9-2aa6-be0e-dd57",
     "execution_end_time": "2022-04-27T10:35:06.377065Z",
     "history": [
      {
       "current": "335ba041-0f93-11ec-80bf-c7638f7e44c5-3-9017-3d1d-731b",
       "next": "159ddb03-0f92-11ec-bb53-c7638f7e44c5-2-15ef-b9f3",
       "previous": "335b9f06-0f93-11ec-a736-c7638f7e44c5-2-8a7a-a71e"
      },
      {
       "current": "335ba041-0f93-11ec-80bf-c7638f7e44c5-4-9017-3d1d-731b-98b9",
       "next": "159ddb03-0f92-11ec-bb53-c7638f7e44c5-3-15ef-b9f3-820e",
       "previous": "335b9f06-0f93-11ec-a736-c7638f7e44c5-3-8a7a-a71e-6968"
      },
      {
       "current": "335ba041-0f93-11ec-80bf-c7638f7e44c5-5-9017-3d1d-731b-98b9-2aa6",
       "next": "159ddb03-0f92-11ec-bb53-c7638f7e44c5-4-15ef-b9f3-820e-f0c5",
       "previous": "335b9f06-0f93-11ec-a736-c7638f7e44c5-4-8a7a-a71e-6968-f2ba"
      },
      {
       "current": "335ba041-0f93-11ec-80bf-c7638f7e44c5-6-9017-3d1d-731b-98b9-2aa6-be0e",
       "next": "159ddb03-0f92-11ec-bb53-c7638f7e44c5-5-15ef-b9f3-820e-f0c5-0974",
       "previous": "335b9f06-0f93-11ec-a736-c7638f7e44c5-5-8a7a-a71e-6968-f2ba-f1d9"
      },
      {
       "current": "335ba041-0f93-11ec-80bf-c7638f7e44c5-7-9017-3d1d-731b-98b9-2aa6-be0e-dd57",
       "next": "159ddb03-0f92-11ec-bb53-c7638f7e44c5-6-15ef-b9f3-820e-f0c5-0974-9860",
       "previous": "335b9f06-0f93-11ec-a736-c7638f7e44c5-6-8a7a-a71e-6968-f2ba-f1d9-6ec0"
      }
     ],
     "next": "159ddb03-0f92-11ec-bb53-c7638f7e44c5-7-15ef-b9f3-820e-f0c5-0974-9860-b6ce",
     "previous": "335b9f06-0f93-11ec-a736-c7638f7e44c5-7-8a7a-a71e-6968-f2ba-f1d9-6ec0-babc"
    },
    "run_through_control": {
     "frozen": false,
     "read_only": false
    }
   },
   "outputs": [],
   "source": [
    "for ip in servicenet_ips.keys():\n",
    "    assert ip in ([master_server] + worker_servers + [nfs_server])"
   ]
  },
  {
   "cell_type": "markdown",
   "id": "34c16270",
   "metadata": {
    "lc_cell_meme": {
     "current": "159ddb03-0f92-11ec-bb53-c7638f7e44c5-7-15ef-b9f3-820e-f0c5-0974-9860-b6ce",
     "history": [
      {
       "current": "159ddb03-0f92-11ec-bb53-c7638f7e44c5-3-15ef-b9f3-820e",
       "next": "68adc201-85a1-11ec-92ce-6b42dc3e1973",
       "previous": "335ba041-0f93-11ec-80bf-c7638f7e44c5-2-9017-3d1d"
      },
      {
       "current": "159ddb03-0f92-11ec-bb53-c7638f7e44c5-4-15ef-b9f3-820e-f0c5",
       "next": "68adc201-85a1-11ec-92ce-6b42dc3e1973-1-9ef7",
       "previous": "335ba041-0f93-11ec-80bf-c7638f7e44c5-3-9017-3d1d-731b"
      },
      {
       "current": "159ddb03-0f92-11ec-bb53-c7638f7e44c5-5-15ef-b9f3-820e-f0c5-0974",
       "next": "68adc201-85a1-11ec-92ce-6b42dc3e1973-2-9ef7-18bf",
       "previous": "335ba041-0f93-11ec-80bf-c7638f7e44c5-4-9017-3d1d-731b-98b9"
      },
      {
       "current": "159ddb03-0f92-11ec-bb53-c7638f7e44c5-6-15ef-b9f3-820e-f0c5-0974-9860",
       "next": "68adc201-85a1-11ec-92ce-6b42dc3e1973-3-9ef7-18bf-e1b7",
       "previous": "335ba041-0f93-11ec-80bf-c7638f7e44c5-5-9017-3d1d-731b-98b9-2aa6"
      },
      {
       "current": "159ddb03-0f92-11ec-bb53-c7638f7e44c5-7-15ef-b9f3-820e-f0c5-0974-9860-b6ce",
       "next": "68adc201-85a1-11ec-92ce-6b42dc3e1973-4-9ef7-18bf-e1b7-d176",
       "previous": "335ba041-0f93-11ec-80bf-c7638f7e44c5-6-9017-3d1d-731b-98b9-2aa6-be0e"
      }
     ],
     "next": "68adc201-85a1-11ec-92ce-6b42dc3e1973-5-9ef7-18bf-e1b7-d176-e767",
     "previous": "335ba041-0f93-11ec-80bf-c7638f7e44c5-7-9017-3d1d-731b-98b9-2aa6-be0e-dd57"
    }
   },
   "source": [
    "## NFSパラメータの決定"
   ]
  },
  {
   "cell_type": "markdown",
   "id": "3831099a",
   "metadata": {
    "lc_cell_meme": {
     "current": "68adc201-85a1-11ec-92ce-6b42dc3e1973-5-9ef7-18bf-e1b7-d176-e767",
     "history": [
      {
       "current": "68adc201-85a1-11ec-92ce-6b42dc3e1973-1-9ef7",
       "next": "68adcb22-85a1-11ec-89fa-6b42dc3e1973",
       "previous": "159ddb03-0f92-11ec-bb53-c7638f7e44c5-2-15ef-b9f3"
      },
      {
       "current": "68adc201-85a1-11ec-92ce-6b42dc3e1973-2-9ef7-18bf",
       "next": "68adcb22-85a1-11ec-89fa-6b42dc3e1973-1-d655",
       "previous": "159ddb03-0f92-11ec-bb53-c7638f7e44c5-3-15ef-b9f3-820e"
      },
      {
       "current": "68adc201-85a1-11ec-92ce-6b42dc3e1973-3-9ef7-18bf-e1b7",
       "next": "68adcb22-85a1-11ec-89fa-6b42dc3e1973-2-d655-ae6b",
       "previous": "159ddb03-0f92-11ec-bb53-c7638f7e44c5-4-15ef-b9f3-820e-f0c5"
      },
      {
       "current": "68adc201-85a1-11ec-92ce-6b42dc3e1973-4-9ef7-18bf-e1b7-d176",
       "next": "68adcb22-85a1-11ec-89fa-6b42dc3e1973-3-d655-ae6b-e54c",
       "previous": "159ddb03-0f92-11ec-bb53-c7638f7e44c5-5-15ef-b9f3-820e-f0c5-0974"
      },
      {
       "current": "68adc201-85a1-11ec-92ce-6b42dc3e1973-5-9ef7-18bf-e1b7-d176-e767",
       "next": "68adcb22-85a1-11ec-89fa-6b42dc3e1973-4-d655-ae6b-e54c-6d85",
       "previous": "159ddb03-0f92-11ec-bb53-c7638f7e44c5-6-15ef-b9f3-820e-f0c5-0974-9860"
      }
     ],
     "next": "68adcb22-85a1-11ec-89fa-6b42dc3e1973-5-d655-ae6b-e54c-6d85-aa54",
     "previous": "159ddb03-0f92-11ec-bb53-c7638f7e44c5-7-15ef-b9f3-820e-f0c5-0974-9860-b6ce"
    }
   },
   "source": [
    "NFSサーバー上で、NFSボリュームとしてexportするパスを指定します。"
   ]
  },
  {
   "cell_type": "code",
   "execution_count": null,
   "id": "f3484e7a",
   "metadata": {
    "deletable": false,
    "editable": false,
    "lc_cell_meme": {
     "current": "68adcb22-85a1-11ec-89fa-6b42dc3e1973-5-d655-ae6b-e54c-6d85-aa54",
     "execution_end_time": "2022-04-27T10:35:09.374047Z",
     "history": [
      {
       "current": "68adcb22-85a1-11ec-89fa-6b42dc3e1973-1-d655",
       "next": "159ddb84-0f92-11ec-98dd-c7638f7e44c5-3-6ef2-d06b-228c",
       "previous": "68adc201-85a1-11ec-92ce-6b42dc3e1973"
      },
      {
       "current": "68adcb22-85a1-11ec-89fa-6b42dc3e1973-2-d655-ae6b",
       "next": "159ddb84-0f92-11ec-98dd-c7638f7e44c5-4-6ef2-d06b-228c-a248",
       "previous": "68adc201-85a1-11ec-92ce-6b42dc3e1973-1-9ef7"
      },
      {
       "current": "68adcb22-85a1-11ec-89fa-6b42dc3e1973-3-d655-ae6b-e54c",
       "next": "159ddb84-0f92-11ec-98dd-c7638f7e44c5-5-6ef2-d06b-228c-a248-acd4",
       "previous": "68adc201-85a1-11ec-92ce-6b42dc3e1973-2-9ef7-18bf"
      },
      {
       "current": "68adcb22-85a1-11ec-89fa-6b42dc3e1973-4-d655-ae6b-e54c-6d85",
       "next": "159ddb84-0f92-11ec-98dd-c7638f7e44c5-6-6ef2-d06b-228c-a248-acd4-2e3d",
       "previous": "68adc201-85a1-11ec-92ce-6b42dc3e1973-3-9ef7-18bf-e1b7"
      },
      {
       "current": "68adcb22-85a1-11ec-89fa-6b42dc3e1973-5-d655-ae6b-e54c-6d85-aa54",
       "next": "159ddb84-0f92-11ec-98dd-c7638f7e44c5-7-6ef2-d06b-228c-a248-acd4-2e3d-b905",
       "previous": "68adc201-85a1-11ec-92ce-6b42dc3e1973-4-9ef7-18bf-e1b7-d176"
      }
     ],
     "next": "159ddb84-0f92-11ec-98dd-c7638f7e44c5-8-6ef2-d06b-228c-a248-acd4-2e3d-b905-8091",
     "previous": "68adc201-85a1-11ec-92ce-6b42dc3e1973-5-9ef7-18bf-e1b7-d176-e767"
    },
    "run_through_control": {
     "frozen": false,
     "read_only": false
    }
   },
   "outputs": [],
   "source": [
    "group_vars['nfspath'] = '/exported/{hubname}'.format(hubname=hubname)\n",
    "group_vars['nfspath']"
   ]
  },
  {
   "cell_type": "markdown",
   "id": "f86941bc",
   "metadata": {
    "lc_cell_meme": {
     "current": "159ddb84-0f92-11ec-98dd-c7638f7e44c5-8-6ef2-d06b-228c-a248-acd4-2e3d-b905-8091",
     "history": [
      {
       "current": "159ddb84-0f92-11ec-98dd-c7638f7e44c5-4-6ef2-d06b-228c-a248",
       "next": "efaf0cd2-587e-11ea-bd55-0242ac120002-15-c54d-66f8-3c14-7845-c2a7-e5c0-cfb5-81b6-3fc0-c9c2",
       "previous": "68adcb22-85a1-11ec-89fa-6b42dc3e1973"
      },
      {
       "current": "159ddb84-0f92-11ec-98dd-c7638f7e44c5-5-6ef2-d06b-228c-a248-acd4",
       "next": "efaf0cd2-587e-11ea-bd55-0242ac120002-16-66f8-3c14-7845-c2a7-e5c0-cfb5-81b6-3fc0-c9c2-b2c0",
       "previous": "68adcb22-85a1-11ec-89fa-6b42dc3e1973-1-d655"
      },
      {
       "current": "159ddb84-0f92-11ec-98dd-c7638f7e44c5-6-6ef2-d06b-228c-a248-acd4-2e3d",
       "next": "efaf0cd2-587e-11ea-bd55-0242ac120002-17-3c14-7845-c2a7-e5c0-cfb5-81b6-3fc0-c9c2-b2c0-1a24",
       "previous": "68adcb22-85a1-11ec-89fa-6b42dc3e1973-2-d655-ae6b"
      },
      {
       "current": "159ddb84-0f92-11ec-98dd-c7638f7e44c5-7-6ef2-d06b-228c-a248-acd4-2e3d-b905",
       "next": "efaf0cd2-587e-11ea-bd55-0242ac120002-18-7845-c2a7-e5c0-cfb5-81b6-3fc0-c9c2-b2c0-1a24-8a92",
       "previous": "68adcb22-85a1-11ec-89fa-6b42dc3e1973-3-d655-ae6b-e54c"
      },
      {
       "current": "159ddb84-0f92-11ec-98dd-c7638f7e44c5-8-6ef2-d06b-228c-a248-acd4-2e3d-b905-8091",
       "next": "efaf0cd2-587e-11ea-bd55-0242ac120002-19-c2a7-e5c0-cfb5-81b6-3fc0-c9c2-b2c0-1a24-8a92-61f7",
       "previous": "68adcb22-85a1-11ec-89fa-6b42dc3e1973-4-d655-ae6b-e54c-6d85"
      }
     ],
     "next": "efaf0cd2-587e-11ea-bd55-0242ac120002-20-e5c0-cfb5-81b6-3fc0-c9c2-b2c0-1a24-8a92-61f7-6bc4",
     "previous": "68adcb22-85a1-11ec-89fa-6b42dc3e1973-5-d655-ae6b-e54c-6d85-aa54"
    }
   },
   "source": [
    "## CoursewareHubパラメータの決定"
   ]
  },
  {
   "cell_type": "markdown",
   "id": "17c6bdbe",
   "metadata": {
    "lc_cell_meme": {
     "current": "efaf0cd2-587e-11ea-bd55-0242ac120002-20-e5c0-cfb5-81b6-3fc0-c9c2-b2c0-1a24-8a92-61f7-6bc4",
     "history": [
      {
       "current": "efaf0cd2-587e-11ea-bd55-0242ac120002-16-66f8-3c14-7845-c2a7-e5c0-cfb5-81b6-3fc0-c9c2-b2c0",
       "next": "0e19b512-b23e-11e7-a38f-0242ac120002-17-65d3-0fdb-97c4-3ff5-5217-ddc4-7f00-d89a-3b96-823d",
       "previous": "159ddb84-0f92-11ec-98dd-c7638f7e44c5-3-6ef2-d06b-228c"
      },
      {
       "current": "efaf0cd2-587e-11ea-bd55-0242ac120002-17-3c14-7845-c2a7-e5c0-cfb5-81b6-3fc0-c9c2-b2c0-1a24",
       "next": "0e19b512-b23e-11e7-a38f-0242ac120002-18-0fdb-97c4-3ff5-5217-ddc4-7f00-d89a-3b96-823d-29f2",
       "previous": "159ddb84-0f92-11ec-98dd-c7638f7e44c5-4-6ef2-d06b-228c-a248"
      },
      {
       "current": "efaf0cd2-587e-11ea-bd55-0242ac120002-18-7845-c2a7-e5c0-cfb5-81b6-3fc0-c9c2-b2c0-1a24-8a92",
       "next": "0e19b512-b23e-11e7-a38f-0242ac120002-19-97c4-3ff5-5217-ddc4-7f00-d89a-3b96-823d-29f2-19f6",
       "previous": "159ddb84-0f92-11ec-98dd-c7638f7e44c5-5-6ef2-d06b-228c-a248-acd4"
      },
      {
       "current": "efaf0cd2-587e-11ea-bd55-0242ac120002-19-c2a7-e5c0-cfb5-81b6-3fc0-c9c2-b2c0-1a24-8a92-61f7",
       "next": "0e19b512-b23e-11e7-a38f-0242ac120002-20-3ff5-5217-ddc4-7f00-d89a-3b96-823d-29f2-19f6-2d5a",
       "previous": "159ddb84-0f92-11ec-98dd-c7638f7e44c5-6-6ef2-d06b-228c-a248-acd4-2e3d"
      },
      {
       "current": "efaf0cd2-587e-11ea-bd55-0242ac120002-20-e5c0-cfb5-81b6-3fc0-c9c2-b2c0-1a24-8a92-61f7-6bc4",
       "next": "0e19b512-b23e-11e7-a38f-0242ac120002-21-5217-ddc4-7f00-d89a-3b96-823d-29f2-19f6-2d5a-7f07",
       "previous": "159ddb84-0f92-11ec-98dd-c7638f7e44c5-7-6ef2-d06b-228c-a248-acd4-2e3d-b905"
      }
     ],
     "next": "0e19b512-b23e-11e7-a38f-0242ac120002-22-ddc4-7f00-d89a-3b96-823d-29f2-19f6-2d5a-7f07-c236",
     "previous": "159ddb84-0f92-11ec-98dd-c7638f7e44c5-8-6ef2-d06b-228c-a248-acd4-2e3d-b905-8091"
    }
   },
   "source": [
    "CoursewareHubのFQDNを設定する。\n",
    "\n",
    "登録済みのドメイン名がある場合は、`group_vars['master_fqdn']`にそのドメイン名を設定すること。"
   ]
  },
  {
   "cell_type": "code",
   "execution_count": null,
   "id": "f1898a9c",
   "metadata": {
    "lc_cell_meme": {
     "current": "0e19b512-b23e-11e7-a38f-0242ac120002-22-ddc4-7f00-d89a-3b96-823d-29f2-19f6-2d5a-7f07-c236",
     "execution_end_time": "2022-04-27T10:48:40.257969Z",
     "history": [
      {
       "current": "0e19b512-b23e-11e7-a38f-0242ac120002-18-0fdb-97c4-3ff5-5217-ddc4-7f00-d89a-3b96-823d-29f2",
       "next": "1713d6ee-8813-11ec-bb18-6b42dc3e1973",
       "previous": "efaf0cd2-587e-11ea-bd55-0242ac120002-15-c54d-66f8-3c14-7845-c2a7-e5c0-cfb5-81b6-3fc0-c9c2"
      },
      {
       "current": "0e19b512-b23e-11e7-a38f-0242ac120002-19-97c4-3ff5-5217-ddc4-7f00-d89a-3b96-823d-29f2-19f6",
       "next": "1713d6ee-8813-11ec-bb18-6b42dc3e1973-1-acc2",
       "previous": "efaf0cd2-587e-11ea-bd55-0242ac120002-16-66f8-3c14-7845-c2a7-e5c0-cfb5-81b6-3fc0-c9c2-b2c0"
      },
      {
       "current": "0e19b512-b23e-11e7-a38f-0242ac120002-20-3ff5-5217-ddc4-7f00-d89a-3b96-823d-29f2-19f6-2d5a",
       "next": "1713d6ee-8813-11ec-bb18-6b42dc3e1973-2-acc2-5f7e",
       "previous": "efaf0cd2-587e-11ea-bd55-0242ac120002-17-3c14-7845-c2a7-e5c0-cfb5-81b6-3fc0-c9c2-b2c0-1a24"
      },
      {
       "current": "0e19b512-b23e-11e7-a38f-0242ac120002-21-5217-ddc4-7f00-d89a-3b96-823d-29f2-19f6-2d5a-7f07",
       "next": "1713d6ee-8813-11ec-bb18-6b42dc3e1973-3-acc2-5f7e-d94d",
       "previous": "efaf0cd2-587e-11ea-bd55-0242ac120002-18-7845-c2a7-e5c0-cfb5-81b6-3fc0-c9c2-b2c0-1a24-8a92"
      },
      {
       "current": "0e19b512-b23e-11e7-a38f-0242ac120002-22-ddc4-7f00-d89a-3b96-823d-29f2-19f6-2d5a-7f07-c236",
       "next": "1713d6ee-8813-11ec-bb18-6b42dc3e1973-4-acc2-5f7e-d94d-cdab",
       "previous": "efaf0cd2-587e-11ea-bd55-0242ac120002-19-c2a7-e5c0-cfb5-81b6-3fc0-c9c2-b2c0-1a24-8a92-61f7"
      }
     ],
     "next": "1713d6ee-8813-11ec-bb18-6b42dc3e1973-5-acc2-5f7e-d94d-cdab-64c2",
     "previous": "efaf0cd2-587e-11ea-bd55-0242ac120002-20-e5c0-cfb5-81b6-3fc0-c9c2-b2c0-1a24-8a92-61f7-6bc4"
    }
   },
   "outputs": [],
   "source": [
    "group_vars['master_fqdn'] = 'example.com'\n",
    "group_vars['master_fqdn']"
   ]
  },
  {
   "cell_type": "markdown",
   "id": "f4e2b1ae",
   "metadata": {
    "lc_cell_meme": {
     "current": "1713d6ee-8813-11ec-bb18-6b42dc3e1973-5-acc2-5f7e-d94d-cdab-64c2",
     "history": [
      {
       "current": "1713d6ee-8813-11ec-bb18-6b42dc3e1973-1-acc2",
       "next": "2e47ebc2-7cc7-11eb-9875-0242ac120002-6-49cf-d0e4-b8ad-0eb5-3cc6-dbad",
       "previous": "0e19b512-b23e-11e7-a38f-0242ac120002-17-65d3-0fdb-97c4-3ff5-5217-ddc4-7f00-d89a-3b96-823d"
      },
      {
       "current": "1713d6ee-8813-11ec-bb18-6b42dc3e1973-2-acc2-5f7e",
       "next": "2e47ebc2-7cc7-11eb-9875-0242ac120002-7-49cf-d0e4-b8ad-0eb5-3cc6-dbad-d055",
       "previous": "0e19b512-b23e-11e7-a38f-0242ac120002-18-0fdb-97c4-3ff5-5217-ddc4-7f00-d89a-3b96-823d-29f2"
      },
      {
       "current": "1713d6ee-8813-11ec-bb18-6b42dc3e1973-3-acc2-5f7e-d94d",
       "next": "2e47ebc2-7cc7-11eb-9875-0242ac120002-8-49cf-d0e4-b8ad-0eb5-3cc6-dbad-d055-5f0b",
       "previous": "0e19b512-b23e-11e7-a38f-0242ac120002-19-97c4-3ff5-5217-ddc4-7f00-d89a-3b96-823d-29f2-19f6"
      },
      {
       "current": "1713d6ee-8813-11ec-bb18-6b42dc3e1973-4-acc2-5f7e-d94d-cdab",
       "next": "2e47ebc2-7cc7-11eb-9875-0242ac120002-9-49cf-d0e4-b8ad-0eb5-3cc6-dbad-d055-5f0b-a454",
       "previous": "0e19b512-b23e-11e7-a38f-0242ac120002-20-3ff5-5217-ddc4-7f00-d89a-3b96-823d-29f2-19f6-2d5a"
      },
      {
       "current": "1713d6ee-8813-11ec-bb18-6b42dc3e1973-5-acc2-5f7e-d94d-cdab-64c2",
       "next": "2e47ebc2-7cc7-11eb-9875-0242ac120002-10-49cf-d0e4-b8ad-0eb5-3cc6-dbad-d055-5f0b-a454-dce6",
       "previous": "0e19b512-b23e-11e7-a38f-0242ac120002-21-5217-ddc4-7f00-d89a-3b96-823d-29f2-19f6-2d5a-7f07"
      }
     ],
     "next": "2e47ebc2-7cc7-11eb-9875-0242ac120002-11-d0e4-b8ad-0eb5-3cc6-dbad-d055-5f0b-a454-dce6-e590",
     "previous": "0e19b512-b23e-11e7-a38f-0242ac120002-22-ddc4-7f00-d89a-3b96-823d-29f2-19f6-2d5a-7f07-c236"
    }
   },
   "source": [
    "FQDNから、LTI認証連携用のendpointが決まります。"
   ]
  },
  {
   "cell_type": "code",
   "execution_count": null,
   "id": "09010f27",
   "metadata": {
    "deletable": false,
    "editable": false,
    "lc_cell_meme": {
     "current": "2e47ebc2-7cc7-11eb-9875-0242ac120002-11-d0e4-b8ad-0eb5-3cc6-dbad-d055-5f0b-a454-dce6-e590",
     "execution_end_time": "2022-04-27T10:48:41.671007Z",
     "history": [
      {
       "current": "2e47ebc2-7cc7-11eb-9875-0242ac120002-7-49cf-d0e4-b8ad-0eb5-3cc6-dbad-d055",
       "next": "52724140-857f-11ec-9835-6b42dc3e1973",
       "previous": "1713d6ee-8813-11ec-bb18-6b42dc3e1973"
      },
      {
       "current": "2e47ebc2-7cc7-11eb-9875-0242ac120002-8-49cf-d0e4-b8ad-0eb5-3cc6-dbad-d055-5f0b",
       "next": "52724140-857f-11ec-9835-6b42dc3e1973-1-c8c1",
       "previous": "1713d6ee-8813-11ec-bb18-6b42dc3e1973-1-acc2"
      },
      {
       "current": "2e47ebc2-7cc7-11eb-9875-0242ac120002-9-49cf-d0e4-b8ad-0eb5-3cc6-dbad-d055-5f0b-a454",
       "next": "52724140-857f-11ec-9835-6b42dc3e1973-2-c8c1-1336",
       "previous": "1713d6ee-8813-11ec-bb18-6b42dc3e1973-2-acc2-5f7e"
      },
      {
       "current": "2e47ebc2-7cc7-11eb-9875-0242ac120002-10-49cf-d0e4-b8ad-0eb5-3cc6-dbad-d055-5f0b-a454-dce6",
       "next": "52724140-857f-11ec-9835-6b42dc3e1973-3-c8c1-1336-4165",
       "previous": "1713d6ee-8813-11ec-bb18-6b42dc3e1973-3-acc2-5f7e-d94d"
      },
      {
       "current": "2e47ebc2-7cc7-11eb-9875-0242ac120002-11-d0e4-b8ad-0eb5-3cc6-dbad-d055-5f0b-a454-dce6-e590",
       "next": "52724140-857f-11ec-9835-6b42dc3e1973-4-c8c1-1336-4165-9d86",
       "previous": "1713d6ee-8813-11ec-bb18-6b42dc3e1973-4-acc2-5f7e-d94d-cdab"
      }
     ],
     "next": "52724140-857f-11ec-9835-6b42dc3e1973-5-c8c1-1336-4165-9d86-d6e5",
     "previous": "1713d6ee-8813-11ec-bb18-6b42dc3e1973-5-acc2-5f7e-d94d-cdab-64c2"
    },
    "run_through_control": {
     "frozen": false,
     "read_only": false
    }
   },
   "outputs": [],
   "source": [
    "print('Tool URL / Launch URL:\\n\\t https://{}/'.format(group_vars['master_fqdn']))\n",
    "print('Initiate login URL / LTI 1.3 Tool OpenID Connect/Initialization Endpoint:\\n\\t https://{}/php/lti/login.php'.format(group_vars['master_fqdn']))\n",
    "print('Redirection URI / LTI 1.3 Tool Redirect Endpoint:\\n\\t https://{}/php/lti/service.php'.format(group_vars['master_fqdn']))"
   ]
  },
  {
   "cell_type": "markdown",
   "id": "a95e78a6",
   "metadata": {
    "lc_cell_meme": {
     "current": "52724140-857f-11ec-9835-6b42dc3e1973-5-c8c1-1336-4165-9d86-d6e5",
     "history": [
      {
       "current": "52724140-857f-11ec-9835-6b42dc3e1973-1-c8c1",
       "next": "9a0b010d-857f-11ec-8bac-6b42dc3e1973",
       "previous": "2e47ebc2-7cc7-11eb-9875-0242ac120002-6-49cf-d0e4-b8ad-0eb5-3cc6-dbad"
      },
      {
       "current": "52724140-857f-11ec-9835-6b42dc3e1973-2-c8c1-1336",
       "next": "9a0b010d-857f-11ec-8bac-6b42dc3e1973-1-aff9",
       "previous": "2e47ebc2-7cc7-11eb-9875-0242ac120002-7-49cf-d0e4-b8ad-0eb5-3cc6-dbad-d055"
      },
      {
       "current": "52724140-857f-11ec-9835-6b42dc3e1973-3-c8c1-1336-4165",
       "next": "9a0b010d-857f-11ec-8bac-6b42dc3e1973-2-aff9-3d00",
       "previous": "2e47ebc2-7cc7-11eb-9875-0242ac120002-8-49cf-d0e4-b8ad-0eb5-3cc6-dbad-d055-5f0b"
      },
      {
       "current": "52724140-857f-11ec-9835-6b42dc3e1973-4-c8c1-1336-4165-9d86",
       "next": "9a0b010d-857f-11ec-8bac-6b42dc3e1973-3-aff9-3d00-f337",
       "previous": "2e47ebc2-7cc7-11eb-9875-0242ac120002-9-49cf-d0e4-b8ad-0eb5-3cc6-dbad-d055-5f0b-a454"
      },
      {
       "current": "52724140-857f-11ec-9835-6b42dc3e1973-5-c8c1-1336-4165-9d86-d6e5",
       "next": "9a0b010d-857f-11ec-8bac-6b42dc3e1973-4-aff9-3d00-f337-6450",
       "previous": "2e47ebc2-7cc7-11eb-9875-0242ac120002-10-49cf-d0e4-b8ad-0eb5-3cc6-dbad-d055-5f0b-a454-dce6"
      }
     ],
     "next": "9a0b010d-857f-11ec-8bac-6b42dc3e1973-5-aff9-3d00-f337-6450-37bc",
     "previous": "2e47ebc2-7cc7-11eb-9875-0242ac120002-11-d0e4-b8ad-0eb5-3cc6-dbad-d055-5f0b-a454-dce6-e590"
    }
   },
   "source": [
    "### フェデレーションへの参加・不参加の設定"
   ]
  },
  {
   "cell_type": "code",
   "execution_count": null,
   "id": "7266da17",
   "metadata": {
    "deletable": false,
    "editable": false,
    "lc_cell_meme": {
     "current": "9a0b010d-857f-11ec-8bac-6b42dc3e1973-5-aff9-3d00-f337-6450-37bc",
     "execution_end_time": "2022-04-27T10:48:43.624239Z",
     "history": [
      {
       "current": "9a0b010d-857f-11ec-8bac-6b42dc3e1973-1-aff9",
       "next": "efaf10ce-587e-11ea-bd55-0242ac120002-15-6313-3e09-2324-e899-ddc7-5d84-9ba9-733b-5df0-9213",
       "previous": "52724140-857f-11ec-9835-6b42dc3e1973"
      },
      {
       "current": "9a0b010d-857f-11ec-8bac-6b42dc3e1973-2-aff9-3d00",
       "next": "efaf10ce-587e-11ea-bd55-0242ac120002-16-3e09-2324-e899-ddc7-5d84-9ba9-733b-5df0-9213-913b",
       "previous": "52724140-857f-11ec-9835-6b42dc3e1973-1-c8c1"
      },
      {
       "current": "9a0b010d-857f-11ec-8bac-6b42dc3e1973-3-aff9-3d00-f337",
       "next": "efaf10ce-587e-11ea-bd55-0242ac120002-17-2324-e899-ddc7-5d84-9ba9-733b-5df0-9213-913b-e525",
       "previous": "52724140-857f-11ec-9835-6b42dc3e1973-2-c8c1-1336"
      },
      {
       "current": "9a0b010d-857f-11ec-8bac-6b42dc3e1973-4-aff9-3d00-f337-6450",
       "next": "efaf10ce-587e-11ea-bd55-0242ac120002-18-e899-ddc7-5d84-9ba9-733b-5df0-9213-913b-e525-42f4",
       "previous": "52724140-857f-11ec-9835-6b42dc3e1973-3-c8c1-1336-4165"
      },
      {
       "current": "9a0b010d-857f-11ec-8bac-6b42dc3e1973-5-aff9-3d00-f337-6450-37bc",
       "next": "efaf10ce-587e-11ea-bd55-0242ac120002-19-ddc7-5d84-9ba9-733b-5df0-9213-913b-e525-42f4-e408",
       "previous": "52724140-857f-11ec-9835-6b42dc3e1973-4-c8c1-1336-4165-9d86"
      }
     ],
     "next": "efaf10ce-587e-11ea-bd55-0242ac120002-20-5d84-9ba9-733b-5df0-9213-913b-e525-42f4-e408-8e64",
     "previous": "52724140-857f-11ec-9835-6b42dc3e1973-5-c8c1-1336-4165-9d86-d6e5"
    },
    "run_through_control": {
     "frozen": false,
     "read_only": false
    }
   },
   "outputs": [],
   "source": [
    "group_vars['enable_federation'] = False\n",
    "group_vars['enable_federation']"
   ]
  },
  {
   "cell_type": "markdown",
   "id": "ab0f6e6d",
   "metadata": {
    "lc_cell_meme": {
     "current": "efaf10ce-587e-11ea-bd55-0242ac120002-20-5d84-9ba9-733b-5df0-9213-913b-e525-42f4-e408-8e64",
     "history": [
      {
       "current": "efaf10ce-587e-11ea-bd55-0242ac120002-16-3e09-2324-e899-ddc7-5d84-9ba9-733b-5df0-9213-913b",
       "next": "cb7427fe-5486-11ea-9227-0242ac120002-16-a982-0f00-db18-3b71-fb44-08f8-7e49-98ca-2e29-0287",
       "previous": "9a0b010d-857f-11ec-8bac-6b42dc3e1973"
      },
      {
       "current": "efaf10ce-587e-11ea-bd55-0242ac120002-17-2324-e899-ddc7-5d84-9ba9-733b-5df0-9213-913b-e525",
       "next": "cb7427fe-5486-11ea-9227-0242ac120002-17-0f00-db18-3b71-fb44-08f8-7e49-98ca-2e29-0287-9ef5",
       "previous": "9a0b010d-857f-11ec-8bac-6b42dc3e1973-1-aff9"
      },
      {
       "current": "efaf10ce-587e-11ea-bd55-0242ac120002-18-e899-ddc7-5d84-9ba9-733b-5df0-9213-913b-e525-42f4",
       "next": "cb7427fe-5486-11ea-9227-0242ac120002-18-db18-3b71-fb44-08f8-7e49-98ca-2e29-0287-9ef5-33a6",
       "previous": "9a0b010d-857f-11ec-8bac-6b42dc3e1973-2-aff9-3d00"
      },
      {
       "current": "efaf10ce-587e-11ea-bd55-0242ac120002-19-ddc7-5d84-9ba9-733b-5df0-9213-913b-e525-42f4-e408",
       "next": "cb7427fe-5486-11ea-9227-0242ac120002-19-3b71-fb44-08f8-7e49-98ca-2e29-0287-9ef5-33a6-6968",
       "previous": "9a0b010d-857f-11ec-8bac-6b42dc3e1973-3-aff9-3d00-f337"
      },
      {
       "current": "efaf10ce-587e-11ea-bd55-0242ac120002-20-5d84-9ba9-733b-5df0-9213-913b-e525-42f4-e408-8e64",
       "next": "cb7427fe-5486-11ea-9227-0242ac120002-20-fb44-08f8-7e49-98ca-2e29-0287-9ef5-33a6-6968-1c11",
       "previous": "9a0b010d-857f-11ec-8bac-6b42dc3e1973-4-aff9-3d00-f337-6450"
      }
     ],
     "next": "cb7427fe-5486-11ea-9227-0242ac120002-21-08f8-7e49-98ca-2e29-0287-9ef5-33a6-6968-1c11-5d2d",
     "previous": "9a0b010d-857f-11ec-8bac-6b42dc3e1973-5-aff9-3d00-f337-6450-37bc"
    }
   },
   "source": [
    "### フェデレーションに直接参加しないSP用の設定\n",
    "\n",
    "* idp-proxyを使用して、間接的に学認を使用する\n",
    "* ローカルユーザーのみを使用する"
   ]
  },
  {
   "cell_type": "markdown",
   "id": "fd7f5b74",
   "metadata": {
    "lc_cell_meme": {
     "current": "cb7427fe-5486-11ea-9227-0242ac120002-21-08f8-7e49-98ca-2e29-0287-9ef5-33a6-6968-1c11-5d2d",
     "history": [
      {
       "current": "cb7427fe-5486-11ea-9227-0242ac120002-17-0f00-db18-3b71-fb44-08f8-7e49-98ca-2e29-0287-9ef5",
       "next": "0e19b512-b23e-11e7-a38f-0242ac120002-17-f226-b244-8c86-a0cb-ce9a-54fe-04c3-5f81-081f-0f9d",
       "previous": "efaf10ce-587e-11ea-bd55-0242ac120002-15-6313-3e09-2324-e899-ddc7-5d84-9ba9-733b-5df0-9213"
      },
      {
       "current": "cb7427fe-5486-11ea-9227-0242ac120002-18-db18-3b71-fb44-08f8-7e49-98ca-2e29-0287-9ef5-33a6",
       "next": "0e19b512-b23e-11e7-a38f-0242ac120002-18-b244-8c86-a0cb-ce9a-54fe-04c3-5f81-081f-0f9d-22e0",
       "previous": "efaf10ce-587e-11ea-bd55-0242ac120002-16-3e09-2324-e899-ddc7-5d84-9ba9-733b-5df0-9213-913b"
      },
      {
       "current": "cb7427fe-5486-11ea-9227-0242ac120002-19-3b71-fb44-08f8-7e49-98ca-2e29-0287-9ef5-33a6-6968",
       "next": "0e19b512-b23e-11e7-a38f-0242ac120002-19-8c86-a0cb-ce9a-54fe-04c3-5f81-081f-0f9d-22e0-9e8b",
       "previous": "efaf10ce-587e-11ea-bd55-0242ac120002-17-2324-e899-ddc7-5d84-9ba9-733b-5df0-9213-913b-e525"
      },
      {
       "current": "cb7427fe-5486-11ea-9227-0242ac120002-20-fb44-08f8-7e49-98ca-2e29-0287-9ef5-33a6-6968-1c11",
       "next": "0e19b512-b23e-11e7-a38f-0242ac120002-20-a0cb-ce9a-54fe-04c3-5f81-081f-0f9d-22e0-9e8b-169d",
       "previous": "efaf10ce-587e-11ea-bd55-0242ac120002-18-e899-ddc7-5d84-9ba9-733b-5df0-9213-913b-e525-42f4"
      },
      {
       "current": "cb7427fe-5486-11ea-9227-0242ac120002-21-08f8-7e49-98ca-2e29-0287-9ef5-33a6-6968-1c11-5d2d",
       "next": "0e19b512-b23e-11e7-a38f-0242ac120002-21-ce9a-54fe-04c3-5f81-081f-0f9d-22e0-9e8b-169d-c9ea",
       "previous": "efaf10ce-587e-11ea-bd55-0242ac120002-19-ddc7-5d84-9ba9-733b-5df0-9213-913b-e525-42f4-e408"
      }
     ],
     "next": "0e19b512-b23e-11e7-a38f-0242ac120002-22-54fe-04c3-5f81-081f-0f9d-22e0-9e8b-169d-c9ea-8b78",
     "previous": "efaf10ce-587e-11ea-bd55-0242ac120002-20-5d84-9ba9-733b-5df0-9213-913b-e525-42f4-e408-8e64"
    }
   },
   "source": [
    "idp-proxyを利用する場合は、idp-proxyのFQDNを設定する。\n",
    "\n",
    "idp-proxyを利用せず、ローカルユーザーのみを利用する場合は、空文字列を設定する。\n"
   ]
  },
  {
   "cell_type": "code",
   "execution_count": null,
   "id": "5230116c",
   "metadata": {
    "deletable": false,
    "editable": false,
    "lc_cell_meme": {
     "current": "0e19b512-b23e-11e7-a38f-0242ac120002-22-54fe-04c3-5f81-081f-0f9d-22e0-9e8b-169d-c9ea-8b78",
     "execution_end_time": "2022-04-27T10:48:50.754032Z",
     "history": [
      {
       "current": "0e19b512-b23e-11e7-a38f-0242ac120002-18-b244-8c86-a0cb-ce9a-54fe-04c3-5f81-081f-0f9d-22e0",
       "next": "efaf1204-587e-11ea-bd55-0242ac120002-15-4d8e-8d48-d2ec-8ed5-6de7-970f-16f9-3426-b81e-4887",
       "previous": "cb7427fe-5486-11ea-9227-0242ac120002-16-a982-0f00-db18-3b71-fb44-08f8-7e49-98ca-2e29-0287"
      },
      {
       "current": "0e19b512-b23e-11e7-a38f-0242ac120002-19-8c86-a0cb-ce9a-54fe-04c3-5f81-081f-0f9d-22e0-9e8b",
       "next": "efaf1204-587e-11ea-bd55-0242ac120002-16-8d48-d2ec-8ed5-6de7-970f-16f9-3426-b81e-4887-e9ab",
       "previous": "cb7427fe-5486-11ea-9227-0242ac120002-17-0f00-db18-3b71-fb44-08f8-7e49-98ca-2e29-0287-9ef5"
      },
      {
       "current": "0e19b512-b23e-11e7-a38f-0242ac120002-20-a0cb-ce9a-54fe-04c3-5f81-081f-0f9d-22e0-9e8b-169d",
       "next": "efaf1204-587e-11ea-bd55-0242ac120002-17-d2ec-8ed5-6de7-970f-16f9-3426-b81e-4887-e9ab-2adf",
       "previous": "cb7427fe-5486-11ea-9227-0242ac120002-18-db18-3b71-fb44-08f8-7e49-98ca-2e29-0287-9ef5-33a6"
      },
      {
       "current": "0e19b512-b23e-11e7-a38f-0242ac120002-21-ce9a-54fe-04c3-5f81-081f-0f9d-22e0-9e8b-169d-c9ea",
       "next": "efaf1204-587e-11ea-bd55-0242ac120002-18-8ed5-6de7-970f-16f9-3426-b81e-4887-e9ab-2adf-97f7",
       "previous": "cb7427fe-5486-11ea-9227-0242ac120002-19-3b71-fb44-08f8-7e49-98ca-2e29-0287-9ef5-33a6-6968"
      },
      {
       "current": "0e19b512-b23e-11e7-a38f-0242ac120002-22-54fe-04c3-5f81-081f-0f9d-22e0-9e8b-169d-c9ea-8b78",
       "next": "efaf1204-587e-11ea-bd55-0242ac120002-19-6de7-970f-16f9-3426-b81e-4887-e9ab-2adf-97f7-0c3a",
       "previous": "cb7427fe-5486-11ea-9227-0242ac120002-20-fb44-08f8-7e49-98ca-2e29-0287-9ef5-33a6-6968-1c11"
      }
     ],
     "next": "efaf1204-587e-11ea-bd55-0242ac120002-20-970f-16f9-3426-b81e-4887-e9ab-2adf-97f7-0c3a-5660",
     "previous": "cb7427fe-5486-11ea-9227-0242ac120002-21-08f8-7e49-98ca-2e29-0287-9ef5-33a6-6968-1c11-5d2d"
    },
    "run_through_control": {
     "frozen": false,
     "read_only": false
    }
   },
   "outputs": [],
   "source": [
    "#group_vars['auth_fqdn'] = 'cwhidptest.example.nii.ac.jp'\n",
    "group_vars['auth_fqdn'] = ''\n",
    "group_vars['auth_fqdn']"
   ]
  },
  {
   "cell_type": "markdown",
   "id": "4e710be3",
   "metadata": {
    "lc_cell_meme": {
     "current": "efaf1204-587e-11ea-bd55-0242ac120002-20-970f-16f9-3426-b81e-4887-e9ab-2adf-97f7-0c3a-5660",
     "history": [
      {
       "current": "efaf1204-587e-11ea-bd55-0242ac120002-16-8d48-d2ec-8ed5-6de7-970f-16f9-3426-b81e-4887-e9ab",
       "next": "f085f1a0-8589-11ec-b063-6b42dc3e1973",
       "previous": "0e19b512-b23e-11e7-a38f-0242ac120002-17-f226-b244-8c86-a0cb-ce9a-54fe-04c3-5f81-081f-0f9d"
      },
      {
       "current": "efaf1204-587e-11ea-bd55-0242ac120002-17-d2ec-8ed5-6de7-970f-16f9-3426-b81e-4887-e9ab-2adf",
       "next": "f085f1a0-8589-11ec-b063-6b42dc3e1973-1-0f96",
       "previous": "0e19b512-b23e-11e7-a38f-0242ac120002-18-b244-8c86-a0cb-ce9a-54fe-04c3-5f81-081f-0f9d-22e0"
      },
      {
       "current": "efaf1204-587e-11ea-bd55-0242ac120002-18-8ed5-6de7-970f-16f9-3426-b81e-4887-e9ab-2adf-97f7",
       "next": "f085f1a0-8589-11ec-b063-6b42dc3e1973-2-0f96-3c3c",
       "previous": "0e19b512-b23e-11e7-a38f-0242ac120002-19-8c86-a0cb-ce9a-54fe-04c3-5f81-081f-0f9d-22e0-9e8b"
      },
      {
       "current": "efaf1204-587e-11ea-bd55-0242ac120002-19-6de7-970f-16f9-3426-b81e-4887-e9ab-2adf-97f7-0c3a",
       "next": "f085f1a0-8589-11ec-b063-6b42dc3e1973-3-0f96-3c3c-6902",
       "previous": "0e19b512-b23e-11e7-a38f-0242ac120002-20-a0cb-ce9a-54fe-04c3-5f81-081f-0f9d-22e0-9e8b-169d"
      },
      {
       "current": "efaf1204-587e-11ea-bd55-0242ac120002-20-970f-16f9-3426-b81e-4887-e9ab-2adf-97f7-0c3a-5660",
       "next": "f085f1a0-8589-11ec-b063-6b42dc3e1973-4-0f96-3c3c-6902-947f",
       "previous": "0e19b512-b23e-11e7-a38f-0242ac120002-21-ce9a-54fe-04c3-5f81-081f-0f9d-22e0-9e8b-169d-c9ea"
      }
     ],
     "next": "f085f1a0-8589-11ec-b063-6b42dc3e1973-5-0f96-3c3c-6902-947f-3395",
     "previous": "0e19b512-b23e-11e7-a38f-0242ac120002-22-54fe-04c3-5f81-081f-0f9d-22e0-9e8b-169d-c9ea-8b78"
    }
   },
   "source": [
    "### フェデレーションに直接参加するSP用の設定\n",
    "\n",
    "idp-proxyを利用せずに、直接フェデレーションに参加する。\n",
    "\n",
    "フェデレーションとクラウドゲートウェイの設定を行う。"
   ]
  },
  {
   "cell_type": "markdown",
   "id": "4b6de839",
   "metadata": {
    "lc_cell_meme": {
     "current": "f085f1a0-8589-11ec-b063-6b42dc3e1973-5-0f96-3c3c-6902-947f-3395",
     "history": [
      {
       "current": "f085f1a0-8589-11ec-b063-6b42dc3e1973-1-0f96",
       "next": "f085f4c2-8589-11ec-89fc-6b42dc3e1973",
       "previous": "efaf1204-587e-11ea-bd55-0242ac120002-15-4d8e-8d48-d2ec-8ed5-6de7-970f-16f9-3426-b81e-4887"
      },
      {
       "current": "f085f1a0-8589-11ec-b063-6b42dc3e1973-2-0f96-3c3c",
       "next": "f085f4c2-8589-11ec-89fc-6b42dc3e1973-1-9af8",
       "previous": "efaf1204-587e-11ea-bd55-0242ac120002-16-8d48-d2ec-8ed5-6de7-970f-16f9-3426-b81e-4887-e9ab"
      },
      {
       "current": "f085f1a0-8589-11ec-b063-6b42dc3e1973-3-0f96-3c3c-6902",
       "next": "f085f4c2-8589-11ec-89fc-6b42dc3e1973-2-9af8-0200",
       "previous": "efaf1204-587e-11ea-bd55-0242ac120002-17-d2ec-8ed5-6de7-970f-16f9-3426-b81e-4887-e9ab-2adf"
      },
      {
       "current": "f085f1a0-8589-11ec-b063-6b42dc3e1973-4-0f96-3c3c-6902-947f",
       "next": "f085f4c2-8589-11ec-89fc-6b42dc3e1973-3-9af8-0200-eaa1",
       "previous": "efaf1204-587e-11ea-bd55-0242ac120002-18-8ed5-6de7-970f-16f9-3426-b81e-4887-e9ab-2adf-97f7"
      },
      {
       "current": "f085f1a0-8589-11ec-b063-6b42dc3e1973-5-0f96-3c3c-6902-947f-3395",
       "next": "f085f4c2-8589-11ec-89fc-6b42dc3e1973-4-9af8-0200-eaa1-3813",
       "previous": "efaf1204-587e-11ea-bd55-0242ac120002-19-6de7-970f-16f9-3426-b81e-4887-e9ab-2adf-97f7-0c3a"
      }
     ],
     "next": "f085f4c2-8589-11ec-89fc-6b42dc3e1973-5-9af8-0200-eaa1-3813-cf18",
     "previous": "efaf1204-587e-11ea-bd55-0242ac120002-20-970f-16f9-3426-b81e-4887-e9ab-2adf-97f7-0c3a-5660"
    }
   },
   "source": [
    "テストフェデレーションの使用の有無を選択"
   ]
  },
  {
   "cell_type": "code",
   "execution_count": null,
   "id": "2652c236",
   "metadata": {
    "deletable": false,
    "editable": false,
    "lc_cell_meme": {
     "current": "f085f4c2-8589-11ec-89fc-6b42dc3e1973-5-9af8-0200-eaa1-3813-cf18",
     "execution_end_time": "2022-04-27T10:48:54.179198Z",
     "history": [
      {
       "current": "f085f4c2-8589-11ec-89fc-6b42dc3e1973-1-9af8",
       "next": "3737771a-587f-11ea-bd55-0242ac120002-15-321a-8413-a390-901a-12e7-edbf-06f0-4bb2-4d9a-2e3f",
       "previous": "f085f1a0-8589-11ec-b063-6b42dc3e1973"
      },
      {
       "current": "f085f4c2-8589-11ec-89fc-6b42dc3e1973-2-9af8-0200",
       "next": "3737771a-587f-11ea-bd55-0242ac120002-16-8413-a390-901a-12e7-edbf-06f0-4bb2-4d9a-2e3f-77fc",
       "previous": "f085f1a0-8589-11ec-b063-6b42dc3e1973-1-0f96"
      },
      {
       "current": "f085f4c2-8589-11ec-89fc-6b42dc3e1973-3-9af8-0200-eaa1",
       "next": "3737771a-587f-11ea-bd55-0242ac120002-17-a390-901a-12e7-edbf-06f0-4bb2-4d9a-2e3f-77fc-2e17",
       "previous": "f085f1a0-8589-11ec-b063-6b42dc3e1973-2-0f96-3c3c"
      },
      {
       "current": "f085f4c2-8589-11ec-89fc-6b42dc3e1973-4-9af8-0200-eaa1-3813",
       "next": "3737771a-587f-11ea-bd55-0242ac120002-18-901a-12e7-edbf-06f0-4bb2-4d9a-2e3f-77fc-2e17-aca4",
       "previous": "f085f1a0-8589-11ec-b063-6b42dc3e1973-3-0f96-3c3c-6902"
      },
      {
       "current": "f085f4c2-8589-11ec-89fc-6b42dc3e1973-5-9af8-0200-eaa1-3813-cf18",
       "next": "3737771a-587f-11ea-bd55-0242ac120002-19-12e7-edbf-06f0-4bb2-4d9a-2e3f-77fc-2e17-aca4-4b7c",
       "previous": "f085f1a0-8589-11ec-b063-6b42dc3e1973-4-0f96-3c3c-6902-947f"
      }
     ],
     "next": "3737771a-587f-11ea-bd55-0242ac120002-20-edbf-06f0-4bb2-4d9a-2e3f-77fc-2e17-aca4-4b7c-1aa5",
     "previous": "f085f1a0-8589-11ec-b063-6b42dc3e1973-5-0f96-3c3c-6902-947f-3395"
    },
    "run_through_control": {
     "frozen": false,
     "read_only": false
    }
   },
   "outputs": [],
   "source": [
    "group_vars['enable_test_federation'] = False\n",
    "group_vars['enable_test_federation']"
   ]
  },
  {
   "cell_type": "markdown",
   "id": "4eb3fbbc",
   "metadata": {
    "lc_cell_meme": {
     "current": "3737771a-587f-11ea-bd55-0242ac120002-20-edbf-06f0-4bb2-4d9a-2e3f-77fc-2e17-aca4-4b7c-1aa5",
     "history": [
      {
       "current": "3737771a-587f-11ea-bd55-0242ac120002-16-8413-a390-901a-12e7-edbf-06f0-4bb2-4d9a-2e3f-77fc",
       "next": "bb19f52e-539f-11ea-9227-0242ac120002-16-0f6b-ec32-4090-08b8-921d-8f40-b281-2b6f-d760-3b50",
       "previous": "f085f4c2-8589-11ec-89fc-6b42dc3e1973"
      },
      {
       "current": "3737771a-587f-11ea-bd55-0242ac120002-17-a390-901a-12e7-edbf-06f0-4bb2-4d9a-2e3f-77fc-2e17",
       "next": "bb19f52e-539f-11ea-9227-0242ac120002-17-ec32-4090-08b8-921d-8f40-b281-2b6f-d760-3b50-fb0f",
       "previous": "f085f4c2-8589-11ec-89fc-6b42dc3e1973-1-9af8"
      },
      {
       "current": "3737771a-587f-11ea-bd55-0242ac120002-18-901a-12e7-edbf-06f0-4bb2-4d9a-2e3f-77fc-2e17-aca4",
       "next": "bb19f52e-539f-11ea-9227-0242ac120002-18-4090-08b8-921d-8f40-b281-2b6f-d760-3b50-fb0f-6a8a",
       "previous": "f085f4c2-8589-11ec-89fc-6b42dc3e1973-2-9af8-0200"
      },
      {
       "current": "3737771a-587f-11ea-bd55-0242ac120002-19-12e7-edbf-06f0-4bb2-4d9a-2e3f-77fc-2e17-aca4-4b7c",
       "next": "bb19f52e-539f-11ea-9227-0242ac120002-19-08b8-921d-8f40-b281-2b6f-d760-3b50-fb0f-6a8a-e8a5",
       "previous": "f085f4c2-8589-11ec-89fc-6b42dc3e1973-3-9af8-0200-eaa1"
      },
      {
       "current": "3737771a-587f-11ea-bd55-0242ac120002-20-edbf-06f0-4bb2-4d9a-2e3f-77fc-2e17-aca4-4b7c-1aa5",
       "next": "bb19f52e-539f-11ea-9227-0242ac120002-20-921d-8f40-b281-2b6f-d760-3b50-fb0f-6a8a-e8a5-c576",
       "previous": "f085f4c2-8589-11ec-89fc-6b42dc3e1973-4-9af8-0200-eaa1-3813"
      }
     ],
     "next": "bb19f52e-539f-11ea-9227-0242ac120002-21-8f40-b281-2b6f-d760-3b50-fb0f-6a8a-e8a5-c576-b6eb",
     "previous": "f085f4c2-8589-11ec-89fc-6b42dc3e1973-5-9af8-0200-eaa1-3813-cf18"
    }
   },
   "source": [
    "DSのサーバー名\n",
    "\n",
    "- 未設定ならデフォルト値が使用されます。\n",
    "- テストフェデレーションを使用するなら、適切な値の設定が必要です。"
   ]
  },
  {
   "cell_type": "code",
   "execution_count": null,
   "id": "3367a9a6",
   "metadata": {
    "deletable": false,
    "editable": false,
    "lc_cell_meme": {
     "current": "bb19f52e-539f-11ea-9227-0242ac120002-21-8f40-b281-2b6f-d760-3b50-fb0f-6a8a-e8a5-c576-b6eb",
     "execution_end_time": "2022-04-27T10:48:55.625254Z",
     "history": [
      {
       "current": "bb19f52e-539f-11ea-9227-0242ac120002-17-ec32-4090-08b8-921d-8f40-b281-2b6f-d760-3b50-fb0f",
       "next": "7ec2a5fa-587f-11ea-bd55-0242ac120002-15-bf8a-6f12-6963-b646-6b1a-3074-8131-789f-2b30-69fa",
       "previous": "3737771a-587f-11ea-bd55-0242ac120002-15-321a-8413-a390-901a-12e7-edbf-06f0-4bb2-4d9a-2e3f"
      },
      {
       "current": "bb19f52e-539f-11ea-9227-0242ac120002-18-4090-08b8-921d-8f40-b281-2b6f-d760-3b50-fb0f-6a8a",
       "next": "7ec2a5fa-587f-11ea-bd55-0242ac120002-16-6f12-6963-b646-6b1a-3074-8131-789f-2b30-69fa-426a",
       "previous": "3737771a-587f-11ea-bd55-0242ac120002-16-8413-a390-901a-12e7-edbf-06f0-4bb2-4d9a-2e3f-77fc"
      },
      {
       "current": "bb19f52e-539f-11ea-9227-0242ac120002-19-08b8-921d-8f40-b281-2b6f-d760-3b50-fb0f-6a8a-e8a5",
       "next": "7ec2a5fa-587f-11ea-bd55-0242ac120002-17-6963-b646-6b1a-3074-8131-789f-2b30-69fa-426a-fbc6",
       "previous": "3737771a-587f-11ea-bd55-0242ac120002-17-a390-901a-12e7-edbf-06f0-4bb2-4d9a-2e3f-77fc-2e17"
      },
      {
       "current": "bb19f52e-539f-11ea-9227-0242ac120002-20-921d-8f40-b281-2b6f-d760-3b50-fb0f-6a8a-e8a5-c576",
       "next": "7ec2a5fa-587f-11ea-bd55-0242ac120002-18-b646-6b1a-3074-8131-789f-2b30-69fa-426a-fbc6-7cae",
       "previous": "3737771a-587f-11ea-bd55-0242ac120002-18-901a-12e7-edbf-06f0-4bb2-4d9a-2e3f-77fc-2e17-aca4"
      },
      {
       "current": "bb19f52e-539f-11ea-9227-0242ac120002-21-8f40-b281-2b6f-d760-3b50-fb0f-6a8a-e8a5-c576-b6eb",
       "next": "7ec2a5fa-587f-11ea-bd55-0242ac120002-19-6b1a-3074-8131-789f-2b30-69fa-426a-fbc6-7cae-6c38",
       "previous": "3737771a-587f-11ea-bd55-0242ac120002-19-12e7-edbf-06f0-4bb2-4d9a-2e3f-77fc-2e17-aca4-4b7c"
      }
     ],
     "next": "7ec2a5fa-587f-11ea-bd55-0242ac120002-20-3074-8131-789f-2b30-69fa-426a-fbc6-7cae-6c38-fdd0",
     "previous": "3737771a-587f-11ea-bd55-0242ac120002-20-edbf-06f0-4bb2-4d9a-2e3f-77fc-2e17-aca4-4b7c-1aa5"
    },
    "run_through_control": {
     "frozen": false,
     "read_only": false
    }
   },
   "outputs": [],
   "source": [
    "# group_vars['gakunin_ds_hostname'] = 'test-ds.gakunin.nii.ac.jp'\n",
    "# group_vars['gakunin_ds_hostname']"
   ]
  },
  {
   "cell_type": "markdown",
   "id": "de9a5a07",
   "metadata": {
    "lc_cell_meme": {
     "current": "7ec2a5fa-587f-11ea-bd55-0242ac120002-20-3074-8131-789f-2b30-69fa-426a-fbc6-7cae-6c38-fdd0",
     "history": [
      {
       "current": "7ec2a5fa-587f-11ea-bd55-0242ac120002-16-6f12-6963-b646-6b1a-3074-8131-789f-2b30-69fa-426a",
       "next": "bb19f6c8-539f-11ea-9227-0242ac120002-16-6337-c346-d221-6228-37fd-1188-c928-09ab-a6c4-d579",
       "previous": "bb19f52e-539f-11ea-9227-0242ac120002-16-0f6b-ec32-4090-08b8-921d-8f40-b281-2b6f-d760-3b50"
      },
      {
       "current": "7ec2a5fa-587f-11ea-bd55-0242ac120002-17-6963-b646-6b1a-3074-8131-789f-2b30-69fa-426a-fbc6",
       "next": "bb19f6c8-539f-11ea-9227-0242ac120002-17-c346-d221-6228-37fd-1188-c928-09ab-a6c4-d579-6dda",
       "previous": "bb19f52e-539f-11ea-9227-0242ac120002-17-ec32-4090-08b8-921d-8f40-b281-2b6f-d760-3b50-fb0f"
      },
      {
       "current": "7ec2a5fa-587f-11ea-bd55-0242ac120002-18-b646-6b1a-3074-8131-789f-2b30-69fa-426a-fbc6-7cae",
       "next": "bb19f6c8-539f-11ea-9227-0242ac120002-18-d221-6228-37fd-1188-c928-09ab-a6c4-d579-6dda-1707",
       "previous": "bb19f52e-539f-11ea-9227-0242ac120002-18-4090-08b8-921d-8f40-b281-2b6f-d760-3b50-fb0f-6a8a"
      },
      {
       "current": "7ec2a5fa-587f-11ea-bd55-0242ac120002-19-6b1a-3074-8131-789f-2b30-69fa-426a-fbc6-7cae-6c38",
       "next": "bb19f6c8-539f-11ea-9227-0242ac120002-19-6228-37fd-1188-c928-09ab-a6c4-d579-6dda-1707-728a",
       "previous": "bb19f52e-539f-11ea-9227-0242ac120002-19-08b8-921d-8f40-b281-2b6f-d760-3b50-fb0f-6a8a-e8a5"
      },
      {
       "current": "7ec2a5fa-587f-11ea-bd55-0242ac120002-20-3074-8131-789f-2b30-69fa-426a-fbc6-7cae-6c38-fdd0",
       "next": "bb19f6c8-539f-11ea-9227-0242ac120002-20-37fd-1188-c928-09ab-a6c4-d579-6dda-1707-728a-fe81",
       "previous": "bb19f52e-539f-11ea-9227-0242ac120002-20-921d-8f40-b281-2b6f-d760-3b50-fb0f-6a8a-e8a5-c576"
      }
     ],
     "next": "bb19f6c8-539f-11ea-9227-0242ac120002-21-1188-c928-09ab-a6c4-d579-6dda-1707-728a-fe81-d597",
     "previous": "bb19f52e-539f-11ea-9227-0242ac120002-21-8f40-b281-2b6f-d760-3b50-fb0f-6a8a-e8a5-c576-b6eb"
    }
   },
   "source": [
    "クラウドゲートウェイサーバーの設定\n",
    "\n",
    "- 未設定ならデフォルト値が使用されます。\n",
    "- テストフェデレーションを使用するなら、適切な値の設定が必要です。"
   ]
  },
  {
   "cell_type": "code",
   "execution_count": null,
   "id": "5a4309db",
   "metadata": {
    "deletable": false,
    "editable": false,
    "lc_cell_meme": {
     "current": "bb19f6c8-539f-11ea-9227-0242ac120002-21-1188-c928-09ab-a6c4-d579-6dda-1707-728a-fe81-d597",
     "execution_end_time": "2022-04-27T10:48:56.901650Z",
     "history": [
      {
       "current": "bb19f6c8-539f-11ea-9227-0242ac120002-17-c346-d221-6228-37fd-1188-c928-09ab-a6c4-d579-6dda",
       "next": "f6ca2858-591e-11ea-bd55-0242ac120002-15-721b-c4a4-20f2-55a8-f0f4-be8e-2d46-c53a-db9b-0253",
       "previous": "7ec2a5fa-587f-11ea-bd55-0242ac120002-15-bf8a-6f12-6963-b646-6b1a-3074-8131-789f-2b30-69fa"
      },
      {
       "current": "bb19f6c8-539f-11ea-9227-0242ac120002-18-d221-6228-37fd-1188-c928-09ab-a6c4-d579-6dda-1707",
       "next": "f6ca2858-591e-11ea-bd55-0242ac120002-16-c4a4-20f2-55a8-f0f4-be8e-2d46-c53a-db9b-0253-d6a3",
       "previous": "7ec2a5fa-587f-11ea-bd55-0242ac120002-16-6f12-6963-b646-6b1a-3074-8131-789f-2b30-69fa-426a"
      },
      {
       "current": "bb19f6c8-539f-11ea-9227-0242ac120002-19-6228-37fd-1188-c928-09ab-a6c4-d579-6dda-1707-728a",
       "next": "f6ca2858-591e-11ea-bd55-0242ac120002-17-20f2-55a8-f0f4-be8e-2d46-c53a-db9b-0253-d6a3-1ed2",
       "previous": "7ec2a5fa-587f-11ea-bd55-0242ac120002-17-6963-b646-6b1a-3074-8131-789f-2b30-69fa-426a-fbc6"
      },
      {
       "current": "bb19f6c8-539f-11ea-9227-0242ac120002-20-37fd-1188-c928-09ab-a6c4-d579-6dda-1707-728a-fe81",
       "next": "f6ca2858-591e-11ea-bd55-0242ac120002-18-55a8-f0f4-be8e-2d46-c53a-db9b-0253-d6a3-1ed2-7133",
       "previous": "7ec2a5fa-587f-11ea-bd55-0242ac120002-18-b646-6b1a-3074-8131-789f-2b30-69fa-426a-fbc6-7cae"
      },
      {
       "current": "bb19f6c8-539f-11ea-9227-0242ac120002-21-1188-c928-09ab-a6c4-d579-6dda-1707-728a-fe81-d597",
       "next": "f6ca2858-591e-11ea-bd55-0242ac120002-19-f0f4-be8e-2d46-c53a-db9b-0253-d6a3-1ed2-7133-0802",
       "previous": "7ec2a5fa-587f-11ea-bd55-0242ac120002-19-6b1a-3074-8131-789f-2b30-69fa-426a-fbc6-7cae-6c38"
      }
     ],
     "next": "f6ca2858-591e-11ea-bd55-0242ac120002-20-be8e-2d46-c53a-db9b-0253-d6a3-1ed2-7133-0802-8824",
     "previous": "7ec2a5fa-587f-11ea-bd55-0242ac120002-20-3074-8131-789f-2b30-69fa-426a-fbc6-7cae-6c38-fdd0"
    },
    "run_through_control": {
     "frozen": false,
     "read_only": false
    }
   },
   "outputs": [],
   "source": [
    "# group_vars['cg_fqdn'] = 'sptest.cg.gakunin.jp'\n",
    "# group_vars['cg_fqdn']"
   ]
  },
  {
   "cell_type": "markdown",
   "id": "0183c77c",
   "metadata": {
    "lc_cell_meme": {
     "current": "f6ca2858-591e-11ea-bd55-0242ac120002-20-be8e-2d46-c53a-db9b-0253-d6a3-1ed2-7133-0802-8824",
     "history": [
      {
       "current": "f6ca2858-591e-11ea-bd55-0242ac120002-16-c4a4-20f2-55a8-f0f4-be8e-2d46-c53a-db9b-0253-d6a3",
       "next": "f6ca2a92-591e-11ea-bd55-0242ac120002-15-9778-8df6-523f-503f-c8f4-e62b-30fb-b068-7347-4ab6",
       "previous": "bb19f6c8-539f-11ea-9227-0242ac120002-16-6337-c346-d221-6228-37fd-1188-c928-09ab-a6c4-d579"
      },
      {
       "current": "f6ca2858-591e-11ea-bd55-0242ac120002-17-20f2-55a8-f0f4-be8e-2d46-c53a-db9b-0253-d6a3-1ed2",
       "next": "f6ca2a92-591e-11ea-bd55-0242ac120002-16-8df6-523f-503f-c8f4-e62b-30fb-b068-7347-4ab6-78c1",
       "previous": "bb19f6c8-539f-11ea-9227-0242ac120002-17-c346-d221-6228-37fd-1188-c928-09ab-a6c4-d579-6dda"
      },
      {
       "current": "f6ca2858-591e-11ea-bd55-0242ac120002-18-55a8-f0f4-be8e-2d46-c53a-db9b-0253-d6a3-1ed2-7133",
       "next": "f6ca2a92-591e-11ea-bd55-0242ac120002-17-523f-503f-c8f4-e62b-30fb-b068-7347-4ab6-78c1-82db",
       "previous": "bb19f6c8-539f-11ea-9227-0242ac120002-18-d221-6228-37fd-1188-c928-09ab-a6c4-d579-6dda-1707"
      },
      {
       "current": "f6ca2858-591e-11ea-bd55-0242ac120002-19-f0f4-be8e-2d46-c53a-db9b-0253-d6a3-1ed2-7133-0802",
       "next": "f6ca2a92-591e-11ea-bd55-0242ac120002-18-503f-c8f4-e62b-30fb-b068-7347-4ab6-78c1-82db-758a",
       "previous": "bb19f6c8-539f-11ea-9227-0242ac120002-19-6228-37fd-1188-c928-09ab-a6c4-d579-6dda-1707-728a"
      },
      {
       "current": "f6ca2858-591e-11ea-bd55-0242ac120002-20-be8e-2d46-c53a-db9b-0253-d6a3-1ed2-7133-0802-8824",
       "next": "f6ca2a92-591e-11ea-bd55-0242ac120002-19-c8f4-e62b-30fb-b068-7347-4ab6-78c1-82db-758a-f32d",
       "previous": "bb19f6c8-539f-11ea-9227-0242ac120002-20-37fd-1188-c928-09ab-a6c4-d579-6dda-1707-728a-fe81"
      }
     ],
     "next": "f6ca2a92-591e-11ea-bd55-0242ac120002-20-e62b-30fb-b068-7347-4ab6-78c1-82db-758a-f32d-30a0",
     "previous": "bb19f6c8-539f-11ea-9227-0242ac120002-21-1188-c928-09ab-a6c4-d579-6dda-1707-728a-fe81-d597"
    }
   },
   "source": [
    "フェデレーションメタデータ検証用証明書の用意"
   ]
  },
  {
   "cell_type": "code",
   "execution_count": null,
   "id": "83c37250",
   "metadata": {
    "deletable": false,
    "editable": false,
    "lc_cell_meme": {
     "current": "f6ca2a92-591e-11ea-bd55-0242ac120002-20-e62b-30fb-b068-7347-4ab6-78c1-82db-758a-f32d-30a0",
     "execution_end_time": "2022-04-27T10:48:58.076126Z",
     "history": [
      {
       "current": "f6ca2a92-591e-11ea-bd55-0242ac120002-16-8df6-523f-503f-c8f4-e62b-30fb-b068-7347-4ab6-78c1",
       "next": "85d819f6-591f-11ea-bd55-0242ac120002-15-65f4-0a13-1d0c-9c99-dd32-5ecf-e1f0-346b-e0a3-8169",
       "previous": "f6ca2858-591e-11ea-bd55-0242ac120002-15-721b-c4a4-20f2-55a8-f0f4-be8e-2d46-c53a-db9b-0253"
      },
      {
       "current": "f6ca2a92-591e-11ea-bd55-0242ac120002-17-523f-503f-c8f4-e62b-30fb-b068-7347-4ab6-78c1-82db",
       "next": "85d819f6-591f-11ea-bd55-0242ac120002-16-0a13-1d0c-9c99-dd32-5ecf-e1f0-346b-e0a3-8169-fb05",
       "previous": "f6ca2858-591e-11ea-bd55-0242ac120002-16-c4a4-20f2-55a8-f0f4-be8e-2d46-c53a-db9b-0253-d6a3"
      },
      {
       "current": "f6ca2a92-591e-11ea-bd55-0242ac120002-18-503f-c8f4-e62b-30fb-b068-7347-4ab6-78c1-82db-758a",
       "next": "85d819f6-591f-11ea-bd55-0242ac120002-17-1d0c-9c99-dd32-5ecf-e1f0-346b-e0a3-8169-fb05-0595",
       "previous": "f6ca2858-591e-11ea-bd55-0242ac120002-17-20f2-55a8-f0f4-be8e-2d46-c53a-db9b-0253-d6a3-1ed2"
      },
      {
       "current": "f6ca2a92-591e-11ea-bd55-0242ac120002-19-c8f4-e62b-30fb-b068-7347-4ab6-78c1-82db-758a-f32d",
       "next": "85d819f6-591f-11ea-bd55-0242ac120002-18-9c99-dd32-5ecf-e1f0-346b-e0a3-8169-fb05-0595-deef",
       "previous": "f6ca2858-591e-11ea-bd55-0242ac120002-18-55a8-f0f4-be8e-2d46-c53a-db9b-0253-d6a3-1ed2-7133"
      },
      {
       "current": "f6ca2a92-591e-11ea-bd55-0242ac120002-20-e62b-30fb-b068-7347-4ab6-78c1-82db-758a-f32d-30a0",
       "next": "85d819f6-591f-11ea-bd55-0242ac120002-19-dd32-5ecf-e1f0-346b-e0a3-8169-fb05-0595-deef-7646",
       "previous": "f6ca2858-591e-11ea-bd55-0242ac120002-19-f0f4-be8e-2d46-c53a-db9b-0253-d6a3-1ed2-7133-0802"
      }
     ],
     "next": "85d819f6-591f-11ea-bd55-0242ac120002-20-5ecf-e1f0-346b-e0a3-8169-fb05-0595-deef-7646-6d51",
     "previous": "f6ca2858-591e-11ea-bd55-0242ac120002-20-be8e-2d46-c53a-db9b-0253-d6a3-1ed2-7133-0802-8824"
    },
    "run_through_control": {
     "frozen": false,
     "read_only": false
    }
   },
   "outputs": [],
   "source": [
    "# group_vars['ds_metadata_signer_url'] = 'https://metadata.gakunin.nii.ac.jp/gakunin-test-signer-2011.cer'\n",
    "# group_vars['ds_metadata_signer_url']"
   ]
  },
  {
   "cell_type": "markdown",
   "id": "e6a260b4",
   "metadata": {
    "lc_cell_meme": {
     "current": "85d819f6-591f-11ea-bd55-0242ac120002-20-5ecf-e1f0-346b-e0a3-8169-fb05-0595-deef-7646-6d51",
     "history": [
      {
       "current": "85d819f6-591f-11ea-bd55-0242ac120002-16-0a13-1d0c-9c99-dd32-5ecf-e1f0-346b-e0a3-8169-fb05",
       "next": "85d81c44-591f-11ea-bd55-0242ac120002-15-2669-1327-2670-6e49-fd1d-3ba6-1be3-8054-2efc-90ad",
       "previous": "f6ca2a92-591e-11ea-bd55-0242ac120002-15-9778-8df6-523f-503f-c8f4-e62b-30fb-b068-7347-4ab6"
      },
      {
       "current": "85d819f6-591f-11ea-bd55-0242ac120002-17-1d0c-9c99-dd32-5ecf-e1f0-346b-e0a3-8169-fb05-0595",
       "next": "85d81c44-591f-11ea-bd55-0242ac120002-16-1327-2670-6e49-fd1d-3ba6-1be3-8054-2efc-90ad-6b53",
       "previous": "f6ca2a92-591e-11ea-bd55-0242ac120002-16-8df6-523f-503f-c8f4-e62b-30fb-b068-7347-4ab6-78c1"
      },
      {
       "current": "85d819f6-591f-11ea-bd55-0242ac120002-18-9c99-dd32-5ecf-e1f0-346b-e0a3-8169-fb05-0595-deef",
       "next": "85d81c44-591f-11ea-bd55-0242ac120002-17-2670-6e49-fd1d-3ba6-1be3-8054-2efc-90ad-6b53-7aeb",
       "previous": "f6ca2a92-591e-11ea-bd55-0242ac120002-17-523f-503f-c8f4-e62b-30fb-b068-7347-4ab6-78c1-82db"
      },
      {
       "current": "85d819f6-591f-11ea-bd55-0242ac120002-19-dd32-5ecf-e1f0-346b-e0a3-8169-fb05-0595-deef-7646",
       "next": "85d81c44-591f-11ea-bd55-0242ac120002-18-6e49-fd1d-3ba6-1be3-8054-2efc-90ad-6b53-7aeb-cf16",
       "previous": "f6ca2a92-591e-11ea-bd55-0242ac120002-18-503f-c8f4-e62b-30fb-b068-7347-4ab6-78c1-82db-758a"
      },
      {
       "current": "85d819f6-591f-11ea-bd55-0242ac120002-20-5ecf-e1f0-346b-e0a3-8169-fb05-0595-deef-7646-6d51",
       "next": "85d81c44-591f-11ea-bd55-0242ac120002-19-fd1d-3ba6-1be3-8054-2efc-90ad-6b53-7aeb-cf16-dd98",
       "previous": "f6ca2a92-591e-11ea-bd55-0242ac120002-19-c8f4-e62b-30fb-b068-7347-4ab6-78c1-82db-758a-f32d"
      }
     ],
     "next": "85d81c44-591f-11ea-bd55-0242ac120002-20-3ba6-1be3-8054-2efc-90ad-6b53-7aeb-cf16-dd98-b08a",
     "previous": "f6ca2a92-591e-11ea-bd55-0242ac120002-20-e62b-30fb-b068-7347-4ab6-78c1-82db-758a-f32d-30a0"
    }
   },
   "source": [
    "**テスト用クラウドゲートウェイを利用するときのみ**\n",
    "\n",
    "クラウドゲートウェイメタデータの用意\n",
    "\n",
    "学認から別途入手し、ローカルに配置済みとする。"
   ]
  },
  {
   "cell_type": "code",
   "execution_count": null,
   "id": "5645cddc",
   "metadata": {
    "deletable": false,
    "editable": false,
    "lc_cell_meme": {
     "current": "85d81c44-591f-11ea-bd55-0242ac120002-20-3ba6-1be3-8054-2efc-90ad-6b53-7aeb-cf16-dd98-b08a",
     "execution_end_time": "2022-04-27T10:48:59.985503Z",
     "history": [
      {
       "current": "85d81c44-591f-11ea-bd55-0242ac120002-16-1327-2670-6e49-fd1d-3ba6-1be3-8054-2efc-90ad-6b53",
       "next": "85d81e38-591f-11ea-bd55-0242ac120002-15-ee5b-77c0-4985-c39f-327c-e91a-3cd4-862d-1f12-3404",
       "previous": "85d819f6-591f-11ea-bd55-0242ac120002-15-65f4-0a13-1d0c-9c99-dd32-5ecf-e1f0-346b-e0a3-8169"
      },
      {
       "current": "85d81c44-591f-11ea-bd55-0242ac120002-17-2670-6e49-fd1d-3ba6-1be3-8054-2efc-90ad-6b53-7aeb",
       "next": "85d81e38-591f-11ea-bd55-0242ac120002-16-77c0-4985-c39f-327c-e91a-3cd4-862d-1f12-3404-a680",
       "previous": "85d819f6-591f-11ea-bd55-0242ac120002-16-0a13-1d0c-9c99-dd32-5ecf-e1f0-346b-e0a3-8169-fb05"
      },
      {
       "current": "85d81c44-591f-11ea-bd55-0242ac120002-18-6e49-fd1d-3ba6-1be3-8054-2efc-90ad-6b53-7aeb-cf16",
       "next": "85d81e38-591f-11ea-bd55-0242ac120002-17-4985-c39f-327c-e91a-3cd4-862d-1f12-3404-a680-f989",
       "previous": "85d819f6-591f-11ea-bd55-0242ac120002-17-1d0c-9c99-dd32-5ecf-e1f0-346b-e0a3-8169-fb05-0595"
      },
      {
       "current": "85d81c44-591f-11ea-bd55-0242ac120002-19-fd1d-3ba6-1be3-8054-2efc-90ad-6b53-7aeb-cf16-dd98",
       "next": "85d81e38-591f-11ea-bd55-0242ac120002-18-c39f-327c-e91a-3cd4-862d-1f12-3404-a680-f989-f678",
       "previous": "85d819f6-591f-11ea-bd55-0242ac120002-18-9c99-dd32-5ecf-e1f0-346b-e0a3-8169-fb05-0595-deef"
      },
      {
       "current": "85d81c44-591f-11ea-bd55-0242ac120002-20-3ba6-1be3-8054-2efc-90ad-6b53-7aeb-cf16-dd98-b08a",
       "next": "85d81e38-591f-11ea-bd55-0242ac120002-19-327c-e91a-3cd4-862d-1f12-3404-a680-f989-f678-d4d7",
       "previous": "85d819f6-591f-11ea-bd55-0242ac120002-19-dd32-5ecf-e1f0-346b-e0a3-8169-fb05-0595-deef-7646"
      }
     ],
     "next": "85d81e38-591f-11ea-bd55-0242ac120002-20-e91a-3cd4-862d-1f12-3404-a680-f989-f678-d4d7-3c0b",
     "previous": "85d819f6-591f-11ea-bd55-0242ac120002-20-5ecf-e1f0-346b-e0a3-8169-fb05-0595-deef-7646-6d51"
    },
    "run_through_control": {
     "frozen": false,
     "read_only": false
    }
   },
   "outputs": [],
   "source": [
    "# group_vars['cgidp_metadata'] = 'sptestcgidp-metadata-self-signed-cert.xml.20200305'\n",
    "# group_vars['cgidp_metadata']"
   ]
  },
  {
   "cell_type": "code",
   "execution_count": null,
   "id": "bdb977f1",
   "metadata": {
    "deletable": false,
    "editable": false,
    "lc_cell_meme": {
     "current": "85d81e38-591f-11ea-bd55-0242ac120002-20-e91a-3cd4-862d-1f12-3404-a680-f989-f678-d4d7-3c0b",
     "execution_end_time": "2022-04-27T10:49:01.216921Z",
     "history": [
      {
       "current": "85d81e38-591f-11ea-bd55-0242ac120002-16-77c0-4985-c39f-327c-e91a-3cd4-862d-1f12-3404-a680",
       "next": "555a01c6-5880-11ea-bd55-0242ac120002-15-e738-d1a3-e00a-7c2d-9c40-8535-791a-39e1-8bb1-4f81",
       "previous": "85d81c44-591f-11ea-bd55-0242ac120002-15-2669-1327-2670-6e49-fd1d-3ba6-1be3-8054-2efc-90ad"
      },
      {
       "current": "85d81e38-591f-11ea-bd55-0242ac120002-17-4985-c39f-327c-e91a-3cd4-862d-1f12-3404-a680-f989",
       "next": "555a01c6-5880-11ea-bd55-0242ac120002-16-d1a3-e00a-7c2d-9c40-8535-791a-39e1-8bb1-4f81-1df2",
       "previous": "85d81c44-591f-11ea-bd55-0242ac120002-16-1327-2670-6e49-fd1d-3ba6-1be3-8054-2efc-90ad-6b53"
      },
      {
       "current": "85d81e38-591f-11ea-bd55-0242ac120002-18-c39f-327c-e91a-3cd4-862d-1f12-3404-a680-f989-f678",
       "next": "555a01c6-5880-11ea-bd55-0242ac120002-17-e00a-7c2d-9c40-8535-791a-39e1-8bb1-4f81-1df2-bbdc",
       "previous": "85d81c44-591f-11ea-bd55-0242ac120002-17-2670-6e49-fd1d-3ba6-1be3-8054-2efc-90ad-6b53-7aeb"
      },
      {
       "current": "85d81e38-591f-11ea-bd55-0242ac120002-19-327c-e91a-3cd4-862d-1f12-3404-a680-f989-f678-d4d7",
       "next": "555a01c6-5880-11ea-bd55-0242ac120002-18-7c2d-9c40-8535-791a-39e1-8bb1-4f81-1df2-bbdc-dec3",
       "previous": "85d81c44-591f-11ea-bd55-0242ac120002-18-6e49-fd1d-3ba6-1be3-8054-2efc-90ad-6b53-7aeb-cf16"
      },
      {
       "current": "85d81e38-591f-11ea-bd55-0242ac120002-20-e91a-3cd4-862d-1f12-3404-a680-f989-f678-d4d7-3c0b",
       "next": "555a01c6-5880-11ea-bd55-0242ac120002-19-9c40-8535-791a-39e1-8bb1-4f81-1df2-bbdc-dec3-bc23",
       "previous": "85d81c44-591f-11ea-bd55-0242ac120002-19-fd1d-3ba6-1be3-8054-2efc-90ad-6b53-7aeb-cf16-dd98"
      }
     ],
     "next": "555a01c6-5880-11ea-bd55-0242ac120002-20-8535-791a-39e1-8bb1-4f81-1df2-bbdc-dec3-bc23-af0a",
     "previous": "85d81c44-591f-11ea-bd55-0242ac120002-20-3ba6-1be3-8054-2efc-90ad-6b53-7aeb-cf16-dd98-b08a"
    },
    "run_through_control": {
     "frozen": false,
     "read_only": false
    }
   },
   "outputs": [],
   "source": [
    "if 'cgidp_metadata' in group_vars:\n",
    "    !ls -l {group_vars[cgidp_metadata]}"
   ]
  },
  {
   "cell_type": "markdown",
   "id": "70755f65",
   "metadata": {
    "lc_cell_meme": {
     "current": "555a01c6-5880-11ea-bd55-0242ac120002-20-8535-791a-39e1-8bb1-4f81-1df2-bbdc-dec3-bc23-af0a",
     "history": [
      {
       "current": "555a01c6-5880-11ea-bd55-0242ac120002-16-d1a3-e00a-7c2d-9c40-8535-791a-39e1-8bb1-4f81-1df2",
       "next": "157e431e-53a3-11ea-9227-0242ac120002-17-2dcd-d87d-357d-3921-856c-2b91-f9bb-9378-c657-81a9",
       "previous": "85d81e38-591f-11ea-bd55-0242ac120002-15-ee5b-77c0-4985-c39f-327c-e91a-3cd4-862d-1f12-3404"
      },
      {
       "current": "555a01c6-5880-11ea-bd55-0242ac120002-17-e00a-7c2d-9c40-8535-791a-39e1-8bb1-4f81-1df2-bbdc",
       "next": "157e431e-53a3-11ea-9227-0242ac120002-18-d87d-357d-3921-856c-2b91-f9bb-9378-c657-81a9-7163",
       "previous": "85d81e38-591f-11ea-bd55-0242ac120002-16-77c0-4985-c39f-327c-e91a-3cd4-862d-1f12-3404-a680"
      },
      {
       "current": "555a01c6-5880-11ea-bd55-0242ac120002-18-7c2d-9c40-8535-791a-39e1-8bb1-4f81-1df2-bbdc-dec3",
       "next": "157e431e-53a3-11ea-9227-0242ac120002-19-357d-3921-856c-2b91-f9bb-9378-c657-81a9-7163-5a9d",
       "previous": "85d81e38-591f-11ea-bd55-0242ac120002-17-4985-c39f-327c-e91a-3cd4-862d-1f12-3404-a680-f989"
      },
      {
       "current": "555a01c6-5880-11ea-bd55-0242ac120002-19-9c40-8535-791a-39e1-8bb1-4f81-1df2-bbdc-dec3-bc23",
       "next": "157e431e-53a3-11ea-9227-0242ac120002-20-3921-856c-2b91-f9bb-9378-c657-81a9-7163-5a9d-30ab",
       "previous": "85d81e38-591f-11ea-bd55-0242ac120002-18-c39f-327c-e91a-3cd4-862d-1f12-3404-a680-f989-f678"
      },
      {
       "current": "555a01c6-5880-11ea-bd55-0242ac120002-20-8535-791a-39e1-8bb1-4f81-1df2-bbdc-dec3-bc23-af0a",
       "next": "157e431e-53a3-11ea-9227-0242ac120002-21-856c-2b91-f9bb-9378-c657-81a9-7163-5a9d-30ab-7a38",
       "previous": "85d81e38-591f-11ea-bd55-0242ac120002-19-327c-e91a-3cd4-862d-1f12-3404-a680-f989-f678-d4d7"
      }
     ],
     "next": "157e431e-53a3-11ea-9227-0242ac120002-22-2b91-f9bb-9378-c657-81a9-7163-5a9d-30ab-7a38-7f2c",
     "previous": "85d81e38-591f-11ea-bd55-0242ac120002-20-e91a-3cd4-862d-1f12-3404-a680-f989-f678-d4d7-3c0b"
    }
   },
   "source": [
    "### クラウドゲートウェイグループの設定"
   ]
  },
  {
   "cell_type": "markdown",
   "id": "9652ecb5",
   "metadata": {
    "lc_cell_meme": {
     "current": "157e431e-53a3-11ea-9227-0242ac120002-22-2b91-f9bb-9378-c657-81a9-7163-5a9d-30ab-7a38-7f2c",
     "history": [
      {
       "current": "157e431e-53a3-11ea-9227-0242ac120002-18-d87d-357d-3921-856c-2b91-f9bb-9378-c657-81a9-7163",
       "next": "157e431e-53a3-11ea-9227-0242ac120002-17-2d14-e376-64f6-70a7-fc1d-fcd2-e11a-a246-49b1-da08",
       "previous": "555a01c6-5880-11ea-bd55-0242ac120002-15-e738-d1a3-e00a-7c2d-9c40-8535-791a-39e1-8bb1-4f81"
      },
      {
       "current": "157e431e-53a3-11ea-9227-0242ac120002-19-357d-3921-856c-2b91-f9bb-9378-c657-81a9-7163-5a9d",
       "next": "157e431e-53a3-11ea-9227-0242ac120002-18-e376-64f6-70a7-fc1d-fcd2-e11a-a246-49b1-da08-9729",
       "previous": "555a01c6-5880-11ea-bd55-0242ac120002-16-d1a3-e00a-7c2d-9c40-8535-791a-39e1-8bb1-4f81-1df2"
      },
      {
       "current": "157e431e-53a3-11ea-9227-0242ac120002-20-3921-856c-2b91-f9bb-9378-c657-81a9-7163-5a9d-30ab",
       "next": "157e431e-53a3-11ea-9227-0242ac120002-19-64f6-70a7-fc1d-fcd2-e11a-a246-49b1-da08-9729-30c2",
       "previous": "555a01c6-5880-11ea-bd55-0242ac120002-17-e00a-7c2d-9c40-8535-791a-39e1-8bb1-4f81-1df2-bbdc"
      },
      {
       "current": "157e431e-53a3-11ea-9227-0242ac120002-21-856c-2b91-f9bb-9378-c657-81a9-7163-5a9d-30ab-7a38",
       "next": "157e431e-53a3-11ea-9227-0242ac120002-20-70a7-fc1d-fcd2-e11a-a246-49b1-da08-9729-30c2-37a7",
       "previous": "555a01c6-5880-11ea-bd55-0242ac120002-18-7c2d-9c40-8535-791a-39e1-8bb1-4f81-1df2-bbdc-dec3"
      },
      {
       "current": "157e431e-53a3-11ea-9227-0242ac120002-22-2b91-f9bb-9378-c657-81a9-7163-5a9d-30ab-7a38-7f2c",
       "next": "157e431e-53a3-11ea-9227-0242ac120002-21-fc1d-fcd2-e11a-a246-49b1-da08-9729-30c2-37a7-1570",
       "previous": "555a01c6-5880-11ea-bd55-0242ac120002-19-9c40-8535-791a-39e1-8bb1-4f81-1df2-bbdc-dec3-bc23"
      }
     ],
     "next": "157e431e-53a3-11ea-9227-0242ac120002-22-fcd2-e11a-a246-49b1-da08-9729-30c2-37a7-1570-475c",
     "previous": "555a01c6-5880-11ea-bd55-0242ac120002-20-8535-791a-39e1-8bb1-4f81-1df2-bbdc-dec3-bc23-af0a"
    }
   },
   "source": [
    "使用を許可するクラウドゲートウェイグループのグループIDを列挙する。\n",
    "\n",
    "idp-proxyを使用するか、フェデレーションに直接参加しているときのみ有効。\n",
    "\n",
    "ローカルユーザーのみの場合は、空の配列を指定する。"
   ]
  },
  {
   "cell_type": "code",
   "execution_count": null,
   "id": "6be2e7c4",
   "metadata": {
    "deletable": false,
    "editable": false,
    "lc_cell_meme": {
     "current": "157e431e-53a3-11ea-9227-0242ac120002-22-fcd2-e11a-a246-49b1-da08-9729-30c2-37a7-1570-475c",
     "execution_end_time": "2022-04-27T10:49:09.589176Z",
     "history": [
      {
       "current": "157e431e-53a3-11ea-9227-0242ac120002-18-e376-64f6-70a7-fc1d-fcd2-e11a-a246-49b1-da08-9729",
       "next": "ac985ea3-8595-11ec-a4fd-6b42dc3e1973",
       "previous": "157e431e-53a3-11ea-9227-0242ac120002-17-2dcd-d87d-357d-3921-856c-2b91-f9bb-9378-c657-81a9"
      },
      {
       "current": "157e431e-53a3-11ea-9227-0242ac120002-19-64f6-70a7-fc1d-fcd2-e11a-a246-49b1-da08-9729-30c2",
       "next": "ac985ea3-8595-11ec-a4fd-6b42dc3e1973-1-c550",
       "previous": "157e431e-53a3-11ea-9227-0242ac120002-18-d87d-357d-3921-856c-2b91-f9bb-9378-c657-81a9-7163"
      },
      {
       "current": "157e431e-53a3-11ea-9227-0242ac120002-20-70a7-fc1d-fcd2-e11a-a246-49b1-da08-9729-30c2-37a7",
       "next": "ac985ea3-8595-11ec-a4fd-6b42dc3e1973-2-c550-ddb8",
       "previous": "157e431e-53a3-11ea-9227-0242ac120002-19-357d-3921-856c-2b91-f9bb-9378-c657-81a9-7163-5a9d"
      },
      {
       "current": "157e431e-53a3-11ea-9227-0242ac120002-21-fc1d-fcd2-e11a-a246-49b1-da08-9729-30c2-37a7-1570",
       "next": "ac985ea3-8595-11ec-a4fd-6b42dc3e1973-3-c550-ddb8-af9f",
       "previous": "157e431e-53a3-11ea-9227-0242ac120002-20-3921-856c-2b91-f9bb-9378-c657-81a9-7163-5a9d-30ab"
      },
      {
       "current": "157e431e-53a3-11ea-9227-0242ac120002-22-fcd2-e11a-a246-49b1-da08-9729-30c2-37a7-1570-475c",
       "next": "ac985ea3-8595-11ec-a4fd-6b42dc3e1973-4-c550-ddb8-af9f-f1e4",
       "previous": "157e431e-53a3-11ea-9227-0242ac120002-21-856c-2b91-f9bb-9378-c657-81a9-7163-5a9d-30ab-7a38"
      }
     ],
     "next": "ac985ea3-8595-11ec-a4fd-6b42dc3e1973-5-c550-ddb8-af9f-f1e4-b2c0",
     "previous": "157e431e-53a3-11ea-9227-0242ac120002-22-2b91-f9bb-9378-c657-81a9-7163-5a9d-30ab-7a38-7f2c"
    },
    "run_through_control": {
     "frozen": false,
     "read_only": false
    }
   },
   "outputs": [],
   "source": [
    "#cg_groups = [\n",
    "#   'https://sptest.cg.gakunin.jp/gr/coursewarehub-test'\n",
    "#]\n",
    "group_vars['cg_groups'] = [\n",
    "]\n",
    "group_vars['cg_groups']"
   ]
  },
  {
   "cell_type": "markdown",
   "id": "2d89f049",
   "metadata": {
    "lc_cell_meme": {
     "current": "ac985ea3-8595-11ec-a4fd-6b42dc3e1973-5-c550-ddb8-af9f-f1e4-b2c0",
     "history": [
      {
       "current": "ac985ea3-8595-11ec-a4fd-6b42dc3e1973-1-c550",
       "next": "ac9862e0-8595-11ec-a396-6b42dc3e1973-1-9a9b",
       "previous": "157e431e-53a3-11ea-9227-0242ac120002-17-2d14-e376-64f6-70a7-fc1d-fcd2-e11a-a246-49b1-da08"
      },
      {
       "current": "ac985ea3-8595-11ec-a4fd-6b42dc3e1973-2-c550-ddb8",
       "next": "ac9862e0-8595-11ec-a396-6b42dc3e1973-2-9a9b-2aac",
       "previous": "157e431e-53a3-11ea-9227-0242ac120002-18-e376-64f6-70a7-fc1d-fcd2-e11a-a246-49b1-da08-9729"
      },
      {
       "current": "ac985ea3-8595-11ec-a4fd-6b42dc3e1973-3-c550-ddb8-af9f",
       "next": "ac9862e0-8595-11ec-a396-6b42dc3e1973-3-9a9b-2aac-e80f",
       "previous": "157e431e-53a3-11ea-9227-0242ac120002-19-64f6-70a7-fc1d-fcd2-e11a-a246-49b1-da08-9729-30c2"
      },
      {
       "current": "ac985ea3-8595-11ec-a4fd-6b42dc3e1973-4-c550-ddb8-af9f-f1e4",
       "next": "ac9862e0-8595-11ec-a396-6b42dc3e1973-4-9a9b-2aac-e80f-363a",
       "previous": "157e431e-53a3-11ea-9227-0242ac120002-20-70a7-fc1d-fcd2-e11a-a246-49b1-da08-9729-30c2-37a7"
      },
      {
       "current": "ac985ea3-8595-11ec-a4fd-6b42dc3e1973-5-c550-ddb8-af9f-f1e4-b2c0",
       "next": "ac9862e0-8595-11ec-a396-6b42dc3e1973-5-9a9b-2aac-e80f-363a-f8ed",
       "previous": "157e431e-53a3-11ea-9227-0242ac120002-21-fc1d-fcd2-e11a-a246-49b1-da08-9729-30c2-37a7-1570"
      }
     ],
     "next": "ac9862e0-8595-11ec-a396-6b42dc3e1973-6-9a9b-2aac-e80f-363a-f8ed-1678",
     "previous": "157e431e-53a3-11ea-9227-0242ac120002-22-fcd2-e11a-a246-49b1-da08-9729-30c2-37a7-1570-475c"
    }
   },
   "source": [
    "### Cullingの設定\n",
    "\n",
    "アイドル状態のNotebookサーバーを自動的に停止する設定を行います\n",
    "\n",
    "|項目                     | 説明                                                           |\n",
    "|-------------------------|----------------------------------------------------------------|\n",
    "|cull_server              | アイドル状態のNotebookサーバーの停止を有効／無効化 (yes/no/0/1)|\n",
    "|cull_server_idle_timeout | アイドル状態のNotebookサーバーの停止までのタイムアウト時間     |\n",
    "|cull_server_max_age      | アイドル状態でなくてもNotebookサーバーを停止するまでの時間     |\n",
    "|cull_server_ every       | Notebookのアイドル状態のタイムアウトのチェック間隔             |\n"
   ]
  },
  {
   "cell_type": "code",
   "execution_count": null,
   "id": "a068e606",
   "metadata": {
    "deletable": false,
    "editable": false,
    "lc_cell_meme": {
     "current": "ac9862e0-8595-11ec-a396-6b42dc3e1973-6-9a9b-2aac-e80f-363a-f8ed-1678",
     "execution_end_time": "2022-04-27T10:49:14.010157Z",
     "history": [
      {
       "current": "ac9862e0-8595-11ec-a396-6b42dc3e1973-2-9a9b-2aac",
       "next": "414d8208-8997-11ec-b229-6b42dc3e1973",
       "previous": "ac985ea3-8595-11ec-a4fd-6b42dc3e1973"
      },
      {
       "current": "ac9862e0-8595-11ec-a396-6b42dc3e1973-3-9a9b-2aac-e80f",
       "next": "414d8208-8997-11ec-b229-6b42dc3e1973-1-45f9",
       "previous": "ac985ea3-8595-11ec-a4fd-6b42dc3e1973-1-c550"
      },
      {
       "current": "ac9862e0-8595-11ec-a396-6b42dc3e1973-4-9a9b-2aac-e80f-363a",
       "next": "414d8208-8997-11ec-b229-6b42dc3e1973-2-45f9-4e1a",
       "previous": "ac985ea3-8595-11ec-a4fd-6b42dc3e1973-2-c550-ddb8"
      },
      {
       "current": "ac9862e0-8595-11ec-a396-6b42dc3e1973-5-9a9b-2aac-e80f-363a-f8ed",
       "next": "414d8208-8997-11ec-b229-6b42dc3e1973-3-45f9-4e1a-f366",
       "previous": "ac985ea3-8595-11ec-a4fd-6b42dc3e1973-3-c550-ddb8-af9f"
      },
      {
       "current": "ac9862e0-8595-11ec-a396-6b42dc3e1973-6-9a9b-2aac-e80f-363a-f8ed-1678",
       "next": "414d8208-8997-11ec-b229-6b42dc3e1973-4-45f9-4e1a-f366-3a21",
       "previous": "ac985ea3-8595-11ec-a4fd-6b42dc3e1973-4-c550-ddb8-af9f-f1e4"
      }
     ],
     "next": "414d8208-8997-11ec-b229-6b42dc3e1973-5-45f9-4e1a-f366-3a21-8bb1",
     "previous": "ac985ea3-8595-11ec-a4fd-6b42dc3e1973-5-c550-ddb8-af9f-f1e4-b2c0"
    },
    "run_through_control": {
     "frozen": false,
     "read_only": false
    }
   },
   "outputs": [],
   "source": [
    "group_vars['cull_server'] = 'no'\n",
    "# group_vars['cull_server_idle_timeout'] = 43200"
   ]
  },
  {
   "cell_type": "markdown",
   "id": "7e636206",
   "metadata": {
    "lc_cell_meme": {
     "current": "414d8208-8997-11ec-b229-6b42dc3e1973-5-45f9-4e1a-f366-3a21-8bb1",
     "history": [
      {
       "current": "414d8208-8997-11ec-b229-6b42dc3e1973-1-45f9",
       "next": "414d8470-8997-11ec-8f5c-6b42dc3e1973",
       "previous": "ac9862e0-8595-11ec-a396-6b42dc3e1973-1-9a9b"
      },
      {
       "current": "414d8208-8997-11ec-b229-6b42dc3e1973-2-45f9-4e1a",
       "next": "414d8470-8997-11ec-8f5c-6b42dc3e1973-1-955c",
       "previous": "ac9862e0-8595-11ec-a396-6b42dc3e1973-2-9a9b-2aac"
      },
      {
       "current": "414d8208-8997-11ec-b229-6b42dc3e1973-3-45f9-4e1a-f366",
       "next": "414d8470-8997-11ec-8f5c-6b42dc3e1973-2-955c-15b0",
       "previous": "ac9862e0-8595-11ec-a396-6b42dc3e1973-3-9a9b-2aac-e80f"
      },
      {
       "current": "414d8208-8997-11ec-b229-6b42dc3e1973-4-45f9-4e1a-f366-3a21",
       "next": "414d8470-8997-11ec-8f5c-6b42dc3e1973-3-955c-15b0-e5a2",
       "previous": "ac9862e0-8595-11ec-a396-6b42dc3e1973-4-9a9b-2aac-e80f-363a"
      },
      {
       "current": "414d8208-8997-11ec-b229-6b42dc3e1973-5-45f9-4e1a-f366-3a21-8bb1",
       "next": "414d8470-8997-11ec-8f5c-6b42dc3e1973-4-955c-15b0-e5a2-9d87",
       "previous": "ac9862e0-8595-11ec-a396-6b42dc3e1973-5-9a9b-2aac-e80f-363a-f8ed"
      }
     ],
     "next": "414d8470-8997-11ec-8f5c-6b42dc3e1973-5-955c-15b0-e5a2-9d87-9dfe",
     "previous": "ac9862e0-8595-11ec-a396-6b42dc3e1973-6-9a9b-2aac-e80f-363a-f8ed-1678"
    }
   },
   "source": [
    "### JupyterHubのSpawnerの設定\n",
    "\n",
    "JupyterHubがユーザーのNotebookサーバーを起動するさいのパラメータを設定します。\n",
    "\n",
    "\n",
    "|項目                     | 説明                                                           |\n",
    "|-------------------------|----------------------------------------------------------------|\n",
    "|concurrent_spawn_limit   | ユーザーコンテナ同時起動処理数                                 |\n",
    "|spawner_http_timeout     | ユーザーNotebookサービス 起動タイムアウト時間(秒)              |\n",
    "|spawner_start_timeout | アイドル状態のNotebookサーバーの停止までのタイムアウト時間     |\n"
   ]
  },
  {
   "cell_type": "code",
   "execution_count": null,
   "id": "c9f9257e",
   "metadata": {
    "deletable": false,
    "editable": false,
    "lc_cell_meme": {
     "current": "414d8470-8997-11ec-8f5c-6b42dc3e1973-5-955c-15b0-e5a2-9d87-9dfe",
     "execution_end_time": "2022-04-27T10:49:15.737818Z",
     "history": [
      {
       "current": "414d8470-8997-11ec-8f5c-6b42dc3e1973-1-955c",
       "next": "a588f0e7-8e2e-11ec-bb44-6b42dc3e1973",
       "previous": "414d8208-8997-11ec-b229-6b42dc3e1973"
      },
      {
       "current": "414d8470-8997-11ec-8f5c-6b42dc3e1973-2-955c-15b0",
       "next": "a588f0e7-8e2e-11ec-bb44-6b42dc3e1973-1-86ee",
       "previous": "414d8208-8997-11ec-b229-6b42dc3e1973-1-45f9"
      },
      {
       "current": "414d8470-8997-11ec-8f5c-6b42dc3e1973-3-955c-15b0-e5a2",
       "next": "a588f0e7-8e2e-11ec-bb44-6b42dc3e1973-2-86ee-a437",
       "previous": "414d8208-8997-11ec-b229-6b42dc3e1973-2-45f9-4e1a"
      },
      {
       "current": "414d8470-8997-11ec-8f5c-6b42dc3e1973-4-955c-15b0-e5a2-9d87",
       "next": "d9beba0a-bc84-11ec-89f8-0242ac120002-2-759c-9013",
       "previous": "414d8208-8997-11ec-b229-6b42dc3e1973-3-45f9-4e1a-f366"
      },
      {
       "current": "414d8470-8997-11ec-8f5c-6b42dc3e1973-5-955c-15b0-e5a2-9d87-9dfe",
       "next": "d9beba0a-bc84-11ec-89f8-0242ac120002-3-759c-9013-7f79",
       "previous": "414d8208-8997-11ec-b229-6b42dc3e1973-4-45f9-4e1a-f366-3a21"
      }
     ],
     "next": "d9beba0a-bc84-11ec-89f8-0242ac120002-4-759c-9013-7f79-d87b",
     "previous": "414d8208-8997-11ec-b229-6b42dc3e1973-5-45f9-4e1a-f366-3a21-8bb1"
    },
    "run_through_control": {
     "frozen": false,
     "read_only": false
    }
   },
   "outputs": [],
   "source": [
    "group_vars['concurrent_spawn_limit'] = 20\n",
    "group_vars['spawner_http_timeout'] = 120\n",
    "group_vars['spawner_start_timeout'] = 60"
   ]
  },
  {
   "cell_type": "markdown",
   "id": "8e1c4a4c",
   "metadata": {
    "lc_cell_meme": {
     "current": "d9beba0a-bc84-11ec-89f8-0242ac120002-4-759c-9013-7f79-d87b",
     "history": [
      {
       "current": "d9beba0a-bc84-11ec-89f8-0242ac120002-2-759c-9013",
       "next": "d9bebe92-bc84-11ec-89f8-0242ac120002",
       "previous": "414d8470-8997-11ec-8f5c-6b42dc3e1973-3-955c-15b0-7402"
      },
      {
       "current": "d9beba0a-bc84-11ec-89f8-0242ac120002-3-759c-9013-7f79",
       "next": "d9bebe92-bc84-11ec-89f8-0242ac120002-2-7bbb-3406",
       "previous": "414d8470-8997-11ec-8f5c-6b42dc3e1973-3-955c-15b0-e5a2"
      },
      {
       "current": "d9beba0a-bc84-11ec-89f8-0242ac120002-4-759c-9013-7f79-d87b",
       "next": "d9bebe92-bc84-11ec-89f8-0242ac120002-3-7bbb-3406-b9d9",
       "previous": "414d8470-8997-11ec-8f5c-6b42dc3e1973-4-955c-15b0-e5a2-9d87"
      }
     ],
     "next": "d9bebe92-bc84-11ec-89f8-0242ac120002-4-7bbb-3406-b9d9-d76b",
     "previous": "414d8470-8997-11ec-8f5c-6b42dc3e1973-5-955c-15b0-e5a2-9d87-9dfe"
    }
   },
   "source": [
    "### Single-user Server Application\n",
    "\n",
    "Classic Jupyter NotebookとJupyterLabを切り替えます"
   ]
  },
  {
   "cell_type": "code",
   "execution_count": null,
   "id": "9ce0fde8",
   "metadata": {
    "deletable": false,
    "editable": false,
    "lc_cell_meme": {
     "current": "d9bebe92-bc84-11ec-89f8-0242ac120002-4-7bbb-3406-b9d9-d76b",
     "execution_end_time": "2022-04-27T10:49:17.995008Z",
     "history": [
      {
       "current": "d9bebe92-bc84-11ec-89f8-0242ac120002-2-7bbb-3406",
       "next": "a588f0e7-8e2e-11ec-bb44-6b42dc3e1973-3-86ee-a437-a4ca",
       "previous": "d9beba0a-bc84-11ec-89f8-0242ac120002"
      },
      {
       "current": "d9bebe92-bc84-11ec-89f8-0242ac120002-3-7bbb-3406-b9d9",
       "next": "a588f0e7-8e2e-11ec-bb44-6b42dc3e1973-3-86ee-a437-947d",
       "previous": "d9beba0a-bc84-11ec-89f8-0242ac120002-2-759c-9013"
      },
      {
       "current": "d9bebe92-bc84-11ec-89f8-0242ac120002-4-7bbb-3406-b9d9-d76b",
       "next": "a588f0e7-8e2e-11ec-bb44-6b42dc3e1973-4-86ee-a437-947d-0344",
       "previous": "d9beba0a-bc84-11ec-89f8-0242ac120002-3-759c-9013-7f79"
      }
     ],
     "next": "a588f0e7-8e2e-11ec-bb44-6b42dc3e1973-5-86ee-a437-947d-0344-c362",
     "previous": "d9beba0a-bc84-11ec-89f8-0242ac120002-4-759c-9013-7f79-d87b"
    },
    "run_through_control": {
     "frozen": false,
     "read_only": false
    }
   },
   "outputs": [],
   "source": [
    "group_vars['jupyterhub_singleuser_app'] = 'notebook.notebookapp.NotebookApp'   # Classic Notebook Server\n",
    "# group_vars['jupyterhub_singleuser_app'] = 'jupyter_server.serverapp.ServerApp' # JupyterLab"
   ]
  },
  {
   "cell_type": "markdown",
   "id": "abdbbfb6",
   "metadata": {
    "lc_cell_meme": {
     "current": "a588f0e7-8e2e-11ec-bb44-6b42dc3e1973-5-86ee-a437-947d-0344-c362",
     "history": [
      {
       "current": "a588f0e7-8e2e-11ec-bb44-6b42dc3e1973-1-86ee",
       "next": "9ab4fb0a-8e30-11ec-b59c-6b42dc3e1973",
       "previous": "414d8470-8997-11ec-8f5c-6b42dc3e1973"
      },
      {
       "current": "a588f0e7-8e2e-11ec-bb44-6b42dc3e1973-2-86ee-a437",
       "next": "9ab4fb0a-8e30-11ec-b59c-6b42dc3e1973-1-6552",
       "previous": "414d8470-8997-11ec-8f5c-6b42dc3e1973-1-955c"
      },
      {
       "current": "a588f0e7-8e2e-11ec-bb44-6b42dc3e1973-3-86ee-a437-947d",
       "next": "9ab4fb0a-8e30-11ec-b59c-6b42dc3e1973-2-6552-b3b8",
       "previous": "414d8470-8997-11ec-8f5c-6b42dc3e1973-2-955c-15b0"
      },
      {
       "current": "a588f0e7-8e2e-11ec-bb44-6b42dc3e1973-4-86ee-a437-947d-0344",
       "next": "9ab4fb0a-8e30-11ec-b59c-6b42dc3e1973-3-6552-b3b8-4159",
       "previous": "d9bebe92-bc84-11ec-89f8-0242ac120002-2-7bbb-3406"
      },
      {
       "current": "a588f0e7-8e2e-11ec-bb44-6b42dc3e1973-5-86ee-a437-947d-0344-c362",
       "next": "9ab4fb0a-8e30-11ec-b59c-6b42dc3e1973-4-6552-b3b8-4159-be1f",
       "previous": "d9bebe92-bc84-11ec-89f8-0242ac120002-3-7bbb-3406-b9d9"
      }
     ],
     "next": "9ab4fb0a-8e30-11ec-b59c-6b42dc3e1973-5-6552-b3b8-4159-be1f-3ba0",
     "previous": "d9bebe92-bc84-11ec-89f8-0242ac120002-4-7bbb-3406-b9d9-d76b"
    }
   },
   "source": [
    "### その他のパラメータ\n",
    "\n",
    "通常は変更する必要はありません。"
   ]
  },
  {
   "cell_type": "markdown",
   "id": "1e131928",
   "metadata": {
    "lc_cell_meme": {
     "current": "9ab4fb0a-8e30-11ec-b59c-6b42dc3e1973-5-6552-b3b8-4159-be1f-3ba0",
     "history": [
      {
       "current": "9ab4fb0a-8e30-11ec-b59c-6b42dc3e1973-1-6552",
       "next": "52b91498-8e30-11ec-a95f-6b42dc3e1973",
       "previous": "a588f0e7-8e2e-11ec-bb44-6b42dc3e1973"
      },
      {
       "current": "9ab4fb0a-8e30-11ec-b59c-6b42dc3e1973-2-6552-b3b8",
       "next": "52b91498-8e30-11ec-a95f-6b42dc3e1973-1-7602",
       "previous": "a588f0e7-8e2e-11ec-bb44-6b42dc3e1973-1-86ee"
      },
      {
       "current": "9ab4fb0a-8e30-11ec-b59c-6b42dc3e1973-3-6552-b3b8-4159",
       "next": "52b91498-8e30-11ec-a95f-6b42dc3e1973-2-7602-c109",
       "previous": "a588f0e7-8e2e-11ec-bb44-6b42dc3e1973-2-86ee-a437"
      },
      {
       "current": "9ab4fb0a-8e30-11ec-b59c-6b42dc3e1973-4-6552-b3b8-4159-be1f",
       "next": "52b91498-8e30-11ec-a95f-6b42dc3e1973-3-7602-c109-6f00",
       "previous": "a588f0e7-8e2e-11ec-bb44-6b42dc3e1973-3-86ee-a437-947d"
      },
      {
       "current": "9ab4fb0a-8e30-11ec-b59c-6b42dc3e1973-5-6552-b3b8-4159-be1f-3ba0",
       "next": "52b91498-8e30-11ec-a95f-6b42dc3e1973-4-7602-c109-6f00-5d3e",
       "previous": "a588f0e7-8e2e-11ec-bb44-6b42dc3e1973-4-86ee-a437-947d-0344"
      }
     ],
     "next": "52b91498-8e30-11ec-a95f-6b42dc3e1973-5-7602-c109-6f00-5d3e-6809",
     "previous": "a588f0e7-8e2e-11ec-bb44-6b42dc3e1973-5-86ee-a437-947d-0344-c362"
    }
   },
   "source": [
    "NFS構成設定"
   ]
  },
  {
   "cell_type": "code",
   "execution_count": null,
   "id": "2279bb66",
   "metadata": {
    "deletable": false,
    "editable": false,
    "lc_cell_meme": {
     "current": "52b91498-8e30-11ec-a95f-6b42dc3e1973-5-7602-c109-6f00-5d3e-6809",
     "execution_end_time": "2022-04-27T10:49:20.786310Z",
     "history": [
      {
       "current": "52b91498-8e30-11ec-a95f-6b42dc3e1973-1-7602",
       "next": "6595d836-8811-11ec-8395-6b42dc3e1973-1-f33f",
       "previous": "9ab4fb0a-8e30-11ec-b59c-6b42dc3e1973"
      },
      {
       "current": "52b91498-8e30-11ec-a95f-6b42dc3e1973-2-7602-c109",
       "next": "6595d836-8811-11ec-8395-6b42dc3e1973-2-f33f-d146",
       "previous": "9ab4fb0a-8e30-11ec-b59c-6b42dc3e1973-1-6552"
      },
      {
       "current": "52b91498-8e30-11ec-a95f-6b42dc3e1973-3-7602-c109-6f00",
       "next": "6595d836-8811-11ec-8395-6b42dc3e1973-3-f33f-d146-a9b3",
       "previous": "9ab4fb0a-8e30-11ec-b59c-6b42dc3e1973-2-6552-b3b8"
      },
      {
       "current": "52b91498-8e30-11ec-a95f-6b42dc3e1973-4-7602-c109-6f00-5d3e",
       "next": "6595d836-8811-11ec-8395-6b42dc3e1973-4-f33f-d146-a9b3-9b34",
       "previous": "9ab4fb0a-8e30-11ec-b59c-6b42dc3e1973-3-6552-b3b8-4159"
      },
      {
       "current": "52b91498-8e30-11ec-a95f-6b42dc3e1973-5-7602-c109-6f00-5d3e-6809",
       "next": "6595d836-8811-11ec-8395-6b42dc3e1973-5-f33f-d146-a9b3-9b34-6be4",
       "previous": "9ab4fb0a-8e30-11ec-b59c-6b42dc3e1973-4-6552-b3b8-4159-be1f"
      }
     ],
     "next": "6595d836-8811-11ec-8395-6b42dc3e1973-6-f33f-d146-a9b3-9b34-6be4-0267",
     "previous": "9ab4fb0a-8e30-11ec-b59c-6b42dc3e1973-5-6552-b3b8-4159-be1f-3ba0"
    },
    "run_through_control": {
     "frozen": false,
     "read_only": false
    }
   },
   "outputs": [],
   "source": [
    "nfs_server_dedicated = nfs_server != master_server\n",
    "nfs_server_dedicated"
   ]
  },
  {
   "cell_type": "code",
   "execution_count": null,
   "id": "60aa4fa6",
   "metadata": {
    "deletable": false,
    "editable": false,
    "lc_cell_meme": {
     "current": "6595d836-8811-11ec-8395-6b42dc3e1973-6-f33f-d146-a9b3-9b34-6be4-0267",
     "execution_end_time": "2022-04-27T10:49:21.388858Z",
     "history": [
      {
       "current": "6595d836-8811-11ec-8395-6b42dc3e1973-2-f33f-d146",
       "next": "9ab4fd76-8e30-11ec-b25f-6b42dc3e1973",
       "previous": "52b91498-8e30-11ec-a95f-6b42dc3e1973"
      },
      {
       "current": "6595d836-8811-11ec-8395-6b42dc3e1973-3-f33f-d146-a9b3",
       "next": "9ab4fd76-8e30-11ec-b25f-6b42dc3e1973-1-12e1",
       "previous": "52b91498-8e30-11ec-a95f-6b42dc3e1973-1-7602"
      },
      {
       "current": "6595d836-8811-11ec-8395-6b42dc3e1973-4-f33f-d146-a9b3-9b34",
       "next": "9ab4fd76-8e30-11ec-b25f-6b42dc3e1973-2-12e1-667c",
       "previous": "52b91498-8e30-11ec-a95f-6b42dc3e1973-2-7602-c109"
      },
      {
       "current": "6595d836-8811-11ec-8395-6b42dc3e1973-5-f33f-d146-a9b3-9b34-6be4",
       "next": "9ab4fd76-8e30-11ec-b25f-6b42dc3e1973-3-12e1-667c-faac",
       "previous": "52b91498-8e30-11ec-a95f-6b42dc3e1973-3-7602-c109-6f00"
      },
      {
       "current": "6595d836-8811-11ec-8395-6b42dc3e1973-6-f33f-d146-a9b3-9b34-6be4-0267",
       "next": "9ab4fd76-8e30-11ec-b25f-6b42dc3e1973-4-12e1-667c-faac-6daf",
       "previous": "52b91498-8e30-11ec-a95f-6b42dc3e1973-4-7602-c109-6f00-5d3e"
      }
     ],
     "next": "9ab4fd76-8e30-11ec-b25f-6b42dc3e1973-5-12e1-667c-faac-6daf-83ca",
     "previous": "52b91498-8e30-11ec-a95f-6b42dc3e1973-5-7602-c109-6f00-5d3e-6809"
    },
    "run_through_control": {
     "frozen": false,
     "read_only": false
    }
   },
   "outputs": [],
   "source": [
    "group_vars['nfsserver'] = nfs_server\n",
    "group_vars['exchange'] = '/exchange/'\n",
    "if nfs_server_dedicated:\n",
    "    group_vars['nfs_server_role'] = 'nfs_server_dedicated'\n",
    "    group_vars['nfsnodes_group'] = f'{hubname}_nodes'\n",
    "else:\n",
    "    group_vars['nfs_server_role'] = 'nfs_server'\n",
    "    group_vars['nfsnodes_group'] = 'cwhub_nodes'"
   ]
  },
  {
   "cell_type": "markdown",
   "id": "0fcb1d0c",
   "metadata": {
    "lc_cell_meme": {
     "current": "9ab4fd76-8e30-11ec-b25f-6b42dc3e1973-5-12e1-667c-faac-6daf-83ca",
     "history": [
      {
       "current": "9ab4fd76-8e30-11ec-b25f-6b42dc3e1973-1-12e1",
       "next": "6595d836-8811-11ec-8395-6b42dc3e1973",
       "previous": "6595d836-8811-11ec-8395-6b42dc3e1973-1-f33f"
      },
      {
       "current": "9ab4fd76-8e30-11ec-b25f-6b42dc3e1973-2-12e1-667c",
       "next": "6595d836-8811-11ec-8395-6b42dc3e1973-1-3057",
       "previous": "6595d836-8811-11ec-8395-6b42dc3e1973-2-f33f-d146"
      },
      {
       "current": "9ab4fd76-8e30-11ec-b25f-6b42dc3e1973-3-12e1-667c-faac",
       "next": "6595d836-8811-11ec-8395-6b42dc3e1973-2-3057-7e14",
       "previous": "6595d836-8811-11ec-8395-6b42dc3e1973-3-f33f-d146-a9b3"
      },
      {
       "current": "9ab4fd76-8e30-11ec-b25f-6b42dc3e1973-4-12e1-667c-faac-6daf",
       "next": "6595d836-8811-11ec-8395-6b42dc3e1973-3-3057-7e14-0ecc",
       "previous": "6595d836-8811-11ec-8395-6b42dc3e1973-4-f33f-d146-a9b3-9b34"
      },
      {
       "current": "9ab4fd76-8e30-11ec-b25f-6b42dc3e1973-5-12e1-667c-faac-6daf-83ca",
       "next": "6595d836-8811-11ec-8395-6b42dc3e1973-4-3057-7e14-0ecc-36ba",
       "previous": "6595d836-8811-11ec-8395-6b42dc3e1973-5-f33f-d146-a9b3-9b34-6be4"
      }
     ],
     "next": "6595d836-8811-11ec-8395-6b42dc3e1973-5-3057-7e14-0ecc-36ba-b657",
     "previous": "6595d836-8811-11ec-8395-6b42dc3e1973-6-f33f-d146-a9b3-9b34-6be4-0267"
    }
   },
   "source": [
    "イメージ名指定"
   ]
  },
  {
   "cell_type": "code",
   "execution_count": null,
   "id": "6b11090e",
   "metadata": {
    "deletable": false,
    "editable": false,
    "lc_cell_meme": {
     "current": "6595d836-8811-11ec-8395-6b42dc3e1973-5-3057-7e14-0ecc-36ba-b657",
     "execution_end_time": "2022-04-27T10:49:23.627142Z",
     "history": [
      {
       "current": "6595d836-8811-11ec-8395-6b42dc3e1973-1-3057",
       "next": "5d60548c-0f92-11ec-99fb-c7638f7e44c5-2-c95d-0e5d",
       "previous": "9ab4fd76-8e30-11ec-b25f-6b42dc3e1973"
      },
      {
       "current": "6595d836-8811-11ec-8395-6b42dc3e1973-2-3057-7e14",
       "next": "5d60548c-0f92-11ec-99fb-c7638f7e44c5-3-c95d-0e5d-a3e8",
       "previous": "9ab4fd76-8e30-11ec-b25f-6b42dc3e1973-1-12e1"
      },
      {
       "current": "6595d836-8811-11ec-8395-6b42dc3e1973-3-3057-7e14-0ecc",
       "next": "5d60548c-0f92-11ec-99fb-c7638f7e44c5-4-c95d-0e5d-a3e8-4d69",
       "previous": "9ab4fd76-8e30-11ec-b25f-6b42dc3e1973-2-12e1-667c"
      },
      {
       "current": "6595d836-8811-11ec-8395-6b42dc3e1973-4-3057-7e14-0ecc-36ba",
       "next": "5d60548c-0f92-11ec-99fb-c7638f7e44c5-5-c95d-0e5d-a3e8-4d69-e9ad",
       "previous": "9ab4fd76-8e30-11ec-b25f-6b42dc3e1973-3-12e1-667c-faac"
      },
      {
       "current": "6595d836-8811-11ec-8395-6b42dc3e1973-5-3057-7e14-0ecc-36ba-b657",
       "next": "5d60548c-0f92-11ec-99fb-c7638f7e44c5-6-c95d-0e5d-a3e8-4d69-e9ad-9dd0",
       "previous": "9ab4fd76-8e30-11ec-b25f-6b42dc3e1973-4-12e1-667c-faac-6daf"
      }
     ],
     "next": "5d60548c-0f92-11ec-99fb-c7638f7e44c5-7-c95d-0e5d-a3e8-4d69-e9ad-9dd0-ebbe",
     "previous": "9ab4fd76-8e30-11ec-b25f-6b42dc3e1973-5-12e1-667c-faac-6daf-83ca"
    },
    "run_through_control": {
     "frozen": false,
     "read_only": false
    }
   },
   "outputs": [],
   "source": [
    "group_vars['auth_proxy_image'] = 'niicloudoperation/coursewarehub-auth-proxy:master'\n",
    "group_vars['jupyterhub_image'] = 'niicloudoperation/coursewarehub-jupyterhub:master'"
   ]
  },
  {
   "cell_type": "markdown",
   "id": "1f596515",
   "metadata": {
    "lc_cell_meme": {
     "current": "5d60548c-0f92-11ec-99fb-c7638f7e44c5-7-c95d-0e5d-a3e8-4d69-e9ad-9dd0-ebbe",
     "history": [
      {
       "current": "5d60548c-0f92-11ec-99fb-c7638f7e44c5-3-c95d-0e5d-a3e8",
       "next": "335ba0cd-0f93-11ec-a1bb-c7638f7e44c5-2-84e3-00d9",
       "previous": "6595d836-8811-11ec-8395-6b42dc3e1973"
      },
      {
       "current": "5d60548c-0f92-11ec-99fb-c7638f7e44c5-4-c95d-0e5d-a3e8-4d69",
       "next": "335ba0cd-0f93-11ec-a1bb-c7638f7e44c5-3-84e3-00d9-37b0",
       "previous": "6595d836-8811-11ec-8395-6b42dc3e1973-1-3057"
      },
      {
       "current": "5d60548c-0f92-11ec-99fb-c7638f7e44c5-5-c95d-0e5d-a3e8-4d69-e9ad",
       "next": "335ba0cd-0f93-11ec-a1bb-c7638f7e44c5-4-84e3-00d9-37b0-d385",
       "previous": "6595d836-8811-11ec-8395-6b42dc3e1973-2-3057-7e14"
      },
      {
       "current": "5d60548c-0f92-11ec-99fb-c7638f7e44c5-6-c95d-0e5d-a3e8-4d69-e9ad-9dd0",
       "next": "335ba0cd-0f93-11ec-a1bb-c7638f7e44c5-5-84e3-00d9-37b0-d385-4afe",
       "previous": "6595d836-8811-11ec-8395-6b42dc3e1973-3-3057-7e14-0ecc"
      },
      {
       "current": "5d60548c-0f92-11ec-99fb-c7638f7e44c5-7-c95d-0e5d-a3e8-4d69-e9ad-9dd0-ebbe",
       "next": "335ba0cd-0f93-11ec-a1bb-c7638f7e44c5-6-84e3-00d9-37b0-d385-4afe-0787",
       "previous": "6595d836-8811-11ec-8395-6b42dc3e1973-4-3057-7e14-0ecc-36ba"
      }
     ],
     "next": "335ba0cd-0f93-11ec-a1bb-c7638f7e44c5-7-84e3-00d9-37b0-d385-4afe-0787-6b9d",
     "previous": "6595d836-8811-11ec-8395-6b42dc3e1973-5-3057-7e14-0ecc-36ba-b657"
    }
   },
   "source": [
    "# Ansibleリソースの出力\n",
    "\n",
    "このNotebookで設定された内容は、AnsibleのInventory, Ansibleのgroup_varsに保存することで、この後のNotebook実行で利用することができます。"
   ]
  },
  {
   "cell_type": "code",
   "execution_count": null,
   "id": "579f4506",
   "metadata": {
    "deletable": false,
    "editable": false,
    "lc_cell_meme": {
     "current": "335ba0cd-0f93-11ec-a1bb-c7638f7e44c5-7-84e3-00d9-37b0-d385-4afe-0787-6b9d",
     "execution_end_time": "2022-04-27T11:09:47.023011Z",
     "history": [
      {
       "current": "335ba0cd-0f93-11ec-a1bb-c7638f7e44c5-3-84e3-00d9-37b0",
       "next": "207a7f9a-0fa3-11ec-9db9-c7638f7e44c5-2-7201-b11f",
       "previous": "5d60548c-0f92-11ec-99fb-c7638f7e44c5-2-c95d-0e5d"
      },
      {
       "current": "335ba0cd-0f93-11ec-a1bb-c7638f7e44c5-4-84e3-00d9-37b0-d385",
       "next": "207a7f9a-0fa3-11ec-9db9-c7638f7e44c5-3-7201-b11f-0170",
       "previous": "5d60548c-0f92-11ec-99fb-c7638f7e44c5-3-c95d-0e5d-a3e8"
      },
      {
       "current": "335ba0cd-0f93-11ec-a1bb-c7638f7e44c5-5-84e3-00d9-37b0-d385-4afe",
       "next": "207a7f9a-0fa3-11ec-9db9-c7638f7e44c5-4-7201-b11f-0170-8a91",
       "previous": "5d60548c-0f92-11ec-99fb-c7638f7e44c5-4-c95d-0e5d-a3e8-4d69"
      },
      {
       "current": "335ba0cd-0f93-11ec-a1bb-c7638f7e44c5-6-84e3-00d9-37b0-d385-4afe-0787",
       "next": "207a7f9a-0fa3-11ec-9db9-c7638f7e44c5-5-7201-b11f-0170-8a91-c9c4",
       "previous": "5d60548c-0f92-11ec-99fb-c7638f7e44c5-5-c95d-0e5d-a3e8-4d69-e9ad"
      },
      {
       "current": "335ba0cd-0f93-11ec-a1bb-c7638f7e44c5-7-84e3-00d9-37b0-d385-4afe-0787-6b9d",
       "next": "207a7f9a-0fa3-11ec-9db9-c7638f7e44c5-6-7201-b11f-0170-8a91-c9c4-3e30",
       "previous": "5d60548c-0f92-11ec-99fb-c7638f7e44c5-6-c95d-0e5d-a3e8-4d69-e9ad-9dd0"
      }
     ],
     "next": "207a7f9a-0fa3-11ec-9db9-c7638f7e44c5-7-7201-b11f-0170-8a91-c9c4-3e30-1f3b",
     "previous": "5d60548c-0f92-11ec-99fb-c7638f7e44c5-7-c95d-0e5d-a3e8-4d69-e9ad-9dd0-ebbe"
    },
    "run_through_control": {
     "frozen": false,
     "read_only": false
    }
   },
   "outputs": [],
   "source": [
    "nfs_server_with_ip = '{} servicenet_ip={}'.format(nfs_server, servicenet_ips[nfs_server] if nfs_server in servicenet_ips else nfs_server)\n",
    "nfs_server_with_ip"
   ]
  },
  {
   "cell_type": "code",
   "execution_count": null,
   "id": "527259b1",
   "metadata": {
    "deletable": false,
    "editable": false,
    "lc_cell_meme": {
     "current": "207a7f9a-0fa3-11ec-9db9-c7638f7e44c5-7-7201-b11f-0170-8a91-c9c4-3e30-1f3b",
     "execution_end_time": "2022-04-27T11:09:48.160698Z",
     "history": [
      {
       "current": "207a7f9a-0fa3-11ec-9db9-c7638f7e44c5-3-7201-b11f-0170",
       "next": "7ae62a65-0f93-11ec-bb7f-c7638f7e44c5-2-2f0b-ef15",
       "previous": "335ba0cd-0f93-11ec-a1bb-c7638f7e44c5-2-84e3-00d9"
      },
      {
       "current": "207a7f9a-0fa3-11ec-9db9-c7638f7e44c5-4-7201-b11f-0170-8a91",
       "next": "7ae62a65-0f93-11ec-bb7f-c7638f7e44c5-3-2f0b-ef15-8767",
       "previous": "335ba0cd-0f93-11ec-a1bb-c7638f7e44c5-3-84e3-00d9-37b0"
      },
      {
       "current": "207a7f9a-0fa3-11ec-9db9-c7638f7e44c5-5-7201-b11f-0170-8a91-c9c4",
       "next": "7ae62a65-0f93-11ec-bb7f-c7638f7e44c5-4-2f0b-ef15-8767-6440",
       "previous": "335ba0cd-0f93-11ec-a1bb-c7638f7e44c5-4-84e3-00d9-37b0-d385"
      },
      {
       "current": "207a7f9a-0fa3-11ec-9db9-c7638f7e44c5-6-7201-b11f-0170-8a91-c9c4-3e30",
       "next": "7ae62a65-0f93-11ec-bb7f-c7638f7e44c5-5-2f0b-ef15-8767-6440-8ae8",
       "previous": "335ba0cd-0f93-11ec-a1bb-c7638f7e44c5-5-84e3-00d9-37b0-d385-4afe"
      },
      {
       "current": "207a7f9a-0fa3-11ec-9db9-c7638f7e44c5-7-7201-b11f-0170-8a91-c9c4-3e30-1f3b",
       "next": "7ae62a65-0f93-11ec-bb7f-c7638f7e44c5-6-2f0b-ef15-8767-6440-8ae8-a919",
       "previous": "335ba0cd-0f93-11ec-a1bb-c7638f7e44c5-6-84e3-00d9-37b0-d385-4afe-0787"
      }
     ],
     "next": "7ae62a65-0f93-11ec-bb7f-c7638f7e44c5-7-2f0b-ef15-8767-6440-8ae8-a919-becd",
     "previous": "335ba0cd-0f93-11ec-a1bb-c7638f7e44c5-7-84e3-00d9-37b0-d385-4afe-0787-6b9d"
    },
    "run_through_control": {
     "frozen": false,
     "read_only": false
    }
   },
   "outputs": [],
   "source": [
    "master_server_with_ip = '{} servicenet_ip={}'.format(master_server, servicenet_ips[master_server] if master_server in servicenet_ips else master_server)\n",
    "master_server_with_ip"
   ]
  },
  {
   "cell_type": "code",
   "execution_count": null,
   "id": "fb9b1ca2",
   "metadata": {
    "deletable": false,
    "editable": false,
    "lc_cell_meme": {
     "current": "7ae62a65-0f93-11ec-bb7f-c7638f7e44c5-7-2f0b-ef15-8767-6440-8ae8-a919-becd",
     "execution_end_time": "2022-04-27T11:09:49.134105Z",
     "history": [
      {
       "current": "7ae62a65-0f93-11ec-bb7f-c7638f7e44c5-3-2f0b-ef15-8767",
       "next": "280b61d6-0f95-11ec-95f8-c7638f7e44c5-2-8570-e0d5",
       "previous": "207a7f9a-0fa3-11ec-9db9-c7638f7e44c5-2-7201-b11f"
      },
      {
       "current": "7ae62a65-0f93-11ec-bb7f-c7638f7e44c5-4-2f0b-ef15-8767-6440",
       "next": "280b61d6-0f95-11ec-95f8-c7638f7e44c5-3-8570-e0d5-4f89",
       "previous": "207a7f9a-0fa3-11ec-9db9-c7638f7e44c5-3-7201-b11f-0170"
      },
      {
       "current": "7ae62a65-0f93-11ec-bb7f-c7638f7e44c5-5-2f0b-ef15-8767-6440-8ae8",
       "next": "280b61d6-0f95-11ec-95f8-c7638f7e44c5-4-8570-e0d5-4f89-6567",
       "previous": "207a7f9a-0fa3-11ec-9db9-c7638f7e44c5-4-7201-b11f-0170-8a91"
      },
      {
       "current": "7ae62a65-0f93-11ec-bb7f-c7638f7e44c5-6-2f0b-ef15-8767-6440-8ae8-a919",
       "next": "280b61d6-0f95-11ec-95f8-c7638f7e44c5-5-8570-e0d5-4f89-6567-7ecb",
       "previous": "207a7f9a-0fa3-11ec-9db9-c7638f7e44c5-5-7201-b11f-0170-8a91-c9c4"
      },
      {
       "current": "7ae62a65-0f93-11ec-bb7f-c7638f7e44c5-7-2f0b-ef15-8767-6440-8ae8-a919-becd",
       "next": "280b61d6-0f95-11ec-95f8-c7638f7e44c5-6-8570-e0d5-4f89-6567-7ecb-3248",
       "previous": "207a7f9a-0fa3-11ec-9db9-c7638f7e44c5-6-7201-b11f-0170-8a91-c9c4-3e30"
      }
     ],
     "next": "280b61d6-0f95-11ec-95f8-c7638f7e44c5-7-8570-e0d5-4f89-6567-7ecb-3248-40ce",
     "previous": "207a7f9a-0fa3-11ec-9db9-c7638f7e44c5-7-7201-b11f-0170-8a91-c9c4-3e30-1f3b"
    },
    "run_through_control": {
     "frozen": false,
     "read_only": false
    }
   },
   "outputs": [],
   "source": [
    "worker_servers_with_ips = ['{} servicenet_ip={}'.format(node_server, servicenet_ips[node_server] if node_server in servicenet_ips else node_server)\n",
    "                        for node_server in worker_servers]\n",
    "worker_servers_with_ips"
   ]
  },
  {
   "cell_type": "markdown",
   "id": "6188cd7e",
   "metadata": {
    "lc_cell_meme": {
     "current": "280b61d6-0f95-11ec-95f8-c7638f7e44c5-7-8570-e0d5-4f89-6567-7ecb-3248-40ce",
     "history": [
      {
       "current": "280b61d6-0f95-11ec-95f8-c7638f7e44c5-3-8570-e0d5-4f89",
       "next": "5da15e29-8590-11ec-9ed0-6b42dc3e1973",
       "previous": "7ae62a65-0f93-11ec-bb7f-c7638f7e44c5-2-2f0b-ef15"
      },
      {
       "current": "280b61d6-0f95-11ec-95f8-c7638f7e44c5-4-8570-e0d5-4f89-6567",
       "next": "5da15e29-8590-11ec-9ed0-6b42dc3e1973-1-f878",
       "previous": "7ae62a65-0f93-11ec-bb7f-c7638f7e44c5-3-2f0b-ef15-8767"
      },
      {
       "current": "280b61d6-0f95-11ec-95f8-c7638f7e44c5-5-8570-e0d5-4f89-6567-7ecb",
       "next": "5da15e29-8590-11ec-9ed0-6b42dc3e1973-2-f878-4519",
       "previous": "7ae62a65-0f93-11ec-bb7f-c7638f7e44c5-4-2f0b-ef15-8767-6440"
      },
      {
       "current": "280b61d6-0f95-11ec-95f8-c7638f7e44c5-6-8570-e0d5-4f89-6567-7ecb-3248",
       "next": "5da15e29-8590-11ec-9ed0-6b42dc3e1973-3-f878-4519-6ef2",
       "previous": "7ae62a65-0f93-11ec-bb7f-c7638f7e44c5-5-2f0b-ef15-8767-6440-8ae8"
      },
      {
       "current": "280b61d6-0f95-11ec-95f8-c7638f7e44c5-7-8570-e0d5-4f89-6567-7ecb-3248-40ce",
       "next": "5da15e29-8590-11ec-9ed0-6b42dc3e1973-4-f878-4519-6ef2-369e",
       "previous": "7ae62a65-0f93-11ec-bb7f-c7638f7e44c5-6-2f0b-ef15-8767-6440-8ae8-a919"
      }
     ],
     "next": "5da15e29-8590-11ec-9ed0-6b42dc3e1973-5-f878-4519-6ef2-369e-a923",
     "previous": "7ae62a65-0f93-11ec-bb7f-c7638f7e44c5-7-2f0b-ef15-8767-6440-8ae8-a919-becd"
    }
   },
   "source": [
    "## Ansible Inventoryの出力\n",
    "\n",
    "構築、操作対象のCoursewareHub用のインベントリを生成する。"
   ]
  },
  {
   "cell_type": "markdown",
   "id": "01542b8f",
   "metadata": {
    "lc_cell_meme": {
     "current": "5da15e29-8590-11ec-9ed0-6b42dc3e1973-5-f878-4519-6ef2-369e-a923",
     "history": [
      {
       "current": "5da15e29-8590-11ec-9ed0-6b42dc3e1973-1-f878",
       "next": "5da162af-8590-11ec-8951-6b42dc3e1973",
       "previous": "280b61d6-0f95-11ec-95f8-c7638f7e44c5-2-8570-e0d5"
      },
      {
       "current": "5da15e29-8590-11ec-9ed0-6b42dc3e1973-2-f878-4519",
       "next": "5da162af-8590-11ec-8951-6b42dc3e1973-1-c194",
       "previous": "280b61d6-0f95-11ec-95f8-c7638f7e44c5-3-8570-e0d5-4f89"
      },
      {
       "current": "5da15e29-8590-11ec-9ed0-6b42dc3e1973-3-f878-4519-6ef2",
       "next": "5da162af-8590-11ec-8951-6b42dc3e1973-2-c194-769a",
       "previous": "280b61d6-0f95-11ec-95f8-c7638f7e44c5-4-8570-e0d5-4f89-6567"
      },
      {
       "current": "5da15e29-8590-11ec-9ed0-6b42dc3e1973-4-f878-4519-6ef2-369e",
       "next": "5da162af-8590-11ec-8951-6b42dc3e1973-3-c194-769a-9f8a",
       "previous": "280b61d6-0f95-11ec-95f8-c7638f7e44c5-5-8570-e0d5-4f89-6567-7ecb"
      },
      {
       "current": "5da15e29-8590-11ec-9ed0-6b42dc3e1973-5-f878-4519-6ef2-369e-a923",
       "next": "5da162af-8590-11ec-8951-6b42dc3e1973-4-c194-769a-9f8a-e70b",
       "previous": "280b61d6-0f95-11ec-95f8-c7638f7e44c5-6-8570-e0d5-4f89-6567-7ecb-3248"
      }
     ],
     "next": "5da162af-8590-11ec-8951-6b42dc3e1973-5-c194-769a-9f8a-e70b-ecd4",
     "previous": "280b61d6-0f95-11ec-95f8-c7638f7e44c5-7-8570-e0d5-4f89-6567-7ecb-3248-40ce"
    }
   },
   "source": [
    "インベントリファイルのパスを決定します。\n",
    "\n",
    "ファイル名は、CoursewareHubの名前(`hubname`)を元に決定されます。"
   ]
  },
  {
   "cell_type": "code",
   "execution_count": null,
   "id": "3a4e2d81",
   "metadata": {
    "deletable": false,
    "editable": false,
    "lc_cell_meme": {
     "current": "5da162af-8590-11ec-8951-6b42dc3e1973-5-c194-769a-9f8a-e70b-ecd4",
     "execution_end_time": "2022-04-27T11:09:50.667691Z",
     "history": [
      {
       "current": "5da162af-8590-11ec-8951-6b42dc3e1973-1-c194",
       "next": "51760eed-0f94-11ec-89d5-c7638f7e44c5-2-9a60-91e0",
       "previous": "5da15e29-8590-11ec-9ed0-6b42dc3e1973"
      },
      {
       "current": "5da162af-8590-11ec-8951-6b42dc3e1973-2-c194-769a",
       "next": "51760eed-0f94-11ec-89d5-c7638f7e44c5-3-9a60-91e0-d5f6",
       "previous": "5da15e29-8590-11ec-9ed0-6b42dc3e1973-1-f878"
      },
      {
       "current": "5da162af-8590-11ec-8951-6b42dc3e1973-3-c194-769a-9f8a",
       "next": "51760eed-0f94-11ec-89d5-c7638f7e44c5-4-9a60-91e0-d5f6-55c7",
       "previous": "5da15e29-8590-11ec-9ed0-6b42dc3e1973-2-f878-4519"
      },
      {
       "current": "5da162af-8590-11ec-8951-6b42dc3e1973-4-c194-769a-9f8a-e70b",
       "next": "51760eed-0f94-11ec-89d5-c7638f7e44c5-5-9a60-91e0-d5f6-55c7-e611",
       "previous": "5da15e29-8590-11ec-9ed0-6b42dc3e1973-3-f878-4519-6ef2"
      },
      {
       "current": "5da162af-8590-11ec-8951-6b42dc3e1973-5-c194-769a-9f8a-e70b-ecd4",
       "next": "51760eed-0f94-11ec-89d5-c7638f7e44c5-6-9a60-91e0-d5f6-55c7-e611-e42b",
       "previous": "5da15e29-8590-11ec-9ed0-6b42dc3e1973-4-f878-4519-6ef2-369e"
      }
     ],
     "next": "51760eed-0f94-11ec-89d5-c7638f7e44c5-7-9a60-91e0-d5f6-55c7-e611-e42b-969a",
     "previous": "5da15e29-8590-11ec-9ed0-6b42dc3e1973-5-f878-4519-6ef2-369e-a923"
    },
    "run_through_control": {
     "frozen": false,
     "read_only": false
    }
   },
   "outputs": [],
   "source": [
    "import os.path\n",
    "\n",
    "inventory_name = '{}_inventory'.format(hubname)\n",
    "\n",
    "inventory_path = os.path.relpath(\n",
    "    os.path.join(os.path.dirname(os.path.abspath(hosts_file)), inventory_name),\n",
    "    start=os.getcwd())\n",
    "inventory_path"
   ]
  },
  {
   "cell_type": "code",
   "execution_count": null,
   "id": "e45a4c80",
   "metadata": {
    "deletable": false,
    "editable": false,
    "lc_cell_meme": {
     "current": "51760eed-0f94-11ec-89d5-c7638f7e44c5-7-9a60-91e0-d5f6-55c7-e611-e42b-969a",
     "execution_end_time": "2022-04-27T11:10:32.154257Z",
     "history": [
      {
       "current": "51760eed-0f94-11ec-89d5-c7638f7e44c5-3-9a60-91e0-d5f6",
       "next": "35555c4e-8811-11ec-814c-6b42dc3e1973",
       "previous": "5da162af-8590-11ec-8951-6b42dc3e1973"
      },
      {
       "current": "51760eed-0f94-11ec-89d5-c7638f7e44c5-4-9a60-91e0-d5f6-55c7",
       "next": "35555c4e-8811-11ec-814c-6b42dc3e1973-1-aeb9",
       "previous": "5da162af-8590-11ec-8951-6b42dc3e1973-1-c194"
      },
      {
       "current": "51760eed-0f94-11ec-89d5-c7638f7e44c5-5-9a60-91e0-d5f6-55c7-e611",
       "next": "35555c4e-8811-11ec-814c-6b42dc3e1973-2-aeb9-189a",
       "previous": "5da162af-8590-11ec-8951-6b42dc3e1973-2-c194-769a"
      },
      {
       "current": "51760eed-0f94-11ec-89d5-c7638f7e44c5-6-9a60-91e0-d5f6-55c7-e611-e42b",
       "next": "35555c4e-8811-11ec-814c-6b42dc3e1973-3-aeb9-189a-252a",
       "previous": "5da162af-8590-11ec-8951-6b42dc3e1973-3-c194-769a-9f8a"
      },
      {
       "current": "51760eed-0f94-11ec-89d5-c7638f7e44c5-7-9a60-91e0-d5f6-55c7-e611-e42b-969a",
       "next": "35555c4e-8811-11ec-814c-6b42dc3e1973-4-aeb9-189a-252a-49dc",
       "previous": "5da162af-8590-11ec-8951-6b42dc3e1973-4-c194-769a-9f8a-e70b"
      }
     ],
     "next": "35555c4e-8811-11ec-814c-6b42dc3e1973-5-aeb9-189a-252a-49dc-925e",
     "previous": "5da162af-8590-11ec-8951-6b42dc3e1973-5-c194-769a-9f8a-e70b-ecd4"
    },
    "run_through_control": {
     "frozen": false,
     "read_only": false
    }
   },
   "outputs": [],
   "source": [
    "import tempfile\n",
    "work_dir = tempfile.mkdtemp()\n",
    "work_dir"
   ]
  },
  {
   "cell_type": "markdown",
   "id": "2c1575d3",
   "metadata": {
    "lc_cell_meme": {
     "current": "35555c4e-8811-11ec-814c-6b42dc3e1973-5-aeb9-189a-252a-49dc-925e",
     "history": [
      {
       "current": "35555c4e-8811-11ec-814c-6b42dc3e1973-1-aeb9",
       "next": "91ea5092-85b3-11ec-a5ee-6b42dc3e1973",
       "previous": "51760eed-0f94-11ec-89d5-c7638f7e44c5-2-9a60-91e0"
      },
      {
       "current": "35555c4e-8811-11ec-814c-6b42dc3e1973-2-aeb9-189a",
       "next": "91ea5092-85b3-11ec-a5ee-6b42dc3e1973-1-acdf",
       "previous": "51760eed-0f94-11ec-89d5-c7638f7e44c5-3-9a60-91e0-d5f6"
      },
      {
       "current": "35555c4e-8811-11ec-814c-6b42dc3e1973-3-aeb9-189a-252a",
       "next": "91ea5092-85b3-11ec-a5ee-6b42dc3e1973-2-acdf-f997",
       "previous": "51760eed-0f94-11ec-89d5-c7638f7e44c5-4-9a60-91e0-d5f6-55c7"
      },
      {
       "current": "35555c4e-8811-11ec-814c-6b42dc3e1973-4-aeb9-189a-252a-49dc",
       "next": "91ea5092-85b3-11ec-a5ee-6b42dc3e1973-3-acdf-f997-4338",
       "previous": "51760eed-0f94-11ec-89d5-c7638f7e44c5-5-9a60-91e0-d5f6-55c7-e611"
      },
      {
       "current": "35555c4e-8811-11ec-814c-6b42dc3e1973-5-aeb9-189a-252a-49dc-925e",
       "next": "91ea5092-85b3-11ec-a5ee-6b42dc3e1973-4-acdf-f997-4338-b3f4",
       "previous": "51760eed-0f94-11ec-89d5-c7638f7e44c5-6-9a60-91e0-d5f6-55c7-e611-e42b"
      }
     ],
     "next": "91ea5092-85b3-11ec-a5ee-6b42dc3e1973-5-acdf-f997-4338-b3f4-763d",
     "previous": "51760eed-0f94-11ec-89d5-c7638f7e44c5-7-9a60-91e0-d5f6-55c7-e611-e42b-969a"
    }
   },
   "source": [
    "現在のinventoryがある場合は、後の比較のため、一時退避"
   ]
  },
  {
   "cell_type": "code",
   "execution_count": null,
   "id": "62632de7",
   "metadata": {
    "deletable": false,
    "editable": false,
    "lc_cell_meme": {
     "current": "91ea5092-85b3-11ec-a5ee-6b42dc3e1973-5-acdf-f997-4338-b3f4-763d",
     "execution_end_time": "2022-04-27T11:10:34.178239Z",
     "history": [
      {
       "current": "91ea5092-85b3-11ec-a5ee-6b42dc3e1973-1-acdf",
       "next": "35555eb5-8811-11ec-8eb5-6b42dc3e1973",
       "previous": "35555c4e-8811-11ec-814c-6b42dc3e1973"
      },
      {
       "current": "91ea5092-85b3-11ec-a5ee-6b42dc3e1973-2-acdf-f997",
       "next": "35555eb5-8811-11ec-8eb5-6b42dc3e1973-1-aaf8",
       "previous": "35555c4e-8811-11ec-814c-6b42dc3e1973-1-aeb9"
      },
      {
       "current": "91ea5092-85b3-11ec-a5ee-6b42dc3e1973-3-acdf-f997-4338",
       "next": "35555eb5-8811-11ec-8eb5-6b42dc3e1973-2-aaf8-7087",
       "previous": "35555c4e-8811-11ec-814c-6b42dc3e1973-2-aeb9-189a"
      },
      {
       "current": "91ea5092-85b3-11ec-a5ee-6b42dc3e1973-4-acdf-f997-4338-b3f4",
       "next": "35555eb5-8811-11ec-8eb5-6b42dc3e1973-3-aaf8-7087-804f",
       "previous": "35555c4e-8811-11ec-814c-6b42dc3e1973-3-aeb9-189a-252a"
      },
      {
       "current": "91ea5092-85b3-11ec-a5ee-6b42dc3e1973-5-acdf-f997-4338-b3f4-763d",
       "next": "35555eb5-8811-11ec-8eb5-6b42dc3e1973-4-aaf8-7087-804f-1ce0",
       "previous": "35555c4e-8811-11ec-814c-6b42dc3e1973-4-aeb9-189a-252a-49dc"
      }
     ],
     "next": "35555eb5-8811-11ec-8eb5-6b42dc3e1973-5-aaf8-7087-804f-1ce0-6c4b",
     "previous": "35555c4e-8811-11ec-814c-6b42dc3e1973-5-aeb9-189a-252a-49dc-925e"
    },
    "run_through_control": {
     "frozen": false,
     "read_only": false
    }
   },
   "outputs": [],
   "source": [
    "if os.path.exists(inventory_path):\n",
    "    !cp -a {inventory_path} {work_dir}/inventory_old\n",
    "else: \n",
    "    !touch {work_dir}/inventory_old"
   ]
  },
  {
   "cell_type": "markdown",
   "id": "712d9a00",
   "metadata": {
    "lc_cell_meme": {
     "current": "35555eb5-8811-11ec-8eb5-6b42dc3e1973-5-aaf8-7087-804f-1ce0-6c4b",
     "history": [
      {
       "current": "35555eb5-8811-11ec-8eb5-6b42dc3e1973-1-aaf8",
       "next": "ecb407ca-8590-11ec-a2a4-6b42dc3e1973",
       "previous": "91ea5092-85b3-11ec-a5ee-6b42dc3e1973"
      },
      {
       "current": "35555eb5-8811-11ec-8eb5-6b42dc3e1973-2-aaf8-7087",
       "next": "ecb407ca-8590-11ec-a2a4-6b42dc3e1973-1-6576",
       "previous": "91ea5092-85b3-11ec-a5ee-6b42dc3e1973-1-acdf"
      },
      {
       "current": "35555eb5-8811-11ec-8eb5-6b42dc3e1973-3-aaf8-7087-804f",
       "next": "ecb407ca-8590-11ec-a2a4-6b42dc3e1973-2-6576-e73c",
       "previous": "91ea5092-85b3-11ec-a5ee-6b42dc3e1973-2-acdf-f997"
      },
      {
       "current": "35555eb5-8811-11ec-8eb5-6b42dc3e1973-4-aaf8-7087-804f-1ce0",
       "next": "ecb407ca-8590-11ec-a2a4-6b42dc3e1973-3-6576-e73c-520d",
       "previous": "91ea5092-85b3-11ec-a5ee-6b42dc3e1973-3-acdf-f997-4338"
      },
      {
       "current": "35555eb5-8811-11ec-8eb5-6b42dc3e1973-5-aaf8-7087-804f-1ce0-6c4b",
       "next": "ecb407ca-8590-11ec-a2a4-6b42dc3e1973-4-6576-e73c-520d-18ba",
       "previous": "91ea5092-85b3-11ec-a5ee-6b42dc3e1973-4-acdf-f997-4338-b3f4"
      }
     ],
     "next": "ecb407ca-8590-11ec-a2a4-6b42dc3e1973-5-6576-e73c-520d-18ba-5c73",
     "previous": "91ea5092-85b3-11ec-a5ee-6b42dc3e1973-5-acdf-f997-4338-b3f4-763d"
    }
   },
   "source": [
    "inventoryの生成"
   ]
  },
  {
   "cell_type": "code",
   "execution_count": null,
   "id": "fdea7ee6",
   "metadata": {
    "deletable": false,
    "editable": false,
    "lc_cell_meme": {
     "current": "ecb407ca-8590-11ec-a2a4-6b42dc3e1973-5-6576-e73c-520d-18ba-5c73",
     "execution_end_time": "2022-04-27T11:10:37.927417Z",
     "history": [
      {
       "current": "ecb407ca-8590-11ec-a2a4-6b42dc3e1973-1-6576",
       "next": "8edf74c4-8e32-11ec-864f-6b42dc3e1973",
       "previous": "35555eb5-8811-11ec-8eb5-6b42dc3e1973"
      },
      {
       "current": "ecb407ca-8590-11ec-a2a4-6b42dc3e1973-2-6576-e73c",
       "next": "8edf74c4-8e32-11ec-864f-6b42dc3e1973-1-dc79",
       "previous": "35555eb5-8811-11ec-8eb5-6b42dc3e1973-1-aaf8"
      },
      {
       "current": "ecb407ca-8590-11ec-a2a4-6b42dc3e1973-3-6576-e73c-520d",
       "next": "8edf74c4-8e32-11ec-864f-6b42dc3e1973-2-dc79-e92c",
       "previous": "35555eb5-8811-11ec-8eb5-6b42dc3e1973-2-aaf8-7087"
      },
      {
       "current": "ecb407ca-8590-11ec-a2a4-6b42dc3e1973-4-6576-e73c-520d-18ba",
       "next": "8edf74c4-8e32-11ec-864f-6b42dc3e1973-3-dc79-e92c-ce1f",
       "previous": "35555eb5-8811-11ec-8eb5-6b42dc3e1973-3-aaf8-7087-804f"
      },
      {
       "current": "ecb407ca-8590-11ec-a2a4-6b42dc3e1973-5-6576-e73c-520d-18ba-5c73",
       "next": "8edf74c4-8e32-11ec-864f-6b42dc3e1973-4-dc79-e92c-ce1f-4a33",
       "previous": "35555eb5-8811-11ec-8eb5-6b42dc3e1973-4-aaf8-7087-804f-1ce0"
      }
     ],
     "next": "8edf74c4-8e32-11ec-864f-6b42dc3e1973-5-dc79-e92c-ce1f-4a33-9642",
     "previous": "35555eb5-8811-11ec-8eb5-6b42dc3e1973-5-aaf8-7087-804f-1ce0-6c4b"
    },
    "run_through_control": {
     "frozen": false,
     "read_only": false
    }
   },
   "outputs": [],
   "source": [
    "worker_servers_list_with_ips = '\\n'.join(worker_servers_with_ips)\n",
    "\n",
    "with open(inventory_path, 'w') as f:\n",
    "    f.write(f'''\n",
    "[{hubname}:vars]\n",
    "ansible_ssh_user=centos\n",
    "ansible_ssh_private_key_file=~/.ssh/ansible_id_rsa\n",
    "\n",
    "[{hubname}:children]\n",
    "cwhub_nfs_server\n",
    "cwhub_master\n",
    "cwhub_nodes\n",
    "\n",
    "[{hubname}_nodes:children]\n",
    "cwhub_master\n",
    "cwhub_nodes\n",
    "\n",
    "[cwhub_nfs_server]\n",
    "{nfs_server_with_ip}\n",
    "\n",
    "[cwhub_master]\n",
    "{master_server_with_ip}\n",
    "\n",
    "[cwhub_nodes]\n",
    "{worker_servers_list_with_ips}\n",
    "'''.lstrip())\n",
    "    \n",
    "!cat {inventory_path}"
   ]
  },
  {
   "cell_type": "markdown",
   "id": "3a02f446",
   "metadata": {
    "lc_cell_meme": {
     "current": "8edf74c4-8e32-11ec-864f-6b42dc3e1973-5-dc79-e92c-ce1f-4a33-9642",
     "history": [
      {
       "current": "8edf74c4-8e32-11ec-864f-6b42dc3e1973-1-dc79",
       "next": "d9881aae-85b3-11ec-b4c3-6b42dc3e1973",
       "previous": "ecb407ca-8590-11ec-a2a4-6b42dc3e1973"
      },
      {
       "current": "8edf74c4-8e32-11ec-864f-6b42dc3e1973-2-dc79-e92c",
       "next": "d9881aae-85b3-11ec-b4c3-6b42dc3e1973-1-8bae",
       "previous": "ecb407ca-8590-11ec-a2a4-6b42dc3e1973-1-6576"
      },
      {
       "current": "8edf74c4-8e32-11ec-864f-6b42dc3e1973-3-dc79-e92c-ce1f",
       "next": "d9881aae-85b3-11ec-b4c3-6b42dc3e1973-2-8bae-f5c3",
       "previous": "ecb407ca-8590-11ec-a2a4-6b42dc3e1973-2-6576-e73c"
      },
      {
       "current": "8edf74c4-8e32-11ec-864f-6b42dc3e1973-4-dc79-e92c-ce1f-4a33",
       "next": "d9881aae-85b3-11ec-b4c3-6b42dc3e1973-3-8bae-f5c3-086b",
       "previous": "ecb407ca-8590-11ec-a2a4-6b42dc3e1973-3-6576-e73c-520d"
      },
      {
       "current": "8edf74c4-8e32-11ec-864f-6b42dc3e1973-5-dc79-e92c-ce1f-4a33-9642",
       "next": "d9881aae-85b3-11ec-b4c3-6b42dc3e1973-4-8bae-f5c3-086b-5ddd",
       "previous": "ecb407ca-8590-11ec-a2a4-6b42dc3e1973-4-6576-e73c-520d-18ba"
      }
     ],
     "next": "d9881aae-85b3-11ec-b4c3-6b42dc3e1973-5-8bae-f5c3-086b-5ddd-bfcc",
     "previous": "ecb407ca-8590-11ec-a2a4-6b42dc3e1973-5-6576-e73c-520d-18ba-5c73"
    }
   },
   "source": [
    "変更箇所を確認"
   ]
  },
  {
   "cell_type": "code",
   "execution_count": null,
   "id": "1a8494f8",
   "metadata": {
    "deletable": false,
    "editable": false,
    "lc_cell_meme": {
     "current": "d9881aae-85b3-11ec-b4c3-6b42dc3e1973-5-8bae-f5c3-086b-5ddd-bfcc",
     "execution_end_time": "2022-04-27T11:11:18.883672Z",
     "history": [
      {
       "current": "d9881aae-85b3-11ec-b4c3-6b42dc3e1973-1-8bae",
       "next": "280b6323-0f95-11ec-9731-c7638f7e44c5-2-1829-3427",
       "previous": "8edf74c4-8e32-11ec-864f-6b42dc3e1973"
      },
      {
       "current": "d9881aae-85b3-11ec-b4c3-6b42dc3e1973-2-8bae-f5c3",
       "next": "280b6323-0f95-11ec-9731-c7638f7e44c5-3-1829-3427-bda3",
       "previous": "8edf74c4-8e32-11ec-864f-6b42dc3e1973-1-dc79"
      },
      {
       "current": "d9881aae-85b3-11ec-b4c3-6b42dc3e1973-3-8bae-f5c3-086b",
       "next": "280b6323-0f95-11ec-9731-c7638f7e44c5-4-1829-3427-bda3-0d88",
       "previous": "8edf74c4-8e32-11ec-864f-6b42dc3e1973-2-dc79-e92c"
      },
      {
       "current": "d9881aae-85b3-11ec-b4c3-6b42dc3e1973-4-8bae-f5c3-086b-5ddd",
       "next": "280b6323-0f95-11ec-9731-c7638f7e44c5-5-1829-3427-bda3-0d88-44b2",
       "previous": "8edf74c4-8e32-11ec-864f-6b42dc3e1973-3-dc79-e92c-ce1f"
      },
      {
       "current": "d9881aae-85b3-11ec-b4c3-6b42dc3e1973-5-8bae-f5c3-086b-5ddd-bfcc",
       "next": "280b6323-0f95-11ec-9731-c7638f7e44c5-6-1829-3427-bda3-0d88-44b2-b274",
       "previous": "8edf74c4-8e32-11ec-864f-6b42dc3e1973-4-dc79-e92c-ce1f-4a33"
      }
     ],
     "next": "280b6323-0f95-11ec-9731-c7638f7e44c5-7-1829-3427-bda3-0d88-44b2-b274-0106",
     "previous": "8edf74c4-8e32-11ec-864f-6b42dc3e1973-5-dc79-e92c-ce1f-4a33-9642"
    },
    "run_through_control": {
     "frozen": false,
     "read_only": false
    }
   },
   "outputs": [],
   "source": [
    "!diff -u {work_dir}/inventory_old {inventory_path} ;:"
   ]
  },
  {
   "cell_type": "markdown",
   "id": "8b134fab",
   "metadata": {
    "lc_cell_meme": {
     "current": "280b6323-0f95-11ec-9731-c7638f7e44c5-7-1829-3427-bda3-0d88-44b2-b274-0106",
     "history": [
      {
       "current": "280b6323-0f95-11ec-9731-c7638f7e44c5-3-1829-3427-bda3",
       "next": "6595d6f6-8811-11ec-946e-6b42dc3e1973",
       "previous": "d9881aae-85b3-11ec-b4c3-6b42dc3e1973"
      },
      {
       "current": "280b6323-0f95-11ec-9731-c7638f7e44c5-4-1829-3427-bda3-0d88",
       "next": "6595d6f6-8811-11ec-946e-6b42dc3e1973-1-042a",
       "previous": "d9881aae-85b3-11ec-b4c3-6b42dc3e1973-1-8bae"
      },
      {
       "current": "280b6323-0f95-11ec-9731-c7638f7e44c5-5-1829-3427-bda3-0d88-44b2",
       "next": "6595d6f6-8811-11ec-946e-6b42dc3e1973-2-042a-0d3a",
       "previous": "d9881aae-85b3-11ec-b4c3-6b42dc3e1973-2-8bae-f5c3"
      },
      {
       "current": "280b6323-0f95-11ec-9731-c7638f7e44c5-6-1829-3427-bda3-0d88-44b2-b274",
       "next": "6595d6f6-8811-11ec-946e-6b42dc3e1973-3-042a-0d3a-9be0",
       "previous": "d9881aae-85b3-11ec-b4c3-6b42dc3e1973-3-8bae-f5c3-086b"
      },
      {
       "current": "280b6323-0f95-11ec-9731-c7638f7e44c5-7-1829-3427-bda3-0d88-44b2-b274-0106",
       "next": "6595d6f6-8811-11ec-946e-6b42dc3e1973-4-042a-0d3a-9be0-6eac",
       "previous": "d9881aae-85b3-11ec-b4c3-6b42dc3e1973-4-8bae-f5c3-086b-5ddd"
      }
     ],
     "next": "6595d6f6-8811-11ec-946e-6b42dc3e1973-5-042a-0d3a-9be0-6eac-10ca",
     "previous": "d9881aae-85b3-11ec-b4c3-6b42dc3e1973-5-8bae-f5c3-086b-5ddd-bfcc"
    }
   },
   "source": [
    "## Ansible group_vars"
   ]
  },
  {
   "cell_type": "code",
   "execution_count": null,
   "id": "b0e4e6d8",
   "metadata": {
    "deletable": false,
    "editable": false,
    "lc_cell_meme": {
     "current": "6595d6f6-8811-11ec-946e-6b42dc3e1973-5-042a-0d3a-9be0-6eac-10ca",
     "execution_end_time": "2022-04-27T11:11:25.094986Z",
     "history": [
      {
       "current": "6595d6f6-8811-11ec-946e-6b42dc3e1973-1-042a",
       "next": "35555fe0-8811-11ec-a899-6b42dc3e1973",
       "previous": "280b6323-0f95-11ec-9731-c7638f7e44c5-2-1829-3427"
      },
      {
       "current": "6595d6f6-8811-11ec-946e-6b42dc3e1973-2-042a-0d3a",
       "next": "35555fe0-8811-11ec-a899-6b42dc3e1973-1-6c5d",
       "previous": "280b6323-0f95-11ec-9731-c7638f7e44c5-3-1829-3427-bda3"
      },
      {
       "current": "6595d6f6-8811-11ec-946e-6b42dc3e1973-3-042a-0d3a-9be0",
       "next": "35555fe0-8811-11ec-a899-6b42dc3e1973-2-6c5d-0f69",
       "previous": "280b6323-0f95-11ec-9731-c7638f7e44c5-4-1829-3427-bda3-0d88"
      },
      {
       "current": "6595d6f6-8811-11ec-946e-6b42dc3e1973-4-042a-0d3a-9be0-6eac",
       "next": "35555fe0-8811-11ec-a899-6b42dc3e1973-3-6c5d-0f69-ce31",
       "previous": "280b6323-0f95-11ec-9731-c7638f7e44c5-5-1829-3427-bda3-0d88-44b2"
      },
      {
       "current": "6595d6f6-8811-11ec-946e-6b42dc3e1973-5-042a-0d3a-9be0-6eac-10ca",
       "next": "35555fe0-8811-11ec-a899-6b42dc3e1973-4-6c5d-0f69-ce31-e5ba",
       "previous": "280b6323-0f95-11ec-9731-c7638f7e44c5-6-1829-3427-bda3-0d88-44b2-b274"
      }
     ],
     "next": "35555fe0-8811-11ec-a899-6b42dc3e1973-5-6c5d-0f69-ce31-e5ba-7075",
     "previous": "280b6323-0f95-11ec-9731-c7638f7e44c5-7-1829-3427-bda3-0d88-44b2-b274-0106"
    },
    "run_through_control": {
     "frozen": false,
     "read_only": false
    }
   },
   "outputs": [],
   "source": [
    "group_vars"
   ]
  },
  {
   "cell_type": "markdown",
   "id": "f4895ad5",
   "metadata": {
    "lc_cell_meme": {
     "current": "35555fe0-8811-11ec-a899-6b42dc3e1973-5-6c5d-0f69-ce31-e5ba-7075",
     "history": [
      {
       "current": "35555fe0-8811-11ec-a899-6b42dc3e1973-1-6c5d",
       "next": "355560c8-8811-11ec-b51b-6b42dc3e1973",
       "previous": "6595d6f6-8811-11ec-946e-6b42dc3e1973"
      },
      {
       "current": "35555fe0-8811-11ec-a899-6b42dc3e1973-2-6c5d-0f69",
       "next": "355560c8-8811-11ec-b51b-6b42dc3e1973-1-3ceb",
       "previous": "6595d6f6-8811-11ec-946e-6b42dc3e1973-1-042a"
      },
      {
       "current": "35555fe0-8811-11ec-a899-6b42dc3e1973-3-6c5d-0f69-ce31",
       "next": "355560c8-8811-11ec-b51b-6b42dc3e1973-2-3ceb-8052",
       "previous": "6595d6f6-8811-11ec-946e-6b42dc3e1973-2-042a-0d3a"
      },
      {
       "current": "35555fe0-8811-11ec-a899-6b42dc3e1973-4-6c5d-0f69-ce31-e5ba",
       "next": "355560c8-8811-11ec-b51b-6b42dc3e1973-3-3ceb-8052-19a0",
       "previous": "6595d6f6-8811-11ec-946e-6b42dc3e1973-3-042a-0d3a-9be0"
      },
      {
       "current": "35555fe0-8811-11ec-a899-6b42dc3e1973-5-6c5d-0f69-ce31-e5ba-7075",
       "next": "355560c8-8811-11ec-b51b-6b42dc3e1973-4-3ceb-8052-19a0-ae02",
       "previous": "6595d6f6-8811-11ec-946e-6b42dc3e1973-4-042a-0d3a-9be0-6eac"
      }
     ],
     "next": "355560c8-8811-11ec-b51b-6b42dc3e1973-5-3ceb-8052-19a0-ae02-29bc",
     "previous": "6595d6f6-8811-11ec-946e-6b42dc3e1973-5-042a-0d3a-9be0-6eac-10ca"
    }
   },
   "source": [
    "group_varsを一時ファイルディレクトリに書き出す"
   ]
  },
  {
   "cell_type": "code",
   "execution_count": null,
   "id": "75aeda7d",
   "metadata": {
    "deletable": false,
    "editable": false,
    "lc_cell_meme": {
     "current": "355560c8-8811-11ec-b51b-6b42dc3e1973-5-3ceb-8052-19a0-ae02-29bc",
     "execution_end_time": "2022-04-27T11:11:26.970090Z",
     "history": [
      {
       "current": "355560c8-8811-11ec-b51b-6b42dc3e1973-1-3ceb",
       "next": "0beba184-8812-11ec-a34d-6b42dc3e1973",
       "previous": "35555fe0-8811-11ec-a899-6b42dc3e1973"
      },
      {
       "current": "355560c8-8811-11ec-b51b-6b42dc3e1973-2-3ceb-8052",
       "next": "0beba184-8812-11ec-a34d-6b42dc3e1973-1-add4",
       "previous": "35555fe0-8811-11ec-a899-6b42dc3e1973-1-6c5d"
      },
      {
       "current": "355560c8-8811-11ec-b51b-6b42dc3e1973-3-3ceb-8052-19a0",
       "next": "0beba184-8812-11ec-a34d-6b42dc3e1973-2-add4-9d01",
       "previous": "35555fe0-8811-11ec-a899-6b42dc3e1973-2-6c5d-0f69"
      },
      {
       "current": "355560c8-8811-11ec-b51b-6b42dc3e1973-4-3ceb-8052-19a0-ae02",
       "next": "0beba184-8812-11ec-a34d-6b42dc3e1973-3-add4-9d01-82c2",
       "previous": "35555fe0-8811-11ec-a899-6b42dc3e1973-3-6c5d-0f69-ce31"
      },
      {
       "current": "355560c8-8811-11ec-b51b-6b42dc3e1973-5-3ceb-8052-19a0-ae02-29bc",
       "next": "0beba184-8812-11ec-a34d-6b42dc3e1973-4-add4-9d01-82c2-f821",
       "previous": "35555fe0-8811-11ec-a899-6b42dc3e1973-4-6c5d-0f69-ce31-e5ba"
      }
     ],
     "next": "0beba184-8812-11ec-a34d-6b42dc3e1973-5-add4-9d01-82c2-f821-8f7e",
     "previous": "35555fe0-8811-11ec-a899-6b42dc3e1973-5-6c5d-0f69-ce31-e5ba-7075"
    },
    "run_through_control": {
     "frozen": false,
     "read_only": false
    }
   },
   "outputs": [],
   "source": [
    "import yaml\n",
    "\n",
    "with open(os.path.join(work_dir, hubname), 'w') as f:\n",
    "    f.write(yaml.dump(group_vars))"
   ]
  },
  {
   "cell_type": "code",
   "execution_count": null,
   "id": "a80d7bfa",
   "metadata": {
    "deletable": false,
    "editable": false,
    "lc_cell_meme": {
     "current": "0beba184-8812-11ec-a34d-6b42dc3e1973-5-add4-9d01-82c2-f821-8f7e",
     "execution_end_time": "2022-04-27T11:11:29.944743Z",
     "history": [
      {
       "current": "0beba184-8812-11ec-a34d-6b42dc3e1973-1-add4",
       "next": "0beba411-8812-11ec-916d-6b42dc3e1973",
       "previous": "355560c8-8811-11ec-b51b-6b42dc3e1973"
      },
      {
       "current": "0beba184-8812-11ec-a34d-6b42dc3e1973-2-add4-9d01",
       "next": "0beba411-8812-11ec-916d-6b42dc3e1973-1-ce47",
       "previous": "355560c8-8811-11ec-b51b-6b42dc3e1973-1-3ceb"
      },
      {
       "current": "0beba184-8812-11ec-a34d-6b42dc3e1973-3-add4-9d01-82c2",
       "next": "0beba411-8812-11ec-916d-6b42dc3e1973-2-ce47-e931",
       "previous": "355560c8-8811-11ec-b51b-6b42dc3e1973-2-3ceb-8052"
      },
      {
       "current": "0beba184-8812-11ec-a34d-6b42dc3e1973-4-add4-9d01-82c2-f821",
       "next": "0beba411-8812-11ec-916d-6b42dc3e1973-3-ce47-e931-2ad8",
       "previous": "355560c8-8811-11ec-b51b-6b42dc3e1973-3-3ceb-8052-19a0"
      },
      {
       "current": "0beba184-8812-11ec-a34d-6b42dc3e1973-5-add4-9d01-82c2-f821-8f7e",
       "next": "0beba411-8812-11ec-916d-6b42dc3e1973-4-ce47-e931-2ad8-b8c9",
       "previous": "355560c8-8811-11ec-b51b-6b42dc3e1973-4-3ceb-8052-19a0-ae02"
      }
     ],
     "next": "0beba411-8812-11ec-916d-6b42dc3e1973-5-ce47-e931-2ad8-b8c9-9dc5",
     "previous": "355560c8-8811-11ec-b51b-6b42dc3e1973-5-3ceb-8052-19a0-ae02-29bc"
    },
    "run_through_control": {
     "frozen": false,
     "read_only": false
    }
   },
   "outputs": [],
   "source": [
    "!cat {work_dir}/{hubname}"
   ]
  },
  {
   "cell_type": "markdown",
   "id": "fe35a9ed",
   "metadata": {
    "lc_cell_meme": {
     "current": "0beba411-8812-11ec-916d-6b42dc3e1973-5-ce47-e931-2ad8-b8c9-9dc5",
     "history": [
      {
       "current": "0beba411-8812-11ec-916d-6b42dc3e1973-1-ce47",
       "next": "0beba553-8812-11ec-af27-6b42dc3e1973",
       "previous": "0beba184-8812-11ec-a34d-6b42dc3e1973"
      },
      {
       "current": "0beba411-8812-11ec-916d-6b42dc3e1973-2-ce47-e931",
       "next": "0beba553-8812-11ec-af27-6b42dc3e1973-1-7048",
       "previous": "0beba184-8812-11ec-a34d-6b42dc3e1973-1-add4"
      },
      {
       "current": "0beba411-8812-11ec-916d-6b42dc3e1973-3-ce47-e931-2ad8",
       "next": "0beba553-8812-11ec-af27-6b42dc3e1973-2-7048-75d6",
       "previous": "0beba184-8812-11ec-a34d-6b42dc3e1973-2-add4-9d01"
      },
      {
       "current": "0beba411-8812-11ec-916d-6b42dc3e1973-4-ce47-e931-2ad8-b8c9",
       "next": "0beba553-8812-11ec-af27-6b42dc3e1973-3-7048-75d6-1eab",
       "previous": "0beba184-8812-11ec-a34d-6b42dc3e1973-3-add4-9d01-82c2"
      },
      {
       "current": "0beba411-8812-11ec-916d-6b42dc3e1973-5-ce47-e931-2ad8-b8c9-9dc5",
       "next": "0beba553-8812-11ec-af27-6b42dc3e1973-4-7048-75d6-1eab-5038",
       "previous": "0beba184-8812-11ec-a34d-6b42dc3e1973-4-add4-9d01-82c2-f821"
      }
     ],
     "next": "0beba553-8812-11ec-af27-6b42dc3e1973-5-7048-75d6-1eab-5038-b8d2",
     "previous": "0beba184-8812-11ec-a34d-6b42dc3e1973-5-add4-9d01-82c2-f821-8f7e"
    }
   },
   "source": [
    "現在のgroup_varsと比較"
   ]
  },
  {
   "cell_type": "code",
   "execution_count": null,
   "id": "6deb5e89",
   "metadata": {
    "deletable": false,
    "editable": false,
    "lc_cell_meme": {
     "current": "0beba553-8812-11ec-af27-6b42dc3e1973-5-7048-75d6-1eab-5038-b8d2",
     "execution_end_time": "2022-04-27T11:11:32.416893Z",
     "history": [
      {
       "current": "0beba553-8812-11ec-af27-6b42dc3e1973-1-7048",
       "next": "0beba648-8812-11ec-8dd8-6b42dc3e1973",
       "previous": "0beba411-8812-11ec-916d-6b42dc3e1973"
      },
      {
       "current": "0beba553-8812-11ec-af27-6b42dc3e1973-2-7048-75d6",
       "next": "0beba648-8812-11ec-8dd8-6b42dc3e1973-1-9067",
       "previous": "0beba411-8812-11ec-916d-6b42dc3e1973-1-ce47"
      },
      {
       "current": "0beba553-8812-11ec-af27-6b42dc3e1973-3-7048-75d6-1eab",
       "next": "0beba648-8812-11ec-8dd8-6b42dc3e1973-2-9067-1cb4",
       "previous": "0beba411-8812-11ec-916d-6b42dc3e1973-2-ce47-e931"
      },
      {
       "current": "0beba553-8812-11ec-af27-6b42dc3e1973-4-7048-75d6-1eab-5038",
       "next": "0beba648-8812-11ec-8dd8-6b42dc3e1973-3-9067-1cb4-7320",
       "previous": "0beba411-8812-11ec-916d-6b42dc3e1973-3-ce47-e931-2ad8"
      },
      {
       "current": "0beba553-8812-11ec-af27-6b42dc3e1973-5-7048-75d6-1eab-5038-b8d2",
       "next": "0beba648-8812-11ec-8dd8-6b42dc3e1973-4-9067-1cb4-7320-d00e",
       "previous": "0beba411-8812-11ec-916d-6b42dc3e1973-4-ce47-e931-2ad8-b8c9"
      }
     ],
     "next": "0beba648-8812-11ec-8dd8-6b42dc3e1973-5-9067-1cb4-7320-d00e-a2b8",
     "previous": "0beba411-8812-11ec-916d-6b42dc3e1973-5-ce47-e931-2ad8-b8c9-9dc5"
    },
    "run_through_control": {
     "frozen": false,
     "read_only": false
    }
   },
   "outputs": [],
   "source": [
    "!diff -u {group_vars_dir}/{hubname} {work_dir}/{hubname} ;:"
   ]
  },
  {
   "cell_type": "markdown",
   "id": "9cb04a0a",
   "metadata": {
    "lc_cell_meme": {
     "current": "0beba648-8812-11ec-8dd8-6b42dc3e1973-5-9067-1cb4-7320-d00e-a2b8",
     "history": [
      {
       "current": "0beba648-8812-11ec-8dd8-6b42dc3e1973-1-9067",
       "next": "0beba720-8812-11ec-99a3-6b42dc3e1973",
       "previous": "0beba553-8812-11ec-af27-6b42dc3e1973"
      },
      {
       "current": "0beba648-8812-11ec-8dd8-6b42dc3e1973-2-9067-1cb4",
       "next": "0beba720-8812-11ec-99a3-6b42dc3e1973-1-345d",
       "previous": "0beba553-8812-11ec-af27-6b42dc3e1973-1-7048"
      },
      {
       "current": "0beba648-8812-11ec-8dd8-6b42dc3e1973-3-9067-1cb4-7320",
       "next": "0beba720-8812-11ec-99a3-6b42dc3e1973-2-345d-4ea8",
       "previous": "0beba553-8812-11ec-af27-6b42dc3e1973-2-7048-75d6"
      },
      {
       "current": "0beba648-8812-11ec-8dd8-6b42dc3e1973-4-9067-1cb4-7320-d00e",
       "next": "0beba720-8812-11ec-99a3-6b42dc3e1973-3-345d-4ea8-9d5f",
       "previous": "0beba553-8812-11ec-af27-6b42dc3e1973-3-7048-75d6-1eab"
      },
      {
       "current": "0beba648-8812-11ec-8dd8-6b42dc3e1973-5-9067-1cb4-7320-d00e-a2b8",
       "next": "0beba720-8812-11ec-99a3-6b42dc3e1973-4-345d-4ea8-9d5f-9235",
       "previous": "0beba553-8812-11ec-af27-6b42dc3e1973-4-7048-75d6-1eab-5038"
      }
     ],
     "next": "0beba720-8812-11ec-99a3-6b42dc3e1973-5-345d-4ea8-9d5f-9235-c5ee",
     "previous": "0beba553-8812-11ec-af27-6b42dc3e1973-5-7048-75d6-1eab-5038-b8d2"
    }
   },
   "source": [
    "コピー"
   ]
  },
  {
   "cell_type": "code",
   "execution_count": null,
   "id": "5a1dcc5b",
   "metadata": {
    "deletable": false,
    "editable": false,
    "lc_cell_meme": {
     "current": "0beba720-8812-11ec-99a3-6b42dc3e1973-5-345d-4ea8-9d5f-9235-c5ee",
     "execution_end_time": "2022-04-27T11:11:51.929641Z",
     "history": [
      {
       "current": "0beba720-8812-11ec-99a3-6b42dc3e1973-1-345d",
       "next": "e08297fc-0f94-11ec-b83c-c7638f7e44c5-3-3d33-e7cc-cd51",
       "previous": "0beba648-8812-11ec-8dd8-6b42dc3e1973"
      },
      {
       "current": "0beba720-8812-11ec-99a3-6b42dc3e1973-2-345d-4ea8",
       "next": "e08297fc-0f94-11ec-b83c-c7638f7e44c5-4-3d33-e7cc-cd51-344f",
       "previous": "0beba648-8812-11ec-8dd8-6b42dc3e1973-1-9067"
      },
      {
       "current": "0beba720-8812-11ec-99a3-6b42dc3e1973-3-345d-4ea8-9d5f",
       "next": "e08297fc-0f94-11ec-b83c-c7638f7e44c5-5-3d33-e7cc-cd51-344f-c74b",
       "previous": "0beba648-8812-11ec-8dd8-6b42dc3e1973-2-9067-1cb4"
      },
      {
       "current": "0beba720-8812-11ec-99a3-6b42dc3e1973-4-345d-4ea8-9d5f-9235",
       "next": "e08297fc-0f94-11ec-b83c-c7638f7e44c5-6-3d33-e7cc-cd51-344f-c74b-d9ef",
       "previous": "0beba648-8812-11ec-8dd8-6b42dc3e1973-3-9067-1cb4-7320"
      },
      {
       "current": "0beba720-8812-11ec-99a3-6b42dc3e1973-5-345d-4ea8-9d5f-9235-c5ee",
       "next": "e08297fc-0f94-11ec-b83c-c7638f7e44c5-7-3d33-e7cc-cd51-344f-c74b-d9ef-80fc",
       "previous": "0beba648-8812-11ec-8dd8-6b42dc3e1973-4-9067-1cb4-7320-d00e"
      }
     ],
     "next": "e08297fc-0f94-11ec-b83c-c7638f7e44c5-8-3d33-e7cc-cd51-344f-c74b-d9ef-80fc-7b5a",
     "previous": "0beba648-8812-11ec-8dd8-6b42dc3e1973-5-9067-1cb4-7320-d00e-a2b8"
    },
    "run_through_control": {
     "frozen": false,
     "read_only": false
    }
   },
   "outputs": [],
   "source": [
    "!cp {work_dir}/{hubname} {group_vars_dir}/{hubname}"
   ]
  },
  {
   "cell_type": "markdown",
   "id": "df5fa4db",
   "metadata": {
    "lc_cell_meme": {
     "current": "e08297fc-0f94-11ec-b83c-c7638f7e44c5-8-3d33-e7cc-cd51-344f-c74b-d9ef-80fc-7b5a",
     "history": [
      {
       "current": "e08297fc-0f94-11ec-b83c-c7638f7e44c5-4-3d33-e7cc-cd51-344f",
       "next": "6fbf9ff7-0f95-11ec-b176-c7638f7e44c5-2-6c36-7d85",
       "previous": "0beba720-8812-11ec-99a3-6b42dc3e1973"
      },
      {
       "current": "e08297fc-0f94-11ec-b83c-c7638f7e44c5-5-3d33-e7cc-cd51-344f-c74b",
       "next": "6fbf9ff7-0f95-11ec-b176-c7638f7e44c5-3-6c36-7d85-2543",
       "previous": "0beba720-8812-11ec-99a3-6b42dc3e1973-1-345d"
      },
      {
       "current": "e08297fc-0f94-11ec-b83c-c7638f7e44c5-6-3d33-e7cc-cd51-344f-c74b-d9ef",
       "next": "6fbf9ff7-0f95-11ec-b176-c7638f7e44c5-4-6c36-7d85-2543-5d79",
       "previous": "0beba720-8812-11ec-99a3-6b42dc3e1973-2-345d-4ea8"
      },
      {
       "current": "e08297fc-0f94-11ec-b83c-c7638f7e44c5-7-3d33-e7cc-cd51-344f-c74b-d9ef-80fc",
       "next": "6fbf9ff7-0f95-11ec-b176-c7638f7e44c5-5-6c36-7d85-2543-5d79-35bd",
       "previous": "0beba720-8812-11ec-99a3-6b42dc3e1973-3-345d-4ea8-9d5f"
      },
      {
       "current": "e08297fc-0f94-11ec-b83c-c7638f7e44c5-8-3d33-e7cc-cd51-344f-c74b-d9ef-80fc-7b5a",
       "next": "6fbf9ff7-0f95-11ec-b176-c7638f7e44c5-6-6c36-7d85-2543-5d79-35bd-5c9e",
       "previous": "0beba720-8812-11ec-99a3-6b42dc3e1973-4-345d-4ea8-9d5f-9235"
      }
     ],
     "next": "6fbf9ff7-0f95-11ec-b176-c7638f7e44c5-7-6c36-7d85-2543-5d79-35bd-5c9e-ae74",
     "previous": "0beba720-8812-11ec-99a3-6b42dc3e1973-5-345d-4ea8-9d5f-9235-c5ee"
    }
   },
   "source": [
    "# 後始末\n",
    "\n",
    "一時ファイルを削除する。"
   ]
  },
  {
   "cell_type": "code",
   "execution_count": null,
   "id": "2ea5154b",
   "metadata": {
    "deletable": false,
    "editable": false,
    "lc_cell_meme": {
     "current": "6fbf9ff7-0f95-11ec-b176-c7638f7e44c5-7-6c36-7d85-2543-5d79-35bd-5c9e-ae74",
     "execution_end_time": "2022-04-27T11:11:54.396573Z",
     "history": [
      {
       "current": "6fbf9ff7-0f95-11ec-b176-c7638f7e44c5-3-6c36-7d85-2543",
       "next": null,
       "previous": "e08297fc-0f94-11ec-b83c-c7638f7e44c5-3-3d33-e7cc-cd51"
      },
      {
       "current": "6fbf9ff7-0f95-11ec-b176-c7638f7e44c5-4-6c36-7d85-2543-5d79",
       "next": null,
       "previous": "e08297fc-0f94-11ec-b83c-c7638f7e44c5-4-3d33-e7cc-cd51-344f"
      },
      {
       "current": "6fbf9ff7-0f95-11ec-b176-c7638f7e44c5-5-6c36-7d85-2543-5d79-35bd",
       "next": null,
       "previous": "e08297fc-0f94-11ec-b83c-c7638f7e44c5-5-3d33-e7cc-cd51-344f-c74b"
      },
      {
       "current": "6fbf9ff7-0f95-11ec-b176-c7638f7e44c5-6-6c36-7d85-2543-5d79-35bd-5c9e",
       "next": null,
       "previous": "e08297fc-0f94-11ec-b83c-c7638f7e44c5-6-3d33-e7cc-cd51-344f-c74b-d9ef"
      },
      {
       "current": "6fbf9ff7-0f95-11ec-b176-c7638f7e44c5-7-6c36-7d85-2543-5d79-35bd-5c9e-ae74",
       "next": null,
       "previous": "e08297fc-0f94-11ec-b83c-c7638f7e44c5-7-3d33-e7cc-cd51-344f-c74b-d9ef-80fc"
      }
     ],
     "next": null,
     "previous": "e08297fc-0f94-11ec-b83c-c7638f7e44c5-8-3d33-e7cc-cd51-344f-c74b-d9ef-80fc-7b5a"
    },
    "run_through_control": {
     "frozen": false,
     "read_only": false
    }
   },
   "outputs": [],
   "source": [
    "!rm -fr {work_dir}"
   ]
  }
 ],
 "metadata": {
  "kernelspec": {
   "display_name": "Python 3 (ipykernel)",
   "language": "python",
   "name": "python3"
  },
  "language_info": {
   "codemirror_mode": {
    "name": "ipython",
    "version": 3
   },
   "file_extension": ".py",
   "mimetype": "text/x-python",
   "name": "python",
   "nbconvert_exporter": "python",
   "pygments_lexer": "ipython3",
   "version": "3.7.12"
  },
  "lc_notebook_meme": {
   "current": "a0aee7f4-0f86-11ec-a7f1-c7638f7e44c5"
  },
  "toc": {
   "base_numbering": 1,
   "nav_menu": {},
   "number_sections": true,
   "sideBar": true,
   "skip_h1_title": false,
   "title_cell": "Table of Contents",
   "title_sidebar": "Contents",
   "toc_cell": false,
   "toc_position": {
    "height": "calc(100% - 180px)",
    "left": "10px",
    "top": "150px",
    "width": "313px"
   },
   "toc_section_display": true,
   "toc_window_display": true
  }
 },
 "nbformat": 4,
 "nbformat_minor": 5
}
