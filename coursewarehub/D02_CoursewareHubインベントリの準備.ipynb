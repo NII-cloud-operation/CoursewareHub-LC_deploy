{
 "cells": [
  {
   "cell_type": "markdown",
   "id": "17afbf79",
   "metadata": {
    "lc_cell_meme": {
     "current": "a0aee9d2-0f86-11ec-bd98-c7638f7e44c5-11-a7c3-201e-c7fb-535e-9266-d8aa-00be-1bbc-3199-cb60",
     "history": [
      {
       "current": "a0aee9d2-0f86-11ec-bd98-c7638f7e44c5-3-17a2-a7c3-201e",
       "next": "a0aeea57-0f86-11ec-8fed-c7638f7e44c5-3-b8ca-90ba-e08b",
       "previous": null
      },
      {
       "current": "a0aee9d2-0f86-11ec-bd98-c7638f7e44c5-4-17a2-a7c3-201e-c7fb",
       "next": "a0aeea57-0f86-11ec-8fed-c7638f7e44c5-4-b8ca-90ba-e08b-7e5d",
       "previous": null
      },
      {
       "current": "a0aee9d2-0f86-11ec-bd98-c7638f7e44c5-5-17a2-a7c3-201e-c7fb-535e",
       "next": "a0aeea57-0f86-11ec-8fed-c7638f7e44c5-5-b8ca-90ba-e08b-7e5d-88bc",
       "previous": null
      },
      {
       "current": "a0aee9d2-0f86-11ec-bd98-c7638f7e44c5-6-17a2-a7c3-201e-c7fb-535e-9266",
       "next": "a0aeea57-0f86-11ec-8fed-c7638f7e44c5-6-b8ca-90ba-e08b-7e5d-88bc-5957",
       "previous": null
      },
      {
       "current": "a0aee9d2-0f86-11ec-bd98-c7638f7e44c5-7-17a2-a7c3-201e-c7fb-535e-9266-d8aa",
       "next": "a0aeea57-0f86-11ec-8fed-c7638f7e44c5-7-b8ca-90ba-e08b-7e5d-88bc-5957-e575",
       "previous": null
      },
      {
       "current": "a0aee9d2-0f86-11ec-bd98-c7638f7e44c5-8-17a2-a7c3-201e-c7fb-535e-9266-d8aa-00be",
       "next": "a0aeea57-0f86-11ec-8fed-c7638f7e44c5-8-b8ca-90ba-e08b-7e5d-88bc-5957-e575-17df",
       "previous": null
      },
      {
       "current": "a0aee9d2-0f86-11ec-bd98-c7638f7e44c5-9-17a2-a7c3-201e-c7fb-535e-9266-d8aa-00be-1bbc",
       "next": "a0aeea57-0f86-11ec-8fed-c7638f7e44c5-9-b8ca-90ba-e08b-7e5d-88bc-5957-e575-17df-7383",
       "previous": null
      },
      {
       "current": "a0aee9d2-0f86-11ec-bd98-c7638f7e44c5-10-17a2-a7c3-201e-c7fb-535e-9266-d8aa-00be-1bbc-3199",
       "next": "a0aeea57-0f86-11ec-8fed-c7638f7e44c5-10-b8ca-90ba-e08b-7e5d-88bc-5957-e575-17df-7383-4433",
       "previous": null
      },
      {
       "current": "a0aee9d2-0f86-11ec-bd98-c7638f7e44c5-11-a7c3-201e-c7fb-535e-9266-d8aa-00be-1bbc-3199-cb60",
       "next": "a0aeea57-0f86-11ec-8fed-c7638f7e44c5-11-90ba-e08b-7e5d-88bc-5957-e575-17df-7383-4433-c683",
       "previous": null
      }
     ],
     "next": "a0aeea57-0f86-11ec-8fed-c7638f7e44c5-12-e08b-7e5d-88bc-5957-e575-17df-7383-4433-c683-637c",
     "previous": null
    }
   },
   "source": [
    "# About: CoursewareHubインベントリの準備\n",
    "\n",
    "CoursewareHubに必要なソフトウェアの設定は [Ansible](https://www.ansible.com/) を利用します。\n",
    "\n",
    "これから設定するCoursewareHubに関する各種設定を、インベントリ ... 特に [Ansibleグループ変数](https://docs.ansible.com/ansible/latest/user_guide/playbooks_variables.html) として定義します。\n",
    "\n",
    "全ノードのインベントリファイルが`./hosts`に存在していることを前提とします。\n",
    "\n",
    "以下のようなフォルダ、ファイルにAnsible関連ファイルを配置します。\n",
    "\n",
    "- Inventoryファイルは `./(指定したインベントリ名)`\n",
    "- グループ変数定義ディレクトリは `./group_vars` とします。"
   ]
  },
  {
   "cell_type": "markdown",
   "id": "fd973adb",
   "metadata": {
    "lc_cell_meme": {
     "current": "a0aeea57-0f86-11ec-8fed-c7638f7e44c5-12-e08b-7e5d-88bc-5957-e575-17df-7383-4433-c683-637c",
     "history": [
      {
       "current": "a0aeea57-0f86-11ec-8fed-c7638f7e44c5-4-b8ca-90ba-e08b-7e5d",
       "next": "e851861d-0f86-11ec-b216-c7638f7e44c5-2-7cf6-5e3f",
       "previous": "a0aee9d2-0f86-11ec-bd98-c7638f7e44c5-2-17a2-a7c3"
      },
      {
       "current": "a0aeea57-0f86-11ec-8fed-c7638f7e44c5-5-b8ca-90ba-e08b-7e5d-88bc",
       "next": "e851861d-0f86-11ec-b216-c7638f7e44c5-3-7cf6-5e3f-509b",
       "previous": "a0aee9d2-0f86-11ec-bd98-c7638f7e44c5-3-17a2-a7c3-201e"
      },
      {
       "current": "a0aeea57-0f86-11ec-8fed-c7638f7e44c5-6-b8ca-90ba-e08b-7e5d-88bc-5957",
       "next": "e851861d-0f86-11ec-b216-c7638f7e44c5-4-7cf6-5e3f-509b-e7af",
       "previous": "a0aee9d2-0f86-11ec-bd98-c7638f7e44c5-4-17a2-a7c3-201e-c7fb"
      },
      {
       "current": "a0aeea57-0f86-11ec-8fed-c7638f7e44c5-7-b8ca-90ba-e08b-7e5d-88bc-5957-e575",
       "next": "e851861d-0f86-11ec-b216-c7638f7e44c5-5-7cf6-5e3f-509b-e7af-5fc5",
       "previous": "a0aee9d2-0f86-11ec-bd98-c7638f7e44c5-5-17a2-a7c3-201e-c7fb-535e"
      },
      {
       "current": "a0aeea57-0f86-11ec-8fed-c7638f7e44c5-8-b8ca-90ba-e08b-7e5d-88bc-5957-e575-17df",
       "next": "e851861d-0f86-11ec-b216-c7638f7e44c5-6-7cf6-5e3f-509b-e7af-5fc5-cddb",
       "previous": "a0aee9d2-0f86-11ec-bd98-c7638f7e44c5-6-17a2-a7c3-201e-c7fb-535e-9266"
      },
      {
       "current": "a0aeea57-0f86-11ec-8fed-c7638f7e44c5-9-b8ca-90ba-e08b-7e5d-88bc-5957-e575-17df-7383",
       "next": "e851861d-0f86-11ec-b216-c7638f7e44c5-7-7cf6-5e3f-509b-e7af-5fc5-cddb-daa8",
       "previous": "a0aee9d2-0f86-11ec-bd98-c7638f7e44c5-7-17a2-a7c3-201e-c7fb-535e-9266-d8aa"
      },
      {
       "current": "a0aeea57-0f86-11ec-8fed-c7638f7e44c5-10-b8ca-90ba-e08b-7e5d-88bc-5957-e575-17df-7383-4433",
       "next": "e851861d-0f86-11ec-b216-c7638f7e44c5-8-7cf6-5e3f-509b-e7af-5fc5-cddb-daa8-de24",
       "previous": "a0aee9d2-0f86-11ec-bd98-c7638f7e44c5-8-17a2-a7c3-201e-c7fb-535e-9266-d8aa-00be"
      },
      {
       "current": "a0aeea57-0f86-11ec-8fed-c7638f7e44c5-11-90ba-e08b-7e5d-88bc-5957-e575-17df-7383-4433-c683",
       "next": "e851861d-0f86-11ec-b216-c7638f7e44c5-9-7cf6-5e3f-509b-e7af-5fc5-cddb-daa8-de24-96a1",
       "previous": "a0aee9d2-0f86-11ec-bd98-c7638f7e44c5-9-17a2-a7c3-201e-c7fb-535e-9266-d8aa-00be-1bbc"
      },
      {
       "current": "a0aeea57-0f86-11ec-8fed-c7638f7e44c5-12-e08b-7e5d-88bc-5957-e575-17df-7383-4433-c683-637c",
       "next": "e851861d-0f86-11ec-b216-c7638f7e44c5-10-7cf6-5e3f-509b-e7af-5fc5-cddb-daa8-de24-96a1-0ed2",
       "previous": "a0aee9d2-0f86-11ec-bd98-c7638f7e44c5-10-17a2-a7c3-201e-c7fb-535e-9266-d8aa-00be-1bbc-3199"
      }
     ],
     "next": "e851861d-0f86-11ec-b216-c7638f7e44c5-11-5e3f-509b-e7af-5fc5-cddb-daa8-de24-96a1-0ed2-c927",
     "previous": "a0aee9d2-0f86-11ec-bd98-c7638f7e44c5-11-a7c3-201e-c7fb-535e-9266-d8aa-00be-1bbc-3199-cb60"
    }
   },
   "source": [
    "# 準備\n",
    "\n",
    "ファイルの準備をします。"
   ]
  },
  {
   "cell_type": "code",
   "execution_count": null,
   "id": "4eca36b0",
   "metadata": {
    "lc_cell_meme": {
     "current": "e851861d-0f86-11ec-b216-c7638f7e44c5-11-5e3f-509b-e7af-5fc5-cddb-daa8-de24-96a1-0ed2-c927",
     "history": [
      {
       "current": "e851861d-0f86-11ec-b216-c7638f7e44c5-3-7cf6-5e3f-509b",
       "next": "e8518757-0f86-11ec-bf88-c7638f7e44c5-2-1615-f291",
       "previous": "a0aeea57-0f86-11ec-8fed-c7638f7e44c5-3-b8ca-90ba-e08b"
      },
      {
       "current": "e851861d-0f86-11ec-b216-c7638f7e44c5-4-7cf6-5e3f-509b-e7af",
       "next": "e8518757-0f86-11ec-bf88-c7638f7e44c5-3-1615-f291-e257",
       "previous": "a0aeea57-0f86-11ec-8fed-c7638f7e44c5-4-b8ca-90ba-e08b-7e5d"
      },
      {
       "current": "e851861d-0f86-11ec-b216-c7638f7e44c5-5-7cf6-5e3f-509b-e7af-5fc5",
       "next": "e8518757-0f86-11ec-bf88-c7638f7e44c5-4-1615-f291-e257-d12a",
       "previous": "a0aeea57-0f86-11ec-8fed-c7638f7e44c5-5-b8ca-90ba-e08b-7e5d-88bc"
      },
      {
       "current": "e851861d-0f86-11ec-b216-c7638f7e44c5-6-7cf6-5e3f-509b-e7af-5fc5-cddb",
       "next": "e8518757-0f86-11ec-bf88-c7638f7e44c5-5-1615-f291-e257-d12a-5929",
       "previous": "a0aeea57-0f86-11ec-8fed-c7638f7e44c5-6-b8ca-90ba-e08b-7e5d-88bc-5957"
      },
      {
       "current": "e851861d-0f86-11ec-b216-c7638f7e44c5-7-7cf6-5e3f-509b-e7af-5fc5-cddb-daa8",
       "next": "e8518757-0f86-11ec-bf88-c7638f7e44c5-6-1615-f291-e257-d12a-5929-c3b8",
       "previous": "a0aeea57-0f86-11ec-8fed-c7638f7e44c5-7-b8ca-90ba-e08b-7e5d-88bc-5957-e575"
      },
      {
       "current": "e851861d-0f86-11ec-b216-c7638f7e44c5-8-7cf6-5e3f-509b-e7af-5fc5-cddb-daa8-de24",
       "next": "e8518757-0f86-11ec-bf88-c7638f7e44c5-7-1615-f291-e257-d12a-5929-c3b8-6336",
       "previous": "a0aeea57-0f86-11ec-8fed-c7638f7e44c5-8-b8ca-90ba-e08b-7e5d-88bc-5957-e575-17df"
      },
      {
       "current": "e851861d-0f86-11ec-b216-c7638f7e44c5-9-7cf6-5e3f-509b-e7af-5fc5-cddb-daa8-de24-96a1",
       "next": "e8518757-0f86-11ec-bf88-c7638f7e44c5-8-1615-f291-e257-d12a-5929-c3b8-6336-c740",
       "previous": "a0aeea57-0f86-11ec-8fed-c7638f7e44c5-9-b8ca-90ba-e08b-7e5d-88bc-5957-e575-17df-7383"
      },
      {
       "current": "e851861d-0f86-11ec-b216-c7638f7e44c5-10-7cf6-5e3f-509b-e7af-5fc5-cddb-daa8-de24-96a1-0ed2",
       "next": "e8518757-0f86-11ec-bf88-c7638f7e44c5-9-1615-f291-e257-d12a-5929-c3b8-6336-c740-f57d",
       "previous": "a0aeea57-0f86-11ec-8fed-c7638f7e44c5-10-b8ca-90ba-e08b-7e5d-88bc-5957-e575-17df-7383-4433"
      },
      {
       "current": "e851861d-0f86-11ec-b216-c7638f7e44c5-11-5e3f-509b-e7af-5fc5-cddb-daa8-de24-96a1-0ed2-c927",
       "next": "e8518757-0f86-11ec-bf88-c7638f7e44c5-10-1615-f291-e257-d12a-5929-c3b8-6336-c740-f57d-1d1b",
       "previous": "a0aeea57-0f86-11ec-8fed-c7638f7e44c5-11-90ba-e08b-7e5d-88bc-5957-e575-17df-7383-4433-c683"
      }
     ],
     "next": "e8518757-0f86-11ec-bf88-c7638f7e44c5-11-f291-e257-d12a-5929-c3b8-6336-c740-f57d-1d1b-9624",
     "previous": "a0aeea57-0f86-11ec-8fed-c7638f7e44c5-12-e08b-7e5d-88bc-5957-e575-17df-7383-4433-c683-637c"
    }
   },
   "outputs": [],
   "source": [
    "import os\n",
    "\n",
    "group_vars_dir = './group_vars'\n",
    "if not os.path.exists(group_vars_dir):\n",
    "    os.mkdir(group_vars_dir)\n",
    "!ls -la {group_vars_dir}"
   ]
  },
  {
   "cell_type": "markdown",
   "id": "40555e0d",
   "metadata": {
    "lc_cell_meme": {
     "current": "e8518757-0f86-11ec-bf88-c7638f7e44c5-11-f291-e257-d12a-5929-c3b8-6336-c740-f57d-1d1b-9624",
     "history": [
      {
       "current": "e8518757-0f86-11ec-bf88-c7638f7e44c5-3-1615-f291-e257",
       "next": "30306b68-0f87-11ec-beca-c7638f7e44c5-2-6ce1-8f08",
       "previous": "e851861d-0f86-11ec-b216-c7638f7e44c5-2-7cf6-5e3f"
      },
      {
       "current": "e8518757-0f86-11ec-bf88-c7638f7e44c5-4-1615-f291-e257-d12a",
       "next": "30306b68-0f87-11ec-beca-c7638f7e44c5-3-6ce1-8f08-17c6",
       "previous": "e851861d-0f86-11ec-b216-c7638f7e44c5-3-7cf6-5e3f-509b"
      },
      {
       "current": "e8518757-0f86-11ec-bf88-c7638f7e44c5-5-1615-f291-e257-d12a-5929",
       "next": "30306b68-0f87-11ec-beca-c7638f7e44c5-4-6ce1-8f08-17c6-5242",
       "previous": "e851861d-0f86-11ec-b216-c7638f7e44c5-4-7cf6-5e3f-509b-e7af"
      },
      {
       "current": "e8518757-0f86-11ec-bf88-c7638f7e44c5-6-1615-f291-e257-d12a-5929-c3b8",
       "next": "30306b68-0f87-11ec-beca-c7638f7e44c5-5-6ce1-8f08-17c6-5242-4252",
       "previous": "e851861d-0f86-11ec-b216-c7638f7e44c5-5-7cf6-5e3f-509b-e7af-5fc5"
      },
      {
       "current": "e8518757-0f86-11ec-bf88-c7638f7e44c5-7-1615-f291-e257-d12a-5929-c3b8-6336",
       "next": "30306b68-0f87-11ec-beca-c7638f7e44c5-6-6ce1-8f08-17c6-5242-4252-79d2",
       "previous": "e851861d-0f86-11ec-b216-c7638f7e44c5-6-7cf6-5e3f-509b-e7af-5fc5-cddb"
      },
      {
       "current": "e8518757-0f86-11ec-bf88-c7638f7e44c5-8-1615-f291-e257-d12a-5929-c3b8-6336-c740",
       "next": "30306b68-0f87-11ec-beca-c7638f7e44c5-7-6ce1-8f08-17c6-5242-4252-79d2-8a29",
       "previous": "e851861d-0f86-11ec-b216-c7638f7e44c5-7-7cf6-5e3f-509b-e7af-5fc5-cddb-daa8"
      },
      {
       "current": "e8518757-0f86-11ec-bf88-c7638f7e44c5-9-1615-f291-e257-d12a-5929-c3b8-6336-c740-f57d",
       "next": "30306b68-0f87-11ec-beca-c7638f7e44c5-8-6ce1-8f08-17c6-5242-4252-79d2-8a29-c79e",
       "previous": "e851861d-0f86-11ec-b216-c7638f7e44c5-8-7cf6-5e3f-509b-e7af-5fc5-cddb-daa8-de24"
      },
      {
       "current": "e8518757-0f86-11ec-bf88-c7638f7e44c5-10-1615-f291-e257-d12a-5929-c3b8-6336-c740-f57d-1d1b",
       "next": "30306b68-0f87-11ec-beca-c7638f7e44c5-9-6ce1-8f08-17c6-5242-4252-79d2-8a29-c79e-e382",
       "previous": "e851861d-0f86-11ec-b216-c7638f7e44c5-9-7cf6-5e3f-509b-e7af-5fc5-cddb-daa8-de24-96a1"
      },
      {
       "current": "e8518757-0f86-11ec-bf88-c7638f7e44c5-11-f291-e257-d12a-5929-c3b8-6336-c740-f57d-1d1b-9624",
       "next": "30306b68-0f87-11ec-beca-c7638f7e44c5-10-6ce1-8f08-17c6-5242-4252-79d2-8a29-c79e-e382-c250",
       "previous": "e851861d-0f86-11ec-b216-c7638f7e44c5-10-7cf6-5e3f-509b-e7af-5fc5-cddb-daa8-de24-96a1-0ed2"
      }
     ],
     "next": "30306b68-0f87-11ec-beca-c7638f7e44c5-11-8f08-17c6-5242-4252-79d2-8a29-c79e-e382-c250-bc10",
     "previous": "e851861d-0f86-11ec-b216-c7638f7e44c5-11-5e3f-509b-e7af-5fc5-cddb-daa8-de24-96a1-0ed2-c927"
    }
   },
   "source": [
    "# 利用可能なサーバーの確認\n",
    "\n",
    "設定対象のサーバーは、すでに `D01_CoursewareHub用VMをAWSに作成.ipynb` などで、Inventory(`./hosts`)に設定されているものとします。"
   ]
  },
  {
   "cell_type": "code",
   "execution_count": null,
   "id": "dc08f827",
   "metadata": {
    "lc_cell_meme": {
     "current": "30306b68-0f87-11ec-beca-c7638f7e44c5-11-8f08-17c6-5242-4252-79d2-8a29-c79e-e382-c250-bc10",
     "history": [
      {
       "current": "30306b68-0f87-11ec-beca-c7638f7e44c5-3-6ce1-8f08-17c6",
       "next": "30306cab-0f87-11ec-975c-c7638f7e44c5-2-6073-fa58",
       "previous": "e8518757-0f86-11ec-bf88-c7638f7e44c5-2-1615-f291"
      },
      {
       "current": "30306b68-0f87-11ec-beca-c7638f7e44c5-4-6ce1-8f08-17c6-5242",
       "next": "30306cab-0f87-11ec-975c-c7638f7e44c5-3-6073-fa58-a484",
       "previous": "e8518757-0f86-11ec-bf88-c7638f7e44c5-3-1615-f291-e257"
      },
      {
       "current": "30306b68-0f87-11ec-beca-c7638f7e44c5-5-6ce1-8f08-17c6-5242-4252",
       "next": "30306cab-0f87-11ec-975c-c7638f7e44c5-4-6073-fa58-a484-bbfe",
       "previous": "e8518757-0f86-11ec-bf88-c7638f7e44c5-4-1615-f291-e257-d12a"
      },
      {
       "current": "30306b68-0f87-11ec-beca-c7638f7e44c5-6-6ce1-8f08-17c6-5242-4252-79d2",
       "next": "30306cab-0f87-11ec-975c-c7638f7e44c5-5-6073-fa58-a484-bbfe-fa13",
       "previous": "e8518757-0f86-11ec-bf88-c7638f7e44c5-5-1615-f291-e257-d12a-5929"
      },
      {
       "current": "30306b68-0f87-11ec-beca-c7638f7e44c5-7-6ce1-8f08-17c6-5242-4252-79d2-8a29",
       "next": "30306cab-0f87-11ec-975c-c7638f7e44c5-6-6073-fa58-a484-bbfe-fa13-8210",
       "previous": "e8518757-0f86-11ec-bf88-c7638f7e44c5-6-1615-f291-e257-d12a-5929-c3b8"
      },
      {
       "current": "30306b68-0f87-11ec-beca-c7638f7e44c5-8-6ce1-8f08-17c6-5242-4252-79d2-8a29-c79e",
       "next": "30306cab-0f87-11ec-975c-c7638f7e44c5-7-6073-fa58-a484-bbfe-fa13-8210-b617",
       "previous": "e8518757-0f86-11ec-bf88-c7638f7e44c5-7-1615-f291-e257-d12a-5929-c3b8-6336"
      },
      {
       "current": "30306b68-0f87-11ec-beca-c7638f7e44c5-9-6ce1-8f08-17c6-5242-4252-79d2-8a29-c79e-e382",
       "next": "30306cab-0f87-11ec-975c-c7638f7e44c5-8-6073-fa58-a484-bbfe-fa13-8210-b617-6994",
       "previous": "e8518757-0f86-11ec-bf88-c7638f7e44c5-8-1615-f291-e257-d12a-5929-c3b8-6336-c740"
      },
      {
       "current": "30306b68-0f87-11ec-beca-c7638f7e44c5-10-6ce1-8f08-17c6-5242-4252-79d2-8a29-c79e-e382-c250",
       "next": "30306cab-0f87-11ec-975c-c7638f7e44c5-9-6073-fa58-a484-bbfe-fa13-8210-b617-6994-8c05",
       "previous": "e8518757-0f86-11ec-bf88-c7638f7e44c5-9-1615-f291-e257-d12a-5929-c3b8-6336-c740-f57d"
      },
      {
       "current": "30306b68-0f87-11ec-beca-c7638f7e44c5-11-8f08-17c6-5242-4252-79d2-8a29-c79e-e382-c250-bc10",
       "next": "30306cab-0f87-11ec-975c-c7638f7e44c5-10-6073-fa58-a484-bbfe-fa13-8210-b617-6994-8c05-218b",
       "previous": "e8518757-0f86-11ec-bf88-c7638f7e44c5-10-1615-f291-e257-d12a-5929-c3b8-6336-c740-f57d-1d1b"
      }
     ],
     "next": "30306cab-0f87-11ec-975c-c7638f7e44c5-11-fa58-a484-bbfe-fa13-8210-b617-6994-8c05-218b-5db3",
     "previous": "e8518757-0f86-11ec-bf88-c7638f7e44c5-11-f291-e257-d12a-5929-c3b8-6336-c740-f57d-1d1b-9624"
    },
    "scrolled": true
   },
   "outputs": [],
   "source": [
    "hosts_file = './hosts'\n",
    "!cat {hosts_file}"
   ]
  },
  {
   "cell_type": "markdown",
   "id": "290c39e4",
   "metadata": {
    "lc_cell_meme": {
     "current": "30306cab-0f87-11ec-975c-c7638f7e44c5-11-fa58-a484-bbfe-fa13-8210-b617-6994-8c05-218b-5db3",
     "history": [
      {
       "current": "30306cab-0f87-11ec-975c-c7638f7e44c5-3-6073-fa58-a484",
       "next": "bee36054-0f87-11ec-a987-c7638f7e44c5-2-04f2-12fe",
       "previous": "30306b68-0f87-11ec-beca-c7638f7e44c5-2-6ce1-8f08"
      },
      {
       "current": "30306cab-0f87-11ec-975c-c7638f7e44c5-4-6073-fa58-a484-bbfe",
       "next": "bee36054-0f87-11ec-a987-c7638f7e44c5-3-04f2-12fe-fbc6",
       "previous": "30306b68-0f87-11ec-beca-c7638f7e44c5-3-6ce1-8f08-17c6"
      },
      {
       "current": "30306cab-0f87-11ec-975c-c7638f7e44c5-5-6073-fa58-a484-bbfe-fa13",
       "next": "bee36054-0f87-11ec-a987-c7638f7e44c5-4-04f2-12fe-fbc6-5afc",
       "previous": "30306b68-0f87-11ec-beca-c7638f7e44c5-4-6ce1-8f08-17c6-5242"
      },
      {
       "current": "30306cab-0f87-11ec-975c-c7638f7e44c5-6-6073-fa58-a484-bbfe-fa13-8210",
       "next": "bee36054-0f87-11ec-a987-c7638f7e44c5-5-04f2-12fe-fbc6-5afc-b192",
       "previous": "30306b68-0f87-11ec-beca-c7638f7e44c5-5-6ce1-8f08-17c6-5242-4252"
      },
      {
       "current": "30306cab-0f87-11ec-975c-c7638f7e44c5-7-6073-fa58-a484-bbfe-fa13-8210-b617",
       "next": "bee36054-0f87-11ec-a987-c7638f7e44c5-6-04f2-12fe-fbc6-5afc-b192-c619",
       "previous": "30306b68-0f87-11ec-beca-c7638f7e44c5-6-6ce1-8f08-17c6-5242-4252-79d2"
      },
      {
       "current": "30306cab-0f87-11ec-975c-c7638f7e44c5-8-6073-fa58-a484-bbfe-fa13-8210-b617-6994",
       "next": "bee36054-0f87-11ec-a987-c7638f7e44c5-7-04f2-12fe-fbc6-5afc-b192-c619-b091",
       "previous": "30306b68-0f87-11ec-beca-c7638f7e44c5-7-6ce1-8f08-17c6-5242-4252-79d2-8a29"
      },
      {
       "current": "30306cab-0f87-11ec-975c-c7638f7e44c5-9-6073-fa58-a484-bbfe-fa13-8210-b617-6994-8c05",
       "next": "bee36054-0f87-11ec-a987-c7638f7e44c5-8-04f2-12fe-fbc6-5afc-b192-c619-b091-885e",
       "previous": "30306b68-0f87-11ec-beca-c7638f7e44c5-8-6ce1-8f08-17c6-5242-4252-79d2-8a29-c79e"
      },
      {
       "current": "30306cab-0f87-11ec-975c-c7638f7e44c5-10-6073-fa58-a484-bbfe-fa13-8210-b617-6994-8c05-218b",
       "next": "bee36054-0f87-11ec-a987-c7638f7e44c5-9-04f2-12fe-fbc6-5afc-b192-c619-b091-885e-1394",
       "previous": "30306b68-0f87-11ec-beca-c7638f7e44c5-9-6ce1-8f08-17c6-5242-4252-79d2-8a29-c79e-e382"
      },
      {
       "current": "30306cab-0f87-11ec-975c-c7638f7e44c5-11-fa58-a484-bbfe-fa13-8210-b617-6994-8c05-218b-5db3",
       "next": "bee36054-0f87-11ec-a987-c7638f7e44c5-10-04f2-12fe-fbc6-5afc-b192-c619-b091-885e-1394-2ab4",
       "previous": "30306b68-0f87-11ec-beca-c7638f7e44c5-10-6ce1-8f08-17c6-5242-4252-79d2-8a29-c79e-e382-c250"
      }
     ],
     "next": "bee36054-0f87-11ec-a987-c7638f7e44c5-11-12fe-fbc6-5afc-b192-c619-b091-885e-1394-2ab4-beae",
     "previous": "30306b68-0f87-11ec-beca-c7638f7e44c5-11-8f08-17c6-5242-4252-79d2-8a29-c79e-e382-c250-bc10"
    }
   },
   "source": [
    "Ansible Inventory中に定義されているグループ( `[グループ名]` のように`[]`で囲まれた定義 )のうち、CoursewareHub構築に使うグループ名を指定します。"
   ]
  },
  {
   "cell_type": "code",
   "execution_count": null,
   "id": "f992abd4",
   "metadata": {
    "lc_cell_meme": {
     "current": "bee36054-0f87-11ec-a987-c7638f7e44c5-11-12fe-fbc6-5afc-b192-c619-b091-885e-1394-2ab4-beae",
     "history": [
      {
       "current": "bee36054-0f87-11ec-a987-c7638f7e44c5-3-04f2-12fe-fbc6",
       "next": "21bb3e1b-8568-11ec-afef-6b42dc3e1973",
       "previous": "30306cab-0f87-11ec-975c-c7638f7e44c5-2-6073-fa58"
      },
      {
       "current": "bee36054-0f87-11ec-a987-c7638f7e44c5-4-04f2-12fe-fbc6-5afc",
       "next": "065033a5-0f88-11ec-98ee-c7638f7e44c5-3-2c1d-4b63-d60c",
       "previous": "30306cab-0f87-11ec-975c-c7638f7e44c5-3-6073-fa58-a484"
      },
      {
       "current": "bee36054-0f87-11ec-a987-c7638f7e44c5-5-04f2-12fe-fbc6-5afc-b192",
       "next": "065033a5-0f88-11ec-98ee-c7638f7e44c5-4-2c1d-4b63-d60c-f151",
       "previous": "30306cab-0f87-11ec-975c-c7638f7e44c5-4-6073-fa58-a484-bbfe"
      },
      {
       "current": "bee36054-0f87-11ec-a987-c7638f7e44c5-6-04f2-12fe-fbc6-5afc-b192-c619",
       "next": "065033a5-0f88-11ec-98ee-c7638f7e44c5-5-2c1d-4b63-d60c-f151-6042",
       "previous": "30306cab-0f87-11ec-975c-c7638f7e44c5-5-6073-fa58-a484-bbfe-fa13"
      },
      {
       "current": "bee36054-0f87-11ec-a987-c7638f7e44c5-7-04f2-12fe-fbc6-5afc-b192-c619-b091",
       "next": "065033a5-0f88-11ec-98ee-c7638f7e44c5-6-2c1d-4b63-d60c-f151-6042-9ddd",
       "previous": "30306cab-0f87-11ec-975c-c7638f7e44c5-6-6073-fa58-a484-bbfe-fa13-8210"
      },
      {
       "current": "bee36054-0f87-11ec-a987-c7638f7e44c5-8-04f2-12fe-fbc6-5afc-b192-c619-b091-885e",
       "next": "065033a5-0f88-11ec-98ee-c7638f7e44c5-7-2c1d-4b63-d60c-f151-6042-9ddd-f452",
       "previous": "30306cab-0f87-11ec-975c-c7638f7e44c5-7-6073-fa58-a484-bbfe-fa13-8210-b617"
      },
      {
       "current": "bee36054-0f87-11ec-a987-c7638f7e44c5-9-04f2-12fe-fbc6-5afc-b192-c619-b091-885e-1394",
       "next": "065033a5-0f88-11ec-98ee-c7638f7e44c5-8-2c1d-4b63-d60c-f151-6042-9ddd-f452-8aab",
       "previous": "30306cab-0f87-11ec-975c-c7638f7e44c5-8-6073-fa58-a484-bbfe-fa13-8210-b617-6994"
      },
      {
       "current": "bee36054-0f87-11ec-a987-c7638f7e44c5-10-04f2-12fe-fbc6-5afc-b192-c619-b091-885e-1394-2ab4",
       "next": "065033a5-0f88-11ec-98ee-c7638f7e44c5-9-2c1d-4b63-d60c-f151-6042-9ddd-f452-8aab-de93",
       "previous": "30306cab-0f87-11ec-975c-c7638f7e44c5-9-6073-fa58-a484-bbfe-fa13-8210-b617-6994-8c05"
      },
      {
       "current": "bee36054-0f87-11ec-a987-c7638f7e44c5-11-12fe-fbc6-5afc-b192-c619-b091-885e-1394-2ab4-beae",
       "next": "065033a5-0f88-11ec-98ee-c7638f7e44c5-10-2c1d-4b63-d60c-f151-6042-9ddd-f452-8aab-de93-6ce8",
       "previous": "30306cab-0f87-11ec-975c-c7638f7e44c5-10-6073-fa58-a484-bbfe-fa13-8210-b617-6994-8c05-218b"
      }
     ],
     "next": "065033a5-0f88-11ec-98ee-c7638f7e44c5-11-4b63-d60c-f151-6042-9ddd-f452-8aab-de93-6ce8-6073",
     "previous": "30306cab-0f87-11ec-975c-c7638f7e44c5-11-fa58-a484-bbfe-fa13-8210-b617-6994-8c05-218b-5db3"
    },
    "scrolled": true
   },
   "outputs": [],
   "source": [
    "target_group = 'cwhtest0001'\n",
    "\n",
    "# 接続確認\n",
    "%env ANSIBLE_INVENTORY={hosts_file}\n",
    "!ansible -m ping {target_group}"
   ]
  },
  {
   "cell_type": "markdown",
   "id": "b90d77b7",
   "metadata": {
    "lc_cell_meme": {
     "current": "065033a5-0f88-11ec-98ee-c7638f7e44c5-11-4b63-d60c-f151-6042-9ddd-f452-8aab-de93-6ce8-6073",
     "history": [
      {
       "current": "065033a5-0f88-11ec-98ee-c7638f7e44c5-3-2c1d-4b63-d60c",
       "next": "4dd3d374-0f88-11ec-b488-c7638f7e44c5-1-656e",
       "previous": "bee36054-0f87-11ec-a987-c7638f7e44c5-1-04f2"
      },
      {
       "current": "065033a5-0f88-11ec-98ee-c7638f7e44c5-4-2c1d-4b63-d60c-f151",
       "next": "4dd3d374-0f88-11ec-b488-c7638f7e44c5-3-656e-068b-d7b1",
       "previous": "bee36054-0f87-11ec-a987-c7638f7e44c5-3-04f2-12fe-fbc6"
      },
      {
       "current": "065033a5-0f88-11ec-98ee-c7638f7e44c5-5-2c1d-4b63-d60c-f151-6042",
       "next": "4dd3d374-0f88-11ec-b488-c7638f7e44c5-4-656e-068b-d7b1-7cfa",
       "previous": "bee36054-0f87-11ec-a987-c7638f7e44c5-4-04f2-12fe-fbc6-5afc"
      },
      {
       "current": "065033a5-0f88-11ec-98ee-c7638f7e44c5-6-2c1d-4b63-d60c-f151-6042-9ddd",
       "next": "4dd3d374-0f88-11ec-b488-c7638f7e44c5-5-656e-068b-d7b1-7cfa-c01b",
       "previous": "bee36054-0f87-11ec-a987-c7638f7e44c5-5-04f2-12fe-fbc6-5afc-b192"
      },
      {
       "current": "065033a5-0f88-11ec-98ee-c7638f7e44c5-7-2c1d-4b63-d60c-f151-6042-9ddd-f452",
       "next": "4dd3d374-0f88-11ec-b488-c7638f7e44c5-6-656e-068b-d7b1-7cfa-c01b-e96b",
       "previous": "bee36054-0f87-11ec-a987-c7638f7e44c5-6-04f2-12fe-fbc6-5afc-b192-c619"
      },
      {
       "current": "065033a5-0f88-11ec-98ee-c7638f7e44c5-8-2c1d-4b63-d60c-f151-6042-9ddd-f452-8aab",
       "next": "4dd3d374-0f88-11ec-b488-c7638f7e44c5-7-656e-068b-d7b1-7cfa-c01b-e96b-686d",
       "previous": "bee36054-0f87-11ec-a987-c7638f7e44c5-7-04f2-12fe-fbc6-5afc-b192-c619-b091"
      },
      {
       "current": "065033a5-0f88-11ec-98ee-c7638f7e44c5-9-2c1d-4b63-d60c-f151-6042-9ddd-f452-8aab-de93",
       "next": "4dd3d374-0f88-11ec-b488-c7638f7e44c5-8-656e-068b-d7b1-7cfa-c01b-e96b-686d-c5df",
       "previous": "bee36054-0f87-11ec-a987-c7638f7e44c5-8-04f2-12fe-fbc6-5afc-b192-c619-b091-885e"
      },
      {
       "current": "065033a5-0f88-11ec-98ee-c7638f7e44c5-10-2c1d-4b63-d60c-f151-6042-9ddd-f452-8aab-de93-6ce8",
       "next": "4dd3d374-0f88-11ec-b488-c7638f7e44c5-9-656e-068b-d7b1-7cfa-c01b-e96b-686d-c5df-e0fa",
       "previous": "bee36054-0f87-11ec-a987-c7638f7e44c5-9-04f2-12fe-fbc6-5afc-b192-c619-b091-885e-1394"
      },
      {
       "current": "065033a5-0f88-11ec-98ee-c7638f7e44c5-11-4b63-d60c-f151-6042-9ddd-f452-8aab-de93-6ce8-6073",
       "next": "4dd3d374-0f88-11ec-b488-c7638f7e44c5-10-656e-068b-d7b1-7cfa-c01b-e96b-686d-c5df-e0fa-9847",
       "previous": "bee36054-0f87-11ec-a987-c7638f7e44c5-10-04f2-12fe-fbc6-5afc-b192-c619-b091-885e-1394-2ab4"
      }
     ],
     "next": "4dd3d374-0f88-11ec-b488-c7638f7e44c5-11-068b-d7b1-7cfa-c01b-e96b-686d-c5df-e0fa-9847-3ffa",
     "previous": "bee36054-0f87-11ec-a987-c7638f7e44c5-11-12fe-fbc6-5afc-b192-c619-b091-885e-1394-2ab4-beae"
    }
   },
   "source": [
    "# サーバーの役割の決定"
   ]
  },
  {
   "cell_type": "markdown",
   "id": "1be42a96",
   "metadata": {
    "lc_cell_meme": {
     "current": "4dd3d374-0f88-11ec-b488-c7638f7e44c5-11-068b-d7b1-7cfa-c01b-e96b-686d-c5df-e0fa-9847-3ffa",
     "history": [
      {
       "current": "4dd3d374-0f88-11ec-b488-c7638f7e44c5-3-656e-068b-d7b1",
       "next": "4dd3d4be-0f88-11ec-8f73-c7638f7e44c5-3-6795-e66d-9f79",
       "previous": "065033a5-0f88-11ec-98ee-c7638f7e44c5-3-2c1d-4b63-d60c"
      },
      {
       "current": "4dd3d374-0f88-11ec-b488-c7638f7e44c5-4-656e-068b-d7b1-7cfa",
       "next": "e09cbd82-9a08-11ec-8579-0242ac120002",
       "previous": "065033a5-0f88-11ec-98ee-c7638f7e44c5-3-2c1d-4b63-d60c"
      },
      {
       "current": "4dd3d374-0f88-11ec-b488-c7638f7e44c5-5-656e-068b-d7b1-7cfa-c01b",
       "next": "e09cbd82-9a08-11ec-8579-0242ac120002-1-7212",
       "previous": "065033a5-0f88-11ec-98ee-c7638f7e44c5-4-2c1d-4b63-d60c-f151"
      },
      {
       "current": "4dd3d374-0f88-11ec-b488-c7638f7e44c5-6-656e-068b-d7b1-7cfa-c01b-e96b",
       "next": "e09cbd82-9a08-11ec-8579-0242ac120002-2-7212-66a5",
       "previous": "065033a5-0f88-11ec-98ee-c7638f7e44c5-5-2c1d-4b63-d60c-f151-6042"
      },
      {
       "current": "4dd3d374-0f88-11ec-b488-c7638f7e44c5-7-656e-068b-d7b1-7cfa-c01b-e96b-686d",
       "next": "e09cbd82-9a08-11ec-8579-0242ac120002-3-7212-66a5-81f8",
       "previous": "065033a5-0f88-11ec-98ee-c7638f7e44c5-6-2c1d-4b63-d60c-f151-6042-9ddd"
      },
      {
       "current": "4dd3d374-0f88-11ec-b488-c7638f7e44c5-8-656e-068b-d7b1-7cfa-c01b-e96b-686d-c5df",
       "next": "e09cbd82-9a08-11ec-8579-0242ac120002-4-7212-66a5-81f8-d603",
       "previous": "065033a5-0f88-11ec-98ee-c7638f7e44c5-7-2c1d-4b63-d60c-f151-6042-9ddd-f452"
      },
      {
       "current": "4dd3d374-0f88-11ec-b488-c7638f7e44c5-9-656e-068b-d7b1-7cfa-c01b-e96b-686d-c5df-e0fa",
       "next": "e09cbd82-9a08-11ec-8579-0242ac120002-5-7212-66a5-81f8-d603-a145",
       "previous": "065033a5-0f88-11ec-98ee-c7638f7e44c5-8-2c1d-4b63-d60c-f151-6042-9ddd-f452-8aab"
      },
      {
       "current": "4dd3d374-0f88-11ec-b488-c7638f7e44c5-10-656e-068b-d7b1-7cfa-c01b-e96b-686d-c5df-e0fa-9847",
       "next": "e09cbd82-9a08-11ec-8579-0242ac120002-6-7212-66a5-81f8-d603-a145-9a13",
       "previous": "065033a5-0f88-11ec-98ee-c7638f7e44c5-9-2c1d-4b63-d60c-f151-6042-9ddd-f452-8aab-de93"
      },
      {
       "current": "4dd3d374-0f88-11ec-b488-c7638f7e44c5-11-068b-d7b1-7cfa-c01b-e96b-686d-c5df-e0fa-9847-3ffa",
       "next": "e09cbd82-9a08-11ec-8579-0242ac120002-7-7212-66a5-81f8-d603-a145-9a13-5a4c",
       "previous": "065033a5-0f88-11ec-98ee-c7638f7e44c5-10-2c1d-4b63-d60c-f151-6042-9ddd-f452-8aab-de93-6ce8"
      }
     ],
     "next": "e09cbd82-9a08-11ec-8579-0242ac120002-8-7212-66a5-81f8-d603-a145-9a13-5a4c-3f2d",
     "previous": "065033a5-0f88-11ec-98ee-c7638f7e44c5-11-4b63-d60c-f151-6042-9ddd-f452-8aab-de93-6ce8-6073"
    }
   },
   "source": [
    "以下の3つのサーバーに対して、役割を設定します。"
   ]
  },
  {
   "cell_type": "code",
   "execution_count": null,
   "id": "2c396be0",
   "metadata": {
    "lc_cell_meme": {
     "current": "e09cbd82-9a08-11ec-8579-0242ac120002-8-7212-66a5-81f8-d603-a145-9a13-5a4c-3f2d",
     "history": [
      {
       "current": "e09cbd82-9a08-11ec-8579-0242ac120002-1-7212",
       "next": "ed6bd4e2-4c5d-11e9-b2d5-0242ac130002-14-e3ba-e8da-ac15-9144-3c52-3520-bf96-3125-381e-3838",
       "previous": "4dd3d374-0f88-11ec-b488-c7638f7e44c5-3-656e-068b-d7b1"
      },
      {
       "current": "e09cbd82-9a08-11ec-8579-0242ac120002-2-7212-66a5",
       "next": "ed6bd4e2-4c5d-11e9-b2d5-0242ac130002-15-e8da-ac15-9144-3c52-3520-bf96-3125-381e-3838-04d8",
       "previous": "4dd3d374-0f88-11ec-b488-c7638f7e44c5-4-656e-068b-d7b1-7cfa"
      },
      {
       "current": "e09cbd82-9a08-11ec-8579-0242ac120002-3-7212-66a5-81f8",
       "next": "ed6bd4e2-4c5d-11e9-b2d5-0242ac130002-16-ac15-9144-3c52-3520-bf96-3125-381e-3838-04d8-adc8",
       "previous": "4dd3d374-0f88-11ec-b488-c7638f7e44c5-5-656e-068b-d7b1-7cfa-c01b"
      },
      {
       "current": "e09cbd82-9a08-11ec-8579-0242ac120002-4-7212-66a5-81f8-d603",
       "next": "ed6bd4e2-4c5d-11e9-b2d5-0242ac130002-17-9144-3c52-3520-bf96-3125-381e-3838-04d8-adc8-f96c",
       "previous": "4dd3d374-0f88-11ec-b488-c7638f7e44c5-6-656e-068b-d7b1-7cfa-c01b-e96b"
      },
      {
       "current": "e09cbd82-9a08-11ec-8579-0242ac120002-5-7212-66a5-81f8-d603-a145",
       "next": "ed6bd4e2-4c5d-11e9-b2d5-0242ac130002-18-3c52-3520-bf96-3125-381e-3838-04d8-adc8-f96c-8214",
       "previous": "4dd3d374-0f88-11ec-b488-c7638f7e44c5-7-656e-068b-d7b1-7cfa-c01b-e96b-686d"
      },
      {
       "current": "e09cbd82-9a08-11ec-8579-0242ac120002-6-7212-66a5-81f8-d603-a145-9a13",
       "next": "ed6bd4e2-4c5d-11e9-b2d5-0242ac130002-19-3520-bf96-3125-381e-3838-04d8-adc8-f96c-8214-7142",
       "previous": "4dd3d374-0f88-11ec-b488-c7638f7e44c5-8-656e-068b-d7b1-7cfa-c01b-e96b-686d-c5df"
      },
      {
       "current": "e09cbd82-9a08-11ec-8579-0242ac120002-7-7212-66a5-81f8-d603-a145-9a13-5a4c",
       "next": "ed6bd4e2-4c5d-11e9-b2d5-0242ac130002-20-bf96-3125-381e-3838-04d8-adc8-f96c-8214-7142-00ee",
       "previous": "4dd3d374-0f88-11ec-b488-c7638f7e44c5-9-656e-068b-d7b1-7cfa-c01b-e96b-686d-c5df-e0fa"
      },
      {
       "current": "e09cbd82-9a08-11ec-8579-0242ac120002-8-7212-66a5-81f8-d603-a145-9a13-5a4c-3f2d",
       "next": "ed6bd4e2-4c5d-11e9-b2d5-0242ac130002-21-3125-381e-3838-04d8-adc8-f96c-8214-7142-00ee-0bb0",
       "previous": "4dd3d374-0f88-11ec-b488-c7638f7e44c5-10-656e-068b-d7b1-7cfa-c01b-e96b-686d-c5df-e0fa-9847"
      }
     ],
     "next": "ed6bd4e2-4c5d-11e9-b2d5-0242ac130002-22-381e-3838-04d8-adc8-f96c-8214-7142-00ee-0bb0-afb8",
     "previous": "4dd3d374-0f88-11ec-b488-c7638f7e44c5-11-068b-d7b1-7cfa-c01b-e96b-686d-c5df-e0fa-9847-3ffa"
    }
   },
   "outputs": [],
   "source": [
    "hosts_stdout = !ansible -m ping {target_group}\n",
    "hosts = [line.split()[0] for line in hosts_stdout if 'SUCCESS' in line]\n",
    "hosts"
   ]
  },
  {
   "cell_type": "markdown",
   "id": "3412a5f4",
   "metadata": {
    "lc_cell_meme": {
     "current": "ed6bd4e2-4c5d-11e9-b2d5-0242ac130002-22-381e-3838-04d8-adc8-f96c-8214-7142-00ee-0bb0-afb8",
     "history": [
      {
       "current": "ed6bd4e2-4c5d-11e9-b2d5-0242ac130002-14-e3ba-e8da-ac15-9144-3c52-3520-bf96-3125-381e-3838",
       "next": "30306d2c-0f87-11ec-a1ba-c7638f7e44c5-3-7ff3-301b-3af3",
       "previous": "e09cbd82-9a08-11ec-8579-0242ac120002"
      },
      {
       "current": "ed6bd4e2-4c5d-11e9-b2d5-0242ac130002-15-e8da-ac15-9144-3c52-3520-bf96-3125-381e-3838-04d8",
       "next": "2823e027-9a09-11ec-9d86-0242ac120002",
       "previous": "e09cbd82-9a08-11ec-8579-0242ac120002"
      },
      {
       "current": "ed6bd4e2-4c5d-11e9-b2d5-0242ac130002-16-ac15-9144-3c52-3520-bf96-3125-381e-3838-04d8-adc8",
       "next": "2823e027-9a09-11ec-9d86-0242ac120002-1-fbc1",
       "previous": "e09cbd82-9a08-11ec-8579-0242ac120002-1-7212"
      },
      {
       "current": "ed6bd4e2-4c5d-11e9-b2d5-0242ac130002-17-9144-3c52-3520-bf96-3125-381e-3838-04d8-adc8-f96c",
       "next": "2823e027-9a09-11ec-9d86-0242ac120002-2-fbc1-5527",
       "previous": "e09cbd82-9a08-11ec-8579-0242ac120002-2-7212-66a5"
      },
      {
       "current": "ed6bd4e2-4c5d-11e9-b2d5-0242ac130002-18-3c52-3520-bf96-3125-381e-3838-04d8-adc8-f96c-8214",
       "next": "2823e027-9a09-11ec-9d86-0242ac120002-3-fbc1-5527-9ea7",
       "previous": "e09cbd82-9a08-11ec-8579-0242ac120002-3-7212-66a5-81f8"
      },
      {
       "current": "ed6bd4e2-4c5d-11e9-b2d5-0242ac130002-19-3520-bf96-3125-381e-3838-04d8-adc8-f96c-8214-7142",
       "next": "2823e027-9a09-11ec-9d86-0242ac120002-4-fbc1-5527-9ea7-309c",
       "previous": "e09cbd82-9a08-11ec-8579-0242ac120002-4-7212-66a5-81f8-d603"
      },
      {
       "current": "ed6bd4e2-4c5d-11e9-b2d5-0242ac130002-20-bf96-3125-381e-3838-04d8-adc8-f96c-8214-7142-00ee",
       "next": "2823e027-9a09-11ec-9d86-0242ac120002-5-fbc1-5527-9ea7-309c-6d97",
       "previous": "e09cbd82-9a08-11ec-8579-0242ac120002-5-7212-66a5-81f8-d603-a145"
      },
      {
       "current": "ed6bd4e2-4c5d-11e9-b2d5-0242ac130002-21-3125-381e-3838-04d8-adc8-f96c-8214-7142-00ee-0bb0",
       "next": "2823e027-9a09-11ec-9d86-0242ac120002-6-fbc1-5527-9ea7-309c-6d97-5baa",
       "previous": "e09cbd82-9a08-11ec-8579-0242ac120002-6-7212-66a5-81f8-d603-a145-9a13"
      },
      {
       "current": "ed6bd4e2-4c5d-11e9-b2d5-0242ac130002-22-381e-3838-04d8-adc8-f96c-8214-7142-00ee-0bb0-afb8",
       "next": "2823e027-9a09-11ec-9d86-0242ac120002-7-fbc1-5527-9ea7-309c-6d97-5baa-b4c0",
       "previous": "e09cbd82-9a08-11ec-8579-0242ac120002-7-7212-66a5-81f8-d603-a145-9a13-5a4c"
      }
     ],
     "next": "2823e027-9a09-11ec-9d86-0242ac120002-8-fbc1-5527-9ea7-309c-6d97-5baa-b4c0-fe3e",
     "previous": "e09cbd82-9a08-11ec-8579-0242ac120002-8-7212-66a5-81f8-d603-a145-9a13-5a4c-3f2d"
    }
   },
   "source": [
    "以下のコードセルに、NFSサーバーとして使うサーバーと、CoursewareHub masterとして使うサーバーのそれぞれのInventoryでのIPアドレスを記入してください。\n",
    "\n",
    "設定例)\n",
    "\n",
    "**NFSサーバーをCousewareHubのノードと分離する場合**\n",
    "\n",
    "* `10.1.1.100` ... NFSサーバー\n",
    "* `10.1.1.101` ... CoursewareHubノード1\n",
    "* `10.1.1.102` ... CoursewareHubノード2\n",
    "\n",
    "```\n",
    "# NFSサーバーとして使うサーバー\n",
    "nfs_server = '10.1.1.100'\n",
    "\n",
    "# CoursewareHub masterとして使うサーバー ... public_ipがついているものである必要があります\n",
    "master_server = '10.1.1.101'\n",
    "\n",
    "# いずれにも指定されていないサーバーはnodeとして自動的に設定されます。\n",
    "```\n",
    "\n",
    "**NFSサーバーをCousewareHubのmasterノードと共有する場合**\n",
    "\n",
    "* `10.1.1.101` ... CoursewareHubノード1 / NFSサーバー\n",
    "* `10.1.1.102` ... CoursewareHubノード2\n",
    "\n",
    "\n",
    "```\n",
    "# NFSサーバーとして使うサーバー\n",
    "nfs_server = '10.1.1.101'\n",
    "\n",
    "# CoursewareHub masterとして使うサーバー ... public_ipがついているものである必要があります\n",
    "master_server = '10.1.1.101'\n",
    "\n",
    "# いずれにも指定されていないサーバーはnodeとして自動的に設定されます。\n",
    "```\n"
   ]
  },
  {
   "cell_type": "code",
   "execution_count": null,
   "id": "ce3d3852",
   "metadata": {
    "lc_cell_meme": {
     "current": "2823e027-9a09-11ec-9d86-0242ac120002-8-fbc1-5527-9ea7-309c-6d97-5baa-b4c0-fe3e",
     "history": [
      {
       "current": "2823e027-9a09-11ec-9d86-0242ac120002-1-fbc1",
       "next": "2823e10c-9a09-11ec-8e6e-0242ac120002",
       "previous": "ed6bd4e2-4c5d-11e9-b2d5-0242ac130002-14-e3ba-e8da-ac15-9144-3c52-3520-bf96-3125-381e-3838"
      },
      {
       "current": "2823e027-9a09-11ec-9d86-0242ac120002-2-fbc1-5527",
       "next": "2823e10c-9a09-11ec-8e6e-0242ac120002-1-b29a",
       "previous": "ed6bd4e2-4c5d-11e9-b2d5-0242ac130002-15-e8da-ac15-9144-3c52-3520-bf96-3125-381e-3838-04d8"
      },
      {
       "current": "2823e027-9a09-11ec-9d86-0242ac120002-3-fbc1-5527-9ea7",
       "next": "2823e10c-9a09-11ec-8e6e-0242ac120002-2-b29a-03e0",
       "previous": "ed6bd4e2-4c5d-11e9-b2d5-0242ac130002-16-ac15-9144-3c52-3520-bf96-3125-381e-3838-04d8-adc8"
      },
      {
       "current": "2823e027-9a09-11ec-9d86-0242ac120002-4-fbc1-5527-9ea7-309c",
       "next": "2823e10c-9a09-11ec-8e6e-0242ac120002-3-b29a-03e0-9c58",
       "previous": "ed6bd4e2-4c5d-11e9-b2d5-0242ac130002-17-9144-3c52-3520-bf96-3125-381e-3838-04d8-adc8-f96c"
      },
      {
       "current": "2823e027-9a09-11ec-9d86-0242ac120002-5-fbc1-5527-9ea7-309c-6d97",
       "next": "2823e10c-9a09-11ec-8e6e-0242ac120002-4-b29a-03e0-9c58-fccf",
       "previous": "ed6bd4e2-4c5d-11e9-b2d5-0242ac130002-18-3c52-3520-bf96-3125-381e-3838-04d8-adc8-f96c-8214"
      },
      {
       "current": "2823e027-9a09-11ec-9d86-0242ac120002-6-fbc1-5527-9ea7-309c-6d97-5baa",
       "next": "98052e46-c269-11ed-b564-0242ac120006",
       "previous": "ed6bd4e2-4c5d-11e9-b2d5-0242ac130002-19-3520-bf96-3125-381e-3838-04d8-adc8-f96c-8214-7142"
      },
      {
       "current": "2823e027-9a09-11ec-9d86-0242ac120002-7-fbc1-5527-9ea7-309c-6d97-5baa-b4c0",
       "next": "98052e46-c269-11ed-b564-0242ac120006-1-a47f",
       "previous": "ed6bd4e2-4c5d-11e9-b2d5-0242ac130002-20-bf96-3125-381e-3838-04d8-adc8-f96c-8214-7142-00ee"
      },
      {
       "current": "2823e027-9a09-11ec-9d86-0242ac120002-8-fbc1-5527-9ea7-309c-6d97-5baa-b4c0-fe3e",
       "next": "98052e46-c269-11ed-b564-0242ac120006-2-a47f-43de",
       "previous": "ed6bd4e2-4c5d-11e9-b2d5-0242ac130002-21-3125-381e-3838-04d8-adc8-f96c-8214-7142-00ee-0bb0"
      }
     ],
     "next": "98052e46-c269-11ed-b564-0242ac120006-3-a47f-43de-c667",
     "previous": "ed6bd4e2-4c5d-11e9-b2d5-0242ac130002-22-381e-3838-04d8-adc8-f96c-8214-7142-00ee-0bb0-afb8"
    }
   },
   "outputs": [],
   "source": [
    "# NFSサーバーとして使うサーバー\n",
    "nfs_server = '10.1.1.162'\n",
    "\n",
    "# CoursewareHub masterとして使うサーバー ... public_ipがついているものである必要\n",
    "master_server = '10.1.1.162'\n",
    "\n",
    "# いずれにも指定されていないサーバーはworker nodeとして自動的に設定されます。"
   ]
  },
  {
   "cell_type": "markdown",
   "id": "fd00d429",
   "metadata": {
    "lc_cell_meme": {
     "current": "98052e46-c269-11ed-b564-0242ac120006-3-a47f-43de-c667",
     "history": [
      {
       "current": "98052e46-c269-11ed-b564-0242ac120006-1-a47f",
       "next": "9805303a-c269-11ed-b564-0242ac120006",
       "previous": "2823e027-9a09-11ec-9d86-0242ac120002-5-fbc1-5527-9ea7-309c-6d97"
      },
      {
       "current": "98052e46-c269-11ed-b564-0242ac120006-2-a47f-43de",
       "next": "9805303a-c269-11ed-b564-0242ac120006-1-ca03",
       "previous": "2823e027-9a09-11ec-9d86-0242ac120002-6-fbc1-5527-9ea7-309c-6d97-5baa"
      },
      {
       "current": "98052e46-c269-11ed-b564-0242ac120006-3-a47f-43de-c667",
       "next": "9805303a-c269-11ed-b564-0242ac120006-2-ca03-dc5c",
       "previous": "2823e027-9a09-11ec-9d86-0242ac120002-7-fbc1-5527-9ea7-309c-6d97-5baa-b4c0"
      }
     ],
     "next": "9805303a-c269-11ed-b564-0242ac120006-3-ca03-dc5c-56a0",
     "previous": "2823e027-9a09-11ec-9d86-0242ac120002-8-fbc1-5527-9ea7-309c-6d97-5baa-b4c0-fe3e"
    }
   },
   "source": [
    "指定されたIPアドレス(`nfs_server`, `master_server`)がインベントリ中にあるか検証します。\n",
    "\n",
    "以下のセル実行に失敗する場合は、前のセルを選択後Freezeを解除 <i class='fa fa-fw fa-snowflake-o' style='color:gray;'></i> し、正しい値を再設定、実行してください。"
   ]
  },
  {
   "cell_type": "code",
   "execution_count": null,
   "id": "18ee8fb5",
   "metadata": {
    "lc_cell_meme": {
     "current": "9805303a-c269-11ed-b564-0242ac120006-3-ca03-dc5c-56a0",
     "history": [
      {
       "current": "9805303a-c269-11ed-b564-0242ac120006-1-ca03",
       "next": "98053080-c269-11ed-b564-0242ac120006",
       "previous": "98052e46-c269-11ed-b564-0242ac120006"
      },
      {
       "current": "9805303a-c269-11ed-b564-0242ac120006-2-ca03-dc5c",
       "next": "98053080-c269-11ed-b564-0242ac120006-1-255b",
       "previous": "98052e46-c269-11ed-b564-0242ac120006-1-a47f"
      },
      {
       "current": "9805303a-c269-11ed-b564-0242ac120006-3-ca03-dc5c-56a0",
       "next": "98053080-c269-11ed-b564-0242ac120006-2-255b-a9c9",
       "previous": "98052e46-c269-11ed-b564-0242ac120006-2-a47f-43de"
      }
     ],
     "next": "98053080-c269-11ed-b564-0242ac120006-3-255b-a9c9-9ae5",
     "previous": "98052e46-c269-11ed-b564-0242ac120006-3-a47f-43de-c667"
    }
   },
   "outputs": [],
   "source": [
    "assert nfs_server in hosts, 'nfs_server の指定がinventory中に見つかりません'\n",
    "assert master_server in hosts, 'master_server の指定がinventory中に見つかりません'\n",
    "\n",
    "# 以下は master_server に public_ipプロパティが定義されていないとエラーとなる\n",
    "!ansible -m debug -a 'msg={{{{ public_ip }}}}' {target_group} -l {master_server}"
   ]
  },
  {
   "cell_type": "markdown",
   "id": "c85cb2a8",
   "metadata": {
    "lc_cell_meme": {
     "current": "98053080-c269-11ed-b564-0242ac120006-3-255b-a9c9-9ae5",
     "history": [
      {
       "current": "98053080-c269-11ed-b564-0242ac120006-1-255b",
       "next": "2823e10c-9a09-11ec-8e6e-0242ac120002-5-b29a-03e0-9c58-fccf-aa7d",
       "previous": "9805303a-c269-11ed-b564-0242ac120006"
      },
      {
       "current": "98053080-c269-11ed-b564-0242ac120006-2-255b-a9c9",
       "next": "2823e10c-9a09-11ec-8e6e-0242ac120002-6-b29a-03e0-9c58-fccf-aa7d-f274",
       "previous": "9805303a-c269-11ed-b564-0242ac120006-1-ca03"
      },
      {
       "current": "98053080-c269-11ed-b564-0242ac120006-3-255b-a9c9-9ae5",
       "next": "2823e10c-9a09-11ec-8e6e-0242ac120002-7-b29a-03e0-9c58-fccf-aa7d-f274-89df",
       "previous": "9805303a-c269-11ed-b564-0242ac120006-2-ca03-dc5c"
      }
     ],
     "next": "2823e10c-9a09-11ec-8e6e-0242ac120002-8-b29a-03e0-9c58-fccf-aa7d-f274-89df-f6dd",
     "previous": "9805303a-c269-11ed-b564-0242ac120006-3-ca03-dc5c-56a0"
    }
   },
   "source": [
    "問題なければ変数 `worker_servers` を定義する。"
   ]
  },
  {
   "cell_type": "code",
   "execution_count": null,
   "id": "d2ece218",
   "metadata": {
    "lc_cell_meme": {
     "current": "2823e10c-9a09-11ec-8e6e-0242ac120002-8-b29a-03e0-9c58-fccf-aa7d-f274-89df-f6dd",
     "history": [
      {
       "current": "2823e10c-9a09-11ec-8e6e-0242ac120002-1-b29a",
       "next": "a57e4cb3-856a-11ec-afa7-6b42dc3e1973-1-eda0",
       "previous": "2823e027-9a09-11ec-9d86-0242ac120002"
      },
      {
       "current": "2823e10c-9a09-11ec-8e6e-0242ac120002-2-b29a-03e0",
       "next": "a57e4cb3-856a-11ec-afa7-6b42dc3e1973-2-eda0-f847",
       "previous": "2823e027-9a09-11ec-9d86-0242ac120002-1-fbc1"
      },
      {
       "current": "2823e10c-9a09-11ec-8e6e-0242ac120002-3-b29a-03e0-9c58",
       "next": "a57e4cb3-856a-11ec-afa7-6b42dc3e1973-3-eda0-f847-0aff",
       "previous": "2823e027-9a09-11ec-9d86-0242ac120002-2-fbc1-5527"
      },
      {
       "current": "2823e10c-9a09-11ec-8e6e-0242ac120002-4-b29a-03e0-9c58-fccf",
       "next": "a57e4cb3-856a-11ec-afa7-6b42dc3e1973-4-eda0-f847-0aff-ba78",
       "previous": "2823e027-9a09-11ec-9d86-0242ac120002-3-fbc1-5527-9ea7"
      },
      {
       "current": "2823e10c-9a09-11ec-8e6e-0242ac120002-5-b29a-03e0-9c58-fccf-aa7d",
       "next": "a57e4cb3-856a-11ec-afa7-6b42dc3e1973-5-eda0-f847-0aff-ba78-ea64",
       "previous": "2823e027-9a09-11ec-9d86-0242ac120002-4-fbc1-5527-9ea7-309c"
      },
      {
       "current": "2823e10c-9a09-11ec-8e6e-0242ac120002-6-b29a-03e0-9c58-fccf-aa7d-f274",
       "next": "a57e4cb3-856a-11ec-afa7-6b42dc3e1973-6-eda0-f847-0aff-ba78-ea64-8426",
       "previous": "98053080-c269-11ed-b564-0242ac120006"
      },
      {
       "current": "2823e10c-9a09-11ec-8e6e-0242ac120002-7-b29a-03e0-9c58-fccf-aa7d-f274-89df",
       "next": "a57e4cb3-856a-11ec-afa7-6b42dc3e1973-7-eda0-f847-0aff-ba78-ea64-8426-433e",
       "previous": "98053080-c269-11ed-b564-0242ac120006-1-255b"
      },
      {
       "current": "2823e10c-9a09-11ec-8e6e-0242ac120002-8-b29a-03e0-9c58-fccf-aa7d-f274-89df-f6dd",
       "next": "a57e4cb3-856a-11ec-afa7-6b42dc3e1973-8-eda0-f847-0aff-ba78-ea64-8426-433e-f311",
       "previous": "98053080-c269-11ed-b564-0242ac120006-2-255b-a9c9"
      }
     ],
     "next": "a57e4cb3-856a-11ec-afa7-6b42dc3e1973-9-eda0-f847-0aff-ba78-ea64-8426-433e-f311-0d27",
     "previous": "98053080-c269-11ed-b564-0242ac120006-3-255b-a9c9-9ae5"
    }
   },
   "outputs": [],
   "source": [
    "worker_servers = list(set(hosts) - {nfs_server, master_server})\n",
    "worker_servers"
   ]
  },
  {
   "cell_type": "code",
   "execution_count": null,
   "id": "7fc65a68",
   "metadata": {
    "lc_cell_meme": {
     "current": "a57e4cb3-856a-11ec-afa7-6b42dc3e1973-9-eda0-f847-0aff-ba78-ea64-8426-433e-f311-0d27",
     "history": [
      {
       "current": "a57e4cb3-856a-11ec-afa7-6b42dc3e1973-1-eda0",
       "next": "8e7c2bb6-841f-11ec-92b5-6b42dc3e1973-1-8754",
       "previous": "edc215c0-8810-11ec-9184-6b42dc3e1973-1-3ea8"
      },
      {
       "current": "a57e4cb3-856a-11ec-afa7-6b42dc3e1973-2-eda0-f847",
       "next": "8e7c2bb6-841f-11ec-92b5-6b42dc3e1973-1-8754",
       "previous": "2823e10c-9a09-11ec-8e6e-0242ac120002"
      },
      {
       "current": "a57e4cb3-856a-11ec-afa7-6b42dc3e1973-3-eda0-f847-0aff",
       "next": "8e7c2bb6-841f-11ec-92b5-6b42dc3e1973-2-8754-98c0",
       "previous": "2823e10c-9a09-11ec-8e6e-0242ac120002-1-b29a"
      },
      {
       "current": "a57e4cb3-856a-11ec-afa7-6b42dc3e1973-4-eda0-f847-0aff-ba78",
       "next": "8e7c2bb6-841f-11ec-92b5-6b42dc3e1973-3-8754-98c0-efee",
       "previous": "2823e10c-9a09-11ec-8e6e-0242ac120002-2-b29a-03e0"
      },
      {
       "current": "a57e4cb3-856a-11ec-afa7-6b42dc3e1973-5-eda0-f847-0aff-ba78-ea64",
       "next": "8e7c2bb6-841f-11ec-92b5-6b42dc3e1973-4-8754-98c0-efee-b138",
       "previous": "2823e10c-9a09-11ec-8e6e-0242ac120002-3-b29a-03e0-9c58"
      },
      {
       "current": "a57e4cb3-856a-11ec-afa7-6b42dc3e1973-6-eda0-f847-0aff-ba78-ea64-8426",
       "next": "8e7c2bb6-841f-11ec-92b5-6b42dc3e1973-5-8754-98c0-efee-b138-6922",
       "previous": "2823e10c-9a09-11ec-8e6e-0242ac120002-4-b29a-03e0-9c58-fccf"
      },
      {
       "current": "a57e4cb3-856a-11ec-afa7-6b42dc3e1973-7-eda0-f847-0aff-ba78-ea64-8426-433e",
       "next": "8e7c2bb6-841f-11ec-92b5-6b42dc3e1973-6-8754-98c0-efee-b138-6922-c686",
       "previous": "2823e10c-9a09-11ec-8e6e-0242ac120002-5-b29a-03e0-9c58-fccf-aa7d"
      },
      {
       "current": "a57e4cb3-856a-11ec-afa7-6b42dc3e1973-8-eda0-f847-0aff-ba78-ea64-8426-433e-f311",
       "next": "8e7c2bb6-841f-11ec-92b5-6b42dc3e1973-7-8754-98c0-efee-b138-6922-c686-f8b9",
       "previous": "2823e10c-9a09-11ec-8e6e-0242ac120002-6-b29a-03e0-9c58-fccf-aa7d-f274"
      },
      {
       "current": "a57e4cb3-856a-11ec-afa7-6b42dc3e1973-9-eda0-f847-0aff-ba78-ea64-8426-433e-f311-0d27",
       "next": "8e7c2bb6-841f-11ec-92b5-6b42dc3e1973-8-8754-98c0-efee-b138-6922-c686-f8b9-056e",
       "previous": "2823e10c-9a09-11ec-8e6e-0242ac120002-7-b29a-03e0-9c58-fccf-aa7d-f274-89df"
      }
     ],
     "next": "8e7c2bb6-841f-11ec-92b5-6b42dc3e1973-9-8754-98c0-efee-b138-6922-c686-f8b9-056e-d521",
     "previous": "2823e10c-9a09-11ec-8e6e-0242ac120002-8-b29a-03e0-9c58-fccf-aa7d-f274-89df-f6dd"
    }
   },
   "outputs": [],
   "source": [
    "print('nfs_server: {}'.format(nfs_server))\n",
    "print('master_server: {}'.format(master_server))\n",
    "print('worker_nodes:')\n",
    "for node in worker_servers:\n",
    "    print('  {}'.format(node))"
   ]
  },
  {
   "cell_type": "markdown",
   "id": "c16b858b",
   "metadata": {
    "lc_cell_meme": {
     "current": "8e7c2bb6-841f-11ec-92b5-6b42dc3e1973-9-8754-98c0-efee-b138-6922-c686-f8b9-056e-d521",
     "history": [
      {
       "current": "8e7c2bb6-841f-11ec-92b5-6b42dc3e1973-1-8754",
       "next": "abeb3a0e-3842-11ea-9fe0-0242ac120002-13-06cd-1427-8549-8e71-f8c2-d9f1-b790-ecfb-fe84-dbad",
       "previous": "a57e4cb3-856a-11ec-afa7-6b42dc3e1973"
      },
      {
       "current": "8e7c2bb6-841f-11ec-92b5-6b42dc3e1973-2-8754-98c0",
       "next": "abeb3a0e-3842-11ea-9fe0-0242ac120002-14-1427-8549-8e71-f8c2-d9f1-b790-ecfb-fe84-dbad-2eac",
       "previous": "a57e4cb3-856a-11ec-afa7-6b42dc3e1973-1-eda0"
      },
      {
       "current": "8e7c2bb6-841f-11ec-92b5-6b42dc3e1973-3-8754-98c0-efee",
       "next": "abeb3a0e-3842-11ea-9fe0-0242ac120002-15-8549-8e71-f8c2-d9f1-b790-ecfb-fe84-dbad-2eac-2ade",
       "previous": "a57e4cb3-856a-11ec-afa7-6b42dc3e1973-2-eda0-f847"
      },
      {
       "current": "8e7c2bb6-841f-11ec-92b5-6b42dc3e1973-4-8754-98c0-efee-b138",
       "next": "abeb3a0e-3842-11ea-9fe0-0242ac120002-16-8e71-f8c2-d9f1-b790-ecfb-fe84-dbad-2eac-2ade-e531",
       "previous": "a57e4cb3-856a-11ec-afa7-6b42dc3e1973-3-eda0-f847-0aff"
      },
      {
       "current": "8e7c2bb6-841f-11ec-92b5-6b42dc3e1973-5-8754-98c0-efee-b138-6922",
       "next": "abeb3a0e-3842-11ea-9fe0-0242ac120002-17-f8c2-d9f1-b790-ecfb-fe84-dbad-2eac-2ade-e531-bf23",
       "previous": "a57e4cb3-856a-11ec-afa7-6b42dc3e1973-4-eda0-f847-0aff-ba78"
      },
      {
       "current": "8e7c2bb6-841f-11ec-92b5-6b42dc3e1973-6-8754-98c0-efee-b138-6922-c686",
       "next": "abeb3a0e-3842-11ea-9fe0-0242ac120002-18-d9f1-b790-ecfb-fe84-dbad-2eac-2ade-e531-bf23-dccf",
       "previous": "a57e4cb3-856a-11ec-afa7-6b42dc3e1973-5-eda0-f847-0aff-ba78-ea64"
      },
      {
       "current": "8e7c2bb6-841f-11ec-92b5-6b42dc3e1973-7-8754-98c0-efee-b138-6922-c686-f8b9",
       "next": "abeb3a0e-3842-11ea-9fe0-0242ac120002-19-b790-ecfb-fe84-dbad-2eac-2ade-e531-bf23-dccf-b10e",
       "previous": "a57e4cb3-856a-11ec-afa7-6b42dc3e1973-6-eda0-f847-0aff-ba78-ea64-8426"
      },
      {
       "current": "8e7c2bb6-841f-11ec-92b5-6b42dc3e1973-8-8754-98c0-efee-b138-6922-c686-f8b9-056e",
       "next": "abeb3a0e-3842-11ea-9fe0-0242ac120002-20-ecfb-fe84-dbad-2eac-2ade-e531-bf23-dccf-b10e-db36",
       "previous": "a57e4cb3-856a-11ec-afa7-6b42dc3e1973-7-eda0-f847-0aff-ba78-ea64-8426-433e"
      },
      {
       "current": "8e7c2bb6-841f-11ec-92b5-6b42dc3e1973-9-8754-98c0-efee-b138-6922-c686-f8b9-056e-d521",
       "next": "abeb3a0e-3842-11ea-9fe0-0242ac120002-21-fe84-dbad-2eac-2ade-e531-bf23-dccf-b10e-db36-f718",
       "previous": "a57e4cb3-856a-11ec-afa7-6b42dc3e1973-8-eda0-f847-0aff-ba78-ea64-8426-433e-f311"
      }
     ],
     "next": "abeb3a0e-3842-11ea-9fe0-0242ac120002-22-dbad-2eac-2ade-e531-bf23-dccf-b10e-db36-f718-7b69",
     "previous": "a57e4cb3-856a-11ec-afa7-6b42dc3e1973-9-eda0-f847-0aff-ba78-ea64-8426-433e-f311-0d27"
    }
   },
   "source": [
    "CoursewareHubの識別子を設定する\n",
    "\n",
    "マスターノードの台数と同じ数、CoursewareHubを構築することができます。そのため、個別のCoursewareHubを区別するための識別子を設定しておきます。\n",
    "\n",
    "インベントリのグループ名、NFSのエクスポートパス等で使用されます。\n",
    "\n",
    "NFSサーバーを複数のCoursewareHubで共有する場合には、互いに異なる名前を設定する必要があります。"
   ]
  },
  {
   "cell_type": "code",
   "execution_count": null,
   "id": "89bc8e4a",
   "metadata": {
    "lc_cell_meme": {
     "current": "abeb3a0e-3842-11ea-9fe0-0242ac120002-22-dbad-2eac-2ade-e531-bf23-dccf-b10e-db36-f718-7b69",
     "history": [
      {
       "current": "abeb3a0e-3842-11ea-9fe0-0242ac120002-14-1427-8549-8e71-f8c2-d9f1-b790-ecfb-fe84-dbad-2eac",
       "next": "159dd9b8-0f92-11ec-95ec-c7638f7e44c5-2-ec7b-3d10",
       "previous": "8e7c2bb6-841f-11ec-92b5-6b42dc3e1973"
      },
      {
       "current": "abeb3a0e-3842-11ea-9fe0-0242ac120002-15-8549-8e71-f8c2-d9f1-b790-ecfb-fe84-dbad-2eac-2ade",
       "next": "159dd9b8-0f92-11ec-95ec-c7638f7e44c5-3-ec7b-3d10-359f",
       "previous": "8e7c2bb6-841f-11ec-92b5-6b42dc3e1973-1-8754"
      },
      {
       "current": "abeb3a0e-3842-11ea-9fe0-0242ac120002-16-8e71-f8c2-d9f1-b790-ecfb-fe84-dbad-2eac-2ade-e531",
       "next": "159dd9b8-0f92-11ec-95ec-c7638f7e44c5-4-ec7b-3d10-359f-a0ee",
       "previous": "8e7c2bb6-841f-11ec-92b5-6b42dc3e1973-2-8754-98c0"
      },
      {
       "current": "abeb3a0e-3842-11ea-9fe0-0242ac120002-17-f8c2-d9f1-b790-ecfb-fe84-dbad-2eac-2ade-e531-bf23",
       "next": "159dd9b8-0f92-11ec-95ec-c7638f7e44c5-5-ec7b-3d10-359f-a0ee-68c1",
       "previous": "8e7c2bb6-841f-11ec-92b5-6b42dc3e1973-3-8754-98c0-efee"
      },
      {
       "current": "abeb3a0e-3842-11ea-9fe0-0242ac120002-18-d9f1-b790-ecfb-fe84-dbad-2eac-2ade-e531-bf23-dccf",
       "next": "159dd9b8-0f92-11ec-95ec-c7638f7e44c5-6-ec7b-3d10-359f-a0ee-68c1-c824",
       "previous": "8e7c2bb6-841f-11ec-92b5-6b42dc3e1973-4-8754-98c0-efee-b138"
      },
      {
       "current": "abeb3a0e-3842-11ea-9fe0-0242ac120002-19-b790-ecfb-fe84-dbad-2eac-2ade-e531-bf23-dccf-b10e",
       "next": "159dd9b8-0f92-11ec-95ec-c7638f7e44c5-7-ec7b-3d10-359f-a0ee-68c1-c824-cb9f",
       "previous": "8e7c2bb6-841f-11ec-92b5-6b42dc3e1973-5-8754-98c0-efee-b138-6922"
      },
      {
       "current": "abeb3a0e-3842-11ea-9fe0-0242ac120002-20-ecfb-fe84-dbad-2eac-2ade-e531-bf23-dccf-b10e-db36",
       "next": "159dd9b8-0f92-11ec-95ec-c7638f7e44c5-8-ec7b-3d10-359f-a0ee-68c1-c824-cb9f-635a",
       "previous": "8e7c2bb6-841f-11ec-92b5-6b42dc3e1973-6-8754-98c0-efee-b138-6922-c686"
      },
      {
       "current": "abeb3a0e-3842-11ea-9fe0-0242ac120002-21-fe84-dbad-2eac-2ade-e531-bf23-dccf-b10e-db36-f718",
       "next": "159dd9b8-0f92-11ec-95ec-c7638f7e44c5-9-ec7b-3d10-359f-a0ee-68c1-c824-cb9f-635a-f70a",
       "previous": "8e7c2bb6-841f-11ec-92b5-6b42dc3e1973-7-8754-98c0-efee-b138-6922-c686-f8b9"
      },
      {
       "current": "abeb3a0e-3842-11ea-9fe0-0242ac120002-22-dbad-2eac-2ade-e531-bf23-dccf-b10e-db36-f718-7b69",
       "next": "159dd9b8-0f92-11ec-95ec-c7638f7e44c5-10-ec7b-3d10-359f-a0ee-68c1-c824-cb9f-635a-f70a-1673",
       "previous": "8e7c2bb6-841f-11ec-92b5-6b42dc3e1973-8-8754-98c0-efee-b138-6922-c686-f8b9-056e"
      }
     ],
     "next": "159dd9b8-0f92-11ec-95ec-c7638f7e44c5-11-3d10-359f-a0ee-68c1-c824-cb9f-635a-f70a-1673-e031",
     "previous": "8e7c2bb6-841f-11ec-92b5-6b42dc3e1973-9-8754-98c0-efee-b138-6922-c686-f8b9-056e-d521"
    }
   },
   "outputs": [],
   "source": [
    "hubname = 'cwhtest0001'"
   ]
  },
  {
   "cell_type": "markdown",
   "id": "4796f87c",
   "metadata": {
    "lc_cell_meme": {
     "current": "159dd9b8-0f92-11ec-95ec-c7638f7e44c5-11-3d10-359f-a0ee-68c1-c824-cb9f-635a-f70a-1673-e031",
     "history": [
      {
       "current": "159dd9b8-0f92-11ec-95ec-c7638f7e44c5-3-ec7b-3d10-359f",
       "next": "ac72f38a-85a8-11ec-b907-6b42dc3e1973",
       "previous": "abeb3a0e-3842-11ea-9fe0-0242ac120002-13-06cd-1427-8549-8e71-f8c2-d9f1-b790-ecfb-fe84-dbad"
      },
      {
       "current": "159dd9b8-0f92-11ec-95ec-c7638f7e44c5-4-ec7b-3d10-359f-a0ee",
       "next": "ac72f38a-85a8-11ec-b907-6b42dc3e1973-1-8659",
       "previous": "abeb3a0e-3842-11ea-9fe0-0242ac120002-14-1427-8549-8e71-f8c2-d9f1-b790-ecfb-fe84-dbad-2eac"
      },
      {
       "current": "159dd9b8-0f92-11ec-95ec-c7638f7e44c5-5-ec7b-3d10-359f-a0ee-68c1",
       "next": "ac72f38a-85a8-11ec-b907-6b42dc3e1973-2-8659-7267",
       "previous": "abeb3a0e-3842-11ea-9fe0-0242ac120002-15-8549-8e71-f8c2-d9f1-b790-ecfb-fe84-dbad-2eac-2ade"
      },
      {
       "current": "159dd9b8-0f92-11ec-95ec-c7638f7e44c5-6-ec7b-3d10-359f-a0ee-68c1-c824",
       "next": "ac72f38a-85a8-11ec-b907-6b42dc3e1973-3-8659-7267-5bcb",
       "previous": "abeb3a0e-3842-11ea-9fe0-0242ac120002-16-8e71-f8c2-d9f1-b790-ecfb-fe84-dbad-2eac-2ade-e531"
      },
      {
       "current": "159dd9b8-0f92-11ec-95ec-c7638f7e44c5-7-ec7b-3d10-359f-a0ee-68c1-c824-cb9f",
       "next": "ac72f38a-85a8-11ec-b907-6b42dc3e1973-4-8659-7267-5bcb-0bd5",
       "previous": "abeb3a0e-3842-11ea-9fe0-0242ac120002-17-f8c2-d9f1-b790-ecfb-fe84-dbad-2eac-2ade-e531-bf23"
      },
      {
       "current": "159dd9b8-0f92-11ec-95ec-c7638f7e44c5-8-ec7b-3d10-359f-a0ee-68c1-c824-cb9f-635a",
       "next": "ac72f38a-85a8-11ec-b907-6b42dc3e1973-5-8659-7267-5bcb-0bd5-bf73",
       "previous": "abeb3a0e-3842-11ea-9fe0-0242ac120002-18-d9f1-b790-ecfb-fe84-dbad-2eac-2ade-e531-bf23-dccf"
      },
      {
       "current": "159dd9b8-0f92-11ec-95ec-c7638f7e44c5-9-ec7b-3d10-359f-a0ee-68c1-c824-cb9f-635a-f70a",
       "next": "ac72f38a-85a8-11ec-b907-6b42dc3e1973-6-8659-7267-5bcb-0bd5-bf73-223a",
       "previous": "abeb3a0e-3842-11ea-9fe0-0242ac120002-19-b790-ecfb-fe84-dbad-2eac-2ade-e531-bf23-dccf-b10e"
      },
      {
       "current": "159dd9b8-0f92-11ec-95ec-c7638f7e44c5-10-ec7b-3d10-359f-a0ee-68c1-c824-cb9f-635a-f70a-1673",
       "next": "ac72f38a-85a8-11ec-b907-6b42dc3e1973-7-8659-7267-5bcb-0bd5-bf73-223a-ec1f",
       "previous": "abeb3a0e-3842-11ea-9fe0-0242ac120002-20-ecfb-fe84-dbad-2eac-2ade-e531-bf23-dccf-b10e-db36"
      },
      {
       "current": "159dd9b8-0f92-11ec-95ec-c7638f7e44c5-11-3d10-359f-a0ee-68c1-c824-cb9f-635a-f70a-1673-e031",
       "next": "ac72f38a-85a8-11ec-b907-6b42dc3e1973-8-8659-7267-5bcb-0bd5-bf73-223a-ec1f-829e",
       "previous": "abeb3a0e-3842-11ea-9fe0-0242ac120002-21-fe84-dbad-2eac-2ade-e531-bf23-dccf-b10e-db36-f718"
      }
     ],
     "next": "ac72f38a-85a8-11ec-b907-6b42dc3e1973-9-8659-7267-5bcb-0bd5-bf73-223a-ec1f-829e-860c",
     "previous": "abeb3a0e-3842-11ea-9fe0-0242ac120002-22-dbad-2eac-2ade-e531-bf23-dccf-b10e-db36-f718-7b69"
    }
   },
   "source": [
    "# 各種パラメータの決定"
   ]
  },
  {
   "cell_type": "markdown",
   "id": "8c54b7d7",
   "metadata": {
    "lc_cell_meme": {
     "current": "ac72f38a-85a8-11ec-b907-6b42dc3e1973-9-8659-7267-5bcb-0bd5-bf73-223a-ec1f-829e-860c",
     "history": [
      {
       "current": "ac72f38a-85a8-11ec-b907-6b42dc3e1973-1-8659",
       "next": "15e6c9bc-85a3-11ec-b1c5-6b42dc3e1973",
       "previous": "159dd9b8-0f92-11ec-95ec-c7638f7e44c5-2-ec7b-3d10"
      },
      {
       "current": "ac72f38a-85a8-11ec-b907-6b42dc3e1973-2-8659-7267",
       "next": "15e6c9bc-85a3-11ec-b1c5-6b42dc3e1973-1-779b",
       "previous": "159dd9b8-0f92-11ec-95ec-c7638f7e44c5-3-ec7b-3d10-359f"
      },
      {
       "current": "ac72f38a-85a8-11ec-b907-6b42dc3e1973-3-8659-7267-5bcb",
       "next": "15e6c9bc-85a3-11ec-b1c5-6b42dc3e1973-2-779b-88d6",
       "previous": "159dd9b8-0f92-11ec-95ec-c7638f7e44c5-4-ec7b-3d10-359f-a0ee"
      },
      {
       "current": "ac72f38a-85a8-11ec-b907-6b42dc3e1973-4-8659-7267-5bcb-0bd5",
       "next": "15e6c9bc-85a3-11ec-b1c5-6b42dc3e1973-3-779b-88d6-1aeb",
       "previous": "159dd9b8-0f92-11ec-95ec-c7638f7e44c5-5-ec7b-3d10-359f-a0ee-68c1"
      },
      {
       "current": "ac72f38a-85a8-11ec-b907-6b42dc3e1973-5-8659-7267-5bcb-0bd5-bf73",
       "next": "15e6c9bc-85a3-11ec-b1c5-6b42dc3e1973-4-779b-88d6-1aeb-8a0d",
       "previous": "159dd9b8-0f92-11ec-95ec-c7638f7e44c5-6-ec7b-3d10-359f-a0ee-68c1-c824"
      },
      {
       "current": "ac72f38a-85a8-11ec-b907-6b42dc3e1973-6-8659-7267-5bcb-0bd5-bf73-223a",
       "next": "15e6c9bc-85a3-11ec-b1c5-6b42dc3e1973-5-779b-88d6-1aeb-8a0d-46ff",
       "previous": "159dd9b8-0f92-11ec-95ec-c7638f7e44c5-7-ec7b-3d10-359f-a0ee-68c1-c824-cb9f"
      },
      {
       "current": "ac72f38a-85a8-11ec-b907-6b42dc3e1973-7-8659-7267-5bcb-0bd5-bf73-223a-ec1f",
       "next": "15e6c9bc-85a3-11ec-b1c5-6b42dc3e1973-6-779b-88d6-1aeb-8a0d-46ff-ece6",
       "previous": "159dd9b8-0f92-11ec-95ec-c7638f7e44c5-8-ec7b-3d10-359f-a0ee-68c1-c824-cb9f-635a"
      },
      {
       "current": "ac72f38a-85a8-11ec-b907-6b42dc3e1973-8-8659-7267-5bcb-0bd5-bf73-223a-ec1f-829e",
       "next": "15e6c9bc-85a3-11ec-b1c5-6b42dc3e1973-7-779b-88d6-1aeb-8a0d-46ff-ece6-515a",
       "previous": "159dd9b8-0f92-11ec-95ec-c7638f7e44c5-9-ec7b-3d10-359f-a0ee-68c1-c824-cb9f-635a-f70a"
      },
      {
       "current": "ac72f38a-85a8-11ec-b907-6b42dc3e1973-9-8659-7267-5bcb-0bd5-bf73-223a-ec1f-829e-860c",
       "next": "15e6c9bc-85a3-11ec-b1c5-6b42dc3e1973-8-779b-88d6-1aeb-8a0d-46ff-ece6-515a-5236",
       "previous": "159dd9b8-0f92-11ec-95ec-c7638f7e44c5-10-ec7b-3d10-359f-a0ee-68c1-c824-cb9f-635a-f70a-1673"
      }
     ],
     "next": "15e6c9bc-85a3-11ec-b1c5-6b42dc3e1973-9-779b-88d6-1aeb-8a0d-46ff-ece6-515a-5236-186f",
     "previous": "159dd9b8-0f92-11ec-95ec-c7638f7e44c5-11-3d10-359f-a0ee-68c1-c824-cb9f-635a-f70a-1673-e031"
    }
   },
   "source": [
    "Ansibleのgroup_vars用のdictを定義"
   ]
  },
  {
   "cell_type": "code",
   "execution_count": null,
   "id": "61bde753",
   "metadata": {
    "lc_cell_meme": {
     "current": "15e6c9bc-85a3-11ec-b1c5-6b42dc3e1973-9-779b-88d6-1aeb-8a0d-46ff-ece6-515a-5236-186f",
     "history": [
      {
       "current": "15e6c9bc-85a3-11ec-b1c5-6b42dc3e1973-1-779b",
       "next": "b03bc06e-85a1-11ec-86d0-6b42dc3e1973",
       "previous": "ac72f38a-85a8-11ec-b907-6b42dc3e1973"
      },
      {
       "current": "15e6c9bc-85a3-11ec-b1c5-6b42dc3e1973-2-779b-88d6",
       "next": "b03bc06e-85a1-11ec-86d0-6b42dc3e1973-1-51c8",
       "previous": "ac72f38a-85a8-11ec-b907-6b42dc3e1973-1-8659"
      },
      {
       "current": "15e6c9bc-85a3-11ec-b1c5-6b42dc3e1973-3-779b-88d6-1aeb",
       "next": "b03bc06e-85a1-11ec-86d0-6b42dc3e1973-2-51c8-bef7",
       "previous": "ac72f38a-85a8-11ec-b907-6b42dc3e1973-2-8659-7267"
      },
      {
       "current": "15e6c9bc-85a3-11ec-b1c5-6b42dc3e1973-4-779b-88d6-1aeb-8a0d",
       "next": "b03bc06e-85a1-11ec-86d0-6b42dc3e1973-3-51c8-bef7-4a66",
       "previous": "ac72f38a-85a8-11ec-b907-6b42dc3e1973-3-8659-7267-5bcb"
      },
      {
       "current": "15e6c9bc-85a3-11ec-b1c5-6b42dc3e1973-5-779b-88d6-1aeb-8a0d-46ff",
       "next": "b03bc06e-85a1-11ec-86d0-6b42dc3e1973-4-51c8-bef7-4a66-1dde",
       "previous": "ac72f38a-85a8-11ec-b907-6b42dc3e1973-4-8659-7267-5bcb-0bd5"
      },
      {
       "current": "15e6c9bc-85a3-11ec-b1c5-6b42dc3e1973-6-779b-88d6-1aeb-8a0d-46ff-ece6",
       "next": "b03bc06e-85a1-11ec-86d0-6b42dc3e1973-5-51c8-bef7-4a66-1dde-b268",
       "previous": "ac72f38a-85a8-11ec-b907-6b42dc3e1973-5-8659-7267-5bcb-0bd5-bf73"
      },
      {
       "current": "15e6c9bc-85a3-11ec-b1c5-6b42dc3e1973-7-779b-88d6-1aeb-8a0d-46ff-ece6-515a",
       "next": "b03bc06e-85a1-11ec-86d0-6b42dc3e1973-6-51c8-bef7-4a66-1dde-b268-d9a3",
       "previous": "ac72f38a-85a8-11ec-b907-6b42dc3e1973-6-8659-7267-5bcb-0bd5-bf73-223a"
      },
      {
       "current": "15e6c9bc-85a3-11ec-b1c5-6b42dc3e1973-8-779b-88d6-1aeb-8a0d-46ff-ece6-515a-5236",
       "next": "b03bc06e-85a1-11ec-86d0-6b42dc3e1973-7-51c8-bef7-4a66-1dde-b268-d9a3-a19c",
       "previous": "ac72f38a-85a8-11ec-b907-6b42dc3e1973-7-8659-7267-5bcb-0bd5-bf73-223a-ec1f"
      },
      {
       "current": "15e6c9bc-85a3-11ec-b1c5-6b42dc3e1973-9-779b-88d6-1aeb-8a0d-46ff-ece6-515a-5236-186f",
       "next": "b03bc06e-85a1-11ec-86d0-6b42dc3e1973-8-51c8-bef7-4a66-1dde-b268-d9a3-a19c-f6bf",
       "previous": "ac72f38a-85a8-11ec-b907-6b42dc3e1973-8-8659-7267-5bcb-0bd5-bf73-223a-ec1f-829e"
      }
     ],
     "next": "b03bc06e-85a1-11ec-86d0-6b42dc3e1973-9-51c8-bef7-4a66-1dde-b268-d9a3-a19c-f6bf-f129",
     "previous": "ac72f38a-85a8-11ec-b907-6b42dc3e1973-9-8659-7267-5bcb-0bd5-bf73-223a-ec1f-829e-860c"
    }
   },
   "outputs": [],
   "source": [
    "group_vars = {}"
   ]
  },
  {
   "cell_type": "markdown",
   "id": "790ef4dd",
   "metadata": {
    "lc_cell_meme": {
     "current": "b03bc06e-85a1-11ec-86d0-6b42dc3e1973-9-51c8-bef7-4a66-1dde-b268-d9a3-a19c-f6bf-f129",
     "history": [
      {
       "current": "b03bc06e-85a1-11ec-86d0-6b42dc3e1973-1-51c8",
       "next": "ebd3ab5f-0f92-11ec-bd3a-c7638f7e44c5-2-2eff-10ac",
       "previous": "15e6c9bc-85a3-11ec-b1c5-6b42dc3e1973"
      },
      {
       "current": "b03bc06e-85a1-11ec-86d0-6b42dc3e1973-2-51c8-bef7",
       "next": "ebd3ab5f-0f92-11ec-bd3a-c7638f7e44c5-3-2eff-10ac-9aba",
       "previous": "15e6c9bc-85a3-11ec-b1c5-6b42dc3e1973-1-779b"
      },
      {
       "current": "b03bc06e-85a1-11ec-86d0-6b42dc3e1973-3-51c8-bef7-4a66",
       "next": "ebd3ab5f-0f92-11ec-bd3a-c7638f7e44c5-4-2eff-10ac-9aba-c388",
       "previous": "15e6c9bc-85a3-11ec-b1c5-6b42dc3e1973-2-779b-88d6"
      },
      {
       "current": "b03bc06e-85a1-11ec-86d0-6b42dc3e1973-4-51c8-bef7-4a66-1dde",
       "next": "ebd3ab5f-0f92-11ec-bd3a-c7638f7e44c5-5-2eff-10ac-9aba-c388-4703",
       "previous": "15e6c9bc-85a3-11ec-b1c5-6b42dc3e1973-3-779b-88d6-1aeb"
      },
      {
       "current": "b03bc06e-85a1-11ec-86d0-6b42dc3e1973-5-51c8-bef7-4a66-1dde-b268",
       "next": "ebd3ab5f-0f92-11ec-bd3a-c7638f7e44c5-6-2eff-10ac-9aba-c388-4703-0517",
       "previous": "15e6c9bc-85a3-11ec-b1c5-6b42dc3e1973-4-779b-88d6-1aeb-8a0d"
      },
      {
       "current": "b03bc06e-85a1-11ec-86d0-6b42dc3e1973-6-51c8-bef7-4a66-1dde-b268-d9a3",
       "next": "ebd3ab5f-0f92-11ec-bd3a-c7638f7e44c5-7-2eff-10ac-9aba-c388-4703-0517-3759",
       "previous": "15e6c9bc-85a3-11ec-b1c5-6b42dc3e1973-5-779b-88d6-1aeb-8a0d-46ff"
      },
      {
       "current": "b03bc06e-85a1-11ec-86d0-6b42dc3e1973-7-51c8-bef7-4a66-1dde-b268-d9a3-a19c",
       "next": "ebd3ab5f-0f92-11ec-bd3a-c7638f7e44c5-8-2eff-10ac-9aba-c388-4703-0517-3759-f6a9",
       "previous": "15e6c9bc-85a3-11ec-b1c5-6b42dc3e1973-6-779b-88d6-1aeb-8a0d-46ff-ece6"
      },
      {
       "current": "b03bc06e-85a1-11ec-86d0-6b42dc3e1973-8-51c8-bef7-4a66-1dde-b268-d9a3-a19c-f6bf",
       "next": "ebd3ab5f-0f92-11ec-bd3a-c7638f7e44c5-9-2eff-10ac-9aba-c388-4703-0517-3759-f6a9-678e",
       "previous": "15e6c9bc-85a3-11ec-b1c5-6b42dc3e1973-7-779b-88d6-1aeb-8a0d-46ff-ece6-515a"
      },
      {
       "current": "b03bc06e-85a1-11ec-86d0-6b42dc3e1973-9-51c8-bef7-4a66-1dde-b268-d9a3-a19c-f6bf-f129",
       "next": "ebd3ab5f-0f92-11ec-bd3a-c7638f7e44c5-10-2eff-10ac-9aba-c388-4703-0517-3759-f6a9-678e-ba9f",
       "previous": "15e6c9bc-85a3-11ec-b1c5-6b42dc3e1973-8-779b-88d6-1aeb-8a0d-46ff-ece6-515a-5236"
      }
     ],
     "next": "ebd3ab5f-0f92-11ec-bd3a-c7638f7e44c5-11-10ac-9aba-c388-4703-0517-3759-f6a9-678e-ba9f-602e",
     "previous": "15e6c9bc-85a3-11ec-b1c5-6b42dc3e1973-9-779b-88d6-1aeb-8a0d-46ff-ece6-515a-5236-186f"
    }
   },
   "source": [
    "## Private IPアドレスの設定"
   ]
  },
  {
   "cell_type": "markdown",
   "id": "6ef6bf87",
   "metadata": {
    "lc_cell_meme": {
     "current": "ebd3ab5f-0f92-11ec-bd3a-c7638f7e44c5-11-10ac-9aba-c388-4703-0517-3759-f6a9-678e-ba9f-602e",
     "history": [
      {
       "current": "ebd3ab5f-0f92-11ec-bd3a-c7638f7e44c5-3-2eff-10ac-9aba",
       "next": "ebd3acaa-0f92-11ec-943d-c7638f7e44c5-2-fc05-067a",
       "previous": "b03bc06e-85a1-11ec-86d0-6b42dc3e1973"
      },
      {
       "current": "ebd3ab5f-0f92-11ec-bd3a-c7638f7e44c5-4-2eff-10ac-9aba-c388",
       "next": "ebd3acaa-0f92-11ec-943d-c7638f7e44c5-3-fc05-067a-8676",
       "previous": "b03bc06e-85a1-11ec-86d0-6b42dc3e1973-1-51c8"
      },
      {
       "current": "ebd3ab5f-0f92-11ec-bd3a-c7638f7e44c5-5-2eff-10ac-9aba-c388-4703",
       "next": "ebd3acaa-0f92-11ec-943d-c7638f7e44c5-4-fc05-067a-8676-0db9",
       "previous": "b03bc06e-85a1-11ec-86d0-6b42dc3e1973-2-51c8-bef7"
      },
      {
       "current": "ebd3ab5f-0f92-11ec-bd3a-c7638f7e44c5-6-2eff-10ac-9aba-c388-4703-0517",
       "next": "ebd3acaa-0f92-11ec-943d-c7638f7e44c5-5-fc05-067a-8676-0db9-6f6a",
       "previous": "b03bc06e-85a1-11ec-86d0-6b42dc3e1973-3-51c8-bef7-4a66"
      },
      {
       "current": "ebd3ab5f-0f92-11ec-bd3a-c7638f7e44c5-7-2eff-10ac-9aba-c388-4703-0517-3759",
       "next": "ebd3acaa-0f92-11ec-943d-c7638f7e44c5-6-fc05-067a-8676-0db9-6f6a-8462",
       "previous": "b03bc06e-85a1-11ec-86d0-6b42dc3e1973-4-51c8-bef7-4a66-1dde"
      },
      {
       "current": "ebd3ab5f-0f92-11ec-bd3a-c7638f7e44c5-8-2eff-10ac-9aba-c388-4703-0517-3759-f6a9",
       "next": "ebd3acaa-0f92-11ec-943d-c7638f7e44c5-7-fc05-067a-8676-0db9-6f6a-8462-8232",
       "previous": "b03bc06e-85a1-11ec-86d0-6b42dc3e1973-5-51c8-bef7-4a66-1dde-b268"
      },
      {
       "current": "ebd3ab5f-0f92-11ec-bd3a-c7638f7e44c5-9-2eff-10ac-9aba-c388-4703-0517-3759-f6a9-678e",
       "next": "ebd3acaa-0f92-11ec-943d-c7638f7e44c5-8-fc05-067a-8676-0db9-6f6a-8462-8232-7849",
       "previous": "b03bc06e-85a1-11ec-86d0-6b42dc3e1973-6-51c8-bef7-4a66-1dde-b268-d9a3"
      },
      {
       "current": "ebd3ab5f-0f92-11ec-bd3a-c7638f7e44c5-10-2eff-10ac-9aba-c388-4703-0517-3759-f6a9-678e-ba9f",
       "next": "ebd3acaa-0f92-11ec-943d-c7638f7e44c5-9-fc05-067a-8676-0db9-6f6a-8462-8232-7849-a4a8",
       "previous": "b03bc06e-85a1-11ec-86d0-6b42dc3e1973-7-51c8-bef7-4a66-1dde-b268-d9a3-a19c"
      },
      {
       "current": "ebd3ab5f-0f92-11ec-bd3a-c7638f7e44c5-11-10ac-9aba-c388-4703-0517-3759-f6a9-678e-ba9f-602e",
       "next": "ebd3acaa-0f92-11ec-943d-c7638f7e44c5-10-fc05-067a-8676-0db9-6f6a-8462-8232-7849-a4a8-15b1",
       "previous": "b03bc06e-85a1-11ec-86d0-6b42dc3e1973-8-51c8-bef7-4a66-1dde-b268-d9a3-a19c-f6bf"
      }
     ],
     "next": "ebd3acaa-0f92-11ec-943d-c7638f7e44c5-11-067a-8676-0db9-6f6a-8462-8232-7849-a4a8-15b1-0229",
     "previous": "b03bc06e-85a1-11ec-86d0-6b42dc3e1973-9-51c8-bef7-4a66-1dde-b268-d9a3-a19c-f6bf-f129"
    }
   },
   "source": [
    "サーバーに関して、**NFSとDocker Swarmの通信を別のIPアドレスで実施する場合**は以下のように対応表を定義してください。\n",
    "指定されない場合は、Inventoryで定義されたIPでNFSとDocker Swarmの通信を行います。\n",
    "\n",
    "```\n",
    "servicenet_ips = {\n",
    "  'Inventoryで定義されたIP': 'NFSとDocker Swarmの通信のために使用したいIP'\n",
    "}\n",
    "```"
   ]
  },
  {
   "cell_type": "code",
   "execution_count": null,
   "id": "578a355c",
   "metadata": {
    "lc_cell_meme": {
     "current": "ebd3acaa-0f92-11ec-943d-c7638f7e44c5-11-067a-8676-0db9-6f6a-8462-8232-7849-a4a8-15b1-0229",
     "history": [
      {
       "current": "ebd3acaa-0f92-11ec-943d-c7638f7e44c5-3-fc05-067a-8676",
       "next": "335b9f06-0f93-11ec-a736-c7638f7e44c5-2-8a7a-a71e",
       "previous": "ebd3ab5f-0f92-11ec-bd3a-c7638f7e44c5-2-2eff-10ac"
      },
      {
       "current": "ebd3acaa-0f92-11ec-943d-c7638f7e44c5-4-fc05-067a-8676-0db9",
       "next": "335b9f06-0f93-11ec-a736-c7638f7e44c5-3-8a7a-a71e-6968",
       "previous": "ebd3ab5f-0f92-11ec-bd3a-c7638f7e44c5-3-2eff-10ac-9aba"
      },
      {
       "current": "ebd3acaa-0f92-11ec-943d-c7638f7e44c5-5-fc05-067a-8676-0db9-6f6a",
       "next": "335b9f06-0f93-11ec-a736-c7638f7e44c5-4-8a7a-a71e-6968-f2ba",
       "previous": "ebd3ab5f-0f92-11ec-bd3a-c7638f7e44c5-4-2eff-10ac-9aba-c388"
      },
      {
       "current": "ebd3acaa-0f92-11ec-943d-c7638f7e44c5-6-fc05-067a-8676-0db9-6f6a-8462",
       "next": "335b9f06-0f93-11ec-a736-c7638f7e44c5-5-8a7a-a71e-6968-f2ba-f1d9",
       "previous": "ebd3ab5f-0f92-11ec-bd3a-c7638f7e44c5-5-2eff-10ac-9aba-c388-4703"
      },
      {
       "current": "ebd3acaa-0f92-11ec-943d-c7638f7e44c5-7-fc05-067a-8676-0db9-6f6a-8462-8232",
       "next": "335b9f06-0f93-11ec-a736-c7638f7e44c5-6-8a7a-a71e-6968-f2ba-f1d9-6ec0",
       "previous": "ebd3ab5f-0f92-11ec-bd3a-c7638f7e44c5-6-2eff-10ac-9aba-c388-4703-0517"
      },
      {
       "current": "ebd3acaa-0f92-11ec-943d-c7638f7e44c5-8-fc05-067a-8676-0db9-6f6a-8462-8232-7849",
       "next": "335b9f06-0f93-11ec-a736-c7638f7e44c5-7-8a7a-a71e-6968-f2ba-f1d9-6ec0-babc",
       "previous": "ebd3ab5f-0f92-11ec-bd3a-c7638f7e44c5-7-2eff-10ac-9aba-c388-4703-0517-3759"
      },
      {
       "current": "ebd3acaa-0f92-11ec-943d-c7638f7e44c5-9-fc05-067a-8676-0db9-6f6a-8462-8232-7849-a4a8",
       "next": "335b9f06-0f93-11ec-a736-c7638f7e44c5-8-8a7a-a71e-6968-f2ba-f1d9-6ec0-babc-8ee8",
       "previous": "ebd3ab5f-0f92-11ec-bd3a-c7638f7e44c5-8-2eff-10ac-9aba-c388-4703-0517-3759-f6a9"
      },
      {
       "current": "ebd3acaa-0f92-11ec-943d-c7638f7e44c5-10-fc05-067a-8676-0db9-6f6a-8462-8232-7849-a4a8-15b1",
       "next": "335b9f06-0f93-11ec-a736-c7638f7e44c5-9-8a7a-a71e-6968-f2ba-f1d9-6ec0-babc-8ee8-bd09",
       "previous": "ebd3ab5f-0f92-11ec-bd3a-c7638f7e44c5-9-2eff-10ac-9aba-c388-4703-0517-3759-f6a9-678e"
      },
      {
       "current": "ebd3acaa-0f92-11ec-943d-c7638f7e44c5-11-067a-8676-0db9-6f6a-8462-8232-7849-a4a8-15b1-0229",
       "next": "335b9f06-0f93-11ec-a736-c7638f7e44c5-10-8a7a-a71e-6968-f2ba-f1d9-6ec0-babc-8ee8-bd09-bdeb",
       "previous": "ebd3ab5f-0f92-11ec-bd3a-c7638f7e44c5-10-2eff-10ac-9aba-c388-4703-0517-3759-f6a9-678e-ba9f"
      }
     ],
     "next": "335b9f06-0f93-11ec-a736-c7638f7e44c5-11-a71e-6968-f2ba-f1d9-6ec0-babc-8ee8-bd09-bdeb-310d",
     "previous": "ebd3ab5f-0f92-11ec-bd3a-c7638f7e44c5-11-10ac-9aba-c388-4703-0517-3759-f6a9-678e-ba9f-602e"
    }
   },
   "outputs": [],
   "source": [
    "servicenet_ips = {\n",
    "}"
   ]
  },
  {
   "cell_type": "markdown",
   "id": "1ef2f48c",
   "metadata": {
    "lc_cell_meme": {
     "current": "335b9f06-0f93-11ec-a736-c7638f7e44c5-11-a71e-6968-f2ba-f1d9-6ec0-babc-8ee8-bd09-bdeb-310d",
     "history": [
      {
       "current": "335b9f06-0f93-11ec-a736-c7638f7e44c5-3-8a7a-a71e-6968",
       "next": "335ba041-0f93-11ec-80bf-c7638f7e44c5-2-9017-3d1d",
       "previous": "ebd3acaa-0f92-11ec-943d-c7638f7e44c5-2-fc05-067a"
      },
      {
       "current": "335b9f06-0f93-11ec-a736-c7638f7e44c5-4-8a7a-a71e-6968-f2ba",
       "next": "335ba041-0f93-11ec-80bf-c7638f7e44c5-3-9017-3d1d-731b",
       "previous": "ebd3acaa-0f92-11ec-943d-c7638f7e44c5-3-fc05-067a-8676"
      },
      {
       "current": "335b9f06-0f93-11ec-a736-c7638f7e44c5-5-8a7a-a71e-6968-f2ba-f1d9",
       "next": "335ba041-0f93-11ec-80bf-c7638f7e44c5-4-9017-3d1d-731b-98b9",
       "previous": "ebd3acaa-0f92-11ec-943d-c7638f7e44c5-4-fc05-067a-8676-0db9"
      },
      {
       "current": "335b9f06-0f93-11ec-a736-c7638f7e44c5-6-8a7a-a71e-6968-f2ba-f1d9-6ec0",
       "next": "335ba041-0f93-11ec-80bf-c7638f7e44c5-5-9017-3d1d-731b-98b9-2aa6",
       "previous": "ebd3acaa-0f92-11ec-943d-c7638f7e44c5-5-fc05-067a-8676-0db9-6f6a"
      },
      {
       "current": "335b9f06-0f93-11ec-a736-c7638f7e44c5-7-8a7a-a71e-6968-f2ba-f1d9-6ec0-babc",
       "next": "335ba041-0f93-11ec-80bf-c7638f7e44c5-6-9017-3d1d-731b-98b9-2aa6-be0e",
       "previous": "ebd3acaa-0f92-11ec-943d-c7638f7e44c5-6-fc05-067a-8676-0db9-6f6a-8462"
      },
      {
       "current": "335b9f06-0f93-11ec-a736-c7638f7e44c5-8-8a7a-a71e-6968-f2ba-f1d9-6ec0-babc-8ee8",
       "next": "335ba041-0f93-11ec-80bf-c7638f7e44c5-7-9017-3d1d-731b-98b9-2aa6-be0e-dd57",
       "previous": "ebd3acaa-0f92-11ec-943d-c7638f7e44c5-7-fc05-067a-8676-0db9-6f6a-8462-8232"
      },
      {
       "current": "335b9f06-0f93-11ec-a736-c7638f7e44c5-9-8a7a-a71e-6968-f2ba-f1d9-6ec0-babc-8ee8-bd09",
       "next": "335ba041-0f93-11ec-80bf-c7638f7e44c5-8-9017-3d1d-731b-98b9-2aa6-be0e-dd57-95b5",
       "previous": "ebd3acaa-0f92-11ec-943d-c7638f7e44c5-8-fc05-067a-8676-0db9-6f6a-8462-8232-7849"
      },
      {
       "current": "335b9f06-0f93-11ec-a736-c7638f7e44c5-10-8a7a-a71e-6968-f2ba-f1d9-6ec0-babc-8ee8-bd09-bdeb",
       "next": "335ba041-0f93-11ec-80bf-c7638f7e44c5-9-9017-3d1d-731b-98b9-2aa6-be0e-dd57-95b5-9aa2",
       "previous": "ebd3acaa-0f92-11ec-943d-c7638f7e44c5-9-fc05-067a-8676-0db9-6f6a-8462-8232-7849-a4a8"
      },
      {
       "current": "335b9f06-0f93-11ec-a736-c7638f7e44c5-11-a71e-6968-f2ba-f1d9-6ec0-babc-8ee8-bd09-bdeb-310d",
       "next": "335ba041-0f93-11ec-80bf-c7638f7e44c5-10-9017-3d1d-731b-98b9-2aa6-be0e-dd57-95b5-9aa2-0301",
       "previous": "ebd3acaa-0f92-11ec-943d-c7638f7e44c5-10-fc05-067a-8676-0db9-6f6a-8462-8232-7849-a4a8-15b1"
      }
     ],
     "next": "335ba041-0f93-11ec-80bf-c7638f7e44c5-11-3d1d-731b-98b9-2aa6-be0e-dd57-95b5-9aa2-0301-4429",
     "previous": "ebd3acaa-0f92-11ec-943d-c7638f7e44c5-11-067a-8676-0db9-6f6a-8462-8232-7849-a4a8-15b1-0229"
    }
   },
   "source": [
    "IPアドレスがリスト中にあるかどうかを検証する。失敗する場合は↑の対応表を修正する。"
   ]
  },
  {
   "cell_type": "code",
   "execution_count": null,
   "id": "71b79f46",
   "metadata": {
    "lc_cell_meme": {
     "current": "335ba041-0f93-11ec-80bf-c7638f7e44c5-11-3d1d-731b-98b9-2aa6-be0e-dd57-95b5-9aa2-0301-4429",
     "history": [
      {
       "current": "335ba041-0f93-11ec-80bf-c7638f7e44c5-3-9017-3d1d-731b",
       "next": "159ddb03-0f92-11ec-bb53-c7638f7e44c5-2-15ef-b9f3",
       "previous": "335b9f06-0f93-11ec-a736-c7638f7e44c5-2-8a7a-a71e"
      },
      {
       "current": "335ba041-0f93-11ec-80bf-c7638f7e44c5-4-9017-3d1d-731b-98b9",
       "next": "159ddb03-0f92-11ec-bb53-c7638f7e44c5-3-15ef-b9f3-820e",
       "previous": "335b9f06-0f93-11ec-a736-c7638f7e44c5-3-8a7a-a71e-6968"
      },
      {
       "current": "335ba041-0f93-11ec-80bf-c7638f7e44c5-5-9017-3d1d-731b-98b9-2aa6",
       "next": "159ddb03-0f92-11ec-bb53-c7638f7e44c5-4-15ef-b9f3-820e-f0c5",
       "previous": "335b9f06-0f93-11ec-a736-c7638f7e44c5-4-8a7a-a71e-6968-f2ba"
      },
      {
       "current": "335ba041-0f93-11ec-80bf-c7638f7e44c5-6-9017-3d1d-731b-98b9-2aa6-be0e",
       "next": "159ddb03-0f92-11ec-bb53-c7638f7e44c5-5-15ef-b9f3-820e-f0c5-0974",
       "previous": "335b9f06-0f93-11ec-a736-c7638f7e44c5-5-8a7a-a71e-6968-f2ba-f1d9"
      },
      {
       "current": "335ba041-0f93-11ec-80bf-c7638f7e44c5-7-9017-3d1d-731b-98b9-2aa6-be0e-dd57",
       "next": "159ddb03-0f92-11ec-bb53-c7638f7e44c5-6-15ef-b9f3-820e-f0c5-0974-9860",
       "previous": "335b9f06-0f93-11ec-a736-c7638f7e44c5-6-8a7a-a71e-6968-f2ba-f1d9-6ec0"
      },
      {
       "current": "335ba041-0f93-11ec-80bf-c7638f7e44c5-8-9017-3d1d-731b-98b9-2aa6-be0e-dd57-95b5",
       "next": "159ddb03-0f92-11ec-bb53-c7638f7e44c5-7-15ef-b9f3-820e-f0c5-0974-9860-b6ce",
       "previous": "335b9f06-0f93-11ec-a736-c7638f7e44c5-7-8a7a-a71e-6968-f2ba-f1d9-6ec0-babc"
      },
      {
       "current": "335ba041-0f93-11ec-80bf-c7638f7e44c5-9-9017-3d1d-731b-98b9-2aa6-be0e-dd57-95b5-9aa2",
       "next": "159ddb03-0f92-11ec-bb53-c7638f7e44c5-8-15ef-b9f3-820e-f0c5-0974-9860-b6ce-85ba",
       "previous": "335b9f06-0f93-11ec-a736-c7638f7e44c5-8-8a7a-a71e-6968-f2ba-f1d9-6ec0-babc-8ee8"
      },
      {
       "current": "335ba041-0f93-11ec-80bf-c7638f7e44c5-10-9017-3d1d-731b-98b9-2aa6-be0e-dd57-95b5-9aa2-0301",
       "next": "159ddb03-0f92-11ec-bb53-c7638f7e44c5-9-15ef-b9f3-820e-f0c5-0974-9860-b6ce-85ba-b5fd",
       "previous": "335b9f06-0f93-11ec-a736-c7638f7e44c5-9-8a7a-a71e-6968-f2ba-f1d9-6ec0-babc-8ee8-bd09"
      },
      {
       "current": "335ba041-0f93-11ec-80bf-c7638f7e44c5-11-3d1d-731b-98b9-2aa6-be0e-dd57-95b5-9aa2-0301-4429",
       "next": "159ddb03-0f92-11ec-bb53-c7638f7e44c5-10-15ef-b9f3-820e-f0c5-0974-9860-b6ce-85ba-b5fd-bdca",
       "previous": "335b9f06-0f93-11ec-a736-c7638f7e44c5-10-8a7a-a71e-6968-f2ba-f1d9-6ec0-babc-8ee8-bd09-bdeb"
      }
     ],
     "next": "159ddb03-0f92-11ec-bb53-c7638f7e44c5-11-b9f3-820e-f0c5-0974-9860-b6ce-85ba-b5fd-bdca-8aaa",
     "previous": "335b9f06-0f93-11ec-a736-c7638f7e44c5-11-a71e-6968-f2ba-f1d9-6ec0-babc-8ee8-bd09-bdeb-310d"
    }
   },
   "outputs": [],
   "source": [
    "for ip in servicenet_ips.keys():\n",
    "    assert ip in ([master_server] + worker_servers + [nfs_server])"
   ]
  },
  {
   "cell_type": "markdown",
   "id": "34c16270",
   "metadata": {
    "lc_cell_meme": {
     "current": "159ddb03-0f92-11ec-bb53-c7638f7e44c5-11-b9f3-820e-f0c5-0974-9860-b6ce-85ba-b5fd-bdca-8aaa",
     "history": [
      {
       "current": "159ddb03-0f92-11ec-bb53-c7638f7e44c5-3-15ef-b9f3-820e",
       "next": "68adc201-85a1-11ec-92ce-6b42dc3e1973",
       "previous": "335ba041-0f93-11ec-80bf-c7638f7e44c5-2-9017-3d1d"
      },
      {
       "current": "159ddb03-0f92-11ec-bb53-c7638f7e44c5-4-15ef-b9f3-820e-f0c5",
       "next": "68adc201-85a1-11ec-92ce-6b42dc3e1973-1-9ef7",
       "previous": "335ba041-0f93-11ec-80bf-c7638f7e44c5-3-9017-3d1d-731b"
      },
      {
       "current": "159ddb03-0f92-11ec-bb53-c7638f7e44c5-5-15ef-b9f3-820e-f0c5-0974",
       "next": "68adc201-85a1-11ec-92ce-6b42dc3e1973-2-9ef7-18bf",
       "previous": "335ba041-0f93-11ec-80bf-c7638f7e44c5-4-9017-3d1d-731b-98b9"
      },
      {
       "current": "159ddb03-0f92-11ec-bb53-c7638f7e44c5-6-15ef-b9f3-820e-f0c5-0974-9860",
       "next": "68adc201-85a1-11ec-92ce-6b42dc3e1973-3-9ef7-18bf-e1b7",
       "previous": "335ba041-0f93-11ec-80bf-c7638f7e44c5-5-9017-3d1d-731b-98b9-2aa6"
      },
      {
       "current": "159ddb03-0f92-11ec-bb53-c7638f7e44c5-7-15ef-b9f3-820e-f0c5-0974-9860-b6ce",
       "next": "68adc201-85a1-11ec-92ce-6b42dc3e1973-4-9ef7-18bf-e1b7-d176",
       "previous": "335ba041-0f93-11ec-80bf-c7638f7e44c5-6-9017-3d1d-731b-98b9-2aa6-be0e"
      },
      {
       "current": "159ddb03-0f92-11ec-bb53-c7638f7e44c5-8-15ef-b9f3-820e-f0c5-0974-9860-b6ce-85ba",
       "next": "68adc201-85a1-11ec-92ce-6b42dc3e1973-5-9ef7-18bf-e1b7-d176-e767",
       "previous": "335ba041-0f93-11ec-80bf-c7638f7e44c5-7-9017-3d1d-731b-98b9-2aa6-be0e-dd57"
      },
      {
       "current": "159ddb03-0f92-11ec-bb53-c7638f7e44c5-9-15ef-b9f3-820e-f0c5-0974-9860-b6ce-85ba-b5fd",
       "next": "68adc201-85a1-11ec-92ce-6b42dc3e1973-6-9ef7-18bf-e1b7-d176-e767-9f5a",
       "previous": "335ba041-0f93-11ec-80bf-c7638f7e44c5-8-9017-3d1d-731b-98b9-2aa6-be0e-dd57-95b5"
      },
      {
       "current": "159ddb03-0f92-11ec-bb53-c7638f7e44c5-10-15ef-b9f3-820e-f0c5-0974-9860-b6ce-85ba-b5fd-bdca",
       "next": "68adc201-85a1-11ec-92ce-6b42dc3e1973-7-9ef7-18bf-e1b7-d176-e767-9f5a-b475",
       "previous": "335ba041-0f93-11ec-80bf-c7638f7e44c5-9-9017-3d1d-731b-98b9-2aa6-be0e-dd57-95b5-9aa2"
      },
      {
       "current": "159ddb03-0f92-11ec-bb53-c7638f7e44c5-11-b9f3-820e-f0c5-0974-9860-b6ce-85ba-b5fd-bdca-8aaa",
       "next": "68adc201-85a1-11ec-92ce-6b42dc3e1973-8-9ef7-18bf-e1b7-d176-e767-9f5a-b475-9718",
       "previous": "335ba041-0f93-11ec-80bf-c7638f7e44c5-10-9017-3d1d-731b-98b9-2aa6-be0e-dd57-95b5-9aa2-0301"
      }
     ],
     "next": "68adc201-85a1-11ec-92ce-6b42dc3e1973-9-9ef7-18bf-e1b7-d176-e767-9f5a-b475-9718-cf4a",
     "previous": "335ba041-0f93-11ec-80bf-c7638f7e44c5-11-3d1d-731b-98b9-2aa6-be0e-dd57-95b5-9aa2-0301-4429"
    }
   },
   "source": [
    "## NFSパラメータの決定"
   ]
  },
  {
   "cell_type": "markdown",
   "id": "3831099a",
   "metadata": {
    "lc_cell_meme": {
     "current": "68adc201-85a1-11ec-92ce-6b42dc3e1973-9-9ef7-18bf-e1b7-d176-e767-9f5a-b475-9718-cf4a",
     "history": [
      {
       "current": "68adc201-85a1-11ec-92ce-6b42dc3e1973-1-9ef7",
       "next": "68adcb22-85a1-11ec-89fa-6b42dc3e1973",
       "previous": "159ddb03-0f92-11ec-bb53-c7638f7e44c5-2-15ef-b9f3"
      },
      {
       "current": "68adc201-85a1-11ec-92ce-6b42dc3e1973-2-9ef7-18bf",
       "next": "68adcb22-85a1-11ec-89fa-6b42dc3e1973-1-d655",
       "previous": "159ddb03-0f92-11ec-bb53-c7638f7e44c5-3-15ef-b9f3-820e"
      },
      {
       "current": "68adc201-85a1-11ec-92ce-6b42dc3e1973-3-9ef7-18bf-e1b7",
       "next": "68adcb22-85a1-11ec-89fa-6b42dc3e1973-2-d655-ae6b",
       "previous": "159ddb03-0f92-11ec-bb53-c7638f7e44c5-4-15ef-b9f3-820e-f0c5"
      },
      {
       "current": "68adc201-85a1-11ec-92ce-6b42dc3e1973-4-9ef7-18bf-e1b7-d176",
       "next": "68adcb22-85a1-11ec-89fa-6b42dc3e1973-3-d655-ae6b-e54c",
       "previous": "159ddb03-0f92-11ec-bb53-c7638f7e44c5-5-15ef-b9f3-820e-f0c5-0974"
      },
      {
       "current": "68adc201-85a1-11ec-92ce-6b42dc3e1973-5-9ef7-18bf-e1b7-d176-e767",
       "next": "68adcb22-85a1-11ec-89fa-6b42dc3e1973-4-d655-ae6b-e54c-6d85",
       "previous": "159ddb03-0f92-11ec-bb53-c7638f7e44c5-6-15ef-b9f3-820e-f0c5-0974-9860"
      },
      {
       "current": "68adc201-85a1-11ec-92ce-6b42dc3e1973-6-9ef7-18bf-e1b7-d176-e767-9f5a",
       "next": "68adcb22-85a1-11ec-89fa-6b42dc3e1973-5-d655-ae6b-e54c-6d85-aa54",
       "previous": "159ddb03-0f92-11ec-bb53-c7638f7e44c5-7-15ef-b9f3-820e-f0c5-0974-9860-b6ce"
      },
      {
       "current": "68adc201-85a1-11ec-92ce-6b42dc3e1973-7-9ef7-18bf-e1b7-d176-e767-9f5a-b475",
       "next": "68adcb22-85a1-11ec-89fa-6b42dc3e1973-6-d655-ae6b-e54c-6d85-aa54-7e40",
       "previous": "159ddb03-0f92-11ec-bb53-c7638f7e44c5-8-15ef-b9f3-820e-f0c5-0974-9860-b6ce-85ba"
      },
      {
       "current": "68adc201-85a1-11ec-92ce-6b42dc3e1973-8-9ef7-18bf-e1b7-d176-e767-9f5a-b475-9718",
       "next": "68adcb22-85a1-11ec-89fa-6b42dc3e1973-7-d655-ae6b-e54c-6d85-aa54-7e40-ee50",
       "previous": "159ddb03-0f92-11ec-bb53-c7638f7e44c5-9-15ef-b9f3-820e-f0c5-0974-9860-b6ce-85ba-b5fd"
      },
      {
       "current": "68adc201-85a1-11ec-92ce-6b42dc3e1973-9-9ef7-18bf-e1b7-d176-e767-9f5a-b475-9718-cf4a",
       "next": "68adcb22-85a1-11ec-89fa-6b42dc3e1973-8-d655-ae6b-e54c-6d85-aa54-7e40-ee50-c1a9",
       "previous": "159ddb03-0f92-11ec-bb53-c7638f7e44c5-10-15ef-b9f3-820e-f0c5-0974-9860-b6ce-85ba-b5fd-bdca"
      }
     ],
     "next": "68adcb22-85a1-11ec-89fa-6b42dc3e1973-9-d655-ae6b-e54c-6d85-aa54-7e40-ee50-c1a9-2923",
     "previous": "159ddb03-0f92-11ec-bb53-c7638f7e44c5-11-b9f3-820e-f0c5-0974-9860-b6ce-85ba-b5fd-bdca-8aaa"
    }
   },
   "source": [
    "NFSサーバー上で、NFSボリュームとしてexportするパスを指定します。"
   ]
  },
  {
   "cell_type": "code",
   "execution_count": null,
   "id": "f3484e7a",
   "metadata": {
    "lc_cell_meme": {
     "current": "68adcb22-85a1-11ec-89fa-6b42dc3e1973-9-d655-ae6b-e54c-6d85-aa54-7e40-ee50-c1a9-2923",
     "history": [
      {
       "current": "68adcb22-85a1-11ec-89fa-6b42dc3e1973-1-d655",
       "next": "159ddb84-0f92-11ec-98dd-c7638f7e44c5-3-6ef2-d06b-228c",
       "previous": "68adc201-85a1-11ec-92ce-6b42dc3e1973"
      },
      {
       "current": "68adcb22-85a1-11ec-89fa-6b42dc3e1973-2-d655-ae6b",
       "next": "159ddb84-0f92-11ec-98dd-c7638f7e44c5-4-6ef2-d06b-228c-a248",
       "previous": "68adc201-85a1-11ec-92ce-6b42dc3e1973-1-9ef7"
      },
      {
       "current": "68adcb22-85a1-11ec-89fa-6b42dc3e1973-3-d655-ae6b-e54c",
       "next": "159ddb84-0f92-11ec-98dd-c7638f7e44c5-5-6ef2-d06b-228c-a248-acd4",
       "previous": "68adc201-85a1-11ec-92ce-6b42dc3e1973-2-9ef7-18bf"
      },
      {
       "current": "68adcb22-85a1-11ec-89fa-6b42dc3e1973-4-d655-ae6b-e54c-6d85",
       "next": "159ddb84-0f92-11ec-98dd-c7638f7e44c5-6-6ef2-d06b-228c-a248-acd4-2e3d",
       "previous": "68adc201-85a1-11ec-92ce-6b42dc3e1973-3-9ef7-18bf-e1b7"
      },
      {
       "current": "68adcb22-85a1-11ec-89fa-6b42dc3e1973-5-d655-ae6b-e54c-6d85-aa54",
       "next": "159ddb84-0f92-11ec-98dd-c7638f7e44c5-7-6ef2-d06b-228c-a248-acd4-2e3d-b905",
       "previous": "68adc201-85a1-11ec-92ce-6b42dc3e1973-4-9ef7-18bf-e1b7-d176"
      },
      {
       "current": "68adcb22-85a1-11ec-89fa-6b42dc3e1973-6-d655-ae6b-e54c-6d85-aa54-7e40",
       "next": "159ddb84-0f92-11ec-98dd-c7638f7e44c5-8-6ef2-d06b-228c-a248-acd4-2e3d-b905-8091",
       "previous": "68adc201-85a1-11ec-92ce-6b42dc3e1973-5-9ef7-18bf-e1b7-d176-e767"
      },
      {
       "current": "68adcb22-85a1-11ec-89fa-6b42dc3e1973-7-d655-ae6b-e54c-6d85-aa54-7e40-ee50",
       "next": "159ddb84-0f92-11ec-98dd-c7638f7e44c5-9-6ef2-d06b-228c-a248-acd4-2e3d-b905-8091-1819",
       "previous": "68adc201-85a1-11ec-92ce-6b42dc3e1973-6-9ef7-18bf-e1b7-d176-e767-9f5a"
      },
      {
       "current": "68adcb22-85a1-11ec-89fa-6b42dc3e1973-8-d655-ae6b-e54c-6d85-aa54-7e40-ee50-c1a9",
       "next": "159ddb84-0f92-11ec-98dd-c7638f7e44c5-10-6ef2-d06b-228c-a248-acd4-2e3d-b905-8091-1819-3e31",
       "previous": "68adc201-85a1-11ec-92ce-6b42dc3e1973-7-9ef7-18bf-e1b7-d176-e767-9f5a-b475"
      },
      {
       "current": "68adcb22-85a1-11ec-89fa-6b42dc3e1973-9-d655-ae6b-e54c-6d85-aa54-7e40-ee50-c1a9-2923",
       "next": "159ddb84-0f92-11ec-98dd-c7638f7e44c5-11-d06b-228c-a248-acd4-2e3d-b905-8091-1819-3e31-2983",
       "previous": "68adc201-85a1-11ec-92ce-6b42dc3e1973-8-9ef7-18bf-e1b7-d176-e767-9f5a-b475-9718"
      }
     ],
     "next": "159ddb84-0f92-11ec-98dd-c7638f7e44c5-12-228c-a248-acd4-2e3d-b905-8091-1819-3e31-2983-4b68",
     "previous": "68adc201-85a1-11ec-92ce-6b42dc3e1973-9-9ef7-18bf-e1b7-d176-e767-9f5a-b475-9718-cf4a"
    }
   },
   "outputs": [],
   "source": [
    "group_vars['nfspath'] = '/exported/{hubname}'.format(hubname=hubname)\n",
    "group_vars['nfspath']"
   ]
  },
  {
   "cell_type": "markdown",
   "id": "f86941bc",
   "metadata": {
    "lc_cell_meme": {
     "current": "159ddb84-0f92-11ec-98dd-c7638f7e44c5-12-228c-a248-acd4-2e3d-b905-8091-1819-3e31-2983-4b68",
     "history": [
      {
       "current": "159ddb84-0f92-11ec-98dd-c7638f7e44c5-4-6ef2-d06b-228c-a248",
       "next": "efaf0cd2-587e-11ea-bd55-0242ac120002-15-c54d-66f8-3c14-7845-c2a7-e5c0-cfb5-81b6-3fc0-c9c2",
       "previous": "68adcb22-85a1-11ec-89fa-6b42dc3e1973"
      },
      {
       "current": "159ddb84-0f92-11ec-98dd-c7638f7e44c5-5-6ef2-d06b-228c-a248-acd4",
       "next": "efaf0cd2-587e-11ea-bd55-0242ac120002-16-66f8-3c14-7845-c2a7-e5c0-cfb5-81b6-3fc0-c9c2-b2c0",
       "previous": "68adcb22-85a1-11ec-89fa-6b42dc3e1973-1-d655"
      },
      {
       "current": "159ddb84-0f92-11ec-98dd-c7638f7e44c5-6-6ef2-d06b-228c-a248-acd4-2e3d",
       "next": "efaf0cd2-587e-11ea-bd55-0242ac120002-17-3c14-7845-c2a7-e5c0-cfb5-81b6-3fc0-c9c2-b2c0-1a24",
       "previous": "68adcb22-85a1-11ec-89fa-6b42dc3e1973-2-d655-ae6b"
      },
      {
       "current": "159ddb84-0f92-11ec-98dd-c7638f7e44c5-7-6ef2-d06b-228c-a248-acd4-2e3d-b905",
       "next": "efaf0cd2-587e-11ea-bd55-0242ac120002-18-7845-c2a7-e5c0-cfb5-81b6-3fc0-c9c2-b2c0-1a24-8a92",
       "previous": "68adcb22-85a1-11ec-89fa-6b42dc3e1973-3-d655-ae6b-e54c"
      },
      {
       "current": "159ddb84-0f92-11ec-98dd-c7638f7e44c5-8-6ef2-d06b-228c-a248-acd4-2e3d-b905-8091",
       "next": "efaf0cd2-587e-11ea-bd55-0242ac120002-19-c2a7-e5c0-cfb5-81b6-3fc0-c9c2-b2c0-1a24-8a92-61f7",
       "previous": "68adcb22-85a1-11ec-89fa-6b42dc3e1973-4-d655-ae6b-e54c-6d85"
      },
      {
       "current": "159ddb84-0f92-11ec-98dd-c7638f7e44c5-9-6ef2-d06b-228c-a248-acd4-2e3d-b905-8091-1819",
       "next": "efaf0cd2-587e-11ea-bd55-0242ac120002-20-e5c0-cfb5-81b6-3fc0-c9c2-b2c0-1a24-8a92-61f7-6bc4",
       "previous": "68adcb22-85a1-11ec-89fa-6b42dc3e1973-5-d655-ae6b-e54c-6d85-aa54"
      },
      {
       "current": "159ddb84-0f92-11ec-98dd-c7638f7e44c5-10-6ef2-d06b-228c-a248-acd4-2e3d-b905-8091-1819-3e31",
       "next": "efaf0cd2-587e-11ea-bd55-0242ac120002-21-cfb5-81b6-3fc0-c9c2-b2c0-1a24-8a92-61f7-6bc4-b0de",
       "previous": "68adcb22-85a1-11ec-89fa-6b42dc3e1973-6-d655-ae6b-e54c-6d85-aa54-7e40"
      },
      {
       "current": "159ddb84-0f92-11ec-98dd-c7638f7e44c5-11-d06b-228c-a248-acd4-2e3d-b905-8091-1819-3e31-2983",
       "next": "efaf0cd2-587e-11ea-bd55-0242ac120002-22-81b6-3fc0-c9c2-b2c0-1a24-8a92-61f7-6bc4-b0de-9f6f",
       "previous": "68adcb22-85a1-11ec-89fa-6b42dc3e1973-7-d655-ae6b-e54c-6d85-aa54-7e40-ee50"
      },
      {
       "current": "159ddb84-0f92-11ec-98dd-c7638f7e44c5-12-228c-a248-acd4-2e3d-b905-8091-1819-3e31-2983-4b68",
       "next": "efaf0cd2-587e-11ea-bd55-0242ac120002-23-3fc0-c9c2-b2c0-1a24-8a92-61f7-6bc4-b0de-9f6f-bc18",
       "previous": "68adcb22-85a1-11ec-89fa-6b42dc3e1973-8-d655-ae6b-e54c-6d85-aa54-7e40-ee50-c1a9"
      }
     ],
     "next": "efaf0cd2-587e-11ea-bd55-0242ac120002-24-c9c2-b2c0-1a24-8a92-61f7-6bc4-b0de-9f6f-bc18-6f22",
     "previous": "68adcb22-85a1-11ec-89fa-6b42dc3e1973-9-d655-ae6b-e54c-6d85-aa54-7e40-ee50-c1a9-2923"
    }
   },
   "source": [
    "## CoursewareHubパラメータの決定"
   ]
  },
  {
   "cell_type": "markdown",
   "id": "17c6bdbe",
   "metadata": {
    "lc_cell_meme": {
     "current": "efaf0cd2-587e-11ea-bd55-0242ac120002-24-c9c2-b2c0-1a24-8a92-61f7-6bc4-b0de-9f6f-bc18-6f22",
     "history": [
      {
       "current": "efaf0cd2-587e-11ea-bd55-0242ac120002-16-66f8-3c14-7845-c2a7-e5c0-cfb5-81b6-3fc0-c9c2-b2c0",
       "next": "0e19b512-b23e-11e7-a38f-0242ac120002-17-65d3-0fdb-97c4-3ff5-5217-ddc4-7f00-d89a-3b96-823d",
       "previous": "159ddb84-0f92-11ec-98dd-c7638f7e44c5-3-6ef2-d06b-228c"
      },
      {
       "current": "efaf0cd2-587e-11ea-bd55-0242ac120002-17-3c14-7845-c2a7-e5c0-cfb5-81b6-3fc0-c9c2-b2c0-1a24",
       "next": "0e19b512-b23e-11e7-a38f-0242ac120002-18-0fdb-97c4-3ff5-5217-ddc4-7f00-d89a-3b96-823d-29f2",
       "previous": "159ddb84-0f92-11ec-98dd-c7638f7e44c5-4-6ef2-d06b-228c-a248"
      },
      {
       "current": "efaf0cd2-587e-11ea-bd55-0242ac120002-18-7845-c2a7-e5c0-cfb5-81b6-3fc0-c9c2-b2c0-1a24-8a92",
       "next": "0e19b512-b23e-11e7-a38f-0242ac120002-19-97c4-3ff5-5217-ddc4-7f00-d89a-3b96-823d-29f2-19f6",
       "previous": "159ddb84-0f92-11ec-98dd-c7638f7e44c5-5-6ef2-d06b-228c-a248-acd4"
      },
      {
       "current": "efaf0cd2-587e-11ea-bd55-0242ac120002-19-c2a7-e5c0-cfb5-81b6-3fc0-c9c2-b2c0-1a24-8a92-61f7",
       "next": "0e19b512-b23e-11e7-a38f-0242ac120002-20-3ff5-5217-ddc4-7f00-d89a-3b96-823d-29f2-19f6-2d5a",
       "previous": "159ddb84-0f92-11ec-98dd-c7638f7e44c5-6-6ef2-d06b-228c-a248-acd4-2e3d"
      },
      {
       "current": "efaf0cd2-587e-11ea-bd55-0242ac120002-20-e5c0-cfb5-81b6-3fc0-c9c2-b2c0-1a24-8a92-61f7-6bc4",
       "next": "0e19b512-b23e-11e7-a38f-0242ac120002-21-5217-ddc4-7f00-d89a-3b96-823d-29f2-19f6-2d5a-7f07",
       "previous": "159ddb84-0f92-11ec-98dd-c7638f7e44c5-7-6ef2-d06b-228c-a248-acd4-2e3d-b905"
      },
      {
       "current": "efaf0cd2-587e-11ea-bd55-0242ac120002-21-cfb5-81b6-3fc0-c9c2-b2c0-1a24-8a92-61f7-6bc4-b0de",
       "next": "0e19b512-b23e-11e7-a38f-0242ac120002-22-ddc4-7f00-d89a-3b96-823d-29f2-19f6-2d5a-7f07-c236",
       "previous": "159ddb84-0f92-11ec-98dd-c7638f7e44c5-8-6ef2-d06b-228c-a248-acd4-2e3d-b905-8091"
      },
      {
       "current": "efaf0cd2-587e-11ea-bd55-0242ac120002-22-81b6-3fc0-c9c2-b2c0-1a24-8a92-61f7-6bc4-b0de-9f6f",
       "next": "0e19b512-b23e-11e7-a38f-0242ac120002-23-7f00-d89a-3b96-823d-29f2-19f6-2d5a-7f07-c236-503e",
       "previous": "159ddb84-0f92-11ec-98dd-c7638f7e44c5-9-6ef2-d06b-228c-a248-acd4-2e3d-b905-8091-1819"
      },
      {
       "current": "efaf0cd2-587e-11ea-bd55-0242ac120002-23-3fc0-c9c2-b2c0-1a24-8a92-61f7-6bc4-b0de-9f6f-bc18",
       "next": "0e19b512-b23e-11e7-a38f-0242ac120002-24-d89a-3b96-823d-29f2-19f6-2d5a-7f07-c236-503e-0886",
       "previous": "159ddb84-0f92-11ec-98dd-c7638f7e44c5-10-6ef2-d06b-228c-a248-acd4-2e3d-b905-8091-1819-3e31"
      },
      {
       "current": "efaf0cd2-587e-11ea-bd55-0242ac120002-24-c9c2-b2c0-1a24-8a92-61f7-6bc4-b0de-9f6f-bc18-6f22",
       "next": "0e19b512-b23e-11e7-a38f-0242ac120002-25-3b96-823d-29f2-19f6-2d5a-7f07-c236-503e-0886-8620",
       "previous": "159ddb84-0f92-11ec-98dd-c7638f7e44c5-11-d06b-228c-a248-acd4-2e3d-b905-8091-1819-3e31-2983"
      }
     ],
     "next": "0e19b512-b23e-11e7-a38f-0242ac120002-26-823d-29f2-19f6-2d5a-7f07-c236-503e-0886-8620-a34c",
     "previous": "159ddb84-0f92-11ec-98dd-c7638f7e44c5-12-228c-a248-acd4-2e3d-b905-8091-1819-3e31-2983-4b68"
    }
   },
   "source": [
    "CoursewareHubのFQDNを設定する。\n",
    "\n",
    "登録済みのドメイン名がある場合は、`group_vars['master_fqdn']`にそのドメイン名を設定すること。"
   ]
  },
  {
   "cell_type": "code",
   "execution_count": null,
   "id": "f1898a9c",
   "metadata": {
    "lc_cell_meme": {
     "current": "0e19b512-b23e-11e7-a38f-0242ac120002-26-823d-29f2-19f6-2d5a-7f07-c236-503e-0886-8620-a34c",
     "history": [
      {
       "current": "0e19b512-b23e-11e7-a38f-0242ac120002-18-0fdb-97c4-3ff5-5217-ddc4-7f00-d89a-3b96-823d-29f2",
       "next": "1713d6ee-8813-11ec-bb18-6b42dc3e1973",
       "previous": "efaf0cd2-587e-11ea-bd55-0242ac120002-15-c54d-66f8-3c14-7845-c2a7-e5c0-cfb5-81b6-3fc0-c9c2"
      },
      {
       "current": "0e19b512-b23e-11e7-a38f-0242ac120002-19-97c4-3ff5-5217-ddc4-7f00-d89a-3b96-823d-29f2-19f6",
       "next": "1713d6ee-8813-11ec-bb18-6b42dc3e1973-1-acc2",
       "previous": "efaf0cd2-587e-11ea-bd55-0242ac120002-16-66f8-3c14-7845-c2a7-e5c0-cfb5-81b6-3fc0-c9c2-b2c0"
      },
      {
       "current": "0e19b512-b23e-11e7-a38f-0242ac120002-20-3ff5-5217-ddc4-7f00-d89a-3b96-823d-29f2-19f6-2d5a",
       "next": "1713d6ee-8813-11ec-bb18-6b42dc3e1973-2-acc2-5f7e",
       "previous": "efaf0cd2-587e-11ea-bd55-0242ac120002-17-3c14-7845-c2a7-e5c0-cfb5-81b6-3fc0-c9c2-b2c0-1a24"
      },
      {
       "current": "0e19b512-b23e-11e7-a38f-0242ac120002-21-5217-ddc4-7f00-d89a-3b96-823d-29f2-19f6-2d5a-7f07",
       "next": "1713d6ee-8813-11ec-bb18-6b42dc3e1973-3-acc2-5f7e-d94d",
       "previous": "efaf0cd2-587e-11ea-bd55-0242ac120002-18-7845-c2a7-e5c0-cfb5-81b6-3fc0-c9c2-b2c0-1a24-8a92"
      },
      {
       "current": "0e19b512-b23e-11e7-a38f-0242ac120002-22-ddc4-7f00-d89a-3b96-823d-29f2-19f6-2d5a-7f07-c236",
       "next": "1713d6ee-8813-11ec-bb18-6b42dc3e1973-4-acc2-5f7e-d94d-cdab",
       "previous": "efaf0cd2-587e-11ea-bd55-0242ac120002-19-c2a7-e5c0-cfb5-81b6-3fc0-c9c2-b2c0-1a24-8a92-61f7"
      },
      {
       "current": "0e19b512-b23e-11e7-a38f-0242ac120002-23-7f00-d89a-3b96-823d-29f2-19f6-2d5a-7f07-c236-503e",
       "next": "1713d6ee-8813-11ec-bb18-6b42dc3e1973-5-acc2-5f7e-d94d-cdab-64c2",
       "previous": "efaf0cd2-587e-11ea-bd55-0242ac120002-20-e5c0-cfb5-81b6-3fc0-c9c2-b2c0-1a24-8a92-61f7-6bc4"
      },
      {
       "current": "0e19b512-b23e-11e7-a38f-0242ac120002-24-d89a-3b96-823d-29f2-19f6-2d5a-7f07-c236-503e-0886",
       "next": "1713d6ee-8813-11ec-bb18-6b42dc3e1973-6-acc2-5f7e-d94d-cdab-64c2-eb6d",
       "previous": "efaf0cd2-587e-11ea-bd55-0242ac120002-21-cfb5-81b6-3fc0-c9c2-b2c0-1a24-8a92-61f7-6bc4-b0de"
      },
      {
       "current": "0e19b512-b23e-11e7-a38f-0242ac120002-25-3b96-823d-29f2-19f6-2d5a-7f07-c236-503e-0886-8620",
       "next": "1713d6ee-8813-11ec-bb18-6b42dc3e1973-7-acc2-5f7e-d94d-cdab-64c2-eb6d-f9f6",
       "previous": "efaf0cd2-587e-11ea-bd55-0242ac120002-22-81b6-3fc0-c9c2-b2c0-1a24-8a92-61f7-6bc4-b0de-9f6f"
      },
      {
       "current": "0e19b512-b23e-11e7-a38f-0242ac120002-26-823d-29f2-19f6-2d5a-7f07-c236-503e-0886-8620-a34c",
       "next": "1713d6ee-8813-11ec-bb18-6b42dc3e1973-8-acc2-5f7e-d94d-cdab-64c2-eb6d-f9f6-eac4",
       "previous": "efaf0cd2-587e-11ea-bd55-0242ac120002-23-3fc0-c9c2-b2c0-1a24-8a92-61f7-6bc4-b0de-9f6f-bc18"
      }
     ],
     "next": "1713d6ee-8813-11ec-bb18-6b42dc3e1973-9-acc2-5f7e-d94d-cdab-64c2-eb6d-f9f6-eac4-bdc1",
     "previous": "efaf0cd2-587e-11ea-bd55-0242ac120002-24-c9c2-b2c0-1a24-8a92-61f7-6bc4-b0de-9f6f-bc18-6f22"
    }
   },
   "outputs": [],
   "source": [
    "group_vars['master_fqdn'] = 'example.com'\n",
    "group_vars['master_fqdn']"
   ]
  },
  {
   "cell_type": "markdown",
   "id": "f4e2b1ae",
   "metadata": {
    "lc_cell_meme": {
     "current": "1713d6ee-8813-11ec-bb18-6b42dc3e1973-9-acc2-5f7e-d94d-cdab-64c2-eb6d-f9f6-eac4-bdc1",
     "history": [
      {
       "current": "1713d6ee-8813-11ec-bb18-6b42dc3e1973-1-acc2",
       "next": "2e47ebc2-7cc7-11eb-9875-0242ac120002-6-49cf-d0e4-b8ad-0eb5-3cc6-dbad",
       "previous": "0e19b512-b23e-11e7-a38f-0242ac120002-17-65d3-0fdb-97c4-3ff5-5217-ddc4-7f00-d89a-3b96-823d"
      },
      {
       "current": "1713d6ee-8813-11ec-bb18-6b42dc3e1973-2-acc2-5f7e",
       "next": "2e47ebc2-7cc7-11eb-9875-0242ac120002-7-49cf-d0e4-b8ad-0eb5-3cc6-dbad-d055",
       "previous": "0e19b512-b23e-11e7-a38f-0242ac120002-18-0fdb-97c4-3ff5-5217-ddc4-7f00-d89a-3b96-823d-29f2"
      },
      {
       "current": "1713d6ee-8813-11ec-bb18-6b42dc3e1973-3-acc2-5f7e-d94d",
       "next": "2e47ebc2-7cc7-11eb-9875-0242ac120002-8-49cf-d0e4-b8ad-0eb5-3cc6-dbad-d055-5f0b",
       "previous": "0e19b512-b23e-11e7-a38f-0242ac120002-19-97c4-3ff5-5217-ddc4-7f00-d89a-3b96-823d-29f2-19f6"
      },
      {
       "current": "1713d6ee-8813-11ec-bb18-6b42dc3e1973-4-acc2-5f7e-d94d-cdab",
       "next": "2e47ebc2-7cc7-11eb-9875-0242ac120002-9-49cf-d0e4-b8ad-0eb5-3cc6-dbad-d055-5f0b-a454",
       "previous": "0e19b512-b23e-11e7-a38f-0242ac120002-20-3ff5-5217-ddc4-7f00-d89a-3b96-823d-29f2-19f6-2d5a"
      },
      {
       "current": "1713d6ee-8813-11ec-bb18-6b42dc3e1973-5-acc2-5f7e-d94d-cdab-64c2",
       "next": "2e47ebc2-7cc7-11eb-9875-0242ac120002-10-49cf-d0e4-b8ad-0eb5-3cc6-dbad-d055-5f0b-a454-dce6",
       "previous": "0e19b512-b23e-11e7-a38f-0242ac120002-21-5217-ddc4-7f00-d89a-3b96-823d-29f2-19f6-2d5a-7f07"
      },
      {
       "current": "1713d6ee-8813-11ec-bb18-6b42dc3e1973-6-acc2-5f7e-d94d-cdab-64c2-eb6d",
       "next": "2e47ebc2-7cc7-11eb-9875-0242ac120002-11-d0e4-b8ad-0eb5-3cc6-dbad-d055-5f0b-a454-dce6-e590",
       "previous": "0e19b512-b23e-11e7-a38f-0242ac120002-22-ddc4-7f00-d89a-3b96-823d-29f2-19f6-2d5a-7f07-c236"
      },
      {
       "current": "1713d6ee-8813-11ec-bb18-6b42dc3e1973-7-acc2-5f7e-d94d-cdab-64c2-eb6d-f9f6",
       "next": "2e47ebc2-7cc7-11eb-9875-0242ac120002-12-b8ad-0eb5-3cc6-dbad-d055-5f0b-a454-dce6-e590-c60b",
       "previous": "0e19b512-b23e-11e7-a38f-0242ac120002-23-7f00-d89a-3b96-823d-29f2-19f6-2d5a-7f07-c236-503e"
      },
      {
       "current": "1713d6ee-8813-11ec-bb18-6b42dc3e1973-8-acc2-5f7e-d94d-cdab-64c2-eb6d-f9f6-eac4",
       "next": "2e47ebc2-7cc7-11eb-9875-0242ac120002-13-0eb5-3cc6-dbad-d055-5f0b-a454-dce6-e590-c60b-344a",
       "previous": "0e19b512-b23e-11e7-a38f-0242ac120002-24-d89a-3b96-823d-29f2-19f6-2d5a-7f07-c236-503e-0886"
      },
      {
       "current": "1713d6ee-8813-11ec-bb18-6b42dc3e1973-9-acc2-5f7e-d94d-cdab-64c2-eb6d-f9f6-eac4-bdc1",
       "next": "2e47ebc2-7cc7-11eb-9875-0242ac120002-14-3cc6-dbad-d055-5f0b-a454-dce6-e590-c60b-344a-986f",
       "previous": "0e19b512-b23e-11e7-a38f-0242ac120002-25-3b96-823d-29f2-19f6-2d5a-7f07-c236-503e-0886-8620"
      }
     ],
     "next": "2e47ebc2-7cc7-11eb-9875-0242ac120002-15-dbad-d055-5f0b-a454-dce6-e590-c60b-344a-986f-dd48",
     "previous": "0e19b512-b23e-11e7-a38f-0242ac120002-26-823d-29f2-19f6-2d5a-7f07-c236-503e-0886-8620-a34c"
    }
   },
   "source": [
    "FQDNから、LTI認証連携用のendpointが決まります。"
   ]
  },
  {
   "cell_type": "code",
   "execution_count": null,
   "id": "09010f27",
   "metadata": {
    "lc_cell_meme": {
     "current": "2e47ebc2-7cc7-11eb-9875-0242ac120002-15-dbad-d055-5f0b-a454-dce6-e590-c60b-344a-986f-dd48",
     "history": [
      {
       "current": "2e47ebc2-7cc7-11eb-9875-0242ac120002-7-49cf-d0e4-b8ad-0eb5-3cc6-dbad-d055",
       "next": "52724140-857f-11ec-9835-6b42dc3e1973",
       "previous": "1713d6ee-8813-11ec-bb18-6b42dc3e1973"
      },
      {
       "current": "2e47ebc2-7cc7-11eb-9875-0242ac120002-8-49cf-d0e4-b8ad-0eb5-3cc6-dbad-d055-5f0b",
       "next": "52724140-857f-11ec-9835-6b42dc3e1973-1-c8c1",
       "previous": "1713d6ee-8813-11ec-bb18-6b42dc3e1973-1-acc2"
      },
      {
       "current": "2e47ebc2-7cc7-11eb-9875-0242ac120002-9-49cf-d0e4-b8ad-0eb5-3cc6-dbad-d055-5f0b-a454",
       "next": "52724140-857f-11ec-9835-6b42dc3e1973-2-c8c1-1336",
       "previous": "1713d6ee-8813-11ec-bb18-6b42dc3e1973-2-acc2-5f7e"
      },
      {
       "current": "2e47ebc2-7cc7-11eb-9875-0242ac120002-10-49cf-d0e4-b8ad-0eb5-3cc6-dbad-d055-5f0b-a454-dce6",
       "next": "52724140-857f-11ec-9835-6b42dc3e1973-3-c8c1-1336-4165",
       "previous": "1713d6ee-8813-11ec-bb18-6b42dc3e1973-3-acc2-5f7e-d94d"
      },
      {
       "current": "2e47ebc2-7cc7-11eb-9875-0242ac120002-11-d0e4-b8ad-0eb5-3cc6-dbad-d055-5f0b-a454-dce6-e590",
       "next": "52724140-857f-11ec-9835-6b42dc3e1973-4-c8c1-1336-4165-9d86",
       "previous": "1713d6ee-8813-11ec-bb18-6b42dc3e1973-4-acc2-5f7e-d94d-cdab"
      },
      {
       "current": "2e47ebc2-7cc7-11eb-9875-0242ac120002-12-b8ad-0eb5-3cc6-dbad-d055-5f0b-a454-dce6-e590-c60b",
       "next": "52724140-857f-11ec-9835-6b42dc3e1973-5-c8c1-1336-4165-9d86-d6e5",
       "previous": "1713d6ee-8813-11ec-bb18-6b42dc3e1973-5-acc2-5f7e-d94d-cdab-64c2"
      },
      {
       "current": "2e47ebc2-7cc7-11eb-9875-0242ac120002-13-0eb5-3cc6-dbad-d055-5f0b-a454-dce6-e590-c60b-344a",
       "next": "52724140-857f-11ec-9835-6b42dc3e1973-6-c8c1-1336-4165-9d86-d6e5-268d",
       "previous": "1713d6ee-8813-11ec-bb18-6b42dc3e1973-6-acc2-5f7e-d94d-cdab-64c2-eb6d"
      },
      {
       "current": "2e47ebc2-7cc7-11eb-9875-0242ac120002-14-3cc6-dbad-d055-5f0b-a454-dce6-e590-c60b-344a-986f",
       "next": "52724140-857f-11ec-9835-6b42dc3e1973-7-c8c1-1336-4165-9d86-d6e5-268d-569a",
       "previous": "1713d6ee-8813-11ec-bb18-6b42dc3e1973-7-acc2-5f7e-d94d-cdab-64c2-eb6d-f9f6"
      },
      {
       "current": "2e47ebc2-7cc7-11eb-9875-0242ac120002-15-dbad-d055-5f0b-a454-dce6-e590-c60b-344a-986f-dd48",
       "next": "52724140-857f-11ec-9835-6b42dc3e1973-8-c8c1-1336-4165-9d86-d6e5-268d-569a-4fc7",
       "previous": "1713d6ee-8813-11ec-bb18-6b42dc3e1973-8-acc2-5f7e-d94d-cdab-64c2-eb6d-f9f6-eac4"
      }
     ],
     "next": "52724140-857f-11ec-9835-6b42dc3e1973-9-c8c1-1336-4165-9d86-d6e5-268d-569a-4fc7-fe5e",
     "previous": "1713d6ee-8813-11ec-bb18-6b42dc3e1973-9-acc2-5f7e-d94d-cdab-64c2-eb6d-f9f6-eac4-bdc1"
    }
   },
   "outputs": [],
   "source": [
    "print('Tool URL / Launch URL:\\n\\t https://{}/'.format(group_vars['master_fqdn']))\n",
    "print('Initiate login URL / LTI 1.3 Tool OpenID Connect/Initialization Endpoint:\\n\\t https://{}/php/lti/login.php'.format(group_vars['master_fqdn']))\n",
    "print('Redirection URI / LTI 1.3 Tool Redirect Endpoint:\\n\\t https://{}/php/lti/service.php'.format(group_vars['master_fqdn']))"
   ]
  },
  {
   "cell_type": "markdown",
   "id": "a95e78a6",
   "metadata": {
    "lc_cell_meme": {
     "current": "52724140-857f-11ec-9835-6b42dc3e1973-9-c8c1-1336-4165-9d86-d6e5-268d-569a-4fc7-fe5e",
     "history": [
      {
       "current": "52724140-857f-11ec-9835-6b42dc3e1973-1-c8c1",
       "next": "9a0b010d-857f-11ec-8bac-6b42dc3e1973",
       "previous": "2e47ebc2-7cc7-11eb-9875-0242ac120002-6-49cf-d0e4-b8ad-0eb5-3cc6-dbad"
      },
      {
       "current": "52724140-857f-11ec-9835-6b42dc3e1973-2-c8c1-1336",
       "next": "9a0b010d-857f-11ec-8bac-6b42dc3e1973-1-aff9",
       "previous": "2e47ebc2-7cc7-11eb-9875-0242ac120002-7-49cf-d0e4-b8ad-0eb5-3cc6-dbad-d055"
      },
      {
       "current": "52724140-857f-11ec-9835-6b42dc3e1973-3-c8c1-1336-4165",
       "next": "9a0b010d-857f-11ec-8bac-6b42dc3e1973-2-aff9-3d00",
       "previous": "2e47ebc2-7cc7-11eb-9875-0242ac120002-8-49cf-d0e4-b8ad-0eb5-3cc6-dbad-d055-5f0b"
      },
      {
       "current": "52724140-857f-11ec-9835-6b42dc3e1973-4-c8c1-1336-4165-9d86",
       "next": "9a0b010d-857f-11ec-8bac-6b42dc3e1973-3-aff9-3d00-f337",
       "previous": "2e47ebc2-7cc7-11eb-9875-0242ac120002-9-49cf-d0e4-b8ad-0eb5-3cc6-dbad-d055-5f0b-a454"
      },
      {
       "current": "52724140-857f-11ec-9835-6b42dc3e1973-5-c8c1-1336-4165-9d86-d6e5",
       "next": "9a0b010d-857f-11ec-8bac-6b42dc3e1973-4-aff9-3d00-f337-6450",
       "previous": "2e47ebc2-7cc7-11eb-9875-0242ac120002-10-49cf-d0e4-b8ad-0eb5-3cc6-dbad-d055-5f0b-a454-dce6"
      },
      {
       "current": "52724140-857f-11ec-9835-6b42dc3e1973-6-c8c1-1336-4165-9d86-d6e5-268d",
       "next": "9a0b010d-857f-11ec-8bac-6b42dc3e1973-5-aff9-3d00-f337-6450-37bc",
       "previous": "2e47ebc2-7cc7-11eb-9875-0242ac120002-11-d0e4-b8ad-0eb5-3cc6-dbad-d055-5f0b-a454-dce6-e590"
      },
      {
       "current": "52724140-857f-11ec-9835-6b42dc3e1973-7-c8c1-1336-4165-9d86-d6e5-268d-569a",
       "next": "9a0b010d-857f-11ec-8bac-6b42dc3e1973-6-aff9-3d00-f337-6450-37bc-29f8",
       "previous": "2e47ebc2-7cc7-11eb-9875-0242ac120002-12-b8ad-0eb5-3cc6-dbad-d055-5f0b-a454-dce6-e590-c60b"
      },
      {
       "current": "52724140-857f-11ec-9835-6b42dc3e1973-8-c8c1-1336-4165-9d86-d6e5-268d-569a-4fc7",
       "next": "9a0b010d-857f-11ec-8bac-6b42dc3e1973-7-aff9-3d00-f337-6450-37bc-29f8-a337",
       "previous": "2e47ebc2-7cc7-11eb-9875-0242ac120002-13-0eb5-3cc6-dbad-d055-5f0b-a454-dce6-e590-c60b-344a"
      },
      {
       "current": "52724140-857f-11ec-9835-6b42dc3e1973-9-c8c1-1336-4165-9d86-d6e5-268d-569a-4fc7-fe5e",
       "next": "9a0b010d-857f-11ec-8bac-6b42dc3e1973-8-aff9-3d00-f337-6450-37bc-29f8-a337-5259",
       "previous": "2e47ebc2-7cc7-11eb-9875-0242ac120002-14-3cc6-dbad-d055-5f0b-a454-dce6-e590-c60b-344a-986f"
      }
     ],
     "next": "9a0b010d-857f-11ec-8bac-6b42dc3e1973-9-aff9-3d00-f337-6450-37bc-29f8-a337-5259-b5fa",
     "previous": "2e47ebc2-7cc7-11eb-9875-0242ac120002-15-dbad-d055-5f0b-a454-dce6-e590-c60b-344a-986f-dd48"
    }
   },
   "source": [
    "### フェデレーションへの参加・不参加の設定"
   ]
  },
  {
   "cell_type": "code",
   "execution_count": null,
   "id": "7266da17",
   "metadata": {
    "lc_cell_meme": {
     "current": "9a0b010d-857f-11ec-8bac-6b42dc3e1973-9-aff9-3d00-f337-6450-37bc-29f8-a337-5259-b5fa",
     "history": [
      {
       "current": "9a0b010d-857f-11ec-8bac-6b42dc3e1973-1-aff9",
       "next": "efaf10ce-587e-11ea-bd55-0242ac120002-15-6313-3e09-2324-e899-ddc7-5d84-9ba9-733b-5df0-9213",
       "previous": "52724140-857f-11ec-9835-6b42dc3e1973"
      },
      {
       "current": "9a0b010d-857f-11ec-8bac-6b42dc3e1973-2-aff9-3d00",
       "next": "efaf10ce-587e-11ea-bd55-0242ac120002-16-3e09-2324-e899-ddc7-5d84-9ba9-733b-5df0-9213-913b",
       "previous": "52724140-857f-11ec-9835-6b42dc3e1973-1-c8c1"
      },
      {
       "current": "9a0b010d-857f-11ec-8bac-6b42dc3e1973-3-aff9-3d00-f337",
       "next": "efaf10ce-587e-11ea-bd55-0242ac120002-17-2324-e899-ddc7-5d84-9ba9-733b-5df0-9213-913b-e525",
       "previous": "52724140-857f-11ec-9835-6b42dc3e1973-2-c8c1-1336"
      },
      {
       "current": "9a0b010d-857f-11ec-8bac-6b42dc3e1973-4-aff9-3d00-f337-6450",
       "next": "efaf10ce-587e-11ea-bd55-0242ac120002-18-e899-ddc7-5d84-9ba9-733b-5df0-9213-913b-e525-42f4",
       "previous": "52724140-857f-11ec-9835-6b42dc3e1973-3-c8c1-1336-4165"
      },
      {
       "current": "9a0b010d-857f-11ec-8bac-6b42dc3e1973-5-aff9-3d00-f337-6450-37bc",
       "next": "efaf10ce-587e-11ea-bd55-0242ac120002-19-ddc7-5d84-9ba9-733b-5df0-9213-913b-e525-42f4-e408",
       "previous": "52724140-857f-11ec-9835-6b42dc3e1973-4-c8c1-1336-4165-9d86"
      },
      {
       "current": "9a0b010d-857f-11ec-8bac-6b42dc3e1973-6-aff9-3d00-f337-6450-37bc-29f8",
       "next": "efaf10ce-587e-11ea-bd55-0242ac120002-20-5d84-9ba9-733b-5df0-9213-913b-e525-42f4-e408-8e64",
       "previous": "52724140-857f-11ec-9835-6b42dc3e1973-5-c8c1-1336-4165-9d86-d6e5"
      },
      {
       "current": "9a0b010d-857f-11ec-8bac-6b42dc3e1973-7-aff9-3d00-f337-6450-37bc-29f8-a337",
       "next": "efaf10ce-587e-11ea-bd55-0242ac120002-21-9ba9-733b-5df0-9213-913b-e525-42f4-e408-8e64-ecc5",
       "previous": "52724140-857f-11ec-9835-6b42dc3e1973-6-c8c1-1336-4165-9d86-d6e5-268d"
      },
      {
       "current": "9a0b010d-857f-11ec-8bac-6b42dc3e1973-8-aff9-3d00-f337-6450-37bc-29f8-a337-5259",
       "next": "efaf10ce-587e-11ea-bd55-0242ac120002-22-733b-5df0-9213-913b-e525-42f4-e408-8e64-ecc5-8343",
       "previous": "52724140-857f-11ec-9835-6b42dc3e1973-7-c8c1-1336-4165-9d86-d6e5-268d-569a"
      },
      {
       "current": "9a0b010d-857f-11ec-8bac-6b42dc3e1973-9-aff9-3d00-f337-6450-37bc-29f8-a337-5259-b5fa",
       "next": "efaf10ce-587e-11ea-bd55-0242ac120002-23-5df0-9213-913b-e525-42f4-e408-8e64-ecc5-8343-a166",
       "previous": "52724140-857f-11ec-9835-6b42dc3e1973-8-c8c1-1336-4165-9d86-d6e5-268d-569a-4fc7"
      }
     ],
     "next": "efaf10ce-587e-11ea-bd55-0242ac120002-24-9213-913b-e525-42f4-e408-8e64-ecc5-8343-a166-6d33",
     "previous": "52724140-857f-11ec-9835-6b42dc3e1973-9-c8c1-1336-4165-9d86-d6e5-268d-569a-4fc7-fe5e"
    }
   },
   "outputs": [],
   "source": [
    "group_vars['enable_federation'] = False\n",
    "group_vars['enable_federation']"
   ]
  },
  {
   "cell_type": "markdown",
   "id": "ab0f6e6d",
   "metadata": {
    "lc_cell_meme": {
     "current": "efaf10ce-587e-11ea-bd55-0242ac120002-24-9213-913b-e525-42f4-e408-8e64-ecc5-8343-a166-6d33",
     "history": [
      {
       "current": "efaf10ce-587e-11ea-bd55-0242ac120002-16-3e09-2324-e899-ddc7-5d84-9ba9-733b-5df0-9213-913b",
       "next": "cb7427fe-5486-11ea-9227-0242ac120002-16-a982-0f00-db18-3b71-fb44-08f8-7e49-98ca-2e29-0287",
       "previous": "9a0b010d-857f-11ec-8bac-6b42dc3e1973"
      },
      {
       "current": "efaf10ce-587e-11ea-bd55-0242ac120002-17-2324-e899-ddc7-5d84-9ba9-733b-5df0-9213-913b-e525",
       "next": "cb7427fe-5486-11ea-9227-0242ac120002-17-0f00-db18-3b71-fb44-08f8-7e49-98ca-2e29-0287-9ef5",
       "previous": "9a0b010d-857f-11ec-8bac-6b42dc3e1973-1-aff9"
      },
      {
       "current": "efaf10ce-587e-11ea-bd55-0242ac120002-18-e899-ddc7-5d84-9ba9-733b-5df0-9213-913b-e525-42f4",
       "next": "cb7427fe-5486-11ea-9227-0242ac120002-18-db18-3b71-fb44-08f8-7e49-98ca-2e29-0287-9ef5-33a6",
       "previous": "9a0b010d-857f-11ec-8bac-6b42dc3e1973-2-aff9-3d00"
      },
      {
       "current": "efaf10ce-587e-11ea-bd55-0242ac120002-19-ddc7-5d84-9ba9-733b-5df0-9213-913b-e525-42f4-e408",
       "next": "cb7427fe-5486-11ea-9227-0242ac120002-19-3b71-fb44-08f8-7e49-98ca-2e29-0287-9ef5-33a6-6968",
       "previous": "9a0b010d-857f-11ec-8bac-6b42dc3e1973-3-aff9-3d00-f337"
      },
      {
       "current": "efaf10ce-587e-11ea-bd55-0242ac120002-20-5d84-9ba9-733b-5df0-9213-913b-e525-42f4-e408-8e64",
       "next": "cb7427fe-5486-11ea-9227-0242ac120002-20-fb44-08f8-7e49-98ca-2e29-0287-9ef5-33a6-6968-1c11",
       "previous": "9a0b010d-857f-11ec-8bac-6b42dc3e1973-4-aff9-3d00-f337-6450"
      },
      {
       "current": "efaf10ce-587e-11ea-bd55-0242ac120002-21-9ba9-733b-5df0-9213-913b-e525-42f4-e408-8e64-ecc5",
       "next": "cb7427fe-5486-11ea-9227-0242ac120002-21-08f8-7e49-98ca-2e29-0287-9ef5-33a6-6968-1c11-5d2d",
       "previous": "9a0b010d-857f-11ec-8bac-6b42dc3e1973-5-aff9-3d00-f337-6450-37bc"
      },
      {
       "current": "efaf10ce-587e-11ea-bd55-0242ac120002-22-733b-5df0-9213-913b-e525-42f4-e408-8e64-ecc5-8343",
       "next": "cb7427fe-5486-11ea-9227-0242ac120002-22-7e49-98ca-2e29-0287-9ef5-33a6-6968-1c11-5d2d-22ed",
       "previous": "9a0b010d-857f-11ec-8bac-6b42dc3e1973-6-aff9-3d00-f337-6450-37bc-29f8"
      },
      {
       "current": "efaf10ce-587e-11ea-bd55-0242ac120002-23-5df0-9213-913b-e525-42f4-e408-8e64-ecc5-8343-a166",
       "next": "cb7427fe-5486-11ea-9227-0242ac120002-23-98ca-2e29-0287-9ef5-33a6-6968-1c11-5d2d-22ed-f03e",
       "previous": "9a0b010d-857f-11ec-8bac-6b42dc3e1973-7-aff9-3d00-f337-6450-37bc-29f8-a337"
      },
      {
       "current": "efaf10ce-587e-11ea-bd55-0242ac120002-24-9213-913b-e525-42f4-e408-8e64-ecc5-8343-a166-6d33",
       "next": "cb7427fe-5486-11ea-9227-0242ac120002-24-2e29-0287-9ef5-33a6-6968-1c11-5d2d-22ed-f03e-65dd",
       "previous": "9a0b010d-857f-11ec-8bac-6b42dc3e1973-8-aff9-3d00-f337-6450-37bc-29f8-a337-5259"
      }
     ],
     "next": "cb7427fe-5486-11ea-9227-0242ac120002-25-0287-9ef5-33a6-6968-1c11-5d2d-22ed-f03e-65dd-05f1",
     "previous": "9a0b010d-857f-11ec-8bac-6b42dc3e1973-9-aff9-3d00-f337-6450-37bc-29f8-a337-5259-b5fa"
    }
   },
   "source": [
    "### フェデレーションに直接参加しないSP用の設定\n",
    "\n",
    "* idp-proxyを使用して、間接的に学認を使用する\n",
    "* ローカルユーザーのみを使用する"
   ]
  },
  {
   "cell_type": "markdown",
   "id": "fd7f5b74",
   "metadata": {
    "lc_cell_meme": {
     "current": "cb7427fe-5486-11ea-9227-0242ac120002-25-0287-9ef5-33a6-6968-1c11-5d2d-22ed-f03e-65dd-05f1",
     "history": [
      {
       "current": "cb7427fe-5486-11ea-9227-0242ac120002-17-0f00-db18-3b71-fb44-08f8-7e49-98ca-2e29-0287-9ef5",
       "next": "0e19b512-b23e-11e7-a38f-0242ac120002-17-f226-b244-8c86-a0cb-ce9a-54fe-04c3-5f81-081f-0f9d",
       "previous": "efaf10ce-587e-11ea-bd55-0242ac120002-15-6313-3e09-2324-e899-ddc7-5d84-9ba9-733b-5df0-9213"
      },
      {
       "current": "cb7427fe-5486-11ea-9227-0242ac120002-18-db18-3b71-fb44-08f8-7e49-98ca-2e29-0287-9ef5-33a6",
       "next": "0e19b512-b23e-11e7-a38f-0242ac120002-18-b244-8c86-a0cb-ce9a-54fe-04c3-5f81-081f-0f9d-22e0",
       "previous": "efaf10ce-587e-11ea-bd55-0242ac120002-16-3e09-2324-e899-ddc7-5d84-9ba9-733b-5df0-9213-913b"
      },
      {
       "current": "cb7427fe-5486-11ea-9227-0242ac120002-19-3b71-fb44-08f8-7e49-98ca-2e29-0287-9ef5-33a6-6968",
       "next": "0e19b512-b23e-11e7-a38f-0242ac120002-19-8c86-a0cb-ce9a-54fe-04c3-5f81-081f-0f9d-22e0-9e8b",
       "previous": "efaf10ce-587e-11ea-bd55-0242ac120002-17-2324-e899-ddc7-5d84-9ba9-733b-5df0-9213-913b-e525"
      },
      {
       "current": "cb7427fe-5486-11ea-9227-0242ac120002-20-fb44-08f8-7e49-98ca-2e29-0287-9ef5-33a6-6968-1c11",
       "next": "0e19b512-b23e-11e7-a38f-0242ac120002-20-a0cb-ce9a-54fe-04c3-5f81-081f-0f9d-22e0-9e8b-169d",
       "previous": "efaf10ce-587e-11ea-bd55-0242ac120002-18-e899-ddc7-5d84-9ba9-733b-5df0-9213-913b-e525-42f4"
      },
      {
       "current": "cb7427fe-5486-11ea-9227-0242ac120002-21-08f8-7e49-98ca-2e29-0287-9ef5-33a6-6968-1c11-5d2d",
       "next": "0e19b512-b23e-11e7-a38f-0242ac120002-21-ce9a-54fe-04c3-5f81-081f-0f9d-22e0-9e8b-169d-c9ea",
       "previous": "efaf10ce-587e-11ea-bd55-0242ac120002-19-ddc7-5d84-9ba9-733b-5df0-9213-913b-e525-42f4-e408"
      },
      {
       "current": "cb7427fe-5486-11ea-9227-0242ac120002-22-7e49-98ca-2e29-0287-9ef5-33a6-6968-1c11-5d2d-22ed",
       "next": "0e19b512-b23e-11e7-a38f-0242ac120002-22-54fe-04c3-5f81-081f-0f9d-22e0-9e8b-169d-c9ea-8b78",
       "previous": "efaf10ce-587e-11ea-bd55-0242ac120002-20-5d84-9ba9-733b-5df0-9213-913b-e525-42f4-e408-8e64"
      },
      {
       "current": "cb7427fe-5486-11ea-9227-0242ac120002-23-98ca-2e29-0287-9ef5-33a6-6968-1c11-5d2d-22ed-f03e",
       "next": "0e19b512-b23e-11e7-a38f-0242ac120002-23-04c3-5f81-081f-0f9d-22e0-9e8b-169d-c9ea-8b78-0de4",
       "previous": "efaf10ce-587e-11ea-bd55-0242ac120002-21-9ba9-733b-5df0-9213-913b-e525-42f4-e408-8e64-ecc5"
      },
      {
       "current": "cb7427fe-5486-11ea-9227-0242ac120002-24-2e29-0287-9ef5-33a6-6968-1c11-5d2d-22ed-f03e-65dd",
       "next": "0e19b512-b23e-11e7-a38f-0242ac120002-24-5f81-081f-0f9d-22e0-9e8b-169d-c9ea-8b78-0de4-6d03",
       "previous": "efaf10ce-587e-11ea-bd55-0242ac120002-22-733b-5df0-9213-913b-e525-42f4-e408-8e64-ecc5-8343"
      },
      {
       "current": "cb7427fe-5486-11ea-9227-0242ac120002-25-0287-9ef5-33a6-6968-1c11-5d2d-22ed-f03e-65dd-05f1",
       "next": "0e19b512-b23e-11e7-a38f-0242ac120002-25-081f-0f9d-22e0-9e8b-169d-c9ea-8b78-0de4-6d03-e7c6",
       "previous": "efaf10ce-587e-11ea-bd55-0242ac120002-23-5df0-9213-913b-e525-42f4-e408-8e64-ecc5-8343-a166"
      }
     ],
     "next": "0e19b512-b23e-11e7-a38f-0242ac120002-26-0f9d-22e0-9e8b-169d-c9ea-8b78-0de4-6d03-e7c6-7d9d",
     "previous": "efaf10ce-587e-11ea-bd55-0242ac120002-24-9213-913b-e525-42f4-e408-8e64-ecc5-8343-a166-6d33"
    }
   },
   "source": [
    "idp-proxyを利用する場合は、idp-proxyのFQDNを設定する。\n",
    "\n",
    "idp-proxyを利用せず、ローカルユーザーのみを利用する場合は、空文字列を設定する。\n"
   ]
  },
  {
   "cell_type": "code",
   "execution_count": null,
   "id": "5230116c",
   "metadata": {
    "lc_cell_meme": {
     "current": "0e19b512-b23e-11e7-a38f-0242ac120002-26-0f9d-22e0-9e8b-169d-c9ea-8b78-0de4-6d03-e7c6-7d9d",
     "history": [
      {
       "current": "0e19b512-b23e-11e7-a38f-0242ac120002-18-b244-8c86-a0cb-ce9a-54fe-04c3-5f81-081f-0f9d-22e0",
       "next": "efaf1204-587e-11ea-bd55-0242ac120002-15-4d8e-8d48-d2ec-8ed5-6de7-970f-16f9-3426-b81e-4887",
       "previous": "cb7427fe-5486-11ea-9227-0242ac120002-16-a982-0f00-db18-3b71-fb44-08f8-7e49-98ca-2e29-0287"
      },
      {
       "current": "0e19b512-b23e-11e7-a38f-0242ac120002-19-8c86-a0cb-ce9a-54fe-04c3-5f81-081f-0f9d-22e0-9e8b",
       "next": "efaf1204-587e-11ea-bd55-0242ac120002-16-8d48-d2ec-8ed5-6de7-970f-16f9-3426-b81e-4887-e9ab",
       "previous": "cb7427fe-5486-11ea-9227-0242ac120002-17-0f00-db18-3b71-fb44-08f8-7e49-98ca-2e29-0287-9ef5"
      },
      {
       "current": "0e19b512-b23e-11e7-a38f-0242ac120002-20-a0cb-ce9a-54fe-04c3-5f81-081f-0f9d-22e0-9e8b-169d",
       "next": "efaf1204-587e-11ea-bd55-0242ac120002-17-d2ec-8ed5-6de7-970f-16f9-3426-b81e-4887-e9ab-2adf",
       "previous": "cb7427fe-5486-11ea-9227-0242ac120002-18-db18-3b71-fb44-08f8-7e49-98ca-2e29-0287-9ef5-33a6"
      },
      {
       "current": "0e19b512-b23e-11e7-a38f-0242ac120002-21-ce9a-54fe-04c3-5f81-081f-0f9d-22e0-9e8b-169d-c9ea",
       "next": "efaf1204-587e-11ea-bd55-0242ac120002-18-8ed5-6de7-970f-16f9-3426-b81e-4887-e9ab-2adf-97f7",
       "previous": "cb7427fe-5486-11ea-9227-0242ac120002-19-3b71-fb44-08f8-7e49-98ca-2e29-0287-9ef5-33a6-6968"
      },
      {
       "current": "0e19b512-b23e-11e7-a38f-0242ac120002-22-54fe-04c3-5f81-081f-0f9d-22e0-9e8b-169d-c9ea-8b78",
       "next": "efaf1204-587e-11ea-bd55-0242ac120002-19-6de7-970f-16f9-3426-b81e-4887-e9ab-2adf-97f7-0c3a",
       "previous": "cb7427fe-5486-11ea-9227-0242ac120002-20-fb44-08f8-7e49-98ca-2e29-0287-9ef5-33a6-6968-1c11"
      },
      {
       "current": "0e19b512-b23e-11e7-a38f-0242ac120002-23-04c3-5f81-081f-0f9d-22e0-9e8b-169d-c9ea-8b78-0de4",
       "next": "efaf1204-587e-11ea-bd55-0242ac120002-20-970f-16f9-3426-b81e-4887-e9ab-2adf-97f7-0c3a-5660",
       "previous": "cb7427fe-5486-11ea-9227-0242ac120002-21-08f8-7e49-98ca-2e29-0287-9ef5-33a6-6968-1c11-5d2d"
      },
      {
       "current": "0e19b512-b23e-11e7-a38f-0242ac120002-24-5f81-081f-0f9d-22e0-9e8b-169d-c9ea-8b78-0de4-6d03",
       "next": "efaf1204-587e-11ea-bd55-0242ac120002-21-16f9-3426-b81e-4887-e9ab-2adf-97f7-0c3a-5660-defd",
       "previous": "cb7427fe-5486-11ea-9227-0242ac120002-22-7e49-98ca-2e29-0287-9ef5-33a6-6968-1c11-5d2d-22ed"
      },
      {
       "current": "0e19b512-b23e-11e7-a38f-0242ac120002-25-081f-0f9d-22e0-9e8b-169d-c9ea-8b78-0de4-6d03-e7c6",
       "next": "efaf1204-587e-11ea-bd55-0242ac120002-22-3426-b81e-4887-e9ab-2adf-97f7-0c3a-5660-defd-c14e",
       "previous": "cb7427fe-5486-11ea-9227-0242ac120002-23-98ca-2e29-0287-9ef5-33a6-6968-1c11-5d2d-22ed-f03e"
      },
      {
       "current": "0e19b512-b23e-11e7-a38f-0242ac120002-26-0f9d-22e0-9e8b-169d-c9ea-8b78-0de4-6d03-e7c6-7d9d",
       "next": "efaf1204-587e-11ea-bd55-0242ac120002-23-b81e-4887-e9ab-2adf-97f7-0c3a-5660-defd-c14e-d8d3",
       "previous": "cb7427fe-5486-11ea-9227-0242ac120002-24-2e29-0287-9ef5-33a6-6968-1c11-5d2d-22ed-f03e-65dd"
      }
     ],
     "next": "efaf1204-587e-11ea-bd55-0242ac120002-24-4887-e9ab-2adf-97f7-0c3a-5660-defd-c14e-d8d3-7641",
     "previous": "cb7427fe-5486-11ea-9227-0242ac120002-25-0287-9ef5-33a6-6968-1c11-5d2d-22ed-f03e-65dd-05f1"
    }
   },
   "outputs": [],
   "source": [
    "#group_vars['auth_fqdn'] = 'cwhidptest.example.nii.ac.jp'\n",
    "group_vars['auth_fqdn'] = ''\n",
    "group_vars['auth_fqdn']"
   ]
  },
  {
   "cell_type": "markdown",
   "id": "4e710be3",
   "metadata": {
    "lc_cell_meme": {
     "current": "efaf1204-587e-11ea-bd55-0242ac120002-24-4887-e9ab-2adf-97f7-0c3a-5660-defd-c14e-d8d3-7641",
     "history": [
      {
       "current": "efaf1204-587e-11ea-bd55-0242ac120002-16-8d48-d2ec-8ed5-6de7-970f-16f9-3426-b81e-4887-e9ab",
       "next": "f085f1a0-8589-11ec-b063-6b42dc3e1973",
       "previous": "0e19b512-b23e-11e7-a38f-0242ac120002-17-f226-b244-8c86-a0cb-ce9a-54fe-04c3-5f81-081f-0f9d"
      },
      {
       "current": "efaf1204-587e-11ea-bd55-0242ac120002-17-d2ec-8ed5-6de7-970f-16f9-3426-b81e-4887-e9ab-2adf",
       "next": "f085f1a0-8589-11ec-b063-6b42dc3e1973-1-0f96",
       "previous": "0e19b512-b23e-11e7-a38f-0242ac120002-18-b244-8c86-a0cb-ce9a-54fe-04c3-5f81-081f-0f9d-22e0"
      },
      {
       "current": "efaf1204-587e-11ea-bd55-0242ac120002-18-8ed5-6de7-970f-16f9-3426-b81e-4887-e9ab-2adf-97f7",
       "next": "f085f1a0-8589-11ec-b063-6b42dc3e1973-2-0f96-3c3c",
       "previous": "0e19b512-b23e-11e7-a38f-0242ac120002-19-8c86-a0cb-ce9a-54fe-04c3-5f81-081f-0f9d-22e0-9e8b"
      },
      {
       "current": "efaf1204-587e-11ea-bd55-0242ac120002-19-6de7-970f-16f9-3426-b81e-4887-e9ab-2adf-97f7-0c3a",
       "next": "f085f1a0-8589-11ec-b063-6b42dc3e1973-3-0f96-3c3c-6902",
       "previous": "0e19b512-b23e-11e7-a38f-0242ac120002-20-a0cb-ce9a-54fe-04c3-5f81-081f-0f9d-22e0-9e8b-169d"
      },
      {
       "current": "efaf1204-587e-11ea-bd55-0242ac120002-20-970f-16f9-3426-b81e-4887-e9ab-2adf-97f7-0c3a-5660",
       "next": "f085f1a0-8589-11ec-b063-6b42dc3e1973-4-0f96-3c3c-6902-947f",
       "previous": "0e19b512-b23e-11e7-a38f-0242ac120002-21-ce9a-54fe-04c3-5f81-081f-0f9d-22e0-9e8b-169d-c9ea"
      },
      {
       "current": "efaf1204-587e-11ea-bd55-0242ac120002-21-16f9-3426-b81e-4887-e9ab-2adf-97f7-0c3a-5660-defd",
       "next": "f085f1a0-8589-11ec-b063-6b42dc3e1973-5-0f96-3c3c-6902-947f-3395",
       "previous": "0e19b512-b23e-11e7-a38f-0242ac120002-22-54fe-04c3-5f81-081f-0f9d-22e0-9e8b-169d-c9ea-8b78"
      },
      {
       "current": "efaf1204-587e-11ea-bd55-0242ac120002-22-3426-b81e-4887-e9ab-2adf-97f7-0c3a-5660-defd-c14e",
       "next": "f085f1a0-8589-11ec-b063-6b42dc3e1973-6-0f96-3c3c-6902-947f-3395-3d87",
       "previous": "0e19b512-b23e-11e7-a38f-0242ac120002-23-04c3-5f81-081f-0f9d-22e0-9e8b-169d-c9ea-8b78-0de4"
      },
      {
       "current": "efaf1204-587e-11ea-bd55-0242ac120002-23-b81e-4887-e9ab-2adf-97f7-0c3a-5660-defd-c14e-d8d3",
       "next": "f085f1a0-8589-11ec-b063-6b42dc3e1973-7-0f96-3c3c-6902-947f-3395-3d87-a792",
       "previous": "0e19b512-b23e-11e7-a38f-0242ac120002-24-5f81-081f-0f9d-22e0-9e8b-169d-c9ea-8b78-0de4-6d03"
      },
      {
       "current": "efaf1204-587e-11ea-bd55-0242ac120002-24-4887-e9ab-2adf-97f7-0c3a-5660-defd-c14e-d8d3-7641",
       "next": "f085f1a0-8589-11ec-b063-6b42dc3e1973-8-0f96-3c3c-6902-947f-3395-3d87-a792-40ff",
       "previous": "0e19b512-b23e-11e7-a38f-0242ac120002-25-081f-0f9d-22e0-9e8b-169d-c9ea-8b78-0de4-6d03-e7c6"
      }
     ],
     "next": "f085f1a0-8589-11ec-b063-6b42dc3e1973-9-0f96-3c3c-6902-947f-3395-3d87-a792-40ff-d397",
     "previous": "0e19b512-b23e-11e7-a38f-0242ac120002-26-0f9d-22e0-9e8b-169d-c9ea-8b78-0de4-6d03-e7c6-7d9d"
    }
   },
   "source": [
    "### フェデレーションに直接参加するSP用の設定\n",
    "\n",
    "idp-proxyを利用せずに、直接フェデレーションに参加する。\n",
    "\n",
    "フェデレーションとクラウドゲートウェイの設定を行う。"
   ]
  },
  {
   "cell_type": "markdown",
   "id": "4b6de839",
   "metadata": {
    "lc_cell_meme": {
     "current": "f085f1a0-8589-11ec-b063-6b42dc3e1973-9-0f96-3c3c-6902-947f-3395-3d87-a792-40ff-d397",
     "history": [
      {
       "current": "f085f1a0-8589-11ec-b063-6b42dc3e1973-1-0f96",
       "next": "f085f4c2-8589-11ec-89fc-6b42dc3e1973",
       "previous": "efaf1204-587e-11ea-bd55-0242ac120002-15-4d8e-8d48-d2ec-8ed5-6de7-970f-16f9-3426-b81e-4887"
      },
      {
       "current": "f085f1a0-8589-11ec-b063-6b42dc3e1973-2-0f96-3c3c",
       "next": "f085f4c2-8589-11ec-89fc-6b42dc3e1973-1-9af8",
       "previous": "efaf1204-587e-11ea-bd55-0242ac120002-16-8d48-d2ec-8ed5-6de7-970f-16f9-3426-b81e-4887-e9ab"
      },
      {
       "current": "f085f1a0-8589-11ec-b063-6b42dc3e1973-3-0f96-3c3c-6902",
       "next": "f085f4c2-8589-11ec-89fc-6b42dc3e1973-2-9af8-0200",
       "previous": "efaf1204-587e-11ea-bd55-0242ac120002-17-d2ec-8ed5-6de7-970f-16f9-3426-b81e-4887-e9ab-2adf"
      },
      {
       "current": "f085f1a0-8589-11ec-b063-6b42dc3e1973-4-0f96-3c3c-6902-947f",
       "next": "f085f4c2-8589-11ec-89fc-6b42dc3e1973-3-9af8-0200-eaa1",
       "previous": "efaf1204-587e-11ea-bd55-0242ac120002-18-8ed5-6de7-970f-16f9-3426-b81e-4887-e9ab-2adf-97f7"
      },
      {
       "current": "f085f1a0-8589-11ec-b063-6b42dc3e1973-5-0f96-3c3c-6902-947f-3395",
       "next": "f085f4c2-8589-11ec-89fc-6b42dc3e1973-4-9af8-0200-eaa1-3813",
       "previous": "efaf1204-587e-11ea-bd55-0242ac120002-19-6de7-970f-16f9-3426-b81e-4887-e9ab-2adf-97f7-0c3a"
      },
      {
       "current": "f085f1a0-8589-11ec-b063-6b42dc3e1973-6-0f96-3c3c-6902-947f-3395-3d87",
       "next": "f085f4c2-8589-11ec-89fc-6b42dc3e1973-5-9af8-0200-eaa1-3813-cf18",
       "previous": "efaf1204-587e-11ea-bd55-0242ac120002-20-970f-16f9-3426-b81e-4887-e9ab-2adf-97f7-0c3a-5660"
      },
      {
       "current": "f085f1a0-8589-11ec-b063-6b42dc3e1973-7-0f96-3c3c-6902-947f-3395-3d87-a792",
       "next": "f085f4c2-8589-11ec-89fc-6b42dc3e1973-6-9af8-0200-eaa1-3813-cf18-324a",
       "previous": "efaf1204-587e-11ea-bd55-0242ac120002-21-16f9-3426-b81e-4887-e9ab-2adf-97f7-0c3a-5660-defd"
      },
      {
       "current": "f085f1a0-8589-11ec-b063-6b42dc3e1973-8-0f96-3c3c-6902-947f-3395-3d87-a792-40ff",
       "next": "f085f4c2-8589-11ec-89fc-6b42dc3e1973-7-9af8-0200-eaa1-3813-cf18-324a-e007",
       "previous": "efaf1204-587e-11ea-bd55-0242ac120002-22-3426-b81e-4887-e9ab-2adf-97f7-0c3a-5660-defd-c14e"
      },
      {
       "current": "f085f1a0-8589-11ec-b063-6b42dc3e1973-9-0f96-3c3c-6902-947f-3395-3d87-a792-40ff-d397",
       "next": "f085f4c2-8589-11ec-89fc-6b42dc3e1973-8-9af8-0200-eaa1-3813-cf18-324a-e007-3300",
       "previous": "efaf1204-587e-11ea-bd55-0242ac120002-23-b81e-4887-e9ab-2adf-97f7-0c3a-5660-defd-c14e-d8d3"
      }
     ],
     "next": "f085f4c2-8589-11ec-89fc-6b42dc3e1973-9-9af8-0200-eaa1-3813-cf18-324a-e007-3300-22ea",
     "previous": "efaf1204-587e-11ea-bd55-0242ac120002-24-4887-e9ab-2adf-97f7-0c3a-5660-defd-c14e-d8d3-7641"
    }
   },
   "source": [
    "テストフェデレーションの使用の有無を選択"
   ]
  },
  {
   "cell_type": "code",
   "execution_count": null,
   "id": "2652c236",
   "metadata": {
    "lc_cell_meme": {
     "current": "f085f4c2-8589-11ec-89fc-6b42dc3e1973-9-9af8-0200-eaa1-3813-cf18-324a-e007-3300-22ea",
     "history": [
      {
       "current": "f085f4c2-8589-11ec-89fc-6b42dc3e1973-1-9af8",
       "next": "3737771a-587f-11ea-bd55-0242ac120002-15-321a-8413-a390-901a-12e7-edbf-06f0-4bb2-4d9a-2e3f",
       "previous": "f085f1a0-8589-11ec-b063-6b42dc3e1973"
      },
      {
       "current": "f085f4c2-8589-11ec-89fc-6b42dc3e1973-2-9af8-0200",
       "next": "3737771a-587f-11ea-bd55-0242ac120002-16-8413-a390-901a-12e7-edbf-06f0-4bb2-4d9a-2e3f-77fc",
       "previous": "f085f1a0-8589-11ec-b063-6b42dc3e1973-1-0f96"
      },
      {
       "current": "f085f4c2-8589-11ec-89fc-6b42dc3e1973-3-9af8-0200-eaa1",
       "next": "3737771a-587f-11ea-bd55-0242ac120002-17-a390-901a-12e7-edbf-06f0-4bb2-4d9a-2e3f-77fc-2e17",
       "previous": "f085f1a0-8589-11ec-b063-6b42dc3e1973-2-0f96-3c3c"
      },
      {
       "current": "f085f4c2-8589-11ec-89fc-6b42dc3e1973-4-9af8-0200-eaa1-3813",
       "next": "3737771a-587f-11ea-bd55-0242ac120002-18-901a-12e7-edbf-06f0-4bb2-4d9a-2e3f-77fc-2e17-aca4",
       "previous": "f085f1a0-8589-11ec-b063-6b42dc3e1973-3-0f96-3c3c-6902"
      },
      {
       "current": "f085f4c2-8589-11ec-89fc-6b42dc3e1973-5-9af8-0200-eaa1-3813-cf18",
       "next": "3737771a-587f-11ea-bd55-0242ac120002-19-12e7-edbf-06f0-4bb2-4d9a-2e3f-77fc-2e17-aca4-4b7c",
       "previous": "f085f1a0-8589-11ec-b063-6b42dc3e1973-4-0f96-3c3c-6902-947f"
      },
      {
       "current": "f085f4c2-8589-11ec-89fc-6b42dc3e1973-6-9af8-0200-eaa1-3813-cf18-324a",
       "next": "3737771a-587f-11ea-bd55-0242ac120002-20-edbf-06f0-4bb2-4d9a-2e3f-77fc-2e17-aca4-4b7c-1aa5",
       "previous": "f085f1a0-8589-11ec-b063-6b42dc3e1973-5-0f96-3c3c-6902-947f-3395"
      },
      {
       "current": "f085f4c2-8589-11ec-89fc-6b42dc3e1973-7-9af8-0200-eaa1-3813-cf18-324a-e007",
       "next": "3737771a-587f-11ea-bd55-0242ac120002-21-06f0-4bb2-4d9a-2e3f-77fc-2e17-aca4-4b7c-1aa5-4fd2",
       "previous": "f085f1a0-8589-11ec-b063-6b42dc3e1973-6-0f96-3c3c-6902-947f-3395-3d87"
      },
      {
       "current": "f085f4c2-8589-11ec-89fc-6b42dc3e1973-8-9af8-0200-eaa1-3813-cf18-324a-e007-3300",
       "next": "3737771a-587f-11ea-bd55-0242ac120002-22-4bb2-4d9a-2e3f-77fc-2e17-aca4-4b7c-1aa5-4fd2-763e",
       "previous": "f085f1a0-8589-11ec-b063-6b42dc3e1973-7-0f96-3c3c-6902-947f-3395-3d87-a792"
      },
      {
       "current": "f085f4c2-8589-11ec-89fc-6b42dc3e1973-9-9af8-0200-eaa1-3813-cf18-324a-e007-3300-22ea",
       "next": "3737771a-587f-11ea-bd55-0242ac120002-23-4d9a-2e3f-77fc-2e17-aca4-4b7c-1aa5-4fd2-763e-2442",
       "previous": "f085f1a0-8589-11ec-b063-6b42dc3e1973-8-0f96-3c3c-6902-947f-3395-3d87-a792-40ff"
      }
     ],
     "next": "3737771a-587f-11ea-bd55-0242ac120002-24-2e3f-77fc-2e17-aca4-4b7c-1aa5-4fd2-763e-2442-69a2",
     "previous": "f085f1a0-8589-11ec-b063-6b42dc3e1973-9-0f96-3c3c-6902-947f-3395-3d87-a792-40ff-d397"
    }
   },
   "outputs": [],
   "source": [
    "group_vars['enable_test_federation'] = False\n",
    "group_vars['enable_test_federation']"
   ]
  },
  {
   "cell_type": "markdown",
   "id": "4eb3fbbc",
   "metadata": {
    "lc_cell_meme": {
     "current": "3737771a-587f-11ea-bd55-0242ac120002-24-2e3f-77fc-2e17-aca4-4b7c-1aa5-4fd2-763e-2442-69a2",
     "history": [
      {
       "current": "3737771a-587f-11ea-bd55-0242ac120002-16-8413-a390-901a-12e7-edbf-06f0-4bb2-4d9a-2e3f-77fc",
       "next": "bb19f52e-539f-11ea-9227-0242ac120002-16-0f6b-ec32-4090-08b8-921d-8f40-b281-2b6f-d760-3b50",
       "previous": "f085f4c2-8589-11ec-89fc-6b42dc3e1973"
      },
      {
       "current": "3737771a-587f-11ea-bd55-0242ac120002-17-a390-901a-12e7-edbf-06f0-4bb2-4d9a-2e3f-77fc-2e17",
       "next": "bb19f52e-539f-11ea-9227-0242ac120002-17-ec32-4090-08b8-921d-8f40-b281-2b6f-d760-3b50-fb0f",
       "previous": "f085f4c2-8589-11ec-89fc-6b42dc3e1973-1-9af8"
      },
      {
       "current": "3737771a-587f-11ea-bd55-0242ac120002-18-901a-12e7-edbf-06f0-4bb2-4d9a-2e3f-77fc-2e17-aca4",
       "next": "bb19f52e-539f-11ea-9227-0242ac120002-18-4090-08b8-921d-8f40-b281-2b6f-d760-3b50-fb0f-6a8a",
       "previous": "f085f4c2-8589-11ec-89fc-6b42dc3e1973-2-9af8-0200"
      },
      {
       "current": "3737771a-587f-11ea-bd55-0242ac120002-19-12e7-edbf-06f0-4bb2-4d9a-2e3f-77fc-2e17-aca4-4b7c",
       "next": "bb19f52e-539f-11ea-9227-0242ac120002-19-08b8-921d-8f40-b281-2b6f-d760-3b50-fb0f-6a8a-e8a5",
       "previous": "f085f4c2-8589-11ec-89fc-6b42dc3e1973-3-9af8-0200-eaa1"
      },
      {
       "current": "3737771a-587f-11ea-bd55-0242ac120002-20-edbf-06f0-4bb2-4d9a-2e3f-77fc-2e17-aca4-4b7c-1aa5",
       "next": "bb19f52e-539f-11ea-9227-0242ac120002-20-921d-8f40-b281-2b6f-d760-3b50-fb0f-6a8a-e8a5-c576",
       "previous": "f085f4c2-8589-11ec-89fc-6b42dc3e1973-4-9af8-0200-eaa1-3813"
      },
      {
       "current": "3737771a-587f-11ea-bd55-0242ac120002-21-06f0-4bb2-4d9a-2e3f-77fc-2e17-aca4-4b7c-1aa5-4fd2",
       "next": "bb19f52e-539f-11ea-9227-0242ac120002-21-8f40-b281-2b6f-d760-3b50-fb0f-6a8a-e8a5-c576-b6eb",
       "previous": "f085f4c2-8589-11ec-89fc-6b42dc3e1973-5-9af8-0200-eaa1-3813-cf18"
      },
      {
       "current": "3737771a-587f-11ea-bd55-0242ac120002-22-4bb2-4d9a-2e3f-77fc-2e17-aca4-4b7c-1aa5-4fd2-763e",
       "next": "bb19f52e-539f-11ea-9227-0242ac120002-22-b281-2b6f-d760-3b50-fb0f-6a8a-e8a5-c576-b6eb-c679",
       "previous": "f085f4c2-8589-11ec-89fc-6b42dc3e1973-6-9af8-0200-eaa1-3813-cf18-324a"
      },
      {
       "current": "3737771a-587f-11ea-bd55-0242ac120002-23-4d9a-2e3f-77fc-2e17-aca4-4b7c-1aa5-4fd2-763e-2442",
       "next": "bb19f52e-539f-11ea-9227-0242ac120002-23-2b6f-d760-3b50-fb0f-6a8a-e8a5-c576-b6eb-c679-7bb1",
       "previous": "f085f4c2-8589-11ec-89fc-6b42dc3e1973-7-9af8-0200-eaa1-3813-cf18-324a-e007"
      },
      {
       "current": "3737771a-587f-11ea-bd55-0242ac120002-24-2e3f-77fc-2e17-aca4-4b7c-1aa5-4fd2-763e-2442-69a2",
       "next": "bb19f52e-539f-11ea-9227-0242ac120002-24-d760-3b50-fb0f-6a8a-e8a5-c576-b6eb-c679-7bb1-75ef",
       "previous": "f085f4c2-8589-11ec-89fc-6b42dc3e1973-8-9af8-0200-eaa1-3813-cf18-324a-e007-3300"
      }
     ],
     "next": "bb19f52e-539f-11ea-9227-0242ac120002-25-3b50-fb0f-6a8a-e8a5-c576-b6eb-c679-7bb1-75ef-6b11",
     "previous": "f085f4c2-8589-11ec-89fc-6b42dc3e1973-9-9af8-0200-eaa1-3813-cf18-324a-e007-3300-22ea"
    }
   },
   "source": [
    "DSのサーバー名\n",
    "\n",
    "- 未設定ならデフォルト値が使用されます。\n",
    "- テストフェデレーションを使用するなら、適切な値の設定が必要です。"
   ]
  },
  {
   "cell_type": "code",
   "execution_count": null,
   "id": "3367a9a6",
   "metadata": {
    "lc_cell_meme": {
     "current": "bb19f52e-539f-11ea-9227-0242ac120002-25-3b50-fb0f-6a8a-e8a5-c576-b6eb-c679-7bb1-75ef-6b11",
     "history": [
      {
       "current": "bb19f52e-539f-11ea-9227-0242ac120002-17-ec32-4090-08b8-921d-8f40-b281-2b6f-d760-3b50-fb0f",
       "next": "7ec2a5fa-587f-11ea-bd55-0242ac120002-15-bf8a-6f12-6963-b646-6b1a-3074-8131-789f-2b30-69fa",
       "previous": "3737771a-587f-11ea-bd55-0242ac120002-15-321a-8413-a390-901a-12e7-edbf-06f0-4bb2-4d9a-2e3f"
      },
      {
       "current": "bb19f52e-539f-11ea-9227-0242ac120002-18-4090-08b8-921d-8f40-b281-2b6f-d760-3b50-fb0f-6a8a",
       "next": "7ec2a5fa-587f-11ea-bd55-0242ac120002-16-6f12-6963-b646-6b1a-3074-8131-789f-2b30-69fa-426a",
       "previous": "3737771a-587f-11ea-bd55-0242ac120002-16-8413-a390-901a-12e7-edbf-06f0-4bb2-4d9a-2e3f-77fc"
      },
      {
       "current": "bb19f52e-539f-11ea-9227-0242ac120002-19-08b8-921d-8f40-b281-2b6f-d760-3b50-fb0f-6a8a-e8a5",
       "next": "7ec2a5fa-587f-11ea-bd55-0242ac120002-17-6963-b646-6b1a-3074-8131-789f-2b30-69fa-426a-fbc6",
       "previous": "3737771a-587f-11ea-bd55-0242ac120002-17-a390-901a-12e7-edbf-06f0-4bb2-4d9a-2e3f-77fc-2e17"
      },
      {
       "current": "bb19f52e-539f-11ea-9227-0242ac120002-20-921d-8f40-b281-2b6f-d760-3b50-fb0f-6a8a-e8a5-c576",
       "next": "7ec2a5fa-587f-11ea-bd55-0242ac120002-18-b646-6b1a-3074-8131-789f-2b30-69fa-426a-fbc6-7cae",
       "previous": "3737771a-587f-11ea-bd55-0242ac120002-18-901a-12e7-edbf-06f0-4bb2-4d9a-2e3f-77fc-2e17-aca4"
      },
      {
       "current": "bb19f52e-539f-11ea-9227-0242ac120002-21-8f40-b281-2b6f-d760-3b50-fb0f-6a8a-e8a5-c576-b6eb",
       "next": "7ec2a5fa-587f-11ea-bd55-0242ac120002-19-6b1a-3074-8131-789f-2b30-69fa-426a-fbc6-7cae-6c38",
       "previous": "3737771a-587f-11ea-bd55-0242ac120002-19-12e7-edbf-06f0-4bb2-4d9a-2e3f-77fc-2e17-aca4-4b7c"
      },
      {
       "current": "bb19f52e-539f-11ea-9227-0242ac120002-22-b281-2b6f-d760-3b50-fb0f-6a8a-e8a5-c576-b6eb-c679",
       "next": "7ec2a5fa-587f-11ea-bd55-0242ac120002-20-3074-8131-789f-2b30-69fa-426a-fbc6-7cae-6c38-fdd0",
       "previous": "3737771a-587f-11ea-bd55-0242ac120002-20-edbf-06f0-4bb2-4d9a-2e3f-77fc-2e17-aca4-4b7c-1aa5"
      },
      {
       "current": "bb19f52e-539f-11ea-9227-0242ac120002-23-2b6f-d760-3b50-fb0f-6a8a-e8a5-c576-b6eb-c679-7bb1",
       "next": "7ec2a5fa-587f-11ea-bd55-0242ac120002-21-8131-789f-2b30-69fa-426a-fbc6-7cae-6c38-fdd0-1c5a",
       "previous": "3737771a-587f-11ea-bd55-0242ac120002-21-06f0-4bb2-4d9a-2e3f-77fc-2e17-aca4-4b7c-1aa5-4fd2"
      },
      {
       "current": "bb19f52e-539f-11ea-9227-0242ac120002-24-d760-3b50-fb0f-6a8a-e8a5-c576-b6eb-c679-7bb1-75ef",
       "next": "7ec2a5fa-587f-11ea-bd55-0242ac120002-22-789f-2b30-69fa-426a-fbc6-7cae-6c38-fdd0-1c5a-5fac",
       "previous": "3737771a-587f-11ea-bd55-0242ac120002-22-4bb2-4d9a-2e3f-77fc-2e17-aca4-4b7c-1aa5-4fd2-763e"
      },
      {
       "current": "bb19f52e-539f-11ea-9227-0242ac120002-25-3b50-fb0f-6a8a-e8a5-c576-b6eb-c679-7bb1-75ef-6b11",
       "next": "7ec2a5fa-587f-11ea-bd55-0242ac120002-23-2b30-69fa-426a-fbc6-7cae-6c38-fdd0-1c5a-5fac-6ee0",
       "previous": "3737771a-587f-11ea-bd55-0242ac120002-23-4d9a-2e3f-77fc-2e17-aca4-4b7c-1aa5-4fd2-763e-2442"
      }
     ],
     "next": "7ec2a5fa-587f-11ea-bd55-0242ac120002-24-69fa-426a-fbc6-7cae-6c38-fdd0-1c5a-5fac-6ee0-5295",
     "previous": "3737771a-587f-11ea-bd55-0242ac120002-24-2e3f-77fc-2e17-aca4-4b7c-1aa5-4fd2-763e-2442-69a2"
    }
   },
   "outputs": [],
   "source": [
    "# group_vars['gakunin_ds_hostname'] = 'test-ds.gakunin.nii.ac.jp'\n",
    "# group_vars['gakunin_ds_hostname']"
   ]
  },
  {
   "cell_type": "markdown",
   "id": "de9a5a07",
   "metadata": {
    "lc_cell_meme": {
     "current": "7ec2a5fa-587f-11ea-bd55-0242ac120002-24-69fa-426a-fbc6-7cae-6c38-fdd0-1c5a-5fac-6ee0-5295",
     "history": [
      {
       "current": "7ec2a5fa-587f-11ea-bd55-0242ac120002-16-6f12-6963-b646-6b1a-3074-8131-789f-2b30-69fa-426a",
       "next": "bb19f6c8-539f-11ea-9227-0242ac120002-16-6337-c346-d221-6228-37fd-1188-c928-09ab-a6c4-d579",
       "previous": "bb19f52e-539f-11ea-9227-0242ac120002-16-0f6b-ec32-4090-08b8-921d-8f40-b281-2b6f-d760-3b50"
      },
      {
       "current": "7ec2a5fa-587f-11ea-bd55-0242ac120002-17-6963-b646-6b1a-3074-8131-789f-2b30-69fa-426a-fbc6",
       "next": "bb19f6c8-539f-11ea-9227-0242ac120002-17-c346-d221-6228-37fd-1188-c928-09ab-a6c4-d579-6dda",
       "previous": "bb19f52e-539f-11ea-9227-0242ac120002-17-ec32-4090-08b8-921d-8f40-b281-2b6f-d760-3b50-fb0f"
      },
      {
       "current": "7ec2a5fa-587f-11ea-bd55-0242ac120002-18-b646-6b1a-3074-8131-789f-2b30-69fa-426a-fbc6-7cae",
       "next": "bb19f6c8-539f-11ea-9227-0242ac120002-18-d221-6228-37fd-1188-c928-09ab-a6c4-d579-6dda-1707",
       "previous": "bb19f52e-539f-11ea-9227-0242ac120002-18-4090-08b8-921d-8f40-b281-2b6f-d760-3b50-fb0f-6a8a"
      },
      {
       "current": "7ec2a5fa-587f-11ea-bd55-0242ac120002-19-6b1a-3074-8131-789f-2b30-69fa-426a-fbc6-7cae-6c38",
       "next": "bb19f6c8-539f-11ea-9227-0242ac120002-19-6228-37fd-1188-c928-09ab-a6c4-d579-6dda-1707-728a",
       "previous": "bb19f52e-539f-11ea-9227-0242ac120002-19-08b8-921d-8f40-b281-2b6f-d760-3b50-fb0f-6a8a-e8a5"
      },
      {
       "current": "7ec2a5fa-587f-11ea-bd55-0242ac120002-20-3074-8131-789f-2b30-69fa-426a-fbc6-7cae-6c38-fdd0",
       "next": "bb19f6c8-539f-11ea-9227-0242ac120002-20-37fd-1188-c928-09ab-a6c4-d579-6dda-1707-728a-fe81",
       "previous": "bb19f52e-539f-11ea-9227-0242ac120002-20-921d-8f40-b281-2b6f-d760-3b50-fb0f-6a8a-e8a5-c576"
      },
      {
       "current": "7ec2a5fa-587f-11ea-bd55-0242ac120002-21-8131-789f-2b30-69fa-426a-fbc6-7cae-6c38-fdd0-1c5a",
       "next": "bb19f6c8-539f-11ea-9227-0242ac120002-21-1188-c928-09ab-a6c4-d579-6dda-1707-728a-fe81-d597",
       "previous": "bb19f52e-539f-11ea-9227-0242ac120002-21-8f40-b281-2b6f-d760-3b50-fb0f-6a8a-e8a5-c576-b6eb"
      },
      {
       "current": "7ec2a5fa-587f-11ea-bd55-0242ac120002-22-789f-2b30-69fa-426a-fbc6-7cae-6c38-fdd0-1c5a-5fac",
       "next": "bb19f6c8-539f-11ea-9227-0242ac120002-22-c928-09ab-a6c4-d579-6dda-1707-728a-fe81-d597-d7ef",
       "previous": "bb19f52e-539f-11ea-9227-0242ac120002-22-b281-2b6f-d760-3b50-fb0f-6a8a-e8a5-c576-b6eb-c679"
      },
      {
       "current": "7ec2a5fa-587f-11ea-bd55-0242ac120002-23-2b30-69fa-426a-fbc6-7cae-6c38-fdd0-1c5a-5fac-6ee0",
       "next": "bb19f6c8-539f-11ea-9227-0242ac120002-23-09ab-a6c4-d579-6dda-1707-728a-fe81-d597-d7ef-d9f5",
       "previous": "bb19f52e-539f-11ea-9227-0242ac120002-23-2b6f-d760-3b50-fb0f-6a8a-e8a5-c576-b6eb-c679-7bb1"
      },
      {
       "current": "7ec2a5fa-587f-11ea-bd55-0242ac120002-24-69fa-426a-fbc6-7cae-6c38-fdd0-1c5a-5fac-6ee0-5295",
       "next": "bb19f6c8-539f-11ea-9227-0242ac120002-24-a6c4-d579-6dda-1707-728a-fe81-d597-d7ef-d9f5-d040",
       "previous": "bb19f52e-539f-11ea-9227-0242ac120002-24-d760-3b50-fb0f-6a8a-e8a5-c576-b6eb-c679-7bb1-75ef"
      }
     ],
     "next": "bb19f6c8-539f-11ea-9227-0242ac120002-25-d579-6dda-1707-728a-fe81-d597-d7ef-d9f5-d040-16a6",
     "previous": "bb19f52e-539f-11ea-9227-0242ac120002-25-3b50-fb0f-6a8a-e8a5-c576-b6eb-c679-7bb1-75ef-6b11"
    }
   },
   "source": [
    "クラウドゲートウェイサーバーの設定\n",
    "\n",
    "- 未設定ならデフォルト値が使用されます。\n",
    "- テストフェデレーションを使用するなら、適切な値の設定が必要です。"
   ]
  },
  {
   "cell_type": "code",
   "execution_count": null,
   "id": "5a4309db",
   "metadata": {
    "lc_cell_meme": {
     "current": "bb19f6c8-539f-11ea-9227-0242ac120002-25-d579-6dda-1707-728a-fe81-d597-d7ef-d9f5-d040-16a6",
     "history": [
      {
       "current": "bb19f6c8-539f-11ea-9227-0242ac120002-17-c346-d221-6228-37fd-1188-c928-09ab-a6c4-d579-6dda",
       "next": "f6ca2858-591e-11ea-bd55-0242ac120002-15-721b-c4a4-20f2-55a8-f0f4-be8e-2d46-c53a-db9b-0253",
       "previous": "7ec2a5fa-587f-11ea-bd55-0242ac120002-15-bf8a-6f12-6963-b646-6b1a-3074-8131-789f-2b30-69fa"
      },
      {
       "current": "bb19f6c8-539f-11ea-9227-0242ac120002-18-d221-6228-37fd-1188-c928-09ab-a6c4-d579-6dda-1707",
       "next": "f6ca2858-591e-11ea-bd55-0242ac120002-16-c4a4-20f2-55a8-f0f4-be8e-2d46-c53a-db9b-0253-d6a3",
       "previous": "7ec2a5fa-587f-11ea-bd55-0242ac120002-16-6f12-6963-b646-6b1a-3074-8131-789f-2b30-69fa-426a"
      },
      {
       "current": "bb19f6c8-539f-11ea-9227-0242ac120002-19-6228-37fd-1188-c928-09ab-a6c4-d579-6dda-1707-728a",
       "next": "f6ca2858-591e-11ea-bd55-0242ac120002-17-20f2-55a8-f0f4-be8e-2d46-c53a-db9b-0253-d6a3-1ed2",
       "previous": "7ec2a5fa-587f-11ea-bd55-0242ac120002-17-6963-b646-6b1a-3074-8131-789f-2b30-69fa-426a-fbc6"
      },
      {
       "current": "bb19f6c8-539f-11ea-9227-0242ac120002-20-37fd-1188-c928-09ab-a6c4-d579-6dda-1707-728a-fe81",
       "next": "f6ca2858-591e-11ea-bd55-0242ac120002-18-55a8-f0f4-be8e-2d46-c53a-db9b-0253-d6a3-1ed2-7133",
       "previous": "7ec2a5fa-587f-11ea-bd55-0242ac120002-18-b646-6b1a-3074-8131-789f-2b30-69fa-426a-fbc6-7cae"
      },
      {
       "current": "bb19f6c8-539f-11ea-9227-0242ac120002-21-1188-c928-09ab-a6c4-d579-6dda-1707-728a-fe81-d597",
       "next": "f6ca2858-591e-11ea-bd55-0242ac120002-19-f0f4-be8e-2d46-c53a-db9b-0253-d6a3-1ed2-7133-0802",
       "previous": "7ec2a5fa-587f-11ea-bd55-0242ac120002-19-6b1a-3074-8131-789f-2b30-69fa-426a-fbc6-7cae-6c38"
      },
      {
       "current": "bb19f6c8-539f-11ea-9227-0242ac120002-22-c928-09ab-a6c4-d579-6dda-1707-728a-fe81-d597-d7ef",
       "next": "f6ca2858-591e-11ea-bd55-0242ac120002-20-be8e-2d46-c53a-db9b-0253-d6a3-1ed2-7133-0802-8824",
       "previous": "7ec2a5fa-587f-11ea-bd55-0242ac120002-20-3074-8131-789f-2b30-69fa-426a-fbc6-7cae-6c38-fdd0"
      },
      {
       "current": "bb19f6c8-539f-11ea-9227-0242ac120002-23-09ab-a6c4-d579-6dda-1707-728a-fe81-d597-d7ef-d9f5",
       "next": "f6ca2858-591e-11ea-bd55-0242ac120002-21-2d46-c53a-db9b-0253-d6a3-1ed2-7133-0802-8824-5b53",
       "previous": "7ec2a5fa-587f-11ea-bd55-0242ac120002-21-8131-789f-2b30-69fa-426a-fbc6-7cae-6c38-fdd0-1c5a"
      },
      {
       "current": "bb19f6c8-539f-11ea-9227-0242ac120002-24-a6c4-d579-6dda-1707-728a-fe81-d597-d7ef-d9f5-d040",
       "next": "f6ca2858-591e-11ea-bd55-0242ac120002-22-c53a-db9b-0253-d6a3-1ed2-7133-0802-8824-5b53-bfda",
       "previous": "7ec2a5fa-587f-11ea-bd55-0242ac120002-22-789f-2b30-69fa-426a-fbc6-7cae-6c38-fdd0-1c5a-5fac"
      },
      {
       "current": "bb19f6c8-539f-11ea-9227-0242ac120002-25-d579-6dda-1707-728a-fe81-d597-d7ef-d9f5-d040-16a6",
       "next": "f6ca2858-591e-11ea-bd55-0242ac120002-23-db9b-0253-d6a3-1ed2-7133-0802-8824-5b53-bfda-49d9",
       "previous": "7ec2a5fa-587f-11ea-bd55-0242ac120002-23-2b30-69fa-426a-fbc6-7cae-6c38-fdd0-1c5a-5fac-6ee0"
      }
     ],
     "next": "f6ca2858-591e-11ea-bd55-0242ac120002-24-0253-d6a3-1ed2-7133-0802-8824-5b53-bfda-49d9-af14",
     "previous": "7ec2a5fa-587f-11ea-bd55-0242ac120002-24-69fa-426a-fbc6-7cae-6c38-fdd0-1c5a-5fac-6ee0-5295"
    }
   },
   "outputs": [],
   "source": [
    "# group_vars['cg_fqdn'] = 'sptest.cg.gakunin.jp'\n",
    "# group_vars['cg_fqdn']"
   ]
  },
  {
   "cell_type": "markdown",
   "id": "0183c77c",
   "metadata": {
    "lc_cell_meme": {
     "current": "f6ca2858-591e-11ea-bd55-0242ac120002-24-0253-d6a3-1ed2-7133-0802-8824-5b53-bfda-49d9-af14",
     "history": [
      {
       "current": "f6ca2858-591e-11ea-bd55-0242ac120002-16-c4a4-20f2-55a8-f0f4-be8e-2d46-c53a-db9b-0253-d6a3",
       "next": "f6ca2a92-591e-11ea-bd55-0242ac120002-15-9778-8df6-523f-503f-c8f4-e62b-30fb-b068-7347-4ab6",
       "previous": "bb19f6c8-539f-11ea-9227-0242ac120002-16-6337-c346-d221-6228-37fd-1188-c928-09ab-a6c4-d579"
      },
      {
       "current": "f6ca2858-591e-11ea-bd55-0242ac120002-17-20f2-55a8-f0f4-be8e-2d46-c53a-db9b-0253-d6a3-1ed2",
       "next": "f6ca2a92-591e-11ea-bd55-0242ac120002-16-8df6-523f-503f-c8f4-e62b-30fb-b068-7347-4ab6-78c1",
       "previous": "bb19f6c8-539f-11ea-9227-0242ac120002-17-c346-d221-6228-37fd-1188-c928-09ab-a6c4-d579-6dda"
      },
      {
       "current": "f6ca2858-591e-11ea-bd55-0242ac120002-18-55a8-f0f4-be8e-2d46-c53a-db9b-0253-d6a3-1ed2-7133",
       "next": "f6ca2a92-591e-11ea-bd55-0242ac120002-17-523f-503f-c8f4-e62b-30fb-b068-7347-4ab6-78c1-82db",
       "previous": "bb19f6c8-539f-11ea-9227-0242ac120002-18-d221-6228-37fd-1188-c928-09ab-a6c4-d579-6dda-1707"
      },
      {
       "current": "f6ca2858-591e-11ea-bd55-0242ac120002-19-f0f4-be8e-2d46-c53a-db9b-0253-d6a3-1ed2-7133-0802",
       "next": "f6ca2a92-591e-11ea-bd55-0242ac120002-18-503f-c8f4-e62b-30fb-b068-7347-4ab6-78c1-82db-758a",
       "previous": "bb19f6c8-539f-11ea-9227-0242ac120002-19-6228-37fd-1188-c928-09ab-a6c4-d579-6dda-1707-728a"
      },
      {
       "current": "f6ca2858-591e-11ea-bd55-0242ac120002-20-be8e-2d46-c53a-db9b-0253-d6a3-1ed2-7133-0802-8824",
       "next": "f6ca2a92-591e-11ea-bd55-0242ac120002-19-c8f4-e62b-30fb-b068-7347-4ab6-78c1-82db-758a-f32d",
       "previous": "bb19f6c8-539f-11ea-9227-0242ac120002-20-37fd-1188-c928-09ab-a6c4-d579-6dda-1707-728a-fe81"
      },
      {
       "current": "f6ca2858-591e-11ea-bd55-0242ac120002-21-2d46-c53a-db9b-0253-d6a3-1ed2-7133-0802-8824-5b53",
       "next": "f6ca2a92-591e-11ea-bd55-0242ac120002-20-e62b-30fb-b068-7347-4ab6-78c1-82db-758a-f32d-30a0",
       "previous": "bb19f6c8-539f-11ea-9227-0242ac120002-21-1188-c928-09ab-a6c4-d579-6dda-1707-728a-fe81-d597"
      },
      {
       "current": "f6ca2858-591e-11ea-bd55-0242ac120002-22-c53a-db9b-0253-d6a3-1ed2-7133-0802-8824-5b53-bfda",
       "next": "f6ca2a92-591e-11ea-bd55-0242ac120002-21-30fb-b068-7347-4ab6-78c1-82db-758a-f32d-30a0-a548",
       "previous": "bb19f6c8-539f-11ea-9227-0242ac120002-22-c928-09ab-a6c4-d579-6dda-1707-728a-fe81-d597-d7ef"
      },
      {
       "current": "f6ca2858-591e-11ea-bd55-0242ac120002-23-db9b-0253-d6a3-1ed2-7133-0802-8824-5b53-bfda-49d9",
       "next": "f6ca2a92-591e-11ea-bd55-0242ac120002-22-b068-7347-4ab6-78c1-82db-758a-f32d-30a0-a548-d519",
       "previous": "bb19f6c8-539f-11ea-9227-0242ac120002-23-09ab-a6c4-d579-6dda-1707-728a-fe81-d597-d7ef-d9f5"
      },
      {
       "current": "f6ca2858-591e-11ea-bd55-0242ac120002-24-0253-d6a3-1ed2-7133-0802-8824-5b53-bfda-49d9-af14",
       "next": "f6ca2a92-591e-11ea-bd55-0242ac120002-23-7347-4ab6-78c1-82db-758a-f32d-30a0-a548-d519-ee4f",
       "previous": "bb19f6c8-539f-11ea-9227-0242ac120002-24-a6c4-d579-6dda-1707-728a-fe81-d597-d7ef-d9f5-d040"
      }
     ],
     "next": "f6ca2a92-591e-11ea-bd55-0242ac120002-24-4ab6-78c1-82db-758a-f32d-30a0-a548-d519-ee4f-d521",
     "previous": "bb19f6c8-539f-11ea-9227-0242ac120002-25-d579-6dda-1707-728a-fe81-d597-d7ef-d9f5-d040-16a6"
    }
   },
   "source": [
    "フェデレーションメタデータ検証用証明書の用意"
   ]
  },
  {
   "cell_type": "code",
   "execution_count": null,
   "id": "83c37250",
   "metadata": {
    "lc_cell_meme": {
     "current": "f6ca2a92-591e-11ea-bd55-0242ac120002-24-4ab6-78c1-82db-758a-f32d-30a0-a548-d519-ee4f-d521",
     "history": [
      {
       "current": "f6ca2a92-591e-11ea-bd55-0242ac120002-16-8df6-523f-503f-c8f4-e62b-30fb-b068-7347-4ab6-78c1",
       "next": "85d819f6-591f-11ea-bd55-0242ac120002-15-65f4-0a13-1d0c-9c99-dd32-5ecf-e1f0-346b-e0a3-8169",
       "previous": "f6ca2858-591e-11ea-bd55-0242ac120002-15-721b-c4a4-20f2-55a8-f0f4-be8e-2d46-c53a-db9b-0253"
      },
      {
       "current": "f6ca2a92-591e-11ea-bd55-0242ac120002-17-523f-503f-c8f4-e62b-30fb-b068-7347-4ab6-78c1-82db",
       "next": "85d819f6-591f-11ea-bd55-0242ac120002-16-0a13-1d0c-9c99-dd32-5ecf-e1f0-346b-e0a3-8169-fb05",
       "previous": "f6ca2858-591e-11ea-bd55-0242ac120002-16-c4a4-20f2-55a8-f0f4-be8e-2d46-c53a-db9b-0253-d6a3"
      },
      {
       "current": "f6ca2a92-591e-11ea-bd55-0242ac120002-18-503f-c8f4-e62b-30fb-b068-7347-4ab6-78c1-82db-758a",
       "next": "85d819f6-591f-11ea-bd55-0242ac120002-17-1d0c-9c99-dd32-5ecf-e1f0-346b-e0a3-8169-fb05-0595",
       "previous": "f6ca2858-591e-11ea-bd55-0242ac120002-17-20f2-55a8-f0f4-be8e-2d46-c53a-db9b-0253-d6a3-1ed2"
      },
      {
       "current": "f6ca2a92-591e-11ea-bd55-0242ac120002-19-c8f4-e62b-30fb-b068-7347-4ab6-78c1-82db-758a-f32d",
       "next": "85d819f6-591f-11ea-bd55-0242ac120002-18-9c99-dd32-5ecf-e1f0-346b-e0a3-8169-fb05-0595-deef",
       "previous": "f6ca2858-591e-11ea-bd55-0242ac120002-18-55a8-f0f4-be8e-2d46-c53a-db9b-0253-d6a3-1ed2-7133"
      },
      {
       "current": "f6ca2a92-591e-11ea-bd55-0242ac120002-20-e62b-30fb-b068-7347-4ab6-78c1-82db-758a-f32d-30a0",
       "next": "85d819f6-591f-11ea-bd55-0242ac120002-19-dd32-5ecf-e1f0-346b-e0a3-8169-fb05-0595-deef-7646",
       "previous": "f6ca2858-591e-11ea-bd55-0242ac120002-19-f0f4-be8e-2d46-c53a-db9b-0253-d6a3-1ed2-7133-0802"
      },
      {
       "current": "f6ca2a92-591e-11ea-bd55-0242ac120002-21-30fb-b068-7347-4ab6-78c1-82db-758a-f32d-30a0-a548",
       "next": "85d819f6-591f-11ea-bd55-0242ac120002-20-5ecf-e1f0-346b-e0a3-8169-fb05-0595-deef-7646-6d51",
       "previous": "f6ca2858-591e-11ea-bd55-0242ac120002-20-be8e-2d46-c53a-db9b-0253-d6a3-1ed2-7133-0802-8824"
      },
      {
       "current": "f6ca2a92-591e-11ea-bd55-0242ac120002-22-b068-7347-4ab6-78c1-82db-758a-f32d-30a0-a548-d519",
       "next": "85d819f6-591f-11ea-bd55-0242ac120002-21-e1f0-346b-e0a3-8169-fb05-0595-deef-7646-6d51-84d3",
       "previous": "f6ca2858-591e-11ea-bd55-0242ac120002-21-2d46-c53a-db9b-0253-d6a3-1ed2-7133-0802-8824-5b53"
      },
      {
       "current": "f6ca2a92-591e-11ea-bd55-0242ac120002-23-7347-4ab6-78c1-82db-758a-f32d-30a0-a548-d519-ee4f",
       "next": "85d819f6-591f-11ea-bd55-0242ac120002-22-346b-e0a3-8169-fb05-0595-deef-7646-6d51-84d3-599e",
       "previous": "f6ca2858-591e-11ea-bd55-0242ac120002-22-c53a-db9b-0253-d6a3-1ed2-7133-0802-8824-5b53-bfda"
      },
      {
       "current": "f6ca2a92-591e-11ea-bd55-0242ac120002-24-4ab6-78c1-82db-758a-f32d-30a0-a548-d519-ee4f-d521",
       "next": "85d819f6-591f-11ea-bd55-0242ac120002-23-e0a3-8169-fb05-0595-deef-7646-6d51-84d3-599e-9f04",
       "previous": "f6ca2858-591e-11ea-bd55-0242ac120002-23-db9b-0253-d6a3-1ed2-7133-0802-8824-5b53-bfda-49d9"
      }
     ],
     "next": "85d819f6-591f-11ea-bd55-0242ac120002-24-8169-fb05-0595-deef-7646-6d51-84d3-599e-9f04-bf68",
     "previous": "f6ca2858-591e-11ea-bd55-0242ac120002-24-0253-d6a3-1ed2-7133-0802-8824-5b53-bfda-49d9-af14"
    }
   },
   "outputs": [],
   "source": [
    "# group_vars['metadata_signer_url'] = 'https://metadata.gakunin.nii.ac.jp/gakunin-test-signer-2020.cer'\n",
    "# group_vars['metadata_signer_url']"
   ]
  },
  {
   "cell_type": "markdown",
   "id": "e6a260b4",
   "metadata": {
    "lc_cell_meme": {
     "current": "85d819f6-591f-11ea-bd55-0242ac120002-24-8169-fb05-0595-deef-7646-6d51-84d3-599e-9f04-bf68",
     "history": [
      {
       "current": "85d819f6-591f-11ea-bd55-0242ac120002-16-0a13-1d0c-9c99-dd32-5ecf-e1f0-346b-e0a3-8169-fb05",
       "next": "85d81c44-591f-11ea-bd55-0242ac120002-15-2669-1327-2670-6e49-fd1d-3ba6-1be3-8054-2efc-90ad",
       "previous": "f6ca2a92-591e-11ea-bd55-0242ac120002-15-9778-8df6-523f-503f-c8f4-e62b-30fb-b068-7347-4ab6"
      },
      {
       "current": "85d819f6-591f-11ea-bd55-0242ac120002-17-1d0c-9c99-dd32-5ecf-e1f0-346b-e0a3-8169-fb05-0595",
       "next": "85d81c44-591f-11ea-bd55-0242ac120002-16-1327-2670-6e49-fd1d-3ba6-1be3-8054-2efc-90ad-6b53",
       "previous": "f6ca2a92-591e-11ea-bd55-0242ac120002-16-8df6-523f-503f-c8f4-e62b-30fb-b068-7347-4ab6-78c1"
      },
      {
       "current": "85d819f6-591f-11ea-bd55-0242ac120002-18-9c99-dd32-5ecf-e1f0-346b-e0a3-8169-fb05-0595-deef",
       "next": "85d81c44-591f-11ea-bd55-0242ac120002-17-2670-6e49-fd1d-3ba6-1be3-8054-2efc-90ad-6b53-7aeb",
       "previous": "f6ca2a92-591e-11ea-bd55-0242ac120002-17-523f-503f-c8f4-e62b-30fb-b068-7347-4ab6-78c1-82db"
      },
      {
       "current": "85d819f6-591f-11ea-bd55-0242ac120002-19-dd32-5ecf-e1f0-346b-e0a3-8169-fb05-0595-deef-7646",
       "next": "85d81c44-591f-11ea-bd55-0242ac120002-18-6e49-fd1d-3ba6-1be3-8054-2efc-90ad-6b53-7aeb-cf16",
       "previous": "f6ca2a92-591e-11ea-bd55-0242ac120002-18-503f-c8f4-e62b-30fb-b068-7347-4ab6-78c1-82db-758a"
      },
      {
       "current": "85d819f6-591f-11ea-bd55-0242ac120002-20-5ecf-e1f0-346b-e0a3-8169-fb05-0595-deef-7646-6d51",
       "next": "85d81c44-591f-11ea-bd55-0242ac120002-19-fd1d-3ba6-1be3-8054-2efc-90ad-6b53-7aeb-cf16-dd98",
       "previous": "f6ca2a92-591e-11ea-bd55-0242ac120002-19-c8f4-e62b-30fb-b068-7347-4ab6-78c1-82db-758a-f32d"
      },
      {
       "current": "85d819f6-591f-11ea-bd55-0242ac120002-21-e1f0-346b-e0a3-8169-fb05-0595-deef-7646-6d51-84d3",
       "next": "85d81c44-591f-11ea-bd55-0242ac120002-20-3ba6-1be3-8054-2efc-90ad-6b53-7aeb-cf16-dd98-b08a",
       "previous": "f6ca2a92-591e-11ea-bd55-0242ac120002-20-e62b-30fb-b068-7347-4ab6-78c1-82db-758a-f32d-30a0"
      },
      {
       "current": "85d819f6-591f-11ea-bd55-0242ac120002-22-346b-e0a3-8169-fb05-0595-deef-7646-6d51-84d3-599e",
       "next": "85d81c44-591f-11ea-bd55-0242ac120002-21-1be3-8054-2efc-90ad-6b53-7aeb-cf16-dd98-b08a-b3fe",
       "previous": "f6ca2a92-591e-11ea-bd55-0242ac120002-21-30fb-b068-7347-4ab6-78c1-82db-758a-f32d-30a0-a548"
      },
      {
       "current": "85d819f6-591f-11ea-bd55-0242ac120002-23-e0a3-8169-fb05-0595-deef-7646-6d51-84d3-599e-9f04",
       "next": "85d81c44-591f-11ea-bd55-0242ac120002-22-8054-2efc-90ad-6b53-7aeb-cf16-dd98-b08a-b3fe-2d4a",
       "previous": "f6ca2a92-591e-11ea-bd55-0242ac120002-22-b068-7347-4ab6-78c1-82db-758a-f32d-30a0-a548-d519"
      },
      {
       "current": "85d819f6-591f-11ea-bd55-0242ac120002-24-8169-fb05-0595-deef-7646-6d51-84d3-599e-9f04-bf68",
       "next": "85d81c44-591f-11ea-bd55-0242ac120002-23-2efc-90ad-6b53-7aeb-cf16-dd98-b08a-b3fe-2d4a-fada",
       "previous": "f6ca2a92-591e-11ea-bd55-0242ac120002-23-7347-4ab6-78c1-82db-758a-f32d-30a0-a548-d519-ee4f"
      }
     ],
     "next": "85d81c44-591f-11ea-bd55-0242ac120002-24-90ad-6b53-7aeb-cf16-dd98-b08a-b3fe-2d4a-fada-83b9",
     "previous": "f6ca2a92-591e-11ea-bd55-0242ac120002-24-4ab6-78c1-82db-758a-f32d-30a0-a548-d519-ee4f-d521"
    }
   },
   "source": [
    "**テスト用クラウドゲートウェイを利用するときのみ**\n",
    "\n",
    "クラウドゲートウェイメタデータの用意\n",
    "\n",
    "学認から別途入手し、ローカルに配置済みとする。"
   ]
  },
  {
   "cell_type": "code",
   "execution_count": null,
   "id": "5645cddc",
   "metadata": {
    "lc_cell_meme": {
     "current": "85d81c44-591f-11ea-bd55-0242ac120002-24-90ad-6b53-7aeb-cf16-dd98-b08a-b3fe-2d4a-fada-83b9",
     "history": [
      {
       "current": "85d81c44-591f-11ea-bd55-0242ac120002-16-1327-2670-6e49-fd1d-3ba6-1be3-8054-2efc-90ad-6b53",
       "next": "85d81e38-591f-11ea-bd55-0242ac120002-15-ee5b-77c0-4985-c39f-327c-e91a-3cd4-862d-1f12-3404",
       "previous": "85d819f6-591f-11ea-bd55-0242ac120002-15-65f4-0a13-1d0c-9c99-dd32-5ecf-e1f0-346b-e0a3-8169"
      },
      {
       "current": "85d81c44-591f-11ea-bd55-0242ac120002-17-2670-6e49-fd1d-3ba6-1be3-8054-2efc-90ad-6b53-7aeb",
       "next": "85d81e38-591f-11ea-bd55-0242ac120002-16-77c0-4985-c39f-327c-e91a-3cd4-862d-1f12-3404-a680",
       "previous": "85d819f6-591f-11ea-bd55-0242ac120002-16-0a13-1d0c-9c99-dd32-5ecf-e1f0-346b-e0a3-8169-fb05"
      },
      {
       "current": "85d81c44-591f-11ea-bd55-0242ac120002-18-6e49-fd1d-3ba6-1be3-8054-2efc-90ad-6b53-7aeb-cf16",
       "next": "85d81e38-591f-11ea-bd55-0242ac120002-17-4985-c39f-327c-e91a-3cd4-862d-1f12-3404-a680-f989",
       "previous": "85d819f6-591f-11ea-bd55-0242ac120002-17-1d0c-9c99-dd32-5ecf-e1f0-346b-e0a3-8169-fb05-0595"
      },
      {
       "current": "85d81c44-591f-11ea-bd55-0242ac120002-19-fd1d-3ba6-1be3-8054-2efc-90ad-6b53-7aeb-cf16-dd98",
       "next": "85d81e38-591f-11ea-bd55-0242ac120002-18-c39f-327c-e91a-3cd4-862d-1f12-3404-a680-f989-f678",
       "previous": "85d819f6-591f-11ea-bd55-0242ac120002-18-9c99-dd32-5ecf-e1f0-346b-e0a3-8169-fb05-0595-deef"
      },
      {
       "current": "85d81c44-591f-11ea-bd55-0242ac120002-20-3ba6-1be3-8054-2efc-90ad-6b53-7aeb-cf16-dd98-b08a",
       "next": "85d81e38-591f-11ea-bd55-0242ac120002-19-327c-e91a-3cd4-862d-1f12-3404-a680-f989-f678-d4d7",
       "previous": "85d819f6-591f-11ea-bd55-0242ac120002-19-dd32-5ecf-e1f0-346b-e0a3-8169-fb05-0595-deef-7646"
      },
      {
       "current": "85d81c44-591f-11ea-bd55-0242ac120002-21-1be3-8054-2efc-90ad-6b53-7aeb-cf16-dd98-b08a-b3fe",
       "next": "85d81e38-591f-11ea-bd55-0242ac120002-20-e91a-3cd4-862d-1f12-3404-a680-f989-f678-d4d7-3c0b",
       "previous": "85d819f6-591f-11ea-bd55-0242ac120002-20-5ecf-e1f0-346b-e0a3-8169-fb05-0595-deef-7646-6d51"
      },
      {
       "current": "85d81c44-591f-11ea-bd55-0242ac120002-22-8054-2efc-90ad-6b53-7aeb-cf16-dd98-b08a-b3fe-2d4a",
       "next": "85d81e38-591f-11ea-bd55-0242ac120002-21-3cd4-862d-1f12-3404-a680-f989-f678-d4d7-3c0b-f415",
       "previous": "85d819f6-591f-11ea-bd55-0242ac120002-21-e1f0-346b-e0a3-8169-fb05-0595-deef-7646-6d51-84d3"
      },
      {
       "current": "85d81c44-591f-11ea-bd55-0242ac120002-23-2efc-90ad-6b53-7aeb-cf16-dd98-b08a-b3fe-2d4a-fada",
       "next": "85d81e38-591f-11ea-bd55-0242ac120002-22-862d-1f12-3404-a680-f989-f678-d4d7-3c0b-f415-35e7",
       "previous": "85d819f6-591f-11ea-bd55-0242ac120002-22-346b-e0a3-8169-fb05-0595-deef-7646-6d51-84d3-599e"
      },
      {
       "current": "85d81c44-591f-11ea-bd55-0242ac120002-24-90ad-6b53-7aeb-cf16-dd98-b08a-b3fe-2d4a-fada-83b9",
       "next": "85d81e38-591f-11ea-bd55-0242ac120002-23-1f12-3404-a680-f989-f678-d4d7-3c0b-f415-35e7-c903",
       "previous": "85d819f6-591f-11ea-bd55-0242ac120002-23-e0a3-8169-fb05-0595-deef-7646-6d51-84d3-599e-9f04"
      }
     ],
     "next": "85d81e38-591f-11ea-bd55-0242ac120002-24-3404-a680-f989-f678-d4d7-3c0b-f415-35e7-c903-581f",
     "previous": "85d819f6-591f-11ea-bd55-0242ac120002-24-8169-fb05-0595-deef-7646-6d51-84d3-599e-9f04-bf68"
    }
   },
   "outputs": [],
   "source": [
    "# group_vars['cgidp_metadata'] = 'sptestcgidp-metadata-20200918.xml'\n",
    "# group_vars['cgidp_metadata']"
   ]
  },
  {
   "cell_type": "code",
   "execution_count": null,
   "id": "bdb977f1",
   "metadata": {
    "lc_cell_meme": {
     "current": "85d81e38-591f-11ea-bd55-0242ac120002-24-3404-a680-f989-f678-d4d7-3c0b-f415-35e7-c903-581f",
     "history": [
      {
       "current": "85d81e38-591f-11ea-bd55-0242ac120002-16-77c0-4985-c39f-327c-e91a-3cd4-862d-1f12-3404-a680",
       "next": "555a01c6-5880-11ea-bd55-0242ac120002-15-e738-d1a3-e00a-7c2d-9c40-8535-791a-39e1-8bb1-4f81",
       "previous": "85d81c44-591f-11ea-bd55-0242ac120002-15-2669-1327-2670-6e49-fd1d-3ba6-1be3-8054-2efc-90ad"
      },
      {
       "current": "85d81e38-591f-11ea-bd55-0242ac120002-17-4985-c39f-327c-e91a-3cd4-862d-1f12-3404-a680-f989",
       "next": "555a01c6-5880-11ea-bd55-0242ac120002-16-d1a3-e00a-7c2d-9c40-8535-791a-39e1-8bb1-4f81-1df2",
       "previous": "85d81c44-591f-11ea-bd55-0242ac120002-16-1327-2670-6e49-fd1d-3ba6-1be3-8054-2efc-90ad-6b53"
      },
      {
       "current": "85d81e38-591f-11ea-bd55-0242ac120002-18-c39f-327c-e91a-3cd4-862d-1f12-3404-a680-f989-f678",
       "next": "555a01c6-5880-11ea-bd55-0242ac120002-17-e00a-7c2d-9c40-8535-791a-39e1-8bb1-4f81-1df2-bbdc",
       "previous": "85d81c44-591f-11ea-bd55-0242ac120002-17-2670-6e49-fd1d-3ba6-1be3-8054-2efc-90ad-6b53-7aeb"
      },
      {
       "current": "85d81e38-591f-11ea-bd55-0242ac120002-19-327c-e91a-3cd4-862d-1f12-3404-a680-f989-f678-d4d7",
       "next": "555a01c6-5880-11ea-bd55-0242ac120002-18-7c2d-9c40-8535-791a-39e1-8bb1-4f81-1df2-bbdc-dec3",
       "previous": "85d81c44-591f-11ea-bd55-0242ac120002-18-6e49-fd1d-3ba6-1be3-8054-2efc-90ad-6b53-7aeb-cf16"
      },
      {
       "current": "85d81e38-591f-11ea-bd55-0242ac120002-20-e91a-3cd4-862d-1f12-3404-a680-f989-f678-d4d7-3c0b",
       "next": "555a01c6-5880-11ea-bd55-0242ac120002-19-9c40-8535-791a-39e1-8bb1-4f81-1df2-bbdc-dec3-bc23",
       "previous": "85d81c44-591f-11ea-bd55-0242ac120002-19-fd1d-3ba6-1be3-8054-2efc-90ad-6b53-7aeb-cf16-dd98"
      },
      {
       "current": "85d81e38-591f-11ea-bd55-0242ac120002-21-3cd4-862d-1f12-3404-a680-f989-f678-d4d7-3c0b-f415",
       "next": "555a01c6-5880-11ea-bd55-0242ac120002-20-8535-791a-39e1-8bb1-4f81-1df2-bbdc-dec3-bc23-af0a",
       "previous": "85d81c44-591f-11ea-bd55-0242ac120002-20-3ba6-1be3-8054-2efc-90ad-6b53-7aeb-cf16-dd98-b08a"
      },
      {
       "current": "85d81e38-591f-11ea-bd55-0242ac120002-22-862d-1f12-3404-a680-f989-f678-d4d7-3c0b-f415-35e7",
       "next": "555a01c6-5880-11ea-bd55-0242ac120002-21-791a-39e1-8bb1-4f81-1df2-bbdc-dec3-bc23-af0a-f1b4",
       "previous": "85d81c44-591f-11ea-bd55-0242ac120002-21-1be3-8054-2efc-90ad-6b53-7aeb-cf16-dd98-b08a-b3fe"
      },
      {
       "current": "85d81e38-591f-11ea-bd55-0242ac120002-23-1f12-3404-a680-f989-f678-d4d7-3c0b-f415-35e7-c903",
       "next": "555a01c6-5880-11ea-bd55-0242ac120002-22-39e1-8bb1-4f81-1df2-bbdc-dec3-bc23-af0a-f1b4-bc14",
       "previous": "85d81c44-591f-11ea-bd55-0242ac120002-22-8054-2efc-90ad-6b53-7aeb-cf16-dd98-b08a-b3fe-2d4a"
      },
      {
       "current": "85d81e38-591f-11ea-bd55-0242ac120002-24-3404-a680-f989-f678-d4d7-3c0b-f415-35e7-c903-581f",
       "next": "555a01c6-5880-11ea-bd55-0242ac120002-23-8bb1-4f81-1df2-bbdc-dec3-bc23-af0a-f1b4-bc14-653c",
       "previous": "85d81c44-591f-11ea-bd55-0242ac120002-23-2efc-90ad-6b53-7aeb-cf16-dd98-b08a-b3fe-2d4a-fada"
      }
     ],
     "next": "555a01c6-5880-11ea-bd55-0242ac120002-24-4f81-1df2-bbdc-dec3-bc23-af0a-f1b4-bc14-653c-a7ed",
     "previous": "85d81c44-591f-11ea-bd55-0242ac120002-24-90ad-6b53-7aeb-cf16-dd98-b08a-b3fe-2d4a-fada-83b9"
    }
   },
   "outputs": [],
   "source": [
    "if 'cgidp_metadata' in group_vars:\n",
    "    !ls -l {group_vars['cgidp_metadata']}"
   ]
  },
  {
   "cell_type": "markdown",
   "id": "70755f65",
   "metadata": {
    "lc_cell_meme": {
     "current": "555a01c6-5880-11ea-bd55-0242ac120002-24-4f81-1df2-bbdc-dec3-bc23-af0a-f1b4-bc14-653c-a7ed",
     "history": [
      {
       "current": "555a01c6-5880-11ea-bd55-0242ac120002-16-d1a3-e00a-7c2d-9c40-8535-791a-39e1-8bb1-4f81-1df2",
       "next": "157e431e-53a3-11ea-9227-0242ac120002-17-2dcd-d87d-357d-3921-856c-2b91-f9bb-9378-c657-81a9",
       "previous": "85d81e38-591f-11ea-bd55-0242ac120002-15-ee5b-77c0-4985-c39f-327c-e91a-3cd4-862d-1f12-3404"
      },
      {
       "current": "555a01c6-5880-11ea-bd55-0242ac120002-17-e00a-7c2d-9c40-8535-791a-39e1-8bb1-4f81-1df2-bbdc",
       "next": "157e431e-53a3-11ea-9227-0242ac120002-18-d87d-357d-3921-856c-2b91-f9bb-9378-c657-81a9-7163",
       "previous": "85d81e38-591f-11ea-bd55-0242ac120002-16-77c0-4985-c39f-327c-e91a-3cd4-862d-1f12-3404-a680"
      },
      {
       "current": "555a01c6-5880-11ea-bd55-0242ac120002-18-7c2d-9c40-8535-791a-39e1-8bb1-4f81-1df2-bbdc-dec3",
       "next": "157e431e-53a3-11ea-9227-0242ac120002-19-357d-3921-856c-2b91-f9bb-9378-c657-81a9-7163-5a9d",
       "previous": "85d81e38-591f-11ea-bd55-0242ac120002-17-4985-c39f-327c-e91a-3cd4-862d-1f12-3404-a680-f989"
      },
      {
       "current": "555a01c6-5880-11ea-bd55-0242ac120002-19-9c40-8535-791a-39e1-8bb1-4f81-1df2-bbdc-dec3-bc23",
       "next": "157e431e-53a3-11ea-9227-0242ac120002-20-3921-856c-2b91-f9bb-9378-c657-81a9-7163-5a9d-30ab",
       "previous": "85d81e38-591f-11ea-bd55-0242ac120002-18-c39f-327c-e91a-3cd4-862d-1f12-3404-a680-f989-f678"
      },
      {
       "current": "555a01c6-5880-11ea-bd55-0242ac120002-20-8535-791a-39e1-8bb1-4f81-1df2-bbdc-dec3-bc23-af0a",
       "next": "157e431e-53a3-11ea-9227-0242ac120002-21-856c-2b91-f9bb-9378-c657-81a9-7163-5a9d-30ab-7a38",
       "previous": "85d81e38-591f-11ea-bd55-0242ac120002-19-327c-e91a-3cd4-862d-1f12-3404-a680-f989-f678-d4d7"
      },
      {
       "current": "555a01c6-5880-11ea-bd55-0242ac120002-21-791a-39e1-8bb1-4f81-1df2-bbdc-dec3-bc23-af0a-f1b4",
       "next": "157e431e-53a3-11ea-9227-0242ac120002-22-2b91-f9bb-9378-c657-81a9-7163-5a9d-30ab-7a38-7f2c",
       "previous": "85d81e38-591f-11ea-bd55-0242ac120002-20-e91a-3cd4-862d-1f12-3404-a680-f989-f678-d4d7-3c0b"
      },
      {
       "current": "555a01c6-5880-11ea-bd55-0242ac120002-22-39e1-8bb1-4f81-1df2-bbdc-dec3-bc23-af0a-f1b4-bc14",
       "next": "157e431e-53a3-11ea-9227-0242ac120002-23-f9bb-9378-c657-81a9-7163-5a9d-30ab-7a38-7f2c-2cdb",
       "previous": "85d81e38-591f-11ea-bd55-0242ac120002-21-3cd4-862d-1f12-3404-a680-f989-f678-d4d7-3c0b-f415"
      },
      {
       "current": "555a01c6-5880-11ea-bd55-0242ac120002-23-8bb1-4f81-1df2-bbdc-dec3-bc23-af0a-f1b4-bc14-653c",
       "next": "157e431e-53a3-11ea-9227-0242ac120002-24-9378-c657-81a9-7163-5a9d-30ab-7a38-7f2c-2cdb-45d8",
       "previous": "85d81e38-591f-11ea-bd55-0242ac120002-22-862d-1f12-3404-a680-f989-f678-d4d7-3c0b-f415-35e7"
      },
      {
       "current": "555a01c6-5880-11ea-bd55-0242ac120002-24-4f81-1df2-bbdc-dec3-bc23-af0a-f1b4-bc14-653c-a7ed",
       "next": "157e431e-53a3-11ea-9227-0242ac120002-25-c657-81a9-7163-5a9d-30ab-7a38-7f2c-2cdb-45d8-0162",
       "previous": "85d81e38-591f-11ea-bd55-0242ac120002-23-1f12-3404-a680-f989-f678-d4d7-3c0b-f415-35e7-c903"
      }
     ],
     "next": "157e431e-53a3-11ea-9227-0242ac120002-26-81a9-7163-5a9d-30ab-7a38-7f2c-2cdb-45d8-0162-d92f",
     "previous": "85d81e38-591f-11ea-bd55-0242ac120002-24-3404-a680-f989-f678-d4d7-3c0b-f415-35e7-c903-581f"
    }
   },
   "source": [
    "### クラウドゲートウェイグループの設定"
   ]
  },
  {
   "cell_type": "markdown",
   "id": "9652ecb5",
   "metadata": {
    "lc_cell_meme": {
     "current": "157e431e-53a3-11ea-9227-0242ac120002-26-81a9-7163-5a9d-30ab-7a38-7f2c-2cdb-45d8-0162-d92f",
     "history": [
      {
       "current": "157e431e-53a3-11ea-9227-0242ac120002-18-d87d-357d-3921-856c-2b91-f9bb-9378-c657-81a9-7163",
       "next": "157e431e-53a3-11ea-9227-0242ac120002-17-2d14-e376-64f6-70a7-fc1d-fcd2-e11a-a246-49b1-da08",
       "previous": "555a01c6-5880-11ea-bd55-0242ac120002-15-e738-d1a3-e00a-7c2d-9c40-8535-791a-39e1-8bb1-4f81"
      },
      {
       "current": "157e431e-53a3-11ea-9227-0242ac120002-19-357d-3921-856c-2b91-f9bb-9378-c657-81a9-7163-5a9d",
       "next": "157e431e-53a3-11ea-9227-0242ac120002-18-e376-64f6-70a7-fc1d-fcd2-e11a-a246-49b1-da08-9729",
       "previous": "555a01c6-5880-11ea-bd55-0242ac120002-16-d1a3-e00a-7c2d-9c40-8535-791a-39e1-8bb1-4f81-1df2"
      },
      {
       "current": "157e431e-53a3-11ea-9227-0242ac120002-20-3921-856c-2b91-f9bb-9378-c657-81a9-7163-5a9d-30ab",
       "next": "157e431e-53a3-11ea-9227-0242ac120002-19-64f6-70a7-fc1d-fcd2-e11a-a246-49b1-da08-9729-30c2",
       "previous": "555a01c6-5880-11ea-bd55-0242ac120002-17-e00a-7c2d-9c40-8535-791a-39e1-8bb1-4f81-1df2-bbdc"
      },
      {
       "current": "157e431e-53a3-11ea-9227-0242ac120002-21-856c-2b91-f9bb-9378-c657-81a9-7163-5a9d-30ab-7a38",
       "next": "157e431e-53a3-11ea-9227-0242ac120002-20-70a7-fc1d-fcd2-e11a-a246-49b1-da08-9729-30c2-37a7",
       "previous": "555a01c6-5880-11ea-bd55-0242ac120002-18-7c2d-9c40-8535-791a-39e1-8bb1-4f81-1df2-bbdc-dec3"
      },
      {
       "current": "157e431e-53a3-11ea-9227-0242ac120002-22-2b91-f9bb-9378-c657-81a9-7163-5a9d-30ab-7a38-7f2c",
       "next": "157e431e-53a3-11ea-9227-0242ac120002-21-fc1d-fcd2-e11a-a246-49b1-da08-9729-30c2-37a7-1570",
       "previous": "555a01c6-5880-11ea-bd55-0242ac120002-19-9c40-8535-791a-39e1-8bb1-4f81-1df2-bbdc-dec3-bc23"
      },
      {
       "current": "157e431e-53a3-11ea-9227-0242ac120002-23-f9bb-9378-c657-81a9-7163-5a9d-30ab-7a38-7f2c-2cdb",
       "next": "157e431e-53a3-11ea-9227-0242ac120002-22-fcd2-e11a-a246-49b1-da08-9729-30c2-37a7-1570-475c",
       "previous": "555a01c6-5880-11ea-bd55-0242ac120002-20-8535-791a-39e1-8bb1-4f81-1df2-bbdc-dec3-bc23-af0a"
      },
      {
       "current": "157e431e-53a3-11ea-9227-0242ac120002-24-9378-c657-81a9-7163-5a9d-30ab-7a38-7f2c-2cdb-45d8",
       "next": "157e431e-53a3-11ea-9227-0242ac120002-23-e11a-a246-49b1-da08-9729-30c2-37a7-1570-475c-80f2",
       "previous": "555a01c6-5880-11ea-bd55-0242ac120002-21-791a-39e1-8bb1-4f81-1df2-bbdc-dec3-bc23-af0a-f1b4"
      },
      {
       "current": "157e431e-53a3-11ea-9227-0242ac120002-25-c657-81a9-7163-5a9d-30ab-7a38-7f2c-2cdb-45d8-0162",
       "next": "157e431e-53a3-11ea-9227-0242ac120002-24-a246-49b1-da08-9729-30c2-37a7-1570-475c-80f2-32e2",
       "previous": "555a01c6-5880-11ea-bd55-0242ac120002-22-39e1-8bb1-4f81-1df2-bbdc-dec3-bc23-af0a-f1b4-bc14"
      },
      {
       "current": "157e431e-53a3-11ea-9227-0242ac120002-26-81a9-7163-5a9d-30ab-7a38-7f2c-2cdb-45d8-0162-d92f",
       "next": "157e431e-53a3-11ea-9227-0242ac120002-25-49b1-da08-9729-30c2-37a7-1570-475c-80f2-32e2-f751",
       "previous": "555a01c6-5880-11ea-bd55-0242ac120002-23-8bb1-4f81-1df2-bbdc-dec3-bc23-af0a-f1b4-bc14-653c"
      }
     ],
     "next": "157e431e-53a3-11ea-9227-0242ac120002-26-da08-9729-30c2-37a7-1570-475c-80f2-32e2-f751-8fef",
     "previous": "555a01c6-5880-11ea-bd55-0242ac120002-24-4f81-1df2-bbdc-dec3-bc23-af0a-f1b4-bc14-653c-a7ed"
    }
   },
   "source": [
    "使用を許可するクラウドゲートウェイグループのグループIDを列挙する。\n",
    "\n",
    "idp-proxyを使用するか、フェデレーションに直接参加しているときのみ有効。\n",
    "\n",
    "ローカルユーザーのみの場合は、空の配列を指定する。"
   ]
  },
  {
   "cell_type": "code",
   "execution_count": null,
   "id": "6be2e7c4",
   "metadata": {
    "lc_cell_meme": {
     "current": "157e431e-53a3-11ea-9227-0242ac120002-26-da08-9729-30c2-37a7-1570-475c-80f2-32e2-f751-8fef",
     "history": [
      {
       "current": "157e431e-53a3-11ea-9227-0242ac120002-18-e376-64f6-70a7-fc1d-fcd2-e11a-a246-49b1-da08-9729",
       "next": "ac985ea3-8595-11ec-a4fd-6b42dc3e1973",
       "previous": "157e431e-53a3-11ea-9227-0242ac120002-17-2dcd-d87d-357d-3921-856c-2b91-f9bb-9378-c657-81a9"
      },
      {
       "current": "157e431e-53a3-11ea-9227-0242ac120002-19-64f6-70a7-fc1d-fcd2-e11a-a246-49b1-da08-9729-30c2",
       "next": "ac985ea3-8595-11ec-a4fd-6b42dc3e1973-1-c550",
       "previous": "157e431e-53a3-11ea-9227-0242ac120002-18-d87d-357d-3921-856c-2b91-f9bb-9378-c657-81a9-7163"
      },
      {
       "current": "157e431e-53a3-11ea-9227-0242ac120002-20-70a7-fc1d-fcd2-e11a-a246-49b1-da08-9729-30c2-37a7",
       "next": "ac985ea3-8595-11ec-a4fd-6b42dc3e1973-2-c550-ddb8",
       "previous": "157e431e-53a3-11ea-9227-0242ac120002-19-357d-3921-856c-2b91-f9bb-9378-c657-81a9-7163-5a9d"
      },
      {
       "current": "157e431e-53a3-11ea-9227-0242ac120002-21-fc1d-fcd2-e11a-a246-49b1-da08-9729-30c2-37a7-1570",
       "next": "ac985ea3-8595-11ec-a4fd-6b42dc3e1973-3-c550-ddb8-af9f",
       "previous": "157e431e-53a3-11ea-9227-0242ac120002-20-3921-856c-2b91-f9bb-9378-c657-81a9-7163-5a9d-30ab"
      },
      {
       "current": "157e431e-53a3-11ea-9227-0242ac120002-22-fcd2-e11a-a246-49b1-da08-9729-30c2-37a7-1570-475c",
       "next": "ac985ea3-8595-11ec-a4fd-6b42dc3e1973-4-c550-ddb8-af9f-f1e4",
       "previous": "157e431e-53a3-11ea-9227-0242ac120002-21-856c-2b91-f9bb-9378-c657-81a9-7163-5a9d-30ab-7a38"
      },
      {
       "current": "157e431e-53a3-11ea-9227-0242ac120002-23-e11a-a246-49b1-da08-9729-30c2-37a7-1570-475c-80f2",
       "next": "ac985ea3-8595-11ec-a4fd-6b42dc3e1973-5-c550-ddb8-af9f-f1e4-b2c0",
       "previous": "157e431e-53a3-11ea-9227-0242ac120002-22-2b91-f9bb-9378-c657-81a9-7163-5a9d-30ab-7a38-7f2c"
      },
      {
       "current": "157e431e-53a3-11ea-9227-0242ac120002-24-a246-49b1-da08-9729-30c2-37a7-1570-475c-80f2-32e2",
       "next": "ac985ea3-8595-11ec-a4fd-6b42dc3e1973-6-c550-ddb8-af9f-f1e4-b2c0-08a4",
       "previous": "157e431e-53a3-11ea-9227-0242ac120002-23-f9bb-9378-c657-81a9-7163-5a9d-30ab-7a38-7f2c-2cdb"
      },
      {
       "current": "157e431e-53a3-11ea-9227-0242ac120002-25-49b1-da08-9729-30c2-37a7-1570-475c-80f2-32e2-f751",
       "next": "ac985ea3-8595-11ec-a4fd-6b42dc3e1973-7-c550-ddb8-af9f-f1e4-b2c0-08a4-2247",
       "previous": "157e431e-53a3-11ea-9227-0242ac120002-24-9378-c657-81a9-7163-5a9d-30ab-7a38-7f2c-2cdb-45d8"
      },
      {
       "current": "157e431e-53a3-11ea-9227-0242ac120002-26-da08-9729-30c2-37a7-1570-475c-80f2-32e2-f751-8fef",
       "next": "ac985ea3-8595-11ec-a4fd-6b42dc3e1973-8-c550-ddb8-af9f-f1e4-b2c0-08a4-2247-cdaf",
       "previous": "157e431e-53a3-11ea-9227-0242ac120002-25-c657-81a9-7163-5a9d-30ab-7a38-7f2c-2cdb-45d8-0162"
      }
     ],
     "next": "ac985ea3-8595-11ec-a4fd-6b42dc3e1973-9-c550-ddb8-af9f-f1e4-b2c0-08a4-2247-cdaf-874a",
     "previous": "157e431e-53a3-11ea-9227-0242ac120002-26-81a9-7163-5a9d-30ab-7a38-7f2c-2cdb-45d8-0162-d92f"
    }
   },
   "outputs": [],
   "source": [
    "#cg_groups = [\n",
    "#   'https://sptest.cg.gakunin.jp/gr/coursewarehub-test'\n",
    "#]\n",
    "group_vars['cg_groups'] = [\n",
    "]\n",
    "group_vars['cg_groups']"
   ]
  },
  {
   "cell_type": "markdown",
   "id": "2d89f049",
   "metadata": {
    "lc_cell_meme": {
     "current": "ac985ea3-8595-11ec-a4fd-6b42dc3e1973-9-c550-ddb8-af9f-f1e4-b2c0-08a4-2247-cdaf-874a",
     "history": [
      {
       "current": "ac985ea3-8595-11ec-a4fd-6b42dc3e1973-1-c550",
       "next": "ac9862e0-8595-11ec-a396-6b42dc3e1973-1-9a9b",
       "previous": "157e431e-53a3-11ea-9227-0242ac120002-17-2d14-e376-64f6-70a7-fc1d-fcd2-e11a-a246-49b1-da08"
      },
      {
       "current": "ac985ea3-8595-11ec-a4fd-6b42dc3e1973-2-c550-ddb8",
       "next": "ac9862e0-8595-11ec-a396-6b42dc3e1973-2-9a9b-2aac",
       "previous": "157e431e-53a3-11ea-9227-0242ac120002-18-e376-64f6-70a7-fc1d-fcd2-e11a-a246-49b1-da08-9729"
      },
      {
       "current": "ac985ea3-8595-11ec-a4fd-6b42dc3e1973-3-c550-ddb8-af9f",
       "next": "ac9862e0-8595-11ec-a396-6b42dc3e1973-3-9a9b-2aac-e80f",
       "previous": "157e431e-53a3-11ea-9227-0242ac120002-19-64f6-70a7-fc1d-fcd2-e11a-a246-49b1-da08-9729-30c2"
      },
      {
       "current": "ac985ea3-8595-11ec-a4fd-6b42dc3e1973-4-c550-ddb8-af9f-f1e4",
       "next": "ac9862e0-8595-11ec-a396-6b42dc3e1973-4-9a9b-2aac-e80f-363a",
       "previous": "157e431e-53a3-11ea-9227-0242ac120002-20-70a7-fc1d-fcd2-e11a-a246-49b1-da08-9729-30c2-37a7"
      },
      {
       "current": "ac985ea3-8595-11ec-a4fd-6b42dc3e1973-5-c550-ddb8-af9f-f1e4-b2c0",
       "next": "ac9862e0-8595-11ec-a396-6b42dc3e1973-5-9a9b-2aac-e80f-363a-f8ed",
       "previous": "157e431e-53a3-11ea-9227-0242ac120002-21-fc1d-fcd2-e11a-a246-49b1-da08-9729-30c2-37a7-1570"
      },
      {
       "current": "ac985ea3-8595-11ec-a4fd-6b42dc3e1973-6-c550-ddb8-af9f-f1e4-b2c0-08a4",
       "next": "ac9862e0-8595-11ec-a396-6b42dc3e1973-6-9a9b-2aac-e80f-363a-f8ed-1678",
       "previous": "157e431e-53a3-11ea-9227-0242ac120002-22-fcd2-e11a-a246-49b1-da08-9729-30c2-37a7-1570-475c"
      },
      {
       "current": "ac985ea3-8595-11ec-a4fd-6b42dc3e1973-7-c550-ddb8-af9f-f1e4-b2c0-08a4-2247",
       "next": "ac9862e0-8595-11ec-a396-6b42dc3e1973-7-9a9b-2aac-e80f-363a-f8ed-1678-abbe",
       "previous": "157e431e-53a3-11ea-9227-0242ac120002-23-e11a-a246-49b1-da08-9729-30c2-37a7-1570-475c-80f2"
      },
      {
       "current": "ac985ea3-8595-11ec-a4fd-6b42dc3e1973-8-c550-ddb8-af9f-f1e4-b2c0-08a4-2247-cdaf",
       "next": "ac9862e0-8595-11ec-a396-6b42dc3e1973-8-9a9b-2aac-e80f-363a-f8ed-1678-abbe-3b7f",
       "previous": "157e431e-53a3-11ea-9227-0242ac120002-24-a246-49b1-da08-9729-30c2-37a7-1570-475c-80f2-32e2"
      },
      {
       "current": "ac985ea3-8595-11ec-a4fd-6b42dc3e1973-9-c550-ddb8-af9f-f1e4-b2c0-08a4-2247-cdaf-874a",
       "next": "ac9862e0-8595-11ec-a396-6b42dc3e1973-9-9a9b-2aac-e80f-363a-f8ed-1678-abbe-3b7f-660c",
       "previous": "157e431e-53a3-11ea-9227-0242ac120002-25-49b1-da08-9729-30c2-37a7-1570-475c-80f2-32e2-f751"
      }
     ],
     "next": "ac9862e0-8595-11ec-a396-6b42dc3e1973-10-9a9b-2aac-e80f-363a-f8ed-1678-abbe-3b7f-660c-af86",
     "previous": "157e431e-53a3-11ea-9227-0242ac120002-26-da08-9729-30c2-37a7-1570-475c-80f2-32e2-f751-8fef"
    }
   },
   "source": [
    "### Cullingの設定\n",
    "\n",
    "アイドル状態のNotebookサーバーを自動的に停止する設定を行います\n",
    "\n",
    "|項目                     | 説明                                                           |\n",
    "|-------------------------|----------------------------------------------------------------|\n",
    "|cull_server              | アイドル状態のNotebookサーバーの停止を有効／無効化 (yes/no/0/1)|\n",
    "|cull_server_idle_timeout | アイドル状態のNotebookサーバーの停止までのタイムアウト時間     |\n",
    "|cull_server_max_age      | アイドル状態でなくてもNotebookサーバーを停止するまでの時間     |\n",
    "|cull_server_ every       | Notebookのアイドル状態のタイムアウトのチェック間隔             |\n"
   ]
  },
  {
   "cell_type": "code",
   "execution_count": null,
   "id": "a068e606",
   "metadata": {
    "lc_cell_meme": {
     "current": "ac9862e0-8595-11ec-a396-6b42dc3e1973-10-9a9b-2aac-e80f-363a-f8ed-1678-abbe-3b7f-660c-af86",
     "history": [
      {
       "current": "ac9862e0-8595-11ec-a396-6b42dc3e1973-2-9a9b-2aac",
       "next": "414d8208-8997-11ec-b229-6b42dc3e1973",
       "previous": "ac985ea3-8595-11ec-a4fd-6b42dc3e1973"
      },
      {
       "current": "ac9862e0-8595-11ec-a396-6b42dc3e1973-3-9a9b-2aac-e80f",
       "next": "414d8208-8997-11ec-b229-6b42dc3e1973-1-45f9",
       "previous": "ac985ea3-8595-11ec-a4fd-6b42dc3e1973-1-c550"
      },
      {
       "current": "ac9862e0-8595-11ec-a396-6b42dc3e1973-4-9a9b-2aac-e80f-363a",
       "next": "414d8208-8997-11ec-b229-6b42dc3e1973-2-45f9-4e1a",
       "previous": "ac985ea3-8595-11ec-a4fd-6b42dc3e1973-2-c550-ddb8"
      },
      {
       "current": "ac9862e0-8595-11ec-a396-6b42dc3e1973-5-9a9b-2aac-e80f-363a-f8ed",
       "next": "414d8208-8997-11ec-b229-6b42dc3e1973-3-45f9-4e1a-f366",
       "previous": "ac985ea3-8595-11ec-a4fd-6b42dc3e1973-3-c550-ddb8-af9f"
      },
      {
       "current": "ac9862e0-8595-11ec-a396-6b42dc3e1973-6-9a9b-2aac-e80f-363a-f8ed-1678",
       "next": "414d8208-8997-11ec-b229-6b42dc3e1973-4-45f9-4e1a-f366-3a21",
       "previous": "ac985ea3-8595-11ec-a4fd-6b42dc3e1973-4-c550-ddb8-af9f-f1e4"
      },
      {
       "current": "ac9862e0-8595-11ec-a396-6b42dc3e1973-7-9a9b-2aac-e80f-363a-f8ed-1678-abbe",
       "next": "414d8208-8997-11ec-b229-6b42dc3e1973-5-45f9-4e1a-f366-3a21-8bb1",
       "previous": "ac985ea3-8595-11ec-a4fd-6b42dc3e1973-5-c550-ddb8-af9f-f1e4-b2c0"
      },
      {
       "current": "ac9862e0-8595-11ec-a396-6b42dc3e1973-8-9a9b-2aac-e80f-363a-f8ed-1678-abbe-3b7f",
       "next": "414d8208-8997-11ec-b229-6b42dc3e1973-6-45f9-4e1a-f366-3a21-8bb1-5e67",
       "previous": "ac985ea3-8595-11ec-a4fd-6b42dc3e1973-6-c550-ddb8-af9f-f1e4-b2c0-08a4"
      },
      {
       "current": "ac9862e0-8595-11ec-a396-6b42dc3e1973-9-9a9b-2aac-e80f-363a-f8ed-1678-abbe-3b7f-660c",
       "next": "414d8208-8997-11ec-b229-6b42dc3e1973-7-45f9-4e1a-f366-3a21-8bb1-5e67-50d7",
       "previous": "ac985ea3-8595-11ec-a4fd-6b42dc3e1973-7-c550-ddb8-af9f-f1e4-b2c0-08a4-2247"
      },
      {
       "current": "ac9862e0-8595-11ec-a396-6b42dc3e1973-10-9a9b-2aac-e80f-363a-f8ed-1678-abbe-3b7f-660c-af86",
       "next": "414d8208-8997-11ec-b229-6b42dc3e1973-8-45f9-4e1a-f366-3a21-8bb1-5e67-50d7-bde1",
       "previous": "ac985ea3-8595-11ec-a4fd-6b42dc3e1973-8-c550-ddb8-af9f-f1e4-b2c0-08a4-2247-cdaf"
      }
     ],
     "next": "414d8208-8997-11ec-b229-6b42dc3e1973-9-45f9-4e1a-f366-3a21-8bb1-5e67-50d7-bde1-7a8f",
     "previous": "ac985ea3-8595-11ec-a4fd-6b42dc3e1973-9-c550-ddb8-af9f-f1e4-b2c0-08a4-2247-cdaf-874a"
    }
   },
   "outputs": [],
   "source": [
    "group_vars['cull_server'] = 'no'\n",
    "# group_vars['cull_server_idle_timeout'] = 43200"
   ]
  },
  {
   "cell_type": "markdown",
   "id": "7e636206",
   "metadata": {
    "lc_cell_meme": {
     "current": "414d8208-8997-11ec-b229-6b42dc3e1973-9-45f9-4e1a-f366-3a21-8bb1-5e67-50d7-bde1-7a8f",
     "history": [
      {
       "current": "414d8208-8997-11ec-b229-6b42dc3e1973-1-45f9",
       "next": "414d8470-8997-11ec-8f5c-6b42dc3e1973",
       "previous": "ac9862e0-8595-11ec-a396-6b42dc3e1973-1-9a9b"
      },
      {
       "current": "414d8208-8997-11ec-b229-6b42dc3e1973-2-45f9-4e1a",
       "next": "414d8470-8997-11ec-8f5c-6b42dc3e1973-1-955c",
       "previous": "ac9862e0-8595-11ec-a396-6b42dc3e1973-2-9a9b-2aac"
      },
      {
       "current": "414d8208-8997-11ec-b229-6b42dc3e1973-3-45f9-4e1a-f366",
       "next": "414d8470-8997-11ec-8f5c-6b42dc3e1973-2-955c-15b0",
       "previous": "ac9862e0-8595-11ec-a396-6b42dc3e1973-3-9a9b-2aac-e80f"
      },
      {
       "current": "414d8208-8997-11ec-b229-6b42dc3e1973-4-45f9-4e1a-f366-3a21",
       "next": "414d8470-8997-11ec-8f5c-6b42dc3e1973-3-955c-15b0-e5a2",
       "previous": "ac9862e0-8595-11ec-a396-6b42dc3e1973-4-9a9b-2aac-e80f-363a"
      },
      {
       "current": "414d8208-8997-11ec-b229-6b42dc3e1973-5-45f9-4e1a-f366-3a21-8bb1",
       "next": "414d8470-8997-11ec-8f5c-6b42dc3e1973-4-955c-15b0-e5a2-9d87",
       "previous": "ac9862e0-8595-11ec-a396-6b42dc3e1973-5-9a9b-2aac-e80f-363a-f8ed"
      },
      {
       "current": "414d8208-8997-11ec-b229-6b42dc3e1973-6-45f9-4e1a-f366-3a21-8bb1-5e67",
       "next": "414d8470-8997-11ec-8f5c-6b42dc3e1973-5-955c-15b0-e5a2-9d87-9dfe",
       "previous": "ac9862e0-8595-11ec-a396-6b42dc3e1973-6-9a9b-2aac-e80f-363a-f8ed-1678"
      },
      {
       "current": "414d8208-8997-11ec-b229-6b42dc3e1973-7-45f9-4e1a-f366-3a21-8bb1-5e67-50d7",
       "next": "414d8470-8997-11ec-8f5c-6b42dc3e1973-6-955c-15b0-e5a2-9d87-9dfe-acfe",
       "previous": "ac9862e0-8595-11ec-a396-6b42dc3e1973-7-9a9b-2aac-e80f-363a-f8ed-1678-abbe"
      },
      {
       "current": "414d8208-8997-11ec-b229-6b42dc3e1973-8-45f9-4e1a-f366-3a21-8bb1-5e67-50d7-bde1",
       "next": "414d8470-8997-11ec-8f5c-6b42dc3e1973-7-955c-15b0-e5a2-9d87-9dfe-acfe-ed5b",
       "previous": "ac9862e0-8595-11ec-a396-6b42dc3e1973-8-9a9b-2aac-e80f-363a-f8ed-1678-abbe-3b7f"
      },
      {
       "current": "414d8208-8997-11ec-b229-6b42dc3e1973-9-45f9-4e1a-f366-3a21-8bb1-5e67-50d7-bde1-7a8f",
       "next": "414d8470-8997-11ec-8f5c-6b42dc3e1973-8-955c-15b0-e5a2-9d87-9dfe-acfe-ed5b-ea90",
       "previous": "ac9862e0-8595-11ec-a396-6b42dc3e1973-9-9a9b-2aac-e80f-363a-f8ed-1678-abbe-3b7f-660c"
      }
     ],
     "next": "414d8470-8997-11ec-8f5c-6b42dc3e1973-9-955c-15b0-e5a2-9d87-9dfe-acfe-ed5b-ea90-809a",
     "previous": "ac9862e0-8595-11ec-a396-6b42dc3e1973-10-9a9b-2aac-e80f-363a-f8ed-1678-abbe-3b7f-660c-af86"
    }
   },
   "source": [
    "### JupyterHubのSpawnerの設定\n",
    "\n",
    "JupyterHubがユーザーのNotebookサーバーを起動するさいのパラメータを設定します。\n",
    "\n",
    "\n",
    "|項目                     | 説明                                                           |\n",
    "|-------------------------|----------------------------------------------------------------|\n",
    "|concurrent_spawn_limit   | ユーザーコンテナ同時起動処理数                                 |\n",
    "|spawner_http_timeout     | ユーザーNotebookサービス 起動タイムアウト時間(秒)              |\n",
    "|spawner_start_timeout | アイドル状態のNotebookサーバーの停止までのタイムアウト時間     |\n"
   ]
  },
  {
   "cell_type": "code",
   "execution_count": null,
   "id": "c9f9257e",
   "metadata": {
    "lc_cell_meme": {
     "current": "414d8470-8997-11ec-8f5c-6b42dc3e1973-9-955c-15b0-e5a2-9d87-9dfe-acfe-ed5b-ea90-809a",
     "history": [
      {
       "current": "414d8470-8997-11ec-8f5c-6b42dc3e1973-1-955c",
       "next": "a588f0e7-8e2e-11ec-bb44-6b42dc3e1973",
       "previous": "414d8208-8997-11ec-b229-6b42dc3e1973"
      },
      {
       "current": "414d8470-8997-11ec-8f5c-6b42dc3e1973-2-955c-15b0",
       "next": "a588f0e7-8e2e-11ec-bb44-6b42dc3e1973-1-86ee",
       "previous": "414d8208-8997-11ec-b229-6b42dc3e1973-1-45f9"
      },
      {
       "current": "414d8470-8997-11ec-8f5c-6b42dc3e1973-3-955c-15b0-e5a2",
       "next": "a588f0e7-8e2e-11ec-bb44-6b42dc3e1973-2-86ee-a437",
       "previous": "414d8208-8997-11ec-b229-6b42dc3e1973-2-45f9-4e1a"
      },
      {
       "current": "414d8470-8997-11ec-8f5c-6b42dc3e1973-4-955c-15b0-e5a2-9d87",
       "next": "d9beba0a-bc84-11ec-89f8-0242ac120002-2-759c-9013",
       "previous": "414d8208-8997-11ec-b229-6b42dc3e1973-3-45f9-4e1a-f366"
      },
      {
       "current": "414d8470-8997-11ec-8f5c-6b42dc3e1973-5-955c-15b0-e5a2-9d87-9dfe",
       "next": "d9beba0a-bc84-11ec-89f8-0242ac120002-3-759c-9013-7f79",
       "previous": "414d8208-8997-11ec-b229-6b42dc3e1973-4-45f9-4e1a-f366-3a21"
      },
      {
       "current": "414d8470-8997-11ec-8f5c-6b42dc3e1973-6-955c-15b0-e5a2-9d87-9dfe-acfe",
       "next": "d9beba0a-bc84-11ec-89f8-0242ac120002-4-759c-9013-7f79-d87b",
       "previous": "414d8208-8997-11ec-b229-6b42dc3e1973-5-45f9-4e1a-f366-3a21-8bb1"
      },
      {
       "current": "414d8470-8997-11ec-8f5c-6b42dc3e1973-7-955c-15b0-e5a2-9d87-9dfe-acfe-ed5b",
       "next": "d9beba0a-bc84-11ec-89f8-0242ac120002-5-759c-9013-7f79-d87b-4c4f",
       "previous": "414d8208-8997-11ec-b229-6b42dc3e1973-6-45f9-4e1a-f366-3a21-8bb1-5e67"
      },
      {
       "current": "414d8470-8997-11ec-8f5c-6b42dc3e1973-8-955c-15b0-e5a2-9d87-9dfe-acfe-ed5b-ea90",
       "next": "d9beba0a-bc84-11ec-89f8-0242ac120002-6-759c-9013-7f79-d87b-4c4f-7477",
       "previous": "414d8208-8997-11ec-b229-6b42dc3e1973-7-45f9-4e1a-f366-3a21-8bb1-5e67-50d7"
      },
      {
       "current": "414d8470-8997-11ec-8f5c-6b42dc3e1973-9-955c-15b0-e5a2-9d87-9dfe-acfe-ed5b-ea90-809a",
       "next": "d9beba0a-bc84-11ec-89f8-0242ac120002-7-759c-9013-7f79-d87b-4c4f-7477-ccb4",
       "previous": "414d8208-8997-11ec-b229-6b42dc3e1973-8-45f9-4e1a-f366-3a21-8bb1-5e67-50d7-bde1"
      }
     ],
     "next": "d9beba0a-bc84-11ec-89f8-0242ac120002-8-759c-9013-7f79-d87b-4c4f-7477-ccb4-b446",
     "previous": "414d8208-8997-11ec-b229-6b42dc3e1973-9-45f9-4e1a-f366-3a21-8bb1-5e67-50d7-bde1-7a8f"
    }
   },
   "outputs": [],
   "source": [
    "group_vars['concurrent_spawn_limit'] = 20\n",
    "group_vars['spawner_http_timeout'] = 120\n",
    "group_vars['spawner_start_timeout'] = 300"
   ]
  },
  {
   "cell_type": "markdown",
   "id": "8e1c4a4c",
   "metadata": {
    "lc_cell_meme": {
     "current": "d9beba0a-bc84-11ec-89f8-0242ac120002-8-759c-9013-7f79-d87b-4c4f-7477-ccb4-b446",
     "history": [
      {
       "current": "d9beba0a-bc84-11ec-89f8-0242ac120002-2-759c-9013",
       "next": "d9bebe92-bc84-11ec-89f8-0242ac120002",
       "previous": "414d8470-8997-11ec-8f5c-6b42dc3e1973-3-955c-15b0-7402"
      },
      {
       "current": "d9beba0a-bc84-11ec-89f8-0242ac120002-3-759c-9013-7f79",
       "next": "d9bebe92-bc84-11ec-89f8-0242ac120002-2-7bbb-3406",
       "previous": "414d8470-8997-11ec-8f5c-6b42dc3e1973-3-955c-15b0-e5a2"
      },
      {
       "current": "d9beba0a-bc84-11ec-89f8-0242ac120002-4-759c-9013-7f79-d87b",
       "next": "d9bebe92-bc84-11ec-89f8-0242ac120002-3-7bbb-3406-b9d9",
       "previous": "414d8470-8997-11ec-8f5c-6b42dc3e1973-4-955c-15b0-e5a2-9d87"
      },
      {
       "current": "d9beba0a-bc84-11ec-89f8-0242ac120002-5-759c-9013-7f79-d87b-4c4f",
       "next": "d9bebe92-bc84-11ec-89f8-0242ac120002-4-7bbb-3406-b9d9-d76b",
       "previous": "414d8470-8997-11ec-8f5c-6b42dc3e1973-5-955c-15b0-e5a2-9d87-9dfe"
      },
      {
       "current": "d9beba0a-bc84-11ec-89f8-0242ac120002-6-759c-9013-7f79-d87b-4c4f-7477",
       "next": "d9bebe92-bc84-11ec-89f8-0242ac120002-5-7bbb-3406-b9d9-d76b-fb03",
       "previous": "414d8470-8997-11ec-8f5c-6b42dc3e1973-6-955c-15b0-e5a2-9d87-9dfe-acfe"
      },
      {
       "current": "d9beba0a-bc84-11ec-89f8-0242ac120002-7-759c-9013-7f79-d87b-4c4f-7477-ccb4",
       "next": "d9bebe92-bc84-11ec-89f8-0242ac120002-6-7bbb-3406-b9d9-d76b-fb03-71b9",
       "previous": "414d8470-8997-11ec-8f5c-6b42dc3e1973-7-955c-15b0-e5a2-9d87-9dfe-acfe-ed5b"
      },
      {
       "current": "d9beba0a-bc84-11ec-89f8-0242ac120002-8-759c-9013-7f79-d87b-4c4f-7477-ccb4-b446",
       "next": "d9bebe92-bc84-11ec-89f8-0242ac120002-7-7bbb-3406-b9d9-d76b-fb03-71b9-04a1",
       "previous": "414d8470-8997-11ec-8f5c-6b42dc3e1973-8-955c-15b0-e5a2-9d87-9dfe-acfe-ed5b-ea90"
      }
     ],
     "next": "d9bebe92-bc84-11ec-89f8-0242ac120002-8-7bbb-3406-b9d9-d76b-fb03-71b9-04a1-a363",
     "previous": "414d8470-8997-11ec-8f5c-6b42dc3e1973-9-955c-15b0-e5a2-9d87-9dfe-acfe-ed5b-ea90-809a"
    }
   },
   "source": [
    "### Single-user Server Application\n",
    "\n",
    "Classic Jupyter NotebookとJupyterLabを切り替えます\n",
    "\n",
    "新しいJupyter Notebook(6.5)でClassic Notebookを使う場合は、以下のようにする必要があります。\n",
    "```\n",
    "group_vars['jupyterhub_singleuser_app'] = 'jupyter_server.serverapp.ServerApp'\n",
    "group_vars['jupyterhub_singleuser_default_url'] = '/tree'\n",
    "```"
   ]
  },
  {
   "cell_type": "code",
   "execution_count": null,
   "id": "9ce0fde8",
   "metadata": {
    "lc_cell_meme": {
     "current": "d9bebe92-bc84-11ec-89f8-0242ac120002-8-7bbb-3406-b9d9-d76b-fb03-71b9-04a1-a363",
     "history": [
      {
       "current": "d9bebe92-bc84-11ec-89f8-0242ac120002-2-7bbb-3406",
       "next": "a588f0e7-8e2e-11ec-bb44-6b42dc3e1973-3-86ee-a437-a4ca",
       "previous": "d9beba0a-bc84-11ec-89f8-0242ac120002"
      },
      {
       "current": "d9bebe92-bc84-11ec-89f8-0242ac120002-3-7bbb-3406-b9d9",
       "next": "a588f0e7-8e2e-11ec-bb44-6b42dc3e1973-3-86ee-a437-947d",
       "previous": "d9beba0a-bc84-11ec-89f8-0242ac120002-2-759c-9013"
      },
      {
       "current": "d9bebe92-bc84-11ec-89f8-0242ac120002-4-7bbb-3406-b9d9-d76b",
       "next": "a588f0e7-8e2e-11ec-bb44-6b42dc3e1973-4-86ee-a437-947d-0344",
       "previous": "d9beba0a-bc84-11ec-89f8-0242ac120002-3-759c-9013-7f79"
      },
      {
       "current": "d9bebe92-bc84-11ec-89f8-0242ac120002-5-7bbb-3406-b9d9-d76b-fb03",
       "next": "a588f0e7-8e2e-11ec-bb44-6b42dc3e1973-5-86ee-a437-947d-0344-c362",
       "previous": "d9beba0a-bc84-11ec-89f8-0242ac120002-4-759c-9013-7f79-d87b"
      },
      {
       "current": "d9bebe92-bc84-11ec-89f8-0242ac120002-6-7bbb-3406-b9d9-d76b-fb03-71b9",
       "next": "a588f0e7-8e2e-11ec-bb44-6b42dc3e1973-6-86ee-a437-947d-0344-c362-967a",
       "previous": "d9beba0a-bc84-11ec-89f8-0242ac120002-5-759c-9013-7f79-d87b-4c4f"
      },
      {
       "current": "d9bebe92-bc84-11ec-89f8-0242ac120002-7-7bbb-3406-b9d9-d76b-fb03-71b9-04a1",
       "next": "a588f0e7-8e2e-11ec-bb44-6b42dc3e1973-7-86ee-a437-947d-0344-c362-967a-dc5c",
       "previous": "d9beba0a-bc84-11ec-89f8-0242ac120002-6-759c-9013-7f79-d87b-4c4f-7477"
      },
      {
       "current": "d9bebe92-bc84-11ec-89f8-0242ac120002-8-7bbb-3406-b9d9-d76b-fb03-71b9-04a1-a363",
       "next": "a588f0e7-8e2e-11ec-bb44-6b42dc3e1973-8-86ee-a437-947d-0344-c362-967a-dc5c-28b0",
       "previous": "d9beba0a-bc84-11ec-89f8-0242ac120002-7-759c-9013-7f79-d87b-4c4f-7477-ccb4"
      }
     ],
     "next": "a588f0e7-8e2e-11ec-bb44-6b42dc3e1973-9-86ee-a437-947d-0344-c362-967a-dc5c-28b0-5025",
     "previous": "d9beba0a-bc84-11ec-89f8-0242ac120002-8-759c-9013-7f79-d87b-4c4f-7477-ccb4-b446"
    }
   },
   "outputs": [],
   "source": [
    "# group_vars['jupyterhub_singleuser_app'] = 'notebook.notebookapp.NotebookApp'   # Classic Notebook Server\n",
    "group_vars['jupyterhub_singleuser_app'] = 'jupyter_server.serverapp.ServerApp' # JupyterLab\n",
    "\n",
    "group_vars['jupyterhub_singleuser_default_url'] = '/tree' # Classic Notebook URL"
   ]
  },
  {
   "cell_type": "markdown",
   "id": "abdbbfb6",
   "metadata": {
    "lc_cell_meme": {
     "current": "a588f0e7-8e2e-11ec-bb44-6b42dc3e1973-9-86ee-a437-947d-0344-c362-967a-dc5c-28b0-5025",
     "history": [
      {
       "current": "a588f0e7-8e2e-11ec-bb44-6b42dc3e1973-1-86ee",
       "next": "9ab4fb0a-8e30-11ec-b59c-6b42dc3e1973",
       "previous": "414d8470-8997-11ec-8f5c-6b42dc3e1973"
      },
      {
       "current": "a588f0e7-8e2e-11ec-bb44-6b42dc3e1973-2-86ee-a437",
       "next": "9ab4fb0a-8e30-11ec-b59c-6b42dc3e1973-1-6552",
       "previous": "414d8470-8997-11ec-8f5c-6b42dc3e1973-1-955c"
      },
      {
       "current": "a588f0e7-8e2e-11ec-bb44-6b42dc3e1973-3-86ee-a437-947d",
       "next": "9ab4fb0a-8e30-11ec-b59c-6b42dc3e1973-2-6552-b3b8",
       "previous": "414d8470-8997-11ec-8f5c-6b42dc3e1973-2-955c-15b0"
      },
      {
       "current": "a588f0e7-8e2e-11ec-bb44-6b42dc3e1973-4-86ee-a437-947d-0344",
       "next": "9ab4fb0a-8e30-11ec-b59c-6b42dc3e1973-3-6552-b3b8-4159",
       "previous": "d9bebe92-bc84-11ec-89f8-0242ac120002-2-7bbb-3406"
      },
      {
       "current": "a588f0e7-8e2e-11ec-bb44-6b42dc3e1973-5-86ee-a437-947d-0344-c362",
       "next": "9ab4fb0a-8e30-11ec-b59c-6b42dc3e1973-4-6552-b3b8-4159-be1f",
       "previous": "d9bebe92-bc84-11ec-89f8-0242ac120002-3-7bbb-3406-b9d9"
      },
      {
       "current": "a588f0e7-8e2e-11ec-bb44-6b42dc3e1973-6-86ee-a437-947d-0344-c362-967a",
       "next": "9ab4fb0a-8e30-11ec-b59c-6b42dc3e1973-5-6552-b3b8-4159-be1f-3ba0",
       "previous": "d9bebe92-bc84-11ec-89f8-0242ac120002-4-7bbb-3406-b9d9-d76b"
      },
      {
       "current": "a588f0e7-8e2e-11ec-bb44-6b42dc3e1973-7-86ee-a437-947d-0344-c362-967a-dc5c",
       "next": "9ab4fb0a-8e30-11ec-b59c-6b42dc3e1973-6-6552-b3b8-4159-be1f-3ba0-0432",
       "previous": "d9bebe92-bc84-11ec-89f8-0242ac120002-5-7bbb-3406-b9d9-d76b-fb03"
      },
      {
       "current": "a588f0e7-8e2e-11ec-bb44-6b42dc3e1973-8-86ee-a437-947d-0344-c362-967a-dc5c-28b0",
       "next": "9ab4fb0a-8e30-11ec-b59c-6b42dc3e1973-7-6552-b3b8-4159-be1f-3ba0-0432-a219",
       "previous": "d9bebe92-bc84-11ec-89f8-0242ac120002-6-7bbb-3406-b9d9-d76b-fb03-71b9"
      },
      {
       "current": "a588f0e7-8e2e-11ec-bb44-6b42dc3e1973-9-86ee-a437-947d-0344-c362-967a-dc5c-28b0-5025",
       "next": "9ab4fb0a-8e30-11ec-b59c-6b42dc3e1973-8-6552-b3b8-4159-be1f-3ba0-0432-a219-d2bc",
       "previous": "d9bebe92-bc84-11ec-89f8-0242ac120002-7-7bbb-3406-b9d9-d76b-fb03-71b9-04a1"
      }
     ],
     "next": "9ab4fb0a-8e30-11ec-b59c-6b42dc3e1973-9-6552-b3b8-4159-be1f-3ba0-0432-a219-d2bc-8754",
     "previous": "d9bebe92-bc84-11ec-89f8-0242ac120002-8-7bbb-3406-b9d9-d76b-fb03-71b9-04a1-a363"
    }
   },
   "source": [
    "### その他のパラメータ\n",
    "\n",
    "通常は変更する必要はありません。"
   ]
  },
  {
   "cell_type": "markdown",
   "id": "1e131928",
   "metadata": {
    "lc_cell_meme": {
     "current": "9ab4fb0a-8e30-11ec-b59c-6b42dc3e1973-9-6552-b3b8-4159-be1f-3ba0-0432-a219-d2bc-8754",
     "history": [
      {
       "current": "9ab4fb0a-8e30-11ec-b59c-6b42dc3e1973-1-6552",
       "next": "52b91498-8e30-11ec-a95f-6b42dc3e1973",
       "previous": "a588f0e7-8e2e-11ec-bb44-6b42dc3e1973"
      },
      {
       "current": "9ab4fb0a-8e30-11ec-b59c-6b42dc3e1973-2-6552-b3b8",
       "next": "52b91498-8e30-11ec-a95f-6b42dc3e1973-1-7602",
       "previous": "a588f0e7-8e2e-11ec-bb44-6b42dc3e1973-1-86ee"
      },
      {
       "current": "9ab4fb0a-8e30-11ec-b59c-6b42dc3e1973-3-6552-b3b8-4159",
       "next": "52b91498-8e30-11ec-a95f-6b42dc3e1973-2-7602-c109",
       "previous": "a588f0e7-8e2e-11ec-bb44-6b42dc3e1973-2-86ee-a437"
      },
      {
       "current": "9ab4fb0a-8e30-11ec-b59c-6b42dc3e1973-4-6552-b3b8-4159-be1f",
       "next": "52b91498-8e30-11ec-a95f-6b42dc3e1973-3-7602-c109-6f00",
       "previous": "a588f0e7-8e2e-11ec-bb44-6b42dc3e1973-3-86ee-a437-947d"
      },
      {
       "current": "9ab4fb0a-8e30-11ec-b59c-6b42dc3e1973-5-6552-b3b8-4159-be1f-3ba0",
       "next": "52b91498-8e30-11ec-a95f-6b42dc3e1973-4-7602-c109-6f00-5d3e",
       "previous": "a588f0e7-8e2e-11ec-bb44-6b42dc3e1973-4-86ee-a437-947d-0344"
      },
      {
       "current": "9ab4fb0a-8e30-11ec-b59c-6b42dc3e1973-6-6552-b3b8-4159-be1f-3ba0-0432",
       "next": "52b91498-8e30-11ec-a95f-6b42dc3e1973-5-7602-c109-6f00-5d3e-6809",
       "previous": "a588f0e7-8e2e-11ec-bb44-6b42dc3e1973-5-86ee-a437-947d-0344-c362"
      },
      {
       "current": "9ab4fb0a-8e30-11ec-b59c-6b42dc3e1973-7-6552-b3b8-4159-be1f-3ba0-0432-a219",
       "next": "52b91498-8e30-11ec-a95f-6b42dc3e1973-6-7602-c109-6f00-5d3e-6809-fb91",
       "previous": "a588f0e7-8e2e-11ec-bb44-6b42dc3e1973-6-86ee-a437-947d-0344-c362-967a"
      },
      {
       "current": "9ab4fb0a-8e30-11ec-b59c-6b42dc3e1973-8-6552-b3b8-4159-be1f-3ba0-0432-a219-d2bc",
       "next": "52b91498-8e30-11ec-a95f-6b42dc3e1973-7-7602-c109-6f00-5d3e-6809-fb91-ef3b",
       "previous": "a588f0e7-8e2e-11ec-bb44-6b42dc3e1973-7-86ee-a437-947d-0344-c362-967a-dc5c"
      },
      {
       "current": "9ab4fb0a-8e30-11ec-b59c-6b42dc3e1973-9-6552-b3b8-4159-be1f-3ba0-0432-a219-d2bc-8754",
       "next": "52b91498-8e30-11ec-a95f-6b42dc3e1973-8-7602-c109-6f00-5d3e-6809-fb91-ef3b-2c05",
       "previous": "a588f0e7-8e2e-11ec-bb44-6b42dc3e1973-8-86ee-a437-947d-0344-c362-967a-dc5c-28b0"
      }
     ],
     "next": "52b91498-8e30-11ec-a95f-6b42dc3e1973-9-7602-c109-6f00-5d3e-6809-fb91-ef3b-2c05-6ae0",
     "previous": "a588f0e7-8e2e-11ec-bb44-6b42dc3e1973-9-86ee-a437-947d-0344-c362-967a-dc5c-28b0-5025"
    }
   },
   "source": [
    "NFS構成設定"
   ]
  },
  {
   "cell_type": "code",
   "execution_count": null,
   "id": "2279bb66",
   "metadata": {
    "lc_cell_meme": {
     "current": "52b91498-8e30-11ec-a95f-6b42dc3e1973-9-7602-c109-6f00-5d3e-6809-fb91-ef3b-2c05-6ae0",
     "history": [
      {
       "current": "52b91498-8e30-11ec-a95f-6b42dc3e1973-1-7602",
       "next": "6595d836-8811-11ec-8395-6b42dc3e1973-1-f33f",
       "previous": "9ab4fb0a-8e30-11ec-b59c-6b42dc3e1973"
      },
      {
       "current": "52b91498-8e30-11ec-a95f-6b42dc3e1973-2-7602-c109",
       "next": "6595d836-8811-11ec-8395-6b42dc3e1973-2-f33f-d146",
       "previous": "9ab4fb0a-8e30-11ec-b59c-6b42dc3e1973-1-6552"
      },
      {
       "current": "52b91498-8e30-11ec-a95f-6b42dc3e1973-3-7602-c109-6f00",
       "next": "6595d836-8811-11ec-8395-6b42dc3e1973-3-f33f-d146-a9b3",
       "previous": "9ab4fb0a-8e30-11ec-b59c-6b42dc3e1973-2-6552-b3b8"
      },
      {
       "current": "52b91498-8e30-11ec-a95f-6b42dc3e1973-4-7602-c109-6f00-5d3e",
       "next": "6595d836-8811-11ec-8395-6b42dc3e1973-4-f33f-d146-a9b3-9b34",
       "previous": "9ab4fb0a-8e30-11ec-b59c-6b42dc3e1973-3-6552-b3b8-4159"
      },
      {
       "current": "52b91498-8e30-11ec-a95f-6b42dc3e1973-5-7602-c109-6f00-5d3e-6809",
       "next": "6595d836-8811-11ec-8395-6b42dc3e1973-5-f33f-d146-a9b3-9b34-6be4",
       "previous": "9ab4fb0a-8e30-11ec-b59c-6b42dc3e1973-4-6552-b3b8-4159-be1f"
      },
      {
       "current": "52b91498-8e30-11ec-a95f-6b42dc3e1973-6-7602-c109-6f00-5d3e-6809-fb91",
       "next": "6595d836-8811-11ec-8395-6b42dc3e1973-6-f33f-d146-a9b3-9b34-6be4-0267",
       "previous": "9ab4fb0a-8e30-11ec-b59c-6b42dc3e1973-5-6552-b3b8-4159-be1f-3ba0"
      },
      {
       "current": "52b91498-8e30-11ec-a95f-6b42dc3e1973-7-7602-c109-6f00-5d3e-6809-fb91-ef3b",
       "next": "6595d836-8811-11ec-8395-6b42dc3e1973-7-f33f-d146-a9b3-9b34-6be4-0267-f5cb",
       "previous": "9ab4fb0a-8e30-11ec-b59c-6b42dc3e1973-6-6552-b3b8-4159-be1f-3ba0-0432"
      },
      {
       "current": "52b91498-8e30-11ec-a95f-6b42dc3e1973-8-7602-c109-6f00-5d3e-6809-fb91-ef3b-2c05",
       "next": "6595d836-8811-11ec-8395-6b42dc3e1973-8-f33f-d146-a9b3-9b34-6be4-0267-f5cb-9c11",
       "previous": "9ab4fb0a-8e30-11ec-b59c-6b42dc3e1973-7-6552-b3b8-4159-be1f-3ba0-0432-a219"
      },
      {
       "current": "52b91498-8e30-11ec-a95f-6b42dc3e1973-9-7602-c109-6f00-5d3e-6809-fb91-ef3b-2c05-6ae0",
       "next": "6595d836-8811-11ec-8395-6b42dc3e1973-9-f33f-d146-a9b3-9b34-6be4-0267-f5cb-9c11-3855",
       "previous": "9ab4fb0a-8e30-11ec-b59c-6b42dc3e1973-8-6552-b3b8-4159-be1f-3ba0-0432-a219-d2bc"
      }
     ],
     "next": "6595d836-8811-11ec-8395-6b42dc3e1973-10-f33f-d146-a9b3-9b34-6be4-0267-f5cb-9c11-3855-9d53",
     "previous": "9ab4fb0a-8e30-11ec-b59c-6b42dc3e1973-9-6552-b3b8-4159-be1f-3ba0-0432-a219-d2bc-8754"
    }
   },
   "outputs": [],
   "source": [
    "nfs_server_dedicated = nfs_server != master_server\n",
    "nfs_server_dedicated"
   ]
  },
  {
   "cell_type": "code",
   "execution_count": null,
   "id": "60aa4fa6",
   "metadata": {
    "lc_cell_meme": {
     "current": "6595d836-8811-11ec-8395-6b42dc3e1973-10-f33f-d146-a9b3-9b34-6be4-0267-f5cb-9c11-3855-9d53",
     "history": [
      {
       "current": "6595d836-8811-11ec-8395-6b42dc3e1973-2-f33f-d146",
       "next": "9ab4fd76-8e30-11ec-b25f-6b42dc3e1973",
       "previous": "52b91498-8e30-11ec-a95f-6b42dc3e1973"
      },
      {
       "current": "6595d836-8811-11ec-8395-6b42dc3e1973-3-f33f-d146-a9b3",
       "next": "9ab4fd76-8e30-11ec-b25f-6b42dc3e1973-1-12e1",
       "previous": "52b91498-8e30-11ec-a95f-6b42dc3e1973-1-7602"
      },
      {
       "current": "6595d836-8811-11ec-8395-6b42dc3e1973-4-f33f-d146-a9b3-9b34",
       "next": "9ab4fd76-8e30-11ec-b25f-6b42dc3e1973-2-12e1-667c",
       "previous": "52b91498-8e30-11ec-a95f-6b42dc3e1973-2-7602-c109"
      },
      {
       "current": "6595d836-8811-11ec-8395-6b42dc3e1973-5-f33f-d146-a9b3-9b34-6be4",
       "next": "9ab4fd76-8e30-11ec-b25f-6b42dc3e1973-3-12e1-667c-faac",
       "previous": "52b91498-8e30-11ec-a95f-6b42dc3e1973-3-7602-c109-6f00"
      },
      {
       "current": "6595d836-8811-11ec-8395-6b42dc3e1973-6-f33f-d146-a9b3-9b34-6be4-0267",
       "next": "9ab4fd76-8e30-11ec-b25f-6b42dc3e1973-4-12e1-667c-faac-6daf",
       "previous": "52b91498-8e30-11ec-a95f-6b42dc3e1973-4-7602-c109-6f00-5d3e"
      },
      {
       "current": "6595d836-8811-11ec-8395-6b42dc3e1973-7-f33f-d146-a9b3-9b34-6be4-0267-f5cb",
       "next": "9ab4fd76-8e30-11ec-b25f-6b42dc3e1973-5-12e1-667c-faac-6daf-83ca",
       "previous": "52b91498-8e30-11ec-a95f-6b42dc3e1973-5-7602-c109-6f00-5d3e-6809"
      },
      {
       "current": "6595d836-8811-11ec-8395-6b42dc3e1973-8-f33f-d146-a9b3-9b34-6be4-0267-f5cb-9c11",
       "next": "9ab4fd76-8e30-11ec-b25f-6b42dc3e1973-6-12e1-667c-faac-6daf-83ca-cbcb",
       "previous": "52b91498-8e30-11ec-a95f-6b42dc3e1973-6-7602-c109-6f00-5d3e-6809-fb91"
      },
      {
       "current": "6595d836-8811-11ec-8395-6b42dc3e1973-9-f33f-d146-a9b3-9b34-6be4-0267-f5cb-9c11-3855",
       "next": "9ab4fd76-8e30-11ec-b25f-6b42dc3e1973-7-12e1-667c-faac-6daf-83ca-cbcb-75a5",
       "previous": "52b91498-8e30-11ec-a95f-6b42dc3e1973-7-7602-c109-6f00-5d3e-6809-fb91-ef3b"
      },
      {
       "current": "6595d836-8811-11ec-8395-6b42dc3e1973-10-f33f-d146-a9b3-9b34-6be4-0267-f5cb-9c11-3855-9d53",
       "next": "9ab4fd76-8e30-11ec-b25f-6b42dc3e1973-8-12e1-667c-faac-6daf-83ca-cbcb-75a5-33eb",
       "previous": "52b91498-8e30-11ec-a95f-6b42dc3e1973-8-7602-c109-6f00-5d3e-6809-fb91-ef3b-2c05"
      }
     ],
     "next": "9ab4fd76-8e30-11ec-b25f-6b42dc3e1973-9-12e1-667c-faac-6daf-83ca-cbcb-75a5-33eb-2b3e",
     "previous": "52b91498-8e30-11ec-a95f-6b42dc3e1973-9-7602-c109-6f00-5d3e-6809-fb91-ef3b-2c05-6ae0"
    }
   },
   "outputs": [],
   "source": [
    "group_vars['nfsserver'] = nfs_server\n",
    "group_vars['exchange'] = '/exchange/'\n",
    "if nfs_server_dedicated:\n",
    "    group_vars['nfs_server_role'] = 'nfs_server_dedicated'\n",
    "    group_vars['nfsnodes_group'] = f'{hubname}_nodes'\n",
    "else:\n",
    "    group_vars['nfs_server_role'] = 'nfs_server'\n",
    "    group_vars['nfsnodes_group'] = 'cwhub_nodes'"
   ]
  },
  {
   "cell_type": "markdown",
   "id": "0fcb1d0c",
   "metadata": {
    "lc_cell_meme": {
     "current": "9ab4fd76-8e30-11ec-b25f-6b42dc3e1973-9-12e1-667c-faac-6daf-83ca-cbcb-75a5-33eb-2b3e",
     "history": [
      {
       "current": "9ab4fd76-8e30-11ec-b25f-6b42dc3e1973-1-12e1",
       "next": "6595d836-8811-11ec-8395-6b42dc3e1973",
       "previous": "6595d836-8811-11ec-8395-6b42dc3e1973-1-f33f"
      },
      {
       "current": "9ab4fd76-8e30-11ec-b25f-6b42dc3e1973-2-12e1-667c",
       "next": "6595d836-8811-11ec-8395-6b42dc3e1973-1-3057",
       "previous": "6595d836-8811-11ec-8395-6b42dc3e1973-2-f33f-d146"
      },
      {
       "current": "9ab4fd76-8e30-11ec-b25f-6b42dc3e1973-3-12e1-667c-faac",
       "next": "6595d836-8811-11ec-8395-6b42dc3e1973-2-3057-7e14",
       "previous": "6595d836-8811-11ec-8395-6b42dc3e1973-3-f33f-d146-a9b3"
      },
      {
       "current": "9ab4fd76-8e30-11ec-b25f-6b42dc3e1973-4-12e1-667c-faac-6daf",
       "next": "6595d836-8811-11ec-8395-6b42dc3e1973-3-3057-7e14-0ecc",
       "previous": "6595d836-8811-11ec-8395-6b42dc3e1973-4-f33f-d146-a9b3-9b34"
      },
      {
       "current": "9ab4fd76-8e30-11ec-b25f-6b42dc3e1973-5-12e1-667c-faac-6daf-83ca",
       "next": "6595d836-8811-11ec-8395-6b42dc3e1973-4-3057-7e14-0ecc-36ba",
       "previous": "6595d836-8811-11ec-8395-6b42dc3e1973-5-f33f-d146-a9b3-9b34-6be4"
      },
      {
       "current": "9ab4fd76-8e30-11ec-b25f-6b42dc3e1973-6-12e1-667c-faac-6daf-83ca-cbcb",
       "next": "6595d836-8811-11ec-8395-6b42dc3e1973-5-3057-7e14-0ecc-36ba-b657",
       "previous": "6595d836-8811-11ec-8395-6b42dc3e1973-6-f33f-d146-a9b3-9b34-6be4-0267"
      },
      {
       "current": "9ab4fd76-8e30-11ec-b25f-6b42dc3e1973-7-12e1-667c-faac-6daf-83ca-cbcb-75a5",
       "next": "6595d836-8811-11ec-8395-6b42dc3e1973-6-3057-7e14-0ecc-36ba-b657-c9ab",
       "previous": "6595d836-8811-11ec-8395-6b42dc3e1973-7-f33f-d146-a9b3-9b34-6be4-0267-f5cb"
      },
      {
       "current": "9ab4fd76-8e30-11ec-b25f-6b42dc3e1973-8-12e1-667c-faac-6daf-83ca-cbcb-75a5-33eb",
       "next": "6595d836-8811-11ec-8395-6b42dc3e1973-7-3057-7e14-0ecc-36ba-b657-c9ab-a719",
       "previous": "6595d836-8811-11ec-8395-6b42dc3e1973-8-f33f-d146-a9b3-9b34-6be4-0267-f5cb-9c11"
      },
      {
       "current": "9ab4fd76-8e30-11ec-b25f-6b42dc3e1973-9-12e1-667c-faac-6daf-83ca-cbcb-75a5-33eb-2b3e",
       "next": "6595d836-8811-11ec-8395-6b42dc3e1973-8-3057-7e14-0ecc-36ba-b657-c9ab-a719-efd7",
       "previous": "6595d836-8811-11ec-8395-6b42dc3e1973-9-f33f-d146-a9b3-9b34-6be4-0267-f5cb-9c11-3855"
      }
     ],
     "next": "6595d836-8811-11ec-8395-6b42dc3e1973-9-3057-7e14-0ecc-36ba-b657-c9ab-a719-efd7-dad1",
     "previous": "6595d836-8811-11ec-8395-6b42dc3e1973-10-f33f-d146-a9b3-9b34-6be4-0267-f5cb-9c11-3855-9d53"
    }
   },
   "source": [
    "イメージ名指定"
   ]
  },
  {
   "cell_type": "code",
   "execution_count": null,
   "id": "6b11090e",
   "metadata": {
    "lc_cell_meme": {
     "current": "6595d836-8811-11ec-8395-6b42dc3e1973-9-3057-7e14-0ecc-36ba-b657-c9ab-a719-efd7-dad1",
     "history": [
      {
       "current": "6595d836-8811-11ec-8395-6b42dc3e1973-1-3057",
       "next": "5d60548c-0f92-11ec-99fb-c7638f7e44c5-2-c95d-0e5d",
       "previous": "9ab4fd76-8e30-11ec-b25f-6b42dc3e1973"
      },
      {
       "current": "6595d836-8811-11ec-8395-6b42dc3e1973-2-3057-7e14",
       "next": "5d60548c-0f92-11ec-99fb-c7638f7e44c5-3-c95d-0e5d-a3e8",
       "previous": "9ab4fd76-8e30-11ec-b25f-6b42dc3e1973-1-12e1"
      },
      {
       "current": "6595d836-8811-11ec-8395-6b42dc3e1973-3-3057-7e14-0ecc",
       "next": "5d60548c-0f92-11ec-99fb-c7638f7e44c5-4-c95d-0e5d-a3e8-4d69",
       "previous": "9ab4fd76-8e30-11ec-b25f-6b42dc3e1973-2-12e1-667c"
      },
      {
       "current": "6595d836-8811-11ec-8395-6b42dc3e1973-4-3057-7e14-0ecc-36ba",
       "next": "5d60548c-0f92-11ec-99fb-c7638f7e44c5-5-c95d-0e5d-a3e8-4d69-e9ad",
       "previous": "9ab4fd76-8e30-11ec-b25f-6b42dc3e1973-3-12e1-667c-faac"
      },
      {
       "current": "6595d836-8811-11ec-8395-6b42dc3e1973-5-3057-7e14-0ecc-36ba-b657",
       "next": "5d60548c-0f92-11ec-99fb-c7638f7e44c5-6-c95d-0e5d-a3e8-4d69-e9ad-9dd0",
       "previous": "9ab4fd76-8e30-11ec-b25f-6b42dc3e1973-4-12e1-667c-faac-6daf"
      },
      {
       "current": "6595d836-8811-11ec-8395-6b42dc3e1973-6-3057-7e14-0ecc-36ba-b657-c9ab",
       "next": "5d60548c-0f92-11ec-99fb-c7638f7e44c5-7-c95d-0e5d-a3e8-4d69-e9ad-9dd0-ebbe",
       "previous": "9ab4fd76-8e30-11ec-b25f-6b42dc3e1973-5-12e1-667c-faac-6daf-83ca"
      },
      {
       "current": "6595d836-8811-11ec-8395-6b42dc3e1973-7-3057-7e14-0ecc-36ba-b657-c9ab-a719",
       "next": "5d60548c-0f92-11ec-99fb-c7638f7e44c5-8-c95d-0e5d-a3e8-4d69-e9ad-9dd0-ebbe-8afa",
       "previous": "9ab4fd76-8e30-11ec-b25f-6b42dc3e1973-6-12e1-667c-faac-6daf-83ca-cbcb"
      },
      {
       "current": "6595d836-8811-11ec-8395-6b42dc3e1973-8-3057-7e14-0ecc-36ba-b657-c9ab-a719-efd7",
       "next": "5d60548c-0f92-11ec-99fb-c7638f7e44c5-9-c95d-0e5d-a3e8-4d69-e9ad-9dd0-ebbe-8afa-02db",
       "previous": "9ab4fd76-8e30-11ec-b25f-6b42dc3e1973-7-12e1-667c-faac-6daf-83ca-cbcb-75a5"
      },
      {
       "current": "6595d836-8811-11ec-8395-6b42dc3e1973-9-3057-7e14-0ecc-36ba-b657-c9ab-a719-efd7-dad1",
       "next": "5d60548c-0f92-11ec-99fb-c7638f7e44c5-10-c95d-0e5d-a3e8-4d69-e9ad-9dd0-ebbe-8afa-02db-1a44",
       "previous": "9ab4fd76-8e30-11ec-b25f-6b42dc3e1973-8-12e1-667c-faac-6daf-83ca-cbcb-75a5-33eb"
      }
     ],
     "next": "5d60548c-0f92-11ec-99fb-c7638f7e44c5-11-0e5d-a3e8-4d69-e9ad-9dd0-ebbe-8afa-02db-1a44-5ba4",
     "previous": "9ab4fd76-8e30-11ec-b25f-6b42dc3e1973-9-12e1-667c-faac-6daf-83ca-cbcb-75a5-33eb-2b3e"
    }
   },
   "outputs": [],
   "source": [
    "group_vars['auth_proxy_image'] = 'niicloudoperation/coursewarehub-auth-proxy:master'\n",
    "group_vars['jupyterhub_image'] = 'niicloudoperation/coursewarehub-jupyterhub:master'"
   ]
  },
  {
   "cell_type": "markdown",
   "id": "1f596515",
   "metadata": {
    "lc_cell_meme": {
     "current": "5d60548c-0f92-11ec-99fb-c7638f7e44c5-11-0e5d-a3e8-4d69-e9ad-9dd0-ebbe-8afa-02db-1a44-5ba4",
     "history": [
      {
       "current": "5d60548c-0f92-11ec-99fb-c7638f7e44c5-3-c95d-0e5d-a3e8",
       "next": "335ba0cd-0f93-11ec-a1bb-c7638f7e44c5-2-84e3-00d9",
       "previous": "6595d836-8811-11ec-8395-6b42dc3e1973"
      },
      {
       "current": "5d60548c-0f92-11ec-99fb-c7638f7e44c5-4-c95d-0e5d-a3e8-4d69",
       "next": "335ba0cd-0f93-11ec-a1bb-c7638f7e44c5-3-84e3-00d9-37b0",
       "previous": "6595d836-8811-11ec-8395-6b42dc3e1973-1-3057"
      },
      {
       "current": "5d60548c-0f92-11ec-99fb-c7638f7e44c5-5-c95d-0e5d-a3e8-4d69-e9ad",
       "next": "335ba0cd-0f93-11ec-a1bb-c7638f7e44c5-4-84e3-00d9-37b0-d385",
       "previous": "6595d836-8811-11ec-8395-6b42dc3e1973-2-3057-7e14"
      },
      {
       "current": "5d60548c-0f92-11ec-99fb-c7638f7e44c5-6-c95d-0e5d-a3e8-4d69-e9ad-9dd0",
       "next": "335ba0cd-0f93-11ec-a1bb-c7638f7e44c5-5-84e3-00d9-37b0-d385-4afe",
       "previous": "6595d836-8811-11ec-8395-6b42dc3e1973-3-3057-7e14-0ecc"
      },
      {
       "current": "5d60548c-0f92-11ec-99fb-c7638f7e44c5-7-c95d-0e5d-a3e8-4d69-e9ad-9dd0-ebbe",
       "next": "335ba0cd-0f93-11ec-a1bb-c7638f7e44c5-6-84e3-00d9-37b0-d385-4afe-0787",
       "previous": "6595d836-8811-11ec-8395-6b42dc3e1973-4-3057-7e14-0ecc-36ba"
      },
      {
       "current": "5d60548c-0f92-11ec-99fb-c7638f7e44c5-8-c95d-0e5d-a3e8-4d69-e9ad-9dd0-ebbe-8afa",
       "next": "335ba0cd-0f93-11ec-a1bb-c7638f7e44c5-7-84e3-00d9-37b0-d385-4afe-0787-6b9d",
       "previous": "6595d836-8811-11ec-8395-6b42dc3e1973-5-3057-7e14-0ecc-36ba-b657"
      },
      {
       "current": "5d60548c-0f92-11ec-99fb-c7638f7e44c5-9-c95d-0e5d-a3e8-4d69-e9ad-9dd0-ebbe-8afa-02db",
       "next": "335ba0cd-0f93-11ec-a1bb-c7638f7e44c5-8-84e3-00d9-37b0-d385-4afe-0787-6b9d-f651",
       "previous": "6595d836-8811-11ec-8395-6b42dc3e1973-6-3057-7e14-0ecc-36ba-b657-c9ab"
      },
      {
       "current": "5d60548c-0f92-11ec-99fb-c7638f7e44c5-10-c95d-0e5d-a3e8-4d69-e9ad-9dd0-ebbe-8afa-02db-1a44",
       "next": "335ba0cd-0f93-11ec-a1bb-c7638f7e44c5-9-84e3-00d9-37b0-d385-4afe-0787-6b9d-f651-9b87",
       "previous": "6595d836-8811-11ec-8395-6b42dc3e1973-7-3057-7e14-0ecc-36ba-b657-c9ab-a719"
      },
      {
       "current": "5d60548c-0f92-11ec-99fb-c7638f7e44c5-11-0e5d-a3e8-4d69-e9ad-9dd0-ebbe-8afa-02db-1a44-5ba4",
       "next": "335ba0cd-0f93-11ec-a1bb-c7638f7e44c5-10-84e3-00d9-37b0-d385-4afe-0787-6b9d-f651-9b87-eaa4",
       "previous": "6595d836-8811-11ec-8395-6b42dc3e1973-8-3057-7e14-0ecc-36ba-b657-c9ab-a719-efd7"
      }
     ],
     "next": "335ba0cd-0f93-11ec-a1bb-c7638f7e44c5-11-00d9-37b0-d385-4afe-0787-6b9d-f651-9b87-eaa4-7b86",
     "previous": "6595d836-8811-11ec-8395-6b42dc3e1973-9-3057-7e14-0ecc-36ba-b657-c9ab-a719-efd7-dad1"
    }
   },
   "source": [
    "# Ansibleリソースの出力\n",
    "\n",
    "このNotebookで設定された内容は、AnsibleのInventory, Ansibleのgroup_varsに保存することで、この後のNotebook実行で利用することができます。"
   ]
  },
  {
   "cell_type": "code",
   "execution_count": null,
   "id": "579f4506",
   "metadata": {
    "lc_cell_meme": {
     "current": "335ba0cd-0f93-11ec-a1bb-c7638f7e44c5-11-00d9-37b0-d385-4afe-0787-6b9d-f651-9b87-eaa4-7b86",
     "history": [
      {
       "current": "335ba0cd-0f93-11ec-a1bb-c7638f7e44c5-3-84e3-00d9-37b0",
       "next": "207a7f9a-0fa3-11ec-9db9-c7638f7e44c5-2-7201-b11f",
       "previous": "5d60548c-0f92-11ec-99fb-c7638f7e44c5-2-c95d-0e5d"
      },
      {
       "current": "335ba0cd-0f93-11ec-a1bb-c7638f7e44c5-4-84e3-00d9-37b0-d385",
       "next": "207a7f9a-0fa3-11ec-9db9-c7638f7e44c5-3-7201-b11f-0170",
       "previous": "5d60548c-0f92-11ec-99fb-c7638f7e44c5-3-c95d-0e5d-a3e8"
      },
      {
       "current": "335ba0cd-0f93-11ec-a1bb-c7638f7e44c5-5-84e3-00d9-37b0-d385-4afe",
       "next": "207a7f9a-0fa3-11ec-9db9-c7638f7e44c5-4-7201-b11f-0170-8a91",
       "previous": "5d60548c-0f92-11ec-99fb-c7638f7e44c5-4-c95d-0e5d-a3e8-4d69"
      },
      {
       "current": "335ba0cd-0f93-11ec-a1bb-c7638f7e44c5-6-84e3-00d9-37b0-d385-4afe-0787",
       "next": "207a7f9a-0fa3-11ec-9db9-c7638f7e44c5-5-7201-b11f-0170-8a91-c9c4",
       "previous": "5d60548c-0f92-11ec-99fb-c7638f7e44c5-5-c95d-0e5d-a3e8-4d69-e9ad"
      },
      {
       "current": "335ba0cd-0f93-11ec-a1bb-c7638f7e44c5-7-84e3-00d9-37b0-d385-4afe-0787-6b9d",
       "next": "207a7f9a-0fa3-11ec-9db9-c7638f7e44c5-6-7201-b11f-0170-8a91-c9c4-3e30",
       "previous": "5d60548c-0f92-11ec-99fb-c7638f7e44c5-6-c95d-0e5d-a3e8-4d69-e9ad-9dd0"
      },
      {
       "current": "335ba0cd-0f93-11ec-a1bb-c7638f7e44c5-8-84e3-00d9-37b0-d385-4afe-0787-6b9d-f651",
       "next": "207a7f9a-0fa3-11ec-9db9-c7638f7e44c5-7-7201-b11f-0170-8a91-c9c4-3e30-1f3b",
       "previous": "5d60548c-0f92-11ec-99fb-c7638f7e44c5-7-c95d-0e5d-a3e8-4d69-e9ad-9dd0-ebbe"
      },
      {
       "current": "335ba0cd-0f93-11ec-a1bb-c7638f7e44c5-9-84e3-00d9-37b0-d385-4afe-0787-6b9d-f651-9b87",
       "next": "207a7f9a-0fa3-11ec-9db9-c7638f7e44c5-8-7201-b11f-0170-8a91-c9c4-3e30-1f3b-3f9b",
       "previous": "5d60548c-0f92-11ec-99fb-c7638f7e44c5-8-c95d-0e5d-a3e8-4d69-e9ad-9dd0-ebbe-8afa"
      },
      {
       "current": "335ba0cd-0f93-11ec-a1bb-c7638f7e44c5-10-84e3-00d9-37b0-d385-4afe-0787-6b9d-f651-9b87-eaa4",
       "next": "207a7f9a-0fa3-11ec-9db9-c7638f7e44c5-9-7201-b11f-0170-8a91-c9c4-3e30-1f3b-3f9b-a398",
       "previous": "5d60548c-0f92-11ec-99fb-c7638f7e44c5-9-c95d-0e5d-a3e8-4d69-e9ad-9dd0-ebbe-8afa-02db"
      },
      {
       "current": "335ba0cd-0f93-11ec-a1bb-c7638f7e44c5-11-00d9-37b0-d385-4afe-0787-6b9d-f651-9b87-eaa4-7b86",
       "next": "207a7f9a-0fa3-11ec-9db9-c7638f7e44c5-10-7201-b11f-0170-8a91-c9c4-3e30-1f3b-3f9b-a398-31c4",
       "previous": "5d60548c-0f92-11ec-99fb-c7638f7e44c5-10-c95d-0e5d-a3e8-4d69-e9ad-9dd0-ebbe-8afa-02db-1a44"
      }
     ],
     "next": "207a7f9a-0fa3-11ec-9db9-c7638f7e44c5-11-b11f-0170-8a91-c9c4-3e30-1f3b-3f9b-a398-31c4-f4da",
     "previous": "5d60548c-0f92-11ec-99fb-c7638f7e44c5-11-0e5d-a3e8-4d69-e9ad-9dd0-ebbe-8afa-02db-1a44-5ba4"
    }
   },
   "outputs": [],
   "source": [
    "nfs_server_with_ip = '{} servicenet_ip={}'.format(nfs_server, servicenet_ips[nfs_server] if nfs_server in servicenet_ips else nfs_server)\n",
    "nfs_server_with_ip"
   ]
  },
  {
   "cell_type": "code",
   "execution_count": null,
   "id": "527259b1",
   "metadata": {
    "lc_cell_meme": {
     "current": "207a7f9a-0fa3-11ec-9db9-c7638f7e44c5-11-b11f-0170-8a91-c9c4-3e30-1f3b-3f9b-a398-31c4-f4da",
     "history": [
      {
       "current": "207a7f9a-0fa3-11ec-9db9-c7638f7e44c5-3-7201-b11f-0170",
       "next": "7ae62a65-0f93-11ec-bb7f-c7638f7e44c5-2-2f0b-ef15",
       "previous": "335ba0cd-0f93-11ec-a1bb-c7638f7e44c5-2-84e3-00d9"
      },
      {
       "current": "207a7f9a-0fa3-11ec-9db9-c7638f7e44c5-4-7201-b11f-0170-8a91",
       "next": "7ae62a65-0f93-11ec-bb7f-c7638f7e44c5-3-2f0b-ef15-8767",
       "previous": "335ba0cd-0f93-11ec-a1bb-c7638f7e44c5-3-84e3-00d9-37b0"
      },
      {
       "current": "207a7f9a-0fa3-11ec-9db9-c7638f7e44c5-5-7201-b11f-0170-8a91-c9c4",
       "next": "7ae62a65-0f93-11ec-bb7f-c7638f7e44c5-4-2f0b-ef15-8767-6440",
       "previous": "335ba0cd-0f93-11ec-a1bb-c7638f7e44c5-4-84e3-00d9-37b0-d385"
      },
      {
       "current": "207a7f9a-0fa3-11ec-9db9-c7638f7e44c5-6-7201-b11f-0170-8a91-c9c4-3e30",
       "next": "7ae62a65-0f93-11ec-bb7f-c7638f7e44c5-5-2f0b-ef15-8767-6440-8ae8",
       "previous": "335ba0cd-0f93-11ec-a1bb-c7638f7e44c5-5-84e3-00d9-37b0-d385-4afe"
      },
      {
       "current": "207a7f9a-0fa3-11ec-9db9-c7638f7e44c5-7-7201-b11f-0170-8a91-c9c4-3e30-1f3b",
       "next": "7ae62a65-0f93-11ec-bb7f-c7638f7e44c5-6-2f0b-ef15-8767-6440-8ae8-a919",
       "previous": "335ba0cd-0f93-11ec-a1bb-c7638f7e44c5-6-84e3-00d9-37b0-d385-4afe-0787"
      },
      {
       "current": "207a7f9a-0fa3-11ec-9db9-c7638f7e44c5-8-7201-b11f-0170-8a91-c9c4-3e30-1f3b-3f9b",
       "next": "7ae62a65-0f93-11ec-bb7f-c7638f7e44c5-7-2f0b-ef15-8767-6440-8ae8-a919-becd",
       "previous": "335ba0cd-0f93-11ec-a1bb-c7638f7e44c5-7-84e3-00d9-37b0-d385-4afe-0787-6b9d"
      },
      {
       "current": "207a7f9a-0fa3-11ec-9db9-c7638f7e44c5-9-7201-b11f-0170-8a91-c9c4-3e30-1f3b-3f9b-a398",
       "next": "7ae62a65-0f93-11ec-bb7f-c7638f7e44c5-8-2f0b-ef15-8767-6440-8ae8-a919-becd-a394",
       "previous": "335ba0cd-0f93-11ec-a1bb-c7638f7e44c5-8-84e3-00d9-37b0-d385-4afe-0787-6b9d-f651"
      },
      {
       "current": "207a7f9a-0fa3-11ec-9db9-c7638f7e44c5-10-7201-b11f-0170-8a91-c9c4-3e30-1f3b-3f9b-a398-31c4",
       "next": "7ae62a65-0f93-11ec-bb7f-c7638f7e44c5-9-2f0b-ef15-8767-6440-8ae8-a919-becd-a394-4afb",
       "previous": "335ba0cd-0f93-11ec-a1bb-c7638f7e44c5-9-84e3-00d9-37b0-d385-4afe-0787-6b9d-f651-9b87"
      },
      {
       "current": "207a7f9a-0fa3-11ec-9db9-c7638f7e44c5-11-b11f-0170-8a91-c9c4-3e30-1f3b-3f9b-a398-31c4-f4da",
       "next": "7ae62a65-0f93-11ec-bb7f-c7638f7e44c5-10-2f0b-ef15-8767-6440-8ae8-a919-becd-a394-4afb-b7a4",
       "previous": "335ba0cd-0f93-11ec-a1bb-c7638f7e44c5-10-84e3-00d9-37b0-d385-4afe-0787-6b9d-f651-9b87-eaa4"
      }
     ],
     "next": "7ae62a65-0f93-11ec-bb7f-c7638f7e44c5-11-ef15-8767-6440-8ae8-a919-becd-a394-4afb-b7a4-c541",
     "previous": "335ba0cd-0f93-11ec-a1bb-c7638f7e44c5-11-00d9-37b0-d385-4afe-0787-6b9d-f651-9b87-eaa4-7b86"
    }
   },
   "outputs": [],
   "source": [
    "master_server_with_ip = '{} servicenet_ip={}'.format(master_server, servicenet_ips[master_server] if master_server in servicenet_ips else master_server)\n",
    "master_server_with_ip"
   ]
  },
  {
   "cell_type": "code",
   "execution_count": null,
   "id": "fb9b1ca2",
   "metadata": {
    "lc_cell_meme": {
     "current": "7ae62a65-0f93-11ec-bb7f-c7638f7e44c5-11-ef15-8767-6440-8ae8-a919-becd-a394-4afb-b7a4-c541",
     "history": [
      {
       "current": "7ae62a65-0f93-11ec-bb7f-c7638f7e44c5-3-2f0b-ef15-8767",
       "next": "280b61d6-0f95-11ec-95f8-c7638f7e44c5-2-8570-e0d5",
       "previous": "207a7f9a-0fa3-11ec-9db9-c7638f7e44c5-2-7201-b11f"
      },
      {
       "current": "7ae62a65-0f93-11ec-bb7f-c7638f7e44c5-4-2f0b-ef15-8767-6440",
       "next": "280b61d6-0f95-11ec-95f8-c7638f7e44c5-3-8570-e0d5-4f89",
       "previous": "207a7f9a-0fa3-11ec-9db9-c7638f7e44c5-3-7201-b11f-0170"
      },
      {
       "current": "7ae62a65-0f93-11ec-bb7f-c7638f7e44c5-5-2f0b-ef15-8767-6440-8ae8",
       "next": "280b61d6-0f95-11ec-95f8-c7638f7e44c5-4-8570-e0d5-4f89-6567",
       "previous": "207a7f9a-0fa3-11ec-9db9-c7638f7e44c5-4-7201-b11f-0170-8a91"
      },
      {
       "current": "7ae62a65-0f93-11ec-bb7f-c7638f7e44c5-6-2f0b-ef15-8767-6440-8ae8-a919",
       "next": "280b61d6-0f95-11ec-95f8-c7638f7e44c5-5-8570-e0d5-4f89-6567-7ecb",
       "previous": "207a7f9a-0fa3-11ec-9db9-c7638f7e44c5-5-7201-b11f-0170-8a91-c9c4"
      },
      {
       "current": "7ae62a65-0f93-11ec-bb7f-c7638f7e44c5-7-2f0b-ef15-8767-6440-8ae8-a919-becd",
       "next": "280b61d6-0f95-11ec-95f8-c7638f7e44c5-6-8570-e0d5-4f89-6567-7ecb-3248",
       "previous": "207a7f9a-0fa3-11ec-9db9-c7638f7e44c5-6-7201-b11f-0170-8a91-c9c4-3e30"
      },
      {
       "current": "7ae62a65-0f93-11ec-bb7f-c7638f7e44c5-8-2f0b-ef15-8767-6440-8ae8-a919-becd-a394",
       "next": "280b61d6-0f95-11ec-95f8-c7638f7e44c5-7-8570-e0d5-4f89-6567-7ecb-3248-40ce",
       "previous": "207a7f9a-0fa3-11ec-9db9-c7638f7e44c5-7-7201-b11f-0170-8a91-c9c4-3e30-1f3b"
      },
      {
       "current": "7ae62a65-0f93-11ec-bb7f-c7638f7e44c5-9-2f0b-ef15-8767-6440-8ae8-a919-becd-a394-4afb",
       "next": "280b61d6-0f95-11ec-95f8-c7638f7e44c5-8-8570-e0d5-4f89-6567-7ecb-3248-40ce-4157",
       "previous": "207a7f9a-0fa3-11ec-9db9-c7638f7e44c5-8-7201-b11f-0170-8a91-c9c4-3e30-1f3b-3f9b"
      },
      {
       "current": "7ae62a65-0f93-11ec-bb7f-c7638f7e44c5-10-2f0b-ef15-8767-6440-8ae8-a919-becd-a394-4afb-b7a4",
       "next": "280b61d6-0f95-11ec-95f8-c7638f7e44c5-9-8570-e0d5-4f89-6567-7ecb-3248-40ce-4157-2b54",
       "previous": "207a7f9a-0fa3-11ec-9db9-c7638f7e44c5-9-7201-b11f-0170-8a91-c9c4-3e30-1f3b-3f9b-a398"
      },
      {
       "current": "7ae62a65-0f93-11ec-bb7f-c7638f7e44c5-11-ef15-8767-6440-8ae8-a919-becd-a394-4afb-b7a4-c541",
       "next": "280b61d6-0f95-11ec-95f8-c7638f7e44c5-10-8570-e0d5-4f89-6567-7ecb-3248-40ce-4157-2b54-a9ab",
       "previous": "207a7f9a-0fa3-11ec-9db9-c7638f7e44c5-10-7201-b11f-0170-8a91-c9c4-3e30-1f3b-3f9b-a398-31c4"
      }
     ],
     "next": "280b61d6-0f95-11ec-95f8-c7638f7e44c5-11-e0d5-4f89-6567-7ecb-3248-40ce-4157-2b54-a9ab-b440",
     "previous": "207a7f9a-0fa3-11ec-9db9-c7638f7e44c5-11-b11f-0170-8a91-c9c4-3e30-1f3b-3f9b-a398-31c4-f4da"
    }
   },
   "outputs": [],
   "source": [
    "worker_servers_with_ips = ['{} servicenet_ip={}'.format(node_server, servicenet_ips[node_server] if node_server in servicenet_ips else node_server)\n",
    "                        for node_server in worker_servers]\n",
    "worker_servers_with_ips"
   ]
  },
  {
   "cell_type": "markdown",
   "id": "6188cd7e",
   "metadata": {
    "lc_cell_meme": {
     "current": "280b61d6-0f95-11ec-95f8-c7638f7e44c5-11-e0d5-4f89-6567-7ecb-3248-40ce-4157-2b54-a9ab-b440",
     "history": [
      {
       "current": "280b61d6-0f95-11ec-95f8-c7638f7e44c5-3-8570-e0d5-4f89",
       "next": "5da15e29-8590-11ec-9ed0-6b42dc3e1973",
       "previous": "7ae62a65-0f93-11ec-bb7f-c7638f7e44c5-2-2f0b-ef15"
      },
      {
       "current": "280b61d6-0f95-11ec-95f8-c7638f7e44c5-4-8570-e0d5-4f89-6567",
       "next": "5da15e29-8590-11ec-9ed0-6b42dc3e1973-1-f878",
       "previous": "7ae62a65-0f93-11ec-bb7f-c7638f7e44c5-3-2f0b-ef15-8767"
      },
      {
       "current": "280b61d6-0f95-11ec-95f8-c7638f7e44c5-5-8570-e0d5-4f89-6567-7ecb",
       "next": "5da15e29-8590-11ec-9ed0-6b42dc3e1973-2-f878-4519",
       "previous": "7ae62a65-0f93-11ec-bb7f-c7638f7e44c5-4-2f0b-ef15-8767-6440"
      },
      {
       "current": "280b61d6-0f95-11ec-95f8-c7638f7e44c5-6-8570-e0d5-4f89-6567-7ecb-3248",
       "next": "5da15e29-8590-11ec-9ed0-6b42dc3e1973-3-f878-4519-6ef2",
       "previous": "7ae62a65-0f93-11ec-bb7f-c7638f7e44c5-5-2f0b-ef15-8767-6440-8ae8"
      },
      {
       "current": "280b61d6-0f95-11ec-95f8-c7638f7e44c5-7-8570-e0d5-4f89-6567-7ecb-3248-40ce",
       "next": "5da15e29-8590-11ec-9ed0-6b42dc3e1973-4-f878-4519-6ef2-369e",
       "previous": "7ae62a65-0f93-11ec-bb7f-c7638f7e44c5-6-2f0b-ef15-8767-6440-8ae8-a919"
      },
      {
       "current": "280b61d6-0f95-11ec-95f8-c7638f7e44c5-8-8570-e0d5-4f89-6567-7ecb-3248-40ce-4157",
       "next": "5da15e29-8590-11ec-9ed0-6b42dc3e1973-5-f878-4519-6ef2-369e-a923",
       "previous": "7ae62a65-0f93-11ec-bb7f-c7638f7e44c5-7-2f0b-ef15-8767-6440-8ae8-a919-becd"
      },
      {
       "current": "280b61d6-0f95-11ec-95f8-c7638f7e44c5-9-8570-e0d5-4f89-6567-7ecb-3248-40ce-4157-2b54",
       "next": "5da15e29-8590-11ec-9ed0-6b42dc3e1973-6-f878-4519-6ef2-369e-a923-a5e7",
       "previous": "7ae62a65-0f93-11ec-bb7f-c7638f7e44c5-8-2f0b-ef15-8767-6440-8ae8-a919-becd-a394"
      },
      {
       "current": "280b61d6-0f95-11ec-95f8-c7638f7e44c5-10-8570-e0d5-4f89-6567-7ecb-3248-40ce-4157-2b54-a9ab",
       "next": "5da15e29-8590-11ec-9ed0-6b42dc3e1973-7-f878-4519-6ef2-369e-a923-a5e7-e491",
       "previous": "7ae62a65-0f93-11ec-bb7f-c7638f7e44c5-9-2f0b-ef15-8767-6440-8ae8-a919-becd-a394-4afb"
      },
      {
       "current": "280b61d6-0f95-11ec-95f8-c7638f7e44c5-11-e0d5-4f89-6567-7ecb-3248-40ce-4157-2b54-a9ab-b440",
       "next": "5da15e29-8590-11ec-9ed0-6b42dc3e1973-8-f878-4519-6ef2-369e-a923-a5e7-e491-db8b",
       "previous": "7ae62a65-0f93-11ec-bb7f-c7638f7e44c5-10-2f0b-ef15-8767-6440-8ae8-a919-becd-a394-4afb-b7a4"
      }
     ],
     "next": "5da15e29-8590-11ec-9ed0-6b42dc3e1973-9-f878-4519-6ef2-369e-a923-a5e7-e491-db8b-d6b9",
     "previous": "7ae62a65-0f93-11ec-bb7f-c7638f7e44c5-11-ef15-8767-6440-8ae8-a919-becd-a394-4afb-b7a4-c541"
    }
   },
   "source": [
    "## Ansible Inventoryの出力\n",
    "\n",
    "構築、操作対象のCoursewareHub用のインベントリを生成する。"
   ]
  },
  {
   "cell_type": "markdown",
   "id": "01542b8f",
   "metadata": {
    "lc_cell_meme": {
     "current": "5da15e29-8590-11ec-9ed0-6b42dc3e1973-9-f878-4519-6ef2-369e-a923-a5e7-e491-db8b-d6b9",
     "history": [
      {
       "current": "5da15e29-8590-11ec-9ed0-6b42dc3e1973-1-f878",
       "next": "5da162af-8590-11ec-8951-6b42dc3e1973",
       "previous": "280b61d6-0f95-11ec-95f8-c7638f7e44c5-2-8570-e0d5"
      },
      {
       "current": "5da15e29-8590-11ec-9ed0-6b42dc3e1973-2-f878-4519",
       "next": "5da162af-8590-11ec-8951-6b42dc3e1973-1-c194",
       "previous": "280b61d6-0f95-11ec-95f8-c7638f7e44c5-3-8570-e0d5-4f89"
      },
      {
       "current": "5da15e29-8590-11ec-9ed0-6b42dc3e1973-3-f878-4519-6ef2",
       "next": "5da162af-8590-11ec-8951-6b42dc3e1973-2-c194-769a",
       "previous": "280b61d6-0f95-11ec-95f8-c7638f7e44c5-4-8570-e0d5-4f89-6567"
      },
      {
       "current": "5da15e29-8590-11ec-9ed0-6b42dc3e1973-4-f878-4519-6ef2-369e",
       "next": "5da162af-8590-11ec-8951-6b42dc3e1973-3-c194-769a-9f8a",
       "previous": "280b61d6-0f95-11ec-95f8-c7638f7e44c5-5-8570-e0d5-4f89-6567-7ecb"
      },
      {
       "current": "5da15e29-8590-11ec-9ed0-6b42dc3e1973-5-f878-4519-6ef2-369e-a923",
       "next": "5da162af-8590-11ec-8951-6b42dc3e1973-4-c194-769a-9f8a-e70b",
       "previous": "280b61d6-0f95-11ec-95f8-c7638f7e44c5-6-8570-e0d5-4f89-6567-7ecb-3248"
      },
      {
       "current": "5da15e29-8590-11ec-9ed0-6b42dc3e1973-6-f878-4519-6ef2-369e-a923-a5e7",
       "next": "5da162af-8590-11ec-8951-6b42dc3e1973-5-c194-769a-9f8a-e70b-ecd4",
       "previous": "280b61d6-0f95-11ec-95f8-c7638f7e44c5-7-8570-e0d5-4f89-6567-7ecb-3248-40ce"
      },
      {
       "current": "5da15e29-8590-11ec-9ed0-6b42dc3e1973-7-f878-4519-6ef2-369e-a923-a5e7-e491",
       "next": "5da162af-8590-11ec-8951-6b42dc3e1973-6-c194-769a-9f8a-e70b-ecd4-309c",
       "previous": "280b61d6-0f95-11ec-95f8-c7638f7e44c5-8-8570-e0d5-4f89-6567-7ecb-3248-40ce-4157"
      },
      {
       "current": "5da15e29-8590-11ec-9ed0-6b42dc3e1973-8-f878-4519-6ef2-369e-a923-a5e7-e491-db8b",
       "next": "5da162af-8590-11ec-8951-6b42dc3e1973-7-c194-769a-9f8a-e70b-ecd4-309c-0ea4",
       "previous": "280b61d6-0f95-11ec-95f8-c7638f7e44c5-9-8570-e0d5-4f89-6567-7ecb-3248-40ce-4157-2b54"
      },
      {
       "current": "5da15e29-8590-11ec-9ed0-6b42dc3e1973-9-f878-4519-6ef2-369e-a923-a5e7-e491-db8b-d6b9",
       "next": "5da162af-8590-11ec-8951-6b42dc3e1973-8-c194-769a-9f8a-e70b-ecd4-309c-0ea4-474a",
       "previous": "280b61d6-0f95-11ec-95f8-c7638f7e44c5-10-8570-e0d5-4f89-6567-7ecb-3248-40ce-4157-2b54-a9ab"
      }
     ],
     "next": "5da162af-8590-11ec-8951-6b42dc3e1973-9-c194-769a-9f8a-e70b-ecd4-309c-0ea4-474a-e96a",
     "previous": "280b61d6-0f95-11ec-95f8-c7638f7e44c5-11-e0d5-4f89-6567-7ecb-3248-40ce-4157-2b54-a9ab-b440"
    }
   },
   "source": [
    "インベントリファイルのパスを決定します。\n",
    "\n",
    "ファイル名は、CoursewareHubの名前(`hubname`)を元に決定されます。"
   ]
  },
  {
   "cell_type": "code",
   "execution_count": null,
   "id": "3a4e2d81",
   "metadata": {
    "lc_cell_meme": {
     "current": "5da162af-8590-11ec-8951-6b42dc3e1973-9-c194-769a-9f8a-e70b-ecd4-309c-0ea4-474a-e96a",
     "history": [
      {
       "current": "5da162af-8590-11ec-8951-6b42dc3e1973-1-c194",
       "next": "51760eed-0f94-11ec-89d5-c7638f7e44c5-2-9a60-91e0",
       "previous": "5da15e29-8590-11ec-9ed0-6b42dc3e1973"
      },
      {
       "current": "5da162af-8590-11ec-8951-6b42dc3e1973-2-c194-769a",
       "next": "51760eed-0f94-11ec-89d5-c7638f7e44c5-3-9a60-91e0-d5f6",
       "previous": "5da15e29-8590-11ec-9ed0-6b42dc3e1973-1-f878"
      },
      {
       "current": "5da162af-8590-11ec-8951-6b42dc3e1973-3-c194-769a-9f8a",
       "next": "51760eed-0f94-11ec-89d5-c7638f7e44c5-4-9a60-91e0-d5f6-55c7",
       "previous": "5da15e29-8590-11ec-9ed0-6b42dc3e1973-2-f878-4519"
      },
      {
       "current": "5da162af-8590-11ec-8951-6b42dc3e1973-4-c194-769a-9f8a-e70b",
       "next": "51760eed-0f94-11ec-89d5-c7638f7e44c5-5-9a60-91e0-d5f6-55c7-e611",
       "previous": "5da15e29-8590-11ec-9ed0-6b42dc3e1973-3-f878-4519-6ef2"
      },
      {
       "current": "5da162af-8590-11ec-8951-6b42dc3e1973-5-c194-769a-9f8a-e70b-ecd4",
       "next": "51760eed-0f94-11ec-89d5-c7638f7e44c5-6-9a60-91e0-d5f6-55c7-e611-e42b",
       "previous": "5da15e29-8590-11ec-9ed0-6b42dc3e1973-4-f878-4519-6ef2-369e"
      },
      {
       "current": "5da162af-8590-11ec-8951-6b42dc3e1973-6-c194-769a-9f8a-e70b-ecd4-309c",
       "next": "51760eed-0f94-11ec-89d5-c7638f7e44c5-7-9a60-91e0-d5f6-55c7-e611-e42b-969a",
       "previous": "5da15e29-8590-11ec-9ed0-6b42dc3e1973-5-f878-4519-6ef2-369e-a923"
      },
      {
       "current": "5da162af-8590-11ec-8951-6b42dc3e1973-7-c194-769a-9f8a-e70b-ecd4-309c-0ea4",
       "next": "51760eed-0f94-11ec-89d5-c7638f7e44c5-8-9a60-91e0-d5f6-55c7-e611-e42b-969a-97c0",
       "previous": "5da15e29-8590-11ec-9ed0-6b42dc3e1973-6-f878-4519-6ef2-369e-a923-a5e7"
      },
      {
       "current": "5da162af-8590-11ec-8951-6b42dc3e1973-8-c194-769a-9f8a-e70b-ecd4-309c-0ea4-474a",
       "next": "51760eed-0f94-11ec-89d5-c7638f7e44c5-9-9a60-91e0-d5f6-55c7-e611-e42b-969a-97c0-27c5",
       "previous": "5da15e29-8590-11ec-9ed0-6b42dc3e1973-7-f878-4519-6ef2-369e-a923-a5e7-e491"
      },
      {
       "current": "5da162af-8590-11ec-8951-6b42dc3e1973-9-c194-769a-9f8a-e70b-ecd4-309c-0ea4-474a-e96a",
       "next": "51760eed-0f94-11ec-89d5-c7638f7e44c5-10-9a60-91e0-d5f6-55c7-e611-e42b-969a-97c0-27c5-4718",
       "previous": "5da15e29-8590-11ec-9ed0-6b42dc3e1973-8-f878-4519-6ef2-369e-a923-a5e7-e491-db8b"
      }
     ],
     "next": "51760eed-0f94-11ec-89d5-c7638f7e44c5-11-91e0-d5f6-55c7-e611-e42b-969a-97c0-27c5-4718-7ef3",
     "previous": "5da15e29-8590-11ec-9ed0-6b42dc3e1973-9-f878-4519-6ef2-369e-a923-a5e7-e491-db8b-d6b9"
    }
   },
   "outputs": [],
   "source": [
    "import os.path\n",
    "\n",
    "inventory_name = '{}_inventory'.format(hubname)\n",
    "\n",
    "inventory_path = os.path.relpath(\n",
    "    os.path.join(os.path.dirname(os.path.abspath(hosts_file)), inventory_name),\n",
    "    start=os.getcwd())\n",
    "inventory_path"
   ]
  },
  {
   "cell_type": "code",
   "execution_count": null,
   "id": "e45a4c80",
   "metadata": {
    "lc_cell_meme": {
     "current": "51760eed-0f94-11ec-89d5-c7638f7e44c5-11-91e0-d5f6-55c7-e611-e42b-969a-97c0-27c5-4718-7ef3",
     "history": [
      {
       "current": "51760eed-0f94-11ec-89d5-c7638f7e44c5-3-9a60-91e0-d5f6",
       "next": "35555c4e-8811-11ec-814c-6b42dc3e1973",
       "previous": "5da162af-8590-11ec-8951-6b42dc3e1973"
      },
      {
       "current": "51760eed-0f94-11ec-89d5-c7638f7e44c5-4-9a60-91e0-d5f6-55c7",
       "next": "35555c4e-8811-11ec-814c-6b42dc3e1973-1-aeb9",
       "previous": "5da162af-8590-11ec-8951-6b42dc3e1973-1-c194"
      },
      {
       "current": "51760eed-0f94-11ec-89d5-c7638f7e44c5-5-9a60-91e0-d5f6-55c7-e611",
       "next": "35555c4e-8811-11ec-814c-6b42dc3e1973-2-aeb9-189a",
       "previous": "5da162af-8590-11ec-8951-6b42dc3e1973-2-c194-769a"
      },
      {
       "current": "51760eed-0f94-11ec-89d5-c7638f7e44c5-6-9a60-91e0-d5f6-55c7-e611-e42b",
       "next": "35555c4e-8811-11ec-814c-6b42dc3e1973-3-aeb9-189a-252a",
       "previous": "5da162af-8590-11ec-8951-6b42dc3e1973-3-c194-769a-9f8a"
      },
      {
       "current": "51760eed-0f94-11ec-89d5-c7638f7e44c5-7-9a60-91e0-d5f6-55c7-e611-e42b-969a",
       "next": "35555c4e-8811-11ec-814c-6b42dc3e1973-4-aeb9-189a-252a-49dc",
       "previous": "5da162af-8590-11ec-8951-6b42dc3e1973-4-c194-769a-9f8a-e70b"
      },
      {
       "current": "51760eed-0f94-11ec-89d5-c7638f7e44c5-8-9a60-91e0-d5f6-55c7-e611-e42b-969a-97c0",
       "next": "35555c4e-8811-11ec-814c-6b42dc3e1973-5-aeb9-189a-252a-49dc-925e",
       "previous": "5da162af-8590-11ec-8951-6b42dc3e1973-5-c194-769a-9f8a-e70b-ecd4"
      },
      {
       "current": "51760eed-0f94-11ec-89d5-c7638f7e44c5-9-9a60-91e0-d5f6-55c7-e611-e42b-969a-97c0-27c5",
       "next": "35555c4e-8811-11ec-814c-6b42dc3e1973-6-aeb9-189a-252a-49dc-925e-4f7a",
       "previous": "5da162af-8590-11ec-8951-6b42dc3e1973-6-c194-769a-9f8a-e70b-ecd4-309c"
      },
      {
       "current": "51760eed-0f94-11ec-89d5-c7638f7e44c5-10-9a60-91e0-d5f6-55c7-e611-e42b-969a-97c0-27c5-4718",
       "next": "35555c4e-8811-11ec-814c-6b42dc3e1973-7-aeb9-189a-252a-49dc-925e-4f7a-6811",
       "previous": "5da162af-8590-11ec-8951-6b42dc3e1973-7-c194-769a-9f8a-e70b-ecd4-309c-0ea4"
      },
      {
       "current": "51760eed-0f94-11ec-89d5-c7638f7e44c5-11-91e0-d5f6-55c7-e611-e42b-969a-97c0-27c5-4718-7ef3",
       "next": "35555c4e-8811-11ec-814c-6b42dc3e1973-8-aeb9-189a-252a-49dc-925e-4f7a-6811-070c",
       "previous": "5da162af-8590-11ec-8951-6b42dc3e1973-8-c194-769a-9f8a-e70b-ecd4-309c-0ea4-474a"
      }
     ],
     "next": "35555c4e-8811-11ec-814c-6b42dc3e1973-9-aeb9-189a-252a-49dc-925e-4f7a-6811-070c-70e2",
     "previous": "5da162af-8590-11ec-8951-6b42dc3e1973-9-c194-769a-9f8a-e70b-ecd4-309c-0ea4-474a-e96a"
    }
   },
   "outputs": [],
   "source": [
    "import tempfile\n",
    "work_dir = tempfile.mkdtemp()\n",
    "work_dir"
   ]
  },
  {
   "cell_type": "markdown",
   "id": "2c1575d3",
   "metadata": {
    "lc_cell_meme": {
     "current": "35555c4e-8811-11ec-814c-6b42dc3e1973-9-aeb9-189a-252a-49dc-925e-4f7a-6811-070c-70e2",
     "history": [
      {
       "current": "35555c4e-8811-11ec-814c-6b42dc3e1973-1-aeb9",
       "next": "91ea5092-85b3-11ec-a5ee-6b42dc3e1973",
       "previous": "51760eed-0f94-11ec-89d5-c7638f7e44c5-2-9a60-91e0"
      },
      {
       "current": "35555c4e-8811-11ec-814c-6b42dc3e1973-2-aeb9-189a",
       "next": "91ea5092-85b3-11ec-a5ee-6b42dc3e1973-1-acdf",
       "previous": "51760eed-0f94-11ec-89d5-c7638f7e44c5-3-9a60-91e0-d5f6"
      },
      {
       "current": "35555c4e-8811-11ec-814c-6b42dc3e1973-3-aeb9-189a-252a",
       "next": "91ea5092-85b3-11ec-a5ee-6b42dc3e1973-2-acdf-f997",
       "previous": "51760eed-0f94-11ec-89d5-c7638f7e44c5-4-9a60-91e0-d5f6-55c7"
      },
      {
       "current": "35555c4e-8811-11ec-814c-6b42dc3e1973-4-aeb9-189a-252a-49dc",
       "next": "91ea5092-85b3-11ec-a5ee-6b42dc3e1973-3-acdf-f997-4338",
       "previous": "51760eed-0f94-11ec-89d5-c7638f7e44c5-5-9a60-91e0-d5f6-55c7-e611"
      },
      {
       "current": "35555c4e-8811-11ec-814c-6b42dc3e1973-5-aeb9-189a-252a-49dc-925e",
       "next": "91ea5092-85b3-11ec-a5ee-6b42dc3e1973-4-acdf-f997-4338-b3f4",
       "previous": "51760eed-0f94-11ec-89d5-c7638f7e44c5-6-9a60-91e0-d5f6-55c7-e611-e42b"
      },
      {
       "current": "35555c4e-8811-11ec-814c-6b42dc3e1973-6-aeb9-189a-252a-49dc-925e-4f7a",
       "next": "91ea5092-85b3-11ec-a5ee-6b42dc3e1973-5-acdf-f997-4338-b3f4-763d",
       "previous": "51760eed-0f94-11ec-89d5-c7638f7e44c5-7-9a60-91e0-d5f6-55c7-e611-e42b-969a"
      },
      {
       "current": "35555c4e-8811-11ec-814c-6b42dc3e1973-7-aeb9-189a-252a-49dc-925e-4f7a-6811",
       "next": "91ea5092-85b3-11ec-a5ee-6b42dc3e1973-6-acdf-f997-4338-b3f4-763d-45b0",
       "previous": "51760eed-0f94-11ec-89d5-c7638f7e44c5-8-9a60-91e0-d5f6-55c7-e611-e42b-969a-97c0"
      },
      {
       "current": "35555c4e-8811-11ec-814c-6b42dc3e1973-8-aeb9-189a-252a-49dc-925e-4f7a-6811-070c",
       "next": "91ea5092-85b3-11ec-a5ee-6b42dc3e1973-7-acdf-f997-4338-b3f4-763d-45b0-1cab",
       "previous": "51760eed-0f94-11ec-89d5-c7638f7e44c5-9-9a60-91e0-d5f6-55c7-e611-e42b-969a-97c0-27c5"
      },
      {
       "current": "35555c4e-8811-11ec-814c-6b42dc3e1973-9-aeb9-189a-252a-49dc-925e-4f7a-6811-070c-70e2",
       "next": "91ea5092-85b3-11ec-a5ee-6b42dc3e1973-8-acdf-f997-4338-b3f4-763d-45b0-1cab-6a7c",
       "previous": "51760eed-0f94-11ec-89d5-c7638f7e44c5-10-9a60-91e0-d5f6-55c7-e611-e42b-969a-97c0-27c5-4718"
      }
     ],
     "next": "91ea5092-85b3-11ec-a5ee-6b42dc3e1973-9-acdf-f997-4338-b3f4-763d-45b0-1cab-6a7c-5855",
     "previous": "51760eed-0f94-11ec-89d5-c7638f7e44c5-11-91e0-d5f6-55c7-e611-e42b-969a-97c0-27c5-4718-7ef3"
    }
   },
   "source": [
    "現在のinventoryがある場合は、後の比較のため、一時退避"
   ]
  },
  {
   "cell_type": "code",
   "execution_count": null,
   "id": "62632de7",
   "metadata": {
    "lc_cell_meme": {
     "current": "91ea5092-85b3-11ec-a5ee-6b42dc3e1973-9-acdf-f997-4338-b3f4-763d-45b0-1cab-6a7c-5855",
     "history": [
      {
       "current": "91ea5092-85b3-11ec-a5ee-6b42dc3e1973-1-acdf",
       "next": "35555eb5-8811-11ec-8eb5-6b42dc3e1973",
       "previous": "35555c4e-8811-11ec-814c-6b42dc3e1973"
      },
      {
       "current": "91ea5092-85b3-11ec-a5ee-6b42dc3e1973-2-acdf-f997",
       "next": "35555eb5-8811-11ec-8eb5-6b42dc3e1973-1-aaf8",
       "previous": "35555c4e-8811-11ec-814c-6b42dc3e1973-1-aeb9"
      },
      {
       "current": "91ea5092-85b3-11ec-a5ee-6b42dc3e1973-3-acdf-f997-4338",
       "next": "35555eb5-8811-11ec-8eb5-6b42dc3e1973-2-aaf8-7087",
       "previous": "35555c4e-8811-11ec-814c-6b42dc3e1973-2-aeb9-189a"
      },
      {
       "current": "91ea5092-85b3-11ec-a5ee-6b42dc3e1973-4-acdf-f997-4338-b3f4",
       "next": "35555eb5-8811-11ec-8eb5-6b42dc3e1973-3-aaf8-7087-804f",
       "previous": "35555c4e-8811-11ec-814c-6b42dc3e1973-3-aeb9-189a-252a"
      },
      {
       "current": "91ea5092-85b3-11ec-a5ee-6b42dc3e1973-5-acdf-f997-4338-b3f4-763d",
       "next": "35555eb5-8811-11ec-8eb5-6b42dc3e1973-4-aaf8-7087-804f-1ce0",
       "previous": "35555c4e-8811-11ec-814c-6b42dc3e1973-4-aeb9-189a-252a-49dc"
      },
      {
       "current": "91ea5092-85b3-11ec-a5ee-6b42dc3e1973-6-acdf-f997-4338-b3f4-763d-45b0",
       "next": "35555eb5-8811-11ec-8eb5-6b42dc3e1973-5-aaf8-7087-804f-1ce0-6c4b",
       "previous": "35555c4e-8811-11ec-814c-6b42dc3e1973-5-aeb9-189a-252a-49dc-925e"
      },
      {
       "current": "91ea5092-85b3-11ec-a5ee-6b42dc3e1973-7-acdf-f997-4338-b3f4-763d-45b0-1cab",
       "next": "35555eb5-8811-11ec-8eb5-6b42dc3e1973-6-aaf8-7087-804f-1ce0-6c4b-44fe",
       "previous": "35555c4e-8811-11ec-814c-6b42dc3e1973-6-aeb9-189a-252a-49dc-925e-4f7a"
      },
      {
       "current": "91ea5092-85b3-11ec-a5ee-6b42dc3e1973-8-acdf-f997-4338-b3f4-763d-45b0-1cab-6a7c",
       "next": "35555eb5-8811-11ec-8eb5-6b42dc3e1973-7-aaf8-7087-804f-1ce0-6c4b-44fe-827a",
       "previous": "35555c4e-8811-11ec-814c-6b42dc3e1973-7-aeb9-189a-252a-49dc-925e-4f7a-6811"
      },
      {
       "current": "91ea5092-85b3-11ec-a5ee-6b42dc3e1973-9-acdf-f997-4338-b3f4-763d-45b0-1cab-6a7c-5855",
       "next": "35555eb5-8811-11ec-8eb5-6b42dc3e1973-8-aaf8-7087-804f-1ce0-6c4b-44fe-827a-0380",
       "previous": "35555c4e-8811-11ec-814c-6b42dc3e1973-8-aeb9-189a-252a-49dc-925e-4f7a-6811-070c"
      }
     ],
     "next": "35555eb5-8811-11ec-8eb5-6b42dc3e1973-9-aaf8-7087-804f-1ce0-6c4b-44fe-827a-0380-0405",
     "previous": "35555c4e-8811-11ec-814c-6b42dc3e1973-9-aeb9-189a-252a-49dc-925e-4f7a-6811-070c-70e2"
    }
   },
   "outputs": [],
   "source": [
    "if os.path.exists(inventory_path):\n",
    "    !cp -a {inventory_path} {work_dir}/inventory_old\n",
    "else: \n",
    "    !touch {work_dir}/inventory_old"
   ]
  },
  {
   "cell_type": "markdown",
   "id": "712d9a00",
   "metadata": {
    "lc_cell_meme": {
     "current": "35555eb5-8811-11ec-8eb5-6b42dc3e1973-9-aaf8-7087-804f-1ce0-6c4b-44fe-827a-0380-0405",
     "history": [
      {
       "current": "35555eb5-8811-11ec-8eb5-6b42dc3e1973-1-aaf8",
       "next": "ecb407ca-8590-11ec-a2a4-6b42dc3e1973",
       "previous": "91ea5092-85b3-11ec-a5ee-6b42dc3e1973"
      },
      {
       "current": "35555eb5-8811-11ec-8eb5-6b42dc3e1973-2-aaf8-7087",
       "next": "ecb407ca-8590-11ec-a2a4-6b42dc3e1973-1-6576",
       "previous": "91ea5092-85b3-11ec-a5ee-6b42dc3e1973-1-acdf"
      },
      {
       "current": "35555eb5-8811-11ec-8eb5-6b42dc3e1973-3-aaf8-7087-804f",
       "next": "ecb407ca-8590-11ec-a2a4-6b42dc3e1973-2-6576-e73c",
       "previous": "91ea5092-85b3-11ec-a5ee-6b42dc3e1973-2-acdf-f997"
      },
      {
       "current": "35555eb5-8811-11ec-8eb5-6b42dc3e1973-4-aaf8-7087-804f-1ce0",
       "next": "ecb407ca-8590-11ec-a2a4-6b42dc3e1973-3-6576-e73c-520d",
       "previous": "91ea5092-85b3-11ec-a5ee-6b42dc3e1973-3-acdf-f997-4338"
      },
      {
       "current": "35555eb5-8811-11ec-8eb5-6b42dc3e1973-5-aaf8-7087-804f-1ce0-6c4b",
       "next": "ecb407ca-8590-11ec-a2a4-6b42dc3e1973-4-6576-e73c-520d-18ba",
       "previous": "91ea5092-85b3-11ec-a5ee-6b42dc3e1973-4-acdf-f997-4338-b3f4"
      },
      {
       "current": "35555eb5-8811-11ec-8eb5-6b42dc3e1973-6-aaf8-7087-804f-1ce0-6c4b-44fe",
       "next": "ecb407ca-8590-11ec-a2a4-6b42dc3e1973-5-6576-e73c-520d-18ba-5c73",
       "previous": "91ea5092-85b3-11ec-a5ee-6b42dc3e1973-5-acdf-f997-4338-b3f4-763d"
      },
      {
       "current": "35555eb5-8811-11ec-8eb5-6b42dc3e1973-7-aaf8-7087-804f-1ce0-6c4b-44fe-827a",
       "next": "ecb407ca-8590-11ec-a2a4-6b42dc3e1973-6-6576-e73c-520d-18ba-5c73-b012",
       "previous": "91ea5092-85b3-11ec-a5ee-6b42dc3e1973-6-acdf-f997-4338-b3f4-763d-45b0"
      },
      {
       "current": "35555eb5-8811-11ec-8eb5-6b42dc3e1973-8-aaf8-7087-804f-1ce0-6c4b-44fe-827a-0380",
       "next": "ecb407ca-8590-11ec-a2a4-6b42dc3e1973-7-6576-e73c-520d-18ba-5c73-b012-b2d5",
       "previous": "91ea5092-85b3-11ec-a5ee-6b42dc3e1973-7-acdf-f997-4338-b3f4-763d-45b0-1cab"
      },
      {
       "current": "35555eb5-8811-11ec-8eb5-6b42dc3e1973-9-aaf8-7087-804f-1ce0-6c4b-44fe-827a-0380-0405",
       "next": "ecb407ca-8590-11ec-a2a4-6b42dc3e1973-8-6576-e73c-520d-18ba-5c73-b012-b2d5-0646",
       "previous": "91ea5092-85b3-11ec-a5ee-6b42dc3e1973-8-acdf-f997-4338-b3f4-763d-45b0-1cab-6a7c"
      }
     ],
     "next": "ecb407ca-8590-11ec-a2a4-6b42dc3e1973-9-6576-e73c-520d-18ba-5c73-b012-b2d5-0646-0979",
     "previous": "91ea5092-85b3-11ec-a5ee-6b42dc3e1973-9-acdf-f997-4338-b3f4-763d-45b0-1cab-6a7c-5855"
    }
   },
   "source": [
    "inventoryの生成"
   ]
  },
  {
   "cell_type": "code",
   "execution_count": null,
   "id": "fdea7ee6",
   "metadata": {
    "lc_cell_meme": {
     "current": "ecb407ca-8590-11ec-a2a4-6b42dc3e1973-9-6576-e73c-520d-18ba-5c73-b012-b2d5-0646-0979",
     "history": [
      {
       "current": "ecb407ca-8590-11ec-a2a4-6b42dc3e1973-1-6576",
       "next": "8edf74c4-8e32-11ec-864f-6b42dc3e1973",
       "previous": "35555eb5-8811-11ec-8eb5-6b42dc3e1973"
      },
      {
       "current": "ecb407ca-8590-11ec-a2a4-6b42dc3e1973-2-6576-e73c",
       "next": "8edf74c4-8e32-11ec-864f-6b42dc3e1973-1-dc79",
       "previous": "35555eb5-8811-11ec-8eb5-6b42dc3e1973-1-aaf8"
      },
      {
       "current": "ecb407ca-8590-11ec-a2a4-6b42dc3e1973-3-6576-e73c-520d",
       "next": "8edf74c4-8e32-11ec-864f-6b42dc3e1973-2-dc79-e92c",
       "previous": "35555eb5-8811-11ec-8eb5-6b42dc3e1973-2-aaf8-7087"
      },
      {
       "current": "ecb407ca-8590-11ec-a2a4-6b42dc3e1973-4-6576-e73c-520d-18ba",
       "next": "8edf74c4-8e32-11ec-864f-6b42dc3e1973-3-dc79-e92c-ce1f",
       "previous": "35555eb5-8811-11ec-8eb5-6b42dc3e1973-3-aaf8-7087-804f"
      },
      {
       "current": "ecb407ca-8590-11ec-a2a4-6b42dc3e1973-5-6576-e73c-520d-18ba-5c73",
       "next": "8edf74c4-8e32-11ec-864f-6b42dc3e1973-4-dc79-e92c-ce1f-4a33",
       "previous": "35555eb5-8811-11ec-8eb5-6b42dc3e1973-4-aaf8-7087-804f-1ce0"
      },
      {
       "current": "ecb407ca-8590-11ec-a2a4-6b42dc3e1973-6-6576-e73c-520d-18ba-5c73-b012",
       "next": "8edf74c4-8e32-11ec-864f-6b42dc3e1973-5-dc79-e92c-ce1f-4a33-9642",
       "previous": "35555eb5-8811-11ec-8eb5-6b42dc3e1973-5-aaf8-7087-804f-1ce0-6c4b"
      },
      {
       "current": "ecb407ca-8590-11ec-a2a4-6b42dc3e1973-7-6576-e73c-520d-18ba-5c73-b012-b2d5",
       "next": "8edf74c4-8e32-11ec-864f-6b42dc3e1973-6-dc79-e92c-ce1f-4a33-9642-4660",
       "previous": "35555eb5-8811-11ec-8eb5-6b42dc3e1973-6-aaf8-7087-804f-1ce0-6c4b-44fe"
      },
      {
       "current": "ecb407ca-8590-11ec-a2a4-6b42dc3e1973-8-6576-e73c-520d-18ba-5c73-b012-b2d5-0646",
       "next": "8edf74c4-8e32-11ec-864f-6b42dc3e1973-7-dc79-e92c-ce1f-4a33-9642-4660-dda9",
       "previous": "35555eb5-8811-11ec-8eb5-6b42dc3e1973-7-aaf8-7087-804f-1ce0-6c4b-44fe-827a"
      },
      {
       "current": "ecb407ca-8590-11ec-a2a4-6b42dc3e1973-9-6576-e73c-520d-18ba-5c73-b012-b2d5-0646-0979",
       "next": "8edf74c4-8e32-11ec-864f-6b42dc3e1973-8-dc79-e92c-ce1f-4a33-9642-4660-dda9-5255",
       "previous": "35555eb5-8811-11ec-8eb5-6b42dc3e1973-8-aaf8-7087-804f-1ce0-6c4b-44fe-827a-0380"
      }
     ],
     "next": "8edf74c4-8e32-11ec-864f-6b42dc3e1973-9-dc79-e92c-ce1f-4a33-9642-4660-dda9-5255-291f",
     "previous": "35555eb5-8811-11ec-8eb5-6b42dc3e1973-9-aaf8-7087-804f-1ce0-6c4b-44fe-827a-0380-0405"
    }
   },
   "outputs": [],
   "source": [
    "worker_servers_list_with_ips = '\\n'.join(worker_servers_with_ips)\n",
    "\n",
    "with open(inventory_path, 'w') as f:\n",
    "    f.write(f'''\n",
    "[{hubname}:vars]\n",
    "ansible_ssh_user=centos\n",
    "ansible_ssh_private_key_file=~/.ssh/ansible_id_rsa\n",
    "\n",
    "[{hubname}:children]\n",
    "cwhub_nfs_server\n",
    "cwhub_master\n",
    "cwhub_nodes\n",
    "\n",
    "[{hubname}_nodes:children]\n",
    "cwhub_master\n",
    "cwhub_nodes\n",
    "\n",
    "[cwhub_nfs_server]\n",
    "{nfs_server_with_ip}\n",
    "\n",
    "[cwhub_master]\n",
    "{master_server_with_ip}\n",
    "\n",
    "[cwhub_nodes]\n",
    "{worker_servers_list_with_ips}\n",
    "'''.lstrip())\n",
    "    \n",
    "!cat {inventory_path}"
   ]
  },
  {
   "cell_type": "markdown",
   "id": "3a02f446",
   "metadata": {
    "lc_cell_meme": {
     "current": "8edf74c4-8e32-11ec-864f-6b42dc3e1973-9-dc79-e92c-ce1f-4a33-9642-4660-dda9-5255-291f",
     "history": [
      {
       "current": "8edf74c4-8e32-11ec-864f-6b42dc3e1973-1-dc79",
       "next": "d9881aae-85b3-11ec-b4c3-6b42dc3e1973",
       "previous": "ecb407ca-8590-11ec-a2a4-6b42dc3e1973"
      },
      {
       "current": "8edf74c4-8e32-11ec-864f-6b42dc3e1973-2-dc79-e92c",
       "next": "d9881aae-85b3-11ec-b4c3-6b42dc3e1973-1-8bae",
       "previous": "ecb407ca-8590-11ec-a2a4-6b42dc3e1973-1-6576"
      },
      {
       "current": "8edf74c4-8e32-11ec-864f-6b42dc3e1973-3-dc79-e92c-ce1f",
       "next": "d9881aae-85b3-11ec-b4c3-6b42dc3e1973-2-8bae-f5c3",
       "previous": "ecb407ca-8590-11ec-a2a4-6b42dc3e1973-2-6576-e73c"
      },
      {
       "current": "8edf74c4-8e32-11ec-864f-6b42dc3e1973-4-dc79-e92c-ce1f-4a33",
       "next": "d9881aae-85b3-11ec-b4c3-6b42dc3e1973-3-8bae-f5c3-086b",
       "previous": "ecb407ca-8590-11ec-a2a4-6b42dc3e1973-3-6576-e73c-520d"
      },
      {
       "current": "8edf74c4-8e32-11ec-864f-6b42dc3e1973-5-dc79-e92c-ce1f-4a33-9642",
       "next": "d9881aae-85b3-11ec-b4c3-6b42dc3e1973-4-8bae-f5c3-086b-5ddd",
       "previous": "ecb407ca-8590-11ec-a2a4-6b42dc3e1973-4-6576-e73c-520d-18ba"
      },
      {
       "current": "8edf74c4-8e32-11ec-864f-6b42dc3e1973-6-dc79-e92c-ce1f-4a33-9642-4660",
       "next": "d9881aae-85b3-11ec-b4c3-6b42dc3e1973-5-8bae-f5c3-086b-5ddd-bfcc",
       "previous": "ecb407ca-8590-11ec-a2a4-6b42dc3e1973-5-6576-e73c-520d-18ba-5c73"
      },
      {
       "current": "8edf74c4-8e32-11ec-864f-6b42dc3e1973-7-dc79-e92c-ce1f-4a33-9642-4660-dda9",
       "next": "d9881aae-85b3-11ec-b4c3-6b42dc3e1973-6-8bae-f5c3-086b-5ddd-bfcc-d7cd",
       "previous": "ecb407ca-8590-11ec-a2a4-6b42dc3e1973-6-6576-e73c-520d-18ba-5c73-b012"
      },
      {
       "current": "8edf74c4-8e32-11ec-864f-6b42dc3e1973-8-dc79-e92c-ce1f-4a33-9642-4660-dda9-5255",
       "next": "d9881aae-85b3-11ec-b4c3-6b42dc3e1973-7-8bae-f5c3-086b-5ddd-bfcc-d7cd-abbe",
       "previous": "ecb407ca-8590-11ec-a2a4-6b42dc3e1973-7-6576-e73c-520d-18ba-5c73-b012-b2d5"
      },
      {
       "current": "8edf74c4-8e32-11ec-864f-6b42dc3e1973-9-dc79-e92c-ce1f-4a33-9642-4660-dda9-5255-291f",
       "next": "d9881aae-85b3-11ec-b4c3-6b42dc3e1973-8-8bae-f5c3-086b-5ddd-bfcc-d7cd-abbe-033f",
       "previous": "ecb407ca-8590-11ec-a2a4-6b42dc3e1973-8-6576-e73c-520d-18ba-5c73-b012-b2d5-0646"
      }
     ],
     "next": "d9881aae-85b3-11ec-b4c3-6b42dc3e1973-9-8bae-f5c3-086b-5ddd-bfcc-d7cd-abbe-033f-871b",
     "previous": "ecb407ca-8590-11ec-a2a4-6b42dc3e1973-9-6576-e73c-520d-18ba-5c73-b012-b2d5-0646-0979"
    }
   },
   "source": [
    "変更箇所を確認"
   ]
  },
  {
   "cell_type": "code",
   "execution_count": null,
   "id": "1a8494f8",
   "metadata": {
    "lc_cell_meme": {
     "current": "d9881aae-85b3-11ec-b4c3-6b42dc3e1973-9-8bae-f5c3-086b-5ddd-bfcc-d7cd-abbe-033f-871b",
     "history": [
      {
       "current": "d9881aae-85b3-11ec-b4c3-6b42dc3e1973-1-8bae",
       "next": "280b6323-0f95-11ec-9731-c7638f7e44c5-2-1829-3427",
       "previous": "8edf74c4-8e32-11ec-864f-6b42dc3e1973"
      },
      {
       "current": "d9881aae-85b3-11ec-b4c3-6b42dc3e1973-2-8bae-f5c3",
       "next": "280b6323-0f95-11ec-9731-c7638f7e44c5-3-1829-3427-bda3",
       "previous": "8edf74c4-8e32-11ec-864f-6b42dc3e1973-1-dc79"
      },
      {
       "current": "d9881aae-85b3-11ec-b4c3-6b42dc3e1973-3-8bae-f5c3-086b",
       "next": "280b6323-0f95-11ec-9731-c7638f7e44c5-4-1829-3427-bda3-0d88",
       "previous": "8edf74c4-8e32-11ec-864f-6b42dc3e1973-2-dc79-e92c"
      },
      {
       "current": "d9881aae-85b3-11ec-b4c3-6b42dc3e1973-4-8bae-f5c3-086b-5ddd",
       "next": "280b6323-0f95-11ec-9731-c7638f7e44c5-5-1829-3427-bda3-0d88-44b2",
       "previous": "8edf74c4-8e32-11ec-864f-6b42dc3e1973-3-dc79-e92c-ce1f"
      },
      {
       "current": "d9881aae-85b3-11ec-b4c3-6b42dc3e1973-5-8bae-f5c3-086b-5ddd-bfcc",
       "next": "280b6323-0f95-11ec-9731-c7638f7e44c5-6-1829-3427-bda3-0d88-44b2-b274",
       "previous": "8edf74c4-8e32-11ec-864f-6b42dc3e1973-4-dc79-e92c-ce1f-4a33"
      },
      {
       "current": "d9881aae-85b3-11ec-b4c3-6b42dc3e1973-6-8bae-f5c3-086b-5ddd-bfcc-d7cd",
       "next": "280b6323-0f95-11ec-9731-c7638f7e44c5-7-1829-3427-bda3-0d88-44b2-b274-0106",
       "previous": "8edf74c4-8e32-11ec-864f-6b42dc3e1973-5-dc79-e92c-ce1f-4a33-9642"
      },
      {
       "current": "d9881aae-85b3-11ec-b4c3-6b42dc3e1973-7-8bae-f5c3-086b-5ddd-bfcc-d7cd-abbe",
       "next": "280b6323-0f95-11ec-9731-c7638f7e44c5-8-1829-3427-bda3-0d88-44b2-b274-0106-9d4a",
       "previous": "8edf74c4-8e32-11ec-864f-6b42dc3e1973-6-dc79-e92c-ce1f-4a33-9642-4660"
      },
      {
       "current": "d9881aae-85b3-11ec-b4c3-6b42dc3e1973-8-8bae-f5c3-086b-5ddd-bfcc-d7cd-abbe-033f",
       "next": "280b6323-0f95-11ec-9731-c7638f7e44c5-9-1829-3427-bda3-0d88-44b2-b274-0106-9d4a-175c",
       "previous": "8edf74c4-8e32-11ec-864f-6b42dc3e1973-7-dc79-e92c-ce1f-4a33-9642-4660-dda9"
      },
      {
       "current": "d9881aae-85b3-11ec-b4c3-6b42dc3e1973-9-8bae-f5c3-086b-5ddd-bfcc-d7cd-abbe-033f-871b",
       "next": "280b6323-0f95-11ec-9731-c7638f7e44c5-10-1829-3427-bda3-0d88-44b2-b274-0106-9d4a-175c-a0af",
       "previous": "8edf74c4-8e32-11ec-864f-6b42dc3e1973-8-dc79-e92c-ce1f-4a33-9642-4660-dda9-5255"
      }
     ],
     "next": "280b6323-0f95-11ec-9731-c7638f7e44c5-11-3427-bda3-0d88-44b2-b274-0106-9d4a-175c-a0af-5f7e",
     "previous": "8edf74c4-8e32-11ec-864f-6b42dc3e1973-9-dc79-e92c-ce1f-4a33-9642-4660-dda9-5255-291f"
    }
   },
   "outputs": [],
   "source": [
    "!diff -u {work_dir}/inventory_old {inventory_path} ;:"
   ]
  },
  {
   "cell_type": "markdown",
   "id": "8b134fab",
   "metadata": {
    "lc_cell_meme": {
     "current": "280b6323-0f95-11ec-9731-c7638f7e44c5-11-3427-bda3-0d88-44b2-b274-0106-9d4a-175c-a0af-5f7e",
     "history": [
      {
       "current": "280b6323-0f95-11ec-9731-c7638f7e44c5-3-1829-3427-bda3",
       "next": "6595d6f6-8811-11ec-946e-6b42dc3e1973",
       "previous": "d9881aae-85b3-11ec-b4c3-6b42dc3e1973"
      },
      {
       "current": "280b6323-0f95-11ec-9731-c7638f7e44c5-4-1829-3427-bda3-0d88",
       "next": "6595d6f6-8811-11ec-946e-6b42dc3e1973-1-042a",
       "previous": "d9881aae-85b3-11ec-b4c3-6b42dc3e1973-1-8bae"
      },
      {
       "current": "280b6323-0f95-11ec-9731-c7638f7e44c5-5-1829-3427-bda3-0d88-44b2",
       "next": "6595d6f6-8811-11ec-946e-6b42dc3e1973-2-042a-0d3a",
       "previous": "d9881aae-85b3-11ec-b4c3-6b42dc3e1973-2-8bae-f5c3"
      },
      {
       "current": "280b6323-0f95-11ec-9731-c7638f7e44c5-6-1829-3427-bda3-0d88-44b2-b274",
       "next": "6595d6f6-8811-11ec-946e-6b42dc3e1973-3-042a-0d3a-9be0",
       "previous": "d9881aae-85b3-11ec-b4c3-6b42dc3e1973-3-8bae-f5c3-086b"
      },
      {
       "current": "280b6323-0f95-11ec-9731-c7638f7e44c5-7-1829-3427-bda3-0d88-44b2-b274-0106",
       "next": "6595d6f6-8811-11ec-946e-6b42dc3e1973-4-042a-0d3a-9be0-6eac",
       "previous": "d9881aae-85b3-11ec-b4c3-6b42dc3e1973-4-8bae-f5c3-086b-5ddd"
      },
      {
       "current": "280b6323-0f95-11ec-9731-c7638f7e44c5-8-1829-3427-bda3-0d88-44b2-b274-0106-9d4a",
       "next": "6595d6f6-8811-11ec-946e-6b42dc3e1973-5-042a-0d3a-9be0-6eac-10ca",
       "previous": "d9881aae-85b3-11ec-b4c3-6b42dc3e1973-5-8bae-f5c3-086b-5ddd-bfcc"
      },
      {
       "current": "280b6323-0f95-11ec-9731-c7638f7e44c5-9-1829-3427-bda3-0d88-44b2-b274-0106-9d4a-175c",
       "next": "6595d6f6-8811-11ec-946e-6b42dc3e1973-6-042a-0d3a-9be0-6eac-10ca-e044",
       "previous": "d9881aae-85b3-11ec-b4c3-6b42dc3e1973-6-8bae-f5c3-086b-5ddd-bfcc-d7cd"
      },
      {
       "current": "280b6323-0f95-11ec-9731-c7638f7e44c5-10-1829-3427-bda3-0d88-44b2-b274-0106-9d4a-175c-a0af",
       "next": "6595d6f6-8811-11ec-946e-6b42dc3e1973-7-042a-0d3a-9be0-6eac-10ca-e044-0359",
       "previous": "d9881aae-85b3-11ec-b4c3-6b42dc3e1973-7-8bae-f5c3-086b-5ddd-bfcc-d7cd-abbe"
      },
      {
       "current": "280b6323-0f95-11ec-9731-c7638f7e44c5-11-3427-bda3-0d88-44b2-b274-0106-9d4a-175c-a0af-5f7e",
       "next": "6595d6f6-8811-11ec-946e-6b42dc3e1973-8-042a-0d3a-9be0-6eac-10ca-e044-0359-48e4",
       "previous": "d9881aae-85b3-11ec-b4c3-6b42dc3e1973-8-8bae-f5c3-086b-5ddd-bfcc-d7cd-abbe-033f"
      }
     ],
     "next": "6595d6f6-8811-11ec-946e-6b42dc3e1973-9-042a-0d3a-9be0-6eac-10ca-e044-0359-48e4-8696",
     "previous": "d9881aae-85b3-11ec-b4c3-6b42dc3e1973-9-8bae-f5c3-086b-5ddd-bfcc-d7cd-abbe-033f-871b"
    }
   },
   "source": [
    "## Ansible group_vars"
   ]
  },
  {
   "cell_type": "code",
   "execution_count": null,
   "id": "b0e4e6d8",
   "metadata": {
    "lc_cell_meme": {
     "current": "6595d6f6-8811-11ec-946e-6b42dc3e1973-9-042a-0d3a-9be0-6eac-10ca-e044-0359-48e4-8696",
     "history": [
      {
       "current": "6595d6f6-8811-11ec-946e-6b42dc3e1973-1-042a",
       "next": "35555fe0-8811-11ec-a899-6b42dc3e1973",
       "previous": "280b6323-0f95-11ec-9731-c7638f7e44c5-2-1829-3427"
      },
      {
       "current": "6595d6f6-8811-11ec-946e-6b42dc3e1973-2-042a-0d3a",
       "next": "35555fe0-8811-11ec-a899-6b42dc3e1973-1-6c5d",
       "previous": "280b6323-0f95-11ec-9731-c7638f7e44c5-3-1829-3427-bda3"
      },
      {
       "current": "6595d6f6-8811-11ec-946e-6b42dc3e1973-3-042a-0d3a-9be0",
       "next": "35555fe0-8811-11ec-a899-6b42dc3e1973-2-6c5d-0f69",
       "previous": "280b6323-0f95-11ec-9731-c7638f7e44c5-4-1829-3427-bda3-0d88"
      },
      {
       "current": "6595d6f6-8811-11ec-946e-6b42dc3e1973-4-042a-0d3a-9be0-6eac",
       "next": "35555fe0-8811-11ec-a899-6b42dc3e1973-3-6c5d-0f69-ce31",
       "previous": "280b6323-0f95-11ec-9731-c7638f7e44c5-5-1829-3427-bda3-0d88-44b2"
      },
      {
       "current": "6595d6f6-8811-11ec-946e-6b42dc3e1973-5-042a-0d3a-9be0-6eac-10ca",
       "next": "35555fe0-8811-11ec-a899-6b42dc3e1973-4-6c5d-0f69-ce31-e5ba",
       "previous": "280b6323-0f95-11ec-9731-c7638f7e44c5-6-1829-3427-bda3-0d88-44b2-b274"
      },
      {
       "current": "6595d6f6-8811-11ec-946e-6b42dc3e1973-6-042a-0d3a-9be0-6eac-10ca-e044",
       "next": "35555fe0-8811-11ec-a899-6b42dc3e1973-5-6c5d-0f69-ce31-e5ba-7075",
       "previous": "280b6323-0f95-11ec-9731-c7638f7e44c5-7-1829-3427-bda3-0d88-44b2-b274-0106"
      },
      {
       "current": "6595d6f6-8811-11ec-946e-6b42dc3e1973-7-042a-0d3a-9be0-6eac-10ca-e044-0359",
       "next": "35555fe0-8811-11ec-a899-6b42dc3e1973-6-6c5d-0f69-ce31-e5ba-7075-e7fd",
       "previous": "280b6323-0f95-11ec-9731-c7638f7e44c5-8-1829-3427-bda3-0d88-44b2-b274-0106-9d4a"
      },
      {
       "current": "6595d6f6-8811-11ec-946e-6b42dc3e1973-8-042a-0d3a-9be0-6eac-10ca-e044-0359-48e4",
       "next": "35555fe0-8811-11ec-a899-6b42dc3e1973-7-6c5d-0f69-ce31-e5ba-7075-e7fd-b9ea",
       "previous": "280b6323-0f95-11ec-9731-c7638f7e44c5-9-1829-3427-bda3-0d88-44b2-b274-0106-9d4a-175c"
      },
      {
       "current": "6595d6f6-8811-11ec-946e-6b42dc3e1973-9-042a-0d3a-9be0-6eac-10ca-e044-0359-48e4-8696",
       "next": "35555fe0-8811-11ec-a899-6b42dc3e1973-8-6c5d-0f69-ce31-e5ba-7075-e7fd-b9ea-9e87",
       "previous": "280b6323-0f95-11ec-9731-c7638f7e44c5-10-1829-3427-bda3-0d88-44b2-b274-0106-9d4a-175c-a0af"
      }
     ],
     "next": "35555fe0-8811-11ec-a899-6b42dc3e1973-9-6c5d-0f69-ce31-e5ba-7075-e7fd-b9ea-9e87-8caf",
     "previous": "280b6323-0f95-11ec-9731-c7638f7e44c5-11-3427-bda3-0d88-44b2-b274-0106-9d4a-175c-a0af-5f7e"
    }
   },
   "outputs": [],
   "source": [
    "group_vars"
   ]
  },
  {
   "cell_type": "markdown",
   "id": "f4895ad5",
   "metadata": {
    "lc_cell_meme": {
     "current": "35555fe0-8811-11ec-a899-6b42dc3e1973-9-6c5d-0f69-ce31-e5ba-7075-e7fd-b9ea-9e87-8caf",
     "history": [
      {
       "current": "35555fe0-8811-11ec-a899-6b42dc3e1973-1-6c5d",
       "next": "355560c8-8811-11ec-b51b-6b42dc3e1973",
       "previous": "6595d6f6-8811-11ec-946e-6b42dc3e1973"
      },
      {
       "current": "35555fe0-8811-11ec-a899-6b42dc3e1973-2-6c5d-0f69",
       "next": "355560c8-8811-11ec-b51b-6b42dc3e1973-1-3ceb",
       "previous": "6595d6f6-8811-11ec-946e-6b42dc3e1973-1-042a"
      },
      {
       "current": "35555fe0-8811-11ec-a899-6b42dc3e1973-3-6c5d-0f69-ce31",
       "next": "355560c8-8811-11ec-b51b-6b42dc3e1973-2-3ceb-8052",
       "previous": "6595d6f6-8811-11ec-946e-6b42dc3e1973-2-042a-0d3a"
      },
      {
       "current": "35555fe0-8811-11ec-a899-6b42dc3e1973-4-6c5d-0f69-ce31-e5ba",
       "next": "355560c8-8811-11ec-b51b-6b42dc3e1973-3-3ceb-8052-19a0",
       "previous": "6595d6f6-8811-11ec-946e-6b42dc3e1973-3-042a-0d3a-9be0"
      },
      {
       "current": "35555fe0-8811-11ec-a899-6b42dc3e1973-5-6c5d-0f69-ce31-e5ba-7075",
       "next": "355560c8-8811-11ec-b51b-6b42dc3e1973-4-3ceb-8052-19a0-ae02",
       "previous": "6595d6f6-8811-11ec-946e-6b42dc3e1973-4-042a-0d3a-9be0-6eac"
      },
      {
       "current": "35555fe0-8811-11ec-a899-6b42dc3e1973-6-6c5d-0f69-ce31-e5ba-7075-e7fd",
       "next": "355560c8-8811-11ec-b51b-6b42dc3e1973-5-3ceb-8052-19a0-ae02-29bc",
       "previous": "6595d6f6-8811-11ec-946e-6b42dc3e1973-5-042a-0d3a-9be0-6eac-10ca"
      },
      {
       "current": "35555fe0-8811-11ec-a899-6b42dc3e1973-7-6c5d-0f69-ce31-e5ba-7075-e7fd-b9ea",
       "next": "355560c8-8811-11ec-b51b-6b42dc3e1973-6-3ceb-8052-19a0-ae02-29bc-6baa",
       "previous": "6595d6f6-8811-11ec-946e-6b42dc3e1973-6-042a-0d3a-9be0-6eac-10ca-e044"
      },
      {
       "current": "35555fe0-8811-11ec-a899-6b42dc3e1973-8-6c5d-0f69-ce31-e5ba-7075-e7fd-b9ea-9e87",
       "next": "355560c8-8811-11ec-b51b-6b42dc3e1973-7-3ceb-8052-19a0-ae02-29bc-6baa-23c9",
       "previous": "6595d6f6-8811-11ec-946e-6b42dc3e1973-7-042a-0d3a-9be0-6eac-10ca-e044-0359"
      },
      {
       "current": "35555fe0-8811-11ec-a899-6b42dc3e1973-9-6c5d-0f69-ce31-e5ba-7075-e7fd-b9ea-9e87-8caf",
       "next": "355560c8-8811-11ec-b51b-6b42dc3e1973-8-3ceb-8052-19a0-ae02-29bc-6baa-23c9-4811",
       "previous": "6595d6f6-8811-11ec-946e-6b42dc3e1973-8-042a-0d3a-9be0-6eac-10ca-e044-0359-48e4"
      }
     ],
     "next": "355560c8-8811-11ec-b51b-6b42dc3e1973-9-3ceb-8052-19a0-ae02-29bc-6baa-23c9-4811-d379",
     "previous": "6595d6f6-8811-11ec-946e-6b42dc3e1973-9-042a-0d3a-9be0-6eac-10ca-e044-0359-48e4-8696"
    }
   },
   "source": [
    "group_varsを一時ファイルディレクトリに書き出す"
   ]
  },
  {
   "cell_type": "code",
   "execution_count": null,
   "id": "75aeda7d",
   "metadata": {
    "lc_cell_meme": {
     "current": "355560c8-8811-11ec-b51b-6b42dc3e1973-9-3ceb-8052-19a0-ae02-29bc-6baa-23c9-4811-d379",
     "history": [
      {
       "current": "355560c8-8811-11ec-b51b-6b42dc3e1973-1-3ceb",
       "next": "0beba184-8812-11ec-a34d-6b42dc3e1973",
       "previous": "35555fe0-8811-11ec-a899-6b42dc3e1973"
      },
      {
       "current": "355560c8-8811-11ec-b51b-6b42dc3e1973-2-3ceb-8052",
       "next": "0beba184-8812-11ec-a34d-6b42dc3e1973-1-add4",
       "previous": "35555fe0-8811-11ec-a899-6b42dc3e1973-1-6c5d"
      },
      {
       "current": "355560c8-8811-11ec-b51b-6b42dc3e1973-3-3ceb-8052-19a0",
       "next": "0beba184-8812-11ec-a34d-6b42dc3e1973-2-add4-9d01",
       "previous": "35555fe0-8811-11ec-a899-6b42dc3e1973-2-6c5d-0f69"
      },
      {
       "current": "355560c8-8811-11ec-b51b-6b42dc3e1973-4-3ceb-8052-19a0-ae02",
       "next": "0beba184-8812-11ec-a34d-6b42dc3e1973-3-add4-9d01-82c2",
       "previous": "35555fe0-8811-11ec-a899-6b42dc3e1973-3-6c5d-0f69-ce31"
      },
      {
       "current": "355560c8-8811-11ec-b51b-6b42dc3e1973-5-3ceb-8052-19a0-ae02-29bc",
       "next": "0beba184-8812-11ec-a34d-6b42dc3e1973-4-add4-9d01-82c2-f821",
       "previous": "35555fe0-8811-11ec-a899-6b42dc3e1973-4-6c5d-0f69-ce31-e5ba"
      },
      {
       "current": "355560c8-8811-11ec-b51b-6b42dc3e1973-6-3ceb-8052-19a0-ae02-29bc-6baa",
       "next": "0beba184-8812-11ec-a34d-6b42dc3e1973-5-add4-9d01-82c2-f821-8f7e",
       "previous": "35555fe0-8811-11ec-a899-6b42dc3e1973-5-6c5d-0f69-ce31-e5ba-7075"
      },
      {
       "current": "355560c8-8811-11ec-b51b-6b42dc3e1973-7-3ceb-8052-19a0-ae02-29bc-6baa-23c9",
       "next": "0beba184-8812-11ec-a34d-6b42dc3e1973-6-add4-9d01-82c2-f821-8f7e-e2f8",
       "previous": "35555fe0-8811-11ec-a899-6b42dc3e1973-6-6c5d-0f69-ce31-e5ba-7075-e7fd"
      },
      {
       "current": "355560c8-8811-11ec-b51b-6b42dc3e1973-8-3ceb-8052-19a0-ae02-29bc-6baa-23c9-4811",
       "next": "0beba184-8812-11ec-a34d-6b42dc3e1973-7-add4-9d01-82c2-f821-8f7e-e2f8-7bd7",
       "previous": "35555fe0-8811-11ec-a899-6b42dc3e1973-7-6c5d-0f69-ce31-e5ba-7075-e7fd-b9ea"
      },
      {
       "current": "355560c8-8811-11ec-b51b-6b42dc3e1973-9-3ceb-8052-19a0-ae02-29bc-6baa-23c9-4811-d379",
       "next": "0beba184-8812-11ec-a34d-6b42dc3e1973-8-add4-9d01-82c2-f821-8f7e-e2f8-7bd7-0224",
       "previous": "35555fe0-8811-11ec-a899-6b42dc3e1973-8-6c5d-0f69-ce31-e5ba-7075-e7fd-b9ea-9e87"
      }
     ],
     "next": "0beba184-8812-11ec-a34d-6b42dc3e1973-9-add4-9d01-82c2-f821-8f7e-e2f8-7bd7-0224-d3f7",
     "previous": "35555fe0-8811-11ec-a899-6b42dc3e1973-9-6c5d-0f69-ce31-e5ba-7075-e7fd-b9ea-9e87-8caf"
    }
   },
   "outputs": [],
   "source": [
    "import yaml\n",
    "\n",
    "with open(os.path.join(work_dir, hubname), 'w') as f:\n",
    "    f.write(yaml.dump(group_vars))"
   ]
  },
  {
   "cell_type": "code",
   "execution_count": null,
   "id": "a80d7bfa",
   "metadata": {
    "lc_cell_meme": {
     "current": "0beba184-8812-11ec-a34d-6b42dc3e1973-9-add4-9d01-82c2-f821-8f7e-e2f8-7bd7-0224-d3f7",
     "history": [
      {
       "current": "0beba184-8812-11ec-a34d-6b42dc3e1973-1-add4",
       "next": "0beba411-8812-11ec-916d-6b42dc3e1973",
       "previous": "355560c8-8811-11ec-b51b-6b42dc3e1973"
      },
      {
       "current": "0beba184-8812-11ec-a34d-6b42dc3e1973-2-add4-9d01",
       "next": "0beba411-8812-11ec-916d-6b42dc3e1973-1-ce47",
       "previous": "355560c8-8811-11ec-b51b-6b42dc3e1973-1-3ceb"
      },
      {
       "current": "0beba184-8812-11ec-a34d-6b42dc3e1973-3-add4-9d01-82c2",
       "next": "0beba411-8812-11ec-916d-6b42dc3e1973-2-ce47-e931",
       "previous": "355560c8-8811-11ec-b51b-6b42dc3e1973-2-3ceb-8052"
      },
      {
       "current": "0beba184-8812-11ec-a34d-6b42dc3e1973-4-add4-9d01-82c2-f821",
       "next": "0beba411-8812-11ec-916d-6b42dc3e1973-3-ce47-e931-2ad8",
       "previous": "355560c8-8811-11ec-b51b-6b42dc3e1973-3-3ceb-8052-19a0"
      },
      {
       "current": "0beba184-8812-11ec-a34d-6b42dc3e1973-5-add4-9d01-82c2-f821-8f7e",
       "next": "0beba411-8812-11ec-916d-6b42dc3e1973-4-ce47-e931-2ad8-b8c9",
       "previous": "355560c8-8811-11ec-b51b-6b42dc3e1973-4-3ceb-8052-19a0-ae02"
      },
      {
       "current": "0beba184-8812-11ec-a34d-6b42dc3e1973-6-add4-9d01-82c2-f821-8f7e-e2f8",
       "next": "0beba411-8812-11ec-916d-6b42dc3e1973-5-ce47-e931-2ad8-b8c9-9dc5",
       "previous": "355560c8-8811-11ec-b51b-6b42dc3e1973-5-3ceb-8052-19a0-ae02-29bc"
      },
      {
       "current": "0beba184-8812-11ec-a34d-6b42dc3e1973-7-add4-9d01-82c2-f821-8f7e-e2f8-7bd7",
       "next": "0beba411-8812-11ec-916d-6b42dc3e1973-6-ce47-e931-2ad8-b8c9-9dc5-6df5",
       "previous": "355560c8-8811-11ec-b51b-6b42dc3e1973-6-3ceb-8052-19a0-ae02-29bc-6baa"
      },
      {
       "current": "0beba184-8812-11ec-a34d-6b42dc3e1973-8-add4-9d01-82c2-f821-8f7e-e2f8-7bd7-0224",
       "next": "0beba411-8812-11ec-916d-6b42dc3e1973-7-ce47-e931-2ad8-b8c9-9dc5-6df5-3a6d",
       "previous": "355560c8-8811-11ec-b51b-6b42dc3e1973-7-3ceb-8052-19a0-ae02-29bc-6baa-23c9"
      },
      {
       "current": "0beba184-8812-11ec-a34d-6b42dc3e1973-9-add4-9d01-82c2-f821-8f7e-e2f8-7bd7-0224-d3f7",
       "next": "0beba411-8812-11ec-916d-6b42dc3e1973-8-ce47-e931-2ad8-b8c9-9dc5-6df5-3a6d-d076",
       "previous": "355560c8-8811-11ec-b51b-6b42dc3e1973-8-3ceb-8052-19a0-ae02-29bc-6baa-23c9-4811"
      }
     ],
     "next": "0beba411-8812-11ec-916d-6b42dc3e1973-9-ce47-e931-2ad8-b8c9-9dc5-6df5-3a6d-d076-1938",
     "previous": "355560c8-8811-11ec-b51b-6b42dc3e1973-9-3ceb-8052-19a0-ae02-29bc-6baa-23c9-4811-d379"
    }
   },
   "outputs": [],
   "source": [
    "!cat {work_dir}/{hubname}"
   ]
  },
  {
   "cell_type": "markdown",
   "id": "fe35a9ed",
   "metadata": {
    "lc_cell_meme": {
     "current": "0beba411-8812-11ec-916d-6b42dc3e1973-9-ce47-e931-2ad8-b8c9-9dc5-6df5-3a6d-d076-1938",
     "history": [
      {
       "current": "0beba411-8812-11ec-916d-6b42dc3e1973-1-ce47",
       "next": "0beba553-8812-11ec-af27-6b42dc3e1973",
       "previous": "0beba184-8812-11ec-a34d-6b42dc3e1973"
      },
      {
       "current": "0beba411-8812-11ec-916d-6b42dc3e1973-2-ce47-e931",
       "next": "0beba553-8812-11ec-af27-6b42dc3e1973-1-7048",
       "previous": "0beba184-8812-11ec-a34d-6b42dc3e1973-1-add4"
      },
      {
       "current": "0beba411-8812-11ec-916d-6b42dc3e1973-3-ce47-e931-2ad8",
       "next": "0beba553-8812-11ec-af27-6b42dc3e1973-2-7048-75d6",
       "previous": "0beba184-8812-11ec-a34d-6b42dc3e1973-2-add4-9d01"
      },
      {
       "current": "0beba411-8812-11ec-916d-6b42dc3e1973-4-ce47-e931-2ad8-b8c9",
       "next": "0beba553-8812-11ec-af27-6b42dc3e1973-3-7048-75d6-1eab",
       "previous": "0beba184-8812-11ec-a34d-6b42dc3e1973-3-add4-9d01-82c2"
      },
      {
       "current": "0beba411-8812-11ec-916d-6b42dc3e1973-5-ce47-e931-2ad8-b8c9-9dc5",
       "next": "0beba553-8812-11ec-af27-6b42dc3e1973-4-7048-75d6-1eab-5038",
       "previous": "0beba184-8812-11ec-a34d-6b42dc3e1973-4-add4-9d01-82c2-f821"
      },
      {
       "current": "0beba411-8812-11ec-916d-6b42dc3e1973-6-ce47-e931-2ad8-b8c9-9dc5-6df5",
       "next": "0beba553-8812-11ec-af27-6b42dc3e1973-5-7048-75d6-1eab-5038-b8d2",
       "previous": "0beba184-8812-11ec-a34d-6b42dc3e1973-5-add4-9d01-82c2-f821-8f7e"
      },
      {
       "current": "0beba411-8812-11ec-916d-6b42dc3e1973-7-ce47-e931-2ad8-b8c9-9dc5-6df5-3a6d",
       "next": "0beba553-8812-11ec-af27-6b42dc3e1973-6-7048-75d6-1eab-5038-b8d2-88fb",
       "previous": "0beba184-8812-11ec-a34d-6b42dc3e1973-6-add4-9d01-82c2-f821-8f7e-e2f8"
      },
      {
       "current": "0beba411-8812-11ec-916d-6b42dc3e1973-8-ce47-e931-2ad8-b8c9-9dc5-6df5-3a6d-d076",
       "next": "0beba553-8812-11ec-af27-6b42dc3e1973-7-7048-75d6-1eab-5038-b8d2-88fb-13d5",
       "previous": "0beba184-8812-11ec-a34d-6b42dc3e1973-7-add4-9d01-82c2-f821-8f7e-e2f8-7bd7"
      },
      {
       "current": "0beba411-8812-11ec-916d-6b42dc3e1973-9-ce47-e931-2ad8-b8c9-9dc5-6df5-3a6d-d076-1938",
       "next": "0beba553-8812-11ec-af27-6b42dc3e1973-8-7048-75d6-1eab-5038-b8d2-88fb-13d5-82ef",
       "previous": "0beba184-8812-11ec-a34d-6b42dc3e1973-8-add4-9d01-82c2-f821-8f7e-e2f8-7bd7-0224"
      }
     ],
     "next": "0beba553-8812-11ec-af27-6b42dc3e1973-9-7048-75d6-1eab-5038-b8d2-88fb-13d5-82ef-61be",
     "previous": "0beba184-8812-11ec-a34d-6b42dc3e1973-9-add4-9d01-82c2-f821-8f7e-e2f8-7bd7-0224-d3f7"
    }
   },
   "source": [
    "現在のgroup_varsと比較"
   ]
  },
  {
   "cell_type": "code",
   "execution_count": null,
   "id": "6deb5e89",
   "metadata": {
    "lc_cell_meme": {
     "current": "0beba553-8812-11ec-af27-6b42dc3e1973-9-7048-75d6-1eab-5038-b8d2-88fb-13d5-82ef-61be",
     "history": [
      {
       "current": "0beba553-8812-11ec-af27-6b42dc3e1973-1-7048",
       "next": "0beba648-8812-11ec-8dd8-6b42dc3e1973",
       "previous": "0beba411-8812-11ec-916d-6b42dc3e1973"
      },
      {
       "current": "0beba553-8812-11ec-af27-6b42dc3e1973-2-7048-75d6",
       "next": "0beba648-8812-11ec-8dd8-6b42dc3e1973-1-9067",
       "previous": "0beba411-8812-11ec-916d-6b42dc3e1973-1-ce47"
      },
      {
       "current": "0beba553-8812-11ec-af27-6b42dc3e1973-3-7048-75d6-1eab",
       "next": "0beba648-8812-11ec-8dd8-6b42dc3e1973-2-9067-1cb4",
       "previous": "0beba411-8812-11ec-916d-6b42dc3e1973-2-ce47-e931"
      },
      {
       "current": "0beba553-8812-11ec-af27-6b42dc3e1973-4-7048-75d6-1eab-5038",
       "next": "0beba648-8812-11ec-8dd8-6b42dc3e1973-3-9067-1cb4-7320",
       "previous": "0beba411-8812-11ec-916d-6b42dc3e1973-3-ce47-e931-2ad8"
      },
      {
       "current": "0beba553-8812-11ec-af27-6b42dc3e1973-5-7048-75d6-1eab-5038-b8d2",
       "next": "0beba648-8812-11ec-8dd8-6b42dc3e1973-4-9067-1cb4-7320-d00e",
       "previous": "0beba411-8812-11ec-916d-6b42dc3e1973-4-ce47-e931-2ad8-b8c9"
      },
      {
       "current": "0beba553-8812-11ec-af27-6b42dc3e1973-6-7048-75d6-1eab-5038-b8d2-88fb",
       "next": "0beba648-8812-11ec-8dd8-6b42dc3e1973-5-9067-1cb4-7320-d00e-a2b8",
       "previous": "0beba411-8812-11ec-916d-6b42dc3e1973-5-ce47-e931-2ad8-b8c9-9dc5"
      },
      {
       "current": "0beba553-8812-11ec-af27-6b42dc3e1973-7-7048-75d6-1eab-5038-b8d2-88fb-13d5",
       "next": "0beba648-8812-11ec-8dd8-6b42dc3e1973-6-9067-1cb4-7320-d00e-a2b8-f72d",
       "previous": "0beba411-8812-11ec-916d-6b42dc3e1973-6-ce47-e931-2ad8-b8c9-9dc5-6df5"
      },
      {
       "current": "0beba553-8812-11ec-af27-6b42dc3e1973-8-7048-75d6-1eab-5038-b8d2-88fb-13d5-82ef",
       "next": "0beba648-8812-11ec-8dd8-6b42dc3e1973-7-9067-1cb4-7320-d00e-a2b8-f72d-666f",
       "previous": "0beba411-8812-11ec-916d-6b42dc3e1973-7-ce47-e931-2ad8-b8c9-9dc5-6df5-3a6d"
      },
      {
       "current": "0beba553-8812-11ec-af27-6b42dc3e1973-9-7048-75d6-1eab-5038-b8d2-88fb-13d5-82ef-61be",
       "next": "0beba648-8812-11ec-8dd8-6b42dc3e1973-8-9067-1cb4-7320-d00e-a2b8-f72d-666f-855e",
       "previous": "0beba411-8812-11ec-916d-6b42dc3e1973-8-ce47-e931-2ad8-b8c9-9dc5-6df5-3a6d-d076"
      }
     ],
     "next": "0beba648-8812-11ec-8dd8-6b42dc3e1973-9-9067-1cb4-7320-d00e-a2b8-f72d-666f-855e-b59a",
     "previous": "0beba411-8812-11ec-916d-6b42dc3e1973-9-ce47-e931-2ad8-b8c9-9dc5-6df5-3a6d-d076-1938"
    }
   },
   "outputs": [],
   "source": [
    "!diff -u {group_vars_dir}/{hubname} {work_dir}/{hubname} ;:"
   ]
  },
  {
   "cell_type": "markdown",
   "id": "9cb04a0a",
   "metadata": {
    "lc_cell_meme": {
     "current": "0beba648-8812-11ec-8dd8-6b42dc3e1973-9-9067-1cb4-7320-d00e-a2b8-f72d-666f-855e-b59a",
     "history": [
      {
       "current": "0beba648-8812-11ec-8dd8-6b42dc3e1973-1-9067",
       "next": "0beba720-8812-11ec-99a3-6b42dc3e1973",
       "previous": "0beba553-8812-11ec-af27-6b42dc3e1973"
      },
      {
       "current": "0beba648-8812-11ec-8dd8-6b42dc3e1973-2-9067-1cb4",
       "next": "0beba720-8812-11ec-99a3-6b42dc3e1973-1-345d",
       "previous": "0beba553-8812-11ec-af27-6b42dc3e1973-1-7048"
      },
      {
       "current": "0beba648-8812-11ec-8dd8-6b42dc3e1973-3-9067-1cb4-7320",
       "next": "0beba720-8812-11ec-99a3-6b42dc3e1973-2-345d-4ea8",
       "previous": "0beba553-8812-11ec-af27-6b42dc3e1973-2-7048-75d6"
      },
      {
       "current": "0beba648-8812-11ec-8dd8-6b42dc3e1973-4-9067-1cb4-7320-d00e",
       "next": "0beba720-8812-11ec-99a3-6b42dc3e1973-3-345d-4ea8-9d5f",
       "previous": "0beba553-8812-11ec-af27-6b42dc3e1973-3-7048-75d6-1eab"
      },
      {
       "current": "0beba648-8812-11ec-8dd8-6b42dc3e1973-5-9067-1cb4-7320-d00e-a2b8",
       "next": "0beba720-8812-11ec-99a3-6b42dc3e1973-4-345d-4ea8-9d5f-9235",
       "previous": "0beba553-8812-11ec-af27-6b42dc3e1973-4-7048-75d6-1eab-5038"
      },
      {
       "current": "0beba648-8812-11ec-8dd8-6b42dc3e1973-6-9067-1cb4-7320-d00e-a2b8-f72d",
       "next": "0beba720-8812-11ec-99a3-6b42dc3e1973-5-345d-4ea8-9d5f-9235-c5ee",
       "previous": "0beba553-8812-11ec-af27-6b42dc3e1973-5-7048-75d6-1eab-5038-b8d2"
      },
      {
       "current": "0beba648-8812-11ec-8dd8-6b42dc3e1973-7-9067-1cb4-7320-d00e-a2b8-f72d-666f",
       "next": "0beba720-8812-11ec-99a3-6b42dc3e1973-6-345d-4ea8-9d5f-9235-c5ee-b64b",
       "previous": "0beba553-8812-11ec-af27-6b42dc3e1973-6-7048-75d6-1eab-5038-b8d2-88fb"
      },
      {
       "current": "0beba648-8812-11ec-8dd8-6b42dc3e1973-8-9067-1cb4-7320-d00e-a2b8-f72d-666f-855e",
       "next": "0beba720-8812-11ec-99a3-6b42dc3e1973-7-345d-4ea8-9d5f-9235-c5ee-b64b-2e3b",
       "previous": "0beba553-8812-11ec-af27-6b42dc3e1973-7-7048-75d6-1eab-5038-b8d2-88fb-13d5"
      },
      {
       "current": "0beba648-8812-11ec-8dd8-6b42dc3e1973-9-9067-1cb4-7320-d00e-a2b8-f72d-666f-855e-b59a",
       "next": "0beba720-8812-11ec-99a3-6b42dc3e1973-8-345d-4ea8-9d5f-9235-c5ee-b64b-2e3b-9a0a",
       "previous": "0beba553-8812-11ec-af27-6b42dc3e1973-8-7048-75d6-1eab-5038-b8d2-88fb-13d5-82ef"
      }
     ],
     "next": "0beba720-8812-11ec-99a3-6b42dc3e1973-9-345d-4ea8-9d5f-9235-c5ee-b64b-2e3b-9a0a-4534",
     "previous": "0beba553-8812-11ec-af27-6b42dc3e1973-9-7048-75d6-1eab-5038-b8d2-88fb-13d5-82ef-61be"
    }
   },
   "source": [
    "コピー"
   ]
  },
  {
   "cell_type": "code",
   "execution_count": null,
   "id": "5a1dcc5b",
   "metadata": {
    "lc_cell_meme": {
     "current": "0beba720-8812-11ec-99a3-6b42dc3e1973-9-345d-4ea8-9d5f-9235-c5ee-b64b-2e3b-9a0a-4534",
     "history": [
      {
       "current": "0beba720-8812-11ec-99a3-6b42dc3e1973-1-345d",
       "next": "e08297fc-0f94-11ec-b83c-c7638f7e44c5-3-3d33-e7cc-cd51",
       "previous": "0beba648-8812-11ec-8dd8-6b42dc3e1973"
      },
      {
       "current": "0beba720-8812-11ec-99a3-6b42dc3e1973-2-345d-4ea8",
       "next": "e08297fc-0f94-11ec-b83c-c7638f7e44c5-4-3d33-e7cc-cd51-344f",
       "previous": "0beba648-8812-11ec-8dd8-6b42dc3e1973-1-9067"
      },
      {
       "current": "0beba720-8812-11ec-99a3-6b42dc3e1973-3-345d-4ea8-9d5f",
       "next": "e08297fc-0f94-11ec-b83c-c7638f7e44c5-5-3d33-e7cc-cd51-344f-c74b",
       "previous": "0beba648-8812-11ec-8dd8-6b42dc3e1973-2-9067-1cb4"
      },
      {
       "current": "0beba720-8812-11ec-99a3-6b42dc3e1973-4-345d-4ea8-9d5f-9235",
       "next": "e08297fc-0f94-11ec-b83c-c7638f7e44c5-6-3d33-e7cc-cd51-344f-c74b-d9ef",
       "previous": "0beba648-8812-11ec-8dd8-6b42dc3e1973-3-9067-1cb4-7320"
      },
      {
       "current": "0beba720-8812-11ec-99a3-6b42dc3e1973-5-345d-4ea8-9d5f-9235-c5ee",
       "next": "e08297fc-0f94-11ec-b83c-c7638f7e44c5-7-3d33-e7cc-cd51-344f-c74b-d9ef-80fc",
       "previous": "0beba648-8812-11ec-8dd8-6b42dc3e1973-4-9067-1cb4-7320-d00e"
      },
      {
       "current": "0beba720-8812-11ec-99a3-6b42dc3e1973-6-345d-4ea8-9d5f-9235-c5ee-b64b",
       "next": "e08297fc-0f94-11ec-b83c-c7638f7e44c5-8-3d33-e7cc-cd51-344f-c74b-d9ef-80fc-7b5a",
       "previous": "0beba648-8812-11ec-8dd8-6b42dc3e1973-5-9067-1cb4-7320-d00e-a2b8"
      },
      {
       "current": "0beba720-8812-11ec-99a3-6b42dc3e1973-7-345d-4ea8-9d5f-9235-c5ee-b64b-2e3b",
       "next": "e08297fc-0f94-11ec-b83c-c7638f7e44c5-9-3d33-e7cc-cd51-344f-c74b-d9ef-80fc-7b5a-669e",
       "previous": "0beba648-8812-11ec-8dd8-6b42dc3e1973-6-9067-1cb4-7320-d00e-a2b8-f72d"
      },
      {
       "current": "0beba720-8812-11ec-99a3-6b42dc3e1973-8-345d-4ea8-9d5f-9235-c5ee-b64b-2e3b-9a0a",
       "next": "e08297fc-0f94-11ec-b83c-c7638f7e44c5-10-3d33-e7cc-cd51-344f-c74b-d9ef-80fc-7b5a-669e-131e",
       "previous": "0beba648-8812-11ec-8dd8-6b42dc3e1973-7-9067-1cb4-7320-d00e-a2b8-f72d-666f"
      },
      {
       "current": "0beba720-8812-11ec-99a3-6b42dc3e1973-9-345d-4ea8-9d5f-9235-c5ee-b64b-2e3b-9a0a-4534",
       "next": "e08297fc-0f94-11ec-b83c-c7638f7e44c5-11-e7cc-cd51-344f-c74b-d9ef-80fc-7b5a-669e-131e-f879",
       "previous": "0beba648-8812-11ec-8dd8-6b42dc3e1973-8-9067-1cb4-7320-d00e-a2b8-f72d-666f-855e"
      }
     ],
     "next": "e08297fc-0f94-11ec-b83c-c7638f7e44c5-12-cd51-344f-c74b-d9ef-80fc-7b5a-669e-131e-f879-aa3f",
     "previous": "0beba648-8812-11ec-8dd8-6b42dc3e1973-9-9067-1cb4-7320-d00e-a2b8-f72d-666f-855e-b59a"
    }
   },
   "outputs": [],
   "source": [
    "!cp {work_dir}/{hubname} {group_vars_dir}/{hubname}"
   ]
  },
  {
   "cell_type": "markdown",
   "id": "df5fa4db",
   "metadata": {
    "lc_cell_meme": {
     "current": "e08297fc-0f94-11ec-b83c-c7638f7e44c5-12-cd51-344f-c74b-d9ef-80fc-7b5a-669e-131e-f879-aa3f",
     "history": [
      {
       "current": "e08297fc-0f94-11ec-b83c-c7638f7e44c5-4-3d33-e7cc-cd51-344f",
       "next": "6fbf9ff7-0f95-11ec-b176-c7638f7e44c5-2-6c36-7d85",
       "previous": "0beba720-8812-11ec-99a3-6b42dc3e1973"
      },
      {
       "current": "e08297fc-0f94-11ec-b83c-c7638f7e44c5-5-3d33-e7cc-cd51-344f-c74b",
       "next": "6fbf9ff7-0f95-11ec-b176-c7638f7e44c5-3-6c36-7d85-2543",
       "previous": "0beba720-8812-11ec-99a3-6b42dc3e1973-1-345d"
      },
      {
       "current": "e08297fc-0f94-11ec-b83c-c7638f7e44c5-6-3d33-e7cc-cd51-344f-c74b-d9ef",
       "next": "6fbf9ff7-0f95-11ec-b176-c7638f7e44c5-4-6c36-7d85-2543-5d79",
       "previous": "0beba720-8812-11ec-99a3-6b42dc3e1973-2-345d-4ea8"
      },
      {
       "current": "e08297fc-0f94-11ec-b83c-c7638f7e44c5-7-3d33-e7cc-cd51-344f-c74b-d9ef-80fc",
       "next": "6fbf9ff7-0f95-11ec-b176-c7638f7e44c5-5-6c36-7d85-2543-5d79-35bd",
       "previous": "0beba720-8812-11ec-99a3-6b42dc3e1973-3-345d-4ea8-9d5f"
      },
      {
       "current": "e08297fc-0f94-11ec-b83c-c7638f7e44c5-8-3d33-e7cc-cd51-344f-c74b-d9ef-80fc-7b5a",
       "next": "6fbf9ff7-0f95-11ec-b176-c7638f7e44c5-6-6c36-7d85-2543-5d79-35bd-5c9e",
       "previous": "0beba720-8812-11ec-99a3-6b42dc3e1973-4-345d-4ea8-9d5f-9235"
      },
      {
       "current": "e08297fc-0f94-11ec-b83c-c7638f7e44c5-9-3d33-e7cc-cd51-344f-c74b-d9ef-80fc-7b5a-669e",
       "next": "6fbf9ff7-0f95-11ec-b176-c7638f7e44c5-7-6c36-7d85-2543-5d79-35bd-5c9e-ae74",
       "previous": "0beba720-8812-11ec-99a3-6b42dc3e1973-5-345d-4ea8-9d5f-9235-c5ee"
      },
      {
       "current": "e08297fc-0f94-11ec-b83c-c7638f7e44c5-10-3d33-e7cc-cd51-344f-c74b-d9ef-80fc-7b5a-669e-131e",
       "next": "6fbf9ff7-0f95-11ec-b176-c7638f7e44c5-8-6c36-7d85-2543-5d79-35bd-5c9e-ae74-67ea",
       "previous": "0beba720-8812-11ec-99a3-6b42dc3e1973-6-345d-4ea8-9d5f-9235-c5ee-b64b"
      },
      {
       "current": "e08297fc-0f94-11ec-b83c-c7638f7e44c5-11-e7cc-cd51-344f-c74b-d9ef-80fc-7b5a-669e-131e-f879",
       "next": "6fbf9ff7-0f95-11ec-b176-c7638f7e44c5-9-6c36-7d85-2543-5d79-35bd-5c9e-ae74-67ea-0b89",
       "previous": "0beba720-8812-11ec-99a3-6b42dc3e1973-7-345d-4ea8-9d5f-9235-c5ee-b64b-2e3b"
      },
      {
       "current": "e08297fc-0f94-11ec-b83c-c7638f7e44c5-12-cd51-344f-c74b-d9ef-80fc-7b5a-669e-131e-f879-aa3f",
       "next": "6fbf9ff7-0f95-11ec-b176-c7638f7e44c5-10-6c36-7d85-2543-5d79-35bd-5c9e-ae74-67ea-0b89-005b",
       "previous": "0beba720-8812-11ec-99a3-6b42dc3e1973-8-345d-4ea8-9d5f-9235-c5ee-b64b-2e3b-9a0a"
      }
     ],
     "next": "6fbf9ff7-0f95-11ec-b176-c7638f7e44c5-11-7d85-2543-5d79-35bd-5c9e-ae74-67ea-0b89-005b-33a5",
     "previous": "0beba720-8812-11ec-99a3-6b42dc3e1973-9-345d-4ea8-9d5f-9235-c5ee-b64b-2e3b-9a0a-4534"
    }
   },
   "source": [
    "# 後始末\n",
    "\n",
    "一時ファイルを削除する。"
   ]
  },
  {
   "cell_type": "code",
   "execution_count": null,
   "id": "2ea5154b",
   "metadata": {
    "lc_cell_meme": {
     "current": "6fbf9ff7-0f95-11ec-b176-c7638f7e44c5-11-7d85-2543-5d79-35bd-5c9e-ae74-67ea-0b89-005b-33a5",
     "history": [
      {
       "current": "6fbf9ff7-0f95-11ec-b176-c7638f7e44c5-3-6c36-7d85-2543",
       "next": null,
       "previous": "e08297fc-0f94-11ec-b83c-c7638f7e44c5-3-3d33-e7cc-cd51"
      },
      {
       "current": "6fbf9ff7-0f95-11ec-b176-c7638f7e44c5-4-6c36-7d85-2543-5d79",
       "next": null,
       "previous": "e08297fc-0f94-11ec-b83c-c7638f7e44c5-4-3d33-e7cc-cd51-344f"
      },
      {
       "current": "6fbf9ff7-0f95-11ec-b176-c7638f7e44c5-5-6c36-7d85-2543-5d79-35bd",
       "next": null,
       "previous": "e08297fc-0f94-11ec-b83c-c7638f7e44c5-5-3d33-e7cc-cd51-344f-c74b"
      },
      {
       "current": "6fbf9ff7-0f95-11ec-b176-c7638f7e44c5-6-6c36-7d85-2543-5d79-35bd-5c9e",
       "next": null,
       "previous": "e08297fc-0f94-11ec-b83c-c7638f7e44c5-6-3d33-e7cc-cd51-344f-c74b-d9ef"
      },
      {
       "current": "6fbf9ff7-0f95-11ec-b176-c7638f7e44c5-7-6c36-7d85-2543-5d79-35bd-5c9e-ae74",
       "next": null,
       "previous": "e08297fc-0f94-11ec-b83c-c7638f7e44c5-7-3d33-e7cc-cd51-344f-c74b-d9ef-80fc"
      },
      {
       "current": "6fbf9ff7-0f95-11ec-b176-c7638f7e44c5-8-6c36-7d85-2543-5d79-35bd-5c9e-ae74-67ea",
       "next": null,
       "previous": "e08297fc-0f94-11ec-b83c-c7638f7e44c5-8-3d33-e7cc-cd51-344f-c74b-d9ef-80fc-7b5a"
      },
      {
       "current": "6fbf9ff7-0f95-11ec-b176-c7638f7e44c5-9-6c36-7d85-2543-5d79-35bd-5c9e-ae74-67ea-0b89",
       "next": null,
       "previous": "e08297fc-0f94-11ec-b83c-c7638f7e44c5-9-3d33-e7cc-cd51-344f-c74b-d9ef-80fc-7b5a-669e"
      },
      {
       "current": "6fbf9ff7-0f95-11ec-b176-c7638f7e44c5-10-6c36-7d85-2543-5d79-35bd-5c9e-ae74-67ea-0b89-005b",
       "next": null,
       "previous": "e08297fc-0f94-11ec-b83c-c7638f7e44c5-10-3d33-e7cc-cd51-344f-c74b-d9ef-80fc-7b5a-669e-131e"
      },
      {
       "current": "6fbf9ff7-0f95-11ec-b176-c7638f7e44c5-11-7d85-2543-5d79-35bd-5c9e-ae74-67ea-0b89-005b-33a5",
       "next": null,
       "previous": "e08297fc-0f94-11ec-b83c-c7638f7e44c5-11-e7cc-cd51-344f-c74b-d9ef-80fc-7b5a-669e-131e-f879"
      }
     ],
     "next": null,
     "previous": "e08297fc-0f94-11ec-b83c-c7638f7e44c5-12-cd51-344f-c74b-d9ef-80fc-7b5a-669e-131e-f879-aa3f"
    }
   },
   "outputs": [],
   "source": [
    "!rm -fr {work_dir}"
   ]
  }
 ],
 "metadata": {
  "kernelspec": {
   "display_name": "Python 3",
   "language": "python",
   "name": "python3"
  },
  "language_info": {
   "file_extension": ".py",
   "mimetype": "text/x-python",
   "name": "python",
   "nbconvert_exporter": "python",
   "pygments_lexer": "ipython3",
   "version": "3.11.4"
  },
  "lc_notebook_meme": {
   "current": "a0aee7f4-0f86-11ec-a7f1-c7638f7e44c5"
  },
  "toc": {
   "base_numbering": 1,
   "nav_menu": {},
   "number_sections": true,
   "sideBar": true,
   "skip_h1_title": false,
   "title_cell": "Table of Contents",
   "title_sidebar": "Contents",
   "toc_cell": false,
   "toc_position": {
    "height": "calc(100% - 180px)",
    "left": "10px",
    "top": "150px",
    "width": "313px"
   },
   "toc_section_display": true,
   "toc_window_display": true
  }
 },
 "nbformat": 4,
 "nbformat_minor": 5
}
