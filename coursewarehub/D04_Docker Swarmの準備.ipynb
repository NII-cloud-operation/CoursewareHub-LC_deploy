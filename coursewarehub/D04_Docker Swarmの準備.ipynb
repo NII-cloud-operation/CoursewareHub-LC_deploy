{
 "cells": [
  {
   "cell_type": "markdown",
   "metadata": {
    "lc_cell_meme": {
     "current": "b1d1c928-1783-11e9-9b3e-02420aff0006-20-5d3b-2dca-5d35-cad9-e967-4bae-2f83-534b-8746-f560",
     "history": [
      {
       "current": "b1d1c928-1783-11e9-9b3e-02420aff0006-14-c6ac-cd0d-5868-4f83-d90c-ba27-5d3b-2dca-5d35-cad9",
       "next": "988b6714-c345-11e7-8310-0242ac120002-13-6069-a6e7-4103-b42e-d1a7-dcee-dac6-b5ee-fe5a-9885",
       "previous": null
      },
      {
       "current": "b1d1c928-1783-11e9-9b3e-02420aff0006-15-cd0d-5868-4f83-d90c-ba27-5d3b-2dca-5d35-cad9-e967",
       "next": "988b6714-c345-11e7-8310-0242ac120002-14-a6e7-4103-b42e-d1a7-dcee-dac6-b5ee-fe5a-9885-f346",
       "previous": null
      },
      {
       "current": "b1d1c928-1783-11e9-9b3e-02420aff0006-16-5868-4f83-d90c-ba27-5d3b-2dca-5d35-cad9-e967-4bae",
       "next": "988b6714-c345-11e7-8310-0242ac120002-15-4103-b42e-d1a7-dcee-dac6-b5ee-fe5a-9885-f346-bc38",
       "previous": null
      },
      {
       "current": "b1d1c928-1783-11e9-9b3e-02420aff0006-17-4f83-d90c-ba27-5d3b-2dca-5d35-cad9-e967-4bae-2f83",
       "next": "988b6714-c345-11e7-8310-0242ac120002-16-b42e-d1a7-dcee-dac6-b5ee-fe5a-9885-f346-bc38-1657",
       "previous": null
      },
      {
       "current": "b1d1c928-1783-11e9-9b3e-02420aff0006-18-d90c-ba27-5d3b-2dca-5d35-cad9-e967-4bae-2f83-534b",
       "next": "988b6714-c345-11e7-8310-0242ac120002-17-d1a7-dcee-dac6-b5ee-fe5a-9885-f346-bc38-1657-06da",
       "previous": null
      },
      {
       "current": "b1d1c928-1783-11e9-9b3e-02420aff0006-19-ba27-5d3b-2dca-5d35-cad9-e967-4bae-2f83-534b-8746",
       "next": "988b6714-c345-11e7-8310-0242ac120002-18-dcee-dac6-b5ee-fe5a-9885-f346-bc38-1657-06da-2b92",
       "previous": null
      },
      {
       "current": "b1d1c928-1783-11e9-9b3e-02420aff0006-20-5d3b-2dca-5d35-cad9-e967-4bae-2f83-534b-8746-f560",
       "next": "988b6714-c345-11e7-8310-0242ac120002-19-dac6-b5ee-fe5a-9885-f346-bc38-1657-06da-2b92-95e5",
       "previous": null
      }
     ],
     "next": "988b6714-c345-11e7-8310-0242ac120002-20-b5ee-fe5a-9885-f346-bc38-1657-06da-2b92-95e5-bc03",
     "previous": null
    }
   },
   "source": [
    "# About: Docker Swarmの準備\n",
    "\n",
    "構築済みのVM上に、DockerEngineをインストールし、Docker Swarmを準備する。"
   ]
  },
  {
   "cell_type": "markdown",
   "metadata": {
    "lc_cell_meme": {
     "current": "988b6714-c345-11e7-8310-0242ac120002-20-b5ee-fe5a-9885-f346-bc38-1657-06da-2b92-95e5-bc03",
     "history": [
      {
       "current": "988b6714-c345-11e7-8310-0242ac120002-14-a6e7-4103-b42e-d1a7-dcee-dac6-b5ee-fe5a-9885-f346",
       "next": "988b6836-c345-11e7-8310-0242ac120002-13-be50-5c5d-30e4-6c0b-825c-4fdb-3a4e-e36a-7921-7c4c",
       "previous": "b1d1c928-1783-11e9-9b3e-02420aff0006-13-8adc-c6ac-cd0d-5868-4f83-d90c-ba27-5d3b-2dca-5d35"
      },
      {
       "current": "988b6714-c345-11e7-8310-0242ac120002-15-4103-b42e-d1a7-dcee-dac6-b5ee-fe5a-9885-f346-bc38",
       "next": "988b6836-c345-11e7-8310-0242ac120002-14-5c5d-30e4-6c0b-825c-4fdb-3a4e-e36a-7921-7c4c-084c",
       "previous": "b1d1c928-1783-11e9-9b3e-02420aff0006-14-c6ac-cd0d-5868-4f83-d90c-ba27-5d3b-2dca-5d35-cad9"
      },
      {
       "current": "988b6714-c345-11e7-8310-0242ac120002-16-b42e-d1a7-dcee-dac6-b5ee-fe5a-9885-f346-bc38-1657",
       "next": "988b6836-c345-11e7-8310-0242ac120002-15-30e4-6c0b-825c-4fdb-3a4e-e36a-7921-7c4c-084c-da32",
       "previous": "b1d1c928-1783-11e9-9b3e-02420aff0006-15-cd0d-5868-4f83-d90c-ba27-5d3b-2dca-5d35-cad9-e967"
      },
      {
       "current": "988b6714-c345-11e7-8310-0242ac120002-17-d1a7-dcee-dac6-b5ee-fe5a-9885-f346-bc38-1657-06da",
       "next": "988b6836-c345-11e7-8310-0242ac120002-16-6c0b-825c-4fdb-3a4e-e36a-7921-7c4c-084c-da32-fcc0",
       "previous": "b1d1c928-1783-11e9-9b3e-02420aff0006-16-5868-4f83-d90c-ba27-5d3b-2dca-5d35-cad9-e967-4bae"
      },
      {
       "current": "988b6714-c345-11e7-8310-0242ac120002-18-dcee-dac6-b5ee-fe5a-9885-f346-bc38-1657-06da-2b92",
       "next": "988b6836-c345-11e7-8310-0242ac120002-17-825c-4fdb-3a4e-e36a-7921-7c4c-084c-da32-fcc0-6f62",
       "previous": "b1d1c928-1783-11e9-9b3e-02420aff0006-17-4f83-d90c-ba27-5d3b-2dca-5d35-cad9-e967-4bae-2f83"
      },
      {
       "current": "988b6714-c345-11e7-8310-0242ac120002-19-dac6-b5ee-fe5a-9885-f346-bc38-1657-06da-2b92-95e5",
       "next": "988b6836-c345-11e7-8310-0242ac120002-18-4fdb-3a4e-e36a-7921-7c4c-084c-da32-fcc0-6f62-7fe3",
       "previous": "b1d1c928-1783-11e9-9b3e-02420aff0006-18-d90c-ba27-5d3b-2dca-5d35-cad9-e967-4bae-2f83-534b"
      },
      {
       "current": "988b6714-c345-11e7-8310-0242ac120002-20-b5ee-fe5a-9885-f346-bc38-1657-06da-2b92-95e5-bc03",
       "next": "988b6836-c345-11e7-8310-0242ac120002-19-3a4e-e36a-7921-7c4c-084c-da32-fcc0-6f62-7fe3-d7cd",
       "previous": "b1d1c928-1783-11e9-9b3e-02420aff0006-19-ba27-5d3b-2dca-5d35-cad9-e967-4bae-2f83-534b-8746"
      }
     ],
     "next": "988b6836-c345-11e7-8310-0242ac120002-20-e36a-7921-7c4c-084c-da32-fcc0-6f62-7fe3-d7cd-ee9f",
     "previous": "b1d1c928-1783-11e9-9b3e-02420aff0006-20-5d3b-2dca-5d35-cad9-e967-4bae-2f83-534b-8746-f560"
    }
   },
   "source": [
    "# 設定情報\n",
    "\n",
    "このNotebookで行う設定は、以下のようにする。\n",
    "\n",
    "- Docker関連のディレクトリ （コンテナデータ、イメージ、一時ファイル用ディレクトリ等）\n",
    "  - NIIのベアメタルマシンを想定する場合 ... Docker関係のディレクトリは `/mnt`に配置する\n",
    "  - それ以外 ... ストレージサイズ等を考慮して、適切なパスを設定すること\n",
    "- プライベートレジストリ\n",
    "  - 公開のレジストリのみ使用する場合 ... なし\n",
    "  - クラウド運用チームで利用する場合 ... Dockerのプライベートレジストリを使用するので、プライベートレジストリのホスト情報を明示する\n",
    "\n",
    "docker_optsの定義方法は[DAEMON CONFIGURATION FILE](https://docs.docker.com/engine/reference/commandline/dockerd/#daemon-configuration-file)を参照。"
   ]
  },
  {
   "cell_type": "code",
   "execution_count": null,
   "metadata": {
    "lc_cell_meme": {
     "current": "988b6836-c345-11e7-8310-0242ac120002-20-e36a-7921-7c4c-084c-da32-fcc0-6f62-7fe3-d7cd-ee9f",
     "history": [
      {
       "current": "988b6836-c345-11e7-8310-0242ac120002-14-5c5d-30e4-6c0b-825c-4fdb-3a4e-e36a-7921-7c4c-084c",
       "next": "988b6944-c345-11e7-8310-0242ac120002-13-14ab-d5f2-f729-88cd-a604-5f76-fb96-85e1-0818-2939",
       "previous": "988b6714-c345-11e7-8310-0242ac120002-13-6069-a6e7-4103-b42e-d1a7-dcee-dac6-b5ee-fe5a-9885"
      },
      {
       "current": "988b6836-c345-11e7-8310-0242ac120002-15-30e4-6c0b-825c-4fdb-3a4e-e36a-7921-7c4c-084c-da32",
       "next": "988b6944-c345-11e7-8310-0242ac120002-14-d5f2-f729-88cd-a604-5f76-fb96-85e1-0818-2939-23a1",
       "previous": "988b6714-c345-11e7-8310-0242ac120002-14-a6e7-4103-b42e-d1a7-dcee-dac6-b5ee-fe5a-9885-f346"
      },
      {
       "current": "988b6836-c345-11e7-8310-0242ac120002-16-6c0b-825c-4fdb-3a4e-e36a-7921-7c4c-084c-da32-fcc0",
       "next": "988b6944-c345-11e7-8310-0242ac120002-15-f729-88cd-a604-5f76-fb96-85e1-0818-2939-23a1-0ce0",
       "previous": "988b6714-c345-11e7-8310-0242ac120002-15-4103-b42e-d1a7-dcee-dac6-b5ee-fe5a-9885-f346-bc38"
      },
      {
       "current": "988b6836-c345-11e7-8310-0242ac120002-17-825c-4fdb-3a4e-e36a-7921-7c4c-084c-da32-fcc0-6f62",
       "next": "988b6944-c345-11e7-8310-0242ac120002-16-88cd-a604-5f76-fb96-85e1-0818-2939-23a1-0ce0-cbd5",
       "previous": "988b6714-c345-11e7-8310-0242ac120002-16-b42e-d1a7-dcee-dac6-b5ee-fe5a-9885-f346-bc38-1657"
      },
      {
       "current": "988b6836-c345-11e7-8310-0242ac120002-18-4fdb-3a4e-e36a-7921-7c4c-084c-da32-fcc0-6f62-7fe3",
       "next": "988b6944-c345-11e7-8310-0242ac120002-17-a604-5f76-fb96-85e1-0818-2939-23a1-0ce0-cbd5-074e",
       "previous": "988b6714-c345-11e7-8310-0242ac120002-17-d1a7-dcee-dac6-b5ee-fe5a-9885-f346-bc38-1657-06da"
      },
      {
       "current": "988b6836-c345-11e7-8310-0242ac120002-19-3a4e-e36a-7921-7c4c-084c-da32-fcc0-6f62-7fe3-d7cd",
       "next": "988b6944-c345-11e7-8310-0242ac120002-18-5f76-fb96-85e1-0818-2939-23a1-0ce0-cbd5-074e-f53b",
       "previous": "988b6714-c345-11e7-8310-0242ac120002-18-dcee-dac6-b5ee-fe5a-9885-f346-bc38-1657-06da-2b92"
      },
      {
       "current": "988b6836-c345-11e7-8310-0242ac120002-20-e36a-7921-7c4c-084c-da32-fcc0-6f62-7fe3-d7cd-ee9f",
       "next": "988b6944-c345-11e7-8310-0242ac120002-19-fb96-85e1-0818-2939-23a1-0ce0-cbd5-074e-f53b-e950",
       "previous": "988b6714-c345-11e7-8310-0242ac120002-19-dac6-b5ee-fe5a-9885-f346-bc38-1657-06da-2b92-95e5"
      }
     ],
     "next": "988b6944-c345-11e7-8310-0242ac120002-20-85e1-0818-2939-23a1-0ce0-cbd5-074e-f53b-e950-3e15",
     "previous": "988b6714-c345-11e7-8310-0242ac120002-20-b5ee-fe5a-9885-f346-bc38-1657-06da-2b92-95e5-bc03"
    }
   },
   "outputs": [],
   "source": [
    "docker_tmp = '/var/lib/docker/tmp'\n",
    "docker_base = '/var/lib/docker'\n",
    "docker_opts ={\"data-root\": docker_base, \"insecure-registries\": []}"
   ]
  },
  {
   "cell_type": "markdown",
   "metadata": {
    "lc_cell_meme": {
     "current": "988b6944-c345-11e7-8310-0242ac120002-20-85e1-0818-2939-23a1-0ce0-cbd5-074e-f53b-e950-3e15",
     "history": [
      {
       "current": "988b6944-c345-11e7-8310-0242ac120002-15-f729-88cd-a604-5f76-fb96-85e1-0818-2939-23a1-0ce0",
       "next": "30306cab-0f87-11ec-975c-c7638f7e44c5-7-4852-98d7-4e3a-da36-71f4-f528-c492",
       "previous": "988b6836-c345-11e7-8310-0242ac120002-14-5c5d-30e4-6c0b-825c-4fdb-3a4e-e36a-7921-7c4c-084c"
      },
      {
       "current": "988b6944-c345-11e7-8310-0242ac120002-16-88cd-a604-5f76-fb96-85e1-0818-2939-23a1-0ce0-cbd5",
       "next": "30306cab-0f87-11ec-975c-c7638f7e44c5-8-4852-98d7-4e3a-da36-71f4-f528-c492-fa2d",
       "previous": "988b6836-c345-11e7-8310-0242ac120002-15-30e4-6c0b-825c-4fdb-3a4e-e36a-7921-7c4c-084c-da32"
      },
      {
       "current": "988b6944-c345-11e7-8310-0242ac120002-16-88cd-a604-5f76-fb96-85e1-0818-2939-23a1-0ce0-cbd5",
       "next": "30306cab-0f87-11ec-975c-c7638f7e44c5-9-4852-98d7-4e3a-da36-71f4-f528-c492-fa2d-b5e0",
       "previous": "988b6836-c345-11e7-8310-0242ac120002-16-6c0b-825c-4fdb-3a4e-e36a-7921-7c4c-084c-da32-fcc0"
      },
      {
       "current": "988b6944-c345-11e7-8310-0242ac120002-17-a604-5f76-fb96-85e1-0818-2939-23a1-0ce0-cbd5-074e",
       "next": "30306cab-0f87-11ec-975c-c7638f7e44c5-8-4852-98d7-287d-6995-52ef-890d-1e7f-38f7",
       "previous": "988b6836-c345-11e7-8310-0242ac120002-16-6c0b-825c-4fdb-3a4e-e36a-7921-7c4c-084c-da32-fcc0"
      },
      {
       "current": "988b6944-c345-11e7-8310-0242ac120002-18-5f76-fb96-85e1-0818-2939-23a1-0ce0-cbd5-074e-f53b",
       "next": "30306cab-0f87-11ec-975c-c7638f7e44c5-9-4852-98d7-287d-6995-52ef-890d-1e7f-38f7-12b4",
       "previous": "988b6836-c345-11e7-8310-0242ac120002-17-825c-4fdb-3a4e-e36a-7921-7c4c-084c-da32-fcc0-6f62"
      },
      {
       "current": "988b6944-c345-11e7-8310-0242ac120002-19-fb96-85e1-0818-2939-23a1-0ce0-cbd5-074e-f53b-e950",
       "next": "30306cab-0f87-11ec-975c-c7638f7e44c5-10-4852-98d7-287d-6995-52ef-890d-1e7f-38f7-12b4-d8ba",
       "previous": "988b6836-c345-11e7-8310-0242ac120002-18-4fdb-3a4e-e36a-7921-7c4c-084c-da32-fcc0-6f62-7fe3"
      },
      {
       "current": "988b6944-c345-11e7-8310-0242ac120002-20-85e1-0818-2939-23a1-0ce0-cbd5-074e-f53b-e950-3e15",
       "next": "30306cab-0f87-11ec-975c-c7638f7e44c5-11-98d7-287d-6995-52ef-890d-1e7f-38f7-12b4-d8ba-4a47",
       "previous": "988b6836-c345-11e7-8310-0242ac120002-19-3a4e-e36a-7921-7c4c-084c-da32-fcc0-6f62-7fe3-d7cd"
      }
     ],
     "next": "30306cab-0f87-11ec-975c-c7638f7e44c5-12-287d-6995-52ef-890d-1e7f-38f7-12b4-d8ba-4a47-379a",
     "previous": "988b6836-c345-11e7-8310-0242ac120002-20-e36a-7921-7c4c-084c-da32-fcc0-6f62-7fe3-d7cd-ee9f"
    }
   },
   "source": [
    "# Notebookと環境のBinding\n",
    "\n",
    "Inventory中のgroup名でBind対象ホスト(Docker Engineをインストールしたいホスト)を指示する。"
   ]
  },
  {
   "cell_type": "markdown",
   "metadata": {
    "lc_cell_meme": {
     "current": "30306cab-0f87-11ec-975c-c7638f7e44c5-12-287d-6995-52ef-890d-1e7f-38f7-12b4-d8ba-4a47-379a",
     "history": [
      {
       "current": "30306cab-0f87-11ec-975c-c7638f7e44c5-6-4852-98d7-287d-6995-52ef-890d",
       "next": "bee36054-0f87-11ec-a987-c7638f7e44c5-5-cc6c-9efb-66ea-a410-c348",
       "previous": "98a63b86-d364-11e8-a64b-02420aff0006-14-f234-4757-b4ba-10fd-c01c-d19b-8ab1-f92c-67d7-4938"
      },
      {
       "current": "30306cab-0f87-11ec-975c-c7638f7e44c5-7-4852-98d7-287d-6995-52ef-890d-1e7f",
       "next": "bee36054-0f87-11ec-a987-c7638f7e44c5-6-cc6c-9efb-66ea-a410-c348-a116",
       "previous": "98a63b86-d364-11e8-a64b-02420aff0006-15-4757-b4ba-10fd-c01c-d19b-8ab1-f92c-67d7-4938-00d2"
      },
      {
       "current": "30306cab-0f87-11ec-975c-c7638f7e44c5-8-4852-98d7-287d-6995-52ef-890d-1e7f-38f7",
       "next": "bee36054-0f87-11ec-a987-c7638f7e44c5-7-cc6c-9efb-66ea-a410-c348-a116-d72f",
       "previous": "98a63b86-d364-11e8-a64b-02420aff0006-16-b4ba-10fd-c01c-d19b-8ab1-f92c-67d7-4938-00d2-4b19"
      },
      {
       "current": "30306cab-0f87-11ec-975c-c7638f7e44c5-9-4852-98d7-287d-6995-52ef-890d-1e7f-38f7-12b4",
       "next": "30306cab-0f87-11ec-975c-c7638f7e44c5-9-4852-98d7-4e3a-da36-71f4-f528-c492-fa2d-b5e0",
       "previous": "988b6944-c345-11e7-8310-0242ac120002-16-88cd-a604-5f76-fb96-85e1-0818-2939-23a1-0ce0-cbd5"
      },
      {
       "current": "30306cab-0f87-11ec-975c-c7638f7e44c5-10-4852-98d7-287d-6995-52ef-890d-1e7f-38f7-12b4-d8ba",
       "next": "30306cab-0f87-11ec-975c-c7638f7e44c5-10-4852-98d7-4e3a-da36-71f4-f528-c492-fa2d-b5e0-5680",
       "previous": "988b6944-c345-11e7-8310-0242ac120002-17-a604-5f76-fb96-85e1-0818-2939-23a1-0ce0-cbd5-074e"
      },
      {
       "current": "30306cab-0f87-11ec-975c-c7638f7e44c5-11-98d7-287d-6995-52ef-890d-1e7f-38f7-12b4-d8ba-4a47",
       "next": "30306cab-0f87-11ec-975c-c7638f7e44c5-11-98d7-4e3a-da36-71f4-f528-c492-fa2d-b5e0-5680-5bd7",
       "previous": "988b6944-c345-11e7-8310-0242ac120002-18-5f76-fb96-85e1-0818-2939-23a1-0ce0-cbd5-074e-f53b"
      },
      {
       "current": "30306cab-0f87-11ec-975c-c7638f7e44c5-12-287d-6995-52ef-890d-1e7f-38f7-12b4-d8ba-4a47-379a",
       "next": "30306cab-0f87-11ec-975c-c7638f7e44c5-12-4e3a-da36-71f4-f528-c492-fa2d-b5e0-5680-5bd7-5eab",
       "previous": "988b6944-c345-11e7-8310-0242ac120002-19-fb96-85e1-0818-2939-23a1-0ce0-cbd5-074e-f53b-e950"
      }
     ],
     "next": "30306cab-0f87-11ec-975c-c7638f7e44c5-13-da36-71f4-f528-c492-fa2d-b5e0-5680-5bd7-5eab-1423",
     "previous": "988b6944-c345-11e7-8310-0242ac120002-20-85e1-0818-2939-23a1-0ce0-cbd5-074e-f53b-e950-3e15"
    }
   },
   "source": [
    "\n",
    "- `hosts_file`: Inventoryファイル\n",
    "- `target_group`: Ansible Inventory中に定義されているグループ( `[グループ名]` のように`[]`で囲まれた定義 )のうち、CoursewareHub構築に使うグループ名を指定します。\n",
    "  - NFSサーバー専用のサーバーは対象外\n",
    "  - NFS専用サーバーを含まないグループ名を指定すること\n"
   ]
  },
  {
   "cell_type": "markdown",
   "metadata": {
    "lc_cell_meme": {
     "current": "30306cab-0f87-11ec-975c-c7638f7e44c5-13-da36-71f4-f528-c492-fa2d-b5e0-5680-5bd7-5eab-1423",
     "history": [
      {
       "current": "30306cab-0f87-11ec-975c-c7638f7e44c5-8-4852-98d7-4e3a-da36-71f4-f528-c492-fa2d",
       "next": "bee36054-0f87-11ec-a987-c7638f7e44c5-7-cc6c-9efb-7aaa-4982-911a-23ca-99cd",
       "previous": "988b6944-c345-11e7-8310-0242ac120002-14-d5f2-f729-88cd-a604-5f76-fb96-85e1-0818-2939-23a1"
      },
      {
       "current": "30306cab-0f87-11ec-975c-c7638f7e44c5-9-4852-98d7-4e3a-da36-71f4-f528-c492-fa2d-b5e0",
       "next": "bee36054-0f87-11ec-a987-c7638f7e44c5-8-cc6c-9efb-7aaa-4982-911a-23ca-99cd-2d35",
       "previous": "988b6944-c345-11e7-8310-0242ac120002-15-f729-88cd-a604-5f76-fb96-85e1-0818-2939-23a1-0ce0"
      },
      {
       "current": "30306cab-0f87-11ec-975c-c7638f7e44c5-9-4852-98d7-4e3a-da36-71f4-f528-c492-fa2d-b5e0",
       "next": "bee36054-0f87-11ec-a987-c7638f7e44c5-9-cc6c-9efb-7aaa-4982-911a-23ca-99cd-2d35-6444",
       "previous": "988b6944-c345-11e7-8310-0242ac120002-16-88cd-a604-5f76-fb96-85e1-0818-2939-23a1-0ce0-cbd5"
      },
      {
       "current": "30306cab-0f87-11ec-975c-c7638f7e44c5-10-4852-98d7-4e3a-da36-71f4-f528-c492-fa2d-b5e0-5680",
       "next": "bee36054-0f87-11ec-a987-c7638f7e44c5-9-cc6c-9efb-7aaa-4982-911a-23ca-99cd-2d35-6444",
       "previous": "30306cab-0f87-11ec-975c-c7638f7e44c5-8-4852-98d7-287d-6995-52ef-890d-1e7f-38f7"
      },
      {
       "current": "30306cab-0f87-11ec-975c-c7638f7e44c5-11-98d7-4e3a-da36-71f4-f528-c492-fa2d-b5e0-5680-5bd7",
       "next": "bee36054-0f87-11ec-a987-c7638f7e44c5-10-cc6c-9efb-7aaa-4982-911a-23ca-99cd-2d35-6444-ad3c",
       "previous": "30306cab-0f87-11ec-975c-c7638f7e44c5-9-4852-98d7-287d-6995-52ef-890d-1e7f-38f7-12b4"
      },
      {
       "current": "30306cab-0f87-11ec-975c-c7638f7e44c5-12-4e3a-da36-71f4-f528-c492-fa2d-b5e0-5680-5bd7-5eab",
       "next": "bee36054-0f87-11ec-a987-c7638f7e44c5-11-9efb-7aaa-4982-911a-23ca-99cd-2d35-6444-ad3c-0342",
       "previous": "30306cab-0f87-11ec-975c-c7638f7e44c5-10-4852-98d7-287d-6995-52ef-890d-1e7f-38f7-12b4-d8ba"
      },
      {
       "current": "30306cab-0f87-11ec-975c-c7638f7e44c5-13-da36-71f4-f528-c492-fa2d-b5e0-5680-5bd7-5eab-1423",
       "next": "bee36054-0f87-11ec-a987-c7638f7e44c5-12-7aaa-4982-911a-23ca-99cd-2d35-6444-ad3c-0342-1311",
       "previous": "30306cab-0f87-11ec-975c-c7638f7e44c5-11-98d7-287d-6995-52ef-890d-1e7f-38f7-12b4-d8ba-4a47"
      }
     ],
     "next": "bee36054-0f87-11ec-a987-c7638f7e44c5-13-4982-911a-23ca-99cd-2d35-6444-ad3c-0342-1311-15c8",
     "previous": "30306cab-0f87-11ec-975c-c7638f7e44c5-12-287d-6995-52ef-890d-1e7f-38f7-12b4-d8ba-4a47-379a"
    }
   },
   "source": [
    "Ansible Inventory中に定義されているグループ( `[グループ名]` のように`[]`で囲まれた定義 )のうち、CoursewareHub構築に使うグループ名を指定します。"
   ]
  },
  {
   "cell_type": "code",
   "execution_count": null,
   "metadata": {
    "lc_cell_meme": {
     "current": "bee36054-0f87-11ec-a987-c7638f7e44c5-13-4982-911a-23ca-99cd-2d35-6444-ad3c-0342-1311-15c8",
     "history": [
      {
       "current": "bee36054-0f87-11ec-a987-c7638f7e44c5-7-cc6c-9efb-7aaa-4982-911a-23ca-99cd",
       "next": "848e31c4-f407-11ea-9bfc-02420a01001a-8-ad6c-75b6-90d5-2630-5f2d-c52a-6890-f3bb",
       "previous": "30306cab-0f87-11ec-975c-c7638f7e44c5-6-4852-98d7-4e3a-da36-71f4-f528"
      },
      {
       "current": "bee36054-0f87-11ec-a987-c7638f7e44c5-8-cc6c-9efb-7aaa-4982-911a-23ca-99cd-2d35",
       "next": "848e31c4-f407-11ea-9bfc-02420a01001a-9-ad6c-75b6-90d5-2630-5f2d-c52a-6890-f3bb-ddb0",
       "previous": "30306cab-0f87-11ec-975c-c7638f7e44c5-7-4852-98d7-4e3a-da36-71f4-f528-c492"
      },
      {
       "current": "bee36054-0f87-11ec-a987-c7638f7e44c5-9-cc6c-9efb-7aaa-4982-911a-23ca-99cd-2d35-6444",
       "next": "848e31c4-f407-11ea-9bfc-02420a01001a-10-ad6c-75b6-90d5-2630-5f2d-c52a-6890-f3bb-ddb0-ea1d",
       "previous": "30306cab-0f87-11ec-975c-c7638f7e44c5-8-4852-98d7-4e3a-da36-71f4-f528-c492-fa2d"
      },
      {
       "current": "bee36054-0f87-11ec-a987-c7638f7e44c5-10-cc6c-9efb-7aaa-4982-911a-23ca-99cd-2d35-6444-ad3c",
       "next": "848e31c4-f407-11ea-9bfc-02420a01001a-11-75b6-90d5-2630-5f2d-c52a-6890-f3bb-ddb0-ea1d-4bcb",
       "previous": "30306cab-0f87-11ec-975c-c7638f7e44c5-9-4852-98d7-4e3a-da36-71f4-f528-c492-fa2d-b5e0"
      },
      {
       "current": "bee36054-0f87-11ec-a987-c7638f7e44c5-11-9efb-7aaa-4982-911a-23ca-99cd-2d35-6444-ad3c-0342",
       "next": "848e31c4-f407-11ea-9bfc-02420a01001a-12-90d5-2630-5f2d-c52a-6890-f3bb-ddb0-ea1d-4bcb-ffa2",
       "previous": "30306cab-0f87-11ec-975c-c7638f7e44c5-10-4852-98d7-4e3a-da36-71f4-f528-c492-fa2d-b5e0-5680"
      },
      {
       "current": "bee36054-0f87-11ec-a987-c7638f7e44c5-12-7aaa-4982-911a-23ca-99cd-2d35-6444-ad3c-0342-1311",
       "next": "848e31c4-f407-11ea-9bfc-02420a01001a-13-2630-5f2d-c52a-6890-f3bb-ddb0-ea1d-4bcb-ffa2-296f",
       "previous": "30306cab-0f87-11ec-975c-c7638f7e44c5-11-98d7-4e3a-da36-71f4-f528-c492-fa2d-b5e0-5680-5bd7"
      },
      {
       "current": "bee36054-0f87-11ec-a987-c7638f7e44c5-13-4982-911a-23ca-99cd-2d35-6444-ad3c-0342-1311-15c8",
       "next": "848e31c4-f407-11ea-9bfc-02420a01001a-14-5f2d-c52a-6890-f3bb-ddb0-ea1d-4bcb-ffa2-296f-a18a",
       "previous": "30306cab-0f87-11ec-975c-c7638f7e44c5-12-4e3a-da36-71f4-f528-c492-fa2d-b5e0-5680-5bd7-5eab"
      }
     ],
     "next": "848e31c4-f407-11ea-9bfc-02420a01001a-15-c52a-6890-f3bb-ddb0-ea1d-4bcb-ffa2-296f-a18a-c25e",
     "previous": "30306cab-0f87-11ec-975c-c7638f7e44c5-13-da36-71f4-f528-c492-fa2d-b5e0-5680-5bd7-5eab-1423"
    },
    "scrolled": true
   },
   "outputs": [],
   "source": [
    "hosts_file = './cwhtest0001_inventory'\n",
    "target_group = 'cwhtest0001_nodes' # NFSサーバー専用のサーバーは対象外 NFS専用サーバーを含まないグループ名を指定すること\n",
    "\n",
    "# 接続確認\n",
    "%env ANSIBLE_INVENTORY={hosts_file}\n",
    "!ansible -m ping {target_group}"
   ]
  },
  {
   "cell_type": "markdown",
   "metadata": {
    "lc_cell_meme": {
     "current": "848e31c4-f407-11ea-9bfc-02420a01001a-15-c52a-6890-f3bb-ddb0-ea1d-4bcb-ffa2-296f-a18a-c25e",
     "history": [
      {
       "current": "848e31c4-f407-11ea-9bfc-02420a01001a-9-ad6c-75b6-90d5-2630-5f2d-c52a-6890-f3bb-ddb0",
       "next": "988b8a46-c345-11e7-8310-0242ac120002-14-112c-f32c-f58c-a56d-fb2e-8602-39f6-47d0-f97f-e3da",
       "previous": "bee36054-0f87-11ec-a987-c7638f7e44c5-6-cc6c-9efb-7aaa-4982-911a-23ca"
      },
      {
       "current": "848e31c4-f407-11ea-9bfc-02420a01001a-10-ad6c-75b6-90d5-2630-5f2d-c52a-6890-f3bb-ddb0-ea1d",
       "next": "988b8a46-c345-11e7-8310-0242ac120002-15-f32c-f58c-a56d-fb2e-8602-39f6-47d0-f97f-e3da-3e15",
       "previous": "bee36054-0f87-11ec-a987-c7638f7e44c5-7-cc6c-9efb-7aaa-4982-911a-23ca-99cd"
      },
      {
       "current": "848e31c4-f407-11ea-9bfc-02420a01001a-11-75b6-90d5-2630-5f2d-c52a-6890-f3bb-ddb0-ea1d-4bcb",
       "next": "988b8a46-c345-11e7-8310-0242ac120002-16-f58c-a56d-fb2e-8602-39f6-47d0-f97f-e3da-3e15-f5d6",
       "previous": "bee36054-0f87-11ec-a987-c7638f7e44c5-8-cc6c-9efb-7aaa-4982-911a-23ca-99cd-2d35"
      },
      {
       "current": "848e31c4-f407-11ea-9bfc-02420a01001a-12-90d5-2630-5f2d-c52a-6890-f3bb-ddb0-ea1d-4bcb-ffa2",
       "next": "988b8a46-c345-11e7-8310-0242ac120002-17-a56d-fb2e-8602-39f6-47d0-f97f-e3da-3e15-f5d6-1eeb",
       "previous": "bee36054-0f87-11ec-a987-c7638f7e44c5-9-cc6c-9efb-7aaa-4982-911a-23ca-99cd-2d35-6444"
      },
      {
       "current": "848e31c4-f407-11ea-9bfc-02420a01001a-13-2630-5f2d-c52a-6890-f3bb-ddb0-ea1d-4bcb-ffa2-296f",
       "next": "988b8a46-c345-11e7-8310-0242ac120002-18-fb2e-8602-39f6-47d0-f97f-e3da-3e15-f5d6-1eeb-4593",
       "previous": "bee36054-0f87-11ec-a987-c7638f7e44c5-10-cc6c-9efb-7aaa-4982-911a-23ca-99cd-2d35-6444-ad3c"
      },
      {
       "current": "848e31c4-f407-11ea-9bfc-02420a01001a-14-5f2d-c52a-6890-f3bb-ddb0-ea1d-4bcb-ffa2-296f-a18a",
       "next": "988b8a46-c345-11e7-8310-0242ac120002-19-8602-39f6-47d0-f97f-e3da-3e15-f5d6-1eeb-4593-07d1",
       "previous": "bee36054-0f87-11ec-a987-c7638f7e44c5-11-9efb-7aaa-4982-911a-23ca-99cd-2d35-6444-ad3c-0342"
      },
      {
       "current": "848e31c4-f407-11ea-9bfc-02420a01001a-15-c52a-6890-f3bb-ddb0-ea1d-4bcb-ffa2-296f-a18a-c25e",
       "next": "988b8a46-c345-11e7-8310-0242ac120002-20-39f6-47d0-f97f-e3da-3e15-f5d6-1eeb-4593-07d1-8a1d",
       "previous": "bee36054-0f87-11ec-a987-c7638f7e44c5-12-7aaa-4982-911a-23ca-99cd-2d35-6444-ad3c-0342-1311"
      }
     ],
     "next": "988b8a46-c345-11e7-8310-0242ac120002-21-47d0-f97f-e3da-3e15-f5d6-1eeb-4593-07d1-8a1d-6d2d",
     "previous": "bee36054-0f87-11ec-a987-c7638f7e44c5-13-4982-911a-23ca-99cd-2d35-6444-ad3c-0342-1311-15c8"
    }
   },
   "source": [
    "作業ディレクトリを作成"
   ]
  },
  {
   "cell_type": "code",
   "execution_count": null,
   "metadata": {
    "ExecuteTime": {
     "end_time": "2016-05-13T07:43:51.747443",
     "start_time": "2016-05-13T07:43:51.727326"
    },
    "lc_cell_meme": {
     "current": "988b8a46-c345-11e7-8310-0242ac120002-21-47d0-f97f-e3da-3e15-f5d6-1eeb-4593-07d1-8a1d-6d2d",
     "history": [
      {
       "current": "988b8a46-c345-11e7-8310-0242ac120002-15-f32c-f58c-a56d-fb2e-8602-39f6-47d0-f97f-e3da-3e15",
       "next": "988b6e12-c345-11e7-8310-0242ac120002-13-d999-d5a6-86e0-ff96-86a2-e7dd-0ec5-3a2d-8ecb-7859",
       "previous": "848e31c4-f407-11ea-9bfc-02420a01001a-8-ad6c-75b6-90d5-2630-5f2d-c52a-6890-f3bb"
      },
      {
       "current": "988b8a46-c345-11e7-8310-0242ac120002-16-f58c-a56d-fb2e-8602-39f6-47d0-f97f-e3da-3e15-f5d6",
       "next": "988b6e12-c345-11e7-8310-0242ac120002-14-d5a6-86e0-ff96-86a2-e7dd-0ec5-3a2d-8ecb-7859-95e3",
       "previous": "848e31c4-f407-11ea-9bfc-02420a01001a-9-ad6c-75b6-90d5-2630-5f2d-c52a-6890-f3bb-ddb0"
      },
      {
       "current": "988b8a46-c345-11e7-8310-0242ac120002-17-a56d-fb2e-8602-39f6-47d0-f97f-e3da-3e15-f5d6-1eeb",
       "next": "988b6e12-c345-11e7-8310-0242ac120002-15-86e0-ff96-86a2-e7dd-0ec5-3a2d-8ecb-7859-95e3-3a10",
       "previous": "848e31c4-f407-11ea-9bfc-02420a01001a-10-ad6c-75b6-90d5-2630-5f2d-c52a-6890-f3bb-ddb0-ea1d"
      },
      {
       "current": "988b8a46-c345-11e7-8310-0242ac120002-18-fb2e-8602-39f6-47d0-f97f-e3da-3e15-f5d6-1eeb-4593",
       "next": "988b6e12-c345-11e7-8310-0242ac120002-16-ff96-86a2-e7dd-0ec5-3a2d-8ecb-7859-95e3-3a10-3273",
       "previous": "848e31c4-f407-11ea-9bfc-02420a01001a-11-75b6-90d5-2630-5f2d-c52a-6890-f3bb-ddb0-ea1d-4bcb"
      },
      {
       "current": "988b8a46-c345-11e7-8310-0242ac120002-19-8602-39f6-47d0-f97f-e3da-3e15-f5d6-1eeb-4593-07d1",
       "next": "988b6e12-c345-11e7-8310-0242ac120002-17-86a2-e7dd-0ec5-3a2d-8ecb-7859-95e3-3a10-3273-c3d5",
       "previous": "848e31c4-f407-11ea-9bfc-02420a01001a-12-90d5-2630-5f2d-c52a-6890-f3bb-ddb0-ea1d-4bcb-ffa2"
      },
      {
       "current": "988b8a46-c345-11e7-8310-0242ac120002-20-39f6-47d0-f97f-e3da-3e15-f5d6-1eeb-4593-07d1-8a1d",
       "next": "988b6e12-c345-11e7-8310-0242ac120002-18-e7dd-0ec5-3a2d-8ecb-7859-95e3-3a10-3273-c3d5-9ee0",
       "previous": "848e31c4-f407-11ea-9bfc-02420a01001a-13-2630-5f2d-c52a-6890-f3bb-ddb0-ea1d-4bcb-ffa2-296f"
      },
      {
       "current": "988b8a46-c345-11e7-8310-0242ac120002-21-47d0-f97f-e3da-3e15-f5d6-1eeb-4593-07d1-8a1d-6d2d",
       "next": "988b6e12-c345-11e7-8310-0242ac120002-19-0ec5-3a2d-8ecb-7859-95e3-3a10-3273-c3d5-9ee0-374a",
       "previous": "848e31c4-f407-11ea-9bfc-02420a01001a-14-5f2d-c52a-6890-f3bb-ddb0-ea1d-4bcb-ffa2-296f-a18a"
      }
     ],
     "next": "988b6e12-c345-11e7-8310-0242ac120002-20-3a2d-8ecb-7859-95e3-3a10-3273-c3d5-9ee0-374a-87f8",
     "previous": "848e31c4-f407-11ea-9bfc-02420a01001a-15-c52a-6890-f3bb-ddb0-ea1d-4bcb-ffa2-296f-a18a-c25e"
    }
   },
   "outputs": [],
   "source": [
    "import tempfile\n",
    "temp_dir = tempfile.mkdtemp()\n",
    "temp_dir"
   ]
  },
  {
   "cell_type": "markdown",
   "metadata": {
    "lc_cell_meme": {
     "current": "988b6e12-c345-11e7-8310-0242ac120002-20-3a2d-8ecb-7859-95e3-3a10-3273-c3d5-9ee0-374a-87f8",
     "history": [
      {
       "current": "988b6e12-c345-11e7-8310-0242ac120002-14-d5a6-86e0-ff96-86a2-e7dd-0ec5-3a2d-8ecb-7859-95e3",
       "next": "988b6f20-c345-11e7-8310-0242ac120002-13-6e8f-b6b3-bcc9-b1ef-4c4c-3824-ef4a-ac90-3ca8-70bc",
       "previous": "988b8a46-c345-11e7-8310-0242ac120002-14-112c-f32c-f58c-a56d-fb2e-8602-39f6-47d0-f97f-e3da"
      },
      {
       "current": "988b6e12-c345-11e7-8310-0242ac120002-15-86e0-ff96-86a2-e7dd-0ec5-3a2d-8ecb-7859-95e3-3a10",
       "next": "988b6f20-c345-11e7-8310-0242ac120002-14-b6b3-bcc9-b1ef-4c4c-3824-ef4a-ac90-3ca8-70bc-348a",
       "previous": "988b8a46-c345-11e7-8310-0242ac120002-15-f32c-f58c-a56d-fb2e-8602-39f6-47d0-f97f-e3da-3e15"
      },
      {
       "current": "988b6e12-c345-11e7-8310-0242ac120002-16-ff96-86a2-e7dd-0ec5-3a2d-8ecb-7859-95e3-3a10-3273",
       "next": "988b6f20-c345-11e7-8310-0242ac120002-15-bcc9-b1ef-4c4c-3824-ef4a-ac90-3ca8-70bc-348a-c866",
       "previous": "988b8a46-c345-11e7-8310-0242ac120002-16-f58c-a56d-fb2e-8602-39f6-47d0-f97f-e3da-3e15-f5d6"
      },
      {
       "current": "988b6e12-c345-11e7-8310-0242ac120002-17-86a2-e7dd-0ec5-3a2d-8ecb-7859-95e3-3a10-3273-c3d5",
       "next": "988b6f20-c345-11e7-8310-0242ac120002-16-b1ef-4c4c-3824-ef4a-ac90-3ca8-70bc-348a-c866-e042",
       "previous": "988b8a46-c345-11e7-8310-0242ac120002-17-a56d-fb2e-8602-39f6-47d0-f97f-e3da-3e15-f5d6-1eeb"
      },
      {
       "current": "988b6e12-c345-11e7-8310-0242ac120002-18-e7dd-0ec5-3a2d-8ecb-7859-95e3-3a10-3273-c3d5-9ee0",
       "next": "988b6f20-c345-11e7-8310-0242ac120002-17-4c4c-3824-ef4a-ac90-3ca8-70bc-348a-c866-e042-a55e",
       "previous": "988b8a46-c345-11e7-8310-0242ac120002-18-fb2e-8602-39f6-47d0-f97f-e3da-3e15-f5d6-1eeb-4593"
      },
      {
       "current": "988b6e12-c345-11e7-8310-0242ac120002-19-0ec5-3a2d-8ecb-7859-95e3-3a10-3273-c3d5-9ee0-374a",
       "next": "988b6f20-c345-11e7-8310-0242ac120002-18-3824-ef4a-ac90-3ca8-70bc-348a-c866-e042-a55e-f56d",
       "previous": "988b8a46-c345-11e7-8310-0242ac120002-19-8602-39f6-47d0-f97f-e3da-3e15-f5d6-1eeb-4593-07d1"
      },
      {
       "current": "988b6e12-c345-11e7-8310-0242ac120002-20-3a2d-8ecb-7859-95e3-3a10-3273-c3d5-9ee0-374a-87f8",
       "next": "988b6f20-c345-11e7-8310-0242ac120002-19-ef4a-ac90-3ca8-70bc-348a-c866-e042-a55e-f56d-15e2",
       "previous": "988b8a46-c345-11e7-8310-0242ac120002-20-39f6-47d0-f97f-e3da-3e15-f5d6-1eeb-4593-07d1-8a1d"
      }
     ],
     "next": "988b6f20-c345-11e7-8310-0242ac120002-20-ac90-3ca8-70bc-348a-c866-e042-a55e-f56d-15e2-b580",
     "previous": "988b8a46-c345-11e7-8310-0242ac120002-21-47d0-f97f-e3da-3e15-f5d6-1eeb-4593-07d1-8a1d-6d2d"
    }
   },
   "source": [
    "# Binding対象の確認\n",
    "\n",
    "[Prerequisites](https://docs.docker.com/engine/installation/linux/ubuntulinux/#prerequisites)に示されているとおり、このNotebookを使ってDockerをインストールする対象のホストは、以下の条件を満たしている必要がある。\n",
    "\n",
    "もし、このインストール手順に失敗したら、**この条件を満たす状態にマシンを戻す(パッケージの削除, マシンの再プロビジョニングなど)**ことで、**(このNotebookによって)Dockerをインストール可能な状態に戻す**ことができる。"
   ]
  },
  {
   "cell_type": "markdown",
   "metadata": {
    "lc_cell_meme": {
     "current": "988b6f20-c345-11e7-8310-0242ac120002-20-ac90-3ca8-70bc-348a-c866-e042-a55e-f56d-15e2-b580",
     "history": [
      {
       "current": "988b6f20-c345-11e7-8310-0242ac120002-14-b6b3-bcc9-b1ef-4c4c-3824-ef4a-ac90-3ca8-70bc-348a",
       "next": "988b7038-c345-11e7-8310-0242ac120002-13-3564-10e7-2b4f-7288-5422-e5de-dc2e-1716-bb67-5433",
       "previous": "988b6e12-c345-11e7-8310-0242ac120002-13-d999-d5a6-86e0-ff96-86a2-e7dd-0ec5-3a2d-8ecb-7859"
      },
      {
       "current": "988b6f20-c345-11e7-8310-0242ac120002-15-bcc9-b1ef-4c4c-3824-ef4a-ac90-3ca8-70bc-348a-c866",
       "next": "988b7038-c345-11e7-8310-0242ac120002-14-10e7-2b4f-7288-5422-e5de-dc2e-1716-bb67-5433-bc11",
       "previous": "988b6e12-c345-11e7-8310-0242ac120002-14-d5a6-86e0-ff96-86a2-e7dd-0ec5-3a2d-8ecb-7859-95e3"
      },
      {
       "current": "988b6f20-c345-11e7-8310-0242ac120002-16-b1ef-4c4c-3824-ef4a-ac90-3ca8-70bc-348a-c866-e042",
       "next": "988b7038-c345-11e7-8310-0242ac120002-15-2b4f-7288-5422-e5de-dc2e-1716-bb67-5433-bc11-b63e",
       "previous": "988b6e12-c345-11e7-8310-0242ac120002-15-86e0-ff96-86a2-e7dd-0ec5-3a2d-8ecb-7859-95e3-3a10"
      },
      {
       "current": "988b6f20-c345-11e7-8310-0242ac120002-17-4c4c-3824-ef4a-ac90-3ca8-70bc-348a-c866-e042-a55e",
       "next": "988b7038-c345-11e7-8310-0242ac120002-16-7288-5422-e5de-dc2e-1716-bb67-5433-bc11-b63e-1949",
       "previous": "988b6e12-c345-11e7-8310-0242ac120002-16-ff96-86a2-e7dd-0ec5-3a2d-8ecb-7859-95e3-3a10-3273"
      },
      {
       "current": "988b6f20-c345-11e7-8310-0242ac120002-18-3824-ef4a-ac90-3ca8-70bc-348a-c866-e042-a55e-f56d",
       "next": "988b7038-c345-11e7-8310-0242ac120002-17-5422-e5de-dc2e-1716-bb67-5433-bc11-b63e-1949-867d",
       "previous": "988b6e12-c345-11e7-8310-0242ac120002-17-86a2-e7dd-0ec5-3a2d-8ecb-7859-95e3-3a10-3273-c3d5"
      },
      {
       "current": "988b6f20-c345-11e7-8310-0242ac120002-19-ef4a-ac90-3ca8-70bc-348a-c866-e042-a55e-f56d-15e2",
       "next": "988b7038-c345-11e7-8310-0242ac120002-18-e5de-dc2e-1716-bb67-5433-bc11-b63e-1949-867d-25f6",
       "previous": "988b6e12-c345-11e7-8310-0242ac120002-18-e7dd-0ec5-3a2d-8ecb-7859-95e3-3a10-3273-c3d5-9ee0"
      },
      {
       "current": "988b6f20-c345-11e7-8310-0242ac120002-20-ac90-3ca8-70bc-348a-c866-e042-a55e-f56d-15e2-b580",
       "next": "988b7038-c345-11e7-8310-0242ac120002-19-dc2e-1716-bb67-5433-bc11-b63e-1949-867d-25f6-5895",
       "previous": "988b6e12-c345-11e7-8310-0242ac120002-19-0ec5-3a2d-8ecb-7859-95e3-3a10-3273-c3d5-9ee0-374a"
      }
     ],
     "next": "988b7038-c345-11e7-8310-0242ac120002-20-1716-bb67-5433-bc11-b63e-1949-867d-25f6-5895-cc74",
     "previous": "988b6e12-c345-11e7-8310-0242ac120002-20-3a2d-8ecb-7859-95e3-3a10-3273-c3d5-9ee0-374a-87f8"
    }
   },
   "source": [
    "## 64bit版を使う\n",
    "\n",
    "Docker Engineを動作させるには64bit版が必要。"
   ]
  },
  {
   "cell_type": "code",
   "execution_count": null,
   "metadata": {
    "lc_cell_meme": {
     "current": "988b7038-c345-11e7-8310-0242ac120002-20-1716-bb67-5433-bc11-b63e-1949-867d-25f6-5895-cc74",
     "history": [
      {
       "current": "988b7038-c345-11e7-8310-0242ac120002-14-10e7-2b4f-7288-5422-e5de-dc2e-1716-bb67-5433-bc11",
       "next": "988b7146-c345-11e7-8310-0242ac120002-13-94ef-cbe8-3bc0-6fef-36e2-b62a-8a17-eaa1-019d-f36b",
       "previous": "988b6f20-c345-11e7-8310-0242ac120002-13-6e8f-b6b3-bcc9-b1ef-4c4c-3824-ef4a-ac90-3ca8-70bc"
      },
      {
       "current": "988b7038-c345-11e7-8310-0242ac120002-15-2b4f-7288-5422-e5de-dc2e-1716-bb67-5433-bc11-b63e",
       "next": "988b7146-c345-11e7-8310-0242ac120002-14-cbe8-3bc0-6fef-36e2-b62a-8a17-eaa1-019d-f36b-5783",
       "previous": "988b6f20-c345-11e7-8310-0242ac120002-14-b6b3-bcc9-b1ef-4c4c-3824-ef4a-ac90-3ca8-70bc-348a"
      },
      {
       "current": "988b7038-c345-11e7-8310-0242ac120002-16-7288-5422-e5de-dc2e-1716-bb67-5433-bc11-b63e-1949",
       "next": "988b7146-c345-11e7-8310-0242ac120002-15-3bc0-6fef-36e2-b62a-8a17-eaa1-019d-f36b-5783-fcee",
       "previous": "988b6f20-c345-11e7-8310-0242ac120002-15-bcc9-b1ef-4c4c-3824-ef4a-ac90-3ca8-70bc-348a-c866"
      },
      {
       "current": "988b7038-c345-11e7-8310-0242ac120002-17-5422-e5de-dc2e-1716-bb67-5433-bc11-b63e-1949-867d",
       "next": "988b7146-c345-11e7-8310-0242ac120002-16-6fef-36e2-b62a-8a17-eaa1-019d-f36b-5783-fcee-8289",
       "previous": "988b6f20-c345-11e7-8310-0242ac120002-16-b1ef-4c4c-3824-ef4a-ac90-3ca8-70bc-348a-c866-e042"
      },
      {
       "current": "988b7038-c345-11e7-8310-0242ac120002-18-e5de-dc2e-1716-bb67-5433-bc11-b63e-1949-867d-25f6",
       "next": "988b7146-c345-11e7-8310-0242ac120002-17-36e2-b62a-8a17-eaa1-019d-f36b-5783-fcee-8289-f620",
       "previous": "988b6f20-c345-11e7-8310-0242ac120002-17-4c4c-3824-ef4a-ac90-3ca8-70bc-348a-c866-e042-a55e"
      },
      {
       "current": "988b7038-c345-11e7-8310-0242ac120002-19-dc2e-1716-bb67-5433-bc11-b63e-1949-867d-25f6-5895",
       "next": "988b7146-c345-11e7-8310-0242ac120002-18-b62a-8a17-eaa1-019d-f36b-5783-fcee-8289-f620-da34",
       "previous": "988b6f20-c345-11e7-8310-0242ac120002-18-3824-ef4a-ac90-3ca8-70bc-348a-c866-e042-a55e-f56d"
      },
      {
       "current": "988b7038-c345-11e7-8310-0242ac120002-20-1716-bb67-5433-bc11-b63e-1949-867d-25f6-5895-cc74",
       "next": "988b7146-c345-11e7-8310-0242ac120002-19-8a17-eaa1-019d-f36b-5783-fcee-8289-f620-da34-8ed1",
       "previous": "988b6f20-c345-11e7-8310-0242ac120002-19-ef4a-ac90-3ca8-70bc-348a-c866-e042-a55e-f56d-15e2"
      }
     ],
     "next": "988b7146-c345-11e7-8310-0242ac120002-20-eaa1-019d-f36b-5783-fcee-8289-f620-da34-8ed1-56a0",
     "previous": "988b6f20-c345-11e7-8310-0242ac120002-20-ac90-3ca8-70bc-348a-c866-e042-a55e-f56d-15e2-b580"
    }
   },
   "outputs": [],
   "source": [
    "!ansible -a 'uname -m' {target_group}"
   ]
  },
  {
   "cell_type": "markdown",
   "metadata": {
    "lc_cell_meme": {
     "current": "988b7146-c345-11e7-8310-0242ac120002-20-eaa1-019d-f36b-5783-fcee-8289-f620-da34-8ed1-56a0",
     "history": [
      {
       "current": "988b7146-c345-11e7-8310-0242ac120002-14-cbe8-3bc0-6fef-36e2-b62a-8a17-eaa1-019d-f36b-5783",
       "next": "988b7254-c345-11e7-8310-0242ac120002-13-0efb-9644-9021-9456-8729-ca6c-817b-f190-39bc-cb88",
       "previous": "988b7038-c345-11e7-8310-0242ac120002-13-3564-10e7-2b4f-7288-5422-e5de-dc2e-1716-bb67-5433"
      },
      {
       "current": "988b7146-c345-11e7-8310-0242ac120002-15-3bc0-6fef-36e2-b62a-8a17-eaa1-019d-f36b-5783-fcee",
       "next": "988b7254-c345-11e7-8310-0242ac120002-14-9644-9021-9456-8729-ca6c-817b-f190-39bc-cb88-3fa9",
       "previous": "988b7038-c345-11e7-8310-0242ac120002-14-10e7-2b4f-7288-5422-e5de-dc2e-1716-bb67-5433-bc11"
      },
      {
       "current": "988b7146-c345-11e7-8310-0242ac120002-16-6fef-36e2-b62a-8a17-eaa1-019d-f36b-5783-fcee-8289",
       "next": "988b7254-c345-11e7-8310-0242ac120002-15-9021-9456-8729-ca6c-817b-f190-39bc-cb88-3fa9-88ba",
       "previous": "988b7038-c345-11e7-8310-0242ac120002-15-2b4f-7288-5422-e5de-dc2e-1716-bb67-5433-bc11-b63e"
      },
      {
       "current": "988b7146-c345-11e7-8310-0242ac120002-17-36e2-b62a-8a17-eaa1-019d-f36b-5783-fcee-8289-f620",
       "next": "988b7254-c345-11e7-8310-0242ac120002-16-9456-8729-ca6c-817b-f190-39bc-cb88-3fa9-88ba-c47d",
       "previous": "988b7038-c345-11e7-8310-0242ac120002-16-7288-5422-e5de-dc2e-1716-bb67-5433-bc11-b63e-1949"
      },
      {
       "current": "988b7146-c345-11e7-8310-0242ac120002-18-b62a-8a17-eaa1-019d-f36b-5783-fcee-8289-f620-da34",
       "next": "988b7254-c345-11e7-8310-0242ac120002-17-8729-ca6c-817b-f190-39bc-cb88-3fa9-88ba-c47d-4de9",
       "previous": "988b7038-c345-11e7-8310-0242ac120002-17-5422-e5de-dc2e-1716-bb67-5433-bc11-b63e-1949-867d"
      },
      {
       "current": "988b7146-c345-11e7-8310-0242ac120002-19-8a17-eaa1-019d-f36b-5783-fcee-8289-f620-da34-8ed1",
       "next": "988b7254-c345-11e7-8310-0242ac120002-18-ca6c-817b-f190-39bc-cb88-3fa9-88ba-c47d-4de9-4ae5",
       "previous": "988b7038-c345-11e7-8310-0242ac120002-18-e5de-dc2e-1716-bb67-5433-bc11-b63e-1949-867d-25f6"
      },
      {
       "current": "988b7146-c345-11e7-8310-0242ac120002-20-eaa1-019d-f36b-5783-fcee-8289-f620-da34-8ed1-56a0",
       "next": "988b7254-c345-11e7-8310-0242ac120002-19-817b-f190-39bc-cb88-3fa9-88ba-c47d-4de9-4ae5-39ea",
       "previous": "988b7038-c345-11e7-8310-0242ac120002-19-dc2e-1716-bb67-5433-bc11-b63e-1949-867d-25f6-5895"
      }
     ],
     "next": "988b7254-c345-11e7-8310-0242ac120002-20-f190-39bc-cb88-3fa9-88ba-c47d-4de9-4ae5-39ea-4d8b",
     "previous": "988b7038-c345-11e7-8310-0242ac120002-20-1716-bb67-5433-bc11-b63e-1949-867d-25f6-5895-cc74"
    }
   },
   "source": [
    "## kernel versionは最低3.10\n",
    "\n",
    "3.10未満の古いバージョンの場合はDockerの機能の一部が使えなかったり、データロストやpanicを生じる可能性がある。\n",
    "\n",
    "そのため、以下のバージョン表示が3.10以上であることを確認しておく。"
   ]
  },
  {
   "cell_type": "code",
   "execution_count": null,
   "metadata": {
    "lc_cell_meme": {
     "current": "988b7254-c345-11e7-8310-0242ac120002-20-f190-39bc-cb88-3fa9-88ba-c47d-4de9-4ae5-39ea-4d8b",
     "history": [
      {
       "current": "988b7254-c345-11e7-8310-0242ac120002-14-9644-9021-9456-8729-ca6c-817b-f190-39bc-cb88-3fa9",
       "next": "988b7362-c345-11e7-8310-0242ac120002-13-d452-b18c-3c03-505b-cd2e-3428-a3b2-e7c2-8535-28c1",
       "previous": "988b7146-c345-11e7-8310-0242ac120002-13-94ef-cbe8-3bc0-6fef-36e2-b62a-8a17-eaa1-019d-f36b"
      },
      {
       "current": "988b7254-c345-11e7-8310-0242ac120002-15-9021-9456-8729-ca6c-817b-f190-39bc-cb88-3fa9-88ba",
       "next": "988b7362-c345-11e7-8310-0242ac120002-14-b18c-3c03-505b-cd2e-3428-a3b2-e7c2-8535-28c1-7b6d",
       "previous": "988b7146-c345-11e7-8310-0242ac120002-14-cbe8-3bc0-6fef-36e2-b62a-8a17-eaa1-019d-f36b-5783"
      },
      {
       "current": "988b7254-c345-11e7-8310-0242ac120002-16-9456-8729-ca6c-817b-f190-39bc-cb88-3fa9-88ba-c47d",
       "next": "988b7362-c345-11e7-8310-0242ac120002-15-3c03-505b-cd2e-3428-a3b2-e7c2-8535-28c1-7b6d-8310",
       "previous": "988b7146-c345-11e7-8310-0242ac120002-15-3bc0-6fef-36e2-b62a-8a17-eaa1-019d-f36b-5783-fcee"
      },
      {
       "current": "988b7254-c345-11e7-8310-0242ac120002-17-8729-ca6c-817b-f190-39bc-cb88-3fa9-88ba-c47d-4de9",
       "next": "988b7362-c345-11e7-8310-0242ac120002-16-505b-cd2e-3428-a3b2-e7c2-8535-28c1-7b6d-8310-8ba0",
       "previous": "988b7146-c345-11e7-8310-0242ac120002-16-6fef-36e2-b62a-8a17-eaa1-019d-f36b-5783-fcee-8289"
      },
      {
       "current": "988b7254-c345-11e7-8310-0242ac120002-18-ca6c-817b-f190-39bc-cb88-3fa9-88ba-c47d-4de9-4ae5",
       "next": "988b7362-c345-11e7-8310-0242ac120002-17-cd2e-3428-a3b2-e7c2-8535-28c1-7b6d-8310-8ba0-5373",
       "previous": "988b7146-c345-11e7-8310-0242ac120002-17-36e2-b62a-8a17-eaa1-019d-f36b-5783-fcee-8289-f620"
      },
      {
       "current": "988b7254-c345-11e7-8310-0242ac120002-19-817b-f190-39bc-cb88-3fa9-88ba-c47d-4de9-4ae5-39ea",
       "next": "988b7362-c345-11e7-8310-0242ac120002-18-3428-a3b2-e7c2-8535-28c1-7b6d-8310-8ba0-5373-8c0d",
       "previous": "988b7146-c345-11e7-8310-0242ac120002-18-b62a-8a17-eaa1-019d-f36b-5783-fcee-8289-f620-da34"
      },
      {
       "current": "988b7254-c345-11e7-8310-0242ac120002-19-817b-f190-39bc-cb88-3fa9-88ba-c47d-4de9-4ae5-39ea",
       "next": "988b7362-c345-11e7-8310-0242ac120002-19-a3b2-e7c2-8535-28c1-7b6d-8310-8ba0-5373-8c0d-b673",
       "previous": "988b7146-c345-11e7-8310-0242ac120002-19-8a17-eaa1-019d-f36b-5783-fcee-8289-f620-da34-8ed1"
      },
      {
       "current": "988b7254-c345-11e7-8310-0242ac120002-20-f190-39bc-cb88-3fa9-88ba-c47d-4de9-4ae5-39ea-4d8b",
       "next": "988b7362-c345-11e7-8310-0242ac120002-20-e7c2-8535-28c1-7b6d-8310-8ba0-5373-8c0d-b673-ede9",
       "previous": "988b7146-c345-11e7-8310-0242ac120002-19-8a17-eaa1-019d-f36b-5783-fcee-8289-f620-da34-8ed1"
      }
     ],
     "next": "988b7362-c345-11e7-8310-0242ac120002-21-8535-28c1-7b6d-8310-8ba0-5373-8c0d-b673-ede9-5ab7",
     "previous": "988b7146-c345-11e7-8310-0242ac120002-20-eaa1-019d-f36b-5783-fcee-8289-f620-da34-8ed1-56a0"
    }
   },
   "outputs": [],
   "source": [
    "!ansible -a 'uname -r' {target_group}"
   ]
  },
  {
   "cell_type": "markdown",
   "metadata": {
    "lc_cell_meme": {
     "current": "988b7362-c345-11e7-8310-0242ac120002-21-8535-28c1-7b6d-8310-8ba0-5373-8c0d-b673-ede9-5ab7",
     "history": [
      {
       "current": "988b7362-c345-11e7-8310-0242ac120002-14-b18c-3c03-505b-cd2e-3428-a3b2-e7c2-8535-28c1-7b6d",
       "next": "5e585a8e-d0f0-11e8-a64b-02420aff0006-13-f938-4750-cd80-e252-2cdd-81a8-2ae5-2208-1aca-394e",
       "previous": "988b7254-c345-11e7-8310-0242ac120002-13-0efb-9644-9021-9456-8729-ca6c-817b-f190-39bc-cb88"
      },
      {
       "current": "988b7362-c345-11e7-8310-0242ac120002-15-3c03-505b-cd2e-3428-a3b2-e7c2-8535-28c1-7b6d-8310",
       "next": "5e585a8e-d0f0-11e8-a64b-02420aff0006-14-4750-cd80-e252-2cdd-81a8-2ae5-2208-1aca-394e-44a6",
       "previous": "988b7254-c345-11e7-8310-0242ac120002-14-9644-9021-9456-8729-ca6c-817b-f190-39bc-cb88-3fa9"
      },
      {
       "current": "988b7362-c345-11e7-8310-0242ac120002-16-505b-cd2e-3428-a3b2-e7c2-8535-28c1-7b6d-8310-8ba0",
       "next": "5e585a8e-d0f0-11e8-a64b-02420aff0006-15-cd80-e252-2cdd-81a8-2ae5-2208-1aca-394e-44a6-485a",
       "previous": "988b7254-c345-11e7-8310-0242ac120002-15-9021-9456-8729-ca6c-817b-f190-39bc-cb88-3fa9-88ba"
      },
      {
       "current": "988b7362-c345-11e7-8310-0242ac120002-17-cd2e-3428-a3b2-e7c2-8535-28c1-7b6d-8310-8ba0-5373",
       "next": "5e585a8e-d0f0-11e8-a64b-02420aff0006-16-e252-2cdd-81a8-2ae5-2208-1aca-394e-44a6-485a-c8ff",
       "previous": "988b7254-c345-11e7-8310-0242ac120002-16-9456-8729-ca6c-817b-f190-39bc-cb88-3fa9-88ba-c47d"
      },
      {
       "current": "988b7362-c345-11e7-8310-0242ac120002-18-3428-a3b2-e7c2-8535-28c1-7b6d-8310-8ba0-5373-8c0d",
       "next": "5e585a8e-d0f0-11e8-a64b-02420aff0006-17-2cdd-81a8-2ae5-2208-1aca-394e-44a6-485a-c8ff-e349",
       "previous": "988b7254-c345-11e7-8310-0242ac120002-17-8729-ca6c-817b-f190-39bc-cb88-3fa9-88ba-c47d-4de9"
      },
      {
       "current": "988b7362-c345-11e7-8310-0242ac120002-19-a3b2-e7c2-8535-28c1-7b6d-8310-8ba0-5373-8c0d-b673",
       "next": "5e585a8e-d0f0-11e8-a64b-02420aff0006-18-81a8-2ae5-2208-1aca-394e-44a6-485a-c8ff-e349-e2de",
       "previous": "988b7254-c345-11e7-8310-0242ac120002-18-ca6c-817b-f190-39bc-cb88-3fa9-88ba-c47d-4de9-4ae5"
      },
      {
       "current": "988b7362-c345-11e7-8310-0242ac120002-20-e7c2-8535-28c1-7b6d-8310-8ba0-5373-8c0d-b673-ede9",
       "next": "5e585a8e-d0f0-11e8-a64b-02420aff0006-19-2ae5-2208-1aca-394e-44a6-485a-c8ff-e349-e2de-f603",
       "previous": "988b7254-c345-11e7-8310-0242ac120002-19-817b-f190-39bc-cb88-3fa9-88ba-c47d-4de9-4ae5-39ea"
      },
      {
       "current": "988b7362-c345-11e7-8310-0242ac120002-21-8535-28c1-7b6d-8310-8ba0-5373-8c0d-b673-ede9-5ab7",
       "next": "5e585a8e-d0f0-11e8-a64b-02420aff0006-20-2208-1aca-394e-44a6-485a-c8ff-e349-e2de-f603-d2bf",
       "previous": "988b7254-c345-11e7-8310-0242ac120002-19-817b-f190-39bc-cb88-3fa9-88ba-c47d-4de9-4ae5-39ea"
      }
     ],
     "next": "5e585a8e-d0f0-11e8-a64b-02420aff0006-21-1aca-394e-44a6-485a-c8ff-e349-e2de-f603-d2bf-2b9d",
     "previous": "988b7254-c345-11e7-8310-0242ac120002-20-f190-39bc-cb88-3fa9-88ba-c47d-4de9-4ae5-39ea-4d8b"
    }
   },
   "source": [
    "対象の環境は、Rocky(またはRHEL系) 8を想定"
   ]
  },
  {
   "cell_type": "code",
   "execution_count": null,
   "metadata": {
    "lc_cell_meme": {
     "current": "5e585a8e-d0f0-11e8-a64b-02420aff0006-21-1aca-394e-44a6-485a-c8ff-e349-e2de-f603-d2bf-2b9d",
     "history": [
      {
       "current": "5e585a8e-d0f0-11e8-a64b-02420aff0006-14-4750-cd80-e252-2cdd-81a8-2ae5-2208-1aca-394e-44a6",
       "next": "988b7466-c345-11e7-8310-0242ac120002-13-ef80-60d0-89a3-4cd2-8e03-dfa3-4d7d-e6f4-d087-8cee",
       "previous": "988b7362-c345-11e7-8310-0242ac120002-13-d452-b18c-3c03-505b-cd2e-3428-a3b2-e7c2-8535-28c1"
      },
      {
       "current": "5e585a8e-d0f0-11e8-a64b-02420aff0006-15-cd80-e252-2cdd-81a8-2ae5-2208-1aca-394e-44a6-485a",
       "next": "988b7466-c345-11e7-8310-0242ac120002-14-60d0-89a3-4cd2-8e03-dfa3-4d7d-e6f4-d087-8cee-5f38",
       "previous": "988b7362-c345-11e7-8310-0242ac120002-14-b18c-3c03-505b-cd2e-3428-a3b2-e7c2-8535-28c1-7b6d"
      },
      {
       "current": "5e585a8e-d0f0-11e8-a64b-02420aff0006-16-e252-2cdd-81a8-2ae5-2208-1aca-394e-44a6-485a-c8ff",
       "next": "988b7466-c345-11e7-8310-0242ac120002-15-89a3-4cd2-8e03-dfa3-4d7d-e6f4-d087-8cee-5f38-a3ba",
       "previous": "988b7362-c345-11e7-8310-0242ac120002-15-3c03-505b-cd2e-3428-a3b2-e7c2-8535-28c1-7b6d-8310"
      },
      {
       "current": "5e585a8e-d0f0-11e8-a64b-02420aff0006-17-2cdd-81a8-2ae5-2208-1aca-394e-44a6-485a-c8ff-e349",
       "next": "988b7466-c345-11e7-8310-0242ac120002-16-4cd2-8e03-dfa3-4d7d-e6f4-d087-8cee-5f38-a3ba-038c",
       "previous": "988b7362-c345-11e7-8310-0242ac120002-16-505b-cd2e-3428-a3b2-e7c2-8535-28c1-7b6d-8310-8ba0"
      },
      {
       "current": "5e585a8e-d0f0-11e8-a64b-02420aff0006-18-81a8-2ae5-2208-1aca-394e-44a6-485a-c8ff-e349-e2de",
       "next": "988b7466-c345-11e7-8310-0242ac120002-17-8e03-dfa3-4d7d-e6f4-d087-8cee-5f38-a3ba-038c-2c45",
       "previous": "988b7362-c345-11e7-8310-0242ac120002-17-cd2e-3428-a3b2-e7c2-8535-28c1-7b6d-8310-8ba0-5373"
      },
      {
       "current": "5e585a8e-d0f0-11e8-a64b-02420aff0006-19-2ae5-2208-1aca-394e-44a6-485a-c8ff-e349-e2de-f603",
       "next": "988b7466-c345-11e7-8310-0242ac120002-18-dfa3-4d7d-e6f4-d087-8cee-5f38-a3ba-038c-2c45-5d07",
       "previous": "988b7362-c345-11e7-8310-0242ac120002-18-3428-a3b2-e7c2-8535-28c1-7b6d-8310-8ba0-5373-8c0d"
      },
      {
       "current": "5e585a8e-d0f0-11e8-a64b-02420aff0006-20-2208-1aca-394e-44a6-485a-c8ff-e349-e2de-f603-d2bf",
       "next": "988b7466-c345-11e7-8310-0242ac120002-19-4d7d-e6f4-d087-8cee-5f38-a3ba-038c-2c45-5d07-c7f9",
       "previous": "988b7362-c345-11e7-8310-0242ac120002-19-a3b2-e7c2-8535-28c1-7b6d-8310-8ba0-5373-8c0d-b673"
      },
      {
       "current": "5e585a8e-d0f0-11e8-a64b-02420aff0006-21-1aca-394e-44a6-485a-c8ff-e349-e2de-f603-d2bf-2b9d",
       "next": "988b7466-c345-11e7-8310-0242ac120002-20-e6f4-d087-8cee-5f38-a3ba-038c-2c45-5d07-c7f9-7e2b",
       "previous": "988b7362-c345-11e7-8310-0242ac120002-20-e7c2-8535-28c1-7b6d-8310-8ba0-5373-8c0d-b673-ede9"
      }
     ],
     "next": "988b7466-c345-11e7-8310-0242ac120002-21-d087-8cee-5f38-a3ba-038c-2c45-5d07-c7f9-7e2b-0f66",
     "previous": "988b7362-c345-11e7-8310-0242ac120002-21-8535-28c1-7b6d-8310-8ba0-5373-8c0d-b673-ede9-5ab7"
    }
   },
   "outputs": [],
   "source": [
    "!ansible -b -m yum -a 'name=redhat-lsb' {target_group}"
   ]
  },
  {
   "cell_type": "code",
   "execution_count": null,
   "metadata": {
    "ExecuteTime": {
     "end_time": "2016-05-13T07:42:49.080256",
     "start_time": "2016-05-13T07:42:47.808150"
    },
    "lc_cell_meme": {
     "current": "988b7466-c345-11e7-8310-0242ac120002-21-d087-8cee-5f38-a3ba-038c-2c45-5d07-c7f9-7e2b-0f66",
     "history": [
      {
       "current": "988b7466-c345-11e7-8310-0242ac120002-14-60d0-89a3-4cd2-8e03-dfa3-4d7d-e6f4-d087-8cee-5f38",
       "next": "988b7790-c345-11e7-8310-0242ac120002-13-ed43-7471-67bb-454d-9ab2-c99f-189a-1136-23a9-f75a",
       "previous": "5e585a8e-d0f0-11e8-a64b-02420aff0006-13-f938-4750-cd80-e252-2cdd-81a8-2ae5-2208-1aca-394e"
      },
      {
       "current": "988b7466-c345-11e7-8310-0242ac120002-15-89a3-4cd2-8e03-dfa3-4d7d-e6f4-d087-8cee-5f38-a3ba",
       "next": "988b7790-c345-11e7-8310-0242ac120002-14-7471-67bb-454d-9ab2-c99f-189a-1136-23a9-f75a-d5d1",
       "previous": "5e585a8e-d0f0-11e8-a64b-02420aff0006-14-4750-cd80-e252-2cdd-81a8-2ae5-2208-1aca-394e-44a6"
      },
      {
       "current": "988b7466-c345-11e7-8310-0242ac120002-16-4cd2-8e03-dfa3-4d7d-e6f4-d087-8cee-5f38-a3ba-038c",
       "next": "988b7790-c345-11e7-8310-0242ac120002-15-67bb-454d-9ab2-c99f-189a-1136-23a9-f75a-d5d1-6d06",
       "previous": "5e585a8e-d0f0-11e8-a64b-02420aff0006-15-cd80-e252-2cdd-81a8-2ae5-2208-1aca-394e-44a6-485a"
      },
      {
       "current": "988b7466-c345-11e7-8310-0242ac120002-17-8e03-dfa3-4d7d-e6f4-d087-8cee-5f38-a3ba-038c-2c45",
       "next": "988b7790-c345-11e7-8310-0242ac120002-16-454d-9ab2-c99f-189a-1136-23a9-f75a-d5d1-6d06-d970",
       "previous": "5e585a8e-d0f0-11e8-a64b-02420aff0006-16-e252-2cdd-81a8-2ae5-2208-1aca-394e-44a6-485a-c8ff"
      },
      {
       "current": "988b7466-c345-11e7-8310-0242ac120002-18-dfa3-4d7d-e6f4-d087-8cee-5f38-a3ba-038c-2c45-5d07",
       "next": "988b7790-c345-11e7-8310-0242ac120002-17-9ab2-c99f-189a-1136-23a9-f75a-d5d1-6d06-d970-54c9",
       "previous": "5e585a8e-d0f0-11e8-a64b-02420aff0006-17-2cdd-81a8-2ae5-2208-1aca-394e-44a6-485a-c8ff-e349"
      },
      {
       "current": "988b7466-c345-11e7-8310-0242ac120002-19-4d7d-e6f4-d087-8cee-5f38-a3ba-038c-2c45-5d07-c7f9",
       "next": "988b7790-c345-11e7-8310-0242ac120002-18-c99f-189a-1136-23a9-f75a-d5d1-6d06-d970-54c9-097f",
       "previous": "5e585a8e-d0f0-11e8-a64b-02420aff0006-18-81a8-2ae5-2208-1aca-394e-44a6-485a-c8ff-e349-e2de"
      },
      {
       "current": "988b7466-c345-11e7-8310-0242ac120002-20-e6f4-d087-8cee-5f38-a3ba-038c-2c45-5d07-c7f9-7e2b",
       "next": "988b7790-c345-11e7-8310-0242ac120002-19-189a-1136-23a9-f75a-d5d1-6d06-d970-54c9-097f-1668",
       "previous": "5e585a8e-d0f0-11e8-a64b-02420aff0006-19-2ae5-2208-1aca-394e-44a6-485a-c8ff-e349-e2de-f603"
      },
      {
       "current": "988b7466-c345-11e7-8310-0242ac120002-20-e6f4-d087-8cee-5f38-a3ba-038c-2c45-5d07-c7f9-7e2b",
       "next": "988b7790-c345-11e7-8310-0242ac120002-19-189a-1136-23a9-f75a-d5d1-6d06-d970-54c9-097f-1668",
       "previous": "5e585a8e-d0f0-11e8-a64b-02420aff0006-20-2208-1aca-394e-44a6-485a-c8ff-e349-e2de-f603-d2bf"
      },
      {
       "current": "988b7466-c345-11e7-8310-0242ac120002-20-e6f4-d087-8cee-5f38-a3ba-038c-2c45-5d07-c7f9-7e2b",
       "next": "988b7bb4-c345-11e7-8310-0242ac120002-19-b3b3-c9ed-ce9e-3526-d661-bf8b-d61e-f654-ac23-ea5a",
       "previous": "5e585a8e-d0f0-11e8-a64b-02420aff0006-20-2208-1aca-394e-44a6-485a-c8ff-e349-e2de-f603-d2bf"
      },
      {
       "current": "988b7466-c345-11e7-8310-0242ac120002-21-d087-8cee-5f38-a3ba-038c-2c45-5d07-c7f9-7e2b-0f66",
       "next": "988b789e-c345-11e7-8310-0242ac120002-20-db46-21b7-4b8d-4202-40ef-0096-ceab-bc71-87b7-a0bb",
       "previous": "5e585a8e-d0f0-11e8-a64b-02420aff0006-20-2208-1aca-394e-44a6-485a-c8ff-e349-e2de-f603-d2bf"
      }
     ],
     "next": "988b789e-c345-11e7-8310-0242ac120002-21-21b7-4b8d-4202-40ef-0096-ceab-bc71-87b7-a0bb-a059",
     "previous": "5e585a8e-d0f0-11e8-a64b-02420aff0006-21-1aca-394e-44a6-485a-c8ff-e349-e2de-f603-d2bf-2b9d"
    },
    "scrolled": true
   },
   "outputs": [],
   "source": [
    "!ansible -a 'lsb_release -a' {target_group}"
   ]
  },
  {
   "cell_type": "code",
   "execution_count": null,
   "metadata": {
    "lc_cell_meme": {
     "current": "988b789e-c345-11e7-8310-0242ac120002-21-21b7-4b8d-4202-40ef-0096-ceab-bc71-87b7-a0bb-a059",
     "history": [
      {
       "current": "988b789e-c345-11e7-8310-0242ac120002-14-3038-7901-5261-e39c-bc20-843e-db46-21b7-4b8d-4202",
       "next": "988b7bb4-c345-11e7-8310-0242ac120002-13-067d-8fc3-ac0f-ff7f-86cc-b722-b3b3-c9ed-ce9e-3526",
       "previous": "988b7790-c345-11e7-8310-0242ac120002-13-ed43-7471-67bb-454d-9ab2-c99f-189a-1136-23a9-f75a"
      },
      {
       "current": "988b789e-c345-11e7-8310-0242ac120002-15-7901-5261-e39c-bc20-843e-db46-21b7-4b8d-4202-40ef",
       "next": "988b7bb4-c345-11e7-8310-0242ac120002-14-8fc3-ac0f-ff7f-86cc-b722-b3b3-c9ed-ce9e-3526-d661",
       "previous": "988b7790-c345-11e7-8310-0242ac120002-14-7471-67bb-454d-9ab2-c99f-189a-1136-23a9-f75a-d5d1"
      },
      {
       "current": "988b789e-c345-11e7-8310-0242ac120002-16-5261-e39c-bc20-843e-db46-21b7-4b8d-4202-40ef-0096",
       "next": "988b7bb4-c345-11e7-8310-0242ac120002-15-ac0f-ff7f-86cc-b722-b3b3-c9ed-ce9e-3526-d661-bf8b",
       "previous": "988b7790-c345-11e7-8310-0242ac120002-15-67bb-454d-9ab2-c99f-189a-1136-23a9-f75a-d5d1-6d06"
      },
      {
       "current": "988b789e-c345-11e7-8310-0242ac120002-17-e39c-bc20-843e-db46-21b7-4b8d-4202-40ef-0096-ceab",
       "next": "988b7bb4-c345-11e7-8310-0242ac120002-16-ff7f-86cc-b722-b3b3-c9ed-ce9e-3526-d661-bf8b-d61e",
       "previous": "988b7790-c345-11e7-8310-0242ac120002-16-454d-9ab2-c99f-189a-1136-23a9-f75a-d5d1-6d06-d970"
      },
      {
       "current": "988b789e-c345-11e7-8310-0242ac120002-18-bc20-843e-db46-21b7-4b8d-4202-40ef-0096-ceab-bc71",
       "next": "988b7bb4-c345-11e7-8310-0242ac120002-17-86cc-b722-b3b3-c9ed-ce9e-3526-d661-bf8b-d61e-f654",
       "previous": "988b7790-c345-11e7-8310-0242ac120002-17-9ab2-c99f-189a-1136-23a9-f75a-d5d1-6d06-d970-54c9"
      },
      {
       "current": "988b789e-c345-11e7-8310-0242ac120002-19-843e-db46-21b7-4b8d-4202-40ef-0096-ceab-bc71-87b7",
       "next": "988b7bb4-c345-11e7-8310-0242ac120002-18-b722-b3b3-c9ed-ce9e-3526-d661-bf8b-d61e-f654-ac23",
       "previous": "988b7790-c345-11e7-8310-0242ac120002-18-c99f-189a-1136-23a9-f75a-d5d1-6d06-d970-54c9-097f"
      },
      {
       "current": "988b789e-c345-11e7-8310-0242ac120002-20-db46-21b7-4b8d-4202-40ef-0096-ceab-bc71-87b7-a0bb",
       "next": "988b7bb4-c345-11e7-8310-0242ac120002-19-b3b3-c9ed-ce9e-3526-d661-bf8b-d61e-f654-ac23-ea5a",
       "previous": "988b7790-c345-11e7-8310-0242ac120002-19-189a-1136-23a9-f75a-d5d1-6d06-d970-54c9-097f-1668"
      },
      {
       "current": "988b789e-c345-11e7-8310-0242ac120002-21-21b7-4b8d-4202-40ef-0096-ceab-bc71-87b7-a0bb-a059",
       "next": "988b7bb4-c345-11e7-8310-0242ac120002-19-b3b3-c9ed-ce9e-3526-d661-bf8b-d61e-f654-ac23-ea5a",
       "previous": "988b7466-c345-11e7-8310-0242ac120002-20-e6f4-d087-8cee-5f38-a3ba-038c-2c45-5d07-c7f9-7e2b"
      }
     ],
     "next": "988b7bb4-c345-11e7-8310-0242ac120002-20-c9ed-ce9e-3526-d661-bf8b-d61e-f654-ac23-ea5a-0093",
     "previous": "988b7466-c345-11e7-8310-0242ac120002-21-d087-8cee-5f38-a3ba-038c-2c45-5d07-c7f9-7e2b-0f66"
    },
    "scrolled": true
   },
   "outputs": [],
   "source": [
    "!ansible -b -m yum -a 'name=docker,docker-client,docker-client-latest,docker-common,docker-latest,docker-latest-logrotate,docker-logrotate,docker-selinux,docker-engine-selinux,docker-engine state=absent' {target_group}"
   ]
  },
  {
   "cell_type": "markdown",
   "metadata": {
    "lc_cell_meme": {
     "current": "988b7bb4-c345-11e7-8310-0242ac120002-20-c9ed-ce9e-3526-d661-bf8b-d61e-f654-ac23-ea5a-0093",
     "history": [
      {
       "current": "988b7bb4-c345-11e7-8310-0242ac120002-14-8fc3-ac0f-ff7f-86cc-b722-b3b3-c9ed-ce9e-3526-d661",
       "next": "1c50d950-db26-11e8-a64b-02420aff0006-13-6927-e746-f437-784e-752e-488d-045d-7b4e-c41b-7d4e",
       "previous": "988b789e-c345-11e7-8310-0242ac120002-13-e0db-3038-7901-5261-e39c-bc20-843e-db46-21b7-4b8d"
      },
      {
       "current": "988b7bb4-c345-11e7-8310-0242ac120002-15-ac0f-ff7f-86cc-b722-b3b3-c9ed-ce9e-3526-d661-bf8b",
       "next": "1c50d950-db26-11e8-a64b-02420aff0006-14-e746-f437-784e-752e-488d-045d-7b4e-c41b-7d4e-47ac",
       "previous": "988b789e-c345-11e7-8310-0242ac120002-14-3038-7901-5261-e39c-bc20-843e-db46-21b7-4b8d-4202"
      },
      {
       "current": "988b7bb4-c345-11e7-8310-0242ac120002-16-ff7f-86cc-b722-b3b3-c9ed-ce9e-3526-d661-bf8b-d61e",
       "next": "1c50d950-db26-11e8-a64b-02420aff0006-15-f437-784e-752e-488d-045d-7b4e-c41b-7d4e-47ac-e0fb",
       "previous": "988b789e-c345-11e7-8310-0242ac120002-15-7901-5261-e39c-bc20-843e-db46-21b7-4b8d-4202-40ef"
      },
      {
       "current": "988b7bb4-c345-11e7-8310-0242ac120002-17-86cc-b722-b3b3-c9ed-ce9e-3526-d661-bf8b-d61e-f654",
       "next": "1c50d950-db26-11e8-a64b-02420aff0006-16-784e-752e-488d-045d-7b4e-c41b-7d4e-47ac-e0fb-2eda",
       "previous": "988b789e-c345-11e7-8310-0242ac120002-16-5261-e39c-bc20-843e-db46-21b7-4b8d-4202-40ef-0096"
      },
      {
       "current": "988b7bb4-c345-11e7-8310-0242ac120002-18-b722-b3b3-c9ed-ce9e-3526-d661-bf8b-d61e-f654-ac23",
       "next": "1c50d950-db26-11e8-a64b-02420aff0006-17-752e-488d-045d-7b4e-c41b-7d4e-47ac-e0fb-2eda-5694",
       "previous": "988b789e-c345-11e7-8310-0242ac120002-17-e39c-bc20-843e-db46-21b7-4b8d-4202-40ef-0096-ceab"
      },
      {
       "current": "988b7bb4-c345-11e7-8310-0242ac120002-19-b3b3-c9ed-ce9e-3526-d661-bf8b-d61e-f654-ac23-ea5a",
       "next": "1c50d950-db26-11e8-a64b-02420aff0006-18-488d-045d-7b4e-c41b-7d4e-47ac-e0fb-2eda-5694-f3b4",
       "previous": "988b789e-c345-11e7-8310-0242ac120002-18-bc20-843e-db46-21b7-4b8d-4202-40ef-0096-ceab-bc71"
      },
      {
       "current": "988b7bb4-c345-11e7-8310-0242ac120002-19-b3b3-c9ed-ce9e-3526-d661-bf8b-d61e-f654-ac23-ea5a",
       "next": "1c50d950-db26-11e8-a64b-02420aff0006-19-045d-7b4e-c41b-7d4e-47ac-e0fb-2eda-5694-f3b4-2019",
       "previous": "988b789e-c345-11e7-8310-0242ac120002-19-843e-db46-21b7-4b8d-4202-40ef-0096-ceab-bc71-87b7"
      },
      {
       "current": "988b7bb4-c345-11e7-8310-0242ac120002-19-b3b3-c9ed-ce9e-3526-d661-bf8b-d61e-f654-ac23-ea5a",
       "next": "1c50d950-db26-11e8-a64b-02420aff0006-19-045d-7b4e-c41b-7d4e-47ac-e0fb-2eda-5694-f3b4-2019",
       "previous": "988b7466-c345-11e7-8310-0242ac120002-20-e6f4-d087-8cee-5f38-a3ba-038c-2c45-5d07-c7f9-7e2b"
      },
      {
       "current": "988b7bb4-c345-11e7-8310-0242ac120002-20-c9ed-ce9e-3526-d661-bf8b-d61e-f654-ac23-ea5a-0093",
       "next": "1c50d950-db26-11e8-a64b-02420aff0006-19-045d-7b4e-c41b-7d4e-47ac-e0fb-2eda-5694-f3b4-2019",
       "previous": "988b789e-c345-11e7-8310-0242ac120002-20-db46-21b7-4b8d-4202-40ef-0096-ceab-bc71-87b7-a0bb"
      }
     ],
     "next": "1c50d950-db26-11e8-a64b-02420aff0006-20-7b4e-c41b-7d4e-47ac-e0fb-2eda-5694-f3b4-2019-bd21",
     "previous": "988b789e-c345-11e7-8310-0242ac120002-21-21b7-4b8d-4202-40ef-0096-ceab-bc71-87b7-a0bb-a059"
    }
   },
   "source": [
    "# Docker Engineのインストール\n",
    "\n",
    "Bind対象にDocker Engineをインストールする。"
   ]
  },
  {
   "cell_type": "markdown",
   "metadata": {
    "lc_cell_meme": {
     "current": "1c50d950-db26-11e8-a64b-02420aff0006-20-7b4e-c41b-7d4e-47ac-e0fb-2eda-5694-f3b4-2019-bd21",
     "history": [
      {
       "current": "1c50d950-db26-11e8-a64b-02420aff0006-14-e746-f437-784e-752e-488d-045d-7b4e-c41b-7d4e-47ac",
       "next": "1c50daea-db26-11e8-a64b-02420aff0006-13-462a-c2fd-2947-c731-018b-0d38-1a21-c9cc-2ce1-1105",
       "previous": "988b7bb4-c345-11e7-8310-0242ac120002-13-067d-8fc3-ac0f-ff7f-86cc-b722-b3b3-c9ed-ce9e-3526"
      },
      {
       "current": "1c50d950-db26-11e8-a64b-02420aff0006-15-f437-784e-752e-488d-045d-7b4e-c41b-7d4e-47ac-e0fb",
       "next": "1c50daea-db26-11e8-a64b-02420aff0006-14-c2fd-2947-c731-018b-0d38-1a21-c9cc-2ce1-1105-4198",
       "previous": "988b7bb4-c345-11e7-8310-0242ac120002-14-8fc3-ac0f-ff7f-86cc-b722-b3b3-c9ed-ce9e-3526-d661"
      },
      {
       "current": "1c50d950-db26-11e8-a64b-02420aff0006-16-784e-752e-488d-045d-7b4e-c41b-7d4e-47ac-e0fb-2eda",
       "next": "1c50daea-db26-11e8-a64b-02420aff0006-15-2947-c731-018b-0d38-1a21-c9cc-2ce1-1105-4198-57d3",
       "previous": "988b7bb4-c345-11e7-8310-0242ac120002-15-ac0f-ff7f-86cc-b722-b3b3-c9ed-ce9e-3526-d661-bf8b"
      },
      {
       "current": "1c50d950-db26-11e8-a64b-02420aff0006-17-752e-488d-045d-7b4e-c41b-7d4e-47ac-e0fb-2eda-5694",
       "next": "1c50daea-db26-11e8-a64b-02420aff0006-16-c731-018b-0d38-1a21-c9cc-2ce1-1105-4198-57d3-04ac",
       "previous": "988b7bb4-c345-11e7-8310-0242ac120002-16-ff7f-86cc-b722-b3b3-c9ed-ce9e-3526-d661-bf8b-d61e"
      },
      {
       "current": "1c50d950-db26-11e8-a64b-02420aff0006-18-488d-045d-7b4e-c41b-7d4e-47ac-e0fb-2eda-5694-f3b4",
       "next": "1c50daea-db26-11e8-a64b-02420aff0006-17-018b-0d38-1a21-c9cc-2ce1-1105-4198-57d3-04ac-050c",
       "previous": "988b7bb4-c345-11e7-8310-0242ac120002-17-86cc-b722-b3b3-c9ed-ce9e-3526-d661-bf8b-d61e-f654"
      },
      {
       "current": "1c50d950-db26-11e8-a64b-02420aff0006-19-045d-7b4e-c41b-7d4e-47ac-e0fb-2eda-5694-f3b4-2019",
       "next": "1c50daea-db26-11e8-a64b-02420aff0006-18-0d38-1a21-c9cc-2ce1-1105-4198-57d3-04ac-050c-0531",
       "previous": "988b7bb4-c345-11e7-8310-0242ac120002-18-b722-b3b3-c9ed-ce9e-3526-d661-bf8b-d61e-f654-ac23"
      },
      {
       "current": "1c50d950-db26-11e8-a64b-02420aff0006-20-7b4e-c41b-7d4e-47ac-e0fb-2eda-5694-f3b4-2019-bd21",
       "next": "1c50daea-db26-11e8-a64b-02420aff0006-19-1a21-c9cc-2ce1-1105-4198-57d3-04ac-050c-0531-5e33",
       "previous": "988b7bb4-c345-11e7-8310-0242ac120002-19-b3b3-c9ed-ce9e-3526-d661-bf8b-d61e-f654-ac23-ea5a"
      }
     ],
     "next": "1c50daea-db26-11e8-a64b-02420aff0006-20-c9cc-2ce1-1105-4198-57d3-04ac-050c-0531-5e33-4352",
     "previous": "988b7bb4-c345-11e7-8310-0242ac120002-20-c9ed-ce9e-3526-d661-bf8b-d61e-f654-ac23-ea5a-0093"
    }
   },
   "source": [
    "## リポジトリの設定"
   ]
  },
  {
   "cell_type": "code",
   "execution_count": null,
   "metadata": {
    "lc_cell_meme": {
     "current": "1c50daea-db26-11e8-a64b-02420aff0006-20-c9cc-2ce1-1105-4198-57d3-04ac-050c-0531-5e33-4352",
     "history": [
      {
       "current": "1c50daea-db26-11e8-a64b-02420aff0006-14-c2fd-2947-c731-018b-0d38-1a21-c9cc-2ce1-1105-4198",
       "next": "1c50db9e-db26-11e8-a64b-02420aff0006-13-6043-04e5-1b8f-c422-721c-b5ce-cc77-c60a-32e0-c571",
       "previous": "1c50d950-db26-11e8-a64b-02420aff0006-13-6927-e746-f437-784e-752e-488d-045d-7b4e-c41b-7d4e"
      },
      {
       "current": "1c50daea-db26-11e8-a64b-02420aff0006-15-2947-c731-018b-0d38-1a21-c9cc-2ce1-1105-4198-57d3",
       "next": "1c50db9e-db26-11e8-a64b-02420aff0006-14-04e5-1b8f-c422-721c-b5ce-cc77-c60a-32e0-c571-3b01",
       "previous": "1c50d950-db26-11e8-a64b-02420aff0006-14-e746-f437-784e-752e-488d-045d-7b4e-c41b-7d4e-47ac"
      },
      {
       "current": "1c50daea-db26-11e8-a64b-02420aff0006-16-c731-018b-0d38-1a21-c9cc-2ce1-1105-4198-57d3-04ac",
       "next": "1c50db9e-db26-11e8-a64b-02420aff0006-15-1b8f-c422-721c-b5ce-cc77-c60a-32e0-c571-3b01-67b6",
       "previous": "1c50d950-db26-11e8-a64b-02420aff0006-15-f437-784e-752e-488d-045d-7b4e-c41b-7d4e-47ac-e0fb"
      },
      {
       "current": "1c50daea-db26-11e8-a64b-02420aff0006-17-018b-0d38-1a21-c9cc-2ce1-1105-4198-57d3-04ac-050c",
       "next": "1c50db9e-db26-11e8-a64b-02420aff0006-16-c422-721c-b5ce-cc77-c60a-32e0-c571-3b01-67b6-e417",
       "previous": "1c50d950-db26-11e8-a64b-02420aff0006-16-784e-752e-488d-045d-7b4e-c41b-7d4e-47ac-e0fb-2eda"
      },
      {
       "current": "1c50daea-db26-11e8-a64b-02420aff0006-18-0d38-1a21-c9cc-2ce1-1105-4198-57d3-04ac-050c-0531",
       "next": "1c50db9e-db26-11e8-a64b-02420aff0006-17-721c-b5ce-cc77-c60a-32e0-c571-3b01-67b6-e417-51ba",
       "previous": "1c50d950-db26-11e8-a64b-02420aff0006-17-752e-488d-045d-7b4e-c41b-7d4e-47ac-e0fb-2eda-5694"
      },
      {
       "current": "1c50daea-db26-11e8-a64b-02420aff0006-19-1a21-c9cc-2ce1-1105-4198-57d3-04ac-050c-0531-5e33",
       "next": "1c50db9e-db26-11e8-a64b-02420aff0006-18-b5ce-cc77-c60a-32e0-c571-3b01-67b6-e417-51ba-a21f",
       "previous": "1c50d950-db26-11e8-a64b-02420aff0006-18-488d-045d-7b4e-c41b-7d4e-47ac-e0fb-2eda-5694-f3b4"
      },
      {
       "current": "1c50daea-db26-11e8-a64b-02420aff0006-20-c9cc-2ce1-1105-4198-57d3-04ac-050c-0531-5e33-4352",
       "next": "1c50db9e-db26-11e8-a64b-02420aff0006-19-cc77-c60a-32e0-c571-3b01-67b6-e417-51ba-a21f-5102",
       "previous": "1c50d950-db26-11e8-a64b-02420aff0006-19-045d-7b4e-c41b-7d4e-47ac-e0fb-2eda-5694-f3b4-2019"
      }
     ],
     "next": "1c50db9e-db26-11e8-a64b-02420aff0006-20-c60a-32e0-c571-3b01-67b6-e417-51ba-a21f-5102-a157",
     "previous": "1c50d950-db26-11e8-a64b-02420aff0006-20-7b4e-c41b-7d4e-47ac-e0fb-2eda-5694-f3b4-2019-bd21"
    },
    "scrolled": true
   },
   "outputs": [],
   "source": [
    "!ansible -b -m yum -a 'name=yum-utils,device-mapper-persistent-data,lvm2' {target_group}"
   ]
  },
  {
   "cell_type": "code",
   "execution_count": null,
   "metadata": {
    "lc_cell_meme": {
     "current": "1c50db9e-db26-11e8-a64b-02420aff0006-20-c60a-32e0-c571-3b01-67b6-e417-51ba-a21f-5102-a157",
     "history": [
      {
       "current": "1c50db9e-db26-11e8-a64b-02420aff0006-14-04e5-1b8f-c422-721c-b5ce-cc77-c60a-32e0-c571-3b01",
       "next": "988b8726-c345-11e7-8310-0242ac120002-13-5769-adb9-a234-35e3-7b37-1d0c-370a-6c17-da78-c66e",
       "previous": "1c50daea-db26-11e8-a64b-02420aff0006-13-462a-c2fd-2947-c731-018b-0d38-1a21-c9cc-2ce1-1105"
      },
      {
       "current": "1c50db9e-db26-11e8-a64b-02420aff0006-15-1b8f-c422-721c-b5ce-cc77-c60a-32e0-c571-3b01-67b6",
       "next": "988b8726-c345-11e7-8310-0242ac120002-14-adb9-a234-35e3-7b37-1d0c-370a-6c17-da78-c66e-0373",
       "previous": "1c50daea-db26-11e8-a64b-02420aff0006-14-c2fd-2947-c731-018b-0d38-1a21-c9cc-2ce1-1105-4198"
      },
      {
       "current": "1c50db9e-db26-11e8-a64b-02420aff0006-16-c422-721c-b5ce-cc77-c60a-32e0-c571-3b01-67b6-e417",
       "next": "988b8726-c345-11e7-8310-0242ac120002-15-a234-35e3-7b37-1d0c-370a-6c17-da78-c66e-0373-d984",
       "previous": "1c50daea-db26-11e8-a64b-02420aff0006-15-2947-c731-018b-0d38-1a21-c9cc-2ce1-1105-4198-57d3"
      },
      {
       "current": "1c50db9e-db26-11e8-a64b-02420aff0006-17-721c-b5ce-cc77-c60a-32e0-c571-3b01-67b6-e417-51ba",
       "next": "988b8726-c345-11e7-8310-0242ac120002-16-35e3-7b37-1d0c-370a-6c17-da78-c66e-0373-d984-b498",
       "previous": "1c50daea-db26-11e8-a64b-02420aff0006-16-c731-018b-0d38-1a21-c9cc-2ce1-1105-4198-57d3-04ac"
      },
      {
       "current": "1c50db9e-db26-11e8-a64b-02420aff0006-18-b5ce-cc77-c60a-32e0-c571-3b01-67b6-e417-51ba-a21f",
       "next": "988b8726-c345-11e7-8310-0242ac120002-17-7b37-1d0c-370a-6c17-da78-c66e-0373-d984-b498-e2c7",
       "previous": "1c50daea-db26-11e8-a64b-02420aff0006-17-018b-0d38-1a21-c9cc-2ce1-1105-4198-57d3-04ac-050c"
      },
      {
       "current": "1c50db9e-db26-11e8-a64b-02420aff0006-19-cc77-c60a-32e0-c571-3b01-67b6-e417-51ba-a21f-5102",
       "next": "988b8726-c345-11e7-8310-0242ac120002-18-1d0c-370a-6c17-da78-c66e-0373-d984-b498-e2c7-3275",
       "previous": "1c50daea-db26-11e8-a64b-02420aff0006-18-0d38-1a21-c9cc-2ce1-1105-4198-57d3-04ac-050c-0531"
      },
      {
       "current": "1c50db9e-db26-11e8-a64b-02420aff0006-20-c60a-32e0-c571-3b01-67b6-e417-51ba-a21f-5102-a157",
       "next": "988b8726-c345-11e7-8310-0242ac120002-19-370a-6c17-da78-c66e-0373-d984-b498-e2c7-3275-2690",
       "previous": "1c50daea-db26-11e8-a64b-02420aff0006-19-1a21-c9cc-2ce1-1105-4198-57d3-04ac-050c-0531-5e33"
      }
     ],
     "next": "988b8726-c345-11e7-8310-0242ac120002-20-6c17-da78-c66e-0373-d984-b498-e2c7-3275-2690-dabc",
     "previous": "1c50daea-db26-11e8-a64b-02420aff0006-20-c9cc-2ce1-1105-4198-57d3-04ac-050c-0531-5e33-4352"
    }
   },
   "outputs": [],
   "source": [
    "!ansible -b -a 'yum-config-manager --add-repo https://download.docker.com/linux/centos/docker-ce.repo' {target_group}"
   ]
  },
  {
   "cell_type": "markdown",
   "metadata": {
    "lc_cell_meme": {
     "current": "988b8726-c345-11e7-8310-0242ac120002-20-6c17-da78-c66e-0373-d984-b498-e2c7-3275-2690-dabc",
     "history": [
      {
       "current": "988b8726-c345-11e7-8310-0242ac120002-14-adb9-a234-35e3-7b37-1d0c-370a-6c17-da78-c66e-0373",
       "next": "988b8834-c345-11e7-8310-0242ac120002-13-90b4-50a3-48be-f415-b539-8308-c12a-12c8-6103-2872",
       "previous": "1c50db9e-db26-11e8-a64b-02420aff0006-13-6043-04e5-1b8f-c422-721c-b5ce-cc77-c60a-32e0-c571"
      },
      {
       "current": "988b8726-c345-11e7-8310-0242ac120002-15-a234-35e3-7b37-1d0c-370a-6c17-da78-c66e-0373-d984",
       "next": "988b8834-c345-11e7-8310-0242ac120002-14-50a3-48be-f415-b539-8308-c12a-12c8-6103-2872-811a",
       "previous": "1c50db9e-db26-11e8-a64b-02420aff0006-14-04e5-1b8f-c422-721c-b5ce-cc77-c60a-32e0-c571-3b01"
      },
      {
       "current": "988b8726-c345-11e7-8310-0242ac120002-16-35e3-7b37-1d0c-370a-6c17-da78-c66e-0373-d984-b498",
       "next": "988b8834-c345-11e7-8310-0242ac120002-15-48be-f415-b539-8308-c12a-12c8-6103-2872-811a-2757",
       "previous": "1c50db9e-db26-11e8-a64b-02420aff0006-15-1b8f-c422-721c-b5ce-cc77-c60a-32e0-c571-3b01-67b6"
      },
      {
       "current": "988b8726-c345-11e7-8310-0242ac120002-17-7b37-1d0c-370a-6c17-da78-c66e-0373-d984-b498-e2c7",
       "next": "988b8834-c345-11e7-8310-0242ac120002-16-f415-b539-8308-c12a-12c8-6103-2872-811a-2757-b548",
       "previous": "1c50db9e-db26-11e8-a64b-02420aff0006-16-c422-721c-b5ce-cc77-c60a-32e0-c571-3b01-67b6-e417"
      },
      {
       "current": "988b8726-c345-11e7-8310-0242ac120002-18-1d0c-370a-6c17-da78-c66e-0373-d984-b498-e2c7-3275",
       "next": "988b8834-c345-11e7-8310-0242ac120002-17-b539-8308-c12a-12c8-6103-2872-811a-2757-b548-8be4",
       "previous": "1c50db9e-db26-11e8-a64b-02420aff0006-17-721c-b5ce-cc77-c60a-32e0-c571-3b01-67b6-e417-51ba"
      },
      {
       "current": "988b8726-c345-11e7-8310-0242ac120002-19-370a-6c17-da78-c66e-0373-d984-b498-e2c7-3275-2690",
       "next": "988b8834-c345-11e7-8310-0242ac120002-18-8308-c12a-12c8-6103-2872-811a-2757-b548-8be4-7774",
       "previous": "1c50db9e-db26-11e8-a64b-02420aff0006-18-b5ce-cc77-c60a-32e0-c571-3b01-67b6-e417-51ba-a21f"
      },
      {
       "current": "988b8726-c345-11e7-8310-0242ac120002-20-6c17-da78-c66e-0373-d984-b498-e2c7-3275-2690-dabc",
       "next": "988b8834-c345-11e7-8310-0242ac120002-19-c12a-12c8-6103-2872-811a-2757-b548-8be4-7774-c6f3",
       "previous": "1c50db9e-db26-11e8-a64b-02420aff0006-19-cc77-c60a-32e0-c571-3b01-67b6-e417-51ba-a21f-5102"
      }
     ],
     "next": "988b8834-c345-11e7-8310-0242ac120002-20-12c8-6103-2872-811a-2757-b548-8be4-7774-c6f3-94f5",
     "previous": "1c50db9e-db26-11e8-a64b-02420aff0006-20-c60a-32e0-c571-3b01-67b6-e417-51ba-a21f-5102-a157"
    }
   },
   "source": [
    "## パッケージのインストール\n",
    "\n",
    "`docker-ce` パッケージをインストールする。"
   ]
  },
  {
   "cell_type": "code",
   "execution_count": null,
   "metadata": {
    "ExecuteTime": {
     "end_time": "2016-05-13T07:43:48.131696",
     "start_time": "2016-05-13T07:43:29.201543"
    },
    "lc_cell_meme": {
     "current": "988b8834-c345-11e7-8310-0242ac120002-20-12c8-6103-2872-811a-2757-b548-8be4-7774-c6f3-94f5",
     "history": [
      {
       "current": "988b8834-c345-11e7-8310-0242ac120002-14-50a3-48be-f415-b539-8308-c12a-12c8-6103-2872-811a",
       "next": "988b8938-c345-11e7-8310-0242ac120002-13-0afe-4100-d62d-061e-c527-d1dc-e767-c104-a073-b475",
       "previous": "988b8726-c345-11e7-8310-0242ac120002-13-5769-adb9-a234-35e3-7b37-1d0c-370a-6c17-da78-c66e"
      },
      {
       "current": "988b8834-c345-11e7-8310-0242ac120002-15-48be-f415-b539-8308-c12a-12c8-6103-2872-811a-2757",
       "next": "988b8938-c345-11e7-8310-0242ac120002-14-4100-d62d-061e-c527-d1dc-e767-c104-a073-b475-12db",
       "previous": "988b8726-c345-11e7-8310-0242ac120002-14-adb9-a234-35e3-7b37-1d0c-370a-6c17-da78-c66e-0373"
      },
      {
       "current": "988b8834-c345-11e7-8310-0242ac120002-16-f415-b539-8308-c12a-12c8-6103-2872-811a-2757-b548",
       "next": "988b8938-c345-11e7-8310-0242ac120002-15-d62d-061e-c527-d1dc-e767-c104-a073-b475-12db-770c",
       "previous": "988b8726-c345-11e7-8310-0242ac120002-15-a234-35e3-7b37-1d0c-370a-6c17-da78-c66e-0373-d984"
      },
      {
       "current": "988b8834-c345-11e7-8310-0242ac120002-17-b539-8308-c12a-12c8-6103-2872-811a-2757-b548-8be4",
       "next": "988b8938-c345-11e7-8310-0242ac120002-16-061e-c527-d1dc-e767-c104-a073-b475-12db-770c-01a5",
       "previous": "988b8726-c345-11e7-8310-0242ac120002-16-35e3-7b37-1d0c-370a-6c17-da78-c66e-0373-d984-b498"
      },
      {
       "current": "988b8834-c345-11e7-8310-0242ac120002-18-8308-c12a-12c8-6103-2872-811a-2757-b548-8be4-7774",
       "next": "988b8938-c345-11e7-8310-0242ac120002-17-c527-d1dc-e767-c104-a073-b475-12db-770c-01a5-7a68",
       "previous": "988b8726-c345-11e7-8310-0242ac120002-17-7b37-1d0c-370a-6c17-da78-c66e-0373-d984-b498-e2c7"
      },
      {
       "current": "988b8834-c345-11e7-8310-0242ac120002-19-c12a-12c8-6103-2872-811a-2757-b548-8be4-7774-c6f3",
       "next": "988b8938-c345-11e7-8310-0242ac120002-18-d1dc-e767-c104-a073-b475-12db-770c-01a5-7a68-dcfe",
       "previous": "988b8726-c345-11e7-8310-0242ac120002-18-1d0c-370a-6c17-da78-c66e-0373-d984-b498-e2c7-3275"
      },
      {
       "current": "988b8834-c345-11e7-8310-0242ac120002-20-12c8-6103-2872-811a-2757-b548-8be4-7774-c6f3-94f5",
       "next": "988b8938-c345-11e7-8310-0242ac120002-19-e767-c104-a073-b475-12db-770c-01a5-7a68-dcfe-9c79",
       "previous": "988b8726-c345-11e7-8310-0242ac120002-19-370a-6c17-da78-c66e-0373-d984-b498-e2c7-3275-2690"
      }
     ],
     "next": "988b8938-c345-11e7-8310-0242ac120002-20-c104-a073-b475-12db-770c-01a5-7a68-dcfe-9c79-b2cc",
     "previous": "988b8726-c345-11e7-8310-0242ac120002-20-6c17-da78-c66e-0373-d984-b498-e2c7-3275-2690-dabc"
    },
    "scrolled": true
   },
   "outputs": [],
   "source": [
    "!ansible -b -m yum -a 'name=docker-ce,docker-ce-cli,docker-compose-plugin' {target_group}"
   ]
  },
  {
   "cell_type": "markdown",
   "metadata": {
    "lc_cell_meme": {
     "current": "988b8938-c345-11e7-8310-0242ac120002-20-c104-a073-b475-12db-770c-01a5-7a68-dcfe-9c79-b2cc",
     "history": [
      {
       "current": "988b8938-c345-11e7-8310-0242ac120002-14-4100-d62d-061e-c527-d1dc-e767-c104-a073-b475-12db",
       "next": "988b8b4a-c345-11e7-8310-0242ac120002-13-ed0d-7b4e-c50f-f765-2402-bfbe-8808-ecde-4557-4b00",
       "previous": "988b8834-c345-11e7-8310-0242ac120002-13-90b4-50a3-48be-f415-b539-8308-c12a-12c8-6103-2872"
      },
      {
       "current": "988b8938-c345-11e7-8310-0242ac120002-15-d62d-061e-c527-d1dc-e767-c104-a073-b475-12db-770c",
       "next": "988b8b4a-c345-11e7-8310-0242ac120002-14-7b4e-c50f-f765-2402-bfbe-8808-ecde-4557-4b00-10e7",
       "previous": "988b8834-c345-11e7-8310-0242ac120002-14-50a3-48be-f415-b539-8308-c12a-12c8-6103-2872-811a"
      },
      {
       "current": "988b8938-c345-11e7-8310-0242ac120002-16-061e-c527-d1dc-e767-c104-a073-b475-12db-770c-01a5",
       "next": "988b8b4a-c345-11e7-8310-0242ac120002-15-c50f-f765-2402-bfbe-8808-ecde-4557-4b00-10e7-3109",
       "previous": "988b8834-c345-11e7-8310-0242ac120002-15-48be-f415-b539-8308-c12a-12c8-6103-2872-811a-2757"
      },
      {
       "current": "988b8938-c345-11e7-8310-0242ac120002-17-c527-d1dc-e767-c104-a073-b475-12db-770c-01a5-7a68",
       "next": "988b8b4a-c345-11e7-8310-0242ac120002-16-f765-2402-bfbe-8808-ecde-4557-4b00-10e7-3109-78ea",
       "previous": "988b8834-c345-11e7-8310-0242ac120002-16-f415-b539-8308-c12a-12c8-6103-2872-811a-2757-b548"
      },
      {
       "current": "988b8938-c345-11e7-8310-0242ac120002-18-d1dc-e767-c104-a073-b475-12db-770c-01a5-7a68-dcfe",
       "next": "988b8b4a-c345-11e7-8310-0242ac120002-17-2402-bfbe-8808-ecde-4557-4b00-10e7-3109-78ea-4817",
       "previous": "988b8834-c345-11e7-8310-0242ac120002-17-b539-8308-c12a-12c8-6103-2872-811a-2757-b548-8be4"
      },
      {
       "current": "988b8938-c345-11e7-8310-0242ac120002-19-e767-c104-a073-b475-12db-770c-01a5-7a68-dcfe-9c79",
       "next": "988b8b4a-c345-11e7-8310-0242ac120002-18-bfbe-8808-ecde-4557-4b00-10e7-3109-78ea-4817-d7d5",
       "previous": "988b8834-c345-11e7-8310-0242ac120002-18-8308-c12a-12c8-6103-2872-811a-2757-b548-8be4-7774"
      },
      {
       "current": "988b8938-c345-11e7-8310-0242ac120002-20-c104-a073-b475-12db-770c-01a5-7a68-dcfe-9c79-b2cc",
       "next": "988b8b4a-c345-11e7-8310-0242ac120002-19-8808-ecde-4557-4b00-10e7-3109-78ea-4817-d7d5-42f6",
       "previous": "988b8834-c345-11e7-8310-0242ac120002-19-c12a-12c8-6103-2872-811a-2757-b548-8be4-7774-c6f3"
      }
     ],
     "next": "988b8b4a-c345-11e7-8310-0242ac120002-20-ecde-4557-4b00-10e7-3109-78ea-4817-d7d5-42f6-8950",
     "previous": "988b8834-c345-11e7-8310-0242ac120002-20-12c8-6103-2872-811a-2757-b548-8be4-7774-c6f3-94f5"
    }
   },
   "source": [
    "## Docker Engineの設定変更\n",
    "\n",
    "あらかじめ定義した設定情報にしたがい、Docker Engineに与えるDefault Configを指定する。"
   ]
  },
  {
   "cell_type": "code",
   "execution_count": null,
   "metadata": {
    "lc_cell_meme": {
     "current": "988b8b4a-c345-11e7-8310-0242ac120002-20-ecde-4557-4b00-10e7-3109-78ea-4817-d7d5-42f6-8950",
     "history": [
      {
       "current": "988b8b4a-c345-11e7-8310-0242ac120002-14-7b4e-c50f-f765-2402-bfbe-8808-ecde-4557-4b00-10e7",
       "next": "988b8c4e-c345-11e7-8310-0242ac120002-13-2ce5-5fb1-5744-9abc-4d66-661e-b872-92d1-5d4a-db16",
       "previous": "988b8938-c345-11e7-8310-0242ac120002-13-0afe-4100-d62d-061e-c527-d1dc-e767-c104-a073-b475"
      },
      {
       "current": "988b8b4a-c345-11e7-8310-0242ac120002-15-c50f-f765-2402-bfbe-8808-ecde-4557-4b00-10e7-3109",
       "next": "988b8c4e-c345-11e7-8310-0242ac120002-14-5fb1-5744-9abc-4d66-661e-b872-92d1-5d4a-db16-b757",
       "previous": "988b8938-c345-11e7-8310-0242ac120002-14-4100-d62d-061e-c527-d1dc-e767-c104-a073-b475-12db"
      },
      {
       "current": "988b8b4a-c345-11e7-8310-0242ac120002-16-f765-2402-bfbe-8808-ecde-4557-4b00-10e7-3109-78ea",
       "next": "988b8c4e-c345-11e7-8310-0242ac120002-15-5744-9abc-4d66-661e-b872-92d1-5d4a-db16-b757-198f",
       "previous": "988b8938-c345-11e7-8310-0242ac120002-15-d62d-061e-c527-d1dc-e767-c104-a073-b475-12db-770c"
      },
      {
       "current": "988b8b4a-c345-11e7-8310-0242ac120002-17-2402-bfbe-8808-ecde-4557-4b00-10e7-3109-78ea-4817",
       "next": "988b8c4e-c345-11e7-8310-0242ac120002-16-9abc-4d66-661e-b872-92d1-5d4a-db16-b757-198f-04b1",
       "previous": "988b8938-c345-11e7-8310-0242ac120002-16-061e-c527-d1dc-e767-c104-a073-b475-12db-770c-01a5"
      },
      {
       "current": "988b8b4a-c345-11e7-8310-0242ac120002-18-bfbe-8808-ecde-4557-4b00-10e7-3109-78ea-4817-d7d5",
       "next": "988b8c4e-c345-11e7-8310-0242ac120002-17-4d66-661e-b872-92d1-5d4a-db16-b757-198f-04b1-cb90",
       "previous": "988b8938-c345-11e7-8310-0242ac120002-17-c527-d1dc-e767-c104-a073-b475-12db-770c-01a5-7a68"
      },
      {
       "current": "988b8b4a-c345-11e7-8310-0242ac120002-19-8808-ecde-4557-4b00-10e7-3109-78ea-4817-d7d5-42f6",
       "next": "988b8c4e-c345-11e7-8310-0242ac120002-18-661e-b872-92d1-5d4a-db16-b757-198f-04b1-cb90-29fe",
       "previous": "988b8938-c345-11e7-8310-0242ac120002-18-d1dc-e767-c104-a073-b475-12db-770c-01a5-7a68-dcfe"
      },
      {
       "current": "988b8b4a-c345-11e7-8310-0242ac120002-20-ecde-4557-4b00-10e7-3109-78ea-4817-d7d5-42f6-8950",
       "next": "988b8c4e-c345-11e7-8310-0242ac120002-19-b872-92d1-5d4a-db16-b757-198f-04b1-cb90-29fe-f443",
       "previous": "988b8938-c345-11e7-8310-0242ac120002-19-e767-c104-a073-b475-12db-770c-01a5-7a68-dcfe-9c79"
      }
     ],
     "next": "988b8c4e-c345-11e7-8310-0242ac120002-20-92d1-5d4a-db16-b757-198f-04b1-cb90-29fe-f443-b21b",
     "previous": "988b8938-c345-11e7-8310-0242ac120002-20-c104-a073-b475-12db-770c-01a5-7a68-dcfe-9c79-b2cc"
    }
   },
   "outputs": [],
   "source": [
    "import os\n",
    "import json\n",
    "with open(os.path.join(temp_dir, 'daemon.json'), 'w') as f:\n",
    "    f.write(json.dumps(docker_opts))\n",
    "!cat {temp_dir}/daemon.json"
   ]
  },
  {
   "cell_type": "code",
   "execution_count": null,
   "metadata": {
    "ExecuteTime": {
     "end_time": "2016-05-13T07:43:52.597534",
     "start_time": "2016-05-13T07:43:52.588248"
    },
    "lc_cell_meme": {
     "current": "988b8c4e-c345-11e7-8310-0242ac120002-20-92d1-5d4a-db16-b757-198f-04b1-cb90-29fe-f443-b21b",
     "history": [
      {
       "current": "988b8c4e-c345-11e7-8310-0242ac120002-14-5fb1-5744-9abc-4d66-661e-b872-92d1-5d4a-db16-b757",
       "next": "988b8d5c-c345-11e7-8310-0242ac120002-13-354c-e54c-eb1a-4a04-55c4-281b-1fd5-3997-9c28-08ea",
       "previous": "988b8b4a-c345-11e7-8310-0242ac120002-13-ed0d-7b4e-c50f-f765-2402-bfbe-8808-ecde-4557-4b00"
      },
      {
       "current": "988b8c4e-c345-11e7-8310-0242ac120002-15-5744-9abc-4d66-661e-b872-92d1-5d4a-db16-b757-198f",
       "next": "988b8d5c-c345-11e7-8310-0242ac120002-14-e54c-eb1a-4a04-55c4-281b-1fd5-3997-9c28-08ea-a27b",
       "previous": "988b8b4a-c345-11e7-8310-0242ac120002-14-7b4e-c50f-f765-2402-bfbe-8808-ecde-4557-4b00-10e7"
      },
      {
       "current": "988b8c4e-c345-11e7-8310-0242ac120002-16-9abc-4d66-661e-b872-92d1-5d4a-db16-b757-198f-04b1",
       "next": "988b8d5c-c345-11e7-8310-0242ac120002-15-eb1a-4a04-55c4-281b-1fd5-3997-9c28-08ea-a27b-c2c8",
       "previous": "988b8b4a-c345-11e7-8310-0242ac120002-15-c50f-f765-2402-bfbe-8808-ecde-4557-4b00-10e7-3109"
      },
      {
       "current": "988b8c4e-c345-11e7-8310-0242ac120002-17-4d66-661e-b872-92d1-5d4a-db16-b757-198f-04b1-cb90",
       "next": "988b8d5c-c345-11e7-8310-0242ac120002-16-4a04-55c4-281b-1fd5-3997-9c28-08ea-a27b-c2c8-dbdf",
       "previous": "988b8b4a-c345-11e7-8310-0242ac120002-16-f765-2402-bfbe-8808-ecde-4557-4b00-10e7-3109-78ea"
      },
      {
       "current": "988b8c4e-c345-11e7-8310-0242ac120002-18-661e-b872-92d1-5d4a-db16-b757-198f-04b1-cb90-29fe",
       "next": "988b8d5c-c345-11e7-8310-0242ac120002-17-55c4-281b-1fd5-3997-9c28-08ea-a27b-c2c8-dbdf-4faa",
       "previous": "988b8b4a-c345-11e7-8310-0242ac120002-17-2402-bfbe-8808-ecde-4557-4b00-10e7-3109-78ea-4817"
      },
      {
       "current": "988b8c4e-c345-11e7-8310-0242ac120002-19-b872-92d1-5d4a-db16-b757-198f-04b1-cb90-29fe-f443",
       "next": "988b8d5c-c345-11e7-8310-0242ac120002-18-281b-1fd5-3997-9c28-08ea-a27b-c2c8-dbdf-4faa-c01b",
       "previous": "988b8b4a-c345-11e7-8310-0242ac120002-18-bfbe-8808-ecde-4557-4b00-10e7-3109-78ea-4817-d7d5"
      },
      {
       "current": "988b8c4e-c345-11e7-8310-0242ac120002-20-92d1-5d4a-db16-b757-198f-04b1-cb90-29fe-f443-b21b",
       "next": "988b8d5c-c345-11e7-8310-0242ac120002-19-1fd5-3997-9c28-08ea-a27b-c2c8-dbdf-4faa-c01b-928a",
       "previous": "988b8b4a-c345-11e7-8310-0242ac120002-19-8808-ecde-4557-4b00-10e7-3109-78ea-4817-d7d5-42f6"
      }
     ],
     "next": "988b8d5c-c345-11e7-8310-0242ac120002-20-3997-9c28-08ea-a27b-c2c8-dbdf-4faa-c01b-928a-9e34",
     "previous": "988b8b4a-c345-11e7-8310-0242ac120002-20-ecde-4557-4b00-10e7-3109-78ea-4817-d7d5-42f6-8950"
    }
   },
   "outputs": [],
   "source": [
    "import os\n",
    "with open(os.path.join(temp_dir, 'tmpdir.conf'), 'w') as f:\n",
    "    f.write('''# Systemd drop-in configuration for Docker\n",
    "[Service]\n",
    "Environment=\"DOCKER_TMPDIR={docker_tmp}\"'''.format(docker_tmp=docker_tmp))\n",
    "!cat {temp_dir}/tmpdir.conf"
   ]
  },
  {
   "cell_type": "markdown",
   "metadata": {
    "lc_cell_meme": {
     "current": "988b8d5c-c345-11e7-8310-0242ac120002-20-3997-9c28-08ea-a27b-c2c8-dbdf-4faa-c01b-928a-9e34",
     "history": [
      {
       "current": "988b8d5c-c345-11e7-8310-0242ac120002-14-e54c-eb1a-4a04-55c4-281b-1fd5-3997-9c28-08ea-a27b",
       "next": "988b8e60-c345-11e7-8310-0242ac120002-13-d0f9-4972-45b2-cc07-28da-c480-5506-995b-8c5d-bf75",
       "previous": "988b8c4e-c345-11e7-8310-0242ac120002-13-2ce5-5fb1-5744-9abc-4d66-661e-b872-92d1-5d4a-db16"
      },
      {
       "current": "988b8d5c-c345-11e7-8310-0242ac120002-15-eb1a-4a04-55c4-281b-1fd5-3997-9c28-08ea-a27b-c2c8",
       "next": "988b8e60-c345-11e7-8310-0242ac120002-14-4972-45b2-cc07-28da-c480-5506-995b-8c5d-bf75-e69f",
       "previous": "988b8c4e-c345-11e7-8310-0242ac120002-14-5fb1-5744-9abc-4d66-661e-b872-92d1-5d4a-db16-b757"
      },
      {
       "current": "988b8d5c-c345-11e7-8310-0242ac120002-16-4a04-55c4-281b-1fd5-3997-9c28-08ea-a27b-c2c8-dbdf",
       "next": "988b8e60-c345-11e7-8310-0242ac120002-15-45b2-cc07-28da-c480-5506-995b-8c5d-bf75-e69f-2b6c",
       "previous": "988b8c4e-c345-11e7-8310-0242ac120002-15-5744-9abc-4d66-661e-b872-92d1-5d4a-db16-b757-198f"
      },
      {
       "current": "988b8d5c-c345-11e7-8310-0242ac120002-17-55c4-281b-1fd5-3997-9c28-08ea-a27b-c2c8-dbdf-4faa",
       "next": "988b8e60-c345-11e7-8310-0242ac120002-16-cc07-28da-c480-5506-995b-8c5d-bf75-e69f-2b6c-6f25",
       "previous": "988b8c4e-c345-11e7-8310-0242ac120002-16-9abc-4d66-661e-b872-92d1-5d4a-db16-b757-198f-04b1"
      },
      {
       "current": "988b8d5c-c345-11e7-8310-0242ac120002-18-281b-1fd5-3997-9c28-08ea-a27b-c2c8-dbdf-4faa-c01b",
       "next": "988b8e60-c345-11e7-8310-0242ac120002-17-28da-c480-5506-995b-8c5d-bf75-e69f-2b6c-6f25-879f",
       "previous": "988b8c4e-c345-11e7-8310-0242ac120002-17-4d66-661e-b872-92d1-5d4a-db16-b757-198f-04b1-cb90"
      },
      {
       "current": "988b8d5c-c345-11e7-8310-0242ac120002-19-1fd5-3997-9c28-08ea-a27b-c2c8-dbdf-4faa-c01b-928a",
       "next": "988b8e60-c345-11e7-8310-0242ac120002-18-c480-5506-995b-8c5d-bf75-e69f-2b6c-6f25-879f-593c",
       "previous": "988b8c4e-c345-11e7-8310-0242ac120002-18-661e-b872-92d1-5d4a-db16-b757-198f-04b1-cb90-29fe"
      },
      {
       "current": "988b8d5c-c345-11e7-8310-0242ac120002-20-3997-9c28-08ea-a27b-c2c8-dbdf-4faa-c01b-928a-9e34",
       "next": "988b8e60-c345-11e7-8310-0242ac120002-19-5506-995b-8c5d-bf75-e69f-2b6c-6f25-879f-593c-9dbc",
       "previous": "988b8c4e-c345-11e7-8310-0242ac120002-19-b872-92d1-5d4a-db16-b757-198f-04b1-cb90-29fe-f443"
      }
     ],
     "next": "988b8e60-c345-11e7-8310-0242ac120002-20-995b-8c5d-bf75-e69f-2b6c-6f25-879f-593c-9dbc-fa08",
     "previous": "988b8c4e-c345-11e7-8310-0242ac120002-20-92d1-5d4a-db16-b757-198f-04b1-cb90-29fe-f443-b21b"
    }
   },
   "source": [
    "ローカルに作った configファイル を、Bind対象の/etc/default/dockerにコピーし、Docker Engineに反映する。"
   ]
  },
  {
   "cell_type": "code",
   "execution_count": null,
   "metadata": {
    "ExecuteTime": {
     "end_time": "2016-05-13T07:43:58.155342",
     "start_time": "2016-05-13T07:43:53.334780"
    },
    "lc_cell_meme": {
     "current": "988b8e60-c345-11e7-8310-0242ac120002-20-995b-8c5d-bf75-e69f-2b6c-6f25-879f-593c-9dbc-fa08",
     "history": [
      {
       "current": "988b8e60-c345-11e7-8310-0242ac120002-14-4972-45b2-cc07-28da-c480-5506-995b-8c5d-bf75-e69f",
       "next": "988b8f6e-c345-11e7-8310-0242ac120002-13-7f2b-14cb-35fc-db7c-b49f-138f-d664-f203-de60-85a1",
       "previous": "988b8d5c-c345-11e7-8310-0242ac120002-13-354c-e54c-eb1a-4a04-55c4-281b-1fd5-3997-9c28-08ea"
      },
      {
       "current": "988b8e60-c345-11e7-8310-0242ac120002-15-45b2-cc07-28da-c480-5506-995b-8c5d-bf75-e69f-2b6c",
       "next": "988b8f6e-c345-11e7-8310-0242ac120002-14-14cb-35fc-db7c-b49f-138f-d664-f203-de60-85a1-79cd",
       "previous": "988b8d5c-c345-11e7-8310-0242ac120002-14-e54c-eb1a-4a04-55c4-281b-1fd5-3997-9c28-08ea-a27b"
      },
      {
       "current": "988b8e60-c345-11e7-8310-0242ac120002-16-cc07-28da-c480-5506-995b-8c5d-bf75-e69f-2b6c-6f25",
       "next": "988b8f6e-c345-11e7-8310-0242ac120002-15-35fc-db7c-b49f-138f-d664-f203-de60-85a1-79cd-a2f0",
       "previous": "988b8d5c-c345-11e7-8310-0242ac120002-15-eb1a-4a04-55c4-281b-1fd5-3997-9c28-08ea-a27b-c2c8"
      },
      {
       "current": "988b8e60-c345-11e7-8310-0242ac120002-17-28da-c480-5506-995b-8c5d-bf75-e69f-2b6c-6f25-879f",
       "next": "988b8f6e-c345-11e7-8310-0242ac120002-16-db7c-b49f-138f-d664-f203-de60-85a1-79cd-a2f0-ac9a",
       "previous": "988b8d5c-c345-11e7-8310-0242ac120002-16-4a04-55c4-281b-1fd5-3997-9c28-08ea-a27b-c2c8-dbdf"
      },
      {
       "current": "988b8e60-c345-11e7-8310-0242ac120002-18-c480-5506-995b-8c5d-bf75-e69f-2b6c-6f25-879f-593c",
       "next": "988b8f6e-c345-11e7-8310-0242ac120002-17-b49f-138f-d664-f203-de60-85a1-79cd-a2f0-ac9a-17dd",
       "previous": "988b8d5c-c345-11e7-8310-0242ac120002-17-55c4-281b-1fd5-3997-9c28-08ea-a27b-c2c8-dbdf-4faa"
      },
      {
       "current": "988b8e60-c345-11e7-8310-0242ac120002-19-5506-995b-8c5d-bf75-e69f-2b6c-6f25-879f-593c-9dbc",
       "next": "988b8f6e-c345-11e7-8310-0242ac120002-18-138f-d664-f203-de60-85a1-79cd-a2f0-ac9a-17dd-d486",
       "previous": "988b8d5c-c345-11e7-8310-0242ac120002-18-281b-1fd5-3997-9c28-08ea-a27b-c2c8-dbdf-4faa-c01b"
      },
      {
       "current": "988b8e60-c345-11e7-8310-0242ac120002-20-995b-8c5d-bf75-e69f-2b6c-6f25-879f-593c-9dbc-fa08",
       "next": "988b8f6e-c345-11e7-8310-0242ac120002-19-d664-f203-de60-85a1-79cd-a2f0-ac9a-17dd-d486-30bd",
       "previous": "988b8d5c-c345-11e7-8310-0242ac120002-19-1fd5-3997-9c28-08ea-a27b-c2c8-dbdf-4faa-c01b-928a"
      }
     ],
     "next": "988b8f6e-c345-11e7-8310-0242ac120002-20-f203-de60-85a1-79cd-a2f0-ac9a-17dd-d486-30bd-c050",
     "previous": "988b8d5c-c345-11e7-8310-0242ac120002-20-3997-9c28-08ea-a27b-c2c8-dbdf-4faa-c01b-928a-9e34"
    },
    "scrolled": true
   },
   "outputs": [],
   "source": [
    "!ansible -b -m file -a 'path=/etc/docker state=directory' {target_group}\n",
    "!ansible -b -m copy -a 'src={temp_dir}/daemon.json dest=/etc/docker/daemon.json' {target_group}\n",
    "!ansible -b -m file -a 'path=/etc/systemd/system/docker.service.d state=directory' {target_group}\n",
    "!ansible -b -m copy -a 'src={temp_dir}/tmpdir.conf dest=/etc/systemd/system/docker.service.d/tmpdir.conf' {target_group}\n",
    "\n",
    "!ansible -b -m file -a 'path={docker_tmp} state=directory' {target_group}\n",
    "!ansible -b -a 'systemctl daemon-reload' {target_group}\n",
    "!ansible -b -m service -a 'name=docker state=restarted enabled=yes' {target_group}"
   ]
  },
  {
   "cell_type": "markdown",
   "metadata": {
    "lc_cell_meme": {
     "current": "988b8f6e-c345-11e7-8310-0242ac120002-20-f203-de60-85a1-79cd-a2f0-ac9a-17dd-d486-30bd-c050",
     "history": [
      {
       "current": "988b8f6e-c345-11e7-8310-0242ac120002-14-14cb-35fc-db7c-b49f-138f-d664-f203-de60-85a1-79cd",
       "next": "988b9072-c345-11e7-8310-0242ac120002-13-87f7-0113-fc5d-e99e-52c2-1298-a6f8-0195-7a50-fa54",
       "previous": "988b8e60-c345-11e7-8310-0242ac120002-13-d0f9-4972-45b2-cc07-28da-c480-5506-995b-8c5d-bf75"
      },
      {
       "current": "988b8f6e-c345-11e7-8310-0242ac120002-15-35fc-db7c-b49f-138f-d664-f203-de60-85a1-79cd-a2f0",
       "next": "988b9072-c345-11e7-8310-0242ac120002-14-0113-fc5d-e99e-52c2-1298-a6f8-0195-7a50-fa54-ff42",
       "previous": "988b8e60-c345-11e7-8310-0242ac120002-14-4972-45b2-cc07-28da-c480-5506-995b-8c5d-bf75-e69f"
      },
      {
       "current": "988b8f6e-c345-11e7-8310-0242ac120002-16-db7c-b49f-138f-d664-f203-de60-85a1-79cd-a2f0-ac9a",
       "next": "988b9072-c345-11e7-8310-0242ac120002-15-fc5d-e99e-52c2-1298-a6f8-0195-7a50-fa54-ff42-885e",
       "previous": "988b8e60-c345-11e7-8310-0242ac120002-15-45b2-cc07-28da-c480-5506-995b-8c5d-bf75-e69f-2b6c"
      },
      {
       "current": "988b8f6e-c345-11e7-8310-0242ac120002-17-b49f-138f-d664-f203-de60-85a1-79cd-a2f0-ac9a-17dd",
       "next": "988b9072-c345-11e7-8310-0242ac120002-16-e99e-52c2-1298-a6f8-0195-7a50-fa54-ff42-885e-93ba",
       "previous": "988b8e60-c345-11e7-8310-0242ac120002-16-cc07-28da-c480-5506-995b-8c5d-bf75-e69f-2b6c-6f25"
      },
      {
       "current": "988b8f6e-c345-11e7-8310-0242ac120002-18-138f-d664-f203-de60-85a1-79cd-a2f0-ac9a-17dd-d486",
       "next": "988b9072-c345-11e7-8310-0242ac120002-17-52c2-1298-a6f8-0195-7a50-fa54-ff42-885e-93ba-f7ac",
       "previous": "988b8e60-c345-11e7-8310-0242ac120002-17-28da-c480-5506-995b-8c5d-bf75-e69f-2b6c-6f25-879f"
      },
      {
       "current": "988b8f6e-c345-11e7-8310-0242ac120002-19-d664-f203-de60-85a1-79cd-a2f0-ac9a-17dd-d486-30bd",
       "next": "988b9072-c345-11e7-8310-0242ac120002-18-1298-a6f8-0195-7a50-fa54-ff42-885e-93ba-f7ac-466a",
       "previous": "988b8e60-c345-11e7-8310-0242ac120002-18-c480-5506-995b-8c5d-bf75-e69f-2b6c-6f25-879f-593c"
      },
      {
       "current": "988b8f6e-c345-11e7-8310-0242ac120002-20-f203-de60-85a1-79cd-a2f0-ac9a-17dd-d486-30bd-c050",
       "next": "988b9072-c345-11e7-8310-0242ac120002-19-a6f8-0195-7a50-fa54-ff42-885e-93ba-f7ac-466a-b6f0",
       "previous": "988b8e60-c345-11e7-8310-0242ac120002-19-5506-995b-8c5d-bf75-e69f-2b6c-6f25-879f-593c-9dbc"
      }
     ],
     "next": "988b9072-c345-11e7-8310-0242ac120002-20-0195-7a50-fa54-ff42-885e-93ba-f7ac-466a-b6f0-1866",
     "previous": "988b8e60-c345-11e7-8310-0242ac120002-20-995b-8c5d-bf75-e69f-2b6c-6f25-879f-593c-9dbc-fa08"
    }
   },
   "source": [
    "念のため、Docker Engineにより /mnt/docker, /mnt/docker-tmp (変更していればそのディレクトリ) にファイルが作成されていることを確認する。"
   ]
  },
  {
   "cell_type": "code",
   "execution_count": null,
   "metadata": {
    "ExecuteTime": {
     "end_time": "2016-05-13T07:44:02.088751",
     "start_time": "2016-05-13T07:44:00.927141"
    },
    "lc_cell_meme": {
     "current": "988b9072-c345-11e7-8310-0242ac120002-20-0195-7a50-fa54-ff42-885e-93ba-f7ac-466a-b6f0-1866",
     "history": [
      {
       "current": "988b9072-c345-11e7-8310-0242ac120002-14-0113-fc5d-e99e-52c2-1298-a6f8-0195-7a50-fa54-ff42",
       "next": "3a7a50aa-f41a-11ea-9bfc-02420a01001a-7-c3d4-52e4-df61-205c-148e-de44-d531",
       "previous": "988b8f6e-c345-11e7-8310-0242ac120002-13-7f2b-14cb-35fc-db7c-b49f-138f-d664-f203-de60-85a1"
      },
      {
       "current": "988b9072-c345-11e7-8310-0242ac120002-15-fc5d-e99e-52c2-1298-a6f8-0195-7a50-fa54-ff42-885e",
       "next": "3a7a50aa-f41a-11ea-9bfc-02420a01001a-8-c3d4-52e4-df61-205c-148e-de44-d531-5aa0",
       "previous": "988b8f6e-c345-11e7-8310-0242ac120002-14-14cb-35fc-db7c-b49f-138f-d664-f203-de60-85a1-79cd"
      },
      {
       "current": "988b9072-c345-11e7-8310-0242ac120002-16-e99e-52c2-1298-a6f8-0195-7a50-fa54-ff42-885e-93ba",
       "next": "3a7a50aa-f41a-11ea-9bfc-02420a01001a-9-c3d4-52e4-df61-205c-148e-de44-d531-5aa0-d086",
       "previous": "988b8f6e-c345-11e7-8310-0242ac120002-15-35fc-db7c-b49f-138f-d664-f203-de60-85a1-79cd-a2f0"
      },
      {
       "current": "988b9072-c345-11e7-8310-0242ac120002-17-52c2-1298-a6f8-0195-7a50-fa54-ff42-885e-93ba-f7ac",
       "next": "3a7a50aa-f41a-11ea-9bfc-02420a01001a-10-c3d4-52e4-df61-205c-148e-de44-d531-5aa0-d086-9248",
       "previous": "988b8f6e-c345-11e7-8310-0242ac120002-16-db7c-b49f-138f-d664-f203-de60-85a1-79cd-a2f0-ac9a"
      },
      {
       "current": "988b9072-c345-11e7-8310-0242ac120002-18-1298-a6f8-0195-7a50-fa54-ff42-885e-93ba-f7ac-466a",
       "next": "3a7a50aa-f41a-11ea-9bfc-02420a01001a-11-52e4-df61-205c-148e-de44-d531-5aa0-d086-9248-28b0",
       "previous": "988b8f6e-c345-11e7-8310-0242ac120002-17-b49f-138f-d664-f203-de60-85a1-79cd-a2f0-ac9a-17dd"
      },
      {
       "current": "988b9072-c345-11e7-8310-0242ac120002-19-a6f8-0195-7a50-fa54-ff42-885e-93ba-f7ac-466a-b6f0",
       "next": "3a7a50aa-f41a-11ea-9bfc-02420a01001a-12-df61-205c-148e-de44-d531-5aa0-d086-9248-28b0-57b1",
       "previous": "988b8f6e-c345-11e7-8310-0242ac120002-18-138f-d664-f203-de60-85a1-79cd-a2f0-ac9a-17dd-d486"
      },
      {
       "current": "988b9072-c345-11e7-8310-0242ac120002-20-0195-7a50-fa54-ff42-885e-93ba-f7ac-466a-b6f0-1866",
       "next": "3a7a50aa-f41a-11ea-9bfc-02420a01001a-13-205c-148e-de44-d531-5aa0-d086-9248-28b0-57b1-c730",
       "previous": "988b8f6e-c345-11e7-8310-0242ac120002-19-d664-f203-de60-85a1-79cd-a2f0-ac9a-17dd-d486-30bd"
      }
     ],
     "next": "3a7a50aa-f41a-11ea-9bfc-02420a01001a-14-148e-de44-d531-5aa0-d086-9248-28b0-57b1-c730-6075",
     "previous": "988b8f6e-c345-11e7-8310-0242ac120002-20-f203-de60-85a1-79cd-a2f0-ac9a-17dd-d486-30bd-c050"
    },
    "scrolled": true
   },
   "outputs": [],
   "source": [
    "!ansible -b -a 'ls -la {docker_tmp} {docker_base}' {target_group}"
   ]
  },
  {
   "cell_type": "markdown",
   "metadata": {
    "lc_cell_meme": {
     "current": "3a7a50aa-f41a-11ea-9bfc-02420a01001a-14-148e-de44-d531-5aa0-d086-9248-28b0-57b1-c730-6075",
     "history": [
      {
       "current": "3a7a50aa-f41a-11ea-9bfc-02420a01001a-8-c3d4-52e4-df61-205c-148e-de44-d531-5aa0",
       "next": "988b9180-c345-11e7-8310-0242ac120002-13-1744-6697-a819-a4c2-947f-378f-1e56-70bf-3011-2471",
       "previous": "988b9072-c345-11e7-8310-0242ac120002-13-87f7-0113-fc5d-e99e-52c2-1298-a6f8-0195-7a50-fa54"
      },
      {
       "current": "3a7a50aa-f41a-11ea-9bfc-02420a01001a-9-c3d4-52e4-df61-205c-148e-de44-d531-5aa0-d086",
       "next": "988b9180-c345-11e7-8310-0242ac120002-14-6697-a819-a4c2-947f-378f-1e56-70bf-3011-2471-8fba",
       "previous": "988b9072-c345-11e7-8310-0242ac120002-14-0113-fc5d-e99e-52c2-1298-a6f8-0195-7a50-fa54-ff42"
      },
      {
       "current": "3a7a50aa-f41a-11ea-9bfc-02420a01001a-10-c3d4-52e4-df61-205c-148e-de44-d531-5aa0-d086-9248",
       "next": "988b9180-c345-11e7-8310-0242ac120002-15-a819-a4c2-947f-378f-1e56-70bf-3011-2471-8fba-55c4",
       "previous": "988b9072-c345-11e7-8310-0242ac120002-15-fc5d-e99e-52c2-1298-a6f8-0195-7a50-fa54-ff42-885e"
      },
      {
       "current": "3a7a50aa-f41a-11ea-9bfc-02420a01001a-11-52e4-df61-205c-148e-de44-d531-5aa0-d086-9248-28b0",
       "next": "988b9180-c345-11e7-8310-0242ac120002-16-a4c2-947f-378f-1e56-70bf-3011-2471-8fba-55c4-5c5c",
       "previous": "988b9072-c345-11e7-8310-0242ac120002-16-e99e-52c2-1298-a6f8-0195-7a50-fa54-ff42-885e-93ba"
      },
      {
       "current": "3a7a50aa-f41a-11ea-9bfc-02420a01001a-12-df61-205c-148e-de44-d531-5aa0-d086-9248-28b0-57b1",
       "next": "988b9180-c345-11e7-8310-0242ac120002-17-947f-378f-1e56-70bf-3011-2471-8fba-55c4-5c5c-cea4",
       "previous": "988b9072-c345-11e7-8310-0242ac120002-17-52c2-1298-a6f8-0195-7a50-fa54-ff42-885e-93ba-f7ac"
      },
      {
       "current": "3a7a50aa-f41a-11ea-9bfc-02420a01001a-13-205c-148e-de44-d531-5aa0-d086-9248-28b0-57b1-c730",
       "next": "988b9180-c345-11e7-8310-0242ac120002-18-378f-1e56-70bf-3011-2471-8fba-55c4-5c5c-cea4-810b",
       "previous": "988b9072-c345-11e7-8310-0242ac120002-18-1298-a6f8-0195-7a50-fa54-ff42-885e-93ba-f7ac-466a"
      },
      {
       "current": "3a7a50aa-f41a-11ea-9bfc-02420a01001a-14-148e-de44-d531-5aa0-d086-9248-28b0-57b1-c730-6075",
       "next": "988b9180-c345-11e7-8310-0242ac120002-19-1e56-70bf-3011-2471-8fba-55c4-5c5c-cea4-810b-b06c",
       "previous": "988b9072-c345-11e7-8310-0242ac120002-19-a6f8-0195-7a50-fa54-ff42-885e-93ba-f7ac-466a-b6f0"
      }
     ],
     "next": "988b9180-c345-11e7-8310-0242ac120002-20-70bf-3011-2471-8fba-55c4-5c5c-cea4-810b-b06c-5bb4",
     "previous": "988b9072-c345-11e7-8310-0242ac120002-20-0195-7a50-fa54-ff42-885e-93ba-f7ac-466a-b6f0-1866"
    }
   },
   "source": [
    "サービスの状態を確認"
   ]
  },
  {
   "cell_type": "code",
   "execution_count": null,
   "metadata": {
    "lc_cell_meme": {
     "current": "988b9180-c345-11e7-8310-0242ac120002-20-70bf-3011-2471-8fba-55c4-5c5c-cea4-810b-b06c-5bb4",
     "history": [
      {
       "current": "988b9180-c345-11e7-8310-0242ac120002-14-6697-a819-a4c2-947f-378f-1e56-70bf-3011-2471-8fba",
       "next": "1c50dc34-db26-11e8-a64b-02420aff0006-13-ab4a-9488-64db-1432-d196-ea81-cc46-5a64-05a5-67d2",
       "previous": "3a7a50aa-f41a-11ea-9bfc-02420a01001a-7-c3d4-52e4-df61-205c-148e-de44-d531"
      },
      {
       "current": "988b9180-c345-11e7-8310-0242ac120002-15-a819-a4c2-947f-378f-1e56-70bf-3011-2471-8fba-55c4",
       "next": "1c50dc34-db26-11e8-a64b-02420aff0006-14-9488-64db-1432-d196-ea81-cc46-5a64-05a5-67d2-c858",
       "previous": "3a7a50aa-f41a-11ea-9bfc-02420a01001a-8-c3d4-52e4-df61-205c-148e-de44-d531-5aa0"
      },
      {
       "current": "988b9180-c345-11e7-8310-0242ac120002-16-a4c2-947f-378f-1e56-70bf-3011-2471-8fba-55c4-5c5c",
       "next": "1c50dc34-db26-11e8-a64b-02420aff0006-15-64db-1432-d196-ea81-cc46-5a64-05a5-67d2-c858-4d38",
       "previous": "3a7a50aa-f41a-11ea-9bfc-02420a01001a-9-c3d4-52e4-df61-205c-148e-de44-d531-5aa0-d086"
      },
      {
       "current": "988b9180-c345-11e7-8310-0242ac120002-17-947f-378f-1e56-70bf-3011-2471-8fba-55c4-5c5c-cea4",
       "next": "1c50dc34-db26-11e8-a64b-02420aff0006-16-1432-d196-ea81-cc46-5a64-05a5-67d2-c858-4d38-563e",
       "previous": "3a7a50aa-f41a-11ea-9bfc-02420a01001a-10-c3d4-52e4-df61-205c-148e-de44-d531-5aa0-d086-9248"
      },
      {
       "current": "988b9180-c345-11e7-8310-0242ac120002-18-378f-1e56-70bf-3011-2471-8fba-55c4-5c5c-cea4-810b",
       "next": "1c50dc34-db26-11e8-a64b-02420aff0006-17-d196-ea81-cc46-5a64-05a5-67d2-c858-4d38-563e-666e",
       "previous": "3a7a50aa-f41a-11ea-9bfc-02420a01001a-11-52e4-df61-205c-148e-de44-d531-5aa0-d086-9248-28b0"
      },
      {
       "current": "988b9180-c345-11e7-8310-0242ac120002-19-1e56-70bf-3011-2471-8fba-55c4-5c5c-cea4-810b-b06c",
       "next": "1c50dc34-db26-11e8-a64b-02420aff0006-18-ea81-cc46-5a64-05a5-67d2-c858-4d38-563e-666e-e919",
       "previous": "3a7a50aa-f41a-11ea-9bfc-02420a01001a-12-df61-205c-148e-de44-d531-5aa0-d086-9248-28b0-57b1"
      },
      {
       "current": "988b9180-c345-11e7-8310-0242ac120002-20-70bf-3011-2471-8fba-55c4-5c5c-cea4-810b-b06c-5bb4",
       "next": "1c50dc34-db26-11e8-a64b-02420aff0006-19-cc46-5a64-05a5-67d2-c858-4d38-563e-666e-e919-7e3f",
       "previous": "3a7a50aa-f41a-11ea-9bfc-02420a01001a-13-205c-148e-de44-d531-5aa0-d086-9248-28b0-57b1-c730"
      }
     ],
     "next": "1c50dc34-db26-11e8-a64b-02420aff0006-20-5a64-05a5-67d2-c858-4d38-563e-666e-e919-7e3f-0486",
     "previous": "3a7a50aa-f41a-11ea-9bfc-02420a01001a-14-148e-de44-d531-5aa0-d086-9248-28b0-57b1-c730-6075"
    },
    "scrolled": true
   },
   "outputs": [],
   "source": [
    "!ansible -b -a 'systemctl status docker' {target_group}"
   ]
  },
  {
   "cell_type": "markdown",
   "metadata": {
    "lc_cell_meme": {
     "current": "1c50dc34-db26-11e8-a64b-02420aff0006-20-5a64-05a5-67d2-c858-4d38-563e-666e-e919-7e3f-0486",
     "history": [
      {
       "current": "1c50dc34-db26-11e8-a64b-02420aff0006-14-9488-64db-1432-d196-ea81-cc46-5a64-05a5-67d2-c858",
       "next": "1c50dcb6-db26-11e8-a64b-02420aff0006-13-87f0-4a23-c801-98e9-1eda-2b46-b506-21a6-9442-0e07",
       "previous": "988b9180-c345-11e7-8310-0242ac120002-13-1744-6697-a819-a4c2-947f-378f-1e56-70bf-3011-2471"
      },
      {
       "current": "1c50dc34-db26-11e8-a64b-02420aff0006-15-64db-1432-d196-ea81-cc46-5a64-05a5-67d2-c858-4d38",
       "next": "1c50dcb6-db26-11e8-a64b-02420aff0006-14-4a23-c801-98e9-1eda-2b46-b506-21a6-9442-0e07-29d7",
       "previous": "988b9180-c345-11e7-8310-0242ac120002-14-6697-a819-a4c2-947f-378f-1e56-70bf-3011-2471-8fba"
      },
      {
       "current": "1c50dc34-db26-11e8-a64b-02420aff0006-16-1432-d196-ea81-cc46-5a64-05a5-67d2-c858-4d38-563e",
       "next": "1c50dcb6-db26-11e8-a64b-02420aff0006-15-c801-98e9-1eda-2b46-b506-21a6-9442-0e07-29d7-2b56",
       "previous": "988b9180-c345-11e7-8310-0242ac120002-15-a819-a4c2-947f-378f-1e56-70bf-3011-2471-8fba-55c4"
      },
      {
       "current": "1c50dc34-db26-11e8-a64b-02420aff0006-17-d196-ea81-cc46-5a64-05a5-67d2-c858-4d38-563e-666e",
       "next": "1c50dcb6-db26-11e8-a64b-02420aff0006-16-98e9-1eda-2b46-b506-21a6-9442-0e07-29d7-2b56-e091",
       "previous": "988b9180-c345-11e7-8310-0242ac120002-16-a4c2-947f-378f-1e56-70bf-3011-2471-8fba-55c4-5c5c"
      },
      {
       "current": "1c50dc34-db26-11e8-a64b-02420aff0006-18-ea81-cc46-5a64-05a5-67d2-c858-4d38-563e-666e-e919",
       "next": "1c50dcb6-db26-11e8-a64b-02420aff0006-17-1eda-2b46-b506-21a6-9442-0e07-29d7-2b56-e091-ebab",
       "previous": "988b9180-c345-11e7-8310-0242ac120002-17-947f-378f-1e56-70bf-3011-2471-8fba-55c4-5c5c-cea4"
      },
      {
       "current": "1c50dc34-db26-11e8-a64b-02420aff0006-19-cc46-5a64-05a5-67d2-c858-4d38-563e-666e-e919-7e3f",
       "next": "1c50dcb6-db26-11e8-a64b-02420aff0006-18-2b46-b506-21a6-9442-0e07-29d7-2b56-e091-ebab-30e2",
       "previous": "988b9180-c345-11e7-8310-0242ac120002-18-378f-1e56-70bf-3011-2471-8fba-55c4-5c5c-cea4-810b"
      },
      {
       "current": "1c50dc34-db26-11e8-a64b-02420aff0006-20-5a64-05a5-67d2-c858-4d38-563e-666e-e919-7e3f-0486",
       "next": "1c50dcb6-db26-11e8-a64b-02420aff0006-19-b506-21a6-9442-0e07-29d7-2b56-e091-ebab-30e2-5a41",
       "previous": "988b9180-c345-11e7-8310-0242ac120002-19-1e56-70bf-3011-2471-8fba-55c4-5c5c-cea4-810b-b06c"
      }
     ],
     "next": "1c50dcb6-db26-11e8-a64b-02420aff0006-20-21a6-9442-0e07-29d7-2b56-e091-ebab-30e2-5a41-9c4b",
     "previous": "988b9180-c345-11e7-8310-0242ac120002-20-70bf-3011-2471-8fba-55c4-5c5c-cea4-810b-b06c-5bb4"
    }
   },
   "source": [
    "マシンのboot時にdockerサービスが起動するようにしておく。"
   ]
  },
  {
   "cell_type": "code",
   "execution_count": null,
   "metadata": {
    "lc_cell_meme": {
     "current": "1c50dcb6-db26-11e8-a64b-02420aff0006-20-21a6-9442-0e07-29d7-2b56-e091-ebab-30e2-5a41-9c4b",
     "history": [
      {
       "current": "1c50dcb6-db26-11e8-a64b-02420aff0006-14-4a23-c801-98e9-1eda-2b46-b506-21a6-9442-0e07-29d7",
       "next": "988b9284-c345-11e7-8310-0242ac120002-13-3fe2-1aa9-e0cf-ddb9-4c43-6a7d-11e2-9095-0b11-1f01",
       "previous": "1c50dc34-db26-11e8-a64b-02420aff0006-13-ab4a-9488-64db-1432-d196-ea81-cc46-5a64-05a5-67d2"
      },
      {
       "current": "1c50dcb6-db26-11e8-a64b-02420aff0006-15-c801-98e9-1eda-2b46-b506-21a6-9442-0e07-29d7-2b56",
       "next": "988b9284-c345-11e7-8310-0242ac120002-14-1aa9-e0cf-ddb9-4c43-6a7d-11e2-9095-0b11-1f01-a81c",
       "previous": "1c50dc34-db26-11e8-a64b-02420aff0006-14-9488-64db-1432-d196-ea81-cc46-5a64-05a5-67d2-c858"
      },
      {
       "current": "1c50dcb6-db26-11e8-a64b-02420aff0006-16-98e9-1eda-2b46-b506-21a6-9442-0e07-29d7-2b56-e091",
       "next": "988b9284-c345-11e7-8310-0242ac120002-15-e0cf-ddb9-4c43-6a7d-11e2-9095-0b11-1f01-a81c-5389",
       "previous": "1c50dc34-db26-11e8-a64b-02420aff0006-15-64db-1432-d196-ea81-cc46-5a64-05a5-67d2-c858-4d38"
      },
      {
       "current": "1c50dcb6-db26-11e8-a64b-02420aff0006-17-1eda-2b46-b506-21a6-9442-0e07-29d7-2b56-e091-ebab",
       "next": "988b9284-c345-11e7-8310-0242ac120002-16-ddb9-4c43-6a7d-11e2-9095-0b11-1f01-a81c-5389-23d2",
       "previous": "1c50dc34-db26-11e8-a64b-02420aff0006-16-1432-d196-ea81-cc46-5a64-05a5-67d2-c858-4d38-563e"
      },
      {
       "current": "1c50dcb6-db26-11e8-a64b-02420aff0006-18-2b46-b506-21a6-9442-0e07-29d7-2b56-e091-ebab-30e2",
       "next": "988b9284-c345-11e7-8310-0242ac120002-17-4c43-6a7d-11e2-9095-0b11-1f01-a81c-5389-23d2-2d04",
       "previous": "1c50dc34-db26-11e8-a64b-02420aff0006-17-d196-ea81-cc46-5a64-05a5-67d2-c858-4d38-563e-666e"
      },
      {
       "current": "1c50dcb6-db26-11e8-a64b-02420aff0006-19-b506-21a6-9442-0e07-29d7-2b56-e091-ebab-30e2-5a41",
       "next": "988b9284-c345-11e7-8310-0242ac120002-18-6a7d-11e2-9095-0b11-1f01-a81c-5389-23d2-2d04-d1c9",
       "previous": "1c50dc34-db26-11e8-a64b-02420aff0006-18-ea81-cc46-5a64-05a5-67d2-c858-4d38-563e-666e-e919"
      },
      {
       "current": "1c50dcb6-db26-11e8-a64b-02420aff0006-20-21a6-9442-0e07-29d7-2b56-e091-ebab-30e2-5a41-9c4b",
       "next": "988b9284-c345-11e7-8310-0242ac120002-19-11e2-9095-0b11-1f01-a81c-5389-23d2-2d04-d1c9-e479",
       "previous": "1c50dc34-db26-11e8-a64b-02420aff0006-19-cc46-5a64-05a5-67d2-c858-4d38-563e-666e-e919-7e3f"
      }
     ],
     "next": "988b9284-c345-11e7-8310-0242ac120002-20-9095-0b11-1f01-a81c-5389-23d2-2d04-d1c9-e479-64de",
     "previous": "1c50dc34-db26-11e8-a64b-02420aff0006-20-5a64-05a5-67d2-c858-4d38-563e-666e-e919-7e3f-0486"
    }
   },
   "outputs": [],
   "source": [
    "!ansible -b -a 'systemctl enable docker' {target_group}"
   ]
  },
  {
   "cell_type": "markdown",
   "metadata": {
    "lc_cell_meme": {
     "current": "988b9284-c345-11e7-8310-0242ac120002-20-9095-0b11-1f01-a81c-5389-23d2-2d04-d1c9-e479-64de",
     "history": [
      {
       "current": "988b9284-c345-11e7-8310-0242ac120002-14-1aa9-e0cf-ddb9-4c43-6a7d-11e2-9095-0b11-1f01-a81c",
       "next": "988b93ec-c345-11e7-8310-0242ac120002-13-54dc-a072-e9bf-11bf-080c-161f-c804-d057-6ad5-79c9",
       "previous": "1c50dcb6-db26-11e8-a64b-02420aff0006-13-87f0-4a23-c801-98e9-1eda-2b46-b506-21a6-9442-0e07"
      },
      {
       "current": "988b9284-c345-11e7-8310-0242ac120002-15-e0cf-ddb9-4c43-6a7d-11e2-9095-0b11-1f01-a81c-5389",
       "next": "988b93ec-c345-11e7-8310-0242ac120002-14-a072-e9bf-11bf-080c-161f-c804-d057-6ad5-79c9-f9a5",
       "previous": "1c50dcb6-db26-11e8-a64b-02420aff0006-14-4a23-c801-98e9-1eda-2b46-b506-21a6-9442-0e07-29d7"
      },
      {
       "current": "988b9284-c345-11e7-8310-0242ac120002-16-ddb9-4c43-6a7d-11e2-9095-0b11-1f01-a81c-5389-23d2",
       "next": "988b93ec-c345-11e7-8310-0242ac120002-15-e9bf-11bf-080c-161f-c804-d057-6ad5-79c9-f9a5-5310",
       "previous": "1c50dcb6-db26-11e8-a64b-02420aff0006-15-c801-98e9-1eda-2b46-b506-21a6-9442-0e07-29d7-2b56"
      },
      {
       "current": "988b9284-c345-11e7-8310-0242ac120002-17-4c43-6a7d-11e2-9095-0b11-1f01-a81c-5389-23d2-2d04",
       "next": "988b93ec-c345-11e7-8310-0242ac120002-16-11bf-080c-161f-c804-d057-6ad5-79c9-f9a5-5310-64e3",
       "previous": "1c50dcb6-db26-11e8-a64b-02420aff0006-16-98e9-1eda-2b46-b506-21a6-9442-0e07-29d7-2b56-e091"
      },
      {
       "current": "988b9284-c345-11e7-8310-0242ac120002-18-6a7d-11e2-9095-0b11-1f01-a81c-5389-23d2-2d04-d1c9",
       "next": "988b93ec-c345-11e7-8310-0242ac120002-17-080c-161f-c804-d057-6ad5-79c9-f9a5-5310-64e3-cb40",
       "previous": "1c50dcb6-db26-11e8-a64b-02420aff0006-17-1eda-2b46-b506-21a6-9442-0e07-29d7-2b56-e091-ebab"
      },
      {
       "current": "988b9284-c345-11e7-8310-0242ac120002-19-11e2-9095-0b11-1f01-a81c-5389-23d2-2d04-d1c9-e479",
       "next": "988b93ec-c345-11e7-8310-0242ac120002-18-161f-c804-d057-6ad5-79c9-f9a5-5310-64e3-cb40-098d",
       "previous": "1c50dcb6-db26-11e8-a64b-02420aff0006-18-2b46-b506-21a6-9442-0e07-29d7-2b56-e091-ebab-30e2"
      },
      {
       "current": "988b9284-c345-11e7-8310-0242ac120002-20-9095-0b11-1f01-a81c-5389-23d2-2d04-d1c9-e479-64de",
       "next": "988b93ec-c345-11e7-8310-0242ac120002-19-c804-d057-6ad5-79c9-f9a5-5310-64e3-cb40-098d-5fa0",
       "previous": "1c50dcb6-db26-11e8-a64b-02420aff0006-19-b506-21a6-9442-0e07-29d7-2b56-e091-ebab-30e2-5a41"
      }
     ],
     "next": "988b93ec-c345-11e7-8310-0242ac120002-20-d057-6ad5-79c9-f9a5-5310-64e3-cb40-098d-5fa0-d08c",
     "previous": "1c50dcb6-db26-11e8-a64b-02420aff0006-20-21a6-9442-0e07-29d7-2b56-e091-ebab-30e2-5a41-9c4b"
    }
   },
   "source": [
    "Docker Engineのバージョンを確認する。"
   ]
  },
  {
   "cell_type": "code",
   "execution_count": null,
   "metadata": {
    "ExecuteTime": {
     "end_time": "2016-05-13T07:44:06.276956",
     "start_time": "2016-05-13T07:44:05.055621"
    },
    "lc_cell_meme": {
     "current": "988b93ec-c345-11e7-8310-0242ac120002-20-d057-6ad5-79c9-f9a5-5310-64e3-cb40-098d-5fa0-d08c",
     "history": [
      {
       "current": "988b93ec-c345-11e7-8310-0242ac120002-14-a072-e9bf-11bf-080c-161f-c804-d057-6ad5-79c9-f9a5",
       "next": "988b9504-c345-11e7-8310-0242ac120002-13-05df-2714-1d7e-ff26-a4bc-b0fd-4598-b3ad-acfa-9717",
       "previous": "988b9284-c345-11e7-8310-0242ac120002-13-3fe2-1aa9-e0cf-ddb9-4c43-6a7d-11e2-9095-0b11-1f01"
      },
      {
       "current": "988b93ec-c345-11e7-8310-0242ac120002-15-e9bf-11bf-080c-161f-c804-d057-6ad5-79c9-f9a5-5310",
       "next": "988b9504-c345-11e7-8310-0242ac120002-14-2714-1d7e-ff26-a4bc-b0fd-4598-b3ad-acfa-9717-dc34",
       "previous": "988b9284-c345-11e7-8310-0242ac120002-14-1aa9-e0cf-ddb9-4c43-6a7d-11e2-9095-0b11-1f01-a81c"
      },
      {
       "current": "988b93ec-c345-11e7-8310-0242ac120002-16-11bf-080c-161f-c804-d057-6ad5-79c9-f9a5-5310-64e3",
       "next": "988b9504-c345-11e7-8310-0242ac120002-15-1d7e-ff26-a4bc-b0fd-4598-b3ad-acfa-9717-dc34-e8e6",
       "previous": "988b9284-c345-11e7-8310-0242ac120002-15-e0cf-ddb9-4c43-6a7d-11e2-9095-0b11-1f01-a81c-5389"
      },
      {
       "current": "988b93ec-c345-11e7-8310-0242ac120002-17-080c-161f-c804-d057-6ad5-79c9-f9a5-5310-64e3-cb40",
       "next": "988b9504-c345-11e7-8310-0242ac120002-16-ff26-a4bc-b0fd-4598-b3ad-acfa-9717-dc34-e8e6-81f3",
       "previous": "988b9284-c345-11e7-8310-0242ac120002-16-ddb9-4c43-6a7d-11e2-9095-0b11-1f01-a81c-5389-23d2"
      },
      {
       "current": "988b93ec-c345-11e7-8310-0242ac120002-18-161f-c804-d057-6ad5-79c9-f9a5-5310-64e3-cb40-098d",
       "next": "988b9504-c345-11e7-8310-0242ac120002-17-a4bc-b0fd-4598-b3ad-acfa-9717-dc34-e8e6-81f3-27ef",
       "previous": "988b9284-c345-11e7-8310-0242ac120002-17-4c43-6a7d-11e2-9095-0b11-1f01-a81c-5389-23d2-2d04"
      },
      {
       "current": "988b93ec-c345-11e7-8310-0242ac120002-19-c804-d057-6ad5-79c9-f9a5-5310-64e3-cb40-098d-5fa0",
       "next": "988b9504-c345-11e7-8310-0242ac120002-18-b0fd-4598-b3ad-acfa-9717-dc34-e8e6-81f3-27ef-d5ff",
       "previous": "988b9284-c345-11e7-8310-0242ac120002-18-6a7d-11e2-9095-0b11-1f01-a81c-5389-23d2-2d04-d1c9"
      },
      {
       "current": "988b93ec-c345-11e7-8310-0242ac120002-20-d057-6ad5-79c9-f9a5-5310-64e3-cb40-098d-5fa0-d08c",
       "next": "988b9504-c345-11e7-8310-0242ac120002-19-4598-b3ad-acfa-9717-dc34-e8e6-81f3-27ef-d5ff-a8fd",
       "previous": "988b9284-c345-11e7-8310-0242ac120002-19-11e2-9095-0b11-1f01-a81c-5389-23d2-2d04-d1c9-e479"
      }
     ],
     "next": "988b9504-c345-11e7-8310-0242ac120002-20-b3ad-acfa-9717-dc34-e8e6-81f3-27ef-d5ff-a8fd-9123",
     "previous": "988b9284-c345-11e7-8310-0242ac120002-20-9095-0b11-1f01-a81c-5389-23d2-2d04-d1c9-e479-64de"
    },
    "scrolled": true
   },
   "outputs": [],
   "source": [
    "!ansible -b -a 'docker version' {target_group}"
   ]
  },
  {
   "cell_type": "markdown",
   "metadata": {
    "lc_cell_meme": {
     "current": "988b9504-c345-11e7-8310-0242ac120002-20-b3ad-acfa-9717-dc34-e8e6-81f3-27ef-d5ff-a8fd-9123",
     "history": [
      {
       "current": "988b9504-c345-11e7-8310-0242ac120002-14-2714-1d7e-ff26-a4bc-b0fd-4598-b3ad-acfa-9717-dc34",
       "next": "988b9612-c345-11e7-8310-0242ac120002-13-f338-6cb5-7758-ecf4-78b9-514c-73e0-306f-ba5a-2c21",
       "previous": "988b93ec-c345-11e7-8310-0242ac120002-13-54dc-a072-e9bf-11bf-080c-161f-c804-d057-6ad5-79c9"
      },
      {
       "current": "988b9504-c345-11e7-8310-0242ac120002-15-1d7e-ff26-a4bc-b0fd-4598-b3ad-acfa-9717-dc34-e8e6",
       "next": "988b9612-c345-11e7-8310-0242ac120002-14-6cb5-7758-ecf4-78b9-514c-73e0-306f-ba5a-2c21-b818",
       "previous": "988b93ec-c345-11e7-8310-0242ac120002-14-a072-e9bf-11bf-080c-161f-c804-d057-6ad5-79c9-f9a5"
      },
      {
       "current": "988b9504-c345-11e7-8310-0242ac120002-16-ff26-a4bc-b0fd-4598-b3ad-acfa-9717-dc34-e8e6-81f3",
       "next": "988b9612-c345-11e7-8310-0242ac120002-15-7758-ecf4-78b9-514c-73e0-306f-ba5a-2c21-b818-14dd",
       "previous": "988b93ec-c345-11e7-8310-0242ac120002-15-e9bf-11bf-080c-161f-c804-d057-6ad5-79c9-f9a5-5310"
      },
      {
       "current": "988b9504-c345-11e7-8310-0242ac120002-17-a4bc-b0fd-4598-b3ad-acfa-9717-dc34-e8e6-81f3-27ef",
       "next": "988b9612-c345-11e7-8310-0242ac120002-16-ecf4-78b9-514c-73e0-306f-ba5a-2c21-b818-14dd-c33d",
       "previous": "988b93ec-c345-11e7-8310-0242ac120002-16-11bf-080c-161f-c804-d057-6ad5-79c9-f9a5-5310-64e3"
      },
      {
       "current": "988b9504-c345-11e7-8310-0242ac120002-18-b0fd-4598-b3ad-acfa-9717-dc34-e8e6-81f3-27ef-d5ff",
       "next": "988b9612-c345-11e7-8310-0242ac120002-17-78b9-514c-73e0-306f-ba5a-2c21-b818-14dd-c33d-16bf",
       "previous": "988b93ec-c345-11e7-8310-0242ac120002-17-080c-161f-c804-d057-6ad5-79c9-f9a5-5310-64e3-cb40"
      },
      {
       "current": "988b9504-c345-11e7-8310-0242ac120002-19-4598-b3ad-acfa-9717-dc34-e8e6-81f3-27ef-d5ff-a8fd",
       "next": "988b9612-c345-11e7-8310-0242ac120002-18-514c-73e0-306f-ba5a-2c21-b818-14dd-c33d-16bf-27a6",
       "previous": "988b93ec-c345-11e7-8310-0242ac120002-18-161f-c804-d057-6ad5-79c9-f9a5-5310-64e3-cb40-098d"
      },
      {
       "current": "988b9504-c345-11e7-8310-0242ac120002-20-b3ad-acfa-9717-dc34-e8e6-81f3-27ef-d5ff-a8fd-9123",
       "next": "988b9612-c345-11e7-8310-0242ac120002-19-73e0-306f-ba5a-2c21-b818-14dd-c33d-16bf-27a6-36dc",
       "previous": "988b93ec-c345-11e7-8310-0242ac120002-19-c804-d057-6ad5-79c9-f9a5-5310-64e3-cb40-098d-5fa0"
      }
     ],
     "next": "988b9612-c345-11e7-8310-0242ac120002-20-306f-ba5a-2c21-b818-14dd-c33d-16bf-27a6-36dc-8dd6",
     "previous": "988b93ec-c345-11e7-8310-0242ac120002-20-d057-6ad5-79c9-f9a5-5310-64e3-cb40-098d-5fa0-d08c"
    }
   },
   "source": [
    "Docker Engineの設定状況も確認しておく。"
   ]
  },
  {
   "cell_type": "code",
   "execution_count": null,
   "metadata": {
    "lc_cell_meme": {
     "current": "988b9612-c345-11e7-8310-0242ac120002-20-306f-ba5a-2c21-b818-14dd-c33d-16bf-27a6-36dc-8dd6",
     "history": [
      {
       "current": "988b9612-c345-11e7-8310-0242ac120002-14-6cb5-7758-ecf4-78b9-514c-73e0-306f-ba5a-2c21-b818",
       "next": "988b9720-c345-11e7-8310-0242ac120002-13-93a6-741b-0e6a-5dc2-9187-0504-be74-6432-9ffc-4e3c",
       "previous": "988b9504-c345-11e7-8310-0242ac120002-13-05df-2714-1d7e-ff26-a4bc-b0fd-4598-b3ad-acfa-9717"
      },
      {
       "current": "988b9612-c345-11e7-8310-0242ac120002-15-7758-ecf4-78b9-514c-73e0-306f-ba5a-2c21-b818-14dd",
       "next": "988b9720-c345-11e7-8310-0242ac120002-14-741b-0e6a-5dc2-9187-0504-be74-6432-9ffc-4e3c-7b57",
       "previous": "988b9504-c345-11e7-8310-0242ac120002-14-2714-1d7e-ff26-a4bc-b0fd-4598-b3ad-acfa-9717-dc34"
      },
      {
       "current": "988b9612-c345-11e7-8310-0242ac120002-16-ecf4-78b9-514c-73e0-306f-ba5a-2c21-b818-14dd-c33d",
       "next": "988b9720-c345-11e7-8310-0242ac120002-15-0e6a-5dc2-9187-0504-be74-6432-9ffc-4e3c-7b57-cc06",
       "previous": "988b9504-c345-11e7-8310-0242ac120002-15-1d7e-ff26-a4bc-b0fd-4598-b3ad-acfa-9717-dc34-e8e6"
      },
      {
       "current": "988b9612-c345-11e7-8310-0242ac120002-17-78b9-514c-73e0-306f-ba5a-2c21-b818-14dd-c33d-16bf",
       "next": "988b9720-c345-11e7-8310-0242ac120002-16-5dc2-9187-0504-be74-6432-9ffc-4e3c-7b57-cc06-89c6",
       "previous": "988b9504-c345-11e7-8310-0242ac120002-16-ff26-a4bc-b0fd-4598-b3ad-acfa-9717-dc34-e8e6-81f3"
      },
      {
       "current": "988b9612-c345-11e7-8310-0242ac120002-18-514c-73e0-306f-ba5a-2c21-b818-14dd-c33d-16bf-27a6",
       "next": "988b9720-c345-11e7-8310-0242ac120002-17-9187-0504-be74-6432-9ffc-4e3c-7b57-cc06-89c6-418d",
       "previous": "988b9504-c345-11e7-8310-0242ac120002-17-a4bc-b0fd-4598-b3ad-acfa-9717-dc34-e8e6-81f3-27ef"
      },
      {
       "current": "988b9612-c345-11e7-8310-0242ac120002-19-73e0-306f-ba5a-2c21-b818-14dd-c33d-16bf-27a6-36dc",
       "next": "988b9720-c345-11e7-8310-0242ac120002-18-0504-be74-6432-9ffc-4e3c-7b57-cc06-89c6-418d-1ae7",
       "previous": "988b9504-c345-11e7-8310-0242ac120002-18-b0fd-4598-b3ad-acfa-9717-dc34-e8e6-81f3-27ef-d5ff"
      },
      {
       "current": "988b9612-c345-11e7-8310-0242ac120002-20-306f-ba5a-2c21-b818-14dd-c33d-16bf-27a6-36dc-8dd6",
       "next": "988b9720-c345-11e7-8310-0242ac120002-19-be74-6432-9ffc-4e3c-7b57-cc06-89c6-418d-1ae7-6e97",
       "previous": "988b9504-c345-11e7-8310-0242ac120002-19-4598-b3ad-acfa-9717-dc34-e8e6-81f3-27ef-d5ff-a8fd"
      }
     ],
     "next": "988b9720-c345-11e7-8310-0242ac120002-20-6432-9ffc-4e3c-7b57-cc06-89c6-418d-1ae7-6e97-e794",
     "previous": "988b9504-c345-11e7-8310-0242ac120002-20-b3ad-acfa-9717-dc34-e8e6-81f3-27ef-d5ff-a8fd-9123"
    },
    "scrolled": true
   },
   "outputs": [],
   "source": [
    "!ansible -b -a 'docker info' {target_group}"
   ]
  },
  {
   "cell_type": "markdown",
   "metadata": {
    "lc_cell_meme": {
     "current": "988b9720-c345-11e7-8310-0242ac120002-20-6432-9ffc-4e3c-7b57-cc06-89c6-418d-1ae7-6e97-e794",
     "history": [
      {
       "current": "988b9720-c345-11e7-8310-0242ac120002-14-741b-0e6a-5dc2-9187-0504-be74-6432-9ffc-4e3c-7b57",
       "next": "988b9824-c345-11e7-8310-0242ac120002-14-85a4-a76d-be92-14e9-1728-2979-0b68-ff38-81be-31e4",
       "previous": "988b9612-c345-11e7-8310-0242ac120002-14-6cb5-7758-ecf4-78b9-514c-73e0-306f-ba5a-2c21-b818"
      },
      {
       "current": "988b9720-c345-11e7-8310-0242ac120002-15-0e6a-5dc2-9187-0504-be74-6432-9ffc-4e3c-7b57-cc06",
       "next": "1b326e3a-8fce-11ec-aa64-6b42dc3e1973",
       "previous": "988b9612-c345-11e7-8310-0242ac120002-14-6cb5-7758-ecf4-78b9-514c-73e0-306f-ba5a-2c21-b818"
      },
      {
       "current": "988b9720-c345-11e7-8310-0242ac120002-16-5dc2-9187-0504-be74-6432-9ffc-4e3c-7b57-cc06-89c6",
       "next": "1b326e3a-8fce-11ec-aa64-6b42dc3e1973-1-a846",
       "previous": "988b9612-c345-11e7-8310-0242ac120002-15-7758-ecf4-78b9-514c-73e0-306f-ba5a-2c21-b818-14dd"
      },
      {
       "current": "988b9720-c345-11e7-8310-0242ac120002-17-9187-0504-be74-6432-9ffc-4e3c-7b57-cc06-89c6-418d",
       "next": "1b326e3a-8fce-11ec-aa64-6b42dc3e1973-2-a846-3308",
       "previous": "988b9612-c345-11e7-8310-0242ac120002-16-ecf4-78b9-514c-73e0-306f-ba5a-2c21-b818-14dd-c33d"
      },
      {
       "current": "988b9720-c345-11e7-8310-0242ac120002-18-0504-be74-6432-9ffc-4e3c-7b57-cc06-89c6-418d-1ae7",
       "next": "1b326e3a-8fce-11ec-aa64-6b42dc3e1973-3-a846-3308-e8bf",
       "previous": "988b9612-c345-11e7-8310-0242ac120002-17-78b9-514c-73e0-306f-ba5a-2c21-b818-14dd-c33d-16bf"
      },
      {
       "current": "988b9720-c345-11e7-8310-0242ac120002-19-be74-6432-9ffc-4e3c-7b57-cc06-89c6-418d-1ae7-6e97",
       "next": "988b9824-c345-11e7-8310-0242ac120002-18-1728-2979-0b68-ff38-81be-31e4-3454-91ef-4edb-571e",
       "previous": "988b9612-c345-11e7-8310-0242ac120002-18-514c-73e0-306f-ba5a-2c21-b818-14dd-c33d-16bf-27a6"
      },
      {
       "current": "988b9720-c345-11e7-8310-0242ac120002-20-6432-9ffc-4e3c-7b57-cc06-89c6-418d-1ae7-6e97-e794",
       "next": "988b9824-c345-11e7-8310-0242ac120002-19-2979-0b68-ff38-81be-31e4-3454-91ef-4edb-571e-22ea",
       "previous": "988b9612-c345-11e7-8310-0242ac120002-19-73e0-306f-ba5a-2c21-b818-14dd-c33d-16bf-27a6-36dc"
      }
     ],
     "next": "988b9824-c345-11e7-8310-0242ac120002-20-0b68-ff38-81be-31e4-3454-91ef-4edb-571e-22ea-5f16",
     "previous": "988b9612-c345-11e7-8310-0242ac120002-20-306f-ba5a-2c21-b818-14dd-c33d-16bf-27a6-36dc-8dd6"
    }
   },
   "source": [
    "# Docker Compose(v1)のインストール\n",
    "\n",
    "*2022/2/17時点* では、docker-composeのv1系のバージョンは`1.29.2`となる。"
   ]
  },
  {
   "cell_type": "code",
   "execution_count": null,
   "metadata": {
    "ExecuteTime": {
     "end_time": "2016-05-13T07:44:50.145188",
     "start_time": "2016-05-13T07:44:41.669010"
    },
    "lc_cell_meme": {
     "current": "988b9824-c345-11e7-8310-0242ac120002-20-0b68-ff38-81be-31e4-3454-91ef-4edb-571e-22ea-5f16",
     "history": [
      {
       "current": "988b9824-c345-11e7-8310-0242ac120002-14-85a4-a76d-be92-14e9-1728-2979-0b68-ff38-81be-31e4",
       "next": "988b9928-c345-11e7-8310-0242ac120002-14-d6e4-a7dc-0758-111f-21e3-ad70-d32a-8058-67a6-e67f",
       "previous": "988b9720-c345-11e7-8310-0242ac120002-14-741b-0e6a-5dc2-9187-0504-be74-6432-9ffc-4e3c-7b57"
      },
      {
       "current": "988b9824-c345-11e7-8310-0242ac120002-15-a76d-be92-14e9-1728-2979-0b68-ff38-81be-31e4-3454",
       "next": "988b9928-c345-11e7-8310-0242ac120002-14-d6e4-a7dc-0758-111f-21e3-ad70-d32a-8058-67a6-e67f",
       "previous": "1b326e3a-8fce-11ec-aa64-6b42dc3e1973"
      },
      {
       "current": "988b9824-c345-11e7-8310-0242ac120002-16-be92-14e9-1728-2979-0b68-ff38-81be-31e4-3454-91ef",
       "next": "988b9928-c345-11e7-8310-0242ac120002-15-a7dc-0758-111f-21e3-ad70-d32a-8058-67a6-e67f-4aa4",
       "previous": "1b326e3a-8fce-11ec-aa64-6b42dc3e1973-1-a846"
      },
      {
       "current": "988b9824-c345-11e7-8310-0242ac120002-17-14e9-1728-2979-0b68-ff38-81be-31e4-3454-91ef-4edb",
       "next": "988b9928-c345-11e7-8310-0242ac120002-16-0758-111f-21e3-ad70-d32a-8058-67a6-e67f-4aa4-7bda",
       "previous": "1b326e3a-8fce-11ec-aa64-6b42dc3e1973-2-a846-3308"
      },
      {
       "current": "988b9824-c345-11e7-8310-0242ac120002-18-1728-2979-0b68-ff38-81be-31e4-3454-91ef-4edb-571e",
       "next": "988b9928-c345-11e7-8310-0242ac120002-17-111f-21e3-ad70-d32a-8058-67a6-e67f-4aa4-7bda-40aa",
       "previous": "1b326e3a-8fce-11ec-aa64-6b42dc3e1973-3-a846-3308-e8bf"
      },
      {
       "current": "988b9824-c345-11e7-8310-0242ac120002-19-2979-0b68-ff38-81be-31e4-3454-91ef-4edb-571e-22ea",
       "next": "988b9928-c345-11e7-8310-0242ac120002-18-21e3-ad70-d32a-8058-67a6-e67f-4aa4-7bda-40aa-86dd",
       "previous": "988b9720-c345-11e7-8310-0242ac120002-18-0504-be74-6432-9ffc-4e3c-7b57-cc06-89c6-418d-1ae7"
      },
      {
       "current": "988b9824-c345-11e7-8310-0242ac120002-20-0b68-ff38-81be-31e4-3454-91ef-4edb-571e-22ea-5f16",
       "next": "988b9928-c345-11e7-8310-0242ac120002-19-ad70-d32a-8058-67a6-e67f-4aa4-7bda-40aa-86dd-cf30",
       "previous": "988b9720-c345-11e7-8310-0242ac120002-19-be74-6432-9ffc-4e3c-7b57-cc06-89c6-418d-1ae7-6e97"
      }
     ],
     "next": "988b9928-c345-11e7-8310-0242ac120002-20-d32a-8058-67a6-e67f-4aa4-7bda-40aa-86dd-cf30-0c8d",
     "previous": "988b9720-c345-11e7-8310-0242ac120002-20-6432-9ffc-4e3c-7b57-cc06-89c6-418d-1ae7-6e97-e794"
    },
    "scrolled": true
   },
   "outputs": [],
   "source": [
    "!ansible -b -m shell \\\n",
    "         -a 'curl -L https://github.com/docker/compose/releases/download/1.29.2/docker-compose-`uname -s`-`uname -m` \\\n",
    "                 > /usr/local/bin/docker-compose' {target_group}"
   ]
  },
  {
   "cell_type": "code",
   "execution_count": null,
   "metadata": {
    "ExecuteTime": {
     "end_time": "2016-05-13T07:44:51.378884",
     "start_time": "2016-05-13T07:44:50.149976"
    },
    "lc_cell_meme": {
     "current": "988b9928-c345-11e7-8310-0242ac120002-20-d32a-8058-67a6-e67f-4aa4-7bda-40aa-86dd-cf30-0c8d",
     "history": [
      {
       "current": "988b9928-c345-11e7-8310-0242ac120002-14-d6e4-a7dc-0758-111f-21e3-ad70-d32a-8058-67a6-e67f",
       "next": "988b9a36-c345-11e7-8310-0242ac120002-13-af48-fe0f-cd6f-4c03-42fa-bd41-ce36-3a71-57eb-bd18",
       "previous": "988b9824-c345-11e7-8310-0242ac120002-13-54a0-85a4-a76d-be92-14e9-1728-2979-0b68-ff38-81be"
      },
      {
       "current": "988b9928-c345-11e7-8310-0242ac120002-15-a7dc-0758-111f-21e3-ad70-d32a-8058-67a6-e67f-4aa4",
       "next": "988b9a36-c345-11e7-8310-0242ac120002-14-fe0f-cd6f-4c03-42fa-bd41-ce36-3a71-57eb-bd18-238f",
       "previous": "988b9824-c345-11e7-8310-0242ac120002-14-85a4-a76d-be92-14e9-1728-2979-0b68-ff38-81be-31e4"
      },
      {
       "current": "988b9928-c345-11e7-8310-0242ac120002-16-0758-111f-21e3-ad70-d32a-8058-67a6-e67f-4aa4-7bda",
       "next": "988b9a36-c345-11e7-8310-0242ac120002-15-cd6f-4c03-42fa-bd41-ce36-3a71-57eb-bd18-238f-9e51",
       "previous": "988b9824-c345-11e7-8310-0242ac120002-15-a76d-be92-14e9-1728-2979-0b68-ff38-81be-31e4-3454"
      },
      {
       "current": "988b9928-c345-11e7-8310-0242ac120002-17-111f-21e3-ad70-d32a-8058-67a6-e67f-4aa4-7bda-40aa",
       "next": "988b9a36-c345-11e7-8310-0242ac120002-16-4c03-42fa-bd41-ce36-3a71-57eb-bd18-238f-9e51-9279",
       "previous": "988b9824-c345-11e7-8310-0242ac120002-16-be92-14e9-1728-2979-0b68-ff38-81be-31e4-3454-91ef"
      },
      {
       "current": "988b9928-c345-11e7-8310-0242ac120002-18-21e3-ad70-d32a-8058-67a6-e67f-4aa4-7bda-40aa-86dd",
       "next": "988b9a36-c345-11e7-8310-0242ac120002-17-42fa-bd41-ce36-3a71-57eb-bd18-238f-9e51-9279-8c7c",
       "previous": "988b9824-c345-11e7-8310-0242ac120002-17-14e9-1728-2979-0b68-ff38-81be-31e4-3454-91ef-4edb"
      },
      {
       "current": "988b9928-c345-11e7-8310-0242ac120002-19-ad70-d32a-8058-67a6-e67f-4aa4-7bda-40aa-86dd-cf30",
       "next": "988b9a36-c345-11e7-8310-0242ac120002-18-bd41-ce36-3a71-57eb-bd18-238f-9e51-9279-8c7c-62f8",
       "previous": "988b9824-c345-11e7-8310-0242ac120002-18-1728-2979-0b68-ff38-81be-31e4-3454-91ef-4edb-571e"
      },
      {
       "current": "988b9928-c345-11e7-8310-0242ac120002-20-d32a-8058-67a6-e67f-4aa4-7bda-40aa-86dd-cf30-0c8d",
       "next": "988b9a36-c345-11e7-8310-0242ac120002-19-ce36-3a71-57eb-bd18-238f-9e51-9279-8c7c-62f8-e589",
       "previous": "988b9824-c345-11e7-8310-0242ac120002-19-2979-0b68-ff38-81be-31e4-3454-91ef-4edb-571e-22ea"
      }
     ],
     "next": "988b9a36-c345-11e7-8310-0242ac120002-20-3a71-57eb-bd18-238f-9e51-9279-8c7c-62f8-e589-dd5c",
     "previous": "988b9824-c345-11e7-8310-0242ac120002-20-0b68-ff38-81be-31e4-3454-91ef-4edb-571e-22ea-5f16"
    }
   },
   "outputs": [],
   "source": [
    "!ansible -b -a 'chmod +x /usr/local/bin/docker-compose' {target_group}"
   ]
  },
  {
   "cell_type": "code",
   "execution_count": null,
   "metadata": {
    "ExecuteTime": {
     "end_time": "2016-05-13T07:44:53.135491",
     "start_time": "2016-05-13T07:44:51.384906"
    },
    "lc_cell_meme": {
     "current": "988b9a36-c345-11e7-8310-0242ac120002-20-3a71-57eb-bd18-238f-9e51-9279-8c7c-62f8-e589-dd5c",
     "history": [
      {
       "current": "988b9a36-c345-11e7-8310-0242ac120002-14-fe0f-cd6f-4c03-42fa-bd41-ce36-3a71-57eb-bd18-238f",
       "next": "988b9b44-c345-11e7-8310-0242ac120002-13-a573-1220-ef3c-f3ad-898c-0a36-1df4-12b7-7873-2beb",
       "previous": "988b9928-c345-11e7-8310-0242ac120002-13-76e7-d6e4-a7dc-0758-111f-21e3-ad70-d32a-8058-67a6"
      },
      {
       "current": "988b9a36-c345-11e7-8310-0242ac120002-15-cd6f-4c03-42fa-bd41-ce36-3a71-57eb-bd18-238f-9e51",
       "next": "988b9b44-c345-11e7-8310-0242ac120002-14-1220-ef3c-f3ad-898c-0a36-1df4-12b7-7873-2beb-1d66",
       "previous": "988b9928-c345-11e7-8310-0242ac120002-14-d6e4-a7dc-0758-111f-21e3-ad70-d32a-8058-67a6-e67f"
      },
      {
       "current": "988b9a36-c345-11e7-8310-0242ac120002-16-4c03-42fa-bd41-ce36-3a71-57eb-bd18-238f-9e51-9279",
       "next": "988b9b44-c345-11e7-8310-0242ac120002-15-ef3c-f3ad-898c-0a36-1df4-12b7-7873-2beb-1d66-20e6",
       "previous": "988b9928-c345-11e7-8310-0242ac120002-15-a7dc-0758-111f-21e3-ad70-d32a-8058-67a6-e67f-4aa4"
      },
      {
       "current": "988b9a36-c345-11e7-8310-0242ac120002-17-42fa-bd41-ce36-3a71-57eb-bd18-238f-9e51-9279-8c7c",
       "next": "988b9b44-c345-11e7-8310-0242ac120002-16-f3ad-898c-0a36-1df4-12b7-7873-2beb-1d66-20e6-2efb",
       "previous": "988b9928-c345-11e7-8310-0242ac120002-16-0758-111f-21e3-ad70-d32a-8058-67a6-e67f-4aa4-7bda"
      },
      {
       "current": "988b9a36-c345-11e7-8310-0242ac120002-18-bd41-ce36-3a71-57eb-bd18-238f-9e51-9279-8c7c-62f8",
       "next": "988b9b44-c345-11e7-8310-0242ac120002-17-898c-0a36-1df4-12b7-7873-2beb-1d66-20e6-2efb-2caf",
       "previous": "988b9928-c345-11e7-8310-0242ac120002-17-111f-21e3-ad70-d32a-8058-67a6-e67f-4aa4-7bda-40aa"
      },
      {
       "current": "988b9a36-c345-11e7-8310-0242ac120002-19-ce36-3a71-57eb-bd18-238f-9e51-9279-8c7c-62f8-e589",
       "next": "988b9b44-c345-11e7-8310-0242ac120002-18-0a36-1df4-12b7-7873-2beb-1d66-20e6-2efb-2caf-1d1b",
       "previous": "988b9928-c345-11e7-8310-0242ac120002-18-21e3-ad70-d32a-8058-67a6-e67f-4aa4-7bda-40aa-86dd"
      },
      {
       "current": "988b9a36-c345-11e7-8310-0242ac120002-20-3a71-57eb-bd18-238f-9e51-9279-8c7c-62f8-e589-dd5c",
       "next": "988b9b44-c345-11e7-8310-0242ac120002-19-1df4-12b7-7873-2beb-1d66-20e6-2efb-2caf-1d1b-ae34",
       "previous": "988b9928-c345-11e7-8310-0242ac120002-19-ad70-d32a-8058-67a6-e67f-4aa4-7bda-40aa-86dd-cf30"
      }
     ],
     "next": "988b9b44-c345-11e7-8310-0242ac120002-20-12b7-7873-2beb-1d66-20e6-2efb-2caf-1d1b-ae34-bda4",
     "previous": "988b9928-c345-11e7-8310-0242ac120002-20-d32a-8058-67a6-e67f-4aa4-7bda-40aa-86dd-cf30-0c8d"
    }
   },
   "outputs": [],
   "source": [
    "!ansible -b -a '/usr/local/bin/docker-compose --version' {target_group}"
   ]
  },
  {
   "cell_type": "markdown",
   "metadata": {
    "lc_cell_meme": {
     "current": "988b9b44-c345-11e7-8310-0242ac120002-20-12b7-7873-2beb-1d66-20e6-2efb-2caf-1d1b-ae34-bda4",
     "history": [
      {
       "current": "988b9b44-c345-11e7-8310-0242ac120002-15-ef3c-f3ad-898c-0a36-1df4-12b7-7873-2beb-1d66-20e6",
       "next": "31a35fb3-8fdd-11ec-bb94-6b42dc3e1973",
       "previous": "988b9a36-c345-11e7-8310-0242ac120002-14-fe0f-cd6f-4c03-42fa-bd41-ce36-3a71-57eb-bd18-238f"
      },
      {
       "current": "988b9b44-c345-11e7-8310-0242ac120002-16-f3ad-898c-0a36-1df4-12b7-7873-2beb-1d66-20e6-2efb",
       "next": "31a35fb3-8fdd-11ec-bb94-6b42dc3e1973-1-5857",
       "previous": "988b9a36-c345-11e7-8310-0242ac120002-15-cd6f-4c03-42fa-bd41-ce36-3a71-57eb-bd18-238f-9e51"
      },
      {
       "current": "988b9b44-c345-11e7-8310-0242ac120002-17-898c-0a36-1df4-12b7-7873-2beb-1d66-20e6-2efb-2caf",
       "next": "31a35fb3-8fdd-11ec-bb94-6b42dc3e1973-2-5857-6824",
       "previous": "988b9a36-c345-11e7-8310-0242ac120002-16-4c03-42fa-bd41-ce36-3a71-57eb-bd18-238f-9e51-9279"
      },
      {
       "current": "988b9b44-c345-11e7-8310-0242ac120002-17-898c-0a36-1df4-12b7-7873-2beb-1d66-20e6-2efb-2caf",
       "next": "31a35fb3-8fdd-11ec-bb94-6b42dc3e1973-3-5857-6824-e6ec",
       "previous": "988b9a36-c345-11e7-8310-0242ac120002-17-42fa-bd41-ce36-3a71-57eb-bd18-238f-9e51-9279-8c7c"
      },
      {
       "current": "988b9b44-c345-11e7-8310-0242ac120002-18-0a36-1df4-12b7-7873-2beb-1d66-20e6-2efb-2caf-1d1b",
       "next": "988b9c48-c345-11e7-8310-0242ac120002-17-ff75-f6a2-e9b5-169b-d606-075f-62ce-2fa3-9694-4ed5",
       "previous": "988b9a36-c345-11e7-8310-0242ac120002-17-42fa-bd41-ce36-3a71-57eb-bd18-238f-9e51-9279-8c7c"
      },
      {
       "current": "988b9b44-c345-11e7-8310-0242ac120002-19-1df4-12b7-7873-2beb-1d66-20e6-2efb-2caf-1d1b-ae34",
       "next": "988b9c48-c345-11e7-8310-0242ac120002-18-f6a2-e9b5-169b-d606-075f-62ce-2fa3-9694-4ed5-c681",
       "previous": "988b9a36-c345-11e7-8310-0242ac120002-18-bd41-ce36-3a71-57eb-bd18-238f-9e51-9279-8c7c-62f8"
      },
      {
       "current": "988b9b44-c345-11e7-8310-0242ac120002-20-12b7-7873-2beb-1d66-20e6-2efb-2caf-1d1b-ae34-bda4",
       "next": "988b9c48-c345-11e7-8310-0242ac120002-19-e9b5-169b-d606-075f-62ce-2fa3-9694-4ed5-c681-6f0e",
       "previous": "988b9a36-c345-11e7-8310-0242ac120002-19-ce36-3a71-57eb-bd18-238f-9e51-9279-8c7c-62f8-e589"
      }
     ],
     "next": "988b9c48-c345-11e7-8310-0242ac120002-20-169b-d606-075f-62ce-2fa3-9694-4ed5-c681-6f0e-1734",
     "previous": "988b9a36-c345-11e7-8310-0242ac120002-20-3a71-57eb-bd18-238f-9e51-9279-8c7c-62f8-e589-dd5c"
    }
   },
   "source": [
    "# Docker Engineの動作確認\n",
    "\n",
    "まずはお試しで、hello-worldイメージを実行してみる。`Hello from Docker`のようなメッセージが表示されたらOK。"
   ]
  },
  {
   "cell_type": "code",
   "execution_count": null,
   "metadata": {
    "ExecuteTime": {
     "end_time": "2016-05-13T07:44:58.436640",
     "start_time": "2016-05-13T07:44:53.139843"
    },
    "lc_cell_meme": {
     "current": "988b9c48-c345-11e7-8310-0242ac120002-20-169b-d606-075f-62ce-2fa3-9694-4ed5-c681-6f0e-1734",
     "history": [
      {
       "current": "988b9c48-c345-11e7-8310-0242ac120002-15-db1f-0393-ff75-f6a2-e9b5-169b-d606-075f-62ce-2fa3",
       "next": "988b9d56-c345-11e7-8310-0242ac120002-14-aaa5-17d9-e744-053f-96b1-cbf5-f6cf-5167-0915-9547",
       "previous": "31a36479-8fdd-11ec-a97f-6b42dc3e1973"
      },
      {
       "current": "988b9c48-c345-11e7-8310-0242ac120002-16-0393-ff75-f6a2-e9b5-169b-d606-075f-62ce-2fa3-9694",
       "next": "988b9d56-c345-11e7-8310-0242ac120002-15-17d9-e744-053f-96b1-cbf5-f6cf-5167-0915-9547-55cf",
       "previous": "31a36479-8fdd-11ec-a97f-6b42dc3e1973-1-0ec3"
      },
      {
       "current": "988b9c48-c345-11e7-8310-0242ac120002-17-ff75-f6a2-e9b5-169b-d606-075f-62ce-2fa3-9694-4ed5",
       "next": "988b9d56-c345-11e7-8310-0242ac120002-16-e744-053f-96b1-cbf5-f6cf-5167-0915-9547-55cf-f636",
       "previous": "31a36479-8fdd-11ec-a97f-6b42dc3e1973-2-0ec3-5ece"
      },
      {
       "current": "988b9c48-c345-11e7-8310-0242ac120002-17-ff75-f6a2-e9b5-169b-d606-075f-62ce-2fa3-9694-4ed5",
       "next": "988b9d56-c345-11e7-8310-0242ac120002-17-053f-96b1-cbf5-f6cf-5167-0915-9547-55cf-f636-db49",
       "previous": "31a36479-8fdd-11ec-a97f-6b42dc3e1973-3-0ec3-5ece-7d7c"
      },
      {
       "current": "988b9c48-c345-11e7-8310-0242ac120002-18-f6a2-e9b5-169b-d606-075f-62ce-2fa3-9694-4ed5-c681",
       "next": "988b9d56-c345-11e7-8310-0242ac120002-17-053f-96b1-cbf5-f6cf-5167-0915-9547-55cf-f636-db49",
       "previous": "988b9b44-c345-11e7-8310-0242ac120002-17-898c-0a36-1df4-12b7-7873-2beb-1d66-20e6-2efb-2caf"
      },
      {
       "current": "988b9c48-c345-11e7-8310-0242ac120002-19-e9b5-169b-d606-075f-62ce-2fa3-9694-4ed5-c681-6f0e",
       "next": "988b9d56-c345-11e7-8310-0242ac120002-18-96b1-cbf5-f6cf-5167-0915-9547-55cf-f636-db49-68d9",
       "previous": "988b9b44-c345-11e7-8310-0242ac120002-18-0a36-1df4-12b7-7873-2beb-1d66-20e6-2efb-2caf-1d1b"
      },
      {
       "current": "988b9c48-c345-11e7-8310-0242ac120002-20-169b-d606-075f-62ce-2fa3-9694-4ed5-c681-6f0e-1734",
       "next": "988b9d56-c345-11e7-8310-0242ac120002-19-cbf5-f6cf-5167-0915-9547-55cf-f636-db49-68d9-e4a4",
       "previous": "988b9b44-c345-11e7-8310-0242ac120002-19-1df4-12b7-7873-2beb-1d66-20e6-2efb-2caf-1d1b-ae34"
      }
     ],
     "next": "988b9d56-c345-11e7-8310-0242ac120002-20-f6cf-5167-0915-9547-55cf-f636-db49-68d9-e4a4-106c",
     "previous": "988b9b44-c345-11e7-8310-0242ac120002-20-12b7-7873-2beb-1d66-20e6-2efb-2caf-1d1b-ae34-bda4"
    },
    "scrolled": true
   },
   "outputs": [],
   "source": [
    "!ansible -b -a 'docker run hello-world' {target_group}"
   ]
  },
  {
   "cell_type": "markdown",
   "metadata": {
    "lc_cell_meme": {
     "current": "988b9d56-c345-11e7-8310-0242ac120002-20-f6cf-5167-0915-9547-55cf-f636-db49-68d9-e4a4-106c",
     "history": [
      {
       "current": "988b9d56-c345-11e7-8310-0242ac120002-14-aaa5-17d9-e744-053f-96b1-cbf5-f6cf-5167-0915-9547",
       "next": "988b9e5a-c345-11e7-8310-0242ac120002-13-c8c0-a298-7734-7027-7a5a-6094-5fe7-bee2-7e77-c6c9",
       "previous": "988b9c48-c345-11e7-8310-0242ac120002-13-accb-e726-db1f-0393-ff75-f6a2-e9b5-169b-d606-075f"
      },
      {
       "current": "988b9d56-c345-11e7-8310-0242ac120002-15-17d9-e744-053f-96b1-cbf5-f6cf-5167-0915-9547-55cf",
       "next": "988b9e5a-c345-11e7-8310-0242ac120002-14-a298-7734-7027-7a5a-6094-5fe7-bee2-7e77-c6c9-208c",
       "previous": "988b9c48-c345-11e7-8310-0242ac120002-14-e726-db1f-0393-ff75-f6a2-e9b5-169b-d606-075f-62ce"
      },
      {
       "current": "988b9d56-c345-11e7-8310-0242ac120002-16-e744-053f-96b1-cbf5-f6cf-5167-0915-9547-55cf-f636",
       "next": "988b9e5a-c345-11e7-8310-0242ac120002-15-7734-7027-7a5a-6094-5fe7-bee2-7e77-c6c9-208c-3539",
       "previous": "988b9c48-c345-11e7-8310-0242ac120002-15-db1f-0393-ff75-f6a2-e9b5-169b-d606-075f-62ce-2fa3"
      },
      {
       "current": "988b9d56-c345-11e7-8310-0242ac120002-17-053f-96b1-cbf5-f6cf-5167-0915-9547-55cf-f636-db49",
       "next": "988b9e5a-c345-11e7-8310-0242ac120002-16-7027-7a5a-6094-5fe7-bee2-7e77-c6c9-208c-3539-8b3d",
       "previous": "988b9c48-c345-11e7-8310-0242ac120002-16-0393-ff75-f6a2-e9b5-169b-d606-075f-62ce-2fa3-9694"
      },
      {
       "current": "988b9d56-c345-11e7-8310-0242ac120002-18-96b1-cbf5-f6cf-5167-0915-9547-55cf-f636-db49-68d9",
       "next": "988b9e5a-c345-11e7-8310-0242ac120002-17-7a5a-6094-5fe7-bee2-7e77-c6c9-208c-3539-8b3d-bccc",
       "previous": "988b9c48-c345-11e7-8310-0242ac120002-17-ff75-f6a2-e9b5-169b-d606-075f-62ce-2fa3-9694-4ed5"
      },
      {
       "current": "988b9d56-c345-11e7-8310-0242ac120002-19-cbf5-f6cf-5167-0915-9547-55cf-f636-db49-68d9-e4a4",
       "next": "988b9e5a-c345-11e7-8310-0242ac120002-18-6094-5fe7-bee2-7e77-c6c9-208c-3539-8b3d-bccc-0bf7",
       "previous": "988b9c48-c345-11e7-8310-0242ac120002-18-f6a2-e9b5-169b-d606-075f-62ce-2fa3-9694-4ed5-c681"
      },
      {
       "current": "988b9d56-c345-11e7-8310-0242ac120002-20-f6cf-5167-0915-9547-55cf-f636-db49-68d9-e4a4-106c",
       "next": "988b9e5a-c345-11e7-8310-0242ac120002-19-5fe7-bee2-7e77-c6c9-208c-3539-8b3d-bccc-0bf7-d822",
       "previous": "988b9c48-c345-11e7-8310-0242ac120002-19-e9b5-169b-d606-075f-62ce-2fa3-9694-4ed5-c681-6f0e"
      }
     ],
     "next": "988b9e5a-c345-11e7-8310-0242ac120002-20-bee2-7e77-c6c9-208c-3539-8b3d-bccc-0bf7-d822-f9d6",
     "previous": "988b9c48-c345-11e7-8310-0242ac120002-20-169b-d606-075f-62ce-2fa3-9694-4ed5-c681-6f0e-1734"
    }
   },
   "source": [
    "Dockerのhello-worldイメージが実行された。OK。"
   ]
  },
  {
   "cell_type": "markdown",
   "metadata": {
    "lc_cell_meme": {
     "current": "988b9e5a-c345-11e7-8310-0242ac120002-20-bee2-7e77-c6c9-208c-3539-8b3d-bccc-0bf7-d822-f9d6",
     "history": [
      {
       "current": "988b9e5a-c345-11e7-8310-0242ac120002-14-a298-7734-7027-7a5a-6094-5fe7-bee2-7e77-c6c9-208c",
       "next": "988b9f68-c345-11e7-8310-0242ac120002-13-533f-541b-348d-106b-22d9-65f0-e3a1-7f07-68c0-b286",
       "previous": "988b9d56-c345-11e7-8310-0242ac120002-13-ee92-aaa5-17d9-e744-053f-96b1-cbf5-f6cf-5167-0915"
      },
      {
       "current": "988b9e5a-c345-11e7-8310-0242ac120002-15-7734-7027-7a5a-6094-5fe7-bee2-7e77-c6c9-208c-3539",
       "next": "988b9f68-c345-11e7-8310-0242ac120002-14-541b-348d-106b-22d9-65f0-e3a1-7f07-68c0-b286-d236",
       "previous": "988b9d56-c345-11e7-8310-0242ac120002-14-aaa5-17d9-e744-053f-96b1-cbf5-f6cf-5167-0915-9547"
      },
      {
       "current": "988b9e5a-c345-11e7-8310-0242ac120002-16-7027-7a5a-6094-5fe7-bee2-7e77-c6c9-208c-3539-8b3d",
       "next": "988b9f68-c345-11e7-8310-0242ac120002-15-348d-106b-22d9-65f0-e3a1-7f07-68c0-b286-d236-9668",
       "previous": "988b9d56-c345-11e7-8310-0242ac120002-15-17d9-e744-053f-96b1-cbf5-f6cf-5167-0915-9547-55cf"
      },
      {
       "current": "988b9e5a-c345-11e7-8310-0242ac120002-17-7a5a-6094-5fe7-bee2-7e77-c6c9-208c-3539-8b3d-bccc",
       "next": "988b9f68-c345-11e7-8310-0242ac120002-16-106b-22d9-65f0-e3a1-7f07-68c0-b286-d236-9668-fc17",
       "previous": "988b9d56-c345-11e7-8310-0242ac120002-16-e744-053f-96b1-cbf5-f6cf-5167-0915-9547-55cf-f636"
      },
      {
       "current": "988b9e5a-c345-11e7-8310-0242ac120002-18-6094-5fe7-bee2-7e77-c6c9-208c-3539-8b3d-bccc-0bf7",
       "next": "988b9f68-c345-11e7-8310-0242ac120002-17-22d9-65f0-e3a1-7f07-68c0-b286-d236-9668-fc17-3534",
       "previous": "988b9d56-c345-11e7-8310-0242ac120002-17-053f-96b1-cbf5-f6cf-5167-0915-9547-55cf-f636-db49"
      },
      {
       "current": "988b9e5a-c345-11e7-8310-0242ac120002-19-5fe7-bee2-7e77-c6c9-208c-3539-8b3d-bccc-0bf7-d822",
       "next": "988b9f68-c345-11e7-8310-0242ac120002-18-65f0-e3a1-7f07-68c0-b286-d236-9668-fc17-3534-417e",
       "previous": "988b9d56-c345-11e7-8310-0242ac120002-18-96b1-cbf5-f6cf-5167-0915-9547-55cf-f636-db49-68d9"
      },
      {
       "current": "988b9e5a-c345-11e7-8310-0242ac120002-20-bee2-7e77-c6c9-208c-3539-8b3d-bccc-0bf7-d822-f9d6",
       "next": "988b9f68-c345-11e7-8310-0242ac120002-19-e3a1-7f07-68c0-b286-d236-9668-fc17-3534-417e-e943",
       "previous": "988b9d56-c345-11e7-8310-0242ac120002-19-cbf5-f6cf-5167-0915-9547-55cf-f636-db49-68d9-e4a4"
      }
     ],
     "next": "988b9f68-c345-11e7-8310-0242ac120002-20-7f07-68c0-b286-d236-9668-fc17-3534-417e-e943-44d7",
     "previous": "988b9d56-c345-11e7-8310-0242ac120002-20-f6cf-5167-0915-9547-55cf-f636-db49-68d9-e4a4-106c"
    }
   },
   "source": [
    "# Docker Composeの動作確認\n",
    "\n",
    "Docker Composeが動作することも確認しておく。\n",
    "\n",
    "まずローカルにdocker-compose.ymlファイルを準備。"
   ]
  },
  {
   "cell_type": "code",
   "execution_count": null,
   "metadata": {
    "lc_cell_meme": {
     "current": "988b9f68-c345-11e7-8310-0242ac120002-20-7f07-68c0-b286-d236-9668-fc17-3534-417e-e943-44d7",
     "history": [
      {
       "current": "988b9f68-c345-11e7-8310-0242ac120002-14-541b-348d-106b-22d9-65f0-e3a1-7f07-68c0-b286-d236",
       "next": "988ba06c-c345-11e7-8310-0242ac120002-13-807d-a80a-369f-0455-cbd6-4fe9-1c2c-3267-c463-c21f",
       "previous": "988b9e5a-c345-11e7-8310-0242ac120002-13-c8c0-a298-7734-7027-7a5a-6094-5fe7-bee2-7e77-c6c9"
      },
      {
       "current": "988b9f68-c345-11e7-8310-0242ac120002-15-348d-106b-22d9-65f0-e3a1-7f07-68c0-b286-d236-9668",
       "next": "988ba06c-c345-11e7-8310-0242ac120002-14-a80a-369f-0455-cbd6-4fe9-1c2c-3267-c463-c21f-f3fb",
       "previous": "988b9e5a-c345-11e7-8310-0242ac120002-14-a298-7734-7027-7a5a-6094-5fe7-bee2-7e77-c6c9-208c"
      },
      {
       "current": "988b9f68-c345-11e7-8310-0242ac120002-16-106b-22d9-65f0-e3a1-7f07-68c0-b286-d236-9668-fc17",
       "next": "988ba06c-c345-11e7-8310-0242ac120002-15-369f-0455-cbd6-4fe9-1c2c-3267-c463-c21f-f3fb-6bfc",
       "previous": "988b9e5a-c345-11e7-8310-0242ac120002-15-7734-7027-7a5a-6094-5fe7-bee2-7e77-c6c9-208c-3539"
      },
      {
       "current": "988b9f68-c345-11e7-8310-0242ac120002-17-22d9-65f0-e3a1-7f07-68c0-b286-d236-9668-fc17-3534",
       "next": "988ba06c-c345-11e7-8310-0242ac120002-16-0455-cbd6-4fe9-1c2c-3267-c463-c21f-f3fb-6bfc-93f8",
       "previous": "988b9e5a-c345-11e7-8310-0242ac120002-16-7027-7a5a-6094-5fe7-bee2-7e77-c6c9-208c-3539-8b3d"
      },
      {
       "current": "988b9f68-c345-11e7-8310-0242ac120002-18-65f0-e3a1-7f07-68c0-b286-d236-9668-fc17-3534-417e",
       "next": "988ba06c-c345-11e7-8310-0242ac120002-17-cbd6-4fe9-1c2c-3267-c463-c21f-f3fb-6bfc-93f8-13dd",
       "previous": "988b9e5a-c345-11e7-8310-0242ac120002-17-7a5a-6094-5fe7-bee2-7e77-c6c9-208c-3539-8b3d-bccc"
      },
      {
       "current": "988b9f68-c345-11e7-8310-0242ac120002-19-e3a1-7f07-68c0-b286-d236-9668-fc17-3534-417e-e943",
       "next": "988ba06c-c345-11e7-8310-0242ac120002-18-4fe9-1c2c-3267-c463-c21f-f3fb-6bfc-93f8-13dd-449e",
       "previous": "988b9e5a-c345-11e7-8310-0242ac120002-18-6094-5fe7-bee2-7e77-c6c9-208c-3539-8b3d-bccc-0bf7"
      },
      {
       "current": "988b9f68-c345-11e7-8310-0242ac120002-20-7f07-68c0-b286-d236-9668-fc17-3534-417e-e943-44d7",
       "next": "988ba06c-c345-11e7-8310-0242ac120002-19-1c2c-3267-c463-c21f-f3fb-6bfc-93f8-13dd-449e-fea3",
       "previous": "988b9e5a-c345-11e7-8310-0242ac120002-19-5fe7-bee2-7e77-c6c9-208c-3539-8b3d-bccc-0bf7-d822"
      }
     ],
     "next": "988ba06c-c345-11e7-8310-0242ac120002-20-3267-c463-c21f-f3fb-6bfc-93f8-13dd-449e-fea3-d6c8",
     "previous": "988b9e5a-c345-11e7-8310-0242ac120002-20-bee2-7e77-c6c9-208c-3539-8b3d-bccc-0bf7-d822-f9d6"
    }
   },
   "outputs": [],
   "source": [
    "!mkdir -p {temp_dir}/hello-compose/"
   ]
  },
  {
   "cell_type": "code",
   "execution_count": null,
   "metadata": {
    "lc_cell_meme": {
     "current": "988ba06c-c345-11e7-8310-0242ac120002-20-3267-c463-c21f-f3fb-6bfc-93f8-13dd-449e-fea3-d6c8",
     "history": [
      {
       "current": "988ba06c-c345-11e7-8310-0242ac120002-14-a80a-369f-0455-cbd6-4fe9-1c2c-3267-c463-c21f-f3fb",
       "next": "988ba17a-c345-11e7-8310-0242ac120002-13-2366-d774-cf12-6078-6f80-b20b-22da-0dc8-c84c-684e",
       "previous": "988b9f68-c345-11e7-8310-0242ac120002-13-533f-541b-348d-106b-22d9-65f0-e3a1-7f07-68c0-b286"
      },
      {
       "current": "988ba06c-c345-11e7-8310-0242ac120002-15-369f-0455-cbd6-4fe9-1c2c-3267-c463-c21f-f3fb-6bfc",
       "next": "988ba17a-c345-11e7-8310-0242ac120002-14-d774-cf12-6078-6f80-b20b-22da-0dc8-c84c-684e-2c39",
       "previous": "988b9f68-c345-11e7-8310-0242ac120002-14-541b-348d-106b-22d9-65f0-e3a1-7f07-68c0-b286-d236"
      },
      {
       "current": "988ba06c-c345-11e7-8310-0242ac120002-16-0455-cbd6-4fe9-1c2c-3267-c463-c21f-f3fb-6bfc-93f8",
       "next": "988ba17a-c345-11e7-8310-0242ac120002-15-cf12-6078-6f80-b20b-22da-0dc8-c84c-684e-2c39-b934",
       "previous": "988b9f68-c345-11e7-8310-0242ac120002-15-348d-106b-22d9-65f0-e3a1-7f07-68c0-b286-d236-9668"
      },
      {
       "current": "988ba06c-c345-11e7-8310-0242ac120002-17-cbd6-4fe9-1c2c-3267-c463-c21f-f3fb-6bfc-93f8-13dd",
       "next": "988ba17a-c345-11e7-8310-0242ac120002-16-6078-6f80-b20b-22da-0dc8-c84c-684e-2c39-b934-7729",
       "previous": "988b9f68-c345-11e7-8310-0242ac120002-16-106b-22d9-65f0-e3a1-7f07-68c0-b286-d236-9668-fc17"
      },
      {
       "current": "988ba06c-c345-11e7-8310-0242ac120002-18-4fe9-1c2c-3267-c463-c21f-f3fb-6bfc-93f8-13dd-449e",
       "next": "988ba17a-c345-11e7-8310-0242ac120002-17-6f80-b20b-22da-0dc8-c84c-684e-2c39-b934-7729-7ade",
       "previous": "988b9f68-c345-11e7-8310-0242ac120002-17-22d9-65f0-e3a1-7f07-68c0-b286-d236-9668-fc17-3534"
      },
      {
       "current": "988ba06c-c345-11e7-8310-0242ac120002-19-1c2c-3267-c463-c21f-f3fb-6bfc-93f8-13dd-449e-fea3",
       "next": "988ba17a-c345-11e7-8310-0242ac120002-18-b20b-22da-0dc8-c84c-684e-2c39-b934-7729-7ade-4b41",
       "previous": "988b9f68-c345-11e7-8310-0242ac120002-18-65f0-e3a1-7f07-68c0-b286-d236-9668-fc17-3534-417e"
      },
      {
       "current": "988ba06c-c345-11e7-8310-0242ac120002-20-3267-c463-c21f-f3fb-6bfc-93f8-13dd-449e-fea3-d6c8",
       "next": "988ba17a-c345-11e7-8310-0242ac120002-19-22da-0dc8-c84c-684e-2c39-b934-7729-7ade-4b41-1fa3",
       "previous": "988b9f68-c345-11e7-8310-0242ac120002-19-e3a1-7f07-68c0-b286-d236-9668-fc17-3534-417e-e943"
      }
     ],
     "next": "988ba17a-c345-11e7-8310-0242ac120002-20-0dc8-c84c-684e-2c39-b934-7729-7ade-4b41-1fa3-86cf",
     "previous": "988b9f68-c345-11e7-8310-0242ac120002-20-7f07-68c0-b286-d236-9668-fc17-3534-417e-e943-44d7"
    }
   },
   "outputs": [],
   "source": [
    "%%writefile {temp_dir}/hello-compose/docker-compose.yml\n",
    "version: '2'\n",
    "services:\n",
    "  test-hello-world:\n",
    "    image: hello-world"
   ]
  },
  {
   "cell_type": "markdown",
   "metadata": {
    "lc_cell_meme": {
     "current": "988ba17a-c345-11e7-8310-0242ac120002-20-0dc8-c84c-684e-2c39-b934-7729-7ade-4b41-1fa3-86cf",
     "history": [
      {
       "current": "988ba17a-c345-11e7-8310-0242ac120002-14-d774-cf12-6078-6f80-b20b-22da-0dc8-c84c-684e-2c39",
       "next": "988ba288-c345-11e7-8310-0242ac120002-13-b83f-3d7f-dffa-d482-2d8e-f563-3d15-447f-1757-8669",
       "previous": "988ba06c-c345-11e7-8310-0242ac120002-13-807d-a80a-369f-0455-cbd6-4fe9-1c2c-3267-c463-c21f"
      },
      {
       "current": "988ba17a-c345-11e7-8310-0242ac120002-15-cf12-6078-6f80-b20b-22da-0dc8-c84c-684e-2c39-b934",
       "next": "988ba288-c345-11e7-8310-0242ac120002-14-3d7f-dffa-d482-2d8e-f563-3d15-447f-1757-8669-91a8",
       "previous": "988ba06c-c345-11e7-8310-0242ac120002-14-a80a-369f-0455-cbd6-4fe9-1c2c-3267-c463-c21f-f3fb"
      },
      {
       "current": "988ba17a-c345-11e7-8310-0242ac120002-16-6078-6f80-b20b-22da-0dc8-c84c-684e-2c39-b934-7729",
       "next": "988ba288-c345-11e7-8310-0242ac120002-15-dffa-d482-2d8e-f563-3d15-447f-1757-8669-91a8-21f8",
       "previous": "988ba06c-c345-11e7-8310-0242ac120002-15-369f-0455-cbd6-4fe9-1c2c-3267-c463-c21f-f3fb-6bfc"
      },
      {
       "current": "988ba17a-c345-11e7-8310-0242ac120002-17-6f80-b20b-22da-0dc8-c84c-684e-2c39-b934-7729-7ade",
       "next": "988ba288-c345-11e7-8310-0242ac120002-16-d482-2d8e-f563-3d15-447f-1757-8669-91a8-21f8-5edb",
       "previous": "988ba06c-c345-11e7-8310-0242ac120002-16-0455-cbd6-4fe9-1c2c-3267-c463-c21f-f3fb-6bfc-93f8"
      },
      {
       "current": "988ba17a-c345-11e7-8310-0242ac120002-18-b20b-22da-0dc8-c84c-684e-2c39-b934-7729-7ade-4b41",
       "next": "988ba288-c345-11e7-8310-0242ac120002-17-2d8e-f563-3d15-447f-1757-8669-91a8-21f8-5edb-f9fd",
       "previous": "988ba06c-c345-11e7-8310-0242ac120002-17-cbd6-4fe9-1c2c-3267-c463-c21f-f3fb-6bfc-93f8-13dd"
      },
      {
       "current": "988ba17a-c345-11e7-8310-0242ac120002-19-22da-0dc8-c84c-684e-2c39-b934-7729-7ade-4b41-1fa3",
       "next": "988ba288-c345-11e7-8310-0242ac120002-18-f563-3d15-447f-1757-8669-91a8-21f8-5edb-f9fd-4c82",
       "previous": "988ba06c-c345-11e7-8310-0242ac120002-18-4fe9-1c2c-3267-c463-c21f-f3fb-6bfc-93f8-13dd-449e"
      },
      {
       "current": "988ba17a-c345-11e7-8310-0242ac120002-20-0dc8-c84c-684e-2c39-b934-7729-7ade-4b41-1fa3-86cf",
       "next": "988ba288-c345-11e7-8310-0242ac120002-19-3d15-447f-1757-8669-91a8-21f8-5edb-f9fd-4c82-1abc",
       "previous": "988ba06c-c345-11e7-8310-0242ac120002-19-1c2c-3267-c463-c21f-f3fb-6bfc-93f8-13dd-449e-fea3"
      }
     ],
     "next": "988ba288-c345-11e7-8310-0242ac120002-20-447f-1757-8669-91a8-21f8-5edb-f9fd-4c82-1abc-bcd8",
     "previous": "988ba06c-c345-11e7-8310-0242ac120002-20-3267-c463-c21f-f3fb-6bfc-93f8-13dd-449e-fea3-d6c8"
    }
   },
   "source": [
    "作成したdocker-compose.ymlを、Bind対象ホストにアップロードする。"
   ]
  },
  {
   "cell_type": "code",
   "execution_count": null,
   "metadata": {
    "lc_cell_meme": {
     "current": "988ba288-c345-11e7-8310-0242ac120002-20-447f-1757-8669-91a8-21f8-5edb-f9fd-4c82-1abc-bcd8",
     "history": [
      {
       "current": "988ba288-c345-11e7-8310-0242ac120002-14-3d7f-dffa-d482-2d8e-f563-3d15-447f-1757-8669-91a8",
       "next": "988ba38c-c345-11e7-8310-0242ac120002-13-b49b-3cb4-baab-ad61-cd0f-c38a-640f-1551-fc99-8328",
       "previous": "988ba17a-c345-11e7-8310-0242ac120002-13-2366-d774-cf12-6078-6f80-b20b-22da-0dc8-c84c-684e"
      },
      {
       "current": "988ba288-c345-11e7-8310-0242ac120002-15-dffa-d482-2d8e-f563-3d15-447f-1757-8669-91a8-21f8",
       "next": "988ba38c-c345-11e7-8310-0242ac120002-14-3cb4-baab-ad61-cd0f-c38a-640f-1551-fc99-8328-66a9",
       "previous": "988ba17a-c345-11e7-8310-0242ac120002-14-d774-cf12-6078-6f80-b20b-22da-0dc8-c84c-684e-2c39"
      },
      {
       "current": "988ba288-c345-11e7-8310-0242ac120002-16-d482-2d8e-f563-3d15-447f-1757-8669-91a8-21f8-5edb",
       "next": "988ba38c-c345-11e7-8310-0242ac120002-15-baab-ad61-cd0f-c38a-640f-1551-fc99-8328-66a9-dce7",
       "previous": "988ba17a-c345-11e7-8310-0242ac120002-15-cf12-6078-6f80-b20b-22da-0dc8-c84c-684e-2c39-b934"
      },
      {
       "current": "988ba288-c345-11e7-8310-0242ac120002-17-2d8e-f563-3d15-447f-1757-8669-91a8-21f8-5edb-f9fd",
       "next": "988ba38c-c345-11e7-8310-0242ac120002-16-ad61-cd0f-c38a-640f-1551-fc99-8328-66a9-dce7-e229",
       "previous": "988ba17a-c345-11e7-8310-0242ac120002-16-6078-6f80-b20b-22da-0dc8-c84c-684e-2c39-b934-7729"
      },
      {
       "current": "988ba288-c345-11e7-8310-0242ac120002-18-f563-3d15-447f-1757-8669-91a8-21f8-5edb-f9fd-4c82",
       "next": "988ba38c-c345-11e7-8310-0242ac120002-17-cd0f-c38a-640f-1551-fc99-8328-66a9-dce7-e229-6aa4",
       "previous": "988ba17a-c345-11e7-8310-0242ac120002-17-6f80-b20b-22da-0dc8-c84c-684e-2c39-b934-7729-7ade"
      },
      {
       "current": "988ba288-c345-11e7-8310-0242ac120002-19-3d15-447f-1757-8669-91a8-21f8-5edb-f9fd-4c82-1abc",
       "next": "988ba38c-c345-11e7-8310-0242ac120002-18-c38a-640f-1551-fc99-8328-66a9-dce7-e229-6aa4-bed6",
       "previous": "988ba17a-c345-11e7-8310-0242ac120002-18-b20b-22da-0dc8-c84c-684e-2c39-b934-7729-7ade-4b41"
      },
      {
       "current": "988ba288-c345-11e7-8310-0242ac120002-20-447f-1757-8669-91a8-21f8-5edb-f9fd-4c82-1abc-bcd8",
       "next": "988ba38c-c345-11e7-8310-0242ac120002-19-640f-1551-fc99-8328-66a9-dce7-e229-6aa4-bed6-3668",
       "previous": "988ba17a-c345-11e7-8310-0242ac120002-19-22da-0dc8-c84c-684e-2c39-b934-7729-7ade-4b41-1fa3"
      }
     ],
     "next": "988ba38c-c345-11e7-8310-0242ac120002-20-1551-fc99-8328-66a9-dce7-e229-6aa4-bed6-3668-5ecc",
     "previous": "988ba17a-c345-11e7-8310-0242ac120002-20-0dc8-c84c-684e-2c39-b934-7729-7ade-4b41-1fa3-86cf"
    },
    "scrolled": true
   },
   "outputs": [],
   "source": [
    "!ansible -b -m copy -a 'src={temp_dir}/hello-compose dest=~' {target_group}"
   ]
  },
  {
   "cell_type": "markdown",
   "metadata": {
    "lc_cell_meme": {
     "current": "988ba38c-c345-11e7-8310-0242ac120002-20-1551-fc99-8328-66a9-dce7-e229-6aa4-bed6-3668-5ecc",
     "history": [
      {
       "current": "988ba38c-c345-11e7-8310-0242ac120002-14-3cb4-baab-ad61-cd0f-c38a-640f-1551-fc99-8328-66a9",
       "next": "988ba49a-c345-11e7-8310-0242ac120002-13-d77d-3575-a969-75d4-54fc-d5fb-bf2b-2666-672c-389f",
       "previous": "988ba288-c345-11e7-8310-0242ac120002-13-b83f-3d7f-dffa-d482-2d8e-f563-3d15-447f-1757-8669"
      },
      {
       "current": "988ba38c-c345-11e7-8310-0242ac120002-15-baab-ad61-cd0f-c38a-640f-1551-fc99-8328-66a9-dce7",
       "next": "988ba49a-c345-11e7-8310-0242ac120002-14-3575-a969-75d4-54fc-d5fb-bf2b-2666-672c-389f-deb2",
       "previous": "988ba288-c345-11e7-8310-0242ac120002-14-3d7f-dffa-d482-2d8e-f563-3d15-447f-1757-8669-91a8"
      },
      {
       "current": "988ba38c-c345-11e7-8310-0242ac120002-16-ad61-cd0f-c38a-640f-1551-fc99-8328-66a9-dce7-e229",
       "next": "988ba49a-c345-11e7-8310-0242ac120002-15-a969-75d4-54fc-d5fb-bf2b-2666-672c-389f-deb2-4a6f",
       "previous": "988ba288-c345-11e7-8310-0242ac120002-15-dffa-d482-2d8e-f563-3d15-447f-1757-8669-91a8-21f8"
      },
      {
       "current": "988ba38c-c345-11e7-8310-0242ac120002-17-cd0f-c38a-640f-1551-fc99-8328-66a9-dce7-e229-6aa4",
       "next": "988ba49a-c345-11e7-8310-0242ac120002-16-75d4-54fc-d5fb-bf2b-2666-672c-389f-deb2-4a6f-cf29",
       "previous": "988ba288-c345-11e7-8310-0242ac120002-16-d482-2d8e-f563-3d15-447f-1757-8669-91a8-21f8-5edb"
      },
      {
       "current": "988ba38c-c345-11e7-8310-0242ac120002-18-c38a-640f-1551-fc99-8328-66a9-dce7-e229-6aa4-bed6",
       "next": "988ba49a-c345-11e7-8310-0242ac120002-17-54fc-d5fb-bf2b-2666-672c-389f-deb2-4a6f-cf29-e081",
       "previous": "988ba288-c345-11e7-8310-0242ac120002-17-2d8e-f563-3d15-447f-1757-8669-91a8-21f8-5edb-f9fd"
      },
      {
       "current": "988ba38c-c345-11e7-8310-0242ac120002-19-640f-1551-fc99-8328-66a9-dce7-e229-6aa4-bed6-3668",
       "next": "988ba49a-c345-11e7-8310-0242ac120002-18-d5fb-bf2b-2666-672c-389f-deb2-4a6f-cf29-e081-51da",
       "previous": "988ba288-c345-11e7-8310-0242ac120002-18-f563-3d15-447f-1757-8669-91a8-21f8-5edb-f9fd-4c82"
      },
      {
       "current": "988ba38c-c345-11e7-8310-0242ac120002-20-1551-fc99-8328-66a9-dce7-e229-6aa4-bed6-3668-5ecc",
       "next": "988ba49a-c345-11e7-8310-0242ac120002-19-bf2b-2666-672c-389f-deb2-4a6f-cf29-e081-51da-c372",
       "previous": "988ba288-c345-11e7-8310-0242ac120002-19-3d15-447f-1757-8669-91a8-21f8-5edb-f9fd-4c82-1abc"
      }
     ],
     "next": "988ba49a-c345-11e7-8310-0242ac120002-20-2666-672c-389f-deb2-4a6f-cf29-e081-51da-c372-6367",
     "previous": "988ba288-c345-11e7-8310-0242ac120002-20-447f-1757-8669-91a8-21f8-5edb-f9fd-4c82-1abc-bcd8"
    }
   },
   "source": [
    "実行してみる。`Hello from Docker`のようなメッセージが表示されたらOK。"
   ]
  },
  {
   "cell_type": "code",
   "execution_count": null,
   "metadata": {
    "lc_cell_meme": {
     "current": "988ba49a-c345-11e7-8310-0242ac120002-20-2666-672c-389f-deb2-4a6f-cf29-e081-51da-c372-6367",
     "history": [
      {
       "current": "988ba49a-c345-11e7-8310-0242ac120002-14-3575-a969-75d4-54fc-d5fb-bf2b-2666-672c-389f-deb2",
       "next": "1c50dd42-db26-11e8-a64b-02420aff0006-13-bfa1-2fdb-a17f-dc0f-320d-f4ba-dda4-e7c9-024a-19ac",
       "previous": "988ba38c-c345-11e7-8310-0242ac120002-13-b49b-3cb4-baab-ad61-cd0f-c38a-640f-1551-fc99-8328"
      },
      {
       "current": "988ba49a-c345-11e7-8310-0242ac120002-15-a969-75d4-54fc-d5fb-bf2b-2666-672c-389f-deb2-4a6f",
       "next": "1c50dd42-db26-11e8-a64b-02420aff0006-14-2fdb-a17f-dc0f-320d-f4ba-dda4-e7c9-024a-19ac-b642",
       "previous": "988ba38c-c345-11e7-8310-0242ac120002-14-3cb4-baab-ad61-cd0f-c38a-640f-1551-fc99-8328-66a9"
      },
      {
       "current": "988ba49a-c345-11e7-8310-0242ac120002-16-75d4-54fc-d5fb-bf2b-2666-672c-389f-deb2-4a6f-cf29",
       "next": "1c50dd42-db26-11e8-a64b-02420aff0006-15-a17f-dc0f-320d-f4ba-dda4-e7c9-024a-19ac-b642-9c84",
       "previous": "988ba38c-c345-11e7-8310-0242ac120002-15-baab-ad61-cd0f-c38a-640f-1551-fc99-8328-66a9-dce7"
      },
      {
       "current": "988ba49a-c345-11e7-8310-0242ac120002-17-54fc-d5fb-bf2b-2666-672c-389f-deb2-4a6f-cf29-e081",
       "next": "1c50dd42-db26-11e8-a64b-02420aff0006-16-dc0f-320d-f4ba-dda4-e7c9-024a-19ac-b642-9c84-a93c",
       "previous": "988ba38c-c345-11e7-8310-0242ac120002-16-ad61-cd0f-c38a-640f-1551-fc99-8328-66a9-dce7-e229"
      },
      {
       "current": "988ba49a-c345-11e7-8310-0242ac120002-18-d5fb-bf2b-2666-672c-389f-deb2-4a6f-cf29-e081-51da",
       "next": "1c50dd42-db26-11e8-a64b-02420aff0006-17-320d-f4ba-dda4-e7c9-024a-19ac-b642-9c84-a93c-f3f4",
       "previous": "988ba38c-c345-11e7-8310-0242ac120002-17-cd0f-c38a-640f-1551-fc99-8328-66a9-dce7-e229-6aa4"
      },
      {
       "current": "988ba49a-c345-11e7-8310-0242ac120002-19-bf2b-2666-672c-389f-deb2-4a6f-cf29-e081-51da-c372",
       "next": "1c50dd42-db26-11e8-a64b-02420aff0006-18-f4ba-dda4-e7c9-024a-19ac-b642-9c84-a93c-f3f4-9b8b",
       "previous": "988ba38c-c345-11e7-8310-0242ac120002-18-c38a-640f-1551-fc99-8328-66a9-dce7-e229-6aa4-bed6"
      },
      {
       "current": "988ba49a-c345-11e7-8310-0242ac120002-20-2666-672c-389f-deb2-4a6f-cf29-e081-51da-c372-6367",
       "next": "1c50dd42-db26-11e8-a64b-02420aff0006-19-dda4-e7c9-024a-19ac-b642-9c84-a93c-f3f4-9b8b-623c",
       "previous": "988ba38c-c345-11e7-8310-0242ac120002-19-640f-1551-fc99-8328-66a9-dce7-e229-6aa4-bed6-3668"
      }
     ],
     "next": "1c50dd42-db26-11e8-a64b-02420aff0006-20-e7c9-024a-19ac-b642-9c84-a93c-f3f4-9b8b-623c-82ab",
     "previous": "988ba38c-c345-11e7-8310-0242ac120002-20-1551-fc99-8328-66a9-dce7-e229-6aa4-bed6-3668-5ecc"
    },
    "scrolled": true
   },
   "outputs": [],
   "source": [
    "!ansible -b -a 'chdir=~/hello-compose /usr/local/bin/docker-compose up' {target_group}"
   ]
  },
  {
   "cell_type": "markdown",
   "metadata": {
    "lc_cell_meme": {
     "current": "1c50dd42-db26-11e8-a64b-02420aff0006-20-e7c9-024a-19ac-b642-9c84-a93c-f3f4-9b8b-623c-82ab",
     "history": [
      {
       "current": "1c50dd42-db26-11e8-a64b-02420aff0006-14-2fdb-a17f-dc0f-320d-f4ba-dda4-e7c9-024a-19ac-b642",
       "next": "550493ee-e32e-11e8-9b3e-02420aff0006-13-8ca6-c25d-4e6d-be23-2e80-d0e3-dc32-8793-1958-5471",
       "previous": "988ba49a-c345-11e7-8310-0242ac120002-13-d77d-3575-a969-75d4-54fc-d5fb-bf2b-2666-672c-389f"
      },
      {
       "current": "1c50dd42-db26-11e8-a64b-02420aff0006-15-a17f-dc0f-320d-f4ba-dda4-e7c9-024a-19ac-b642-9c84",
       "next": "550493ee-e32e-11e8-9b3e-02420aff0006-14-c25d-4e6d-be23-2e80-d0e3-dc32-8793-1958-5471-de99",
       "previous": "988ba49a-c345-11e7-8310-0242ac120002-14-3575-a969-75d4-54fc-d5fb-bf2b-2666-672c-389f-deb2"
      },
      {
       "current": "1c50dd42-db26-11e8-a64b-02420aff0006-16-dc0f-320d-f4ba-dda4-e7c9-024a-19ac-b642-9c84-a93c",
       "next": "550493ee-e32e-11e8-9b3e-02420aff0006-15-4e6d-be23-2e80-d0e3-dc32-8793-1958-5471-de99-5f95",
       "previous": "988ba49a-c345-11e7-8310-0242ac120002-15-a969-75d4-54fc-d5fb-bf2b-2666-672c-389f-deb2-4a6f"
      },
      {
       "current": "1c50dd42-db26-11e8-a64b-02420aff0006-17-320d-f4ba-dda4-e7c9-024a-19ac-b642-9c84-a93c-f3f4",
       "next": "550493ee-e32e-11e8-9b3e-02420aff0006-16-be23-2e80-d0e3-dc32-8793-1958-5471-de99-5f95-01a1",
       "previous": "988ba49a-c345-11e7-8310-0242ac120002-16-75d4-54fc-d5fb-bf2b-2666-672c-389f-deb2-4a6f-cf29"
      },
      {
       "current": "1c50dd42-db26-11e8-a64b-02420aff0006-18-f4ba-dda4-e7c9-024a-19ac-b642-9c84-a93c-f3f4-9b8b",
       "next": "550493ee-e32e-11e8-9b3e-02420aff0006-17-2e80-d0e3-dc32-8793-1958-5471-de99-5f95-01a1-d604",
       "previous": "988ba49a-c345-11e7-8310-0242ac120002-17-54fc-d5fb-bf2b-2666-672c-389f-deb2-4a6f-cf29-e081"
      },
      {
       "current": "1c50dd42-db26-11e8-a64b-02420aff0006-19-dda4-e7c9-024a-19ac-b642-9c84-a93c-f3f4-9b8b-623c",
       "next": "550493ee-e32e-11e8-9b3e-02420aff0006-18-d0e3-dc32-8793-1958-5471-de99-5f95-01a1-d604-32d6",
       "previous": "988ba49a-c345-11e7-8310-0242ac120002-18-d5fb-bf2b-2666-672c-389f-deb2-4a6f-cf29-e081-51da"
      },
      {
       "current": "1c50dd42-db26-11e8-a64b-02420aff0006-20-e7c9-024a-19ac-b642-9c84-a93c-f3f4-9b8b-623c-82ab",
       "next": "550493ee-e32e-11e8-9b3e-02420aff0006-19-dc32-8793-1958-5471-de99-5f95-01a1-d604-32d6-34c4",
       "previous": "988ba49a-c345-11e7-8310-0242ac120002-19-bf2b-2666-672c-389f-deb2-4a6f-cf29-e081-51da-c372"
      }
     ],
     "next": "550493ee-e32e-11e8-9b3e-02420aff0006-20-8793-1958-5471-de99-5f95-01a1-d604-32d6-34c4-5d54",
     "previous": "988ba49a-c345-11e7-8310-0242ac120002-20-2666-672c-389f-deb2-4a6f-cf29-e081-51da-c372-6367"
    }
   },
   "source": [
    "# Docker Swarmの準備\n",
    "\n",
    "Swarm Modeを有効化する。\n",
    "\n",
    "https://docs.docker.com/engine/swarm/swarm-tutorial/create-swarm/"
   ]
  },
  {
   "cell_type": "markdown",
   "metadata": {
    "lc_cell_meme": {
     "current": "550493ee-e32e-11e8-9b3e-02420aff0006-20-8793-1958-5471-de99-5f95-01a1-d604-32d6-34c4-5d54",
     "history": [
      {
       "current": "550493ee-e32e-11e8-9b3e-02420aff0006-14-c25d-4e6d-be23-2e80-d0e3-dc32-8793-1958-5471-de99",
       "next": "55049736-e32e-11e8-9b3e-02420aff0006-13-b611-c502-bf1c-2cd4-3990-4e8e-9a13-d84b-6836-30a5",
       "previous": "1c50dd42-db26-11e8-a64b-02420aff0006-13-bfa1-2fdb-a17f-dc0f-320d-f4ba-dda4-e7c9-024a-19ac"
      },
      {
       "current": "550493ee-e32e-11e8-9b3e-02420aff0006-15-4e6d-be23-2e80-d0e3-dc32-8793-1958-5471-de99-5f95",
       "next": "55049736-e32e-11e8-9b3e-02420aff0006-14-c502-bf1c-2cd4-3990-4e8e-9a13-d84b-6836-30a5-5ed4",
       "previous": "1c50dd42-db26-11e8-a64b-02420aff0006-14-2fdb-a17f-dc0f-320d-f4ba-dda4-e7c9-024a-19ac-b642"
      },
      {
       "current": "550493ee-e32e-11e8-9b3e-02420aff0006-16-be23-2e80-d0e3-dc32-8793-1958-5471-de99-5f95-01a1",
       "next": "55049736-e32e-11e8-9b3e-02420aff0006-15-bf1c-2cd4-3990-4e8e-9a13-d84b-6836-30a5-5ed4-522d",
       "previous": "1c50dd42-db26-11e8-a64b-02420aff0006-15-a17f-dc0f-320d-f4ba-dda4-e7c9-024a-19ac-b642-9c84"
      },
      {
       "current": "550493ee-e32e-11e8-9b3e-02420aff0006-17-2e80-d0e3-dc32-8793-1958-5471-de99-5f95-01a1-d604",
       "next": "55049736-e32e-11e8-9b3e-02420aff0006-16-2cd4-3990-4e8e-9a13-d84b-6836-30a5-5ed4-522d-ff7a",
       "previous": "1c50dd42-db26-11e8-a64b-02420aff0006-16-dc0f-320d-f4ba-dda4-e7c9-024a-19ac-b642-9c84-a93c"
      },
      {
       "current": "550493ee-e32e-11e8-9b3e-02420aff0006-18-d0e3-dc32-8793-1958-5471-de99-5f95-01a1-d604-32d6",
       "next": "55049736-e32e-11e8-9b3e-02420aff0006-17-3990-4e8e-9a13-d84b-6836-30a5-5ed4-522d-ff7a-89f2",
       "previous": "1c50dd42-db26-11e8-a64b-02420aff0006-17-320d-f4ba-dda4-e7c9-024a-19ac-b642-9c84-a93c-f3f4"
      },
      {
       "current": "550493ee-e32e-11e8-9b3e-02420aff0006-19-dc32-8793-1958-5471-de99-5f95-01a1-d604-32d6-34c4",
       "next": "55049736-e32e-11e8-9b3e-02420aff0006-18-4e8e-9a13-d84b-6836-30a5-5ed4-522d-ff7a-89f2-9a57",
       "previous": "1c50dd42-db26-11e8-a64b-02420aff0006-18-f4ba-dda4-e7c9-024a-19ac-b642-9c84-a93c-f3f4-9b8b"
      },
      {
       "current": "550493ee-e32e-11e8-9b3e-02420aff0006-20-8793-1958-5471-de99-5f95-01a1-d604-32d6-34c4-5d54",
       "next": "55049736-e32e-11e8-9b3e-02420aff0006-19-9a13-d84b-6836-30a5-5ed4-522d-ff7a-89f2-9a57-1792",
       "previous": "1c50dd42-db26-11e8-a64b-02420aff0006-19-dda4-e7c9-024a-19ac-b642-9c84-a93c-f3f4-9b8b-623c"
      }
     ],
     "next": "55049736-e32e-11e8-9b3e-02420aff0006-20-d84b-6836-30a5-5ed4-522d-ff7a-89f2-9a57-1792-fb99",
     "previous": "1c50dd42-db26-11e8-a64b-02420aff0006-20-e7c9-024a-19ac-b642-9c84-a93c-f3f4-9b8b-623c-82ab"
    }
   },
   "source": [
    "## 前提条件の確認"
   ]
  },
  {
   "cell_type": "markdown",
   "metadata": {
    "lc_cell_meme": {
     "current": "55049736-e32e-11e8-9b3e-02420aff0006-20-d84b-6836-30a5-5ed4-522d-ff7a-89f2-9a57-1792-fb99",
     "history": [
      {
       "current": "55049736-e32e-11e8-9b3e-02420aff0006-14-c502-bf1c-2cd4-3990-4e8e-9a13-d84b-6836-30a5-5ed4",
       "next": "98de5294-e32e-11e8-9b3e-02420aff0006-13-5ce6-4ded-8850-4a48-eceb-6d1e-208d-1a93-20f7-afce",
       "previous": "550493ee-e32e-11e8-9b3e-02420aff0006-13-8ca6-c25d-4e6d-be23-2e80-d0e3-dc32-8793-1958-5471"
      },
      {
       "current": "55049736-e32e-11e8-9b3e-02420aff0006-15-bf1c-2cd4-3990-4e8e-9a13-d84b-6836-30a5-5ed4-522d",
       "next": "98de5294-e32e-11e8-9b3e-02420aff0006-14-4ded-8850-4a48-eceb-6d1e-208d-1a93-20f7-afce-a310",
       "previous": "550493ee-e32e-11e8-9b3e-02420aff0006-14-c25d-4e6d-be23-2e80-d0e3-dc32-8793-1958-5471-de99"
      },
      {
       "current": "55049736-e32e-11e8-9b3e-02420aff0006-16-2cd4-3990-4e8e-9a13-d84b-6836-30a5-5ed4-522d-ff7a",
       "next": "98de5294-e32e-11e8-9b3e-02420aff0006-15-8850-4a48-eceb-6d1e-208d-1a93-20f7-afce-a310-6ad8",
       "previous": "550493ee-e32e-11e8-9b3e-02420aff0006-15-4e6d-be23-2e80-d0e3-dc32-8793-1958-5471-de99-5f95"
      },
      {
       "current": "55049736-e32e-11e8-9b3e-02420aff0006-17-3990-4e8e-9a13-d84b-6836-30a5-5ed4-522d-ff7a-89f2",
       "next": "98de5294-e32e-11e8-9b3e-02420aff0006-16-4a48-eceb-6d1e-208d-1a93-20f7-afce-a310-6ad8-d821",
       "previous": "550493ee-e32e-11e8-9b3e-02420aff0006-16-be23-2e80-d0e3-dc32-8793-1958-5471-de99-5f95-01a1"
      },
      {
       "current": "55049736-e32e-11e8-9b3e-02420aff0006-18-4e8e-9a13-d84b-6836-30a5-5ed4-522d-ff7a-89f2-9a57",
       "next": "98de5294-e32e-11e8-9b3e-02420aff0006-17-eceb-6d1e-208d-1a93-20f7-afce-a310-6ad8-d821-1972",
       "previous": "550493ee-e32e-11e8-9b3e-02420aff0006-17-2e80-d0e3-dc32-8793-1958-5471-de99-5f95-01a1-d604"
      },
      {
       "current": "55049736-e32e-11e8-9b3e-02420aff0006-19-9a13-d84b-6836-30a5-5ed4-522d-ff7a-89f2-9a57-1792",
       "next": "98de5294-e32e-11e8-9b3e-02420aff0006-18-6d1e-208d-1a93-20f7-afce-a310-6ad8-d821-1972-76f9",
       "previous": "550493ee-e32e-11e8-9b3e-02420aff0006-18-d0e3-dc32-8793-1958-5471-de99-5f95-01a1-d604-32d6"
      },
      {
       "current": "55049736-e32e-11e8-9b3e-02420aff0006-20-d84b-6836-30a5-5ed4-522d-ff7a-89f2-9a57-1792-fb99",
       "next": "98de5294-e32e-11e8-9b3e-02420aff0006-19-208d-1a93-20f7-afce-a310-6ad8-d821-1972-76f9-cf6c",
       "previous": "550493ee-e32e-11e8-9b3e-02420aff0006-19-dc32-8793-1958-5471-de99-5f95-01a1-d604-32d6-34c4"
      }
     ],
     "next": "98de5294-e32e-11e8-9b3e-02420aff0006-20-1a93-20f7-afce-a310-6ad8-d821-1972-76f9-cf6c-e061",
     "previous": "550493ee-e32e-11e8-9b3e-02420aff0006-20-8793-1958-5471-de99-5f95-01a1-d604-32d6-34c4-5d54"
    }
   },
   "source": [
    "Docker Swarmは、Overlay Networkを使用するので、以下の前提条件が満たされていることを確認する。\n",
    "\n",
    "https://docs.docker.com/network/overlay/ \n",
    "\n",
    "の、Create an overlay networkの、Prerequisitesが満たされているか確認する。\n",
    "\n",
    "(firewalldの設定はこの後行う)"
   ]
  },
  {
   "cell_type": "code",
   "execution_count": null,
   "metadata": {
    "lc_cell_meme": {
     "current": "98de5294-e32e-11e8-9b3e-02420aff0006-20-1a93-20f7-afce-a310-6ad8-d821-1972-76f9-cf6c-e061",
     "history": [
      {
       "current": "98de5294-e32e-11e8-9b3e-02420aff0006-14-4ded-8850-4a48-eceb-6d1e-208d-1a93-20f7-afce-a310",
       "next": "c9991b54-f41a-11ea-9bfc-02420a01001a-7-d073-9e3c-e315-5c72-a37e-af55-a8db",
       "previous": "55049736-e32e-11e8-9b3e-02420aff0006-13-b611-c502-bf1c-2cd4-3990-4e8e-9a13-d84b-6836-30a5"
      },
      {
       "current": "98de5294-e32e-11e8-9b3e-02420aff0006-15-8850-4a48-eceb-6d1e-208d-1a93-20f7-afce-a310-6ad8",
       "next": "c9991b54-f41a-11ea-9bfc-02420a01001a-8-d073-9e3c-e315-5c72-a37e-af55-a8db-62a8",
       "previous": "55049736-e32e-11e8-9b3e-02420aff0006-14-c502-bf1c-2cd4-3990-4e8e-9a13-d84b-6836-30a5-5ed4"
      },
      {
       "current": "98de5294-e32e-11e8-9b3e-02420aff0006-16-4a48-eceb-6d1e-208d-1a93-20f7-afce-a310-6ad8-d821",
       "next": "c9991b54-f41a-11ea-9bfc-02420a01001a-9-d073-9e3c-e315-5c72-a37e-af55-a8db-62a8-587c",
       "previous": "55049736-e32e-11e8-9b3e-02420aff0006-15-bf1c-2cd4-3990-4e8e-9a13-d84b-6836-30a5-5ed4-522d"
      },
      {
       "current": "98de5294-e32e-11e8-9b3e-02420aff0006-17-eceb-6d1e-208d-1a93-20f7-afce-a310-6ad8-d821-1972",
       "next": "c9991b54-f41a-11ea-9bfc-02420a01001a-10-d073-9e3c-e315-5c72-a37e-af55-a8db-62a8-587c-2641",
       "previous": "55049736-e32e-11e8-9b3e-02420aff0006-16-2cd4-3990-4e8e-9a13-d84b-6836-30a5-5ed4-522d-ff7a"
      },
      {
       "current": "98de5294-e32e-11e8-9b3e-02420aff0006-18-6d1e-208d-1a93-20f7-afce-a310-6ad8-d821-1972-76f9",
       "next": "c9991b54-f41a-11ea-9bfc-02420a01001a-11-9e3c-e315-5c72-a37e-af55-a8db-62a8-587c-2641-cccc",
       "previous": "55049736-e32e-11e8-9b3e-02420aff0006-17-3990-4e8e-9a13-d84b-6836-30a5-5ed4-522d-ff7a-89f2"
      },
      {
       "current": "98de5294-e32e-11e8-9b3e-02420aff0006-19-208d-1a93-20f7-afce-a310-6ad8-d821-1972-76f9-cf6c",
       "next": "c9991b54-f41a-11ea-9bfc-02420a01001a-12-e315-5c72-a37e-af55-a8db-62a8-587c-2641-cccc-1d29",
       "previous": "55049736-e32e-11e8-9b3e-02420aff0006-18-4e8e-9a13-d84b-6836-30a5-5ed4-522d-ff7a-89f2-9a57"
      },
      {
       "current": "98de5294-e32e-11e8-9b3e-02420aff0006-19-208d-1a93-20f7-afce-a310-6ad8-d821-1972-76f9-cf6c",
       "next": "c9991b54-f41a-11ea-9bfc-02420a01001a-13-5c72-a37e-af55-a8db-62a8-587c-2641-cccc-1d29-589d",
       "previous": "55049736-e32e-11e8-9b3e-02420aff0006-19-9a13-d84b-6836-30a5-5ed4-522d-ff7a-89f2-9a57-1792"
      },
      {
       "current": "98de5294-e32e-11e8-9b3e-02420aff0006-20-1a93-20f7-afce-a310-6ad8-d821-1972-76f9-cf6c-e061",
       "next": "517fbd88-d89c-11ef-8c18-0242ac120004",
       "previous": "55049736-e32e-11e8-9b3e-02420aff0006-19-9a13-d84b-6836-30a5-5ed4-522d-ff7a-89f2-9a57-1792"
      },
      {
       "current": "98de5294-e32e-11e8-9b3e-02420aff0006-20-1a93-20f7-afce-a310-6ad8-d821-1972-76f9-cf6c-e061",
       "next": "517fbd88-d89c-11ef-8c18-0242ac120004-1-effb",
       "previous": "55049736-e32e-11e8-9b3e-02420aff0006-20-d84b-6836-30a5-5ed4-522d-ff7a-89f2-9a57-1792-fb99"
      }
     ],
     "next": "c9991b54-f41a-11ea-9bfc-02420a01001a-14-a37e-af55-a8db-62a8-587c-2641-cccc-1d29-589d-a005",
     "previous": "55049736-e32e-11e8-9b3e-02420aff0006-20-d84b-6836-30a5-5ed4-522d-ff7a-89f2-9a57-1792-fb99"
    }
   },
   "outputs": [],
   "source": [
    "# 前提条件が満たされていることを確認して、Freezeして先に進める\n",
    "assert False"
   ]
  },
  {
   "cell_type": "markdown",
   "metadata": {
    "lc_cell_meme": {
     "current": "c9991b54-f41a-11ea-9bfc-02420a01001a-14-a37e-af55-a8db-62a8-587c-2641-cccc-1d29-589d-a005",
     "history": [
      {
       "current": "c9991b54-f41a-11ea-9bfc-02420a01001a-8-d073-9e3c-e315-5c72-a37e-af55-a8db-62a8",
       "next": "1c50de3c-db26-11e8-a64b-02420aff0006-13-a5e2-ad4d-3a27-d0aa-ad37-704c-6bc5-e497-5ad8-3772",
       "previous": "98de5294-e32e-11e8-9b3e-02420aff0006-13-5ce6-4ded-8850-4a48-eceb-6d1e-208d-1a93-20f7-afce"
      },
      {
       "current": "c9991b54-f41a-11ea-9bfc-02420a01001a-9-d073-9e3c-e315-5c72-a37e-af55-a8db-62a8-587c",
       "next": "1c50de3c-db26-11e8-a64b-02420aff0006-14-ad4d-3a27-d0aa-ad37-704c-6bc5-e497-5ad8-3772-1de9",
       "previous": "98de5294-e32e-11e8-9b3e-02420aff0006-14-4ded-8850-4a48-eceb-6d1e-208d-1a93-20f7-afce-a310"
      },
      {
       "current": "c9991b54-f41a-11ea-9bfc-02420a01001a-10-d073-9e3c-e315-5c72-a37e-af55-a8db-62a8-587c-2641",
       "next": "1c50de3c-db26-11e8-a64b-02420aff0006-15-3a27-d0aa-ad37-704c-6bc5-e497-5ad8-3772-1de9-5e21",
       "previous": "98de5294-e32e-11e8-9b3e-02420aff0006-15-8850-4a48-eceb-6d1e-208d-1a93-20f7-afce-a310-6ad8"
      },
      {
       "current": "c9991b54-f41a-11ea-9bfc-02420a01001a-11-9e3c-e315-5c72-a37e-af55-a8db-62a8-587c-2641-cccc",
       "next": "1c50de3c-db26-11e8-a64b-02420aff0006-16-d0aa-ad37-704c-6bc5-e497-5ad8-3772-1de9-5e21-55aa",
       "previous": "98de5294-e32e-11e8-9b3e-02420aff0006-16-4a48-eceb-6d1e-208d-1a93-20f7-afce-a310-6ad8-d821"
      },
      {
       "current": "c9991b54-f41a-11ea-9bfc-02420a01001a-12-e315-5c72-a37e-af55-a8db-62a8-587c-2641-cccc-1d29",
       "next": "1c50de3c-db26-11e8-a64b-02420aff0006-17-ad37-704c-6bc5-e497-5ad8-3772-1de9-5e21-55aa-0c15",
       "previous": "98de5294-e32e-11e8-9b3e-02420aff0006-17-eceb-6d1e-208d-1a93-20f7-afce-a310-6ad8-d821-1972"
      },
      {
       "current": "c9991b54-f41a-11ea-9bfc-02420a01001a-13-5c72-a37e-af55-a8db-62a8-587c-2641-cccc-1d29-589d",
       "next": "1c50de3c-db26-11e8-a64b-02420aff0006-18-704c-6bc5-e497-5ad8-3772-1de9-5e21-55aa-0c15-c7af",
       "previous": "98de5294-e32e-11e8-9b3e-02420aff0006-18-6d1e-208d-1a93-20f7-afce-a310-6ad8-d821-1972-76f9"
      },
      {
       "current": "c9991b54-f41a-11ea-9bfc-02420a01001a-13-5c72-a37e-af55-a8db-62a8-587c-2641-cccc-1d29-589d",
       "next": "1c50de3c-db26-11e8-a64b-02420aff0006-19-6bc5-e497-5ad8-3772-1de9-5e21-55aa-0c15-c7af-c213",
       "previous": "98de5294-e32e-11e8-9b3e-02420aff0006-19-208d-1a93-20f7-afce-a310-6ad8-d821-1972-76f9-cf6c"
      },
      {
       "current": "c9991b54-f41a-11ea-9bfc-02420a01001a-14-a37e-af55-a8db-62a8-587c-2641-cccc-1d29-589d-a005",
       "next": "1c50de3c-db26-11e8-a64b-02420aff0006-19-6bc5-e497-5ad8-3772-1de9-5e21-55aa-0c15-c7af-c213",
       "previous": "517fbd88-d89c-11ef-8c18-0242ac120004"
      },
      {
       "current": "c9991b54-f41a-11ea-9bfc-02420a01001a-14-a37e-af55-a8db-62a8-587c-2641-cccc-1d29-589d-a005",
       "next": "1c50de3c-db26-11e8-a64b-02420aff0006-20-e497-5ad8-3772-1de9-5e21-55aa-0c15-c7af-c213-0f09",
       "previous": "517fbd88-d89c-11ef-8c18-0242ac120004-1-effb"
      }
     ],
     "next": "1c50de3c-db26-11e8-a64b-02420aff0006-20-e497-5ad8-3772-1de9-5e21-55aa-0c15-c7af-c213-0f09",
     "previous": "98de5294-e32e-11e8-9b3e-02420aff0006-20-1a93-20f7-afce-a310-6ad8-d821-1972-76f9-cf6c-e061"
    }
   },
   "source": [
    "## ノードのroleを設定"
   ]
  },
  {
   "cell_type": "markdown",
   "metadata": {
    "lc_cell_meme": {
     "current": "1c50de3c-db26-11e8-a64b-02420aff0006-20-e497-5ad8-3772-1de9-5e21-55aa-0c15-c7af-c213-0f09",
     "history": [
      {
       "current": "1c50de3c-db26-11e8-a64b-02420aff0006-14-ad4d-3a27-d0aa-ad37-704c-6bc5-e497-5ad8-3772-1de9",
       "next": "98a63d3e-d364-11e8-a64b-02420aff0006-14-1799-7139-6878-b3a6-54e6-8b2c-93a7-aceb-d263-463a",
       "previous": "c9991b54-f41a-11ea-9bfc-02420a01001a-7-d073-9e3c-e315-5c72-a37e-af55-a8db"
      },
      {
       "current": "1c50de3c-db26-11e8-a64b-02420aff0006-15-3a27-d0aa-ad37-704c-6bc5-e497-5ad8-3772-1de9-5e21",
       "next": "98a63d3e-d364-11e8-a64b-02420aff0006-15-7139-6878-b3a6-54e6-8b2c-93a7-aceb-d263-463a-114f",
       "previous": "c9991b54-f41a-11ea-9bfc-02420a01001a-8-d073-9e3c-e315-5c72-a37e-af55-a8db-62a8"
      },
      {
       "current": "1c50de3c-db26-11e8-a64b-02420aff0006-16-d0aa-ad37-704c-6bc5-e497-5ad8-3772-1de9-5e21-55aa",
       "next": "98a63d3e-d364-11e8-a64b-02420aff0006-16-6878-b3a6-54e6-8b2c-93a7-aceb-d263-463a-114f-4f57",
       "previous": "c9991b54-f41a-11ea-9bfc-02420a01001a-9-d073-9e3c-e315-5c72-a37e-af55-a8db-62a8-587c"
      },
      {
       "current": "1c50de3c-db26-11e8-a64b-02420aff0006-17-ad37-704c-6bc5-e497-5ad8-3772-1de9-5e21-55aa-0c15",
       "next": "98a63d3e-d364-11e8-a64b-02420aff0006-17-b3a6-54e6-8b2c-93a7-aceb-d263-463a-114f-4f57-1003",
       "previous": "c9991b54-f41a-11ea-9bfc-02420a01001a-10-d073-9e3c-e315-5c72-a37e-af55-a8db-62a8-587c-2641"
      },
      {
       "current": "1c50de3c-db26-11e8-a64b-02420aff0006-18-704c-6bc5-e497-5ad8-3772-1de9-5e21-55aa-0c15-c7af",
       "next": "98a63d3e-d364-11e8-a64b-02420aff0006-18-54e6-8b2c-93a7-aceb-d263-463a-114f-4f57-1003-3412",
       "previous": "c9991b54-f41a-11ea-9bfc-02420a01001a-11-9e3c-e315-5c72-a37e-af55-a8db-62a8-587c-2641-cccc"
      },
      {
       "current": "1c50de3c-db26-11e8-a64b-02420aff0006-19-6bc5-e497-5ad8-3772-1de9-5e21-55aa-0c15-c7af-c213",
       "next": "98a63d3e-d364-11e8-a64b-02420aff0006-19-8b2c-93a7-aceb-d263-463a-114f-4f57-1003-3412-9610",
       "previous": "c9991b54-f41a-11ea-9bfc-02420a01001a-12-e315-5c72-a37e-af55-a8db-62a8-587c-2641-cccc-1d29"
      },
      {
       "current": "1c50de3c-db26-11e8-a64b-02420aff0006-20-e497-5ad8-3772-1de9-5e21-55aa-0c15-c7af-c213-0f09",
       "next": "98a63d3e-d364-11e8-a64b-02420aff0006-20-93a7-aceb-d263-463a-114f-4f57-1003-3412-9610-72e5",
       "previous": "c9991b54-f41a-11ea-9bfc-02420a01001a-13-5c72-a37e-af55-a8db-62a8-587c-2641-cccc-1d29-589d"
      }
     ],
     "next": "98a63d3e-d364-11e8-a64b-02420aff0006-21-aceb-d263-463a-114f-4f57-1003-3412-9610-72e5-b541",
     "previous": "c9991b54-f41a-11ea-9bfc-02420a01001a-14-a37e-af55-a8db-62a8-587c-2641-cccc-1d29-589d-a005"
    }
   },
   "source": [
    "Swarmのmanager/worker(master/slave)と、Swarmの通信に使用するIPアドレスは、Inventoryから設定する。\n"
   ]
  },
  {
   "cell_type": "markdown",
   "metadata": {
    "lc_cell_meme": {
     "current": "98a63d3e-d364-11e8-a64b-02420aff0006-21-aceb-d263-463a-114f-4f57-1003-3412-9610-72e5-b541",
     "history": [
      {
       "current": "98a63d3e-d364-11e8-a64b-02420aff0006-15-7139-6878-b3a6-54e6-8b2c-93a7-aceb-d263-463a-114f",
       "next": "98a63df2-d364-11e8-a64b-02420aff0006-14-ba4a-8cce-04e7-0c4f-80c6-0986-de5c-0f1e-40f2-c152",
       "previous": "1c50de3c-db26-11e8-a64b-02420aff0006-13-a5e2-ad4d-3a27-d0aa-ad37-704c-6bc5-e497-5ad8-3772"
      },
      {
       "current": "98a63d3e-d364-11e8-a64b-02420aff0006-16-6878-b3a6-54e6-8b2c-93a7-aceb-d263-463a-114f-4f57",
       "next": "98a63df2-d364-11e8-a64b-02420aff0006-15-8cce-04e7-0c4f-80c6-0986-de5c-0f1e-40f2-c152-c544",
       "previous": "1c50de3c-db26-11e8-a64b-02420aff0006-14-ad4d-3a27-d0aa-ad37-704c-6bc5-e497-5ad8-3772-1de9"
      },
      {
       "current": "98a63d3e-d364-11e8-a64b-02420aff0006-17-b3a6-54e6-8b2c-93a7-aceb-d263-463a-114f-4f57-1003",
       "next": "98a63df2-d364-11e8-a64b-02420aff0006-16-04e7-0c4f-80c6-0986-de5c-0f1e-40f2-c152-c544-c0e3",
       "previous": "1c50de3c-db26-11e8-a64b-02420aff0006-15-3a27-d0aa-ad37-704c-6bc5-e497-5ad8-3772-1de9-5e21"
      },
      {
       "current": "98a63d3e-d364-11e8-a64b-02420aff0006-18-54e6-8b2c-93a7-aceb-d263-463a-114f-4f57-1003-3412",
       "next": "98a63df2-d364-11e8-a64b-02420aff0006-17-0c4f-80c6-0986-de5c-0f1e-40f2-c152-c544-c0e3-3779",
       "previous": "1c50de3c-db26-11e8-a64b-02420aff0006-16-d0aa-ad37-704c-6bc5-e497-5ad8-3772-1de9-5e21-55aa"
      },
      {
       "current": "98a63d3e-d364-11e8-a64b-02420aff0006-19-8b2c-93a7-aceb-d263-463a-114f-4f57-1003-3412-9610",
       "next": "98a63df2-d364-11e8-a64b-02420aff0006-18-80c6-0986-de5c-0f1e-40f2-c152-c544-c0e3-3779-17f9",
       "previous": "1c50de3c-db26-11e8-a64b-02420aff0006-17-ad37-704c-6bc5-e497-5ad8-3772-1de9-5e21-55aa-0c15"
      },
      {
       "current": "98a63d3e-d364-11e8-a64b-02420aff0006-20-93a7-aceb-d263-463a-114f-4f57-1003-3412-9610-72e5",
       "next": "98a63df2-d364-11e8-a64b-02420aff0006-19-0986-de5c-0f1e-40f2-c152-c544-c0e3-3779-17f9-5746",
       "previous": "1c50de3c-db26-11e8-a64b-02420aff0006-18-704c-6bc5-e497-5ad8-3772-1de9-5e21-55aa-0c15-c7af"
      },
      {
       "current": "98a63d3e-d364-11e8-a64b-02420aff0006-21-aceb-d263-463a-114f-4f57-1003-3412-9610-72e5-b541",
       "next": "98a63df2-d364-11e8-a64b-02420aff0006-20-de5c-0f1e-40f2-c152-c544-c0e3-3779-17f9-5746-61db",
       "previous": "1c50de3c-db26-11e8-a64b-02420aff0006-19-6bc5-e497-5ad8-3772-1de9-5e21-55aa-0c15-c7af-c213"
      }
     ],
     "next": "98a63df2-d364-11e8-a64b-02420aff0006-21-0f1e-40f2-c152-c544-c0e3-3779-17f9-5746-61db-bb86",
     "previous": "1c50de3c-db26-11e8-a64b-02420aff0006-20-e497-5ad8-3772-1de9-5e21-55aa-0c15-c7af-c213-0f09"
    }
   },
   "source": [
    "masterとするAnsibleのgroup名を指定する。対象が正しいか、Ansible pingモジュールで動作確認する。"
   ]
  },
  {
   "cell_type": "code",
   "execution_count": null,
   "metadata": {
    "ExecuteTime": {
     "end_time": "2019-04-19T06:13:37.273763Z",
     "start_time": "2019-04-19T06:13:30.536774Z"
    },
    "lc_cell_meme": {
     "current": "98a63df2-d364-11e8-a64b-02420aff0006-21-0f1e-40f2-c152-c544-c0e3-3779-17f9-5746-61db-bb86",
     "history": [
      {
       "current": "98a63df2-d364-11e8-a64b-02420aff0006-15-8cce-04e7-0c4f-80c6-0986-de5c-0f1e-40f2-c152-c544",
       "next": "98a63e88-d364-11e8-a64b-02420aff0006-14-7496-de1d-a59c-e85f-7a19-a8d9-ec7b-1856-98b6-c736",
       "previous": "98a63d3e-d364-11e8-a64b-02420aff0006-14-1799-7139-6878-b3a6-54e6-8b2c-93a7-aceb-d263-463a"
      },
      {
       "current": "98a63df2-d364-11e8-a64b-02420aff0006-16-04e7-0c4f-80c6-0986-de5c-0f1e-40f2-c152-c544-c0e3",
       "next": "98a63e88-d364-11e8-a64b-02420aff0006-15-de1d-a59c-e85f-7a19-a8d9-ec7b-1856-98b6-c736-822b",
       "previous": "98a63d3e-d364-11e8-a64b-02420aff0006-15-7139-6878-b3a6-54e6-8b2c-93a7-aceb-d263-463a-114f"
      },
      {
       "current": "98a63df2-d364-11e8-a64b-02420aff0006-17-0c4f-80c6-0986-de5c-0f1e-40f2-c152-c544-c0e3-3779",
       "next": "98a63e88-d364-11e8-a64b-02420aff0006-16-a59c-e85f-7a19-a8d9-ec7b-1856-98b6-c736-822b-4234",
       "previous": "98a63d3e-d364-11e8-a64b-02420aff0006-16-6878-b3a6-54e6-8b2c-93a7-aceb-d263-463a-114f-4f57"
      },
      {
       "current": "98a63df2-d364-11e8-a64b-02420aff0006-18-80c6-0986-de5c-0f1e-40f2-c152-c544-c0e3-3779-17f9",
       "next": "98a63e88-d364-11e8-a64b-02420aff0006-17-e85f-7a19-a8d9-ec7b-1856-98b6-c736-822b-4234-f13c",
       "previous": "98a63d3e-d364-11e8-a64b-02420aff0006-17-b3a6-54e6-8b2c-93a7-aceb-d263-463a-114f-4f57-1003"
      },
      {
       "current": "98a63df2-d364-11e8-a64b-02420aff0006-19-0986-de5c-0f1e-40f2-c152-c544-c0e3-3779-17f9-5746",
       "next": "98a63e88-d364-11e8-a64b-02420aff0006-18-7a19-a8d9-ec7b-1856-98b6-c736-822b-4234-f13c-e6a5",
       "previous": "98a63d3e-d364-11e8-a64b-02420aff0006-18-54e6-8b2c-93a7-aceb-d263-463a-114f-4f57-1003-3412"
      },
      {
       "current": "98a63df2-d364-11e8-a64b-02420aff0006-20-de5c-0f1e-40f2-c152-c544-c0e3-3779-17f9-5746-61db",
       "next": "98a63e88-d364-11e8-a64b-02420aff0006-19-a8d9-ec7b-1856-98b6-c736-822b-4234-f13c-e6a5-6971",
       "previous": "98a63d3e-d364-11e8-a64b-02420aff0006-19-8b2c-93a7-aceb-d263-463a-114f-4f57-1003-3412-9610"
      },
      {
       "current": "98a63df2-d364-11e8-a64b-02420aff0006-21-0f1e-40f2-c152-c544-c0e3-3779-17f9-5746-61db-bb86",
       "next": "98a63e88-d364-11e8-a64b-02420aff0006-20-ec7b-1856-98b6-c736-822b-4234-f13c-e6a5-6971-acd5",
       "previous": "98a63d3e-d364-11e8-a64b-02420aff0006-20-93a7-aceb-d263-463a-114f-4f57-1003-3412-9610-72e5"
      }
     ],
     "next": "98a63e88-d364-11e8-a64b-02420aff0006-21-1856-98b6-c736-822b-4234-f13c-e6a5-6971-acd5-9e5d",
     "previous": "98a63d3e-d364-11e8-a64b-02420aff0006-21-aceb-d263-463a-114f-4f57-1003-3412-9610-72e5-b541"
    }
   },
   "outputs": [],
   "source": [
    "target_master = 'cwhub_master'\n",
    "\n",
    "!ansible -m ping {target_master} -l {target_group}"
   ]
  },
  {
   "cell_type": "markdown",
   "metadata": {
    "lc_cell_meme": {
     "current": "98a63e88-d364-11e8-a64b-02420aff0006-21-1856-98b6-c736-822b-4234-f13c-e6a5-6971-acd5-9e5d",
     "history": [
      {
       "current": "98a63e88-d364-11e8-a64b-02420aff0006-15-de1d-a59c-e85f-7a19-a8d9-ec7b-1856-98b6-c736-822b",
       "next": "98a63f0a-d364-11e8-a64b-02420aff0006-14-418f-57f4-fe3e-2114-6190-a2b6-a290-e9a8-b701-faa9",
       "previous": "98a63df2-d364-11e8-a64b-02420aff0006-14-ba4a-8cce-04e7-0c4f-80c6-0986-de5c-0f1e-40f2-c152"
      },
      {
       "current": "98a63e88-d364-11e8-a64b-02420aff0006-16-a59c-e85f-7a19-a8d9-ec7b-1856-98b6-c736-822b-4234",
       "next": "98a63f0a-d364-11e8-a64b-02420aff0006-15-57f4-fe3e-2114-6190-a2b6-a290-e9a8-b701-faa9-d3b9",
       "previous": "98a63df2-d364-11e8-a64b-02420aff0006-15-8cce-04e7-0c4f-80c6-0986-de5c-0f1e-40f2-c152-c544"
      },
      {
       "current": "98a63e88-d364-11e8-a64b-02420aff0006-17-e85f-7a19-a8d9-ec7b-1856-98b6-c736-822b-4234-f13c",
       "next": "98a63f0a-d364-11e8-a64b-02420aff0006-16-fe3e-2114-6190-a2b6-a290-e9a8-b701-faa9-d3b9-bb24",
       "previous": "98a63df2-d364-11e8-a64b-02420aff0006-16-04e7-0c4f-80c6-0986-de5c-0f1e-40f2-c152-c544-c0e3"
      },
      {
       "current": "98a63e88-d364-11e8-a64b-02420aff0006-18-7a19-a8d9-ec7b-1856-98b6-c736-822b-4234-f13c-e6a5",
       "next": "98a63f0a-d364-11e8-a64b-02420aff0006-17-2114-6190-a2b6-a290-e9a8-b701-faa9-d3b9-bb24-9e6c",
       "previous": "98a63df2-d364-11e8-a64b-02420aff0006-17-0c4f-80c6-0986-de5c-0f1e-40f2-c152-c544-c0e3-3779"
      },
      {
       "current": "98a63e88-d364-11e8-a64b-02420aff0006-19-a8d9-ec7b-1856-98b6-c736-822b-4234-f13c-e6a5-6971",
       "next": "98a63f0a-d364-11e8-a64b-02420aff0006-18-6190-a2b6-a290-e9a8-b701-faa9-d3b9-bb24-9e6c-2732",
       "previous": "98a63df2-d364-11e8-a64b-02420aff0006-18-80c6-0986-de5c-0f1e-40f2-c152-c544-c0e3-3779-17f9"
      },
      {
       "current": "98a63e88-d364-11e8-a64b-02420aff0006-20-ec7b-1856-98b6-c736-822b-4234-f13c-e6a5-6971-acd5",
       "next": "98a63f0a-d364-11e8-a64b-02420aff0006-19-a2b6-a290-e9a8-b701-faa9-d3b9-bb24-9e6c-2732-00bf",
       "previous": "98a63df2-d364-11e8-a64b-02420aff0006-19-0986-de5c-0f1e-40f2-c152-c544-c0e3-3779-17f9-5746"
      },
      {
       "current": "98a63e88-d364-11e8-a64b-02420aff0006-21-1856-98b6-c736-822b-4234-f13c-e6a5-6971-acd5-9e5d",
       "next": "98a63f0a-d364-11e8-a64b-02420aff0006-20-a290-e9a8-b701-faa9-d3b9-bb24-9e6c-2732-00bf-2ff2",
       "previous": "98a63df2-d364-11e8-a64b-02420aff0006-20-de5c-0f1e-40f2-c152-c544-c0e3-3779-17f9-5746-61db"
      }
     ],
     "next": "98a63f0a-d364-11e8-a64b-02420aff0006-21-e9a8-b701-faa9-d3b9-bb24-9e6c-2732-00bf-2ff2-a12b",
     "previous": "98a63df2-d364-11e8-a64b-02420aff0006-21-0f1e-40f2-c152-c544-c0e3-3779-17f9-5746-61db-bb86"
    }
   },
   "source": [
    "workerとするnodeはAnsibleのgroup名で定義する。Ansible pingモジュールで動作確認する。"
   ]
  },
  {
   "cell_type": "code",
   "execution_count": null,
   "metadata": {
    "ExecuteTime": {
     "end_time": "2019-04-19T06:13:52.540126Z",
     "start_time": "2019-04-19T06:13:44.546411Z"
    },
    "lc_cell_meme": {
     "current": "98a63f0a-d364-11e8-a64b-02420aff0006-21-e9a8-b701-faa9-d3b9-bb24-9e6c-2732-00bf-2ff2-a12b",
     "history": [
      {
       "current": "98a63f0a-d364-11e8-a64b-02420aff0006-15-57f4-fe3e-2114-6190-a2b6-a290-e9a8-b701-faa9-d3b9",
       "next": "e034bb30-d364-11e8-a64b-02420aff0006-14-1996-08f3-ccf7-3376-005f-000b-d90b-ada2-ea35-eebd",
       "previous": "98a63e88-d364-11e8-a64b-02420aff0006-14-7496-de1d-a59c-e85f-7a19-a8d9-ec7b-1856-98b6-c736"
      },
      {
       "current": "98a63f0a-d364-11e8-a64b-02420aff0006-16-fe3e-2114-6190-a2b6-a290-e9a8-b701-faa9-d3b9-bb24",
       "next": "e034bb30-d364-11e8-a64b-02420aff0006-15-08f3-ccf7-3376-005f-000b-d90b-ada2-ea35-eebd-5a34",
       "previous": "98a63e88-d364-11e8-a64b-02420aff0006-15-de1d-a59c-e85f-7a19-a8d9-ec7b-1856-98b6-c736-822b"
      },
      {
       "current": "98a63f0a-d364-11e8-a64b-02420aff0006-17-2114-6190-a2b6-a290-e9a8-b701-faa9-d3b9-bb24-9e6c",
       "next": "e034bb30-d364-11e8-a64b-02420aff0006-16-ccf7-3376-005f-000b-d90b-ada2-ea35-eebd-5a34-d5fb",
       "previous": "98a63e88-d364-11e8-a64b-02420aff0006-16-a59c-e85f-7a19-a8d9-ec7b-1856-98b6-c736-822b-4234"
      },
      {
       "current": "98a63f0a-d364-11e8-a64b-02420aff0006-18-6190-a2b6-a290-e9a8-b701-faa9-d3b9-bb24-9e6c-2732",
       "next": "e034bb30-d364-11e8-a64b-02420aff0006-17-3376-005f-000b-d90b-ada2-ea35-eebd-5a34-d5fb-8410",
       "previous": "98a63e88-d364-11e8-a64b-02420aff0006-17-e85f-7a19-a8d9-ec7b-1856-98b6-c736-822b-4234-f13c"
      },
      {
       "current": "98a63f0a-d364-11e8-a64b-02420aff0006-19-a2b6-a290-e9a8-b701-faa9-d3b9-bb24-9e6c-2732-00bf",
       "next": "e034bb30-d364-11e8-a64b-02420aff0006-18-005f-000b-d90b-ada2-ea35-eebd-5a34-d5fb-8410-8573",
       "previous": "98a63e88-d364-11e8-a64b-02420aff0006-18-7a19-a8d9-ec7b-1856-98b6-c736-822b-4234-f13c-e6a5"
      },
      {
       "current": "98a63f0a-d364-11e8-a64b-02420aff0006-20-a290-e9a8-b701-faa9-d3b9-bb24-9e6c-2732-00bf-2ff2",
       "next": "e034bb30-d364-11e8-a64b-02420aff0006-19-000b-d90b-ada2-ea35-eebd-5a34-d5fb-8410-8573-aaac",
       "previous": "98a63e88-d364-11e8-a64b-02420aff0006-19-a8d9-ec7b-1856-98b6-c736-822b-4234-f13c-e6a5-6971"
      },
      {
       "current": "98a63f0a-d364-11e8-a64b-02420aff0006-21-e9a8-b701-faa9-d3b9-bb24-9e6c-2732-00bf-2ff2-a12b",
       "next": "e034bb30-d364-11e8-a64b-02420aff0006-20-d90b-ada2-ea35-eebd-5a34-d5fb-8410-8573-aaac-dfd2",
       "previous": "98a63e88-d364-11e8-a64b-02420aff0006-20-ec7b-1856-98b6-c736-822b-4234-f13c-e6a5-6971-acd5"
      }
     ],
     "next": "e034bb30-d364-11e8-a64b-02420aff0006-21-ada2-ea35-eebd-5a34-d5fb-8410-8573-aaac-dfd2-beb8",
     "previous": "98a63e88-d364-11e8-a64b-02420aff0006-21-1856-98b6-c736-822b-4234-f13c-e6a5-6971-acd5-9e5d"
    }
   },
   "outputs": [],
   "source": [
    "target_nodes = 'cwhub_nodes'\n",
    "\n",
    "!ansible -m ping {target_nodes} -l {target_group}"
   ]
  },
  {
   "cell_type": "markdown",
   "metadata": {
    "lc_cell_meme": {
     "current": "e034bb30-d364-11e8-a64b-02420aff0006-21-ada2-ea35-eebd-5a34-d5fb-8410-8573-aaac-dfd2-beb8",
     "history": [
      {
       "current": "e034bb30-d364-11e8-a64b-02420aff0006-15-08f3-ccf7-3376-005f-000b-d90b-ada2-ea35-eebd-5a34",
       "next": "27b66f6c-d365-11e8-a64b-02420aff0006-14-c8ae-2ed6-9461-96b7-e0e8-20dc-3247-581b-1cef-1988",
       "previous": "98a63f0a-d364-11e8-a64b-02420aff0006-14-418f-57f4-fe3e-2114-6190-a2b6-a290-e9a8-b701-faa9"
      },
      {
       "current": "e034bb30-d364-11e8-a64b-02420aff0006-16-ccf7-3376-005f-000b-d90b-ada2-ea35-eebd-5a34-d5fb",
       "next": "27b66f6c-d365-11e8-a64b-02420aff0006-15-2ed6-9461-96b7-e0e8-20dc-3247-581b-1cef-1988-cfb1",
       "previous": "98a63f0a-d364-11e8-a64b-02420aff0006-15-57f4-fe3e-2114-6190-a2b6-a290-e9a8-b701-faa9-d3b9"
      },
      {
       "current": "e034bb30-d364-11e8-a64b-02420aff0006-17-3376-005f-000b-d90b-ada2-ea35-eebd-5a34-d5fb-8410",
       "next": "27b66f6c-d365-11e8-a64b-02420aff0006-16-9461-96b7-e0e8-20dc-3247-581b-1cef-1988-cfb1-7a80",
       "previous": "98a63f0a-d364-11e8-a64b-02420aff0006-16-fe3e-2114-6190-a2b6-a290-e9a8-b701-faa9-d3b9-bb24"
      },
      {
       "current": "e034bb30-d364-11e8-a64b-02420aff0006-18-005f-000b-d90b-ada2-ea35-eebd-5a34-d5fb-8410-8573",
       "next": "27b66f6c-d365-11e8-a64b-02420aff0006-17-96b7-e0e8-20dc-3247-581b-1cef-1988-cfb1-7a80-d469",
       "previous": "98a63f0a-d364-11e8-a64b-02420aff0006-17-2114-6190-a2b6-a290-e9a8-b701-faa9-d3b9-bb24-9e6c"
      },
      {
       "current": "e034bb30-d364-11e8-a64b-02420aff0006-19-000b-d90b-ada2-ea35-eebd-5a34-d5fb-8410-8573-aaac",
       "next": "27b66f6c-d365-11e8-a64b-02420aff0006-18-e0e8-20dc-3247-581b-1cef-1988-cfb1-7a80-d469-665a",
       "previous": "98a63f0a-d364-11e8-a64b-02420aff0006-18-6190-a2b6-a290-e9a8-b701-faa9-d3b9-bb24-9e6c-2732"
      },
      {
       "current": "e034bb30-d364-11e8-a64b-02420aff0006-20-d90b-ada2-ea35-eebd-5a34-d5fb-8410-8573-aaac-dfd2",
       "next": "27b66f6c-d365-11e8-a64b-02420aff0006-19-20dc-3247-581b-1cef-1988-cfb1-7a80-d469-665a-0d6f",
       "previous": "98a63f0a-d364-11e8-a64b-02420aff0006-19-a2b6-a290-e9a8-b701-faa9-d3b9-bb24-9e6c-2732-00bf"
      },
      {
       "current": "e034bb30-d364-11e8-a64b-02420aff0006-21-ada2-ea35-eebd-5a34-d5fb-8410-8573-aaac-dfd2-beb8",
       "next": "27b66f6c-d365-11e8-a64b-02420aff0006-20-3247-581b-1cef-1988-cfb1-7a80-d469-665a-0d6f-4c85",
       "previous": "98a63f0a-d364-11e8-a64b-02420aff0006-20-a290-e9a8-b701-faa9-d3b9-bb24-9e6c-2732-00bf-2ff2"
      }
     ],
     "next": "27b66f6c-d365-11e8-a64b-02420aff0006-21-581b-1cef-1988-cfb1-7a80-d469-665a-0d6f-4c85-f27c",
     "previous": "98a63f0a-d364-11e8-a64b-02420aff0006-21-e9a8-b701-faa9-d3b9-bb24-9e6c-2732-00bf-2ff2-a12b"
    }
   },
   "source": [
    "各々のノードには、servicenet_ip変数が定義されている必要がある。"
   ]
  },
  {
   "cell_type": "code",
   "execution_count": null,
   "metadata": {
    "ExecuteTime": {
     "end_time": "2019-04-19T06:14:04.306729Z",
     "start_time": "2019-04-19T06:13:59.784674Z"
    },
    "lc_cell_meme": {
     "current": "27b66f6c-d365-11e8-a64b-02420aff0006-21-581b-1cef-1988-cfb1-7a80-d469-665a-0d6f-4c85-f27c",
     "history": [
      {
       "current": "27b66f6c-d365-11e8-a64b-02420aff0006-15-2ed6-9461-96b7-e0e8-20dc-3247-581b-1cef-1988-cfb1",
       "next": "c9863e84-db27-11e8-a64b-02420aff0006-13-84ea-80a6-30ac-2d30-65a9-80ac-e792-ea50-40a5-bcaf",
       "previous": "e034bb30-d364-11e8-a64b-02420aff0006-14-1996-08f3-ccf7-3376-005f-000b-d90b-ada2-ea35-eebd"
      },
      {
       "current": "27b66f6c-d365-11e8-a64b-02420aff0006-16-9461-96b7-e0e8-20dc-3247-581b-1cef-1988-cfb1-7a80",
       "next": "c9863e84-db27-11e8-a64b-02420aff0006-14-80a6-30ac-2d30-65a9-80ac-e792-ea50-40a5-bcaf-ab5a",
       "previous": "e034bb30-d364-11e8-a64b-02420aff0006-15-08f3-ccf7-3376-005f-000b-d90b-ada2-ea35-eebd-5a34"
      },
      {
       "current": "27b66f6c-d365-11e8-a64b-02420aff0006-17-96b7-e0e8-20dc-3247-581b-1cef-1988-cfb1-7a80-d469",
       "next": "c9863e84-db27-11e8-a64b-02420aff0006-15-30ac-2d30-65a9-80ac-e792-ea50-40a5-bcaf-ab5a-8771",
       "previous": "e034bb30-d364-11e8-a64b-02420aff0006-16-ccf7-3376-005f-000b-d90b-ada2-ea35-eebd-5a34-d5fb"
      },
      {
       "current": "27b66f6c-d365-11e8-a64b-02420aff0006-18-e0e8-20dc-3247-581b-1cef-1988-cfb1-7a80-d469-665a",
       "next": "c9863e84-db27-11e8-a64b-02420aff0006-16-2d30-65a9-80ac-e792-ea50-40a5-bcaf-ab5a-8771-22df",
       "previous": "e034bb30-d364-11e8-a64b-02420aff0006-17-3376-005f-000b-d90b-ada2-ea35-eebd-5a34-d5fb-8410"
      },
      {
       "current": "27b66f6c-d365-11e8-a64b-02420aff0006-19-20dc-3247-581b-1cef-1988-cfb1-7a80-d469-665a-0d6f",
       "next": "c9863e84-db27-11e8-a64b-02420aff0006-17-65a9-80ac-e792-ea50-40a5-bcaf-ab5a-8771-22df-5bcf",
       "previous": "e034bb30-d364-11e8-a64b-02420aff0006-18-005f-000b-d90b-ada2-ea35-eebd-5a34-d5fb-8410-8573"
      },
      {
       "current": "27b66f6c-d365-11e8-a64b-02420aff0006-20-3247-581b-1cef-1988-cfb1-7a80-d469-665a-0d6f-4c85",
       "next": "c9863e84-db27-11e8-a64b-02420aff0006-18-80ac-e792-ea50-40a5-bcaf-ab5a-8771-22df-5bcf-e85d",
       "previous": "e034bb30-d364-11e8-a64b-02420aff0006-19-000b-d90b-ada2-ea35-eebd-5a34-d5fb-8410-8573-aaac"
      },
      {
       "current": "27b66f6c-d365-11e8-a64b-02420aff0006-21-581b-1cef-1988-cfb1-7a80-d469-665a-0d6f-4c85-f27c",
       "next": "c9863e84-db27-11e8-a64b-02420aff0006-19-e792-ea50-40a5-bcaf-ab5a-8771-22df-5bcf-e85d-4d8b",
       "previous": "e034bb30-d364-11e8-a64b-02420aff0006-20-d90b-ada2-ea35-eebd-5a34-d5fb-8410-8573-aaac-dfd2"
      }
     ],
     "next": "c9863e84-db27-11e8-a64b-02420aff0006-20-ea50-40a5-bcaf-ab5a-8771-22df-5bcf-e85d-4d8b-a8fa",
     "previous": "e034bb30-d364-11e8-a64b-02420aff0006-21-ada2-ea35-eebd-5a34-d5fb-8410-8573-aaac-dfd2-beb8"
    },
    "scrolled": true
   },
   "outputs": [],
   "source": [
    "!ansible -m debug -a 'msg={{{{ servicenet_ip }}}}' {target_master} -l {target_group}\n",
    "!ansible -m debug -a 'msg={{{{ servicenet_ip }}}}' {target_nodes} -l {target_group}"
   ]
  },
  {
   "cell_type": "markdown",
   "metadata": {
    "lc_cell_meme": {
     "current": "c9863e84-db27-11e8-a64b-02420aff0006-20-ea50-40a5-bcaf-ab5a-8771-22df-5bcf-e85d-4d8b-a8fa",
     "history": [
      {
       "current": "c9863e84-db27-11e8-a64b-02420aff0006-14-80a6-30ac-2d30-65a9-80ac-e792-ea50-40a5-bcaf-ab5a",
       "next": "b2d097ee-db2b-11e8-a64b-02420aff0006-13-bb25-ac86-5aff-1140-818a-c723-7c41-25cd-aa56-913a",
       "previous": "27b66f6c-d365-11e8-a64b-02420aff0006-14-c8ae-2ed6-9461-96b7-e0e8-20dc-3247-581b-1cef-1988"
      },
      {
       "current": "c9863e84-db27-11e8-a64b-02420aff0006-15-30ac-2d30-65a9-80ac-e792-ea50-40a5-bcaf-ab5a-8771",
       "next": "b2d097ee-db2b-11e8-a64b-02420aff0006-14-ac86-5aff-1140-818a-c723-7c41-25cd-aa56-913a-04fb",
       "previous": "27b66f6c-d365-11e8-a64b-02420aff0006-15-2ed6-9461-96b7-e0e8-20dc-3247-581b-1cef-1988-cfb1"
      },
      {
       "current": "c9863e84-db27-11e8-a64b-02420aff0006-16-2d30-65a9-80ac-e792-ea50-40a5-bcaf-ab5a-8771-22df",
       "next": "b2d097ee-db2b-11e8-a64b-02420aff0006-15-5aff-1140-818a-c723-7c41-25cd-aa56-913a-04fb-2522",
       "previous": "27b66f6c-d365-11e8-a64b-02420aff0006-16-9461-96b7-e0e8-20dc-3247-581b-1cef-1988-cfb1-7a80"
      },
      {
       "current": "c9863e84-db27-11e8-a64b-02420aff0006-17-65a9-80ac-e792-ea50-40a5-bcaf-ab5a-8771-22df-5bcf",
       "next": "b2d097ee-db2b-11e8-a64b-02420aff0006-16-1140-818a-c723-7c41-25cd-aa56-913a-04fb-2522-ba0b",
       "previous": "27b66f6c-d365-11e8-a64b-02420aff0006-17-96b7-e0e8-20dc-3247-581b-1cef-1988-cfb1-7a80-d469"
      },
      {
       "current": "c9863e84-db27-11e8-a64b-02420aff0006-18-80ac-e792-ea50-40a5-bcaf-ab5a-8771-22df-5bcf-e85d",
       "next": "b2d097ee-db2b-11e8-a64b-02420aff0006-17-818a-c723-7c41-25cd-aa56-913a-04fb-2522-ba0b-1a5a",
       "previous": "27b66f6c-d365-11e8-a64b-02420aff0006-18-e0e8-20dc-3247-581b-1cef-1988-cfb1-7a80-d469-665a"
      },
      {
       "current": "c9863e84-db27-11e8-a64b-02420aff0006-19-e792-ea50-40a5-bcaf-ab5a-8771-22df-5bcf-e85d-4d8b",
       "next": "b2d097ee-db2b-11e8-a64b-02420aff0006-18-c723-7c41-25cd-aa56-913a-04fb-2522-ba0b-1a5a-461d",
       "previous": "27b66f6c-d365-11e8-a64b-02420aff0006-19-20dc-3247-581b-1cef-1988-cfb1-7a80-d469-665a-0d6f"
      },
      {
       "current": "c9863e84-db27-11e8-a64b-02420aff0006-20-ea50-40a5-bcaf-ab5a-8771-22df-5bcf-e85d-4d8b-a8fa",
       "next": "b2d097ee-db2b-11e8-a64b-02420aff0006-19-7c41-25cd-aa56-913a-04fb-2522-ba0b-1a5a-461d-d676",
       "previous": "27b66f6c-d365-11e8-a64b-02420aff0006-20-3247-581b-1cef-1988-cfb1-7a80-d469-665a-0d6f-4c85"
      }
     ],
     "next": "b2d097ee-db2b-11e8-a64b-02420aff0006-20-25cd-aa56-913a-04fb-2522-ba0b-1a5a-461d-d676-bf1c",
     "previous": "27b66f6c-d365-11e8-a64b-02420aff0006-21-581b-1cef-1988-cfb1-7a80-d469-665a-0d6f-4c85-f27c"
    }
   },
   "source": [
    "## hostsの設定\n",
    "\n",
    "`/etc/hosts`を設定する。\n",
    "\n",
    "Swarm Nodeの通信に使うIPアドレスが、互いに名前が解決できるようにしておく。（hostsに登録されてないと名前解決できない環境のための設定）"
   ]
  },
  {
   "cell_type": "code",
   "execution_count": null,
   "metadata": {
    "lc_cell_meme": {
     "current": "b2d097ee-db2b-11e8-a64b-02420aff0006-20-25cd-aa56-913a-04fb-2522-ba0b-1a5a-461d-d676-bf1c",
     "history": [
      {
       "current": "b2d097ee-db2b-11e8-a64b-02420aff0006-14-ac86-5aff-1140-818a-c723-7c41-25cd-aa56-913a-04fb",
       "next": "82017a0c-f41a-11ea-9bfc-02420a01001a-7-430e-5a5b-68e8-9438-d16b-bb54-78dd",
       "previous": "c9863e84-db27-11e8-a64b-02420aff0006-13-84ea-80a6-30ac-2d30-65a9-80ac-e792-ea50-40a5-bcaf"
      },
      {
       "current": "b2d097ee-db2b-11e8-a64b-02420aff0006-15-5aff-1140-818a-c723-7c41-25cd-aa56-913a-04fb-2522",
       "next": "82017a0c-f41a-11ea-9bfc-02420a01001a-8-430e-5a5b-68e8-9438-d16b-bb54-78dd-9d05",
       "previous": "c9863e84-db27-11e8-a64b-02420aff0006-14-80a6-30ac-2d30-65a9-80ac-e792-ea50-40a5-bcaf-ab5a"
      },
      {
       "current": "b2d097ee-db2b-11e8-a64b-02420aff0006-16-1140-818a-c723-7c41-25cd-aa56-913a-04fb-2522-ba0b",
       "next": "82017a0c-f41a-11ea-9bfc-02420a01001a-9-430e-5a5b-68e8-9438-d16b-bb54-78dd-9d05-3cfc",
       "previous": "c9863e84-db27-11e8-a64b-02420aff0006-15-30ac-2d30-65a9-80ac-e792-ea50-40a5-bcaf-ab5a-8771"
      },
      {
       "current": "b2d097ee-db2b-11e8-a64b-02420aff0006-17-818a-c723-7c41-25cd-aa56-913a-04fb-2522-ba0b-1a5a",
       "next": "82017a0c-f41a-11ea-9bfc-02420a01001a-10-430e-5a5b-68e8-9438-d16b-bb54-78dd-9d05-3cfc-c104",
       "previous": "c9863e84-db27-11e8-a64b-02420aff0006-16-2d30-65a9-80ac-e792-ea50-40a5-bcaf-ab5a-8771-22df"
      },
      {
       "current": "b2d097ee-db2b-11e8-a64b-02420aff0006-18-c723-7c41-25cd-aa56-913a-04fb-2522-ba0b-1a5a-461d",
       "next": "82017a0c-f41a-11ea-9bfc-02420a01001a-11-5a5b-68e8-9438-d16b-bb54-78dd-9d05-3cfc-c104-f330",
       "previous": "c9863e84-db27-11e8-a64b-02420aff0006-17-65a9-80ac-e792-ea50-40a5-bcaf-ab5a-8771-22df-5bcf"
      },
      {
       "current": "b2d097ee-db2b-11e8-a64b-02420aff0006-19-7c41-25cd-aa56-913a-04fb-2522-ba0b-1a5a-461d-d676",
       "next": "82017a0c-f41a-11ea-9bfc-02420a01001a-12-68e8-9438-d16b-bb54-78dd-9d05-3cfc-c104-f330-7634",
       "previous": "c9863e84-db27-11e8-a64b-02420aff0006-18-80ac-e792-ea50-40a5-bcaf-ab5a-8771-22df-5bcf-e85d"
      },
      {
       "current": "b2d097ee-db2b-11e8-a64b-02420aff0006-20-25cd-aa56-913a-04fb-2522-ba0b-1a5a-461d-d676-bf1c",
       "next": "82017a0c-f41a-11ea-9bfc-02420a01001a-13-9438-d16b-bb54-78dd-9d05-3cfc-c104-f330-7634-c72e",
       "previous": "c9863e84-db27-11e8-a64b-02420aff0006-19-e792-ea50-40a5-bcaf-ab5a-8771-22df-5bcf-e85d-4d8b"
      }
     ],
     "next": "82017a0c-f41a-11ea-9bfc-02420a01001a-14-d16b-bb54-78dd-9d05-3cfc-c104-f330-7634-c72e-ccc3",
     "previous": "c9863e84-db27-11e8-a64b-02420aff0006-20-ea50-40a5-bcaf-ab5a-8771-22df-5bcf-e85d-4d8b-a8fa"
    }
   },
   "outputs": [],
   "source": [
    "!ansible -a hostname {target_group}"
   ]
  },
  {
   "cell_type": "markdown",
   "metadata": {
    "lc_cell_meme": {
     "current": "82017a0c-f41a-11ea-9bfc-02420a01001a-14-d16b-bb54-78dd-9d05-3cfc-c104-f330-7634-c72e-ccc3",
     "history": [
      {
       "current": "82017a0c-f41a-11ea-9bfc-02420a01001a-8-430e-5a5b-68e8-9438-d16b-bb54-78dd-9d05",
       "next": "c9864000-db27-11e8-a64b-02420aff0006-13-984d-fc7a-6d2f-1c2c-56da-68b6-5054-4bdc-7128-85c9",
       "previous": "b2d097ee-db2b-11e8-a64b-02420aff0006-13-bb25-ac86-5aff-1140-818a-c723-7c41-25cd-aa56-913a"
      },
      {
       "current": "82017a0c-f41a-11ea-9bfc-02420a01001a-9-430e-5a5b-68e8-9438-d16b-bb54-78dd-9d05-3cfc",
       "next": "c9864000-db27-11e8-a64b-02420aff0006-14-fc7a-6d2f-1c2c-56da-68b6-5054-4bdc-7128-85c9-c852",
       "previous": "b2d097ee-db2b-11e8-a64b-02420aff0006-14-ac86-5aff-1140-818a-c723-7c41-25cd-aa56-913a-04fb"
      },
      {
       "current": "82017a0c-f41a-11ea-9bfc-02420a01001a-10-430e-5a5b-68e8-9438-d16b-bb54-78dd-9d05-3cfc-c104",
       "next": "c9864000-db27-11e8-a64b-02420aff0006-15-6d2f-1c2c-56da-68b6-5054-4bdc-7128-85c9-c852-d2f7",
       "previous": "b2d097ee-db2b-11e8-a64b-02420aff0006-15-5aff-1140-818a-c723-7c41-25cd-aa56-913a-04fb-2522"
      },
      {
       "current": "82017a0c-f41a-11ea-9bfc-02420a01001a-11-5a5b-68e8-9438-d16b-bb54-78dd-9d05-3cfc-c104-f330",
       "next": "c9864000-db27-11e8-a64b-02420aff0006-16-1c2c-56da-68b6-5054-4bdc-7128-85c9-c852-d2f7-e7fa",
       "previous": "b2d097ee-db2b-11e8-a64b-02420aff0006-16-1140-818a-c723-7c41-25cd-aa56-913a-04fb-2522-ba0b"
      },
      {
       "current": "82017a0c-f41a-11ea-9bfc-02420a01001a-12-68e8-9438-d16b-bb54-78dd-9d05-3cfc-c104-f330-7634",
       "next": "c9864000-db27-11e8-a64b-02420aff0006-17-56da-68b6-5054-4bdc-7128-85c9-c852-d2f7-e7fa-42cf",
       "previous": "b2d097ee-db2b-11e8-a64b-02420aff0006-17-818a-c723-7c41-25cd-aa56-913a-04fb-2522-ba0b-1a5a"
      },
      {
       "current": "82017a0c-f41a-11ea-9bfc-02420a01001a-13-9438-d16b-bb54-78dd-9d05-3cfc-c104-f330-7634-c72e",
       "next": "c9864000-db27-11e8-a64b-02420aff0006-18-68b6-5054-4bdc-7128-85c9-c852-d2f7-e7fa-42cf-1618",
       "previous": "b2d097ee-db2b-11e8-a64b-02420aff0006-18-c723-7c41-25cd-aa56-913a-04fb-2522-ba0b-1a5a-461d"
      },
      {
       "current": "82017a0c-f41a-11ea-9bfc-02420a01001a-14-d16b-bb54-78dd-9d05-3cfc-c104-f330-7634-c72e-ccc3",
       "next": "c9864000-db27-11e8-a64b-02420aff0006-19-5054-4bdc-7128-85c9-c852-d2f7-e7fa-42cf-1618-7404",
       "previous": "b2d097ee-db2b-11e8-a64b-02420aff0006-19-7c41-25cd-aa56-913a-04fb-2522-ba0b-1a5a-461d-d676"
      }
     ],
     "next": "c9864000-db27-11e8-a64b-02420aff0006-20-4bdc-7128-85c9-c852-d2f7-e7fa-42cf-1618-7404-c077",
     "previous": "b2d097ee-db2b-11e8-a64b-02420aff0006-20-25cd-aa56-913a-04fb-2522-ba0b-1a5a-461d-d676-bf1c"
    }
   },
   "source": [
    "inventory上のhostnameと設定されているhostnameの関係を調べる"
   ]
  },
  {
   "cell_type": "code",
   "execution_count": null,
   "metadata": {
    "lc_cell_meme": {
     "current": "c9864000-db27-11e8-a64b-02420aff0006-20-4bdc-7128-85c9-c852-d2f7-e7fa-42cf-1618-7404-c077",
     "history": [
      {
       "current": "c9864000-db27-11e8-a64b-02420aff0006-14-fc7a-6d2f-1c2c-56da-68b6-5054-4bdc-7128-85c9-c852",
       "next": "e96d0e62-ee80-11ea-9bfc-02420a01001a-7-e466-6736-226b-cf25-1704-04a8-8e99",
       "previous": "82017a0c-f41a-11ea-9bfc-02420a01001a-7-430e-5a5b-68e8-9438-d16b-bb54-78dd"
      },
      {
       "current": "c9864000-db27-11e8-a64b-02420aff0006-15-6d2f-1c2c-56da-68b6-5054-4bdc-7128-85c9-c852-d2f7",
       "next": "e96d0e62-ee80-11ea-9bfc-02420a01001a-8-e466-6736-226b-cf25-1704-04a8-8e99-4d5b",
       "previous": "82017a0c-f41a-11ea-9bfc-02420a01001a-8-430e-5a5b-68e8-9438-d16b-bb54-78dd-9d05"
      },
      {
       "current": "c9864000-db27-11e8-a64b-02420aff0006-16-1c2c-56da-68b6-5054-4bdc-7128-85c9-c852-d2f7-e7fa",
       "next": "e96d0e62-ee80-11ea-9bfc-02420a01001a-9-e466-6736-226b-cf25-1704-04a8-8e99-4d5b-3931",
       "previous": "82017a0c-f41a-11ea-9bfc-02420a01001a-9-430e-5a5b-68e8-9438-d16b-bb54-78dd-9d05-3cfc"
      },
      {
       "current": "c9864000-db27-11e8-a64b-02420aff0006-17-56da-68b6-5054-4bdc-7128-85c9-c852-d2f7-e7fa-42cf",
       "next": "e96d0e62-ee80-11ea-9bfc-02420a01001a-10-e466-6736-226b-cf25-1704-04a8-8e99-4d5b-3931-c8f1",
       "previous": "82017a0c-f41a-11ea-9bfc-02420a01001a-10-430e-5a5b-68e8-9438-d16b-bb54-78dd-9d05-3cfc-c104"
      },
      {
       "current": "c9864000-db27-11e8-a64b-02420aff0006-18-68b6-5054-4bdc-7128-85c9-c852-d2f7-e7fa-42cf-1618",
       "next": "e96d0e62-ee80-11ea-9bfc-02420a01001a-11-6736-226b-cf25-1704-04a8-8e99-4d5b-3931-c8f1-f998",
       "previous": "82017a0c-f41a-11ea-9bfc-02420a01001a-11-5a5b-68e8-9438-d16b-bb54-78dd-9d05-3cfc-c104-f330"
      },
      {
       "current": "c9864000-db27-11e8-a64b-02420aff0006-19-5054-4bdc-7128-85c9-c852-d2f7-e7fa-42cf-1618-7404",
       "next": "e96d0e62-ee80-11ea-9bfc-02420a01001a-12-226b-cf25-1704-04a8-8e99-4d5b-3931-c8f1-f998-9d32",
       "previous": "82017a0c-f41a-11ea-9bfc-02420a01001a-12-68e8-9438-d16b-bb54-78dd-9d05-3cfc-c104-f330-7634"
      },
      {
       "current": "c9864000-db27-11e8-a64b-02420aff0006-20-4bdc-7128-85c9-c852-d2f7-e7fa-42cf-1618-7404-c077",
       "next": "e96d0e62-ee80-11ea-9bfc-02420a01001a-13-cf25-1704-04a8-8e99-4d5b-3931-c8f1-f998-9d32-dfc6",
       "previous": "82017a0c-f41a-11ea-9bfc-02420a01001a-13-9438-d16b-bb54-78dd-9d05-3cfc-c104-f330-7634-c72e"
      }
     ],
     "next": "e96d0e62-ee80-11ea-9bfc-02420a01001a-14-1704-04a8-8e99-4d5b-3931-c8f1-f998-9d32-dfc6-1dab",
     "previous": "82017a0c-f41a-11ea-9bfc-02420a01001a-14-d16b-bb54-78dd-9d05-3cfc-c104-f330-7634-c72e-ccc3"
    }
   },
   "outputs": [],
   "source": [
    "import re\n",
    "ping_pattern = re.compile(r'^(\\S+)\\s*\\|\\s*(?:SUCCESS|CHANGED)\\s*.*\\>\\>.*$')\n",
    "hostname_result = !ansible -a hostname {target_group}\n",
    "hostname_result = [(ping_pattern.match(l1).group(1), l2) for l1, l2 in zip(hostname_result, hostname_result[1:]) if ping_pattern.match(l1)]\n",
    "hostname_result"
   ]
  },
  {
   "cell_type": "markdown",
   "metadata": {
    "lc_cell_meme": {
     "current": "e96d0e62-ee80-11ea-9bfc-02420a01001a-14-1704-04a8-8e99-4d5b-3931-c8f1-f998-9d32-dfc6-1dab",
     "history": [
      {
       "current": "e96d0e62-ee80-11ea-9bfc-02420a01001a-8-e466-6736-226b-cf25-1704-04a8-8e99-4d5b",
       "next": "fe45847c-e778-11ea-9c06-02420a010045-8-0746-71dd-cfd2-6ac7-8978-5a2b-5ae2-7b95",
       "previous": "c9864000-db27-11e8-a64b-02420aff0006-13-984d-fc7a-6d2f-1c2c-56da-68b6-5054-4bdc-7128-85c9"
      },
      {
       "current": "e96d0e62-ee80-11ea-9bfc-02420a01001a-9-e466-6736-226b-cf25-1704-04a8-8e99-4d5b-3931",
       "next": "fe45847c-e778-11ea-9c06-02420a010045-9-0746-71dd-cfd2-6ac7-8978-5a2b-5ae2-7b95-c580",
       "previous": "c9864000-db27-11e8-a64b-02420aff0006-14-fc7a-6d2f-1c2c-56da-68b6-5054-4bdc-7128-85c9-c852"
      },
      {
       "current": "e96d0e62-ee80-11ea-9bfc-02420a01001a-10-e466-6736-226b-cf25-1704-04a8-8e99-4d5b-3931-c8f1",
       "next": "fe45847c-e778-11ea-9c06-02420a010045-10-0746-71dd-cfd2-6ac7-8978-5a2b-5ae2-7b95-c580-ca0d",
       "previous": "c9864000-db27-11e8-a64b-02420aff0006-15-6d2f-1c2c-56da-68b6-5054-4bdc-7128-85c9-c852-d2f7"
      },
      {
       "current": "e96d0e62-ee80-11ea-9bfc-02420a01001a-11-6736-226b-cf25-1704-04a8-8e99-4d5b-3931-c8f1-f998",
       "next": "fe45847c-e778-11ea-9c06-02420a010045-11-71dd-cfd2-6ac7-8978-5a2b-5ae2-7b95-c580-ca0d-cb7b",
       "previous": "c9864000-db27-11e8-a64b-02420aff0006-16-1c2c-56da-68b6-5054-4bdc-7128-85c9-c852-d2f7-e7fa"
      },
      {
       "current": "e96d0e62-ee80-11ea-9bfc-02420a01001a-12-226b-cf25-1704-04a8-8e99-4d5b-3931-c8f1-f998-9d32",
       "next": "fe45847c-e778-11ea-9c06-02420a010045-12-cfd2-6ac7-8978-5a2b-5ae2-7b95-c580-ca0d-cb7b-2523",
       "previous": "c9864000-db27-11e8-a64b-02420aff0006-17-56da-68b6-5054-4bdc-7128-85c9-c852-d2f7-e7fa-42cf"
      },
      {
       "current": "e96d0e62-ee80-11ea-9bfc-02420a01001a-13-cf25-1704-04a8-8e99-4d5b-3931-c8f1-f998-9d32-dfc6",
       "next": "fe45847c-e778-11ea-9c06-02420a010045-13-6ac7-8978-5a2b-5ae2-7b95-c580-ca0d-cb7b-2523-45ef",
       "previous": "c9864000-db27-11e8-a64b-02420aff0006-18-68b6-5054-4bdc-7128-85c9-c852-d2f7-e7fa-42cf-1618"
      },
      {
       "current": "e96d0e62-ee80-11ea-9bfc-02420a01001a-14-1704-04a8-8e99-4d5b-3931-c8f1-f998-9d32-dfc6-1dab",
       "next": "fe45847c-e778-11ea-9c06-02420a010045-14-8978-5a2b-5ae2-7b95-c580-ca0d-cb7b-2523-45ef-2590",
       "previous": "c9864000-db27-11e8-a64b-02420aff0006-19-5054-4bdc-7128-85c9-c852-d2f7-e7fa-42cf-1618-7404"
      }
     ],
     "next": "fe45847c-e778-11ea-9c06-02420a010045-15-5a2b-5ae2-7b95-c580-ca0d-cb7b-2523-45ef-2590-3cd6",
     "previous": "c9864000-db27-11e8-a64b-02420aff0006-20-4bdc-7128-85c9-c852-d2f7-e7fa-42cf-1618-7404-c077"
    }
   },
   "source": [
    "Docker Swarmの通信に使用するIPアドレス(VMのIPアドレス、インベントリの`servicenet_ip`)と、ホスト名の関係を調べる。"
   ]
  },
  {
   "cell_type": "code",
   "execution_count": null,
   "metadata": {
    "lc_cell_meme": {
     "current": "fe45847c-e778-11ea-9c06-02420a010045-15-5a2b-5ae2-7b95-c580-ca0d-cb7b-2523-45ef-2590-3cd6",
     "history": [
      {
       "current": "fe45847c-e778-11ea-9c06-02420a010045-9-0746-71dd-cfd2-6ac7-8978-5a2b-5ae2-7b95-c580",
       "next": "b6af0ce6-e778-11ea-9c06-02420a010045-8-52f8-7ab4-defb-ca3b-ff42-3921-cd91-366e",
       "previous": "e96d0e62-ee80-11ea-9bfc-02420a01001a-7-e466-6736-226b-cf25-1704-04a8-8e99"
      },
      {
       "current": "fe45847c-e778-11ea-9c06-02420a010045-10-0746-71dd-cfd2-6ac7-8978-5a2b-5ae2-7b95-c580-ca0d",
       "next": "b6af0ce6-e778-11ea-9c06-02420a010045-9-52f8-7ab4-defb-ca3b-ff42-3921-cd91-366e-58c5",
       "previous": "e96d0e62-ee80-11ea-9bfc-02420a01001a-8-e466-6736-226b-cf25-1704-04a8-8e99-4d5b"
      },
      {
       "current": "fe45847c-e778-11ea-9c06-02420a010045-11-71dd-cfd2-6ac7-8978-5a2b-5ae2-7b95-c580-ca0d-cb7b",
       "next": "b6af0ce6-e778-11ea-9c06-02420a010045-10-52f8-7ab4-defb-ca3b-ff42-3921-cd91-366e-58c5-66a4",
       "previous": "e96d0e62-ee80-11ea-9bfc-02420a01001a-9-e466-6736-226b-cf25-1704-04a8-8e99-4d5b-3931"
      },
      {
       "current": "fe45847c-e778-11ea-9c06-02420a010045-12-cfd2-6ac7-8978-5a2b-5ae2-7b95-c580-ca0d-cb7b-2523",
       "next": "b6af0ce6-e778-11ea-9c06-02420a010045-11-7ab4-defb-ca3b-ff42-3921-cd91-366e-58c5-66a4-7527",
       "previous": "e96d0e62-ee80-11ea-9bfc-02420a01001a-10-e466-6736-226b-cf25-1704-04a8-8e99-4d5b-3931-c8f1"
      },
      {
       "current": "fe45847c-e778-11ea-9c06-02420a010045-13-6ac7-8978-5a2b-5ae2-7b95-c580-ca0d-cb7b-2523-45ef",
       "next": "b6af0ce6-e778-11ea-9c06-02420a010045-12-defb-ca3b-ff42-3921-cd91-366e-58c5-66a4-7527-205b",
       "previous": "e96d0e62-ee80-11ea-9bfc-02420a01001a-11-6736-226b-cf25-1704-04a8-8e99-4d5b-3931-c8f1-f998"
      },
      {
       "current": "fe45847c-e778-11ea-9c06-02420a010045-14-8978-5a2b-5ae2-7b95-c580-ca0d-cb7b-2523-45ef-2590",
       "next": "b6af0ce6-e778-11ea-9c06-02420a010045-13-ca3b-ff42-3921-cd91-366e-58c5-66a4-7527-205b-9a92",
       "previous": "e96d0e62-ee80-11ea-9bfc-02420a01001a-12-226b-cf25-1704-04a8-8e99-4d5b-3931-c8f1-f998-9d32"
      },
      {
       "current": "fe45847c-e778-11ea-9c06-02420a010045-15-5a2b-5ae2-7b95-c580-ca0d-cb7b-2523-45ef-2590-3cd6",
       "next": "b6af0ce6-e778-11ea-9c06-02420a010045-14-ff42-3921-cd91-366e-58c5-66a4-7527-205b-9a92-3e7a",
       "previous": "e96d0e62-ee80-11ea-9bfc-02420a01001a-13-cf25-1704-04a8-8e99-4d5b-3931-c8f1-f998-9d32-dfc6"
      }
     ],
     "next": "b6af0ce6-e778-11ea-9c06-02420a010045-15-3921-cd91-366e-58c5-66a4-7527-205b-9a92-3e7a-164a",
     "previous": "e96d0e62-ee80-11ea-9bfc-02420a01001a-14-1704-04a8-8e99-4d5b-3931-c8f1-f998-9d32-dfc6-1dab"
    }
   },
   "outputs": [],
   "source": [
    "%%writefile {temp_dir}/service_ip2hostname.yml\n",
    "---\n",
    "- become: true\n",
    "  hosts: all\n",
    "  tasks:\n",
    "      - debug: \"msg={{ansible_hostname}}={{servicenet_ip}}\"\n"
   ]
  },
  {
   "cell_type": "code",
   "execution_count": null,
   "metadata": {
    "lc_cell_meme": {
     "current": "b6af0ce6-e778-11ea-9c06-02420a010045-15-3921-cd91-366e-58c5-66a4-7527-205b-9a92-3e7a-164a",
     "history": [
      {
       "current": "b6af0ce6-e778-11ea-9c06-02420a010045-9-52f8-7ab4-defb-ca3b-ff42-3921-cd91-366e-58c5",
       "next": "3e2be9d2-f426-11ea-9bfc-02420a01001a-7-55a1-f861-569a-3e2e-30d4-5bfc-7bf0",
       "previous": "fe45847c-e778-11ea-9c06-02420a010045-8-0746-71dd-cfd2-6ac7-8978-5a2b-5ae2-7b95"
      },
      {
       "current": "b6af0ce6-e778-11ea-9c06-02420a010045-10-52f8-7ab4-defb-ca3b-ff42-3921-cd91-366e-58c5-66a4",
       "next": "3e2be9d2-f426-11ea-9bfc-02420a01001a-8-55a1-f861-569a-3e2e-30d4-5bfc-7bf0-e33f",
       "previous": "fe45847c-e778-11ea-9c06-02420a010045-9-0746-71dd-cfd2-6ac7-8978-5a2b-5ae2-7b95-c580"
      },
      {
       "current": "b6af0ce6-e778-11ea-9c06-02420a010045-11-7ab4-defb-ca3b-ff42-3921-cd91-366e-58c5-66a4-7527",
       "next": "3e2be9d2-f426-11ea-9bfc-02420a01001a-9-55a1-f861-569a-3e2e-30d4-5bfc-7bf0-e33f-8e07",
       "previous": "fe45847c-e778-11ea-9c06-02420a010045-10-0746-71dd-cfd2-6ac7-8978-5a2b-5ae2-7b95-c580-ca0d"
      },
      {
       "current": "b6af0ce6-e778-11ea-9c06-02420a010045-12-defb-ca3b-ff42-3921-cd91-366e-58c5-66a4-7527-205b",
       "next": "3e2be9d2-f426-11ea-9bfc-02420a01001a-10-55a1-f861-569a-3e2e-30d4-5bfc-7bf0-e33f-8e07-4b44",
       "previous": "fe45847c-e778-11ea-9c06-02420a010045-11-71dd-cfd2-6ac7-8978-5a2b-5ae2-7b95-c580-ca0d-cb7b"
      },
      {
       "current": "b6af0ce6-e778-11ea-9c06-02420a010045-13-ca3b-ff42-3921-cd91-366e-58c5-66a4-7527-205b-9a92",
       "next": "3e2be9d2-f426-11ea-9bfc-02420a01001a-11-f861-569a-3e2e-30d4-5bfc-7bf0-e33f-8e07-4b44-99f1",
       "previous": "fe45847c-e778-11ea-9c06-02420a010045-12-cfd2-6ac7-8978-5a2b-5ae2-7b95-c580-ca0d-cb7b-2523"
      },
      {
       "current": "b6af0ce6-e778-11ea-9c06-02420a010045-14-ff42-3921-cd91-366e-58c5-66a4-7527-205b-9a92-3e7a",
       "next": "3e2be9d2-f426-11ea-9bfc-02420a01001a-12-569a-3e2e-30d4-5bfc-7bf0-e33f-8e07-4b44-99f1-2b6f",
       "previous": "fe45847c-e778-11ea-9c06-02420a010045-13-6ac7-8978-5a2b-5ae2-7b95-c580-ca0d-cb7b-2523-45ef"
      },
      {
       "current": "b6af0ce6-e778-11ea-9c06-02420a010045-15-3921-cd91-366e-58c5-66a4-7527-205b-9a92-3e7a-164a",
       "next": "3e2be9d2-f426-11ea-9bfc-02420a01001a-13-3e2e-30d4-5bfc-7bf0-e33f-8e07-4b44-99f1-2b6f-43a5",
       "previous": "fe45847c-e778-11ea-9c06-02420a010045-14-8978-5a2b-5ae2-7b95-c580-ca0d-cb7b-2523-45ef-2590"
      }
     ],
     "next": "3e2be9d2-f426-11ea-9bfc-02420a01001a-14-30d4-5bfc-7bf0-e33f-8e07-4b44-99f1-2b6f-43a5-03e4",
     "previous": "fe45847c-e778-11ea-9c06-02420a010045-15-5a2b-5ae2-7b95-c580-ca0d-cb7b-2523-45ef-2590-3cd6"
    }
   },
   "outputs": [],
   "source": [
    "import re\n",
    "\n",
    "msgout = !ansible-playbook -l {target_group} {temp_dir}/service_ip2hostname.yml\n",
    "msgout = msgout.grep('\"msg\"')\n",
    "assert len(msgout) >= 1\n",
    "hostname_result = []\n",
    "for l in msgout:\n",
    "    m = re.match(r'.*\\\"msg\\\": \\\"(.+)=(.+)\\\"', l)\n",
    "    if m:\n",
    "        hostname_result.append((m.group(2), m.group(1)))\n",
    "hostname_result"
   ]
  },
  {
   "cell_type": "markdown",
   "metadata": {
    "lc_cell_meme": {
     "current": "3e2be9d2-f426-11ea-9bfc-02420a01001a-14-30d4-5bfc-7bf0-e33f-8e07-4b44-99f1-2b6f-43a5-03e4",
     "history": [
      {
       "current": "3e2be9d2-f426-11ea-9bfc-02420a01001a-8-55a1-f861-569a-3e2e-30d4-5bfc-7bf0-e33f",
       "next": "41d6f26c-db2c-11e8-a64b-02420aff0006-13-4406-9c84-d460-1f7a-51c4-26e3-b403-514b-d00a-7401",
       "previous": "b6af0ce6-e778-11ea-9c06-02420a010045-8-52f8-7ab4-defb-ca3b-ff42-3921-cd91-366e"
      },
      {
       "current": "3e2be9d2-f426-11ea-9bfc-02420a01001a-9-55a1-f861-569a-3e2e-30d4-5bfc-7bf0-e33f-8e07",
       "next": "41d6f26c-db2c-11e8-a64b-02420aff0006-14-9c84-d460-1f7a-51c4-26e3-b403-514b-d00a-7401-78ed",
       "previous": "b6af0ce6-e778-11ea-9c06-02420a010045-9-52f8-7ab4-defb-ca3b-ff42-3921-cd91-366e-58c5"
      },
      {
       "current": "3e2be9d2-f426-11ea-9bfc-02420a01001a-10-55a1-f861-569a-3e2e-30d4-5bfc-7bf0-e33f-8e07-4b44",
       "next": "41d6f26c-db2c-11e8-a64b-02420aff0006-15-d460-1f7a-51c4-26e3-b403-514b-d00a-7401-78ed-9350",
       "previous": "b6af0ce6-e778-11ea-9c06-02420a010045-10-52f8-7ab4-defb-ca3b-ff42-3921-cd91-366e-58c5-66a4"
      },
      {
       "current": "3e2be9d2-f426-11ea-9bfc-02420a01001a-11-f861-569a-3e2e-30d4-5bfc-7bf0-e33f-8e07-4b44-99f1",
       "next": "41d6f26c-db2c-11e8-a64b-02420aff0006-16-1f7a-51c4-26e3-b403-514b-d00a-7401-78ed-9350-6f28",
       "previous": "b6af0ce6-e778-11ea-9c06-02420a010045-11-7ab4-defb-ca3b-ff42-3921-cd91-366e-58c5-66a4-7527"
      },
      {
       "current": "3e2be9d2-f426-11ea-9bfc-02420a01001a-12-569a-3e2e-30d4-5bfc-7bf0-e33f-8e07-4b44-99f1-2b6f",
       "next": "41d6f26c-db2c-11e8-a64b-02420aff0006-17-51c4-26e3-b403-514b-d00a-7401-78ed-9350-6f28-7977",
       "previous": "b6af0ce6-e778-11ea-9c06-02420a010045-12-defb-ca3b-ff42-3921-cd91-366e-58c5-66a4-7527-205b"
      },
      {
       "current": "3e2be9d2-f426-11ea-9bfc-02420a01001a-13-3e2e-30d4-5bfc-7bf0-e33f-8e07-4b44-99f1-2b6f-43a5",
       "next": "41d6f26c-db2c-11e8-a64b-02420aff0006-18-26e3-b403-514b-d00a-7401-78ed-9350-6f28-7977-6946",
       "previous": "b6af0ce6-e778-11ea-9c06-02420a010045-13-ca3b-ff42-3921-cd91-366e-58c5-66a4-7527-205b-9a92"
      },
      {
       "current": "3e2be9d2-f426-11ea-9bfc-02420a01001a-14-30d4-5bfc-7bf0-e33f-8e07-4b44-99f1-2b6f-43a5-03e4",
       "next": "41d6f26c-db2c-11e8-a64b-02420aff0006-19-b403-514b-d00a-7401-78ed-9350-6f28-7977-6946-b8a0",
       "previous": "b6af0ce6-e778-11ea-9c06-02420a010045-14-ff42-3921-cd91-366e-58c5-66a4-7527-205b-9a92-3e7a"
      }
     ],
     "next": "41d6f26c-db2c-11e8-a64b-02420aff0006-20-514b-d00a-7401-78ed-9350-6f28-7977-6946-b8a0-21e3",
     "previous": "b6af0ce6-e778-11ea-9c06-02420a010045-15-3921-cd91-366e-58c5-66a4-7527-205b-9a92-3e7a-164a"
    }
   },
   "source": [
    "現在のhostsを確認しておく"
   ]
  },
  {
   "cell_type": "code",
   "execution_count": null,
   "metadata": {
    "lc_cell_meme": {
     "current": "41d6f26c-db2c-11e8-a64b-02420aff0006-20-514b-d00a-7401-78ed-9350-6f28-7977-6946-b8a0-21e3",
     "history": [
      {
       "current": "41d6f26c-db2c-11e8-a64b-02420aff0006-14-9c84-d460-1f7a-51c4-26e3-b403-514b-d00a-7401-78ed",
       "next": "3e2bec84-f426-11ea-9bfc-02420a01001a-7-bde3-8c36-a4f9-5031-cc55-163d-fcd2",
       "previous": "3e2be9d2-f426-11ea-9bfc-02420a01001a-7-55a1-f861-569a-3e2e-30d4-5bfc-7bf0"
      },
      {
       "current": "41d6f26c-db2c-11e8-a64b-02420aff0006-15-d460-1f7a-51c4-26e3-b403-514b-d00a-7401-78ed-9350",
       "next": "3e2bec84-f426-11ea-9bfc-02420a01001a-8-bde3-8c36-a4f9-5031-cc55-163d-fcd2-5330",
       "previous": "3e2be9d2-f426-11ea-9bfc-02420a01001a-8-55a1-f861-569a-3e2e-30d4-5bfc-7bf0-e33f"
      },
      {
       "current": "41d6f26c-db2c-11e8-a64b-02420aff0006-16-1f7a-51c4-26e3-b403-514b-d00a-7401-78ed-9350-6f28",
       "next": "3e2bec84-f426-11ea-9bfc-02420a01001a-9-bde3-8c36-a4f9-5031-cc55-163d-fcd2-5330-5596",
       "previous": "3e2be9d2-f426-11ea-9bfc-02420a01001a-9-55a1-f861-569a-3e2e-30d4-5bfc-7bf0-e33f-8e07"
      },
      {
       "current": "41d6f26c-db2c-11e8-a64b-02420aff0006-17-51c4-26e3-b403-514b-d00a-7401-78ed-9350-6f28-7977",
       "next": "3e2bec84-f426-11ea-9bfc-02420a01001a-10-bde3-8c36-a4f9-5031-cc55-163d-fcd2-5330-5596-2c92",
       "previous": "3e2be9d2-f426-11ea-9bfc-02420a01001a-10-55a1-f861-569a-3e2e-30d4-5bfc-7bf0-e33f-8e07-4b44"
      },
      {
       "current": "41d6f26c-db2c-11e8-a64b-02420aff0006-18-26e3-b403-514b-d00a-7401-78ed-9350-6f28-7977-6946",
       "next": "3e2bec84-f426-11ea-9bfc-02420a01001a-11-8c36-a4f9-5031-cc55-163d-fcd2-5330-5596-2c92-30ab",
       "previous": "3e2be9d2-f426-11ea-9bfc-02420a01001a-11-f861-569a-3e2e-30d4-5bfc-7bf0-e33f-8e07-4b44-99f1"
      },
      {
       "current": "41d6f26c-db2c-11e8-a64b-02420aff0006-19-b403-514b-d00a-7401-78ed-9350-6f28-7977-6946-b8a0",
       "next": "3e2bec84-f426-11ea-9bfc-02420a01001a-12-a4f9-5031-cc55-163d-fcd2-5330-5596-2c92-30ab-6ef7",
       "previous": "3e2be9d2-f426-11ea-9bfc-02420a01001a-12-569a-3e2e-30d4-5bfc-7bf0-e33f-8e07-4b44-99f1-2b6f"
      },
      {
       "current": "41d6f26c-db2c-11e8-a64b-02420aff0006-20-514b-d00a-7401-78ed-9350-6f28-7977-6946-b8a0-21e3",
       "next": "3e2bec84-f426-11ea-9bfc-02420a01001a-13-5031-cc55-163d-fcd2-5330-5596-2c92-30ab-6ef7-06e6",
       "previous": "3e2be9d2-f426-11ea-9bfc-02420a01001a-13-3e2e-30d4-5bfc-7bf0-e33f-8e07-4b44-99f1-2b6f-43a5"
      }
     ],
     "next": "3e2bec84-f426-11ea-9bfc-02420a01001a-14-cc55-163d-fcd2-5330-5596-2c92-30ab-6ef7-06e6-fbf2",
     "previous": "3e2be9d2-f426-11ea-9bfc-02420a01001a-14-30d4-5bfc-7bf0-e33f-8e07-4b44-99f1-2b6f-43a5-03e4"
    },
    "scrolled": true
   },
   "outputs": [],
   "source": [
    "!ansible -a 'cat /etc/hosts' {target_group}"
   ]
  },
  {
   "cell_type": "markdown",
   "metadata": {
    "lc_cell_meme": {
     "current": "3e2bec84-f426-11ea-9bfc-02420a01001a-14-cc55-163d-fcd2-5330-5596-2c92-30ab-6ef7-06e6-fbf2",
     "history": [
      {
       "current": "3e2bec84-f426-11ea-9bfc-02420a01001a-8-bde3-8c36-a4f9-5031-cc55-163d-fcd2-5330",
       "next": "41d6f41a-db2c-11e8-a64b-02420aff0006-13-b125-6ebf-71ef-da00-62d9-ab17-70e6-aae6-2c13-ecbb",
       "previous": "41d6f26c-db2c-11e8-a64b-02420aff0006-13-4406-9c84-d460-1f7a-51c4-26e3-b403-514b-d00a-7401"
      },
      {
       "current": "3e2bec84-f426-11ea-9bfc-02420a01001a-9-bde3-8c36-a4f9-5031-cc55-163d-fcd2-5330-5596",
       "next": "41d6f41a-db2c-11e8-a64b-02420aff0006-14-6ebf-71ef-da00-62d9-ab17-70e6-aae6-2c13-ecbb-ac5f",
       "previous": "41d6f26c-db2c-11e8-a64b-02420aff0006-14-9c84-d460-1f7a-51c4-26e3-b403-514b-d00a-7401-78ed"
      },
      {
       "current": "3e2bec84-f426-11ea-9bfc-02420a01001a-10-bde3-8c36-a4f9-5031-cc55-163d-fcd2-5330-5596-2c92",
       "next": "41d6f41a-db2c-11e8-a64b-02420aff0006-15-71ef-da00-62d9-ab17-70e6-aae6-2c13-ecbb-ac5f-4630",
       "previous": "41d6f26c-db2c-11e8-a64b-02420aff0006-15-d460-1f7a-51c4-26e3-b403-514b-d00a-7401-78ed-9350"
      },
      {
       "current": "3e2bec84-f426-11ea-9bfc-02420a01001a-11-8c36-a4f9-5031-cc55-163d-fcd2-5330-5596-2c92-30ab",
       "next": "41d6f41a-db2c-11e8-a64b-02420aff0006-16-da00-62d9-ab17-70e6-aae6-2c13-ecbb-ac5f-4630-b275",
       "previous": "41d6f26c-db2c-11e8-a64b-02420aff0006-16-1f7a-51c4-26e3-b403-514b-d00a-7401-78ed-9350-6f28"
      },
      {
       "current": "3e2bec84-f426-11ea-9bfc-02420a01001a-12-a4f9-5031-cc55-163d-fcd2-5330-5596-2c92-30ab-6ef7",
       "next": "41d6f41a-db2c-11e8-a64b-02420aff0006-17-62d9-ab17-70e6-aae6-2c13-ecbb-ac5f-4630-b275-dc5c",
       "previous": "41d6f26c-db2c-11e8-a64b-02420aff0006-17-51c4-26e3-b403-514b-d00a-7401-78ed-9350-6f28-7977"
      },
      {
       "current": "3e2bec84-f426-11ea-9bfc-02420a01001a-13-5031-cc55-163d-fcd2-5330-5596-2c92-30ab-6ef7-06e6",
       "next": "41d6f41a-db2c-11e8-a64b-02420aff0006-18-ab17-70e6-aae6-2c13-ecbb-ac5f-4630-b275-dc5c-7d87",
       "previous": "41d6f26c-db2c-11e8-a64b-02420aff0006-18-26e3-b403-514b-d00a-7401-78ed-9350-6f28-7977-6946"
      },
      {
       "current": "3e2bec84-f426-11ea-9bfc-02420a01001a-14-cc55-163d-fcd2-5330-5596-2c92-30ab-6ef7-06e6-fbf2",
       "next": "41d6f41a-db2c-11e8-a64b-02420aff0006-19-70e6-aae6-2c13-ecbb-ac5f-4630-b275-dc5c-7d87-1d87",
       "previous": "41d6f26c-db2c-11e8-a64b-02420aff0006-19-b403-514b-d00a-7401-78ed-9350-6f28-7977-6946-b8a0"
      }
     ],
     "next": "41d6f41a-db2c-11e8-a64b-02420aff0006-20-aae6-2c13-ecbb-ac5f-4630-b275-dc5c-7d87-1d87-abe3",
     "previous": "41d6f26c-db2c-11e8-a64b-02420aff0006-20-514b-d00a-7401-78ed-9350-6f28-7977-6946-b8a0-21e3"
    }
   },
   "source": [
    "設定する"
   ]
  },
  {
   "cell_type": "code",
   "execution_count": null,
   "metadata": {
    "lc_cell_meme": {
     "current": "41d6f41a-db2c-11e8-a64b-02420aff0006-20-aae6-2c13-ecbb-ac5f-4630-b275-dc5c-7d87-1d87-abe3",
     "history": [
      {
       "current": "41d6f41a-db2c-11e8-a64b-02420aff0006-14-6ebf-71ef-da00-62d9-ab17-70e6-aae6-2c13-ecbb-ac5f",
       "next": "8959a3a0-db2c-11e8-a64b-02420aff0006-13-50c3-62a4-900f-459a-e046-782e-2004-e751-cb8b-0f16",
       "previous": "3e2bec84-f426-11ea-9bfc-02420a01001a-7-bde3-8c36-a4f9-5031-cc55-163d-fcd2"
      },
      {
       "current": "41d6f41a-db2c-11e8-a64b-02420aff0006-15-71ef-da00-62d9-ab17-70e6-aae6-2c13-ecbb-ac5f-4630",
       "next": "8959a3a0-db2c-11e8-a64b-02420aff0006-14-62a4-900f-459a-e046-782e-2004-e751-cb8b-0f16-01e7",
       "previous": "3e2bec84-f426-11ea-9bfc-02420a01001a-8-bde3-8c36-a4f9-5031-cc55-163d-fcd2-5330"
      },
      {
       "current": "41d6f41a-db2c-11e8-a64b-02420aff0006-16-da00-62d9-ab17-70e6-aae6-2c13-ecbb-ac5f-4630-b275",
       "next": "8959a3a0-db2c-11e8-a64b-02420aff0006-15-900f-459a-e046-782e-2004-e751-cb8b-0f16-01e7-2a69",
       "previous": "3e2bec84-f426-11ea-9bfc-02420a01001a-9-bde3-8c36-a4f9-5031-cc55-163d-fcd2-5330-5596"
      },
      {
       "current": "41d6f41a-db2c-11e8-a64b-02420aff0006-17-62d9-ab17-70e6-aae6-2c13-ecbb-ac5f-4630-b275-dc5c",
       "next": "8959a3a0-db2c-11e8-a64b-02420aff0006-16-459a-e046-782e-2004-e751-cb8b-0f16-01e7-2a69-9161",
       "previous": "3e2bec84-f426-11ea-9bfc-02420a01001a-10-bde3-8c36-a4f9-5031-cc55-163d-fcd2-5330-5596-2c92"
      },
      {
       "current": "41d6f41a-db2c-11e8-a64b-02420aff0006-18-ab17-70e6-aae6-2c13-ecbb-ac5f-4630-b275-dc5c-7d87",
       "next": "8959a3a0-db2c-11e8-a64b-02420aff0006-17-e046-782e-2004-e751-cb8b-0f16-01e7-2a69-9161-2729",
       "previous": "3e2bec84-f426-11ea-9bfc-02420a01001a-11-8c36-a4f9-5031-cc55-163d-fcd2-5330-5596-2c92-30ab"
      },
      {
       "current": "41d6f41a-db2c-11e8-a64b-02420aff0006-19-70e6-aae6-2c13-ecbb-ac5f-4630-b275-dc5c-7d87-1d87",
       "next": "8959a3a0-db2c-11e8-a64b-02420aff0006-18-782e-2004-e751-cb8b-0f16-01e7-2a69-9161-2729-ce69",
       "previous": "3e2bec84-f426-11ea-9bfc-02420a01001a-12-a4f9-5031-cc55-163d-fcd2-5330-5596-2c92-30ab-6ef7"
      },
      {
       "current": "41d6f41a-db2c-11e8-a64b-02420aff0006-20-aae6-2c13-ecbb-ac5f-4630-b275-dc5c-7d87-1d87-abe3",
       "next": "8959a3a0-db2c-11e8-a64b-02420aff0006-19-2004-e751-cb8b-0f16-01e7-2a69-9161-2729-ce69-e763",
       "previous": "3e2bec84-f426-11ea-9bfc-02420a01001a-13-5031-cc55-163d-fcd2-5330-5596-2c92-30ab-6ef7-06e6"
      }
     ],
     "next": "8959a3a0-db2c-11e8-a64b-02420aff0006-20-e751-cb8b-0f16-01e7-2a69-9161-2729-ce69-e763-efe3",
     "previous": "3e2bec84-f426-11ea-9bfc-02420a01001a-14-cc55-163d-fcd2-5330-5596-2c92-30ab-6ef7-06e6-fbf2"
    },
    "scrolled": true
   },
   "outputs": [],
   "source": [
    "for ipaddr, hostname in hostname_result:\n",
    "    !ansible -b -CDv -m lineinfile -a 'dest=/etc/hosts regexp=\"^{ipaddr} \" line=\"{ipaddr} {hostname}\"' {target_group}"
   ]
  },
  {
   "cell_type": "code",
   "execution_count": null,
   "metadata": {
    "lc_cell_meme": {
     "current": "8959a3a0-db2c-11e8-a64b-02420aff0006-20-e751-cb8b-0f16-01e7-2a69-9161-2729-ce69-e763-efe3",
     "history": [
      {
       "current": "8959a3a0-db2c-11e8-a64b-02420aff0006-14-62a4-900f-459a-e046-782e-2004-e751-cb8b-0f16-01e7",
       "next": "3e2bedce-f426-11ea-9bfc-02420a01001a-7-4b5d-cd82-490e-dec5-eab0-fe4a-67a3",
       "previous": "41d6f41a-db2c-11e8-a64b-02420aff0006-13-b125-6ebf-71ef-da00-62d9-ab17-70e6-aae6-2c13-ecbb"
      },
      {
       "current": "8959a3a0-db2c-11e8-a64b-02420aff0006-15-900f-459a-e046-782e-2004-e751-cb8b-0f16-01e7-2a69",
       "next": "3e2bedce-f426-11ea-9bfc-02420a01001a-8-4b5d-cd82-490e-dec5-eab0-fe4a-67a3-0fbb",
       "previous": "41d6f41a-db2c-11e8-a64b-02420aff0006-14-6ebf-71ef-da00-62d9-ab17-70e6-aae6-2c13-ecbb-ac5f"
      },
      {
       "current": "8959a3a0-db2c-11e8-a64b-02420aff0006-16-459a-e046-782e-2004-e751-cb8b-0f16-01e7-2a69-9161",
       "next": "3e2bedce-f426-11ea-9bfc-02420a01001a-9-4b5d-cd82-490e-dec5-eab0-fe4a-67a3-0fbb-fbcd",
       "previous": "41d6f41a-db2c-11e8-a64b-02420aff0006-15-71ef-da00-62d9-ab17-70e6-aae6-2c13-ecbb-ac5f-4630"
      },
      {
       "current": "8959a3a0-db2c-11e8-a64b-02420aff0006-17-e046-782e-2004-e751-cb8b-0f16-01e7-2a69-9161-2729",
       "next": "3e2bedce-f426-11ea-9bfc-02420a01001a-10-4b5d-cd82-490e-dec5-eab0-fe4a-67a3-0fbb-fbcd-6d8e",
       "previous": "41d6f41a-db2c-11e8-a64b-02420aff0006-16-da00-62d9-ab17-70e6-aae6-2c13-ecbb-ac5f-4630-b275"
      },
      {
       "current": "8959a3a0-db2c-11e8-a64b-02420aff0006-18-782e-2004-e751-cb8b-0f16-01e7-2a69-9161-2729-ce69",
       "next": "3e2bedce-f426-11ea-9bfc-02420a01001a-11-cd82-490e-dec5-eab0-fe4a-67a3-0fbb-fbcd-6d8e-96ec",
       "previous": "41d6f41a-db2c-11e8-a64b-02420aff0006-17-62d9-ab17-70e6-aae6-2c13-ecbb-ac5f-4630-b275-dc5c"
      },
      {
       "current": "8959a3a0-db2c-11e8-a64b-02420aff0006-19-2004-e751-cb8b-0f16-01e7-2a69-9161-2729-ce69-e763",
       "next": "3e2bedce-f426-11ea-9bfc-02420a01001a-12-490e-dec5-eab0-fe4a-67a3-0fbb-fbcd-6d8e-96ec-b54b",
       "previous": "41d6f41a-db2c-11e8-a64b-02420aff0006-18-ab17-70e6-aae6-2c13-ecbb-ac5f-4630-b275-dc5c-7d87"
      },
      {
       "current": "8959a3a0-db2c-11e8-a64b-02420aff0006-20-e751-cb8b-0f16-01e7-2a69-9161-2729-ce69-e763-efe3",
       "next": "3e2bedce-f426-11ea-9bfc-02420a01001a-13-dec5-eab0-fe4a-67a3-0fbb-fbcd-6d8e-96ec-b54b-ff78",
       "previous": "41d6f41a-db2c-11e8-a64b-02420aff0006-19-70e6-aae6-2c13-ecbb-ac5f-4630-b275-dc5c-7d87-1d87"
      }
     ],
     "next": "3e2bedce-f426-11ea-9bfc-02420a01001a-14-eab0-fe4a-67a3-0fbb-fbcd-6d8e-96ec-b54b-ff78-388a",
     "previous": "41d6f41a-db2c-11e8-a64b-02420aff0006-20-aae6-2c13-ecbb-ac5f-4630-b275-dc5c-7d87-1d87-abe3"
    },
    "scrolled": true
   },
   "outputs": [],
   "source": [
    "for ipaddr, hostname in hostname_result:\n",
    "    !ansible -b -m lineinfile -a 'dest=/etc/hosts regexp=\"^{ipaddr} \" line=\"{ipaddr} {hostname}\"' {target_group}"
   ]
  },
  {
   "cell_type": "markdown",
   "metadata": {
    "lc_cell_meme": {
     "current": "3e2bedce-f426-11ea-9bfc-02420a01001a-14-eab0-fe4a-67a3-0fbb-fbcd-6d8e-96ec-b54b-ff78-388a",
     "history": [
      {
       "current": "3e2bedce-f426-11ea-9bfc-02420a01001a-8-4b5d-cd82-490e-dec5-eab0-fe4a-67a3-0fbb",
       "next": "3e2beef0-f426-11ea-9bfc-02420a01001a-7-5ea2-4980-3cc9-896c-c20d-d777-9b90",
       "previous": "8959a3a0-db2c-11e8-a64b-02420aff0006-13-50c3-62a4-900f-459a-e046-782e-2004-e751-cb8b-0f16"
      },
      {
       "current": "3e2bedce-f426-11ea-9bfc-02420a01001a-9-4b5d-cd82-490e-dec5-eab0-fe4a-67a3-0fbb-fbcd",
       "next": "3e2beef0-f426-11ea-9bfc-02420a01001a-8-5ea2-4980-3cc9-896c-c20d-d777-9b90-b5f5",
       "previous": "8959a3a0-db2c-11e8-a64b-02420aff0006-14-62a4-900f-459a-e046-782e-2004-e751-cb8b-0f16-01e7"
      },
      {
       "current": "3e2bedce-f426-11ea-9bfc-02420a01001a-10-4b5d-cd82-490e-dec5-eab0-fe4a-67a3-0fbb-fbcd-6d8e",
       "next": "3e2beef0-f426-11ea-9bfc-02420a01001a-9-5ea2-4980-3cc9-896c-c20d-d777-9b90-b5f5-cf37",
       "previous": "8959a3a0-db2c-11e8-a64b-02420aff0006-15-900f-459a-e046-782e-2004-e751-cb8b-0f16-01e7-2a69"
      },
      {
       "current": "3e2bedce-f426-11ea-9bfc-02420a01001a-11-cd82-490e-dec5-eab0-fe4a-67a3-0fbb-fbcd-6d8e-96ec",
       "next": "3e2beef0-f426-11ea-9bfc-02420a01001a-10-5ea2-4980-3cc9-896c-c20d-d777-9b90-b5f5-cf37-f395",
       "previous": "8959a3a0-db2c-11e8-a64b-02420aff0006-16-459a-e046-782e-2004-e751-cb8b-0f16-01e7-2a69-9161"
      },
      {
       "current": "3e2bedce-f426-11ea-9bfc-02420a01001a-12-490e-dec5-eab0-fe4a-67a3-0fbb-fbcd-6d8e-96ec-b54b",
       "next": "3e2beef0-f426-11ea-9bfc-02420a01001a-11-4980-3cc9-896c-c20d-d777-9b90-b5f5-cf37-f395-b376",
       "previous": "8959a3a0-db2c-11e8-a64b-02420aff0006-17-e046-782e-2004-e751-cb8b-0f16-01e7-2a69-9161-2729"
      },
      {
       "current": "3e2bedce-f426-11ea-9bfc-02420a01001a-13-dec5-eab0-fe4a-67a3-0fbb-fbcd-6d8e-96ec-b54b-ff78",
       "next": "3e2beef0-f426-11ea-9bfc-02420a01001a-12-3cc9-896c-c20d-d777-9b90-b5f5-cf37-f395-b376-c3cf",
       "previous": "8959a3a0-db2c-11e8-a64b-02420aff0006-18-782e-2004-e751-cb8b-0f16-01e7-2a69-9161-2729-ce69"
      },
      {
       "current": "3e2bedce-f426-11ea-9bfc-02420a01001a-14-eab0-fe4a-67a3-0fbb-fbcd-6d8e-96ec-b54b-ff78-388a",
       "next": "3e2beef0-f426-11ea-9bfc-02420a01001a-13-896c-c20d-d777-9b90-b5f5-cf37-f395-b376-c3cf-3a8c",
       "previous": "8959a3a0-db2c-11e8-a64b-02420aff0006-19-2004-e751-cb8b-0f16-01e7-2a69-9161-2729-ce69-e763"
      }
     ],
     "next": "3e2beef0-f426-11ea-9bfc-02420a01001a-14-c20d-d777-9b90-b5f5-cf37-f395-b376-c3cf-3a8c-6228",
     "previous": "8959a3a0-db2c-11e8-a64b-02420aff0006-20-e751-cb8b-0f16-01e7-2a69-9161-2729-ce69-e763-efe3"
    }
   },
   "source": [
    "hostsを確認しておく"
   ]
  },
  {
   "cell_type": "code",
   "execution_count": null,
   "metadata": {
    "lc_cell_meme": {
     "current": "3e2beef0-f426-11ea-9bfc-02420a01001a-14-c20d-d777-9b90-b5f5-cf37-f395-b376-c3cf-3a8c-6228",
     "history": [
      {
       "current": "3e2beef0-f426-11ea-9bfc-02420a01001a-8-5ea2-4980-3cc9-896c-c20d-d777-9b90-b5f5",
       "next": "fe7771bc-ab49-11e7-a38f-0242ac120002-13-0786-4b95-fa59-9088-d6a7-ef7e-b6e0-1eb8-348d-f34d",
       "previous": "3e2bedce-f426-11ea-9bfc-02420a01001a-7-4b5d-cd82-490e-dec5-eab0-fe4a-67a3"
      },
      {
       "current": "3e2beef0-f426-11ea-9bfc-02420a01001a-9-5ea2-4980-3cc9-896c-c20d-d777-9b90-b5f5-cf37",
       "next": "fe7771bc-ab49-11e7-a38f-0242ac120002-14-4b95-fa59-9088-d6a7-ef7e-b6e0-1eb8-348d-f34d-94f8",
       "previous": "3e2bedce-f426-11ea-9bfc-02420a01001a-8-4b5d-cd82-490e-dec5-eab0-fe4a-67a3-0fbb"
      },
      {
       "current": "3e2beef0-f426-11ea-9bfc-02420a01001a-10-5ea2-4980-3cc9-896c-c20d-d777-9b90-b5f5-cf37-f395",
       "next": "fe7771bc-ab49-11e7-a38f-0242ac120002-15-fa59-9088-d6a7-ef7e-b6e0-1eb8-348d-f34d-94f8-927f",
       "previous": "3e2bedce-f426-11ea-9bfc-02420a01001a-9-4b5d-cd82-490e-dec5-eab0-fe4a-67a3-0fbb-fbcd"
      },
      {
       "current": "3e2beef0-f426-11ea-9bfc-02420a01001a-11-4980-3cc9-896c-c20d-d777-9b90-b5f5-cf37-f395-b376",
       "next": "fe7771bc-ab49-11e7-a38f-0242ac120002-16-9088-d6a7-ef7e-b6e0-1eb8-348d-f34d-94f8-927f-52d0",
       "previous": "3e2bedce-f426-11ea-9bfc-02420a01001a-10-4b5d-cd82-490e-dec5-eab0-fe4a-67a3-0fbb-fbcd-6d8e"
      },
      {
       "current": "3e2beef0-f426-11ea-9bfc-02420a01001a-12-3cc9-896c-c20d-d777-9b90-b5f5-cf37-f395-b376-c3cf",
       "next": "fe7771bc-ab49-11e7-a38f-0242ac120002-17-d6a7-ef7e-b6e0-1eb8-348d-f34d-94f8-927f-52d0-4758",
       "previous": "3e2bedce-f426-11ea-9bfc-02420a01001a-11-cd82-490e-dec5-eab0-fe4a-67a3-0fbb-fbcd-6d8e-96ec"
      },
      {
       "current": "3e2beef0-f426-11ea-9bfc-02420a01001a-13-896c-c20d-d777-9b90-b5f5-cf37-f395-b376-c3cf-3a8c",
       "next": "fe7771bc-ab49-11e7-a38f-0242ac120002-18-ef7e-b6e0-1eb8-348d-f34d-94f8-927f-52d0-4758-ef83",
       "previous": "3e2bedce-f426-11ea-9bfc-02420a01001a-12-490e-dec5-eab0-fe4a-67a3-0fbb-fbcd-6d8e-96ec-b54b"
      },
      {
       "current": "3e2beef0-f426-11ea-9bfc-02420a01001a-13-896c-c20d-d777-9b90-b5f5-cf37-f395-b376-c3cf-3a8c",
       "next": "fe7771bc-ab49-11e7-a38f-0242ac120002-19-b6e0-1eb8-348d-f34d-94f8-927f-52d0-4758-ef83-9095",
       "previous": "3e2bedce-f426-11ea-9bfc-02420a01001a-13-dec5-eab0-fe4a-67a3-0fbb-fbcd-6d8e-96ec-b54b-ff78"
      },
      {
       "current": "3e2beef0-f426-11ea-9bfc-02420a01001a-13-896c-c20d-d777-9b90-b5f5-cf37-f395-b376-c3cf-3a8c",
       "next": "c2d612a6-d875-11ef-8c18-0242ac120004",
       "previous": "3e2bedce-f426-11ea-9bfc-02420a01001a-13-dec5-eab0-fe4a-67a3-0fbb-fbcd-6d8e-96ec-b54b-ff78"
      },
      {
       "current": "3e2beef0-f426-11ea-9bfc-02420a01001a-14-c20d-d777-9b90-b5f5-cf37-f395-b376-c3cf-3a8c-6228",
       "next": "7746f070-d88f-11ef-8c18-0242ac120004",
       "previous": "3e2bedce-f426-11ea-9bfc-02420a01001a-13-dec5-eab0-fe4a-67a3-0fbb-fbcd-6d8e-96ec-b54b-ff78"
      }
     ],
     "next": "7746f070-d88f-11ef-8c18-0242ac120004-1-4791",
     "previous": "3e2bedce-f426-11ea-9bfc-02420a01001a-14-eab0-fe4a-67a3-0fbb-fbcd-6d8e-96ec-b54b-ff78-388a"
    },
    "scrolled": true
   },
   "outputs": [],
   "source": [
    "!ansible -a 'cat /etc/hosts' {target_group}"
   ]
  },
  {
   "cell_type": "markdown",
   "metadata": {
    "lc_cell_meme": {
     "current": "7746f070-d88f-11ef-8c18-0242ac120004-1-4791",
     "history": [
      {
       "current": "7746f070-d88f-11ef-8c18-0242ac120004-1-4791",
       "next": "fe45847c-e778-11ea-9c06-02420a010045-23-faac-ae7d-206a-e388-8a1a-b33e-3fa3-eb5b-fa2d-46b9",
       "previous": "3e2beef0-f426-11ea-9bfc-02420a01001a-13-896c-c20d-d777-9b90-b5f5-cf37-f395-b376-c3cf-3a8c"
      }
     ],
     "next": "fe45847c-e778-11ea-9c06-02420a010045-24-ae7d-206a-e388-8a1a-b33e-3fa3-eb5b-fa2d-46b9-4262",
     "previous": "3e2beef0-f426-11ea-9bfc-02420a01001a-14-c20d-d777-9b90-b5f5-cf37-f395-b376-c3cf-3a8c-6228"
    }
   },
   "source": [
    "## servicenet_ip読み込み"
   ]
  },
  {
   "cell_type": "code",
   "execution_count": null,
   "metadata": {
    "lc_cell_meme": {
     "current": "fe45847c-e778-11ea-9c06-02420a010045-24-ae7d-206a-e388-8a1a-b33e-3fa3-eb5b-fa2d-46b9-4262",
     "history": [
      {
       "current": "fe45847c-e778-11ea-9c06-02420a010045-13-e4d9-39d8-e14e-f0f2-8039-10f8-27b7-498e-614e-6a19",
       "next": "b6af0ce6-e778-11ea-9c06-02420a010045-12-f6fa-82dc-eb44-f6bd-71dd-6008-0814-85bf-163a-8eff",
       "previous": "8ef9eeb4-eea3-11ea-9bfc-02420a01001a-9-7e69-d8d9-7459-9aca-71ea-89b3-82ea-1bd9-eb85"
      },
      {
       "current": "fe45847c-e778-11ea-9c06-02420a010045-14-39d8-e14e-f0f2-8039-10f8-27b7-498e-614e-6a19-faac",
       "next": "b6af0ce6-e778-11ea-9c06-02420a010045-13-82dc-eb44-f6bd-71dd-6008-0814-85bf-163a-8eff-2111",
       "previous": "8ef9eeb4-eea3-11ea-9bfc-02420a01001a-10-7e69-d8d9-7459-9aca-71ea-89b3-82ea-1bd9-eb85-8769"
      },
      {
       "current": "fe45847c-e778-11ea-9c06-02420a010045-15-e14e-f0f2-8039-10f8-27b7-498e-614e-6a19-faac-ae7d",
       "next": "b6af0ce6-e778-11ea-9c06-02420a010045-14-eb44-f6bd-71dd-6008-0814-85bf-163a-8eff-2111-03e5",
       "previous": "8ef9eeb4-eea3-11ea-9bfc-02420a01001a-11-d8d9-7459-9aca-71ea-89b3-82ea-1bd9-eb85-8769-f452"
      },
      {
       "current": "fe45847c-e778-11ea-9c06-02420a010045-16-f0f2-8039-10f8-27b7-498e-614e-6a19-faac-ae7d-206a",
       "next": "b6af0ce6-e778-11ea-9c06-02420a010045-15-f6bd-71dd-6008-0814-85bf-163a-8eff-2111-03e5-cc6f",
       "previous": "8ef9eeb4-eea3-11ea-9bfc-02420a01001a-12-7459-9aca-71ea-89b3-82ea-1bd9-eb85-8769-f452-02a7"
      },
      {
       "current": "fe45847c-e778-11ea-9c06-02420a010045-17-8039-10f8-27b7-498e-614e-6a19-faac-ae7d-206a-e388",
       "next": "b6af0ce6-e778-11ea-9c06-02420a010045-16-71dd-6008-0814-85bf-163a-8eff-2111-03e5-cc6f-c1b7",
       "previous": "8ef9eeb4-eea3-11ea-9bfc-02420a01001a-13-9aca-71ea-89b3-82ea-1bd9-eb85-8769-f452-02a7-0211"
      },
      {
       "current": "fe45847c-e778-11ea-9c06-02420a010045-18-10f8-27b7-498e-614e-6a19-faac-ae7d-206a-e388-8a1a",
       "next": "b6af0ce6-e778-11ea-9c06-02420a010045-17-6008-0814-85bf-163a-8eff-2111-03e5-cc6f-c1b7-f783",
       "previous": "8ef9eeb4-eea3-11ea-9bfc-02420a01001a-14-71ea-89b3-82ea-1bd9-eb85-8769-f452-02a7-0211-0710"
      },
      {
       "current": "fe45847c-e778-11ea-9c06-02420a010045-19-27b7-498e-614e-6a19-faac-ae7d-206a-e388-8a1a-b33e",
       "next": "b6af0ce6-e778-11ea-9c06-02420a010045-18-0814-85bf-163a-8eff-2111-03e5-cc6f-c1b7-f783-a900",
       "previous": "8ef9eeb4-eea3-11ea-9bfc-02420a01001a-15-89b3-82ea-1bd9-eb85-8769-f452-02a7-0211-0710-a977"
      },
      {
       "current": "fe45847c-e778-11ea-9c06-02420a010045-20-498e-614e-6a19-faac-ae7d-206a-e388-8a1a-b33e-3fa3",
       "next": "b6af0ce6-e778-11ea-9c06-02420a010045-19-85bf-163a-8eff-2111-03e5-cc6f-c1b7-f783-a900-3a8b",
       "previous": "8ef9eeb4-eea3-11ea-9bfc-02420a01001a-16-82ea-1bd9-eb85-8769-f452-02a7-0211-0710-a977-6b0d"
      },
      {
       "current": "fe45847c-e778-11ea-9c06-02420a010045-21-614e-6a19-faac-ae7d-206a-e388-8a1a-b33e-3fa3-eb5b",
       "next": "b6af0ce6-e778-11ea-9c06-02420a010045-20-163a-8eff-2111-03e5-cc6f-c1b7-f783-a900-3a8b-dd3a",
       "previous": "8ef9eeb4-eea3-11ea-9bfc-02420a01001a-17-1bd9-eb85-8769-f452-02a7-0211-0710-a977-6b0d-65af"
      },
      {
       "current": "fe45847c-e778-11ea-9c06-02420a010045-23-faac-ae7d-206a-e388-8a1a-b33e-3fa3-eb5b-fa2d-46b9",
       "next": "b6af0ce6-e778-11ea-9c06-02420a010045-21-8eff-2111-03e5-cc6f-c1b7-f783-a900-3a8b-dd3a-9e34",
       "previous": "8ef9eeb4-eea3-11ea-9bfc-02420a01001a-18-eb85-8769-f452-02a7-0211-0710-a977-6b0d-65af-25f1"
      },
      {
       "current": "fe45847c-e778-11ea-9c06-02420a010045-24-ae7d-206a-e388-8a1a-b33e-3fa3-eb5b-fa2d-46b9-4262",
       "next": "b6af0ce6-e778-11ea-9c06-02420a010045-23-03e5-cc6f-c1b7-f783-a900-3a8b-dd3a-9e34-eec3-8e6f",
       "previous": "7746f070-d88f-11ef-8c18-0242ac120004"
      }
     ],
     "next": "b6af0ce6-e778-11ea-9c06-02420a010045-24-cc6f-c1b7-f783-a900-3a8b-dd3a-9e34-eec3-8e6f-7098",
     "previous": "7746f070-d88f-11ef-8c18-0242ac120004-1-4791"
    },
    "scrolled": true
   },
   "outputs": [],
   "source": [
    "%%writefile {temp_dir}/get_servicenet_ip.yml\n",
    "---\n",
    "- become: true\n",
    "  hosts: all\n",
    "  tasks:\n",
    "      - debug: \"msg={{inventory_hostname}}={{servicenet_ip}}\"\n"
   ]
  },
  {
   "cell_type": "code",
   "execution_count": null,
   "metadata": {
    "lc_cell_meme": {
     "current": "b6af0ce6-e778-11ea-9c06-02420a010045-24-cc6f-c1b7-f783-a900-3a8b-dd3a-9e34-eec3-8e6f-7098",
     "history": [
      {
       "current": "b6af0ce6-e778-11ea-9c06-02420a010045-13-82dc-eb44-f6bd-71dd-6008-0814-85bf-163a-8eff-2111",
       "next": "1bea9cc0-208c-11e9-99c7-02420aff0008-17-0264-ffdb-1e48-ecf1-39c0-9758-8950-68bb-fa65-019e",
       "previous": "fe45847c-e778-11ea-9c06-02420a010045-12-6f25-e4d9-39d8-e14e-f0f2-8039-10f8-27b7-498e-614e"
      },
      {
       "current": "b6af0ce6-e778-11ea-9c06-02420a010045-14-eb44-f6bd-71dd-6008-0814-85bf-163a-8eff-2111-03e5",
       "next": "1bea9cc0-208c-11e9-99c7-02420aff0008-18-ffdb-1e48-ecf1-39c0-9758-8950-68bb-fa65-019e-ad81",
       "previous": "fe45847c-e778-11ea-9c06-02420a010045-13-e4d9-39d8-e14e-f0f2-8039-10f8-27b7-498e-614e-6a19"
      },
      {
       "current": "b6af0ce6-e778-11ea-9c06-02420a010045-15-f6bd-71dd-6008-0814-85bf-163a-8eff-2111-03e5-cc6f",
       "next": "1bea9cc0-208c-11e9-99c7-02420aff0008-19-1e48-ecf1-39c0-9758-8950-68bb-fa65-019e-ad81-ca7e",
       "previous": "fe45847c-e778-11ea-9c06-02420a010045-14-39d8-e14e-f0f2-8039-10f8-27b7-498e-614e-6a19-faac"
      },
      {
       "current": "b6af0ce6-e778-11ea-9c06-02420a010045-16-71dd-6008-0814-85bf-163a-8eff-2111-03e5-cc6f-c1b7",
       "next": "1bea9cc0-208c-11e9-99c7-02420aff0008-20-ecf1-39c0-9758-8950-68bb-fa65-019e-ad81-ca7e-4c32",
       "previous": "fe45847c-e778-11ea-9c06-02420a010045-15-e14e-f0f2-8039-10f8-27b7-498e-614e-6a19-faac-ae7d"
      },
      {
       "current": "b6af0ce6-e778-11ea-9c06-02420a010045-17-6008-0814-85bf-163a-8eff-2111-03e5-cc6f-c1b7-f783",
       "next": "1bea9cc0-208c-11e9-99c7-02420aff0008-21-39c0-9758-8950-68bb-fa65-019e-ad81-ca7e-4c32-4e89",
       "previous": "fe45847c-e778-11ea-9c06-02420a010045-16-f0f2-8039-10f8-27b7-498e-614e-6a19-faac-ae7d-206a"
      },
      {
       "current": "b6af0ce6-e778-11ea-9c06-02420a010045-18-0814-85bf-163a-8eff-2111-03e5-cc6f-c1b7-f783-a900",
       "next": "1bea9cc0-208c-11e9-99c7-02420aff0008-22-9758-8950-68bb-fa65-019e-ad81-ca7e-4c32-4e89-5e40",
       "previous": "fe45847c-e778-11ea-9c06-02420a010045-17-8039-10f8-27b7-498e-614e-6a19-faac-ae7d-206a-e388"
      },
      {
       "current": "b6af0ce6-e778-11ea-9c06-02420a010045-19-85bf-163a-8eff-2111-03e5-cc6f-c1b7-f783-a900-3a8b",
       "next": "1bea9cc0-208c-11e9-99c7-02420aff0008-23-8950-68bb-fa65-019e-ad81-ca7e-4c32-4e89-5e40-644a",
       "previous": "fe45847c-e778-11ea-9c06-02420a010045-18-10f8-27b7-498e-614e-6a19-faac-ae7d-206a-e388-8a1a"
      },
      {
       "current": "b6af0ce6-e778-11ea-9c06-02420a010045-20-163a-8eff-2111-03e5-cc6f-c1b7-f783-a900-3a8b-dd3a",
       "next": "1bea9cc0-208c-11e9-99c7-02420aff0008-24-68bb-fa65-019e-ad81-ca7e-4c32-4e89-5e40-644a-ca24",
       "previous": "fe45847c-e778-11ea-9c06-02420a010045-19-27b7-498e-614e-6a19-faac-ae7d-206a-e388-8a1a-b33e"
      },
      {
       "current": "b6af0ce6-e778-11ea-9c06-02420a010045-21-8eff-2111-03e5-cc6f-c1b7-f783-a900-3a8b-dd3a-9e34",
       "next": "1bea9cc0-208c-11e9-99c7-02420aff0008-25-fa65-019e-ad81-ca7e-4c32-4e89-5e40-644a-ca24-4bde",
       "previous": "fe45847c-e778-11ea-9c06-02420a010045-20-498e-614e-6a19-faac-ae7d-206a-e388-8a1a-b33e-3fa3"
      },
      {
       "current": "b6af0ce6-e778-11ea-9c06-02420a010045-23-03e5-cc6f-c1b7-f783-a900-3a8b-dd3a-9e34-eec3-8e6f",
       "next": "1bea9cc0-208c-11e9-99c7-02420aff0008-26-019e-ad81-ca7e-4c32-4e89-5e40-644a-ca24-4bde-df4e",
       "previous": "fe45847c-e778-11ea-9c06-02420a010045-21-614e-6a19-faac-ae7d-206a-e388-8a1a-b33e-3fa3-eb5b"
      },
      {
       "current": "b6af0ce6-e778-11ea-9c06-02420a010045-24-cc6f-c1b7-f783-a900-3a8b-dd3a-9e34-eec3-8e6f-7098",
       "next": "c2d612a6-d875-11ef-8c18-0242ac120004",
       "previous": "fe45847c-e778-11ea-9c06-02420a010045-23-faac-ae7d-206a-e388-8a1a-b33e-3fa3-eb5b-fa2d-46b9"
      }
     ],
     "next": "c2d612a6-d875-11ef-8c18-0242ac120004-1-cc30",
     "previous": "fe45847c-e778-11ea-9c06-02420a010045-24-ae7d-206a-e388-8a1a-b33e-3fa3-eb5b-fa2d-46b9-4262"
    },
    "scrolled": true
   },
   "outputs": [],
   "source": [
    "import re\n",
    "\n",
    "servicenet_result = {}\n",
    "\n",
    "msgout = !ansible-playbook -l {target_group} {temp_dir}/get_servicenet_ip.yml\n",
    "msgout = msgout.grep('\"msg\"')\n",
    "assert len(msgout) >= 1\n",
    "for l in msgout:\n",
    "    m = re.match(r'.*\\\"msg\\\": \\\"(.+)=(.+)\\\"', l)\n",
    "    if m:\n",
    "        servicenet_result[m.group(2)] = m.group(1)\n",
    "servicenet_result"
   ]
  },
  {
   "cell_type": "markdown",
   "metadata": {
    "lc_cell_meme": {
     "current": "c2d612a6-d875-11ef-8c18-0242ac120004-1-cc30",
     "history": [
      {
       "current": "c2d612a6-d875-11ef-8c18-0242ac120004",
       "next": "c2d614cc-d875-11ef-8c18-0242ac120004",
       "previous": "3e2beef0-f426-11ea-9bfc-02420a01001a-13-896c-c20d-d777-9b90-b5f5-cf37-f395-b376-c3cf-3a8c"
      },
      {
       "current": "c2d612a6-d875-11ef-8c18-0242ac120004",
       "next": "7746f282-d88f-11ef-8c18-0242ac120004",
       "previous": "b6af0ce6-e778-11ea-9c06-02420a010045-23-03e5-cc6f-c1b7-f783-a900-3a8b-dd3a-9e34-eec3-8e6f"
      },
      {
       "current": "c2d612a6-d875-11ef-8c18-0242ac120004-1-cc30",
       "next": "09fb08be-d89c-11ef-8c18-0242ac120004",
       "previous": "b6af0ce6-e778-11ea-9c06-02420a010045-23-03e5-cc6f-c1b7-f783-a900-3a8b-dd3a-9e34-eec3-8e6f"
      }
     ],
     "next": "09fb08be-d89c-11ef-8c18-0242ac120004-1-07bc",
     "previous": "b6af0ce6-e778-11ea-9c06-02420a010045-24-cc6f-c1b7-f783-a900-3a8b-dd3a-9e34-eec3-8e6f-7098"
    }
   },
   "source": [
    "## firewalldの設定\n",
    "\n",
    "`swarm`ゾーンの設定"
   ]
  },
  {
   "cell_type": "markdown",
   "metadata": {
    "lc_cell_meme": {
     "current": "09fb08be-d89c-11ef-8c18-0242ac120004-1-07bc",
     "history": [
      {
       "current": "09fb08be-d89c-11ef-8c18-0242ac120004-1-07bc",
       "next": "7746f282-d88f-11ef-8c18-0242ac120004",
       "previous": "c2d612a6-d875-11ef-8c18-0242ac120004"
      }
     ],
     "next": "7746f282-d88f-11ef-8c18-0242ac120004-1-ba15",
     "previous": "c2d612a6-d875-11ef-8c18-0242ac120004-1-cc30"
    }
   },
   "source": [
    "firewalldの有効化"
   ]
  },
  {
   "cell_type": "code",
   "execution_count": null,
   "metadata": {
    "lc_cell_meme": {
     "current": "7746f282-d88f-11ef-8c18-0242ac120004-1-ba15",
     "history": [
      {
       "current": "7746f282-d88f-11ef-8c18-0242ac120004",
       "next": "c2d614cc-d875-11ef-8c18-0242ac120004",
       "previous": "c2d612a6-d875-11ef-8c18-0242ac120004"
      },
      {
       "current": "7746f282-d88f-11ef-8c18-0242ac120004",
       "next": "7746f282-d88f-11ef-8c18-0242ac120004-1-daa0",
       "previous": "c2d612a6-d875-11ef-8c18-0242ac120004"
      },
      {
       "current": "7746f282-d88f-11ef-8c18-0242ac120004-1-ba15",
       "next": "7746f282-d88f-11ef-8c18-0242ac120004-1-daa0",
       "previous": "09fb08be-d89c-11ef-8c18-0242ac120004"
      }
     ],
     "next": "7746f282-d88f-11ef-8c18-0242ac120004-2-daa0-26a2",
     "previous": "09fb08be-d89c-11ef-8c18-0242ac120004-1-07bc"
    }
   },
   "outputs": [],
   "source": [
    "!ansible -CDv -b -m dnf -a 'name=firewalld' {target_group}"
   ]
  },
  {
   "cell_type": "code",
   "execution_count": null,
   "metadata": {
    "lc_cell_meme": {
     "current": "7746f282-d88f-11ef-8c18-0242ac120004-2-daa0-26a2",
     "history": [
      {
       "current": "7746f282-d88f-11ef-8c18-0242ac120004-1-daa0",
       "next": "c2d614cc-d875-11ef-8c18-0242ac120004",
       "previous": "c2d612a6-d875-11ef-8c18-0242ac120004"
      },
      {
       "current": "7746f282-d88f-11ef-8c18-0242ac120004-1-daa0",
       "next": "c2d614cc-d875-11ef-8c18-0242ac120004",
       "previous": "7746f282-d88f-11ef-8c18-0242ac120004"
      },
      {
       "current": "7746f282-d88f-11ef-8c18-0242ac120004-2-daa0-26a2",
       "next": "517fbe5a-d89c-11ef-8c18-0242ac120004",
       "previous": "7746f282-d88f-11ef-8c18-0242ac120004"
      }
     ],
     "next": "517fbe5a-d89c-11ef-8c18-0242ac120004-1-88de",
     "previous": "7746f282-d88f-11ef-8c18-0242ac120004-1-ba15"
    }
   },
   "outputs": [],
   "source": [
    "!ansible -b -m service -a 'name=firewalld.service enabled=yes state=started' {target_group}"
   ]
  },
  {
   "cell_type": "markdown",
   "metadata": {
    "lc_cell_meme": {
     "current": "517fbe5a-d89c-11ef-8c18-0242ac120004-1-88de",
     "history": [
      {
       "current": "517fbe5a-d89c-11ef-8c18-0242ac120004-1-88de",
       "next": "c2d614cc-d875-11ef-8c18-0242ac120004-2-5a34-44de",
       "previous": "7746f282-d88f-11ef-8c18-0242ac120004-1-daa0"
      }
     ],
     "next": "c2d614cc-d875-11ef-8c18-0242ac120004-3-5a34-44de-0501",
     "previous": "7746f282-d88f-11ef-8c18-0242ac120004-2-daa0-26a2"
    }
   },
   "source": [
    "zone追加"
   ]
  },
  {
   "cell_type": "code",
   "execution_count": null,
   "metadata": {
    "lc_cell_meme": {
     "current": "c2d614cc-d875-11ef-8c18-0242ac120004-3-5a34-44de-0501",
     "history": [
      {
       "current": "c2d614cc-d875-11ef-8c18-0242ac120004",
       "next": "fe7771bc-ab49-11e7-a38f-0242ac120002-19-b6e0-1eb8-348d-f34d-94f8-927f-52d0-4758-ef83-9095",
       "previous": "c2d612a6-d875-11ef-8c18-0242ac120004"
      },
      {
       "current": "c2d614cc-d875-11ef-8c18-0242ac120004",
       "next": "c2d614cc-d875-11ef-8c18-0242ac120004-1-77f8",
       "previous": "c2d612a6-d875-11ef-8c18-0242ac120004"
      },
      {
       "current": "c2d614cc-d875-11ef-8c18-0242ac120004",
       "next": "c2d614cc-d875-11ef-8c18-0242ac120004-1-77f8",
       "previous": "7746f282-d88f-11ef-8c18-0242ac120004"
      },
      {
       "current": "c2d614cc-d875-11ef-8c18-0242ac120004-2-5a34-44de",
       "next": "c2d614cc-d875-11ef-8c18-0242ac120004-1-77f8",
       "previous": "7746f282-d88f-11ef-8c18-0242ac120004-1-daa0"
      },
      {
       "current": "c2d614cc-d875-11ef-8c18-0242ac120004-2-5a34-44de",
       "next": "c2d614cc-d875-11ef-8c18-0242ac120004-1-77f8",
       "previous": "517fbe5a-d89c-11ef-8c18-0242ac120004"
      },
      {
       "current": "c2d614cc-d875-11ef-8c18-0242ac120004-3-5a34-44de-0501",
       "next": "c2d614cc-d875-11ef-8c18-0242ac120004-3-5a34-44de-1fb1",
       "previous": "517fbe5a-d89c-11ef-8c18-0242ac120004"
      }
     ],
     "next": "c2d614cc-d875-11ef-8c18-0242ac120004-4-5a34-44de-1fb1-f188",
     "previous": "517fbe5a-d89c-11ef-8c18-0242ac120004-1-88de"
    },
    "scrolled": true
   },
   "outputs": [],
   "source": [
    "!ansible -CDv -b -m ansible.posix.firewalld -a 'zone=swarm permanent=yes state=present' {target_group}"
   ]
  },
  {
   "cell_type": "code",
   "execution_count": null,
   "metadata": {
    "lc_cell_meme": {
     "current": "c2d614cc-d875-11ef-8c18-0242ac120004-4-5a34-44de-1fb1-f188",
     "history": [
      {
       "current": "c2d614cc-d875-11ef-8c18-0242ac120004",
       "next": "fe7771bc-ab49-11e7-a38f-0242ac120002-19-b6e0-1eb8-348d-f34d-94f8-927f-52d0-4758-ef83-9095",
       "previous": "c2d612a6-d875-11ef-8c18-0242ac120004"
      },
      {
       "current": "c2d614cc-d875-11ef-8c18-0242ac120004",
       "next": "c2d614cc-d875-11ef-8c18-0242ac120004-1-77f8",
       "previous": "c2d612a6-d875-11ef-8c18-0242ac120004"
      },
      {
       "current": "c2d614cc-d875-11ef-8c18-0242ac120004",
       "next": "c2d614cc-d875-11ef-8c18-0242ac120004-1-77f8",
       "previous": "7746f282-d88f-11ef-8c18-0242ac120004"
      },
      {
       "current": "c2d614cc-d875-11ef-8c18-0242ac120004-2-5a34-44de",
       "next": "c2d614cc-d875-11ef-8c18-0242ac120004-1-77f8",
       "previous": "7746f282-d88f-11ef-8c18-0242ac120004-1-daa0"
      },
      {
       "current": "c2d614cc-d875-11ef-8c18-0242ac120004-3-5a34-44de-1fb1",
       "next": "c2d614cc-d875-11ef-8c18-0242ac120004-1-77f8",
       "previous": "517fbe5a-d89c-11ef-8c18-0242ac120004"
      },
      {
       "current": "c2d614cc-d875-11ef-8c18-0242ac120004-4-5a34-44de-1fb1-f188",
       "next": "517fbe96-d89c-11ef-8c18-0242ac120004",
       "previous": "c2d614cc-d875-11ef-8c18-0242ac120004-2-5a34-44de"
      }
     ],
     "next": "517fbe96-d89c-11ef-8c18-0242ac120004-1-aeb1",
     "previous": "c2d614cc-d875-11ef-8c18-0242ac120004-3-5a34-44de-0501"
    },
    "scrolled": true
   },
   "outputs": [],
   "source": [
    "!ansible -b -m ansible.posix.firewalld -a 'zone=swarm permanent=yes state=present' {target_group}"
   ]
  },
  {
   "cell_type": "code",
   "execution_count": null,
   "metadata": {
    "lc_cell_meme": {
     "current": "517fbe96-d89c-11ef-8c18-0242ac120004-1-aeb1",
     "history": [
      {
       "current": "517fbe96-d89c-11ef-8c18-0242ac120004",
       "next": "517fbec8-d89c-11ef-8c18-0242ac120004",
       "previous": "c2d614cc-d875-11ef-8c18-0242ac120004-1-77f8"
      },
      {
       "current": "517fbe96-d89c-11ef-8c18-0242ac120004",
       "next": "99003ee4-d89c-11ef-8c18-0242ac120004",
       "previous": "c2d614cc-d875-11ef-8c18-0242ac120004-3-5a34-44de-1fb1"
      },
      {
       "current": "517fbe96-d89c-11ef-8c18-0242ac120004-1-aeb1",
       "next": "517fbec8-d89c-11ef-8c18-0242ac120004",
       "previous": "c2d614cc-d875-11ef-8c18-0242ac120004-3-5a34-44de-1fb1"
      }
     ],
     "next": "517fbec8-d89c-11ef-8c18-0242ac120004-1-b23c",
     "previous": "c2d614cc-d875-11ef-8c18-0242ac120004-4-5a34-44de-1fb1-f188"
    }
   },
   "outputs": [],
   "source": [
    "!ansible -b -a 'firewall-cmd --reload' {target_group}"
   ]
  },
  {
   "cell_type": "markdown",
   "metadata": {
    "lc_cell_meme": {
     "current": "517fbec8-d89c-11ef-8c18-0242ac120004-1-b23c",
     "history": [
      {
       "current": "517fbec8-d89c-11ef-8c18-0242ac120004",
       "next": "c2d614cc-d875-11ef-8c18-0242ac120004-2-77f8-9a51",
       "previous": "517fbe96-d89c-11ef-8c18-0242ac120004"
      },
      {
       "current": "517fbec8-d89c-11ef-8c18-0242ac120004",
       "next": "c2d614cc-d875-11ef-8c18-0242ac120004-2-77f8-9a51",
       "previous": "99004056-d89c-11ef-8c18-0242ac120004"
      },
      {
       "current": "517fbec8-d89c-11ef-8c18-0242ac120004",
       "next": "c2d614cc-d875-11ef-8c18-0242ac120004-2-77f8-9a51",
       "previous": "517fbe96-d89c-11ef-8c18-0242ac120004-1-bba7"
      },
      {
       "current": "517fbec8-d89c-11ef-8c18-0242ac120004-1-b23c",
       "next": "c2d614cc-d875-11ef-8c18-0242ac120004-2-77f8-9a51",
       "previous": "517fbe96-d89c-11ef-8c18-0242ac120004"
      }
     ],
     "next": "c2d614cc-d875-11ef-8c18-0242ac120004-3-77f8-9a51-395e",
     "previous": "517fbe96-d89c-11ef-8c18-0242ac120004-1-aeb1"
    }
   },
   "source": [
    "service, sourceの設定"
   ]
  },
  {
   "cell_type": "code",
   "execution_count": null,
   "metadata": {
    "lc_cell_meme": {
     "current": "c2d614cc-d875-11ef-8c18-0242ac120004-3-77f8-9a51-395e",
     "history": [
      {
       "current": "c2d614cc-d875-11ef-8c18-0242ac120004-1-77f8",
       "next": "fe7771bc-ab49-11e7-a38f-0242ac120002-19-b6e0-1eb8-348d-f34d-94f8-927f-52d0-4758-ef83-9095",
       "previous": "c2d612a6-d875-11ef-8c18-0242ac120004"
      },
      {
       "current": "c2d614cc-d875-11ef-8c18-0242ac120004-2-77f8-9a51",
       "next": "fe7771bc-ab49-11e7-a38f-0242ac120002-19-b6e0-1eb8-348d-f34d-94f8-927f-52d0-4758-ef83-9095",
       "previous": "c2d614cc-d875-11ef-8c18-0242ac120004"
      },
      {
       "current": "c2d614cc-d875-11ef-8c18-0242ac120004-2-77f8-9a51",
       "next": "fe7771bc-ab49-11e7-a38f-0242ac120002-19-b6e0-1eb8-348d-f34d-94f8-927f-52d0-4758-ef83-9095",
       "previous": "c2d614cc-d875-11ef-8c18-0242ac120004-1-77f8"
      },
      {
       "current": "c2d614cc-d875-11ef-8c18-0242ac120004-2-77f8-9a51",
       "next": "c2d614cc-d875-11ef-8c18-0242ac120004-3-77f8-9a51-1c08",
       "previous": "c2d614cc-d875-11ef-8c18-0242ac120004-1-77f8"
      },
      {
       "current": "c2d614cc-d875-11ef-8c18-0242ac120004-3-77f8-9a51-395e",
       "next": "c2d614cc-d875-11ef-8c18-0242ac120004-3-77f8-9a51-1c08",
       "previous": "517fbec8-d89c-11ef-8c18-0242ac120004"
      }
     ],
     "next": "c2d614cc-d875-11ef-8c18-0242ac120004-4-77f8-9a51-1c08-0452",
     "previous": "517fbec8-d89c-11ef-8c18-0242ac120004-1-b23c"
    }
   },
   "outputs": [],
   "source": [
    "!ansible -CDv -b -m ansible.posix.firewalld -a 'zone=swarm service=docker-swarm immediate=yes permanent=yes state=enabled' {target_group}"
   ]
  },
  {
   "cell_type": "code",
   "execution_count": null,
   "metadata": {
    "lc_cell_meme": {
     "current": "c2d614cc-d875-11ef-8c18-0242ac120004-4-77f8-9a51-1c08-0452",
     "history": [
      {
       "current": "c2d614cc-d875-11ef-8c18-0242ac120004-1-77f8",
       "next": "fe7771bc-ab49-11e7-a38f-0242ac120002-19-b6e0-1eb8-348d-f34d-94f8-927f-52d0-4758-ef83-9095",
       "previous": "c2d612a6-d875-11ef-8c18-0242ac120004"
      },
      {
       "current": "c2d614cc-d875-11ef-8c18-0242ac120004-2-77f8-9a51",
       "next": "fe7771bc-ab49-11e7-a38f-0242ac120002-19-b6e0-1eb8-348d-f34d-94f8-927f-52d0-4758-ef83-9095",
       "previous": "c2d614cc-d875-11ef-8c18-0242ac120004"
      },
      {
       "current": "c2d614cc-d875-11ef-8c18-0242ac120004-3-77f8-9a51-1c08",
       "next": "fe7771bc-ab49-11e7-a38f-0242ac120002-19-b6e0-1eb8-348d-f34d-94f8-927f-52d0-4758-ef83-9095",
       "previous": "c2d614cc-d875-11ef-8c18-0242ac120004-1-77f8"
      },
      {
       "current": "c2d614cc-d875-11ef-8c18-0242ac120004-4-77f8-9a51-1c08-0452",
       "next": "c2d614cc-d875-11ef-8c18-0242ac120004-4-77f8-9a51-1c08-3948",
       "previous": "c2d614cc-d875-11ef-8c18-0242ac120004-2-77f8-9a51"
      }
     ],
     "next": "c2d614cc-d875-11ef-8c18-0242ac120004-5-77f8-9a51-1c08-3948-1b4a",
     "previous": "c2d614cc-d875-11ef-8c18-0242ac120004-3-77f8-9a51-395e"
    }
   },
   "outputs": [],
   "source": [
    "!ansible -b -m ansible.posix.firewalld -a 'zone=swarm service=docker-swarm immediate=yes permanent=yes state=enabled' {target_group}"
   ]
  },
  {
   "cell_type": "code",
   "execution_count": null,
   "metadata": {
    "lc_cell_meme": {
     "current": "c2d614cc-d875-11ef-8c18-0242ac120004-5-77f8-9a51-1c08-3948-1b4a",
     "history": [
      {
       "current": "c2d614cc-d875-11ef-8c18-0242ac120004-1-77f8",
       "next": "fe7771bc-ab49-11e7-a38f-0242ac120002-19-b6e0-1eb8-348d-f34d-94f8-927f-52d0-4758-ef83-9095",
       "previous": "c2d612a6-d875-11ef-8c18-0242ac120004"
      },
      {
       "current": "c2d614cc-d875-11ef-8c18-0242ac120004-2-77f8-9a51",
       "next": "fe7771bc-ab49-11e7-a38f-0242ac120002-19-b6e0-1eb8-348d-f34d-94f8-927f-52d0-4758-ef83-9095",
       "previous": "c2d614cc-d875-11ef-8c18-0242ac120004"
      },
      {
       "current": "c2d614cc-d875-11ef-8c18-0242ac120004-4-77f8-9a51-1c08-3948",
       "next": "fe7771bc-ab49-11e7-a38f-0242ac120002-19-b6e0-1eb8-348d-f34d-94f8-927f-52d0-4758-ef83-9095",
       "previous": "c2d614cc-d875-11ef-8c18-0242ac120004-1-77f8"
      },
      {
       "current": "c2d614cc-d875-11ef-8c18-0242ac120004-4-77f8-9a51-1c08-3948",
       "next": "fe7771bc-ab49-11e7-a38f-0242ac120002-19-b6e0-1eb8-348d-f34d-94f8-927f-52d0-4758-ef83-9095",
       "previous": "c2d614cc-d875-11ef-8c18-0242ac120004-3-77f8-9a51-1c08"
      },
      {
       "current": "c2d614cc-d875-11ef-8c18-0242ac120004-4-77f8-9a51-1c08-3948",
       "next": "7746f336-d88f-11ef-8c18-0242ac120004",
       "previous": "c2d614cc-d875-11ef-8c18-0242ac120004-3-77f8-9a51-1c08"
      },
      {
       "current": "c2d614cc-d875-11ef-8c18-0242ac120004-5-77f8-9a51-1c08-3948-1b4a",
       "next": "c2d614cc-d875-11ef-8c18-0242ac120004-5-77f8-9a51-1c08-3948-240a",
       "previous": "c2d614cc-d875-11ef-8c18-0242ac120004-3-77f8-9a51-1c08"
      }
     ],
     "next": "c2d614cc-d875-11ef-8c18-0242ac120004-6-77f8-9a51-1c08-3948-240a-a62a",
     "previous": "c2d614cc-d875-11ef-8c18-0242ac120004-4-77f8-9a51-1c08-0452"
    }
   },
   "outputs": [],
   "source": [
    "for inventory_hostname, servicenet_ip in servicenet_result.items():\n",
    "    !ansible -CDv -b -m ansible.posix.firewalld \\\n",
    "        -a 'zone=swarm source={servicenet_ip} immediate=yes permanent=yes state=enabled' {target_group}"
   ]
  },
  {
   "cell_type": "code",
   "execution_count": null,
   "metadata": {
    "lc_cell_meme": {
     "current": "c2d614cc-d875-11ef-8c18-0242ac120004-6-77f8-9a51-1c08-3948-240a-a62a",
     "history": [
      {
       "current": "c2d614cc-d875-11ef-8c18-0242ac120004-1-77f8",
       "next": "fe7771bc-ab49-11e7-a38f-0242ac120002-19-b6e0-1eb8-348d-f34d-94f8-927f-52d0-4758-ef83-9095",
       "previous": "c2d612a6-d875-11ef-8c18-0242ac120004"
      },
      {
       "current": "c2d614cc-d875-11ef-8c18-0242ac120004-2-77f8-9a51",
       "next": "fe7771bc-ab49-11e7-a38f-0242ac120002-19-b6e0-1eb8-348d-f34d-94f8-927f-52d0-4758-ef83-9095",
       "previous": "c2d614cc-d875-11ef-8c18-0242ac120004"
      },
      {
       "current": "c2d614cc-d875-11ef-8c18-0242ac120004-4-77f8-9a51-1c08-3948",
       "next": "fe7771bc-ab49-11e7-a38f-0242ac120002-19-b6e0-1eb8-348d-f34d-94f8-927f-52d0-4758-ef83-9095",
       "previous": "c2d614cc-d875-11ef-8c18-0242ac120004-1-77f8"
      },
      {
       "current": "c2d614cc-d875-11ef-8c18-0242ac120004-4-77f8-9a51-1c08-3948",
       "next": "fe7771bc-ab49-11e7-a38f-0242ac120002-19-b6e0-1eb8-348d-f34d-94f8-927f-52d0-4758-ef83-9095",
       "previous": "c2d614cc-d875-11ef-8c18-0242ac120004-3-77f8-9a51-1c08"
      },
      {
       "current": "c2d614cc-d875-11ef-8c18-0242ac120004-5-77f8-9a51-1c08-3948-240a",
       "next": "7746f336-d88f-11ef-8c18-0242ac120004",
       "previous": "c2d614cc-d875-11ef-8c18-0242ac120004-3-77f8-9a51-1c08"
      },
      {
       "current": "c2d614cc-d875-11ef-8c18-0242ac120004-5-77f8-9a51-1c08-3948-240a",
       "next": "065300c4-d890-11ef-8c18-0242ac120004",
       "previous": "c2d614cc-d875-11ef-8c18-0242ac120004-4-77f8-9a51-1c08-3948"
      },
      {
       "current": "c2d614cc-d875-11ef-8c18-0242ac120004-6-77f8-9a51-1c08-3948-240a-a62a",
       "next": "9900407e-d89c-11ef-8c18-0242ac120004",
       "previous": "c2d614cc-d875-11ef-8c18-0242ac120004-4-77f8-9a51-1c08-3948"
      }
     ],
     "next": "9900407e-d89c-11ef-8c18-0242ac120004-1-37dd",
     "previous": "c2d614cc-d875-11ef-8c18-0242ac120004-5-77f8-9a51-1c08-3948-1b4a"
    }
   },
   "outputs": [],
   "source": [
    "for inventory_hostname, servicenet_ip in servicenet_result.items():\n",
    "    !ansible -b -m ansible.posix.firewalld \\\n",
    "        -a 'zone=swarm source={servicenet_ip} immediate=yes permanent=yes state=enabled' {target_group}"
   ]
  },
  {
   "cell_type": "markdown",
   "metadata": {
    "lc_cell_meme": {
     "current": "9900407e-d89c-11ef-8c18-0242ac120004-1-37dd",
     "history": [
      {
       "current": "9900407e-d89c-11ef-8c18-0242ac120004-1-37dd",
       "next": "065300c4-d890-11ef-8c18-0242ac120004",
       "previous": "c2d614cc-d875-11ef-8c18-0242ac120004-5-77f8-9a51-1c08-3948-240a"
      }
     ],
     "next": "065300c4-d890-11ef-8c18-0242ac120004-1-d8e1",
     "previous": "c2d614cc-d875-11ef-8c18-0242ac120004-6-77f8-9a51-1c08-3948-240a-a62a"
    }
   },
   "source": [
    "設定した内容の確認"
   ]
  },
  {
   "cell_type": "code",
   "execution_count": null,
   "metadata": {
    "lc_cell_meme": {
     "current": "065300c4-d890-11ef-8c18-0242ac120004-1-d8e1",
     "history": [
      {
       "current": "065300c4-d890-11ef-8c18-0242ac120004",
       "next": "fe7771bc-ab49-11e7-a38f-0242ac120002-19-b6e0-1eb8-348d-f34d-94f8-927f-52d0-4758-ef83-9095",
       "previous": "c2d614cc-d875-11ef-8c18-0242ac120004-5-77f8-9a51-1c08-3948-240a"
      },
      {
       "current": "065300c4-d890-11ef-8c18-0242ac120004-1-d8e1",
       "next": "fe7771bc-ab49-11e7-a38f-0242ac120002-19-b6e0-1eb8-348d-f34d-94f8-927f-52d0-4758-ef83-9095",
       "previous": "9900407e-d89c-11ef-8c18-0242ac120004"
      }
     ],
     "next": "fe7771bc-ab49-11e7-a38f-0242ac120002-20-1eb8-348d-f34d-94f8-927f-52d0-4758-ef83-9095-0156",
     "previous": "9900407e-d89c-11ef-8c18-0242ac120004-1-37dd"
    }
   },
   "outputs": [],
   "source": [
    "!ansible -b -a 'firewall-cmd --info-zone swarm' {target_group}"
   ]
  },
  {
   "cell_type": "markdown",
   "metadata": {
    "lc_cell_meme": {
     "current": "fe7771bc-ab49-11e7-a38f-0242ac120002-20-1eb8-348d-f34d-94f8-927f-52d0-4758-ef83-9095-0156",
     "history": [
      {
       "current": "fe7771bc-ab49-11e7-a38f-0242ac120002-14-4b95-fa59-9088-d6a7-ef7e-b6e0-1eb8-348d-f34d-94f8",
       "next": "96b75722-0fa4-11ec-a030-c7638f7e44c5-2-440d-ccdf",
       "previous": "3e2beef0-f426-11ea-9bfc-02420a01001a-7-5ea2-4980-3cc9-896c-c20d-d777-9b90"
      },
      {
       "current": "fe7771bc-ab49-11e7-a38f-0242ac120002-15-fa59-9088-d6a7-ef7e-b6e0-1eb8-348d-f34d-94f8-927f",
       "next": "96b75722-0fa4-11ec-a030-c7638f7e44c5-3-440d-ccdf-bb7b",
       "previous": "3e2beef0-f426-11ea-9bfc-02420a01001a-8-5ea2-4980-3cc9-896c-c20d-d777-9b90-b5f5"
      },
      {
       "current": "fe7771bc-ab49-11e7-a38f-0242ac120002-16-9088-d6a7-ef7e-b6e0-1eb8-348d-f34d-94f8-927f-52d0",
       "next": "96b75722-0fa4-11ec-a030-c7638f7e44c5-4-440d-ccdf-bb7b-a679",
       "previous": "3e2beef0-f426-11ea-9bfc-02420a01001a-9-5ea2-4980-3cc9-896c-c20d-d777-9b90-b5f5-cf37"
      },
      {
       "current": "fe7771bc-ab49-11e7-a38f-0242ac120002-17-d6a7-ef7e-b6e0-1eb8-348d-f34d-94f8-927f-52d0-4758",
       "next": "96b75722-0fa4-11ec-a030-c7638f7e44c5-5-440d-ccdf-bb7b-a679-8c94",
       "previous": "3e2beef0-f426-11ea-9bfc-02420a01001a-10-5ea2-4980-3cc9-896c-c20d-d777-9b90-b5f5-cf37-f395"
      },
      {
       "current": "fe7771bc-ab49-11e7-a38f-0242ac120002-18-ef7e-b6e0-1eb8-348d-f34d-94f8-927f-52d0-4758-ef83",
       "next": "96b75722-0fa4-11ec-a030-c7638f7e44c5-6-440d-ccdf-bb7b-a679-8c94-89f8",
       "previous": "3e2beef0-f426-11ea-9bfc-02420a01001a-11-4980-3cc9-896c-c20d-d777-9b90-b5f5-cf37-f395-b376"
      },
      {
       "current": "fe7771bc-ab49-11e7-a38f-0242ac120002-19-b6e0-1eb8-348d-f34d-94f8-927f-52d0-4758-ef83-9095",
       "next": "96b75722-0fa4-11ec-a030-c7638f7e44c5-7-440d-ccdf-bb7b-a679-8c94-89f8-8d3a",
       "previous": "3e2beef0-f426-11ea-9bfc-02420a01001a-12-3cc9-896c-c20d-d777-9b90-b5f5-cf37-f395-b376-c3cf"
      },
      {
       "current": "fe7771bc-ab49-11e7-a38f-0242ac120002-19-b6e0-1eb8-348d-f34d-94f8-927f-52d0-4758-ef83-9095",
       "next": "96b75722-0fa4-11ec-a030-c7638f7e44c5-8-440d-ccdf-bb7b-a679-8c94-89f8-8d3a-1b6b",
       "previous": "3e2beef0-f426-11ea-9bfc-02420a01001a-13-896c-c20d-d777-9b90-b5f5-cf37-f395-b376-c3cf-3a8c"
      },
      {
       "current": "fe7771bc-ab49-11e7-a38f-0242ac120002-19-b6e0-1eb8-348d-f34d-94f8-927f-52d0-4758-ef83-9095",
       "next": "96b75722-0fa4-11ec-a030-c7638f7e44c5-8-440d-ccdf-bb7b-a679-8c94-89f8-8d3a-1b6b",
       "previous": "c2d614cc-d875-11ef-8c18-0242ac120004"
      },
      {
       "current": "fe7771bc-ab49-11e7-a38f-0242ac120002-19-b6e0-1eb8-348d-f34d-94f8-927f-52d0-4758-ef83-9095",
       "next": "96b75722-0fa4-11ec-a030-c7638f7e44c5-8-440d-ccdf-bb7b-a679-8c94-89f8-8d3a-1b6b",
       "previous": "c2d614cc-d875-11ef-8c18-0242ac120004-1-77f8"
      },
      {
       "current": "fe7771bc-ab49-11e7-a38f-0242ac120002-19-b6e0-1eb8-348d-f34d-94f8-927f-52d0-4758-ef83-9095",
       "next": "96b75722-0fa4-11ec-a030-c7638f7e44c5-8-440d-ccdf-bb7b-a679-8c94-89f8-8d3a-1b6b",
       "previous": "c2d614cc-d875-11ef-8c18-0242ac120004-2-77f8-9a51"
      },
      {
       "current": "fe7771bc-ab49-11e7-a38f-0242ac120002-19-b6e0-1eb8-348d-f34d-94f8-927f-52d0-4758-ef83-9095",
       "next": "96b75722-0fa4-11ec-a030-c7638f7e44c5-8-440d-ccdf-bb7b-a679-8c94-89f8-8d3a-1b6b",
       "previous": "c2d614cc-d875-11ef-8c18-0242ac120004-4-77f8-9a51-1c08-3948"
      },
      {
       "current": "fe7771bc-ab49-11e7-a38f-0242ac120002-19-b6e0-1eb8-348d-f34d-94f8-927f-52d0-4758-ef83-9095",
       "next": "96b75722-0fa4-11ec-a030-c7638f7e44c5-8-440d-ccdf-bb7b-a679-8c94-89f8-8d3a-1b6b",
       "previous": "7746f336-d88f-11ef-8c18-0242ac120004"
      },
      {
       "current": "fe7771bc-ab49-11e7-a38f-0242ac120002-20-1eb8-348d-f34d-94f8-927f-52d0-4758-ef83-9095-0156",
       "next": "96b75722-0fa4-11ec-a030-c7638f7e44c5-8-440d-ccdf-bb7b-a679-8c94-89f8-8d3a-1b6b",
       "previous": "065300c4-d890-11ef-8c18-0242ac120004"
      }
     ],
     "next": "96b75722-0fa4-11ec-a030-c7638f7e44c5-9-440d-ccdf-bb7b-a679-8c94-89f8-8d3a-1b6b-53a5",
     "previous": "065300c4-d890-11ef-8c18-0242ac120004-1-d8e1"
    }
   },
   "source": [
    "## Setting up the Master\n",
    "\n",
    "まず、managerノードとなるDocker EngineのIPアドレスを取得する。"
   ]
  },
  {
   "cell_type": "code",
   "execution_count": null,
   "metadata": {
    "lc_cell_meme": {
     "current": "96b75722-0fa4-11ec-a030-c7638f7e44c5-9-440d-ccdf-bb7b-a679-8c94-89f8-8d3a-1b6b-53a5",
     "history": [
      {
       "current": "96b75722-0fa4-11ec-a030-c7638f7e44c5-3-440d-ccdf-bb7b",
       "next": "d2c5efe4-0fa6-11ec-ba4c-c7638f7e44c5-2-ac90-e0cc",
       "previous": "fe7771bc-ab49-11e7-a38f-0242ac120002-13-0786-4b95-fa59-9088-d6a7-ef7e-b6e0-1eb8-348d-f34d"
      },
      {
       "current": "96b75722-0fa4-11ec-a030-c7638f7e44c5-4-440d-ccdf-bb7b-a679",
       "next": "d2c5efe4-0fa6-11ec-ba4c-c7638f7e44c5-3-ac90-e0cc-bde6",
       "previous": "fe7771bc-ab49-11e7-a38f-0242ac120002-14-4b95-fa59-9088-d6a7-ef7e-b6e0-1eb8-348d-f34d-94f8"
      },
      {
       "current": "96b75722-0fa4-11ec-a030-c7638f7e44c5-5-440d-ccdf-bb7b-a679-8c94",
       "next": "d2c5efe4-0fa6-11ec-ba4c-c7638f7e44c5-4-ac90-e0cc-bde6-1d27",
       "previous": "fe7771bc-ab49-11e7-a38f-0242ac120002-15-fa59-9088-d6a7-ef7e-b6e0-1eb8-348d-f34d-94f8-927f"
      },
      {
       "current": "96b75722-0fa4-11ec-a030-c7638f7e44c5-6-440d-ccdf-bb7b-a679-8c94-89f8",
       "next": "d2c5efe4-0fa6-11ec-ba4c-c7638f7e44c5-5-ac90-e0cc-bde6-1d27-bc47",
       "previous": "fe7771bc-ab49-11e7-a38f-0242ac120002-16-9088-d6a7-ef7e-b6e0-1eb8-348d-f34d-94f8-927f-52d0"
      },
      {
       "current": "96b75722-0fa4-11ec-a030-c7638f7e44c5-7-440d-ccdf-bb7b-a679-8c94-89f8-8d3a",
       "next": "d2c5efe4-0fa6-11ec-ba4c-c7638f7e44c5-6-ac90-e0cc-bde6-1d27-bc47-50f2",
       "previous": "fe7771bc-ab49-11e7-a38f-0242ac120002-17-d6a7-ef7e-b6e0-1eb8-348d-f34d-94f8-927f-52d0-4758"
      },
      {
       "current": "96b75722-0fa4-11ec-a030-c7638f7e44c5-8-440d-ccdf-bb7b-a679-8c94-89f8-8d3a-1b6b",
       "next": "d2c5efe4-0fa6-11ec-ba4c-c7638f7e44c5-7-ac90-e0cc-bde6-1d27-bc47-50f2-5ff2",
       "previous": "fe7771bc-ab49-11e7-a38f-0242ac120002-18-ef7e-b6e0-1eb8-348d-f34d-94f8-927f-52d0-4758-ef83"
      },
      {
       "current": "96b75722-0fa4-11ec-a030-c7638f7e44c5-9-440d-ccdf-bb7b-a679-8c94-89f8-8d3a-1b6b-53a5",
       "next": "d2c5efe4-0fa6-11ec-ba4c-c7638f7e44c5-8-ac90-e0cc-bde6-1d27-bc47-50f2-5ff2-8407",
       "previous": "fe7771bc-ab49-11e7-a38f-0242ac120002-19-b6e0-1eb8-348d-f34d-94f8-927f-52d0-4758-ef83-9095"
      }
     ],
     "next": "d2c5efe4-0fa6-11ec-ba4c-c7638f7e44c5-9-ac90-e0cc-bde6-1d27-bc47-50f2-5ff2-8407-7879",
     "previous": "fe7771bc-ab49-11e7-a38f-0242ac120002-20-1eb8-348d-f34d-94f8-927f-52d0-4758-ef83-9095-0156"
    }
   },
   "outputs": [],
   "source": [
    "master_ip_stdout = !ansible -m ping {target_master} -l {target_group}\n",
    "manager_ip = [line.split()[0] for line in master_ip_stdout if 'SUCCESS' in line][0]\n",
    "manager_ip = servicenet_result[manager_ip]\n",
    "manager_ip"
   ]
  },
  {
   "cell_type": "markdown",
   "metadata": {
    "lc_cell_meme": {
     "current": "d2c5efe4-0fa6-11ec-ba4c-c7638f7e44c5-9-ac90-e0cc-bde6-1d27-bc47-50f2-5ff2-8407-7879",
     "history": [
      {
       "current": "d2c5efe4-0fa6-11ec-ba4c-c7638f7e44c5-3-ac90-e0cc-bde6",
       "next": "fe7777de-ab49-11e7-a38f-0242ac120002-13-fcf1-292e-9f2d-8c54-c26e-4255-132d-29e2-5f9c-9c6a",
       "previous": "96b75722-0fa4-11ec-a030-c7638f7e44c5-2-440d-ccdf"
      },
      {
       "current": "d2c5efe4-0fa6-11ec-ba4c-c7638f7e44c5-4-ac90-e0cc-bde6-1d27",
       "next": "fe7777de-ab49-11e7-a38f-0242ac120002-14-292e-9f2d-8c54-c26e-4255-132d-29e2-5f9c-9c6a-f844",
       "previous": "96b75722-0fa4-11ec-a030-c7638f7e44c5-3-440d-ccdf-bb7b"
      },
      {
       "current": "d2c5efe4-0fa6-11ec-ba4c-c7638f7e44c5-5-ac90-e0cc-bde6-1d27-bc47",
       "next": "fe7777de-ab49-11e7-a38f-0242ac120002-15-9f2d-8c54-c26e-4255-132d-29e2-5f9c-9c6a-f844-0c0b",
       "previous": "96b75722-0fa4-11ec-a030-c7638f7e44c5-4-440d-ccdf-bb7b-a679"
      },
      {
       "current": "d2c5efe4-0fa6-11ec-ba4c-c7638f7e44c5-6-ac90-e0cc-bde6-1d27-bc47-50f2",
       "next": "fe7777de-ab49-11e7-a38f-0242ac120002-16-8c54-c26e-4255-132d-29e2-5f9c-9c6a-f844-0c0b-421f",
       "previous": "96b75722-0fa4-11ec-a030-c7638f7e44c5-5-440d-ccdf-bb7b-a679-8c94"
      },
      {
       "current": "d2c5efe4-0fa6-11ec-ba4c-c7638f7e44c5-7-ac90-e0cc-bde6-1d27-bc47-50f2-5ff2",
       "next": "fe7777de-ab49-11e7-a38f-0242ac120002-17-c26e-4255-132d-29e2-5f9c-9c6a-f844-0c0b-421f-e794",
       "previous": "96b75722-0fa4-11ec-a030-c7638f7e44c5-6-440d-ccdf-bb7b-a679-8c94-89f8"
      },
      {
       "current": "d2c5efe4-0fa6-11ec-ba4c-c7638f7e44c5-8-ac90-e0cc-bde6-1d27-bc47-50f2-5ff2-8407",
       "next": "fe7777de-ab49-11e7-a38f-0242ac120002-18-4255-132d-29e2-5f9c-9c6a-f844-0c0b-421f-e794-5398",
       "previous": "96b75722-0fa4-11ec-a030-c7638f7e44c5-7-440d-ccdf-bb7b-a679-8c94-89f8-8d3a"
      },
      {
       "current": "d2c5efe4-0fa6-11ec-ba4c-c7638f7e44c5-9-ac90-e0cc-bde6-1d27-bc47-50f2-5ff2-8407-7879",
       "next": "fe7777de-ab49-11e7-a38f-0242ac120002-19-132d-29e2-5f9c-9c6a-f844-0c0b-421f-e794-5398-551c",
       "previous": "96b75722-0fa4-11ec-a030-c7638f7e44c5-8-440d-ccdf-bb7b-a679-8c94-89f8-8d3a-1b6b"
      }
     ],
     "next": "fe7777de-ab49-11e7-a38f-0242ac120002-20-29e2-5f9c-9c6a-f844-0c0b-421f-e794-5398-551c-c999",
     "previous": "96b75722-0fa4-11ec-a030-c7638f7e44c5-9-440d-ccdf-bb7b-a679-8c94-89f8-8d3a-1b6b-53a5"
    }
   },
   "source": [
    "Docker Swarmを初期化する。"
   ]
  },
  {
   "cell_type": "code",
   "execution_count": null,
   "metadata": {
    "lc_cell_meme": {
     "current": "fe7777de-ab49-11e7-a38f-0242ac120002-20-29e2-5f9c-9c6a-f844-0c0b-421f-e794-5398-551c-c999",
     "history": [
      {
       "current": "fe7777de-ab49-11e7-a38f-0242ac120002-14-292e-9f2d-8c54-c26e-4255-132d-29e2-5f9c-9c6a-f844",
       "next": "fe777aa4-ab49-11e7-a38f-0242ac120002-13-cf72-6474-cffc-f828-de9b-d111-d314-717f-5cff-4778",
       "previous": "d2c5efe4-0fa6-11ec-ba4c-c7638f7e44c5-2-ac90-e0cc"
      },
      {
       "current": "fe7777de-ab49-11e7-a38f-0242ac120002-15-9f2d-8c54-c26e-4255-132d-29e2-5f9c-9c6a-f844-0c0b",
       "next": "fe777aa4-ab49-11e7-a38f-0242ac120002-14-6474-cffc-f828-de9b-d111-d314-717f-5cff-4778-e870",
       "previous": "d2c5efe4-0fa6-11ec-ba4c-c7638f7e44c5-3-ac90-e0cc-bde6"
      },
      {
       "current": "fe7777de-ab49-11e7-a38f-0242ac120002-16-8c54-c26e-4255-132d-29e2-5f9c-9c6a-f844-0c0b-421f",
       "next": "fe777aa4-ab49-11e7-a38f-0242ac120002-15-cffc-f828-de9b-d111-d314-717f-5cff-4778-e870-2978",
       "previous": "d2c5efe4-0fa6-11ec-ba4c-c7638f7e44c5-4-ac90-e0cc-bde6-1d27"
      },
      {
       "current": "fe7777de-ab49-11e7-a38f-0242ac120002-17-c26e-4255-132d-29e2-5f9c-9c6a-f844-0c0b-421f-e794",
       "next": "fe777aa4-ab49-11e7-a38f-0242ac120002-16-f828-de9b-d111-d314-717f-5cff-4778-e870-2978-f125",
       "previous": "d2c5efe4-0fa6-11ec-ba4c-c7638f7e44c5-5-ac90-e0cc-bde6-1d27-bc47"
      },
      {
       "current": "fe7777de-ab49-11e7-a38f-0242ac120002-18-4255-132d-29e2-5f9c-9c6a-f844-0c0b-421f-e794-5398",
       "next": "fe777aa4-ab49-11e7-a38f-0242ac120002-17-de9b-d111-d314-717f-5cff-4778-e870-2978-f125-0180",
       "previous": "d2c5efe4-0fa6-11ec-ba4c-c7638f7e44c5-6-ac90-e0cc-bde6-1d27-bc47-50f2"
      },
      {
       "current": "fe7777de-ab49-11e7-a38f-0242ac120002-19-132d-29e2-5f9c-9c6a-f844-0c0b-421f-e794-5398-551c",
       "next": "fe777aa4-ab49-11e7-a38f-0242ac120002-18-d111-d314-717f-5cff-4778-e870-2978-f125-0180-14f3",
       "previous": "d2c5efe4-0fa6-11ec-ba4c-c7638f7e44c5-7-ac90-e0cc-bde6-1d27-bc47-50f2-5ff2"
      },
      {
       "current": "fe7777de-ab49-11e7-a38f-0242ac120002-20-29e2-5f9c-9c6a-f844-0c0b-421f-e794-5398-551c-c999",
       "next": "fe777aa4-ab49-11e7-a38f-0242ac120002-19-d314-717f-5cff-4778-e870-2978-f125-0180-14f3-4a8d",
       "previous": "d2c5efe4-0fa6-11ec-ba4c-c7638f7e44c5-8-ac90-e0cc-bde6-1d27-bc47-50f2-5ff2-8407"
      }
     ],
     "next": "fe777aa4-ab49-11e7-a38f-0242ac120002-20-717f-5cff-4778-e870-2978-f125-0180-14f3-4a8d-2550",
     "previous": "d2c5efe4-0fa6-11ec-ba4c-c7638f7e44c5-9-ac90-e0cc-bde6-1d27-bc47-50f2-5ff2-8407-7879"
    }
   },
   "outputs": [],
   "source": [
    "!ansible -b -a 'docker swarm init --advertise-addr {manager_ip}' {target_master} -l {target_group}"
   ]
  },
  {
   "cell_type": "markdown",
   "metadata": {
    "lc_cell_meme": {
     "current": "fe777aa4-ab49-11e7-a38f-0242ac120002-20-717f-5cff-4778-e870-2978-f125-0180-14f3-4a8d-2550",
     "history": [
      {
       "current": "fe777aa4-ab49-11e7-a38f-0242ac120002-14-6474-cffc-f828-de9b-d111-d314-717f-5cff-4778-e870",
       "next": "fe777cb6-ab49-11e7-a38f-0242ac120002-13-756c-de24-c54d-c762-2e5a-8d35-eb03-0caf-da8a-5263",
       "previous": "fe7777de-ab49-11e7-a38f-0242ac120002-13-fcf1-292e-9f2d-8c54-c26e-4255-132d-29e2-5f9c-9c6a"
      },
      {
       "current": "fe777aa4-ab49-11e7-a38f-0242ac120002-15-cffc-f828-de9b-d111-d314-717f-5cff-4778-e870-2978",
       "next": "fe777cb6-ab49-11e7-a38f-0242ac120002-14-de24-c54d-c762-2e5a-8d35-eb03-0caf-da8a-5263-1e18",
       "previous": "fe7777de-ab49-11e7-a38f-0242ac120002-14-292e-9f2d-8c54-c26e-4255-132d-29e2-5f9c-9c6a-f844"
      },
      {
       "current": "fe777aa4-ab49-11e7-a38f-0242ac120002-16-f828-de9b-d111-d314-717f-5cff-4778-e870-2978-f125",
       "next": "fe777cb6-ab49-11e7-a38f-0242ac120002-15-c54d-c762-2e5a-8d35-eb03-0caf-da8a-5263-1e18-899b",
       "previous": "fe7777de-ab49-11e7-a38f-0242ac120002-15-9f2d-8c54-c26e-4255-132d-29e2-5f9c-9c6a-f844-0c0b"
      },
      {
       "current": "fe777aa4-ab49-11e7-a38f-0242ac120002-17-de9b-d111-d314-717f-5cff-4778-e870-2978-f125-0180",
       "next": "fe777cb6-ab49-11e7-a38f-0242ac120002-16-c762-2e5a-8d35-eb03-0caf-da8a-5263-1e18-899b-16bb",
       "previous": "fe7777de-ab49-11e7-a38f-0242ac120002-16-8c54-c26e-4255-132d-29e2-5f9c-9c6a-f844-0c0b-421f"
      },
      {
       "current": "fe777aa4-ab49-11e7-a38f-0242ac120002-18-d111-d314-717f-5cff-4778-e870-2978-f125-0180-14f3",
       "next": "fe777cb6-ab49-11e7-a38f-0242ac120002-17-2e5a-8d35-eb03-0caf-da8a-5263-1e18-899b-16bb-b4c6",
       "previous": "fe7777de-ab49-11e7-a38f-0242ac120002-17-c26e-4255-132d-29e2-5f9c-9c6a-f844-0c0b-421f-e794"
      },
      {
       "current": "fe777aa4-ab49-11e7-a38f-0242ac120002-19-d314-717f-5cff-4778-e870-2978-f125-0180-14f3-4a8d",
       "next": "fe777cb6-ab49-11e7-a38f-0242ac120002-18-8d35-eb03-0caf-da8a-5263-1e18-899b-16bb-b4c6-bbb0",
       "previous": "fe7777de-ab49-11e7-a38f-0242ac120002-18-4255-132d-29e2-5f9c-9c6a-f844-0c0b-421f-e794-5398"
      },
      {
       "current": "fe777aa4-ab49-11e7-a38f-0242ac120002-20-717f-5cff-4778-e870-2978-f125-0180-14f3-4a8d-2550",
       "next": "fe777cb6-ab49-11e7-a38f-0242ac120002-19-eb03-0caf-da8a-5263-1e18-899b-16bb-b4c6-bbb0-defa",
       "previous": "fe7777de-ab49-11e7-a38f-0242ac120002-19-132d-29e2-5f9c-9c6a-f844-0c0b-421f-e794-5398-551c"
      }
     ],
     "next": "fe777cb6-ab49-11e7-a38f-0242ac120002-20-0caf-da8a-5263-1e18-899b-16bb-b4c6-bbb0-defa-5b02",
     "previous": "fe7777de-ab49-11e7-a38f-0242ac120002-20-29e2-5f9c-9c6a-f844-0c0b-421f-e794-5398-551c-c999"
    }
   },
   "source": [
    "上記セルの実行結果に、Swarm Tokenが表示されるので、これを以下の変数に控えておく。(IPアドレスも合わせて)"
   ]
  },
  {
   "cell_type": "code",
   "execution_count": null,
   "metadata": {
    "lc_cell_meme": {
     "current": "fe777cb6-ab49-11e7-a38f-0242ac120002-20-0caf-da8a-5263-1e18-899b-16bb-b4c6-bbb0-defa-5b02",
     "history": [
      {
       "current": "fe777cb6-ab49-11e7-a38f-0242ac120002-14-de24-c54d-c762-2e5a-8d35-eb03-0caf-da8a-5263-1e18",
       "next": "fe777ec8-ab49-11e7-a38f-0242ac120002-13-b402-b6f0-ebeb-15dd-a22c-a8aa-62a2-b634-133a-dcad",
       "previous": "fe777aa4-ab49-11e7-a38f-0242ac120002-13-cf72-6474-cffc-f828-de9b-d111-d314-717f-5cff-4778"
      },
      {
       "current": "fe777cb6-ab49-11e7-a38f-0242ac120002-15-c54d-c762-2e5a-8d35-eb03-0caf-da8a-5263-1e18-899b",
       "next": "fe777ec8-ab49-11e7-a38f-0242ac120002-14-b6f0-ebeb-15dd-a22c-a8aa-62a2-b634-133a-dcad-adc4",
       "previous": "fe777aa4-ab49-11e7-a38f-0242ac120002-14-6474-cffc-f828-de9b-d111-d314-717f-5cff-4778-e870"
      },
      {
       "current": "fe777cb6-ab49-11e7-a38f-0242ac120002-16-c762-2e5a-8d35-eb03-0caf-da8a-5263-1e18-899b-16bb",
       "next": "fe777ec8-ab49-11e7-a38f-0242ac120002-15-ebeb-15dd-a22c-a8aa-62a2-b634-133a-dcad-adc4-d007",
       "previous": "fe777aa4-ab49-11e7-a38f-0242ac120002-15-cffc-f828-de9b-d111-d314-717f-5cff-4778-e870-2978"
      },
      {
       "current": "fe777cb6-ab49-11e7-a38f-0242ac120002-17-2e5a-8d35-eb03-0caf-da8a-5263-1e18-899b-16bb-b4c6",
       "next": "fe777ec8-ab49-11e7-a38f-0242ac120002-16-15dd-a22c-a8aa-62a2-b634-133a-dcad-adc4-d007-040a",
       "previous": "fe777aa4-ab49-11e7-a38f-0242ac120002-16-f828-de9b-d111-d314-717f-5cff-4778-e870-2978-f125"
      },
      {
       "current": "fe777cb6-ab49-11e7-a38f-0242ac120002-18-8d35-eb03-0caf-da8a-5263-1e18-899b-16bb-b4c6-bbb0",
       "next": "fe777ec8-ab49-11e7-a38f-0242ac120002-17-a22c-a8aa-62a2-b634-133a-dcad-adc4-d007-040a-1d77",
       "previous": "fe777aa4-ab49-11e7-a38f-0242ac120002-17-de9b-d111-d314-717f-5cff-4778-e870-2978-f125-0180"
      },
      {
       "current": "fe777cb6-ab49-11e7-a38f-0242ac120002-19-eb03-0caf-da8a-5263-1e18-899b-16bb-b4c6-bbb0-defa",
       "next": "fe777ec8-ab49-11e7-a38f-0242ac120002-18-a8aa-62a2-b634-133a-dcad-adc4-d007-040a-1d77-8b41",
       "previous": "fe777aa4-ab49-11e7-a38f-0242ac120002-18-d111-d314-717f-5cff-4778-e870-2978-f125-0180-14f3"
      },
      {
       "current": "fe777cb6-ab49-11e7-a38f-0242ac120002-20-0caf-da8a-5263-1e18-899b-16bb-b4c6-bbb0-defa-5b02",
       "next": "fe777ec8-ab49-11e7-a38f-0242ac120002-19-62a2-b634-133a-dcad-adc4-d007-040a-1d77-8b41-ccde",
       "previous": "fe777aa4-ab49-11e7-a38f-0242ac120002-19-d314-717f-5cff-4778-e870-2978-f125-0180-14f3-4a8d"
      }
     ],
     "next": "fe777ec8-ab49-11e7-a38f-0242ac120002-20-b634-133a-dcad-adc4-d007-040a-1d77-8b41-ccde-6784",
     "previous": "fe777aa4-ab49-11e7-a38f-0242ac120002-20-717f-5cff-4778-e870-2978-f125-0180-14f3-4a8d-2550"
    }
   },
   "outputs": [],
   "source": [
    "# このセルを実行すると、テキストフィールドが現れるので、docker swarm join以降を入力する。\n",
    "swarm_token = input()\n",
    "if 'docker swarm join --token' in swarm_token.lstrip():\n",
    "    swarm_token = swarm_token.lstrip()[len('docker swarm join --token'):].strip()\n",
    "swarm_token"
   ]
  },
  {
   "cell_type": "markdown",
   "metadata": {
    "lc_cell_meme": {
     "current": "fe777ec8-ab49-11e7-a38f-0242ac120002-20-b634-133a-dcad-adc4-d007-040a-1d77-8b41-ccde-6784",
     "history": [
      {
       "current": "fe777ec8-ab49-11e7-a38f-0242ac120002-14-b6f0-ebeb-15dd-a22c-a8aa-62a2-b634-133a-dcad-adc4",
       "next": "fe7780d0-ab49-11e7-a38f-0242ac120002-13-2736-553a-4707-180e-8837-40bc-9092-c789-2d01-60ac",
       "previous": "fe777cb6-ab49-11e7-a38f-0242ac120002-13-756c-de24-c54d-c762-2e5a-8d35-eb03-0caf-da8a-5263"
      },
      {
       "current": "fe777ec8-ab49-11e7-a38f-0242ac120002-15-ebeb-15dd-a22c-a8aa-62a2-b634-133a-dcad-adc4-d007",
       "next": "fe7780d0-ab49-11e7-a38f-0242ac120002-14-553a-4707-180e-8837-40bc-9092-c789-2d01-60ac-5725",
       "previous": "fe777cb6-ab49-11e7-a38f-0242ac120002-14-de24-c54d-c762-2e5a-8d35-eb03-0caf-da8a-5263-1e18"
      },
      {
       "current": "fe777ec8-ab49-11e7-a38f-0242ac120002-16-15dd-a22c-a8aa-62a2-b634-133a-dcad-adc4-d007-040a",
       "next": "fe7780d0-ab49-11e7-a38f-0242ac120002-15-4707-180e-8837-40bc-9092-c789-2d01-60ac-5725-0650",
       "previous": "fe777cb6-ab49-11e7-a38f-0242ac120002-15-c54d-c762-2e5a-8d35-eb03-0caf-da8a-5263-1e18-899b"
      },
      {
       "current": "fe777ec8-ab49-11e7-a38f-0242ac120002-17-a22c-a8aa-62a2-b634-133a-dcad-adc4-d007-040a-1d77",
       "next": "fe7780d0-ab49-11e7-a38f-0242ac120002-16-180e-8837-40bc-9092-c789-2d01-60ac-5725-0650-ba9d",
       "previous": "fe777cb6-ab49-11e7-a38f-0242ac120002-16-c762-2e5a-8d35-eb03-0caf-da8a-5263-1e18-899b-16bb"
      },
      {
       "current": "fe777ec8-ab49-11e7-a38f-0242ac120002-18-a8aa-62a2-b634-133a-dcad-adc4-d007-040a-1d77-8b41",
       "next": "fe7780d0-ab49-11e7-a38f-0242ac120002-17-8837-40bc-9092-c789-2d01-60ac-5725-0650-ba9d-1fe9",
       "previous": "fe777cb6-ab49-11e7-a38f-0242ac120002-17-2e5a-8d35-eb03-0caf-da8a-5263-1e18-899b-16bb-b4c6"
      },
      {
       "current": "fe777ec8-ab49-11e7-a38f-0242ac120002-19-62a2-b634-133a-dcad-adc4-d007-040a-1d77-8b41-ccde",
       "next": "fe7780d0-ab49-11e7-a38f-0242ac120002-18-40bc-9092-c789-2d01-60ac-5725-0650-ba9d-1fe9-a1ae",
       "previous": "fe777cb6-ab49-11e7-a38f-0242ac120002-18-8d35-eb03-0caf-da8a-5263-1e18-899b-16bb-b4c6-bbb0"
      },
      {
       "current": "fe777ec8-ab49-11e7-a38f-0242ac120002-20-b634-133a-dcad-adc4-d007-040a-1d77-8b41-ccde-6784",
       "next": "fe7780d0-ab49-11e7-a38f-0242ac120002-19-9092-c789-2d01-60ac-5725-0650-ba9d-1fe9-a1ae-2c26",
       "previous": "fe777cb6-ab49-11e7-a38f-0242ac120002-19-eb03-0caf-da8a-5263-1e18-899b-16bb-b4c6-bbb0-defa"
      }
     ],
     "next": "fe7780d0-ab49-11e7-a38f-0242ac120002-20-c789-2d01-60ac-5725-0650-ba9d-1fe9-a1ae-2c26-0fb4",
     "previous": "fe777cb6-ab49-11e7-a38f-0242ac120002-20-0caf-da8a-5263-1e18-899b-16bb-b4c6-bbb0-defa-5b02"
    }
   },
   "source": [
    "`docker info`で、`Swarm: active`となっていることを確認。"
   ]
  },
  {
   "cell_type": "code",
   "execution_count": null,
   "metadata": {
    "lc_cell_meme": {
     "current": "fe7780d0-ab49-11e7-a38f-0242ac120002-20-c789-2d01-60ac-5725-0650-ba9d-1fe9-a1ae-2c26-0fb4",
     "history": [
      {
       "current": "fe7780d0-ab49-11e7-a38f-0242ac120002-14-553a-4707-180e-8837-40bc-9092-c789-2d01-60ac-5725",
       "next": "fe7782d8-ab49-11e7-a38f-0242ac120002-13-6082-c4e3-ec66-2ab8-2a3e-0379-866a-5ffc-b07d-8db8",
       "previous": "fe777ec8-ab49-11e7-a38f-0242ac120002-13-b402-b6f0-ebeb-15dd-a22c-a8aa-62a2-b634-133a-dcad"
      },
      {
       "current": "fe7780d0-ab49-11e7-a38f-0242ac120002-15-4707-180e-8837-40bc-9092-c789-2d01-60ac-5725-0650",
       "next": "fe7782d8-ab49-11e7-a38f-0242ac120002-14-c4e3-ec66-2ab8-2a3e-0379-866a-5ffc-b07d-8db8-5c2b",
       "previous": "fe777ec8-ab49-11e7-a38f-0242ac120002-14-b6f0-ebeb-15dd-a22c-a8aa-62a2-b634-133a-dcad-adc4"
      },
      {
       "current": "fe7780d0-ab49-11e7-a38f-0242ac120002-16-180e-8837-40bc-9092-c789-2d01-60ac-5725-0650-ba9d",
       "next": "fe7782d8-ab49-11e7-a38f-0242ac120002-15-ec66-2ab8-2a3e-0379-866a-5ffc-b07d-8db8-5c2b-4b28",
       "previous": "fe777ec8-ab49-11e7-a38f-0242ac120002-15-ebeb-15dd-a22c-a8aa-62a2-b634-133a-dcad-adc4-d007"
      },
      {
       "current": "fe7780d0-ab49-11e7-a38f-0242ac120002-17-8837-40bc-9092-c789-2d01-60ac-5725-0650-ba9d-1fe9",
       "next": "fe7782d8-ab49-11e7-a38f-0242ac120002-16-2ab8-2a3e-0379-866a-5ffc-b07d-8db8-5c2b-4b28-8469",
       "previous": "fe777ec8-ab49-11e7-a38f-0242ac120002-16-15dd-a22c-a8aa-62a2-b634-133a-dcad-adc4-d007-040a"
      },
      {
       "current": "fe7780d0-ab49-11e7-a38f-0242ac120002-18-40bc-9092-c789-2d01-60ac-5725-0650-ba9d-1fe9-a1ae",
       "next": "fe7782d8-ab49-11e7-a38f-0242ac120002-17-2a3e-0379-866a-5ffc-b07d-8db8-5c2b-4b28-8469-1cc2",
       "previous": "fe777ec8-ab49-11e7-a38f-0242ac120002-17-a22c-a8aa-62a2-b634-133a-dcad-adc4-d007-040a-1d77"
      },
      {
       "current": "fe7780d0-ab49-11e7-a38f-0242ac120002-19-9092-c789-2d01-60ac-5725-0650-ba9d-1fe9-a1ae-2c26",
       "next": "fe7782d8-ab49-11e7-a38f-0242ac120002-18-0379-866a-5ffc-b07d-8db8-5c2b-4b28-8469-1cc2-b6a8",
       "previous": "fe777ec8-ab49-11e7-a38f-0242ac120002-18-a8aa-62a2-b634-133a-dcad-adc4-d007-040a-1d77-8b41"
      },
      {
       "current": "fe7780d0-ab49-11e7-a38f-0242ac120002-20-c789-2d01-60ac-5725-0650-ba9d-1fe9-a1ae-2c26-0fb4",
       "next": "fe7782d8-ab49-11e7-a38f-0242ac120002-19-866a-5ffc-b07d-8db8-5c2b-4b28-8469-1cc2-b6a8-dbe7",
       "previous": "fe777ec8-ab49-11e7-a38f-0242ac120002-19-62a2-b634-133a-dcad-adc4-d007-040a-1d77-8b41-ccde"
      }
     ],
     "next": "fe7782d8-ab49-11e7-a38f-0242ac120002-20-5ffc-b07d-8db8-5c2b-4b28-8469-1cc2-b6a8-dbe7-405a",
     "previous": "fe777ec8-ab49-11e7-a38f-0242ac120002-20-b634-133a-dcad-adc4-d007-040a-1d77-8b41-ccde-6784"
    },
    "scrolled": true
   },
   "outputs": [],
   "source": [
    "!ansible -b -a 'docker info' {target_master} -l {target_group}"
   ]
  },
  {
   "cell_type": "markdown",
   "metadata": {
    "lc_cell_meme": {
     "current": "fe7782d8-ab49-11e7-a38f-0242ac120002-20-5ffc-b07d-8db8-5c2b-4b28-8469-1cc2-b6a8-dbe7-405a",
     "history": [
      {
       "current": "fe7782d8-ab49-11e7-a38f-0242ac120002-14-c4e3-ec66-2ab8-2a3e-0379-866a-5ffc-b07d-8db8-5c2b",
       "next": "fe7784e0-ab49-11e7-a38f-0242ac120002-13-0003-4466-7874-d551-747b-c27b-975f-18fe-774e-846f",
       "previous": "fe7780d0-ab49-11e7-a38f-0242ac120002-13-2736-553a-4707-180e-8837-40bc-9092-c789-2d01-60ac"
      },
      {
       "current": "fe7782d8-ab49-11e7-a38f-0242ac120002-15-ec66-2ab8-2a3e-0379-866a-5ffc-b07d-8db8-5c2b-4b28",
       "next": "fe7784e0-ab49-11e7-a38f-0242ac120002-14-4466-7874-d551-747b-c27b-975f-18fe-774e-846f-6db6",
       "previous": "fe7780d0-ab49-11e7-a38f-0242ac120002-14-553a-4707-180e-8837-40bc-9092-c789-2d01-60ac-5725"
      },
      {
       "current": "fe7782d8-ab49-11e7-a38f-0242ac120002-16-2ab8-2a3e-0379-866a-5ffc-b07d-8db8-5c2b-4b28-8469",
       "next": "fe7784e0-ab49-11e7-a38f-0242ac120002-15-7874-d551-747b-c27b-975f-18fe-774e-846f-6db6-066c",
       "previous": "fe7780d0-ab49-11e7-a38f-0242ac120002-15-4707-180e-8837-40bc-9092-c789-2d01-60ac-5725-0650"
      },
      {
       "current": "fe7782d8-ab49-11e7-a38f-0242ac120002-17-2a3e-0379-866a-5ffc-b07d-8db8-5c2b-4b28-8469-1cc2",
       "next": "fe7784e0-ab49-11e7-a38f-0242ac120002-16-d551-747b-c27b-975f-18fe-774e-846f-6db6-066c-a874",
       "previous": "fe7780d0-ab49-11e7-a38f-0242ac120002-16-180e-8837-40bc-9092-c789-2d01-60ac-5725-0650-ba9d"
      },
      {
       "current": "fe7782d8-ab49-11e7-a38f-0242ac120002-18-0379-866a-5ffc-b07d-8db8-5c2b-4b28-8469-1cc2-b6a8",
       "next": "fe7784e0-ab49-11e7-a38f-0242ac120002-17-747b-c27b-975f-18fe-774e-846f-6db6-066c-a874-039a",
       "previous": "fe7780d0-ab49-11e7-a38f-0242ac120002-17-8837-40bc-9092-c789-2d01-60ac-5725-0650-ba9d-1fe9"
      },
      {
       "current": "fe7782d8-ab49-11e7-a38f-0242ac120002-19-866a-5ffc-b07d-8db8-5c2b-4b28-8469-1cc2-b6a8-dbe7",
       "next": "fe7784e0-ab49-11e7-a38f-0242ac120002-18-c27b-975f-18fe-774e-846f-6db6-066c-a874-039a-74fd",
       "previous": "fe7780d0-ab49-11e7-a38f-0242ac120002-18-40bc-9092-c789-2d01-60ac-5725-0650-ba9d-1fe9-a1ae"
      },
      {
       "current": "fe7782d8-ab49-11e7-a38f-0242ac120002-20-5ffc-b07d-8db8-5c2b-4b28-8469-1cc2-b6a8-dbe7-405a",
       "next": "fe7784e0-ab49-11e7-a38f-0242ac120002-19-975f-18fe-774e-846f-6db6-066c-a874-039a-74fd-df36",
       "previous": "fe7780d0-ab49-11e7-a38f-0242ac120002-19-9092-c789-2d01-60ac-5725-0650-ba9d-1fe9-a1ae-2c26"
      }
     ],
     "next": "fe7784e0-ab49-11e7-a38f-0242ac120002-20-18fe-774e-846f-6db6-066c-a874-039a-74fd-df36-88d6",
     "previous": "fe7780d0-ab49-11e7-a38f-0242ac120002-20-c789-2d01-60ac-5725-0650-ba9d-1fe9-a1ae-2c26-0fb4"
    }
   },
   "source": [
    "現在は1ノードで動作しているはず。"
   ]
  },
  {
   "cell_type": "code",
   "execution_count": null,
   "metadata": {
    "lc_cell_meme": {
     "current": "fe7784e0-ab49-11e7-a38f-0242ac120002-20-18fe-774e-846f-6db6-066c-a874-039a-74fd-df36-88d6",
     "history": [
      {
       "current": "fe7784e0-ab49-11e7-a38f-0242ac120002-15-7874-d551-747b-c27b-975f-18fe-774e-846f-6db6-066c",
       "next": "80b29ba2-8fe2-11ec-87a2-6b42dc3e1973",
       "previous": "fe7782d8-ab49-11e7-a38f-0242ac120002-14-c4e3-ec66-2ab8-2a3e-0379-866a-5ffc-b07d-8db8-5c2b"
      },
      {
       "current": "fe7784e0-ab49-11e7-a38f-0242ac120002-15-7874-d551-747b-c27b-975f-18fe-774e-846f-6db6-066c",
       "next": "80b29ba2-8fe2-11ec-87a2-6b42dc3e1973-1-bec4",
       "previous": "fe7782d8-ab49-11e7-a38f-0242ac120002-15-ec66-2ab8-2a3e-0379-866a-5ffc-b07d-8db8-5c2b-4b28"
      },
      {
       "current": "fe7784e0-ab49-11e7-a38f-0242ac120002-16-d551-747b-c27b-975f-18fe-774e-846f-6db6-066c-a874",
       "next": "fe7786e8-ab49-11e7-a38f-0242ac120002-15-dd77-f03c-a936-cd06-6874-4f2e-ccb3-2047-ab8f-37b5",
       "previous": "fe7782d8-ab49-11e7-a38f-0242ac120002-15-ec66-2ab8-2a3e-0379-866a-5ffc-b07d-8db8-5c2b-4b28"
      },
      {
       "current": "fe7784e0-ab49-11e7-a38f-0242ac120002-17-747b-c27b-975f-18fe-774e-846f-6db6-066c-a874-039a",
       "next": "fe7786e8-ab49-11e7-a38f-0242ac120002-16-f03c-a936-cd06-6874-4f2e-ccb3-2047-ab8f-37b5-7368",
       "previous": "fe7782d8-ab49-11e7-a38f-0242ac120002-16-2ab8-2a3e-0379-866a-5ffc-b07d-8db8-5c2b-4b28-8469"
      },
      {
       "current": "fe7784e0-ab49-11e7-a38f-0242ac120002-18-c27b-975f-18fe-774e-846f-6db6-066c-a874-039a-74fd",
       "next": "fe7786e8-ab49-11e7-a38f-0242ac120002-17-a936-cd06-6874-4f2e-ccb3-2047-ab8f-37b5-7368-cfa1",
       "previous": "fe7782d8-ab49-11e7-a38f-0242ac120002-17-2a3e-0379-866a-5ffc-b07d-8db8-5c2b-4b28-8469-1cc2"
      },
      {
       "current": "fe7784e0-ab49-11e7-a38f-0242ac120002-19-975f-18fe-774e-846f-6db6-066c-a874-039a-74fd-df36",
       "next": "fe7786e8-ab49-11e7-a38f-0242ac120002-18-cd06-6874-4f2e-ccb3-2047-ab8f-37b5-7368-cfa1-2e89",
       "previous": "fe7782d8-ab49-11e7-a38f-0242ac120002-18-0379-866a-5ffc-b07d-8db8-5c2b-4b28-8469-1cc2-b6a8"
      },
      {
       "current": "fe7784e0-ab49-11e7-a38f-0242ac120002-20-18fe-774e-846f-6db6-066c-a874-039a-74fd-df36-88d6",
       "next": "fe7786e8-ab49-11e7-a38f-0242ac120002-19-6874-4f2e-ccb3-2047-ab8f-37b5-7368-cfa1-2e89-5039",
       "previous": "fe7782d8-ab49-11e7-a38f-0242ac120002-19-866a-5ffc-b07d-8db8-5c2b-4b28-8469-1cc2-b6a8-dbe7"
      }
     ],
     "next": "fe7786e8-ab49-11e7-a38f-0242ac120002-20-4f2e-ccb3-2047-ab8f-37b5-7368-cfa1-2e89-5039-a1a9",
     "previous": "fe7782d8-ab49-11e7-a38f-0242ac120002-20-5ffc-b07d-8db8-5c2b-4b28-8469-1cc2-b6a8-dbe7-405a"
    }
   },
   "outputs": [],
   "source": [
    "!ansible -b -a 'docker node ls' {target_master} -l {target_group}"
   ]
  },
  {
   "cell_type": "markdown",
   "metadata": {
    "lc_cell_meme": {
     "current": "fe7786e8-ab49-11e7-a38f-0242ac120002-20-4f2e-ccb3-2047-ab8f-37b5-7368-cfa1-2e89-5039-a1a9",
     "history": [
      {
       "current": "fe7786e8-ab49-11e7-a38f-0242ac120002-15-dd77-f03c-a936-cd06-6874-4f2e-ccb3-2047-ab8f-37b5",
       "next": "fe7788f0-ab49-11e7-a38f-0242ac120002-14-1b47-5ab1-8a4e-c14b-7eab-aed6-c315-bef3-8f92-0871",
       "previous": "c82bc863-8fe2-11ec-b5af-6b42dc3e1973"
      },
      {
       "current": "fe7786e8-ab49-11e7-a38f-0242ac120002-15-dd77-f03c-a936-cd06-6874-4f2e-ccb3-2047-ab8f-37b5",
       "next": "fe7788f0-ab49-11e7-a38f-0242ac120002-15-5ab1-8a4e-c14b-7eab-aed6-c315-bef3-8f92-0871-9028",
       "previous": "c82bc863-8fe2-11ec-b5af-6b42dc3e1973-1-170a"
      },
      {
       "current": "fe7786e8-ab49-11e7-a38f-0242ac120002-16-f03c-a936-cd06-6874-4f2e-ccb3-2047-ab8f-37b5-7368",
       "next": "fe7788f0-ab49-11e7-a38f-0242ac120002-15-5ab1-8a4e-c14b-7eab-aed6-c315-bef3-8f92-0871-9028",
       "previous": "fe7784e0-ab49-11e7-a38f-0242ac120002-15-7874-d551-747b-c27b-975f-18fe-774e-846f-6db6-066c"
      },
      {
       "current": "fe7786e8-ab49-11e7-a38f-0242ac120002-17-a936-cd06-6874-4f2e-ccb3-2047-ab8f-37b5-7368-cfa1",
       "next": "fe7788f0-ab49-11e7-a38f-0242ac120002-16-8a4e-c14b-7eab-aed6-c315-bef3-8f92-0871-9028-f75f",
       "previous": "fe7784e0-ab49-11e7-a38f-0242ac120002-16-d551-747b-c27b-975f-18fe-774e-846f-6db6-066c-a874"
      },
      {
       "current": "fe7786e8-ab49-11e7-a38f-0242ac120002-18-cd06-6874-4f2e-ccb3-2047-ab8f-37b5-7368-cfa1-2e89",
       "next": "fe7788f0-ab49-11e7-a38f-0242ac120002-17-c14b-7eab-aed6-c315-bef3-8f92-0871-9028-f75f-895f",
       "previous": "fe7784e0-ab49-11e7-a38f-0242ac120002-17-747b-c27b-975f-18fe-774e-846f-6db6-066c-a874-039a"
      },
      {
       "current": "fe7786e8-ab49-11e7-a38f-0242ac120002-19-6874-4f2e-ccb3-2047-ab8f-37b5-7368-cfa1-2e89-5039",
       "next": "fe7788f0-ab49-11e7-a38f-0242ac120002-18-7eab-aed6-c315-bef3-8f92-0871-9028-f75f-895f-3a57",
       "previous": "fe7784e0-ab49-11e7-a38f-0242ac120002-18-c27b-975f-18fe-774e-846f-6db6-066c-a874-039a-74fd"
      },
      {
       "current": "fe7786e8-ab49-11e7-a38f-0242ac120002-20-4f2e-ccb3-2047-ab8f-37b5-7368-cfa1-2e89-5039-a1a9",
       "next": "fe7788f0-ab49-11e7-a38f-0242ac120002-19-aed6-c315-bef3-8f92-0871-9028-f75f-895f-3a57-8fce",
       "previous": "fe7784e0-ab49-11e7-a38f-0242ac120002-19-975f-18fe-774e-846f-6db6-066c-a874-039a-74fd-df36"
      }
     ],
     "next": "fe7788f0-ab49-11e7-a38f-0242ac120002-20-c315-bef3-8f92-0871-9028-f75f-895f-3a57-8fce-f861",
     "previous": "fe7784e0-ab49-11e7-a38f-0242ac120002-20-18fe-774e-846f-6db6-066c-a874-039a-74fd-df36-88d6"
    }
   },
   "source": [
    "## Add nodes to the swarm\n",
    "\n",
    "https://docs.docker.com/engine/swarm/swarm-tutorial/add-nodes/"
   ]
  },
  {
   "cell_type": "code",
   "execution_count": null,
   "metadata": {
    "lc_cell_meme": {
     "current": "fe7788f0-ab49-11e7-a38f-0242ac120002-20-c315-bef3-8f92-0871-9028-f75f-895f-3a57-8fce-f861",
     "history": [
      {
       "current": "fe7788f0-ab49-11e7-a38f-0242ac120002-14-1b47-5ab1-8a4e-c14b-7eab-aed6-c315-bef3-8f92-0871",
       "next": "fe778af8-ab49-11e7-a38f-0242ac120002-13-d5a9-bbfa-853b-283b-c238-3e42-1aa5-64d9-1114-61ca",
       "previous": "fe7786e8-ab49-11e7-a38f-0242ac120002-13-73d9-4c22-dd77-f03c-a936-cd06-6874-4f2e-ccb3-2047"
      },
      {
       "current": "fe7788f0-ab49-11e7-a38f-0242ac120002-15-5ab1-8a4e-c14b-7eab-aed6-c315-bef3-8f92-0871-9028",
       "next": "fe778af8-ab49-11e7-a38f-0242ac120002-14-bbfa-853b-283b-c238-3e42-1aa5-64d9-1114-61ca-c1c8",
       "previous": "fe7786e8-ab49-11e7-a38f-0242ac120002-14-4c22-dd77-f03c-a936-cd06-6874-4f2e-ccb3-2047-ab8f"
      },
      {
       "current": "fe7788f0-ab49-11e7-a38f-0242ac120002-16-8a4e-c14b-7eab-aed6-c315-bef3-8f92-0871-9028-f75f",
       "next": "fe778af8-ab49-11e7-a38f-0242ac120002-15-853b-283b-c238-3e42-1aa5-64d9-1114-61ca-c1c8-3ebc",
       "previous": "fe7786e8-ab49-11e7-a38f-0242ac120002-15-dd77-f03c-a936-cd06-6874-4f2e-ccb3-2047-ab8f-37b5"
      },
      {
       "current": "fe7788f0-ab49-11e7-a38f-0242ac120002-17-c14b-7eab-aed6-c315-bef3-8f92-0871-9028-f75f-895f",
       "next": "fe778af8-ab49-11e7-a38f-0242ac120002-16-283b-c238-3e42-1aa5-64d9-1114-61ca-c1c8-3ebc-665a",
       "previous": "fe7786e8-ab49-11e7-a38f-0242ac120002-16-f03c-a936-cd06-6874-4f2e-ccb3-2047-ab8f-37b5-7368"
      },
      {
       "current": "fe7788f0-ab49-11e7-a38f-0242ac120002-18-7eab-aed6-c315-bef3-8f92-0871-9028-f75f-895f-3a57",
       "next": "fe778af8-ab49-11e7-a38f-0242ac120002-17-c238-3e42-1aa5-64d9-1114-61ca-c1c8-3ebc-665a-8628",
       "previous": "fe7786e8-ab49-11e7-a38f-0242ac120002-17-a936-cd06-6874-4f2e-ccb3-2047-ab8f-37b5-7368-cfa1"
      },
      {
       "current": "fe7788f0-ab49-11e7-a38f-0242ac120002-19-aed6-c315-bef3-8f92-0871-9028-f75f-895f-3a57-8fce",
       "next": "fe778af8-ab49-11e7-a38f-0242ac120002-18-3e42-1aa5-64d9-1114-61ca-c1c8-3ebc-665a-8628-f34c",
       "previous": "fe7786e8-ab49-11e7-a38f-0242ac120002-18-cd06-6874-4f2e-ccb3-2047-ab8f-37b5-7368-cfa1-2e89"
      },
      {
       "current": "fe7788f0-ab49-11e7-a38f-0242ac120002-20-c315-bef3-8f92-0871-9028-f75f-895f-3a57-8fce-f861",
       "next": "fe778af8-ab49-11e7-a38f-0242ac120002-19-1aa5-64d9-1114-61ca-c1c8-3ebc-665a-8628-f34c-4119",
       "previous": "fe7786e8-ab49-11e7-a38f-0242ac120002-19-6874-4f2e-ccb3-2047-ab8f-37b5-7368-cfa1-2e89-5039"
      }
     ],
     "next": "fe778af8-ab49-11e7-a38f-0242ac120002-20-64d9-1114-61ca-c1c8-3ebc-665a-8628-f34c-4119-c821",
     "previous": "fe7786e8-ab49-11e7-a38f-0242ac120002-20-4f2e-ccb3-2047-ab8f-37b5-7368-cfa1-2e89-5039-a1a9"
    }
   },
   "outputs": [],
   "source": [
    "!ansible -b -a 'docker swarm join --token {swarm_token}' {target_nodes} -l {target_group}"
   ]
  },
  {
   "cell_type": "markdown",
   "metadata": {
    "lc_cell_meme": {
     "current": "fe778af8-ab49-11e7-a38f-0242ac120002-20-64d9-1114-61ca-c1c8-3ebc-665a-8628-f34c-4119-c821",
     "history": [
      {
       "current": "fe778af8-ab49-11e7-a38f-0242ac120002-14-bbfa-853b-283b-c238-3e42-1aa5-64d9-1114-61ca-c1c8",
       "next": "fe778cf6-ab49-11e7-a38f-0242ac120002-13-11a8-1b33-3907-5e8e-4ee1-d3c7-2180-742a-a015-0c72",
       "previous": "fe7788f0-ab49-11e7-a38f-0242ac120002-13-ac08-1b47-5ab1-8a4e-c14b-7eab-aed6-c315-bef3-8f92"
      },
      {
       "current": "fe778af8-ab49-11e7-a38f-0242ac120002-15-853b-283b-c238-3e42-1aa5-64d9-1114-61ca-c1c8-3ebc",
       "next": "fe778cf6-ab49-11e7-a38f-0242ac120002-14-1b33-3907-5e8e-4ee1-d3c7-2180-742a-a015-0c72-1ab2",
       "previous": "fe7788f0-ab49-11e7-a38f-0242ac120002-14-1b47-5ab1-8a4e-c14b-7eab-aed6-c315-bef3-8f92-0871"
      },
      {
       "current": "fe778af8-ab49-11e7-a38f-0242ac120002-16-283b-c238-3e42-1aa5-64d9-1114-61ca-c1c8-3ebc-665a",
       "next": "fe778cf6-ab49-11e7-a38f-0242ac120002-15-3907-5e8e-4ee1-d3c7-2180-742a-a015-0c72-1ab2-176c",
       "previous": "fe7788f0-ab49-11e7-a38f-0242ac120002-15-5ab1-8a4e-c14b-7eab-aed6-c315-bef3-8f92-0871-9028"
      },
      {
       "current": "fe778af8-ab49-11e7-a38f-0242ac120002-17-c238-3e42-1aa5-64d9-1114-61ca-c1c8-3ebc-665a-8628",
       "next": "fe778cf6-ab49-11e7-a38f-0242ac120002-16-5e8e-4ee1-d3c7-2180-742a-a015-0c72-1ab2-176c-7af2",
       "previous": "fe7788f0-ab49-11e7-a38f-0242ac120002-16-8a4e-c14b-7eab-aed6-c315-bef3-8f92-0871-9028-f75f"
      },
      {
       "current": "fe778af8-ab49-11e7-a38f-0242ac120002-18-3e42-1aa5-64d9-1114-61ca-c1c8-3ebc-665a-8628-f34c",
       "next": "fe778cf6-ab49-11e7-a38f-0242ac120002-17-4ee1-d3c7-2180-742a-a015-0c72-1ab2-176c-7af2-130e",
       "previous": "fe7788f0-ab49-11e7-a38f-0242ac120002-17-c14b-7eab-aed6-c315-bef3-8f92-0871-9028-f75f-895f"
      },
      {
       "current": "fe778af8-ab49-11e7-a38f-0242ac120002-19-1aa5-64d9-1114-61ca-c1c8-3ebc-665a-8628-f34c-4119",
       "next": "fe778cf6-ab49-11e7-a38f-0242ac120002-18-d3c7-2180-742a-a015-0c72-1ab2-176c-7af2-130e-388a",
       "previous": "fe7788f0-ab49-11e7-a38f-0242ac120002-18-7eab-aed6-c315-bef3-8f92-0871-9028-f75f-895f-3a57"
      },
      {
       "current": "fe778af8-ab49-11e7-a38f-0242ac120002-20-64d9-1114-61ca-c1c8-3ebc-665a-8628-f34c-4119-c821",
       "next": "fe778cf6-ab49-11e7-a38f-0242ac120002-19-2180-742a-a015-0c72-1ab2-176c-7af2-130e-388a-d4d4",
       "previous": "fe7788f0-ab49-11e7-a38f-0242ac120002-19-aed6-c315-bef3-8f92-0871-9028-f75f-895f-3a57-8fce"
      }
     ],
     "next": "fe778cf6-ab49-11e7-a38f-0242ac120002-20-742a-a015-0c72-1ab2-176c-7af2-130e-388a-d4d4-a39e",
     "previous": "fe7788f0-ab49-11e7-a38f-0242ac120002-20-c315-bef3-8f92-0871-9028-f75f-895f-3a57-8fce-f861"
    }
   },
   "source": [
    "ノードは追加されたか？"
   ]
  },
  {
   "cell_type": "code",
   "execution_count": null,
   "metadata": {
    "lc_cell_meme": {
     "current": "fe778cf6-ab49-11e7-a38f-0242ac120002-20-742a-a015-0c72-1ab2-176c-7af2-130e-388a-d4d4-a39e",
     "history": [
      {
       "current": "fe778cf6-ab49-11e7-a38f-0242ac120002-14-1b33-3907-5e8e-4ee1-d3c7-2180-742a-a015-0c72-1ab2",
       "next": "fe778efe-ab49-11e7-a38f-0242ac120002-13-f2b1-15d2-7eb2-a97e-e58d-81f2-0fd7-a10a-b194-f563",
       "previous": "fe778af8-ab49-11e7-a38f-0242ac120002-13-d5a9-bbfa-853b-283b-c238-3e42-1aa5-64d9-1114-61ca"
      },
      {
       "current": "fe778cf6-ab49-11e7-a38f-0242ac120002-15-3907-5e8e-4ee1-d3c7-2180-742a-a015-0c72-1ab2-176c",
       "next": "fe778efe-ab49-11e7-a38f-0242ac120002-14-15d2-7eb2-a97e-e58d-81f2-0fd7-a10a-b194-f563-913e",
       "previous": "fe778af8-ab49-11e7-a38f-0242ac120002-14-bbfa-853b-283b-c238-3e42-1aa5-64d9-1114-61ca-c1c8"
      },
      {
       "current": "fe778cf6-ab49-11e7-a38f-0242ac120002-16-5e8e-4ee1-d3c7-2180-742a-a015-0c72-1ab2-176c-7af2",
       "next": "fe778efe-ab49-11e7-a38f-0242ac120002-15-7eb2-a97e-e58d-81f2-0fd7-a10a-b194-f563-913e-de67",
       "previous": "fe778af8-ab49-11e7-a38f-0242ac120002-15-853b-283b-c238-3e42-1aa5-64d9-1114-61ca-c1c8-3ebc"
      },
      {
       "current": "fe778cf6-ab49-11e7-a38f-0242ac120002-17-4ee1-d3c7-2180-742a-a015-0c72-1ab2-176c-7af2-130e",
       "next": "fe778efe-ab49-11e7-a38f-0242ac120002-16-a97e-e58d-81f2-0fd7-a10a-b194-f563-913e-de67-14dc",
       "previous": "fe778af8-ab49-11e7-a38f-0242ac120002-16-283b-c238-3e42-1aa5-64d9-1114-61ca-c1c8-3ebc-665a"
      },
      {
       "current": "fe778cf6-ab49-11e7-a38f-0242ac120002-18-d3c7-2180-742a-a015-0c72-1ab2-176c-7af2-130e-388a",
       "next": "fe778efe-ab49-11e7-a38f-0242ac120002-17-e58d-81f2-0fd7-a10a-b194-f563-913e-de67-14dc-7c02",
       "previous": "fe778af8-ab49-11e7-a38f-0242ac120002-17-c238-3e42-1aa5-64d9-1114-61ca-c1c8-3ebc-665a-8628"
      },
      {
       "current": "fe778cf6-ab49-11e7-a38f-0242ac120002-19-2180-742a-a015-0c72-1ab2-176c-7af2-130e-388a-d4d4",
       "next": "fe778efe-ab49-11e7-a38f-0242ac120002-18-81f2-0fd7-a10a-b194-f563-913e-de67-14dc-7c02-507e",
       "previous": "fe778af8-ab49-11e7-a38f-0242ac120002-18-3e42-1aa5-64d9-1114-61ca-c1c8-3ebc-665a-8628-f34c"
      },
      {
       "current": "fe778cf6-ab49-11e7-a38f-0242ac120002-20-742a-a015-0c72-1ab2-176c-7af2-130e-388a-d4d4-a39e",
       "next": "fe778efe-ab49-11e7-a38f-0242ac120002-19-0fd7-a10a-b194-f563-913e-de67-14dc-7c02-507e-3789",
       "previous": "fe778af8-ab49-11e7-a38f-0242ac120002-19-1aa5-64d9-1114-61ca-c1c8-3ebc-665a-8628-f34c-4119"
      }
     ],
     "next": "fe778efe-ab49-11e7-a38f-0242ac120002-20-a10a-b194-f563-913e-de67-14dc-7c02-507e-3789-1e5e",
     "previous": "fe778af8-ab49-11e7-a38f-0242ac120002-20-64d9-1114-61ca-c1c8-3ebc-665a-8628-f34c-4119-c821"
    }
   },
   "outputs": [],
   "source": [
    "!ansible -b -a 'docker node ls' {target_master} -l {target_group}"
   ]
  },
  {
   "cell_type": "markdown",
   "metadata": {
    "lc_cell_meme": {
     "current": "fe778efe-ab49-11e7-a38f-0242ac120002-20-a10a-b194-f563-913e-de67-14dc-7c02-507e-3789-1e5e",
     "history": [
      {
       "current": "fe778efe-ab49-11e7-a38f-0242ac120002-14-15d2-7eb2-a97e-e58d-81f2-0fd7-a10a-b194-f563-913e",
       "next": "f43761c2-4bb5-11e9-b2d5-0242ac130002-13-08bf-df8c-5b00-e536-0c21-7378-af04-1eab-29b2-5a57",
       "previous": "fe778cf6-ab49-11e7-a38f-0242ac120002-13-11a8-1b33-3907-5e8e-4ee1-d3c7-2180-742a-a015-0c72"
      },
      {
       "current": "fe778efe-ab49-11e7-a38f-0242ac120002-15-7eb2-a97e-e58d-81f2-0fd7-a10a-b194-f563-913e-de67",
       "next": "f43761c2-4bb5-11e9-b2d5-0242ac130002-14-df8c-5b00-e536-0c21-7378-af04-1eab-29b2-5a57-2754",
       "previous": "fe778cf6-ab49-11e7-a38f-0242ac120002-14-1b33-3907-5e8e-4ee1-d3c7-2180-742a-a015-0c72-1ab2"
      },
      {
       "current": "fe778efe-ab49-11e7-a38f-0242ac120002-16-a97e-e58d-81f2-0fd7-a10a-b194-f563-913e-de67-14dc",
       "next": "f43761c2-4bb5-11e9-b2d5-0242ac130002-15-5b00-e536-0c21-7378-af04-1eab-29b2-5a57-2754-8a15",
       "previous": "fe778cf6-ab49-11e7-a38f-0242ac120002-15-3907-5e8e-4ee1-d3c7-2180-742a-a015-0c72-1ab2-176c"
      },
      {
       "current": "fe778efe-ab49-11e7-a38f-0242ac120002-17-e58d-81f2-0fd7-a10a-b194-f563-913e-de67-14dc-7c02",
       "next": "f43761c2-4bb5-11e9-b2d5-0242ac130002-16-e536-0c21-7378-af04-1eab-29b2-5a57-2754-8a15-475a",
       "previous": "fe778cf6-ab49-11e7-a38f-0242ac120002-16-5e8e-4ee1-d3c7-2180-742a-a015-0c72-1ab2-176c-7af2"
      },
      {
       "current": "fe778efe-ab49-11e7-a38f-0242ac120002-18-81f2-0fd7-a10a-b194-f563-913e-de67-14dc-7c02-507e",
       "next": "f43761c2-4bb5-11e9-b2d5-0242ac130002-17-0c21-7378-af04-1eab-29b2-5a57-2754-8a15-475a-b5cb",
       "previous": "fe778cf6-ab49-11e7-a38f-0242ac120002-17-4ee1-d3c7-2180-742a-a015-0c72-1ab2-176c-7af2-130e"
      },
      {
       "current": "fe778efe-ab49-11e7-a38f-0242ac120002-19-0fd7-a10a-b194-f563-913e-de67-14dc-7c02-507e-3789",
       "next": "f43761c2-4bb5-11e9-b2d5-0242ac130002-18-7378-af04-1eab-29b2-5a57-2754-8a15-475a-b5cb-48ba",
       "previous": "fe778cf6-ab49-11e7-a38f-0242ac120002-18-d3c7-2180-742a-a015-0c72-1ab2-176c-7af2-130e-388a"
      },
      {
       "current": "fe778efe-ab49-11e7-a38f-0242ac120002-20-a10a-b194-f563-913e-de67-14dc-7c02-507e-3789-1e5e",
       "next": "f43761c2-4bb5-11e9-b2d5-0242ac130002-19-af04-1eab-29b2-5a57-2754-8a15-475a-b5cb-48ba-5e3f",
       "previous": "fe778cf6-ab49-11e7-a38f-0242ac120002-19-2180-742a-a015-0c72-1ab2-176c-7af2-130e-388a-d4d4"
      }
     ],
     "next": "f43761c2-4bb5-11e9-b2d5-0242ac130002-20-1eab-29b2-5a57-2754-8a15-475a-b5cb-48ba-5e3f-f5b4",
     "previous": "fe778cf6-ab49-11e7-a38f-0242ac120002-20-742a-a015-0c72-1ab2-176c-7af2-130e-388a-d4d4-a39e"
    }
   },
   "source": [
    "これでSwarmが構成されたはず"
   ]
  },
  {
   "cell_type": "markdown",
   "metadata": {
    "lc_cell_meme": {
     "current": "f43761c2-4bb5-11e9-b2d5-0242ac130002-20-1eab-29b2-5a57-2754-8a15-475a-b5cb-48ba-5e3f-f5b4",
     "history": [
      {
       "current": "f43761c2-4bb5-11e9-b2d5-0242ac130002-14-df8c-5b00-e536-0c21-7378-af04-1eab-29b2-5a57-2754",
       "next": "b7d57424-4bc6-11e9-b2d5-0242ac130002-13-f328-dd71-d39d-6f05-93f9-7771-3968-0782-bfab-4754",
       "previous": "fe778efe-ab49-11e7-a38f-0242ac120002-13-f2b1-15d2-7eb2-a97e-e58d-81f2-0fd7-a10a-b194-f563"
      },
      {
       "current": "f43761c2-4bb5-11e9-b2d5-0242ac130002-15-5b00-e536-0c21-7378-af04-1eab-29b2-5a57-2754-8a15",
       "next": "b7d57424-4bc6-11e9-b2d5-0242ac130002-14-dd71-d39d-6f05-93f9-7771-3968-0782-bfab-4754-5eb9",
       "previous": "fe778efe-ab49-11e7-a38f-0242ac120002-14-15d2-7eb2-a97e-e58d-81f2-0fd7-a10a-b194-f563-913e"
      },
      {
       "current": "f43761c2-4bb5-11e9-b2d5-0242ac130002-16-e536-0c21-7378-af04-1eab-29b2-5a57-2754-8a15-475a",
       "next": "b7d57424-4bc6-11e9-b2d5-0242ac130002-15-d39d-6f05-93f9-7771-3968-0782-bfab-4754-5eb9-ab09",
       "previous": "fe778efe-ab49-11e7-a38f-0242ac120002-15-7eb2-a97e-e58d-81f2-0fd7-a10a-b194-f563-913e-de67"
      },
      {
       "current": "f43761c2-4bb5-11e9-b2d5-0242ac130002-17-0c21-7378-af04-1eab-29b2-5a57-2754-8a15-475a-b5cb",
       "next": "b7d57424-4bc6-11e9-b2d5-0242ac130002-16-6f05-93f9-7771-3968-0782-bfab-4754-5eb9-ab09-932a",
       "previous": "fe778efe-ab49-11e7-a38f-0242ac120002-16-a97e-e58d-81f2-0fd7-a10a-b194-f563-913e-de67-14dc"
      },
      {
       "current": "f43761c2-4bb5-11e9-b2d5-0242ac130002-18-7378-af04-1eab-29b2-5a57-2754-8a15-475a-b5cb-48ba",
       "next": "b7d57424-4bc6-11e9-b2d5-0242ac130002-17-93f9-7771-3968-0782-bfab-4754-5eb9-ab09-932a-a291",
       "previous": "fe778efe-ab49-11e7-a38f-0242ac120002-17-e58d-81f2-0fd7-a10a-b194-f563-913e-de67-14dc-7c02"
      },
      {
       "current": "f43761c2-4bb5-11e9-b2d5-0242ac130002-19-af04-1eab-29b2-5a57-2754-8a15-475a-b5cb-48ba-5e3f",
       "next": "b7d57424-4bc6-11e9-b2d5-0242ac130002-18-7771-3968-0782-bfab-4754-5eb9-ab09-932a-a291-de27",
       "previous": "fe778efe-ab49-11e7-a38f-0242ac120002-18-81f2-0fd7-a10a-b194-f563-913e-de67-14dc-7c02-507e"
      },
      {
       "current": "f43761c2-4bb5-11e9-b2d5-0242ac130002-20-1eab-29b2-5a57-2754-8a15-475a-b5cb-48ba-5e3f-f5b4",
       "next": "b7d57424-4bc6-11e9-b2d5-0242ac130002-19-3968-0782-bfab-4754-5eb9-ab09-932a-a291-de27-9e20",
       "previous": "fe778efe-ab49-11e7-a38f-0242ac120002-19-0fd7-a10a-b194-f563-913e-de67-14dc-7c02-507e-3789"
      }
     ],
     "next": "b7d57424-4bc6-11e9-b2d5-0242ac130002-20-0782-bfab-4754-5eb9-ab09-932a-a291-de27-9e20-f50c",
     "previous": "fe778efe-ab49-11e7-a38f-0242ac120002-20-a10a-b194-f563-913e-de67-14dc-7c02-507e-3789-1e5e"
    }
   },
   "source": [
    "# 後始末"
   ]
  },
  {
   "cell_type": "code",
   "execution_count": null,
   "metadata": {
    "lc_cell_meme": {
     "current": "b7d57424-4bc6-11e9-b2d5-0242ac130002-20-0782-bfab-4754-5eb9-ab09-932a-a291-de27-9e20-f50c",
     "history": [
      {
       "current": "b7d57424-4bc6-11e9-b2d5-0242ac130002-14-dd71-d39d-6f05-93f9-7771-3968-0782-bfab-4754-5eb9",
       "next": "42645f3c-0fa7-11ec-965f-c7638f7e44c5-2-a2a2-280c",
       "previous": "f43761c2-4bb5-11e9-b2d5-0242ac130002-13-08bf-df8c-5b00-e536-0c21-7378-af04-1eab-29b2-5a57"
      },
      {
       "current": "b7d57424-4bc6-11e9-b2d5-0242ac130002-15-d39d-6f05-93f9-7771-3968-0782-bfab-4754-5eb9-ab09",
       "next": "42645f3c-0fa7-11ec-965f-c7638f7e44c5-3-a2a2-280c-c1b3",
       "previous": "f43761c2-4bb5-11e9-b2d5-0242ac130002-14-df8c-5b00-e536-0c21-7378-af04-1eab-29b2-5a57-2754"
      },
      {
       "current": "b7d57424-4bc6-11e9-b2d5-0242ac130002-16-6f05-93f9-7771-3968-0782-bfab-4754-5eb9-ab09-932a",
       "next": "42645f3c-0fa7-11ec-965f-c7638f7e44c5-4-a2a2-280c-c1b3-17e8",
       "previous": "f43761c2-4bb5-11e9-b2d5-0242ac130002-15-5b00-e536-0c21-7378-af04-1eab-29b2-5a57-2754-8a15"
      },
      {
       "current": "b7d57424-4bc6-11e9-b2d5-0242ac130002-17-93f9-7771-3968-0782-bfab-4754-5eb9-ab09-932a-a291",
       "next": "42645f3c-0fa7-11ec-965f-c7638f7e44c5-5-a2a2-280c-c1b3-17e8-8057",
       "previous": "f43761c2-4bb5-11e9-b2d5-0242ac130002-16-e536-0c21-7378-af04-1eab-29b2-5a57-2754-8a15-475a"
      },
      {
       "current": "b7d57424-4bc6-11e9-b2d5-0242ac130002-18-7771-3968-0782-bfab-4754-5eb9-ab09-932a-a291-de27",
       "next": "42645f3c-0fa7-11ec-965f-c7638f7e44c5-6-a2a2-280c-c1b3-17e8-8057-05c5",
       "previous": "f43761c2-4bb5-11e9-b2d5-0242ac130002-17-0c21-7378-af04-1eab-29b2-5a57-2754-8a15-475a-b5cb"
      },
      {
       "current": "b7d57424-4bc6-11e9-b2d5-0242ac130002-19-3968-0782-bfab-4754-5eb9-ab09-932a-a291-de27-9e20",
       "next": "42645f3c-0fa7-11ec-965f-c7638f7e44c5-7-a2a2-280c-c1b3-17e8-8057-05c5-717f",
       "previous": "f43761c2-4bb5-11e9-b2d5-0242ac130002-18-7378-af04-1eab-29b2-5a57-2754-8a15-475a-b5cb-48ba"
      },
      {
       "current": "b7d57424-4bc6-11e9-b2d5-0242ac130002-20-0782-bfab-4754-5eb9-ab09-932a-a291-de27-9e20-f50c",
       "next": "42645f3c-0fa7-11ec-965f-c7638f7e44c5-8-a2a2-280c-c1b3-17e8-8057-05c5-717f-e688",
       "previous": "f43761c2-4bb5-11e9-b2d5-0242ac130002-19-af04-1eab-29b2-5a57-2754-8a15-475a-b5cb-48ba-5e3f"
      }
     ],
     "next": "42645f3c-0fa7-11ec-965f-c7638f7e44c5-9-a2a2-280c-c1b3-17e8-8057-05c5-717f-e688-7d11",
     "previous": "f43761c2-4bb5-11e9-b2d5-0242ac130002-20-1eab-29b2-5a57-2754-8a15-475a-b5cb-48ba-5e3f-f5b4"
    }
   },
   "outputs": [],
   "source": [
    "!rm -rf {temp_dir}"
   ]
  },
  {
   "cell_type": "code",
   "execution_count": null,
   "metadata": {
    "lc_cell_meme": {
     "current": "42645f3c-0fa7-11ec-965f-c7638f7e44c5-9-a2a2-280c-c1b3-17e8-8057-05c5-717f-e688-7d11",
     "history": [
      {
       "current": "42645f3c-0fa7-11ec-965f-c7638f7e44c5-3-a2a2-280c-c1b3",
       "next": null,
       "previous": "b7d57424-4bc6-11e9-b2d5-0242ac130002-13-f328-dd71-d39d-6f05-93f9-7771-3968-0782-bfab-4754"
      },
      {
       "current": "42645f3c-0fa7-11ec-965f-c7638f7e44c5-4-a2a2-280c-c1b3-17e8",
       "next": null,
       "previous": "b7d57424-4bc6-11e9-b2d5-0242ac130002-14-dd71-d39d-6f05-93f9-7771-3968-0782-bfab-4754-5eb9"
      },
      {
       "current": "42645f3c-0fa7-11ec-965f-c7638f7e44c5-5-a2a2-280c-c1b3-17e8-8057",
       "next": null,
       "previous": "b7d57424-4bc6-11e9-b2d5-0242ac130002-15-d39d-6f05-93f9-7771-3968-0782-bfab-4754-5eb9-ab09"
      },
      {
       "current": "42645f3c-0fa7-11ec-965f-c7638f7e44c5-6-a2a2-280c-c1b3-17e8-8057-05c5",
       "next": null,
       "previous": "b7d57424-4bc6-11e9-b2d5-0242ac130002-16-6f05-93f9-7771-3968-0782-bfab-4754-5eb9-ab09-932a"
      },
      {
       "current": "42645f3c-0fa7-11ec-965f-c7638f7e44c5-7-a2a2-280c-c1b3-17e8-8057-05c5-717f",
       "next": null,
       "previous": "b7d57424-4bc6-11e9-b2d5-0242ac130002-17-93f9-7771-3968-0782-bfab-4754-5eb9-ab09-932a-a291"
      },
      {
       "current": "42645f3c-0fa7-11ec-965f-c7638f7e44c5-8-a2a2-280c-c1b3-17e8-8057-05c5-717f-e688",
       "next": null,
       "previous": "b7d57424-4bc6-11e9-b2d5-0242ac130002-18-7771-3968-0782-bfab-4754-5eb9-ab09-932a-a291-de27"
      },
      {
       "current": "42645f3c-0fa7-11ec-965f-c7638f7e44c5-9-a2a2-280c-c1b3-17e8-8057-05c5-717f-e688-7d11",
       "next": null,
       "previous": "b7d57424-4bc6-11e9-b2d5-0242ac130002-19-3968-0782-bfab-4754-5eb9-ab09-932a-a291-de27-9e20"
      }
     ],
     "next": null,
     "previous": "b7d57424-4bc6-11e9-b2d5-0242ac130002-20-0782-bfab-4754-5eb9-ab09-932a-a291-de27-9e20-f50c"
    }
   },
   "outputs": [],
   "source": []
  }
 ],
 "metadata": {
  "kernelspec": {
   "display_name": "Python 3",
   "language": "python",
   "name": "python3"
  },
  "language_info": {
   "file_extension": ".py",
   "mimetype": "text/x-python",
   "name": "python",
   "nbconvert_exporter": "python",
   "pygments_lexer": "ipython3",
   "version": "3.10.11"
  },
  "lc_notebook_meme": {
   "current": "f434ef82-4bb5-11e9-b2d5-0242ac130002"
  },
  "toc": {
   "base_numbering": 1,
   "nav_menu": {},
   "number_sections": true,
   "sideBar": true,
   "skip_h1_title": false,
   "title_cell": "Table of Contents",
   "title_sidebar": "Contents",
   "toc_cell": false,
   "toc_position": {
    "height": "calc(100% - 180px)",
    "left": "10px",
    "top": "150px",
    "width": "375px"
   },
   "toc_section_display": true,
   "toc_window_display": true
  }
 },
 "nbformat": 4,
 "nbformat_minor": 2
}
