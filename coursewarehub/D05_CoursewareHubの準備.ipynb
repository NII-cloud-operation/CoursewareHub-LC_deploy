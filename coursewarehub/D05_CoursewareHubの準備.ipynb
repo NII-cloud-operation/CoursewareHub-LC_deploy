{
 "cells": [
  {
   "cell_type": "markdown",
   "metadata": {
    "lc_cell_meme": {
     "current": "28b4baf2-4c57-11e9-b2d5-0242ac130002-21-b6a2-f8f2-7de6-bb59-cb51-8d34-3e11-a7e8-9d77-c056",
     "history": [
      {
       "current": "28b4baf2-4c57-11e9-b2d5-0242ac130002-17-a823-02fb-336a-6346-b6a2-f8f2-7de6-bb59-cb51-8d34",
       "next": "f7f67c14-d57f-11e8-a64b-02420aff0006-17-403f-257c-08e2-83dc-7472-2336-cc52-6026-3896-63ad",
       "previous": null
      },
      {
       "current": "28b4baf2-4c57-11e9-b2d5-0242ac130002-18-02fb-336a-6346-b6a2-f8f2-7de6-bb59-cb51-8d34-3e11",
       "next": "f7f67c14-d57f-11e8-a64b-02420aff0006-18-257c-08e2-83dc-7472-2336-cc52-6026-3896-63ad-fefa",
       "previous": null
      },
      {
       "current": "28b4baf2-4c57-11e9-b2d5-0242ac130002-19-336a-6346-b6a2-f8f2-7de6-bb59-cb51-8d34-3e11-a7e8",
       "next": "f7f67c14-d57f-11e8-a64b-02420aff0006-19-08e2-83dc-7472-2336-cc52-6026-3896-63ad-fefa-9dd4",
       "previous": null
      },
      {
       "current": "28b4baf2-4c57-11e9-b2d5-0242ac130002-20-6346-b6a2-f8f2-7de6-bb59-cb51-8d34-3e11-a7e8-9d77",
       "next": "f7f67c14-d57f-11e8-a64b-02420aff0006-20-83dc-7472-2336-cc52-6026-3896-63ad-fefa-9dd4-bed0",
       "previous": null
      },
      {
       "current": "28b4baf2-4c57-11e9-b2d5-0242ac130002-21-b6a2-f8f2-7de6-bb59-cb51-8d34-3e11-a7e8-9d77-c056",
       "next": "f7f67c14-d57f-11e8-a64b-02420aff0006-21-7472-2336-cc52-6026-3896-63ad-fefa-9dd4-bed0-2e01",
       "previous": null
      }
     ],
     "next": "f7f67c14-d57f-11e8-a64b-02420aff0006-22-2336-cc52-6026-3896-63ad-fefa-9dd4-bed0-2e01-2ecb",
     "previous": null
    }
   },
   "source": [
    "# About: CoursewareHubの準備\n",
    "\n",
    "CoursewareHubを構成するサービス - JupyterHubサービスのコンテナと、auth-proxyサービスのコンテナをインストールする。"
   ]
  },
  {
   "cell_type": "markdown",
   "metadata": {
    "lc_cell_meme": {
     "current": "f7f67c14-d57f-11e8-a64b-02420aff0006-22-2336-cc52-6026-3896-63ad-fefa-9dd4-bed0-2e01-2ecb",
     "history": [
      {
       "current": "f7f67c14-d57f-11e8-a64b-02420aff0006-19-08e2-83dc-7472-2336-cc52-6026-3896-63ad-fefa-9dd4",
       "next": "30306cab-0f87-11ec-975c-c7638f7e44c5-9-4852-98d7-4e3a-da36-51fb-a546-f2b0-eaea-ed0c",
       "previous": "28b4baf2-4c57-11e9-b2d5-0242ac130002-17-a823-02fb-336a-6346-b6a2-f8f2-7de6-bb59-cb51-8d34"
      },
      {
       "current": "f7f67c14-d57f-11e8-a64b-02420aff0006-19-08e2-83dc-7472-2336-cc52-6026-3896-63ad-fefa-9dd4",
       "next": "30306cab-0f87-11ec-975c-c7638f7e44c5-10-4852-98d7-4e3a-da36-51fb-a546-f2b0-eaea-ed0c-bdfb",
       "previous": "28b4baf2-4c57-11e9-b2d5-0242ac130002-18-02fb-336a-6346-b6a2-f8f2-7de6-bb59-cb51-8d34-3e11"
      },
      {
       "current": "f7f67c14-d57f-11e8-a64b-02420aff0006-20-83dc-7472-2336-cc52-6026-3896-63ad-fefa-9dd4-bed0",
       "next": "30306cab-0f87-11ec-975c-c7638f7e44c5-8-4852-98d7-287d-6995-52ef-890d-1e7f-ac63",
       "previous": "28b4baf2-4c57-11e9-b2d5-0242ac130002-18-02fb-336a-6346-b6a2-f8f2-7de6-bb59-cb51-8d34-3e11"
      },
      {
       "current": "f7f67c14-d57f-11e8-a64b-02420aff0006-21-7472-2336-cc52-6026-3896-63ad-fefa-9dd4-bed0-2e01",
       "next": "30306cab-0f87-11ec-975c-c7638f7e44c5-9-4852-98d7-287d-6995-52ef-890d-1e7f-ac63-44ae",
       "previous": "28b4baf2-4c57-11e9-b2d5-0242ac130002-19-336a-6346-b6a2-f8f2-7de6-bb59-cb51-8d34-3e11-a7e8"
      },
      {
       "current": "f7f67c14-d57f-11e8-a64b-02420aff0006-22-2336-cc52-6026-3896-63ad-fefa-9dd4-bed0-2e01-2ecb",
       "next": "30306cab-0f87-11ec-975c-c7638f7e44c5-10-4852-98d7-287d-6995-52ef-890d-1e7f-ac63-44ae-d109",
       "previous": "28b4baf2-4c57-11e9-b2d5-0242ac130002-20-6346-b6a2-f8f2-7de6-bb59-cb51-8d34-3e11-a7e8-9d77"
      }
     ],
     "next": "30306cab-0f87-11ec-975c-c7638f7e44c5-11-98d7-287d-6995-52ef-890d-1e7f-ac63-44ae-d109-421a",
     "previous": "28b4baf2-4c57-11e9-b2d5-0242ac130002-21-b6a2-f8f2-7de6-bb59-cb51-8d34-3e11-a7e8-9d77-c056"
    }
   },
   "source": [
    "# Notebookと環境のBinding\n",
    "\n",
    "Inventory中のgroup名でBind対象ホストを指示する。"
   ]
  },
  {
   "cell_type": "markdown",
   "metadata": {
    "lc_cell_meme": {
     "current": "30306cab-0f87-11ec-975c-c7638f7e44c5-11-98d7-287d-6995-52ef-890d-1e7f-ac63-44ae-d109-421a",
     "history": [
      {
       "current": "30306cab-0f87-11ec-975c-c7638f7e44c5-7-4852-98d7-287d-6995-52ef-890d-1e7f",
       "next": "bee36054-0f87-11ec-a987-c7638f7e44c5-6-cc6c-9efb-66ea-a410-c348-a116",
       "previous": "98a63b86-d364-11e8-a64b-02420aff0006-15-4757-b4ba-10fd-c01c-d19b-8ab1-f92c-67d7-4938-00d2"
      },
      {
       "current": "30306cab-0f87-11ec-975c-c7638f7e44c5-8-4852-98d7-287d-6995-52ef-890d-1e7f-ac63",
       "next": "bee36054-0f87-11ec-a987-c7638f7e44c5-7-cc6c-9efb-66ea-a410-c348-a116-d72f",
       "previous": "98a63b86-d364-11e8-a64b-02420aff0006-16-b4ba-10fd-c01c-d19b-8ab1-f92c-67d7-4938-00d2-4b19"
      },
      {
       "current": "30306cab-0f87-11ec-975c-c7638f7e44c5-9-4852-98d7-287d-6995-52ef-890d-1e7f-ac63-44ae",
       "next": "bee36054-0f87-11ec-a987-c7638f7e44c5-10-cc6c-9efb-7aaa-4982-f1ba-1339-0b84-2ff0-7bbb-1047",
       "previous": "f7f67c14-d57f-11e8-a64b-02420aff0006-19-08e2-83dc-7472-2336-cc52-6026-3896-63ad-fefa-9dd4"
      },
      {
       "current": "30306cab-0f87-11ec-975c-c7638f7e44c5-10-4852-98d7-287d-6995-52ef-890d-1e7f-ac63-44ae-d109",
       "next": "bee36054-0f87-11ec-a987-c7638f7e44c5-11-9efb-7aaa-4982-f1ba-1339-0b84-2ff0-7bbb-1047-ce29",
       "previous": "f7f67c14-d57f-11e8-a64b-02420aff0006-20-83dc-7472-2336-cc52-6026-3896-63ad-fefa-9dd4-bed0"
      },
      {
       "current": "30306cab-0f87-11ec-975c-c7638f7e44c5-11-98d7-287d-6995-52ef-890d-1e7f-ac63-44ae-d109-421a",
       "next": "bee36054-0f87-11ec-a987-c7638f7e44c5-12-7aaa-4982-f1ba-1339-0b84-2ff0-7bbb-1047-ce29-56d3",
       "previous": "f7f67c14-d57f-11e8-a64b-02420aff0006-21-7472-2336-cc52-6026-3896-63ad-fefa-9dd4-bed0-2e01"
      }
     ],
     "next": "bee36054-0f87-11ec-a987-c7638f7e44c5-13-4982-f1ba-1339-0b84-2ff0-7bbb-1047-ce29-56d3-ec0d",
     "previous": "f7f67c14-d57f-11e8-a64b-02420aff0006-22-2336-cc52-6026-3896-63ad-fefa-9dd4-bed0-2e01-2ecb"
    }
   },
   "source": [
    "\n",
    "- `hosts_file`: Inventoryファイル\n",
    "- `target_group`: Ansible Inventory中に定義されているグループ( `[グループ名]` のように`[]`で囲まれた定義 )のうち、CoursewareHub構築に使うグループ名を指定します。\n"
   ]
  },
  {
   "cell_type": "code",
   "execution_count": null,
   "metadata": {
    "lc_cell_meme": {
     "current": "bee36054-0f87-11ec-a987-c7638f7e44c5-13-4982-f1ba-1339-0b84-2ff0-7bbb-1047-ce29-56d3-ec0d",
     "execution_end_time": "2022-04-28T03:23:23.535509Z",
     "history": [
      {
       "current": "bee36054-0f87-11ec-a987-c7638f7e44c5-10-cc6c-9efb-7aaa-4982-f1ba-1339-0b84-2ff0-7bbb-1047",
       "next": "848e31c4-f407-11ea-9bfc-02420a01001a-11-75b6-90d5-2630-5f2d-c52a-fefd-6751-70e8-ba4c-0ea8",
       "previous": "30306cab-0f87-11ec-975c-c7638f7e44c5-9-4852-98d7-4e3a-da36-51fb-a546-f2b0-eaea-ed0c"
      },
      {
       "current": "bee36054-0f87-11ec-a987-c7638f7e44c5-10-cc6c-9efb-7aaa-4982-f1ba-1339-0b84-2ff0-7bbb-1047",
       "next": "848e31c4-f407-11ea-9bfc-02420a01001a-12-90d5-2630-5f2d-c52a-fefd-6751-70e8-ba4c-0ea8-cf7b",
       "previous": "30306cab-0f87-11ec-975c-c7638f7e44c5-10-4852-98d7-4e3a-da36-51fb-a546-f2b0-eaea-ed0c-bdfb"
      },
      {
       "current": "bee36054-0f87-11ec-a987-c7638f7e44c5-11-9efb-7aaa-4982-f1ba-1339-0b84-2ff0-7bbb-1047-ce29",
       "next": "848e31c4-f407-11ea-9bfc-02420a01001a-12-90d5-2630-5f2d-c52a-fefd-6751-70e8-ba4c-0ea8-cf7b",
       "previous": "30306cab-0f87-11ec-975c-c7638f7e44c5-8-4852-98d7-287d-6995-52ef-890d-1e7f-ac63"
      },
      {
       "current": "bee36054-0f87-11ec-a987-c7638f7e44c5-12-7aaa-4982-f1ba-1339-0b84-2ff0-7bbb-1047-ce29-56d3",
       "next": "848e31c4-f407-11ea-9bfc-02420a01001a-13-2630-5f2d-c52a-fefd-6751-70e8-ba4c-0ea8-cf7b-30b7",
       "previous": "30306cab-0f87-11ec-975c-c7638f7e44c5-9-4852-98d7-287d-6995-52ef-890d-1e7f-ac63-44ae"
      },
      {
       "current": "bee36054-0f87-11ec-a987-c7638f7e44c5-13-4982-f1ba-1339-0b84-2ff0-7bbb-1047-ce29-56d3-ec0d",
       "next": "848e31c4-f407-11ea-9bfc-02420a01001a-14-5f2d-c52a-fefd-6751-70e8-ba4c-0ea8-cf7b-30b7-0cef",
       "previous": "30306cab-0f87-11ec-975c-c7638f7e44c5-10-4852-98d7-287d-6995-52ef-890d-1e7f-ac63-44ae-d109"
      }
     ],
     "next": "848e31c4-f407-11ea-9bfc-02420a01001a-15-c52a-fefd-6751-70e8-ba4c-0ea8-cf7b-30b7-0cef-4ff9",
     "previous": "30306cab-0f87-11ec-975c-c7638f7e44c5-11-98d7-287d-6995-52ef-890d-1e7f-ac63-44ae-d109-421a"
    },
    "scrolled": true
   },
   "outputs": [],
   "source": [
    "hosts_file = './cwhtest0001_inventory'\n",
    "target_group = 'cwhtest0001'\n",
    "\n",
    "# 接続確認\n",
    "%env ANSIBLE_INVENTORY={hosts_file}\n",
    "!ansible -m ping {target_group}"
   ]
  },
  {
   "cell_type": "markdown",
   "metadata": {
    "lc_cell_meme": {
     "current": "848e31c4-f407-11ea-9bfc-02420a01001a-15-c52a-fefd-6751-70e8-ba4c-0ea8-cf7b-30b7-0cef-4ff9",
     "history": [
      {
       "current": "848e31c4-f407-11ea-9bfc-02420a01001a-11-75b6-90d5-2630-5f2d-c52a-fefd-6751-70e8-ba4c-0ea8",
       "next": "1e5f8eaa-4c67-11e9-b2d5-0242ac130002-16-e873-526f-da8a-10e4-1ca7-f376-8d9d-2567-1a03-ce3c",
       "previous": "bee36054-0f87-11ec-a987-c7638f7e44c5-8-cc6c-9efb-7aaa-4982-f1ba-1339-0b84-2ff0"
      },
      {
       "current": "848e31c4-f407-11ea-9bfc-02420a01001a-12-90d5-2630-5f2d-c52a-fefd-6751-70e8-ba4c-0ea8-cf7b",
       "next": "1e5f8eaa-4c67-11e9-b2d5-0242ac130002-17-526f-da8a-10e4-1ca7-f376-8d9d-2567-1a03-ce3c-2393",
       "previous": "bee36054-0f87-11ec-a987-c7638f7e44c5-9-cc6c-9efb-7aaa-4982-f1ba-1339-0b84-2ff0-7bbb"
      },
      {
       "current": "848e31c4-f407-11ea-9bfc-02420a01001a-13-2630-5f2d-c52a-fefd-6751-70e8-ba4c-0ea8-cf7b-30b7",
       "next": "1e5f8eaa-4c67-11e9-b2d5-0242ac130002-18-da8a-10e4-1ca7-f376-8d9d-2567-1a03-ce3c-2393-3093",
       "previous": "bee36054-0f87-11ec-a987-c7638f7e44c5-10-cc6c-9efb-7aaa-4982-f1ba-1339-0b84-2ff0-7bbb-1047"
      },
      {
       "current": "848e31c4-f407-11ea-9bfc-02420a01001a-14-5f2d-c52a-fefd-6751-70e8-ba4c-0ea8-cf7b-30b7-0cef",
       "next": "1e5f8eaa-4c67-11e9-b2d5-0242ac130002-19-10e4-1ca7-f376-8d9d-2567-1a03-ce3c-2393-3093-6fde",
       "previous": "bee36054-0f87-11ec-a987-c7638f7e44c5-11-9efb-7aaa-4982-f1ba-1339-0b84-2ff0-7bbb-1047-ce29"
      },
      {
       "current": "848e31c4-f407-11ea-9bfc-02420a01001a-15-c52a-fefd-6751-70e8-ba4c-0ea8-cf7b-30b7-0cef-4ff9",
       "next": "1e5f8eaa-4c67-11e9-b2d5-0242ac130002-20-1ca7-f376-8d9d-2567-1a03-ce3c-2393-3093-6fde-8d03",
       "previous": "bee36054-0f87-11ec-a987-c7638f7e44c5-12-7aaa-4982-f1ba-1339-0b84-2ff0-7bbb-1047-ce29-56d3"
      }
     ],
     "next": "1e5f8eaa-4c67-11e9-b2d5-0242ac130002-21-f376-8d9d-2567-1a03-ce3c-2393-3093-6fde-8d03-a048",
     "previous": "bee36054-0f87-11ec-a987-c7638f7e44c5-13-4982-f1ba-1339-0b84-2ff0-7bbb-1047-ce29-56d3-ec0d"
    }
   },
   "source": [
    "作業ディレクトリを作成"
   ]
  },
  {
   "cell_type": "code",
   "execution_count": null,
   "metadata": {
    "lc_cell_meme": {
     "current": "1e5f8eaa-4c67-11e9-b2d5-0242ac130002-21-f376-8d9d-2567-1a03-ce3c-2393-3093-6fde-8d03-a048",
     "execution_end_time": "2022-04-28T03:34:26.172938Z",
     "history": [
      {
       "current": "1e5f8eaa-4c67-11e9-b2d5-0242ac130002-17-526f-da8a-10e4-1ca7-f376-8d9d-2567-1a03-ce3c-2393",
       "next": "98a63d3e-d364-11e8-a64b-02420aff0006-16-6878-b3a6-54e6-8b2c-93a7-aceb-e740-12bc-5cad-4e77",
       "previous": "848e31c4-f407-11ea-9bfc-02420a01001a-10-ad6c-75b6-90d5-2630-5f2d-c52a-fefd-6751-70e8-ba4c"
      },
      {
       "current": "1e5f8eaa-4c67-11e9-b2d5-0242ac130002-18-da8a-10e4-1ca7-f376-8d9d-2567-1a03-ce3c-2393-3093",
       "next": "98a63d3e-d364-11e8-a64b-02420aff0006-17-b3a6-54e6-8b2c-93a7-aceb-e740-12bc-5cad-4e77-0acf",
       "previous": "848e31c4-f407-11ea-9bfc-02420a01001a-11-75b6-90d5-2630-5f2d-c52a-fefd-6751-70e8-ba4c-0ea8"
      },
      {
       "current": "1e5f8eaa-4c67-11e9-b2d5-0242ac130002-19-10e4-1ca7-f376-8d9d-2567-1a03-ce3c-2393-3093-6fde",
       "next": "98a63d3e-d364-11e8-a64b-02420aff0006-18-54e6-8b2c-93a7-aceb-e740-12bc-5cad-4e77-0acf-269d",
       "previous": "848e31c4-f407-11ea-9bfc-02420a01001a-12-90d5-2630-5f2d-c52a-fefd-6751-70e8-ba4c-0ea8-cf7b"
      },
      {
       "current": "1e5f8eaa-4c67-11e9-b2d5-0242ac130002-20-1ca7-f376-8d9d-2567-1a03-ce3c-2393-3093-6fde-8d03",
       "next": "98a63d3e-d364-11e8-a64b-02420aff0006-19-8b2c-93a7-aceb-e740-12bc-5cad-4e77-0acf-269d-e860",
       "previous": "848e31c4-f407-11ea-9bfc-02420a01001a-13-2630-5f2d-c52a-fefd-6751-70e8-ba4c-0ea8-cf7b-30b7"
      },
      {
       "current": "1e5f8eaa-4c67-11e9-b2d5-0242ac130002-21-f376-8d9d-2567-1a03-ce3c-2393-3093-6fde-8d03-a048",
       "next": "98a63d3e-d364-11e8-a64b-02420aff0006-20-93a7-aceb-e740-12bc-5cad-4e77-0acf-269d-e860-10f6",
       "previous": "848e31c4-f407-11ea-9bfc-02420a01001a-14-5f2d-c52a-fefd-6751-70e8-ba4c-0ea8-cf7b-30b7-0cef"
      }
     ],
     "next": "98a63d3e-d364-11e8-a64b-02420aff0006-21-aceb-e740-12bc-5cad-4e77-0acf-269d-e860-10f6-ad6e",
     "previous": "848e31c4-f407-11ea-9bfc-02420a01001a-15-c52a-fefd-6751-70e8-ba4c-0ea8-cf7b-30b7-0cef-4ff9"
    }
   },
   "outputs": [],
   "source": [
    "import tempfile\n",
    "work_dir = tempfile.mkdtemp()\n",
    "work_dir"
   ]
  },
  {
   "cell_type": "markdown",
   "metadata": {
    "lc_cell_meme": {
     "current": "98a63d3e-d364-11e8-a64b-02420aff0006-21-aceb-e740-12bc-5cad-4e77-0acf-269d-e860-10f6-ad6e",
     "history": [
      {
       "current": "98a63d3e-d364-11e8-a64b-02420aff0006-17-b3a6-54e6-8b2c-93a7-aceb-e740-12bc-5cad-4e77-0acf",
       "next": "f7f67cc8-d57f-11e8-a64b-02420aff0006-16-02df-3504-d79c-f589-0215-d44e-2e5d-30f5-79aa-8499",
       "previous": "1e5f8eaa-4c67-11e9-b2d5-0242ac130002-16-e873-526f-da8a-10e4-1ca7-f376-8d9d-2567-1a03-ce3c"
      },
      {
       "current": "98a63d3e-d364-11e8-a64b-02420aff0006-18-54e6-8b2c-93a7-aceb-e740-12bc-5cad-4e77-0acf-269d",
       "next": "f7f67cc8-d57f-11e8-a64b-02420aff0006-17-3504-d79c-f589-0215-d44e-2e5d-30f5-79aa-8499-cd6a",
       "previous": "1e5f8eaa-4c67-11e9-b2d5-0242ac130002-17-526f-da8a-10e4-1ca7-f376-8d9d-2567-1a03-ce3c-2393"
      },
      {
       "current": "98a63d3e-d364-11e8-a64b-02420aff0006-19-8b2c-93a7-aceb-e740-12bc-5cad-4e77-0acf-269d-e860",
       "next": "f7f67cc8-d57f-11e8-a64b-02420aff0006-18-d79c-f589-0215-d44e-2e5d-30f5-79aa-8499-cd6a-b792",
       "previous": "1e5f8eaa-4c67-11e9-b2d5-0242ac130002-18-da8a-10e4-1ca7-f376-8d9d-2567-1a03-ce3c-2393-3093"
      },
      {
       "current": "98a63d3e-d364-11e8-a64b-02420aff0006-20-93a7-aceb-e740-12bc-5cad-4e77-0acf-269d-e860-10f6",
       "next": "f7f67cc8-d57f-11e8-a64b-02420aff0006-19-f589-0215-d44e-2e5d-30f5-79aa-8499-cd6a-b792-c56a",
       "previous": "1e5f8eaa-4c67-11e9-b2d5-0242ac130002-19-10e4-1ca7-f376-8d9d-2567-1a03-ce3c-2393-3093-6fde"
      },
      {
       "current": "98a63d3e-d364-11e8-a64b-02420aff0006-21-aceb-e740-12bc-5cad-4e77-0acf-269d-e860-10f6-ad6e",
       "next": "f7f67cc8-d57f-11e8-a64b-02420aff0006-20-0215-d44e-2e5d-30f5-79aa-8499-cd6a-b792-c56a-c475",
       "previous": "1e5f8eaa-4c67-11e9-b2d5-0242ac130002-20-1ca7-f376-8d9d-2567-1a03-ce3c-2393-3093-6fde-8d03"
      }
     ],
     "next": "f7f67cc8-d57f-11e8-a64b-02420aff0006-21-d44e-2e5d-30f5-79aa-8499-cd6a-b792-c56a-c475-68b9",
     "previous": "1e5f8eaa-4c67-11e9-b2d5-0242ac130002-21-f376-8d9d-2567-1a03-ce3c-2393-3093-6fde-8d03-a048"
    }
   },
   "source": [
    "masterとするAnsibleのgroup名を指定する。対象が正しいか、Ansible pingモジュールで動作確認する。"
   ]
  },
  {
   "cell_type": "code",
   "execution_count": null,
   "metadata": {
    "lc_cell_meme": {
     "current": "f7f67cc8-d57f-11e8-a64b-02420aff0006-21-d44e-2e5d-30f5-79aa-8499-cd6a-b792-c56a-c475-68b9",
     "execution_end_time": "2022-04-28T03:34:29.893135Z",
     "history": [
      {
       "current": "f7f67cc8-d57f-11e8-a64b-02420aff0006-17-3504-d79c-f589-0215-d44e-2e5d-30f5-79aa-8499-cd6a",
       "next": "98a63e88-d364-11e8-a64b-02420aff0006-15-de1d-a59c-e85f-7a19-a8d9-ec7b-1856-ff8a-d859-9ee5",
       "previous": "98a63d3e-d364-11e8-a64b-02420aff0006-16-6878-b3a6-54e6-8b2c-93a7-aceb-e740-12bc-5cad-4e77"
      },
      {
       "current": "f7f67cc8-d57f-11e8-a64b-02420aff0006-18-d79c-f589-0215-d44e-2e5d-30f5-79aa-8499-cd6a-b792",
       "next": "98a63e88-d364-11e8-a64b-02420aff0006-16-a59c-e85f-7a19-a8d9-ec7b-1856-ff8a-d859-9ee5-d7e9",
       "previous": "98a63d3e-d364-11e8-a64b-02420aff0006-17-b3a6-54e6-8b2c-93a7-aceb-e740-12bc-5cad-4e77-0acf"
      },
      {
       "current": "f7f67cc8-d57f-11e8-a64b-02420aff0006-19-f589-0215-d44e-2e5d-30f5-79aa-8499-cd6a-b792-c56a",
       "next": "98a63e88-d364-11e8-a64b-02420aff0006-17-e85f-7a19-a8d9-ec7b-1856-ff8a-d859-9ee5-d7e9-2c5b",
       "previous": "98a63d3e-d364-11e8-a64b-02420aff0006-18-54e6-8b2c-93a7-aceb-e740-12bc-5cad-4e77-0acf-269d"
      },
      {
       "current": "f7f67cc8-d57f-11e8-a64b-02420aff0006-20-0215-d44e-2e5d-30f5-79aa-8499-cd6a-b792-c56a-c475",
       "next": "98a63e88-d364-11e8-a64b-02420aff0006-18-7a19-a8d9-ec7b-1856-ff8a-d859-9ee5-d7e9-2c5b-41bc",
       "previous": "98a63d3e-d364-11e8-a64b-02420aff0006-19-8b2c-93a7-aceb-e740-12bc-5cad-4e77-0acf-269d-e860"
      },
      {
       "current": "f7f67cc8-d57f-11e8-a64b-02420aff0006-21-d44e-2e5d-30f5-79aa-8499-cd6a-b792-c56a-c475-68b9",
       "next": "98a63e88-d364-11e8-a64b-02420aff0006-19-a8d9-ec7b-1856-ff8a-d859-9ee5-d7e9-2c5b-41bc-03d8",
       "previous": "98a63d3e-d364-11e8-a64b-02420aff0006-20-93a7-aceb-e740-12bc-5cad-4e77-0acf-269d-e860-10f6"
      }
     ],
     "next": "98a63e88-d364-11e8-a64b-02420aff0006-20-ec7b-1856-ff8a-d859-9ee5-d7e9-2c5b-41bc-03d8-44fb",
     "previous": "98a63d3e-d364-11e8-a64b-02420aff0006-21-aceb-e740-12bc-5cad-4e77-0acf-269d-e860-10f6-ad6e"
    }
   },
   "outputs": [],
   "source": [
    "target_hub = 'cwhub_master'\n",
    "\n",
    "!ansible -m ping {target_hub} -l {target_group}"
   ]
  },
  {
   "cell_type": "markdown",
   "metadata": {
    "lc_cell_meme": {
     "current": "98a63e88-d364-11e8-a64b-02420aff0006-20-ec7b-1856-ff8a-d859-9ee5-d7e9-2c5b-41bc-03d8-44fb",
     "history": [
      {
       "current": "98a63e88-d364-11e8-a64b-02420aff0006-16-a59c-e85f-7a19-a8d9-ec7b-1856-ff8a-d859-9ee5-d7e9",
       "next": "f7f67d54-d57f-11e8-a64b-02420aff0006-16-ef1f-dbeb-6c21-eade-5308-560e-4a4d-713b-3d95-e998",
       "previous": "f7f67cc8-d57f-11e8-a64b-02420aff0006-16-02df-3504-d79c-f589-0215-d44e-2e5d-30f5-79aa-8499"
      },
      {
       "current": "98a63e88-d364-11e8-a64b-02420aff0006-17-e85f-7a19-a8d9-ec7b-1856-ff8a-d859-9ee5-d7e9-2c5b",
       "next": "f7f67d54-d57f-11e8-a64b-02420aff0006-17-dbeb-6c21-eade-5308-560e-4a4d-713b-3d95-e998-032c",
       "previous": "f7f67cc8-d57f-11e8-a64b-02420aff0006-17-3504-d79c-f589-0215-d44e-2e5d-30f5-79aa-8499-cd6a"
      },
      {
       "current": "98a63e88-d364-11e8-a64b-02420aff0006-18-7a19-a8d9-ec7b-1856-ff8a-d859-9ee5-d7e9-2c5b-41bc",
       "next": "f7f67d54-d57f-11e8-a64b-02420aff0006-18-6c21-eade-5308-560e-4a4d-713b-3d95-e998-032c-c14a",
       "previous": "f7f67cc8-d57f-11e8-a64b-02420aff0006-18-d79c-f589-0215-d44e-2e5d-30f5-79aa-8499-cd6a-b792"
      },
      {
       "current": "98a63e88-d364-11e8-a64b-02420aff0006-19-a8d9-ec7b-1856-ff8a-d859-9ee5-d7e9-2c5b-41bc-03d8",
       "next": "f7f67d54-d57f-11e8-a64b-02420aff0006-19-eade-5308-560e-4a4d-713b-3d95-e998-032c-c14a-aff5",
       "previous": "f7f67cc8-d57f-11e8-a64b-02420aff0006-19-f589-0215-d44e-2e5d-30f5-79aa-8499-cd6a-b792-c56a"
      },
      {
       "current": "98a63e88-d364-11e8-a64b-02420aff0006-20-ec7b-1856-ff8a-d859-9ee5-d7e9-2c5b-41bc-03d8-44fb",
       "next": "f7f67d54-d57f-11e8-a64b-02420aff0006-20-5308-560e-4a4d-713b-3d95-e998-032c-c14a-aff5-10a2",
       "previous": "f7f67cc8-d57f-11e8-a64b-02420aff0006-20-0215-d44e-2e5d-30f5-79aa-8499-cd6a-b792-c56a-c475"
      }
     ],
     "next": "f7f67d54-d57f-11e8-a64b-02420aff0006-21-560e-4a4d-713b-3d95-e998-032c-c14a-aff5-10a2-ce44",
     "previous": "f7f67cc8-d57f-11e8-a64b-02420aff0006-21-d44e-2e5d-30f5-79aa-8499-cd6a-b792-c56a-c475-68b9"
    }
   },
   "source": [
    "workerとするnodeはAnsibleのgroup名で定義する。Ansible pingモジュールで動作確認する。"
   ]
  },
  {
   "cell_type": "code",
   "execution_count": null,
   "metadata": {
    "lc_cell_meme": {
     "current": "f7f67d54-d57f-11e8-a64b-02420aff0006-21-560e-4a4d-713b-3d95-e998-032c-c14a-aff5-10a2-ce44",
     "execution_end_time": "2022-04-28T03:34:32.799356Z",
     "history": [
      {
       "current": "f7f67d54-d57f-11e8-a64b-02420aff0006-17-dbeb-6c21-eade-5308-560e-4a4d-713b-3d95-e998-032c",
       "next": "4f3cb358-f41e-11ea-9bfc-02420a01001a-9-a004-a1c8-b2e0-1fdf-acf1-8a2d-72fe-3937-ba98",
       "previous": "98a63e88-d364-11e8-a64b-02420aff0006-15-de1d-a59c-e85f-7a19-a8d9-ec7b-1856-ff8a-d859-9ee5"
      },
      {
       "current": "f7f67d54-d57f-11e8-a64b-02420aff0006-18-6c21-eade-5308-560e-4a4d-713b-3d95-e998-032c-c14a",
       "next": "4f3cb358-f41e-11ea-9bfc-02420a01001a-10-a004-a1c8-b2e0-1fdf-acf1-8a2d-72fe-3937-ba98-5e60",
       "previous": "98a63e88-d364-11e8-a64b-02420aff0006-16-a59c-e85f-7a19-a8d9-ec7b-1856-ff8a-d859-9ee5-d7e9"
      },
      {
       "current": "f7f67d54-d57f-11e8-a64b-02420aff0006-19-eade-5308-560e-4a4d-713b-3d95-e998-032c-c14a-aff5",
       "next": "4f3cb358-f41e-11ea-9bfc-02420a01001a-11-a1c8-b2e0-1fdf-acf1-8a2d-72fe-3937-ba98-5e60-2f40",
       "previous": "98a63e88-d364-11e8-a64b-02420aff0006-17-e85f-7a19-a8d9-ec7b-1856-ff8a-d859-9ee5-d7e9-2c5b"
      },
      {
       "current": "f7f67d54-d57f-11e8-a64b-02420aff0006-20-5308-560e-4a4d-713b-3d95-e998-032c-c14a-aff5-10a2",
       "next": "4f3cb358-f41e-11ea-9bfc-02420a01001a-12-b2e0-1fdf-acf1-8a2d-72fe-3937-ba98-5e60-2f40-6720",
       "previous": "98a63e88-d364-11e8-a64b-02420aff0006-18-7a19-a8d9-ec7b-1856-ff8a-d859-9ee5-d7e9-2c5b-41bc"
      },
      {
       "current": "f7f67d54-d57f-11e8-a64b-02420aff0006-21-560e-4a4d-713b-3d95-e998-032c-c14a-aff5-10a2-ce44",
       "next": "4f3cb358-f41e-11ea-9bfc-02420a01001a-13-1fdf-acf1-8a2d-72fe-3937-ba98-5e60-2f40-6720-7a16",
       "previous": "98a63e88-d364-11e8-a64b-02420aff0006-19-a8d9-ec7b-1856-ff8a-d859-9ee5-d7e9-2c5b-41bc-03d8"
      }
     ],
     "next": "4f3cb358-f41e-11ea-9bfc-02420a01001a-14-acf1-8a2d-72fe-3937-ba98-5e60-2f40-6720-7a16-6b01",
     "previous": "98a63e88-d364-11e8-a64b-02420aff0006-20-ec7b-1856-ff8a-d859-9ee5-d7e9-2c5b-41bc-03d8-44fb"
    }
   },
   "outputs": [],
   "source": [
    "target_nodes = 'cwhub_nodes'\n",
    "\n",
    "!ansible -m ping {target_nodes} -l {target_group}"
   ]
  },
  {
   "cell_type": "markdown",
   "metadata": {
    "lc_cell_meme": {
     "current": "4f3cb358-f41e-11ea-9bfc-02420a01001a-14-acf1-8a2d-72fe-3937-ba98-5e60-2f40-6720-7a16-6b01",
     "history": [
      {
       "current": "4f3cb358-f41e-11ea-9bfc-02420a01001a-10-a004-a1c8-b2e0-1fdf-acf1-8a2d-72fe-3937-ba98-5e60",
       "next": "4f3cb470-f41e-11ea-9bfc-02420a01001a-9-0398-f5f9-5b19-573d-ca0c-d6eb-1c17-420a-b088",
       "previous": "f7f67d54-d57f-11e8-a64b-02420aff0006-16-ef1f-dbeb-6c21-eade-5308-560e-4a4d-713b-3d95-e998"
      },
      {
       "current": "4f3cb358-f41e-11ea-9bfc-02420a01001a-11-a1c8-b2e0-1fdf-acf1-8a2d-72fe-3937-ba98-5e60-2f40",
       "next": "4f3cb470-f41e-11ea-9bfc-02420a01001a-10-0398-f5f9-5b19-573d-ca0c-d6eb-1c17-420a-b088-1467",
       "previous": "f7f67d54-d57f-11e8-a64b-02420aff0006-17-dbeb-6c21-eade-5308-560e-4a4d-713b-3d95-e998-032c"
      },
      {
       "current": "4f3cb358-f41e-11ea-9bfc-02420a01001a-12-b2e0-1fdf-acf1-8a2d-72fe-3937-ba98-5e60-2f40-6720",
       "next": "4f3cb470-f41e-11ea-9bfc-02420a01001a-11-f5f9-5b19-573d-ca0c-d6eb-1c17-420a-b088-1467-ece1",
       "previous": "f7f67d54-d57f-11e8-a64b-02420aff0006-18-6c21-eade-5308-560e-4a4d-713b-3d95-e998-032c-c14a"
      },
      {
       "current": "4f3cb358-f41e-11ea-9bfc-02420a01001a-13-1fdf-acf1-8a2d-72fe-3937-ba98-5e60-2f40-6720-7a16",
       "next": "4f3cb470-f41e-11ea-9bfc-02420a01001a-12-5b19-573d-ca0c-d6eb-1c17-420a-b088-1467-ece1-6f60",
       "previous": "f7f67d54-d57f-11e8-a64b-02420aff0006-19-eade-5308-560e-4a4d-713b-3d95-e998-032c-c14a-aff5"
      },
      {
       "current": "4f3cb358-f41e-11ea-9bfc-02420a01001a-14-acf1-8a2d-72fe-3937-ba98-5e60-2f40-6720-7a16-6b01",
       "next": "4f3cb470-f41e-11ea-9bfc-02420a01001a-13-573d-ca0c-d6eb-1c17-420a-b088-1467-ece1-6f60-e649",
       "previous": "f7f67d54-d57f-11e8-a64b-02420aff0006-20-5308-560e-4a4d-713b-3d95-e998-032c-c14a-aff5-10a2"
      }
     ],
     "next": "4f3cb470-f41e-11ea-9bfc-02420a01001a-14-ca0c-d6eb-1c17-420a-b088-1467-ece1-6f60-e649-0b6e",
     "previous": "f7f67d54-d57f-11e8-a64b-02420aff0006-21-560e-4a4d-713b-3d95-e998-032c-c14a-aff5-10a2-ce44"
    }
   },
   "source": [
    "servicenet_ip変数の確認"
   ]
  },
  {
   "cell_type": "code",
   "execution_count": null,
   "metadata": {
    "lc_cell_meme": {
     "current": "4f3cb470-f41e-11ea-9bfc-02420a01001a-14-ca0c-d6eb-1c17-420a-b088-1467-ece1-6f60-e649-0b6e",
     "execution_end_time": "2022-04-28T03:34:36.482965Z",
     "history": [
      {
       "current": "4f3cb470-f41e-11ea-9bfc-02420a01001a-10-0398-f5f9-5b19-573d-ca0c-d6eb-1c17-420a-b088-1467",
       "next": "851dd8fe-1639-11e9-9b3e-02420aff0006-16-97e4-7c43-d778-0341-6ebb-799b-edc0-7eb2-e665-703f",
       "previous": "4f3cb358-f41e-11ea-9bfc-02420a01001a-9-a004-a1c8-b2e0-1fdf-acf1-8a2d-72fe-3937-ba98"
      },
      {
       "current": "4f3cb470-f41e-11ea-9bfc-02420a01001a-11-f5f9-5b19-573d-ca0c-d6eb-1c17-420a-b088-1467-ece1",
       "next": "851dd8fe-1639-11e9-9b3e-02420aff0006-17-7c43-d778-0341-6ebb-799b-edc0-7eb2-e665-703f-6e72",
       "previous": "4f3cb358-f41e-11ea-9bfc-02420a01001a-10-a004-a1c8-b2e0-1fdf-acf1-8a2d-72fe-3937-ba98-5e60"
      },
      {
       "current": "4f3cb470-f41e-11ea-9bfc-02420a01001a-12-5b19-573d-ca0c-d6eb-1c17-420a-b088-1467-ece1-6f60",
       "next": "851dd8fe-1639-11e9-9b3e-02420aff0006-18-d778-0341-6ebb-799b-edc0-7eb2-e665-703f-6e72-2a4b",
       "previous": "4f3cb358-f41e-11ea-9bfc-02420a01001a-11-a1c8-b2e0-1fdf-acf1-8a2d-72fe-3937-ba98-5e60-2f40"
      },
      {
       "current": "4f3cb470-f41e-11ea-9bfc-02420a01001a-13-573d-ca0c-d6eb-1c17-420a-b088-1467-ece1-6f60-e649",
       "next": "851dd8fe-1639-11e9-9b3e-02420aff0006-19-0341-6ebb-799b-edc0-7eb2-e665-703f-6e72-2a4b-68bc",
       "previous": "4f3cb358-f41e-11ea-9bfc-02420a01001a-12-b2e0-1fdf-acf1-8a2d-72fe-3937-ba98-5e60-2f40-6720"
      },
      {
       "current": "4f3cb470-f41e-11ea-9bfc-02420a01001a-14-ca0c-d6eb-1c17-420a-b088-1467-ece1-6f60-e649-0b6e",
       "next": "851dd8fe-1639-11e9-9b3e-02420aff0006-20-6ebb-799b-edc0-7eb2-e665-703f-6e72-2a4b-68bc-4bd0",
       "previous": "4f3cb358-f41e-11ea-9bfc-02420a01001a-13-1fdf-acf1-8a2d-72fe-3937-ba98-5e60-2f40-6720-7a16"
      }
     ],
     "next": "851dd8fe-1639-11e9-9b3e-02420aff0006-21-799b-edc0-7eb2-e665-703f-6e72-2a4b-68bc-4bd0-8489",
     "previous": "4f3cb358-f41e-11ea-9bfc-02420a01001a-14-acf1-8a2d-72fe-3937-ba98-5e60-2f40-6720-7a16-6b01"
    },
    "scrolled": true
   },
   "outputs": [],
   "source": [
    "!ansible -m debug -a 'msg={{{{servicenet_ip}}}}' {target_hub}\n",
    "!ansible -m debug -a 'msg={{{{servicenet_ip}}}}' {target_nodes}"
   ]
  },
  {
   "cell_type": "markdown",
   "metadata": {
    "lc_cell_meme": {
     "current": "851dd8fe-1639-11e9-9b3e-02420aff0006-21-799b-edc0-7eb2-e665-703f-6e72-2a4b-68bc-4bd0-8489",
     "history": [
      {
       "current": "851dd8fe-1639-11e9-9b3e-02420aff0006-17-7c43-d778-0341-6ebb-799b-edc0-7eb2-e665-703f-6e72",
       "next": "77ac611e-db32-11e8-a64b-02420aff0006-16-a824-5f36-18ba-0b67-d93a-c14f-befd-b9e6-13e4-c7c7",
       "previous": "4f3cb470-f41e-11ea-9bfc-02420a01001a-9-0398-f5f9-5b19-573d-ca0c-d6eb-1c17-420a-b088"
      },
      {
       "current": "851dd8fe-1639-11e9-9b3e-02420aff0006-18-d778-0341-6ebb-799b-edc0-7eb2-e665-703f-6e72-2a4b",
       "next": "77ac611e-db32-11e8-a64b-02420aff0006-17-5f36-18ba-0b67-d93a-c14f-befd-b9e6-13e4-c7c7-8e35",
       "previous": "4f3cb470-f41e-11ea-9bfc-02420a01001a-10-0398-f5f9-5b19-573d-ca0c-d6eb-1c17-420a-b088-1467"
      },
      {
       "current": "851dd8fe-1639-11e9-9b3e-02420aff0006-19-0341-6ebb-799b-edc0-7eb2-e665-703f-6e72-2a4b-68bc",
       "next": "77ac611e-db32-11e8-a64b-02420aff0006-18-18ba-0b67-d93a-c14f-befd-b9e6-13e4-c7c7-8e35-d5ee",
       "previous": "4f3cb470-f41e-11ea-9bfc-02420a01001a-11-f5f9-5b19-573d-ca0c-d6eb-1c17-420a-b088-1467-ece1"
      },
      {
       "current": "851dd8fe-1639-11e9-9b3e-02420aff0006-20-6ebb-799b-edc0-7eb2-e665-703f-6e72-2a4b-68bc-4bd0",
       "next": "77ac611e-db32-11e8-a64b-02420aff0006-19-0b67-d93a-c14f-befd-b9e6-13e4-c7c7-8e35-d5ee-7004",
       "previous": "4f3cb470-f41e-11ea-9bfc-02420a01001a-12-5b19-573d-ca0c-d6eb-1c17-420a-b088-1467-ece1-6f60"
      },
      {
       "current": "851dd8fe-1639-11e9-9b3e-02420aff0006-21-799b-edc0-7eb2-e665-703f-6e72-2a4b-68bc-4bd0-8489",
       "next": "77ac611e-db32-11e8-a64b-02420aff0006-20-d93a-c14f-befd-b9e6-13e4-c7c7-8e35-d5ee-7004-e7f8",
       "previous": "4f3cb470-f41e-11ea-9bfc-02420a01001a-13-573d-ca0c-d6eb-1c17-420a-b088-1467-ece1-6f60-e649"
      }
     ],
     "next": "77ac611e-db32-11e8-a64b-02420aff0006-21-c14f-befd-b9e6-13e4-c7c7-8e35-d5ee-7004-e7f8-1c43",
     "previous": "4f3cb470-f41e-11ea-9bfc-02420a01001a-14-ca0c-d6eb-1c17-420a-b088-1467-ece1-6f60-e649-0b6e"
    }
   },
   "source": [
    "# JupyterHubの準備"
   ]
  },
  {
   "cell_type": "code",
   "execution_count": null,
   "metadata": {
    "lc_cell_meme": {
     "current": "77ac611e-db32-11e8-a64b-02420aff0006-21-c14f-befd-b9e6-13e4-c7c7-8e35-d5ee-7004-e7f8-1c43",
     "execution_end_time": "2022-04-28T03:34:36.593382Z",
     "history": [
      {
       "current": "77ac611e-db32-11e8-a64b-02420aff0006-17-5f36-18ba-0b67-d93a-c14f-befd-b9e6-13e4-c7c7-8e35",
       "next": "8d20f426-d5c2-11e8-a64b-02420aff0006-16-47d5-e089-885e-83bd-895f-21e2-f46f-ccbb-8f4b-9ffb",
       "previous": "851dd8fe-1639-11e9-9b3e-02420aff0006-16-97e4-7c43-d778-0341-6ebb-799b-edc0-7eb2-e665-703f"
      },
      {
       "current": "77ac611e-db32-11e8-a64b-02420aff0006-18-18ba-0b67-d93a-c14f-befd-b9e6-13e4-c7c7-8e35-d5ee",
       "next": "8d20f426-d5c2-11e8-a64b-02420aff0006-17-e089-885e-83bd-895f-21e2-f46f-ccbb-8f4b-9ffb-13c2",
       "previous": "851dd8fe-1639-11e9-9b3e-02420aff0006-17-7c43-d778-0341-6ebb-799b-edc0-7eb2-e665-703f-6e72"
      },
      {
       "current": "77ac611e-db32-11e8-a64b-02420aff0006-19-0b67-d93a-c14f-befd-b9e6-13e4-c7c7-8e35-d5ee-7004",
       "next": "8d20f426-d5c2-11e8-a64b-02420aff0006-18-885e-83bd-895f-21e2-f46f-ccbb-8f4b-9ffb-13c2-391c",
       "previous": "851dd8fe-1639-11e9-9b3e-02420aff0006-18-d778-0341-6ebb-799b-edc0-7eb2-e665-703f-6e72-2a4b"
      },
      {
       "current": "77ac611e-db32-11e8-a64b-02420aff0006-20-d93a-c14f-befd-b9e6-13e4-c7c7-8e35-d5ee-7004-e7f8",
       "next": "8d20f426-d5c2-11e8-a64b-02420aff0006-19-83bd-895f-21e2-f46f-ccbb-8f4b-9ffb-13c2-391c-1541",
       "previous": "851dd8fe-1639-11e9-9b3e-02420aff0006-19-0341-6ebb-799b-edc0-7eb2-e665-703f-6e72-2a4b-68bc"
      },
      {
       "current": "77ac611e-db32-11e8-a64b-02420aff0006-21-c14f-befd-b9e6-13e4-c7c7-8e35-d5ee-7004-e7f8-1c43",
       "next": "8d20f426-d5c2-11e8-a64b-02420aff0006-20-895f-21e2-f46f-ccbb-8f4b-9ffb-13c2-391c-1541-9fa4",
       "previous": "851dd8fe-1639-11e9-9b3e-02420aff0006-20-6ebb-799b-edc0-7eb2-e665-703f-6e72-2a4b-68bc-4bd0"
      }
     ],
     "next": "8d20f426-d5c2-11e8-a64b-02420aff0006-21-21e2-f46f-ccbb-8f4b-9ffb-13c2-391c-1541-9fa4-1f17",
     "previous": "851dd8fe-1639-11e9-9b3e-02420aff0006-21-799b-edc0-7eb2-e665-703f-6e72-2a4b-68bc-4bd0-8489"
    }
   },
   "outputs": [],
   "source": [
    "import time\n",
    "import os.path\n",
    "import yaml"
   ]
  },
  {
   "cell_type": "code",
   "execution_count": null,
   "metadata": {
    "lc_cell_meme": {
     "current": "8d20f426-d5c2-11e8-a64b-02420aff0006-21-21e2-f46f-ccbb-8f4b-9ffb-13c2-391c-1541-9fa4-1f17",
     "execution_end_time": "2022-04-28T03:34:38.144262Z",
     "history": [
      {
       "current": "8d20f426-d5c2-11e8-a64b-02420aff0006-17-e089-885e-83bd-895f-21e2-f46f-ccbb-8f4b-9ffb-13c2",
       "next": "9cc69c6c-1728-11e9-9b3e-02420aff0006-16-716c-212b-e8e6-186c-0267-1f17-78f0-6a32-e82c-7e88",
       "previous": "77ac611e-db32-11e8-a64b-02420aff0006-16-a824-5f36-18ba-0b67-d93a-c14f-befd-b9e6-13e4-c7c7"
      },
      {
       "current": "8d20f426-d5c2-11e8-a64b-02420aff0006-18-885e-83bd-895f-21e2-f46f-ccbb-8f4b-9ffb-13c2-391c",
       "next": "9cc69c6c-1728-11e9-9b3e-02420aff0006-17-212b-e8e6-186c-0267-1f17-78f0-6a32-e82c-7e88-1a93",
       "previous": "77ac611e-db32-11e8-a64b-02420aff0006-17-5f36-18ba-0b67-d93a-c14f-befd-b9e6-13e4-c7c7-8e35"
      },
      {
       "current": "8d20f426-d5c2-11e8-a64b-02420aff0006-19-83bd-895f-21e2-f46f-ccbb-8f4b-9ffb-13c2-391c-1541",
       "next": "9cc69c6c-1728-11e9-9b3e-02420aff0006-18-e8e6-186c-0267-1f17-78f0-6a32-e82c-7e88-1a93-9f53",
       "previous": "77ac611e-db32-11e8-a64b-02420aff0006-18-18ba-0b67-d93a-c14f-befd-b9e6-13e4-c7c7-8e35-d5ee"
      },
      {
       "current": "8d20f426-d5c2-11e8-a64b-02420aff0006-20-895f-21e2-f46f-ccbb-8f4b-9ffb-13c2-391c-1541-9fa4",
       "next": "9cc69c6c-1728-11e9-9b3e-02420aff0006-19-186c-0267-1f17-78f0-6a32-e82c-7e88-1a93-9f53-75cd",
       "previous": "77ac611e-db32-11e8-a64b-02420aff0006-19-0b67-d93a-c14f-befd-b9e6-13e4-c7c7-8e35-d5ee-7004"
      },
      {
       "current": "8d20f426-d5c2-11e8-a64b-02420aff0006-21-21e2-f46f-ccbb-8f4b-9ffb-13c2-391c-1541-9fa4-1f17",
       "next": "9cc69c6c-1728-11e9-9b3e-02420aff0006-20-0267-1f17-78f0-6a32-e82c-7e88-1a93-9f53-75cd-62e9",
       "previous": "77ac611e-db32-11e8-a64b-02420aff0006-20-d93a-c14f-befd-b9e6-13e4-c7c7-8e35-d5ee-7004-e7f8"
      }
     ],
     "next": "9cc69c6c-1728-11e9-9b3e-02420aff0006-21-1f17-78f0-6a32-e82c-7e88-1a93-9f53-75cd-62e9-2f19",
     "previous": "77ac611e-db32-11e8-a64b-02420aff0006-21-c14f-befd-b9e6-13e4-c7c7-8e35-d5ee-7004-e7f8-1c43"
    }
   },
   "outputs": [],
   "source": [
    "default_user = !ansible -a whoami {target_hub}\n",
    "default_user = default_user[1]\n",
    "default_user"
   ]
  },
  {
   "cell_type": "markdown",
   "metadata": {
    "lc_cell_meme": {
     "current": "9cc69c6c-1728-11e9-9b3e-02420aff0006-21-1f17-78f0-6a32-e82c-7e88-1a93-9f53-75cd-62e9-2f19",
     "history": [
      {
       "current": "9cc69c6c-1728-11e9-9b3e-02420aff0006-17-212b-e8e6-186c-0267-1f17-78f0-6a32-e82c-7e88-1a93",
       "next": "8fde5eba-470a-11e9-8bae-0242ac130002-16-c0d9-ec0c-8531-5875-0b7c-9406-500c-d045-b249-2b4c",
       "previous": "8d20f426-d5c2-11e8-a64b-02420aff0006-16-47d5-e089-885e-83bd-895f-21e2-f46f-ccbb-8f4b-9ffb"
      },
      {
       "current": "9cc69c6c-1728-11e9-9b3e-02420aff0006-18-e8e6-186c-0267-1f17-78f0-6a32-e82c-7e88-1a93-9f53",
       "next": "8fde5eba-470a-11e9-8bae-0242ac130002-17-ec0c-8531-5875-0b7c-9406-500c-d045-b249-2b4c-1199",
       "previous": "8d20f426-d5c2-11e8-a64b-02420aff0006-17-e089-885e-83bd-895f-21e2-f46f-ccbb-8f4b-9ffb-13c2"
      },
      {
       "current": "9cc69c6c-1728-11e9-9b3e-02420aff0006-19-186c-0267-1f17-78f0-6a32-e82c-7e88-1a93-9f53-75cd",
       "next": "8fde5eba-470a-11e9-8bae-0242ac130002-18-8531-5875-0b7c-9406-500c-d045-b249-2b4c-1199-ef0d",
       "previous": "8d20f426-d5c2-11e8-a64b-02420aff0006-18-885e-83bd-895f-21e2-f46f-ccbb-8f4b-9ffb-13c2-391c"
      },
      {
       "current": "9cc69c6c-1728-11e9-9b3e-02420aff0006-20-0267-1f17-78f0-6a32-e82c-7e88-1a93-9f53-75cd-62e9",
       "next": "8fde5eba-470a-11e9-8bae-0242ac130002-19-5875-0b7c-9406-500c-d045-b249-2b4c-1199-ef0d-04ae",
       "previous": "8d20f426-d5c2-11e8-a64b-02420aff0006-19-83bd-895f-21e2-f46f-ccbb-8f4b-9ffb-13c2-391c-1541"
      },
      {
       "current": "9cc69c6c-1728-11e9-9b3e-02420aff0006-21-1f17-78f0-6a32-e82c-7e88-1a93-9f53-75cd-62e9-2f19",
       "next": "8fde5eba-470a-11e9-8bae-0242ac130002-20-0b7c-9406-500c-d045-b249-2b4c-1199-ef0d-04ae-2df7",
       "previous": "8d20f426-d5c2-11e8-a64b-02420aff0006-20-895f-21e2-f46f-ccbb-8f4b-9ffb-13c2-391c-1541-9fa4"
      }
     ],
     "next": "8fde5eba-470a-11e9-8bae-0242ac130002-21-9406-500c-d045-b249-2b4c-1199-ef0d-04ae-2df7-282d",
     "previous": "8d20f426-d5c2-11e8-a64b-02420aff0006-21-21e2-f46f-ccbb-8f4b-9ffb-13c2-391c-1541-9fa4-1f17"
    }
   },
   "source": [
    "## restuserのインストール"
   ]
  },
  {
   "cell_type": "code",
   "execution_count": null,
   "metadata": {
    "lc_cell_meme": {
     "current": "8fde5eba-470a-11e9-8bae-0242ac130002-21-9406-500c-d045-b249-2b4c-1199-ef0d-04ae-2df7-282d",
     "execution_end_time": "2022-04-28T03:34:41.683449Z",
     "history": [
      {
       "current": "8fde5eba-470a-11e9-8bae-0242ac130002-17-ec0c-8531-5875-0b7c-9406-500c-d045-b249-2b4c-1199",
       "next": "8bf0b8b8-4671-11ea-a1a6-0242ac120002-16-d915-e8a4-e1f6-7945-e2fe-446d-ba0b-8d46-b637-73e1",
       "previous": "9cc69c6c-1728-11e9-9b3e-02420aff0006-16-716c-212b-e8e6-186c-0267-1f17-78f0-6a32-e82c-7e88"
      },
      {
       "current": "8fde5eba-470a-11e9-8bae-0242ac130002-18-8531-5875-0b7c-9406-500c-d045-b249-2b4c-1199-ef0d",
       "next": "8bf0b8b8-4671-11ea-a1a6-0242ac120002-17-e8a4-e1f6-7945-e2fe-446d-ba0b-8d46-b637-73e1-1e8f",
       "previous": "9cc69c6c-1728-11e9-9b3e-02420aff0006-17-212b-e8e6-186c-0267-1f17-78f0-6a32-e82c-7e88-1a93"
      },
      {
       "current": "8fde5eba-470a-11e9-8bae-0242ac130002-19-5875-0b7c-9406-500c-d045-b249-2b4c-1199-ef0d-04ae",
       "next": "8bf0b8b8-4671-11ea-a1a6-0242ac120002-18-e1f6-7945-e2fe-446d-ba0b-8d46-b637-73e1-1e8f-eb65",
       "previous": "9cc69c6c-1728-11e9-9b3e-02420aff0006-18-e8e6-186c-0267-1f17-78f0-6a32-e82c-7e88-1a93-9f53"
      },
      {
       "current": "8fde5eba-470a-11e9-8bae-0242ac130002-20-0b7c-9406-500c-d045-b249-2b4c-1199-ef0d-04ae-2df7",
       "next": "8bf0b8b8-4671-11ea-a1a6-0242ac120002-19-7945-e2fe-446d-ba0b-8d46-b637-73e1-1e8f-eb65-40ec",
       "previous": "9cc69c6c-1728-11e9-9b3e-02420aff0006-19-186c-0267-1f17-78f0-6a32-e82c-7e88-1a93-9f53-75cd"
      },
      {
       "current": "8fde5eba-470a-11e9-8bae-0242ac130002-21-9406-500c-d045-b249-2b4c-1199-ef0d-04ae-2df7-282d",
       "next": "8bf0b8b8-4671-11ea-a1a6-0242ac120002-20-e2fe-446d-ba0b-8d46-b637-73e1-1e8f-eb65-40ec-90fa",
       "previous": "9cc69c6c-1728-11e9-9b3e-02420aff0006-20-0267-1f17-78f0-6a32-e82c-7e88-1a93-9f53-75cd-62e9"
      }
     ],
     "next": "8bf0b8b8-4671-11ea-a1a6-0242ac120002-21-446d-ba0b-8d46-b637-73e1-1e8f-eb65-40ec-90fa-5988",
     "previous": "9cc69c6c-1728-11e9-9b3e-02420aff0006-21-1f17-78f0-6a32-e82c-7e88-1a93-9f53-75cd-62e9-2f19"
    }
   },
   "outputs": [],
   "source": [
    "!rm -fr {work_dir}/jupyterhub-deploy\n",
    "!git clone https://github.com/NII-cloud-operation/CoursewareHub-LC_jupyterhub-deploy.git {work_dir}/jupyterhub-deploy"
   ]
  },
  {
   "cell_type": "code",
   "execution_count": null,
   "metadata": {
    "lc_cell_meme": {
     "current": "8bf0b8b8-4671-11ea-a1a6-0242ac120002-21-446d-ba0b-8d46-b637-73e1-1e8f-eb65-40ec-90fa-5988",
     "execution_end_time": "2022-04-28T03:34:42.820005Z",
     "history": [
      {
       "current": "8bf0b8b8-4671-11ea-a1a6-0242ac120002-17-e8a4-e1f6-7945-e2fe-446d-ba0b-8d46-b637-73e1-1e8f",
       "next": "9cc69636-1728-11e9-9b3e-02420aff0006-16-a1b5-4ba9-51a8-bf2f-3834-9f69-f37b-f774-9dde-6e7f",
       "previous": "8fde5eba-470a-11e9-8bae-0242ac130002-16-c0d9-ec0c-8531-5875-0b7c-9406-500c-d045-b249-2b4c"
      },
      {
       "current": "8bf0b8b8-4671-11ea-a1a6-0242ac120002-18-e1f6-7945-e2fe-446d-ba0b-8d46-b637-73e1-1e8f-eb65",
       "next": "9cc69636-1728-11e9-9b3e-02420aff0006-17-4ba9-51a8-bf2f-3834-9f69-f37b-f774-9dde-6e7f-ddbc",
       "previous": "8fde5eba-470a-11e9-8bae-0242ac130002-17-ec0c-8531-5875-0b7c-9406-500c-d045-b249-2b4c-1199"
      },
      {
       "current": "8bf0b8b8-4671-11ea-a1a6-0242ac120002-19-7945-e2fe-446d-ba0b-8d46-b637-73e1-1e8f-eb65-40ec",
       "next": "9cc69636-1728-11e9-9b3e-02420aff0006-18-51a8-bf2f-3834-9f69-f37b-f774-9dde-6e7f-ddbc-34da",
       "previous": "8fde5eba-470a-11e9-8bae-0242ac130002-18-8531-5875-0b7c-9406-500c-d045-b249-2b4c-1199-ef0d"
      },
      {
       "current": "8bf0b8b8-4671-11ea-a1a6-0242ac120002-20-e2fe-446d-ba0b-8d46-b637-73e1-1e8f-eb65-40ec-90fa",
       "next": "9cc69636-1728-11e9-9b3e-02420aff0006-19-bf2f-3834-9f69-f37b-f774-9dde-6e7f-ddbc-34da-29bd",
       "previous": "8fde5eba-470a-11e9-8bae-0242ac130002-19-5875-0b7c-9406-500c-d045-b249-2b4c-1199-ef0d-04ae"
      },
      {
       "current": "8bf0b8b8-4671-11ea-a1a6-0242ac120002-21-446d-ba0b-8d46-b637-73e1-1e8f-eb65-40ec-90fa-5988",
       "next": "9cc69636-1728-11e9-9b3e-02420aff0006-20-3834-9f69-f37b-f774-9dde-6e7f-ddbc-34da-29bd-6771",
       "previous": "8fde5eba-470a-11e9-8bae-0242ac130002-20-0b7c-9406-500c-d045-b249-2b4c-1199-ef0d-04ae-2df7"
      }
     ],
     "next": "9cc69636-1728-11e9-9b3e-02420aff0006-21-9f69-f37b-f774-9dde-6e7f-ddbc-34da-29bd-6771-e5f8",
     "previous": "8fde5eba-470a-11e9-8bae-0242ac130002-21-9406-500c-d045-b249-2b4c-1199-ef0d-04ae-2df7-282d"
    },
    "scrolled": true
   },
   "outputs": [],
   "source": [
    "!cd {work_dir}/jupyterhub-deploy && git log -n 5"
   ]
  },
  {
   "cell_type": "code",
   "execution_count": null,
   "metadata": {
    "lc_cell_meme": {
     "current": "9cc69636-1728-11e9-9b3e-02420aff0006-21-9f69-f37b-f774-9dde-6e7f-ddbc-34da-29bd-6771-e5f8",
     "execution_end_time": "2022-04-28T03:34:44.052335Z",
     "history": [
      {
       "current": "9cc69636-1728-11e9-9b3e-02420aff0006-17-4ba9-51a8-bf2f-3834-9f69-f37b-f774-9dde-6e7f-ddbc",
       "next": "9cc69cee-1728-11e9-9b3e-02420aff0006-16-16b1-a2cb-2476-c900-b1a7-4cbf-62e8-660b-a9f8-2ed6",
       "previous": "8bf0b8b8-4671-11ea-a1a6-0242ac120002-16-d915-e8a4-e1f6-7945-e2fe-446d-ba0b-8d46-b637-73e1"
      },
      {
       "current": "9cc69636-1728-11e9-9b3e-02420aff0006-18-51a8-bf2f-3834-9f69-f37b-f774-9dde-6e7f-ddbc-34da",
       "next": "9cc69cee-1728-11e9-9b3e-02420aff0006-17-a2cb-2476-c900-b1a7-4cbf-62e8-660b-a9f8-2ed6-7d64",
       "previous": "8bf0b8b8-4671-11ea-a1a6-0242ac120002-17-e8a4-e1f6-7945-e2fe-446d-ba0b-8d46-b637-73e1-1e8f"
      },
      {
       "current": "9cc69636-1728-11e9-9b3e-02420aff0006-19-bf2f-3834-9f69-f37b-f774-9dde-6e7f-ddbc-34da-29bd",
       "next": "9cc69cee-1728-11e9-9b3e-02420aff0006-18-2476-c900-b1a7-4cbf-62e8-660b-a9f8-2ed6-7d64-7240",
       "previous": "8bf0b8b8-4671-11ea-a1a6-0242ac120002-18-e1f6-7945-e2fe-446d-ba0b-8d46-b637-73e1-1e8f-eb65"
      },
      {
       "current": "9cc69636-1728-11e9-9b3e-02420aff0006-20-3834-9f69-f37b-f774-9dde-6e7f-ddbc-34da-29bd-6771",
       "next": "9cc69cee-1728-11e9-9b3e-02420aff0006-19-c900-b1a7-4cbf-62e8-660b-a9f8-2ed6-7d64-7240-f930",
       "previous": "8bf0b8b8-4671-11ea-a1a6-0242ac120002-19-7945-e2fe-446d-ba0b-8d46-b637-73e1-1e8f-eb65-40ec"
      },
      {
       "current": "9cc69636-1728-11e9-9b3e-02420aff0006-21-9f69-f37b-f774-9dde-6e7f-ddbc-34da-29bd-6771-e5f8",
       "next": "9cc69cee-1728-11e9-9b3e-02420aff0006-20-b1a7-4cbf-62e8-660b-a9f8-2ed6-7d64-7240-f930-1d37",
       "previous": "8bf0b8b8-4671-11ea-a1a6-0242ac120002-20-e2fe-446d-ba0b-8d46-b637-73e1-1e8f-eb65-40ec-90fa"
      }
     ],
     "next": "9cc69cee-1728-11e9-9b3e-02420aff0006-21-4cbf-62e8-660b-a9f8-2ed6-7d64-7240-f930-1d37-c407",
     "previous": "8bf0b8b8-4671-11ea-a1a6-0242ac120002-21-446d-ba0b-8d46-b637-73e1-1e8f-eb65-40ec-90fa-5988"
    }
   },
   "outputs": [],
   "source": [
    "!tree {work_dir}/jupyterhub-deploy/roles/restuser"
   ]
  },
  {
   "cell_type": "code",
   "execution_count": null,
   "metadata": {
    "lc_cell_meme": {
     "current": "9cc69cee-1728-11e9-9b3e-02420aff0006-21-4cbf-62e8-660b-a9f8-2ed6-7d64-7240-f930-1d37-c407",
     "execution_end_time": "2022-04-28T03:34:45.260073Z",
     "history": [
      {
       "current": "9cc69cee-1728-11e9-9b3e-02420aff0006-17-a2cb-2476-c900-b1a7-4cbf-62e8-660b-a9f8-2ed6-7d64",
       "next": "9cc69d70-1728-11e9-9b3e-02420aff0006-16-61a5-1251-f8b8-97cf-118b-94c6-1bd2-88e7-7ead-4578",
       "previous": "9cc69636-1728-11e9-9b3e-02420aff0006-16-a1b5-4ba9-51a8-bf2f-3834-9f69-f37b-f774-9dde-6e7f"
      },
      {
       "current": "9cc69cee-1728-11e9-9b3e-02420aff0006-18-2476-c900-b1a7-4cbf-62e8-660b-a9f8-2ed6-7d64-7240",
       "next": "9cc69d70-1728-11e9-9b3e-02420aff0006-17-1251-f8b8-97cf-118b-94c6-1bd2-88e7-7ead-4578-92e0",
       "previous": "9cc69636-1728-11e9-9b3e-02420aff0006-17-4ba9-51a8-bf2f-3834-9f69-f37b-f774-9dde-6e7f-ddbc"
      },
      {
       "current": "9cc69cee-1728-11e9-9b3e-02420aff0006-19-c900-b1a7-4cbf-62e8-660b-a9f8-2ed6-7d64-7240-f930",
       "next": "9cc69d70-1728-11e9-9b3e-02420aff0006-18-f8b8-97cf-118b-94c6-1bd2-88e7-7ead-4578-92e0-314a",
       "previous": "9cc69636-1728-11e9-9b3e-02420aff0006-18-51a8-bf2f-3834-9f69-f37b-f774-9dde-6e7f-ddbc-34da"
      },
      {
       "current": "9cc69cee-1728-11e9-9b3e-02420aff0006-20-b1a7-4cbf-62e8-660b-a9f8-2ed6-7d64-7240-f930-1d37",
       "next": "9cc69d70-1728-11e9-9b3e-02420aff0006-19-97cf-118b-94c6-1bd2-88e7-7ead-4578-92e0-314a-72f3",
       "previous": "9cc69636-1728-11e9-9b3e-02420aff0006-19-bf2f-3834-9f69-f37b-f774-9dde-6e7f-ddbc-34da-29bd"
      },
      {
       "current": "9cc69cee-1728-11e9-9b3e-02420aff0006-21-4cbf-62e8-660b-a9f8-2ed6-7d64-7240-f930-1d37-c407",
       "next": "9cc69d70-1728-11e9-9b3e-02420aff0006-20-118b-94c6-1bd2-88e7-7ead-4578-92e0-314a-72f3-be05",
       "previous": "9cc69636-1728-11e9-9b3e-02420aff0006-20-3834-9f69-f37b-f774-9dde-6e7f-ddbc-34da-29bd-6771"
      }
     ],
     "next": "9cc69d70-1728-11e9-9b3e-02420aff0006-21-94c6-1bd2-88e7-7ead-4578-92e0-314a-72f3-be05-618a",
     "previous": "9cc69636-1728-11e9-9b3e-02420aff0006-21-9f69-f37b-f774-9dde-6e7f-ddbc-34da-29bd-6771-e5f8"
    }
   },
   "outputs": [],
   "source": [
    "with open(os.path.join(work_dir, 'jupyterhub-deploy/install-restuser.yml'), 'w') as f:\n",
    "    f.write(yaml.dump([{'hosts': target_hub,\n",
    "                       'become': True,\n",
    "                       'roles': ['restuser']}]))\n",
    "!cat {work_dir}/jupyterhub-deploy/install-restuser.yml"
   ]
  },
  {
   "cell_type": "code",
   "execution_count": null,
   "metadata": {
    "lc_cell_meme": {
     "current": "9cc69d70-1728-11e9-9b3e-02420aff0006-21-94c6-1bd2-88e7-7ead-4578-92e0-314a-72f3-be05-618a",
     "execution_end_time": "2022-04-28T03:34:52.636984Z",
     "history": [
      {
       "current": "9cc69d70-1728-11e9-9b3e-02420aff0006-17-1251-f8b8-97cf-118b-94c6-1bd2-88e7-7ead-4578-92e0",
       "next": "05179ab4-1a30-11e9-99c7-02420aff0008-16-db09-b4d8-5ad1-a118-83e1-cd85-a912-6502-363c-55ae",
       "previous": "9cc69cee-1728-11e9-9b3e-02420aff0006-16-16b1-a2cb-2476-c900-b1a7-4cbf-62e8-660b-a9f8-2ed6"
      },
      {
       "current": "9cc69d70-1728-11e9-9b3e-02420aff0006-18-f8b8-97cf-118b-94c6-1bd2-88e7-7ead-4578-92e0-314a",
       "next": "05179ab4-1a30-11e9-99c7-02420aff0008-17-b4d8-5ad1-a118-83e1-cd85-a912-6502-363c-55ae-ac8c",
       "previous": "9cc69cee-1728-11e9-9b3e-02420aff0006-17-a2cb-2476-c900-b1a7-4cbf-62e8-660b-a9f8-2ed6-7d64"
      },
      {
       "current": "9cc69d70-1728-11e9-9b3e-02420aff0006-19-97cf-118b-94c6-1bd2-88e7-7ead-4578-92e0-314a-72f3",
       "next": "05179ab4-1a30-11e9-99c7-02420aff0008-18-5ad1-a118-83e1-cd85-a912-6502-363c-55ae-ac8c-d938",
       "previous": "9cc69cee-1728-11e9-9b3e-02420aff0006-18-2476-c900-b1a7-4cbf-62e8-660b-a9f8-2ed6-7d64-7240"
      },
      {
       "current": "9cc69d70-1728-11e9-9b3e-02420aff0006-20-118b-94c6-1bd2-88e7-7ead-4578-92e0-314a-72f3-be05",
       "next": "05179ab4-1a30-11e9-99c7-02420aff0008-19-a118-83e1-cd85-a912-6502-363c-55ae-ac8c-d938-2234",
       "previous": "9cc69cee-1728-11e9-9b3e-02420aff0006-19-c900-b1a7-4cbf-62e8-660b-a9f8-2ed6-7d64-7240-f930"
      },
      {
       "current": "9cc69d70-1728-11e9-9b3e-02420aff0006-21-94c6-1bd2-88e7-7ead-4578-92e0-314a-72f3-be05-618a",
       "next": "05179ab4-1a30-11e9-99c7-02420aff0008-20-83e1-cd85-a912-6502-363c-55ae-ac8c-d938-2234-7115",
       "previous": "9cc69cee-1728-11e9-9b3e-02420aff0006-20-b1a7-4cbf-62e8-660b-a9f8-2ed6-7d64-7240-f930-1d37"
      }
     ],
     "next": "05179ab4-1a30-11e9-99c7-02420aff0008-21-cd85-a912-6502-363c-55ae-ac8c-d938-2234-7115-7c0d",
     "previous": "9cc69cee-1728-11e9-9b3e-02420aff0006-21-4cbf-62e8-660b-a9f8-2ed6-7d64-7240-f930-1d37-c407"
    },
    "scrolled": true
   },
   "outputs": [],
   "source": [
    "!ansible-playbook -l {target_group} -CDv {work_dir}/jupyterhub-deploy/install-restuser.yml ;:"
   ]
  },
  {
   "cell_type": "markdown",
   "metadata": {
    "lc_cell_meme": {
     "current": "05179ab4-1a30-11e9-99c7-02420aff0008-21-cd85-a912-6502-363c-55ae-ac8c-d938-2234-7115-7c0d",
     "history": [
      {
       "current": "05179ab4-1a30-11e9-99c7-02420aff0008-17-b4d8-5ad1-a118-83e1-cd85-a912-6502-363c-55ae-ac8c",
       "next": "9cc69df2-1728-11e9-9b3e-02420aff0006-16-b84c-2a27-fed6-7193-9e7f-f534-1e8e-f8f7-e351-d5ec",
       "previous": "9cc69d70-1728-11e9-9b3e-02420aff0006-16-61a5-1251-f8b8-97cf-118b-94c6-1bd2-88e7-7ead-4578"
      },
      {
       "current": "05179ab4-1a30-11e9-99c7-02420aff0008-18-5ad1-a118-83e1-cd85-a912-6502-363c-55ae-ac8c-d938",
       "next": "9cc69df2-1728-11e9-9b3e-02420aff0006-17-2a27-fed6-7193-9e7f-f534-1e8e-f8f7-e351-d5ec-9dac",
       "previous": "9cc69d70-1728-11e9-9b3e-02420aff0006-17-1251-f8b8-97cf-118b-94c6-1bd2-88e7-7ead-4578-92e0"
      },
      {
       "current": "05179ab4-1a30-11e9-99c7-02420aff0008-19-a118-83e1-cd85-a912-6502-363c-55ae-ac8c-d938-2234",
       "next": "9cc69df2-1728-11e9-9b3e-02420aff0006-18-fed6-7193-9e7f-f534-1e8e-f8f7-e351-d5ec-9dac-6039",
       "previous": "9cc69d70-1728-11e9-9b3e-02420aff0006-18-f8b8-97cf-118b-94c6-1bd2-88e7-7ead-4578-92e0-314a"
      },
      {
       "current": "05179ab4-1a30-11e9-99c7-02420aff0008-20-83e1-cd85-a912-6502-363c-55ae-ac8c-d938-2234-7115",
       "next": "9cc69df2-1728-11e9-9b3e-02420aff0006-19-7193-9e7f-f534-1e8e-f8f7-e351-d5ec-9dac-6039-45b3",
       "previous": "9cc69d70-1728-11e9-9b3e-02420aff0006-19-97cf-118b-94c6-1bd2-88e7-7ead-4578-92e0-314a-72f3"
      },
      {
       "current": "05179ab4-1a30-11e9-99c7-02420aff0008-21-cd85-a912-6502-363c-55ae-ac8c-d938-2234-7115-7c0d",
       "next": "9cc69df2-1728-11e9-9b3e-02420aff0006-20-9e7f-f534-1e8e-f8f7-e351-d5ec-9dac-6039-45b3-d47d",
       "previous": "9cc69d70-1728-11e9-9b3e-02420aff0006-20-118b-94c6-1bd2-88e7-7ead-4578-92e0-314a-72f3-be05"
      }
     ],
     "next": "9cc69df2-1728-11e9-9b3e-02420aff0006-21-f534-1e8e-f8f7-e351-d5ec-9dac-6039-45b3-d47d-befc",
     "previous": "9cc69d70-1728-11e9-9b3e-02420aff0006-21-94c6-1bd2-88e7-7ead-4578-92e0-314a-72f3-be05-618a"
    }
   },
   "source": [
    "`epel-release`がdry-runではインストールされないので、`python-pip`のインストールに失敗するのは問題無い。\n",
    "\n",
    "対象が正しいことを確認して実行する。"
   ]
  },
  {
   "cell_type": "code",
   "execution_count": null,
   "metadata": {
    "lc_cell_meme": {
     "current": "9cc69df2-1728-11e9-9b3e-02420aff0006-21-f534-1e8e-f8f7-e351-d5ec-9dac-6039-45b3-d47d-befc",
     "execution_end_time": "2022-04-28T03:46:05.915121Z",
     "history": [
      {
       "current": "9cc69df2-1728-11e9-9b3e-02420aff0006-17-2a27-fed6-7193-9e7f-f534-1e8e-f8f7-e351-d5ec-9dac",
       "next": "58f3bbc4-1f97-11e9-99c7-02420aff0008-16-93e7-1d91-7744-20a2-ff4d-bac8-a659-420c-8e25-1098",
       "previous": "05179ab4-1a30-11e9-99c7-02420aff0008-16-db09-b4d8-5ad1-a118-83e1-cd85-a912-6502-363c-55ae"
      },
      {
       "current": "9cc69df2-1728-11e9-9b3e-02420aff0006-18-fed6-7193-9e7f-f534-1e8e-f8f7-e351-d5ec-9dac-6039",
       "next": "58f3bbc4-1f97-11e9-99c7-02420aff0008-17-1d91-7744-20a2-ff4d-bac8-a659-420c-8e25-1098-0447",
       "previous": "05179ab4-1a30-11e9-99c7-02420aff0008-17-b4d8-5ad1-a118-83e1-cd85-a912-6502-363c-55ae-ac8c"
      },
      {
       "current": "9cc69df2-1728-11e9-9b3e-02420aff0006-19-7193-9e7f-f534-1e8e-f8f7-e351-d5ec-9dac-6039-45b3",
       "next": "58f3bbc4-1f97-11e9-99c7-02420aff0008-18-7744-20a2-ff4d-bac8-a659-420c-8e25-1098-0447-611d",
       "previous": "05179ab4-1a30-11e9-99c7-02420aff0008-18-5ad1-a118-83e1-cd85-a912-6502-363c-55ae-ac8c-d938"
      },
      {
       "current": "9cc69df2-1728-11e9-9b3e-02420aff0006-20-9e7f-f534-1e8e-f8f7-e351-d5ec-9dac-6039-45b3-d47d",
       "next": "58f3bbc4-1f97-11e9-99c7-02420aff0008-19-20a2-ff4d-bac8-a659-420c-8e25-1098-0447-611d-68f4",
       "previous": "05179ab4-1a30-11e9-99c7-02420aff0008-19-a118-83e1-cd85-a912-6502-363c-55ae-ac8c-d938-2234"
      },
      {
       "current": "9cc69df2-1728-11e9-9b3e-02420aff0006-21-f534-1e8e-f8f7-e351-d5ec-9dac-6039-45b3-d47d-befc",
       "next": "58f3bbc4-1f97-11e9-99c7-02420aff0008-20-ff4d-bac8-a659-420c-8e25-1098-0447-611d-68f4-5b45",
       "previous": "05179ab4-1a30-11e9-99c7-02420aff0008-20-83e1-cd85-a912-6502-363c-55ae-ac8c-d938-2234-7115"
      }
     ],
     "next": "58f3bbc4-1f97-11e9-99c7-02420aff0008-21-bac8-a659-420c-8e25-1098-0447-611d-68f4-5b45-0283",
     "previous": "05179ab4-1a30-11e9-99c7-02420aff0008-21-cd85-a912-6502-363c-55ae-ac8c-d938-2234-7115-7c0d"
    },
    "scrolled": true
   },
   "outputs": [],
   "source": [
    "!ansible-playbook -l {target_group} {work_dir}/jupyterhub-deploy/install-restuser.yml"
   ]
  },
  {
   "cell_type": "markdown",
   "metadata": {
    "lc_cell_meme": {
     "current": "58f3bbc4-1f97-11e9-99c7-02420aff0008-21-bac8-a659-420c-8e25-1098-0447-611d-68f4-5b45-0283",
     "history": [
      {
       "current": "58f3bbc4-1f97-11e9-99c7-02420aff0008-17-1d91-7744-20a2-ff4d-bac8-a659-420c-8e25-1098-0447",
       "next": "9cc69e74-1728-11e9-9b3e-02420aff0006-16-06d3-c23e-3ea0-eb2d-a65a-d562-7ab5-5647-dedb-0f4c",
       "previous": "9cc69df2-1728-11e9-9b3e-02420aff0006-16-b84c-2a27-fed6-7193-9e7f-f534-1e8e-f8f7-e351-d5ec"
      },
      {
       "current": "58f3bbc4-1f97-11e9-99c7-02420aff0008-18-7744-20a2-ff4d-bac8-a659-420c-8e25-1098-0447-611d",
       "next": "9cc69e74-1728-11e9-9b3e-02420aff0006-17-c23e-3ea0-eb2d-a65a-d562-7ab5-5647-dedb-0f4c-2c64",
       "previous": "9cc69df2-1728-11e9-9b3e-02420aff0006-17-2a27-fed6-7193-9e7f-f534-1e8e-f8f7-e351-d5ec-9dac"
      },
      {
       "current": "58f3bbc4-1f97-11e9-99c7-02420aff0008-19-20a2-ff4d-bac8-a659-420c-8e25-1098-0447-611d-68f4",
       "next": "9cc69e74-1728-11e9-9b3e-02420aff0006-18-3ea0-eb2d-a65a-d562-7ab5-5647-dedb-0f4c-2c64-eacb",
       "previous": "9cc69df2-1728-11e9-9b3e-02420aff0006-18-fed6-7193-9e7f-f534-1e8e-f8f7-e351-d5ec-9dac-6039"
      },
      {
       "current": "58f3bbc4-1f97-11e9-99c7-02420aff0008-20-ff4d-bac8-a659-420c-8e25-1098-0447-611d-68f4-5b45",
       "next": "9cc69e74-1728-11e9-9b3e-02420aff0006-19-eb2d-a65a-d562-7ab5-5647-dedb-0f4c-2c64-eacb-9ad1",
       "previous": "9cc69df2-1728-11e9-9b3e-02420aff0006-19-7193-9e7f-f534-1e8e-f8f7-e351-d5ec-9dac-6039-45b3"
      },
      {
       "current": "58f3bbc4-1f97-11e9-99c7-02420aff0008-21-bac8-a659-420c-8e25-1098-0447-611d-68f4-5b45-0283",
       "next": "9cc69e74-1728-11e9-9b3e-02420aff0006-20-a65a-d562-7ab5-5647-dedb-0f4c-2c64-eacb-9ad1-cd71",
       "previous": "9cc69df2-1728-11e9-9b3e-02420aff0006-20-9e7f-f534-1e8e-f8f7-e351-d5ec-9dac-6039-45b3-d47d"
      }
     ],
     "next": "9cc69e74-1728-11e9-9b3e-02420aff0006-21-d562-7ab5-5647-dedb-0f4c-2c64-eacb-9ad1-cd71-f853",
     "previous": "9cc69df2-1728-11e9-9b3e-02420aff0006-21-f534-1e8e-f8f7-e351-d5ec-9dac-6039-45b3-d47d-befc"
    }
   },
   "source": [
    "動作テスト"
   ]
  },
  {
   "cell_type": "code",
   "execution_count": null,
   "metadata": {
    "lc_cell_meme": {
     "current": "9cc69e74-1728-11e9-9b3e-02420aff0006-21-d562-7ab5-5647-dedb-0f4c-2c64-eacb-9ad1-cd71-f853",
     "execution_end_time": "2022-04-28T03:46:23.221213Z",
     "history": [
      {
       "current": "9cc69e74-1728-11e9-9b3e-02420aff0006-17-c23e-3ea0-eb2d-a65a-d562-7ab5-5647-dedb-0f4c-2c64",
       "next": "9cc69ef6-1728-11e9-9b3e-02420aff0006-16-9150-c4f1-2897-1017-ecaa-7ba2-4da8-3506-45a5-ec5f",
       "previous": "58f3bbc4-1f97-11e9-99c7-02420aff0008-16-93e7-1d91-7744-20a2-ff4d-bac8-a659-420c-8e25-1098"
      },
      {
       "current": "9cc69e74-1728-11e9-9b3e-02420aff0006-18-3ea0-eb2d-a65a-d562-7ab5-5647-dedb-0f4c-2c64-eacb",
       "next": "9cc69ef6-1728-11e9-9b3e-02420aff0006-17-c4f1-2897-1017-ecaa-7ba2-4da8-3506-45a5-ec5f-811e",
       "previous": "58f3bbc4-1f97-11e9-99c7-02420aff0008-17-1d91-7744-20a2-ff4d-bac8-a659-420c-8e25-1098-0447"
      },
      {
       "current": "9cc69e74-1728-11e9-9b3e-02420aff0006-19-eb2d-a65a-d562-7ab5-5647-dedb-0f4c-2c64-eacb-9ad1",
       "next": "9cc69ef6-1728-11e9-9b3e-02420aff0006-18-2897-1017-ecaa-7ba2-4da8-3506-45a5-ec5f-811e-7b77",
       "previous": "58f3bbc4-1f97-11e9-99c7-02420aff0008-18-7744-20a2-ff4d-bac8-a659-420c-8e25-1098-0447-611d"
      },
      {
       "current": "9cc69e74-1728-11e9-9b3e-02420aff0006-20-a65a-d562-7ab5-5647-dedb-0f4c-2c64-eacb-9ad1-cd71",
       "next": "9cc69ef6-1728-11e9-9b3e-02420aff0006-19-1017-ecaa-7ba2-4da8-3506-45a5-ec5f-811e-7b77-e1ed",
       "previous": "58f3bbc4-1f97-11e9-99c7-02420aff0008-19-20a2-ff4d-bac8-a659-420c-8e25-1098-0447-611d-68f4"
      },
      {
       "current": "9cc69e74-1728-11e9-9b3e-02420aff0006-21-d562-7ab5-5647-dedb-0f4c-2c64-eacb-9ad1-cd71-f853",
       "next": "9cc69ef6-1728-11e9-9b3e-02420aff0006-20-ecaa-7ba2-4da8-3506-45a5-ec5f-811e-7b77-e1ed-3378",
       "previous": "58f3bbc4-1f97-11e9-99c7-02420aff0008-20-ff4d-bac8-a659-420c-8e25-1098-0447-611d-68f4-5b45"
      }
     ],
     "next": "9cc69ef6-1728-11e9-9b3e-02420aff0006-21-7ba2-4da8-3506-45a5-ec5f-811e-7b77-e1ed-3378-3b7c",
     "previous": "58f3bbc4-1f97-11e9-99c7-02420aff0008-21-bac8-a659-420c-8e25-1098-0447-611d-68f4-5b45-0283"
    },
    "scrolled": true
   },
   "outputs": [],
   "source": [
    "!ansible -b -m yum -a 'name=nmap-ncat' {target_hub} -l {target_group}"
   ]
  },
  {
   "cell_type": "code",
   "execution_count": null,
   "metadata": {
    "lc_cell_meme": {
     "current": "9cc69ef6-1728-11e9-9b3e-02420aff0006-21-7ba2-4da8-3506-45a5-ec5f-811e-7b77-e1ed-3378-3b7c",
     "execution_end_time": "2022-04-28T03:46:25.773964Z",
     "history": [
      {
       "current": "9cc69ef6-1728-11e9-9b3e-02420aff0006-17-c4f1-2897-1017-ecaa-7ba2-4da8-3506-45a5-ec5f-811e",
       "next": "10e6de7c-d5c5-11e8-a64b-02420aff0006-16-3582-4cc6-466d-b8cd-a28e-3218-72d9-ec87-258d-f446",
       "previous": "9cc69e74-1728-11e9-9b3e-02420aff0006-16-06d3-c23e-3ea0-eb2d-a65a-d562-7ab5-5647-dedb-0f4c"
      },
      {
       "current": "9cc69ef6-1728-11e9-9b3e-02420aff0006-18-2897-1017-ecaa-7ba2-4da8-3506-45a5-ec5f-811e-7b77",
       "next": "10e6de7c-d5c5-11e8-a64b-02420aff0006-17-4cc6-466d-b8cd-a28e-3218-72d9-ec87-258d-f446-ceef",
       "previous": "9cc69e74-1728-11e9-9b3e-02420aff0006-17-c23e-3ea0-eb2d-a65a-d562-7ab5-5647-dedb-0f4c-2c64"
      },
      {
       "current": "9cc69ef6-1728-11e9-9b3e-02420aff0006-19-1017-ecaa-7ba2-4da8-3506-45a5-ec5f-811e-7b77-e1ed",
       "next": "10e6de7c-d5c5-11e8-a64b-02420aff0006-18-466d-b8cd-a28e-3218-72d9-ec87-258d-f446-ceef-1578",
       "previous": "9cc69e74-1728-11e9-9b3e-02420aff0006-18-3ea0-eb2d-a65a-d562-7ab5-5647-dedb-0f4c-2c64-eacb"
      },
      {
       "current": "9cc69ef6-1728-11e9-9b3e-02420aff0006-20-ecaa-7ba2-4da8-3506-45a5-ec5f-811e-7b77-e1ed-3378",
       "next": "10e6de7c-d5c5-11e8-a64b-02420aff0006-19-b8cd-a28e-3218-72d9-ec87-258d-f446-ceef-1578-56a9",
       "previous": "9cc69e74-1728-11e9-9b3e-02420aff0006-19-eb2d-a65a-d562-7ab5-5647-dedb-0f4c-2c64-eacb-9ad1"
      },
      {
       "current": "9cc69ef6-1728-11e9-9b3e-02420aff0006-21-7ba2-4da8-3506-45a5-ec5f-811e-7b77-e1ed-3378-3b7c",
       "next": "10e6de7c-d5c5-11e8-a64b-02420aff0006-20-a28e-3218-72d9-ec87-258d-f446-ceef-1578-56a9-ddfb",
       "previous": "9cc69e74-1728-11e9-9b3e-02420aff0006-20-a65a-d562-7ab5-5647-dedb-0f4c-2c64-eacb-9ad1-cd71"
      }
     ],
     "next": "10e6de7c-d5c5-11e8-a64b-02420aff0006-21-3218-72d9-ec87-258d-f446-ceef-1578-56a9-ddfb-0e81",
     "previous": "9cc69e74-1728-11e9-9b3e-02420aff0006-21-d562-7ab5-5647-dedb-0f4c-2c64-eacb-9ad1-cd71-f853"
    }
   },
   "outputs": [],
   "source": [
    "!ansible -b -m shell -a 'echo -e \"POST /{default_user} HTTP/1.0\\r\\n\" | nc -U /var/run/restuser.sock' {target_hub} -l {target_group}"
   ]
  },
  {
   "cell_type": "markdown",
   "metadata": {
    "lc_cell_meme": {
     "current": "10e6de7c-d5c5-11e8-a64b-02420aff0006-21-3218-72d9-ec87-258d-f446-ceef-1578-56a9-ddfb-0e81",
     "history": [
      {
       "current": "10e6de7c-d5c5-11e8-a64b-02420aff0006-17-4cc6-466d-b8cd-a28e-3218-72d9-ec87-258d-f446-ceef",
       "next": "c3393c8e-d582-11e8-a64b-02420aff0006-16-261a-e361-a495-6d25-0274-8c0a-fda2-61a2-30c6-c81f",
       "previous": "9cc69ef6-1728-11e9-9b3e-02420aff0006-16-9150-c4f1-2897-1017-ecaa-7ba2-4da8-3506-45a5-ec5f"
      },
      {
       "current": "10e6de7c-d5c5-11e8-a64b-02420aff0006-18-466d-b8cd-a28e-3218-72d9-ec87-258d-f446-ceef-1578",
       "next": "c3393c8e-d582-11e8-a64b-02420aff0006-17-e361-a495-6d25-0274-8c0a-fda2-61a2-30c6-c81f-72b9",
       "previous": "9cc69ef6-1728-11e9-9b3e-02420aff0006-17-c4f1-2897-1017-ecaa-7ba2-4da8-3506-45a5-ec5f-811e"
      },
      {
       "current": "10e6de7c-d5c5-11e8-a64b-02420aff0006-19-b8cd-a28e-3218-72d9-ec87-258d-f446-ceef-1578-56a9",
       "next": "c3393c8e-d582-11e8-a64b-02420aff0006-18-a495-6d25-0274-8c0a-fda2-61a2-30c6-c81f-72b9-ba22",
       "previous": "9cc69ef6-1728-11e9-9b3e-02420aff0006-18-2897-1017-ecaa-7ba2-4da8-3506-45a5-ec5f-811e-7b77"
      },
      {
       "current": "10e6de7c-d5c5-11e8-a64b-02420aff0006-20-a28e-3218-72d9-ec87-258d-f446-ceef-1578-56a9-ddfb",
       "next": "c3393c8e-d582-11e8-a64b-02420aff0006-19-6d25-0274-8c0a-fda2-61a2-30c6-c81f-72b9-ba22-e5d9",
       "previous": "9cc69ef6-1728-11e9-9b3e-02420aff0006-19-1017-ecaa-7ba2-4da8-3506-45a5-ec5f-811e-7b77-e1ed"
      },
      {
       "current": "10e6de7c-d5c5-11e8-a64b-02420aff0006-21-3218-72d9-ec87-258d-f446-ceef-1578-56a9-ddfb-0e81",
       "next": "c3393c8e-d582-11e8-a64b-02420aff0006-20-0274-8c0a-fda2-61a2-30c6-c81f-72b9-ba22-e5d9-1339",
       "previous": "9cc69ef6-1728-11e9-9b3e-02420aff0006-20-ecaa-7ba2-4da8-3506-45a5-ec5f-811e-7b77-e1ed-3378"
      }
     ],
     "next": "c3393c8e-d582-11e8-a64b-02420aff0006-21-8c0a-fda2-61a2-30c6-c81f-72b9-ba22-e5d9-1339-6105",
     "previous": "9cc69ef6-1728-11e9-9b3e-02420aff0006-21-7ba2-4da8-3506-45a5-ec5f-811e-7b77-e1ed-3378-3b7c"
    }
   },
   "source": [
    "## ネットワークの準備\n",
    "\n",
    "CoursewareHubの各コンテナの内部通信用のoverlayネットワークを作成する。\n",
    "\n",
    "コンテナ数の倍のIPアドレスを使用するため、サブネットのサイズは十分な大きさに設定すること。  \n",
    "singleuserコンテナでも、コンテナごとに2つのIPアドレスを使用する。"
   ]
  },
  {
   "cell_type": "code",
   "execution_count": null,
   "metadata": {
    "lc_cell_meme": {
     "current": "c3393c8e-d582-11e8-a64b-02420aff0006-21-8c0a-fda2-61a2-30c6-c81f-72b9-ba22-e5d9-1339-6105",
     "execution_end_time": "2022-04-28T03:46:53.399866Z",
     "history": [
      {
       "current": "c3393c8e-d582-11e8-a64b-02420aff0006-19-6d25-0274-8c0a-fda2-61a2-30c6-c81f-72b9-ba22-e5d9",
       "next": "10e6dff8-d5c5-11e8-a64b-02420aff0006-18-d6d0-01b1-ee98-d2e8-7b1d-5ad2-79d3-8d44-675b-494e",
       "previous": "10e6de7c-d5c5-11e8-a64b-02420aff0006-18-466d-b8cd-a28e-3218-72d9-ec87-258d-f446-ceef-1578"
      },
      {
       "current": "c3393c8e-d582-11e8-a64b-02420aff0006-19-6d25-0274-8c0a-fda2-61a2-30c6-c81f-72b9-ba22-e5d9",
       "next": "10e6dff8-d5c5-11e8-a64b-02420aff0006-19-01b1-ee98-d2e8-7b1d-5ad2-79d3-8d44-675b-494e-9a03",
       "previous": "10e6de7c-d5c5-11e8-a64b-02420aff0006-19-b8cd-a28e-3218-72d9-ec87-258d-f446-ceef-1578-56a9"
      },
      {
       "current": "c3393c8e-d582-11e8-a64b-02420aff0006-19-6d25-0274-8c0a-fda2-61a2-30c6-c81f-72b9-ba22-e5d9",
       "next": "933d968a-c6a4-11ec-ac8a-0242ac120004",
       "previous": "10e6de7c-d5c5-11e8-a64b-02420aff0006-19-b8cd-a28e-3218-72d9-ec87-258d-f446-ceef-1578-56a9"
      },
      {
       "current": "c3393c8e-d582-11e8-a64b-02420aff0006-20-0274-8c0a-fda2-61a2-30c6-c81f-72b9-ba22-e5d9-1339",
       "next": "10e6dff8-d5c5-11e8-a64b-02420aff0006-19-01b1-ee98-d2e8-7b1d-5ad2-79d3-8d44-675b-494e-9a03",
       "previous": "10e6de7c-d5c5-11e8-a64b-02420aff0006-19-b8cd-a28e-3218-72d9-ec87-258d-f446-ceef-1578-56a9"
      },
      {
       "current": "c3393c8e-d582-11e8-a64b-02420aff0006-21-8c0a-fda2-61a2-30c6-c81f-72b9-ba22-e5d9-1339-6105",
       "next": "10e6dff8-d5c5-11e8-a64b-02420aff0006-20-ee98-d2e8-7b1d-5ad2-79d3-8d44-675b-494e-9a03-bd3d",
       "previous": "10e6de7c-d5c5-11e8-a64b-02420aff0006-20-a28e-3218-72d9-ec87-258d-f446-ceef-1578-56a9-ddfb"
      }
     ],
     "next": "10e6dff8-d5c5-11e8-a64b-02420aff0006-21-d2e8-7b1d-5ad2-79d3-8d44-675b-494e-9a03-bd3d-090f",
     "previous": "10e6de7c-d5c5-11e8-a64b-02420aff0006-21-3218-72d9-ec87-258d-f446-ceef-1578-56a9-ddfb-0e81"
    },
    "scrolled": true
   },
   "outputs": [],
   "source": [
    "!ansible -b -a 'docker network ls' {target_hub} -l {target_group}\n",
    "!ansible -b -a 'docker network ls' {target_nodes} -l {target_group}"
   ]
  },
  {
   "cell_type": "code",
   "execution_count": null,
   "metadata": {
    "lc_cell_meme": {
     "current": "10e6dff8-d5c5-11e8-a64b-02420aff0006-21-d2e8-7b1d-5ad2-79d3-8d44-675b-494e-9a03-bd3d-090f",
     "execution_end_time": "2022-04-28T04:09:12.063834Z",
     "history": [
      {
       "current": "10e6dff8-d5c5-11e8-a64b-02420aff0006-19-01b1-ee98-d2e8-7b1d-5ad2-79d3-8d44-675b-494e-9a03",
       "next": "10e6e0ac-d5c5-11e8-a64b-02420aff0006-18-3186-9ef3-9f92-40e5-c3cd-9f1d-4bc8-c6b0-665e-8b34",
       "previous": "c3393c8e-d582-11e8-a64b-02420aff0006-18-a495-6d25-0274-8c0a-fda2-61a2-30c6-c81f-72b9-ba22"
      },
      {
       "current": "10e6dff8-d5c5-11e8-a64b-02420aff0006-19-01b1-ee98-d2e8-7b1d-5ad2-79d3-8d44-675b-494e-9a03",
       "next": "10e6e0ac-d5c5-11e8-a64b-02420aff0006-19-9ef3-9f92-40e5-c3cd-9f1d-4bc8-c6b0-665e-8b34-53ee",
       "previous": "c3393c8e-d582-11e8-a64b-02420aff0006-19-6d25-0274-8c0a-fda2-61a2-30c6-c81f-72b9-ba22-e5d9"
      },
      {
       "current": "10e6dff8-d5c5-11e8-a64b-02420aff0006-19-01b1-ee98-d2e8-7b1d-5ad2-79d3-8d44-675b-494e-9a03",
       "next": "10e6e0ac-d5c5-11e8-a64b-02420aff0006-19-9ef3-9f92-40e5-c3cd-9f1d-4bc8-c6b0-665e-8b34-53ee",
       "previous": "933d968a-c6a4-11ec-ac8a-0242ac120004"
      },
      {
       "current": "10e6dff8-d5c5-11e8-a64b-02420aff0006-20-ee98-d2e8-7b1d-5ad2-79d3-8d44-675b-494e-9a03-bd3d",
       "next": "10e6e0ac-d5c5-11e8-a64b-02420aff0006-19-9ef3-9f92-40e5-c3cd-9f1d-4bc8-c6b0-665e-8b34-53ee",
       "previous": "c3393c8e-d582-11e8-a64b-02420aff0006-19-6d25-0274-8c0a-fda2-61a2-30c6-c81f-72b9-ba22-e5d9"
      },
      {
       "current": "10e6dff8-d5c5-11e8-a64b-02420aff0006-21-d2e8-7b1d-5ad2-79d3-8d44-675b-494e-9a03-bd3d-090f",
       "next": "10e6e0ac-d5c5-11e8-a64b-02420aff0006-20-9f92-40e5-c3cd-9f1d-4bc8-c6b0-665e-8b34-53ee-7fb2",
       "previous": "c3393c8e-d582-11e8-a64b-02420aff0006-20-0274-8c0a-fda2-61a2-30c6-c81f-72b9-ba22-e5d9-1339"
      }
     ],
     "next": "10e6e0ac-d5c5-11e8-a64b-02420aff0006-21-40e5-c3cd-9f1d-4bc8-c6b0-665e-8b34-53ee-7fb2-1bcf",
     "previous": "c3393c8e-d582-11e8-a64b-02420aff0006-21-8c0a-fda2-61a2-30c6-c81f-72b9-ba22-e5d9-1339-6105"
    }
   },
   "outputs": [],
   "source": [
    "!ansible -b -a 'docker network create courseware-backend -d overlay --subnet=10.100.0.0/20' {target_hub} -l {target_group}"
   ]
  },
  {
   "cell_type": "code",
   "execution_count": null,
   "metadata": {
    "lc_cell_meme": {
     "current": "10e6e0ac-d5c5-11e8-a64b-02420aff0006-21-40e5-c3cd-9f1d-4bc8-c6b0-665e-8b34-53ee-7fb2-1bcf",
     "execution_end_time": "2022-04-28T04:09:18.953399Z",
     "history": [
      {
       "current": "10e6e0ac-d5c5-11e8-a64b-02420aff0006-17-2c98-3186-9ef3-9f92-40e5-c3cd-9f1d-4bc8-c6b0-665e",
       "next": "296c05b0-c874-11e9-85b0-0242ac120002-16-2d33-c8c6-70fe-b89b-8d57-f7e8-6862-6d26-5f27-0952",
       "previous": "10e6dff8-d5c5-11e8-a64b-02420aff0006-16-d71e-b47f-d6d0-01b1-ee98-d2e8-7b1d-5ad2-79d3-8d44"
      },
      {
       "current": "10e6e0ac-d5c5-11e8-a64b-02420aff0006-18-3186-9ef3-9f92-40e5-c3cd-9f1d-4bc8-c6b0-665e-8b34",
       "next": "296c05b0-c874-11e9-85b0-0242ac120002-17-c8c6-70fe-b89b-8d57-f7e8-6862-6d26-5f27-0952-a6f6",
       "previous": "10e6dff8-d5c5-11e8-a64b-02420aff0006-17-b47f-d6d0-01b1-ee98-d2e8-7b1d-5ad2-79d3-8d44-675b"
      },
      {
       "current": "10e6e0ac-d5c5-11e8-a64b-02420aff0006-19-9ef3-9f92-40e5-c3cd-9f1d-4bc8-c6b0-665e-8b34-53ee",
       "next": "296c05b0-c874-11e9-85b0-0242ac120002-18-70fe-b89b-8d57-f7e8-6862-6d26-5f27-0952-a6f6-34b1",
       "previous": "10e6dff8-d5c5-11e8-a64b-02420aff0006-18-d6d0-01b1-ee98-d2e8-7b1d-5ad2-79d3-8d44-675b-494e"
      },
      {
       "current": "10e6e0ac-d5c5-11e8-a64b-02420aff0006-20-9f92-40e5-c3cd-9f1d-4bc8-c6b0-665e-8b34-53ee-7fb2",
       "next": "296c05b0-c874-11e9-85b0-0242ac120002-19-b89b-8d57-f7e8-6862-6d26-5f27-0952-a6f6-34b1-a129",
       "previous": "10e6dff8-d5c5-11e8-a64b-02420aff0006-19-01b1-ee98-d2e8-7b1d-5ad2-79d3-8d44-675b-494e-9a03"
      },
      {
       "current": "10e6e0ac-d5c5-11e8-a64b-02420aff0006-21-40e5-c3cd-9f1d-4bc8-c6b0-665e-8b34-53ee-7fb2-1bcf",
       "next": "296c05b0-c874-11e9-85b0-0242ac120002-20-8d57-f7e8-6862-6d26-5f27-0952-a6f6-34b1-a129-038c",
       "previous": "10e6dff8-d5c5-11e8-a64b-02420aff0006-20-ee98-d2e8-7b1d-5ad2-79d3-8d44-675b-494e-9a03-bd3d"
      }
     ],
     "next": "296c05b0-c874-11e9-85b0-0242ac120002-21-f7e8-6862-6d26-5f27-0952-a6f6-34b1-a129-038c-9201",
     "previous": "10e6dff8-d5c5-11e8-a64b-02420aff0006-21-d2e8-7b1d-5ad2-79d3-8d44-675b-494e-9a03-bd3d-090f"
    },
    "scrolled": true
   },
   "outputs": [],
   "source": [
    "!ansible -b -a 'docker network ls' {target_hub} -l {target_group}\n",
    "!ansible -b -a 'docker network ls' {target_nodes} -l {target_group}"
   ]
  },
  {
   "cell_type": "markdown",
   "metadata": {
    "lc_cell_meme": {
     "current": "296c05b0-c874-11e9-85b0-0242ac120002-21-f7e8-6862-6d26-5f27-0952-a6f6-34b1-a129-038c-9201",
     "history": [
      {
       "current": "296c05b0-c874-11e9-85b0-0242ac120002-17-c8c6-70fe-b89b-8d57-f7e8-6862-6d26-5f27-0952-a6f6",
       "next": "8626f218-b252-11e7-a38f-0242ac120002-16-61bb-c6ba-359b-6170-f3da-0439-ee9f-375e-e3e8-acb3",
       "previous": "10e6e0ac-d5c5-11e8-a64b-02420aff0006-16-e383-2c98-3186-9ef3-9f92-40e5-c3cd-9f1d-4bc8-c6b0"
      },
      {
       "current": "296c05b0-c874-11e9-85b0-0242ac120002-18-70fe-b89b-8d57-f7e8-6862-6d26-5f27-0952-a6f6-34b1",
       "next": "8626f218-b252-11e7-a38f-0242ac120002-17-c6ba-359b-6170-f3da-0439-ee9f-375e-e3e8-acb3-22f8",
       "previous": "10e6e0ac-d5c5-11e8-a64b-02420aff0006-17-2c98-3186-9ef3-9f92-40e5-c3cd-9f1d-4bc8-c6b0-665e"
      },
      {
       "current": "296c05b0-c874-11e9-85b0-0242ac120002-19-b89b-8d57-f7e8-6862-6d26-5f27-0952-a6f6-34b1-a129",
       "next": "8626f218-b252-11e7-a38f-0242ac120002-18-359b-6170-f3da-0439-ee9f-375e-e3e8-acb3-22f8-0506",
       "previous": "10e6e0ac-d5c5-11e8-a64b-02420aff0006-18-3186-9ef3-9f92-40e5-c3cd-9f1d-4bc8-c6b0-665e-8b34"
      },
      {
       "current": "296c05b0-c874-11e9-85b0-0242ac120002-20-8d57-f7e8-6862-6d26-5f27-0952-a6f6-34b1-a129-038c",
       "next": "8626f218-b252-11e7-a38f-0242ac120002-19-6170-f3da-0439-ee9f-375e-e3e8-acb3-22f8-0506-a8fb",
       "previous": "10e6e0ac-d5c5-11e8-a64b-02420aff0006-19-9ef3-9f92-40e5-c3cd-9f1d-4bc8-c6b0-665e-8b34-53ee"
      },
      {
       "current": "296c05b0-c874-11e9-85b0-0242ac120002-21-f7e8-6862-6d26-5f27-0952-a6f6-34b1-a129-038c-9201",
       "next": "8626f218-b252-11e7-a38f-0242ac120002-20-f3da-0439-ee9f-375e-e3e8-acb3-22f8-0506-a8fb-08be",
       "previous": "10e6e0ac-d5c5-11e8-a64b-02420aff0006-20-9f92-40e5-c3cd-9f1d-4bc8-c6b0-665e-8b34-53ee-7fb2"
      }
     ],
     "next": "8626f218-b252-11e7-a38f-0242ac120002-21-0439-ee9f-375e-e3e8-acb3-22f8-0506-a8fb-08be-daa1",
     "previous": "10e6e0ac-d5c5-11e8-a64b-02420aff0006-21-40e5-c3cd-9f1d-4bc8-c6b0-665e-8b34-53ee-7fb2-1bcf"
    }
   },
   "source": [
    "## PostgreSQLのパラメータ定義"
   ]
  },
  {
   "cell_type": "code",
   "execution_count": null,
   "metadata": {
    "lc_cell_meme": {
     "current": "8626f218-b252-11e7-a38f-0242ac120002-21-0439-ee9f-375e-e3e8-acb3-22f8-0506-a8fb-08be-daa1",
     "execution_end_time": "2022-04-28T04:09:20.355519Z",
     "history": [
      {
       "current": "8626f218-b252-11e7-a38f-0242ac120002-17-c6ba-359b-6170-f3da-0439-ee9f-375e-e3e8-acb3-22f8",
       "next": "5cbb144e-b253-11e7-a38f-0242ac120002-16-b798-cfe4-fba1-38d3-26d2-e07e-e735-a2f5-e501-afc8",
       "previous": "296c05b0-c874-11e9-85b0-0242ac120002-16-2d33-c8c6-70fe-b89b-8d57-f7e8-6862-6d26-5f27-0952"
      },
      {
       "current": "8626f218-b252-11e7-a38f-0242ac120002-18-359b-6170-f3da-0439-ee9f-375e-e3e8-acb3-22f8-0506",
       "next": "5cbb144e-b253-11e7-a38f-0242ac120002-17-cfe4-fba1-38d3-26d2-e07e-e735-a2f5-e501-afc8-9790",
       "previous": "296c05b0-c874-11e9-85b0-0242ac120002-17-c8c6-70fe-b89b-8d57-f7e8-6862-6d26-5f27-0952-a6f6"
      },
      {
       "current": "8626f218-b252-11e7-a38f-0242ac120002-19-6170-f3da-0439-ee9f-375e-e3e8-acb3-22f8-0506-a8fb",
       "next": "5cbb144e-b253-11e7-a38f-0242ac120002-18-fba1-38d3-26d2-e07e-e735-a2f5-e501-afc8-9790-fbbd",
       "previous": "296c05b0-c874-11e9-85b0-0242ac120002-18-70fe-b89b-8d57-f7e8-6862-6d26-5f27-0952-a6f6-34b1"
      },
      {
       "current": "8626f218-b252-11e7-a38f-0242ac120002-20-f3da-0439-ee9f-375e-e3e8-acb3-22f8-0506-a8fb-08be",
       "next": "5cbb144e-b253-11e7-a38f-0242ac120002-19-38d3-26d2-e07e-e735-a2f5-e501-afc8-9790-fbbd-c908",
       "previous": "296c05b0-c874-11e9-85b0-0242ac120002-19-b89b-8d57-f7e8-6862-6d26-5f27-0952-a6f6-34b1-a129"
      },
      {
       "current": "8626f218-b252-11e7-a38f-0242ac120002-21-0439-ee9f-375e-e3e8-acb3-22f8-0506-a8fb-08be-daa1",
       "next": "5cbb144e-b253-11e7-a38f-0242ac120002-20-26d2-e07e-e735-a2f5-e501-afc8-9790-fbbd-c908-f6f4",
       "previous": "296c05b0-c874-11e9-85b0-0242ac120002-20-8d57-f7e8-6862-6d26-5f27-0952-a6f6-34b1-a129-038c"
      }
     ],
     "next": "5cbb144e-b253-11e7-a38f-0242ac120002-21-e07e-e735-a2f5-e501-afc8-9790-fbbd-c908-f6f4-1c08",
     "previous": "296c05b0-c874-11e9-85b0-0242ac120002-21-f7e8-6862-6d26-5f27-0952-a6f6-34b1-a129-038c-9201"
    }
   },
   "outputs": [],
   "source": [
    "db_user = 'jhauth'\n",
    "db_user"
   ]
  },
  {
   "cell_type": "code",
   "execution_count": null,
   "metadata": {
    "lc_cell_meme": {
     "current": "5cbb144e-b253-11e7-a38f-0242ac120002-21-e07e-e735-a2f5-e501-afc8-9790-fbbd-c908-f6f4-1c08",
     "execution_end_time": "2022-04-28T04:09:22.432468Z",
     "history": [
      {
       "current": "5cbb144e-b253-11e7-a38f-0242ac120002-17-cfe4-fba1-38d3-26d2-e07e-e735-a2f5-e501-afc8-9790",
       "next": "0dc8d4bc-2260-11ec-ab59-d786279a4de8-1-ace4",
       "previous": "8626f218-b252-11e7-a38f-0242ac120002-16-61bb-c6ba-359b-6170-f3da-0439-ee9f-375e-e3e8-acb3"
      },
      {
       "current": "5cbb144e-b253-11e7-a38f-0242ac120002-18-fba1-38d3-26d2-e07e-e735-a2f5-e501-afc8-9790-fbbd",
       "next": "0dc8d4bc-2260-11ec-ab59-d786279a4de8-2-ace4-5f64",
       "previous": "8626f218-b252-11e7-a38f-0242ac120002-17-c6ba-359b-6170-f3da-0439-ee9f-375e-e3e8-acb3-22f8"
      },
      {
       "current": "5cbb144e-b253-11e7-a38f-0242ac120002-19-38d3-26d2-e07e-e735-a2f5-e501-afc8-9790-fbbd-c908",
       "next": "0dc8d4bc-2260-11ec-ab59-d786279a4de8-3-ace4-5f64-63f1",
       "previous": "8626f218-b252-11e7-a38f-0242ac120002-18-359b-6170-f3da-0439-ee9f-375e-e3e8-acb3-22f8-0506"
      },
      {
       "current": "5cbb144e-b253-11e7-a38f-0242ac120002-20-26d2-e07e-e735-a2f5-e501-afc8-9790-fbbd-c908-f6f4",
       "next": "0dc8d4bc-2260-11ec-ab59-d786279a4de8-4-ace4-5f64-63f1-8e82",
       "previous": "8626f218-b252-11e7-a38f-0242ac120002-19-6170-f3da-0439-ee9f-375e-e3e8-acb3-22f8-0506-a8fb"
      },
      {
       "current": "5cbb144e-b253-11e7-a38f-0242ac120002-21-e07e-e735-a2f5-e501-afc8-9790-fbbd-c908-f6f4-1c08",
       "next": "0dc8d4bc-2260-11ec-ab59-d786279a4de8-5-ace4-5f64-63f1-8e82-fea8",
       "previous": "8626f218-b252-11e7-a38f-0242ac120002-20-f3da-0439-ee9f-375e-e3e8-acb3-22f8-0506-a8fb-08be"
      }
     ],
     "next": "0dc8d4bc-2260-11ec-ab59-d786279a4de8-6-ace4-5f64-63f1-8e82-fea8-a33e",
     "previous": "8626f218-b252-11e7-a38f-0242ac120002-21-0439-ee9f-375e-e3e8-acb3-22f8-0506-a8fb-08be-daa1"
    }
   },
   "outputs": [],
   "source": [
    "db_name = 'jupyterhub'\n",
    "db_name"
   ]
  },
  {
   "cell_type": "markdown",
   "metadata": {
    "lc_cell_meme": {
     "current": "0dc8d4bc-2260-11ec-ab59-d786279a4de8-6-ace4-5f64-63f1-8e82-fea8-a33e",
     "execution_end_time": "2021-10-01T02:33:36.061819Z",
     "history": [
      {
       "current": "0dc8d4bc-2260-11ec-ab59-d786279a4de8-2-ace4-5f64",
       "next": "ce34ea7e-b252-11e7-a38f-0242ac120002-16-9cbe-99b8-a74f-477e-4f9b-168c-2c8f-f551-e7d1-2fd5",
       "previous": "5cbb144e-b253-11e7-a38f-0242ac120002-16-b798-cfe4-fba1-38d3-26d2-e07e-e735-a2f5-e501-afc8"
      },
      {
       "current": "0dc8d4bc-2260-11ec-ab59-d786279a4de8-3-ace4-5f64-63f1",
       "next": "ce34ea7e-b252-11e7-a38f-0242ac120002-17-99b8-a74f-477e-4f9b-168c-2c8f-f551-e7d1-2fd5-bed6",
       "previous": "5cbb144e-b253-11e7-a38f-0242ac120002-17-cfe4-fba1-38d3-26d2-e07e-e735-a2f5-e501-afc8-9790"
      },
      {
       "current": "0dc8d4bc-2260-11ec-ab59-d786279a4de8-4-ace4-5f64-63f1-8e82",
       "next": "ce34ea7e-b252-11e7-a38f-0242ac120002-18-a74f-477e-4f9b-168c-2c8f-f551-e7d1-2fd5-bed6-f545",
       "previous": "5cbb144e-b253-11e7-a38f-0242ac120002-18-fba1-38d3-26d2-e07e-e735-a2f5-e501-afc8-9790-fbbd"
      },
      {
       "current": "0dc8d4bc-2260-11ec-ab59-d786279a4de8-5-ace4-5f64-63f1-8e82-fea8",
       "next": "ce34ea7e-b252-11e7-a38f-0242ac120002-19-477e-4f9b-168c-2c8f-f551-e7d1-2fd5-bed6-f545-181b",
       "previous": "5cbb144e-b253-11e7-a38f-0242ac120002-19-38d3-26d2-e07e-e735-a2f5-e501-afc8-9790-fbbd-c908"
      },
      {
       "current": "0dc8d4bc-2260-11ec-ab59-d786279a4de8-6-ace4-5f64-63f1-8e82-fea8-a33e",
       "next": "ce34ea7e-b252-11e7-a38f-0242ac120002-20-4f9b-168c-2c8f-f551-e7d1-2fd5-bed6-f545-181b-052d",
       "previous": "5cbb144e-b253-11e7-a38f-0242ac120002-20-26d2-e07e-e735-a2f5-e501-afc8-9790-fbbd-c908-f6f4"
      }
     ],
     "next": "ce34ea7e-b252-11e7-a38f-0242ac120002-21-168c-2c8f-f551-e7d1-2fd5-bed6-f545-181b-052d-abb6",
     "previous": "5cbb144e-b253-11e7-a38f-0242ac120002-21-e07e-e735-a2f5-e501-afc8-9790-fbbd-c908-f6f4-1c08"
    }
   },
   "source": [
    "以下は内部的に利用するPostgresのパスワード。自身でパスワードを決め、以下に入力する。\n",
    "\n",
    "(再構築で既存のDBが存在している場合、前回と同じものを設定すること)"
   ]
  },
  {
   "cell_type": "code",
   "execution_count": null,
   "metadata": {
    "lc_cell_meme": {
     "current": "ce34ea7e-b252-11e7-a38f-0242ac120002-21-168c-2c8f-f551-e7d1-2fd5-bed6-f545-181b-052d-abb6",
     "execution_end_time": "2022-04-28T04:09:27.520682Z",
     "history": [
      {
       "current": "ce34ea7e-b252-11e7-a38f-0242ac120002-17-99b8-a74f-477e-4f9b-168c-2c8f-f551-e7d1-2fd5-bed6",
       "next": "2a458bf6-d66b-11e8-a64b-02420aff0006-16-b030-eb88-135f-41d8-b8ff-cd8a-965f-a266-4c86-f66d",
       "previous": "0dc8d4bc-2260-11ec-ab59-d786279a4de8-1-ace4"
      },
      {
       "current": "ce34ea7e-b252-11e7-a38f-0242ac120002-18-a74f-477e-4f9b-168c-2c8f-f551-e7d1-2fd5-bed6-f545",
       "next": "2a458bf6-d66b-11e8-a64b-02420aff0006-17-eb88-135f-41d8-b8ff-cd8a-965f-a266-4c86-f66d-8799",
       "previous": "0dc8d4bc-2260-11ec-ab59-d786279a4de8-2-ace4-5f64"
      },
      {
       "current": "ce34ea7e-b252-11e7-a38f-0242ac120002-19-477e-4f9b-168c-2c8f-f551-e7d1-2fd5-bed6-f545-181b",
       "next": "2a458bf6-d66b-11e8-a64b-02420aff0006-18-135f-41d8-b8ff-cd8a-965f-a266-4c86-f66d-8799-f0d1",
       "previous": "0dc8d4bc-2260-11ec-ab59-d786279a4de8-3-ace4-5f64-63f1"
      },
      {
       "current": "ce34ea7e-b252-11e7-a38f-0242ac120002-20-4f9b-168c-2c8f-f551-e7d1-2fd5-bed6-f545-181b-052d",
       "next": "2a458bf6-d66b-11e8-a64b-02420aff0006-19-41d8-b8ff-cd8a-965f-a266-4c86-f66d-8799-f0d1-af57",
       "previous": "0dc8d4bc-2260-11ec-ab59-d786279a4de8-4-ace4-5f64-63f1-8e82"
      },
      {
       "current": "ce34ea7e-b252-11e7-a38f-0242ac120002-21-168c-2c8f-f551-e7d1-2fd5-bed6-f545-181b-052d-abb6",
       "next": "2a458bf6-d66b-11e8-a64b-02420aff0006-20-b8ff-cd8a-965f-a266-4c86-f66d-8799-f0d1-af57-cf69",
       "previous": "0dc8d4bc-2260-11ec-ab59-d786279a4de8-5-ace4-5f64-63f1-8e82-fea8"
      }
     ],
     "next": "2a458bf6-d66b-11e8-a64b-02420aff0006-21-cd8a-965f-a266-4c86-f66d-8799-f0d1-af57-cf69-e091",
     "previous": "0dc8d4bc-2260-11ec-ab59-d786279a4de8-6-ace4-5f64-63f1-8e82-fea8-a33e"
    }
   },
   "outputs": [],
   "source": [
    "from getpass import getpass\n",
    "\n",
    "db_pass = getpass()\n",
    "len(db_pass)"
   ]
  },
  {
   "cell_type": "markdown",
   "metadata": {
    "lc_cell_meme": {
     "current": "2a458bf6-d66b-11e8-a64b-02420aff0006-21-cd8a-965f-a266-4c86-f66d-8799-f0d1-af57-cf69-e091",
     "history": [
      {
       "current": "2a458bf6-d66b-11e8-a64b-02420aff0006-17-eb88-135f-41d8-b8ff-cd8a-965f-a266-4c86-f66d-8799",
       "next": "8d3837e2-db37-11e8-a64b-02420aff0006-16-c3ab-6f9b-1aaf-b39a-28c1-e821-aa97-7eeb-ac9a-1642",
       "previous": "ce34ea7e-b252-11e7-a38f-0242ac120002-16-9cbe-99b8-a74f-477e-4f9b-168c-2c8f-f551-e7d1-2fd5"
      },
      {
       "current": "2a458bf6-d66b-11e8-a64b-02420aff0006-18-135f-41d8-b8ff-cd8a-965f-a266-4c86-f66d-8799-f0d1",
       "next": "8d3837e2-db37-11e8-a64b-02420aff0006-17-6f9b-1aaf-b39a-28c1-e821-aa97-7eeb-ac9a-1642-17d3",
       "previous": "ce34ea7e-b252-11e7-a38f-0242ac120002-17-99b8-a74f-477e-4f9b-168c-2c8f-f551-e7d1-2fd5-bed6"
      },
      {
       "current": "2a458bf6-d66b-11e8-a64b-02420aff0006-19-41d8-b8ff-cd8a-965f-a266-4c86-f66d-8799-f0d1-af57",
       "next": "8d3837e2-db37-11e8-a64b-02420aff0006-18-1aaf-b39a-28c1-e821-aa97-7eeb-ac9a-1642-17d3-a54c",
       "previous": "ce34ea7e-b252-11e7-a38f-0242ac120002-18-a74f-477e-4f9b-168c-2c8f-f551-e7d1-2fd5-bed6-f545"
      },
      {
       "current": "2a458bf6-d66b-11e8-a64b-02420aff0006-20-b8ff-cd8a-965f-a266-4c86-f66d-8799-f0d1-af57-cf69",
       "next": "8d3837e2-db37-11e8-a64b-02420aff0006-19-b39a-28c1-e821-aa97-7eeb-ac9a-1642-17d3-a54c-63ab",
       "previous": "ce34ea7e-b252-11e7-a38f-0242ac120002-19-477e-4f9b-168c-2c8f-f551-e7d1-2fd5-bed6-f545-181b"
      },
      {
       "current": "2a458bf6-d66b-11e8-a64b-02420aff0006-21-cd8a-965f-a266-4c86-f66d-8799-f0d1-af57-cf69-e091",
       "next": "8d3837e2-db37-11e8-a64b-02420aff0006-20-28c1-e821-aa97-7eeb-ac9a-1642-17d3-a54c-63ab-4557",
       "previous": "ce34ea7e-b252-11e7-a38f-0242ac120002-20-4f9b-168c-2c8f-f551-e7d1-2fd5-bed6-f545-181b-052d"
      }
     ],
     "next": "8d3837e2-db37-11e8-a64b-02420aff0006-21-e821-aa97-7eeb-ac9a-1642-17d3-a54c-63ab-4557-b8d0",
     "previous": "ce34ea7e-b252-11e7-a38f-0242ac120002-21-168c-2c8f-f551-e7d1-2fd5-bed6-f545-181b-052d-abb6"
    }
   },
   "source": [
    "## PostgreSQLコンテナの準備\n",
    "\n",
    "PostgreSQLの公式イメージ`postgresq:11`を使用します。\n"
   ]
  },
  {
   "cell_type": "markdown",
   "metadata": {
    "lc_cell_meme": {
     "current": "8d3837e2-db37-11e8-a64b-02420aff0006-21-e821-aa97-7eeb-ac9a-1642-17d3-a54c-63ab-4557-b8d0",
     "history": [
      {
       "current": "8d3837e2-db37-11e8-a64b-02420aff0006-17-6f9b-1aaf-b39a-28c1-e821-aa97-7eeb-ac9a-1642-17d3",
       "next": "b9537ba0-d66b-11e8-a64b-02420aff0006-16-78a4-8284-8c11-51e0-0da9-fa85-704f-d2e1-1406-7e38",
       "previous": "2a458bf6-d66b-11e8-a64b-02420aff0006-16-b030-eb88-135f-41d8-b8ff-cd8a-965f-a266-4c86-f66d"
      },
      {
       "current": "8d3837e2-db37-11e8-a64b-02420aff0006-18-1aaf-b39a-28c1-e821-aa97-7eeb-ac9a-1642-17d3-a54c",
       "next": "b9537ba0-d66b-11e8-a64b-02420aff0006-17-8284-8c11-51e0-0da9-fa85-704f-d2e1-1406-7e38-806a",
       "previous": "2a458bf6-d66b-11e8-a64b-02420aff0006-17-eb88-135f-41d8-b8ff-cd8a-965f-a266-4c86-f66d-8799"
      },
      {
       "current": "8d3837e2-db37-11e8-a64b-02420aff0006-19-b39a-28c1-e821-aa97-7eeb-ac9a-1642-17d3-a54c-63ab",
       "next": "b9537ba0-d66b-11e8-a64b-02420aff0006-18-8c11-51e0-0da9-fa85-704f-d2e1-1406-7e38-806a-62a9",
       "previous": "2a458bf6-d66b-11e8-a64b-02420aff0006-18-135f-41d8-b8ff-cd8a-965f-a266-4c86-f66d-8799-f0d1"
      },
      {
       "current": "8d3837e2-db37-11e8-a64b-02420aff0006-20-28c1-e821-aa97-7eeb-ac9a-1642-17d3-a54c-63ab-4557",
       "next": "b9537ba0-d66b-11e8-a64b-02420aff0006-19-51e0-0da9-fa85-704f-d2e1-1406-7e38-806a-62a9-7637",
       "previous": "2a458bf6-d66b-11e8-a64b-02420aff0006-19-41d8-b8ff-cd8a-965f-a266-4c86-f66d-8799-f0d1-af57"
      },
      {
       "current": "8d3837e2-db37-11e8-a64b-02420aff0006-21-e821-aa97-7eeb-ac9a-1642-17d3-a54c-63ab-4557-b8d0",
       "next": "b9537ba0-d66b-11e8-a64b-02420aff0006-20-0da9-fa85-704f-d2e1-1406-7e38-806a-62a9-7637-be24",
       "previous": "2a458bf6-d66b-11e8-a64b-02420aff0006-20-b8ff-cd8a-965f-a266-4c86-f66d-8799-f0d1-af57-cf69"
      }
     ],
     "next": "b9537ba0-d66b-11e8-a64b-02420aff0006-21-fa85-704f-d2e1-1406-7e38-806a-62a9-7637-be24-662f",
     "previous": "2a458bf6-d66b-11e8-a64b-02420aff0006-21-cd8a-965f-a266-4c86-f66d-8799-f0d1-af57-cf69-e091"
    }
   },
   "source": [
    "データベースファイルを置くディレクトリを作成\n",
    "\n",
    "postgresのvolumeはNFS上に置かなければならない"
   ]
  },
  {
   "cell_type": "code",
   "execution_count": null,
   "metadata": {
    "lc_cell_meme": {
     "current": "b9537ba0-d66b-11e8-a64b-02420aff0006-21-fa85-704f-d2e1-1406-7e38-806a-62a9-7637-be24-662f",
     "execution_end_time": "2022-04-28T04:09:32.311209Z",
     "history": [
      {
       "current": "b9537ba0-d66b-11e8-a64b-02420aff0006-17-8284-8c11-51e0-0da9-fa85-704f-d2e1-1406-7e38-806a",
       "next": "01dca6b9-92de-11ec-ac8c-6b42dc3e1973",
       "previous": "8d3837e2-db37-11e8-a64b-02420aff0006-16-c3ab-6f9b-1aaf-b39a-28c1-e821-aa97-7eeb-ac9a-1642"
      },
      {
       "current": "b9537ba0-d66b-11e8-a64b-02420aff0006-18-8c11-51e0-0da9-fa85-704f-d2e1-1406-7e38-806a-62a9",
       "next": "01dca6b9-92de-11ec-ac8c-6b42dc3e1973-1-9fb8",
       "previous": "8d3837e2-db37-11e8-a64b-02420aff0006-17-6f9b-1aaf-b39a-28c1-e821-aa97-7eeb-ac9a-1642-17d3"
      },
      {
       "current": "b9537ba0-d66b-11e8-a64b-02420aff0006-19-51e0-0da9-fa85-704f-d2e1-1406-7e38-806a-62a9-7637",
       "next": "01dca6b9-92de-11ec-ac8c-6b42dc3e1973-2-9fb8-6e6e",
       "previous": "8d3837e2-db37-11e8-a64b-02420aff0006-18-1aaf-b39a-28c1-e821-aa97-7eeb-ac9a-1642-17d3-a54c"
      },
      {
       "current": "b9537ba0-d66b-11e8-a64b-02420aff0006-20-0da9-fa85-704f-d2e1-1406-7e38-806a-62a9-7637-be24",
       "next": "01dca6b9-92de-11ec-ac8c-6b42dc3e1973-3-9fb8-6e6e-73a9",
       "previous": "8d3837e2-db37-11e8-a64b-02420aff0006-19-b39a-28c1-e821-aa97-7eeb-ac9a-1642-17d3-a54c-63ab"
      },
      {
       "current": "b9537ba0-d66b-11e8-a64b-02420aff0006-21-fa85-704f-d2e1-1406-7e38-806a-62a9-7637-be24-662f",
       "next": "01dca6b9-92de-11ec-ac8c-6b42dc3e1973-4-9fb8-6e6e-73a9-3af9",
       "previous": "8d3837e2-db37-11e8-a64b-02420aff0006-20-28c1-e821-aa97-7eeb-ac9a-1642-17d3-a54c-63ab-4557"
      }
     ],
     "next": "01dca6b9-92de-11ec-ac8c-6b42dc3e1973-5-9fb8-6e6e-73a9-3af9-00a2",
     "previous": "8d3837e2-db37-11e8-a64b-02420aff0006-21-e821-aa97-7eeb-ac9a-1642-17d3-a54c-63ab-4557-b8d0"
    }
   },
   "outputs": [],
   "source": [
    "!ansible -b -m file -a 'path=/jupyter/psql/data state=directory' {target_hub}"
   ]
  },
  {
   "cell_type": "markdown",
   "metadata": {
    "lc_cell_meme": {
     "current": "01dca6b9-92de-11ec-ac8c-6b42dc3e1973-5-9fb8-6e6e-73a9-3af9-00a2",
     "history": [
      {
       "current": "01dca6b9-92de-11ec-ac8c-6b42dc3e1973-1-9fb8",
       "next": "c6c55ed2-0fac-11ec-bc4c-c7638f7e44c5-2-ce4d-fc0f",
       "previous": "b9537ba0-d66b-11e8-a64b-02420aff0006-16-78a4-8284-8c11-51e0-0da9-fa85-704f-d2e1-1406-7e38"
      },
      {
       "current": "01dca6b9-92de-11ec-ac8c-6b42dc3e1973-2-9fb8-6e6e",
       "next": "c6c55ed2-0fac-11ec-bc4c-c7638f7e44c5-3-ce4d-fc0f-28ad",
       "previous": "b9537ba0-d66b-11e8-a64b-02420aff0006-17-8284-8c11-51e0-0da9-fa85-704f-d2e1-1406-7e38-806a"
      },
      {
       "current": "01dca6b9-92de-11ec-ac8c-6b42dc3e1973-3-9fb8-6e6e-73a9",
       "next": "c6c55ed2-0fac-11ec-bc4c-c7638f7e44c5-4-ce4d-fc0f-28ad-47b9",
       "previous": "b9537ba0-d66b-11e8-a64b-02420aff0006-18-8c11-51e0-0da9-fa85-704f-d2e1-1406-7e38-806a-62a9"
      },
      {
       "current": "01dca6b9-92de-11ec-ac8c-6b42dc3e1973-4-9fb8-6e6e-73a9-3af9",
       "next": "c6c55ed2-0fac-11ec-bc4c-c7638f7e44c5-5-ce4d-fc0f-28ad-47b9-8502",
       "previous": "b9537ba0-d66b-11e8-a64b-02420aff0006-19-51e0-0da9-fa85-704f-d2e1-1406-7e38-806a-62a9-7637"
      },
      {
       "current": "01dca6b9-92de-11ec-ac8c-6b42dc3e1973-5-9fb8-6e6e-73a9-3af9-00a2",
       "next": "c6c55ed2-0fac-11ec-bc4c-c7638f7e44c5-6-ce4d-fc0f-28ad-47b9-8502-25f1",
       "previous": "b9537ba0-d66b-11e8-a64b-02420aff0006-20-0da9-fa85-704f-d2e1-1406-7e38-806a-62a9-7637-be24"
      }
     ],
     "next": "c6c55ed2-0fac-11ec-bc4c-c7638f7e44c5-7-ce4d-fc0f-28ad-47b9-8502-25f1-6328",
     "previous": "b9537ba0-d66b-11e8-a64b-02420aff0006-21-fa85-704f-d2e1-1406-7e38-806a-62a9-7637-be24-662f"
    }
   },
   "source": [
    "DBの初期化用SQLファイル"
   ]
  },
  {
   "cell_type": "code",
   "execution_count": null,
   "metadata": {
    "lc_cell_meme": {
     "current": "c6c55ed2-0fac-11ec-bc4c-c7638f7e44c5-7-ce4d-fc0f-28ad-47b9-8502-25f1-6328",
     "execution_end_time": "2022-04-28T04:09:34.342937Z",
     "history": [
      {
       "current": "c6c55ed2-0fac-11ec-bc4c-c7638f7e44c5-3-ce4d-fc0f-28ad",
       "next": "1ff640d8-92df-11ec-b447-6b42dc3e1973",
       "previous": "01dca6b9-92de-11ec-ac8c-6b42dc3e1973"
      },
      {
       "current": "c6c55ed2-0fac-11ec-bc4c-c7638f7e44c5-4-ce4d-fc0f-28ad-47b9",
       "next": "1ff640d8-92df-11ec-b447-6b42dc3e1973-1-0772",
       "previous": "01dca6b9-92de-11ec-ac8c-6b42dc3e1973-1-9fb8"
      },
      {
       "current": "c6c55ed2-0fac-11ec-bc4c-c7638f7e44c5-5-ce4d-fc0f-28ad-47b9-8502",
       "next": "1ff640d8-92df-11ec-b447-6b42dc3e1973-2-0772-6d20",
       "previous": "01dca6b9-92de-11ec-ac8c-6b42dc3e1973-2-9fb8-6e6e"
      },
      {
       "current": "c6c55ed2-0fac-11ec-bc4c-c7638f7e44c5-6-ce4d-fc0f-28ad-47b9-8502-25f1",
       "next": "1ff640d8-92df-11ec-b447-6b42dc3e1973-3-0772-6d20-7cf8",
       "previous": "01dca6b9-92de-11ec-ac8c-6b42dc3e1973-3-9fb8-6e6e-73a9"
      },
      {
       "current": "c6c55ed2-0fac-11ec-bc4c-c7638f7e44c5-7-ce4d-fc0f-28ad-47b9-8502-25f1-6328",
       "next": "1ff640d8-92df-11ec-b447-6b42dc3e1973-4-0772-6d20-7cf8-264d",
       "previous": "01dca6b9-92de-11ec-ac8c-6b42dc3e1973-4-9fb8-6e6e-73a9-3af9"
      }
     ],
     "next": "1ff640d8-92df-11ec-b447-6b42dc3e1973-5-0772-6d20-7cf8-264d-6de3",
     "previous": "01dca6b9-92de-11ec-ac8c-6b42dc3e1973-5-9fb8-6e6e-73a9-3af9-00a2"
    },
    "scrolled": true
   },
   "outputs": [],
   "source": [
    "import yaml\n",
    "\n",
    "with open(os.path.join(work_dir, 'create.sql'), 'w') as f:\n",
    "    f.write('''\n",
    "CREATE SEQUENCE local_users_id_seq START 1;\n",
    "\n",
    "CREATE TABLE local_users (\n",
    "    id  integer CONSTRAINT firstkey PRIMARY KEY,\n",
    "    user_name  varchar(64) UNIQUE NOT NULL,\n",
    "    password  varchar(128) NOT NULL,\n",
    "    mail  varchar(64) NOT NULL\n",
    ");\n",
    "''')\n",
    "\n",
    "!cat {work_dir}/create.sql"
   ]
  },
  {
   "cell_type": "code",
   "execution_count": null,
   "metadata": {
    "lc_cell_meme": {
     "current": "1ff640d8-92df-11ec-b447-6b42dc3e1973-5-0772-6d20-7cf8-264d-6de3",
     "execution_end_time": "2022-04-28T04:09:40.283302Z",
     "history": [
      {
       "current": "1ff640d8-92df-11ec-b447-6b42dc3e1973-1-0772",
       "next": "936190d2-d678-11e8-a64b-02420aff0006-16-7714-837d-6ad5-7201-175f-6911-799a-eb0d-0991-b11c",
       "previous": "c6c55ed2-0fac-11ec-bc4c-c7638f7e44c5-2-ce4d-fc0f"
      },
      {
       "current": "1ff640d8-92df-11ec-b447-6b42dc3e1973-2-0772-6d20",
       "next": "936190d2-d678-11e8-a64b-02420aff0006-17-837d-6ad5-7201-175f-6911-799a-eb0d-0991-b11c-fbdd",
       "previous": "c6c55ed2-0fac-11ec-bc4c-c7638f7e44c5-3-ce4d-fc0f-28ad"
      },
      {
       "current": "1ff640d8-92df-11ec-b447-6b42dc3e1973-3-0772-6d20-7cf8",
       "next": "936190d2-d678-11e8-a64b-02420aff0006-18-6ad5-7201-175f-6911-799a-eb0d-0991-b11c-fbdd-6f49",
       "previous": "c6c55ed2-0fac-11ec-bc4c-c7638f7e44c5-4-ce4d-fc0f-28ad-47b9"
      },
      {
       "current": "1ff640d8-92df-11ec-b447-6b42dc3e1973-4-0772-6d20-7cf8-264d",
       "next": "936190d2-d678-11e8-a64b-02420aff0006-19-7201-175f-6911-799a-eb0d-0991-b11c-fbdd-6f49-fe77",
       "previous": "c6c55ed2-0fac-11ec-bc4c-c7638f7e44c5-5-ce4d-fc0f-28ad-47b9-8502"
      },
      {
       "current": "1ff640d8-92df-11ec-b447-6b42dc3e1973-5-0772-6d20-7cf8-264d-6de3",
       "next": "936190d2-d678-11e8-a64b-02420aff0006-20-175f-6911-799a-eb0d-0991-b11c-fbdd-6f49-fe77-0ba2",
       "previous": "c6c55ed2-0fac-11ec-bc4c-c7638f7e44c5-6-ce4d-fc0f-28ad-47b9-8502-25f1"
      }
     ],
     "next": "936190d2-d678-11e8-a64b-02420aff0006-21-6911-799a-eb0d-0991-b11c-fbdd-6f49-fe77-0ba2-7169",
     "previous": "c6c55ed2-0fac-11ec-bc4c-c7638f7e44c5-7-ce4d-fc0f-28ad-47b9-8502-25f1-6328"
    }
   },
   "outputs": [],
   "source": [
    "!ansible -b -m file -a 'path=/jupyter/psql state=directory' {target_hub} -l {target_group}\n",
    "!ansible -b -m copy -a 'src={work_dir}/create.sql dest=/jupyter/psql/create.sql'  {target_hub} -l {target_group}"
   ]
  },
  {
   "cell_type": "markdown",
   "metadata": {
    "lc_cell_meme": {
     "current": "936190d2-d678-11e8-a64b-02420aff0006-21-6911-799a-eb0d-0991-b11c-fbdd-6f49-fe77-0ba2-7169",
     "history": [
      {
       "current": "936190d2-d678-11e8-a64b-02420aff0006-17-837d-6ad5-7201-175f-6911-799a-eb0d-0991-b11c-fbdd",
       "next": "f0c51d90-4c6e-11e9-b2d5-0242ac130002-16-47c1-a657-a290-cffc-c1c1-8dbb-ff7d-c8a8-0810-4408",
       "previous": "1ff640d8-92df-11ec-b447-6b42dc3e1973"
      },
      {
       "current": "936190d2-d678-11e8-a64b-02420aff0006-18-6ad5-7201-175f-6911-799a-eb0d-0991-b11c-fbdd-6f49",
       "next": "f0c51d90-4c6e-11e9-b2d5-0242ac130002-17-a657-a290-cffc-c1c1-8dbb-ff7d-c8a8-0810-4408-bc27",
       "previous": "1ff640d8-92df-11ec-b447-6b42dc3e1973-1-0772"
      },
      {
       "current": "936190d2-d678-11e8-a64b-02420aff0006-19-7201-175f-6911-799a-eb0d-0991-b11c-fbdd-6f49-fe77",
       "next": "f0c51d90-4c6e-11e9-b2d5-0242ac130002-18-a290-cffc-c1c1-8dbb-ff7d-c8a8-0810-4408-bc27-73ce",
       "previous": "1ff640d8-92df-11ec-b447-6b42dc3e1973-2-0772-6d20"
      },
      {
       "current": "936190d2-d678-11e8-a64b-02420aff0006-20-175f-6911-799a-eb0d-0991-b11c-fbdd-6f49-fe77-0ba2",
       "next": "f0c51d90-4c6e-11e9-b2d5-0242ac130002-19-cffc-c1c1-8dbb-ff7d-c8a8-0810-4408-bc27-73ce-07db",
       "previous": "1ff640d8-92df-11ec-b447-6b42dc3e1973-3-0772-6d20-7cf8"
      },
      {
       "current": "936190d2-d678-11e8-a64b-02420aff0006-21-6911-799a-eb0d-0991-b11c-fbdd-6f49-fe77-0ba2-7169",
       "next": "f0c51d90-4c6e-11e9-b2d5-0242ac130002-20-c1c1-8dbb-ff7d-c8a8-0810-4408-bc27-73ce-07db-bb9c",
       "previous": "1ff640d8-92df-11ec-b447-6b42dc3e1973-4-0772-6d20-7cf8-264d"
      }
     ],
     "next": "f0c51d90-4c6e-11e9-b2d5-0242ac130002-21-8dbb-ff7d-c8a8-0810-4408-bc27-73ce-07db-bb9c-9fc6",
     "previous": "1ff640d8-92df-11ec-b447-6b42dc3e1973-5-0772-6d20-7cf8-264d-6de3"
    }
   },
   "source": [
    "## ユーザ用イメージの準備"
   ]
  },
  {
   "cell_type": "code",
   "execution_count": null,
   "metadata": {
    "lc_cell_meme": {
     "current": "f0c51d90-4c6e-11e9-b2d5-0242ac130002-21-8dbb-ff7d-c8a8-0810-4408-bc27-73ce-07db-bb9c-9fc6",
     "execution_end_time": "2022-04-28T04:09:48.124914Z",
     "history": [
      {
       "current": "f0c51d90-4c6e-11e9-b2d5-0242ac130002-17-a657-a290-cffc-c1c1-8dbb-ff7d-c8a8-0810-4408-bc27",
       "next": "936192da-d678-11e8-a64b-02420aff0006-16-6db4-f0dc-e2da-d5f3-77c4-fcda-678b-a8c0-5706-c50e",
       "previous": "936190d2-d678-11e8-a64b-02420aff0006-16-7714-837d-6ad5-7201-175f-6911-799a-eb0d-0991-b11c"
      },
      {
       "current": "f0c51d90-4c6e-11e9-b2d5-0242ac130002-18-a290-cffc-c1c1-8dbb-ff7d-c8a8-0810-4408-bc27-73ce",
       "next": "936192da-d678-11e8-a64b-02420aff0006-17-f0dc-e2da-d5f3-77c4-fcda-678b-a8c0-5706-c50e-082d",
       "previous": "936190d2-d678-11e8-a64b-02420aff0006-17-837d-6ad5-7201-175f-6911-799a-eb0d-0991-b11c-fbdd"
      },
      {
       "current": "f0c51d90-4c6e-11e9-b2d5-0242ac130002-19-cffc-c1c1-8dbb-ff7d-c8a8-0810-4408-bc27-73ce-07db",
       "next": "936192da-d678-11e8-a64b-02420aff0006-18-e2da-d5f3-77c4-fcda-678b-a8c0-5706-c50e-082d-4d73",
       "previous": "936190d2-d678-11e8-a64b-02420aff0006-18-6ad5-7201-175f-6911-799a-eb0d-0991-b11c-fbdd-6f49"
      },
      {
       "current": "f0c51d90-4c6e-11e9-b2d5-0242ac130002-20-c1c1-8dbb-ff7d-c8a8-0810-4408-bc27-73ce-07db-bb9c",
       "next": "936192da-d678-11e8-a64b-02420aff0006-19-d5f3-77c4-fcda-678b-a8c0-5706-c50e-082d-4d73-752b",
       "previous": "936190d2-d678-11e8-a64b-02420aff0006-19-7201-175f-6911-799a-eb0d-0991-b11c-fbdd-6f49-fe77"
      },
      {
       "current": "f0c51d90-4c6e-11e9-b2d5-0242ac130002-21-8dbb-ff7d-c8a8-0810-4408-bc27-73ce-07db-bb9c-9fc6",
       "next": "936192da-d678-11e8-a64b-02420aff0006-20-77c4-fcda-678b-a8c0-5706-c50e-082d-4d73-752b-9805",
       "previous": "936190d2-d678-11e8-a64b-02420aff0006-20-175f-6911-799a-eb0d-0991-b11c-fbdd-6f49-fe77-0ba2"
      }
     ],
     "next": "936192da-d678-11e8-a64b-02420aff0006-21-fcda-678b-a8c0-5706-c50e-082d-4d73-752b-9805-8088",
     "previous": "936190d2-d678-11e8-a64b-02420aff0006-21-6911-799a-eb0d-0991-b11c-fbdd-6f49-fe77-0ba2-7169"
    }
   },
   "outputs": [],
   "source": [
    "singleuser_image = 'niicloudoperation/notebook'"
   ]
  },
  {
   "cell_type": "code",
   "execution_count": null,
   "metadata": {
    "lc_cell_meme": {
     "current": "936192da-d678-11e8-a64b-02420aff0006-21-fcda-678b-a8c0-5706-c50e-082d-4d73-752b-9805-8088",
     "execution_end_time": "2022-04-28T04:15:20.009309Z",
     "history": [
      {
       "current": "936192da-d678-11e8-a64b-02420aff0006-17-f0dc-e2da-d5f3-77c4-fcda-678b-a8c0-5706-c50e-082d",
       "next": "7c82e6e8-4740-11e9-8bae-0242ac130002-16-2038-bb08-5fae-bf01-6b5f-5780-d2ab-9391-bda0-79f2",
       "previous": "f0c51d90-4c6e-11e9-b2d5-0242ac130002-16-47c1-a657-a290-cffc-c1c1-8dbb-ff7d-c8a8-0810-4408"
      },
      {
       "current": "936192da-d678-11e8-a64b-02420aff0006-18-e2da-d5f3-77c4-fcda-678b-a8c0-5706-c50e-082d-4d73",
       "next": "7c82e6e8-4740-11e9-8bae-0242ac130002-17-bb08-5fae-bf01-6b5f-5780-d2ab-9391-bda0-79f2-bcfd",
       "previous": "f0c51d90-4c6e-11e9-b2d5-0242ac130002-17-a657-a290-cffc-c1c1-8dbb-ff7d-c8a8-0810-4408-bc27"
      },
      {
       "current": "936192da-d678-11e8-a64b-02420aff0006-19-d5f3-77c4-fcda-678b-a8c0-5706-c50e-082d-4d73-752b",
       "next": "7c82e6e8-4740-11e9-8bae-0242ac130002-18-5fae-bf01-6b5f-5780-d2ab-9391-bda0-79f2-bcfd-43c2",
       "previous": "f0c51d90-4c6e-11e9-b2d5-0242ac130002-18-a290-cffc-c1c1-8dbb-ff7d-c8a8-0810-4408-bc27-73ce"
      },
      {
       "current": "936192da-d678-11e8-a64b-02420aff0006-20-77c4-fcda-678b-a8c0-5706-c50e-082d-4d73-752b-9805",
       "next": "7c82e6e8-4740-11e9-8bae-0242ac130002-19-bf01-6b5f-5780-d2ab-9391-bda0-79f2-bcfd-43c2-8a24",
       "previous": "f0c51d90-4c6e-11e9-b2d5-0242ac130002-19-cffc-c1c1-8dbb-ff7d-c8a8-0810-4408-bc27-73ce-07db"
      },
      {
       "current": "936192da-d678-11e8-a64b-02420aff0006-21-fcda-678b-a8c0-5706-c50e-082d-4d73-752b-9805-8088",
       "next": "7c82e6e8-4740-11e9-8bae-0242ac130002-20-6b5f-5780-d2ab-9391-bda0-79f2-bcfd-43c2-8a24-964f",
       "previous": "f0c51d90-4c6e-11e9-b2d5-0242ac130002-20-c1c1-8dbb-ff7d-c8a8-0810-4408-bc27-73ce-07db-bb9c"
      }
     ],
     "next": "7c82e6e8-4740-11e9-8bae-0242ac130002-21-5780-d2ab-9391-bda0-79f2-bcfd-43c2-8a24-964f-168a",
     "previous": "f0c51d90-4c6e-11e9-b2d5-0242ac130002-21-8dbb-ff7d-c8a8-0810-4408-bc27-73ce-07db-bb9c-9fc6"
    },
    "scrolled": true
   },
   "outputs": [],
   "source": [
    "!ansible -b -a 'docker pull {singleuser_image}' {target_hub}\n",
    "!ansible -b -a 'docker pull {singleuser_image}' {target_nodes}"
   ]
  },
  {
   "cell_type": "markdown",
   "metadata": {
    "lc_cell_meme": {
     "current": "7c82e6e8-4740-11e9-8bae-0242ac130002-21-5780-d2ab-9391-bda0-79f2-bcfd-43c2-8a24-964f-168a",
     "history": [
      {
       "current": "7c82e6e8-4740-11e9-8bae-0242ac130002-17-bb08-5fae-bf01-6b5f-5780-d2ab-9391-bda0-79f2-bcfd",
       "next": "edbab54e-473f-11e9-8bae-0242ac130002-16-d72b-380b-ffa7-b22f-4aaf-3d4f-dbf0-7d4f-68f3-7db7",
       "previous": "936192da-d678-11e8-a64b-02420aff0006-16-6db4-f0dc-e2da-d5f3-77c4-fcda-678b-a8c0-5706-c50e"
      },
      {
       "current": "7c82e6e8-4740-11e9-8bae-0242ac130002-18-5fae-bf01-6b5f-5780-d2ab-9391-bda0-79f2-bcfd-43c2",
       "next": "edbab54e-473f-11e9-8bae-0242ac130002-17-380b-ffa7-b22f-4aaf-3d4f-dbf0-7d4f-68f3-7db7-bfe3",
       "previous": "936192da-d678-11e8-a64b-02420aff0006-17-f0dc-e2da-d5f3-77c4-fcda-678b-a8c0-5706-c50e-082d"
      },
      {
       "current": "7c82e6e8-4740-11e9-8bae-0242ac130002-19-bf01-6b5f-5780-d2ab-9391-bda0-79f2-bcfd-43c2-8a24",
       "next": "edbab54e-473f-11e9-8bae-0242ac130002-18-ffa7-b22f-4aaf-3d4f-dbf0-7d4f-68f3-7db7-bfe3-f4f3",
       "previous": "936192da-d678-11e8-a64b-02420aff0006-18-e2da-d5f3-77c4-fcda-678b-a8c0-5706-c50e-082d-4d73"
      },
      {
       "current": "7c82e6e8-4740-11e9-8bae-0242ac130002-20-6b5f-5780-d2ab-9391-bda0-79f2-bcfd-43c2-8a24-964f",
       "next": "edbab54e-473f-11e9-8bae-0242ac130002-19-b22f-4aaf-3d4f-dbf0-7d4f-68f3-7db7-bfe3-f4f3-b4e5",
       "previous": "936192da-d678-11e8-a64b-02420aff0006-19-d5f3-77c4-fcda-678b-a8c0-5706-c50e-082d-4d73-752b"
      },
      {
       "current": "7c82e6e8-4740-11e9-8bae-0242ac130002-21-5780-d2ab-9391-bda0-79f2-bcfd-43c2-8a24-964f-168a",
       "next": "edbab54e-473f-11e9-8bae-0242ac130002-20-4aaf-3d4f-dbf0-7d4f-68f3-7db7-bfe3-f4f3-b4e5-b7b6",
       "previous": "936192da-d678-11e8-a64b-02420aff0006-20-77c4-fcda-678b-a8c0-5706-c50e-082d-4d73-752b-9805"
      }
     ],
     "next": "edbab54e-473f-11e9-8bae-0242ac130002-21-3d4f-dbf0-7d4f-68f3-7db7-bfe3-f4f3-b4e5-b7b6-d2de",
     "previous": "936192da-d678-11e8-a64b-02420aff0006-21-fcda-678b-a8c0-5706-c50e-082d-4d73-752b-9805-8088"
    }
   },
   "source": [
    "singleuser用のイメージとして、タグをつけておく"
   ]
  },
  {
   "cell_type": "code",
   "execution_count": null,
   "metadata": {
    "lc_cell_meme": {
     "current": "edbab54e-473f-11e9-8bae-0242ac130002-21-3d4f-dbf0-7d4f-68f3-7db7-bfe3-f4f3-b4e5-b7b6-d2de",
     "execution_end_time": "2022-04-28T04:19:25.166957Z",
     "history": [
      {
       "current": "edbab54e-473f-11e9-8bae-0242ac130002-17-380b-ffa7-b22f-4aaf-3d4f-dbf0-7d4f-68f3-7db7-bfe3",
       "next": "edbab54e-473f-11e9-8bae-0242ac130002-16-212d-7f02-36c3-a201-0fe9-bf2d-edaf-6b87-6e7f-06e3",
       "previous": "7c82e6e8-4740-11e9-8bae-0242ac130002-16-2038-bb08-5fae-bf01-6b5f-5780-d2ab-9391-bda0-79f2"
      },
      {
       "current": "edbab54e-473f-11e9-8bae-0242ac130002-18-ffa7-b22f-4aaf-3d4f-dbf0-7d4f-68f3-7db7-bfe3-f4f3",
       "next": "edbab54e-473f-11e9-8bae-0242ac130002-17-7f02-36c3-a201-0fe9-bf2d-edaf-6b87-6e7f-06e3-363a",
       "previous": "7c82e6e8-4740-11e9-8bae-0242ac130002-17-bb08-5fae-bf01-6b5f-5780-d2ab-9391-bda0-79f2-bcfd"
      },
      {
       "current": "edbab54e-473f-11e9-8bae-0242ac130002-19-b22f-4aaf-3d4f-dbf0-7d4f-68f3-7db7-bfe3-f4f3-b4e5",
       "next": "edbab54e-473f-11e9-8bae-0242ac130002-18-36c3-a201-0fe9-bf2d-edaf-6b87-6e7f-06e3-363a-5736",
       "previous": "7c82e6e8-4740-11e9-8bae-0242ac130002-18-5fae-bf01-6b5f-5780-d2ab-9391-bda0-79f2-bcfd-43c2"
      },
      {
       "current": "edbab54e-473f-11e9-8bae-0242ac130002-20-4aaf-3d4f-dbf0-7d4f-68f3-7db7-bfe3-f4f3-b4e5-b7b6",
       "next": "edbab54e-473f-11e9-8bae-0242ac130002-19-a201-0fe9-bf2d-edaf-6b87-6e7f-06e3-363a-5736-df9a",
       "previous": "7c82e6e8-4740-11e9-8bae-0242ac130002-19-bf01-6b5f-5780-d2ab-9391-bda0-79f2-bcfd-43c2-8a24"
      },
      {
       "current": "edbab54e-473f-11e9-8bae-0242ac130002-21-3d4f-dbf0-7d4f-68f3-7db7-bfe3-f4f3-b4e5-b7b6-d2de",
       "next": "edbab54e-473f-11e9-8bae-0242ac130002-20-0fe9-bf2d-edaf-6b87-6e7f-06e3-363a-5736-df9a-650e",
       "previous": "7c82e6e8-4740-11e9-8bae-0242ac130002-20-6b5f-5780-d2ab-9391-bda0-79f2-bcfd-43c2-8a24-964f"
      }
     ],
     "next": "edbab54e-473f-11e9-8bae-0242ac130002-21-bf2d-edaf-6b87-6e7f-06e3-363a-5736-df9a-650e-6c2f",
     "previous": "7c82e6e8-4740-11e9-8bae-0242ac130002-21-5780-d2ab-9391-bda0-79f2-bcfd-43c2-8a24-964f-168a"
    }
   },
   "outputs": [],
   "source": [
    "!ansible -b -a 'docker tag {singleuser_image} niicloudoperation/jupyterhub-singleuser' {target_hub}\n",
    "!ansible -b -a 'docker tag {singleuser_image} niicloudoperation/jupyterhub-singleuser' {target_nodes}"
   ]
  },
  {
   "cell_type": "code",
   "execution_count": null,
   "metadata": {
    "lc_cell_meme": {
     "current": "edbab54e-473f-11e9-8bae-0242ac130002-21-bf2d-edaf-6b87-6e7f-06e3-363a-5736-df9a-650e-6c2f",
     "execution_end_time": "2022-04-28T04:19:30.439372Z",
     "history": [
      {
       "current": "edbab54e-473f-11e9-8bae-0242ac130002-17-7f02-36c3-a201-0fe9-bf2d-edaf-6b87-6e7f-06e3-363a",
       "next": "c8f2e85a-4f33-11eb-af23-0242ac120002-6-fc89-7b5e-81bd-5e32-a7ce-9457",
       "previous": "edbab54e-473f-11e9-8bae-0242ac130002-16-d72b-380b-ffa7-b22f-4aaf-3d4f-dbf0-7d4f-68f3-7db7"
      },
      {
       "current": "edbab54e-473f-11e9-8bae-0242ac130002-18-36c3-a201-0fe9-bf2d-edaf-6b87-6e7f-06e3-363a-5736",
       "next": "c8f2e85a-4f33-11eb-af23-0242ac120002-7-fc89-7b5e-81bd-5e32-a7ce-9457-1a1e",
       "previous": "edbab54e-473f-11e9-8bae-0242ac130002-17-380b-ffa7-b22f-4aaf-3d4f-dbf0-7d4f-68f3-7db7-bfe3"
      },
      {
       "current": "edbab54e-473f-11e9-8bae-0242ac130002-19-a201-0fe9-bf2d-edaf-6b87-6e7f-06e3-363a-5736-df9a",
       "next": "c8f2e85a-4f33-11eb-af23-0242ac120002-8-fc89-7b5e-81bd-5e32-a7ce-9457-1a1e-176d",
       "previous": "edbab54e-473f-11e9-8bae-0242ac130002-18-ffa7-b22f-4aaf-3d4f-dbf0-7d4f-68f3-7db7-bfe3-f4f3"
      },
      {
       "current": "edbab54e-473f-11e9-8bae-0242ac130002-20-0fe9-bf2d-edaf-6b87-6e7f-06e3-363a-5736-df9a-650e",
       "next": "c8f2e85a-4f33-11eb-af23-0242ac120002-9-fc89-7b5e-81bd-5e32-a7ce-9457-1a1e-176d-c3bf",
       "previous": "edbab54e-473f-11e9-8bae-0242ac130002-19-b22f-4aaf-3d4f-dbf0-7d4f-68f3-7db7-bfe3-f4f3-b4e5"
      },
      {
       "current": "edbab54e-473f-11e9-8bae-0242ac130002-21-bf2d-edaf-6b87-6e7f-06e3-363a-5736-df9a-650e-6c2f",
       "next": "c8f2e85a-4f33-11eb-af23-0242ac120002-10-fc89-7b5e-81bd-5e32-a7ce-9457-1a1e-176d-c3bf-2ee9",
       "previous": "edbab54e-473f-11e9-8bae-0242ac130002-20-4aaf-3d4f-dbf0-7d4f-68f3-7db7-bfe3-f4f3-b4e5-b7b6"
      }
     ],
     "next": "c8f2e85a-4f33-11eb-af23-0242ac120002-11-7b5e-81bd-5e32-a7ce-9457-1a1e-176d-c3bf-2ee9-0e8b",
     "previous": "edbab54e-473f-11e9-8bae-0242ac130002-21-3d4f-dbf0-7d4f-68f3-7db7-bfe3-f4f3-b4e5-b7b6-d2de"
    }
   },
   "outputs": [],
   "source": [
    "!ansible -b -a 'docker images' {target_hub}\n",
    "!ansible -b -a 'docker images' {target_nodes}"
   ]
  },
  {
   "cell_type": "markdown",
   "metadata": {
    "lc_cell_meme": {
     "current": "c8f2e85a-4f33-11eb-af23-0242ac120002-11-7b5e-81bd-5e32-a7ce-9457-1a1e-176d-c3bf-2ee9-0e8b",
     "history": [
      {
       "current": "c8f2e85a-4f33-11eb-af23-0242ac120002-7-fc89-7b5e-81bd-5e32-a7ce-9457-1a1e",
       "next": "9f68f8c0-4f34-11eb-af23-0242ac120002-6-3aae-f5cc-f691-66fc-00a4-0922",
       "previous": "edbab54e-473f-11e9-8bae-0242ac130002-16-212d-7f02-36c3-a201-0fe9-bf2d-edaf-6b87-6e7f-06e3"
      },
      {
       "current": "c8f2e85a-4f33-11eb-af23-0242ac120002-8-fc89-7b5e-81bd-5e32-a7ce-9457-1a1e-176d",
       "next": "9f68f8c0-4f34-11eb-af23-0242ac120002-7-3aae-f5cc-f691-66fc-00a4-0922-e797",
       "previous": "edbab54e-473f-11e9-8bae-0242ac130002-17-7f02-36c3-a201-0fe9-bf2d-edaf-6b87-6e7f-06e3-363a"
      },
      {
       "current": "c8f2e85a-4f33-11eb-af23-0242ac120002-9-fc89-7b5e-81bd-5e32-a7ce-9457-1a1e-176d-c3bf",
       "next": "9f68f8c0-4f34-11eb-af23-0242ac120002-8-3aae-f5cc-f691-66fc-00a4-0922-e797-d568",
       "previous": "edbab54e-473f-11e9-8bae-0242ac130002-18-36c3-a201-0fe9-bf2d-edaf-6b87-6e7f-06e3-363a-5736"
      },
      {
       "current": "c8f2e85a-4f33-11eb-af23-0242ac120002-10-fc89-7b5e-81bd-5e32-a7ce-9457-1a1e-176d-c3bf-2ee9",
       "next": "9f68f8c0-4f34-11eb-af23-0242ac120002-9-3aae-f5cc-f691-66fc-00a4-0922-e797-d568-c91d",
       "previous": "edbab54e-473f-11e9-8bae-0242ac130002-19-a201-0fe9-bf2d-edaf-6b87-6e7f-06e3-363a-5736-df9a"
      },
      {
       "current": "c8f2e85a-4f33-11eb-af23-0242ac120002-11-7b5e-81bd-5e32-a7ce-9457-1a1e-176d-c3bf-2ee9-0e8b",
       "next": "9f68f8c0-4f34-11eb-af23-0242ac120002-10-3aae-f5cc-f691-66fc-00a4-0922-e797-d568-c91d-49ef",
       "previous": "edbab54e-473f-11e9-8bae-0242ac130002-20-0fe9-bf2d-edaf-6b87-6e7f-06e3-363a-5736-df9a-650e"
      }
     ],
     "next": "9f68f8c0-4f34-11eb-af23-0242ac120002-11-f5cc-f691-66fc-00a4-0922-e797-d568-c91d-49ef-683f",
     "previous": "edbab54e-473f-11e9-8bae-0242ac130002-21-bf2d-edaf-6b87-6e7f-06e3-363a-5736-df9a-650e-6c2f"
    }
   },
   "source": [
    "## リソース制限設定\n",
    "\n",
    "YAMLで設定する。\n",
    "\n",
    "設定例：\n",
    "\n",
    "```\n",
    "groups:\n",
    "    group1:\n",
    "        mem_limit: 2G\n",
    "        cpu_limit 2.0\n",
    "        mem_gurantee 1G\n",
    "        cpu_grantee: 0.5\n",
    "        priority: 1\n",
    "    group2:\n",
    "        mem_limit 1G\n",
    "        cpu_limit: 1.0\n",
    "        priority: 10\n",
    "default:\n",
    "    mem_limit: 1G,\n",
    "    cpu_limit: 2.0,\n",
    "    mem_guarantee: 1G\n",
    "    cpu_guarantee: 0.5\n",
    "admin:\n",
    "    mem_limit: 5G\n",
    "```"
   ]
  },
  {
   "cell_type": "code",
   "execution_count": null,
   "metadata": {
    "lc_cell_meme": {
     "current": "9f68f8c0-4f34-11eb-af23-0242ac120002-11-f5cc-f691-66fc-00a4-0922-e797-d568-c91d-49ef-683f",
     "execution_end_time": "2022-04-28T07:52:30.277798Z",
     "history": [
      {
       "current": "9f68f8c0-4f34-11eb-af23-0242ac120002-7-3aae-f5cc-f691-66fc-00a4-0922-e797",
       "next": "d00f5dd2-4f45-11eb-af23-0242ac120002-6-41b5-c208-0524-78e0-f4de-2edf",
       "previous": "c8f2e85a-4f33-11eb-af23-0242ac120002-6-fc89-7b5e-81bd-5e32-a7ce-9457"
      },
      {
       "current": "9f68f8c0-4f34-11eb-af23-0242ac120002-8-3aae-f5cc-f691-66fc-00a4-0922-e797-d568",
       "next": "d00f5dd2-4f45-11eb-af23-0242ac120002-7-41b5-c208-0524-78e0-f4de-2edf-7d6c",
       "previous": "c8f2e85a-4f33-11eb-af23-0242ac120002-7-fc89-7b5e-81bd-5e32-a7ce-9457-1a1e"
      },
      {
       "current": "9f68f8c0-4f34-11eb-af23-0242ac120002-9-3aae-f5cc-f691-66fc-00a4-0922-e797-d568-c91d",
       "next": "d00f5dd2-4f45-11eb-af23-0242ac120002-8-41b5-c208-0524-78e0-f4de-2edf-7d6c-8a55",
       "previous": "c8f2e85a-4f33-11eb-af23-0242ac120002-8-fc89-7b5e-81bd-5e32-a7ce-9457-1a1e-176d"
      },
      {
       "current": "9f68f8c0-4f34-11eb-af23-0242ac120002-10-3aae-f5cc-f691-66fc-00a4-0922-e797-d568-c91d-49ef",
       "next": "d00f5dd2-4f45-11eb-af23-0242ac120002-9-41b5-c208-0524-78e0-f4de-2edf-7d6c-8a55-4b45",
       "previous": "c8f2e85a-4f33-11eb-af23-0242ac120002-9-fc89-7b5e-81bd-5e32-a7ce-9457-1a1e-176d-c3bf"
      },
      {
       "current": "9f68f8c0-4f34-11eb-af23-0242ac120002-11-f5cc-f691-66fc-00a4-0922-e797-d568-c91d-49ef-683f",
       "next": "d00f5dd2-4f45-11eb-af23-0242ac120002-10-41b5-c208-0524-78e0-f4de-2edf-7d6c-8a55-4b45-8482",
       "previous": "c8f2e85a-4f33-11eb-af23-0242ac120002-10-fc89-7b5e-81bd-5e32-a7ce-9457-1a1e-176d-c3bf-2ee9"
      }
     ],
     "next": "d00f5dd2-4f45-11eb-af23-0242ac120002-11-c208-0524-78e0-f4de-2edf-7d6c-8a55-4b45-8482-f0dc",
     "previous": "c8f2e85a-4f33-11eb-af23-0242ac120002-11-7b5e-81bd-5e32-a7ce-9457-1a1e-176d-c3bf-2ee9-0e8b"
    }
   },
   "outputs": [],
   "source": [
    "%%writefile {work_dir}/resource.yaml\n",
    "groups:\n",
    "    staff:\n",
    "        mem_limit: 4G\n",
    "        mem_guarantee: 1G\n",
    "        cpu_limit: 1.0\n",
    "        priority: 1\n",
    "default:\n",
    "    mem_limit: 1G\n",
    "    mem_guarantee: 1G\n",
    "    cpu_limit: 1.0\n",
    "admin:\n",
    "    mem_limit: 4G\n",
    "    mem_guarantee: 1G\n",
    "    cpu_limit: 1.0\n"
   ]
  },
  {
   "cell_type": "markdown",
   "metadata": {
    "lc_cell_meme": {
     "current": "d00f5dd2-4f45-11eb-af23-0242ac120002-11-c208-0524-78e0-f4de-2edf-7d6c-8a55-4b45-8482-f0dc",
     "history": [
      {
       "current": "d00f5dd2-4f45-11eb-af23-0242ac120002-7-41b5-c208-0524-78e0-f4de-2edf-7d6c",
       "next": "ba4cf34a-92dd-11ec-8128-6b42dc3e1973",
       "previous": "9f68f8c0-4f34-11eb-af23-0242ac120002-6-3aae-f5cc-f691-66fc-00a4-0922"
      },
      {
       "current": "d00f5dd2-4f45-11eb-af23-0242ac120002-8-41b5-c208-0524-78e0-f4de-2edf-7d6c-8a55",
       "next": "ba4cf34a-92dd-11ec-8128-6b42dc3e1973-1-cd80",
       "previous": "9f68f8c0-4f34-11eb-af23-0242ac120002-7-3aae-f5cc-f691-66fc-00a4-0922-e797"
      },
      {
       "current": "d00f5dd2-4f45-11eb-af23-0242ac120002-9-41b5-c208-0524-78e0-f4de-2edf-7d6c-8a55-4b45",
       "next": "ba4cf34a-92dd-11ec-8128-6b42dc3e1973-2-cd80-1e5f",
       "previous": "9f68f8c0-4f34-11eb-af23-0242ac120002-8-3aae-f5cc-f691-66fc-00a4-0922-e797-d568"
      },
      {
       "current": "d00f5dd2-4f45-11eb-af23-0242ac120002-10-41b5-c208-0524-78e0-f4de-2edf-7d6c-8a55-4b45-8482",
       "next": "ba4cf34a-92dd-11ec-8128-6b42dc3e1973-3-cd80-1e5f-0805",
       "previous": "9f68f8c0-4f34-11eb-af23-0242ac120002-9-3aae-f5cc-f691-66fc-00a4-0922-e797-d568-c91d"
      },
      {
       "current": "d00f5dd2-4f45-11eb-af23-0242ac120002-11-c208-0524-78e0-f4de-2edf-7d6c-8a55-4b45-8482-f0dc",
       "next": "ba4cf34a-92dd-11ec-8128-6b42dc3e1973-4-cd80-1e5f-0805-d8d6",
       "previous": "9f68f8c0-4f34-11eb-af23-0242ac120002-10-3aae-f5cc-f691-66fc-00a4-0922-e797-d568-c91d-49ef"
      }
     ],
     "next": "ba4cf34a-92dd-11ec-8128-6b42dc3e1973-5-cd80-1e5f-0805-d8d6-d60e",
     "previous": "9f68f8c0-4f34-11eb-af23-0242ac120002-11-f5cc-f691-66fc-00a4-0922-e797-d568-c91d-49ef-683f"
    }
   },
   "source": [
    "設定ファイルの検証"
   ]
  },
  {
   "cell_type": "code",
   "execution_count": null,
   "metadata": {
    "lc_cell_meme": {
     "current": "ba4cf34a-92dd-11ec-8128-6b42dc3e1973-5-cd80-1e5f-0805-d8d6-d60e",
     "execution_end_time": "2022-04-28T07:52:32.935974Z",
     "history": [
      {
       "current": "ba4cf34a-92dd-11ec-8128-6b42dc3e1973-1-cd80",
       "next": "f9dfe7ac-4f37-11eb-af23-0242ac120002-6-af4c-a5ff-affb-2a98-e58b-dd4b",
       "previous": "d00f5dd2-4f45-11eb-af23-0242ac120002-6-41b5-c208-0524-78e0-f4de-2edf"
      },
      {
       "current": "ba4cf34a-92dd-11ec-8128-6b42dc3e1973-2-cd80-1e5f",
       "next": "f9dfe7ac-4f37-11eb-af23-0242ac120002-7-af4c-a5ff-affb-2a98-e58b-dd4b-3d61",
       "previous": "d00f5dd2-4f45-11eb-af23-0242ac120002-7-41b5-c208-0524-78e0-f4de-2edf-7d6c"
      },
      {
       "current": "ba4cf34a-92dd-11ec-8128-6b42dc3e1973-3-cd80-1e5f-0805",
       "next": "f9dfe7ac-4f37-11eb-af23-0242ac120002-8-af4c-a5ff-affb-2a98-e58b-dd4b-3d61-698b",
       "previous": "d00f5dd2-4f45-11eb-af23-0242ac120002-8-41b5-c208-0524-78e0-f4de-2edf-7d6c-8a55"
      },
      {
       "current": "ba4cf34a-92dd-11ec-8128-6b42dc3e1973-4-cd80-1e5f-0805-d8d6",
       "next": "f9dfe7ac-4f37-11eb-af23-0242ac120002-9-af4c-a5ff-affb-2a98-e58b-dd4b-3d61-698b-17e3",
       "previous": "d00f5dd2-4f45-11eb-af23-0242ac120002-9-41b5-c208-0524-78e0-f4de-2edf-7d6c-8a55-4b45"
      },
      {
       "current": "ba4cf34a-92dd-11ec-8128-6b42dc3e1973-5-cd80-1e5f-0805-d8d6-d60e",
       "next": "f9dfe7ac-4f37-11eb-af23-0242ac120002-10-af4c-a5ff-affb-2a98-e58b-dd4b-3d61-698b-17e3-44e1",
       "previous": "d00f5dd2-4f45-11eb-af23-0242ac120002-10-41b5-c208-0524-78e0-f4de-2edf-7d6c-8a55-4b45-8482"
      }
     ],
     "next": "f9dfe7ac-4f37-11eb-af23-0242ac120002-11-a5ff-affb-2a98-e58b-dd4b-3d61-698b-17e3-44e1-da87",
     "previous": "d00f5dd2-4f45-11eb-af23-0242ac120002-11-c208-0524-78e0-f4de-2edf-7d6c-8a55-4b45-8482-f0dc"
    }
   },
   "outputs": [],
   "source": [
    "!curl -o {work_dir}/resources-schema.json \\\n",
    "    https://raw.githubusercontent.com/NII-cloud-operation/CoursewareHub-LC_platform/master/jupyterhub/resources-schema.json"
   ]
  },
  {
   "cell_type": "code",
   "execution_count": null,
   "metadata": {
    "lc_cell_meme": {
     "current": "f9dfe7ac-4f37-11eb-af23-0242ac120002-11-a5ff-affb-2a98-e58b-dd4b-3d61-698b-17e3-44e1-da87",
     "execution_end_time": "2022-04-28T07:52:33.902787Z",
     "history": [
      {
       "current": "f9dfe7ac-4f37-11eb-af23-0242ac120002-7-af4c-a5ff-affb-2a98-e58b-dd4b-3d61",
       "next": "105c49e8-4f34-11eb-af23-0242ac120002-6-7923-5f7a-d1ae-f47d-5110-9bf0",
       "previous": "ba4cf34a-92dd-11ec-8128-6b42dc3e1973"
      },
      {
       "current": "f9dfe7ac-4f37-11eb-af23-0242ac120002-8-af4c-a5ff-affb-2a98-e58b-dd4b-3d61-698b",
       "next": "105c49e8-4f34-11eb-af23-0242ac120002-7-7923-5f7a-d1ae-f47d-5110-9bf0-6364",
       "previous": "ba4cf34a-92dd-11ec-8128-6b42dc3e1973-1-cd80"
      },
      {
       "current": "f9dfe7ac-4f37-11eb-af23-0242ac120002-9-af4c-a5ff-affb-2a98-e58b-dd4b-3d61-698b-17e3",
       "next": "105c49e8-4f34-11eb-af23-0242ac120002-8-7923-5f7a-d1ae-f47d-5110-9bf0-6364-9481",
       "previous": "ba4cf34a-92dd-11ec-8128-6b42dc3e1973-2-cd80-1e5f"
      },
      {
       "current": "f9dfe7ac-4f37-11eb-af23-0242ac120002-10-af4c-a5ff-affb-2a98-e58b-dd4b-3d61-698b-17e3-44e1",
       "next": "105c49e8-4f34-11eb-af23-0242ac120002-9-7923-5f7a-d1ae-f47d-5110-9bf0-6364-9481-98c3",
       "previous": "ba4cf34a-92dd-11ec-8128-6b42dc3e1973-3-cd80-1e5f-0805"
      },
      {
       "current": "f9dfe7ac-4f37-11eb-af23-0242ac120002-11-a5ff-affb-2a98-e58b-dd4b-3d61-698b-17e3-44e1-da87",
       "next": "105c49e8-4f34-11eb-af23-0242ac120002-10-7923-5f7a-d1ae-f47d-5110-9bf0-6364-9481-98c3-2525",
       "previous": "ba4cf34a-92dd-11ec-8128-6b42dc3e1973-4-cd80-1e5f-0805-d8d6"
      }
     ],
     "next": "105c49e8-4f34-11eb-af23-0242ac120002-11-5f7a-d1ae-f47d-5110-9bf0-6364-9481-98c3-2525-c3bb",
     "previous": "ba4cf34a-92dd-11ec-8128-6b42dc3e1973-5-cd80-1e5f-0805-d8d6-d60e"
    }
   },
   "outputs": [],
   "source": [
    "import jsonschema\n",
    "import json\n",
    "import yaml\n",
    "\n",
    "with open(os.path.join(work_dir, 'resources-schema.json')) as f:\n",
    "    resources_config_schema = json.load(f)\n",
    "\n",
    "with open(os.path.join(work_dir, 'resource.yaml')) as f:\n",
    "    resources_config = yaml.load(f, Loader=yaml.SafeLoader)\n",
    "    jsonschema.validate(resources_config, resources_config_schema)\n",
    "\n",
    "print(json.dumps(resources_config, indent=2))"
   ]
  },
  {
   "cell_type": "code",
   "execution_count": null,
   "metadata": {
    "lc_cell_meme": {
     "current": "105c49e8-4f34-11eb-af23-0242ac120002-11-5f7a-d1ae-f47d-5110-9bf0-6364-9481-98c3-2525-c3bb",
     "execution_end_time": "2022-04-28T07:52:41.195553Z",
     "history": [
      {
       "current": "105c49e8-4f34-11eb-af23-0242ac120002-7-7923-5f7a-d1ae-f47d-5110-9bf0-6364",
       "next": "e2ba2c42-d66a-11e8-a64b-02420aff0006-16-ece8-509a-7ea5-0cdd-ff8e-ecc4-8ac6-1314-51c6-6e9d",
       "previous": "f9dfe7ac-4f37-11eb-af23-0242ac120002-6-af4c-a5ff-affb-2a98-e58b-dd4b"
      },
      {
       "current": "105c49e8-4f34-11eb-af23-0242ac120002-8-7923-5f7a-d1ae-f47d-5110-9bf0-6364-9481",
       "next": "e2ba2c42-d66a-11e8-a64b-02420aff0006-17-509a-7ea5-0cdd-ff8e-ecc4-8ac6-1314-51c6-6e9d-7239",
       "previous": "f9dfe7ac-4f37-11eb-af23-0242ac120002-7-af4c-a5ff-affb-2a98-e58b-dd4b-3d61"
      },
      {
       "current": "105c49e8-4f34-11eb-af23-0242ac120002-9-7923-5f7a-d1ae-f47d-5110-9bf0-6364-9481-98c3",
       "next": "e2ba2c42-d66a-11e8-a64b-02420aff0006-18-7ea5-0cdd-ff8e-ecc4-8ac6-1314-51c6-6e9d-7239-f542",
       "previous": "f9dfe7ac-4f37-11eb-af23-0242ac120002-8-af4c-a5ff-affb-2a98-e58b-dd4b-3d61-698b"
      },
      {
       "current": "105c49e8-4f34-11eb-af23-0242ac120002-10-7923-5f7a-d1ae-f47d-5110-9bf0-6364-9481-98c3-2525",
       "next": "e2ba2c42-d66a-11e8-a64b-02420aff0006-19-0cdd-ff8e-ecc4-8ac6-1314-51c6-6e9d-7239-f542-402e",
       "previous": "f9dfe7ac-4f37-11eb-af23-0242ac120002-9-af4c-a5ff-affb-2a98-e58b-dd4b-3d61-698b-17e3"
      },
      {
       "current": "105c49e8-4f34-11eb-af23-0242ac120002-11-5f7a-d1ae-f47d-5110-9bf0-6364-9481-98c3-2525-c3bb",
       "next": "e2ba2c42-d66a-11e8-a64b-02420aff0006-20-ff8e-ecc4-8ac6-1314-51c6-6e9d-7239-f542-402e-a468",
       "previous": "f9dfe7ac-4f37-11eb-af23-0242ac120002-10-af4c-a5ff-affb-2a98-e58b-dd4b-3d61-698b-17e3-44e1"
      }
     ],
     "next": "e2ba2c42-d66a-11e8-a64b-02420aff0006-21-ecc4-8ac6-1314-51c6-6e9d-7239-f542-402e-a468-4e69",
     "previous": "f9dfe7ac-4f37-11eb-af23-0242ac120002-11-a5ff-affb-2a98-e58b-dd4b-3d61-698b-17e3-44e1-da87"
    }
   },
   "outputs": [],
   "source": [
    "!ansible -b -m file -a 'path=/etc/jupyterhub state=directory' {target_hub} -l {target_group}\n",
    "!ansible -b -m copy -a 'src={work_dir}/resource.yaml dest=/etc/jupyterhub/resource.yaml'  {target_hub} -l {target_group}"
   ]
  },
  {
   "cell_type": "markdown",
   "metadata": {
    "lc_cell_meme": {
     "current": "e2ba2c42-d66a-11e8-a64b-02420aff0006-21-ecc4-8ac6-1314-51c6-6e9d-7239-f542-402e-a468-4e69",
     "history": [
      {
       "current": "e2ba2c42-d66a-11e8-a64b-02420aff0006-17-509a-7ea5-0cdd-ff8e-ecc4-8ac6-1314-51c6-6e9d-7239",
       "next": "0d5b7bca-ce38-11e9-98f4-0242ac120002-16-c5b8-dde0-71f8-855e-7c8d-276d-dc20-2aad-1dad-4848",
       "previous": "105c49e8-4f34-11eb-af23-0242ac120002-6-7923-5f7a-d1ae-f47d-5110-9bf0"
      },
      {
       "current": "e2ba2c42-d66a-11e8-a64b-02420aff0006-18-7ea5-0cdd-ff8e-ecc4-8ac6-1314-51c6-6e9d-7239-f542",
       "next": "0d5b7bca-ce38-11e9-98f4-0242ac120002-17-dde0-71f8-855e-7c8d-276d-dc20-2aad-1dad-4848-9e62",
       "previous": "105c49e8-4f34-11eb-af23-0242ac120002-7-7923-5f7a-d1ae-f47d-5110-9bf0-6364"
      },
      {
       "current": "e2ba2c42-d66a-11e8-a64b-02420aff0006-19-0cdd-ff8e-ecc4-8ac6-1314-51c6-6e9d-7239-f542-402e",
       "next": "0d5b7bca-ce38-11e9-98f4-0242ac120002-18-71f8-855e-7c8d-276d-dc20-2aad-1dad-4848-9e62-9054",
       "previous": "105c49e8-4f34-11eb-af23-0242ac120002-8-7923-5f7a-d1ae-f47d-5110-9bf0-6364-9481"
      },
      {
       "current": "e2ba2c42-d66a-11e8-a64b-02420aff0006-20-ff8e-ecc4-8ac6-1314-51c6-6e9d-7239-f542-402e-a468",
       "next": "0d5b7bca-ce38-11e9-98f4-0242ac120002-19-855e-7c8d-276d-dc20-2aad-1dad-4848-9e62-9054-b792",
       "previous": "105c49e8-4f34-11eb-af23-0242ac120002-9-7923-5f7a-d1ae-f47d-5110-9bf0-6364-9481-98c3"
      },
      {
       "current": "e2ba2c42-d66a-11e8-a64b-02420aff0006-21-ecc4-8ac6-1314-51c6-6e9d-7239-f542-402e-a468-4e69",
       "next": "0d5b7bca-ce38-11e9-98f4-0242ac120002-20-7c8d-276d-dc20-2aad-1dad-4848-9e62-9054-b792-d7d4",
       "previous": "105c49e8-4f34-11eb-af23-0242ac120002-10-7923-5f7a-d1ae-f47d-5110-9bf0-6364-9481-98c3-2525"
      }
     ],
     "next": "0d5b7bca-ce38-11e9-98f4-0242ac120002-21-276d-dc20-2aad-1dad-4848-9e62-9054-b792-d7d4-5d1c",
     "previous": "105c49e8-4f34-11eb-af23-0242ac120002-11-5f7a-d1ae-f47d-5110-9bf0-6364-9481-98c3-2525-c3bb"
    }
   },
   "source": [
    "## JupyterHubコンテナの準備\n",
    "\n",
    "JupyterHubはDockerイメージ(`niicloudoperation/coursewarehub-jupyterhub:master`)として提供される。"
   ]
  },
  {
   "cell_type": "markdown",
   "metadata": {
    "lc_cell_meme": {
     "current": "0d5b7bca-ce38-11e9-98f4-0242ac120002-21-276d-dc20-2aad-1dad-4848-9e62-9054-b792-d7d4-5d1c",
     "history": [
      {
       "current": "0d5b7bca-ce38-11e9-98f4-0242ac120002-17-dde0-71f8-855e-7c8d-276d-dc20-2aad-1dad-4848-9e62",
       "next": "14a000bd-92e1-11ec-9b43-6b42dc3e1973",
       "previous": "e2ba2c42-d66a-11e8-a64b-02420aff0006-16-ece8-509a-7ea5-0cdd-ff8e-ecc4-8ac6-1314-51c6-6e9d"
      },
      {
       "current": "0d5b7bca-ce38-11e9-98f4-0242ac120002-18-71f8-855e-7c8d-276d-dc20-2aad-1dad-4848-9e62-9054",
       "next": "14a000bd-92e1-11ec-9b43-6b42dc3e1973-1-f6de",
       "previous": "e2ba2c42-d66a-11e8-a64b-02420aff0006-17-509a-7ea5-0cdd-ff8e-ecc4-8ac6-1314-51c6-6e9d-7239"
      },
      {
       "current": "0d5b7bca-ce38-11e9-98f4-0242ac120002-19-855e-7c8d-276d-dc20-2aad-1dad-4848-9e62-9054-b792",
       "next": "14a000bd-92e1-11ec-9b43-6b42dc3e1973-2-f6de-994c",
       "previous": "e2ba2c42-d66a-11e8-a64b-02420aff0006-18-7ea5-0cdd-ff8e-ecc4-8ac6-1314-51c6-6e9d-7239-f542"
      },
      {
       "current": "0d5b7bca-ce38-11e9-98f4-0242ac120002-20-7c8d-276d-dc20-2aad-1dad-4848-9e62-9054-b792-d7d4",
       "next": "14a000bd-92e1-11ec-9b43-6b42dc3e1973-3-f6de-994c-ff16",
       "previous": "e2ba2c42-d66a-11e8-a64b-02420aff0006-19-0cdd-ff8e-ecc4-8ac6-1314-51c6-6e9d-7239-f542-402e"
      },
      {
       "current": "0d5b7bca-ce38-11e9-98f4-0242ac120002-21-276d-dc20-2aad-1dad-4848-9e62-9054-b792-d7d4-5d1c",
       "next": "14a000bd-92e1-11ec-9b43-6b42dc3e1973-4-f6de-994c-ff16-6a2f",
       "previous": "e2ba2c42-d66a-11e8-a64b-02420aff0006-20-ff8e-ecc4-8ac6-1314-51c6-6e9d-7239-f542-402e-a468"
      }
     ],
     "next": "14a000bd-92e1-11ec-9b43-6b42dc3e1973-5-f6de-994c-ff16-6a2f-badd",
     "previous": "e2ba2c42-d66a-11e8-a64b-02420aff0006-21-ecc4-8ac6-1314-51c6-6e9d-7239-f542-402e-a468-4e69"
    }
   },
   "source": [
    "必要なら、カスタマイズする。\n",
    "\n",
    "> カスタマイズは、 `/etc/jupyterhub/jupyterhub_config.d/` に `.py` ファイルを設定することで可能。"
   ]
  },
  {
   "cell_type": "code",
   "execution_count": null,
   "metadata": {
    "lc_cell_meme": {
     "current": "14a000bd-92e1-11ec-9b43-6b42dc3e1973-5-f6de-994c-ff16-6a2f-badd",
     "execution_end_time": "2022-04-28T07:52:45.628534Z",
     "history": [
      {
       "current": "14a000bd-92e1-11ec-9b43-6b42dc3e1973-1-f6de",
       "next": "2d95a98c-e206-11ea-8efe-0242ac120002-10-3c60-4f57-9c4a-289e-25f9-e4f0-e41d-dde3-5e2f-fe11",
       "previous": "0d5b7bca-ce38-11e9-98f4-0242ac120002-16-c5b8-dde0-71f8-855e-7c8d-276d-dc20-2aad-1dad-4848"
      },
      {
       "current": "14a000bd-92e1-11ec-9b43-6b42dc3e1973-2-f6de-994c",
       "next": "2d95a98c-e206-11ea-8efe-0242ac120002-11-4f57-9c4a-289e-25f9-e4f0-e41d-dde3-5e2f-fe11-a370",
       "previous": "0d5b7bca-ce38-11e9-98f4-0242ac120002-17-dde0-71f8-855e-7c8d-276d-dc20-2aad-1dad-4848-9e62"
      },
      {
       "current": "14a000bd-92e1-11ec-9b43-6b42dc3e1973-3-f6de-994c-ff16",
       "next": "2d95a98c-e206-11ea-8efe-0242ac120002-12-9c4a-289e-25f9-e4f0-e41d-dde3-5e2f-fe11-a370-3478",
       "previous": "0d5b7bca-ce38-11e9-98f4-0242ac120002-18-71f8-855e-7c8d-276d-dc20-2aad-1dad-4848-9e62-9054"
      },
      {
       "current": "14a000bd-92e1-11ec-9b43-6b42dc3e1973-4-f6de-994c-ff16-6a2f",
       "next": "2d95a98c-e206-11ea-8efe-0242ac120002-13-289e-25f9-e4f0-e41d-dde3-5e2f-fe11-a370-3478-ceff",
       "previous": "0d5b7bca-ce38-11e9-98f4-0242ac120002-19-855e-7c8d-276d-dc20-2aad-1dad-4848-9e62-9054-b792"
      },
      {
       "current": "14a000bd-92e1-11ec-9b43-6b42dc3e1973-5-f6de-994c-ff16-6a2f-badd",
       "next": "2d95a98c-e206-11ea-8efe-0242ac120002-14-25f9-e4f0-e41d-dde3-5e2f-fe11-a370-3478-ceff-8c7e",
       "previous": "0d5b7bca-ce38-11e9-98f4-0242ac120002-20-7c8d-276d-dc20-2aad-1dad-4848-9e62-9054-b792-d7d4"
      }
     ],
     "next": "2d95a98c-e206-11ea-8efe-0242ac120002-15-e4f0-e41d-dde3-5e2f-fe11-a370-3478-ceff-8c7e-c4ad",
     "previous": "0d5b7bca-ce38-11e9-98f4-0242ac120002-21-276d-dc20-2aad-1dad-4848-9e62-9054-b792-d7d4-5d1c"
    }
   },
   "outputs": [],
   "source": [
    "!ansible -b -m file -a 'dest=/etc/jupyterhub/jupyterhub_config.d/ state=directory' {target_hub} -l {target_group}"
   ]
  },
  {
   "cell_type": "markdown",
   "metadata": {
    "lc_cell_meme": {
     "current": "2d95a98c-e206-11ea-8efe-0242ac120002-15-e4f0-e41d-dde3-5e2f-fe11-a370-3478-ceff-8c7e-c4ad",
     "history": [
      {
       "current": "2d95a98c-e206-11ea-8efe-0242ac120002-11-4f57-9c4a-289e-25f9-e4f0-e41d-dde3-5e2f-fe11-a370",
       "next": "6dd7b8da-ced1-11e9-98f4-0242ac120002-16-27b6-a4d5-a343-1a1a-61a3-1d40-1b6b-8ace-f7d0-3625",
       "previous": "14a000bd-92e1-11ec-9b43-6b42dc3e1973"
      },
      {
       "current": "2d95a98c-e206-11ea-8efe-0242ac120002-12-9c4a-289e-25f9-e4f0-e41d-dde3-5e2f-fe11-a370-3478",
       "next": "6dd7b8da-ced1-11e9-98f4-0242ac120002-17-a4d5-a343-1a1a-61a3-1d40-1b6b-8ace-f7d0-3625-52ef",
       "previous": "14a000bd-92e1-11ec-9b43-6b42dc3e1973-1-f6de"
      },
      {
       "current": "2d95a98c-e206-11ea-8efe-0242ac120002-13-289e-25f9-e4f0-e41d-dde3-5e2f-fe11-a370-3478-ceff",
       "next": "6dd7b8da-ced1-11e9-98f4-0242ac120002-18-a343-1a1a-61a3-1d40-1b6b-8ace-f7d0-3625-52ef-84c5",
       "previous": "14a000bd-92e1-11ec-9b43-6b42dc3e1973-2-f6de-994c"
      },
      {
       "current": "2d95a98c-e206-11ea-8efe-0242ac120002-14-25f9-e4f0-e41d-dde3-5e2f-fe11-a370-3478-ceff-8c7e",
       "next": "6dd7b8da-ced1-11e9-98f4-0242ac120002-19-1a1a-61a3-1d40-1b6b-8ace-f7d0-3625-52ef-84c5-f6df",
       "previous": "14a000bd-92e1-11ec-9b43-6b42dc3e1973-3-f6de-994c-ff16"
      },
      {
       "current": "2d95a98c-e206-11ea-8efe-0242ac120002-15-e4f0-e41d-dde3-5e2f-fe11-a370-3478-ceff-8c7e-c4ad",
       "next": "6dd7b8da-ced1-11e9-98f4-0242ac120002-20-61a3-1d40-1b6b-8ace-f7d0-3625-52ef-84c5-f6df-1ed8",
       "previous": "14a000bd-92e1-11ec-9b43-6b42dc3e1973-4-f6de-994c-ff16-6a2f"
      }
     ],
     "next": "6dd7b8da-ced1-11e9-98f4-0242ac120002-21-1d40-1b6b-8ace-f7d0-3625-52ef-84c5-f6df-1ed8-c4ba",
     "previous": "14a000bd-92e1-11ec-9b43-6b42dc3e1973-5-f6de-994c-ff16-6a2f-badd"
    }
   },
   "source": [
    "共有ディレクトリ機能を使う場合には、以下のセルのコメントアウトを外す。(専用のNFSボリュームが設定済みの必要がある)\n",
    "\n",
    "> 本Notebookでは未対応。\n"
   ]
  },
  {
   "cell_type": "code",
   "execution_count": null,
   "metadata": {
    "lc_cell_meme": {
     "current": "6dd7b8da-ced1-11e9-98f4-0242ac120002-21-1d40-1b6b-8ace-f7d0-3625-52ef-84c5-f6df-1ed8-c4ba",
     "execution_end_time": "2022-04-28T07:52:48.873224Z",
     "history": [
      {
       "current": "6dd7b8da-ced1-11e9-98f4-0242ac120002-17-a4d5-a343-1a1a-61a3-1d40-1b6b-8ace-f7d0-3625-52ef",
       "next": "beaf20d8-92d6-11ec-afc2-6b42dc3e1973",
       "previous": "2d95a98c-e206-11ea-8efe-0242ac120002-10-3c60-4f57-9c4a-289e-25f9-e4f0-e41d-dde3-5e2f-fe11"
      },
      {
       "current": "6dd7b8da-ced1-11e9-98f4-0242ac120002-18-a343-1a1a-61a3-1d40-1b6b-8ace-f7d0-3625-52ef-84c5",
       "next": "beaf20d8-92d6-11ec-afc2-6b42dc3e1973-1-f38e",
       "previous": "2d95a98c-e206-11ea-8efe-0242ac120002-11-4f57-9c4a-289e-25f9-e4f0-e41d-dde3-5e2f-fe11-a370"
      },
      {
       "current": "6dd7b8da-ced1-11e9-98f4-0242ac120002-19-1a1a-61a3-1d40-1b6b-8ace-f7d0-3625-52ef-84c5-f6df",
       "next": "beaf20d8-92d6-11ec-afc2-6b42dc3e1973-2-f38e-0b55",
       "previous": "2d95a98c-e206-11ea-8efe-0242ac120002-12-9c4a-289e-25f9-e4f0-e41d-dde3-5e2f-fe11-a370-3478"
      },
      {
       "current": "6dd7b8da-ced1-11e9-98f4-0242ac120002-20-61a3-1d40-1b6b-8ace-f7d0-3625-52ef-84c5-f6df-1ed8",
       "next": "beaf20d8-92d6-11ec-afc2-6b42dc3e1973-3-f38e-0b55-ed59",
       "previous": "2d95a98c-e206-11ea-8efe-0242ac120002-13-289e-25f9-e4f0-e41d-dde3-5e2f-fe11-a370-3478-ceff"
      },
      {
       "current": "6dd7b8da-ced1-11e9-98f4-0242ac120002-21-1d40-1b6b-8ace-f7d0-3625-52ef-84c5-f6df-1ed8-c4ba",
       "next": "beaf20d8-92d6-11ec-afc2-6b42dc3e1973-4-f38e-0b55-ed59-73a2",
       "previous": "2d95a98c-e206-11ea-8efe-0242ac120002-14-25f9-e4f0-e41d-dde3-5e2f-fe11-a370-3478-ceff-8c7e"
      }
     ],
     "next": "beaf20d8-92d6-11ec-afc2-6b42dc3e1973-5-f38e-0b55-ed59-73a2-c657",
     "previous": "2d95a98c-e206-11ea-8efe-0242ac120002-15-e4f0-e41d-dde3-5e2f-fe11-a370-3478-ceff-8c7e-c4ad"
    }
   },
   "outputs": [],
   "source": [
    "# %%writefile {work_dir}/share_jupyterhub_config.py\n",
    "\n",
    "# from docker.types import Mount\n",
    "\n",
    "# extra_user_mounts = []\n",
    "# extra_user_mounts.append(\n",
    "#     Mount(\n",
    "#         type=\"bind\",\n",
    "#         target='{homedir}/share',\n",
    "#         source='/share',\n",
    "#         read_only=False,\n",
    "#     )\n",
    "# )\n",
    "# c.CoursewareUserSpawner.extra_user_mounts = extra_user_mounts\n",
    "\n"
   ]
  },
  {
   "cell_type": "code",
   "execution_count": null,
   "metadata": {
    "lc_cell_meme": {
     "current": "beaf20d8-92d6-11ec-afc2-6b42dc3e1973-5-f38e-0b55-ed59-73a2-c657",
     "execution_end_time": "2022-04-28T07:52:49.957165Z",
     "history": [
      {
       "current": "beaf20d8-92d6-11ec-afc2-6b42dc3e1973-1-f38e",
       "next": "93342aac-e63b-11e8-9b3e-02420aff0006-16-58e9-bf66-ebec-c665-1bac-6802-3374-562d-d3f1-067e",
       "previous": "6dd7b8da-ced1-11e9-98f4-0242ac120002-16-27b6-a4d5-a343-1a1a-61a3-1d40-1b6b-8ace-f7d0-3625"
      },
      {
       "current": "beaf20d8-92d6-11ec-afc2-6b42dc3e1973-2-f38e-0b55",
       "next": "93342aac-e63b-11e8-9b3e-02420aff0006-17-bf66-ebec-c665-1bac-6802-3374-562d-d3f1-067e-1400",
       "previous": "6dd7b8da-ced1-11e9-98f4-0242ac120002-17-a4d5-a343-1a1a-61a3-1d40-1b6b-8ace-f7d0-3625-52ef"
      },
      {
       "current": "beaf20d8-92d6-11ec-afc2-6b42dc3e1973-3-f38e-0b55-ed59",
       "next": "93342aac-e63b-11e8-9b3e-02420aff0006-18-ebec-c665-1bac-6802-3374-562d-d3f1-067e-1400-ea8b",
       "previous": "6dd7b8da-ced1-11e9-98f4-0242ac120002-18-a343-1a1a-61a3-1d40-1b6b-8ace-f7d0-3625-52ef-84c5"
      },
      {
       "current": "beaf20d8-92d6-11ec-afc2-6b42dc3e1973-4-f38e-0b55-ed59-73a2",
       "next": "93342aac-e63b-11e8-9b3e-02420aff0006-19-c665-1bac-6802-3374-562d-d3f1-067e-1400-ea8b-f587",
       "previous": "6dd7b8da-ced1-11e9-98f4-0242ac120002-19-1a1a-61a3-1d40-1b6b-8ace-f7d0-3625-52ef-84c5-f6df"
      },
      {
       "current": "beaf20d8-92d6-11ec-afc2-6b42dc3e1973-5-f38e-0b55-ed59-73a2-c657",
       "next": "93342aac-e63b-11e8-9b3e-02420aff0006-20-1bac-6802-3374-562d-d3f1-067e-1400-ea8b-f587-9032",
       "previous": "6dd7b8da-ced1-11e9-98f4-0242ac120002-20-61a3-1d40-1b6b-8ace-f7d0-3625-52ef-84c5-f6df-1ed8"
      }
     ],
     "next": "93342aac-e63b-11e8-9b3e-02420aff0006-21-6802-3374-562d-d3f1-067e-1400-ea8b-f587-9032-f1f8",
     "previous": "6dd7b8da-ced1-11e9-98f4-0242ac120002-21-1d40-1b6b-8ace-f7d0-3625-52ef-84c5-f6df-1ed8-c4ba"
    }
   },
   "outputs": [],
   "source": [
    "# !ansible -b -m copy \\\n",
    "#     -a 'src={work_dir}/share_jupyterhub_config.py dest=/etc/jupyterhub/jupyterhub_config.d/share_jupyterhub_config.py' \\\n",
    "#     {target_hub} -l {target_group}"
   ]
  },
  {
   "cell_type": "markdown",
   "metadata": {
    "lc_cell_meme": {
     "current": "93342aac-e63b-11e8-9b3e-02420aff0006-21-6802-3374-562d-d3f1-067e-1400-ea8b-f587-9032-f1f8",
     "history": [
      {
       "current": "93342aac-e63b-11e8-9b3e-02420aff0006-17-bf66-ebec-c665-1bac-6802-3374-562d-d3f1-067e-1400",
       "next": "fcce51e2-ab52-11e7-a38f-0242ac120002-16-0aec-d5c3-c284-2955-035d-d03d-5486-eec5-494d-5333",
       "previous": "beaf20d8-92d6-11ec-afc2-6b42dc3e1973"
      },
      {
       "current": "93342aac-e63b-11e8-9b3e-02420aff0006-18-ebec-c665-1bac-6802-3374-562d-d3f1-067e-1400-ea8b",
       "next": "fcce51e2-ab52-11e7-a38f-0242ac120002-17-d5c3-c284-2955-035d-d03d-5486-eec5-494d-5333-919d",
       "previous": "beaf20d8-92d6-11ec-afc2-6b42dc3e1973-1-f38e"
      },
      {
       "current": "93342aac-e63b-11e8-9b3e-02420aff0006-19-c665-1bac-6802-3374-562d-d3f1-067e-1400-ea8b-f587",
       "next": "fcce51e2-ab52-11e7-a38f-0242ac120002-18-c284-2955-035d-d03d-5486-eec5-494d-5333-919d-6217",
       "previous": "beaf20d8-92d6-11ec-afc2-6b42dc3e1973-2-f38e-0b55"
      },
      {
       "current": "93342aac-e63b-11e8-9b3e-02420aff0006-20-1bac-6802-3374-562d-d3f1-067e-1400-ea8b-f587-9032",
       "next": "fcce51e2-ab52-11e7-a38f-0242ac120002-19-2955-035d-d03d-5486-eec5-494d-5333-919d-6217-612d",
       "previous": "beaf20d8-92d6-11ec-afc2-6b42dc3e1973-3-f38e-0b55-ed59"
      },
      {
       "current": "93342aac-e63b-11e8-9b3e-02420aff0006-21-6802-3374-562d-d3f1-067e-1400-ea8b-f587-9032-f1f8",
       "next": "fcce51e2-ab52-11e7-a38f-0242ac120002-20-035d-d03d-5486-eec5-494d-5333-919d-6217-612d-c8c8",
       "previous": "beaf20d8-92d6-11ec-afc2-6b42dc3e1973-4-f38e-0b55-ed59-73a2"
      }
     ],
     "next": "fcce51e2-ab52-11e7-a38f-0242ac120002-21-d03d-5486-eec5-494d-5333-919d-6217-612d-c8c8-6233",
     "previous": "beaf20d8-92d6-11ec-afc2-6b42dc3e1973-5-f38e-0b55-ed59-73a2-c657"
    }
   },
   "source": [
    "logoのアップロード\n",
    "\n",
    "> logoをカスタマイズしたい場合は、ログファイルをこのNotebookと同じディレクトリに配置すること。"
   ]
  },
  {
   "cell_type": "code",
   "execution_count": null,
   "metadata": {
    "lc_cell_meme": {
     "current": "fcce51e2-ab52-11e7-a38f-0242ac120002-21-d03d-5486-eec5-494d-5333-919d-6217-612d-c8c8-6233",
     "execution_end_time": "2022-04-28T07:52:56.577788Z",
     "history": [
      {
       "current": "fcce51e2-ab52-11e7-a38f-0242ac120002-17-d5c3-c284-2955-035d-d03d-5486-eec5-494d-5333-919d",
       "next": "a51e0e42-d581-11e8-a64b-02420aff0006-16-6679-e9e2-b988-39de-f04e-2d31-6424-fb50-8ad3-ed84",
       "previous": "93342aac-e63b-11e8-9b3e-02420aff0006-16-58e9-bf66-ebec-c665-1bac-6802-3374-562d-d3f1-067e"
      },
      {
       "current": "fcce51e2-ab52-11e7-a38f-0242ac120002-18-c284-2955-035d-d03d-5486-eec5-494d-5333-919d-6217",
       "next": "a51e0e42-d581-11e8-a64b-02420aff0006-17-e9e2-b988-39de-f04e-2d31-6424-fb50-8ad3-ed84-8c74",
       "previous": "93342aac-e63b-11e8-9b3e-02420aff0006-17-bf66-ebec-c665-1bac-6802-3374-562d-d3f1-067e-1400"
      },
      {
       "current": "fcce51e2-ab52-11e7-a38f-0242ac120002-19-2955-035d-d03d-5486-eec5-494d-5333-919d-6217-612d",
       "next": "a51e0e42-d581-11e8-a64b-02420aff0006-18-b988-39de-f04e-2d31-6424-fb50-8ad3-ed84-8c74-d76f",
       "previous": "93342aac-e63b-11e8-9b3e-02420aff0006-18-ebec-c665-1bac-6802-3374-562d-d3f1-067e-1400-ea8b"
      },
      {
       "current": "fcce51e2-ab52-11e7-a38f-0242ac120002-20-035d-d03d-5486-eec5-494d-5333-919d-6217-612d-c8c8",
       "next": "a51e0e42-d581-11e8-a64b-02420aff0006-19-39de-f04e-2d31-6424-fb50-8ad3-ed84-8c74-d76f-d115",
       "previous": "93342aac-e63b-11e8-9b3e-02420aff0006-19-c665-1bac-6802-3374-562d-d3f1-067e-1400-ea8b-f587"
      },
      {
       "current": "fcce51e2-ab52-11e7-a38f-0242ac120002-21-d03d-5486-eec5-494d-5333-919d-6217-612d-c8c8-6233",
       "next": "a51e0e42-d581-11e8-a64b-02420aff0006-20-f04e-2d31-6424-fb50-8ad3-ed84-8c74-d76f-d115-1163",
       "previous": "93342aac-e63b-11e8-9b3e-02420aff0006-20-1bac-6802-3374-562d-d3f1-067e-1400-ea8b-f587-9032"
      }
     ],
     "next": "a51e0e42-d581-11e8-a64b-02420aff0006-21-2d31-6424-fb50-8ad3-ed84-8c74-d76f-d115-1163-2278",
     "previous": "93342aac-e63b-11e8-9b3e-02420aff0006-21-6802-3374-562d-d3f1-067e-1400-ea8b-f587-9032-f1f8"
    },
    "scrolled": true
   },
   "outputs": [],
   "source": [
    "!ansible -b -m file -a 'path=/var/jupyterhub/ state=directory' {target_hub} -l {target_group}\n",
    "!ansible -b -m copy -a 'src=jupyterhub-logo.png dest=/var/jupyterhub/logo.png' {target_hub} -l {target_group}"
   ]
  },
  {
   "cell_type": "markdown",
   "metadata": {
    "lc_cell_meme": {
     "current": "a51e0e42-d581-11e8-a64b-02420aff0006-21-2d31-6424-fb50-8ad3-ed84-8c74-d76f-d115-1163-2278",
     "history": [
      {
       "current": "a51e0e42-d581-11e8-a64b-02420aff0006-17-e9e2-b988-39de-f04e-2d31-6424-fb50-8ad3-ed84-8c74",
       "next": "bb19f2fe-539f-11ea-9227-0242ac120002-15-04fe-8eab-e948-294b-37a8-aa99-2e4b-bc5a-ad49-d03e",
       "previous": "fcce51e2-ab52-11e7-a38f-0242ac120002-16-0aec-d5c3-c284-2955-035d-d03d-5486-eec5-494d-5333"
      },
      {
       "current": "a51e0e42-d581-11e8-a64b-02420aff0006-18-b988-39de-f04e-2d31-6424-fb50-8ad3-ed84-8c74-d76f",
       "next": "bb19f2fe-539f-11ea-9227-0242ac120002-16-8eab-e948-294b-37a8-aa99-2e4b-bc5a-ad49-d03e-5992",
       "previous": "fcce51e2-ab52-11e7-a38f-0242ac120002-17-d5c3-c284-2955-035d-d03d-5486-eec5-494d-5333-919d"
      },
      {
       "current": "a51e0e42-d581-11e8-a64b-02420aff0006-19-39de-f04e-2d31-6424-fb50-8ad3-ed84-8c74-d76f-d115",
       "next": "bb19f2fe-539f-11ea-9227-0242ac120002-17-e948-294b-37a8-aa99-2e4b-bc5a-ad49-d03e-5992-9aff",
       "previous": "fcce51e2-ab52-11e7-a38f-0242ac120002-18-c284-2955-035d-d03d-5486-eec5-494d-5333-919d-6217"
      },
      {
       "current": "a51e0e42-d581-11e8-a64b-02420aff0006-20-f04e-2d31-6424-fb50-8ad3-ed84-8c74-d76f-d115-1163",
       "next": "bb19f2fe-539f-11ea-9227-0242ac120002-18-294b-37a8-aa99-2e4b-bc5a-ad49-d03e-5992-9aff-88e0",
       "previous": "fcce51e2-ab52-11e7-a38f-0242ac120002-19-2955-035d-d03d-5486-eec5-494d-5333-919d-6217-612d"
      },
      {
       "current": "a51e0e42-d581-11e8-a64b-02420aff0006-21-2d31-6424-fb50-8ad3-ed84-8c74-d76f-d115-1163-2278",
       "next": "bb19f2fe-539f-11ea-9227-0242ac120002-19-37a8-aa99-2e4b-bc5a-ad49-d03e-5992-9aff-88e0-18b2",
       "previous": "fcce51e2-ab52-11e7-a38f-0242ac120002-20-035d-d03d-5486-eec5-494d-5333-919d-6217-612d-c8c8"
      }
     ],
     "next": "bb19f2fe-539f-11ea-9227-0242ac120002-20-aa99-2e4b-bc5a-ad49-d03e-5992-9aff-88e0-18b2-254b",
     "previous": "fcce51e2-ab52-11e7-a38f-0242ac120002-21-d03d-5486-eec5-494d-5333-919d-6217-612d-c8c8-6233"
    }
   },
   "source": [
    "# auth-proxyの準備"
   ]
  },
  {
   "cell_type": "markdown",
   "metadata": {
    "lc_cell_meme": {
     "current": "bb19f2fe-539f-11ea-9227-0242ac120002-20-aa99-2e4b-bc5a-ad49-d03e-5992-9aff-88e0-18b2-254b",
     "history": [
      {
       "current": "bb19f2fe-539f-11ea-9227-0242ac120002-16-8eab-e948-294b-37a8-aa99-2e4b-bc5a-ad49-d03e-5992",
       "next": "efaf0cd2-587e-11ea-bd55-0242ac120002-14-9096-c54d-66f8-3c14-7845-c2a7-e5c0-cfb5-8820-ecf0",
       "previous": "a51e0e42-d581-11e8-a64b-02420aff0006-16-6679-e9e2-b988-39de-f04e-2d31-6424-fb50-8ad3-ed84"
      },
      {
       "current": "bb19f2fe-539f-11ea-9227-0242ac120002-17-e948-294b-37a8-aa99-2e4b-bc5a-ad49-d03e-5992-9aff",
       "next": "efaf0cd2-587e-11ea-bd55-0242ac120002-15-c54d-66f8-3c14-7845-c2a7-e5c0-cfb5-8820-ecf0-b8f5",
       "previous": "a51e0e42-d581-11e8-a64b-02420aff0006-17-e9e2-b988-39de-f04e-2d31-6424-fb50-8ad3-ed84-8c74"
      },
      {
       "current": "bb19f2fe-539f-11ea-9227-0242ac120002-18-294b-37a8-aa99-2e4b-bc5a-ad49-d03e-5992-9aff-88e0",
       "next": "efaf0cd2-587e-11ea-bd55-0242ac120002-16-66f8-3c14-7845-c2a7-e5c0-cfb5-8820-ecf0-b8f5-234d",
       "previous": "a51e0e42-d581-11e8-a64b-02420aff0006-18-b988-39de-f04e-2d31-6424-fb50-8ad3-ed84-8c74-d76f"
      },
      {
       "current": "bb19f2fe-539f-11ea-9227-0242ac120002-19-37a8-aa99-2e4b-bc5a-ad49-d03e-5992-9aff-88e0-18b2",
       "next": "efaf0cd2-587e-11ea-bd55-0242ac120002-17-3c14-7845-c2a7-e5c0-cfb5-8820-ecf0-b8f5-234d-03f9",
       "previous": "a51e0e42-d581-11e8-a64b-02420aff0006-19-39de-f04e-2d31-6424-fb50-8ad3-ed84-8c74-d76f-d115"
      },
      {
       "current": "bb19f2fe-539f-11ea-9227-0242ac120002-20-aa99-2e4b-bc5a-ad49-d03e-5992-9aff-88e0-18b2-254b",
       "next": "efaf0cd2-587e-11ea-bd55-0242ac120002-18-7845-c2a7-e5c0-cfb5-8820-ecf0-b8f5-234d-03f9-1486",
       "previous": "a51e0e42-d581-11e8-a64b-02420aff0006-20-f04e-2d31-6424-fb50-8ad3-ed84-8c74-d76f-d115-1163"
      }
     ],
     "next": "efaf0cd2-587e-11ea-bd55-0242ac120002-19-c2a7-e5c0-cfb5-8820-ecf0-b8f5-234d-03f9-1486-6b82",
     "previous": "a51e0e42-d581-11e8-a64b-02420aff0006-21-2d31-6424-fb50-8ad3-ed84-8c74-d76f-d115-1163-2278"
    }
   },
   "source": [
    "## 環境情報\n",
    "\n",
    "環境情報をAnsibleの変数から取得する\n",
    "\n",
    "システム構成のバリエーション\n",
    "\n",
    "1. フェデレーションに参加するSPとして構成しない (`enable_federation=false`)\n",
    "  * idp-proxyを使用して、idp-proxy経由でフェデレーションに参加する (`auth_fqdn != ''`)\n",
    "  * ローカルユーザーのみを使用する (`auth_fqdn == ''`)\n",
    "2. フェデレーションに参加するSPとして構成する  (`enable_federation=false`)\n",
    "\n",
    "\n",
    "2.の場合は、運用フェデレーションに参加するSPとして申請し、運用フェデレーションのメタデータに登録済みである必要がある \n"
   ]
  },
  {
   "cell_type": "markdown",
   "metadata": {
    "lc_cell_meme": {
     "current": "efaf0cd2-587e-11ea-bd55-0242ac120002-19-c2a7-e5c0-cfb5-8820-ecf0-b8f5-234d-03f9-1486-6b82",
     "history": [
      {
       "current": "efaf0cd2-587e-11ea-bd55-0242ac120002-15-c54d-66f8-3c14-7845-c2a7-e5c0-cfb5-8820-ecf0-b8f5",
       "next": "0e19b512-b23e-11e7-a38f-0242ac120002-16-6b16-65d3-0fdb-97c4-3ff5-5217-ddc4-7f00-f950-7fe7",
       "previous": "bb19f2fe-539f-11ea-9227-0242ac120002-15-04fe-8eab-e948-294b-37a8-aa99-2e4b-bc5a-ad49-d03e"
      },
      {
       "current": "efaf0cd2-587e-11ea-bd55-0242ac120002-16-66f8-3c14-7845-c2a7-e5c0-cfb5-8820-ecf0-b8f5-234d",
       "next": "0e19b512-b23e-11e7-a38f-0242ac120002-17-65d3-0fdb-97c4-3ff5-5217-ddc4-7f00-f950-7fe7-43cf",
       "previous": "bb19f2fe-539f-11ea-9227-0242ac120002-16-8eab-e948-294b-37a8-aa99-2e4b-bc5a-ad49-d03e-5992"
      },
      {
       "current": "efaf0cd2-587e-11ea-bd55-0242ac120002-17-3c14-7845-c2a7-e5c0-cfb5-8820-ecf0-b8f5-234d-03f9",
       "next": "0e19b512-b23e-11e7-a38f-0242ac120002-18-0fdb-97c4-3ff5-5217-ddc4-7f00-f950-7fe7-43cf-9793",
       "previous": "bb19f2fe-539f-11ea-9227-0242ac120002-17-e948-294b-37a8-aa99-2e4b-bc5a-ad49-d03e-5992-9aff"
      },
      {
       "current": "efaf0cd2-587e-11ea-bd55-0242ac120002-18-7845-c2a7-e5c0-cfb5-8820-ecf0-b8f5-234d-03f9-1486",
       "next": "0e19b512-b23e-11e7-a38f-0242ac120002-19-97c4-3ff5-5217-ddc4-7f00-f950-7fe7-43cf-9793-0614",
       "previous": "bb19f2fe-539f-11ea-9227-0242ac120002-18-294b-37a8-aa99-2e4b-bc5a-ad49-d03e-5992-9aff-88e0"
      },
      {
       "current": "efaf0cd2-587e-11ea-bd55-0242ac120002-19-c2a7-e5c0-cfb5-8820-ecf0-b8f5-234d-03f9-1486-6b82",
       "next": "0e19b512-b23e-11e7-a38f-0242ac120002-20-3ff5-5217-ddc4-7f00-f950-7fe7-43cf-9793-0614-dc98",
       "previous": "bb19f2fe-539f-11ea-9227-0242ac120002-19-37a8-aa99-2e4b-bc5a-ad49-d03e-5992-9aff-88e0-18b2"
      }
     ],
     "next": "0e19b512-b23e-11e7-a38f-0242ac120002-21-5217-ddc4-7f00-f950-7fe7-43cf-9793-0614-dc98-3f8f",
     "previous": "bb19f2fe-539f-11ea-9227-0242ac120002-20-aa99-2e4b-bc5a-ad49-d03e-5992-9aff-88e0-18b2-254b"
    }
   },
   "source": [
    "CoursewareHubのFQDNをAnsibleに定義した変数から取得する。"
   ]
  },
  {
   "cell_type": "code",
   "execution_count": null,
   "metadata": {
    "lc_cell_meme": {
     "current": "0e19b512-b23e-11e7-a38f-0242ac120002-21-5217-ddc4-7f00-f950-7fe7-43cf-9793-0614-dc98-3f8f",
     "execution_end_time": "2022-04-28T07:53:02.566022Z",
     "history": [
      {
       "current": "0e19b512-b23e-11e7-a38f-0242ac120002-17-65d3-0fdb-97c4-3ff5-5217-ddc4-7f00-f950-7fe7-43cf",
       "next": "417827af-92ff-11ec-8d7a-6b42dc3e1973",
       "previous": "efaf0cd2-587e-11ea-bd55-0242ac120002-14-9096-c54d-66f8-3c14-7845-c2a7-e5c0-cfb5-8820-ecf0"
      },
      {
       "current": "0e19b512-b23e-11e7-a38f-0242ac120002-18-0fdb-97c4-3ff5-5217-ddc4-7f00-f950-7fe7-43cf-9793",
       "next": "417827af-92ff-11ec-8d7a-6b42dc3e1973-1-5523",
       "previous": "efaf0cd2-587e-11ea-bd55-0242ac120002-15-c54d-66f8-3c14-7845-c2a7-e5c0-cfb5-8820-ecf0-b8f5"
      },
      {
       "current": "0e19b512-b23e-11e7-a38f-0242ac120002-19-97c4-3ff5-5217-ddc4-7f00-f950-7fe7-43cf-9793-0614",
       "next": "417827af-92ff-11ec-8d7a-6b42dc3e1973-2-5523-a257",
       "previous": "efaf0cd2-587e-11ea-bd55-0242ac120002-16-66f8-3c14-7845-c2a7-e5c0-cfb5-8820-ecf0-b8f5-234d"
      },
      {
       "current": "0e19b512-b23e-11e7-a38f-0242ac120002-20-3ff5-5217-ddc4-7f00-f950-7fe7-43cf-9793-0614-dc98",
       "next": "417827af-92ff-11ec-8d7a-6b42dc3e1973-3-5523-a257-fd82",
       "previous": "efaf0cd2-587e-11ea-bd55-0242ac120002-17-3c14-7845-c2a7-e5c0-cfb5-8820-ecf0-b8f5-234d-03f9"
      },
      {
       "current": "0e19b512-b23e-11e7-a38f-0242ac120002-21-5217-ddc4-7f00-f950-7fe7-43cf-9793-0614-dc98-3f8f",
       "next": "417827af-92ff-11ec-8d7a-6b42dc3e1973-4-5523-a257-fd82-ded4",
       "previous": "efaf0cd2-587e-11ea-bd55-0242ac120002-18-7845-c2a7-e5c0-cfb5-8820-ecf0-b8f5-234d-03f9-1486"
      }
     ],
     "next": "417827af-92ff-11ec-8d7a-6b42dc3e1973-5-5523-a257-fd82-ded4-9e78",
     "previous": "efaf0cd2-587e-11ea-bd55-0242ac120002-19-c2a7-e5c0-cfb5-8820-ecf0-b8f5-234d-03f9-1486-6b82"
    }
   },
   "outputs": [],
   "source": [
    "import json\n",
    "\n",
    "msg_stdout = !ansible -m debug -a 'msg={{{{ master_fqdn }}}}' {target_hub} -l {target_group}\n",
    "master_fqdn = json.loads(''.join([msg_stdout[0].split()[-1]] + msg_stdout[1:]))['msg']\n",
    "master_fqdn"
   ]
  },
  {
   "cell_type": "code",
   "execution_count": null,
   "metadata": {
    "lc_cell_meme": {
     "current": "417827af-92ff-11ec-8d7a-6b42dc3e1973-5-5523-a257-fd82-ded4-9e78",
     "execution_end_time": "2022-04-28T07:53:03.407842Z",
     "history": [
      {
       "current": "417827af-92ff-11ec-8d7a-6b42dc3e1973-1-5523",
       "next": "6efad424-92e4-11ec-b21e-6b42dc3e1973",
       "previous": "0e19b512-b23e-11e7-a38f-0242ac120002-16-6b16-65d3-0fdb-97c4-3ff5-5217-ddc4-7f00-f950-7fe7"
      },
      {
       "current": "417827af-92ff-11ec-8d7a-6b42dc3e1973-2-5523-a257",
       "next": "6efad424-92e4-11ec-b21e-6b42dc3e1973-1-cccf",
       "previous": "0e19b512-b23e-11e7-a38f-0242ac120002-17-65d3-0fdb-97c4-3ff5-5217-ddc4-7f00-f950-7fe7-43cf"
      },
      {
       "current": "417827af-92ff-11ec-8d7a-6b42dc3e1973-3-5523-a257-fd82",
       "next": "6efad424-92e4-11ec-b21e-6b42dc3e1973-2-cccf-24d3",
       "previous": "0e19b512-b23e-11e7-a38f-0242ac120002-18-0fdb-97c4-3ff5-5217-ddc4-7f00-f950-7fe7-43cf-9793"
      },
      {
       "current": "417827af-92ff-11ec-8d7a-6b42dc3e1973-4-5523-a257-fd82-ded4",
       "next": "6efad424-92e4-11ec-b21e-6b42dc3e1973-3-cccf-24d3-d190",
       "previous": "0e19b512-b23e-11e7-a38f-0242ac120002-19-97c4-3ff5-5217-ddc4-7f00-f950-7fe7-43cf-9793-0614"
      },
      {
       "current": "417827af-92ff-11ec-8d7a-6b42dc3e1973-5-5523-a257-fd82-ded4-9e78",
       "next": "6efad424-92e4-11ec-b21e-6b42dc3e1973-4-cccf-24d3-d190-d1fc",
       "previous": "0e19b512-b23e-11e7-a38f-0242ac120002-20-3ff5-5217-ddc4-7f00-f950-7fe7-43cf-9793-0614-dc98"
      }
     ],
     "next": "6efad424-92e4-11ec-b21e-6b42dc3e1973-5-cccf-24d3-d190-d1fc-7713",
     "previous": "0e19b512-b23e-11e7-a38f-0242ac120002-21-5217-ddc4-7f00-f950-7fe7-43cf-9793-0614-dc98-3f8f"
    }
   },
   "outputs": [],
   "source": [
    "msg_stdout = !ansible -m debug -a 'msg={{{{ auth_fqdn }}}}' {target_hub} -l {target_group}\n",
    "auth_fqdn = json.loads(''.join([msg_stdout[0].split()[-1]] + msg_stdout[1:]))['msg']\n",
    "auth_fqdn"
   ]
  },
  {
   "cell_type": "code",
   "execution_count": null,
   "metadata": {
    "lc_cell_meme": {
     "current": "6efad424-92e4-11ec-b21e-6b42dc3e1973-5-cccf-24d3-d190-d1fc-7713",
     "execution_end_time": "2022-04-28T07:53:04.637494Z",
     "history": [
      {
       "current": "6efad424-92e4-11ec-b21e-6b42dc3e1973-1-cccf",
       "next": "efaf1204-587e-11ea-bd55-0242ac120002-14-f3e9-4d8e-8d48-d2ec-8ed5-6de7-970f-16f9-1e5d-6923",
       "previous": "417827af-92ff-11ec-8d7a-6b42dc3e1973"
      },
      {
       "current": "6efad424-92e4-11ec-b21e-6b42dc3e1973-2-cccf-24d3",
       "next": "efaf1204-587e-11ea-bd55-0242ac120002-15-4d8e-8d48-d2ec-8ed5-6de7-970f-16f9-1e5d-6923-45a9",
       "previous": "417827af-92ff-11ec-8d7a-6b42dc3e1973-1-5523"
      },
      {
       "current": "6efad424-92e4-11ec-b21e-6b42dc3e1973-3-cccf-24d3-d190",
       "next": "efaf1204-587e-11ea-bd55-0242ac120002-16-8d48-d2ec-8ed5-6de7-970f-16f9-1e5d-6923-45a9-270c",
       "previous": "417827af-92ff-11ec-8d7a-6b42dc3e1973-2-5523-a257"
      },
      {
       "current": "6efad424-92e4-11ec-b21e-6b42dc3e1973-4-cccf-24d3-d190-d1fc",
       "next": "efaf1204-587e-11ea-bd55-0242ac120002-17-d2ec-8ed5-6de7-970f-16f9-1e5d-6923-45a9-270c-a201",
       "previous": "417827af-92ff-11ec-8d7a-6b42dc3e1973-3-5523-a257-fd82"
      },
      {
       "current": "6efad424-92e4-11ec-b21e-6b42dc3e1973-5-cccf-24d3-d190-d1fc-7713",
       "next": "efaf1204-587e-11ea-bd55-0242ac120002-18-8ed5-6de7-970f-16f9-1e5d-6923-45a9-270c-a201-01de",
       "previous": "417827af-92ff-11ec-8d7a-6b42dc3e1973-4-5523-a257-fd82-ded4"
      }
     ],
     "next": "efaf1204-587e-11ea-bd55-0242ac120002-19-6de7-970f-16f9-1e5d-6923-45a9-270c-a201-01de-60a1",
     "previous": "417827af-92ff-11ec-8d7a-6b42dc3e1973-5-5523-a257-fd82-ded4-9e78"
    }
   },
   "outputs": [],
   "source": [
    "msg_stdout = !ansible -m debug -a 'msg={{{{ enable_federation }}}}' {target_hub} -l {target_group}\n",
    "enable_federation = json.loads(''.join([msg_stdout[0].split()[-1]] + msg_stdout[1:]))['msg']\n",
    "enable_federation"
   ]
  },
  {
   "cell_type": "markdown",
   "metadata": {
    "lc_cell_meme": {
     "current": "efaf1204-587e-11ea-bd55-0242ac120002-19-6de7-970f-16f9-1e5d-6923-45a9-270c-a201-01de-60a1",
     "history": [
      {
       "current": "efaf1204-587e-11ea-bd55-0242ac120002-15-4d8e-8d48-d2ec-8ed5-6de7-970f-16f9-1e5d-6923-45a9",
       "next": "f6ca2858-591e-11ea-bd55-0242ac120002-14-942c-721b-c4a4-20f2-55a8-f0f4-be8e-2d46-1b74-e565",
       "previous": "6efad424-92e4-11ec-b21e-6b42dc3e1973"
      },
      {
       "current": "efaf1204-587e-11ea-bd55-0242ac120002-16-8d48-d2ec-8ed5-6de7-970f-16f9-1e5d-6923-45a9-270c",
       "next": "f6ca2858-591e-11ea-bd55-0242ac120002-15-721b-c4a4-20f2-55a8-f0f4-be8e-2d46-1b74-e565-58dc",
       "previous": "6efad424-92e4-11ec-b21e-6b42dc3e1973-1-cccf"
      },
      {
       "current": "efaf1204-587e-11ea-bd55-0242ac120002-17-d2ec-8ed5-6de7-970f-16f9-1e5d-6923-45a9-270c-a201",
       "next": "f6ca2858-591e-11ea-bd55-0242ac120002-16-c4a4-20f2-55a8-f0f4-be8e-2d46-1b74-e565-58dc-ea38",
       "previous": "6efad424-92e4-11ec-b21e-6b42dc3e1973-2-cccf-24d3"
      },
      {
       "current": "efaf1204-587e-11ea-bd55-0242ac120002-18-8ed5-6de7-970f-16f9-1e5d-6923-45a9-270c-a201-01de",
       "next": "f6ca2858-591e-11ea-bd55-0242ac120002-17-20f2-55a8-f0f4-be8e-2d46-1b74-e565-58dc-ea38-dfad",
       "previous": "6efad424-92e4-11ec-b21e-6b42dc3e1973-3-cccf-24d3-d190"
      },
      {
       "current": "efaf1204-587e-11ea-bd55-0242ac120002-19-6de7-970f-16f9-1e5d-6923-45a9-270c-a201-01de-60a1",
       "next": "f6ca2858-591e-11ea-bd55-0242ac120002-18-55a8-f0f4-be8e-2d46-1b74-e565-58dc-ea38-dfad-62ca",
       "previous": "6efad424-92e4-11ec-b21e-6b42dc3e1973-4-cccf-24d3-d190-d1fc"
      }
     ],
     "next": "f6ca2858-591e-11ea-bd55-0242ac120002-19-f0f4-be8e-2d46-1b74-e565-58dc-ea38-dfad-62ca-8d8a",
     "previous": "6efad424-92e4-11ec-b21e-6b42dc3e1973-5-cccf-24d3-d190-d1fc-7713"
    }
   },
   "source": [
    "## フェデレーションに直接参加するSPの場合の追加作業\n",
    "\n",
    "idp-proxyを利用せずに、直接フェデレーションに参加する場合に必要な証明書、メタデータなどを用意する。\n",
    "\n",
    "> `enable_federation=true`の場合に必要\n"
   ]
  },
  {
   "cell_type": "markdown",
   "metadata": {
    "lc_cell_meme": {
     "current": "f6ca2858-591e-11ea-bd55-0242ac120002-19-f0f4-be8e-2d46-1b74-e565-58dc-ea38-dfad-62ca-8d8a",
     "history": [
      {
       "current": "f6ca2858-591e-11ea-bd55-0242ac120002-15-721b-c4a4-20f2-55a8-f0f4-be8e-2d46-1b74-e565-58dc",
       "next": "f6ca2a92-591e-11ea-bd55-0242ac120002-14-60da-9778-8df6-523f-503f-c8f4-e62b-30fb-5394-671f",
       "previous": "efaf1204-587e-11ea-bd55-0242ac120002-14-f3e9-4d8e-8d48-d2ec-8ed5-6de7-970f-16f9-1e5d-6923"
      },
      {
       "current": "f6ca2858-591e-11ea-bd55-0242ac120002-16-c4a4-20f2-55a8-f0f4-be8e-2d46-1b74-e565-58dc-ea38",
       "next": "f6ca2a92-591e-11ea-bd55-0242ac120002-15-9778-8df6-523f-503f-c8f4-e62b-30fb-5394-671f-3200",
       "previous": "efaf1204-587e-11ea-bd55-0242ac120002-15-4d8e-8d48-d2ec-8ed5-6de7-970f-16f9-1e5d-6923-45a9"
      },
      {
       "current": "f6ca2858-591e-11ea-bd55-0242ac120002-17-20f2-55a8-f0f4-be8e-2d46-1b74-e565-58dc-ea38-dfad",
       "next": "f6ca2a92-591e-11ea-bd55-0242ac120002-16-8df6-523f-503f-c8f4-e62b-30fb-5394-671f-3200-e306",
       "previous": "efaf1204-587e-11ea-bd55-0242ac120002-16-8d48-d2ec-8ed5-6de7-970f-16f9-1e5d-6923-45a9-270c"
      },
      {
       "current": "f6ca2858-591e-11ea-bd55-0242ac120002-18-55a8-f0f4-be8e-2d46-1b74-e565-58dc-ea38-dfad-62ca",
       "next": "f6ca2a92-591e-11ea-bd55-0242ac120002-17-523f-503f-c8f4-e62b-30fb-5394-671f-3200-e306-b3e5",
       "previous": "efaf1204-587e-11ea-bd55-0242ac120002-17-d2ec-8ed5-6de7-970f-16f9-1e5d-6923-45a9-270c-a201"
      },
      {
       "current": "f6ca2858-591e-11ea-bd55-0242ac120002-19-f0f4-be8e-2d46-1b74-e565-58dc-ea38-dfad-62ca-8d8a",
       "next": "f6ca2a92-591e-11ea-bd55-0242ac120002-18-503f-c8f4-e62b-30fb-5394-671f-3200-e306-b3e5-21f8",
       "previous": "efaf1204-587e-11ea-bd55-0242ac120002-18-8ed5-6de7-970f-16f9-1e5d-6923-45a9-270c-a201-01de"
      }
     ],
     "next": "f6ca2a92-591e-11ea-bd55-0242ac120002-19-c8f4-e62b-30fb-5394-671f-3200-e306-b3e5-21f8-02a5",
     "previous": "efaf1204-587e-11ea-bd55-0242ac120002-19-6de7-970f-16f9-1e5d-6923-45a9-270c-a201-01de-60a1"
    }
   },
   "source": [
    "フェデレーションメタデータ検証用証明書の用意"
   ]
  },
  {
   "cell_type": "code",
   "execution_count": null,
   "metadata": {
    "lc_cell_meme": {
     "current": "f6ca2a92-591e-11ea-bd55-0242ac120002-19-c8f4-e62b-30fb-5394-671f-3200-e306-b3e5-21f8-02a5",
     "execution_end_time": "2022-04-28T07:53:09.481606Z",
     "history": [
      {
       "current": "f6ca2a92-591e-11ea-bd55-0242ac120002-15-9778-8df6-523f-503f-c8f4-e62b-30fb-5394-671f-3200",
       "next": "f6ca2dee-591e-11ea-bd55-0242ac120002-14-186c-81d3-06e7-0bb1-9715-b295-1996-b5b3-bd0a-934b",
       "previous": "f6ca2858-591e-11ea-bd55-0242ac120002-14-942c-721b-c4a4-20f2-55a8-f0f4-be8e-2d46-1b74-e565"
      },
      {
       "current": "f6ca2a92-591e-11ea-bd55-0242ac120002-16-8df6-523f-503f-c8f4-e62b-30fb-5394-671f-3200-e306",
       "next": "f6ca2dee-591e-11ea-bd55-0242ac120002-15-81d3-06e7-0bb1-9715-b295-1996-b5b3-bd0a-934b-fc02",
       "previous": "f6ca2858-591e-11ea-bd55-0242ac120002-15-721b-c4a4-20f2-55a8-f0f4-be8e-2d46-1b74-e565-58dc"
      },
      {
       "current": "f6ca2a92-591e-11ea-bd55-0242ac120002-17-523f-503f-c8f4-e62b-30fb-5394-671f-3200-e306-b3e5",
       "next": "f6ca2dee-591e-11ea-bd55-0242ac120002-16-06e7-0bb1-9715-b295-1996-b5b3-bd0a-934b-fc02-c1ee",
       "previous": "f6ca2858-591e-11ea-bd55-0242ac120002-16-c4a4-20f2-55a8-f0f4-be8e-2d46-1b74-e565-58dc-ea38"
      },
      {
       "current": "f6ca2a92-591e-11ea-bd55-0242ac120002-18-503f-c8f4-e62b-30fb-5394-671f-3200-e306-b3e5-21f8",
       "next": "f6ca2dee-591e-11ea-bd55-0242ac120002-17-0bb1-9715-b295-1996-b5b3-bd0a-934b-fc02-c1ee-1643",
       "previous": "f6ca2858-591e-11ea-bd55-0242ac120002-17-20f2-55a8-f0f4-be8e-2d46-1b74-e565-58dc-ea38-dfad"
      },
      {
       "current": "f6ca2a92-591e-11ea-bd55-0242ac120002-19-c8f4-e62b-30fb-5394-671f-3200-e306-b3e5-21f8-02a5",
       "next": "f6ca2dee-591e-11ea-bd55-0242ac120002-18-9715-b295-1996-b5b3-bd0a-934b-fc02-c1ee-1643-cd65",
       "previous": "f6ca2858-591e-11ea-bd55-0242ac120002-18-55a8-f0f4-be8e-2d46-1b74-e565-58dc-ea38-dfad-62ca"
      }
     ],
     "next": "f6ca2dee-591e-11ea-bd55-0242ac120002-19-b295-1996-b5b3-bd0a-934b-fc02-c1ee-1643-cd65-37c5",
     "previous": "f6ca2858-591e-11ea-bd55-0242ac120002-19-f0f4-be8e-2d46-1b74-e565-58dc-ea38-dfad-62ca-8d8a"
    }
   },
   "outputs": [],
   "source": [
    "#ds_metadata_signer_url = 'https://metadata.gakunin.nii.ac.jp/gakunin-test-signer-2011.cer'\n",
    "#ds_metadata_signer_url"
   ]
  },
  {
   "cell_type": "code",
   "execution_count": null,
   "metadata": {
    "lc_cell_meme": {
     "current": "f6ca2dee-591e-11ea-bd55-0242ac120002-19-b295-1996-b5b3-bd0a-934b-fc02-c1ee-1643-cd65-37c5",
     "execution_end_time": "2022-04-28T07:53:10.317585Z",
     "history": [
      {
       "current": "f6ca2dee-591e-11ea-bd55-0242ac120002-15-81d3-06e7-0bb1-9715-b295-1996-b5b3-bd0a-934b-fc02",
       "next": "f6ca2eca-591e-11ea-bd55-0242ac120002-14-9df2-4b1a-c494-f637-775a-27ce-92cf-47be-28ff-5766",
       "previous": "f6ca2a92-591e-11ea-bd55-0242ac120002-14-60da-9778-8df6-523f-503f-c8f4-e62b-30fb-5394-671f"
      },
      {
       "current": "f6ca2dee-591e-11ea-bd55-0242ac120002-16-06e7-0bb1-9715-b295-1996-b5b3-bd0a-934b-fc02-c1ee",
       "next": "f6ca2eca-591e-11ea-bd55-0242ac120002-15-4b1a-c494-f637-775a-27ce-92cf-47be-28ff-5766-0370",
       "previous": "f6ca2a92-591e-11ea-bd55-0242ac120002-15-9778-8df6-523f-503f-c8f4-e62b-30fb-5394-671f-3200"
      },
      {
       "current": "f6ca2dee-591e-11ea-bd55-0242ac120002-17-0bb1-9715-b295-1996-b5b3-bd0a-934b-fc02-c1ee-1643",
       "next": "f6ca2eca-591e-11ea-bd55-0242ac120002-16-c494-f637-775a-27ce-92cf-47be-28ff-5766-0370-ee2c",
       "previous": "f6ca2a92-591e-11ea-bd55-0242ac120002-16-8df6-523f-503f-c8f4-e62b-30fb-5394-671f-3200-e306"
      },
      {
       "current": "f6ca2dee-591e-11ea-bd55-0242ac120002-18-9715-b295-1996-b5b3-bd0a-934b-fc02-c1ee-1643-cd65",
       "next": "f6ca2eca-591e-11ea-bd55-0242ac120002-17-f637-775a-27ce-92cf-47be-28ff-5766-0370-ee2c-664b",
       "previous": "f6ca2a92-591e-11ea-bd55-0242ac120002-17-523f-503f-c8f4-e62b-30fb-5394-671f-3200-e306-b3e5"
      },
      {
       "current": "f6ca2dee-591e-11ea-bd55-0242ac120002-19-b295-1996-b5b3-bd0a-934b-fc02-c1ee-1643-cd65-37c5",
       "next": "f6ca2eca-591e-11ea-bd55-0242ac120002-18-775a-27ce-92cf-47be-28ff-5766-0370-ee2c-664b-cdf4",
       "previous": "f6ca2a92-591e-11ea-bd55-0242ac120002-18-503f-c8f4-e62b-30fb-5394-671f-3200-e306-b3e5-21f8"
      }
     ],
     "next": "f6ca2eca-591e-11ea-bd55-0242ac120002-19-27ce-92cf-47be-28ff-5766-0370-ee2c-664b-cdf4-2f6b",
     "previous": "f6ca2a92-591e-11ea-bd55-0242ac120002-19-c8f4-e62b-30fb-5394-671f-3200-e306-b3e5-21f8-02a5"
    }
   },
   "outputs": [],
   "source": [
    "#ds_metadata_signer = 'gakunin-signer.cer'\n",
    "#ds_metadata_signer"
   ]
  },
  {
   "cell_type": "code",
   "execution_count": null,
   "metadata": {
    "lc_cell_meme": {
     "current": "f6ca2eca-591e-11ea-bd55-0242ac120002-19-27ce-92cf-47be-28ff-5766-0370-ee2c-664b-cdf4-2f6b",
     "execution_end_time": "2022-04-28T07:53:12.246786Z",
     "history": [
      {
       "current": "f6ca2eca-591e-11ea-bd55-0242ac120002-15-4b1a-c494-f637-775a-27ce-92cf-47be-28ff-5766-0370",
       "next": "85d811c2-591f-11ea-bd55-0242ac120002-14-ea1e-b10b-95d9-019f-62c3-2c6c-3d2c-a56f-7cd5-6248",
       "previous": "f6ca2dee-591e-11ea-bd55-0242ac120002-14-186c-81d3-06e7-0bb1-9715-b295-1996-b5b3-bd0a-934b"
      },
      {
       "current": "f6ca2eca-591e-11ea-bd55-0242ac120002-16-c494-f637-775a-27ce-92cf-47be-28ff-5766-0370-ee2c",
       "next": "85d811c2-591f-11ea-bd55-0242ac120002-15-b10b-95d9-019f-62c3-2c6c-3d2c-a56f-7cd5-6248-3039",
       "previous": "f6ca2dee-591e-11ea-bd55-0242ac120002-15-81d3-06e7-0bb1-9715-b295-1996-b5b3-bd0a-934b-fc02"
      },
      {
       "current": "f6ca2eca-591e-11ea-bd55-0242ac120002-17-f637-775a-27ce-92cf-47be-28ff-5766-0370-ee2c-664b",
       "next": "85d811c2-591f-11ea-bd55-0242ac120002-16-95d9-019f-62c3-2c6c-3d2c-a56f-7cd5-6248-3039-bbc2",
       "previous": "f6ca2dee-591e-11ea-bd55-0242ac120002-16-06e7-0bb1-9715-b295-1996-b5b3-bd0a-934b-fc02-c1ee"
      },
      {
       "current": "f6ca2eca-591e-11ea-bd55-0242ac120002-18-775a-27ce-92cf-47be-28ff-5766-0370-ee2c-664b-cdf4",
       "next": "85d811c2-591f-11ea-bd55-0242ac120002-17-019f-62c3-2c6c-3d2c-a56f-7cd5-6248-3039-bbc2-56dd",
       "previous": "f6ca2dee-591e-11ea-bd55-0242ac120002-17-0bb1-9715-b295-1996-b5b3-bd0a-934b-fc02-c1ee-1643"
      },
      {
       "current": "f6ca2eca-591e-11ea-bd55-0242ac120002-19-27ce-92cf-47be-28ff-5766-0370-ee2c-664b-cdf4-2f6b",
       "next": "85d811c2-591f-11ea-bd55-0242ac120002-18-62c3-2c6c-3d2c-a56f-7cd5-6248-3039-bbc2-56dd-4356",
       "previous": "f6ca2dee-591e-11ea-bd55-0242ac120002-18-9715-b295-1996-b5b3-bd0a-934b-fc02-c1ee-1643-cd65"
      }
     ],
     "next": "85d811c2-591f-11ea-bd55-0242ac120002-19-2c6c-3d2c-a56f-7cd5-6248-3039-bbc2-56dd-4356-e473",
     "previous": "f6ca2dee-591e-11ea-bd55-0242ac120002-19-b295-1996-b5b3-bd0a-934b-fc02-c1ee-1643-cd65-37c5"
    }
   },
   "outputs": [],
   "source": [
    "#!curl -L -o {work_dir}/{ds_metadata_signer} '{ds_metadata_signer_url}'\n",
    "#!ls -l {work_dir}/{ds_metadata_signer}"
   ]
  },
  {
   "cell_type": "code",
   "execution_count": null,
   "metadata": {
    "lc_cell_meme": {
     "current": "85d811c2-591f-11ea-bd55-0242ac120002-19-2c6c-3d2c-a56f-7cd5-6248-3039-bbc2-56dd-4356-e473",
     "execution_end_time": "2022-04-28T07:53:12.940873Z",
     "history": [
      {
       "current": "85d811c2-591f-11ea-bd55-0242ac120002-15-b10b-95d9-019f-62c3-2c6c-3d2c-a56f-7cd5-6248-3039",
       "next": "85d819f6-591f-11ea-bd55-0242ac120002-14-ba0c-65f4-0a13-1d0c-9c99-dd32-5ecf-e1f0-a1d8-3caa",
       "previous": "f6ca2eca-591e-11ea-bd55-0242ac120002-14-9df2-4b1a-c494-f637-775a-27ce-92cf-47be-28ff-5766"
      },
      {
       "current": "85d811c2-591f-11ea-bd55-0242ac120002-16-95d9-019f-62c3-2c6c-3d2c-a56f-7cd5-6248-3039-bbc2",
       "next": "85d819f6-591f-11ea-bd55-0242ac120002-15-65f4-0a13-1d0c-9c99-dd32-5ecf-e1f0-a1d8-3caa-d67f",
       "previous": "f6ca2eca-591e-11ea-bd55-0242ac120002-15-4b1a-c494-f637-775a-27ce-92cf-47be-28ff-5766-0370"
      },
      {
       "current": "85d811c2-591f-11ea-bd55-0242ac120002-17-019f-62c3-2c6c-3d2c-a56f-7cd5-6248-3039-bbc2-56dd",
       "next": "85d819f6-591f-11ea-bd55-0242ac120002-16-0a13-1d0c-9c99-dd32-5ecf-e1f0-a1d8-3caa-d67f-3ae2",
       "previous": "f6ca2eca-591e-11ea-bd55-0242ac120002-16-c494-f637-775a-27ce-92cf-47be-28ff-5766-0370-ee2c"
      },
      {
       "current": "85d811c2-591f-11ea-bd55-0242ac120002-18-62c3-2c6c-3d2c-a56f-7cd5-6248-3039-bbc2-56dd-4356",
       "next": "85d819f6-591f-11ea-bd55-0242ac120002-17-1d0c-9c99-dd32-5ecf-e1f0-a1d8-3caa-d67f-3ae2-8760",
       "previous": "f6ca2eca-591e-11ea-bd55-0242ac120002-17-f637-775a-27ce-92cf-47be-28ff-5766-0370-ee2c-664b"
      },
      {
       "current": "85d811c2-591f-11ea-bd55-0242ac120002-19-2c6c-3d2c-a56f-7cd5-6248-3039-bbc2-56dd-4356-e473",
       "next": "85d819f6-591f-11ea-bd55-0242ac120002-18-9c99-dd32-5ecf-e1f0-a1d8-3caa-d67f-3ae2-8760-4f59",
       "previous": "f6ca2eca-591e-11ea-bd55-0242ac120002-18-775a-27ce-92cf-47be-28ff-5766-0370-ee2c-664b-cdf4"
      }
     ],
     "next": "85d819f6-591f-11ea-bd55-0242ac120002-19-dd32-5ecf-e1f0-a1d8-3caa-d67f-3ae2-8760-4f59-4881",
     "previous": "f6ca2eca-591e-11ea-bd55-0242ac120002-19-27ce-92cf-47be-28ff-5766-0370-ee2c-664b-cdf4-2f6b"
    }
   },
   "outputs": [],
   "source": [
    "#!ansible -b -m file -a 'path=/etc/jupyterhub/simplesamlphp/cert state=directory' {target_hub}\n",
    "#!ansible -b -m copy -a 'src={work_dir}/{ds_metadata_signer} dest=/etc/jupyterhub/simplesamlphp/cert/' {target_hub}"
   ]
  },
  {
   "cell_type": "markdown",
   "metadata": {
    "lc_cell_meme": {
     "current": "85d819f6-591f-11ea-bd55-0242ac120002-19-dd32-5ecf-e1f0-a1d8-3caa-d67f-3ae2-8760-4f59-4881",
     "history": [
      {
       "current": "85d819f6-591f-11ea-bd55-0242ac120002-15-65f4-0a13-1d0c-9c99-dd32-5ecf-e1f0-a1d8-3caa-d67f",
       "next": "85d81c44-591f-11ea-bd55-0242ac120002-14-01fc-2669-1327-2670-6e49-fd1d-3ba6-1be3-85b6-5553",
       "previous": "85d811c2-591f-11ea-bd55-0242ac120002-14-ea1e-b10b-95d9-019f-62c3-2c6c-3d2c-a56f-7cd5-6248"
      },
      {
       "current": "85d819f6-591f-11ea-bd55-0242ac120002-16-0a13-1d0c-9c99-dd32-5ecf-e1f0-a1d8-3caa-d67f-3ae2",
       "next": "85d81c44-591f-11ea-bd55-0242ac120002-15-2669-1327-2670-6e49-fd1d-3ba6-1be3-85b6-5553-6ae0",
       "previous": "85d811c2-591f-11ea-bd55-0242ac120002-15-b10b-95d9-019f-62c3-2c6c-3d2c-a56f-7cd5-6248-3039"
      },
      {
       "current": "85d819f6-591f-11ea-bd55-0242ac120002-17-1d0c-9c99-dd32-5ecf-e1f0-a1d8-3caa-d67f-3ae2-8760",
       "next": "85d81c44-591f-11ea-bd55-0242ac120002-16-1327-2670-6e49-fd1d-3ba6-1be3-85b6-5553-6ae0-f1ae",
       "previous": "85d811c2-591f-11ea-bd55-0242ac120002-16-95d9-019f-62c3-2c6c-3d2c-a56f-7cd5-6248-3039-bbc2"
      },
      {
       "current": "85d819f6-591f-11ea-bd55-0242ac120002-18-9c99-dd32-5ecf-e1f0-a1d8-3caa-d67f-3ae2-8760-4f59",
       "next": "85d81c44-591f-11ea-bd55-0242ac120002-17-2670-6e49-fd1d-3ba6-1be3-85b6-5553-6ae0-f1ae-e100",
       "previous": "85d811c2-591f-11ea-bd55-0242ac120002-17-019f-62c3-2c6c-3d2c-a56f-7cd5-6248-3039-bbc2-56dd"
      },
      {
       "current": "85d819f6-591f-11ea-bd55-0242ac120002-19-dd32-5ecf-e1f0-a1d8-3caa-d67f-3ae2-8760-4f59-4881",
       "next": "85d81c44-591f-11ea-bd55-0242ac120002-18-6e49-fd1d-3ba6-1be3-85b6-5553-6ae0-f1ae-e100-ae40",
       "previous": "85d811c2-591f-11ea-bd55-0242ac120002-18-62c3-2c6c-3d2c-a56f-7cd5-6248-3039-bbc2-56dd-4356"
      }
     ],
     "next": "85d81c44-591f-11ea-bd55-0242ac120002-19-fd1d-3ba6-1be3-85b6-5553-6ae0-f1ae-e100-ae40-7893",
     "previous": "85d811c2-591f-11ea-bd55-0242ac120002-19-2c6c-3d2c-a56f-7cd5-6248-3039-bbc2-56dd-4356-e473"
    }
   },
   "source": [
    "**テスト用クラウドゲートウェイを利用するときのみ**\n",
    "\n",
    "クラウドゲートウェイメタデータの用意\n",
    "\n",
    "学認から別途入手し、ローカルに配置済みとする。"
   ]
  },
  {
   "cell_type": "code",
   "execution_count": null,
   "metadata": {
    "lc_cell_meme": {
     "current": "85d81c44-591f-11ea-bd55-0242ac120002-19-fd1d-3ba6-1be3-85b6-5553-6ae0-f1ae-e100-ae40-7893",
     "execution_end_time": "2022-04-28T07:53:13.801845Z",
     "history": [
      {
       "current": "85d81c44-591f-11ea-bd55-0242ac120002-15-2669-1327-2670-6e49-fd1d-3ba6-1be3-85b6-5553-6ae0",
       "next": "85d81e38-591f-11ea-bd55-0242ac120002-14-8b4e-ee5b-77c0-4985-c39f-327c-e91a-3cd4-76af-a4d2",
       "previous": "85d819f6-591f-11ea-bd55-0242ac120002-14-ba0c-65f4-0a13-1d0c-9c99-dd32-5ecf-e1f0-a1d8-3caa"
      },
      {
       "current": "85d81c44-591f-11ea-bd55-0242ac120002-16-1327-2670-6e49-fd1d-3ba6-1be3-85b6-5553-6ae0-f1ae",
       "next": "85d81e38-591f-11ea-bd55-0242ac120002-15-ee5b-77c0-4985-c39f-327c-e91a-3cd4-76af-a4d2-6a43",
       "previous": "85d819f6-591f-11ea-bd55-0242ac120002-15-65f4-0a13-1d0c-9c99-dd32-5ecf-e1f0-a1d8-3caa-d67f"
      },
      {
       "current": "85d81c44-591f-11ea-bd55-0242ac120002-17-2670-6e49-fd1d-3ba6-1be3-85b6-5553-6ae0-f1ae-e100",
       "next": "85d81e38-591f-11ea-bd55-0242ac120002-16-77c0-4985-c39f-327c-e91a-3cd4-76af-a4d2-6a43-6d18",
       "previous": "85d819f6-591f-11ea-bd55-0242ac120002-16-0a13-1d0c-9c99-dd32-5ecf-e1f0-a1d8-3caa-d67f-3ae2"
      },
      {
       "current": "85d81c44-591f-11ea-bd55-0242ac120002-18-6e49-fd1d-3ba6-1be3-85b6-5553-6ae0-f1ae-e100-ae40",
       "next": "85d81e38-591f-11ea-bd55-0242ac120002-17-4985-c39f-327c-e91a-3cd4-76af-a4d2-6a43-6d18-8858",
       "previous": "85d819f6-591f-11ea-bd55-0242ac120002-17-1d0c-9c99-dd32-5ecf-e1f0-a1d8-3caa-d67f-3ae2-8760"
      },
      {
       "current": "85d81c44-591f-11ea-bd55-0242ac120002-19-fd1d-3ba6-1be3-85b6-5553-6ae0-f1ae-e100-ae40-7893",
       "next": "85d81e38-591f-11ea-bd55-0242ac120002-18-c39f-327c-e91a-3cd4-76af-a4d2-6a43-6d18-8858-66f5",
       "previous": "85d819f6-591f-11ea-bd55-0242ac120002-18-9c99-dd32-5ecf-e1f0-a1d8-3caa-d67f-3ae2-8760-4f59"
      }
     ],
     "next": "85d81e38-591f-11ea-bd55-0242ac120002-19-327c-e91a-3cd4-76af-a4d2-6a43-6d18-8858-66f5-d1ce",
     "previous": "85d819f6-591f-11ea-bd55-0242ac120002-19-dd32-5ecf-e1f0-a1d8-3caa-d67f-3ae2-8760-4f59-4881"
    }
   },
   "outputs": [],
   "source": [
    "## cgidp_metadata = 'sptestcgidp-metadata-self-signed-cert.xml.20200129'\n",
    "## cgidp_metadata = 'sptestcgidp-metadata-self-signed-cert.xml'\n",
    "#cgidp_metadata = 'sptestcgidp-metadata-self-signed-cert.xml.20200305'\n",
    "#cgidp_metadata"
   ]
  },
  {
   "cell_type": "code",
   "execution_count": null,
   "metadata": {
    "lc_cell_meme": {
     "current": "85d81e38-591f-11ea-bd55-0242ac120002-19-327c-e91a-3cd4-76af-a4d2-6a43-6d18-8858-66f5-d1ce",
     "execution_end_time": "2022-04-28T07:53:15.450831Z",
     "history": [
      {
       "current": "85d81e38-591f-11ea-bd55-0242ac120002-15-ee5b-77c0-4985-c39f-327c-e91a-3cd4-76af-a4d2-6a43",
       "next": "85d81f8c-591f-11ea-bd55-0242ac120002-14-4660-0b35-8ddd-8686-1a7b-3fde-2e0d-2389-ffda-6801",
       "previous": "85d81c44-591f-11ea-bd55-0242ac120002-14-01fc-2669-1327-2670-6e49-fd1d-3ba6-1be3-85b6-5553"
      },
      {
       "current": "85d81e38-591f-11ea-bd55-0242ac120002-16-77c0-4985-c39f-327c-e91a-3cd4-76af-a4d2-6a43-6d18",
       "next": "85d81f8c-591f-11ea-bd55-0242ac120002-15-0b35-8ddd-8686-1a7b-3fde-2e0d-2389-ffda-6801-dfba",
       "previous": "85d81c44-591f-11ea-bd55-0242ac120002-15-2669-1327-2670-6e49-fd1d-3ba6-1be3-85b6-5553-6ae0"
      },
      {
       "current": "85d81e38-591f-11ea-bd55-0242ac120002-17-4985-c39f-327c-e91a-3cd4-76af-a4d2-6a43-6d18-8858",
       "next": "85d81f8c-591f-11ea-bd55-0242ac120002-16-8ddd-8686-1a7b-3fde-2e0d-2389-ffda-6801-dfba-83b0",
       "previous": "85d81c44-591f-11ea-bd55-0242ac120002-16-1327-2670-6e49-fd1d-3ba6-1be3-85b6-5553-6ae0-f1ae"
      },
      {
       "current": "85d81e38-591f-11ea-bd55-0242ac120002-18-c39f-327c-e91a-3cd4-76af-a4d2-6a43-6d18-8858-66f5",
       "next": "85d81f8c-591f-11ea-bd55-0242ac120002-17-8686-1a7b-3fde-2e0d-2389-ffda-6801-dfba-83b0-0b89",
       "previous": "85d81c44-591f-11ea-bd55-0242ac120002-17-2670-6e49-fd1d-3ba6-1be3-85b6-5553-6ae0-f1ae-e100"
      },
      {
       "current": "85d81e38-591f-11ea-bd55-0242ac120002-19-327c-e91a-3cd4-76af-a4d2-6a43-6d18-8858-66f5-d1ce",
       "next": "85d81f8c-591f-11ea-bd55-0242ac120002-18-1a7b-3fde-2e0d-2389-ffda-6801-dfba-83b0-0b89-e9e8",
       "previous": "85d81c44-591f-11ea-bd55-0242ac120002-18-6e49-fd1d-3ba6-1be3-85b6-5553-6ae0-f1ae-e100-ae40"
      }
     ],
     "next": "85d81f8c-591f-11ea-bd55-0242ac120002-19-3fde-2e0d-2389-ffda-6801-dfba-83b0-0b89-e9e8-b820",
     "previous": "85d81c44-591f-11ea-bd55-0242ac120002-19-fd1d-3ba6-1be3-85b6-5553-6ae0-f1ae-e100-ae40-7893"
    }
   },
   "outputs": [],
   "source": [
    "#!ls -l {cgidp_metadata}"
   ]
  },
  {
   "cell_type": "code",
   "execution_count": null,
   "metadata": {
    "lc_cell_meme": {
     "current": "85d81f8c-591f-11ea-bd55-0242ac120002-19-3fde-2e0d-2389-ffda-6801-dfba-83b0-0b89-e9e8-b820",
     "execution_end_time": "2022-04-28T07:53:16.075438Z",
     "history": [
      {
       "current": "85d81f8c-591f-11ea-bd55-0242ac120002-15-0b35-8ddd-8686-1a7b-3fde-2e0d-2389-ffda-6801-dfba",
       "next": "725a06a6-4680-11eb-af23-0242ac120002-7-61db-43a0-1254-0e7c-2be5-0113-863a",
       "previous": "85d81e38-591f-11ea-bd55-0242ac120002-14-8b4e-ee5b-77c0-4985-c39f-327c-e91a-3cd4-76af-a4d2"
      },
      {
       "current": "85d81f8c-591f-11ea-bd55-0242ac120002-16-8ddd-8686-1a7b-3fde-2e0d-2389-ffda-6801-dfba-83b0",
       "next": "725a06a6-4680-11eb-af23-0242ac120002-8-61db-43a0-1254-0e7c-2be5-0113-863a-b5db",
       "previous": "85d81e38-591f-11ea-bd55-0242ac120002-15-ee5b-77c0-4985-c39f-327c-e91a-3cd4-76af-a4d2-6a43"
      },
      {
       "current": "85d81f8c-591f-11ea-bd55-0242ac120002-17-8686-1a7b-3fde-2e0d-2389-ffda-6801-dfba-83b0-0b89",
       "next": "725a06a6-4680-11eb-af23-0242ac120002-9-61db-43a0-1254-0e7c-2be5-0113-863a-b5db-2366",
       "previous": "85d81e38-591f-11ea-bd55-0242ac120002-16-77c0-4985-c39f-327c-e91a-3cd4-76af-a4d2-6a43-6d18"
      },
      {
       "current": "85d81f8c-591f-11ea-bd55-0242ac120002-18-1a7b-3fde-2e0d-2389-ffda-6801-dfba-83b0-0b89-e9e8",
       "next": "725a06a6-4680-11eb-af23-0242ac120002-10-61db-43a0-1254-0e7c-2be5-0113-863a-b5db-2366-b2cd",
       "previous": "85d81e38-591f-11ea-bd55-0242ac120002-17-4985-c39f-327c-e91a-3cd4-76af-a4d2-6a43-6d18-8858"
      },
      {
       "current": "85d81f8c-591f-11ea-bd55-0242ac120002-19-3fde-2e0d-2389-ffda-6801-dfba-83b0-0b89-e9e8-b820",
       "next": "725a06a6-4680-11eb-af23-0242ac120002-11-43a0-1254-0e7c-2be5-0113-863a-b5db-2366-b2cd-8557",
       "previous": "85d81e38-591f-11ea-bd55-0242ac120002-18-c39f-327c-e91a-3cd4-76af-a4d2-6a43-6d18-8858-66f5"
      }
     ],
     "next": "725a06a6-4680-11eb-af23-0242ac120002-12-1254-0e7c-2be5-0113-863a-b5db-2366-b2cd-8557-c717",
     "previous": "85d81e38-591f-11ea-bd55-0242ac120002-19-327c-e91a-3cd4-76af-a4d2-6a43-6d18-8858-66f5-d1ce"
    },
    "scrolled": true
   },
   "outputs": [],
   "source": [
    "#!ansible -b -m file -a 'path=/etc/jupyterhub/simplesamlphp/metadata/xml state=directory' {target_hub}\n",
    "#!ansible -b -m copy -a 'src={cgidp_metadata} dest=/etc/jupyterhub/simplesamlphp/metadata/xml/cgidp-metadata.xml' {target_hub}"
   ]
  },
  {
   "cell_type": "markdown",
   "metadata": {
    "lc_cell_meme": {
     "current": "725a06a6-4680-11eb-af23-0242ac120002-12-1254-0e7c-2be5-0113-863a-b5db-2366-b2cd-8557-c717",
     "history": [
      {
       "current": "725a06a6-4680-11eb-af23-0242ac120002-8-61db-43a0-1254-0e7c-2be5-0113-863a-b5db",
       "next": "b0fd2df4-6159-11eb-9491-0242ac120002-6-c276-b55d-fd91-ec97-b2e6-219f",
       "previous": "85d81f8c-591f-11ea-bd55-0242ac120002-14-4660-0b35-8ddd-8686-1a7b-3fde-2e0d-2389-ffda-6801"
      },
      {
       "current": "725a06a6-4680-11eb-af23-0242ac120002-9-61db-43a0-1254-0e7c-2be5-0113-863a-b5db-2366",
       "next": "b0fd2df4-6159-11eb-9491-0242ac120002-7-c276-b55d-fd91-ec97-b2e6-219f-7321",
       "previous": "85d81f8c-591f-11ea-bd55-0242ac120002-15-0b35-8ddd-8686-1a7b-3fde-2e0d-2389-ffda-6801-dfba"
      },
      {
       "current": "725a06a6-4680-11eb-af23-0242ac120002-10-61db-43a0-1254-0e7c-2be5-0113-863a-b5db-2366-b2cd",
       "next": "b0fd2df4-6159-11eb-9491-0242ac120002-8-c276-b55d-fd91-ec97-b2e6-219f-7321-ca7f",
       "previous": "85d81f8c-591f-11ea-bd55-0242ac120002-16-8ddd-8686-1a7b-3fde-2e0d-2389-ffda-6801-dfba-83b0"
      },
      {
       "current": "725a06a6-4680-11eb-af23-0242ac120002-11-43a0-1254-0e7c-2be5-0113-863a-b5db-2366-b2cd-8557",
       "next": "b0fd2df4-6159-11eb-9491-0242ac120002-9-c276-b55d-fd91-ec97-b2e6-219f-7321-ca7f-67ce",
       "previous": "85d81f8c-591f-11ea-bd55-0242ac120002-17-8686-1a7b-3fde-2e0d-2389-ffda-6801-dfba-83b0-0b89"
      },
      {
       "current": "725a06a6-4680-11eb-af23-0242ac120002-12-1254-0e7c-2be5-0113-863a-b5db-2366-b2cd-8557-c717",
       "next": "b0fd2df4-6159-11eb-9491-0242ac120002-10-c276-b55d-fd91-ec97-b2e6-219f-7321-ca7f-67ce-796e",
       "previous": "85d81f8c-591f-11ea-bd55-0242ac120002-18-1a7b-3fde-2e0d-2389-ffda-6801-dfba-83b0-0b89-e9e8"
      }
     ],
     "next": "b0fd2df4-6159-11eb-9491-0242ac120002-11-b55d-fd91-ec97-b2e6-219f-7321-ca7f-67ce-796e-fe02",
     "previous": "85d81f8c-591f-11ea-bd55-0242ac120002-19-3fde-2e0d-2389-ffda-6801-dfba-83b0-0b89-e9e8-b820"
    }
   },
   "source": [
    "## LTI認証連携設定\n",
    "\n",
    "> LTIを設定しない場合も実行すること。"
   ]
  },
  {
   "cell_type": "code",
   "execution_count": null,
   "metadata": {
    "lc_cell_meme": {
     "current": "b0fd2df4-6159-11eb-9491-0242ac120002-11-b55d-fd91-ec97-b2e6-219f-7321-ca7f-67ce-796e-fe02",
     "execution_end_time": "2022-04-28T07:53:21.248654Z",
     "history": [
      {
       "current": "b0fd2df4-6159-11eb-9491-0242ac120002-7-c276-b55d-fd91-ec97-b2e6-219f-7321",
       "next": "b0fd2fe8-6159-11eb-9491-0242ac120002-6-5c31-94c7-36f6-e6af-f89d-13fe",
       "previous": "725a06a6-4680-11eb-af23-0242ac120002-7-61db-43a0-1254-0e7c-2be5-0113-863a"
      },
      {
       "current": "b0fd2df4-6159-11eb-9491-0242ac120002-8-c276-b55d-fd91-ec97-b2e6-219f-7321-ca7f",
       "next": "b0fd2fe8-6159-11eb-9491-0242ac120002-7-5c31-94c7-36f6-e6af-f89d-13fe-bbb7",
       "previous": "725a06a6-4680-11eb-af23-0242ac120002-8-61db-43a0-1254-0e7c-2be5-0113-863a-b5db"
      },
      {
       "current": "b0fd2df4-6159-11eb-9491-0242ac120002-9-c276-b55d-fd91-ec97-b2e6-219f-7321-ca7f-67ce",
       "next": "b0fd2fe8-6159-11eb-9491-0242ac120002-8-5c31-94c7-36f6-e6af-f89d-13fe-bbb7-36dc",
       "previous": "725a06a6-4680-11eb-af23-0242ac120002-9-61db-43a0-1254-0e7c-2be5-0113-863a-b5db-2366"
      },
      {
       "current": "b0fd2df4-6159-11eb-9491-0242ac120002-10-c276-b55d-fd91-ec97-b2e6-219f-7321-ca7f-67ce-796e",
       "next": "b0fd2fe8-6159-11eb-9491-0242ac120002-9-5c31-94c7-36f6-e6af-f89d-13fe-bbb7-36dc-b51a",
       "previous": "725a06a6-4680-11eb-af23-0242ac120002-10-61db-43a0-1254-0e7c-2be5-0113-863a-b5db-2366-b2cd"
      },
      {
       "current": "b0fd2df4-6159-11eb-9491-0242ac120002-11-b55d-fd91-ec97-b2e6-219f-7321-ca7f-67ce-796e-fe02",
       "next": "b0fd2fe8-6159-11eb-9491-0242ac120002-10-5c31-94c7-36f6-e6af-f89d-13fe-bbb7-36dc-b51a-b0d7",
       "previous": "725a06a6-4680-11eb-af23-0242ac120002-11-43a0-1254-0e7c-2be5-0113-863a-b5db-2366-b2cd-8557"
      }
     ],
     "next": "b0fd2fe8-6159-11eb-9491-0242ac120002-11-94c7-36f6-e6af-f89d-13fe-bbb7-36dc-b51a-b0d7-7247",
     "previous": "725a06a6-4680-11eb-af23-0242ac120002-12-1254-0e7c-2be5-0113-863a-b5db-2366-b2cd-8557-c717"
    }
   },
   "outputs": [],
   "source": [
    "lti_key_dir = '/etc/jupyterhub/lti'\n",
    "lti_key_dir"
   ]
  },
  {
   "cell_type": "code",
   "execution_count": null,
   "metadata": {
    "lc_cell_meme": {
     "current": "b0fd2fe8-6159-11eb-9491-0242ac120002-11-94c7-36f6-e6af-f89d-13fe-bbb7-36dc-b51a-b0d7-7247",
     "execution_end_time": "2022-04-28T07:53:22.405549Z",
     "history": [
      {
       "current": "b0fd2fe8-6159-11eb-9491-0242ac120002-7-5c31-94c7-36f6-e6af-f89d-13fe-bbb7",
       "next": "f882e146-6159-11eb-9491-0242ac120002-6-6f71-7d66-2c43-a93d-1e66-e992",
       "previous": "b0fd2df4-6159-11eb-9491-0242ac120002-6-c276-b55d-fd91-ec97-b2e6-219f"
      },
      {
       "current": "b0fd2fe8-6159-11eb-9491-0242ac120002-8-5c31-94c7-36f6-e6af-f89d-13fe-bbb7-36dc",
       "next": "f882e146-6159-11eb-9491-0242ac120002-7-6f71-7d66-2c43-a93d-1e66-e992-4bb2",
       "previous": "b0fd2df4-6159-11eb-9491-0242ac120002-7-c276-b55d-fd91-ec97-b2e6-219f-7321"
      },
      {
       "current": "b0fd2fe8-6159-11eb-9491-0242ac120002-9-5c31-94c7-36f6-e6af-f89d-13fe-bbb7-36dc-b51a",
       "next": "f882e146-6159-11eb-9491-0242ac120002-8-6f71-7d66-2c43-a93d-1e66-e992-4bb2-5624",
       "previous": "b0fd2df4-6159-11eb-9491-0242ac120002-8-c276-b55d-fd91-ec97-b2e6-219f-7321-ca7f"
      },
      {
       "current": "b0fd2fe8-6159-11eb-9491-0242ac120002-10-5c31-94c7-36f6-e6af-f89d-13fe-bbb7-36dc-b51a-b0d7",
       "next": "f882e146-6159-11eb-9491-0242ac120002-9-6f71-7d66-2c43-a93d-1e66-e992-4bb2-5624-de08",
       "previous": "b0fd2df4-6159-11eb-9491-0242ac120002-9-c276-b55d-fd91-ec97-b2e6-219f-7321-ca7f-67ce"
      },
      {
       "current": "b0fd2fe8-6159-11eb-9491-0242ac120002-11-94c7-36f6-e6af-f89d-13fe-bbb7-36dc-b51a-b0d7-7247",
       "next": "f882e146-6159-11eb-9491-0242ac120002-10-6f71-7d66-2c43-a93d-1e66-e992-4bb2-5624-de08-8bd8",
       "previous": "b0fd2df4-6159-11eb-9491-0242ac120002-10-c276-b55d-fd91-ec97-b2e6-219f-7321-ca7f-67ce-796e"
      }
     ],
     "next": "f882e146-6159-11eb-9491-0242ac120002-11-7d66-2c43-a93d-1e66-e992-4bb2-5624-de08-8bd8-a172",
     "previous": "b0fd2df4-6159-11eb-9491-0242ac120002-11-b55d-fd91-ec97-b2e6-219f-7321-ca7f-67ce-796e-fe02"
    }
   },
   "outputs": [],
   "source": [
    "lti_key_file = os.path.join(lti_key_dir, 'private.key')\n",
    "lti_key_file"
   ]
  },
  {
   "cell_type": "code",
   "execution_count": null,
   "metadata": {
    "lc_cell_meme": {
     "current": "f882e146-6159-11eb-9491-0242ac120002-11-7d66-2c43-a93d-1e66-e992-4bb2-5624-de08-8bd8-a172",
     "execution_end_time": "2022-04-28T07:53:26.223171Z",
     "history": [
      {
       "current": "f882e146-6159-11eb-9491-0242ac120002-7-6f71-7d66-2c43-a93d-1e66-e992-4bb2",
       "next": "400a1d7c-615a-11eb-9491-0242ac120002-6-ec1b-544b-3b3a-3c3f-9617-f81f",
       "previous": "b0fd2fe8-6159-11eb-9491-0242ac120002-6-5c31-94c7-36f6-e6af-f89d-13fe"
      },
      {
       "current": "f882e146-6159-11eb-9491-0242ac120002-8-6f71-7d66-2c43-a93d-1e66-e992-4bb2-5624",
       "next": "400a1d7c-615a-11eb-9491-0242ac120002-7-ec1b-544b-3b3a-3c3f-9617-f81f-7f77",
       "previous": "b0fd2fe8-6159-11eb-9491-0242ac120002-7-5c31-94c7-36f6-e6af-f89d-13fe-bbb7"
      },
      {
       "current": "f882e146-6159-11eb-9491-0242ac120002-9-6f71-7d66-2c43-a93d-1e66-e992-4bb2-5624-de08",
       "next": "400a1d7c-615a-11eb-9491-0242ac120002-8-ec1b-544b-3b3a-3c3f-9617-f81f-7f77-33e1",
       "previous": "b0fd2fe8-6159-11eb-9491-0242ac120002-8-5c31-94c7-36f6-e6af-f89d-13fe-bbb7-36dc"
      },
      {
       "current": "f882e146-6159-11eb-9491-0242ac120002-10-6f71-7d66-2c43-a93d-1e66-e992-4bb2-5624-de08-8bd8",
       "next": "400a1d7c-615a-11eb-9491-0242ac120002-9-ec1b-544b-3b3a-3c3f-9617-f81f-7f77-33e1-6ac0",
       "previous": "b0fd2fe8-6159-11eb-9491-0242ac120002-9-5c31-94c7-36f6-e6af-f89d-13fe-bbb7-36dc-b51a"
      },
      {
       "current": "f882e146-6159-11eb-9491-0242ac120002-11-7d66-2c43-a93d-1e66-e992-4bb2-5624-de08-8bd8-a172",
       "next": "400a1d7c-615a-11eb-9491-0242ac120002-10-ec1b-544b-3b3a-3c3f-9617-f81f-7f77-33e1-6ac0-0d1e",
       "previous": "b0fd2fe8-6159-11eb-9491-0242ac120002-10-5c31-94c7-36f6-e6af-f89d-13fe-bbb7-36dc-b51a-b0d7"
      }
     ],
     "next": "400a1d7c-615a-11eb-9491-0242ac120002-11-544b-3b3a-3c3f-9617-f81f-7f77-33e1-6ac0-0d1e-1789",
     "previous": "b0fd2fe8-6159-11eb-9491-0242ac120002-11-94c7-36f6-e6af-f89d-13fe-bbb7-36dc-b51a-b0d7-7247"
    }
   },
   "outputs": [],
   "source": [
    "!ansible -b -m file -a 'path={lti_key_dir} state=directory'  {target_hub} -l {target_group}"
   ]
  },
  {
   "cell_type": "markdown",
   "metadata": {
    "lc_cell_meme": {
     "current": "400a1d7c-615a-11eb-9491-0242ac120002-11-544b-3b3a-3c3f-9617-f81f-7f77-33e1-6ac0-0d1e-1789",
     "history": [
      {
       "current": "400a1d7c-615a-11eb-9491-0242ac120002-7-ec1b-544b-3b3a-3c3f-9617-f81f-7f77",
       "next": "6979d1da-6159-11eb-9491-0242ac120002-6-5082-9b50-dcfb-0e27-75a2-7ff6",
       "previous": "f882e146-6159-11eb-9491-0242ac120002-6-6f71-7d66-2c43-a93d-1e66-e992"
      },
      {
       "current": "400a1d7c-615a-11eb-9491-0242ac120002-8-ec1b-544b-3b3a-3c3f-9617-f81f-7f77-33e1",
       "next": "6979d1da-6159-11eb-9491-0242ac120002-7-5082-9b50-dcfb-0e27-75a2-7ff6-7d46",
       "previous": "f882e146-6159-11eb-9491-0242ac120002-7-6f71-7d66-2c43-a93d-1e66-e992-4bb2"
      },
      {
       "current": "400a1d7c-615a-11eb-9491-0242ac120002-9-ec1b-544b-3b3a-3c3f-9617-f81f-7f77-33e1-6ac0",
       "next": "6979d1da-6159-11eb-9491-0242ac120002-8-5082-9b50-dcfb-0e27-75a2-7ff6-7d46-af45",
       "previous": "f882e146-6159-11eb-9491-0242ac120002-8-6f71-7d66-2c43-a93d-1e66-e992-4bb2-5624"
      },
      {
       "current": "400a1d7c-615a-11eb-9491-0242ac120002-10-ec1b-544b-3b3a-3c3f-9617-f81f-7f77-33e1-6ac0-0d1e",
       "next": "6979d1da-6159-11eb-9491-0242ac120002-9-5082-9b50-dcfb-0e27-75a2-7ff6-7d46-af45-2727",
       "previous": "f882e146-6159-11eb-9491-0242ac120002-9-6f71-7d66-2c43-a93d-1e66-e992-4bb2-5624-de08"
      },
      {
       "current": "400a1d7c-615a-11eb-9491-0242ac120002-11-544b-3b3a-3c3f-9617-f81f-7f77-33e1-6ac0-0d1e-1789",
       "next": "6979d1da-6159-11eb-9491-0242ac120002-10-5082-9b50-dcfb-0e27-75a2-7ff6-7d46-af45-2727-c862",
       "previous": "f882e146-6159-11eb-9491-0242ac120002-10-6f71-7d66-2c43-a93d-1e66-e992-4bb2-5624-de08-8bd8"
      }
     ],
     "next": "6979d1da-6159-11eb-9491-0242ac120002-11-9b50-dcfb-0e27-75a2-7ff6-7d46-af45-2727-c862-e883",
     "previous": "f882e146-6159-11eb-9491-0242ac120002-11-7d66-2c43-a93d-1e66-e992-4bb2-5624-de08-8bd8-a172"
    }
   },
   "source": [
    "必要ならキーペアを生成"
   ]
  },
  {
   "cell_type": "code",
   "execution_count": null,
   "metadata": {
    "lc_cell_meme": {
     "current": "6979d1da-6159-11eb-9491-0242ac120002-11-9b50-dcfb-0e27-75a2-7ff6-7d46-af45-2727-c862-e883",
     "execution_end_time": "2022-04-28T07:53:29.124204Z",
     "history": [
      {
       "current": "6979d1da-6159-11eb-9491-0242ac120002-7-5082-9b50-dcfb-0e27-75a2-7ff6-7d46",
       "next": "169e0d4e-615b-11eb-9491-0242ac120002-6-5101-0f1a-97ae-b091-d9eb-dd78",
       "previous": "400a1d7c-615a-11eb-9491-0242ac120002-6-ec1b-544b-3b3a-3c3f-9617-f81f"
      },
      {
       "current": "6979d1da-6159-11eb-9491-0242ac120002-8-5082-9b50-dcfb-0e27-75a2-7ff6-7d46-af45",
       "next": "169e0d4e-615b-11eb-9491-0242ac120002-7-5101-0f1a-97ae-b091-d9eb-dd78-8edb",
       "previous": "400a1d7c-615a-11eb-9491-0242ac120002-7-ec1b-544b-3b3a-3c3f-9617-f81f-7f77"
      },
      {
       "current": "6979d1da-6159-11eb-9491-0242ac120002-9-5082-9b50-dcfb-0e27-75a2-7ff6-7d46-af45-2727",
       "next": "169e0d4e-615b-11eb-9491-0242ac120002-8-5101-0f1a-97ae-b091-d9eb-dd78-8edb-12ae",
       "previous": "400a1d7c-615a-11eb-9491-0242ac120002-8-ec1b-544b-3b3a-3c3f-9617-f81f-7f77-33e1"
      },
      {
       "current": "6979d1da-6159-11eb-9491-0242ac120002-10-5082-9b50-dcfb-0e27-75a2-7ff6-7d46-af45-2727-c862",
       "next": "169e0d4e-615b-11eb-9491-0242ac120002-9-5101-0f1a-97ae-b091-d9eb-dd78-8edb-12ae-7e74",
       "previous": "400a1d7c-615a-11eb-9491-0242ac120002-9-ec1b-544b-3b3a-3c3f-9617-f81f-7f77-33e1-6ac0"
      },
      {
       "current": "6979d1da-6159-11eb-9491-0242ac120002-11-9b50-dcfb-0e27-75a2-7ff6-7d46-af45-2727-c862-e883",
       "next": "169e0d4e-615b-11eb-9491-0242ac120002-10-5101-0f1a-97ae-b091-d9eb-dd78-8edb-12ae-7e74-e56e",
       "previous": "400a1d7c-615a-11eb-9491-0242ac120002-10-ec1b-544b-3b3a-3c3f-9617-f81f-7f77-33e1-6ac0-0d1e"
      }
     ],
     "next": "169e0d4e-615b-11eb-9491-0242ac120002-11-0f1a-97ae-b091-d9eb-dd78-8edb-12ae-7e74-e56e-e4de",
     "previous": "400a1d7c-615a-11eb-9491-0242ac120002-11-544b-3b3a-3c3f-9617-f81f-7f77-33e1-6ac0-0d1e-1789"
    }
   },
   "outputs": [],
   "source": [
    "!ansible -b -m shell -a 'openssl genrsa -out {lti_key_file} creates={lti_key_file}' {target_hub} -l {target_group}"
   ]
  },
  {
   "cell_type": "markdown",
   "metadata": {
    "lc_cell_meme": {
     "current": "169e0d4e-615b-11eb-9491-0242ac120002-11-0f1a-97ae-b091-d9eb-dd78-8edb-12ae-7e74-e56e-e4de",
     "history": [
      {
       "current": "169e0d4e-615b-11eb-9491-0242ac120002-7-5101-0f1a-97ae-b091-d9eb-dd78-8edb",
       "next": "400a2074-615a-11eb-9491-0242ac120002-6-1558-e7cb-ceee-41eb-19ca-7af7",
       "previous": "6979d1da-6159-11eb-9491-0242ac120002-6-5082-9b50-dcfb-0e27-75a2-7ff6"
      },
      {
       "current": "169e0d4e-615b-11eb-9491-0242ac120002-8-5101-0f1a-97ae-b091-d9eb-dd78-8edb-12ae",
       "next": "400a2074-615a-11eb-9491-0242ac120002-7-1558-e7cb-ceee-41eb-19ca-7af7-e47e",
       "previous": "6979d1da-6159-11eb-9491-0242ac120002-7-5082-9b50-dcfb-0e27-75a2-7ff6-7d46"
      },
      {
       "current": "169e0d4e-615b-11eb-9491-0242ac120002-9-5101-0f1a-97ae-b091-d9eb-dd78-8edb-12ae-7e74",
       "next": "400a2074-615a-11eb-9491-0242ac120002-8-1558-e7cb-ceee-41eb-19ca-7af7-e47e-9cf6",
       "previous": "6979d1da-6159-11eb-9491-0242ac120002-8-5082-9b50-dcfb-0e27-75a2-7ff6-7d46-af45"
      },
      {
       "current": "169e0d4e-615b-11eb-9491-0242ac120002-10-5101-0f1a-97ae-b091-d9eb-dd78-8edb-12ae-7e74-e56e",
       "next": "400a2074-615a-11eb-9491-0242ac120002-9-1558-e7cb-ceee-41eb-19ca-7af7-e47e-9cf6-21b7",
       "previous": "6979d1da-6159-11eb-9491-0242ac120002-9-5082-9b50-dcfb-0e27-75a2-7ff6-7d46-af45-2727"
      },
      {
       "current": "169e0d4e-615b-11eb-9491-0242ac120002-11-0f1a-97ae-b091-d9eb-dd78-8edb-12ae-7e74-e56e-e4de",
       "next": "400a2074-615a-11eb-9491-0242ac120002-10-1558-e7cb-ceee-41eb-19ca-7af7-e47e-9cf6-21b7-844f",
       "previous": "6979d1da-6159-11eb-9491-0242ac120002-10-5082-9b50-dcfb-0e27-75a2-7ff6-7d46-af45-2727-c862"
      }
     ],
     "next": "400a2074-615a-11eb-9491-0242ac120002-11-e7cb-ceee-41eb-19ca-7af7-e47e-9cf6-21b7-844f-a4bf",
     "previous": "6979d1da-6159-11eb-9491-0242ac120002-11-9b50-dcfb-0e27-75a2-7ff6-7d46-af45-2727-c862-e883"
    }
   },
   "source": [
    "公開鍵を確認する。\n",
    "\n",
    "この公開鍵は、将来のLMS連携機能のために使用する。認証連携には使用しない。"
   ]
  },
  {
   "cell_type": "code",
   "execution_count": null,
   "metadata": {
    "lc_cell_meme": {
     "current": "400a2074-615a-11eb-9491-0242ac120002-11-e7cb-ceee-41eb-19ca-7af7-e47e-9cf6-21b7-844f-a4bf",
     "execution_end_time": "2022-04-28T07:53:30.597284Z",
     "history": [
      {
       "current": "400a2074-615a-11eb-9491-0242ac120002-7-1558-e7cb-ceee-41eb-19ca-7af7-e47e",
       "next": "2e47e866-7cc7-11eb-9875-0242ac120002-5-22bf-d980-ede5-3d26-0348",
       "previous": "169e0d4e-615b-11eb-9491-0242ac120002-6-5101-0f1a-97ae-b091-d9eb-dd78"
      },
      {
       "current": "400a2074-615a-11eb-9491-0242ac120002-8-1558-e7cb-ceee-41eb-19ca-7af7-e47e-9cf6",
       "next": "2e47e866-7cc7-11eb-9875-0242ac120002-6-22bf-d980-ede5-3d26-0348-af43",
       "previous": "169e0d4e-615b-11eb-9491-0242ac120002-7-5101-0f1a-97ae-b091-d9eb-dd78-8edb"
      },
      {
       "current": "400a2074-615a-11eb-9491-0242ac120002-9-1558-e7cb-ceee-41eb-19ca-7af7-e47e-9cf6-21b7",
       "next": "2e47e866-7cc7-11eb-9875-0242ac120002-7-22bf-d980-ede5-3d26-0348-af43-67a3",
       "previous": "169e0d4e-615b-11eb-9491-0242ac120002-8-5101-0f1a-97ae-b091-d9eb-dd78-8edb-12ae"
      },
      {
       "current": "400a2074-615a-11eb-9491-0242ac120002-10-1558-e7cb-ceee-41eb-19ca-7af7-e47e-9cf6-21b7-844f",
       "next": "2e47e866-7cc7-11eb-9875-0242ac120002-8-22bf-d980-ede5-3d26-0348-af43-67a3-245b",
       "previous": "169e0d4e-615b-11eb-9491-0242ac120002-9-5101-0f1a-97ae-b091-d9eb-dd78-8edb-12ae-7e74"
      },
      {
       "current": "400a2074-615a-11eb-9491-0242ac120002-11-e7cb-ceee-41eb-19ca-7af7-e47e-9cf6-21b7-844f-a4bf",
       "next": "2e47e866-7cc7-11eb-9875-0242ac120002-9-22bf-d980-ede5-3d26-0348-af43-67a3-245b-a7e7",
       "previous": "169e0d4e-615b-11eb-9491-0242ac120002-10-5101-0f1a-97ae-b091-d9eb-dd78-8edb-12ae-7e74-e56e"
      }
     ],
     "next": "2e47e866-7cc7-11eb-9875-0242ac120002-10-22bf-d980-ede5-3d26-0348-af43-67a3-245b-a7e7-e98e",
     "previous": "169e0d4e-615b-11eb-9491-0242ac120002-11-0f1a-97ae-b091-d9eb-dd78-8edb-12ae-7e74-e56e-e4de"
    }
   },
   "outputs": [],
   "source": [
    "lti_pubkey = !ansible -b -m shell -a 'openssl rsa -pubout -in {lti_key_file} 2>/dev/null' {target_hub}\n",
    "assert '-----BEGIN PUBLIC KEY-----' in lti_pubkey\n",
    "lti_pubkey = lti_pubkey[lti_pubkey.index('-----BEGIN PUBLIC KEY-----'):lti_pubkey.index('-----END PUBLIC KEY-----')+1]\n",
    "print('\\n'.join(lti_pubkey))"
   ]
  },
  {
   "cell_type": "markdown",
   "metadata": {
    "lc_cell_meme": {
     "current": "2e47e866-7cc7-11eb-9875-0242ac120002-10-22bf-d980-ede5-3d26-0348-af43-67a3-245b-a7e7-e98e",
     "history": [
      {
       "current": "2e47e866-7cc7-11eb-9875-0242ac120002-6-22bf-d980-ede5-3d26-0348-af43",
       "next": "2e47ebc2-7cc7-11eb-9875-0242ac120002-5-49cf-d0e4-b8ad-0eb5-3cc6",
       "previous": "400a2074-615a-11eb-9491-0242ac120002-6-1558-e7cb-ceee-41eb-19ca-7af7"
      },
      {
       "current": "2e47e866-7cc7-11eb-9875-0242ac120002-7-22bf-d980-ede5-3d26-0348-af43-67a3",
       "next": "2e47ebc2-7cc7-11eb-9875-0242ac120002-6-49cf-d0e4-b8ad-0eb5-3cc6-327c",
       "previous": "400a2074-615a-11eb-9491-0242ac120002-7-1558-e7cb-ceee-41eb-19ca-7af7-e47e"
      },
      {
       "current": "2e47e866-7cc7-11eb-9875-0242ac120002-8-22bf-d980-ede5-3d26-0348-af43-67a3-245b",
       "next": "2e47ebc2-7cc7-11eb-9875-0242ac120002-7-49cf-d0e4-b8ad-0eb5-3cc6-327c-cce7",
       "previous": "400a2074-615a-11eb-9491-0242ac120002-8-1558-e7cb-ceee-41eb-19ca-7af7-e47e-9cf6"
      },
      {
       "current": "2e47e866-7cc7-11eb-9875-0242ac120002-9-22bf-d980-ede5-3d26-0348-af43-67a3-245b-a7e7",
       "next": "2e47ebc2-7cc7-11eb-9875-0242ac120002-8-49cf-d0e4-b8ad-0eb5-3cc6-327c-cce7-dd50",
       "previous": "400a2074-615a-11eb-9491-0242ac120002-9-1558-e7cb-ceee-41eb-19ca-7af7-e47e-9cf6-21b7"
      },
      {
       "current": "2e47e866-7cc7-11eb-9875-0242ac120002-10-22bf-d980-ede5-3d26-0348-af43-67a3-245b-a7e7-e98e",
       "next": "2e47ebc2-7cc7-11eb-9875-0242ac120002-9-49cf-d0e4-b8ad-0eb5-3cc6-327c-cce7-dd50-1672",
       "previous": "400a2074-615a-11eb-9491-0242ac120002-10-1558-e7cb-ceee-41eb-19ca-7af7-e47e-9cf6-21b7-844f"
      }
     ],
     "next": "2e47ebc2-7cc7-11eb-9875-0242ac120002-10-49cf-d0e4-b8ad-0eb5-3cc6-327c-cce7-dd50-1672-e5f1",
     "previous": "400a2074-615a-11eb-9491-0242ac120002-11-e7cb-ceee-41eb-19ca-7af7-e47e-9cf6-21b7-844f-a4bf"
    }
   },
   "source": [
    "このCoursewareHubを、LMS上でExternal Toolとして使用する時に必要になるパラメータ。\n",
    "\n",
    "**LMSへExternal Toolとして登録する時、E-Mailアドレスをツールに送信するように設定すること。**"
   ]
  },
  {
   "cell_type": "code",
   "execution_count": null,
   "metadata": {
    "lc_cell_meme": {
     "current": "2e47ebc2-7cc7-11eb-9875-0242ac120002-10-49cf-d0e4-b8ad-0eb5-3cc6-327c-cce7-dd50-1672-e5f1",
     "execution_end_time": "2022-04-28T07:53:31.360116Z",
     "history": [
      {
       "current": "2e47ebc2-7cc7-11eb-9875-0242ac120002-6-49cf-d0e4-b8ad-0eb5-3cc6-327c",
       "next": "18f9e2b6-80c3-11eb-92b4-0242ac120002-5-94f9-dae6-6cae-5fb7-12f3",
       "previous": "2e47e866-7cc7-11eb-9875-0242ac120002-5-22bf-d980-ede5-3d26-0348"
      },
      {
       "current": "2e47ebc2-7cc7-11eb-9875-0242ac120002-7-49cf-d0e4-b8ad-0eb5-3cc6-327c-cce7",
       "next": "18f9e2b6-80c3-11eb-92b4-0242ac120002-6-94f9-dae6-6cae-5fb7-12f3-8593",
       "previous": "2e47e866-7cc7-11eb-9875-0242ac120002-6-22bf-d980-ede5-3d26-0348-af43"
      },
      {
       "current": "2e47ebc2-7cc7-11eb-9875-0242ac120002-8-49cf-d0e4-b8ad-0eb5-3cc6-327c-cce7-dd50",
       "next": "18f9e2b6-80c3-11eb-92b4-0242ac120002-7-94f9-dae6-6cae-5fb7-12f3-8593-574b",
       "previous": "2e47e866-7cc7-11eb-9875-0242ac120002-7-22bf-d980-ede5-3d26-0348-af43-67a3"
      },
      {
       "current": "2e47ebc2-7cc7-11eb-9875-0242ac120002-9-49cf-d0e4-b8ad-0eb5-3cc6-327c-cce7-dd50-1672",
       "next": "18f9e2b6-80c3-11eb-92b4-0242ac120002-8-94f9-dae6-6cae-5fb7-12f3-8593-574b-c696",
       "previous": "2e47e866-7cc7-11eb-9875-0242ac120002-8-22bf-d980-ede5-3d26-0348-af43-67a3-245b"
      },
      {
       "current": "2e47ebc2-7cc7-11eb-9875-0242ac120002-10-49cf-d0e4-b8ad-0eb5-3cc6-327c-cce7-dd50-1672-e5f1",
       "next": "18f9e2b6-80c3-11eb-92b4-0242ac120002-9-94f9-dae6-6cae-5fb7-12f3-8593-574b-c696-1b62",
       "previous": "2e47e866-7cc7-11eb-9875-0242ac120002-9-22bf-d980-ede5-3d26-0348-af43-67a3-245b-a7e7"
      }
     ],
     "next": "18f9e2b6-80c3-11eb-92b4-0242ac120002-10-94f9-dae6-6cae-5fb7-12f3-8593-574b-c696-1b62-7832",
     "previous": "2e47e866-7cc7-11eb-9875-0242ac120002-10-22bf-d980-ede5-3d26-0348-af43-67a3-245b-a7e7-e98e"
    }
   },
   "outputs": [],
   "source": [
    "print('Tool URL / Launch URL:\\n\\t https://{}/'.format(master_fqdn))\n",
    "print('Initiate login URL / LTI 1.3 Tool OpenID Connect/Initialization Endpoint:\\n\\t https://{}/php/lti/login.php'.format(master_fqdn))\n",
    "print('Redirection URI / LTI 1.3 Tool Redirect Endpoint:\\n\\t https://{}/php/lti/service.php'.format(master_fqdn))"
   ]
  },
  {
   "cell_type": "markdown",
   "metadata": {
    "lc_cell_meme": {
     "current": "18f9e2b6-80c3-11eb-92b4-0242ac120002-10-94f9-dae6-6cae-5fb7-12f3-8593-574b-c696-1b62-7832",
     "history": [
      {
       "current": "18f9e2b6-80c3-11eb-92b4-0242ac120002-6-94f9-dae6-6cae-5fb7-12f3-8593",
       "next": "01641d32-4681-11eb-af23-0242ac120002-7-1f9a-2353-fb9e-f4fa-ee78-2885-bacf",
       "previous": "2e47ebc2-7cc7-11eb-9875-0242ac120002-5-49cf-d0e4-b8ad-0eb5-3cc6"
      },
      {
       "current": "18f9e2b6-80c3-11eb-92b4-0242ac120002-7-94f9-dae6-6cae-5fb7-12f3-8593-574b",
       "next": "01641d32-4681-11eb-af23-0242ac120002-8-1f9a-2353-fb9e-f4fa-ee78-2885-bacf-4f71",
       "previous": "2e47ebc2-7cc7-11eb-9875-0242ac120002-6-49cf-d0e4-b8ad-0eb5-3cc6-327c"
      },
      {
       "current": "18f9e2b6-80c3-11eb-92b4-0242ac120002-8-94f9-dae6-6cae-5fb7-12f3-8593-574b-c696",
       "next": "01641d32-4681-11eb-af23-0242ac120002-9-1f9a-2353-fb9e-f4fa-ee78-2885-bacf-4f71-1793",
       "previous": "2e47ebc2-7cc7-11eb-9875-0242ac120002-7-49cf-d0e4-b8ad-0eb5-3cc6-327c-cce7"
      },
      {
       "current": "18f9e2b6-80c3-11eb-92b4-0242ac120002-9-94f9-dae6-6cae-5fb7-12f3-8593-574b-c696-1b62",
       "next": "01641d32-4681-11eb-af23-0242ac120002-10-1f9a-2353-fb9e-f4fa-ee78-2885-bacf-4f71-1793-0bd1",
       "previous": "2e47ebc2-7cc7-11eb-9875-0242ac120002-8-49cf-d0e4-b8ad-0eb5-3cc6-327c-cce7-dd50"
      },
      {
       "current": "18f9e2b6-80c3-11eb-92b4-0242ac120002-10-94f9-dae6-6cae-5fb7-12f3-8593-574b-c696-1b62-7832",
       "next": "01641d32-4681-11eb-af23-0242ac120002-11-2353-fb9e-f4fa-ee78-2885-bacf-4f71-1793-0bd1-5eae",
       "previous": "2e47ebc2-7cc7-11eb-9875-0242ac120002-9-49cf-d0e4-b8ad-0eb5-3cc6-327c-cce7-dd50-1672"
      }
     ],
     "next": "01641d32-4681-11eb-af23-0242ac120002-12-fb9e-f4fa-ee78-2885-bacf-4f71-1793-0bd1-5eae-2ad7",
     "previous": "2e47ebc2-7cc7-11eb-9875-0242ac120002-10-49cf-d0e4-b8ad-0eb5-3cc6-327c-cce7-dd50-1672-e5f1"
    }
   },
   "source": [
    "連携設定用関数"
   ]
  },
  {
   "cell_type": "code",
   "execution_count": null,
   "metadata": {
    "lc_cell_meme": {
     "current": "01641d32-4681-11eb-af23-0242ac120002-12-fb9e-f4fa-ee78-2885-bacf-4f71-1793-0bd1-5eae-2ad7",
     "execution_end_time": "2022-04-28T07:53:33.033922Z",
     "history": [
      {
       "current": "01641d32-4681-11eb-af23-0242ac120002-8-1f9a-2353-fb9e-f4fa-ee78-2885-bacf-4f71",
       "next": "5e53f734-615b-11eb-9491-0242ac120002-6-f2a3-c0c8-3c90-5522-07f3-c899",
       "previous": "18f9e2b6-80c3-11eb-92b4-0242ac120002-5-94f9-dae6-6cae-5fb7-12f3"
      },
      {
       "current": "01641d32-4681-11eb-af23-0242ac120002-9-1f9a-2353-fb9e-f4fa-ee78-2885-bacf-4f71-1793",
       "next": "5e53f734-615b-11eb-9491-0242ac120002-7-f2a3-c0c8-3c90-5522-07f3-c899-84f0",
       "previous": "18f9e2b6-80c3-11eb-92b4-0242ac120002-6-94f9-dae6-6cae-5fb7-12f3-8593"
      },
      {
       "current": "01641d32-4681-11eb-af23-0242ac120002-10-1f9a-2353-fb9e-f4fa-ee78-2885-bacf-4f71-1793-0bd1",
       "next": "5e53f734-615b-11eb-9491-0242ac120002-8-f2a3-c0c8-3c90-5522-07f3-c899-84f0-7cb8",
       "previous": "18f9e2b6-80c3-11eb-92b4-0242ac120002-7-94f9-dae6-6cae-5fb7-12f3-8593-574b"
      },
      {
       "current": "01641d32-4681-11eb-af23-0242ac120002-11-2353-fb9e-f4fa-ee78-2885-bacf-4f71-1793-0bd1-5eae",
       "next": "5e53f734-615b-11eb-9491-0242ac120002-9-f2a3-c0c8-3c90-5522-07f3-c899-84f0-7cb8-89ba",
       "previous": "18f9e2b6-80c3-11eb-92b4-0242ac120002-8-94f9-dae6-6cae-5fb7-12f3-8593-574b-c696"
      },
      {
       "current": "01641d32-4681-11eb-af23-0242ac120002-12-fb9e-f4fa-ee78-2885-bacf-4f71-1793-0bd1-5eae-2ad7",
       "next": "5e53f734-615b-11eb-9491-0242ac120002-10-f2a3-c0c8-3c90-5522-07f3-c899-84f0-7cb8-89ba-f24d",
       "previous": "18f9e2b6-80c3-11eb-92b4-0242ac120002-9-94f9-dae6-6cae-5fb7-12f3-8593-574b-c696-1b62"
      }
     ],
     "next": "5e53f734-615b-11eb-9491-0242ac120002-11-c0c8-3c90-5522-07f3-c899-84f0-7cb8-89ba-f24d-61a7",
     "previous": "18f9e2b6-80c3-11eb-92b4-0242ac120002-10-94f9-dae6-6cae-5fb7-12f3-8593-574b-c696-1b62-7832"
    }
   },
   "outputs": [],
   "source": [
    "def moodle_lti_config(lti_config, url, client_id, deployment='1'):\n",
    "    lti_config[url] = {\n",
    "        'client_id': client_id,\n",
    "        'auth_login_url': '{}/mod/lti/auth.php'.format(url),\n",
    "        'auth_token_url': '{}/mod/lti/token.php'.format(url),\n",
    "        'key_set_url': '{}/mod/lti/certs.php'.format(url),\n",
    "        'private_key_file': '/private.key',\n",
    "        'deployment': [\n",
    "            deployment\n",
    "        ]\n",
    "    }\n",
    "    return lti_config\n",
    "\n",
    "def sakai_lti_config(lti_config, issuer_url, client_id, id):\n",
    "    lti_config[issuer_url] = {\n",
    "        'client_id': client_id,\n",
    "        'auth_login_url': '{}/imsoidc/lti13/oidc_auth'.format(issuer_url),\n",
    "        'auth_token_url': '{}/imsblis/lti13/token/{}'.format(issuer_url, id),\n",
    "        'key_set_url': '{}/imsblis/lti13/keyset/{}'.format(issuer_url, id),\n",
    "        'private_key_file': '/private.key',\n",
    "        'deployment': [\n",
    "            '1'\n",
    "        ]\n",
    "    }\n",
    "    return lti_config"
   ]
  },
  {
   "attachments": {
    "image-2.png": {
     "image/png": "[encoded data removed]"
    },
    "image-3.png": {
     "image/png": "[encoded data removed]"
    },
    "image-4.png": {
     "image/png": "[encoded data removed]"
    }
   },
   "cell_type": "markdown",
   "metadata": {
    "lc_cell_meme": {
     "current": "5e53f734-615b-11eb-9491-0242ac120002-11-c0c8-3c90-5522-07f3-c899-84f0-7cb8-89ba-f24d-61a7",
     "history": [
      {
       "current": "5e53f734-615b-11eb-9491-0242ac120002-7-f2a3-c0c8-3c90-5522-07f3-c899-84f0",
       "next": "608028fc-80c3-11eb-92b4-0242ac120002-5-a4ab-c597-2802-1f25-7a9a",
       "previous": "01641d32-4681-11eb-af23-0242ac120002-7-1f9a-2353-fb9e-f4fa-ee78-2885-bacf"
      },
      {
       "current": "5e53f734-615b-11eb-9491-0242ac120002-8-f2a3-c0c8-3c90-5522-07f3-c899-84f0-7cb8",
       "next": "608028fc-80c3-11eb-92b4-0242ac120002-6-a4ab-c597-2802-1f25-7a9a-f0cd",
       "previous": "01641d32-4681-11eb-af23-0242ac120002-8-1f9a-2353-fb9e-f4fa-ee78-2885-bacf-4f71"
      },
      {
       "current": "5e53f734-615b-11eb-9491-0242ac120002-9-f2a3-c0c8-3c90-5522-07f3-c899-84f0-7cb8-89ba",
       "next": "608028fc-80c3-11eb-92b4-0242ac120002-7-a4ab-c597-2802-1f25-7a9a-f0cd-6ca3",
       "previous": "01641d32-4681-11eb-af23-0242ac120002-9-1f9a-2353-fb9e-f4fa-ee78-2885-bacf-4f71-1793"
      },
      {
       "current": "5e53f734-615b-11eb-9491-0242ac120002-10-f2a3-c0c8-3c90-5522-07f3-c899-84f0-7cb8-89ba-f24d",
       "next": "608028fc-80c3-11eb-92b4-0242ac120002-8-a4ab-c597-2802-1f25-7a9a-f0cd-6ca3-ead4",
       "previous": "01641d32-4681-11eb-af23-0242ac120002-10-1f9a-2353-fb9e-f4fa-ee78-2885-bacf-4f71-1793-0bd1"
      },
      {
       "current": "5e53f734-615b-11eb-9491-0242ac120002-11-c0c8-3c90-5522-07f3-c899-84f0-7cb8-89ba-f24d-61a7",
       "next": "608028fc-80c3-11eb-92b4-0242ac120002-9-a4ab-c597-2802-1f25-7a9a-f0cd-6ca3-ead4-f5c8",
       "previous": "01641d32-4681-11eb-af23-0242ac120002-11-2353-fb9e-f4fa-ee78-2885-bacf-4f71-1793-0bd1-5eae"
      }
     ],
     "next": "608028fc-80c3-11eb-92b4-0242ac120002-10-a4ab-c597-2802-1f25-7a9a-f0cd-6ca3-ead4-f5c8-f0e6",
     "previous": "01641d32-4681-11eb-af23-0242ac120002-12-fb9e-f4fa-ee78-2885-bacf-4f71-1793-0bd1-5eae-2ad7"
    }
   },
   "source": [
    "設定方法\n",
    "\n",
    "**Moodleの場合**\n",
    "\n",
    "* Dashboard / Site administration / Plugins / Activity modules / External tool / Manage tools を開く\n",
    "* このCoursewareHubに対応するツールの、View configuration details ボタンをクリックし、接続情報を確認する （ツールが存在していなければ作成する） ![image-3.png](attachment:image-3.png) ![image-4.png](attachment:image-4.png)\n",
    "\n",
    "\n",
    "確認した、PlatformID, Client IDを引数にして、以下のように呼び出す。\n",
    "\n",
    "```\n",
    "moodle_lti_config(lti_config, Platform ID, Client ID)\n",
    "```\n",
    "\n",
    "**Sakaiの場合**\n",
    "\n",
    "* adminでログイン\n",
    "* Administration Workspace → External Tools\n",
    "* Installed Toolsタブで、このCoursewareHubに対応するツールの情報を確認する\n",
    " * 存在していなければ作成する\n",
    "* 以下の項目を確認 ![image-2.png](attachment:image-2.png)\n",
    "* OAuth2 Well-Known/KeySet URL と、OAuth2 Bearer Token Retrieval URL の最後の数字をIDとする\n",
    "\n",
    "確認した、Issuer, Client ID、IDを引数にして、以下のように呼び出す。\n",
    "```\n",
    "sakai_lti_config(lti_config, LTI 1.3 Issuer, Client ID, ID)\n",
    "```"
   ]
  },
  {
   "cell_type": "markdown",
   "metadata": {
    "lc_cell_meme": {
     "current": "608028fc-80c3-11eb-92b4-0242ac120002-10-a4ab-c597-2802-1f25-7a9a-f0cd-6ca3-ead4-f5c8-f0e6",
     "history": [
      {
       "current": "608028fc-80c3-11eb-92b4-0242ac120002-6-a4ab-c597-2802-1f25-7a9a-f0cd",
       "next": "b9dde3c6-4680-11eb-af23-0242ac120002-8-a145-d93d-fe5f-81cf-3ed0-8423-7905-7ff7",
       "previous": "5e53f734-615b-11eb-9491-0242ac120002-6-f2a3-c0c8-3c90-5522-07f3-c899"
      },
      {
       "current": "608028fc-80c3-11eb-92b4-0242ac120002-7-a4ab-c597-2802-1f25-7a9a-f0cd-6ca3",
       "next": "b9dde3c6-4680-11eb-af23-0242ac120002-9-a145-d93d-fe5f-81cf-3ed0-8423-7905-7ff7-8e16",
       "previous": "5e53f734-615b-11eb-9491-0242ac120002-7-f2a3-c0c8-3c90-5522-07f3-c899-84f0"
      },
      {
       "current": "608028fc-80c3-11eb-92b4-0242ac120002-8-a4ab-c597-2802-1f25-7a9a-f0cd-6ca3-ead4",
       "next": "b9dde3c6-4680-11eb-af23-0242ac120002-10-a145-d93d-fe5f-81cf-3ed0-8423-7905-7ff7-8e16-bbf8",
       "previous": "5e53f734-615b-11eb-9491-0242ac120002-8-f2a3-c0c8-3c90-5522-07f3-c899-84f0-7cb8"
      },
      {
       "current": "608028fc-80c3-11eb-92b4-0242ac120002-9-a4ab-c597-2802-1f25-7a9a-f0cd-6ca3-ead4-f5c8",
       "next": "b9dde3c6-4680-11eb-af23-0242ac120002-11-d93d-fe5f-81cf-3ed0-8423-7905-7ff7-8e16-bbf8-c993",
       "previous": "5e53f734-615b-11eb-9491-0242ac120002-9-f2a3-c0c8-3c90-5522-07f3-c899-84f0-7cb8-89ba"
      },
      {
       "current": "608028fc-80c3-11eb-92b4-0242ac120002-10-a4ab-c597-2802-1f25-7a9a-f0cd-6ca3-ead4-f5c8-f0e6",
       "next": "b9dde3c6-4680-11eb-af23-0242ac120002-12-fe5f-81cf-3ed0-8423-7905-7ff7-8e16-bbf8-c993-41b3",
       "previous": "5e53f734-615b-11eb-9491-0242ac120002-10-f2a3-c0c8-3c90-5522-07f3-c899-84f0-7cb8-89ba-f24d"
      }
     ],
     "next": "b9dde3c6-4680-11eb-af23-0242ac120002-13-81cf-3ed0-8423-7905-7ff7-8e16-bbf8-c993-41b3-b4b9",
     "previous": "5e53f734-615b-11eb-9491-0242ac120002-11-c0c8-3c90-5522-07f3-c899-84f0-7cb8-89ba-f24d-61a7"
    }
   },
   "source": [
    "連携設定"
   ]
  },
  {
   "cell_type": "code",
   "execution_count": null,
   "metadata": {
    "lc_cell_meme": {
     "current": "b9dde3c6-4680-11eb-af23-0242ac120002-13-81cf-3ed0-8423-7905-7ff7-8e16-bbf8-c993-41b3-b4b9",
     "execution_end_time": "2022-04-28T07:54:52.336223Z",
     "history": [
      {
       "current": "b9dde3c6-4680-11eb-af23-0242ac120002-9-a145-d93d-fe5f-81cf-3ed0-8423-7905-7ff7-8e16",
       "next": "b9dde3c6-4680-11eb-af23-0242ac120002-7-9c86-cb81-d1d1-b779-105c-1b73-29a6",
       "previous": "608028fc-80c3-11eb-92b4-0242ac120002-5-a4ab-c597-2802-1f25-7a9a"
      },
      {
       "current": "b9dde3c6-4680-11eb-af23-0242ac120002-10-a145-d93d-fe5f-81cf-3ed0-8423-7905-7ff7-8e16-bbf8",
       "next": "b9dde3c6-4680-11eb-af23-0242ac120002-8-9c86-cb81-d1d1-b779-105c-1b73-29a6-e03d",
       "previous": "608028fc-80c3-11eb-92b4-0242ac120002-6-a4ab-c597-2802-1f25-7a9a-f0cd"
      },
      {
       "current": "b9dde3c6-4680-11eb-af23-0242ac120002-11-d93d-fe5f-81cf-3ed0-8423-7905-7ff7-8e16-bbf8-c993",
       "next": "b9dde3c6-4680-11eb-af23-0242ac120002-9-9c86-cb81-d1d1-b779-105c-1b73-29a6-e03d-8895",
       "previous": "608028fc-80c3-11eb-92b4-0242ac120002-7-a4ab-c597-2802-1f25-7a9a-f0cd-6ca3"
      },
      {
       "current": "b9dde3c6-4680-11eb-af23-0242ac120002-12-fe5f-81cf-3ed0-8423-7905-7ff7-8e16-bbf8-c993-41b3",
       "next": "b9dde3c6-4680-11eb-af23-0242ac120002-10-9c86-cb81-d1d1-b779-105c-1b73-29a6-e03d-8895-7c15",
       "previous": "608028fc-80c3-11eb-92b4-0242ac120002-8-a4ab-c597-2802-1f25-7a9a-f0cd-6ca3-ead4"
      },
      {
       "current": "b9dde3c6-4680-11eb-af23-0242ac120002-13-81cf-3ed0-8423-7905-7ff7-8e16-bbf8-c993-41b3-b4b9",
       "next": "b9dde3c6-4680-11eb-af23-0242ac120002-11-cb81-d1d1-b779-105c-1b73-29a6-e03d-8895-7c15-829b",
       "previous": "608028fc-80c3-11eb-92b4-0242ac120002-9-a4ab-c597-2802-1f25-7a9a-f0cd-6ca3-ead4-f5c8"
      }
     ],
     "next": "b9dde3c6-4680-11eb-af23-0242ac120002-12-d1d1-b779-105c-1b73-29a6-e03d-8895-7c15-829b-16f7",
     "previous": "608028fc-80c3-11eb-92b4-0242ac120002-10-a4ab-c597-2802-1f25-7a9a-f0cd-6ca3-ead4-f5c8-f0e6"
    }
   },
   "outputs": [],
   "source": [
    "lti_config = {}\n",
    "\n",
    "# LTI設定しない場合はコメントアウトでOK\n",
    "#moodle_lti_config(lti_config, 'http://xxx.xxx.xxx.xxx:8080', 'PTwXM43D???????')\n",
    "#sakai_lti_config(lti_config, 'http://xxx.xxx.xxx.xxx:8081', '14bef854-d8a5-41e0-84e8-????????????', 4)\n",
    "\n",
    "lti_config"
   ]
  },
  {
   "cell_type": "code",
   "execution_count": null,
   "metadata": {
    "lc_cell_meme": {
     "current": "b9dde3c6-4680-11eb-af23-0242ac120002-12-d1d1-b779-105c-1b73-29a6-e03d-8895-7c15-829b-16f7",
     "execution_end_time": "2022-04-28T07:54:56.439741Z",
     "history": [
      {
       "current": "b9dde3c6-4680-11eb-af23-0242ac120002-8-9c86-cb81-d1d1-b779-105c-1b73-29a6-e03d",
       "next": "8c9dfb00-4688-11eb-af23-0242ac120002-7-94ac-3cf6-0a44-b07b-d1f5-3d29-b008",
       "previous": "b9dde3c6-4680-11eb-af23-0242ac120002-8-a145-d93d-fe5f-81cf-3ed0-8423-7905-7ff7"
      },
      {
       "current": "b9dde3c6-4680-11eb-af23-0242ac120002-9-9c86-cb81-d1d1-b779-105c-1b73-29a6-e03d-8895",
       "next": "8c9dfb00-4688-11eb-af23-0242ac120002-8-94ac-3cf6-0a44-b07b-d1f5-3d29-b008-5731",
       "previous": "b9dde3c6-4680-11eb-af23-0242ac120002-9-a145-d93d-fe5f-81cf-3ed0-8423-7905-7ff7-8e16"
      },
      {
       "current": "b9dde3c6-4680-11eb-af23-0242ac120002-10-9c86-cb81-d1d1-b779-105c-1b73-29a6-e03d-8895-7c15",
       "next": "8c9dfb00-4688-11eb-af23-0242ac120002-9-94ac-3cf6-0a44-b07b-d1f5-3d29-b008-5731-3300",
       "previous": "b9dde3c6-4680-11eb-af23-0242ac120002-10-a145-d93d-fe5f-81cf-3ed0-8423-7905-7ff7-8e16-bbf8"
      },
      {
       "current": "b9dde3c6-4680-11eb-af23-0242ac120002-11-cb81-d1d1-b779-105c-1b73-29a6-e03d-8895-7c15-829b",
       "next": "8c9dfb00-4688-11eb-af23-0242ac120002-10-94ac-3cf6-0a44-b07b-d1f5-3d29-b008-5731-3300-df8c",
       "previous": "b9dde3c6-4680-11eb-af23-0242ac120002-11-d93d-fe5f-81cf-3ed0-8423-7905-7ff7-8e16-bbf8-c993"
      },
      {
       "current": "b9dde3c6-4680-11eb-af23-0242ac120002-12-d1d1-b779-105c-1b73-29a6-e03d-8895-7c15-829b-16f7",
       "next": "8c9dfb00-4688-11eb-af23-0242ac120002-11-3cf6-0a44-b07b-d1f5-3d29-b008-5731-3300-df8c-4073",
       "previous": "b9dde3c6-4680-11eb-af23-0242ac120002-12-fe5f-81cf-3ed0-8423-7905-7ff7-8e16-bbf8-c993-41b3"
      }
     ],
     "next": "8c9dfb00-4688-11eb-af23-0242ac120002-12-0a44-b07b-d1f5-3d29-b008-5731-3300-df8c-4073-58df",
     "previous": "b9dde3c6-4680-11eb-af23-0242ac120002-13-81cf-3ed0-8423-7905-7ff7-8e16-bbf8-c993-41b3-b4b9"
    },
    "scrolled": false
   },
   "outputs": [],
   "source": [
    "import json\n",
    "\n",
    "with open(os.path.join(work_dir, 'lti.json'), 'w') as f:\n",
    "    f.write(json.dumps(lti_config, indent=2))\n",
    "    \n",
    "!cat {work_dir}/lti.json"
   ]
  },
  {
   "cell_type": "code",
   "execution_count": null,
   "metadata": {
    "lc_cell_meme": {
     "current": "8c9dfb00-4688-11eb-af23-0242ac120002-12-0a44-b07b-d1f5-3d29-b008-5731-3300-df8c-4073-58df",
     "execution_end_time": "2022-04-28T07:55:03.872650Z",
     "history": [
      {
       "current": "8c9dfb00-4688-11eb-af23-0242ac120002-8-94ac-3cf6-0a44-b07b-d1f5-3d29-b008-5731",
       "next": "11bffdec-cb8f-11e7-83a1-0242ac120002-16-aeea-1a27-fc91-f42e-e09c-6d93-fbd9-5e98-ea85-59c6",
       "previous": "b9dde3c6-4680-11eb-af23-0242ac120002-7-9c86-cb81-d1d1-b779-105c-1b73-29a6"
      },
      {
       "current": "8c9dfb00-4688-11eb-af23-0242ac120002-9-94ac-3cf6-0a44-b07b-d1f5-3d29-b008-5731-3300",
       "next": "11bffdec-cb8f-11e7-83a1-0242ac120002-17-1a27-fc91-f42e-e09c-6d93-fbd9-5e98-ea85-59c6-2bcf",
       "previous": "b9dde3c6-4680-11eb-af23-0242ac120002-8-9c86-cb81-d1d1-b779-105c-1b73-29a6-e03d"
      },
      {
       "current": "8c9dfb00-4688-11eb-af23-0242ac120002-10-94ac-3cf6-0a44-b07b-d1f5-3d29-b008-5731-3300-df8c",
       "next": "11bffdec-cb8f-11e7-83a1-0242ac120002-18-fc91-f42e-e09c-6d93-fbd9-5e98-ea85-59c6-2bcf-ab95",
       "previous": "b9dde3c6-4680-11eb-af23-0242ac120002-9-9c86-cb81-d1d1-b779-105c-1b73-29a6-e03d-8895"
      },
      {
       "current": "8c9dfb00-4688-11eb-af23-0242ac120002-11-3cf6-0a44-b07b-d1f5-3d29-b008-5731-3300-df8c-4073",
       "next": "11bffdec-cb8f-11e7-83a1-0242ac120002-19-f42e-e09c-6d93-fbd9-5e98-ea85-59c6-2bcf-ab95-4bb4",
       "previous": "b9dde3c6-4680-11eb-af23-0242ac120002-10-9c86-cb81-d1d1-b779-105c-1b73-29a6-e03d-8895-7c15"
      },
      {
       "current": "8c9dfb00-4688-11eb-af23-0242ac120002-12-0a44-b07b-d1f5-3d29-b008-5731-3300-df8c-4073-58df",
       "next": "11bffdec-cb8f-11e7-83a1-0242ac120002-20-e09c-6d93-fbd9-5e98-ea85-59c6-2bcf-ab95-4bb4-8ad9",
       "previous": "b9dde3c6-4680-11eb-af23-0242ac120002-11-cb81-d1d1-b779-105c-1b73-29a6-e03d-8895-7c15-829b"
      }
     ],
     "next": "11bffdec-cb8f-11e7-83a1-0242ac120002-21-6d93-fbd9-5e98-ea85-59c6-2bcf-ab95-4bb4-8ad9-7378",
     "previous": "b9dde3c6-4680-11eb-af23-0242ac120002-12-d1d1-b779-105c-1b73-29a6-e03d-8895-7c15-829b-16f7"
    }
   },
   "outputs": [],
   "source": [
    "!ansible -b -m file -a 'path=/etc/jupyterhub state=directory' {target_hub} -l {target_group}\n",
    "!ansible -b -m copy -a 'src={work_dir}/lti.json dest=/etc/jupyterhub/lti/lti.json'  {target_hub} -l {target_group}"
   ]
  },
  {
   "cell_type": "markdown",
   "metadata": {
    "lc_cell_meme": {
     "current": "11bffdec-cb8f-11e7-83a1-0242ac120002-21-6d93-fbd9-5e98-ea85-59c6-2bcf-ab95-4bb4-8ad9-7378",
     "history": [
      {
       "current": "11bffdec-cb8f-11e7-83a1-0242ac120002-17-1a27-fc91-f42e-e09c-6d93-fbd9-5e98-ea85-59c6-2bcf",
       "next": "59435d26-cb8f-11e7-83a1-0242ac120002-16-46c2-3506-3d98-6442-5171-83f8-0693-5b8d-7d53-310b",
       "previous": "8c9dfb00-4688-11eb-af23-0242ac120002-7-94ac-3cf6-0a44-b07b-d1f5-3d29-b008"
      },
      {
       "current": "11bffdec-cb8f-11e7-83a1-0242ac120002-18-fc91-f42e-e09c-6d93-fbd9-5e98-ea85-59c6-2bcf-ab95",
       "next": "59435d26-cb8f-11e7-83a1-0242ac120002-17-3506-3d98-6442-5171-83f8-0693-5b8d-7d53-310b-daed",
       "previous": "8c9dfb00-4688-11eb-af23-0242ac120002-8-94ac-3cf6-0a44-b07b-d1f5-3d29-b008-5731"
      },
      {
       "current": "11bffdec-cb8f-11e7-83a1-0242ac120002-19-f42e-e09c-6d93-fbd9-5e98-ea85-59c6-2bcf-ab95-4bb4",
       "next": "59435d26-cb8f-11e7-83a1-0242ac120002-18-3d98-6442-5171-83f8-0693-5b8d-7d53-310b-daed-847a",
       "previous": "8c9dfb00-4688-11eb-af23-0242ac120002-9-94ac-3cf6-0a44-b07b-d1f5-3d29-b008-5731-3300"
      },
      {
       "current": "11bffdec-cb8f-11e7-83a1-0242ac120002-20-e09c-6d93-fbd9-5e98-ea85-59c6-2bcf-ab95-4bb4-8ad9",
       "next": "59435d26-cb8f-11e7-83a1-0242ac120002-19-6442-5171-83f8-0693-5b8d-7d53-310b-daed-847a-58aa",
       "previous": "8c9dfb00-4688-11eb-af23-0242ac120002-10-94ac-3cf6-0a44-b07b-d1f5-3d29-b008-5731-3300-df8c"
      },
      {
       "current": "11bffdec-cb8f-11e7-83a1-0242ac120002-21-6d93-fbd9-5e98-ea85-59c6-2bcf-ab95-4bb4-8ad9-7378",
       "next": "59435d26-cb8f-11e7-83a1-0242ac120002-20-5171-83f8-0693-5b8d-7d53-310b-daed-847a-58aa-0579",
       "previous": "8c9dfb00-4688-11eb-af23-0242ac120002-11-3cf6-0a44-b07b-d1f5-3d29-b008-5731-3300-df8c-4073"
      }
     ],
     "next": "59435d26-cb8f-11e7-83a1-0242ac120002-21-83f8-0693-5b8d-7d53-310b-daed-847a-58aa-0579-f043",
     "previous": "8c9dfb00-4688-11eb-af23-0242ac120002-12-0a44-b07b-d1f5-3d29-b008-5731-3300-df8c-4073-58df"
    }
   },
   "source": [
    "## 証明書の配置\n",
    "\n",
    "証明書をマスターノード上に配置する。"
   ]
  },
  {
   "cell_type": "code",
   "execution_count": null,
   "metadata": {
    "lc_cell_meme": {
     "current": "59435d26-cb8f-11e7-83a1-0242ac120002-21-83f8-0693-5b8d-7d53-310b-daed-847a-58aa-0579-f043",
     "execution_end_time": "2022-04-28T07:59:17.014175Z",
     "history": [
      {
       "current": "59435d26-cb8f-11e7-83a1-0242ac120002-17-3506-3d98-6442-5171-83f8-0693-5b8d-7d53-310b-daed",
       "next": "8987fd6c-b234-11e7-a38f-0242ac120002-16-b8c4-0900-ab86-1871-83f6-da1f-d004-d2e5-90fd-d9ea",
       "previous": "11bffdec-cb8f-11e7-83a1-0242ac120002-16-aeea-1a27-fc91-f42e-e09c-6d93-fbd9-5e98-ea85-59c6"
      },
      {
       "current": "59435d26-cb8f-11e7-83a1-0242ac120002-18-3d98-6442-5171-83f8-0693-5b8d-7d53-310b-daed-847a",
       "next": "8987fd6c-b234-11e7-a38f-0242ac120002-17-0900-ab86-1871-83f6-da1f-d004-d2e5-90fd-d9ea-7440",
       "previous": "11bffdec-cb8f-11e7-83a1-0242ac120002-17-1a27-fc91-f42e-e09c-6d93-fbd9-5e98-ea85-59c6-2bcf"
      },
      {
       "current": "59435d26-cb8f-11e7-83a1-0242ac120002-19-6442-5171-83f8-0693-5b8d-7d53-310b-daed-847a-58aa",
       "next": "8987fd6c-b234-11e7-a38f-0242ac120002-18-ab86-1871-83f6-da1f-d004-d2e5-90fd-d9ea-7440-e967",
       "previous": "11bffdec-cb8f-11e7-83a1-0242ac120002-18-fc91-f42e-e09c-6d93-fbd9-5e98-ea85-59c6-2bcf-ab95"
      },
      {
       "current": "59435d26-cb8f-11e7-83a1-0242ac120002-20-5171-83f8-0693-5b8d-7d53-310b-daed-847a-58aa-0579",
       "next": "8987fd6c-b234-11e7-a38f-0242ac120002-19-1871-83f6-da1f-d004-d2e5-90fd-d9ea-7440-e967-e40a",
       "previous": "11bffdec-cb8f-11e7-83a1-0242ac120002-19-f42e-e09c-6d93-fbd9-5e98-ea85-59c6-2bcf-ab95-4bb4"
      },
      {
       "current": "59435d26-cb8f-11e7-83a1-0242ac120002-21-83f8-0693-5b8d-7d53-310b-daed-847a-58aa-0579-f043",
       "next": "8987fd6c-b234-11e7-a38f-0242ac120002-20-83f6-da1f-d004-d2e5-90fd-d9ea-7440-e967-e40a-73e5",
       "previous": "11bffdec-cb8f-11e7-83a1-0242ac120002-20-e09c-6d93-fbd9-5e98-ea85-59c6-2bcf-ab95-4bb4-8ad9"
      }
     ],
     "next": "8987fd6c-b234-11e7-a38f-0242ac120002-21-da1f-d004-d2e5-90fd-d9ea-7440-e967-e40a-73e5-5190",
     "previous": "11bffdec-cb8f-11e7-83a1-0242ac120002-21-6d93-fbd9-5e98-ea85-59c6-2bcf-ab95-4bb4-8ad9-7378"
    }
   },
   "outputs": [],
   "source": [
    "import os"
   ]
  },
  {
   "cell_type": "code",
   "execution_count": null,
   "metadata": {
    "lc_cell_meme": {
     "current": "8987fd6c-b234-11e7-a38f-0242ac120002-21-da1f-d004-d2e5-90fd-d9ea-7440-e967-e40a-73e5-5190",
     "execution_end_time": "2022-04-28T07:59:17.592140Z",
     "history": [
      {
       "current": "8987fd6c-b234-11e7-a38f-0242ac120002-17-0900-ab86-1871-83f6-da1f-d004-d2e5-90fd-d9ea-7440",
       "next": "59974744-db31-11e8-a64b-02420aff0006-16-a6bf-4780-ad7b-d51c-ed9a-af7e-7bac-8380-3195-5adf",
       "previous": "59435d26-cb8f-11e7-83a1-0242ac120002-16-46c2-3506-3d98-6442-5171-83f8-0693-5b8d-7d53-310b"
      },
      {
       "current": "8987fd6c-b234-11e7-a38f-0242ac120002-18-ab86-1871-83f6-da1f-d004-d2e5-90fd-d9ea-7440-e967",
       "next": "59974744-db31-11e8-a64b-02420aff0006-17-4780-ad7b-d51c-ed9a-af7e-7bac-8380-3195-5adf-8869",
       "previous": "59435d26-cb8f-11e7-83a1-0242ac120002-17-3506-3d98-6442-5171-83f8-0693-5b8d-7d53-310b-daed"
      },
      {
       "current": "8987fd6c-b234-11e7-a38f-0242ac120002-19-1871-83f6-da1f-d004-d2e5-90fd-d9ea-7440-e967-e40a",
       "next": "59974744-db31-11e8-a64b-02420aff0006-18-ad7b-d51c-ed9a-af7e-7bac-8380-3195-5adf-8869-1fca",
       "previous": "59435d26-cb8f-11e7-83a1-0242ac120002-18-3d98-6442-5171-83f8-0693-5b8d-7d53-310b-daed-847a"
      },
      {
       "current": "8987fd6c-b234-11e7-a38f-0242ac120002-20-83f6-da1f-d004-d2e5-90fd-d9ea-7440-e967-e40a-73e5",
       "next": "59974744-db31-11e8-a64b-02420aff0006-19-d51c-ed9a-af7e-7bac-8380-3195-5adf-8869-1fca-cd12",
       "previous": "59435d26-cb8f-11e7-83a1-0242ac120002-19-6442-5171-83f8-0693-5b8d-7d53-310b-daed-847a-58aa"
      },
      {
       "current": "8987fd6c-b234-11e7-a38f-0242ac120002-21-da1f-d004-d2e5-90fd-d9ea-7440-e967-e40a-73e5-5190",
       "next": "59974744-db31-11e8-a64b-02420aff0006-20-ed9a-af7e-7bac-8380-3195-5adf-8869-1fca-cd12-f399",
       "previous": "59435d26-cb8f-11e7-83a1-0242ac120002-20-5171-83f8-0693-5b8d-7d53-310b-daed-847a-58aa-0579"
      }
     ],
     "next": "59974744-db31-11e8-a64b-02420aff0006-21-af7e-7bac-8380-3195-5adf-8869-1fca-cd12-f399-5da7",
     "previous": "59435d26-cb8f-11e7-83a1-0242ac120002-21-83f8-0693-5b8d-7d53-310b-daed-847a-58aa-0579-f043"
    }
   },
   "outputs": [],
   "source": [
    "certreq_path = '/home/' + default_user + '/certs'"
   ]
  },
  {
   "cell_type": "code",
   "execution_count": null,
   "metadata": {
    "lc_cell_meme": {
     "current": "59974744-db31-11e8-a64b-02420aff0006-21-af7e-7bac-8380-3195-5adf-8869-1fca-cd12-f399-5da7",
     "execution_end_time": "2022-04-28T07:59:21.064965Z",
     "history": [
      {
       "current": "59974744-db31-11e8-a64b-02420aff0006-17-4780-ad7b-d51c-ed9a-af7e-7bac-8380-3195-5adf-8869",
       "next": "b8b8c33e-eea2-11ea-9bfc-02420a01001a-8-c84c-1d26-a1a0-251f-a473-7a23-9146-515a",
       "previous": "8987fd6c-b234-11e7-a38f-0242ac120002-16-b8c4-0900-ab86-1871-83f6-da1f-d004-d2e5-90fd-d9ea"
      },
      {
       "current": "59974744-db31-11e8-a64b-02420aff0006-18-ad7b-d51c-ed9a-af7e-7bac-8380-3195-5adf-8869-1fca",
       "next": "b8b8c33e-eea2-11ea-9bfc-02420a01001a-9-c84c-1d26-a1a0-251f-a473-7a23-9146-515a-77b1",
       "previous": "8987fd6c-b234-11e7-a38f-0242ac120002-17-0900-ab86-1871-83f6-da1f-d004-d2e5-90fd-d9ea-7440"
      },
      {
       "current": "59974744-db31-11e8-a64b-02420aff0006-19-d51c-ed9a-af7e-7bac-8380-3195-5adf-8869-1fca-cd12",
       "next": "b8b8c33e-eea2-11ea-9bfc-02420a01001a-10-c84c-1d26-a1a0-251f-a473-7a23-9146-515a-77b1-d6ea",
       "previous": "8987fd6c-b234-11e7-a38f-0242ac120002-18-ab86-1871-83f6-da1f-d004-d2e5-90fd-d9ea-7440-e967"
      },
      {
       "current": "59974744-db31-11e8-a64b-02420aff0006-20-ed9a-af7e-7bac-8380-3195-5adf-8869-1fca-cd12-f399",
       "next": "b8b8c33e-eea2-11ea-9bfc-02420a01001a-11-1d26-a1a0-251f-a473-7a23-9146-515a-77b1-d6ea-b566",
       "previous": "8987fd6c-b234-11e7-a38f-0242ac120002-19-1871-83f6-da1f-d004-d2e5-90fd-d9ea-7440-e967-e40a"
      },
      {
       "current": "59974744-db31-11e8-a64b-02420aff0006-21-af7e-7bac-8380-3195-5adf-8869-1fca-cd12-f399-5da7",
       "next": "b8b8c33e-eea2-11ea-9bfc-02420a01001a-12-a1a0-251f-a473-7a23-9146-515a-77b1-d6ea-b566-0303",
       "previous": "8987fd6c-b234-11e7-a38f-0242ac120002-20-83f6-da1f-d004-d2e5-90fd-d9ea-7440-e967-e40a-73e5"
      }
     ],
     "next": "b8b8c33e-eea2-11ea-9bfc-02420a01001a-13-251f-a473-7a23-9146-515a-77b1-d6ea-b566-0303-c9ac",
     "previous": "8987fd6c-b234-11e7-a38f-0242ac120002-21-da1f-d004-d2e5-90fd-d9ea-7440-e967-e40a-73e5-5190"
    }
   },
   "outputs": [],
   "source": [
    "!ansible -m file -a 'path={certreq_path} state=directory owner={default_user}' {target_hub} -l {target_group}"
   ]
  },
  {
   "cell_type": "markdown",
   "metadata": {
    "lc_cell_meme": {
     "current": "b8b8c33e-eea2-11ea-9bfc-02420a01001a-13-251f-a473-7a23-9146-515a-77b1-d6ea-b566-0303-c9ac",
     "history": [
      {
       "current": "b8b8c33e-eea2-11ea-9bfc-02420a01001a-9-c84c-1d26-a1a0-251f-a473-7a23-9146-515a-77b1",
       "next": "006b5804-eea3-11ea-9bfc-02420a01001a-8-b326-2a20-892b-d6fc-6700-29c3-d069-9f33",
       "previous": "59974744-db31-11e8-a64b-02420aff0006-16-a6bf-4780-ad7b-d51c-ed9a-af7e-7bac-8380-3195-5adf"
      },
      {
       "current": "b8b8c33e-eea2-11ea-9bfc-02420a01001a-10-c84c-1d26-a1a0-251f-a473-7a23-9146-515a-77b1-d6ea",
       "next": "006b5804-eea3-11ea-9bfc-02420a01001a-9-b326-2a20-892b-d6fc-6700-29c3-d069-9f33-004b",
       "previous": "59974744-db31-11e8-a64b-02420aff0006-17-4780-ad7b-d51c-ed9a-af7e-7bac-8380-3195-5adf-8869"
      },
      {
       "current": "b8b8c33e-eea2-11ea-9bfc-02420a01001a-11-1d26-a1a0-251f-a473-7a23-9146-515a-77b1-d6ea-b566",
       "next": "006b5804-eea3-11ea-9bfc-02420a01001a-10-b326-2a20-892b-d6fc-6700-29c3-d069-9f33-004b-2515",
       "previous": "59974744-db31-11e8-a64b-02420aff0006-18-ad7b-d51c-ed9a-af7e-7bac-8380-3195-5adf-8869-1fca"
      },
      {
       "current": "b8b8c33e-eea2-11ea-9bfc-02420a01001a-12-a1a0-251f-a473-7a23-9146-515a-77b1-d6ea-b566-0303",
       "next": "006b5804-eea3-11ea-9bfc-02420a01001a-11-2a20-892b-d6fc-6700-29c3-d069-9f33-004b-2515-b451",
       "previous": "59974744-db31-11e8-a64b-02420aff0006-19-d51c-ed9a-af7e-7bac-8380-3195-5adf-8869-1fca-cd12"
      },
      {
       "current": "b8b8c33e-eea2-11ea-9bfc-02420a01001a-13-251f-a473-7a23-9146-515a-77b1-d6ea-b566-0303-c9ac",
       "next": "006b5804-eea3-11ea-9bfc-02420a01001a-12-892b-d6fc-6700-29c3-d069-9f33-004b-2515-b451-d64b",
       "previous": "59974744-db31-11e8-a64b-02420aff0006-20-ed9a-af7e-7bac-8380-3195-5adf-8869-1fca-cd12-f399"
      }
     ],
     "next": "006b5804-eea3-11ea-9bfc-02420a01001a-13-d6fc-6700-29c3-d069-9f33-004b-2515-b451-d64b-22ab",
     "previous": "59974744-db31-11e8-a64b-02420aff0006-21-af7e-7bac-8380-3195-5adf-8869-1fca-cd12-f399-5da7"
    }
   },
   "source": [
    "ターミナルからマスターノードにSSHでログインして、以下の場所に証明書と秘密鍵を配置する。 (出どころなどを必要以上に残さないため)\n",
    "\n",
    "証明書は有効なものである必要があります。自己証明証明書などの場合、仮にブラウザでアクセスを許可したとしても、接続できません。"
   ]
  },
  {
   "cell_type": "code",
   "execution_count": null,
   "metadata": {
    "lc_cell_meme": {
     "current": "006b5804-eea3-11ea-9bfc-02420a01001a-13-d6fc-6700-29c3-d069-9f33-004b-2515-b451-d64b-22ab",
     "execution_end_time": "2022-04-28T07:59:23.726794Z",
     "history": [
      {
       "current": "006b5804-eea3-11ea-9bfc-02420a01001a-10-b326-2a20-892b-d6fc-6700-29c3-d069-9f33-004b-2515",
       "next": "7676c29e-92e9-11ec-8998-6b42dc3e1973-2-2e63-af78",
       "previous": "b8b8c33e-eea2-11ea-9bfc-02420a01001a-10-c84c-1d26-a1a0-251f-a473-7a23-9146-515a-77b1-d6ea"
      },
      {
       "current": "006b5804-eea3-11ea-9bfc-02420a01001a-11-2a20-892b-d6fc-6700-29c3-d069-9f33-004b-2515-b451",
       "next": "42b012ec-c082-11ec-8fb6-0242ac120004",
       "previous": "b8b8c33e-eea2-11ea-9bfc-02420a01001a-10-c84c-1d26-a1a0-251f-a473-7a23-9146-515a-77b1-d6ea"
      },
      {
       "current": "006b5804-eea3-11ea-9bfc-02420a01001a-11-2a20-892b-d6fc-6700-29c3-d069-9f33-004b-2515-b451",
       "next": "42b012ec-c082-11ec-8fb6-0242ac120004-1-a66c",
       "previous": "b8b8c33e-eea2-11ea-9bfc-02420a01001a-11-1d26-a1a0-251f-a473-7a23-9146-515a-77b1-d6ea-b566"
      },
      {
       "current": "006b5804-eea3-11ea-9bfc-02420a01001a-12-892b-d6fc-6700-29c3-d069-9f33-004b-2515-b451-d64b",
       "next": "7676c29e-92e9-11ec-8998-6b42dc3e1973-3-2e63-af78-bf06",
       "previous": "b8b8c33e-eea2-11ea-9bfc-02420a01001a-11-1d26-a1a0-251f-a473-7a23-9146-515a-77b1-d6ea-b566"
      },
      {
       "current": "006b5804-eea3-11ea-9bfc-02420a01001a-13-d6fc-6700-29c3-d069-9f33-004b-2515-b451-d64b-22ab",
       "next": "7676c29e-92e9-11ec-8998-6b42dc3e1973-4-2e63-af78-bf06-2f23",
       "previous": "b8b8c33e-eea2-11ea-9bfc-02420a01001a-12-a1a0-251f-a473-7a23-9146-515a-77b1-d6ea-b566-0303"
      }
     ],
     "next": "7676c29e-92e9-11ec-8998-6b42dc3e1973-5-2e63-af78-bf06-2f23-f57f",
     "previous": "b8b8c33e-eea2-11ea-9bfc-02420a01001a-13-251f-a473-7a23-9146-515a-77b1-d6ea-b566-0303-c9ac"
    }
   },
   "outputs": [],
   "source": [
    "print('Certificate:')\n",
    "print(os.path.join(certreq_path, master_fqdn + \".key\"))\n",
    "print('Private Key:')\n",
    "print(os.path.join(certreq_path, master_fqdn + \".cer\"))"
   ]
  },
  {
   "cell_type": "markdown",
   "metadata": {
    "lc_cell_meme": {
     "current": "7676c29e-92e9-11ec-8998-6b42dc3e1973-5-2e63-af78-bf06-2f23-f57f",
     "history": [
      {
       "current": "7676c29e-92e9-11ec-8998-6b42dc3e1973-2-2e63-af78",
       "next": "7676c623-92e9-11ec-8a2c-6b42dc3e1973-2-d057-4590",
       "previous": "006b5804-eea3-11ea-9bfc-02420a01001a-10-b326-2a20-892b-d6fc-6700-29c3-d069-9f33-004b-2515"
      },
      {
       "current": "7676c29e-92e9-11ec-8998-6b42dc3e1973-3-2e63-af78-bf06",
       "next": "7676c623-92e9-11ec-8a2c-6b42dc3e1973-2-d057-4590",
       "previous": "42b0142c-c082-11ec-8fb6-0242ac120004"
      },
      {
       "current": "7676c29e-92e9-11ec-8998-6b42dc3e1973-3-2e63-af78-bf06",
       "next": "7676c623-92e9-11ec-8a2c-6b42dc3e1973-3-d057-4590-f047",
       "previous": "42b0142c-c082-11ec-8fb6-0242ac120004-1-7471"
      },
      {
       "current": "7676c29e-92e9-11ec-8998-6b42dc3e1973-4-2e63-af78-bf06-2f23",
       "next": "7676c623-92e9-11ec-8a2c-6b42dc3e1973-3-d057-4590-f047",
       "previous": "006b5804-eea3-11ea-9bfc-02420a01001a-11-2a20-892b-d6fc-6700-29c3-d069-9f33-004b-2515-b451"
      },
      {
       "current": "7676c29e-92e9-11ec-8998-6b42dc3e1973-5-2e63-af78-bf06-2f23-f57f",
       "next": "7676c623-92e9-11ec-8a2c-6b42dc3e1973-4-d057-4590-f047-29a4",
       "previous": "006b5804-eea3-11ea-9bfc-02420a01001a-12-892b-d6fc-6700-29c3-d069-9f33-004b-2515-b451-d64b"
      }
     ],
     "next": "7676c623-92e9-11ec-8a2c-6b42dc3e1973-5-d057-4590-f047-29a4-a50e",
     "previous": "006b5804-eea3-11ea-9bfc-02420a01001a-13-d6fc-6700-29c3-d069-9f33-004b-2515-b451-d64b-22ab"
    }
   },
   "source": [
    "中間証明書が必要な場合は、中間証明書のファイル名を以下に設定します。"
   ]
  },
  {
   "cell_type": "code",
   "execution_count": null,
   "metadata": {
    "lc_cell_meme": {
     "current": "7676c623-92e9-11ec-8a2c-6b42dc3e1973-5-d057-4590-f047-29a4-a50e",
     "execution_end_time": "2022-04-28T08:02:12.058812Z",
     "history": [
      {
       "current": "7676c623-92e9-11ec-8a2c-6b42dc3e1973-2-d057-4590",
       "next": "7ac6648c-f66d-11ea-9bfc-02420a01001a-9-4bde-ff29-f29f-f52b-efb8-9352-a910-7aa1-ec21",
       "previous": "7676c29e-92e9-11ec-8998-6b42dc3e1973-1-2e63"
      },
      {
       "current": "7676c623-92e9-11ec-8a2c-6b42dc3e1973-2-d057-4590",
       "next": "7ac6648c-f66d-11ea-9bfc-02420a01001a-10-4bde-ff29-f29f-f52b-efb8-9352-a910-7aa1-ec21-d9d7",
       "previous": "7676c29e-92e9-11ec-8998-6b42dc3e1973-2-2e63-af78"
      },
      {
       "current": "7676c623-92e9-11ec-8a2c-6b42dc3e1973-3-d057-4590-f047",
       "next": "fb7d35b2-c081-11ec-8fb6-0242ac120004",
       "previous": "7676c29e-92e9-11ec-8998-6b42dc3e1973-2-2e63-af78"
      },
      {
       "current": "7676c623-92e9-11ec-8a2c-6b42dc3e1973-4-d057-4590-f047-29a4",
       "next": "fb7d35b2-c081-11ec-8fb6-0242ac120004-1-6b27",
       "previous": "7676c29e-92e9-11ec-8998-6b42dc3e1973-3-2e63-af78-bf06"
      },
      {
       "current": "7676c623-92e9-11ec-8a2c-6b42dc3e1973-5-d057-4590-f047-29a4-a50e",
       "next": "fb7d35b2-c081-11ec-8fb6-0242ac120004-2-6b27-af78",
       "previous": "7676c29e-92e9-11ec-8998-6b42dc3e1973-4-2e63-af78-bf06-2f23"
      }
     ],
     "next": "fb7d35b2-c081-11ec-8fb6-0242ac120004-3-6b27-af78-564b",
     "previous": "7676c29e-92e9-11ec-8998-6b42dc3e1973-5-2e63-af78-bf06-2f23-f57f"
    }
   },
   "outputs": [],
   "source": [
    "intermediate_certfile = \"nii-odca4g7rsa.cer\""
   ]
  },
  {
   "cell_type": "code",
   "execution_count": null,
   "metadata": {
    "lc_cell_meme": {
     "current": "fb7d35b2-c081-11ec-8fb6-0242ac120004-3-6b27-af78-564b",
     "execution_end_time": "2022-04-28T08:02:12.732944Z",
     "history": [
      {
       "current": "fb7d35b2-c081-11ec-8fb6-0242ac120004-1-6b27",
       "next": "7ac6648c-f66d-11ea-9bfc-02420a01001a-10-4bde-ff29-f29f-f52b-efb8-9352-a910-7aa1-ec21-d9d7",
       "previous": "7676c623-92e9-11ec-8a2c-6b42dc3e1973-2-d057-4590"
      },
      {
       "current": "fb7d35b2-c081-11ec-8fb6-0242ac120004-2-6b27-af78",
       "next": "7ac6648c-f66d-11ea-9bfc-02420a01001a-11-ff29-f29f-f52b-efb8-9352-a910-7aa1-ec21-d9d7-190a",
       "previous": "7676c623-92e9-11ec-8a2c-6b42dc3e1973-3-d057-4590-f047"
      },
      {
       "current": "fb7d35b2-c081-11ec-8fb6-0242ac120004-3-6b27-af78-564b",
       "next": "7ac6648c-f66d-11ea-9bfc-02420a01001a-12-f29f-f52b-efb8-9352-a910-7aa1-ec21-d9d7-190a-5955",
       "previous": "7676c623-92e9-11ec-8a2c-6b42dc3e1973-4-d057-4590-f047-29a4"
      }
     ],
     "next": "7ac6648c-f66d-11ea-9bfc-02420a01001a-13-f52b-efb8-9352-a910-7aa1-ec21-d9d7-190a-5955-ce13",
     "previous": "7676c623-92e9-11ec-8a2c-6b42dc3e1973-5-d057-4590-f047-29a4-a50e"
    }
   },
   "outputs": [],
   "source": [
    "if intermediate_certfile:\n",
    "    print(os.path.join(certreq_path, intermediate_certfile))"
   ]
  },
  {
   "cell_type": "code",
   "execution_count": null,
   "metadata": {
    "lc_cell_meme": {
     "current": "7ac6648c-f66d-11ea-9bfc-02420a01001a-13-f52b-efb8-9352-a910-7aa1-ec21-d9d7-190a-5955-ce13",
     "execution_end_time": "2022-04-28T08:15:34.656266Z",
     "history": [
      {
       "current": "7ac6648c-f66d-11ea-9bfc-02420a01001a-10-4bde-ff29-f29f-f52b-efb8-9352-a910-7aa1-ec21-d9d7",
       "next": "2c5eae4a-d5fd-11e8-a64b-02420aff0006-17-2995-f73e-843b-c7f2-401e-a274-2062-4fc3-2738-5955",
       "previous": "7676c623-92e9-11ec-8a2c-6b42dc3e1973-1-d057"
      },
      {
       "current": "7ac6648c-f66d-11ea-9bfc-02420a01001a-10-4bde-ff29-f29f-f52b-efb8-9352-a910-7aa1-ec21-d9d7",
       "next": "2c5eae4a-d5fd-11e8-a64b-02420aff0006-18-f73e-843b-c7f2-401e-a274-2062-4fc3-2738-5955-f548",
       "previous": "7676c623-92e9-11ec-8a2c-6b42dc3e1973-2-d057-4590"
      },
      {
       "current": "7ac6648c-f66d-11ea-9bfc-02420a01001a-11-ff29-f29f-f52b-efb8-9352-a910-7aa1-ec21-d9d7-190a",
       "next": "2c5eae4a-d5fd-11e8-a64b-02420aff0006-18-f73e-843b-c7f2-401e-a274-2062-4fc3-2738-5955-f548",
       "previous": "fb7d35b2-c081-11ec-8fb6-0242ac120004"
      },
      {
       "current": "7ac6648c-f66d-11ea-9bfc-02420a01001a-12-f29f-f52b-efb8-9352-a910-7aa1-ec21-d9d7-190a-5955",
       "next": "2c5eae4a-d5fd-11e8-a64b-02420aff0006-19-843b-c7f2-401e-a274-2062-4fc3-2738-5955-f548-654f",
       "previous": "fb7d35b2-c081-11ec-8fb6-0242ac120004-1-6b27"
      },
      {
       "current": "7ac6648c-f66d-11ea-9bfc-02420a01001a-13-f52b-efb8-9352-a910-7aa1-ec21-d9d7-190a-5955-ce13",
       "next": "2c5eae4a-d5fd-11e8-a64b-02420aff0006-20-c7f2-401e-a274-2062-4fc3-2738-5955-f548-654f-a316",
       "previous": "fb7d35b2-c081-11ec-8fb6-0242ac120004-2-6b27-af78"
      }
     ],
     "next": "2c5eae4a-d5fd-11e8-a64b-02420aff0006-21-401e-a274-2062-4fc3-2738-5955-f548-654f-a316-6e0b",
     "previous": "fb7d35b2-c081-11ec-8fb6-0242ac120004-3-6b27-af78-564b"
    }
   },
   "outputs": [],
   "source": [
    "# 証明書を配置したら、Freezeして次へ\n",
    "assert False"
   ]
  },
  {
   "cell_type": "markdown",
   "metadata": {
    "lc_cell_meme": {
     "current": "2c5eae4a-d5fd-11e8-a64b-02420aff0006-21-401e-a274-2062-4fc3-2738-5955-f548-654f-a316-6e0b",
     "history": [
      {
       "current": "2c5eae4a-d5fd-11e8-a64b-02420aff0006-17-2995-f73e-843b-c7f2-401e-a274-2062-4fc3-2738-5955",
       "next": "3efd7ef8-b242-11e7-a38f-0242ac120002-16-1652-9f5e-cbea-3d4e-a06e-015a-1075-834c-e1e4-0d2b",
       "previous": "7ac6648c-f66d-11ea-9bfc-02420a01001a-8-4bde-ff29-f29f-f52b-efb8-9352-a910-7aa1"
      },
      {
       "current": "2c5eae4a-d5fd-11e8-a64b-02420aff0006-18-f73e-843b-c7f2-401e-a274-2062-4fc3-2738-5955-f548",
       "next": "3efd7ef8-b242-11e7-a38f-0242ac120002-17-9f5e-cbea-3d4e-a06e-015a-1075-834c-e1e4-0d2b-6a69",
       "previous": "7ac6648c-f66d-11ea-9bfc-02420a01001a-9-4bde-ff29-f29f-f52b-efb8-9352-a910-7aa1-ec21"
      },
      {
       "current": "2c5eae4a-d5fd-11e8-a64b-02420aff0006-19-843b-c7f2-401e-a274-2062-4fc3-2738-5955-f548-654f",
       "next": "3efd7ef8-b242-11e7-a38f-0242ac120002-18-cbea-3d4e-a06e-015a-1075-834c-e1e4-0d2b-6a69-787f",
       "previous": "7ac6648c-f66d-11ea-9bfc-02420a01001a-10-4bde-ff29-f29f-f52b-efb8-9352-a910-7aa1-ec21-d9d7"
      },
      {
       "current": "2c5eae4a-d5fd-11e8-a64b-02420aff0006-20-c7f2-401e-a274-2062-4fc3-2738-5955-f548-654f-a316",
       "next": "3efd7ef8-b242-11e7-a38f-0242ac120002-19-3d4e-a06e-015a-1075-834c-e1e4-0d2b-6a69-787f-7d1c",
       "previous": "7ac6648c-f66d-11ea-9bfc-02420a01001a-11-ff29-f29f-f52b-efb8-9352-a910-7aa1-ec21-d9d7-190a"
      },
      {
       "current": "2c5eae4a-d5fd-11e8-a64b-02420aff0006-21-401e-a274-2062-4fc3-2738-5955-f548-654f-a316-6e0b",
       "next": "3efd7ef8-b242-11e7-a38f-0242ac120002-20-a06e-015a-1075-834c-e1e4-0d2b-6a69-787f-7d1c-ee9a",
       "previous": "7ac6648c-f66d-11ea-9bfc-02420a01001a-12-f29f-f52b-efb8-9352-a910-7aa1-ec21-d9d7-190a-5955"
      }
     ],
     "next": "3efd7ef8-b242-11e7-a38f-0242ac120002-21-015a-1075-834c-e1e4-0d2b-6a69-787f-7d1c-ee9a-a99b",
     "previous": "7ac6648c-f66d-11ea-9bfc-02420a01001a-13-f52b-efb8-9352-a910-7aa1-ec21-d9d7-190a-5955-ce13"
    }
   },
   "source": [
    "keyはPassphraseなしで使用可能になっていること。"
   ]
  },
  {
   "cell_type": "code",
   "execution_count": null,
   "metadata": {
    "lc_cell_meme": {
     "current": "3efd7ef8-b242-11e7-a38f-0242ac120002-21-015a-1075-834c-e1e4-0d2b-6a69-787f-7d1c-ee9a-a99b",
     "execution_end_time": "2022-04-28T08:15:52.160795Z",
     "history": [
      {
       "current": "3efd7ef8-b242-11e7-a38f-0242ac120002-17-9f5e-cbea-3d4e-a06e-015a-1075-834c-e1e4-0d2b-6a69",
       "next": "b3bf944e-0846-11eb-8784-0242ac120002-6-99c8-597b-4976-6a2d-5787-32ba",
       "previous": "2c5eae4a-d5fd-11e8-a64b-02420aff0006-16-d501-2995-f73e-843b-c7f2-401e-a274-2062-4fc3-2738"
      },
      {
       "current": "3efd7ef8-b242-11e7-a38f-0242ac120002-18-cbea-3d4e-a06e-015a-1075-834c-e1e4-0d2b-6a69-787f",
       "next": "b3bf944e-0846-11eb-8784-0242ac120002-7-99c8-597b-4976-6a2d-5787-32ba-a23d",
       "previous": "2c5eae4a-d5fd-11e8-a64b-02420aff0006-17-2995-f73e-843b-c7f2-401e-a274-2062-4fc3-2738-5955"
      },
      {
       "current": "3efd7ef8-b242-11e7-a38f-0242ac120002-19-3d4e-a06e-015a-1075-834c-e1e4-0d2b-6a69-787f-7d1c",
       "next": "b3bf944e-0846-11eb-8784-0242ac120002-8-99c8-597b-4976-6a2d-5787-32ba-a23d-12ae",
       "previous": "2c5eae4a-d5fd-11e8-a64b-02420aff0006-18-f73e-843b-c7f2-401e-a274-2062-4fc3-2738-5955-f548"
      },
      {
       "current": "3efd7ef8-b242-11e7-a38f-0242ac120002-20-a06e-015a-1075-834c-e1e4-0d2b-6a69-787f-7d1c-ee9a",
       "next": "b3bf944e-0846-11eb-8784-0242ac120002-9-99c8-597b-4976-6a2d-5787-32ba-a23d-12ae-1652",
       "previous": "2c5eae4a-d5fd-11e8-a64b-02420aff0006-19-843b-c7f2-401e-a274-2062-4fc3-2738-5955-f548-654f"
      },
      {
       "current": "3efd7ef8-b242-11e7-a38f-0242ac120002-21-015a-1075-834c-e1e4-0d2b-6a69-787f-7d1c-ee9a-a99b",
       "next": "b3bf944e-0846-11eb-8784-0242ac120002-10-99c8-597b-4976-6a2d-5787-32ba-a23d-12ae-1652-af9a",
       "previous": "2c5eae4a-d5fd-11e8-a64b-02420aff0006-20-c7f2-401e-a274-2062-4fc3-2738-5955-f548-654f-a316"
      }
     ],
     "next": "b3bf944e-0846-11eb-8784-0242ac120002-11-597b-4976-6a2d-5787-32ba-a23d-12ae-1652-af9a-cadd",
     "previous": "2c5eae4a-d5fd-11e8-a64b-02420aff0006-21-401e-a274-2062-4fc3-2738-5955-f548-654f-a316-6e0b"
    }
   },
   "outputs": [],
   "source": [
    "!ansible -a 'ls -la {os.path.join(certreq_path, master_fqdn + \".key\")}' {target_hub} -l {target_group}\n",
    "!ansible -a 'ls -la {os.path.join(certreq_path, master_fqdn + \".cer\")}' {target_hub} -l {target_group}\n",
    "if intermediate_certfile:\n",
    "    !ansible -a 'ls -la {os.path.join(certreq_path, intermediate_certfile)}' {target_hub} -l {target_group}"
   ]
  },
  {
   "cell_type": "markdown",
   "metadata": {
    "lc_cell_meme": {
     "current": "b3bf944e-0846-11eb-8784-0242ac120002-11-597b-4976-6a2d-5787-32ba-a23d-12ae-1652-af9a-cadd",
     "history": [
      {
       "current": "b3bf944e-0846-11eb-8784-0242ac120002-7-99c8-597b-4976-6a2d-5787-32ba-a23d",
       "next": "92dca988-07c4-11eb-b553-0242ac120002-6-53d2-63fc-58f7-e04a-c54b-b407",
       "previous": "3efd7ef8-b242-11e7-a38f-0242ac120002-16-1652-9f5e-cbea-3d4e-a06e-015a-1075-834c-e1e4-0d2b"
      },
      {
       "current": "b3bf944e-0846-11eb-8784-0242ac120002-8-99c8-597b-4976-6a2d-5787-32ba-a23d-12ae",
       "next": "92dca988-07c4-11eb-b553-0242ac120002-7-53d2-63fc-58f7-e04a-c54b-b407-f7f5",
       "previous": "3efd7ef8-b242-11e7-a38f-0242ac120002-17-9f5e-cbea-3d4e-a06e-015a-1075-834c-e1e4-0d2b-6a69"
      },
      {
       "current": "b3bf944e-0846-11eb-8784-0242ac120002-9-99c8-597b-4976-6a2d-5787-32ba-a23d-12ae-1652",
       "next": "92dca988-07c4-11eb-b553-0242ac120002-8-53d2-63fc-58f7-e04a-c54b-b407-f7f5-b29f",
       "previous": "3efd7ef8-b242-11e7-a38f-0242ac120002-18-cbea-3d4e-a06e-015a-1075-834c-e1e4-0d2b-6a69-787f"
      },
      {
       "current": "b3bf944e-0846-11eb-8784-0242ac120002-10-99c8-597b-4976-6a2d-5787-32ba-a23d-12ae-1652-af9a",
       "next": "92dca988-07c4-11eb-b553-0242ac120002-9-53d2-63fc-58f7-e04a-c54b-b407-f7f5-b29f-b058",
       "previous": "3efd7ef8-b242-11e7-a38f-0242ac120002-19-3d4e-a06e-015a-1075-834c-e1e4-0d2b-6a69-787f-7d1c"
      },
      {
       "current": "b3bf944e-0846-11eb-8784-0242ac120002-11-597b-4976-6a2d-5787-32ba-a23d-12ae-1652-af9a-cadd",
       "next": "92dca988-07c4-11eb-b553-0242ac120002-10-53d2-63fc-58f7-e04a-c54b-b407-f7f5-b29f-b058-34ef",
       "previous": "3efd7ef8-b242-11e7-a38f-0242ac120002-20-a06e-015a-1075-834c-e1e4-0d2b-6a69-787f-7d1c-ee9a"
      }
     ],
     "next": "92dca988-07c4-11eb-b553-0242ac120002-11-63fc-58f7-e04a-c54b-b407-f7f5-b29f-b058-34ef-64f6",
     "previous": "3efd7ef8-b242-11e7-a38f-0242ac120002-21-015a-1075-834c-e1e4-0d2b-6a69-787f-7d1c-ee9a-a99b"
    }
   },
   "source": [
    "証明書と秘密鍵を確認する。\n",
    "\n",
    "証明書の内容と、両者に含まれる公開鍵のfingerprintを確認する。\n",
    "\n",
    "> 実行が完了しない場合は、パスフレーズが設定されている可能性がある"
   ]
  },
  {
   "cell_type": "code",
   "execution_count": null,
   "metadata": {
    "lc_cell_meme": {
     "current": "92dca988-07c4-11eb-b553-0242ac120002-11-63fc-58f7-e04a-c54b-b407-f7f5-b29f-b058-34ef-64f6",
     "execution_end_time": "2022-04-28T08:20:58.367231Z",
     "history": [
      {
       "current": "92dca988-07c4-11eb-b553-0242ac120002-7-53d2-63fc-58f7-e04a-c54b-b407-f7f5",
       "next": "2d70ef4c-07c3-11eb-b553-0242ac120002-6-7bb2-cbe8-9f91-74f7-ff39-3cca",
       "previous": "b3bf944e-0846-11eb-8784-0242ac120002-6-99c8-597b-4976-6a2d-5787-32ba"
      },
      {
       "current": "92dca988-07c4-11eb-b553-0242ac120002-8-53d2-63fc-58f7-e04a-c54b-b407-f7f5-b29f",
       "next": "2d70ef4c-07c3-11eb-b553-0242ac120002-7-7bb2-cbe8-9f91-74f7-ff39-3cca-06f8",
       "previous": "b3bf944e-0846-11eb-8784-0242ac120002-7-99c8-597b-4976-6a2d-5787-32ba-a23d"
      },
      {
       "current": "92dca988-07c4-11eb-b553-0242ac120002-9-53d2-63fc-58f7-e04a-c54b-b407-f7f5-b29f-b058",
       "next": "2d70ef4c-07c3-11eb-b553-0242ac120002-8-7bb2-cbe8-9f91-74f7-ff39-3cca-06f8-9035",
       "previous": "b3bf944e-0846-11eb-8784-0242ac120002-8-99c8-597b-4976-6a2d-5787-32ba-a23d-12ae"
      },
      {
       "current": "92dca988-07c4-11eb-b553-0242ac120002-10-53d2-63fc-58f7-e04a-c54b-b407-f7f5-b29f-b058-34ef",
       "next": "2d70ef4c-07c3-11eb-b553-0242ac120002-9-7bb2-cbe8-9f91-74f7-ff39-3cca-06f8-9035-0719",
       "previous": "b3bf944e-0846-11eb-8784-0242ac120002-9-99c8-597b-4976-6a2d-5787-32ba-a23d-12ae-1652"
      },
      {
       "current": "92dca988-07c4-11eb-b553-0242ac120002-11-63fc-58f7-e04a-c54b-b407-f7f5-b29f-b058-34ef-64f6",
       "next": "2d70ef4c-07c3-11eb-b553-0242ac120002-10-7bb2-cbe8-9f91-74f7-ff39-3cca-06f8-9035-0719-f71b",
       "previous": "b3bf944e-0846-11eb-8784-0242ac120002-10-99c8-597b-4976-6a2d-5787-32ba-a23d-12ae-1652-af9a"
      }
     ],
     "next": "2d70ef4c-07c3-11eb-b553-0242ac120002-11-cbe8-9f91-74f7-ff39-3cca-06f8-9035-0719-f71b-c388",
     "previous": "b3bf944e-0846-11eb-8784-0242ac120002-11-597b-4976-6a2d-5787-32ba-a23d-12ae-1652-af9a-cadd"
    }
   },
   "outputs": [],
   "source": [
    "!ansible -m shell -a 'openssl rsa -in {os.path.join(certreq_path, master_fqdn + \".key\")} -pubout | openssl sha1 -c' {target_hub} -l {target_group}"
   ]
  },
  {
   "cell_type": "code",
   "execution_count": null,
   "metadata": {
    "lc_cell_meme": {
     "current": "2d70ef4c-07c3-11eb-b553-0242ac120002-11-cbe8-9f91-74f7-ff39-3cca-06f8-9035-0719-f71b-c388",
     "execution_end_time": "2022-04-28T08:21:03.447781Z",
     "history": [
      {
       "current": "2d70ef4c-07c3-11eb-b553-0242ac120002-7-7bb2-cbe8-9f91-74f7-ff39-3cca-06f8",
       "next": "91baafd8-53a0-11ea-9227-0242ac120002-15-4983-f1f1-7611-a997-bb58-b5a3-0d15-817c-073c-789d",
       "previous": "92dca988-07c4-11eb-b553-0242ac120002-6-53d2-63fc-58f7-e04a-c54b-b407"
      },
      {
       "current": "2d70ef4c-07c3-11eb-b553-0242ac120002-8-7bb2-cbe8-9f91-74f7-ff39-3cca-06f8-9035",
       "next": "91baafd8-53a0-11ea-9227-0242ac120002-16-f1f1-7611-a997-bb58-b5a3-0d15-817c-073c-789d-f74d",
       "previous": "92dca988-07c4-11eb-b553-0242ac120002-7-53d2-63fc-58f7-e04a-c54b-b407-f7f5"
      },
      {
       "current": "2d70ef4c-07c3-11eb-b553-0242ac120002-9-7bb2-cbe8-9f91-74f7-ff39-3cca-06f8-9035-0719",
       "next": "91baafd8-53a0-11ea-9227-0242ac120002-17-7611-a997-bb58-b5a3-0d15-817c-073c-789d-f74d-b1f5",
       "previous": "92dca988-07c4-11eb-b553-0242ac120002-8-53d2-63fc-58f7-e04a-c54b-b407-f7f5-b29f"
      },
      {
       "current": "2d70ef4c-07c3-11eb-b553-0242ac120002-10-7bb2-cbe8-9f91-74f7-ff39-3cca-06f8-9035-0719-f71b",
       "next": "91baafd8-53a0-11ea-9227-0242ac120002-18-a997-bb58-b5a3-0d15-817c-073c-789d-f74d-b1f5-75c2",
       "previous": "92dca988-07c4-11eb-b553-0242ac120002-9-53d2-63fc-58f7-e04a-c54b-b407-f7f5-b29f-b058"
      },
      {
       "current": "2d70ef4c-07c3-11eb-b553-0242ac120002-11-cbe8-9f91-74f7-ff39-3cca-06f8-9035-0719-f71b-c388",
       "next": "91baafd8-53a0-11ea-9227-0242ac120002-19-bb58-b5a3-0d15-817c-073c-789d-f74d-b1f5-75c2-3606",
       "previous": "92dca988-07c4-11eb-b553-0242ac120002-10-53d2-63fc-58f7-e04a-c54b-b407-f7f5-b29f-b058-34ef"
      }
     ],
     "next": "91baafd8-53a0-11ea-9227-0242ac120002-20-b5a3-0d15-817c-073c-789d-f74d-b1f5-75c2-3606-b9e3",
     "previous": "92dca988-07c4-11eb-b553-0242ac120002-11-63fc-58f7-e04a-c54b-b407-f7f5-b29f-b058-34ef-64f6"
    }
   },
   "outputs": [],
   "source": [
    "!ansible -m shell -a 'openssl x509 -noout -in {os.path.join(certreq_path, master_fqdn + \".cer\")} -pubkey | openssl sha1 -c' {target_hub} -l {target_group}\n",
    "!ansible -a 'openssl x509 -text -noout -in {os.path.join(certreq_path, master_fqdn + \".cer\")}' {target_hub} -l {target_group}"
   ]
  },
  {
   "cell_type": "markdown",
   "metadata": {
    "lc_cell_meme": {
     "current": "91baafd8-53a0-11ea-9227-0242ac120002-20-b5a3-0d15-817c-073c-789d-f74d-b1f5-75c2-3606-b9e3",
     "history": [
      {
       "current": "91baafd8-53a0-11ea-9227-0242ac120002-16-f1f1-7611-a997-bb58-b5a3-0d15-817c-073c-789d-f74d",
       "next": "91bab3f2-53a0-11ea-9227-0242ac120002-15-56b2-b3fe-d9a9-23d9-ce79-e25d-b09e-7d12-028f-b6e9",
       "previous": "2d70ef4c-07c3-11eb-b553-0242ac120002-6-7bb2-cbe8-9f91-74f7-ff39-3cca"
      },
      {
       "current": "91baafd8-53a0-11ea-9227-0242ac120002-17-7611-a997-bb58-b5a3-0d15-817c-073c-789d-f74d-b1f5",
       "next": "91bab3f2-53a0-11ea-9227-0242ac120002-16-b3fe-d9a9-23d9-ce79-e25d-b09e-7d12-028f-b6e9-c34b",
       "previous": "2d70ef4c-07c3-11eb-b553-0242ac120002-7-7bb2-cbe8-9f91-74f7-ff39-3cca-06f8"
      },
      {
       "current": "91baafd8-53a0-11ea-9227-0242ac120002-18-a997-bb58-b5a3-0d15-817c-073c-789d-f74d-b1f5-75c2",
       "next": "91bab3f2-53a0-11ea-9227-0242ac120002-17-d9a9-23d9-ce79-e25d-b09e-7d12-028f-b6e9-c34b-848e",
       "previous": "2d70ef4c-07c3-11eb-b553-0242ac120002-8-7bb2-cbe8-9f91-74f7-ff39-3cca-06f8-9035"
      },
      {
       "current": "91baafd8-53a0-11ea-9227-0242ac120002-19-bb58-b5a3-0d15-817c-073c-789d-f74d-b1f5-75c2-3606",
       "next": "91bab3f2-53a0-11ea-9227-0242ac120002-18-23d9-ce79-e25d-b09e-7d12-028f-b6e9-c34b-848e-c06a",
       "previous": "2d70ef4c-07c3-11eb-b553-0242ac120002-9-7bb2-cbe8-9f91-74f7-ff39-3cca-06f8-9035-0719"
      },
      {
       "current": "91baafd8-53a0-11ea-9227-0242ac120002-20-b5a3-0d15-817c-073c-789d-f74d-b1f5-75c2-3606-b9e3",
       "next": "91bab3f2-53a0-11ea-9227-0242ac120002-19-ce79-e25d-b09e-7d12-028f-b6e9-c34b-848e-c06a-41a1",
       "previous": "2d70ef4c-07c3-11eb-b553-0242ac120002-10-7bb2-cbe8-9f91-74f7-ff39-3cca-06f8-9035-0719-f71b"
      }
     ],
     "next": "91bab3f2-53a0-11ea-9227-0242ac120002-20-e25d-b09e-7d12-028f-b6e9-c34b-848e-c06a-41a1-aa36",
     "previous": "2d70ef4c-07c3-11eb-b553-0242ac120002-11-cbe8-9f91-74f7-ff39-3cca-06f8-9035-0719-f71b-c388"
    }
   },
   "source": [
    "idp-proxyを利用しない場合は、idp-proxyの証明書は不要"
   ]
  },
  {
   "cell_type": "code",
   "execution_count": null,
   "metadata": {
    "lc_cell_meme": {
     "current": "91bab3f2-53a0-11ea-9227-0242ac120002-20-e25d-b09e-7d12-028f-b6e9-c34b-848e-c06a-41a1-aa36",
     "execution_end_time": "2022-04-28T08:21:03.539671Z",
     "history": [
      {
       "current": "91bab3f2-53a0-11ea-9227-0242ac120002-16-b3fe-d9a9-23d9-ce79-e25d-b09e-7d12-028f-b6e9-c34b",
       "next": "91bbae4c-53a0-11ea-9227-0242ac120002-15-7b03-53bf-9c99-a561-71ea-2a23-6253-4f5c-2bb7-1b08",
       "previous": "91baafd8-53a0-11ea-9227-0242ac120002-15-4983-f1f1-7611-a997-bb58-b5a3-0d15-817c-073c-789d"
      },
      {
       "current": "91bab3f2-53a0-11ea-9227-0242ac120002-17-d9a9-23d9-ce79-e25d-b09e-7d12-028f-b6e9-c34b-848e",
       "next": "91bbae4c-53a0-11ea-9227-0242ac120002-16-53bf-9c99-a561-71ea-2a23-6253-4f5c-2bb7-1b08-99a6",
       "previous": "91baafd8-53a0-11ea-9227-0242ac120002-16-f1f1-7611-a997-bb58-b5a3-0d15-817c-073c-789d-f74d"
      },
      {
       "current": "91bab3f2-53a0-11ea-9227-0242ac120002-18-23d9-ce79-e25d-b09e-7d12-028f-b6e9-c34b-848e-c06a",
       "next": "91bbae4c-53a0-11ea-9227-0242ac120002-17-9c99-a561-71ea-2a23-6253-4f5c-2bb7-1b08-99a6-cbc5",
       "previous": "91baafd8-53a0-11ea-9227-0242ac120002-17-7611-a997-bb58-b5a3-0d15-817c-073c-789d-f74d-b1f5"
      },
      {
       "current": "91bab3f2-53a0-11ea-9227-0242ac120002-19-ce79-e25d-b09e-7d12-028f-b6e9-c34b-848e-c06a-41a1",
       "next": "91bbae4c-53a0-11ea-9227-0242ac120002-18-a561-71ea-2a23-6253-4f5c-2bb7-1b08-99a6-cbc5-2bdc",
       "previous": "91baafd8-53a0-11ea-9227-0242ac120002-18-a997-bb58-b5a3-0d15-817c-073c-789d-f74d-b1f5-75c2"
      },
      {
       "current": "91bab3f2-53a0-11ea-9227-0242ac120002-20-e25d-b09e-7d12-028f-b6e9-c34b-848e-c06a-41a1-aa36",
       "next": "91bbae4c-53a0-11ea-9227-0242ac120002-19-71ea-2a23-6253-4f5c-2bb7-1b08-99a6-cbc5-2bdc-f16b",
       "previous": "91baafd8-53a0-11ea-9227-0242ac120002-19-bb58-b5a3-0d15-817c-073c-789d-f74d-b1f5-75c2-3606"
      }
     ],
     "next": "91bbae4c-53a0-11ea-9227-0242ac120002-20-2a23-6253-4f5c-2bb7-1b08-99a6-cbc5-2bdc-f16b-4941",
     "previous": "91baafd8-53a0-11ea-9227-0242ac120002-20-b5a3-0d15-817c-073c-789d-f74d-b1f5-75c2-3606-b9e3"
    }
   },
   "outputs": [],
   "source": [
    "if not enable_federation and auth_fqdn != '':\n",
    "    !ansible -a 'ls -la {os.path.join(certreq_path, auth_fqdn + \".cer\")}' {target_hub} -l {target_group}"
   ]
  },
  {
   "cell_type": "markdown",
   "metadata": {
    "lc_cell_meme": {
     "current": "91bbae4c-53a0-11ea-9227-0242ac120002-20-2a23-6253-4f5c-2bb7-1b08-99a6-cbc5-2bdc-f16b-4941",
     "history": [
      {
       "current": "91bbae4c-53a0-11ea-9227-0242ac120002-16-53bf-9c99-a561-71ea-2a23-6253-4f5c-2bb7-1b08-99a6",
       "next": "b23bffd2-650c-11ea-bf98-0242ac120002-14-347c-ead7-234a-ffaa-31c5-c6c5-a293-8f8f-380e-2d03",
       "previous": "91bab3f2-53a0-11ea-9227-0242ac120002-15-56b2-b3fe-d9a9-23d9-ce79-e25d-b09e-7d12-028f-b6e9"
      },
      {
       "current": "91bbae4c-53a0-11ea-9227-0242ac120002-17-9c99-a561-71ea-2a23-6253-4f5c-2bb7-1b08-99a6-cbc5",
       "next": "b23bffd2-650c-11ea-bf98-0242ac120002-15-ead7-234a-ffaa-31c5-c6c5-a293-8f8f-380e-2d03-755b",
       "previous": "91bab3f2-53a0-11ea-9227-0242ac120002-16-b3fe-d9a9-23d9-ce79-e25d-b09e-7d12-028f-b6e9-c34b"
      },
      {
       "current": "91bbae4c-53a0-11ea-9227-0242ac120002-18-a561-71ea-2a23-6253-4f5c-2bb7-1b08-99a6-cbc5-2bdc",
       "next": "b23bffd2-650c-11ea-bf98-0242ac120002-16-234a-ffaa-31c5-c6c5-a293-8f8f-380e-2d03-755b-6e16",
       "previous": "91bab3f2-53a0-11ea-9227-0242ac120002-17-d9a9-23d9-ce79-e25d-b09e-7d12-028f-b6e9-c34b-848e"
      },
      {
       "current": "91bbae4c-53a0-11ea-9227-0242ac120002-19-71ea-2a23-6253-4f5c-2bb7-1b08-99a6-cbc5-2bdc-f16b",
       "next": "b23bffd2-650c-11ea-bf98-0242ac120002-17-ffaa-31c5-c6c5-a293-8f8f-380e-2d03-755b-6e16-0873",
       "previous": "91bab3f2-53a0-11ea-9227-0242ac120002-18-23d9-ce79-e25d-b09e-7d12-028f-b6e9-c34b-848e-c06a"
      },
      {
       "current": "91bbae4c-53a0-11ea-9227-0242ac120002-20-2a23-6253-4f5c-2bb7-1b08-99a6-cbc5-2bdc-f16b-4941",
       "next": "b23bffd2-650c-11ea-bf98-0242ac120002-18-31c5-c6c5-a293-8f8f-380e-2d03-755b-6e16-0873-8a12",
       "previous": "91bab3f2-53a0-11ea-9227-0242ac120002-19-ce79-e25d-b09e-7d12-028f-b6e9-c34b-848e-c06a-41a1"
      }
     ],
     "next": "b23bffd2-650c-11ea-bf98-0242ac120002-19-c6c5-a293-8f8f-380e-2d03-755b-6e16-0873-8a12-5a95",
     "previous": "91bab3f2-53a0-11ea-9227-0242ac120002-20-e25d-b09e-7d12-028f-b6e9-c34b-848e-c06a-41a1-aa36"
    }
   },
   "source": [
    "## auth-proxyコンテナの準備"
   ]
  },
  {
   "cell_type": "markdown",
   "metadata": {
    "lc_cell_meme": {
     "current": "b23bffd2-650c-11ea-bf98-0242ac120002-19-c6c5-a293-8f8f-380e-2d03-755b-6e16-0873-8a12-5a95",
     "history": [
      {
       "current": "b23bffd2-650c-11ea-bf98-0242ac120002-15-ead7-234a-ffaa-31c5-c6c5-a293-8f8f-380e-2d03-755b",
       "next": "6acc208c-650c-11ea-bf98-0242ac120002-14-b0ba-9d96-8318-593a-ede2-e49c-84f3-a825-22a8-bef3",
       "previous": "91bbae4c-53a0-11ea-9227-0242ac120002-15-7b03-53bf-9c99-a561-71ea-2a23-6253-4f5c-2bb7-1b08"
      },
      {
       "current": "b23bffd2-650c-11ea-bf98-0242ac120002-16-234a-ffaa-31c5-c6c5-a293-8f8f-380e-2d03-755b-6e16",
       "next": "6acc208c-650c-11ea-bf98-0242ac120002-15-9d96-8318-593a-ede2-e49c-84f3-a825-22a8-bef3-9a2c",
       "previous": "91bbae4c-53a0-11ea-9227-0242ac120002-16-53bf-9c99-a561-71ea-2a23-6253-4f5c-2bb7-1b08-99a6"
      },
      {
       "current": "b23bffd2-650c-11ea-bf98-0242ac120002-17-ffaa-31c5-c6c5-a293-8f8f-380e-2d03-755b-6e16-0873",
       "next": "6acc208c-650c-11ea-bf98-0242ac120002-16-8318-593a-ede2-e49c-84f3-a825-22a8-bef3-9a2c-4ad3",
       "previous": "91bbae4c-53a0-11ea-9227-0242ac120002-17-9c99-a561-71ea-2a23-6253-4f5c-2bb7-1b08-99a6-cbc5"
      },
      {
       "current": "b23bffd2-650c-11ea-bf98-0242ac120002-18-31c5-c6c5-a293-8f8f-380e-2d03-755b-6e16-0873-8a12",
       "next": "6acc208c-650c-11ea-bf98-0242ac120002-17-593a-ede2-e49c-84f3-a825-22a8-bef3-9a2c-4ad3-4c93",
       "previous": "91bbae4c-53a0-11ea-9227-0242ac120002-18-a561-71ea-2a23-6253-4f5c-2bb7-1b08-99a6-cbc5-2bdc"
      },
      {
       "current": "b23bffd2-650c-11ea-bf98-0242ac120002-19-c6c5-a293-8f8f-380e-2d03-755b-6e16-0873-8a12-5a95",
       "next": "6acc208c-650c-11ea-bf98-0242ac120002-18-ede2-e49c-84f3-a825-22a8-bef3-9a2c-4ad3-4c93-1428",
       "previous": "91bbae4c-53a0-11ea-9227-0242ac120002-19-71ea-2a23-6253-4f5c-2bb7-1b08-99a6-cbc5-2bdc-f16b"
      }
     ],
     "next": "6acc208c-650c-11ea-bf98-0242ac120002-19-e49c-84f3-a825-22a8-bef3-9a2c-4ad3-4c93-1428-2836",
     "previous": "91bbae4c-53a0-11ea-9227-0242ac120002-20-2a23-6253-4f5c-2bb7-1b08-99a6-cbc5-2bdc-f16b-4941"
    }
   },
   "source": [
    "メタデータ用ディレクトリを作成　(フェデレーションに直接参加する場合は、ここにクラウドゲートウェイのメタデータを置くことがある)"
   ]
  },
  {
   "cell_type": "code",
   "execution_count": null,
   "metadata": {
    "lc_cell_meme": {
     "current": "6acc208c-650c-11ea-bf98-0242ac120002-19-e49c-84f3-a825-22a8-bef3-9a2c-4ad3-4c93-1428-2836",
     "execution_end_time": "2022-04-28T08:21:09.418986Z",
     "history": [
      {
       "current": "6acc208c-650c-11ea-bf98-0242ac120002-15-9d96-8318-593a-ede2-e49c-84f3-a825-22a8-bef3-9a2c",
       "next": "276846db-92e4-11ec-8a73-6b42dc3e1973",
       "previous": "b23bffd2-650c-11ea-bf98-0242ac120002-14-347c-ead7-234a-ffaa-31c5-c6c5-a293-8f8f-380e-2d03"
      },
      {
       "current": "6acc208c-650c-11ea-bf98-0242ac120002-16-8318-593a-ede2-e49c-84f3-a825-22a8-bef3-9a2c-4ad3",
       "next": "276846db-92e4-11ec-8a73-6b42dc3e1973-1-9255",
       "previous": "b23bffd2-650c-11ea-bf98-0242ac120002-15-ead7-234a-ffaa-31c5-c6c5-a293-8f8f-380e-2d03-755b"
      },
      {
       "current": "6acc208c-650c-11ea-bf98-0242ac120002-17-593a-ede2-e49c-84f3-a825-22a8-bef3-9a2c-4ad3-4c93",
       "next": "276846db-92e4-11ec-8a73-6b42dc3e1973-2-9255-dc91",
       "previous": "b23bffd2-650c-11ea-bf98-0242ac120002-16-234a-ffaa-31c5-c6c5-a293-8f8f-380e-2d03-755b-6e16"
      },
      {
       "current": "6acc208c-650c-11ea-bf98-0242ac120002-18-ede2-e49c-84f3-a825-22a8-bef3-9a2c-4ad3-4c93-1428",
       "next": "276846db-92e4-11ec-8a73-6b42dc3e1973-3-9255-dc91-44cc",
       "previous": "b23bffd2-650c-11ea-bf98-0242ac120002-17-ffaa-31c5-c6c5-a293-8f8f-380e-2d03-755b-6e16-0873"
      },
      {
       "current": "6acc208c-650c-11ea-bf98-0242ac120002-19-e49c-84f3-a825-22a8-bef3-9a2c-4ad3-4c93-1428-2836",
       "next": "276846db-92e4-11ec-8a73-6b42dc3e1973-4-9255-dc91-44cc-6b14",
       "previous": "b23bffd2-650c-11ea-bf98-0242ac120002-18-31c5-c6c5-a293-8f8f-380e-2d03-755b-6e16-0873-8a12"
      }
     ],
     "next": "276846db-92e4-11ec-8a73-6b42dc3e1973-5-9255-dc91-44cc-6b14-e045",
     "previous": "b23bffd2-650c-11ea-bf98-0242ac120002-19-c6c5-a293-8f8f-380e-2d03-755b-6e16-0873-8a12-5a95"
    }
   },
   "outputs": [],
   "source": [
    "!ansible -b -m file -a 'path=/etc/jupyterhub/simplesamlphp/metadata/xml state=directory' {target_hub}"
   ]
  },
  {
   "cell_type": "markdown",
   "metadata": {
    "lc_cell_meme": {
     "current": "276846db-92e4-11ec-8a73-6b42dc3e1973-5-9255-dc91-44cc-6b14-e045",
     "history": [
      {
       "current": "276846db-92e4-11ec-8a73-6b42dc3e1973-2-9255-dc91",
       "next": "a490b046-53a3-11ea-9227-0242ac120002-16-3fb8-a087-19a3-995a-431d-9ad7-9742-a1dd-a124-33c2",
       "previous": "6acc208c-650c-11ea-bf98-0242ac120002-15-9d96-8318-593a-ede2-e49c-84f3-a825-22a8-bef3-9a2c"
      },
      {
       "current": "276846db-92e4-11ec-8a73-6b42dc3e1973-2-9255-dc91",
       "next": "a490b046-53a3-11ea-9227-0242ac120002-17-a087-19a3-995a-431d-9ad7-9742-a1dd-a124-33c2-fe2a",
       "previous": "6acc208c-650c-11ea-bf98-0242ac120002-16-8318-593a-ede2-e49c-84f3-a825-22a8-bef3-9a2c-4ad3"
      },
      {
       "current": "276846db-92e4-11ec-8a73-6b42dc3e1973-3-9255-dc91-44cc",
       "next": "a490b046-53a3-11ea-9227-0242ac120002-19-995a-431d-9ad7-9742-a1dd-a124-33c2-6a9b-f5c3-371f",
       "previous": "6acc208c-650c-11ea-bf98-0242ac120002-16-8318-593a-ede2-e49c-84f3-a825-22a8-bef3-9a2c-4ad3"
      },
      {
       "current": "276846db-92e4-11ec-8a73-6b42dc3e1973-4-9255-dc91-44cc-6b14",
       "next": "a490b046-53a3-11ea-9227-0242ac120002-20-431d-9ad7-9742-a1dd-a124-33c2-6a9b-f5c3-371f-775b",
       "previous": "6acc208c-650c-11ea-bf98-0242ac120002-17-593a-ede2-e49c-84f3-a825-22a8-bef3-9a2c-4ad3-4c93"
      },
      {
       "current": "276846db-92e4-11ec-8a73-6b42dc3e1973-5-9255-dc91-44cc-6b14-e045",
       "next": "a490b046-53a3-11ea-9227-0242ac120002-21-9ad7-9742-a1dd-a124-33c2-6a9b-f5c3-371f-775b-45e3",
       "previous": "6acc208c-650c-11ea-bf98-0242ac120002-18-ede2-e49c-84f3-a825-22a8-bef3-9a2c-4ad3-4c93-1428"
      }
     ],
     "next": "a490b046-53a3-11ea-9227-0242ac120002-22-9742-a1dd-a124-33c2-6a9b-f5c3-371f-775b-45e3-c59e",
     "previous": "6acc208c-650c-11ea-bf98-0242ac120002-19-e49c-84f3-a825-22a8-bef3-9a2c-4ad3-4c93-1428-2836"
    }
   },
   "source": [
    "設定ファイルを生成"
   ]
  },
  {
   "cell_type": "code",
   "execution_count": null,
   "metadata": {
    "lc_cell_meme": {
     "current": "a490b046-53a3-11ea-9227-0242ac120002-22-9742-a1dd-a124-33c2-6a9b-f5c3-371f-775b-45e3-c59e",
     "execution_end_time": "2022-04-28T08:21:10.624430Z",
     "history": [
      {
       "current": "a490b046-53a3-11ea-9227-0242ac120002-19-995a-431d-9ad7-9742-a1dd-a124-33c2-6a9b-f5c3-371f",
       "next": "d929a180-5882-11ea-bd55-0242ac120002-17-4e41-029c-a33b-6108-7436-52c0-f79e-53a6-831a-01ae",
       "previous": "ab1039bb-9a2a-11ec-8c7d-0242ac120002-1-e3f6"
      },
      {
       "current": "a490b046-53a3-11ea-9227-0242ac120002-19-995a-431d-9ad7-9742-a1dd-a124-33c2-6a9b-f5c3-371f",
       "next": "d929a180-5882-11ea-bd55-0242ac120002-16-a3e3-4e41-029c-a33b-6108-7436-52c0-f79e-53a6-1ee6",
       "previous": "a490b046-53a3-11ea-9227-0242ac120002-17-a087-19a3-995a-431d-9ad7-9742-a1dd-a124-33c2-fe2a"
      },
      {
       "current": "a490b046-53a3-11ea-9227-0242ac120002-20-431d-9ad7-9742-a1dd-a124-33c2-6a9b-f5c3-371f-775b",
       "next": "d929a180-5882-11ea-bd55-0242ac120002-16-a3e3-4e41-029c-a33b-6108-7436-52c0-f79e-53a6-1ee6",
       "previous": "276846db-92e4-11ec-8a73-6b42dc3e1973-2-9255-dc91"
      },
      {
       "current": "a490b046-53a3-11ea-9227-0242ac120002-21-9ad7-9742-a1dd-a124-33c2-6a9b-f5c3-371f-775b-45e3",
       "next": "d929a180-5882-11ea-bd55-0242ac120002-17-4e41-029c-a33b-6108-7436-52c0-f79e-53a6-1ee6-216b",
       "previous": "276846db-92e4-11ec-8a73-6b42dc3e1973-3-9255-dc91-44cc"
      },
      {
       "current": "a490b046-53a3-11ea-9227-0242ac120002-22-9742-a1dd-a124-33c2-6a9b-f5c3-371f-775b-45e3-c59e",
       "next": "d929a180-5882-11ea-bd55-0242ac120002-18-029c-a33b-6108-7436-52c0-f79e-53a6-1ee6-216b-9e12",
       "previous": "276846db-92e4-11ec-8a73-6b42dc3e1973-4-9255-dc91-44cc-6b14"
      }
     ],
     "next": "d929a180-5882-11ea-bd55-0242ac120002-19-a33b-6108-7436-52c0-f79e-53a6-1ee6-216b-9e12-d31d",
     "previous": "276846db-92e4-11ec-8a73-6b42dc3e1973-5-9255-dc91-44cc-6b14-e045"
    }
   },
   "outputs": [],
   "source": [
    "with open(os.path.join(work_dir, 'hub-const.php'), 'w') as f:\n",
    "    f.write('''<?php\n",
    "const COURSE_NAME = \"\";\n",
    "const HUB_URL = \"http://{master_ip}:8000\";\n",
    "const AUTHOR_GROUP_LIST = array ({{{{ cg_groups | map('regex_replace', '(^|$)', \"'\") | join('\\\", \\\"') }}}});\n",
    "const DB_USER = \"{db_user}\";\n",
    "const DB_PASS = \"{db_pass}\";\n",
    "const DB_PORT = \"5432\";\n",
    "const DB_NAME = \"{db_name}\";\n",
    "const DB_HOST = \"postgres\";\n",
    "?>'''.format(master_ip='jupyterhub', db_user=db_user, db_pass=db_pass, db_name=db_name))"
   ]
  },
  {
   "cell_type": "markdown",
   "metadata": {
    "lc_cell_meme": {
     "current": "d929a180-5882-11ea-bd55-0242ac120002-19-a33b-6108-7436-52c0-f79e-53a6-1ee6-216b-9e12-d31d",
     "history": [
      {
       "current": "d929a180-5882-11ea-bd55-0242ac120002-16-a3e3-4e41-029c-a33b-6108-7436-52c0-f79e-53a6-1ee6",
       "next": "d92a90ae-5882-11ea-bd55-0242ac120002-15-5d77-a882-d0b0-89a0-8ecd-904d-13cd-637d-4c84-1d8c",
       "previous": "a490b046-53a3-11ea-9227-0242ac120002-16-3fb8-a087-19a3-995a-431d-9ad7-9742-a1dd-a124-33c2"
      },
      {
       "current": "d929a180-5882-11ea-bd55-0242ac120002-16-a3e3-4e41-029c-a33b-6108-7436-52c0-f79e-53a6-1ee6",
       "next": "d92a90ae-5882-11ea-bd55-0242ac120002-16-a882-d0b0-89a0-8ecd-904d-13cd-637d-4c84-1d8c-5670",
       "previous": "a490b046-53a3-11ea-9227-0242ac120002-17-a087-19a3-995a-431d-9ad7-9742-a1dd-a124-33c2-fe2a"
      },
      {
       "current": "d929a180-5882-11ea-bd55-0242ac120002-17-4e41-029c-a33b-6108-7436-52c0-f79e-53a6-1ee6-216b",
       "next": "d92a90ae-5882-11ea-bd55-0242ac120002-16-a882-d0b0-89a0-8ecd-904d-13cd-637d-4c84-1d8c-5670",
       "previous": "a490b046-53a3-11ea-9227-0242ac120002-19-995a-431d-9ad7-9742-a1dd-a124-33c2-6a9b-f5c3-371f"
      },
      {
       "current": "d929a180-5882-11ea-bd55-0242ac120002-18-029c-a33b-6108-7436-52c0-f79e-53a6-1ee6-216b-9e12",
       "next": "d92a90ae-5882-11ea-bd55-0242ac120002-17-d0b0-89a0-8ecd-904d-13cd-637d-4c84-1d8c-5670-b421",
       "previous": "a490b046-53a3-11ea-9227-0242ac120002-20-431d-9ad7-9742-a1dd-a124-33c2-6a9b-f5c3-371f-775b"
      },
      {
       "current": "d929a180-5882-11ea-bd55-0242ac120002-19-a33b-6108-7436-52c0-f79e-53a6-1ee6-216b-9e12-d31d",
       "next": "d92a90ae-5882-11ea-bd55-0242ac120002-18-89a0-8ecd-904d-13cd-637d-4c84-1d8c-5670-b421-fe91",
       "previous": "a490b046-53a3-11ea-9227-0242ac120002-21-9ad7-9742-a1dd-a124-33c2-6a9b-f5c3-371f-775b-45e3"
      }
     ],
     "next": "d92a90ae-5882-11ea-bd55-0242ac120002-19-8ecd-904d-13cd-637d-4c84-1d8c-5670-b421-fe91-8290",
     "previous": "a490b046-53a3-11ea-9227-0242ac120002-22-9742-a1dd-a124-33c2-6a9b-f5c3-371f-775b-45e3-c59e"
    }
   },
   "source": [
    "設定ファイルを転送"
   ]
  },
  {
   "cell_type": "code",
   "execution_count": null,
   "metadata": {
    "lc_cell_meme": {
     "current": "d92a90ae-5882-11ea-bd55-0242ac120002-19-8ecd-904d-13cd-637d-4c84-1d8c-5670-b421-fe91-8290",
     "execution_end_time": "2022-04-28T08:21:15.032946Z",
     "history": [
      {
       "current": "d92a90ae-5882-11ea-bd55-0242ac120002-15-5d77-a882-d0b0-89a0-8ecd-904d-13cd-637d-4c84-1d8c",
       "next": "74ec7288-547c-11ea-9227-0242ac120002-15-b3bd-0380-ecf0-b2d2-3123-ea56-d718-dfb6-14f4-72c2",
       "previous": "d929a180-5882-11ea-bd55-0242ac120002-14-ce7d-c0db-a3e3-4e41-029c-a33b-6108-7436-52c0-f79e"
      },
      {
       "current": "d92a90ae-5882-11ea-bd55-0242ac120002-16-a882-d0b0-89a0-8ecd-904d-13cd-637d-4c84-1d8c-5670",
       "next": "74ec7288-547c-11ea-9227-0242ac120002-16-0380-ecf0-b2d2-3123-ea56-d718-dfb6-14f4-72c2-ecb3",
       "previous": "d929a180-5882-11ea-bd55-0242ac120002-15-c0db-a3e3-4e41-029c-a33b-6108-7436-52c0-f79e-53a6"
      },
      {
       "current": "d92a90ae-5882-11ea-bd55-0242ac120002-17-d0b0-89a0-8ecd-904d-13cd-637d-4c84-1d8c-5670-b421",
       "next": "74ec7288-547c-11ea-9227-0242ac120002-17-ecf0-b2d2-3123-ea56-d718-dfb6-14f4-72c2-ecb3-cdfc",
       "previous": "d929a180-5882-11ea-bd55-0242ac120002-16-a3e3-4e41-029c-a33b-6108-7436-52c0-f79e-53a6-1ee6"
      },
      {
       "current": "d92a90ae-5882-11ea-bd55-0242ac120002-18-89a0-8ecd-904d-13cd-637d-4c84-1d8c-5670-b421-fe91",
       "next": "74ec7288-547c-11ea-9227-0242ac120002-18-b2d2-3123-ea56-d718-dfb6-14f4-72c2-ecb3-cdfc-fbec",
       "previous": "d929a180-5882-11ea-bd55-0242ac120002-17-4e41-029c-a33b-6108-7436-52c0-f79e-53a6-1ee6-216b"
      },
      {
       "current": "d92a90ae-5882-11ea-bd55-0242ac120002-19-8ecd-904d-13cd-637d-4c84-1d8c-5670-b421-fe91-8290",
       "next": "74ec7288-547c-11ea-9227-0242ac120002-19-3123-ea56-d718-dfb6-14f4-72c2-ecb3-cdfc-fbec-cf3f",
       "previous": "d929a180-5882-11ea-bd55-0242ac120002-18-029c-a33b-6108-7436-52c0-f79e-53a6-1ee6-216b-9e12"
      }
     ],
     "next": "74ec7288-547c-11ea-9227-0242ac120002-20-ea56-d718-dfb6-14f4-72c2-ecb3-cdfc-fbec-cf3f-671f",
     "previous": "d929a180-5882-11ea-bd55-0242ac120002-19-a33b-6108-7436-52c0-f79e-53a6-1ee6-216b-9e12-d31d"
    }
   },
   "outputs": [],
   "source": [
    "!ansible -b -m template -a 'src={work_dir}/hub-const.php dest=/etc/jupyterhub/hub-const.php'  {target_hub} -l {target_group}"
   ]
  },
  {
   "cell_type": "markdown",
   "metadata": {
    "lc_cell_meme": {
     "current": "74ec7288-547c-11ea-9227-0242ac120002-20-ea56-d718-dfb6-14f4-72c2-ecb3-cdfc-fbec-cf3f-671f",
     "history": [
      {
       "current": "74ec7288-547c-11ea-9227-0242ac120002-16-0380-ecf0-b2d2-3123-ea56-d718-dfb6-14f4-72c2-ecb3",
       "next": "5940ca2e-b24a-11e7-a38f-0242ac120002-16-388f-4fc3-d8f9-d279-6f67-53fe-a454-f698-e3a2-8647",
       "previous": "d92a90ae-5882-11ea-bd55-0242ac120002-14-4dd8-5d77-a882-d0b0-89a0-8ecd-904d-13cd-637d-4c84"
      },
      {
       "current": "74ec7288-547c-11ea-9227-0242ac120002-17-ecf0-b2d2-3123-ea56-d718-dfb6-14f4-72c2-ecb3-cdfc",
       "next": "5940ca2e-b24a-11e7-a38f-0242ac120002-17-4fc3-d8f9-d279-6f67-53fe-a454-f698-e3a2-8647-6621",
       "previous": "d92a90ae-5882-11ea-bd55-0242ac120002-15-5d77-a882-d0b0-89a0-8ecd-904d-13cd-637d-4c84-1d8c"
      },
      {
       "current": "74ec7288-547c-11ea-9227-0242ac120002-18-b2d2-3123-ea56-d718-dfb6-14f4-72c2-ecb3-cdfc-fbec",
       "next": "5940ca2e-b24a-11e7-a38f-0242ac120002-18-d8f9-d279-6f67-53fe-a454-f698-e3a2-8647-6621-b098",
       "previous": "d92a90ae-5882-11ea-bd55-0242ac120002-16-a882-d0b0-89a0-8ecd-904d-13cd-637d-4c84-1d8c-5670"
      },
      {
       "current": "74ec7288-547c-11ea-9227-0242ac120002-19-3123-ea56-d718-dfb6-14f4-72c2-ecb3-cdfc-fbec-cf3f",
       "next": "5940ca2e-b24a-11e7-a38f-0242ac120002-19-d279-6f67-53fe-a454-f698-e3a2-8647-6621-b098-5536",
       "previous": "d92a90ae-5882-11ea-bd55-0242ac120002-17-d0b0-89a0-8ecd-904d-13cd-637d-4c84-1d8c-5670-b421"
      },
      {
       "current": "74ec7288-547c-11ea-9227-0242ac120002-20-ea56-d718-dfb6-14f4-72c2-ecb3-cdfc-fbec-cf3f-671f",
       "next": "5940ca2e-b24a-11e7-a38f-0242ac120002-20-6f67-53fe-a454-f698-e3a2-8647-6621-b098-5536-fa6f",
       "previous": "d92a90ae-5882-11ea-bd55-0242ac120002-18-89a0-8ecd-904d-13cd-637d-4c84-1d8c-5670-b421-fe91"
      }
     ],
     "next": "5940ca2e-b24a-11e7-a38f-0242ac120002-21-53fe-a454-f698-e3a2-8647-6621-b098-5536-fa6f-8a0a",
     "previous": "d92a90ae-5882-11ea-bd55-0242ac120002-19-8ecd-904d-13cd-637d-4c84-1d8c-5670-b421-fe91-8290"
    }
   },
   "source": [
    "証明書、秘密鍵等を全ノードにデプロイする\n"
   ]
  },
  {
   "cell_type": "code",
   "execution_count": null,
   "metadata": {
    "lc_cell_meme": {
     "current": "5940ca2e-b24a-11e7-a38f-0242ac120002-21-53fe-a454-f698-e3a2-8647-6621-b098-5536-fa6f-8a0a",
     "execution_end_time": "2022-04-28T08:21:30.405358Z",
     "history": [
      {
       "current": "5940ca2e-b24a-11e7-a38f-0242ac120002-17-4fc3-d8f9-d279-6f67-53fe-a454-f698-e3a2-8647-6621",
       "next": "86c0c1ea-d600-11e8-a64b-02420aff0006-16-8f03-e282-0168-1f94-9928-38de-0493-2eed-750d-8408",
       "previous": "74ec7288-547c-11ea-9227-0242ac120002-15-b3bd-0380-ecf0-b2d2-3123-ea56-d718-dfb6-14f4-72c2"
      },
      {
       "current": "5940ca2e-b24a-11e7-a38f-0242ac120002-18-d8f9-d279-6f67-53fe-a454-f698-e3a2-8647-6621-b098",
       "next": "86c0c1ea-d600-11e8-a64b-02420aff0006-17-e282-0168-1f94-9928-38de-0493-2eed-750d-8408-7bfd",
       "previous": "74ec7288-547c-11ea-9227-0242ac120002-16-0380-ecf0-b2d2-3123-ea56-d718-dfb6-14f4-72c2-ecb3"
      },
      {
       "current": "5940ca2e-b24a-11e7-a38f-0242ac120002-19-d279-6f67-53fe-a454-f698-e3a2-8647-6621-b098-5536",
       "next": "86c0c1ea-d600-11e8-a64b-02420aff0006-18-0168-1f94-9928-38de-0493-2eed-750d-8408-7bfd-a389",
       "previous": "74ec7288-547c-11ea-9227-0242ac120002-17-ecf0-b2d2-3123-ea56-d718-dfb6-14f4-72c2-ecb3-cdfc"
      },
      {
       "current": "5940ca2e-b24a-11e7-a38f-0242ac120002-20-6f67-53fe-a454-f698-e3a2-8647-6621-b098-5536-fa6f",
       "next": "86c0c1ea-d600-11e8-a64b-02420aff0006-19-1f94-9928-38de-0493-2eed-750d-8408-7bfd-a389-cffd",
       "previous": "74ec7288-547c-11ea-9227-0242ac120002-18-b2d2-3123-ea56-d718-dfb6-14f4-72c2-ecb3-cdfc-fbec"
      },
      {
       "current": "5940ca2e-b24a-11e7-a38f-0242ac120002-21-53fe-a454-f698-e3a2-8647-6621-b098-5536-fa6f-8a0a",
       "next": "86c0c1ea-d600-11e8-a64b-02420aff0006-20-9928-38de-0493-2eed-750d-8408-7bfd-a389-cffd-f7b6",
       "previous": "74ec7288-547c-11ea-9227-0242ac120002-19-3123-ea56-d718-dfb6-14f4-72c2-ecb3-cdfc-fbec-cf3f"
      }
     ],
     "next": "86c0c1ea-d600-11e8-a64b-02420aff0006-21-38de-0493-2eed-750d-8408-7bfd-a389-cffd-f7b6-1768",
     "previous": "74ec7288-547c-11ea-9227-0242ac120002-20-ea56-d718-dfb6-14f4-72c2-ecb3-cdfc-fbec-cf3f-671f"
    },
    "scrolled": true
   },
   "outputs": [],
   "source": [
    "!ansible -b -m file -a 'path=/etc/jupyterhub/nginx/certs state=directory' {target_hub} -l {target_group}\n",
    "!ansible -b -a 'cp {os.path.join(certreq_path, master_fqdn + \".key\")} /etc/jupyterhub/nginx/certs/auth-proxy.key' {target_hub} -l {target_group}\n",
    "if intermediate_certfile:\n",
    "    !ansible -b -m shell -a 'cat {os.path.join(certreq_path, master_fqdn + \".cer\")} \\\n",
    "      {os.path.join(certreq_path, intermediate_certfile)} \\\n",
    "      > /etc/jupyterhub/nginx/certs/auth-proxy.chained.cer' {target_hub} -l {target_group}\n",
    "else:\n",
    "    !ansible -b -m shell -a 'cat {os.path.join(certreq_path, master_fqdn + \".cer\")} \\\n",
    "      > /etc/jupyterhub/nginx/certs/auth-proxy.chained.cer' {target_hub}\n",
    "!ansible -b -m file -a 'path=/etc/jupyterhub/simplesamlphp/cert state=directory' {target_hub} -l {target_group}\n",
    "!ansible -b -a 'cp {os.path.join(certreq_path, master_fqdn + \".key\")} /etc/jupyterhub/simplesamlphp/cert/auth-proxy.key' {target_hub} -l {target_group}\n",
    "if not enable_federation and auth_fqdn != '':\n",
    "    !ansible -b -a 'cp {os.path.join(certreq_path, auth_fqdn + \".cer\")} /etc/jupyterhub/simplesamlphp/cert/idp-proxy.cer' {target_hub} -l {target_group}\n",
    "!ansible -b -m shell -a 'cp {os.path.join(certreq_path, master_fqdn + \".cer\")} \\\n",
    "    /etc/jupyterhub/simplesamlphp/cert/auth-proxy.cer' {target_hub} -l {target_group}"
   ]
  },
  {
   "cell_type": "code",
   "execution_count": null,
   "metadata": {
    "lc_cell_meme": {
     "current": "86c0c1ea-d600-11e8-a64b-02420aff0006-21-38de-0493-2eed-750d-8408-7bfd-a389-cffd-f7b6-1768",
     "execution_end_time": "2022-04-28T08:23:23.302156Z",
     "history": [
      {
       "current": "86c0c1ea-d600-11e8-a64b-02420aff0006-17-e282-0168-1f94-9928-38de-0493-2eed-750d-8408-7bfd",
       "next": "d92a931a-5882-11ea-bd55-0242ac120002-14-04e6-916d-9bdf-7d38-2afd-60ed-7aae-d804-53cc-d59c",
       "previous": "5940ca2e-b24a-11e7-a38f-0242ac120002-16-388f-4fc3-d8f9-d279-6f67-53fe-a454-f698-e3a2-8647"
      },
      {
       "current": "86c0c1ea-d600-11e8-a64b-02420aff0006-18-0168-1f94-9928-38de-0493-2eed-750d-8408-7bfd-a389",
       "next": "d92a931a-5882-11ea-bd55-0242ac120002-15-916d-9bdf-7d38-2afd-60ed-7aae-d804-53cc-d59c-57ac",
       "previous": "5940ca2e-b24a-11e7-a38f-0242ac120002-17-4fc3-d8f9-d279-6f67-53fe-a454-f698-e3a2-8647-6621"
      },
      {
       "current": "86c0c1ea-d600-11e8-a64b-02420aff0006-19-1f94-9928-38de-0493-2eed-750d-8408-7bfd-a389-cffd",
       "next": "d92a931a-5882-11ea-bd55-0242ac120002-16-9bdf-7d38-2afd-60ed-7aae-d804-53cc-d59c-57ac-a6cf",
       "previous": "5940ca2e-b24a-11e7-a38f-0242ac120002-18-d8f9-d279-6f67-53fe-a454-f698-e3a2-8647-6621-b098"
      },
      {
       "current": "86c0c1ea-d600-11e8-a64b-02420aff0006-20-9928-38de-0493-2eed-750d-8408-7bfd-a389-cffd-f7b6",
       "next": "d92a931a-5882-11ea-bd55-0242ac120002-17-7d38-2afd-60ed-7aae-d804-53cc-d59c-57ac-a6cf-2c80",
       "previous": "5940ca2e-b24a-11e7-a38f-0242ac120002-19-d279-6f67-53fe-a454-f698-e3a2-8647-6621-b098-5536"
      },
      {
       "current": "86c0c1ea-d600-11e8-a64b-02420aff0006-21-38de-0493-2eed-750d-8408-7bfd-a389-cffd-f7b6-1768",
       "next": "d92a931a-5882-11ea-bd55-0242ac120002-18-2afd-60ed-7aae-d804-53cc-d59c-57ac-a6cf-2c80-07f4",
       "previous": "5940ca2e-b24a-11e7-a38f-0242ac120002-20-6f67-53fe-a454-f698-e3a2-8647-6621-b098-5536-fa6f"
      }
     ],
     "next": "d92a931a-5882-11ea-bd55-0242ac120002-19-60ed-7aae-d804-53cc-d59c-57ac-a6cf-2c80-07f4-7721",
     "previous": "5940ca2e-b24a-11e7-a38f-0242ac120002-21-53fe-a454-f698-e3a2-8647-6621-b098-5536-fa6f-8a0a"
    },
    "scrolled": true
   },
   "outputs": [],
   "source": [
    "!ansible -b -m shell -a 'chdir=/etc/jupyterhub/ rm -f /exchange/config-jupyterhub.tar.gz && \\\n",
    "         tar czvf /exchange/config-jupyterhub.tar.gz .' {target_hub} -l {target_group}\n",
    "!ansible -b -m file -a 'path=/etc/jupyterhub state=absent' {target_nodes} -l {target_group}\n",
    "!ansible -b -m file -a 'path=/etc/jupyterhub state=directory' {target_nodes} -l {target_group}\n",
    "!ansible -b -m shell -a 'chdir=/etc/jupyterhub/ tar zxvf /exchange/config-jupyterhub.tar.gz' {target_nodes} -l {target_group}\n",
    "!ansible -b -m file -a 'path=/exchange/config-jupyterhub.tar.gz state=absent' {target_hub} -l {target_group}"
   ]
  },
  {
   "cell_type": "markdown",
   "metadata": {
    "lc_cell_meme": {
     "current": "d92a931a-5882-11ea-bd55-0242ac120002-19-60ed-7aae-d804-53cc-d59c-57ac-a6cf-2c80-07f4-7721",
     "history": [
      {
       "current": "d92a931a-5882-11ea-bd55-0242ac120002-15-916d-9bdf-7d38-2afd-60ed-7aae-d804-53cc-d59c-57ac",
       "next": "56e2c76e-208a-11e9-99c7-02420aff0008-16-256a-986e-9b7f-7b0d-4d92-35b4-12ed-ab66-c379-2498",
       "previous": "86c0c1ea-d600-11e8-a64b-02420aff0006-16-8f03-e282-0168-1f94-9928-38de-0493-2eed-750d-8408"
      },
      {
       "current": "d92a931a-5882-11ea-bd55-0242ac120002-16-9bdf-7d38-2afd-60ed-7aae-d804-53cc-d59c-57ac-a6cf",
       "next": "56e2c76e-208a-11e9-99c7-02420aff0008-17-986e-9b7f-7b0d-4d92-35b4-12ed-ab66-c379-2498-1af6",
       "previous": "86c0c1ea-d600-11e8-a64b-02420aff0006-17-e282-0168-1f94-9928-38de-0493-2eed-750d-8408-7bfd"
      },
      {
       "current": "d92a931a-5882-11ea-bd55-0242ac120002-17-7d38-2afd-60ed-7aae-d804-53cc-d59c-57ac-a6cf-2c80",
       "next": "56e2c76e-208a-11e9-99c7-02420aff0008-18-9b7f-7b0d-4d92-35b4-12ed-ab66-c379-2498-1af6-53fa",
       "previous": "86c0c1ea-d600-11e8-a64b-02420aff0006-18-0168-1f94-9928-38de-0493-2eed-750d-8408-7bfd-a389"
      },
      {
       "current": "d92a931a-5882-11ea-bd55-0242ac120002-18-2afd-60ed-7aae-d804-53cc-d59c-57ac-a6cf-2c80-07f4",
       "next": "56e2c76e-208a-11e9-99c7-02420aff0008-19-7b0d-4d92-35b4-12ed-ab66-c379-2498-1af6-53fa-a18a",
       "previous": "86c0c1ea-d600-11e8-a64b-02420aff0006-19-1f94-9928-38de-0493-2eed-750d-8408-7bfd-a389-cffd"
      },
      {
       "current": "d92a931a-5882-11ea-bd55-0242ac120002-19-60ed-7aae-d804-53cc-d59c-57ac-a6cf-2c80-07f4-7721",
       "next": "56e2c76e-208a-11e9-99c7-02420aff0008-20-4d92-35b4-12ed-ab66-c379-2498-1af6-53fa-a18a-79e0",
       "previous": "86c0c1ea-d600-11e8-a64b-02420aff0006-20-9928-38de-0493-2eed-750d-8408-7bfd-a389-cffd-f7b6"
      }
     ],
     "next": "56e2c76e-208a-11e9-99c7-02420aff0008-21-35b4-12ed-ab66-c379-2498-1af6-53fa-a18a-79e0-76fa",
     "previous": "86c0c1ea-d600-11e8-a64b-02420aff0006-21-38de-0493-2eed-750d-8408-7bfd-a389-cffd-f7b6-1768"
    }
   },
   "source": [
    "SimpleSAMLphp cronモジュールのトリガー用secret文字列を生成"
   ]
  },
  {
   "cell_type": "code",
   "execution_count": null,
   "metadata": {
    "lc_cell_meme": {
     "current": "56e2c76e-208a-11e9-99c7-02420aff0008-21-35b4-12ed-ab66-c379-2498-1af6-53fa-a18a-79e0-76fa",
     "execution_end_time": "2022-04-28T08:23:23.413509Z",
     "history": [
      {
       "current": "56e2c76e-208a-11e9-99c7-02420aff0008-17-986e-9b7f-7b0d-4d92-35b4-12ed-ab66-c379-2498-1af6",
       "next": "af7d6fc9-92df-11ec-864d-6b42dc3e1973",
       "previous": "d92a931a-5882-11ea-bd55-0242ac120002-14-04e6-916d-9bdf-7d38-2afd-60ed-7aae-d804-53cc-d59c"
      },
      {
       "current": "56e2c76e-208a-11e9-99c7-02420aff0008-18-9b7f-7b0d-4d92-35b4-12ed-ab66-c379-2498-1af6-53fa",
       "next": "af7d6fc9-92df-11ec-864d-6b42dc3e1973-1-20bc",
       "previous": "d92a931a-5882-11ea-bd55-0242ac120002-15-916d-9bdf-7d38-2afd-60ed-7aae-d804-53cc-d59c-57ac"
      },
      {
       "current": "56e2c76e-208a-11e9-99c7-02420aff0008-19-7b0d-4d92-35b4-12ed-ab66-c379-2498-1af6-53fa-a18a",
       "next": "af7d6fc9-92df-11ec-864d-6b42dc3e1973-2-20bc-5e0e",
       "previous": "d92a931a-5882-11ea-bd55-0242ac120002-16-9bdf-7d38-2afd-60ed-7aae-d804-53cc-d59c-57ac-a6cf"
      },
      {
       "current": "56e2c76e-208a-11e9-99c7-02420aff0008-20-4d92-35b4-12ed-ab66-c379-2498-1af6-53fa-a18a-79e0",
       "next": "af7d6fc9-92df-11ec-864d-6b42dc3e1973-3-20bc-5e0e-4ca6",
       "previous": "d92a931a-5882-11ea-bd55-0242ac120002-17-7d38-2afd-60ed-7aae-d804-53cc-d59c-57ac-a6cf-2c80"
      },
      {
       "current": "56e2c76e-208a-11e9-99c7-02420aff0008-21-35b4-12ed-ab66-c379-2498-1af6-53fa-a18a-79e0-76fa",
       "next": "af7d6fc9-92df-11ec-864d-6b42dc3e1973-4-20bc-5e0e-4ca6-19ae",
       "previous": "d92a931a-5882-11ea-bd55-0242ac120002-18-2afd-60ed-7aae-d804-53cc-d59c-57ac-a6cf-2c80-07f4"
      }
     ],
     "next": "af7d6fc9-92df-11ec-864d-6b42dc3e1973-5-20bc-5e0e-4ca6-19ae-7be6",
     "previous": "d92a931a-5882-11ea-bd55-0242ac120002-19-60ed-7aae-d804-53cc-d59c-57ac-a6cf-2c80-07f4-7721"
    }
   },
   "outputs": [],
   "source": [
    "import random\n",
    "import string\n",
    "cron_secret = ''.join([random.choice(\"abcdef\" + string.digits) for _ in range(32)])\n",
    "cron_secret"
   ]
  },
  {
   "cell_type": "markdown",
   "metadata": {
    "lc_cell_meme": {
     "current": "af7d6fc9-92df-11ec-864d-6b42dc3e1973-5-20bc-5e0e-4ca6-19ae-7be6",
     "history": [
      {
       "current": "af7d6fc9-92df-11ec-864d-6b42dc3e1973-1-20bc",
       "next": "cd17d9c0-92e0-11ec-9efd-6b42dc3e1973",
       "previous": "56e2c76e-208a-11e9-99c7-02420aff0008-16-256a-986e-9b7f-7b0d-4d92-35b4-12ed-ab66-c379-2498"
      },
      {
       "current": "af7d6fc9-92df-11ec-864d-6b42dc3e1973-2-20bc-5e0e",
       "next": "cd17d9c0-92e0-11ec-9efd-6b42dc3e1973-1-c0ea",
       "previous": "56e2c76e-208a-11e9-99c7-02420aff0008-17-986e-9b7f-7b0d-4d92-35b4-12ed-ab66-c379-2498-1af6"
      },
      {
       "current": "af7d6fc9-92df-11ec-864d-6b42dc3e1973-3-20bc-5e0e-4ca6",
       "next": "cd17d9c0-92e0-11ec-9efd-6b42dc3e1973-2-c0ea-e385",
       "previous": "56e2c76e-208a-11e9-99c7-02420aff0008-18-9b7f-7b0d-4d92-35b4-12ed-ab66-c379-2498-1af6-53fa"
      },
      {
       "current": "af7d6fc9-92df-11ec-864d-6b42dc3e1973-4-20bc-5e0e-4ca6-19ae",
       "next": "cd17d9c0-92e0-11ec-9efd-6b42dc3e1973-3-c0ea-e385-b3ab",
       "previous": "56e2c76e-208a-11e9-99c7-02420aff0008-19-7b0d-4d92-35b4-12ed-ab66-c379-2498-1af6-53fa-a18a"
      },
      {
       "current": "af7d6fc9-92df-11ec-864d-6b42dc3e1973-5-20bc-5e0e-4ca6-19ae-7be6",
       "next": "cd17d9c0-92e0-11ec-9efd-6b42dc3e1973-4-c0ea-e385-b3ab-ebca",
       "previous": "56e2c76e-208a-11e9-99c7-02420aff0008-20-4d92-35b4-12ed-ab66-c379-2498-1af6-53fa-a18a-79e0"
      }
     ],
     "next": "cd17d9c0-92e0-11ec-9efd-6b42dc3e1973-5-c0ea-e385-b3ab-ebca-41d0",
     "previous": "56e2c76e-208a-11e9-99c7-02420aff0008-21-35b4-12ed-ab66-c379-2498-1af6-53fa-a18a-79e0-76fa"
    }
   },
   "source": [
    "# サービスの起動\n",
    "\n",
    "サービスはdocker-compose.ymlで定義し、docker stackコマンドで起動します。"
   ]
  },
  {
   "cell_type": "markdown",
   "metadata": {
    "lc_cell_meme": {
     "current": "cd17d9c0-92e0-11ec-9efd-6b42dc3e1973-5-c0ea-e385-b3ab-ebca-41d0",
     "history": [
      {
       "current": "cd17d9c0-92e0-11ec-9efd-6b42dc3e1973-1-c0ea",
       "next": "cd17dc3b-92e0-11ec-80dd-6b42dc3e1973",
       "previous": "af7d6fc9-92df-11ec-864d-6b42dc3e1973"
      },
      {
       "current": "cd17d9c0-92e0-11ec-9efd-6b42dc3e1973-2-c0ea-e385",
       "next": "cd17dc3b-92e0-11ec-80dd-6b42dc3e1973-1-e494",
       "previous": "af7d6fc9-92df-11ec-864d-6b42dc3e1973-1-20bc"
      },
      {
       "current": "cd17d9c0-92e0-11ec-9efd-6b42dc3e1973-3-c0ea-e385-b3ab",
       "next": "cd17dc3b-92e0-11ec-80dd-6b42dc3e1973-2-e494-94ca",
       "previous": "af7d6fc9-92df-11ec-864d-6b42dc3e1973-2-20bc-5e0e"
      },
      {
       "current": "cd17d9c0-92e0-11ec-9efd-6b42dc3e1973-4-c0ea-e385-b3ab-ebca",
       "next": "cd17dc3b-92e0-11ec-80dd-6b42dc3e1973-3-e494-94ca-919d",
       "previous": "af7d6fc9-92df-11ec-864d-6b42dc3e1973-3-20bc-5e0e-4ca6"
      },
      {
       "current": "cd17d9c0-92e0-11ec-9efd-6b42dc3e1973-5-c0ea-e385-b3ab-ebca-41d0",
       "next": "cd17dc3b-92e0-11ec-80dd-6b42dc3e1973-4-e494-94ca-919d-94c3",
       "previous": "af7d6fc9-92df-11ec-864d-6b42dc3e1973-4-20bc-5e0e-4ca6-19ae"
      }
     ],
     "next": "cd17dc3b-92e0-11ec-80dd-6b42dc3e1973-5-e494-94ca-919d-94c3-593d",
     "previous": "af7d6fc9-92df-11ec-864d-6b42dc3e1973-5-20bc-5e0e-4ca6-19ae-7be6"
    }
   },
   "source": [
    "配備先のディレクトリを準備"
   ]
  },
  {
   "cell_type": "code",
   "execution_count": null,
   "metadata": {
    "lc_cell_meme": {
     "current": "cd17dc3b-92e0-11ec-80dd-6b42dc3e1973-5-e494-94ca-919d-94c3-593d",
     "execution_end_time": "2022-04-28T08:23:46.444488Z",
     "history": [
      {
       "current": "cd17dc3b-92e0-11ec-80dd-6b42dc3e1973-1-e494",
       "next": "cd17dd64-92e0-11ec-a962-6b42dc3e1973",
       "previous": "cd17d9c0-92e0-11ec-9efd-6b42dc3e1973"
      },
      {
       "current": "cd17dc3b-92e0-11ec-80dd-6b42dc3e1973-2-e494-94ca",
       "next": "cd17dd64-92e0-11ec-a962-6b42dc3e1973-1-29a9",
       "previous": "cd17d9c0-92e0-11ec-9efd-6b42dc3e1973-1-c0ea"
      },
      {
       "current": "cd17dc3b-92e0-11ec-80dd-6b42dc3e1973-3-e494-94ca-919d",
       "next": "cd17dd64-92e0-11ec-a962-6b42dc3e1973-2-29a9-ceb8",
       "previous": "cd17d9c0-92e0-11ec-9efd-6b42dc3e1973-2-c0ea-e385"
      },
      {
       "current": "cd17dc3b-92e0-11ec-80dd-6b42dc3e1973-4-e494-94ca-919d-94c3",
       "next": "cd17dd64-92e0-11ec-a962-6b42dc3e1973-3-29a9-ceb8-1e07",
       "previous": "cd17d9c0-92e0-11ec-9efd-6b42dc3e1973-3-c0ea-e385-b3ab"
      },
      {
       "current": "cd17dc3b-92e0-11ec-80dd-6b42dc3e1973-5-e494-94ca-919d-94c3-593d",
       "next": "cd17dd64-92e0-11ec-a962-6b42dc3e1973-4-29a9-ceb8-1e07-c801",
       "previous": "cd17d9c0-92e0-11ec-9efd-6b42dc3e1973-4-c0ea-e385-b3ab-ebca"
      }
     ],
     "next": "cd17dd64-92e0-11ec-a962-6b42dc3e1973-5-29a9-ceb8-1e07-c801-1d7f",
     "previous": "cd17d9c0-92e0-11ec-9efd-6b42dc3e1973-5-c0ea-e385-b3ab-ebca-41d0"
    }
   },
   "outputs": [],
   "source": [
    "!ansible -b -m file -a 'dest=/opt/coursewarehub state=directory' {target_hub} -l {target_group}"
   ]
  },
  {
   "cell_type": "markdown",
   "metadata": {
    "lc_cell_meme": {
     "current": "cd17dd64-92e0-11ec-a962-6b42dc3e1973-5-29a9-ceb8-1e07-c801-1d7f",
     "history": [
      {
       "current": "cd17dd64-92e0-11ec-a962-6b42dc3e1973-1-29a9",
       "next": "74f5ddee-e639-11e8-af4c-21bc3571b6b2-17-c685-39f2-3787-ee34-d778-e338-cd17-75ea-6332-6672",
       "previous": "cd17dc3b-92e0-11ec-80dd-6b42dc3e1973"
      },
      {
       "current": "cd17dd64-92e0-11ec-a962-6b42dc3e1973-2-29a9-ceb8",
       "next": "74f5ddee-e639-11e8-af4c-21bc3571b6b2-18-39f2-3787-ee34-d778-e338-cd17-75ea-6332-6672-f9da",
       "previous": "cd17dc3b-92e0-11ec-80dd-6b42dc3e1973-1-e494"
      },
      {
       "current": "cd17dd64-92e0-11ec-a962-6b42dc3e1973-3-29a9-ceb8-1e07",
       "next": "74f5ddee-e639-11e8-af4c-21bc3571b6b2-19-3787-ee34-d778-e338-cd17-75ea-6332-6672-f9da-798f",
       "previous": "cd17dc3b-92e0-11ec-80dd-6b42dc3e1973-2-e494-94ca"
      },
      {
       "current": "cd17dd64-92e0-11ec-a962-6b42dc3e1973-4-29a9-ceb8-1e07-c801",
       "next": "74f5ddee-e639-11e8-af4c-21bc3571b6b2-20-ee34-d778-e338-cd17-75ea-6332-6672-f9da-798f-e5db",
       "previous": "cd17dc3b-92e0-11ec-80dd-6b42dc3e1973-3-e494-94ca-919d"
      },
      {
       "current": "cd17dd64-92e0-11ec-a962-6b42dc3e1973-5-29a9-ceb8-1e07-c801-1d7f",
       "next": "74f5ddee-e639-11e8-af4c-21bc3571b6b2-21-d778-e338-cd17-75ea-6332-6672-f9da-798f-e5db-13bc",
       "previous": "cd17dc3b-92e0-11ec-80dd-6b42dc3e1973-4-e494-94ca-919d-94c3"
      }
     ],
     "next": "74f5ddee-e639-11e8-af4c-21bc3571b6b2-22-e338-cd17-75ea-6332-6672-f9da-798f-e5db-13bc-9feb",
     "previous": "cd17dc3b-92e0-11ec-80dd-6b42dc3e1973-5-e494-94ca-919d-94c3-593d"
    }
   },
   "source": [
    "## docker-compose.ymlの生成"
   ]
  },
  {
   "cell_type": "markdown",
   "metadata": {
    "lc_cell_meme": {
     "current": "74f5ddee-e639-11e8-af4c-21bc3571b6b2-22-e338-cd17-75ea-6332-6672-f9da-798f-e5db-13bc-9feb",
     "history": [
      {
       "current": "74f5ddee-e639-11e8-af4c-21bc3571b6b2-18-39f2-3787-ee34-d778-e338-cd17-75ea-6332-6672-f9da",
       "next": "d7fcf209-9304-11ec-bcd1-6b42dc3e1973",
       "previous": "cd17dd64-92e0-11ec-a962-6b42dc3e1973"
      },
      {
       "current": "74f5ddee-e639-11e8-af4c-21bc3571b6b2-19-3787-ee34-d778-e338-cd17-75ea-6332-6672-f9da-798f",
       "next": "d7fcf209-9304-11ec-bcd1-6b42dc3e1973-1-d784",
       "previous": "cd17dd64-92e0-11ec-a962-6b42dc3e1973-1-29a9"
      },
      {
       "current": "74f5ddee-e639-11e8-af4c-21bc3571b6b2-20-ee34-d778-e338-cd17-75ea-6332-6672-f9da-798f-e5db",
       "next": "d7fcf209-9304-11ec-bcd1-6b42dc3e1973-2-d784-af72",
       "previous": "cd17dd64-92e0-11ec-a962-6b42dc3e1973-2-29a9-ceb8"
      },
      {
       "current": "74f5ddee-e639-11e8-af4c-21bc3571b6b2-21-d778-e338-cd17-75ea-6332-6672-f9da-798f-e5db-13bc",
       "next": "d7fcf209-9304-11ec-bcd1-6b42dc3e1973-3-d784-af72-ef01",
       "previous": "cd17dd64-92e0-11ec-a962-6b42dc3e1973-3-29a9-ceb8-1e07"
      },
      {
       "current": "74f5ddee-e639-11e8-af4c-21bc3571b6b2-22-e338-cd17-75ea-6332-6672-f9da-798f-e5db-13bc-9feb",
       "next": "d7fcf209-9304-11ec-bcd1-6b42dc3e1973-4-d784-af72-ef01-9c6a",
       "previous": "cd17dd64-92e0-11ec-a962-6b42dc3e1973-4-29a9-ceb8-1e07-c801"
      }
     ],
     "next": "d7fcf209-9304-11ec-bcd1-6b42dc3e1973-5-d784-af72-ef01-9c6a-b948",
     "previous": "cd17dd64-92e0-11ec-a962-6b42dc3e1973-5-29a9-ceb8-1e07-c801-1d7f"
    }
   },
   "source": [
    "> *MEMO auth-proxy内でFQDNでProxyをしたくなる箇所があるようなので、container中からhost NICに迂回しないようhost mappingを追加*"
   ]
  },
  {
   "cell_type": "markdown",
   "metadata": {
    "lc_cell_meme": {
     "current": "d7fcf209-9304-11ec-bcd1-6b42dc3e1973-5-d784-af72-ef01-9c6a-b948",
     "history": [
      {
       "current": "d7fcf209-9304-11ec-bcd1-6b42dc3e1973-1-d784",
       "next": "32bf0bb1-92e2-11ec-9e7f-6b42dc3e1973",
       "previous": "74f5ddee-e639-11e8-af4c-21bc3571b6b2-17-c685-39f2-3787-ee34-d778-e338-cd17-75ea-6332-6672"
      },
      {
       "current": "d7fcf209-9304-11ec-bcd1-6b42dc3e1973-2-d784-af72",
       "next": "32bf0bb1-92e2-11ec-9e7f-6b42dc3e1973-1-cf80",
       "previous": "74f5ddee-e639-11e8-af4c-21bc3571b6b2-18-39f2-3787-ee34-d778-e338-cd17-75ea-6332-6672-f9da"
      },
      {
       "current": "d7fcf209-9304-11ec-bcd1-6b42dc3e1973-3-d784-af72-ef01",
       "next": "32bf0bb1-92e2-11ec-9e7f-6b42dc3e1973-2-cf80-8f72",
       "previous": "74f5ddee-e639-11e8-af4c-21bc3571b6b2-19-3787-ee34-d778-e338-cd17-75ea-6332-6672-f9da-798f"
      },
      {
       "current": "d7fcf209-9304-11ec-bcd1-6b42dc3e1973-4-d784-af72-ef01-9c6a",
       "next": "32bf0bb1-92e2-11ec-9e7f-6b42dc3e1973-3-cf80-8f72-3f05",
       "previous": "74f5ddee-e639-11e8-af4c-21bc3571b6b2-20-ee34-d778-e338-cd17-75ea-6332-6672-f9da-798f-e5db"
      },
      {
       "current": "d7fcf209-9304-11ec-bcd1-6b42dc3e1973-5-d784-af72-ef01-9c6a-b948",
       "next": "32bf0bb1-92e2-11ec-9e7f-6b42dc3e1973-4-cf80-8f72-3f05-6173",
       "previous": "74f5ddee-e639-11e8-af4c-21bc3571b6b2-21-d778-e338-cd17-75ea-6332-6672-f9da-798f-e5db-13bc"
      }
     ],
     "next": "32bf0bb1-92e2-11ec-9e7f-6b42dc3e1973-5-cf80-8f72-3f05-6173-c20a",
     "previous": "74f5ddee-e639-11e8-af4c-21bc3571b6b2-22-e338-cd17-75ea-6332-6672-f9da-798f-e5db-13bc-9feb"
    }
   },
   "source": [
    "あらかじめ定義されたAnsibleの変数から生成します。\n",
    "\n",
    "まず、テンプレートを用意します。"
   ]
  },
  {
   "cell_type": "code",
   "execution_count": null,
   "metadata": {
    "lc_cell_meme": {
     "current": "32bf0bb1-92e2-11ec-9e7f-6b42dc3e1973-5-cf80-8f72-3f05-6173-c20a",
     "execution_end_time": "2022-04-28T08:27:01.108479Z",
     "history": [
      {
       "current": "32bf0bb1-92e2-11ec-9e7f-6b42dc3e1973-1-cf80",
       "next": "32bf0eac-92e2-11ec-8f97-6b42dc3e1973",
       "previous": "d7fcf209-9304-11ec-bcd1-6b42dc3e1973"
      },
      {
       "current": "32bf0bb1-92e2-11ec-9e7f-6b42dc3e1973-2-cf80-8f72",
       "next": "32bf0eac-92e2-11ec-8f97-6b42dc3e1973-1-c393",
       "previous": "d7fcf209-9304-11ec-bcd1-6b42dc3e1973-1-d784"
      },
      {
       "current": "32bf0bb1-92e2-11ec-9e7f-6b42dc3e1973-3-cf80-8f72-3f05",
       "next": "32bf0eac-92e2-11ec-8f97-6b42dc3e1973-2-c393-5f65",
       "previous": "d7fcf209-9304-11ec-bcd1-6b42dc3e1973-2-d784-af72"
      },
      {
       "current": "32bf0bb1-92e2-11ec-9e7f-6b42dc3e1973-4-cf80-8f72-3f05-6173",
       "next": "32bf0eac-92e2-11ec-8f97-6b42dc3e1973-3-c393-5f65-1b9a",
       "previous": "d7fcf209-9304-11ec-bcd1-6b42dc3e1973-3-d784-af72-ef01"
      },
      {
       "current": "32bf0bb1-92e2-11ec-9e7f-6b42dc3e1973-5-cf80-8f72-3f05-6173-c20a",
       "next": "32bf0eac-92e2-11ec-8f97-6b42dc3e1973-4-c393-5f65-1b9a-6944",
       "previous": "d7fcf209-9304-11ec-bcd1-6b42dc3e1973-4-d784-af72-ef01-9c6a"
      }
     ],
     "next": "32bf0eac-92e2-11ec-8f97-6b42dc3e1973-5-c393-5f65-1b9a-6944-7336",
     "previous": "d7fcf209-9304-11ec-bcd1-6b42dc3e1973-5-d784-af72-ef01-9c6a-b948"
    }
   },
   "outputs": [],
   "source": [
    "import os\n",
    "\n",
    "docker_compose_j2_path = os.path.join(work_dir, 'docker-compose.yml.j2')\n",
    "\n",
    "with open(docker_compose_j2_path, 'w') as f:\n",
    "    f.write('''\n",
    "version: '3.8'    \n",
    "services:\n",
    "  auth-proxy:\n",
    "    deploy:\n",
    "      placement:\n",
    "        constraints:\n",
    "        - node.role==manager\n",
    "      replicas: 1\n",
    "    depends_on:\n",
    "      - jupyterhub\n",
    "    healthcheck:\n",
    "      test: [\"CMD\", \"curl\", \"-k\", \"-f\", \"https://localhost/php/login.php\"]\n",
    "      interval: 30s\n",
    "      timeout: 3s\n",
    "      retries: 3\n",
    "      start_period: 5s\n",
    "    environment:\n",
    "      AUTH_FQDN: \"{{ auth_fqdn }}\"\n",
    "      CRON_SECRET: \"{{ cron_secret }}\"\n",
    "      HUB_NAME: jupyterhub\n",
    "      MASTER_FQDN: \"{{ master_fqdn }}\"\n",
    "    extra_hosts:\n",
    "    - {{ master_fqdn }}:127.0.0.2\n",
    "    hostname: auth-proxy\n",
    "    image: \"{{ auth_proxy_image }}\"\n",
    "    networks:\n",
    "    - backend\n",
    "    ports:\n",
    "    - 80:80\n",
    "    - 443:443\n",
    "    volumes:\n",
    "    - read_only: true\n",
    "      source: /etc/jupyterhub/nginx/certs\n",
    "      target: /etc/nginx/certs\n",
    "      type: bind\n",
    "    - read_only: true\n",
    "      source: /etc/jupyterhub/hub-const.php\n",
    "      target: /var/www/lib/hub-const.php\n",
    "      type: bind\n",
    "    - read_only: true\n",
    "      source: /etc/jupyterhub/lti/private.key\n",
    "      target: /var/www/lib/lti/private.key\n",
    "      type: bind\n",
    "    - read_only: true\n",
    "      source: /etc/jupyterhub/lti/lti.json\n",
    "      target: /var/www/lib/lti/configs/lti.json\n",
    "      type: bind\n",
    "    - read_only: true\n",
    "      source: /etc/jupyterhub/simplesamlphp/metadata/xml\n",
    "      target: /var/www/simplesamlphp/metadata/xml\n",
    "      type: bind\n",
    "    - read_only: true\n",
    "      source: /etc/jupyterhub/simplesamlphp/cert\n",
    "      target: /var/www/simplesamlphp/cert\n",
    "      type: bind\n",
    "  jupyterhub:\n",
    "    deploy:\n",
    "      placement:\n",
    "        constraints:\n",
    "        - node.role==manager\n",
    "      replicas: 1\n",
    "    depends_on:\n",
    "      - postgres\n",
    "    environment:\n",
    "      BACKEND_NETWORK: courseware-backend\n",
    "      CONCURRENT_SPAWN_LIMIT: \"{{ concurrent_spawn_limit | default('20')}}\"\n",
    "      CONTAINER_IMAGE: niicloudoperation/jupyterhub-singleuser\n",
    "{% if cull_server is defined %}\n",
    "      CULL_SERVER: '{{ cull_server }}'\n",
    "{% endif %}\n",
    "{% if cull_server_every is defined %}\n",
    "      CULL_SERVER_EVERY: '{{ cull_server_every }}'\n",
    "{% endif %}\n",
    "{% if cull_server_idle_timeout is defined %}\n",
    "      CULL_SERVER_IDLE_TIMEOUT: '{{ cull_server_idle_timeout }}'\n",
    "{% endif %}\n",
    "{% if cull_server_max_age is defined %}\n",
    "      CULL_SERVER_MAX_AGE: '{{ cull_server_max_age }}'\n",
    "{% endif %}\n",
    "      DEBUG: 'yes'\n",
    "      POSTGRES_ENV_JPY_PSQL_PASSWORD: \"{{ db_pass }}\"\n",
    "      POSTGRES_ENV_JPY_PSQL_USER: {{ db_user }}\n",
    "      POSTGRES_PORT_5432_TCP_ADDR: 'postgres'\n",
    "      RESOURCE_ALLOCATION_FILE: /srv/jupyterhub/resource.yaml\n",
    "      SPAWNER_CONSTRAINTS: node.role==worker\n",
    "      SPAWNER_HTTP_TIMEOUT: \"{{ spawner_http_timeout | default('120') }}\"\n",
    "      SPAWNER_RESTART_MAX_ATTEMPTS: \"{{ spawner_restart_max_attempts | default('5') }}\"\n",
    "      SPAWNER_START_TIMEOUT: \"{{ spawner_start_timeout | default('60') }}\"\n",
    "{% if jupyterhub_singleuser_app is defined %}\n",
    "      JUPYTERHUB_SINGLEUSER_APP: '{{ jupyterhub_singleuser_app }}'\n",
    "{% endif %}\n",
    "    hostname: jupyterhub\n",
    "    image: {{ jupyterhub_image }}\n",
    "    networks:\n",
    "    - backend\n",
    "    ports:\n",
    "    - 8000:8000\n",
    "    - 8081:8081\n",
    "    volumes:\n",
    "    - source: /var/run/docker.sock\n",
    "      target: /var/run/docker.sock\n",
    "      type: bind\n",
    "    - source: /var/run/restuser.sock\n",
    "      target: /var/run/restuser.sock\n",
    "      type: bind\n",
    "    - read_only: true\n",
    "      source: /var/jupyterhub/logo.png\n",
    "      target: /var/jupyterhub/logo.png\n",
    "      type: bind\n",
    "    - read_only: true\n",
    "      source: /etc/jupyterhub/resource.yaml\n",
    "      target: /srv/jupyterhub/resource.yaml\n",
    "      type: bind\n",
    "    - read_only: true\n",
    "      source: /etc/jupyterhub/jupyterhub_config.d\n",
    "      target: /jupyterhub_config.d\n",
    "      type: bind\n",
    "  postgres:\n",
    "    deploy:\n",
    "      placement:\n",
    "        constraints:\n",
    "        - node.role==manager\n",
    "      replicas: 1\n",
    "    environment:\n",
    "      PGDATA: /var/lib/postgresql/data/pgdata\n",
    "      POSTGRES_DB: jupyterhub\n",
    "      POSTGRES_PASSWORD: \"{{ db_pass }}\"\n",
    "      POSTGRES_USER: {{ db_user }}\n",
    "    hostname: postgres\n",
    "    image: postgres:11\n",
    "    networks:\n",
    "    - backend\n",
    "    volumes:\n",
    "    - source: /jupyter/psql/data\n",
    "      target: /var/lib/postgresql/data\n",
    "      type: bind\n",
    "    - source: /jupyter/psql/create.sql\n",
    "      target: /docker-entrypoint-initdb.d/create.sql\n",
    "      type: bind\n",
    "networks:\n",
    "  backend:\n",
    "    external: true\n",
    "    name: courseware-backend\n",
    "'''.lstrip())"
   ]
  },
  {
   "cell_type": "code",
   "execution_count": null,
   "metadata": {
    "lc_cell_meme": {
     "current": "32bf0eac-92e2-11ec-8f97-6b42dc3e1973-5-c393-5f65-1b9a-6944-7336",
     "execution_end_time": "2022-04-28T08:27:04.259484Z",
     "history": [
      {
       "current": "32bf0eac-92e2-11ec-8f97-6b42dc3e1973-1-c393",
       "next": "d7fcf661-9304-11ec-83d0-6b42dc3e1973",
       "previous": "32bf0bb1-92e2-11ec-9e7f-6b42dc3e1973"
      },
      {
       "current": "32bf0eac-92e2-11ec-8f97-6b42dc3e1973-2-c393-5f65",
       "next": "d7fcf661-9304-11ec-83d0-6b42dc3e1973-1-36ae",
       "previous": "32bf0bb1-92e2-11ec-9e7f-6b42dc3e1973-1-cf80"
      },
      {
       "current": "32bf0eac-92e2-11ec-8f97-6b42dc3e1973-3-c393-5f65-1b9a",
       "next": "d7fcf661-9304-11ec-83d0-6b42dc3e1973-2-36ae-5610",
       "previous": "32bf0bb1-92e2-11ec-9e7f-6b42dc3e1973-2-cf80-8f72"
      },
      {
       "current": "32bf0eac-92e2-11ec-8f97-6b42dc3e1973-4-c393-5f65-1b9a-6944",
       "next": "d7fcf661-9304-11ec-83d0-6b42dc3e1973-3-36ae-5610-9447",
       "previous": "32bf0bb1-92e2-11ec-9e7f-6b42dc3e1973-3-cf80-8f72-3f05"
      },
      {
       "current": "32bf0eac-92e2-11ec-8f97-6b42dc3e1973-5-c393-5f65-1b9a-6944-7336",
       "next": "d7fcf661-9304-11ec-83d0-6b42dc3e1973-4-36ae-5610-9447-d32d",
       "previous": "32bf0bb1-92e2-11ec-9e7f-6b42dc3e1973-4-cf80-8f72-3f05-6173"
      }
     ],
     "next": "d7fcf661-9304-11ec-83d0-6b42dc3e1973-5-36ae-5610-9447-d32d-f52a",
     "previous": "32bf0bb1-92e2-11ec-9e7f-6b42dc3e1973-5-cf80-8f72-3f05-6173-c20a"
    }
   },
   "outputs": [],
   "source": [
    "!cat {docker_compose_j2_path}"
   ]
  },
  {
   "cell_type": "markdown",
   "metadata": {
    "lc_cell_meme": {
     "current": "d7fcf661-9304-11ec-83d0-6b42dc3e1973-5-36ae-5610-9447-d32d-f52a",
     "history": [
      {
       "current": "d7fcf661-9304-11ec-83d0-6b42dc3e1973-1-36ae",
       "next": "32bf0fd4-92e2-11ec-8430-6b42dc3e1973",
       "previous": "32bf0eac-92e2-11ec-8f97-6b42dc3e1973"
      },
      {
       "current": "d7fcf661-9304-11ec-83d0-6b42dc3e1973-2-36ae-5610",
       "next": "32bf0fd4-92e2-11ec-8430-6b42dc3e1973-1-7467",
       "previous": "32bf0eac-92e2-11ec-8f97-6b42dc3e1973-1-c393"
      },
      {
       "current": "d7fcf661-9304-11ec-83d0-6b42dc3e1973-3-36ae-5610-9447",
       "next": "32bf0fd4-92e2-11ec-8430-6b42dc3e1973-2-7467-7808",
       "previous": "32bf0eac-92e2-11ec-8f97-6b42dc3e1973-2-c393-5f65"
      },
      {
       "current": "d7fcf661-9304-11ec-83d0-6b42dc3e1973-4-36ae-5610-9447-d32d",
       "next": "32bf0fd4-92e2-11ec-8430-6b42dc3e1973-3-7467-7808-d36f",
       "previous": "32bf0eac-92e2-11ec-8f97-6b42dc3e1973-3-c393-5f65-1b9a"
      },
      {
       "current": "d7fcf661-9304-11ec-83d0-6b42dc3e1973-5-36ae-5610-9447-d32d-f52a",
       "next": "32bf0fd4-92e2-11ec-8430-6b42dc3e1973-4-7467-7808-d36f-81b9",
       "previous": "32bf0eac-92e2-11ec-8f97-6b42dc3e1973-4-c393-5f65-1b9a-6944"
      }
     ],
     "next": "32bf0fd4-92e2-11ec-8430-6b42dc3e1973-5-7467-7808-d36f-81b9-2c00",
     "previous": "32bf0eac-92e2-11ec-8f97-6b42dc3e1973-5-c393-5f65-1b9a-6944-7336"
    }
   },
   "source": [
    "テンプレートの展開、マスターノードへの配備を行います。"
   ]
  },
  {
   "cell_type": "code",
   "execution_count": null,
   "metadata": {
    "lc_cell_meme": {
     "current": "32bf0fd4-92e2-11ec-8430-6b42dc3e1973-5-7467-7808-d36f-81b9-2c00",
     "execution_end_time": "2022-04-28T08:27:14.107694Z",
     "history": [
      {
       "current": "32bf0fd4-92e2-11ec-8430-6b42dc3e1973-1-7467",
       "next": "32bf0fd4-92e2-11ec-8430-6b42dc3e1973-1-3003",
       "previous": "d7fcf661-9304-11ec-83d0-6b42dc3e1973"
      },
      {
       "current": "32bf0fd4-92e2-11ec-8430-6b42dc3e1973-2-7467-7808",
       "next": "32bf0fd4-92e2-11ec-8430-6b42dc3e1973-2-3003-403b",
       "previous": "d7fcf661-9304-11ec-83d0-6b42dc3e1973-1-36ae"
      },
      {
       "current": "32bf0fd4-92e2-11ec-8430-6b42dc3e1973-3-7467-7808-d36f",
       "next": "32bf0fd4-92e2-11ec-8430-6b42dc3e1973-3-3003-403b-8d7d",
       "previous": "d7fcf661-9304-11ec-83d0-6b42dc3e1973-2-36ae-5610"
      },
      {
       "current": "32bf0fd4-92e2-11ec-8430-6b42dc3e1973-4-7467-7808-d36f-81b9",
       "next": "32bf0fd4-92e2-11ec-8430-6b42dc3e1973-4-3003-403b-8d7d-9ade",
       "previous": "d7fcf661-9304-11ec-83d0-6b42dc3e1973-3-36ae-5610-9447"
      },
      {
       "current": "32bf0fd4-92e2-11ec-8430-6b42dc3e1973-5-7467-7808-d36f-81b9-2c00",
       "next": "32bf0fd4-92e2-11ec-8430-6b42dc3e1973-5-3003-403b-8d7d-9ade-b203",
       "previous": "d7fcf661-9304-11ec-83d0-6b42dc3e1973-4-36ae-5610-9447-d32d"
      }
     ],
     "next": "32bf0fd4-92e2-11ec-8430-6b42dc3e1973-6-3003-403b-8d7d-9ade-b203-5352",
     "previous": "d7fcf661-9304-11ec-83d0-6b42dc3e1973-5-36ae-5610-9447-d32d-f52a"
    }
   },
   "outputs": [],
   "source": [
    "!ansible -CDv -b --extra-vars \"db_user={db_user} db_pass={db_pass} cron_secret={cron_secret}\" -m template \\\n",
    "    -a 'src={docker_compose_j2_path} dest=/opt/coursewarehub/docker-compose.yml' {target_hub} -l {target_group}"
   ]
  },
  {
   "cell_type": "code",
   "execution_count": null,
   "metadata": {
    "lc_cell_meme": {
     "current": "32bf0fd4-92e2-11ec-8430-6b42dc3e1973-6-3003-403b-8d7d-9ade-b203-5352",
     "execution_end_time": "2022-04-28T08:27:18.667805Z",
     "history": [
      {
       "current": "32bf0fd4-92e2-11ec-8430-6b42dc3e1973-2-3003-403b",
       "next": "bdf755fa-92e9-11ec-99d1-6b42dc3e1973",
       "previous": "32bf0fd4-92e2-11ec-8430-6b42dc3e1973"
      },
      {
       "current": "32bf0fd4-92e2-11ec-8430-6b42dc3e1973-3-3003-403b-8d7d",
       "next": "bdf755fa-92e9-11ec-99d1-6b42dc3e1973-1-64df",
       "previous": "32bf0fd4-92e2-11ec-8430-6b42dc3e1973-1-7467"
      },
      {
       "current": "32bf0fd4-92e2-11ec-8430-6b42dc3e1973-4-3003-403b-8d7d-9ade",
       "next": "bdf755fa-92e9-11ec-99d1-6b42dc3e1973-2-64df-64ae",
       "previous": "32bf0fd4-92e2-11ec-8430-6b42dc3e1973-2-7467-7808"
      },
      {
       "current": "32bf0fd4-92e2-11ec-8430-6b42dc3e1973-5-3003-403b-8d7d-9ade-b203",
       "next": "bdf755fa-92e9-11ec-99d1-6b42dc3e1973-3-64df-64ae-1b9a",
       "previous": "32bf0fd4-92e2-11ec-8430-6b42dc3e1973-3-7467-7808-d36f"
      },
      {
       "current": "32bf0fd4-92e2-11ec-8430-6b42dc3e1973-6-3003-403b-8d7d-9ade-b203-5352",
       "next": "bdf755fa-92e9-11ec-99d1-6b42dc3e1973-4-64df-64ae-1b9a-b357",
       "previous": "32bf0fd4-92e2-11ec-8430-6b42dc3e1973-4-7467-7808-d36f-81b9"
      }
     ],
     "next": "bdf755fa-92e9-11ec-99d1-6b42dc3e1973-5-64df-64ae-1b9a-b357-c612",
     "previous": "32bf0fd4-92e2-11ec-8430-6b42dc3e1973-5-7467-7808-d36f-81b9-2c00"
    }
   },
   "outputs": [],
   "source": [
    "!ansible -b --extra-vars \"db_user={db_user} db_pass={db_pass} cron_secret={cron_secret}\" -m template \\\n",
    "    -a 'src={docker_compose_j2_path} dest=/opt/coursewarehub/docker-compose.yml' {target_hub} -l {target_group}"
   ]
  },
  {
   "cell_type": "markdown",
   "metadata": {
    "lc_cell_meme": {
     "current": "bdf755fa-92e9-11ec-99d1-6b42dc3e1973-5-64df-64ae-1b9a-b357-c612",
     "history": [
      {
       "current": "bdf755fa-92e9-11ec-99d1-6b42dc3e1973-1-64df",
       "next": "bdf75ac4-92e9-11ec-b4bf-6b42dc3e1973-1-10db",
       "previous": "32bf0fd4-92e2-11ec-8430-6b42dc3e1973-2-3003-403b"
      },
      {
       "current": "bdf755fa-92e9-11ec-99d1-6b42dc3e1973-2-64df-64ae",
       "next": "50c2a26c-9a27-11ec-9c01-0242ac120002",
       "previous": "32bf0fd4-92e2-11ec-8430-6b42dc3e1973-2-3003-403b"
      },
      {
       "current": "bdf755fa-92e9-11ec-99d1-6b42dc3e1973-3-64df-64ae-1b9a",
       "next": "50c2a26c-9a27-11ec-9c01-0242ac120002-1-3ed2",
       "previous": "32bf0fd4-92e2-11ec-8430-6b42dc3e1973-3-3003-403b-8d7d"
      },
      {
       "current": "bdf755fa-92e9-11ec-99d1-6b42dc3e1973-4-64df-64ae-1b9a-b357",
       "next": "50c2a26c-9a27-11ec-9c01-0242ac120002-2-3ed2-240a",
       "previous": "32bf0fd4-92e2-11ec-8430-6b42dc3e1973-4-3003-403b-8d7d-9ade"
      },
      {
       "current": "bdf755fa-92e9-11ec-99d1-6b42dc3e1973-5-64df-64ae-1b9a-b357-c612",
       "next": "50c2a26c-9a27-11ec-9c01-0242ac120002-3-3ed2-240a-9f05",
       "previous": "32bf0fd4-92e2-11ec-8430-6b42dc3e1973-5-3003-403b-8d7d-9ade-b203"
      }
     ],
     "next": "50c2a26c-9a27-11ec-9c01-0242ac120002-4-3ed2-240a-9f05-2ceb",
     "previous": "32bf0fd4-92e2-11ec-8430-6b42dc3e1973-6-3003-403b-8d7d-9ade-b203-5352"
    }
   },
   "source": [
    "## 起動\n",
    "\n",
    "配備したdocker-compose.ymlを使用して、サービスを起動します。"
   ]
  },
  {
   "cell_type": "code",
   "execution_count": null,
   "metadata": {
    "lc_cell_meme": {
     "current": "50c2a26c-9a27-11ec-9c01-0242ac120002-4-3ed2-240a-9f05-2ceb",
     "execution_end_time": "2022-04-28T08:33:58.461008Z",
     "history": [
      {
       "current": "50c2a26c-9a27-11ec-9c01-0242ac120002-1-3ed2",
       "next": "50c2a346-9a27-11ec-b860-0242ac120002",
       "previous": "bdf755fa-92e9-11ec-99d1-6b42dc3e1973-1-64df"
      },
      {
       "current": "50c2a26c-9a27-11ec-9c01-0242ac120002-2-3ed2-240a",
       "next": "50c2a346-9a27-11ec-b860-0242ac120002-1-d031",
       "previous": "bdf755fa-92e9-11ec-99d1-6b42dc3e1973-2-64df-64ae"
      },
      {
       "current": "50c2a26c-9a27-11ec-9c01-0242ac120002-3-3ed2-240a-9f05",
       "next": "50c2a346-9a27-11ec-b860-0242ac120002-2-d031-7795",
       "previous": "bdf755fa-92e9-11ec-99d1-6b42dc3e1973-3-64df-64ae-1b9a"
      },
      {
       "current": "50c2a26c-9a27-11ec-9c01-0242ac120002-4-3ed2-240a-9f05-2ceb",
       "next": "50c2a346-9a27-11ec-b860-0242ac120002-3-d031-7795-4e22",
       "previous": "bdf755fa-92e9-11ec-99d1-6b42dc3e1973-4-64df-64ae-1b9a-b357"
      }
     ],
     "next": "50c2a346-9a27-11ec-b860-0242ac120002-4-d031-7795-4e22-17f0",
     "previous": "bdf755fa-92e9-11ec-99d1-6b42dc3e1973-5-64df-64ae-1b9a-b357-c612"
    }
   },
   "outputs": [],
   "source": [
    "!ansible -b -a 'docker pull {{{{ auth_proxy_image }}}}' {target_hub} -l {target_group}"
   ]
  },
  {
   "cell_type": "code",
   "execution_count": null,
   "metadata": {
    "lc_cell_meme": {
     "current": "50c2a346-9a27-11ec-b860-0242ac120002-4-d031-7795-4e22-17f0",
     "execution_end_time": "2022-04-28T08:34:28.851349Z",
     "history": [
      {
       "current": "50c2a346-9a27-11ec-b860-0242ac120002-1-d031",
       "next": "bdf75ac4-92e9-11ec-b4bf-6b42dc3e1973-2-10db-0935",
       "previous": "50c2a26c-9a27-11ec-9c01-0242ac120002-1-3ed2"
      },
      {
       "current": "50c2a346-9a27-11ec-b860-0242ac120002-2-d031-7795",
       "next": "f37ed542-c08f-11ec-8fb6-0242ac120004",
       "previous": "50c2a26c-9a27-11ec-9c01-0242ac120002-1-3ed2"
      },
      {
       "current": "50c2a346-9a27-11ec-b860-0242ac120002-2-d031-7795",
       "next": "f37ed542-c08f-11ec-8fb6-0242ac120004-1-8591",
       "previous": "50c2a26c-9a27-11ec-9c01-0242ac120002-2-3ed2-240a"
      },
      {
       "current": "50c2a346-9a27-11ec-b860-0242ac120002-3-d031-7795-4e22",
       "next": "bdf75ac4-92e9-11ec-b4bf-6b42dc3e1973-3-10db-0935-9ff9",
       "previous": "50c2a26c-9a27-11ec-9c01-0242ac120002-2-3ed2-240a"
      },
      {
       "current": "50c2a346-9a27-11ec-b860-0242ac120002-4-d031-7795-4e22-17f0",
       "next": "bdf75ac4-92e9-11ec-b4bf-6b42dc3e1973-4-10db-0935-9ff9-8b57",
       "previous": "50c2a26c-9a27-11ec-9c01-0242ac120002-3-3ed2-240a-9f05"
      }
     ],
     "next": "bdf75ac4-92e9-11ec-b4bf-6b42dc3e1973-5-10db-0935-9ff9-8b57-a33b",
     "previous": "50c2a26c-9a27-11ec-9c01-0242ac120002-4-3ed2-240a-9f05-2ceb"
    }
   },
   "outputs": [],
   "source": [
    "!ansible -b -a 'docker pull {{{{ jupyterhub_image }}}}' {target_hub} -l {target_group}"
   ]
  },
  {
   "cell_type": "code",
   "execution_count": null,
   "metadata": {
    "lc_cell_meme": {
     "current": "bdf75ac4-92e9-11ec-b4bf-6b42dc3e1973-5-10db-0935-9ff9-8b57-a33b",
     "execution_end_time": "2022-04-28T08:38:31.669285Z",
     "history": [
      {
       "current": "bdf75ac4-92e9-11ec-b4bf-6b42dc3e1973-2-10db-0935",
       "next": "bdf75cdb-92e9-11ec-8bcd-6b42dc3e1973-2-e145-b7a2",
       "previous": "f37ed542-c08f-11ec-8fb6-0242ac120004"
      },
      {
       "current": "bdf75ac4-92e9-11ec-b4bf-6b42dc3e1973-3-10db-0935-9ff9",
       "next": "ca1b2cae-c090-11ec-8fb6-0242ac120004",
       "previous": "f37ed542-c08f-11ec-8fb6-0242ac120004"
      },
      {
       "current": "bdf75ac4-92e9-11ec-b4bf-6b42dc3e1973-3-10db-0935-9ff9",
       "next": "ca1b2cae-c090-11ec-8fb6-0242ac120004-1-6e41",
       "previous": "f37ed542-c08f-11ec-8fb6-0242ac120004-1-8591"
      },
      {
       "current": "bdf75ac4-92e9-11ec-b4bf-6b42dc3e1973-4-10db-0935-9ff9-8b57",
       "next": "ca1b2cae-c090-11ec-8fb6-0242ac120004-1-6e41",
       "previous": "50c2a346-9a27-11ec-b860-0242ac120002-2-d031-7795"
      },
      {
       "current": "bdf75ac4-92e9-11ec-b4bf-6b42dc3e1973-5-10db-0935-9ff9-8b57-a33b",
       "next": "ca1b2cae-c090-11ec-8fb6-0242ac120004-2-6e41-7193",
       "previous": "50c2a346-9a27-11ec-b860-0242ac120002-3-d031-7795-4e22"
      }
     ],
     "next": "ca1b2cae-c090-11ec-8fb6-0242ac120004-3-6e41-7193-b9a2",
     "previous": "50c2a346-9a27-11ec-b860-0242ac120002-4-d031-7795-4e22-17f0"
    }
   },
   "outputs": [],
   "source": [
    "!ansible -b -a 'chdir=/opt/coursewarehub docker stack deploy -c docker-compose.yml coursewarehub' {target_hub} -l {target_group}"
   ]
  },
  {
   "cell_type": "markdown",
   "metadata": {
    "lc_cell_meme": {
     "current": "ca1b2cae-c090-11ec-8fb6-0242ac120004-3-6e41-7193-b9a2",
     "history": [
      {
       "current": "ca1b2cae-c090-11ec-8fb6-0242ac120004-1-6e41",
       "next": "bdf75cdb-92e9-11ec-8bcd-6b42dc3e1973-2-e145-b7a2",
       "previous": "bdf75ac4-92e9-11ec-b4bf-6b42dc3e1973-2-10db-0935"
      },
      {
       "current": "ca1b2cae-c090-11ec-8fb6-0242ac120004-2-6e41-7193",
       "next": "bdf75cdb-92e9-11ec-8bcd-6b42dc3e1973-3-e145-b7a2-41fe",
       "previous": "bdf75ac4-92e9-11ec-b4bf-6b42dc3e1973-3-10db-0935-9ff9"
      },
      {
       "current": "ca1b2cae-c090-11ec-8fb6-0242ac120004-3-6e41-7193-b9a2",
       "next": "bdf75cdb-92e9-11ec-8bcd-6b42dc3e1973-4-e145-b7a2-41fe-b0f0",
       "previous": "bdf75ac4-92e9-11ec-b4bf-6b42dc3e1973-4-10db-0935-9ff9-8b57"
      }
     ],
     "next": "bdf75cdb-92e9-11ec-8bcd-6b42dc3e1973-5-e145-b7a2-41fe-b0f0-7127",
     "previous": "bdf75ac4-92e9-11ec-b4bf-6b42dc3e1973-5-10db-0935-9ff9-8b57-a33b"
    }
   },
   "source": [
    "サービス起動完了のタイミングが揃わないので、すぐには安定しません。\n",
    "\n",
    "コンテナが何度か再起動されて、安定するまで待ちます。"
   ]
  },
  {
   "cell_type": "code",
   "execution_count": null,
   "metadata": {
    "lc_cell_meme": {
     "current": "bdf75cdb-92e9-11ec-8bcd-6b42dc3e1973-5-e145-b7a2-41fe-b0f0-7127",
     "execution_end_time": "2022-04-28T08:39:31.716744Z",
     "history": [
      {
       "current": "bdf75cdb-92e9-11ec-8bcd-6b42dc3e1973-2-e145-b7a2",
       "next": "f6182d48-9305-11ec-8616-6b42dc3e1973-1-1464",
       "previous": "bdf75ac4-92e9-11ec-b4bf-6b42dc3e1973-1-10db"
      },
      {
       "current": "bdf75cdb-92e9-11ec-8bcd-6b42dc3e1973-2-e145-b7a2",
       "next": "f6182d48-9305-11ec-8616-6b42dc3e1973-2-1464-47e4",
       "previous": "bdf75ac4-92e9-11ec-b4bf-6b42dc3e1973-2-10db-0935"
      },
      {
       "current": "bdf75cdb-92e9-11ec-8bcd-6b42dc3e1973-3-e145-b7a2-41fe",
       "next": "f6182d48-9305-11ec-8616-6b42dc3e1973-2-1464-47e4",
       "previous": "ca1b2cae-c090-11ec-8fb6-0242ac120004"
      },
      {
       "current": "bdf75cdb-92e9-11ec-8bcd-6b42dc3e1973-4-e145-b7a2-41fe-b0f0",
       "next": "f6182d48-9305-11ec-8616-6b42dc3e1973-3-1464-47e4-a89f",
       "previous": "ca1b2cae-c090-11ec-8fb6-0242ac120004-1-6e41"
      },
      {
       "current": "bdf75cdb-92e9-11ec-8bcd-6b42dc3e1973-5-e145-b7a2-41fe-b0f0-7127",
       "next": "f6182d48-9305-11ec-8616-6b42dc3e1973-4-1464-47e4-a89f-bbd1",
       "previous": "ca1b2cae-c090-11ec-8fb6-0242ac120004-2-6e41-7193"
      }
     ],
     "next": "f6182d48-9305-11ec-8616-6b42dc3e1973-5-1464-47e4-a89f-bbd1-4cb9",
     "previous": "ca1b2cae-c090-11ec-8fb6-0242ac120004-3-6e41-7193-b9a2"
    }
   },
   "outputs": [],
   "source": [
    "time.sleep(60)"
   ]
  },
  {
   "cell_type": "markdown",
   "metadata": {
    "lc_cell_meme": {
     "current": "f6182d48-9305-11ec-8616-6b42dc3e1973-5-1464-47e4-a89f-bbd1-4cb9",
     "history": [
      {
       "current": "f6182d48-9305-11ec-8616-6b42dc3e1973-1-1464",
       "next": "f6183319-9305-11ec-b1e5-6b42dc3e1973",
       "previous": "bdf75cdb-92e9-11ec-8bcd-6b42dc3e1973"
      },
      {
       "current": "f6182d48-9305-11ec-8616-6b42dc3e1973-2-1464-47e4",
       "next": "f6183319-9305-11ec-b1e5-6b42dc3e1973-1-73b7",
       "previous": "bdf75cdb-92e9-11ec-8bcd-6b42dc3e1973-1-e145"
      },
      {
       "current": "f6182d48-9305-11ec-8616-6b42dc3e1973-3-1464-47e4-a89f",
       "next": "f6183319-9305-11ec-b1e5-6b42dc3e1973-2-73b7-0540",
       "previous": "bdf75cdb-92e9-11ec-8bcd-6b42dc3e1973-2-e145-b7a2"
      },
      {
       "current": "f6182d48-9305-11ec-8616-6b42dc3e1973-4-1464-47e4-a89f-bbd1",
       "next": "f6183319-9305-11ec-b1e5-6b42dc3e1973-3-73b7-0540-e316",
       "previous": "bdf75cdb-92e9-11ec-8bcd-6b42dc3e1973-3-e145-b7a2-41fe"
      },
      {
       "current": "f6182d48-9305-11ec-8616-6b42dc3e1973-5-1464-47e4-a89f-bbd1-4cb9",
       "next": "f6183319-9305-11ec-b1e5-6b42dc3e1973-4-73b7-0540-e316-e1c8",
       "previous": "bdf75cdb-92e9-11ec-8bcd-6b42dc3e1973-4-e145-b7a2-41fe-b0f0"
      }
     ],
     "next": "f6183319-9305-11ec-b1e5-6b42dc3e1973-5-73b7-0540-e316-e1c8-0be4",
     "previous": "bdf75cdb-92e9-11ec-8bcd-6b42dc3e1973-5-e145-b7a2-41fe-b0f0-7127"
    }
   },
   "source": [
    "１分以上かかる場合もあるので、何度か確認してください。\n",
    "\n",
    "すべての `REPLICAS`が、`1/1`になっていることを確認すること。"
   ]
  },
  {
   "cell_type": "code",
   "execution_count": null,
   "metadata": {
    "lc_cell_meme": {
     "current": "f6183319-9305-11ec-b1e5-6b42dc3e1973-5-73b7-0540-e316-e1c8-0be4",
     "execution_end_time": "2022-04-28T08:39:34.701229Z",
     "history": [
      {
       "current": "f6183319-9305-11ec-b1e5-6b42dc3e1973-2-73b7-0540",
       "next": "3e24cd18-9306-11ec-b8e5-6b42dc3e1973-2-68a7-107e",
       "previous": "f6182d48-9305-11ec-8616-6b42dc3e1973-2-1464-47e4"
      },
      {
       "current": "f6183319-9305-11ec-b1e5-6b42dc3e1973-2-73b7-0540",
       "next": "1cf3322a-c08f-11ec-8fb6-0242ac120004",
       "previous": "f6182d48-9305-11ec-8616-6b42dc3e1973-2-1464-47e4"
      },
      {
       "current": "f6183319-9305-11ec-b1e5-6b42dc3e1973-3-73b7-0540-e316",
       "next": "3e24cd18-9306-11ec-b8e5-6b42dc3e1973-2-68a7-107e",
       "previous": "f6182d48-9305-11ec-8616-6b42dc3e1973-2-1464-47e4"
      },
      {
       "current": "f6183319-9305-11ec-b1e5-6b42dc3e1973-4-73b7-0540-e316-e1c8",
       "next": "3e24cd18-9306-11ec-b8e5-6b42dc3e1973-3-68a7-107e-f23e",
       "previous": "f6182d48-9305-11ec-8616-6b42dc3e1973-3-1464-47e4-a89f"
      },
      {
       "current": "f6183319-9305-11ec-b1e5-6b42dc3e1973-5-73b7-0540-e316-e1c8-0be4",
       "next": "3e24cd18-9306-11ec-b8e5-6b42dc3e1973-4-68a7-107e-f23e-03e0",
       "previous": "f6182d48-9305-11ec-8616-6b42dc3e1973-4-1464-47e4-a89f-bbd1"
      }
     ],
     "next": "3e24cd18-9306-11ec-b8e5-6b42dc3e1973-5-68a7-107e-f23e-03e0-df23",
     "previous": "f6182d48-9305-11ec-8616-6b42dc3e1973-5-1464-47e4-a89f-bbd1-4cb9"
    }
   },
   "outputs": [],
   "source": [
    "!ansible -b -a 'docker service ls' {target_hub}"
   ]
  },
  {
   "cell_type": "markdown",
   "metadata": {
    "lc_cell_meme": {
     "current": "3e24cd18-9306-11ec-b8e5-6b42dc3e1973-5-68a7-107e-f23e-03e0-df23",
     "history": [
      {
       "current": "3e24cd18-9306-11ec-b8e5-6b42dc3e1973-2-68a7-107e",
       "next": "15bd0ab6-d601-11e8-a64b-02420aff0006-19-ca5d-4231-ff49-00a9-188c-04ad-641a-baf2-9693-c3d3",
       "previous": "f6183319-9305-11ec-b1e5-6b42dc3e1973-2-73b7-0540"
      },
      {
       "current": "3e24cd18-9306-11ec-b8e5-6b42dc3e1973-2-68a7-107e",
       "next": "15bd0ab6-d601-11e8-a64b-02420aff0006-19-ca5d-4231-ff49-00a9-188c-04ad-641a-baf2-9693-c3d3",
       "previous": "1cf3336a-c08f-11ec-8fb6-0242ac120004"
      },
      {
       "current": "3e24cd18-9306-11ec-b8e5-6b42dc3e1973-3-68a7-107e-f23e",
       "next": "15bd0ab6-d601-11e8-a64b-02420aff0006-19-ca5d-4231-ff49-00a9-188c-04ad-641a-baf2-9693-c3d3",
       "previous": "f6183319-9305-11ec-b1e5-6b42dc3e1973-2-73b7-0540"
      },
      {
       "current": "3e24cd18-9306-11ec-b8e5-6b42dc3e1973-4-68a7-107e-f23e-03e0",
       "next": "15bd0ab6-d601-11e8-a64b-02420aff0006-20-4231-ff49-00a9-188c-04ad-641a-baf2-9693-c3d3-9443",
       "previous": "f6183319-9305-11ec-b1e5-6b42dc3e1973-3-73b7-0540-e316"
      },
      {
       "current": "3e24cd18-9306-11ec-b8e5-6b42dc3e1973-5-68a7-107e-f23e-03e0-df23",
       "next": "15bd0ab6-d601-11e8-a64b-02420aff0006-21-ff49-00a9-188c-04ad-641a-baf2-9693-c3d3-9443-a6a2",
       "previous": "f6183319-9305-11ec-b1e5-6b42dc3e1973-4-73b7-0540-e316-e1c8"
      }
     ],
     "next": "15bd0ab6-d601-11e8-a64b-02420aff0006-22-00a9-188c-04ad-641a-baf2-9693-c3d3-9443-a6a2-b8ec",
     "previous": "f6183319-9305-11ec-b1e5-6b42dc3e1973-5-73b7-0540-e316-e1c8-0be4"
    }
   },
   "source": [
    "ログをチェック\n",
    "\n",
    "ログの順番は、タイムスタンプの順序通りでない場合があります。"
   ]
  },
  {
   "cell_type": "code",
   "execution_count": null,
   "metadata": {
    "lc_cell_meme": {
     "current": "15bd0ab6-d601-11e8-a64b-02420aff0006-22-00a9-188c-04ad-641a-baf2-9693-c3d3-9443-a6a2-b8ec",
     "execution_end_time": "2022-04-28T08:55:52.997774Z",
     "history": [
      {
       "current": "15bd0ab6-d601-11e8-a64b-02420aff0006-18-9536-ca5d-4231-ff49-00a9-188c-04ad-641a-baf2-9693",
       "next": "1611c5ae-d581-11e8-a64b-02420aff0006-17-ca93-16aa-1153-315a-d590-6de8-a9ef-9c8b-072a-90bb",
       "previous": "3e24cd18-9306-11ec-b8e5-6b42dc3e1973"
      },
      {
       "current": "15bd0ab6-d601-11e8-a64b-02420aff0006-19-ca5d-4231-ff49-00a9-188c-04ad-641a-baf2-9693-c3d3",
       "next": "1611c5ae-d581-11e8-a64b-02420aff0006-18-16aa-1153-315a-d590-6de8-a9ef-9c8b-072a-90bb-e7f4",
       "previous": "3e24cd18-9306-11ec-b8e5-6b42dc3e1973-1-68a7"
      },
      {
       "current": "15bd0ab6-d601-11e8-a64b-02420aff0006-20-4231-ff49-00a9-188c-04ad-641a-baf2-9693-c3d3-9443",
       "next": "1611c5ae-d581-11e8-a64b-02420aff0006-19-1153-315a-d590-6de8-a9ef-9c8b-072a-90bb-e7f4-2bf4",
       "previous": "3e24cd18-9306-11ec-b8e5-6b42dc3e1973-2-68a7-107e"
      },
      {
       "current": "15bd0ab6-d601-11e8-a64b-02420aff0006-21-ff49-00a9-188c-04ad-641a-baf2-9693-c3d3-9443-a6a2",
       "next": "1611c5ae-d581-11e8-a64b-02420aff0006-20-315a-d590-6de8-a9ef-9c8b-072a-90bb-e7f4-2bf4-6af3",
       "previous": "3e24cd18-9306-11ec-b8e5-6b42dc3e1973-3-68a7-107e-f23e"
      },
      {
       "current": "15bd0ab6-d601-11e8-a64b-02420aff0006-22-00a9-188c-04ad-641a-baf2-9693-c3d3-9443-a6a2-b8ec",
       "next": "1611c5ae-d581-11e8-a64b-02420aff0006-21-d590-6de8-a9ef-9c8b-072a-90bb-e7f4-2bf4-6af3-77a7",
       "previous": "3e24cd18-9306-11ec-b8e5-6b42dc3e1973-4-68a7-107e-f23e-03e0"
      }
     ],
     "next": "1611c5ae-d581-11e8-a64b-02420aff0006-22-6de8-a9ef-9c8b-072a-90bb-e7f4-2bf4-6af3-77a7-b28a",
     "previous": "3e24cd18-9306-11ec-b8e5-6b42dc3e1973-5-68a7-107e-f23e-03e0-df23"
    },
    "scrolled": true
   },
   "outputs": [],
   "source": [
    "!ansible -b -a 'docker service logs coursewarehub_auth-proxy' {target_hub}"
   ]
  },
  {
   "cell_type": "code",
   "execution_count": null,
   "metadata": {
    "lc_cell_meme": {
     "current": "1611c5ae-d581-11e8-a64b-02420aff0006-22-6de8-a9ef-9c8b-072a-90bb-e7f4-2bf4-6af3-77a7-b28a",
     "execution_end_time": "2022-04-28T08:55:58.482376Z",
     "history": [
      {
       "current": "1611c5ae-d581-11e8-a64b-02420aff0006-19-1153-315a-d590-6de8-a9ef-9c8b-072a-90bb-e7f4-2bf4",
       "next": "3e24cf8c-9306-11ec-8dac-6b42dc3e1973-2-e88b-bcf0",
       "previous": "15bd0ab6-d601-11e8-a64b-02420aff0006-19-ca5d-4231-ff49-00a9-188c-04ad-641a-baf2-9693-c3d3"
      },
      {
       "current": "1611c5ae-d581-11e8-a64b-02420aff0006-19-1153-315a-d590-6de8-a9ef-9c8b-072a-90bb-e7f4-2bf4",
       "next": "3e24cf8c-9306-11ec-8dac-6b42dc3e1973-3-e88b-bcf0-914e",
       "previous": "15bd0ab6-d601-11e8-a64b-02420aff0006-19-ca5d-4231-ff49-00a9-188c-04ad-641a-baf2-9693-c3d3"
      },
      {
       "current": "1611c5ae-d581-11e8-a64b-02420aff0006-20-315a-d590-6de8-a9ef-9c8b-072a-90bb-e7f4-2bf4-6af3",
       "next": "547aa764-92ef-11ec-b357-6b42dc3e1973-2-2388-9f31",
       "previous": "15bd0ab6-d601-11e8-a64b-02420aff0006-19-ca5d-4231-ff49-00a9-188c-04ad-641a-baf2-9693-c3d3"
      },
      {
       "current": "1611c5ae-d581-11e8-a64b-02420aff0006-21-d590-6de8-a9ef-9c8b-072a-90bb-e7f4-2bf4-6af3-77a7",
       "next": "547aa764-92ef-11ec-b357-6b42dc3e1973-3-2388-9f31-b886",
       "previous": "15bd0ab6-d601-11e8-a64b-02420aff0006-20-4231-ff49-00a9-188c-04ad-641a-baf2-9693-c3d3-9443"
      },
      {
       "current": "1611c5ae-d581-11e8-a64b-02420aff0006-22-6de8-a9ef-9c8b-072a-90bb-e7f4-2bf4-6af3-77a7-b28a",
       "next": "547aa764-92ef-11ec-b357-6b42dc3e1973-4-2388-9f31-b886-16b9",
       "previous": "15bd0ab6-d601-11e8-a64b-02420aff0006-21-ff49-00a9-188c-04ad-641a-baf2-9693-c3d3-9443-a6a2"
      }
     ],
     "next": "547aa764-92ef-11ec-b357-6b42dc3e1973-5-2388-9f31-b886-16b9-5c40",
     "previous": "15bd0ab6-d601-11e8-a64b-02420aff0006-22-00a9-188c-04ad-641a-baf2-9693-c3d3-9443-a6a2-b8ec"
    },
    "scrolled": true
   },
   "outputs": [],
   "source": [
    "!ansible -b -a 'docker service logs coursewarehub_jupyterhub' {target_hub}"
   ]
  },
  {
   "cell_type": "markdown",
   "metadata": {
    "lc_cell_meme": {
     "current": "547aa764-92ef-11ec-b357-6b42dc3e1973-5-2388-9f31-b886-16b9-5c40",
     "history": [
      {
       "current": "547aa764-92ef-11ec-b357-6b42dc3e1973-2-2388-9f31",
       "next": "020ef5e0-2928-11e9-99c7-02420aff0008-19-b5a2-7b92-7f7e-01df-dbf3-f970-b480-f3e3-c0c3-9b03",
       "previous": "9230a7cf-9307-11ec-9e1b-6b42dc3e1973-2-2896-7c09"
      },
      {
       "current": "547aa764-92ef-11ec-b357-6b42dc3e1973-2-2388-9f31",
       "next": "020ef5e0-2928-11e9-99c7-02420aff0008-19-b5a2-7b92-7f7e-01df-dbf3-f970-b480-f3e3-c0c3-9b03",
       "previous": "3e24cf8c-9306-11ec-8dac-6b42dc3e1973-3-e88b-bcf0-914e"
      },
      {
       "current": "547aa764-92ef-11ec-b357-6b42dc3e1973-3-2388-9f31-b886",
       "next": "020ef5e0-2928-11e9-99c7-02420aff0008-19-b5a2-7b92-7f7e-01df-dbf3-f970-b480-f3e3-c0c3-9b03",
       "previous": "1611c5ae-d581-11e8-a64b-02420aff0006-19-1153-315a-d590-6de8-a9ef-9c8b-072a-90bb-e7f4-2bf4"
      },
      {
       "current": "547aa764-92ef-11ec-b357-6b42dc3e1973-4-2388-9f31-b886-16b9",
       "next": "020ef5e0-2928-11e9-99c7-02420aff0008-20-7b92-7f7e-01df-dbf3-f970-b480-f3e3-c0c3-9b03-6bda",
       "previous": "1611c5ae-d581-11e8-a64b-02420aff0006-20-315a-d590-6de8-a9ef-9c8b-072a-90bb-e7f4-2bf4-6af3"
      },
      {
       "current": "547aa764-92ef-11ec-b357-6b42dc3e1973-5-2388-9f31-b886-16b9-5c40",
       "next": "020ef5e0-2928-11e9-99c7-02420aff0008-21-7f7e-01df-dbf3-f970-b480-f3e3-c0c3-9b03-6bda-a074",
       "previous": "1611c5ae-d581-11e8-a64b-02420aff0006-21-d590-6de8-a9ef-9c8b-072a-90bb-e7f4-2bf4-6af3-77a7"
      }
     ],
     "next": "020ef5e0-2928-11e9-99c7-02420aff0008-22-01df-dbf3-f970-b480-f3e3-c0c3-9b03-6bda-a074-3fae",
     "previous": "1611c5ae-d581-11e8-a64b-02420aff0006-22-6de8-a9ef-9c8b-072a-90bb-e7f4-2bf4-6af3-77a7-b28a"
    }
   },
   "source": [
    "## 確認"
   ]
  },
  {
   "cell_type": "markdown",
   "metadata": {
    "lc_cell_meme": {
     "current": "020ef5e0-2928-11e9-99c7-02420aff0008-22-01df-dbf3-f970-b480-f3e3-c0c3-9b03-6bda-a074-3fae",
     "history": [
      {
       "current": "020ef5e0-2928-11e9-99c7-02420aff0008-18-c5ad-b5a2-7b92-7f7e-01df-dbf3-f970-b480-f3e3-c0c3",
       "next": "8ef9eeb4-eea3-11ea-9bfc-02420a01001a-10-7e69-d8d9-7459-9aca-71ea-89b3-82ea-1bd9-eb85-8769",
       "previous": "9230a7cf-9307-11ec-9e1b-6b42dc3e1973-2-2896-0892"
      },
      {
       "current": "020ef5e0-2928-11e9-99c7-02420aff0008-19-b5a2-7b92-7f7e-01df-dbf3-f970-b480-f3e3-c0c3-9b03",
       "next": "8ef9eeb4-eea3-11ea-9bfc-02420a01001a-10-7e69-d8d9-7459-9aca-71ea-89b3-82ea-1bd9-eb85-8769",
       "previous": "547aa764-92ef-11ec-b357-6b42dc3e1973-1-2388"
      },
      {
       "current": "020ef5e0-2928-11e9-99c7-02420aff0008-20-7b92-7f7e-01df-dbf3-f970-b480-f3e3-c0c3-9b03-6bda",
       "next": "8ef9eeb4-eea3-11ea-9bfc-02420a01001a-11-d8d9-7459-9aca-71ea-89b3-82ea-1bd9-eb85-8769-f452",
       "previous": "547aa764-92ef-11ec-b357-6b42dc3e1973-2-2388-9f31"
      },
      {
       "current": "020ef5e0-2928-11e9-99c7-02420aff0008-21-7f7e-01df-dbf3-f970-b480-f3e3-c0c3-9b03-6bda-a074",
       "next": "8ef9eeb4-eea3-11ea-9bfc-02420a01001a-12-7459-9aca-71ea-89b3-82ea-1bd9-eb85-8769-f452-02a7",
       "previous": "547aa764-92ef-11ec-b357-6b42dc3e1973-3-2388-9f31-b886"
      },
      {
       "current": "020ef5e0-2928-11e9-99c7-02420aff0008-22-01df-dbf3-f970-b480-f3e3-c0c3-9b03-6bda-a074-3fae",
       "next": "8ef9eeb4-eea3-11ea-9bfc-02420a01001a-13-9aca-71ea-89b3-82ea-1bd9-eb85-8769-f452-02a7-0211",
       "previous": "547aa764-92ef-11ec-b357-6b42dc3e1973-4-2388-9f31-b886-16b9"
      }
     ],
     "next": "8ef9eeb4-eea3-11ea-9bfc-02420a01001a-14-71ea-89b3-82ea-1bd9-eb85-8769-f452-02a7-0211-0710",
     "previous": "547aa764-92ef-11ec-b357-6b42dc3e1973-5-2388-9f31-b886-16b9-5c40"
    }
   },
   "source": [
    "メタデータファイルの存在と、ログの確認\n",
    "\n",
    "ローカルユーザーのみ使用する場合、メタデータは存在しなくてもかまわない"
   ]
  },
  {
   "cell_type": "markdown",
   "metadata": {
    "lc_cell_meme": {
     "current": "8ef9eeb4-eea3-11ea-9bfc-02420a01001a-14-71ea-89b3-82ea-1bd9-eb85-8769-f452-02a7-0211-0710",
     "history": [
      {
       "current": "8ef9eeb4-eea3-11ea-9bfc-02420a01001a-10-7e69-d8d9-7459-9aca-71ea-89b3-82ea-1bd9-eb85-8769",
       "next": "fe45847c-e778-11ea-9c06-02420a010045-12-6f25-e4d9-39d8-e14e-f0f2-8039-10f8-27b7-498e-614e",
       "previous": "020ef5e0-2928-11e9-99c7-02420aff0008-17-5864-c5ad-b5a2-7b92-7f7e-01df-dbf3-f970-b480-f3e3"
      },
      {
       "current": "8ef9eeb4-eea3-11ea-9bfc-02420a01001a-11-d8d9-7459-9aca-71ea-89b3-82ea-1bd9-eb85-8769-f452",
       "next": "fe45847c-e778-11ea-9c06-02420a010045-13-e4d9-39d8-e14e-f0f2-8039-10f8-27b7-498e-614e-6a19",
       "previous": "020ef5e0-2928-11e9-99c7-02420aff0008-18-c5ad-b5a2-7b92-7f7e-01df-dbf3-f970-b480-f3e3-c0c3"
      },
      {
       "current": "8ef9eeb4-eea3-11ea-9bfc-02420a01001a-12-7459-9aca-71ea-89b3-82ea-1bd9-eb85-8769-f452-02a7",
       "next": "fe45847c-e778-11ea-9c06-02420a010045-14-39d8-e14e-f0f2-8039-10f8-27b7-498e-614e-6a19-faac",
       "previous": "020ef5e0-2928-11e9-99c7-02420aff0008-19-b5a2-7b92-7f7e-01df-dbf3-f970-b480-f3e3-c0c3-9b03"
      },
      {
       "current": "8ef9eeb4-eea3-11ea-9bfc-02420a01001a-13-9aca-71ea-89b3-82ea-1bd9-eb85-8769-f452-02a7-0211",
       "next": "fe45847c-e778-11ea-9c06-02420a010045-15-e14e-f0f2-8039-10f8-27b7-498e-614e-6a19-faac-ae7d",
       "previous": "020ef5e0-2928-11e9-99c7-02420aff0008-20-7b92-7f7e-01df-dbf3-f970-b480-f3e3-c0c3-9b03-6bda"
      },
      {
       "current": "8ef9eeb4-eea3-11ea-9bfc-02420a01001a-14-71ea-89b3-82ea-1bd9-eb85-8769-f452-02a7-0211-0710",
       "next": "fe45847c-e778-11ea-9c06-02420a010045-16-f0f2-8039-10f8-27b7-498e-614e-6a19-faac-ae7d-206a",
       "previous": "020ef5e0-2928-11e9-99c7-02420aff0008-21-7f7e-01df-dbf3-f970-b480-f3e3-c0c3-9b03-6bda-a074"
      }
     ],
     "next": "fe45847c-e778-11ea-9c06-02420a010045-17-8039-10f8-27b7-498e-614e-6a19-faac-ae7d-206a-e388",
     "previous": "020ef5e0-2928-11e9-99c7-02420aff0008-22-01df-dbf3-f970-b480-f3e3-c0c3-9b03-6bda-a074-3fae"
    }
   },
   "source": [
    "コンテナが動作するノードを調べて、コンテナ内部のファイルを確認する。"
   ]
  },
  {
   "cell_type": "code",
   "execution_count": null,
   "metadata": {
    "lc_cell_meme": {
     "current": "fe45847c-e778-11ea-9c06-02420a010045-17-8039-10f8-27b7-498e-614e-6a19-faac-ae7d-206a-e388",
     "execution_end_time": "2022-04-28T09:01:19.322474Z",
     "history": [
      {
       "current": "fe45847c-e778-11ea-9c06-02420a010045-13-e4d9-39d8-e14e-f0f2-8039-10f8-27b7-498e-614e-6a19",
       "next": "b6af0ce6-e778-11ea-9c06-02420a010045-12-f6fa-82dc-eb44-f6bd-71dd-6008-0814-85bf-163a-8eff",
       "previous": "8ef9eeb4-eea3-11ea-9bfc-02420a01001a-9-7e69-d8d9-7459-9aca-71ea-89b3-82ea-1bd9-eb85"
      },
      {
       "current": "fe45847c-e778-11ea-9c06-02420a010045-14-39d8-e14e-f0f2-8039-10f8-27b7-498e-614e-6a19-faac",
       "next": "b6af0ce6-e778-11ea-9c06-02420a010045-13-82dc-eb44-f6bd-71dd-6008-0814-85bf-163a-8eff-2111",
       "previous": "8ef9eeb4-eea3-11ea-9bfc-02420a01001a-10-7e69-d8d9-7459-9aca-71ea-89b3-82ea-1bd9-eb85-8769"
      },
      {
       "current": "fe45847c-e778-11ea-9c06-02420a010045-15-e14e-f0f2-8039-10f8-27b7-498e-614e-6a19-faac-ae7d",
       "next": "b6af0ce6-e778-11ea-9c06-02420a010045-14-eb44-f6bd-71dd-6008-0814-85bf-163a-8eff-2111-03e5",
       "previous": "8ef9eeb4-eea3-11ea-9bfc-02420a01001a-11-d8d9-7459-9aca-71ea-89b3-82ea-1bd9-eb85-8769-f452"
      },
      {
       "current": "fe45847c-e778-11ea-9c06-02420a010045-16-f0f2-8039-10f8-27b7-498e-614e-6a19-faac-ae7d-206a",
       "next": "b6af0ce6-e778-11ea-9c06-02420a010045-15-f6bd-71dd-6008-0814-85bf-163a-8eff-2111-03e5-cc6f",
       "previous": "8ef9eeb4-eea3-11ea-9bfc-02420a01001a-12-7459-9aca-71ea-89b3-82ea-1bd9-eb85-8769-f452-02a7"
      },
      {
       "current": "fe45847c-e778-11ea-9c06-02420a010045-17-8039-10f8-27b7-498e-614e-6a19-faac-ae7d-206a-e388",
       "next": "b6af0ce6-e778-11ea-9c06-02420a010045-16-71dd-6008-0814-85bf-163a-8eff-2111-03e5-cc6f-c1b7",
       "previous": "8ef9eeb4-eea3-11ea-9bfc-02420a01001a-13-9aca-71ea-89b3-82ea-1bd9-eb85-8769-f452-02a7-0211"
      }
     ],
     "next": "b6af0ce6-e778-11ea-9c06-02420a010045-17-6008-0814-85bf-163a-8eff-2111-03e5-cc6f-c1b7-f783",
     "previous": "8ef9eeb4-eea3-11ea-9bfc-02420a01001a-14-71ea-89b3-82ea-1bd9-eb85-8769-f452-02a7-0211-0710"
    }
   },
   "outputs": [],
   "source": [
    "%%writefile {work_dir}/get_servicenet_ip.yml\n",
    "---\n",
    "- become: true\n",
    "  hosts: all\n",
    "  tasks:\n",
    "      - debug: \"msg={{inventory_hostname}}={{servicenet_ip}}\"\n"
   ]
  },
  {
   "cell_type": "code",
   "execution_count": null,
   "metadata": {
    "lc_cell_meme": {
     "current": "b6af0ce6-e778-11ea-9c06-02420a010045-17-6008-0814-85bf-163a-8eff-2111-03e5-cc6f-c1b7-f783",
     "execution_end_time": "2022-04-28T09:01:23.086799Z",
     "history": [
      {
       "current": "b6af0ce6-e778-11ea-9c06-02420a010045-13-82dc-eb44-f6bd-71dd-6008-0814-85bf-163a-8eff-2111",
       "next": "1bea9cc0-208c-11e9-99c7-02420aff0008-17-0264-ffdb-1e48-ecf1-39c0-9758-8950-68bb-fa65-019e",
       "previous": "fe45847c-e778-11ea-9c06-02420a010045-12-6f25-e4d9-39d8-e14e-f0f2-8039-10f8-27b7-498e-614e"
      },
      {
       "current": "b6af0ce6-e778-11ea-9c06-02420a010045-14-eb44-f6bd-71dd-6008-0814-85bf-163a-8eff-2111-03e5",
       "next": "1bea9cc0-208c-11e9-99c7-02420aff0008-18-ffdb-1e48-ecf1-39c0-9758-8950-68bb-fa65-019e-ad81",
       "previous": "fe45847c-e778-11ea-9c06-02420a010045-13-e4d9-39d8-e14e-f0f2-8039-10f8-27b7-498e-614e-6a19"
      },
      {
       "current": "b6af0ce6-e778-11ea-9c06-02420a010045-15-f6bd-71dd-6008-0814-85bf-163a-8eff-2111-03e5-cc6f",
       "next": "1bea9cc0-208c-11e9-99c7-02420aff0008-19-1e48-ecf1-39c0-9758-8950-68bb-fa65-019e-ad81-ca7e",
       "previous": "fe45847c-e778-11ea-9c06-02420a010045-14-39d8-e14e-f0f2-8039-10f8-27b7-498e-614e-6a19-faac"
      },
      {
       "current": "b6af0ce6-e778-11ea-9c06-02420a010045-16-71dd-6008-0814-85bf-163a-8eff-2111-03e5-cc6f-c1b7",
       "next": "1bea9cc0-208c-11e9-99c7-02420aff0008-20-ecf1-39c0-9758-8950-68bb-fa65-019e-ad81-ca7e-4c32",
       "previous": "fe45847c-e778-11ea-9c06-02420a010045-15-e14e-f0f2-8039-10f8-27b7-498e-614e-6a19-faac-ae7d"
      },
      {
       "current": "b6af0ce6-e778-11ea-9c06-02420a010045-17-6008-0814-85bf-163a-8eff-2111-03e5-cc6f-c1b7-f783",
       "next": "1bea9cc0-208c-11e9-99c7-02420aff0008-21-39c0-9758-8950-68bb-fa65-019e-ad81-ca7e-4c32-4e89",
       "previous": "fe45847c-e778-11ea-9c06-02420a010045-16-f0f2-8039-10f8-27b7-498e-614e-6a19-faac-ae7d-206a"
      }
     ],
     "next": "1bea9cc0-208c-11e9-99c7-02420aff0008-22-9758-8950-68bb-fa65-019e-ad81-ca7e-4c32-4e89-5e40",
     "previous": "fe45847c-e778-11ea-9c06-02420a010045-17-8039-10f8-27b7-498e-614e-6a19-faac-ae7d-206a-e388"
    }
   },
   "outputs": [],
   "source": [
    "import re\n",
    "\n",
    "servicenet_result = {}\n",
    "\n",
    "msgout = !ansible-playbook -l {target_group} {work_dir}/get_servicenet_ip.yml\n",
    "msgout = msgout.grep('\"msg\"')\n",
    "assert len(msgout) >= 1\n",
    "for l in msgout:\n",
    "    m = re.match(r'.*\\\"msg\\\": \\\"(.+)=(.+)\\\"', l)\n",
    "    if m:\n",
    "        servicenet_result[m.group(2)] = m.group(1)\n",
    "servicenet_result"
   ]
  },
  {
   "cell_type": "code",
   "execution_count": null,
   "metadata": {
    "lc_cell_meme": {
     "current": "1bea9cc0-208c-11e9-99c7-02420aff0008-22-9758-8950-68bb-fa65-019e-ad81-ca7e-4c32-4e89-5e40",
     "execution_end_time": "2022-04-28T09:01:25.954391Z",
     "history": [
      {
       "current": "1bea9cc0-208c-11e9-99c7-02420aff0008-18-ffdb-1e48-ecf1-39c0-9758-8950-68bb-fa65-019e-ad81",
       "next": "020ef892-2928-11e9-99c7-02420aff0008-17-aabe-2a0c-8b86-328a-d491-29a7-60c3-52bf-3256-b2c1",
       "previous": "b6af0ce6-e778-11ea-9c06-02420a010045-12-f6fa-82dc-eb44-f6bd-71dd-6008-0814-85bf-163a-8eff"
      },
      {
       "current": "1bea9cc0-208c-11e9-99c7-02420aff0008-19-1e48-ecf1-39c0-9758-8950-68bb-fa65-019e-ad81-ca7e",
       "next": "020ef892-2928-11e9-99c7-02420aff0008-18-2a0c-8b86-328a-d491-29a7-60c3-52bf-3256-b2c1-3a77",
       "previous": "b6af0ce6-e778-11ea-9c06-02420a010045-13-82dc-eb44-f6bd-71dd-6008-0814-85bf-163a-8eff-2111"
      },
      {
       "current": "1bea9cc0-208c-11e9-99c7-02420aff0008-20-ecf1-39c0-9758-8950-68bb-fa65-019e-ad81-ca7e-4c32",
       "next": "020ef892-2928-11e9-99c7-02420aff0008-19-8b86-328a-d491-29a7-60c3-52bf-3256-b2c1-3a77-e56b",
       "previous": "b6af0ce6-e778-11ea-9c06-02420a010045-14-eb44-f6bd-71dd-6008-0814-85bf-163a-8eff-2111-03e5"
      },
      {
       "current": "1bea9cc0-208c-11e9-99c7-02420aff0008-21-39c0-9758-8950-68bb-fa65-019e-ad81-ca7e-4c32-4e89",
       "next": "020ef892-2928-11e9-99c7-02420aff0008-20-328a-d491-29a7-60c3-52bf-3256-b2c1-3a77-e56b-71b8",
       "previous": "b6af0ce6-e778-11ea-9c06-02420a010045-15-f6bd-71dd-6008-0814-85bf-163a-8eff-2111-03e5-cc6f"
      },
      {
       "current": "1bea9cc0-208c-11e9-99c7-02420aff0008-22-9758-8950-68bb-fa65-019e-ad81-ca7e-4c32-4e89-5e40",
       "next": "020ef892-2928-11e9-99c7-02420aff0008-21-d491-29a7-60c3-52bf-3256-b2c1-3a77-e56b-71b8-1462",
       "previous": "b6af0ce6-e778-11ea-9c06-02420a010045-16-71dd-6008-0814-85bf-163a-8eff-2111-03e5-cc6f-c1b7"
      }
     ],
     "next": "020ef892-2928-11e9-99c7-02420aff0008-22-29a7-60c3-52bf-3256-b2c1-3a77-e56b-71b8-1462-d5fe",
     "previous": "b6af0ce6-e778-11ea-9c06-02420a010045-17-6008-0814-85bf-163a-8eff-2111-03e5-cc6f-c1b7-f783"
    }
   },
   "outputs": [],
   "source": [
    "auth_proxy_id = !ansible -b -a 'docker service ps coursewarehub_auth-proxy -q' {target_hub} -l {target_group}\n",
    "auth_proxy_id = auth_proxy_id[1]\n",
    "auth_proxy_id = auth_proxy_id.strip()\n",
    "auth_proxy_id"
   ]
  },
  {
   "cell_type": "code",
   "execution_count": null,
   "metadata": {
    "lc_cell_meme": {
     "current": "020ef892-2928-11e9-99c7-02420aff0008-22-29a7-60c3-52bf-3256-b2c1-3a77-e56b-71b8-1462-d5fe",
     "execution_end_time": "2022-04-28T09:01:27.883690Z",
     "history": [
      {
       "current": "020ef892-2928-11e9-99c7-02420aff0008-18-2a0c-8b86-328a-d491-29a7-60c3-52bf-3256-b2c1-3a77",
       "next": "020ef95a-2928-11e9-99c7-02420aff0008-17-ca1b-253f-6e09-9db9-791b-04c5-50b1-65c5-c739-56d7",
       "previous": "1bea9cc0-208c-11e9-99c7-02420aff0008-17-0264-ffdb-1e48-ecf1-39c0-9758-8950-68bb-fa65-019e"
      },
      {
       "current": "020ef892-2928-11e9-99c7-02420aff0008-19-8b86-328a-d491-29a7-60c3-52bf-3256-b2c1-3a77-e56b",
       "next": "020ef95a-2928-11e9-99c7-02420aff0008-18-253f-6e09-9db9-791b-04c5-50b1-65c5-c739-56d7-7b36",
       "previous": "1bea9cc0-208c-11e9-99c7-02420aff0008-18-ffdb-1e48-ecf1-39c0-9758-8950-68bb-fa65-019e-ad81"
      },
      {
       "current": "020ef892-2928-11e9-99c7-02420aff0008-20-328a-d491-29a7-60c3-52bf-3256-b2c1-3a77-e56b-71b8",
       "next": "020ef95a-2928-11e9-99c7-02420aff0008-19-6e09-9db9-791b-04c5-50b1-65c5-c739-56d7-7b36-b3c1",
       "previous": "1bea9cc0-208c-11e9-99c7-02420aff0008-19-1e48-ecf1-39c0-9758-8950-68bb-fa65-019e-ad81-ca7e"
      },
      {
       "current": "020ef892-2928-11e9-99c7-02420aff0008-21-d491-29a7-60c3-52bf-3256-b2c1-3a77-e56b-71b8-1462",
       "next": "020ef95a-2928-11e9-99c7-02420aff0008-20-9db9-791b-04c5-50b1-65c5-c739-56d7-7b36-b3c1-8aed",
       "previous": "1bea9cc0-208c-11e9-99c7-02420aff0008-20-ecf1-39c0-9758-8950-68bb-fa65-019e-ad81-ca7e-4c32"
      },
      {
       "current": "020ef892-2928-11e9-99c7-02420aff0008-22-29a7-60c3-52bf-3256-b2c1-3a77-e56b-71b8-1462-d5fe",
       "next": "020ef95a-2928-11e9-99c7-02420aff0008-21-791b-04c5-50b1-65c5-c739-56d7-7b36-b3c1-8aed-e250",
       "previous": "1bea9cc0-208c-11e9-99c7-02420aff0008-21-39c0-9758-8950-68bb-fa65-019e-ad81-ca7e-4c32-4e89"
      }
     ],
     "next": "020ef95a-2928-11e9-99c7-02420aff0008-22-04c5-50b1-65c5-c739-56d7-7b36-b3c1-8aed-e250-9b10",
     "previous": "1bea9cc0-208c-11e9-99c7-02420aff0008-22-9758-8950-68bb-fa65-019e-ad81-ca7e-4c32-4e89-5e40"
    }
   },
   "outputs": [],
   "source": [
    "output = !ansible -b -a 'docker inspect --format \"{{% raw %}} {{{{.NodeID}}}} {{{{.Status.ContainerStatus.ContainerID}}}}\" {{% endraw %}} {auth_proxy_id}' {target_hub} -l {target_group}\n",
    "auth_proxy_node_id, auth_proxy_container_id = output[1].split()\n",
    "(auth_proxy_node_id, auth_proxy_container_id)"
   ]
  },
  {
   "cell_type": "code",
   "execution_count": null,
   "metadata": {
    "lc_cell_meme": {
     "current": "020ef95a-2928-11e9-99c7-02420aff0008-22-04c5-50b1-65c5-c739-56d7-7b36-b3c1-8aed-e250-9b10",
     "execution_end_time": "2022-04-28T09:01:29.337536Z",
     "history": [
      {
       "current": "020ef95a-2928-11e9-99c7-02420aff0008-18-253f-6e09-9db9-791b-04c5-50b1-65c5-c739-56d7-7b36",
       "next": "020ef9f0-2928-11e9-99c7-02420aff0008-17-24a2-9a60-5490-7ff2-af7c-00ee-2629-9ede-2316-838e",
       "previous": "020ef892-2928-11e9-99c7-02420aff0008-17-aabe-2a0c-8b86-328a-d491-29a7-60c3-52bf-3256-b2c1"
      },
      {
       "current": "020ef95a-2928-11e9-99c7-02420aff0008-19-6e09-9db9-791b-04c5-50b1-65c5-c739-56d7-7b36-b3c1",
       "next": "020ef9f0-2928-11e9-99c7-02420aff0008-18-9a60-5490-7ff2-af7c-00ee-2629-9ede-2316-838e-597a",
       "previous": "020ef892-2928-11e9-99c7-02420aff0008-18-2a0c-8b86-328a-d491-29a7-60c3-52bf-3256-b2c1-3a77"
      },
      {
       "current": "020ef95a-2928-11e9-99c7-02420aff0008-20-9db9-791b-04c5-50b1-65c5-c739-56d7-7b36-b3c1-8aed",
       "next": "020ef9f0-2928-11e9-99c7-02420aff0008-19-5490-7ff2-af7c-00ee-2629-9ede-2316-838e-597a-4898",
       "previous": "020ef892-2928-11e9-99c7-02420aff0008-19-8b86-328a-d491-29a7-60c3-52bf-3256-b2c1-3a77-e56b"
      },
      {
       "current": "020ef95a-2928-11e9-99c7-02420aff0008-21-791b-04c5-50b1-65c5-c739-56d7-7b36-b3c1-8aed-e250",
       "next": "020ef9f0-2928-11e9-99c7-02420aff0008-20-7ff2-af7c-00ee-2629-9ede-2316-838e-597a-4898-6efa",
       "previous": "020ef892-2928-11e9-99c7-02420aff0008-20-328a-d491-29a7-60c3-52bf-3256-b2c1-3a77-e56b-71b8"
      },
      {
       "current": "020ef95a-2928-11e9-99c7-02420aff0008-22-04c5-50b1-65c5-c739-56d7-7b36-b3c1-8aed-e250-9b10",
       "next": "020ef9f0-2928-11e9-99c7-02420aff0008-21-af7c-00ee-2629-9ede-2316-838e-597a-4898-6efa-dc6c",
       "previous": "020ef892-2928-11e9-99c7-02420aff0008-21-d491-29a7-60c3-52bf-3256-b2c1-3a77-e56b-71b8-1462"
      }
     ],
     "next": "020ef9f0-2928-11e9-99c7-02420aff0008-22-00ee-2629-9ede-2316-838e-597a-4898-6efa-dc6c-d833",
     "previous": "020ef892-2928-11e9-99c7-02420aff0008-22-29a7-60c3-52bf-3256-b2c1-3a77-e56b-71b8-1462-d5fe"
    }
   },
   "outputs": [],
   "source": [
    "output = !ansible -b -a 'docker node inspect --format \"{{% raw %}} {{{{.Status.Addr}}}}\" {{% endraw %}} {auth_proxy_node_id}' {target_hub} -l {target_group}\n",
    "auth_proxy_node_ip = output[1].split()\n",
    "auth_proxy_node_ip = [servicenet_result[x] for x in auth_proxy_node_ip]\n",
    "auth_proxy_node_ip"
   ]
  },
  {
   "cell_type": "code",
   "execution_count": null,
   "metadata": {
    "lc_cell_meme": {
     "current": "020ef9f0-2928-11e9-99c7-02420aff0008-22-00ee-2629-9ede-2316-838e-597a-4898-6efa-dc6c-d833",
     "execution_end_time": "2022-04-28T09:01:33.662700Z",
     "history": [
      {
       "current": "020ef9f0-2928-11e9-99c7-02420aff0008-18-9a60-5490-7ff2-af7c-00ee-2629-9ede-2316-838e-597a",
       "next": "020efa7c-2928-11e9-99c7-02420aff0008-17-15f8-64c4-67d6-3162-48fb-10ef-31da-6388-5600-f352",
       "previous": "020ef95a-2928-11e9-99c7-02420aff0008-17-ca1b-253f-6e09-9db9-791b-04c5-50b1-65c5-c739-56d7"
      },
      {
       "current": "020ef9f0-2928-11e9-99c7-02420aff0008-19-5490-7ff2-af7c-00ee-2629-9ede-2316-838e-597a-4898",
       "next": "020efa7c-2928-11e9-99c7-02420aff0008-18-64c4-67d6-3162-48fb-10ef-31da-6388-5600-f352-4219",
       "previous": "020ef95a-2928-11e9-99c7-02420aff0008-18-253f-6e09-9db9-791b-04c5-50b1-65c5-c739-56d7-7b36"
      },
      {
       "current": "020ef9f0-2928-11e9-99c7-02420aff0008-20-7ff2-af7c-00ee-2629-9ede-2316-838e-597a-4898-6efa",
       "next": "020efa7c-2928-11e9-99c7-02420aff0008-19-67d6-3162-48fb-10ef-31da-6388-5600-f352-4219-722a",
       "previous": "020ef95a-2928-11e9-99c7-02420aff0008-19-6e09-9db9-791b-04c5-50b1-65c5-c739-56d7-7b36-b3c1"
      },
      {
       "current": "020ef9f0-2928-11e9-99c7-02420aff0008-21-af7c-00ee-2629-9ede-2316-838e-597a-4898-6efa-dc6c",
       "next": "020efa7c-2928-11e9-99c7-02420aff0008-20-3162-48fb-10ef-31da-6388-5600-f352-4219-722a-05c0",
       "previous": "020ef95a-2928-11e9-99c7-02420aff0008-20-9db9-791b-04c5-50b1-65c5-c739-56d7-7b36-b3c1-8aed"
      },
      {
       "current": "020ef9f0-2928-11e9-99c7-02420aff0008-22-00ee-2629-9ede-2316-838e-597a-4898-6efa-dc6c-d833",
       "next": "020efa7c-2928-11e9-99c7-02420aff0008-21-48fb-10ef-31da-6388-5600-f352-4219-722a-05c0-1c36",
       "previous": "020ef95a-2928-11e9-99c7-02420aff0008-21-791b-04c5-50b1-65c5-c739-56d7-7b36-b3c1-8aed-e250"
      }
     ],
     "next": "020efa7c-2928-11e9-99c7-02420aff0008-22-10ef-31da-6388-5600-f352-4219-722a-05c0-1c36-2204",
     "previous": "020ef95a-2928-11e9-99c7-02420aff0008-22-04c5-50b1-65c5-c739-56d7-7b36-b3c1-8aed-e250-9b10"
    }
   },
   "outputs": [],
   "source": [
    "!ansible -b -a 'docker exec -i {auth_proxy_container_id} find /var/www/simplesamlphp/metadata/' \\\n",
    "    {auth_proxy_node_ip[0]}"
   ]
  },
  {
   "cell_type": "code",
   "execution_count": null,
   "metadata": {
    "lc_cell_meme": {
     "current": "020efa7c-2928-11e9-99c7-02420aff0008-22-10ef-31da-6388-5600-f352-4219-722a-05c0-1c36-2204",
     "execution_end_time": "2022-04-28T09:01:38.211603Z",
     "history": [
      {
       "current": "020efa7c-2928-11e9-99c7-02420aff0008-18-64c4-67d6-3162-48fb-10ef-31da-6388-5600-f352-4219",
       "next": "90825776-5943-11ea-bd55-0242ac120002-15-6ffb-16f0-84a3-b558-d60b-652b-864d-de6b-d864-850b",
       "previous": "020ef9f0-2928-11e9-99c7-02420aff0008-17-24a2-9a60-5490-7ff2-af7c-00ee-2629-9ede-2316-838e"
      },
      {
       "current": "020efa7c-2928-11e9-99c7-02420aff0008-19-67d6-3162-48fb-10ef-31da-6388-5600-f352-4219-722a",
       "next": "90825776-5943-11ea-bd55-0242ac120002-16-16f0-84a3-b558-d60b-652b-864d-de6b-d864-850b-2859",
       "previous": "020ef9f0-2928-11e9-99c7-02420aff0008-18-9a60-5490-7ff2-af7c-00ee-2629-9ede-2316-838e-597a"
      },
      {
       "current": "020efa7c-2928-11e9-99c7-02420aff0008-20-3162-48fb-10ef-31da-6388-5600-f352-4219-722a-05c0",
       "next": "90825776-5943-11ea-bd55-0242ac120002-17-84a3-b558-d60b-652b-864d-de6b-d864-850b-2859-9407",
       "previous": "020ef9f0-2928-11e9-99c7-02420aff0008-19-5490-7ff2-af7c-00ee-2629-9ede-2316-838e-597a-4898"
      },
      {
       "current": "020efa7c-2928-11e9-99c7-02420aff0008-21-48fb-10ef-31da-6388-5600-f352-4219-722a-05c0-1c36",
       "next": "90825776-5943-11ea-bd55-0242ac120002-18-b558-d60b-652b-864d-de6b-d864-850b-2859-9407-c032",
       "previous": "020ef9f0-2928-11e9-99c7-02420aff0008-20-7ff2-af7c-00ee-2629-9ede-2316-838e-597a-4898-6efa"
      },
      {
       "current": "020efa7c-2928-11e9-99c7-02420aff0008-22-10ef-31da-6388-5600-f352-4219-722a-05c0-1c36-2204",
       "next": "90825776-5943-11ea-bd55-0242ac120002-19-d60b-652b-864d-de6b-d864-850b-2859-9407-c032-67b7",
       "previous": "020ef9f0-2928-11e9-99c7-02420aff0008-21-af7c-00ee-2629-9ede-2316-838e-597a-4898-6efa-dc6c"
      }
     ],
     "next": "90825776-5943-11ea-bd55-0242ac120002-20-652b-864d-de6b-d864-850b-2859-9407-c032-67b7-ec64",
     "previous": "020ef9f0-2928-11e9-99c7-02420aff0008-22-00ee-2629-9ede-2316-838e-597a-4898-6efa-dc6c-d833"
    },
    "scrolled": true
   },
   "outputs": [],
   "source": [
    "!ansible -b -a 'docker exec -i {auth_proxy_container_id} cat /var/www/simplesamlphp/log/simplesamlphp.log' \\\n",
    "    {auth_proxy_node_ip[0]}"
   ]
  },
  {
   "cell_type": "markdown",
   "metadata": {
    "lc_cell_meme": {
     "current": "90825776-5943-11ea-bd55-0242ac120002-20-652b-864d-de6b-d864-850b-2859-9407-c032-67b7-ec64",
     "history": [
      {
       "current": "90825776-5943-11ea-bd55-0242ac120002-16-16f0-84a3-b558-d60b-652b-864d-de6b-d864-850b-2859",
       "next": "607fcc38-292f-11e9-99c7-02420aff0008-17-2bf6-339e-2c82-a90f-6b14-06c3-6faa-bc02-9f4c-9f1d",
       "previous": "020efa7c-2928-11e9-99c7-02420aff0008-17-15f8-64c4-67d6-3162-48fb-10ef-31da-6388-5600-f352"
      },
      {
       "current": "90825776-5943-11ea-bd55-0242ac120002-17-84a3-b558-d60b-652b-864d-de6b-d864-850b-2859-9407",
       "next": "607fcc38-292f-11e9-99c7-02420aff0008-18-339e-2c82-a90f-6b14-06c3-6faa-bc02-9f4c-9f1d-d88b",
       "previous": "020efa7c-2928-11e9-99c7-02420aff0008-18-64c4-67d6-3162-48fb-10ef-31da-6388-5600-f352-4219"
      },
      {
       "current": "90825776-5943-11ea-bd55-0242ac120002-18-b558-d60b-652b-864d-de6b-d864-850b-2859-9407-c032",
       "next": "607fcc38-292f-11e9-99c7-02420aff0008-19-2c82-a90f-6b14-06c3-6faa-bc02-9f4c-9f1d-d88b-4378",
       "previous": "020efa7c-2928-11e9-99c7-02420aff0008-19-67d6-3162-48fb-10ef-31da-6388-5600-f352-4219-722a"
      },
      {
       "current": "90825776-5943-11ea-bd55-0242ac120002-19-d60b-652b-864d-de6b-d864-850b-2859-9407-c032-67b7",
       "next": "607fcc38-292f-11e9-99c7-02420aff0008-20-a90f-6b14-06c3-6faa-bc02-9f4c-9f1d-d88b-4378-8883",
       "previous": "020efa7c-2928-11e9-99c7-02420aff0008-20-3162-48fb-10ef-31da-6388-5600-f352-4219-722a-05c0"
      },
      {
       "current": "90825776-5943-11ea-bd55-0242ac120002-20-652b-864d-de6b-d864-850b-2859-9407-c032-67b7-ec64",
       "next": "607fcc38-292f-11e9-99c7-02420aff0008-21-6b14-06c3-6faa-bc02-9f4c-9f1d-d88b-4378-8883-125e",
       "previous": "020efa7c-2928-11e9-99c7-02420aff0008-21-48fb-10ef-31da-6388-5600-f352-4219-722a-05c0-1c36"
      }
     ],
     "next": "607fcc38-292f-11e9-99c7-02420aff0008-22-06c3-6faa-bc02-9f4c-9f1d-d88b-4378-8883-125e-8b04",
     "previous": "020efa7c-2928-11e9-99c7-02420aff0008-22-10ef-31da-6388-5600-f352-4219-722a-05c0-1c36-2204"
    }
   },
   "source": [
    "idp-proxyを利用する場合は、そのメタデータが必要\n",
    "\n",
    "idp-proxyを使用しない場合は、空で問題無い。"
   ]
  },
  {
   "cell_type": "code",
   "execution_count": null,
   "metadata": {
    "lc_cell_meme": {
     "current": "607fcc38-292f-11e9-99c7-02420aff0008-22-06c3-6faa-bc02-9f4c-9f1d-d88b-4378-8883-125e-8b04",
     "execution_end_time": "2022-04-28T09:01:43.847391Z",
     "history": [
      {
       "current": "607fcc38-292f-11e9-99c7-02420aff0008-18-339e-2c82-a90f-6b14-06c3-6faa-bc02-9f4c-9f1d-d88b",
       "next": "cc40e03c-aafd-11ea-abc9-0242ac130004-12-d3b1-4745-c395-b5d7-2f0b-850d-dcc0-57e8-b3a2-aaee",
       "previous": "90825776-5943-11ea-bd55-0242ac120002-15-6ffb-16f0-84a3-b558-d60b-652b-864d-de6b-d864-850b"
      },
      {
       "current": "607fcc38-292f-11e9-99c7-02420aff0008-19-2c82-a90f-6b14-06c3-6faa-bc02-9f4c-9f1d-d88b-4378",
       "next": "cc40e03c-aafd-11ea-abc9-0242ac130004-13-4745-c395-b5d7-2f0b-850d-dcc0-57e8-b3a2-aaee-211f",
       "previous": "90825776-5943-11ea-bd55-0242ac120002-16-16f0-84a3-b558-d60b-652b-864d-de6b-d864-850b-2859"
      },
      {
       "current": "607fcc38-292f-11e9-99c7-02420aff0008-20-a90f-6b14-06c3-6faa-bc02-9f4c-9f1d-d88b-4378-8883",
       "next": "cc40e03c-aafd-11ea-abc9-0242ac130004-14-c395-b5d7-2f0b-850d-dcc0-57e8-b3a2-aaee-211f-ea39",
       "previous": "90825776-5943-11ea-bd55-0242ac120002-17-84a3-b558-d60b-652b-864d-de6b-d864-850b-2859-9407"
      },
      {
       "current": "607fcc38-292f-11e9-99c7-02420aff0008-21-6b14-06c3-6faa-bc02-9f4c-9f1d-d88b-4378-8883-125e",
       "next": "cc40e03c-aafd-11ea-abc9-0242ac130004-15-b5d7-2f0b-850d-dcc0-57e8-b3a2-aaee-211f-ea39-e4df",
       "previous": "90825776-5943-11ea-bd55-0242ac120002-18-b558-d60b-652b-864d-de6b-d864-850b-2859-9407-c032"
      },
      {
       "current": "607fcc38-292f-11e9-99c7-02420aff0008-22-06c3-6faa-bc02-9f4c-9f1d-d88b-4378-8883-125e-8b04",
       "next": "cc40e03c-aafd-11ea-abc9-0242ac130004-16-2f0b-850d-dcc0-57e8-b3a2-aaee-211f-ea39-e4df-edd1",
       "previous": "90825776-5943-11ea-bd55-0242ac120002-19-d60b-652b-864d-de6b-d864-850b-2859-9407-c032-67b7"
      }
     ],
     "next": "cc40e03c-aafd-11ea-abc9-0242ac130004-17-850d-dcc0-57e8-b3a2-aaee-211f-ea39-e4df-edd1-fefb",
     "previous": "90825776-5943-11ea-bd55-0242ac120002-20-652b-864d-de6b-d864-850b-2859-9407-c032-67b7-ec64"
    }
   },
   "outputs": [],
   "source": [
    "!ansible -b -a 'docker exec -i {auth_proxy_container_id} ls -l /var/www/simplesamlphp/metadata/idp-proxy' \\\n",
    "    {auth_proxy_node_ip[0]}"
   ]
  },
  {
   "cell_type": "markdown",
   "metadata": {
    "lc_cell_meme": {
     "current": "cc40e03c-aafd-11ea-abc9-0242ac130004-17-850d-dcc0-57e8-b3a2-aaee-211f-ea39-e4df-edd1-fefb",
     "history": [
      {
       "current": "cc40e03c-aafd-11ea-abc9-0242ac130004-13-4745-c395-b5d7-2f0b-850d-dcc0-57e8-b3a2-aaee-211f",
       "next": "cc40ebcc-aafd-11ea-abc9-0242ac130004-12-3997-432b-b5b6-553d-fd3c-79a7-6627-677f-078b-9261",
       "previous": "607fcc38-292f-11e9-99c7-02420aff0008-17-2bf6-339e-2c82-a90f-6b14-06c3-6faa-bc02-9f4c-9f1d"
      },
      {
       "current": "cc40e03c-aafd-11ea-abc9-0242ac130004-14-c395-b5d7-2f0b-850d-dcc0-57e8-b3a2-aaee-211f-ea39",
       "next": "cc40ebcc-aafd-11ea-abc9-0242ac130004-13-432b-b5b6-553d-fd3c-79a7-6627-677f-078b-9261-95cd",
       "previous": "607fcc38-292f-11e9-99c7-02420aff0008-18-339e-2c82-a90f-6b14-06c3-6faa-bc02-9f4c-9f1d-d88b"
      },
      {
       "current": "cc40e03c-aafd-11ea-abc9-0242ac130004-15-b5d7-2f0b-850d-dcc0-57e8-b3a2-aaee-211f-ea39-e4df",
       "next": "cc40ebcc-aafd-11ea-abc9-0242ac130004-14-b5b6-553d-fd3c-79a7-6627-677f-078b-9261-95cd-9bf9",
       "previous": "607fcc38-292f-11e9-99c7-02420aff0008-19-2c82-a90f-6b14-06c3-6faa-bc02-9f4c-9f1d-d88b-4378"
      },
      {
       "current": "cc40e03c-aafd-11ea-abc9-0242ac130004-16-2f0b-850d-dcc0-57e8-b3a2-aaee-211f-ea39-e4df-edd1",
       "next": "cc40ebcc-aafd-11ea-abc9-0242ac130004-15-553d-fd3c-79a7-6627-677f-078b-9261-95cd-9bf9-44f6",
       "previous": "607fcc38-292f-11e9-99c7-02420aff0008-20-a90f-6b14-06c3-6faa-bc02-9f4c-9f1d-d88b-4378-8883"
      },
      {
       "current": "cc40e03c-aafd-11ea-abc9-0242ac130004-17-850d-dcc0-57e8-b3a2-aaee-211f-ea39-e4df-edd1-fefb",
       "next": "cc40ebcc-aafd-11ea-abc9-0242ac130004-16-fd3c-79a7-6627-677f-078b-9261-95cd-9bf9-44f6-df17",
       "previous": "607fcc38-292f-11e9-99c7-02420aff0008-21-6b14-06c3-6faa-bc02-9f4c-9f1d-d88b-4378-8883-125e"
      }
     ],
     "next": "cc40ebcc-aafd-11ea-abc9-0242ac130004-17-79a7-6627-677f-078b-9261-95cd-9bf9-44f6-df17-f4f5",
     "previous": "607fcc38-292f-11e9-99c7-02420aff0008-22-06c3-6faa-bc02-9f4c-9f1d-d88b-4378-8883-125e-8b04"
    }
   },
   "source": [
    "フェデレーションに直接参加するSPの場合、フェデレーションメタデータが必要。それ以外ではエラーでも問題ない。"
   ]
  },
  {
   "cell_type": "code",
   "execution_count": null,
   "metadata": {
    "lc_cell_meme": {
     "current": "cc40ebcc-aafd-11ea-abc9-0242ac130004-17-79a7-6627-677f-078b-9261-95cd-9bf9-44f6-df17-f4f5",
     "execution_end_time": "2022-04-28T09:01:46.543388Z",
     "history": [
      {
       "current": "cc40ebcc-aafd-11ea-abc9-0242ac130004-13-432b-b5b6-553d-fd3c-79a7-6627-677f-078b-9261-95cd",
       "next": "9847f60c-2049-11e9-99c7-02420aff0008-17-b919-fbc1-2bd1-9ed4-fa88-38c3-f2ad-309a-f460-e5a8",
       "previous": "cc40e03c-aafd-11ea-abc9-0242ac130004-12-d3b1-4745-c395-b5d7-2f0b-850d-dcc0-57e8-b3a2-aaee"
      },
      {
       "current": "cc40ebcc-aafd-11ea-abc9-0242ac130004-14-b5b6-553d-fd3c-79a7-6627-677f-078b-9261-95cd-9bf9",
       "next": "9847f60c-2049-11e9-99c7-02420aff0008-18-fbc1-2bd1-9ed4-fa88-38c3-f2ad-309a-f460-e5a8-ed73",
       "previous": "cc40e03c-aafd-11ea-abc9-0242ac130004-13-4745-c395-b5d7-2f0b-850d-dcc0-57e8-b3a2-aaee-211f"
      },
      {
       "current": "cc40ebcc-aafd-11ea-abc9-0242ac130004-15-553d-fd3c-79a7-6627-677f-078b-9261-95cd-9bf9-44f6",
       "next": "9847f60c-2049-11e9-99c7-02420aff0008-19-2bd1-9ed4-fa88-38c3-f2ad-309a-f460-e5a8-ed73-9ba2",
       "previous": "cc40e03c-aafd-11ea-abc9-0242ac130004-14-c395-b5d7-2f0b-850d-dcc0-57e8-b3a2-aaee-211f-ea39"
      },
      {
       "current": "cc40ebcc-aafd-11ea-abc9-0242ac130004-16-fd3c-79a7-6627-677f-078b-9261-95cd-9bf9-44f6-df17",
       "next": "9847f60c-2049-11e9-99c7-02420aff0008-20-9ed4-fa88-38c3-f2ad-309a-f460-e5a8-ed73-9ba2-56b3",
       "previous": "cc40e03c-aafd-11ea-abc9-0242ac130004-15-b5d7-2f0b-850d-dcc0-57e8-b3a2-aaee-211f-ea39-e4df"
      },
      {
       "current": "cc40ebcc-aafd-11ea-abc9-0242ac130004-17-79a7-6627-677f-078b-9261-95cd-9bf9-44f6-df17-f4f5",
       "next": "9847f60c-2049-11e9-99c7-02420aff0008-21-fa88-38c3-f2ad-309a-f460-e5a8-ed73-9ba2-56b3-7dbc",
       "previous": "cc40e03c-aafd-11ea-abc9-0242ac130004-16-2f0b-850d-dcc0-57e8-b3a2-aaee-211f-ea39-e4df-edd1"
      }
     ],
     "next": "9847f60c-2049-11e9-99c7-02420aff0008-22-38c3-f2ad-309a-f460-e5a8-ed73-9ba2-56b3-7dbc-5486",
     "previous": "cc40e03c-aafd-11ea-abc9-0242ac130004-17-850d-dcc0-57e8-b3a2-aaee-211f-ea39-e4df-edd1-fefb"
    }
   },
   "outputs": [],
   "source": [
    "!ansible -b -a 'docker exec -i {auth_proxy_container_id} ls -l /var/www/simplesamlphp/metadata/gakunin-metadata' \\\n",
    "    {auth_proxy_node_ip[0]} ;:"
   ]
  },
  {
   "cell_type": "markdown",
   "metadata": {
    "lc_cell_meme": {
     "current": "9847f60c-2049-11e9-99c7-02420aff0008-22-38c3-f2ad-309a-f460-e5a8-ed73-9ba2-56b3-7dbc-5486",
     "history": [
      {
       "current": "9847f60c-2049-11e9-99c7-02420aff0008-18-fbc1-2bd1-9ed4-fa88-38c3-f2ad-309a-f460-e5a8-ed73",
       "next": "9847f68e-2049-11e9-99c7-02420aff0008-17-ad38-670a-5e38-2dff-5497-8fd5-a8ad-c09a-0741-e8d1",
       "previous": "cc40ebcc-aafd-11ea-abc9-0242ac130004-12-3997-432b-b5b6-553d-fd3c-79a7-6627-677f-078b-9261"
      },
      {
       "current": "9847f60c-2049-11e9-99c7-02420aff0008-19-2bd1-9ed4-fa88-38c3-f2ad-309a-f460-e5a8-ed73-9ba2",
       "next": "9847f68e-2049-11e9-99c7-02420aff0008-18-670a-5e38-2dff-5497-8fd5-a8ad-c09a-0741-e8d1-6042",
       "previous": "cc40ebcc-aafd-11ea-abc9-0242ac130004-13-432b-b5b6-553d-fd3c-79a7-6627-677f-078b-9261-95cd"
      },
      {
       "current": "9847f60c-2049-11e9-99c7-02420aff0008-20-9ed4-fa88-38c3-f2ad-309a-f460-e5a8-ed73-9ba2-56b3",
       "next": "9847f68e-2049-11e9-99c7-02420aff0008-19-5e38-2dff-5497-8fd5-a8ad-c09a-0741-e8d1-6042-5a97",
       "previous": "cc40ebcc-aafd-11ea-abc9-0242ac130004-14-b5b6-553d-fd3c-79a7-6627-677f-078b-9261-95cd-9bf9"
      },
      {
       "current": "9847f60c-2049-11e9-99c7-02420aff0008-21-fa88-38c3-f2ad-309a-f460-e5a8-ed73-9ba2-56b3-7dbc",
       "next": "9847f68e-2049-11e9-99c7-02420aff0008-20-2dff-5497-8fd5-a8ad-c09a-0741-e8d1-6042-5a97-508b",
       "previous": "cc40ebcc-aafd-11ea-abc9-0242ac130004-15-553d-fd3c-79a7-6627-677f-078b-9261-95cd-9bf9-44f6"
      },
      {
       "current": "9847f60c-2049-11e9-99c7-02420aff0008-22-38c3-f2ad-309a-f460-e5a8-ed73-9ba2-56b3-7dbc-5486",
       "next": "9847f68e-2049-11e9-99c7-02420aff0008-21-5497-8fd5-a8ad-c09a-0741-e8d1-6042-5a97-508b-a3c7",
       "previous": "cc40ebcc-aafd-11ea-abc9-0242ac130004-16-fd3c-79a7-6627-677f-078b-9261-95cd-9bf9-44f6-df17"
      }
     ],
     "next": "9847f68e-2049-11e9-99c7-02420aff0008-22-8fd5-a8ad-c09a-0741-e8d1-6042-5a97-508b-a3c7-db16",
     "previous": "cc40ebcc-aafd-11ea-abc9-0242ac130004-17-79a7-6627-677f-078b-9261-95cd-9bf9-44f6-df17-f4f5"
    }
   },
   "source": [
    "必要なメタデータが無い場合は、手動でメタデータを更新する。以下のページにアクセスする。"
   ]
  },
  {
   "cell_type": "code",
   "execution_count": null,
   "metadata": {
    "lc_cell_meme": {
     "current": "9847f68e-2049-11e9-99c7-02420aff0008-22-8fd5-a8ad-c09a-0741-e8d1-6042-5a97-508b-a3c7-db16",
     "execution_end_time": "2022-04-28T09:01:47.755402Z",
     "history": [
      {
       "current": "9847f68e-2049-11e9-99c7-02420aff0008-18-670a-5e38-2dff-5497-8fd5-a8ad-c09a-0741-e8d1-6042",
       "next": "be88d312-f28f-11ea-9bfc-02420a01001a-9-f04a-a742-66f4-d361-0dde-6405-307f-17dc-6df0",
       "previous": "9847f60c-2049-11e9-99c7-02420aff0008-17-b919-fbc1-2bd1-9ed4-fa88-38c3-f2ad-309a-f460-e5a8"
      },
      {
       "current": "9847f68e-2049-11e9-99c7-02420aff0008-19-5e38-2dff-5497-8fd5-a8ad-c09a-0741-e8d1-6042-5a97",
       "next": "be88d312-f28f-11ea-9bfc-02420a01001a-10-f04a-a742-66f4-d361-0dde-6405-307f-17dc-6df0-bbf1",
       "previous": "9847f60c-2049-11e9-99c7-02420aff0008-18-fbc1-2bd1-9ed4-fa88-38c3-f2ad-309a-f460-e5a8-ed73"
      },
      {
       "current": "9847f68e-2049-11e9-99c7-02420aff0008-20-2dff-5497-8fd5-a8ad-c09a-0741-e8d1-6042-5a97-508b",
       "next": "be88d312-f28f-11ea-9bfc-02420a01001a-11-a742-66f4-d361-0dde-6405-307f-17dc-6df0-bbf1-40ee",
       "previous": "9847f60c-2049-11e9-99c7-02420aff0008-19-2bd1-9ed4-fa88-38c3-f2ad-309a-f460-e5a8-ed73-9ba2"
      },
      {
       "current": "9847f68e-2049-11e9-99c7-02420aff0008-21-5497-8fd5-a8ad-c09a-0741-e8d1-6042-5a97-508b-a3c7",
       "next": "be88d312-f28f-11ea-9bfc-02420a01001a-12-66f4-d361-0dde-6405-307f-17dc-6df0-bbf1-40ee-d9aa",
       "previous": "9847f60c-2049-11e9-99c7-02420aff0008-20-9ed4-fa88-38c3-f2ad-309a-f460-e5a8-ed73-9ba2-56b3"
      },
      {
       "current": "9847f68e-2049-11e9-99c7-02420aff0008-22-8fd5-a8ad-c09a-0741-e8d1-6042-5a97-508b-a3c7-db16",
       "next": "be88d312-f28f-11ea-9bfc-02420a01001a-13-d361-0dde-6405-307f-17dc-6df0-bbf1-40ee-d9aa-fcd5",
       "previous": "9847f60c-2049-11e9-99c7-02420aff0008-21-fa88-38c3-f2ad-309a-f460-e5a8-ed73-9ba2-56b3-7dbc"
      }
     ],
     "next": "be88d312-f28f-11ea-9bfc-02420a01001a-14-0dde-6405-307f-17dc-6df0-bbf1-40ee-d9aa-fcd5-c294",
     "previous": "9847f60c-2049-11e9-99c7-02420aff0008-22-38c3-f2ad-309a-f460-e5a8-ed73-9ba2-56b3-7dbc-5486"
    }
   },
   "outputs": [],
   "source": [
    "!echo \"https://{master_fqdn}/simplesaml/module.php/cron/cron.php?key={cron_secret}&tag=daily&output=xhtml\""
   ]
  },
  {
   "cell_type": "markdown",
   "metadata": {
    "lc_cell_meme": {
     "current": "be88d312-f28f-11ea-9bfc-02420a01001a-14-0dde-6405-307f-17dc-6df0-bbf1-40ee-d9aa-fcd5-c294",
     "history": [
      {
       "current": "be88d312-f28f-11ea-9bfc-02420a01001a-10-f04a-a742-66f4-d361-0dde-6405-307f-17dc-6df0-bbf1",
       "next": "aab7a8ac-35d2-11e9-b9a2-02420aff0008-17-3335-e6f3-8143-62c5-ae47-ca0a-5f6f-64a0-6b94-e5b7",
       "previous": "9847f68e-2049-11e9-99c7-02420aff0008-17-ad38-670a-5e38-2dff-5497-8fd5-a8ad-c09a-0741-e8d1"
      },
      {
       "current": "be88d312-f28f-11ea-9bfc-02420a01001a-11-a742-66f4-d361-0dde-6405-307f-17dc-6df0-bbf1-40ee",
       "next": "aab7a8ac-35d2-11e9-b9a2-02420aff0008-18-e6f3-8143-62c5-ae47-ca0a-5f6f-64a0-6b94-e5b7-f937",
       "previous": "9847f68e-2049-11e9-99c7-02420aff0008-18-670a-5e38-2dff-5497-8fd5-a8ad-c09a-0741-e8d1-6042"
      },
      {
       "current": "be88d312-f28f-11ea-9bfc-02420a01001a-12-66f4-d361-0dde-6405-307f-17dc-6df0-bbf1-40ee-d9aa",
       "next": "aab7a8ac-35d2-11e9-b9a2-02420aff0008-19-8143-62c5-ae47-ca0a-5f6f-64a0-6b94-e5b7-f937-8517",
       "previous": "9847f68e-2049-11e9-99c7-02420aff0008-19-5e38-2dff-5497-8fd5-a8ad-c09a-0741-e8d1-6042-5a97"
      },
      {
       "current": "be88d312-f28f-11ea-9bfc-02420a01001a-13-d361-0dde-6405-307f-17dc-6df0-bbf1-40ee-d9aa-fcd5",
       "next": "aab7a8ac-35d2-11e9-b9a2-02420aff0008-20-62c5-ae47-ca0a-5f6f-64a0-6b94-e5b7-f937-8517-58ea",
       "previous": "9847f68e-2049-11e9-99c7-02420aff0008-20-2dff-5497-8fd5-a8ad-c09a-0741-e8d1-6042-5a97-508b"
      },
      {
       "current": "be88d312-f28f-11ea-9bfc-02420a01001a-14-0dde-6405-307f-17dc-6df0-bbf1-40ee-d9aa-fcd5-c294",
       "next": "aab7a8ac-35d2-11e9-b9a2-02420aff0008-21-ae47-ca0a-5f6f-64a0-6b94-e5b7-f937-8517-58ea-fc81",
       "previous": "9847f68e-2049-11e9-99c7-02420aff0008-21-5497-8fd5-a8ad-c09a-0741-e8d1-6042-5a97-508b-a3c7"
      }
     ],
     "next": "aab7a8ac-35d2-11e9-b9a2-02420aff0008-22-ca0a-5f6f-64a0-6b94-e5b7-f937-8517-58ea-fc81-8426",
     "previous": "9847f68e-2049-11e9-99c7-02420aff0008-22-8fd5-a8ad-c09a-0741-e8d1-6042-5a97-508b-a3c7-db16"
    }
   },
   "source": [
    "再確認"
   ]
  },
  {
   "cell_type": "code",
   "execution_count": null,
   "metadata": {
    "lc_cell_meme": {
     "current": "aab7a8ac-35d2-11e9-b9a2-02420aff0008-22-ca0a-5f6f-64a0-6b94-e5b7-f937-8517-58ea-fc81-8426",
     "execution_end_time": "2022-04-28T09:01:50.515930Z",
     "history": [
      {
       "current": "aab7a8ac-35d2-11e9-b9a2-02420aff0008-18-e6f3-8143-62c5-ae47-ca0a-5f6f-64a0-6b94-e5b7-f937",
       "next": "cc40ef96-aafd-11ea-abc9-0242ac130004-12-0451-27e6-b446-752f-73c5-5554-8dfe-fa84-126a-7485",
       "previous": "be88d312-f28f-11ea-9bfc-02420a01001a-9-f04a-a742-66f4-d361-0dde-6405-307f-17dc-6df0"
      },
      {
       "current": "aab7a8ac-35d2-11e9-b9a2-02420aff0008-19-8143-62c5-ae47-ca0a-5f6f-64a0-6b94-e5b7-f937-8517",
       "next": "cc40ef96-aafd-11ea-abc9-0242ac130004-13-27e6-b446-752f-73c5-5554-8dfe-fa84-126a-7485-b612",
       "previous": "be88d312-f28f-11ea-9bfc-02420a01001a-10-f04a-a742-66f4-d361-0dde-6405-307f-17dc-6df0-bbf1"
      },
      {
       "current": "aab7a8ac-35d2-11e9-b9a2-02420aff0008-20-62c5-ae47-ca0a-5f6f-64a0-6b94-e5b7-f937-8517-58ea",
       "next": "cc40ef96-aafd-11ea-abc9-0242ac130004-14-b446-752f-73c5-5554-8dfe-fa84-126a-7485-b612-79c7",
       "previous": "be88d312-f28f-11ea-9bfc-02420a01001a-11-a742-66f4-d361-0dde-6405-307f-17dc-6df0-bbf1-40ee"
      },
      {
       "current": "aab7a8ac-35d2-11e9-b9a2-02420aff0008-21-ae47-ca0a-5f6f-64a0-6b94-e5b7-f937-8517-58ea-fc81",
       "next": "cc40ef96-aafd-11ea-abc9-0242ac130004-15-752f-73c5-5554-8dfe-fa84-126a-7485-b612-79c7-e9b2",
       "previous": "be88d312-f28f-11ea-9bfc-02420a01001a-12-66f4-d361-0dde-6405-307f-17dc-6df0-bbf1-40ee-d9aa"
      },
      {
       "current": "aab7a8ac-35d2-11e9-b9a2-02420aff0008-22-ca0a-5f6f-64a0-6b94-e5b7-f937-8517-58ea-fc81-8426",
       "next": "cc40ef96-aafd-11ea-abc9-0242ac130004-16-73c5-5554-8dfe-fa84-126a-7485-b612-79c7-e9b2-a766",
       "previous": "be88d312-f28f-11ea-9bfc-02420a01001a-13-d361-0dde-6405-307f-17dc-6df0-bbf1-40ee-d9aa-fcd5"
      }
     ],
     "next": "cc40ef96-aafd-11ea-abc9-0242ac130004-17-5554-8dfe-fa84-126a-7485-b612-79c7-e9b2-a766-ea36",
     "previous": "be88d312-f28f-11ea-9bfc-02420a01001a-14-0dde-6405-307f-17dc-6df0-bbf1-40ee-d9aa-fcd5-c294"
    }
   },
   "outputs": [],
   "source": [
    "!ansible -b -a 'docker exec -i {auth_proxy_container_id} ls -l /var/www/simplesamlphp/metadata/idp-proxy' \\\n",
    "    {auth_proxy_node_ip[0]}"
   ]
  },
  {
   "cell_type": "code",
   "execution_count": null,
   "metadata": {
    "lc_cell_meme": {
     "current": "cc40ef96-aafd-11ea-abc9-0242ac130004-17-5554-8dfe-fa84-126a-7485-b612-79c7-e9b2-a766-ea36",
     "execution_end_time": "2022-04-28T09:01:53.206729Z",
     "history": [
      {
       "current": "cc40ef96-aafd-11ea-abc9-0242ac130004-13-27e6-b446-752f-73c5-5554-8dfe-fa84-126a-7485-b612",
       "next": "aa0ecaa6-d674-11e8-a64b-02420aff0006-16-69c1-6238-7e08-3993-f318-dc51-6e78-3ca0-5892-316b",
       "previous": "aab7a8ac-35d2-11e9-b9a2-02420aff0008-17-3335-e6f3-8143-62c5-ae47-ca0a-5f6f-64a0-6b94-e5b7"
      },
      {
       "current": "cc40ef96-aafd-11ea-abc9-0242ac130004-14-b446-752f-73c5-5554-8dfe-fa84-126a-7485-b612-79c7",
       "next": "aa0ecaa6-d674-11e8-a64b-02420aff0006-17-6238-7e08-3993-f318-dc51-6e78-3ca0-5892-316b-6666",
       "previous": "aab7a8ac-35d2-11e9-b9a2-02420aff0008-18-e6f3-8143-62c5-ae47-ca0a-5f6f-64a0-6b94-e5b7-f937"
      },
      {
       "current": "cc40ef96-aafd-11ea-abc9-0242ac130004-15-752f-73c5-5554-8dfe-fa84-126a-7485-b612-79c7-e9b2",
       "next": "aa0ecaa6-d674-11e8-a64b-02420aff0006-18-7e08-3993-f318-dc51-6e78-3ca0-5892-316b-6666-08a1",
       "previous": "aab7a8ac-35d2-11e9-b9a2-02420aff0008-19-8143-62c5-ae47-ca0a-5f6f-64a0-6b94-e5b7-f937-8517"
      },
      {
       "current": "cc40ef96-aafd-11ea-abc9-0242ac130004-16-73c5-5554-8dfe-fa84-126a-7485-b612-79c7-e9b2-a766",
       "next": "aa0ecaa6-d674-11e8-a64b-02420aff0006-19-3993-f318-dc51-6e78-3ca0-5892-316b-6666-08a1-eec7",
       "previous": "aab7a8ac-35d2-11e9-b9a2-02420aff0008-20-62c5-ae47-ca0a-5f6f-64a0-6b94-e5b7-f937-8517-58ea"
      },
      {
       "current": "cc40ef96-aafd-11ea-abc9-0242ac130004-17-5554-8dfe-fa84-126a-7485-b612-79c7-e9b2-a766-ea36",
       "next": "aa0ecaa6-d674-11e8-a64b-02420aff0006-20-f318-dc51-6e78-3ca0-5892-316b-6666-08a1-eec7-9007",
       "previous": "aab7a8ac-35d2-11e9-b9a2-02420aff0008-21-ae47-ca0a-5f6f-64a0-6b94-e5b7-f937-8517-58ea-fc81"
      }
     ],
     "next": "aa0ecaa6-d674-11e8-a64b-02420aff0006-21-dc51-6e78-3ca0-5892-316b-6666-08a1-eec7-9007-9596",
     "previous": "aab7a8ac-35d2-11e9-b9a2-02420aff0008-22-ca0a-5f6f-64a0-6b94-e5b7-f937-8517-58ea-fc81-8426"
    },
    "scrolled": true
   },
   "outputs": [],
   "source": [
    "!ansible -b -a 'docker exec -i {auth_proxy_container_id} ls -l /var/www/simplesamlphp/metadata/gakunin-metadata' \\\n",
    "    {auth_proxy_node_ip[0]} ;:"
   ]
  },
  {
   "cell_type": "markdown",
   "metadata": {
    "lc_cell_meme": {
     "current": "aa0ecaa6-d674-11e8-a64b-02420aff0006-21-dc51-6e78-3ca0-5892-316b-6666-08a1-eec7-9007-9596",
     "history": [
      {
       "current": "aa0ecaa6-d674-11e8-a64b-02420aff0006-17-6238-7e08-3993-f318-dc51-6e78-3ca0-5892-316b-6666",
       "next": "c1bee04a-db34-11e8-a64b-02420aff0006-16-c5cf-47a0-4ce8-46d8-e12a-1699-3ade-9922-5cde-6621",
       "previous": "cc40ef96-aafd-11ea-abc9-0242ac130004-12-0451-27e6-b446-752f-73c5-5554-8dfe-fa84-126a-7485"
      },
      {
       "current": "aa0ecaa6-d674-11e8-a64b-02420aff0006-18-7e08-3993-f318-dc51-6e78-3ca0-5892-316b-6666-08a1",
       "next": "c1bee04a-db34-11e8-a64b-02420aff0006-17-47a0-4ce8-46d8-e12a-1699-3ade-9922-5cde-6621-60dd",
       "previous": "cc40ef96-aafd-11ea-abc9-0242ac130004-13-27e6-b446-752f-73c5-5554-8dfe-fa84-126a-7485-b612"
      },
      {
       "current": "aa0ecaa6-d674-11e8-a64b-02420aff0006-19-3993-f318-dc51-6e78-3ca0-5892-316b-6666-08a1-eec7",
       "next": "c1bee04a-db34-11e8-a64b-02420aff0006-18-4ce8-46d8-e12a-1699-3ade-9922-5cde-6621-60dd-76e1",
       "previous": "cc40ef96-aafd-11ea-abc9-0242ac130004-14-b446-752f-73c5-5554-8dfe-fa84-126a-7485-b612-79c7"
      },
      {
       "current": "aa0ecaa6-d674-11e8-a64b-02420aff0006-20-f318-dc51-6e78-3ca0-5892-316b-6666-08a1-eec7-9007",
       "next": "c1bee04a-db34-11e8-a64b-02420aff0006-19-46d8-e12a-1699-3ade-9922-5cde-6621-60dd-76e1-d9c0",
       "previous": "cc40ef96-aafd-11ea-abc9-0242ac130004-15-752f-73c5-5554-8dfe-fa84-126a-7485-b612-79c7-e9b2"
      },
      {
       "current": "aa0ecaa6-d674-11e8-a64b-02420aff0006-21-dc51-6e78-3ca0-5892-316b-6666-08a1-eec7-9007-9596",
       "next": "c1bee04a-db34-11e8-a64b-02420aff0006-20-e12a-1699-3ade-9922-5cde-6621-60dd-76e1-d9c0-4472",
       "previous": "cc40ef96-aafd-11ea-abc9-0242ac130004-16-73c5-5554-8dfe-fa84-126a-7485-b612-79c7-e9b2-a766"
      }
     ],
     "next": "c1bee04a-db34-11e8-a64b-02420aff0006-21-1699-3ade-9922-5cde-6621-60dd-76e1-d9c0-4472-808d",
     "previous": "cc40ef96-aafd-11ea-abc9-0242ac130004-17-5554-8dfe-fa84-126a-7485-b612-79c7-e9b2-a766-ea36"
    }
   },
   "source": [
    "# 管理者の追加\n",
    "\n",
    "最初のユーザーとして、管理者のユーザーを作成する。"
   ]
  },
  {
   "cell_type": "markdown",
   "metadata": {
    "lc_cell_meme": {
     "current": "c1bee04a-db34-11e8-a64b-02420aff0006-21-1699-3ade-9922-5cde-6621-60dd-76e1-d9c0-4472-808d",
     "history": [
      {
       "current": "c1bee04a-db34-11e8-a64b-02420aff0006-17-47a0-4ce8-46d8-e12a-1699-3ade-9922-5cde-6621-60dd",
       "next": "14917712-db33-11e8-a64b-02420aff0006-16-8cd7-d6d1-1f41-fed0-37cd-a21c-8980-d302-ea52-cb07",
       "previous": "aa0ecaa6-d674-11e8-a64b-02420aff0006-16-69c1-6238-7e08-3993-f318-dc51-6e78-3ca0-5892-316b"
      },
      {
       "current": "c1bee04a-db34-11e8-a64b-02420aff0006-18-4ce8-46d8-e12a-1699-3ade-9922-5cde-6621-60dd-76e1",
       "next": "14917712-db33-11e8-a64b-02420aff0006-17-d6d1-1f41-fed0-37cd-a21c-8980-d302-ea52-cb07-a78b",
       "previous": "aa0ecaa6-d674-11e8-a64b-02420aff0006-17-6238-7e08-3993-f318-dc51-6e78-3ca0-5892-316b-6666"
      },
      {
       "current": "c1bee04a-db34-11e8-a64b-02420aff0006-19-46d8-e12a-1699-3ade-9922-5cde-6621-60dd-76e1-d9c0",
       "next": "14917712-db33-11e8-a64b-02420aff0006-18-1f41-fed0-37cd-a21c-8980-d302-ea52-cb07-a78b-39e0",
       "previous": "aa0ecaa6-d674-11e8-a64b-02420aff0006-18-7e08-3993-f318-dc51-6e78-3ca0-5892-316b-6666-08a1"
      },
      {
       "current": "c1bee04a-db34-11e8-a64b-02420aff0006-20-e12a-1699-3ade-9922-5cde-6621-60dd-76e1-d9c0-4472",
       "next": "14917712-db33-11e8-a64b-02420aff0006-19-fed0-37cd-a21c-8980-d302-ea52-cb07-a78b-39e0-e356",
       "previous": "aa0ecaa6-d674-11e8-a64b-02420aff0006-19-3993-f318-dc51-6e78-3ca0-5892-316b-6666-08a1-eec7"
      },
      {
       "current": "c1bee04a-db34-11e8-a64b-02420aff0006-21-1699-3ade-9922-5cde-6621-60dd-76e1-d9c0-4472-808d",
       "next": "14917712-db33-11e8-a64b-02420aff0006-20-37cd-a21c-8980-d302-ea52-cb07-a78b-39e0-e356-d498",
       "previous": "aa0ecaa6-d674-11e8-a64b-02420aff0006-20-f318-dc51-6e78-3ca0-5892-316b-6666-08a1-eec7-9007"
      }
     ],
     "next": "14917712-db33-11e8-a64b-02420aff0006-21-a21c-8980-d302-ea52-cb07-a78b-39e0-e356-d498-a13d",
     "previous": "aa0ecaa6-d674-11e8-a64b-02420aff0006-21-dc51-6e78-3ca0-5892-316b-6666-08a1-eec7-9007-9596"
    }
   },
   "source": [
    "## 管理者情報の設定"
   ]
  },
  {
   "cell_type": "markdown",
   "metadata": {
    "lc_cell_meme": {
     "current": "14917712-db33-11e8-a64b-02420aff0006-21-a21c-8980-d302-ea52-cb07-a78b-39e0-e356-d498-a13d",
     "history": [
      {
       "current": "14917712-db33-11e8-a64b-02420aff0006-17-d6d1-1f41-fed0-37cd-a21c-8980-d302-ea52-cb07-a78b",
       "next": "58e32576-b25a-11e7-a38f-0242ac120002-16-969c-d5b6-2ecd-13d2-27f1-d1e2-fd12-b19f-ade5-0c0c",
       "previous": "c1bee04a-db34-11e8-a64b-02420aff0006-16-c5cf-47a0-4ce8-46d8-e12a-1699-3ade-9922-5cde-6621"
      },
      {
       "current": "14917712-db33-11e8-a64b-02420aff0006-18-1f41-fed0-37cd-a21c-8980-d302-ea52-cb07-a78b-39e0",
       "next": "58e32576-b25a-11e7-a38f-0242ac120002-17-d5b6-2ecd-13d2-27f1-d1e2-fd12-b19f-ade5-0c0c-a63a",
       "previous": "c1bee04a-db34-11e8-a64b-02420aff0006-17-47a0-4ce8-46d8-e12a-1699-3ade-9922-5cde-6621-60dd"
      },
      {
       "current": "14917712-db33-11e8-a64b-02420aff0006-19-fed0-37cd-a21c-8980-d302-ea52-cb07-a78b-39e0-e356",
       "next": "58e32576-b25a-11e7-a38f-0242ac120002-18-2ecd-13d2-27f1-d1e2-fd12-b19f-ade5-0c0c-a63a-6907",
       "previous": "c1bee04a-db34-11e8-a64b-02420aff0006-18-4ce8-46d8-e12a-1699-3ade-9922-5cde-6621-60dd-76e1"
      },
      {
       "current": "14917712-db33-11e8-a64b-02420aff0006-20-37cd-a21c-8980-d302-ea52-cb07-a78b-39e0-e356-d498",
       "next": "58e32576-b25a-11e7-a38f-0242ac120002-19-13d2-27f1-d1e2-fd12-b19f-ade5-0c0c-a63a-6907-a4f7",
       "previous": "c1bee04a-db34-11e8-a64b-02420aff0006-19-46d8-e12a-1699-3ade-9922-5cde-6621-60dd-76e1-d9c0"
      },
      {
       "current": "14917712-db33-11e8-a64b-02420aff0006-21-a21c-8980-d302-ea52-cb07-a78b-39e0-e356-d498-a13d",
       "next": "58e32576-b25a-11e7-a38f-0242ac120002-20-27f1-d1e2-fd12-b19f-ade5-0c0c-a63a-6907-a4f7-7843",
       "previous": "c1bee04a-db34-11e8-a64b-02420aff0006-20-e12a-1699-3ade-9922-5cde-6621-60dd-76e1-d9c0-4472"
      }
     ],
     "next": "58e32576-b25a-11e7-a38f-0242ac120002-21-d1e2-fd12-b19f-ade5-0c0c-a63a-6907-a4f7-7843-de34",
     "previous": "c1bee04a-db34-11e8-a64b-02420aff0006-21-1699-3ade-9922-5cde-6621-60dd-76e1-d9c0-4472-808d"
    }
   },
   "source": [
    "管理者のメールアドレスを指定する。"
   ]
  },
  {
   "cell_type": "code",
   "execution_count": null,
   "metadata": {
    "lc_cell_meme": {
     "current": "58e32576-b25a-11e7-a38f-0242ac120002-21-d1e2-fd12-b19f-ade5-0c0c-a63a-6907-a4f7-7843-de34",
     "execution_end_time": "2022-04-28T09:05:37.407006Z",
     "history": [
      {
       "current": "58e32576-b25a-11e7-a38f-0242ac120002-17-d5b6-2ecd-13d2-27f1-d1e2-fd12-b19f-ade5-0c0c-a63a",
       "next": "cc8704c2-e6f1-11e7-a665-0242ac120002-16-11bd-e40a-7f99-a009-9bbd-971b-b3f2-5ac6-62a4-30d2",
       "previous": "14917712-db33-11e8-a64b-02420aff0006-16-8cd7-d6d1-1f41-fed0-37cd-a21c-8980-d302-ea52-cb07"
      },
      {
       "current": "58e32576-b25a-11e7-a38f-0242ac120002-18-2ecd-13d2-27f1-d1e2-fd12-b19f-ade5-0c0c-a63a-6907",
       "next": "cc8704c2-e6f1-11e7-a665-0242ac120002-17-e40a-7f99-a009-9bbd-971b-b3f2-5ac6-62a4-30d2-f502",
       "previous": "14917712-db33-11e8-a64b-02420aff0006-17-d6d1-1f41-fed0-37cd-a21c-8980-d302-ea52-cb07-a78b"
      },
      {
       "current": "58e32576-b25a-11e7-a38f-0242ac120002-19-13d2-27f1-d1e2-fd12-b19f-ade5-0c0c-a63a-6907-a4f7",
       "next": "cc8704c2-e6f1-11e7-a665-0242ac120002-18-7f99-a009-9bbd-971b-b3f2-5ac6-62a4-30d2-f502-bd16",
       "previous": "14917712-db33-11e8-a64b-02420aff0006-18-1f41-fed0-37cd-a21c-8980-d302-ea52-cb07-a78b-39e0"
      },
      {
       "current": "58e32576-b25a-11e7-a38f-0242ac120002-20-27f1-d1e2-fd12-b19f-ade5-0c0c-a63a-6907-a4f7-7843",
       "next": "cc8704c2-e6f1-11e7-a665-0242ac120002-19-a009-9bbd-971b-b3f2-5ac6-62a4-30d2-f502-bd16-05de",
       "previous": "14917712-db33-11e8-a64b-02420aff0006-19-fed0-37cd-a21c-8980-d302-ea52-cb07-a78b-39e0-e356"
      },
      {
       "current": "58e32576-b25a-11e7-a38f-0242ac120002-21-d1e2-fd12-b19f-ade5-0c0c-a63a-6907-a4f7-7843-de34",
       "next": "cc8704c2-e6f1-11e7-a665-0242ac120002-20-9bbd-971b-b3f2-5ac6-62a4-30d2-f502-bd16-05de-9edb",
       "previous": "14917712-db33-11e8-a64b-02420aff0006-20-37cd-a21c-8980-d302-ea52-cb07-a78b-39e0-e356-d498"
      }
     ],
     "next": "cc8704c2-e6f1-11e7-a665-0242ac120002-21-971b-b3f2-5ac6-62a4-30d2-f502-bd16-05de-9edb-5253",
     "previous": "14917712-db33-11e8-a64b-02420aff0006-21-a21c-8980-d302-ea52-cb07-a78b-39e0-e356-d498-a13d"
    }
   },
   "outputs": [],
   "source": [
    "teacher_email = 'cwhadmin@example.com'\n",
    "teacher_email"
   ]
  },
  {
   "cell_type": "code",
   "execution_count": null,
   "metadata": {
    "lc_cell_meme": {
     "current": "cc8704c2-e6f1-11e7-a665-0242ac120002-21-971b-b3f2-5ac6-62a4-30d2-f502-bd16-05de-9edb-5253",
     "execution_end_time": "2022-04-28T09:05:38.326043Z",
     "history": [
      {
       "current": "cc8704c2-e6f1-11e7-a665-0242ac120002-17-e40a-7f99-a009-9bbd-971b-b3f2-5ac6-62a4-30d2-f502",
       "next": "9d9071a8-4889-11e9-8bae-0242ac130002-16-3757-2150-019c-e12f-6db5-4460-4046-1e70-f8eb-1505",
       "previous": "58e32576-b25a-11e7-a38f-0242ac120002-16-969c-d5b6-2ecd-13d2-27f1-d1e2-fd12-b19f-ade5-0c0c"
      },
      {
       "current": "cc8704c2-e6f1-11e7-a665-0242ac120002-18-7f99-a009-9bbd-971b-b3f2-5ac6-62a4-30d2-f502-bd16",
       "next": "9d9071a8-4889-11e9-8bae-0242ac130002-17-2150-019c-e12f-6db5-4460-4046-1e70-f8eb-1505-ec66",
       "previous": "58e32576-b25a-11e7-a38f-0242ac120002-17-d5b6-2ecd-13d2-27f1-d1e2-fd12-b19f-ade5-0c0c-a63a"
      },
      {
       "current": "cc8704c2-e6f1-11e7-a665-0242ac120002-19-a009-9bbd-971b-b3f2-5ac6-62a4-30d2-f502-bd16-05de",
       "next": "9d9071a8-4889-11e9-8bae-0242ac130002-18-019c-e12f-6db5-4460-4046-1e70-f8eb-1505-ec66-4ea6",
       "previous": "58e32576-b25a-11e7-a38f-0242ac120002-18-2ecd-13d2-27f1-d1e2-fd12-b19f-ade5-0c0c-a63a-6907"
      },
      {
       "current": "cc8704c2-e6f1-11e7-a665-0242ac120002-20-9bbd-971b-b3f2-5ac6-62a4-30d2-f502-bd16-05de-9edb",
       "next": "9d9071a8-4889-11e9-8bae-0242ac130002-19-e12f-6db5-4460-4046-1e70-f8eb-1505-ec66-4ea6-e140",
       "previous": "58e32576-b25a-11e7-a38f-0242ac120002-19-13d2-27f1-d1e2-fd12-b19f-ade5-0c0c-a63a-6907-a4f7"
      },
      {
       "current": "cc8704c2-e6f1-11e7-a665-0242ac120002-21-971b-b3f2-5ac6-62a4-30d2-f502-bd16-05de-9edb-5253",
       "next": "9d9071a8-4889-11e9-8bae-0242ac130002-20-6db5-4460-4046-1e70-f8eb-1505-ec66-4ea6-e140-6072",
       "previous": "58e32576-b25a-11e7-a38f-0242ac120002-20-27f1-d1e2-fd12-b19f-ade5-0c0c-a63a-6907-a4f7-7843"
      }
     ],
     "next": "9d9071a8-4889-11e9-8bae-0242ac130002-21-4460-4046-1e70-f8eb-1505-ec66-4ea6-e140-6072-4c19",
     "previous": "58e32576-b25a-11e7-a38f-0242ac120002-21-d1e2-fd12-b19f-ade5-0c0c-a63a-6907-a4f7-7843-de34"
    }
   },
   "outputs": [],
   "source": [
    "# 適当なアドレスを指定したことを確認したら、このセルをFreezeして先に進めます。\n",
    "assert False"
   ]
  },
  {
   "cell_type": "code",
   "execution_count": null,
   "metadata": {
    "lc_cell_meme": {
     "current": "9d9071a8-4889-11e9-8bae-0242ac130002-21-4460-4046-1e70-f8eb-1505-ec66-4ea6-e140-6072-4c19",
     "execution_end_time": "2022-04-28T09:05:40.062476Z",
     "history": [
      {
       "current": "9d9071a8-4889-11e9-8bae-0242ac130002-17-2150-019c-e12f-6db5-4460-4046-1e70-f8eb-1505-ec66",
       "next": "9d907392-4889-11e9-8bae-0242ac130002-16-60f3-0331-690b-51e8-c55c-b75d-4b7f-3218-be28-dcb9",
       "previous": "cc8704c2-e6f1-11e7-a665-0242ac120002-16-11bd-e40a-7f99-a009-9bbd-971b-b3f2-5ac6-62a4-30d2"
      },
      {
       "current": "9d9071a8-4889-11e9-8bae-0242ac130002-18-019c-e12f-6db5-4460-4046-1e70-f8eb-1505-ec66-4ea6",
       "next": "9d907392-4889-11e9-8bae-0242ac130002-17-0331-690b-51e8-c55c-b75d-4b7f-3218-be28-dcb9-cffe",
       "previous": "cc8704c2-e6f1-11e7-a665-0242ac120002-17-e40a-7f99-a009-9bbd-971b-b3f2-5ac6-62a4-30d2-f502"
      },
      {
       "current": "9d9071a8-4889-11e9-8bae-0242ac130002-19-e12f-6db5-4460-4046-1e70-f8eb-1505-ec66-4ea6-e140",
       "next": "9d907392-4889-11e9-8bae-0242ac130002-18-690b-51e8-c55c-b75d-4b7f-3218-be28-dcb9-cffe-b073",
       "previous": "cc8704c2-e6f1-11e7-a665-0242ac120002-18-7f99-a009-9bbd-971b-b3f2-5ac6-62a4-30d2-f502-bd16"
      },
      {
       "current": "9d9071a8-4889-11e9-8bae-0242ac130002-20-6db5-4460-4046-1e70-f8eb-1505-ec66-4ea6-e140-6072",
       "next": "9d907392-4889-11e9-8bae-0242ac130002-19-51e8-c55c-b75d-4b7f-3218-be28-dcb9-cffe-b073-eaa4",
       "previous": "cc8704c2-e6f1-11e7-a665-0242ac120002-19-a009-9bbd-971b-b3f2-5ac6-62a4-30d2-f502-bd16-05de"
      },
      {
       "current": "9d9071a8-4889-11e9-8bae-0242ac130002-21-4460-4046-1e70-f8eb-1505-ec66-4ea6-e140-6072-4c19",
       "next": "9d907392-4889-11e9-8bae-0242ac130002-20-c55c-b75d-4b7f-3218-be28-dcb9-cffe-b073-eaa4-1921",
       "previous": "cc8704c2-e6f1-11e7-a665-0242ac120002-20-9bbd-971b-b3f2-5ac6-62a4-30d2-f502-bd16-05de-9edb"
      }
     ],
     "next": "9d907392-4889-11e9-8bae-0242ac130002-21-b75d-4b7f-3218-be28-dcb9-cffe-b073-eaa4-1921-bde8",
     "previous": "cc8704c2-e6f1-11e7-a665-0242ac120002-21-971b-b3f2-5ac6-62a4-30d2-f502-bd16-05de-9edb-5253"
    }
   },
   "outputs": [],
   "source": [
    "import hashlib\n",
    "import re\n",
    "\n",
    "def get_username_from_mail_address(mail_address):\n",
    "    # Convert to lower and remove characters except alphabetic\n",
    "    wk = mail_address.split('@')\n",
    "    local_part = wk[0].lower()\n",
    "    result = re.sub(r'[^a-zA-Z0-9]', '', local_part)\n",
    "    # Add top 6bytes of hash string\n",
    "    md5 = hashlib.md5()\n",
    "    md5.update(mail_address.encode('us-ascii'))\n",
    "    h = md5.hexdigest()[0:6]\n",
    "    result += 'x'\n",
    "    result += h;\n",
    "    return result;"
   ]
  },
  {
   "cell_type": "code",
   "execution_count": null,
   "metadata": {
    "lc_cell_meme": {
     "current": "9d907392-4889-11e9-8bae-0242ac130002-21-b75d-4b7f-3218-be28-dcb9-cffe-b073-eaa4-1921-bde8",
     "execution_end_time": "2022-04-28T09:05:41.299309Z",
     "history": [
      {
       "current": "9d907392-4889-11e9-8bae-0242ac130002-17-0331-690b-51e8-c55c-b75d-4b7f-3218-be28-dcb9-cffe",
       "next": "3229cee4-e6f3-11e7-a665-0242ac120002-16-b083-b167-c1ff-4673-c903-2404-8a86-bd6e-8d6b-f639",
       "previous": "9d9071a8-4889-11e9-8bae-0242ac130002-16-3757-2150-019c-e12f-6db5-4460-4046-1e70-f8eb-1505"
      },
      {
       "current": "9d907392-4889-11e9-8bae-0242ac130002-18-690b-51e8-c55c-b75d-4b7f-3218-be28-dcb9-cffe-b073",
       "next": "3229cee4-e6f3-11e7-a665-0242ac120002-17-b167-c1ff-4673-c903-2404-8a86-bd6e-8d6b-f639-6087",
       "previous": "9d9071a8-4889-11e9-8bae-0242ac130002-17-2150-019c-e12f-6db5-4460-4046-1e70-f8eb-1505-ec66"
      },
      {
       "current": "9d907392-4889-11e9-8bae-0242ac130002-19-51e8-c55c-b75d-4b7f-3218-be28-dcb9-cffe-b073-eaa4",
       "next": "3229cee4-e6f3-11e7-a665-0242ac120002-18-c1ff-4673-c903-2404-8a86-bd6e-8d6b-f639-6087-4b12",
       "previous": "9d9071a8-4889-11e9-8bae-0242ac130002-18-019c-e12f-6db5-4460-4046-1e70-f8eb-1505-ec66-4ea6"
      },
      {
       "current": "9d907392-4889-11e9-8bae-0242ac130002-20-c55c-b75d-4b7f-3218-be28-dcb9-cffe-b073-eaa4-1921",
       "next": "3229cee4-e6f3-11e7-a665-0242ac120002-19-4673-c903-2404-8a86-bd6e-8d6b-f639-6087-4b12-89b1",
       "previous": "9d9071a8-4889-11e9-8bae-0242ac130002-19-e12f-6db5-4460-4046-1e70-f8eb-1505-ec66-4ea6-e140"
      },
      {
       "current": "9d907392-4889-11e9-8bae-0242ac130002-21-b75d-4b7f-3218-be28-dcb9-cffe-b073-eaa4-1921-bde8",
       "next": "3229cee4-e6f3-11e7-a665-0242ac120002-20-c903-2404-8a86-bd6e-8d6b-f639-6087-4b12-89b1-80f1",
       "previous": "9d9071a8-4889-11e9-8bae-0242ac130002-20-6db5-4460-4046-1e70-f8eb-1505-ec66-4ea6-e140-6072"
      }
     ],
     "next": "3229cee4-e6f3-11e7-a665-0242ac120002-21-2404-8a86-bd6e-8d6b-f639-6087-4b12-89b1-80f1-333e",
     "previous": "9d9071a8-4889-11e9-8bae-0242ac130002-21-4460-4046-1e70-f8eb-1505-ec66-4ea6-e140-6072-4c19"
    }
   },
   "outputs": [],
   "source": [
    "teacher_id = get_username_from_mail_address(teacher_email)\n",
    "teacher_id"
   ]
  },
  {
   "cell_type": "code",
   "execution_count": null,
   "metadata": {
    "lc_cell_meme": {
     "current": "3229cee4-e6f3-11e7-a665-0242ac120002-21-2404-8a86-bd6e-8d6b-f639-6087-4b12-89b1-80f1-333e",
     "execution_end_time": "2022-04-28T09:05:51.212862Z",
     "history": [
      {
       "current": "3229cee4-e6f3-11e7-a665-0242ac120002-17-b167-c1ff-4673-c903-2404-8a86-bd6e-8d6b-f639-6087",
       "next": "c1bee216-db34-11e8-a64b-02420aff0006-16-27ee-c211-d0d0-50a4-f2fb-5a0b-5154-540b-b9ec-209d",
       "previous": "9d907392-4889-11e9-8bae-0242ac130002-16-60f3-0331-690b-51e8-c55c-b75d-4b7f-3218-be28-dcb9"
      },
      {
       "current": "3229cee4-e6f3-11e7-a665-0242ac120002-18-c1ff-4673-c903-2404-8a86-bd6e-8d6b-f639-6087-4b12",
       "next": "c1bee216-db34-11e8-a64b-02420aff0006-17-c211-d0d0-50a4-f2fb-5a0b-5154-540b-b9ec-209d-2451",
       "previous": "9d907392-4889-11e9-8bae-0242ac130002-17-0331-690b-51e8-c55c-b75d-4b7f-3218-be28-dcb9-cffe"
      },
      {
       "current": "3229cee4-e6f3-11e7-a665-0242ac120002-19-4673-c903-2404-8a86-bd6e-8d6b-f639-6087-4b12-89b1",
       "next": "c1bee216-db34-11e8-a64b-02420aff0006-18-d0d0-50a4-f2fb-5a0b-5154-540b-b9ec-209d-2451-9e5e",
       "previous": "9d907392-4889-11e9-8bae-0242ac130002-18-690b-51e8-c55c-b75d-4b7f-3218-be28-dcb9-cffe-b073"
      },
      {
       "current": "3229cee4-e6f3-11e7-a665-0242ac120002-20-c903-2404-8a86-bd6e-8d6b-f639-6087-4b12-89b1-80f1",
       "next": "c1bee216-db34-11e8-a64b-02420aff0006-19-50a4-f2fb-5a0b-5154-540b-b9ec-209d-2451-9e5e-f76a",
       "previous": "9d907392-4889-11e9-8bae-0242ac130002-19-51e8-c55c-b75d-4b7f-3218-be28-dcb9-cffe-b073-eaa4"
      },
      {
       "current": "3229cee4-e6f3-11e7-a665-0242ac120002-21-2404-8a86-bd6e-8d6b-f639-6087-4b12-89b1-80f1-333e",
       "next": "c1bee216-db34-11e8-a64b-02420aff0006-20-f2fb-5a0b-5154-540b-b9ec-209d-2451-9e5e-f76a-a289",
       "previous": "9d907392-4889-11e9-8bae-0242ac130002-20-c55c-b75d-4b7f-3218-be28-dcb9-cffe-b073-eaa4-1921"
      }
     ],
     "next": "c1bee216-db34-11e8-a64b-02420aff0006-21-5a0b-5154-540b-b9ec-209d-2451-9e5e-f76a-a289-a2d2",
     "previous": "9d907392-4889-11e9-8bae-0242ac130002-21-b75d-4b7f-3218-be28-dcb9-cffe-b073-eaa4-1921-bde8"
    }
   },
   "outputs": [],
   "source": [
    "! ! ansible -a 'id {teacher_id}' {target_hub} -l {target_group}"
   ]
  },
  {
   "cell_type": "markdown",
   "metadata": {
    "lc_cell_meme": {
     "current": "c1bee216-db34-11e8-a64b-02420aff0006-21-5a0b-5154-540b-b9ec-209d-2451-9e5e-f76a-a289-a2d2",
     "history": [
      {
       "current": "c1bee216-db34-11e8-a64b-02420aff0006-17-c211-d0d0-50a4-f2fb-5a0b-5154-540b-b9ec-209d-2451",
       "next": "3d008584-2931-11e9-99c7-02420aff0008-16-6f78-af1f-176d-de0f-ec20-4874-2044-5e31-b623-843c",
       "previous": "3229cee4-e6f3-11e7-a665-0242ac120002-16-b083-b167-c1ff-4673-c903-2404-8a86-bd6e-8d6b-f639"
      },
      {
       "current": "c1bee216-db34-11e8-a64b-02420aff0006-18-d0d0-50a4-f2fb-5a0b-5154-540b-b9ec-209d-2451-9e5e",
       "next": "3d008584-2931-11e9-99c7-02420aff0008-17-af1f-176d-de0f-ec20-4874-2044-5e31-b623-843c-7b8b",
       "previous": "3229cee4-e6f3-11e7-a665-0242ac120002-17-b167-c1ff-4673-c903-2404-8a86-bd6e-8d6b-f639-6087"
      },
      {
       "current": "c1bee216-db34-11e8-a64b-02420aff0006-19-50a4-f2fb-5a0b-5154-540b-b9ec-209d-2451-9e5e-f76a",
       "next": "3d008584-2931-11e9-99c7-02420aff0008-18-176d-de0f-ec20-4874-2044-5e31-b623-843c-7b8b-3767",
       "previous": "3229cee4-e6f3-11e7-a665-0242ac120002-18-c1ff-4673-c903-2404-8a86-bd6e-8d6b-f639-6087-4b12"
      },
      {
       "current": "c1bee216-db34-11e8-a64b-02420aff0006-20-f2fb-5a0b-5154-540b-b9ec-209d-2451-9e5e-f76a-a289",
       "next": "3d008584-2931-11e9-99c7-02420aff0008-19-de0f-ec20-4874-2044-5e31-b623-843c-7b8b-3767-596e",
       "previous": "3229cee4-e6f3-11e7-a665-0242ac120002-19-4673-c903-2404-8a86-bd6e-8d6b-f639-6087-4b12-89b1"
      },
      {
       "current": "c1bee216-db34-11e8-a64b-02420aff0006-21-5a0b-5154-540b-b9ec-209d-2451-9e5e-f76a-a289-a2d2",
       "next": "3d008584-2931-11e9-99c7-02420aff0008-20-ec20-4874-2044-5e31-b623-843c-7b8b-3767-596e-176d",
       "previous": "3229cee4-e6f3-11e7-a665-0242ac120002-20-c903-2404-8a86-bd6e-8d6b-f639-6087-4b12-89b1-80f1"
      }
     ],
     "next": "3d008584-2931-11e9-99c7-02420aff0008-21-4874-2044-5e31-b623-843c-7b8b-3767-596e-176d-e7a8",
     "previous": "3229cee4-e6f3-11e7-a665-0242ac120002-21-2404-8a86-bd6e-8d6b-f639-6087-4b12-89b1-80f1-333e"
    }
   },
   "source": [
    "## Systemユーザの作成"
   ]
  },
  {
   "cell_type": "code",
   "execution_count": null,
   "metadata": {
    "lc_cell_meme": {
     "current": "3d008584-2931-11e9-99c7-02420aff0008-21-4874-2044-5e31-b623-843c-7b8b-3767-596e-176d-e7a8",
     "execution_end_time": "2022-04-28T09:05:54.891036Z",
     "history": [
      {
       "current": "3d008584-2931-11e9-99c7-02420aff0008-17-af1f-176d-de0f-ec20-4874-2044-5e31-b623-843c-7b8b",
       "next": "3229d0c4-e6f3-11e7-a665-0242ac120002-16-7f99-afa2-e7bf-0c2f-06b7-b43f-0158-f725-fa03-e48c",
       "previous": "c1bee216-db34-11e8-a64b-02420aff0006-16-27ee-c211-d0d0-50a4-f2fb-5a0b-5154-540b-b9ec-209d"
      },
      {
       "current": "3d008584-2931-11e9-99c7-02420aff0008-18-176d-de0f-ec20-4874-2044-5e31-b623-843c-7b8b-3767",
       "next": "3229d0c4-e6f3-11e7-a665-0242ac120002-17-afa2-e7bf-0c2f-06b7-b43f-0158-f725-fa03-e48c-472c",
       "previous": "c1bee216-db34-11e8-a64b-02420aff0006-17-c211-d0d0-50a4-f2fb-5a0b-5154-540b-b9ec-209d-2451"
      },
      {
       "current": "3d008584-2931-11e9-99c7-02420aff0008-19-de0f-ec20-4874-2044-5e31-b623-843c-7b8b-3767-596e",
       "next": "3229d0c4-e6f3-11e7-a665-0242ac120002-18-e7bf-0c2f-06b7-b43f-0158-f725-fa03-e48c-472c-7906",
       "previous": "c1bee216-db34-11e8-a64b-02420aff0006-18-d0d0-50a4-f2fb-5a0b-5154-540b-b9ec-209d-2451-9e5e"
      },
      {
       "current": "3d008584-2931-11e9-99c7-02420aff0008-20-ec20-4874-2044-5e31-b623-843c-7b8b-3767-596e-176d",
       "next": "3229d0c4-e6f3-11e7-a665-0242ac120002-19-0c2f-06b7-b43f-0158-f725-fa03-e48c-472c-7906-b587",
       "previous": "c1bee216-db34-11e8-a64b-02420aff0006-19-50a4-f2fb-5a0b-5154-540b-b9ec-209d-2451-9e5e-f76a"
      },
      {
       "current": "3d008584-2931-11e9-99c7-02420aff0008-21-4874-2044-5e31-b623-843c-7b8b-3767-596e-176d-e7a8",
       "next": "3229d0c4-e6f3-11e7-a665-0242ac120002-20-06b7-b43f-0158-f725-fa03-e48c-472c-7906-b587-77fe",
       "previous": "c1bee216-db34-11e8-a64b-02420aff0006-20-f2fb-5a0b-5154-540b-b9ec-209d-2451-9e5e-f76a-a289"
      }
     ],
     "next": "3229d0c4-e6f3-11e7-a665-0242ac120002-21-b43f-0158-f725-fa03-e48c-472c-7906-b587-77fe-4e1f",
     "previous": "c1bee216-db34-11e8-a64b-02420aff0006-21-5a0b-5154-540b-b9ec-209d-2451-9e5e-f76a-a289-a2d2"
    }
   },
   "outputs": [],
   "source": [
    "!ansible -b -m file -a 'path=/jupyter/users state=directory' {target_hub} -l {target_group}"
   ]
  },
  {
   "cell_type": "code",
   "execution_count": null,
   "metadata": {
    "lc_cell_meme": {
     "current": "3229d0c4-e6f3-11e7-a665-0242ac120002-21-b43f-0158-f725-fa03-e48c-472c-7906-b587-77fe-4e1f",
     "execution_end_time": "2022-04-28T09:05:56.463684Z",
     "history": [
      {
       "current": "3229d0c4-e6f3-11e7-a665-0242ac120002-17-afa2-e7bf-0c2f-06b7-b43f-0158-f725-fa03-e48c-472c",
       "next": "f7e3a7f0-e26e-11e8-af4c-21bc3571b6b2-16-fb1a-00ef-bea5-378b-e9cc-349b-1828-dfc1-af66-96ee",
       "previous": "3d008584-2931-11e9-99c7-02420aff0008-16-6f78-af1f-176d-de0f-ec20-4874-2044-5e31-b623-843c"
      },
      {
       "current": "3229d0c4-e6f3-11e7-a665-0242ac120002-18-e7bf-0c2f-06b7-b43f-0158-f725-fa03-e48c-472c-7906",
       "next": "f7e3a7f0-e26e-11e8-af4c-21bc3571b6b2-17-00ef-bea5-378b-e9cc-349b-1828-dfc1-af66-96ee-692b",
       "previous": "3d008584-2931-11e9-99c7-02420aff0008-17-af1f-176d-de0f-ec20-4874-2044-5e31-b623-843c-7b8b"
      },
      {
       "current": "3229d0c4-e6f3-11e7-a665-0242ac120002-19-0c2f-06b7-b43f-0158-f725-fa03-e48c-472c-7906-b587",
       "next": "f7e3a7f0-e26e-11e8-af4c-21bc3571b6b2-18-bea5-378b-e9cc-349b-1828-dfc1-af66-96ee-692b-66ad",
       "previous": "3d008584-2931-11e9-99c7-02420aff0008-18-176d-de0f-ec20-4874-2044-5e31-b623-843c-7b8b-3767"
      },
      {
       "current": "3229d0c4-e6f3-11e7-a665-0242ac120002-20-06b7-b43f-0158-f725-fa03-e48c-472c-7906-b587-77fe",
       "next": "f7e3a7f0-e26e-11e8-af4c-21bc3571b6b2-19-378b-e9cc-349b-1828-dfc1-af66-96ee-692b-66ad-72d7",
       "previous": "3d008584-2931-11e9-99c7-02420aff0008-19-de0f-ec20-4874-2044-5e31-b623-843c-7b8b-3767-596e"
      },
      {
       "current": "3229d0c4-e6f3-11e7-a665-0242ac120002-21-b43f-0158-f725-fa03-e48c-472c-7906-b587-77fe-4e1f",
       "next": "f7e3a7f0-e26e-11e8-af4c-21bc3571b6b2-20-e9cc-349b-1828-dfc1-af66-96ee-692b-66ad-72d7-5d65",
       "previous": "3d008584-2931-11e9-99c7-02420aff0008-20-ec20-4874-2044-5e31-b623-843c-7b8b-3767-596e-176d"
      }
     ],
     "next": "f7e3a7f0-e26e-11e8-af4c-21bc3571b6b2-21-349b-1828-dfc1-af66-96ee-692b-66ad-72d7-5d65-0594",
     "previous": "3d008584-2931-11e9-99c7-02420aff0008-21-4874-2044-5e31-b623-843c-7b8b-3767-596e-176d-e7a8"
    },
    "scrolled": true
   },
   "outputs": [],
   "source": [
    "local_user_info = !ansible -b -m user -a 'name={teacher_id} home=/jupyter/users/{teacher_id}' {target_hub} -l {target_group}\n",
    "local_user_info"
   ]
  },
  {
   "cell_type": "code",
   "execution_count": null,
   "metadata": {
    "lc_cell_meme": {
     "current": "f7e3a7f0-e26e-11e8-af4c-21bc3571b6b2-21-349b-1828-dfc1-af66-96ee-692b-66ad-72d7-5d65-0594",
     "execution_end_time": "2022-04-28T09:05:56.675662Z",
     "history": [
      {
       "current": "f7e3a7f0-e26e-11e8-af4c-21bc3571b6b2-17-00ef-bea5-378b-e9cc-349b-1828-dfc1-af66-96ee-692b",
       "next": "9cc6a5ae-1728-11e9-9b3e-02420aff0006-16-5442-b7fe-a5fa-61a9-ee5c-ebea-3995-f923-c174-70cf",
       "previous": "3229d0c4-e6f3-11e7-a665-0242ac120002-16-7f99-afa2-e7bf-0c2f-06b7-b43f-0158-f725-fa03-e48c"
      },
      {
       "current": "f7e3a7f0-e26e-11e8-af4c-21bc3571b6b2-18-bea5-378b-e9cc-349b-1828-dfc1-af66-96ee-692b-66ad",
       "next": "9cc6a5ae-1728-11e9-9b3e-02420aff0006-17-b7fe-a5fa-61a9-ee5c-ebea-3995-f923-c174-70cf-fa9c",
       "previous": "3229d0c4-e6f3-11e7-a665-0242ac120002-17-afa2-e7bf-0c2f-06b7-b43f-0158-f725-fa03-e48c-472c"
      },
      {
       "current": "f7e3a7f0-e26e-11e8-af4c-21bc3571b6b2-19-378b-e9cc-349b-1828-dfc1-af66-96ee-692b-66ad-72d7",
       "next": "9cc6a5ae-1728-11e9-9b3e-02420aff0006-18-a5fa-61a9-ee5c-ebea-3995-f923-c174-70cf-fa9c-b3ee",
       "previous": "3229d0c4-e6f3-11e7-a665-0242ac120002-18-e7bf-0c2f-06b7-b43f-0158-f725-fa03-e48c-472c-7906"
      },
      {
       "current": "f7e3a7f0-e26e-11e8-af4c-21bc3571b6b2-20-e9cc-349b-1828-dfc1-af66-96ee-692b-66ad-72d7-5d65",
       "next": "9cc6a5ae-1728-11e9-9b3e-02420aff0006-19-61a9-ee5c-ebea-3995-f923-c174-70cf-fa9c-b3ee-7a12",
       "previous": "3229d0c4-e6f3-11e7-a665-0242ac120002-19-0c2f-06b7-b43f-0158-f725-fa03-e48c-472c-7906-b587"
      },
      {
       "current": "f7e3a7f0-e26e-11e8-af4c-21bc3571b6b2-21-349b-1828-dfc1-af66-96ee-692b-66ad-72d7-5d65-0594",
       "next": "9cc6a5ae-1728-11e9-9b3e-02420aff0006-20-ee5c-ebea-3995-f923-c174-70cf-fa9c-b3ee-7a12-5705",
       "previous": "3229d0c4-e6f3-11e7-a665-0242ac120002-20-06b7-b43f-0158-f725-fa03-e48c-472c-7906-b587-77fe"
      }
     ],
     "next": "9cc6a5ae-1728-11e9-9b3e-02420aff0006-21-ebea-3995-f923-c174-70cf-fa9c-b3ee-7a12-5705-b64c",
     "previous": "3229d0c4-e6f3-11e7-a665-0242ac120002-21-b43f-0158-f725-fa03-e48c-472c-7906-b587-77fe-4e1f"
    }
   },
   "outputs": [],
   "source": [
    "import json\n",
    "teacher_uid = json.loads(''.join([local_user_info[0].split()[-1]] + local_user_info[1:]))['uid']\n",
    "teacher_uid"
   ]
  },
  {
   "cell_type": "code",
   "execution_count": null,
   "metadata": {
    "lc_cell_meme": {
     "current": "9cc6a5ae-1728-11e9-9b3e-02420aff0006-21-ebea-3995-f923-c174-70cf-fa9c-b3ee-7a12-5705-b64c",
     "execution_end_time": "2022-04-28T09:05:59.218781Z",
     "history": [
      {
       "current": "9cc6a5ae-1728-11e9-9b3e-02420aff0006-17-b7fe-a5fa-61a9-ee5c-ebea-3995-f923-c174-70cf-fa9c",
       "next": "2cb9643e-488a-11e9-8bae-0242ac130002-16-a10e-1dd1-e5fe-66ca-2541-f9ae-3a7f-6101-84c9-f748",
       "previous": "f7e3a7f0-e26e-11e8-af4c-21bc3571b6b2-16-fb1a-00ef-bea5-378b-e9cc-349b-1828-dfc1-af66-96ee"
      },
      {
       "current": "9cc6a5ae-1728-11e9-9b3e-02420aff0006-18-a5fa-61a9-ee5c-ebea-3995-f923-c174-70cf-fa9c-b3ee",
       "next": "2cb9643e-488a-11e9-8bae-0242ac130002-17-1dd1-e5fe-66ca-2541-f9ae-3a7f-6101-84c9-f748-4370",
       "previous": "f7e3a7f0-e26e-11e8-af4c-21bc3571b6b2-17-00ef-bea5-378b-e9cc-349b-1828-dfc1-af66-96ee-692b"
      },
      {
       "current": "9cc6a5ae-1728-11e9-9b3e-02420aff0006-19-61a9-ee5c-ebea-3995-f923-c174-70cf-fa9c-b3ee-7a12",
       "next": "2cb9643e-488a-11e9-8bae-0242ac130002-18-e5fe-66ca-2541-f9ae-3a7f-6101-84c9-f748-4370-4c1f",
       "previous": "f7e3a7f0-e26e-11e8-af4c-21bc3571b6b2-18-bea5-378b-e9cc-349b-1828-dfc1-af66-96ee-692b-66ad"
      },
      {
       "current": "9cc6a5ae-1728-11e9-9b3e-02420aff0006-20-ee5c-ebea-3995-f923-c174-70cf-fa9c-b3ee-7a12-5705",
       "next": "2cb9643e-488a-11e9-8bae-0242ac130002-19-66ca-2541-f9ae-3a7f-6101-84c9-f748-4370-4c1f-4bb4",
       "previous": "f7e3a7f0-e26e-11e8-af4c-21bc3571b6b2-19-378b-e9cc-349b-1828-dfc1-af66-96ee-692b-66ad-72d7"
      },
      {
       "current": "9cc6a5ae-1728-11e9-9b3e-02420aff0006-21-ebea-3995-f923-c174-70cf-fa9c-b3ee-7a12-5705-b64c",
       "next": "2cb9643e-488a-11e9-8bae-0242ac130002-20-2541-f9ae-3a7f-6101-84c9-f748-4370-4c1f-4bb4-19a8",
       "previous": "f7e3a7f0-e26e-11e8-af4c-21bc3571b6b2-20-e9cc-349b-1828-dfc1-af66-96ee-692b-66ad-72d7-5d65"
      }
     ],
     "next": "2cb9643e-488a-11e9-8bae-0242ac130002-21-f9ae-3a7f-6101-84c9-f748-4370-4c1f-4bb4-19a8-4714",
     "previous": "f7e3a7f0-e26e-11e8-af4c-21bc3571b6b2-21-349b-1828-dfc1-af66-96ee-692b-66ad-72d7-5d65-0594"
    }
   },
   "outputs": [],
   "source": [
    "!ansible -b -a 'ls -la /jupyter/users/{teacher_id}' {target_hub} -l {target_group}"
   ]
  },
  {
   "cell_type": "code",
   "execution_count": null,
   "metadata": {
    "lc_cell_meme": {
     "current": "2cb9643e-488a-11e9-8bae-0242ac130002-21-f9ae-3a7f-6101-84c9-f748-4370-4c1f-4bb4-19a8-4714",
     "execution_end_time": "2022-04-28T09:06:52.547974Z",
     "history": [
      {
       "current": "2cb9643e-488a-11e9-8bae-0242ac130002-17-1dd1-e5fe-66ca-2541-f9ae-3a7f-6101-84c9-f748-4370",
       "next": "2cb96b28-488a-11e9-8bae-0242ac130002-16-8337-90f3-5af3-4b30-71d8-8058-c383-cc31-4d1e-365f",
       "previous": "9cc6a5ae-1728-11e9-9b3e-02420aff0006-16-5442-b7fe-a5fa-61a9-ee5c-ebea-3995-f923-c174-70cf"
      },
      {
       "current": "2cb9643e-488a-11e9-8bae-0242ac130002-18-e5fe-66ca-2541-f9ae-3a7f-6101-84c9-f748-4370-4c1f",
       "next": "2cb96b28-488a-11e9-8bae-0242ac130002-17-90f3-5af3-4b30-71d8-8058-c383-cc31-4d1e-365f-b5da",
       "previous": "9cc6a5ae-1728-11e9-9b3e-02420aff0006-17-b7fe-a5fa-61a9-ee5c-ebea-3995-f923-c174-70cf-fa9c"
      },
      {
       "current": "2cb9643e-488a-11e9-8bae-0242ac130002-19-66ca-2541-f9ae-3a7f-6101-84c9-f748-4370-4c1f-4bb4",
       "next": "2cb96b28-488a-11e9-8bae-0242ac130002-18-5af3-4b30-71d8-8058-c383-cc31-4d1e-365f-b5da-48dd",
       "previous": "9cc6a5ae-1728-11e9-9b3e-02420aff0006-18-a5fa-61a9-ee5c-ebea-3995-f923-c174-70cf-fa9c-b3ee"
      },
      {
       "current": "2cb9643e-488a-11e9-8bae-0242ac130002-20-2541-f9ae-3a7f-6101-84c9-f748-4370-4c1f-4bb4-19a8",
       "next": "2cb96b28-488a-11e9-8bae-0242ac130002-19-4b30-71d8-8058-c383-cc31-4d1e-365f-b5da-48dd-d0b4",
       "previous": "9cc6a5ae-1728-11e9-9b3e-02420aff0006-19-61a9-ee5c-ebea-3995-f923-c174-70cf-fa9c-b3ee-7a12"
      },
      {
       "current": "2cb9643e-488a-11e9-8bae-0242ac130002-21-f9ae-3a7f-6101-84c9-f748-4370-4c1f-4bb4-19a8-4714",
       "next": "2cb96b28-488a-11e9-8bae-0242ac130002-20-71d8-8058-c383-cc31-4d1e-365f-b5da-48dd-d0b4-5938",
       "previous": "9cc6a5ae-1728-11e9-9b3e-02420aff0006-20-ee5c-ebea-3995-f923-c174-70cf-fa9c-b3ee-7a12-5705"
      }
     ],
     "next": "2cb96b28-488a-11e9-8bae-0242ac130002-21-8058-c383-cc31-4d1e-365f-b5da-48dd-d0b4-5938-640a",
     "previous": "9cc6a5ae-1728-11e9-9b3e-02420aff0006-21-ebea-3995-f923-c174-70cf-fa9c-b3ee-7a12-5705-b64c"
    }
   },
   "outputs": [],
   "source": [
    "!ansible -a 'id {teacher_uid}' {target_hub} -l {target_group}"
   ]
  },
  {
   "cell_type": "markdown",
   "metadata": {
    "lc_cell_meme": {
     "current": "2cb96b28-488a-11e9-8bae-0242ac130002-21-8058-c383-cc31-4d1e-365f-b5da-48dd-d0b4-5938-640a",
     "history": [
      {
       "current": "2cb96b28-488a-11e9-8bae-0242ac130002-17-90f3-5af3-4b30-71d8-8058-c383-cc31-4d1e-365f-b5da",
       "next": "e4f44b64-c5db-11e7-82d1-0242ac120002-16-3013-4158-b1cb-34c8-0a4a-0790-5424-edea-fb69-85ba",
       "previous": "2cb9643e-488a-11e9-8bae-0242ac130002-16-a10e-1dd1-e5fe-66ca-2541-f9ae-3a7f-6101-84c9-f748"
      },
      {
       "current": "2cb96b28-488a-11e9-8bae-0242ac130002-18-5af3-4b30-71d8-8058-c383-cc31-4d1e-365f-b5da-48dd",
       "next": "e4f44b64-c5db-11e7-82d1-0242ac120002-17-4158-b1cb-34c8-0a4a-0790-5424-edea-fb69-85ba-13a1",
       "previous": "2cb9643e-488a-11e9-8bae-0242ac130002-17-1dd1-e5fe-66ca-2541-f9ae-3a7f-6101-84c9-f748-4370"
      },
      {
       "current": "2cb96b28-488a-11e9-8bae-0242ac130002-19-4b30-71d8-8058-c383-cc31-4d1e-365f-b5da-48dd-d0b4",
       "next": "e4f44b64-c5db-11e7-82d1-0242ac120002-18-b1cb-34c8-0a4a-0790-5424-edea-fb69-85ba-13a1-7090",
       "previous": "2cb9643e-488a-11e9-8bae-0242ac130002-18-e5fe-66ca-2541-f9ae-3a7f-6101-84c9-f748-4370-4c1f"
      },
      {
       "current": "2cb96b28-488a-11e9-8bae-0242ac130002-20-71d8-8058-c383-cc31-4d1e-365f-b5da-48dd-d0b4-5938",
       "next": "e4f44b64-c5db-11e7-82d1-0242ac120002-19-34c8-0a4a-0790-5424-edea-fb69-85ba-13a1-7090-e473",
       "previous": "2cb9643e-488a-11e9-8bae-0242ac130002-19-66ca-2541-f9ae-3a7f-6101-84c9-f748-4370-4c1f-4bb4"
      },
      {
       "current": "2cb96b28-488a-11e9-8bae-0242ac130002-21-8058-c383-cc31-4d1e-365f-b5da-48dd-d0b4-5938-640a",
       "next": "e4f44b64-c5db-11e7-82d1-0242ac120002-20-0a4a-0790-5424-edea-fb69-85ba-13a1-7090-e473-eea4",
       "previous": "2cb9643e-488a-11e9-8bae-0242ac130002-20-2541-f9ae-3a7f-6101-84c9-f748-4370-4c1f-4bb4-19a8"
      }
     ],
     "next": "e4f44b64-c5db-11e7-82d1-0242ac120002-21-0790-5424-edea-fb69-85ba-13a1-7090-e473-eea4-4098",
     "previous": "2cb9643e-488a-11e9-8bae-0242ac130002-21-f9ae-3a7f-6101-84c9-f748-4370-4c1f-4bb4-19a8-4714"
    }
   },
   "source": [
    "他のノードにもユーザーを作成する。\n",
    "\n",
    "ユーザのUID/GIDを変数にセットする。\n"
   ]
  },
  {
   "cell_type": "code",
   "execution_count": null,
   "metadata": {
    "lc_cell_meme": {
     "current": "e4f44b64-c5db-11e7-82d1-0242ac120002-21-0790-5424-edea-fb69-85ba-13a1-7090-e473-eea4-4098",
     "execution_end_time": "2022-04-28T09:06:54.057955Z",
     "history": [
      {
       "current": "e4f44b64-c5db-11e7-82d1-0242ac120002-17-4158-b1cb-34c8-0a4a-0790-5424-edea-fb69-85ba-13a1",
       "next": "747839e4-488a-11e9-8bae-0242ac130002-16-5d63-eee9-3693-6f15-d5e8-4212-0241-b29c-94cc-3afc",
       "previous": "2cb96b28-488a-11e9-8bae-0242ac130002-16-8337-90f3-5af3-4b30-71d8-8058-c383-cc31-4d1e-365f"
      },
      {
       "current": "e4f44b64-c5db-11e7-82d1-0242ac120002-18-b1cb-34c8-0a4a-0790-5424-edea-fb69-85ba-13a1-7090",
       "next": "747839e4-488a-11e9-8bae-0242ac130002-17-eee9-3693-6f15-d5e8-4212-0241-b29c-94cc-3afc-4798",
       "previous": "2cb96b28-488a-11e9-8bae-0242ac130002-17-90f3-5af3-4b30-71d8-8058-c383-cc31-4d1e-365f-b5da"
      },
      {
       "current": "e4f44b64-c5db-11e7-82d1-0242ac120002-19-34c8-0a4a-0790-5424-edea-fb69-85ba-13a1-7090-e473",
       "next": "747839e4-488a-11e9-8bae-0242ac130002-18-3693-6f15-d5e8-4212-0241-b29c-94cc-3afc-4798-54ff",
       "previous": "2cb96b28-488a-11e9-8bae-0242ac130002-18-5af3-4b30-71d8-8058-c383-cc31-4d1e-365f-b5da-48dd"
      },
      {
       "current": "e4f44b64-c5db-11e7-82d1-0242ac120002-20-0a4a-0790-5424-edea-fb69-85ba-13a1-7090-e473-eea4",
       "next": "747839e4-488a-11e9-8bae-0242ac130002-19-6f15-d5e8-4212-0241-b29c-94cc-3afc-4798-54ff-7e82",
       "previous": "2cb96b28-488a-11e9-8bae-0242ac130002-19-4b30-71d8-8058-c383-cc31-4d1e-365f-b5da-48dd-d0b4"
      },
      {
       "current": "e4f44b64-c5db-11e7-82d1-0242ac120002-21-0790-5424-edea-fb69-85ba-13a1-7090-e473-eea4-4098",
       "next": "747839e4-488a-11e9-8bae-0242ac130002-20-d5e8-4212-0241-b29c-94cc-3afc-4798-54ff-7e82-f5c0",
       "previous": "2cb96b28-488a-11e9-8bae-0242ac130002-20-71d8-8058-c383-cc31-4d1e-365f-b5da-48dd-d0b4-5938"
      }
     ],
     "next": "747839e4-488a-11e9-8bae-0242ac130002-21-4212-0241-b29c-94cc-3afc-4798-54ff-7e82-f5c0-f69d",
     "previous": "2cb96b28-488a-11e9-8bae-0242ac130002-21-8058-c383-cc31-4d1e-365f-b5da-48dd-d0b4-5938-640a"
    }
   },
   "outputs": [],
   "source": [
    "import re\n",
    "\n",
    "teacher_info = !ansible -a 'id {teacher_id}' {target_hub} -l {target_group}\n",
    "teacher_info = re.match(r'uid=(\\d+)\\((\\S+)\\)\\s+gid=(\\d+)\\((\\S+)\\)', teacher_info[1])\n",
    "teacher_uid = teacher_info.group(1)\n",
    "assert teacher_id == teacher_info.group(2)\n",
    "teacher_gid = teacher_info.group(3)\n",
    "teacher_group = teacher_info.group(4)\n",
    "(teacher_uid, teacher_gid, teacher_group)"
   ]
  },
  {
   "cell_type": "markdown",
   "metadata": {
    "lc_cell_meme": {
     "current": "747839e4-488a-11e9-8bae-0242ac130002-21-4212-0241-b29c-94cc-3afc-4798-54ff-7e82-f5c0-f69d",
     "history": [
      {
       "current": "747839e4-488a-11e9-8bae-0242ac130002-17-eee9-3693-6f15-d5e8-4212-0241-b29c-94cc-3afc-4798",
       "next": "2cb973a2-488a-11e9-8bae-0242ac130002-16-af8f-514e-bb50-029d-1351-bbbd-56ed-cfc9-bec2-adea",
       "previous": "e4f44b64-c5db-11e7-82d1-0242ac120002-16-3013-4158-b1cb-34c8-0a4a-0790-5424-edea-fb69-85ba"
      },
      {
       "current": "747839e4-488a-11e9-8bae-0242ac130002-18-3693-6f15-d5e8-4212-0241-b29c-94cc-3afc-4798-54ff",
       "next": "2cb973a2-488a-11e9-8bae-0242ac130002-17-514e-bb50-029d-1351-bbbd-56ed-cfc9-bec2-adea-c744",
       "previous": "e4f44b64-c5db-11e7-82d1-0242ac120002-17-4158-b1cb-34c8-0a4a-0790-5424-edea-fb69-85ba-13a1"
      },
      {
       "current": "747839e4-488a-11e9-8bae-0242ac130002-19-6f15-d5e8-4212-0241-b29c-94cc-3afc-4798-54ff-7e82",
       "next": "2cb973a2-488a-11e9-8bae-0242ac130002-18-bb50-029d-1351-bbbd-56ed-cfc9-bec2-adea-c744-b5be",
       "previous": "e4f44b64-c5db-11e7-82d1-0242ac120002-18-b1cb-34c8-0a4a-0790-5424-edea-fb69-85ba-13a1-7090"
      },
      {
       "current": "747839e4-488a-11e9-8bae-0242ac130002-20-d5e8-4212-0241-b29c-94cc-3afc-4798-54ff-7e82-f5c0",
       "next": "2cb973a2-488a-11e9-8bae-0242ac130002-19-029d-1351-bbbd-56ed-cfc9-bec2-adea-c744-b5be-4665",
       "previous": "e4f44b64-c5db-11e7-82d1-0242ac120002-19-34c8-0a4a-0790-5424-edea-fb69-85ba-13a1-7090-e473"
      },
      {
       "current": "747839e4-488a-11e9-8bae-0242ac130002-21-4212-0241-b29c-94cc-3afc-4798-54ff-7e82-f5c0-f69d",
       "next": "2cb973a2-488a-11e9-8bae-0242ac130002-20-1351-bbbd-56ed-cfc9-bec2-adea-c744-b5be-4665-e974",
       "previous": "e4f44b64-c5db-11e7-82d1-0242ac120002-20-0a4a-0790-5424-edea-fb69-85ba-13a1-7090-e473-eea4"
      }
     ],
     "next": "2cb973a2-488a-11e9-8bae-0242ac130002-21-bbbd-56ed-cfc9-bec2-adea-c744-b5be-4665-e974-dbab",
     "previous": "e4f44b64-c5db-11e7-82d1-0242ac120002-21-0790-5424-edea-fb69-85ba-13a1-7090-e473-eea4-4098"
    }
   },
   "source": [
    "グループを作成"
   ]
  },
  {
   "cell_type": "code",
   "execution_count": null,
   "metadata": {
    "lc_cell_meme": {
     "current": "2cb973a2-488a-11e9-8bae-0242ac130002-21-bbbd-56ed-cfc9-bec2-adea-c744-b5be-4665-e974-dbab",
     "execution_end_time": "2022-04-28T09:06:59.893418Z",
     "history": [
      {
       "current": "2cb973a2-488a-11e9-8bae-0242ac130002-17-514e-bb50-029d-1351-bbbd-56ed-cfc9-bec2-adea-c744",
       "next": "74783d54-488a-11e9-8bae-0242ac130002-16-943f-3e3c-feb0-8a56-aeec-83c6-5c31-0a4f-1a48-4839",
       "previous": "747839e4-488a-11e9-8bae-0242ac130002-16-5d63-eee9-3693-6f15-d5e8-4212-0241-b29c-94cc-3afc"
      },
      {
       "current": "2cb973a2-488a-11e9-8bae-0242ac130002-18-bb50-029d-1351-bbbd-56ed-cfc9-bec2-adea-c744-b5be",
       "next": "74783d54-488a-11e9-8bae-0242ac130002-17-3e3c-feb0-8a56-aeec-83c6-5c31-0a4f-1a48-4839-666a",
       "previous": "747839e4-488a-11e9-8bae-0242ac130002-17-eee9-3693-6f15-d5e8-4212-0241-b29c-94cc-3afc-4798"
      },
      {
       "current": "2cb973a2-488a-11e9-8bae-0242ac130002-19-029d-1351-bbbd-56ed-cfc9-bec2-adea-c744-b5be-4665",
       "next": "74783d54-488a-11e9-8bae-0242ac130002-18-feb0-8a56-aeec-83c6-5c31-0a4f-1a48-4839-666a-49c2",
       "previous": "747839e4-488a-11e9-8bae-0242ac130002-18-3693-6f15-d5e8-4212-0241-b29c-94cc-3afc-4798-54ff"
      },
      {
       "current": "2cb973a2-488a-11e9-8bae-0242ac130002-20-1351-bbbd-56ed-cfc9-bec2-adea-c744-b5be-4665-e974",
       "next": "74783d54-488a-11e9-8bae-0242ac130002-19-8a56-aeec-83c6-5c31-0a4f-1a48-4839-666a-49c2-a84b",
       "previous": "747839e4-488a-11e9-8bae-0242ac130002-19-6f15-d5e8-4212-0241-b29c-94cc-3afc-4798-54ff-7e82"
      },
      {
       "current": "2cb973a2-488a-11e9-8bae-0242ac130002-21-bbbd-56ed-cfc9-bec2-adea-c744-b5be-4665-e974-dbab",
       "next": "74783d54-488a-11e9-8bae-0242ac130002-20-aeec-83c6-5c31-0a4f-1a48-4839-666a-49c2-a84b-c005",
       "previous": "747839e4-488a-11e9-8bae-0242ac130002-20-d5e8-4212-0241-b29c-94cc-3afc-4798-54ff-7e82-f5c0"
      }
     ],
     "next": "74783d54-488a-11e9-8bae-0242ac130002-21-83c6-5c31-0a4f-1a48-4839-666a-49c2-a84b-c005-fd32",
     "previous": "747839e4-488a-11e9-8bae-0242ac130002-21-4212-0241-b29c-94cc-3afc-4798-54ff-7e82-f5c0-f69d"
    }
   },
   "outputs": [],
   "source": [
    "!ansible -CDv -b -m group -a 'name={teacher_group} gid={teacher_gid}' {target_nodes} -l {target_group}"
   ]
  },
  {
   "cell_type": "code",
   "execution_count": null,
   "metadata": {
    "lc_cell_meme": {
     "current": "74783d54-488a-11e9-8bae-0242ac130002-21-83c6-5c31-0a4f-1a48-4839-666a-49c2-a84b-c005-fd32",
     "execution_end_time": "2022-04-28T09:07:02.668667Z",
     "history": [
      {
       "current": "74783d54-488a-11e9-8bae-0242ac130002-17-3e3c-feb0-8a56-aeec-83c6-5c31-0a4f-1a48-4839-666a",
       "next": "74783f02-488a-11e9-8bae-0242ac130002-16-2a72-6dca-e0a9-3962-7d99-f70c-806f-a8b2-2d08-6347",
       "previous": "2cb973a2-488a-11e9-8bae-0242ac130002-16-af8f-514e-bb50-029d-1351-bbbd-56ed-cfc9-bec2-adea"
      },
      {
       "current": "74783d54-488a-11e9-8bae-0242ac130002-18-feb0-8a56-aeec-83c6-5c31-0a4f-1a48-4839-666a-49c2",
       "next": "74783f02-488a-11e9-8bae-0242ac130002-17-6dca-e0a9-3962-7d99-f70c-806f-a8b2-2d08-6347-5536",
       "previous": "2cb973a2-488a-11e9-8bae-0242ac130002-17-514e-bb50-029d-1351-bbbd-56ed-cfc9-bec2-adea-c744"
      },
      {
       "current": "74783d54-488a-11e9-8bae-0242ac130002-19-8a56-aeec-83c6-5c31-0a4f-1a48-4839-666a-49c2-a84b",
       "next": "74783f02-488a-11e9-8bae-0242ac130002-18-e0a9-3962-7d99-f70c-806f-a8b2-2d08-6347-5536-d895",
       "previous": "2cb973a2-488a-11e9-8bae-0242ac130002-18-bb50-029d-1351-bbbd-56ed-cfc9-bec2-adea-c744-b5be"
      },
      {
       "current": "74783d54-488a-11e9-8bae-0242ac130002-20-aeec-83c6-5c31-0a4f-1a48-4839-666a-49c2-a84b-c005",
       "next": "74783f02-488a-11e9-8bae-0242ac130002-19-3962-7d99-f70c-806f-a8b2-2d08-6347-5536-d895-aacf",
       "previous": "2cb973a2-488a-11e9-8bae-0242ac130002-19-029d-1351-bbbd-56ed-cfc9-bec2-adea-c744-b5be-4665"
      },
      {
       "current": "74783d54-488a-11e9-8bae-0242ac130002-21-83c6-5c31-0a4f-1a48-4839-666a-49c2-a84b-c005-fd32",
       "next": "74783f02-488a-11e9-8bae-0242ac130002-20-7d99-f70c-806f-a8b2-2d08-6347-5536-d895-aacf-c52b",
       "previous": "2cb973a2-488a-11e9-8bae-0242ac130002-20-1351-bbbd-56ed-cfc9-bec2-adea-c744-b5be-4665-e974"
      }
     ],
     "next": "74783f02-488a-11e9-8bae-0242ac130002-21-f70c-806f-a8b2-2d08-6347-5536-d895-aacf-c52b-f6aa",
     "previous": "2cb973a2-488a-11e9-8bae-0242ac130002-21-bbbd-56ed-cfc9-bec2-adea-c744-b5be-4665-e974-dbab"
    }
   },
   "outputs": [],
   "source": [
    "!ansible -b -m group -a 'name={teacher_group} gid={teacher_gid}' {target_nodes} -l {target_group}"
   ]
  },
  {
   "cell_type": "markdown",
   "metadata": {
    "lc_cell_meme": {
     "current": "74783f02-488a-11e9-8bae-0242ac130002-21-f70c-806f-a8b2-2d08-6347-5536-d895-aacf-c52b-f6aa",
     "history": [
      {
       "current": "74783f02-488a-11e9-8bae-0242ac130002-17-6dca-e0a9-3962-7d99-f70c-806f-a8b2-2d08-6347-5536",
       "next": "74784092-488a-11e9-8bae-0242ac130002-16-6af9-7a91-415d-cb9a-89fb-77cb-5c56-2359-9252-5fee",
       "previous": "74783d54-488a-11e9-8bae-0242ac130002-16-943f-3e3c-feb0-8a56-aeec-83c6-5c31-0a4f-1a48-4839"
      },
      {
       "current": "74783f02-488a-11e9-8bae-0242ac130002-18-e0a9-3962-7d99-f70c-806f-a8b2-2d08-6347-5536-d895",
       "next": "74784092-488a-11e9-8bae-0242ac130002-17-7a91-415d-cb9a-89fb-77cb-5c56-2359-9252-5fee-91ff",
       "previous": "74783d54-488a-11e9-8bae-0242ac130002-17-3e3c-feb0-8a56-aeec-83c6-5c31-0a4f-1a48-4839-666a"
      },
      {
       "current": "74783f02-488a-11e9-8bae-0242ac130002-19-3962-7d99-f70c-806f-a8b2-2d08-6347-5536-d895-aacf",
       "next": "74784092-488a-11e9-8bae-0242ac130002-18-415d-cb9a-89fb-77cb-5c56-2359-9252-5fee-91ff-79ba",
       "previous": "74783d54-488a-11e9-8bae-0242ac130002-18-feb0-8a56-aeec-83c6-5c31-0a4f-1a48-4839-666a-49c2"
      },
      {
       "current": "74783f02-488a-11e9-8bae-0242ac130002-20-7d99-f70c-806f-a8b2-2d08-6347-5536-d895-aacf-c52b",
       "next": "74784092-488a-11e9-8bae-0242ac130002-19-cb9a-89fb-77cb-5c56-2359-9252-5fee-91ff-79ba-56db",
       "previous": "74783d54-488a-11e9-8bae-0242ac130002-19-8a56-aeec-83c6-5c31-0a4f-1a48-4839-666a-49c2-a84b"
      },
      {
       "current": "74783f02-488a-11e9-8bae-0242ac130002-21-f70c-806f-a8b2-2d08-6347-5536-d895-aacf-c52b-f6aa",
       "next": "74784092-488a-11e9-8bae-0242ac130002-20-89fb-77cb-5c56-2359-9252-5fee-91ff-79ba-56db-fdeb",
       "previous": "74783d54-488a-11e9-8bae-0242ac130002-20-aeec-83c6-5c31-0a4f-1a48-4839-666a-49c2-a84b-c005"
      }
     ],
     "next": "74784092-488a-11e9-8bae-0242ac130002-21-77cb-5c56-2359-9252-5fee-91ff-79ba-56db-fdeb-7d17",
     "previous": "74783d54-488a-11e9-8bae-0242ac130002-21-83c6-5c31-0a4f-1a48-4839-666a-49c2-a84b-c005-fd32"
    }
   },
   "source": [
    "ユーザー作成"
   ]
  },
  {
   "cell_type": "code",
   "execution_count": null,
   "metadata": {
    "lc_cell_meme": {
     "current": "74784092-488a-11e9-8bae-0242ac130002-21-77cb-5c56-2359-9252-5fee-91ff-79ba-56db-fdeb-7d17",
     "execution_end_time": "2022-04-28T09:07:12.673977Z",
     "history": [
      {
       "current": "74784092-488a-11e9-8bae-0242ac130002-17-7a91-415d-cb9a-89fb-77cb-5c56-2359-9252-5fee-91ff",
       "next": "bbd306c0-488a-11e9-8bae-0242ac130002-16-2c48-f5cc-8adb-67f8-4439-7f26-20a1-429d-2e73-eae7",
       "previous": "74783f02-488a-11e9-8bae-0242ac130002-16-2a72-6dca-e0a9-3962-7d99-f70c-806f-a8b2-2d08-6347"
      },
      {
       "current": "74784092-488a-11e9-8bae-0242ac130002-18-415d-cb9a-89fb-77cb-5c56-2359-9252-5fee-91ff-79ba",
       "next": "bbd306c0-488a-11e9-8bae-0242ac130002-17-f5cc-8adb-67f8-4439-7f26-20a1-429d-2e73-eae7-5ca4",
       "previous": "74783f02-488a-11e9-8bae-0242ac130002-17-6dca-e0a9-3962-7d99-f70c-806f-a8b2-2d08-6347-5536"
      },
      {
       "current": "74784092-488a-11e9-8bae-0242ac130002-19-cb9a-89fb-77cb-5c56-2359-9252-5fee-91ff-79ba-56db",
       "next": "bbd306c0-488a-11e9-8bae-0242ac130002-18-8adb-67f8-4439-7f26-20a1-429d-2e73-eae7-5ca4-7904",
       "previous": "74783f02-488a-11e9-8bae-0242ac130002-18-e0a9-3962-7d99-f70c-806f-a8b2-2d08-6347-5536-d895"
      },
      {
       "current": "74784092-488a-11e9-8bae-0242ac130002-20-89fb-77cb-5c56-2359-9252-5fee-91ff-79ba-56db-fdeb",
       "next": "bbd306c0-488a-11e9-8bae-0242ac130002-19-67f8-4439-7f26-20a1-429d-2e73-eae7-5ca4-7904-0540",
       "previous": "74783f02-488a-11e9-8bae-0242ac130002-19-3962-7d99-f70c-806f-a8b2-2d08-6347-5536-d895-aacf"
      },
      {
       "current": "74784092-488a-11e9-8bae-0242ac130002-21-77cb-5c56-2359-9252-5fee-91ff-79ba-56db-fdeb-7d17",
       "next": "bbd306c0-488a-11e9-8bae-0242ac130002-20-4439-7f26-20a1-429d-2e73-eae7-5ca4-7904-0540-414e",
       "previous": "74783f02-488a-11e9-8bae-0242ac130002-20-7d99-f70c-806f-a8b2-2d08-6347-5536-d895-aacf-c52b"
      }
     ],
     "next": "bbd306c0-488a-11e9-8bae-0242ac130002-21-7f26-20a1-429d-2e73-eae7-5ca4-7904-0540-414e-7de5",
     "previous": "74783f02-488a-11e9-8bae-0242ac130002-21-f70c-806f-a8b2-2d08-6347-5536-d895-aacf-c52b-f6aa"
    }
   },
   "outputs": [],
   "source": [
    "!ansible -CDv -b -m user \\\n",
    "    -a 'name={teacher_id} uid={teacher_uid} group={teacher_group} home=/jupyter/users/{teacher_id}' {target_nodes} -l {target_group}"
   ]
  },
  {
   "cell_type": "code",
   "execution_count": null,
   "metadata": {
    "lc_cell_meme": {
     "current": "bbd306c0-488a-11e9-8bae-0242ac130002-21-7f26-20a1-429d-2e73-eae7-5ca4-7904-0540-414e-7de5",
     "execution_end_time": "2022-04-28T09:07:27.121523Z",
     "history": [
      {
       "current": "bbd306c0-488a-11e9-8bae-0242ac130002-17-f5cc-8adb-67f8-4439-7f26-20a1-429d-2e73-eae7-5ca4",
       "next": "bbd30896-488a-11e9-8bae-0242ac130002-16-670d-c558-3104-d7fc-574a-05a8-f40f-0227-d889-3877",
       "previous": "74784092-488a-11e9-8bae-0242ac130002-16-6af9-7a91-415d-cb9a-89fb-77cb-5c56-2359-9252-5fee"
      },
      {
       "current": "bbd306c0-488a-11e9-8bae-0242ac130002-18-8adb-67f8-4439-7f26-20a1-429d-2e73-eae7-5ca4-7904",
       "next": "bbd30896-488a-11e9-8bae-0242ac130002-17-c558-3104-d7fc-574a-05a8-f40f-0227-d889-3877-0633",
       "previous": "74784092-488a-11e9-8bae-0242ac130002-17-7a91-415d-cb9a-89fb-77cb-5c56-2359-9252-5fee-91ff"
      },
      {
       "current": "bbd306c0-488a-11e9-8bae-0242ac130002-19-67f8-4439-7f26-20a1-429d-2e73-eae7-5ca4-7904-0540",
       "next": "bbd30896-488a-11e9-8bae-0242ac130002-18-3104-d7fc-574a-05a8-f40f-0227-d889-3877-0633-f518",
       "previous": "74784092-488a-11e9-8bae-0242ac130002-18-415d-cb9a-89fb-77cb-5c56-2359-9252-5fee-91ff-79ba"
      },
      {
       "current": "bbd306c0-488a-11e9-8bae-0242ac130002-20-4439-7f26-20a1-429d-2e73-eae7-5ca4-7904-0540-414e",
       "next": "bbd30896-488a-11e9-8bae-0242ac130002-19-d7fc-574a-05a8-f40f-0227-d889-3877-0633-f518-8d17",
       "previous": "74784092-488a-11e9-8bae-0242ac130002-19-cb9a-89fb-77cb-5c56-2359-9252-5fee-91ff-79ba-56db"
      },
      {
       "current": "bbd306c0-488a-11e9-8bae-0242ac130002-21-7f26-20a1-429d-2e73-eae7-5ca4-7904-0540-414e-7de5",
       "next": "bbd30896-488a-11e9-8bae-0242ac130002-20-574a-05a8-f40f-0227-d889-3877-0633-f518-8d17-b0c6",
       "previous": "74784092-488a-11e9-8bae-0242ac130002-20-89fb-77cb-5c56-2359-9252-5fee-91ff-79ba-56db-fdeb"
      }
     ],
     "next": "bbd30896-488a-11e9-8bae-0242ac130002-21-05a8-f40f-0227-d889-3877-0633-f518-8d17-b0c6-eba4",
     "previous": "74784092-488a-11e9-8bae-0242ac130002-21-77cb-5c56-2359-9252-5fee-91ff-79ba-56db-fdeb-7d17"
    },
    "scrolled": true
   },
   "outputs": [],
   "source": [
    "!ansible -b -m user \\\n",
    "    -a 'name={teacher_id} uid={teacher_uid} group={teacher_group} home=/jupyter/users/{teacher_id}' {target_nodes} -l {target_group}"
   ]
  },
  {
   "cell_type": "code",
   "execution_count": null,
   "metadata": {
    "lc_cell_meme": {
     "current": "bbd30896-488a-11e9-8bae-0242ac130002-21-05a8-f40f-0227-d889-3877-0633-f518-8d17-b0c6-eba4",
     "execution_end_time": "2022-04-28T09:07:30.749965Z",
     "history": [
      {
       "current": "bbd30896-488a-11e9-8bae-0242ac130002-17-c558-3104-d7fc-574a-05a8-f40f-0227-d889-3877-0633",
       "next": "8b85b64e-3e6b-11e9-b9a2-02420aff0008-16-22b2-fa23-ed0d-550d-9d89-417d-b96c-b8ea-22b7-5d51",
       "previous": "bbd306c0-488a-11e9-8bae-0242ac130002-16-2c48-f5cc-8adb-67f8-4439-7f26-20a1-429d-2e73-eae7"
      },
      {
       "current": "bbd30896-488a-11e9-8bae-0242ac130002-18-3104-d7fc-574a-05a8-f40f-0227-d889-3877-0633-f518",
       "next": "8b85b64e-3e6b-11e9-b9a2-02420aff0008-17-fa23-ed0d-550d-9d89-417d-b96c-b8ea-22b7-5d51-8d8b",
       "previous": "bbd306c0-488a-11e9-8bae-0242ac130002-17-f5cc-8adb-67f8-4439-7f26-20a1-429d-2e73-eae7-5ca4"
      },
      {
       "current": "bbd30896-488a-11e9-8bae-0242ac130002-19-d7fc-574a-05a8-f40f-0227-d889-3877-0633-f518-8d17",
       "next": "8b85b64e-3e6b-11e9-b9a2-02420aff0008-18-ed0d-550d-9d89-417d-b96c-b8ea-22b7-5d51-8d8b-51a7",
       "previous": "bbd306c0-488a-11e9-8bae-0242ac130002-18-8adb-67f8-4439-7f26-20a1-429d-2e73-eae7-5ca4-7904"
      },
      {
       "current": "bbd30896-488a-11e9-8bae-0242ac130002-20-574a-05a8-f40f-0227-d889-3877-0633-f518-8d17-b0c6",
       "next": "8b85b64e-3e6b-11e9-b9a2-02420aff0008-19-550d-9d89-417d-b96c-b8ea-22b7-5d51-8d8b-51a7-a207",
       "previous": "bbd306c0-488a-11e9-8bae-0242ac130002-19-67f8-4439-7f26-20a1-429d-2e73-eae7-5ca4-7904-0540"
      },
      {
       "current": "bbd30896-488a-11e9-8bae-0242ac130002-21-05a8-f40f-0227-d889-3877-0633-f518-8d17-b0c6-eba4",
       "next": "8b85b64e-3e6b-11e9-b9a2-02420aff0008-20-9d89-417d-b96c-b8ea-22b7-5d51-8d8b-51a7-a207-8911",
       "previous": "bbd306c0-488a-11e9-8bae-0242ac130002-20-4439-7f26-20a1-429d-2e73-eae7-5ca4-7904-0540-414e"
      }
     ],
     "next": "8b85b64e-3e6b-11e9-b9a2-02420aff0008-21-417d-b96c-b8ea-22b7-5d51-8d8b-51a7-a207-8911-22e7",
     "previous": "bbd306c0-488a-11e9-8bae-0242ac130002-21-7f26-20a1-429d-2e73-eae7-5ca4-7904-0540-414e-7de5"
    }
   },
   "outputs": [],
   "source": [
    "!ansible -a 'id {teacher_id}' {target_nodes} -l {target_group}"
   ]
  },
  {
   "cell_type": "markdown",
   "metadata": {
    "lc_cell_meme": {
     "current": "8b85b64e-3e6b-11e9-b9a2-02420aff0008-21-417d-b96c-b8ea-22b7-5d51-8d8b-51a7-a207-8911-22e7",
     "history": [
      {
       "current": "8b85b64e-3e6b-11e9-b9a2-02420aff0008-17-fa23-ed0d-550d-9d89-417d-b96c-b8ea-22b7-5d51-8d8b",
       "next": "b4d36bd2-3e6a-11e9-b9a2-02420aff0008-16-a8fb-10d5-b7f6-41fb-43c0-fd72-91fb-7557-1770-9b5c",
       "previous": "bbd30896-488a-11e9-8bae-0242ac130002-16-670d-c558-3104-d7fc-574a-05a8-f40f-0227-d889-3877"
      },
      {
       "current": "8b85b64e-3e6b-11e9-b9a2-02420aff0008-18-ed0d-550d-9d89-417d-b96c-b8ea-22b7-5d51-8d8b-51a7",
       "next": "b4d36bd2-3e6a-11e9-b9a2-02420aff0008-17-10d5-b7f6-41fb-43c0-fd72-91fb-7557-1770-9b5c-ce3f",
       "previous": "bbd30896-488a-11e9-8bae-0242ac130002-17-c558-3104-d7fc-574a-05a8-f40f-0227-d889-3877-0633"
      },
      {
       "current": "8b85b64e-3e6b-11e9-b9a2-02420aff0008-19-550d-9d89-417d-b96c-b8ea-22b7-5d51-8d8b-51a7-a207",
       "next": "b4d36bd2-3e6a-11e9-b9a2-02420aff0008-18-b7f6-41fb-43c0-fd72-91fb-7557-1770-9b5c-ce3f-f09b",
       "previous": "bbd30896-488a-11e9-8bae-0242ac130002-18-3104-d7fc-574a-05a8-f40f-0227-d889-3877-0633-f518"
      },
      {
       "current": "8b85b64e-3e6b-11e9-b9a2-02420aff0008-20-9d89-417d-b96c-b8ea-22b7-5d51-8d8b-51a7-a207-8911",
       "next": "b4d36bd2-3e6a-11e9-b9a2-02420aff0008-19-41fb-43c0-fd72-91fb-7557-1770-9b5c-ce3f-f09b-6e4f",
       "previous": "bbd30896-488a-11e9-8bae-0242ac130002-19-d7fc-574a-05a8-f40f-0227-d889-3877-0633-f518-8d17"
      },
      {
       "current": "8b85b64e-3e6b-11e9-b9a2-02420aff0008-21-417d-b96c-b8ea-22b7-5d51-8d8b-51a7-a207-8911-22e7",
       "next": "b4d36bd2-3e6a-11e9-b9a2-02420aff0008-20-43c0-fd72-91fb-7557-1770-9b5c-ce3f-f09b-6e4f-efe2",
       "previous": "bbd30896-488a-11e9-8bae-0242ac130002-20-574a-05a8-f40f-0227-d889-3877-0633-f518-8d17-b0c6"
      }
     ],
     "next": "b4d36bd2-3e6a-11e9-b9a2-02420aff0008-21-fd72-91fb-7557-1770-9b5c-ce3f-f09b-6e4f-efe2-4618",
     "previous": "bbd30896-488a-11e9-8bae-0242ac130002-21-05a8-f40f-0227-d889-3877-0633-f518-8d17-b0c6-eba4"
    }
   },
   "source": [
    "## Prepare contents directory"
   ]
  },
  {
   "cell_type": "markdown",
   "metadata": {
    "lc_cell_meme": {
     "current": "b4d36bd2-3e6a-11e9-b9a2-02420aff0008-21-fd72-91fb-7557-1770-9b5c-ce3f-f09b-6e4f-efe2-4618",
     "history": [
      {
       "current": "b4d36bd2-3e6a-11e9-b9a2-02420aff0008-17-10d5-b7f6-41fb-43c0-fd72-91fb-7557-1770-9b5c-ce3f",
       "next": "b4d36c90-3e6a-11e9-b9a2-02420aff0008-16-7869-5c6b-a5c6-e204-4ff2-8c68-d803-1530-41ea-57fc",
       "previous": "8b85b64e-3e6b-11e9-b9a2-02420aff0008-16-22b2-fa23-ed0d-550d-9d89-417d-b96c-b8ea-22b7-5d51"
      },
      {
       "current": "b4d36bd2-3e6a-11e9-b9a2-02420aff0008-18-b7f6-41fb-43c0-fd72-91fb-7557-1770-9b5c-ce3f-f09b",
       "next": "b4d36c90-3e6a-11e9-b9a2-02420aff0008-17-5c6b-a5c6-e204-4ff2-8c68-d803-1530-41ea-57fc-a01d",
       "previous": "8b85b64e-3e6b-11e9-b9a2-02420aff0008-17-fa23-ed0d-550d-9d89-417d-b96c-b8ea-22b7-5d51-8d8b"
      },
      {
       "current": "b4d36bd2-3e6a-11e9-b9a2-02420aff0008-19-41fb-43c0-fd72-91fb-7557-1770-9b5c-ce3f-f09b-6e4f",
       "next": "b4d36c90-3e6a-11e9-b9a2-02420aff0008-18-a5c6-e204-4ff2-8c68-d803-1530-41ea-57fc-a01d-7082",
       "previous": "8b85b64e-3e6b-11e9-b9a2-02420aff0008-18-ed0d-550d-9d89-417d-b96c-b8ea-22b7-5d51-8d8b-51a7"
      },
      {
       "current": "b4d36bd2-3e6a-11e9-b9a2-02420aff0008-20-43c0-fd72-91fb-7557-1770-9b5c-ce3f-f09b-6e4f-efe2",
       "next": "b4d36c90-3e6a-11e9-b9a2-02420aff0008-19-e204-4ff2-8c68-d803-1530-41ea-57fc-a01d-7082-2d5a",
       "previous": "8b85b64e-3e6b-11e9-b9a2-02420aff0008-19-550d-9d89-417d-b96c-b8ea-22b7-5d51-8d8b-51a7-a207"
      },
      {
       "current": "b4d36bd2-3e6a-11e9-b9a2-02420aff0008-21-fd72-91fb-7557-1770-9b5c-ce3f-f09b-6e4f-efe2-4618",
       "next": "b4d36c90-3e6a-11e9-b9a2-02420aff0008-20-4ff2-8c68-d803-1530-41ea-57fc-a01d-7082-2d5a-47b6",
       "previous": "8b85b64e-3e6b-11e9-b9a2-02420aff0008-20-9d89-417d-b96c-b8ea-22b7-5d51-8d8b-51a7-a207-8911"
      }
     ],
     "next": "b4d36c90-3e6a-11e9-b9a2-02420aff0008-21-8c68-d803-1530-41ea-57fc-a01d-7082-2d5a-47b6-1325",
     "previous": "8b85b64e-3e6b-11e9-b9a2-02420aff0008-21-417d-b96c-b8ea-22b7-5d51-8d8b-51a7-a207-8911-22e7"
    }
   },
   "source": [
    "`info`, `textbook` ディレクトリを準備する。"
   ]
  },
  {
   "cell_type": "code",
   "execution_count": null,
   "metadata": {
    "lc_cell_meme": {
     "current": "b4d36c90-3e6a-11e9-b9a2-02420aff0008-21-8c68-d803-1530-41ea-57fc-a01d-7082-2d5a-47b6-1325",
     "execution_end_time": "2022-04-28T09:07:49.186469Z",
     "history": [
      {
       "current": "b4d36c90-3e6a-11e9-b9a2-02420aff0008-17-5c6b-a5c6-e204-4ff2-8c68-d803-1530-41ea-57fc-a01d",
       "next": "8b85b7b6-3e6b-11e9-b9a2-02420aff0008-16-3864-c0d2-d137-296d-ab12-c00e-461d-52ba-f958-ff05",
       "previous": "b4d36bd2-3e6a-11e9-b9a2-02420aff0008-16-a8fb-10d5-b7f6-41fb-43c0-fd72-91fb-7557-1770-9b5c"
      },
      {
       "current": "b4d36c90-3e6a-11e9-b9a2-02420aff0008-18-a5c6-e204-4ff2-8c68-d803-1530-41ea-57fc-a01d-7082",
       "next": "8b85b7b6-3e6b-11e9-b9a2-02420aff0008-17-c0d2-d137-296d-ab12-c00e-461d-52ba-f958-ff05-7c69",
       "previous": "b4d36bd2-3e6a-11e9-b9a2-02420aff0008-17-10d5-b7f6-41fb-43c0-fd72-91fb-7557-1770-9b5c-ce3f"
      },
      {
       "current": "b4d36c90-3e6a-11e9-b9a2-02420aff0008-19-e204-4ff2-8c68-d803-1530-41ea-57fc-a01d-7082-2d5a",
       "next": "8b85b7b6-3e6b-11e9-b9a2-02420aff0008-18-d137-296d-ab12-c00e-461d-52ba-f958-ff05-7c69-3802",
       "previous": "b4d36bd2-3e6a-11e9-b9a2-02420aff0008-18-b7f6-41fb-43c0-fd72-91fb-7557-1770-9b5c-ce3f-f09b"
      },
      {
       "current": "b4d36c90-3e6a-11e9-b9a2-02420aff0008-20-4ff2-8c68-d803-1530-41ea-57fc-a01d-7082-2d5a-47b6",
       "next": "8b85b7b6-3e6b-11e9-b9a2-02420aff0008-19-296d-ab12-c00e-461d-52ba-f958-ff05-7c69-3802-1adb",
       "previous": "b4d36bd2-3e6a-11e9-b9a2-02420aff0008-19-41fb-43c0-fd72-91fb-7557-1770-9b5c-ce3f-f09b-6e4f"
      },
      {
       "current": "b4d36c90-3e6a-11e9-b9a2-02420aff0008-21-8c68-d803-1530-41ea-57fc-a01d-7082-2d5a-47b6-1325",
       "next": "8b85b7b6-3e6b-11e9-b9a2-02420aff0008-20-ab12-c00e-461d-52ba-f958-ff05-7c69-3802-1adb-bf19",
       "previous": "b4d36bd2-3e6a-11e9-b9a2-02420aff0008-20-43c0-fd72-91fb-7557-1770-9b5c-ce3f-f09b-6e4f-efe2"
      }
     ],
     "next": "8b85b7b6-3e6b-11e9-b9a2-02420aff0008-21-c00e-461d-52ba-f958-ff05-7c69-3802-1adb-bf19-4463",
     "previous": "b4d36bd2-3e6a-11e9-b9a2-02420aff0008-21-fd72-91fb-7557-1770-9b5c-ce3f-f09b-6e4f-efe2-4618"
    },
    "scrolled": true
   },
   "outputs": [],
   "source": [
    "!ansible -b -CD -m file -a 'path=/jupyter/users/{teacher_id}/info owner={teacher_uid} group={teacher_group} mode=0777 state=directory' {target_hub} -l {target_group}\n",
    "!ansible -b -CD -m file -a 'path=/jupyter/users/{teacher_id}/textbook owner={teacher_uid} group={teacher_group} mode=0777 state=directory' {target_hub} -l {target_group}"
   ]
  },
  {
   "cell_type": "code",
   "execution_count": null,
   "metadata": {
    "lc_cell_meme": {
     "current": "8b85b7b6-3e6b-11e9-b9a2-02420aff0008-21-c00e-461d-52ba-f958-ff05-7c69-3802-1adb-bf19-4463",
     "execution_end_time": "2022-04-28T09:07:54.404755Z",
     "history": [
      {
       "current": "8b85b7b6-3e6b-11e9-b9a2-02420aff0008-17-c0d2-d137-296d-ab12-c00e-461d-52ba-f958-ff05-7c69",
       "next": "acbc44b6-3431-11e9-b9a2-02420aff0008-16-39b3-d1b6-3797-ddb1-e7e5-f4f6-d478-d90c-248f-2e13",
       "previous": "b4d36c90-3e6a-11e9-b9a2-02420aff0008-16-7869-5c6b-a5c6-e204-4ff2-8c68-d803-1530-41ea-57fc"
      },
      {
       "current": "8b85b7b6-3e6b-11e9-b9a2-02420aff0008-18-d137-296d-ab12-c00e-461d-52ba-f958-ff05-7c69-3802",
       "next": "acbc44b6-3431-11e9-b9a2-02420aff0008-17-d1b6-3797-ddb1-e7e5-f4f6-d478-d90c-248f-2e13-112a",
       "previous": "b4d36c90-3e6a-11e9-b9a2-02420aff0008-17-5c6b-a5c6-e204-4ff2-8c68-d803-1530-41ea-57fc-a01d"
      },
      {
       "current": "8b85b7b6-3e6b-11e9-b9a2-02420aff0008-19-296d-ab12-c00e-461d-52ba-f958-ff05-7c69-3802-1adb",
       "next": "acbc44b6-3431-11e9-b9a2-02420aff0008-18-3797-ddb1-e7e5-f4f6-d478-d90c-248f-2e13-112a-073a",
       "previous": "b4d36c90-3e6a-11e9-b9a2-02420aff0008-18-a5c6-e204-4ff2-8c68-d803-1530-41ea-57fc-a01d-7082"
      },
      {
       "current": "8b85b7b6-3e6b-11e9-b9a2-02420aff0008-20-ab12-c00e-461d-52ba-f958-ff05-7c69-3802-1adb-bf19",
       "next": "acbc44b6-3431-11e9-b9a2-02420aff0008-19-ddb1-e7e5-f4f6-d478-d90c-248f-2e13-112a-073a-fd6b",
       "previous": "b4d36c90-3e6a-11e9-b9a2-02420aff0008-19-e204-4ff2-8c68-d803-1530-41ea-57fc-a01d-7082-2d5a"
      },
      {
       "current": "8b85b7b6-3e6b-11e9-b9a2-02420aff0008-21-c00e-461d-52ba-f958-ff05-7c69-3802-1adb-bf19-4463",
       "next": "acbc44b6-3431-11e9-b9a2-02420aff0008-20-e7e5-f4f6-d478-d90c-248f-2e13-112a-073a-fd6b-f1bb",
       "previous": "b4d36c90-3e6a-11e9-b9a2-02420aff0008-20-4ff2-8c68-d803-1530-41ea-57fc-a01d-7082-2d5a-47b6"
      }
     ],
     "next": "acbc44b6-3431-11e9-b9a2-02420aff0008-21-f4f6-d478-d90c-248f-2e13-112a-073a-fd6b-f1bb-7e1d",
     "previous": "b4d36c90-3e6a-11e9-b9a2-02420aff0008-21-8c68-d803-1530-41ea-57fc-a01d-7082-2d5a-47b6-1325"
    }
   },
   "outputs": [],
   "source": [
    "!ansible -b -m file -a 'path=/jupyter/users/{teacher_id}/info owner={teacher_uid} group={teacher_group} mode=0777 state=directory' {target_hub} -l {target_group}\n",
    "!ansible -b -m file -a 'path=/jupyter/users/{teacher_id}/textbook owner={teacher_uid} group={teacher_group} mode=0777 state=directory' {target_hub} -l {target_group}"
   ]
  },
  {
   "cell_type": "markdown",
   "metadata": {
    "lc_cell_meme": {
     "current": "acbc44b6-3431-11e9-b9a2-02420aff0008-21-f4f6-d478-d90c-248f-2e13-112a-073a-fd6b-f1bb-7e1d",
     "history": [
      {
       "current": "acbc44b6-3431-11e9-b9a2-02420aff0008-17-d1b6-3797-ddb1-e7e5-f4f6-d478-d90c-248f-2e13-112a",
       "next": "127448fc-3433-11e9-b9a2-02420aff0008-16-4e9c-c588-fc2b-ecfd-4b9f-51d1-75e2-5f20-a96c-4329",
       "previous": "8b85b7b6-3e6b-11e9-b9a2-02420aff0008-16-3864-c0d2-d137-296d-ab12-c00e-461d-52ba-f958-ff05"
      },
      {
       "current": "acbc44b6-3431-11e9-b9a2-02420aff0008-18-3797-ddb1-e7e5-f4f6-d478-d90c-248f-2e13-112a-073a",
       "next": "127448fc-3433-11e9-b9a2-02420aff0008-17-c588-fc2b-ecfd-4b9f-51d1-75e2-5f20-a96c-4329-d8a5",
       "previous": "8b85b7b6-3e6b-11e9-b9a2-02420aff0008-17-c0d2-d137-296d-ab12-c00e-461d-52ba-f958-ff05-7c69"
      },
      {
       "current": "acbc44b6-3431-11e9-b9a2-02420aff0008-19-ddb1-e7e5-f4f6-d478-d90c-248f-2e13-112a-073a-fd6b",
       "next": "127448fc-3433-11e9-b9a2-02420aff0008-18-fc2b-ecfd-4b9f-51d1-75e2-5f20-a96c-4329-d8a5-5690",
       "previous": "8b85b7b6-3e6b-11e9-b9a2-02420aff0008-18-d137-296d-ab12-c00e-461d-52ba-f958-ff05-7c69-3802"
      },
      {
       "current": "acbc44b6-3431-11e9-b9a2-02420aff0008-20-e7e5-f4f6-d478-d90c-248f-2e13-112a-073a-fd6b-f1bb",
       "next": "127448fc-3433-11e9-b9a2-02420aff0008-19-ecfd-4b9f-51d1-75e2-5f20-a96c-4329-d8a5-5690-2cfb",
       "previous": "8b85b7b6-3e6b-11e9-b9a2-02420aff0008-19-296d-ab12-c00e-461d-52ba-f958-ff05-7c69-3802-1adb"
      },
      {
       "current": "acbc44b6-3431-11e9-b9a2-02420aff0008-21-f4f6-d478-d90c-248f-2e13-112a-073a-fd6b-f1bb-7e1d",
       "next": "127448fc-3433-11e9-b9a2-02420aff0008-20-4b9f-51d1-75e2-5f20-a96c-4329-d8a5-5690-2cfb-c682",
       "previous": "8b85b7b6-3e6b-11e9-b9a2-02420aff0008-20-ab12-c00e-461d-52ba-f958-ff05-7c69-3802-1adb-bf19"
      }
     ],
     "next": "127448fc-3433-11e9-b9a2-02420aff0008-21-51d1-75e2-5f20-a96c-4329-d8a5-5690-2cfb-c682-fda5",
     "previous": "8b85b7b6-3e6b-11e9-b9a2-02420aff0008-21-c00e-461d-52ba-f958-ff05-7c69-3802-1adb-bf19-4463"
    }
   },
   "source": [
    "## Create SSH key and register\n",
    "\n",
    "JupyterHubを構成するマシンへログインするための鍵の生成と登録"
   ]
  },
  {
   "cell_type": "code",
   "execution_count": null,
   "metadata": {
    "lc_cell_meme": {
     "current": "127448fc-3433-11e9-b9a2-02420aff0008-21-51d1-75e2-5f20-a96c-4329-d8a5-5690-2cfb-c682-fda5",
     "execution_end_time": "2022-04-28T09:13:29.969360Z",
     "history": [
      {
       "current": "127448fc-3433-11e9-b9a2-02420aff0008-17-c588-fc2b-ecfd-4b9f-51d1-75e2-5f20-a96c-4329-d8a5",
       "next": "3c099f74-3432-11e9-b9a2-02420aff0008-16-2f45-7bbe-f2e0-5e7e-3cce-e918-971c-2e4c-d26a-59ea",
       "previous": "acbc44b6-3431-11e9-b9a2-02420aff0008-16-39b3-d1b6-3797-ddb1-e7e5-f4f6-d478-d90c-248f-2e13"
      },
      {
       "current": "127448fc-3433-11e9-b9a2-02420aff0008-18-fc2b-ecfd-4b9f-51d1-75e2-5f20-a96c-4329-d8a5-5690",
       "next": "3c099f74-3432-11e9-b9a2-02420aff0008-17-7bbe-f2e0-5e7e-3cce-e918-971c-2e4c-d26a-59ea-03e8",
       "previous": "acbc44b6-3431-11e9-b9a2-02420aff0008-17-d1b6-3797-ddb1-e7e5-f4f6-d478-d90c-248f-2e13-112a"
      },
      {
       "current": "127448fc-3433-11e9-b9a2-02420aff0008-19-ecfd-4b9f-51d1-75e2-5f20-a96c-4329-d8a5-5690-2cfb",
       "next": "3c099f74-3432-11e9-b9a2-02420aff0008-18-f2e0-5e7e-3cce-e918-971c-2e4c-d26a-59ea-03e8-3d6f",
       "previous": "acbc44b6-3431-11e9-b9a2-02420aff0008-18-3797-ddb1-e7e5-f4f6-d478-d90c-248f-2e13-112a-073a"
      },
      {
       "current": "127448fc-3433-11e9-b9a2-02420aff0008-20-4b9f-51d1-75e2-5f20-a96c-4329-d8a5-5690-2cfb-c682",
       "next": "3c099f74-3432-11e9-b9a2-02420aff0008-19-5e7e-3cce-e918-971c-2e4c-d26a-59ea-03e8-3d6f-e472",
       "previous": "acbc44b6-3431-11e9-b9a2-02420aff0008-19-ddb1-e7e5-f4f6-d478-d90c-248f-2e13-112a-073a-fd6b"
      },
      {
       "current": "127448fc-3433-11e9-b9a2-02420aff0008-21-51d1-75e2-5f20-a96c-4329-d8a5-5690-2cfb-c682-fda5",
       "next": "3c099f74-3432-11e9-b9a2-02420aff0008-20-3cce-e918-971c-2e4c-d26a-59ea-03e8-3d6f-e472-45f2",
       "previous": "acbc44b6-3431-11e9-b9a2-02420aff0008-20-e7e5-f4f6-d478-d90c-248f-2e13-112a-073a-fd6b-f1bb"
      }
     ],
     "next": "3c099f74-3432-11e9-b9a2-02420aff0008-21-e918-971c-2e4c-d26a-59ea-03e8-3d6f-e472-45f2-ca19",
     "previous": "acbc44b6-3431-11e9-b9a2-02420aff0008-21-f4f6-d478-d90c-248f-2e13-112a-073a-fd6b-f1bb-7e1d"
    }
   },
   "outputs": [],
   "source": [
    "!ansible -b -m file -a 'path=/jupyter/users/{teacher_id}/.ssh owner={teacher_id} group={teacher_group} mode=0700 state=directory' {target_hub} -l {target_group}"
   ]
  },
  {
   "cell_type": "code",
   "execution_count": null,
   "metadata": {
    "lc_cell_meme": {
     "current": "3c099f74-3432-11e9-b9a2-02420aff0008-21-e918-971c-2e4c-d26a-59ea-03e8-3d6f-e472-45f2-ca19",
     "execution_end_time": "2022-04-28T09:13:33.941144Z",
     "history": [
      {
       "current": "3c099f74-3432-11e9-b9a2-02420aff0008-17-7bbe-f2e0-5e7e-3cce-e918-971c-2e4c-d26a-59ea-03e8",
       "next": "308688fe-3434-11e9-b9a2-02420aff0008-16-84c7-41fe-5bd4-70c8-a08a-cda9-14a2-3104-0174-244a",
       "previous": "127448fc-3433-11e9-b9a2-02420aff0008-16-4e9c-c588-fc2b-ecfd-4b9f-51d1-75e2-5f20-a96c-4329"
      },
      {
       "current": "3c099f74-3432-11e9-b9a2-02420aff0008-18-f2e0-5e7e-3cce-e918-971c-2e4c-d26a-59ea-03e8-3d6f",
       "next": "308688fe-3434-11e9-b9a2-02420aff0008-17-41fe-5bd4-70c8-a08a-cda9-14a2-3104-0174-244a-ef91",
       "previous": "127448fc-3433-11e9-b9a2-02420aff0008-17-c588-fc2b-ecfd-4b9f-51d1-75e2-5f20-a96c-4329-d8a5"
      },
      {
       "current": "3c099f74-3432-11e9-b9a2-02420aff0008-19-5e7e-3cce-e918-971c-2e4c-d26a-59ea-03e8-3d6f-e472",
       "next": "308688fe-3434-11e9-b9a2-02420aff0008-18-5bd4-70c8-a08a-cda9-14a2-3104-0174-244a-ef91-83a4",
       "previous": "127448fc-3433-11e9-b9a2-02420aff0008-18-fc2b-ecfd-4b9f-51d1-75e2-5f20-a96c-4329-d8a5-5690"
      },
      {
       "current": "3c099f74-3432-11e9-b9a2-02420aff0008-20-3cce-e918-971c-2e4c-d26a-59ea-03e8-3d6f-e472-45f2",
       "next": "308688fe-3434-11e9-b9a2-02420aff0008-19-70c8-a08a-cda9-14a2-3104-0174-244a-ef91-83a4-d9ea",
       "previous": "127448fc-3433-11e9-b9a2-02420aff0008-19-ecfd-4b9f-51d1-75e2-5f20-a96c-4329-d8a5-5690-2cfb"
      },
      {
       "current": "3c099f74-3432-11e9-b9a2-02420aff0008-21-e918-971c-2e4c-d26a-59ea-03e8-3d6f-e472-45f2-ca19",
       "next": "308688fe-3434-11e9-b9a2-02420aff0008-20-a08a-cda9-14a2-3104-0174-244a-ef91-83a4-d9ea-7658",
       "previous": "127448fc-3433-11e9-b9a2-02420aff0008-20-4b9f-51d1-75e2-5f20-a96c-4329-d8a5-5690-2cfb-c682"
      }
     ],
     "next": "308688fe-3434-11e9-b9a2-02420aff0008-21-cda9-14a2-3104-0174-244a-ef91-83a4-d9ea-7658-eebe",
     "previous": "127448fc-3433-11e9-b9a2-02420aff0008-21-51d1-75e2-5f20-a96c-4329-d8a5-5690-2cfb-c682-fda5"
    }
   },
   "outputs": [],
   "source": [
    "!ansible -b -m shell \\\n",
    "    -a 'ssh-keygen -f /jupyter/users/{teacher_id}/.ssh/id_rsa -N \"\" -C \"{teacher_id}\"&& \\\n",
    "        chown {teacher_id}:{teacher_id} /jupyter/users/{teacher_id}/.ssh/id_rsa \\\n",
    "            /jupyter/users/{teacher_id}/.ssh/id_rsa.pub && \\\n",
    "        chmod 600 /jupyter/users/{teacher_id}/.ssh/id_rsa \\\n",
    "        creates=/jupyter/users/{teacher_id}/.ssh/id_rsa' {target_hub} -l {target_group}"
   ]
  },
  {
   "cell_type": "code",
   "execution_count": null,
   "metadata": {
    "lc_cell_meme": {
     "current": "308688fe-3434-11e9-b9a2-02420aff0008-21-cda9-14a2-3104-0174-244a-ef91-83a4-d9ea-7658-eebe",
     "execution_end_time": "2022-04-28T09:13:37.588287Z",
     "history": [
      {
       "current": "308688fe-3434-11e9-b9a2-02420aff0008-17-41fe-5bd4-70c8-a08a-cda9-14a2-3104-0174-244a-ef91",
       "next": "a16ee99a-3433-11e9-b9a2-02420aff0008-16-d044-e21b-c7bd-8aef-d356-68e9-a11a-5608-b939-2b8c",
       "previous": "3c099f74-3432-11e9-b9a2-02420aff0008-16-2f45-7bbe-f2e0-5e7e-3cce-e918-971c-2e4c-d26a-59ea"
      },
      {
       "current": "308688fe-3434-11e9-b9a2-02420aff0008-18-5bd4-70c8-a08a-cda9-14a2-3104-0174-244a-ef91-83a4",
       "next": "a16ee99a-3433-11e9-b9a2-02420aff0008-17-e21b-c7bd-8aef-d356-68e9-a11a-5608-b939-2b8c-ff14",
       "previous": "3c099f74-3432-11e9-b9a2-02420aff0008-17-7bbe-f2e0-5e7e-3cce-e918-971c-2e4c-d26a-59ea-03e8"
      },
      {
       "current": "308688fe-3434-11e9-b9a2-02420aff0008-19-70c8-a08a-cda9-14a2-3104-0174-244a-ef91-83a4-d9ea",
       "next": "a16ee99a-3433-11e9-b9a2-02420aff0008-18-c7bd-8aef-d356-68e9-a11a-5608-b939-2b8c-ff14-caab",
       "previous": "3c099f74-3432-11e9-b9a2-02420aff0008-18-f2e0-5e7e-3cce-e918-971c-2e4c-d26a-59ea-03e8-3d6f"
      },
      {
       "current": "308688fe-3434-11e9-b9a2-02420aff0008-20-a08a-cda9-14a2-3104-0174-244a-ef91-83a4-d9ea-7658",
       "next": "a16ee99a-3433-11e9-b9a2-02420aff0008-19-8aef-d356-68e9-a11a-5608-b939-2b8c-ff14-caab-1f8b",
       "previous": "3c099f74-3432-11e9-b9a2-02420aff0008-19-5e7e-3cce-e918-971c-2e4c-d26a-59ea-03e8-3d6f-e472"
      },
      {
       "current": "308688fe-3434-11e9-b9a2-02420aff0008-21-cda9-14a2-3104-0174-244a-ef91-83a4-d9ea-7658-eebe",
       "next": "a16ee99a-3433-11e9-b9a2-02420aff0008-20-d356-68e9-a11a-5608-b939-2b8c-ff14-caab-1f8b-c7f3",
       "previous": "3c099f74-3432-11e9-b9a2-02420aff0008-20-3cce-e918-971c-2e4c-d26a-59ea-03e8-3d6f-e472-45f2"
      }
     ],
     "next": "a16ee99a-3433-11e9-b9a2-02420aff0008-21-68e9-a11a-5608-b939-2b8c-ff14-caab-1f8b-c7f3-9af4",
     "previous": "3c099f74-3432-11e9-b9a2-02420aff0008-21-e918-971c-2e4c-d26a-59ea-03e8-3d6f-e472-45f2-ca19"
    }
   },
   "outputs": [],
   "source": [
    "!ansible -b -m shell -a 'ls -l /jupyter/users/{teacher_id}/.ssh/id_rsa*' {target_hub} -l {target_group}"
   ]
  },
  {
   "cell_type": "code",
   "execution_count": null,
   "metadata": {
    "lc_cell_meme": {
     "current": "a16ee99a-3433-11e9-b9a2-02420aff0008-21-68e9-a11a-5608-b939-2b8c-ff14-caab-1f8b-c7f3-9af4",
     "execution_end_time": "2022-04-28T09:13:39.109022Z",
     "history": [
      {
       "current": "a16ee99a-3433-11e9-b9a2-02420aff0008-17-e21b-c7bd-8aef-d356-68e9-a11a-5608-b939-2b8c-ff14",
       "next": "f445ec42-3431-11e9-b9a2-02420aff0008-16-e9a5-2612-2226-c610-1935-92e2-b698-740f-a6d6-1425",
       "previous": "308688fe-3434-11e9-b9a2-02420aff0008-16-84c7-41fe-5bd4-70c8-a08a-cda9-14a2-3104-0174-244a"
      },
      {
       "current": "a16ee99a-3433-11e9-b9a2-02420aff0008-18-c7bd-8aef-d356-68e9-a11a-5608-b939-2b8c-ff14-caab",
       "next": "f445ec42-3431-11e9-b9a2-02420aff0008-17-2612-2226-c610-1935-92e2-b698-740f-a6d6-1425-3074",
       "previous": "308688fe-3434-11e9-b9a2-02420aff0008-17-41fe-5bd4-70c8-a08a-cda9-14a2-3104-0174-244a-ef91"
      },
      {
       "current": "a16ee99a-3433-11e9-b9a2-02420aff0008-19-8aef-d356-68e9-a11a-5608-b939-2b8c-ff14-caab-1f8b",
       "next": "f445ec42-3431-11e9-b9a2-02420aff0008-18-2226-c610-1935-92e2-b698-740f-a6d6-1425-3074-ac87",
       "previous": "308688fe-3434-11e9-b9a2-02420aff0008-18-5bd4-70c8-a08a-cda9-14a2-3104-0174-244a-ef91-83a4"
      },
      {
       "current": "a16ee99a-3433-11e9-b9a2-02420aff0008-20-d356-68e9-a11a-5608-b939-2b8c-ff14-caab-1f8b-c7f3",
       "next": "f445ec42-3431-11e9-b9a2-02420aff0008-19-c610-1935-92e2-b698-740f-a6d6-1425-3074-ac87-b3fe",
       "previous": "308688fe-3434-11e9-b9a2-02420aff0008-19-70c8-a08a-cda9-14a2-3104-0174-244a-ef91-83a4-d9ea"
      },
      {
       "current": "a16ee99a-3433-11e9-b9a2-02420aff0008-21-68e9-a11a-5608-b939-2b8c-ff14-caab-1f8b-c7f3-9af4",
       "next": "f445ec42-3431-11e9-b9a2-02420aff0008-20-1935-92e2-b698-740f-a6d6-1425-3074-ac87-b3fe-a798",
       "previous": "308688fe-3434-11e9-b9a2-02420aff0008-20-a08a-cda9-14a2-3104-0174-244a-ef91-83a4-d9ea-7658"
      }
     ],
     "next": "f445ec42-3431-11e9-b9a2-02420aff0008-21-92e2-b698-740f-a6d6-1425-3074-ac87-b3fe-a798-87d5",
     "previous": "308688fe-3434-11e9-b9a2-02420aff0008-21-cda9-14a2-3104-0174-244a-ef91-83a4-d9ea-7658-eebe"
    }
   },
   "outputs": [],
   "source": [
    "pubkey = !ansible -b -a 'cat /jupyter/users/{teacher_id}/.ssh/id_rsa.pub' {target_hub} -l {target_group}\n",
    "pubkey = pubkey[1]\n",
    "pubkey"
   ]
  },
  {
   "cell_type": "code",
   "execution_count": null,
   "metadata": {
    "lc_cell_meme": {
     "current": "f445ec42-3431-11e9-b9a2-02420aff0008-21-92e2-b698-740f-a6d6-1425-3074-ac87-b3fe-a798-87d5",
     "execution_end_time": "2022-04-28T09:13:41.808316Z",
     "history": [
      {
       "current": "f445ec42-3431-11e9-b9a2-02420aff0008-17-2612-2226-c610-1935-92e2-b698-740f-a6d6-1425-3074",
       "next": "f445ec42-3431-11e9-b9a2-02420aff0008-16-2ba3-b1f4-161a-41a0-b283-82b8-6dbf-a803-42c5-006c",
       "previous": "a16ee99a-3433-11e9-b9a2-02420aff0008-16-d044-e21b-c7bd-8aef-d356-68e9-a11a-5608-b939-2b8c"
      },
      {
       "current": "f445ec42-3431-11e9-b9a2-02420aff0008-18-2226-c610-1935-92e2-b698-740f-a6d6-1425-3074-ac87",
       "next": "f445ec42-3431-11e9-b9a2-02420aff0008-17-b1f4-161a-41a0-b283-82b8-6dbf-a803-42c5-006c-494a",
       "previous": "a16ee99a-3433-11e9-b9a2-02420aff0008-17-e21b-c7bd-8aef-d356-68e9-a11a-5608-b939-2b8c-ff14"
      },
      {
       "current": "f445ec42-3431-11e9-b9a2-02420aff0008-19-c610-1935-92e2-b698-740f-a6d6-1425-3074-ac87-b3fe",
       "next": "f445ec42-3431-11e9-b9a2-02420aff0008-18-161a-41a0-b283-82b8-6dbf-a803-42c5-006c-494a-574e",
       "previous": "a16ee99a-3433-11e9-b9a2-02420aff0008-18-c7bd-8aef-d356-68e9-a11a-5608-b939-2b8c-ff14-caab"
      },
      {
       "current": "f445ec42-3431-11e9-b9a2-02420aff0008-20-1935-92e2-b698-740f-a6d6-1425-3074-ac87-b3fe-a798",
       "next": "f445ec42-3431-11e9-b9a2-02420aff0008-19-41a0-b283-82b8-6dbf-a803-42c5-006c-494a-574e-4061",
       "previous": "a16ee99a-3433-11e9-b9a2-02420aff0008-19-8aef-d356-68e9-a11a-5608-b939-2b8c-ff14-caab-1f8b"
      },
      {
       "current": "f445ec42-3431-11e9-b9a2-02420aff0008-21-92e2-b698-740f-a6d6-1425-3074-ac87-b3fe-a798-87d5",
       "next": "f445ec42-3431-11e9-b9a2-02420aff0008-20-b283-82b8-6dbf-a803-42c5-006c-494a-574e-4061-e845",
       "previous": "a16ee99a-3433-11e9-b9a2-02420aff0008-20-d356-68e9-a11a-5608-b939-2b8c-ff14-caab-1f8b-c7f3"
      }
     ],
     "next": "f445ec42-3431-11e9-b9a2-02420aff0008-21-82b8-6dbf-a803-42c5-006c-494a-574e-4061-e845-9a62",
     "previous": "a16ee99a-3433-11e9-b9a2-02420aff0008-21-68e9-a11a-5608-b939-2b8c-ff14-caab-1f8b-c7f3-9af4"
    }
   },
   "outputs": [],
   "source": [
    "!ansible -CD -b -m authorized_key -a 'user={teacher_id} key=\"{pubkey}\"' {target_hub} -l {target_group}"
   ]
  },
  {
   "cell_type": "code",
   "execution_count": null,
   "metadata": {
    "lc_cell_meme": {
     "current": "f445ec42-3431-11e9-b9a2-02420aff0008-21-82b8-6dbf-a803-42c5-006c-494a-574e-4061-e845-9a62",
     "execution_end_time": "2022-04-28T09:15:08.097550Z",
     "history": [
      {
       "current": "f445ec42-3431-11e9-b9a2-02420aff0008-17-b1f4-161a-41a0-b283-82b8-6dbf-a803-42c5-006c-494a",
       "next": "963395d8-3435-11e9-b9a2-02420aff0008-16-f817-bb02-c86f-6319-5867-3d78-b408-f189-d344-4262",
       "previous": "f445ec42-3431-11e9-b9a2-02420aff0008-16-e9a5-2612-2226-c610-1935-92e2-b698-740f-a6d6-1425"
      },
      {
       "current": "f445ec42-3431-11e9-b9a2-02420aff0008-18-161a-41a0-b283-82b8-6dbf-a803-42c5-006c-494a-574e",
       "next": "963395d8-3435-11e9-b9a2-02420aff0008-17-bb02-c86f-6319-5867-3d78-b408-f189-d344-4262-3fba",
       "previous": "f445ec42-3431-11e9-b9a2-02420aff0008-17-2612-2226-c610-1935-92e2-b698-740f-a6d6-1425-3074"
      },
      {
       "current": "f445ec42-3431-11e9-b9a2-02420aff0008-19-41a0-b283-82b8-6dbf-a803-42c5-006c-494a-574e-4061",
       "next": "963395d8-3435-11e9-b9a2-02420aff0008-18-c86f-6319-5867-3d78-b408-f189-d344-4262-3fba-6989",
       "previous": "f445ec42-3431-11e9-b9a2-02420aff0008-18-2226-c610-1935-92e2-b698-740f-a6d6-1425-3074-ac87"
      },
      {
       "current": "f445ec42-3431-11e9-b9a2-02420aff0008-20-b283-82b8-6dbf-a803-42c5-006c-494a-574e-4061-e845",
       "next": "963395d8-3435-11e9-b9a2-02420aff0008-19-6319-5867-3d78-b408-f189-d344-4262-3fba-6989-10bd",
       "previous": "f445ec42-3431-11e9-b9a2-02420aff0008-19-c610-1935-92e2-b698-740f-a6d6-1425-3074-ac87-b3fe"
      },
      {
       "current": "f445ec42-3431-11e9-b9a2-02420aff0008-21-82b8-6dbf-a803-42c5-006c-494a-574e-4061-e845-9a62",
       "next": "963395d8-3435-11e9-b9a2-02420aff0008-20-5867-3d78-b408-f189-d344-4262-3fba-6989-10bd-fd93",
       "previous": "f445ec42-3431-11e9-b9a2-02420aff0008-20-1935-92e2-b698-740f-a6d6-1425-3074-ac87-b3fe-a798"
      }
     ],
     "next": "963395d8-3435-11e9-b9a2-02420aff0008-21-3d78-b408-f189-d344-4262-3fba-6989-10bd-fd93-706f",
     "previous": "f445ec42-3431-11e9-b9a2-02420aff0008-21-92e2-b698-740f-a6d6-1425-3074-ac87-b3fe-a798-87d5"
    }
   },
   "outputs": [],
   "source": [
    "!ansible -b -m authorized_key -a 'user={teacher_id} key=\"{pubkey}\"' {target_hub} -l {target_group}"
   ]
  },
  {
   "cell_type": "markdown",
   "metadata": {
    "lc_cell_meme": {
     "current": "963395d8-3435-11e9-b9a2-02420aff0008-21-3d78-b408-f189-d344-4262-3fba-6989-10bd-fd93-706f",
     "history": [
      {
       "current": "963395d8-3435-11e9-b9a2-02420aff0008-17-bb02-c86f-6319-5867-3d78-b408-f189-d344-4262-3fba",
       "next": "782f5866-3434-11e9-b9a2-02420aff0008-16-8056-3f94-64ac-0c7e-5d42-de6e-4d32-96ad-82a9-bf63",
       "previous": "f445ec42-3431-11e9-b9a2-02420aff0008-16-2ba3-b1f4-161a-41a0-b283-82b8-6dbf-a803-42c5-006c"
      },
      {
       "current": "963395d8-3435-11e9-b9a2-02420aff0008-18-c86f-6319-5867-3d78-b408-f189-d344-4262-3fba-6989",
       "next": "782f5866-3434-11e9-b9a2-02420aff0008-17-3f94-64ac-0c7e-5d42-de6e-4d32-96ad-82a9-bf63-1f2d",
       "previous": "f445ec42-3431-11e9-b9a2-02420aff0008-17-b1f4-161a-41a0-b283-82b8-6dbf-a803-42c5-006c-494a"
      },
      {
       "current": "963395d8-3435-11e9-b9a2-02420aff0008-19-6319-5867-3d78-b408-f189-d344-4262-3fba-6989-10bd",
       "next": "782f5866-3434-11e9-b9a2-02420aff0008-18-64ac-0c7e-5d42-de6e-4d32-96ad-82a9-bf63-1f2d-e794",
       "previous": "f445ec42-3431-11e9-b9a2-02420aff0008-18-161a-41a0-b283-82b8-6dbf-a803-42c5-006c-494a-574e"
      },
      {
       "current": "963395d8-3435-11e9-b9a2-02420aff0008-20-5867-3d78-b408-f189-d344-4262-3fba-6989-10bd-fd93",
       "next": "782f5866-3434-11e9-b9a2-02420aff0008-19-0c7e-5d42-de6e-4d32-96ad-82a9-bf63-1f2d-e794-0025",
       "previous": "f445ec42-3431-11e9-b9a2-02420aff0008-19-41a0-b283-82b8-6dbf-a803-42c5-006c-494a-574e-4061"
      },
      {
       "current": "963395d8-3435-11e9-b9a2-02420aff0008-21-3d78-b408-f189-d344-4262-3fba-6989-10bd-fd93-706f",
       "next": "782f5866-3434-11e9-b9a2-02420aff0008-20-5d42-de6e-4d32-96ad-82a9-bf63-1f2d-e794-0025-ed0a",
       "previous": "f445ec42-3431-11e9-b9a2-02420aff0008-20-b283-82b8-6dbf-a803-42c5-006c-494a-574e-4061-e845"
      }
     ],
     "next": "782f5866-3434-11e9-b9a2-02420aff0008-21-de6e-4d32-96ad-82a9-bf63-1f2d-e794-0025-ed0a-84f2",
     "previous": "f445ec42-3431-11e9-b9a2-02420aff0008-21-82b8-6dbf-a803-42c5-006c-494a-574e-4061-e845-9a62"
    }
   },
   "source": [
    "ユーザーディレクトリのpermissionの設定。\n",
    "\n",
    "不適切なpermissionが設定されているとsshの鍵認証に失敗するため。"
   ]
  },
  {
   "cell_type": "code",
   "execution_count": null,
   "metadata": {
    "lc_cell_meme": {
     "current": "782f5866-3434-11e9-b9a2-02420aff0008-21-de6e-4d32-96ad-82a9-bf63-1f2d-e794-0025-ed0a-84f2",
     "execution_end_time": "2022-04-28T09:15:11.971085Z",
     "history": [
      {
       "current": "782f5866-3434-11e9-b9a2-02420aff0008-17-3f94-64ac-0c7e-5d42-de6e-4d32-96ad-82a9-bf63-1f2d",
       "next": "96339754-3435-11e9-b9a2-02420aff0008-16-bcef-6df4-504f-a37e-7008-1620-0529-5443-084d-eba9",
       "previous": "963395d8-3435-11e9-b9a2-02420aff0008-16-f817-bb02-c86f-6319-5867-3d78-b408-f189-d344-4262"
      },
      {
       "current": "782f5866-3434-11e9-b9a2-02420aff0008-18-64ac-0c7e-5d42-de6e-4d32-96ad-82a9-bf63-1f2d-e794",
       "next": "96339754-3435-11e9-b9a2-02420aff0008-17-6df4-504f-a37e-7008-1620-0529-5443-084d-eba9-bbef",
       "previous": "963395d8-3435-11e9-b9a2-02420aff0008-17-bb02-c86f-6319-5867-3d78-b408-f189-d344-4262-3fba"
      },
      {
       "current": "782f5866-3434-11e9-b9a2-02420aff0008-19-0c7e-5d42-de6e-4d32-96ad-82a9-bf63-1f2d-e794-0025",
       "next": "96339754-3435-11e9-b9a2-02420aff0008-18-504f-a37e-7008-1620-0529-5443-084d-eba9-bbef-925b",
       "previous": "963395d8-3435-11e9-b9a2-02420aff0008-18-c86f-6319-5867-3d78-b408-f189-d344-4262-3fba-6989"
      },
      {
       "current": "782f5866-3434-11e9-b9a2-02420aff0008-20-5d42-de6e-4d32-96ad-82a9-bf63-1f2d-e794-0025-ed0a",
       "next": "96339754-3435-11e9-b9a2-02420aff0008-19-a37e-7008-1620-0529-5443-084d-eba9-bbef-925b-b8f9",
       "previous": "963395d8-3435-11e9-b9a2-02420aff0008-19-6319-5867-3d78-b408-f189-d344-4262-3fba-6989-10bd"
      },
      {
       "current": "782f5866-3434-11e9-b9a2-02420aff0008-21-de6e-4d32-96ad-82a9-bf63-1f2d-e794-0025-ed0a-84f2",
       "next": "96339754-3435-11e9-b9a2-02420aff0008-20-7008-1620-0529-5443-084d-eba9-bbef-925b-b8f9-6136",
       "previous": "963395d8-3435-11e9-b9a2-02420aff0008-20-5867-3d78-b408-f189-d344-4262-3fba-6989-10bd-fd93"
      }
     ],
     "next": "96339754-3435-11e9-b9a2-02420aff0008-21-1620-0529-5443-084d-eba9-bbef-925b-b8f9-6136-a6d7",
     "previous": "963395d8-3435-11e9-b9a2-02420aff0008-21-3d78-b408-f189-d344-4262-3fba-6989-10bd-fd93-706f"
    }
   },
   "outputs": [],
   "source": [
    "!ansible -CD -b -m file \\\n",
    "    -a 'path=/jupyter/users/{teacher_id} mode=\"0755\" owner={teacher_id} group={teacher_id}' {target_hub} -l {target_group}"
   ]
  },
  {
   "cell_type": "code",
   "execution_count": null,
   "metadata": {
    "lc_cell_meme": {
     "current": "96339754-3435-11e9-b9a2-02420aff0008-21-1620-0529-5443-084d-eba9-bbef-925b-b8f9-6136-a6d7",
     "execution_end_time": "2022-04-28T09:15:14.605540Z",
     "history": [
      {
       "current": "96339754-3435-11e9-b9a2-02420aff0008-17-6df4-504f-a37e-7008-1620-0529-5443-084d-eba9-bbef",
       "next": "b44c58f6-3436-11e9-b9a2-02420aff0008-16-4d78-fc9a-7493-1182-d49c-b35a-b36c-e122-223e-8be6",
       "previous": "782f5866-3434-11e9-b9a2-02420aff0008-16-8056-3f94-64ac-0c7e-5d42-de6e-4d32-96ad-82a9-bf63"
      },
      {
       "current": "96339754-3435-11e9-b9a2-02420aff0008-18-504f-a37e-7008-1620-0529-5443-084d-eba9-bbef-925b",
       "next": "b44c58f6-3436-11e9-b9a2-02420aff0008-17-fc9a-7493-1182-d49c-b35a-b36c-e122-223e-8be6-9923",
       "previous": "782f5866-3434-11e9-b9a2-02420aff0008-17-3f94-64ac-0c7e-5d42-de6e-4d32-96ad-82a9-bf63-1f2d"
      },
      {
       "current": "96339754-3435-11e9-b9a2-02420aff0008-19-a37e-7008-1620-0529-5443-084d-eba9-bbef-925b-b8f9",
       "next": "b44c58f6-3436-11e9-b9a2-02420aff0008-18-7493-1182-d49c-b35a-b36c-e122-223e-8be6-9923-c321",
       "previous": "782f5866-3434-11e9-b9a2-02420aff0008-18-64ac-0c7e-5d42-de6e-4d32-96ad-82a9-bf63-1f2d-e794"
      },
      {
       "current": "96339754-3435-11e9-b9a2-02420aff0008-20-7008-1620-0529-5443-084d-eba9-bbef-925b-b8f9-6136",
       "next": "b44c58f6-3436-11e9-b9a2-02420aff0008-19-1182-d49c-b35a-b36c-e122-223e-8be6-9923-c321-3dae",
       "previous": "782f5866-3434-11e9-b9a2-02420aff0008-19-0c7e-5d42-de6e-4d32-96ad-82a9-bf63-1f2d-e794-0025"
      },
      {
       "current": "96339754-3435-11e9-b9a2-02420aff0008-21-1620-0529-5443-084d-eba9-bbef-925b-b8f9-6136-a6d7",
       "next": "b44c58f6-3436-11e9-b9a2-02420aff0008-20-d49c-b35a-b36c-e122-223e-8be6-9923-c321-3dae-95f6",
       "previous": "782f5866-3434-11e9-b9a2-02420aff0008-20-5d42-de6e-4d32-96ad-82a9-bf63-1f2d-e794-0025-ed0a"
      }
     ],
     "next": "b44c58f6-3436-11e9-b9a2-02420aff0008-21-b35a-b36c-e122-223e-8be6-9923-c321-3dae-95f6-eda7",
     "previous": "782f5866-3434-11e9-b9a2-02420aff0008-21-de6e-4d32-96ad-82a9-bf63-1f2d-e794-0025-ed0a-84f2"
    }
   },
   "outputs": [],
   "source": [
    "!ansible -b -m file \\\n",
    "    -a 'path=/jupyter/users/{teacher_id} mode=\"0755\" owner={teacher_id} group={teacher_id}' {target_hub} -l {target_group}"
   ]
  },
  {
   "cell_type": "markdown",
   "metadata": {
    "lc_cell_meme": {
     "current": "b44c58f6-3436-11e9-b9a2-02420aff0008-21-b35a-b36c-e122-223e-8be6-9923-c321-3dae-95f6-eda7",
     "history": [
      {
       "current": "b44c58f6-3436-11e9-b9a2-02420aff0008-17-fc9a-7493-1182-d49c-b35a-b36c-e122-223e-8be6-9923",
       "next": "5c39796c-7d60-11eb-9875-0242ac120002-6-b327-d73a-9954-0fa0-148c-b848",
       "previous": "96339754-3435-11e9-b9a2-02420aff0008-16-bcef-6df4-504f-a37e-7008-1620-0529-5443-084d-eba9"
      },
      {
       "current": "b44c58f6-3436-11e9-b9a2-02420aff0008-18-7493-1182-d49c-b35a-b36c-e122-223e-8be6-9923-c321",
       "next": "5c39796c-7d60-11eb-9875-0242ac120002-7-b327-d73a-9954-0fa0-148c-b848-ec4f",
       "previous": "96339754-3435-11e9-b9a2-02420aff0008-17-6df4-504f-a37e-7008-1620-0529-5443-084d-eba9-bbef"
      },
      {
       "current": "b44c58f6-3436-11e9-b9a2-02420aff0008-19-1182-d49c-b35a-b36c-e122-223e-8be6-9923-c321-3dae",
       "next": "5c39796c-7d60-11eb-9875-0242ac120002-8-b327-d73a-9954-0fa0-148c-b848-ec4f-f77e",
       "previous": "96339754-3435-11e9-b9a2-02420aff0008-18-504f-a37e-7008-1620-0529-5443-084d-eba9-bbef-925b"
      },
      {
       "current": "b44c58f6-3436-11e9-b9a2-02420aff0008-20-d49c-b35a-b36c-e122-223e-8be6-9923-c321-3dae-95f6",
       "next": "5c39796c-7d60-11eb-9875-0242ac120002-9-b327-d73a-9954-0fa0-148c-b848-ec4f-f77e-0439",
       "previous": "96339754-3435-11e9-b9a2-02420aff0008-19-a37e-7008-1620-0529-5443-084d-eba9-bbef-925b-b8f9"
      },
      {
       "current": "b44c58f6-3436-11e9-b9a2-02420aff0008-21-b35a-b36c-e122-223e-8be6-9923-c321-3dae-95f6-eda7",
       "next": "5c39796c-7d60-11eb-9875-0242ac120002-10-b327-d73a-9954-0fa0-148c-b848-ec4f-f77e-0439-7a6e",
       "previous": "96339754-3435-11e9-b9a2-02420aff0008-20-7008-1620-0529-5443-084d-eba9-bbef-925b-b8f9-6136"
      }
     ],
     "next": "5c39796c-7d60-11eb-9875-0242ac120002-11-d73a-9954-0fa0-148c-b848-ec4f-f77e-0439-7a6e-6829",
     "previous": "96339754-3435-11e9-b9a2-02420aff0008-21-1620-0529-5443-084d-eba9-bbef-925b-b8f9-6136-a6d7"
    }
   },
   "source": [
    "## Set ansible inventory\n",
    "\n",
    "JupyterHubを構成するマシンを操作するためのインベントリを配布する。"
   ]
  },
  {
   "cell_type": "markdown",
   "metadata": {
    "lc_cell_meme": {
     "current": "5c39796c-7d60-11eb-9875-0242ac120002-11-d73a-9954-0fa0-148c-b848-ec4f-f77e-0439-7a6e-6829",
     "history": [
      {
       "current": "5c39796c-7d60-11eb-9875-0242ac120002-7-b327-d73a-9954-0fa0-148c-b848-ec4f",
       "next": "5c3983e4-7d60-11eb-9875-0242ac120002-6-0478-0e6a-6e2d-46b0-ee6f-283e",
       "previous": "b44c58f6-3436-11e9-b9a2-02420aff0008-16-4d78-fc9a-7493-1182-d49c-b35a-b36c-e122-223e-8be6"
      },
      {
       "current": "5c39796c-7d60-11eb-9875-0242ac120002-8-b327-d73a-9954-0fa0-148c-b848-ec4f-f77e",
       "next": "5c3983e4-7d60-11eb-9875-0242ac120002-7-0478-0e6a-6e2d-46b0-ee6f-283e-8d92",
       "previous": "b44c58f6-3436-11e9-b9a2-02420aff0008-17-fc9a-7493-1182-d49c-b35a-b36c-e122-223e-8be6-9923"
      },
      {
       "current": "5c39796c-7d60-11eb-9875-0242ac120002-9-b327-d73a-9954-0fa0-148c-b848-ec4f-f77e-0439",
       "next": "5c3983e4-7d60-11eb-9875-0242ac120002-8-0478-0e6a-6e2d-46b0-ee6f-283e-8d92-ef2f",
       "previous": "b44c58f6-3436-11e9-b9a2-02420aff0008-18-7493-1182-d49c-b35a-b36c-e122-223e-8be6-9923-c321"
      },
      {
       "current": "5c39796c-7d60-11eb-9875-0242ac120002-10-b327-d73a-9954-0fa0-148c-b848-ec4f-f77e-0439-7a6e",
       "next": "5c3983e4-7d60-11eb-9875-0242ac120002-9-0478-0e6a-6e2d-46b0-ee6f-283e-8d92-ef2f-3dfc",
       "previous": "b44c58f6-3436-11e9-b9a2-02420aff0008-19-1182-d49c-b35a-b36c-e122-223e-8be6-9923-c321-3dae"
      },
      {
       "current": "5c39796c-7d60-11eb-9875-0242ac120002-11-d73a-9954-0fa0-148c-b848-ec4f-f77e-0439-7a6e-6829",
       "next": "5c3983e4-7d60-11eb-9875-0242ac120002-10-0478-0e6a-6e2d-46b0-ee6f-283e-8d92-ef2f-3dfc-5b63",
       "previous": "b44c58f6-3436-11e9-b9a2-02420aff0008-20-d49c-b35a-b36c-e122-223e-8be6-9923-c321-3dae-95f6"
      }
     ],
     "next": "5c3983e4-7d60-11eb-9875-0242ac120002-11-0e6a-6e2d-46b0-ee6f-283e-8d92-ef2f-3dfc-5b63-d7a1",
     "previous": "b44c58f6-3436-11e9-b9a2-02420aff0008-21-b35a-b36c-e122-223e-8be6-9923-c321-3dae-95f6-eda7"
    }
   },
   "source": [
    "インベントリ上のアドレスは、Docker SwarmのノードのIPアドレスと一致している必要がある。\n",
    "\n",
    "inventory hostnameと、`servicenet_ip` の対応を調べる"
   ]
  },
  {
   "cell_type": "code",
   "execution_count": null,
   "metadata": {
    "lc_cell_meme": {
     "current": "5c3983e4-7d60-11eb-9875-0242ac120002-11-0e6a-6e2d-46b0-ee6f-283e-8d92-ef2f-3dfc-5b63-d7a1",
     "execution_end_time": "2022-04-28T09:15:14.623707Z",
     "history": [
      {
       "current": "5c3983e4-7d60-11eb-9875-0242ac120002-7-0478-0e6a-6e2d-46b0-ee6f-283e-8d92",
       "next": "a3bc3842-7d60-11eb-9875-0242ac120002-6-47d1-9ec2-dede-28be-89d9-c401",
       "previous": "5c39796c-7d60-11eb-9875-0242ac120002-6-b327-d73a-9954-0fa0-148c-b848"
      },
      {
       "current": "5c3983e4-7d60-11eb-9875-0242ac120002-8-0478-0e6a-6e2d-46b0-ee6f-283e-8d92-ef2f",
       "next": "a3bc3842-7d60-11eb-9875-0242ac120002-7-47d1-9ec2-dede-28be-89d9-c401-6b3a",
       "previous": "5c39796c-7d60-11eb-9875-0242ac120002-7-b327-d73a-9954-0fa0-148c-b848-ec4f"
      },
      {
       "current": "5c3983e4-7d60-11eb-9875-0242ac120002-9-0478-0e6a-6e2d-46b0-ee6f-283e-8d92-ef2f-3dfc",
       "next": "a3bc3842-7d60-11eb-9875-0242ac120002-8-47d1-9ec2-dede-28be-89d9-c401-6b3a-e19f",
       "previous": "5c39796c-7d60-11eb-9875-0242ac120002-8-b327-d73a-9954-0fa0-148c-b848-ec4f-f77e"
      },
      {
       "current": "5c3983e4-7d60-11eb-9875-0242ac120002-10-0478-0e6a-6e2d-46b0-ee6f-283e-8d92-ef2f-3dfc-5b63",
       "next": "a3bc3842-7d60-11eb-9875-0242ac120002-9-47d1-9ec2-dede-28be-89d9-c401-6b3a-e19f-a173",
       "previous": "5c39796c-7d60-11eb-9875-0242ac120002-9-b327-d73a-9954-0fa0-148c-b848-ec4f-f77e-0439"
      },
      {
       "current": "5c3983e4-7d60-11eb-9875-0242ac120002-11-0e6a-6e2d-46b0-ee6f-283e-8d92-ef2f-3dfc-5b63-d7a1",
       "next": "a3bc3842-7d60-11eb-9875-0242ac120002-10-47d1-9ec2-dede-28be-89d9-c401-6b3a-e19f-a173-ee3e",
       "previous": "5c39796c-7d60-11eb-9875-0242ac120002-10-b327-d73a-9954-0fa0-148c-b848-ec4f-f77e-0439-7a6e"
      }
     ],
     "next": "a3bc3842-7d60-11eb-9875-0242ac120002-11-9ec2-dede-28be-89d9-c401-6b3a-e19f-a173-ee3e-223b",
     "previous": "5c39796c-7d60-11eb-9875-0242ac120002-11-d73a-9954-0fa0-148c-b848-ec4f-f77e-0439-7a6e-6829"
    }
   },
   "outputs": [],
   "source": [
    "%%writefile {work_dir}/get_servicenet_ip.yml\n",
    "---\n",
    "- become: true\n",
    "  hosts: all\n",
    "  tasks:\n",
    "      - debug: \"msg={{inventory_hostname}}={{servicenet_ip}}\"\n",
    "\n"
   ]
  },
  {
   "cell_type": "code",
   "execution_count": null,
   "metadata": {
    "lc_cell_meme": {
     "current": "a3bc3842-7d60-11eb-9875-0242ac120002-11-9ec2-dede-28be-89d9-c401-6b3a-e19f-a173-ee3e-223b",
     "execution_end_time": "2022-04-28T09:15:17.139818Z",
     "history": [
      {
       "current": "a3bc3842-7d60-11eb-9875-0242ac120002-7-47d1-9ec2-dede-28be-89d9-c401-6b3a",
       "next": "434455e0-3437-11e9-b9a2-02420aff0008-16-97aa-2842-044b-bc32-6407-483c-fdd2-57a7-f57a-cf45",
       "previous": "5c3983e4-7d60-11eb-9875-0242ac120002-6-0478-0e6a-6e2d-46b0-ee6f-283e"
      },
      {
       "current": "a3bc3842-7d60-11eb-9875-0242ac120002-8-47d1-9ec2-dede-28be-89d9-c401-6b3a-e19f",
       "next": "434455e0-3437-11e9-b9a2-02420aff0008-17-2842-044b-bc32-6407-483c-fdd2-57a7-f57a-cf45-53e4",
       "previous": "5c3983e4-7d60-11eb-9875-0242ac120002-7-0478-0e6a-6e2d-46b0-ee6f-283e-8d92"
      },
      {
       "current": "a3bc3842-7d60-11eb-9875-0242ac120002-9-47d1-9ec2-dede-28be-89d9-c401-6b3a-e19f-a173",
       "next": "434455e0-3437-11e9-b9a2-02420aff0008-18-044b-bc32-6407-483c-fdd2-57a7-f57a-cf45-53e4-2ae1",
       "previous": "5c3983e4-7d60-11eb-9875-0242ac120002-8-0478-0e6a-6e2d-46b0-ee6f-283e-8d92-ef2f"
      },
      {
       "current": "a3bc3842-7d60-11eb-9875-0242ac120002-10-47d1-9ec2-dede-28be-89d9-c401-6b3a-e19f-a173-ee3e",
       "next": "434455e0-3437-11e9-b9a2-02420aff0008-19-bc32-6407-483c-fdd2-57a7-f57a-cf45-53e4-2ae1-93d0",
       "previous": "5c3983e4-7d60-11eb-9875-0242ac120002-9-0478-0e6a-6e2d-46b0-ee6f-283e-8d92-ef2f-3dfc"
      },
      {
       "current": "a3bc3842-7d60-11eb-9875-0242ac120002-11-9ec2-dede-28be-89d9-c401-6b3a-e19f-a173-ee3e-223b",
       "next": "434455e0-3437-11e9-b9a2-02420aff0008-20-6407-483c-fdd2-57a7-f57a-cf45-53e4-2ae1-93d0-c565",
       "previous": "5c3983e4-7d60-11eb-9875-0242ac120002-10-0478-0e6a-6e2d-46b0-ee6f-283e-8d92-ef2f-3dfc-5b63"
      }
     ],
     "next": "434455e0-3437-11e9-b9a2-02420aff0008-21-483c-fdd2-57a7-f57a-cf45-53e4-2ae1-93d0-c565-83c6",
     "previous": "5c3983e4-7d60-11eb-9875-0242ac120002-11-0e6a-6e2d-46b0-ee6f-283e-8d92-ef2f-3dfc-5b63-d7a1"
    }
   },
   "outputs": [],
   "source": [
    "import re\n",
    "\n",
    "eip2pip = {}\n",
    "\n",
    "msgout = !ansible-playbook -l {target_group} {work_dir}/get_servicenet_ip.yml\n",
    "msgout = msgout.grep('\"msg\"')\n",
    "assert len(msgout) >= 1\n",
    "for l in msgout:\n",
    "    m = re.match(r'.*\\\"msg\\\": \\\"(.+)=(.+)\\\"', l)\n",
    "    if m:\n",
    "        eip2pip[m.group(1)] = m.group(2)\n",
    "eip2pip"
   ]
  },
  {
   "cell_type": "markdown",
   "metadata": {
    "lc_cell_meme": {
     "current": "434455e0-3437-11e9-b9a2-02420aff0008-21-483c-fdd2-57a7-f57a-cf45-53e4-2ae1-93d0-c565-83c6",
     "history": [
      {
       "current": "434455e0-3437-11e9-b9a2-02420aff0008-17-2842-044b-bc32-6407-483c-fdd2-57a7-f57a-cf45-53e4",
       "next": "fbc12f68-3436-11e9-b9a2-02420aff0008-16-0584-312b-cf15-962d-db4c-24b9-2b34-0537-d75c-de35",
       "previous": "a3bc3842-7d60-11eb-9875-0242ac120002-6-47d1-9ec2-dede-28be-89d9-c401"
      },
      {
       "current": "434455e0-3437-11e9-b9a2-02420aff0008-18-044b-bc32-6407-483c-fdd2-57a7-f57a-cf45-53e4-2ae1",
       "next": "fbc12f68-3436-11e9-b9a2-02420aff0008-17-312b-cf15-962d-db4c-24b9-2b34-0537-d75c-de35-1268",
       "previous": "a3bc3842-7d60-11eb-9875-0242ac120002-7-47d1-9ec2-dede-28be-89d9-c401-6b3a"
      },
      {
       "current": "434455e0-3437-11e9-b9a2-02420aff0008-19-bc32-6407-483c-fdd2-57a7-f57a-cf45-53e4-2ae1-93d0",
       "next": "fbc12f68-3436-11e9-b9a2-02420aff0008-18-cf15-962d-db4c-24b9-2b34-0537-d75c-de35-1268-9afc",
       "previous": "a3bc3842-7d60-11eb-9875-0242ac120002-8-47d1-9ec2-dede-28be-89d9-c401-6b3a-e19f"
      },
      {
       "current": "434455e0-3437-11e9-b9a2-02420aff0008-20-6407-483c-fdd2-57a7-f57a-cf45-53e4-2ae1-93d0-c565",
       "next": "fbc12f68-3436-11e9-b9a2-02420aff0008-19-962d-db4c-24b9-2b34-0537-d75c-de35-1268-9afc-36be",
       "previous": "a3bc3842-7d60-11eb-9875-0242ac120002-9-47d1-9ec2-dede-28be-89d9-c401-6b3a-e19f-a173"
      },
      {
       "current": "434455e0-3437-11e9-b9a2-02420aff0008-21-483c-fdd2-57a7-f57a-cf45-53e4-2ae1-93d0-c565-83c6",
       "next": "fbc12f68-3436-11e9-b9a2-02420aff0008-20-db4c-24b9-2b34-0537-d75c-de35-1268-9afc-36be-f6fe",
       "previous": "a3bc3842-7d60-11eb-9875-0242ac120002-10-47d1-9ec2-dede-28be-89d9-c401-6b3a-e19f-a173-ee3e"
      }
     ],
     "next": "fbc12f68-3436-11e9-b9a2-02420aff0008-21-24b9-2b34-0537-d75c-de35-1268-9afc-36be-f6fe-40c7",
     "previous": "a3bc3842-7d60-11eb-9875-0242ac120002-11-9ec2-dede-28be-89d9-c401-6b3a-e19f-a173-ee3e-223b"
    }
   },
   "source": [
    "master node"
   ]
  },
  {
   "cell_type": "code",
   "execution_count": null,
   "metadata": {
    "lc_cell_meme": {
     "current": "fbc12f68-3436-11e9-b9a2-02420aff0008-21-24b9-2b34-0537-d75c-de35-1268-9afc-36be-f6fe-40c7",
     "execution_end_time": "2022-04-28T09:15:18.534808Z",
     "history": [
      {
       "current": "fbc12f68-3436-11e9-b9a2-02420aff0008-17-312b-cf15-962d-db4c-24b9-2b34-0537-d75c-de35-1268",
       "next": "4344572a-3437-11e9-b9a2-02420aff0008-16-3ca3-145b-ea25-f4ca-f047-f99b-1e14-afe2-41f5-989b",
       "previous": "434455e0-3437-11e9-b9a2-02420aff0008-16-97aa-2842-044b-bc32-6407-483c-fdd2-57a7-f57a-cf45"
      },
      {
       "current": "fbc12f68-3436-11e9-b9a2-02420aff0008-18-cf15-962d-db4c-24b9-2b34-0537-d75c-de35-1268-9afc",
       "next": "4344572a-3437-11e9-b9a2-02420aff0008-17-145b-ea25-f4ca-f047-f99b-1e14-afe2-41f5-989b-5cf3",
       "previous": "434455e0-3437-11e9-b9a2-02420aff0008-17-2842-044b-bc32-6407-483c-fdd2-57a7-f57a-cf45-53e4"
      },
      {
       "current": "fbc12f68-3436-11e9-b9a2-02420aff0008-19-962d-db4c-24b9-2b34-0537-d75c-de35-1268-9afc-36be",
       "next": "4344572a-3437-11e9-b9a2-02420aff0008-18-ea25-f4ca-f047-f99b-1e14-afe2-41f5-989b-5cf3-d0b0",
       "previous": "434455e0-3437-11e9-b9a2-02420aff0008-18-044b-bc32-6407-483c-fdd2-57a7-f57a-cf45-53e4-2ae1"
      },
      {
       "current": "fbc12f68-3436-11e9-b9a2-02420aff0008-20-db4c-24b9-2b34-0537-d75c-de35-1268-9afc-36be-f6fe",
       "next": "4344572a-3437-11e9-b9a2-02420aff0008-19-f4ca-f047-f99b-1e14-afe2-41f5-989b-5cf3-d0b0-fa53",
       "previous": "434455e0-3437-11e9-b9a2-02420aff0008-19-bc32-6407-483c-fdd2-57a7-f57a-cf45-53e4-2ae1-93d0"
      },
      {
       "current": "fbc12f68-3436-11e9-b9a2-02420aff0008-21-24b9-2b34-0537-d75c-de35-1268-9afc-36be-f6fe-40c7",
       "next": "4344572a-3437-11e9-b9a2-02420aff0008-20-f047-f99b-1e14-afe2-41f5-989b-5cf3-d0b0-fa53-b36b",
       "previous": "434455e0-3437-11e9-b9a2-02420aff0008-20-6407-483c-fdd2-57a7-f57a-cf45-53e4-2ae1-93d0-c565"
      }
     ],
     "next": "4344572a-3437-11e9-b9a2-02420aff0008-21-f99b-1e14-afe2-41f5-989b-5cf3-d0b0-fa53-b36b-2810",
     "previous": "434455e0-3437-11e9-b9a2-02420aff0008-21-483c-fdd2-57a7-f57a-cf45-53e4-2ae1-93d0-c565-83c6"
    }
   },
   "outputs": [],
   "source": [
    "import re\n",
    "\n",
    "output = !ansible -m ping {target_hub} -l {target_group}\n",
    "output = [x for x in output if re.match(r'.+SUCCESS.+', x)][0]\n",
    "master = [eip2pip[x.strip()] for x in output.split('|') if x.strip() in eip2pip][0]\n",
    "master"
   ]
  },
  {
   "cell_type": "markdown",
   "metadata": {
    "lc_cell_meme": {
     "current": "4344572a-3437-11e9-b9a2-02420aff0008-21-f99b-1e14-afe2-41f5-989b-5cf3-d0b0-fa53-b36b-2810",
     "history": [
      {
       "current": "4344572a-3437-11e9-b9a2-02420aff0008-17-145b-ea25-f4ca-f047-f99b-1e14-afe2-41f5-989b-5cf3",
       "next": "434457d4-3437-11e9-b9a2-02420aff0008-16-2e8b-edf4-335f-34e7-ee1d-b7ed-a409-2cf8-fe2e-35e0",
       "previous": "fbc12f68-3436-11e9-b9a2-02420aff0008-16-0584-312b-cf15-962d-db4c-24b9-2b34-0537-d75c-de35"
      },
      {
       "current": "4344572a-3437-11e9-b9a2-02420aff0008-18-ea25-f4ca-f047-f99b-1e14-afe2-41f5-989b-5cf3-d0b0",
       "next": "434457d4-3437-11e9-b9a2-02420aff0008-17-edf4-335f-34e7-ee1d-b7ed-a409-2cf8-fe2e-35e0-5150",
       "previous": "fbc12f68-3436-11e9-b9a2-02420aff0008-17-312b-cf15-962d-db4c-24b9-2b34-0537-d75c-de35-1268"
      },
      {
       "current": "4344572a-3437-11e9-b9a2-02420aff0008-19-f4ca-f047-f99b-1e14-afe2-41f5-989b-5cf3-d0b0-fa53",
       "next": "434457d4-3437-11e9-b9a2-02420aff0008-18-335f-34e7-ee1d-b7ed-a409-2cf8-fe2e-35e0-5150-6389",
       "previous": "fbc12f68-3436-11e9-b9a2-02420aff0008-18-cf15-962d-db4c-24b9-2b34-0537-d75c-de35-1268-9afc"
      },
      {
       "current": "4344572a-3437-11e9-b9a2-02420aff0008-20-f047-f99b-1e14-afe2-41f5-989b-5cf3-d0b0-fa53-b36b",
       "next": "434457d4-3437-11e9-b9a2-02420aff0008-19-34e7-ee1d-b7ed-a409-2cf8-fe2e-35e0-5150-6389-ca76",
       "previous": "fbc12f68-3436-11e9-b9a2-02420aff0008-19-962d-db4c-24b9-2b34-0537-d75c-de35-1268-9afc-36be"
      },
      {
       "current": "4344572a-3437-11e9-b9a2-02420aff0008-21-f99b-1e14-afe2-41f5-989b-5cf3-d0b0-fa53-b36b-2810",
       "next": "434457d4-3437-11e9-b9a2-02420aff0008-20-ee1d-b7ed-a409-2cf8-fe2e-35e0-5150-6389-ca76-1dca",
       "previous": "fbc12f68-3436-11e9-b9a2-02420aff0008-20-db4c-24b9-2b34-0537-d75c-de35-1268-9afc-36be-f6fe"
      }
     ],
     "next": "434457d4-3437-11e9-b9a2-02420aff0008-21-b7ed-a409-2cf8-fe2e-35e0-5150-6389-ca76-1dca-8ff3",
     "previous": "fbc12f68-3436-11e9-b9a2-02420aff0008-21-24b9-2b34-0537-d75c-de35-1268-9afc-36be-f6fe-40c7"
    }
   },
   "source": [
    "slave nodes"
   ]
  },
  {
   "cell_type": "code",
   "execution_count": null,
   "metadata": {
    "lc_cell_meme": {
     "current": "434457d4-3437-11e9-b9a2-02420aff0008-21-b7ed-a409-2cf8-fe2e-35e0-5150-6389-ca76-1dca-8ff3",
     "execution_end_time": "2022-04-28T09:15:20.162765Z",
     "history": [
      {
       "current": "434457d4-3437-11e9-b9a2-02420aff0008-17-edf4-335f-34e7-ee1d-b7ed-a409-2cf8-fe2e-35e0-5150",
       "next": "8ad994e2-3437-11e9-b9a2-02420aff0008-16-e7a3-f5dd-00de-dd80-9968-e1f4-de31-f3bf-f862-1c6d",
       "previous": "4344572a-3437-11e9-b9a2-02420aff0008-16-3ca3-145b-ea25-f4ca-f047-f99b-1e14-afe2-41f5-989b"
      },
      {
       "current": "434457d4-3437-11e9-b9a2-02420aff0008-18-335f-34e7-ee1d-b7ed-a409-2cf8-fe2e-35e0-5150-6389",
       "next": "8ad994e2-3437-11e9-b9a2-02420aff0008-17-f5dd-00de-dd80-9968-e1f4-de31-f3bf-f862-1c6d-7977",
       "previous": "4344572a-3437-11e9-b9a2-02420aff0008-17-145b-ea25-f4ca-f047-f99b-1e14-afe2-41f5-989b-5cf3"
      },
      {
       "current": "434457d4-3437-11e9-b9a2-02420aff0008-19-34e7-ee1d-b7ed-a409-2cf8-fe2e-35e0-5150-6389-ca76",
       "next": "8ad994e2-3437-11e9-b9a2-02420aff0008-18-00de-dd80-9968-e1f4-de31-f3bf-f862-1c6d-7977-c34c",
       "previous": "4344572a-3437-11e9-b9a2-02420aff0008-18-ea25-f4ca-f047-f99b-1e14-afe2-41f5-989b-5cf3-d0b0"
      },
      {
       "current": "434457d4-3437-11e9-b9a2-02420aff0008-20-ee1d-b7ed-a409-2cf8-fe2e-35e0-5150-6389-ca76-1dca",
       "next": "8ad994e2-3437-11e9-b9a2-02420aff0008-19-dd80-9968-e1f4-de31-f3bf-f862-1c6d-7977-c34c-7b10",
       "previous": "4344572a-3437-11e9-b9a2-02420aff0008-19-f4ca-f047-f99b-1e14-afe2-41f5-989b-5cf3-d0b0-fa53"
      },
      {
       "current": "434457d4-3437-11e9-b9a2-02420aff0008-21-b7ed-a409-2cf8-fe2e-35e0-5150-6389-ca76-1dca-8ff3",
       "next": "8ad994e2-3437-11e9-b9a2-02420aff0008-20-9968-e1f4-de31-f3bf-f862-1c6d-7977-c34c-7b10-1c67",
       "previous": "4344572a-3437-11e9-b9a2-02420aff0008-20-f047-f99b-1e14-afe2-41f5-989b-5cf3-d0b0-fa53-b36b"
      }
     ],
     "next": "8ad994e2-3437-11e9-b9a2-02420aff0008-21-e1f4-de31-f3bf-f862-1c6d-7977-c34c-7b10-1c67-a622",
     "previous": "4344572a-3437-11e9-b9a2-02420aff0008-21-f99b-1e14-afe2-41f5-989b-5cf3-d0b0-fa53-b36b-2810"
    }
   },
   "outputs": [],
   "source": [
    "import re\n",
    "\n",
    "output = !ansible -m ping {target_nodes} -l {target_group}\n",
    "output = [x for x in output if re.match(r'.+SUCCESS.+', x)]\n",
    "slaves = [eip2pip[x.split('|')[0].strip()] for x in output]\n",
    "slaves"
   ]
  },
  {
   "cell_type": "code",
   "execution_count": null,
   "metadata": {
    "lc_cell_meme": {
     "current": "8ad994e2-3437-11e9-b9a2-02420aff0008-21-e1f4-de31-f3bf-f862-1c6d-7977-c34c-7b10-1c67-a622",
     "execution_end_time": "2022-04-28T09:15:21.300822Z",
     "history": [
      {
       "current": "8ad994e2-3437-11e9-b9a2-02420aff0008-17-f5dd-00de-dd80-9968-e1f4-de31-f3bf-f862-1c6d-7977",
       "next": "7a805d36-3439-11e9-b9a2-02420aff0008-16-5aa1-f693-9c91-0e0a-c4df-c75a-5b9b-d246-0d93-5369",
       "previous": "434457d4-3437-11e9-b9a2-02420aff0008-16-2e8b-edf4-335f-34e7-ee1d-b7ed-a409-2cf8-fe2e-35e0"
      },
      {
       "current": "8ad994e2-3437-11e9-b9a2-02420aff0008-18-00de-dd80-9968-e1f4-de31-f3bf-f862-1c6d-7977-c34c",
       "next": "7a805d36-3439-11e9-b9a2-02420aff0008-17-f693-9c91-0e0a-c4df-c75a-5b9b-d246-0d93-5369-d93d",
       "previous": "434457d4-3437-11e9-b9a2-02420aff0008-17-edf4-335f-34e7-ee1d-b7ed-a409-2cf8-fe2e-35e0-5150"
      },
      {
       "current": "8ad994e2-3437-11e9-b9a2-02420aff0008-19-dd80-9968-e1f4-de31-f3bf-f862-1c6d-7977-c34c-7b10",
       "next": "7a805d36-3439-11e9-b9a2-02420aff0008-18-9c91-0e0a-c4df-c75a-5b9b-d246-0d93-5369-d93d-8169",
       "previous": "434457d4-3437-11e9-b9a2-02420aff0008-18-335f-34e7-ee1d-b7ed-a409-2cf8-fe2e-35e0-5150-6389"
      },
      {
       "current": "8ad994e2-3437-11e9-b9a2-02420aff0008-20-9968-e1f4-de31-f3bf-f862-1c6d-7977-c34c-7b10-1c67",
       "next": "7a805d36-3439-11e9-b9a2-02420aff0008-19-0e0a-c4df-c75a-5b9b-d246-0d93-5369-d93d-8169-e4fb",
       "previous": "434457d4-3437-11e9-b9a2-02420aff0008-19-34e7-ee1d-b7ed-a409-2cf8-fe2e-35e0-5150-6389-ca76"
      },
      {
       "current": "8ad994e2-3437-11e9-b9a2-02420aff0008-21-e1f4-de31-f3bf-f862-1c6d-7977-c34c-7b10-1c67-a622",
       "next": "7a805d36-3439-11e9-b9a2-02420aff0008-20-c4df-c75a-5b9b-d246-0d93-5369-d93d-8169-e4fb-5958",
       "previous": "434457d4-3437-11e9-b9a2-02420aff0008-20-ee1d-b7ed-a409-2cf8-fe2e-35e0-5150-6389-ca76-1dca"
      }
     ],
     "next": "7a805d36-3439-11e9-b9a2-02420aff0008-21-c75a-5b9b-d246-0d93-5369-d93d-8169-e4fb-5958-4900",
     "previous": "434457d4-3437-11e9-b9a2-02420aff0008-21-b7ed-a409-2cf8-fe2e-35e0-5150-6389-ca76-1dca-8ff3"
    }
   },
   "outputs": [],
   "source": [
    "ch_inventory = '''[ch-all:children]\n",
    "ch-master\n",
    "ch-nodes\n",
    "\n",
    "[ch-all:vars]\n",
    "ansible_ssh_user={teacher_id}\n",
    "\n",
    "[ch-master]\n",
    "{master}\n",
    "\n",
    "[ch-nodes]\n",
    "{slaves}\n",
    "'''.format(master=master, slaves='\\n'.join(slaves), teacher_id=teacher_id)\n",
    "\n",
    "import os.path\n",
    "\n",
    "with open(os.path.join(work_dir, 'inventory'), 'w') as f:\n",
    "    f.write(ch_inventory)\n",
    "\n",
    "!cat {work_dir}/inventory"
   ]
  },
  {
   "cell_type": "markdown",
   "metadata": {
    "lc_cell_meme": {
     "current": "7a805d36-3439-11e9-b9a2-02420aff0008-21-c75a-5b9b-d246-0d93-5369-d93d-8169-e4fb-5958-4900",
     "history": [
      {
       "current": "7a805d36-3439-11e9-b9a2-02420aff0008-17-f693-9c91-0e0a-c4df-c75a-5b9b-d246-0d93-5369-d93d",
       "next": "a8eb4e5c-3438-11e9-b9a2-02420aff0008-16-4964-90ed-6700-34dd-b150-69fc-1e67-16bd-1e4e-b900",
       "previous": "8ad994e2-3437-11e9-b9a2-02420aff0008-16-e7a3-f5dd-00de-dd80-9968-e1f4-de31-f3bf-f862-1c6d"
      },
      {
       "current": "7a805d36-3439-11e9-b9a2-02420aff0008-18-9c91-0e0a-c4df-c75a-5b9b-d246-0d93-5369-d93d-8169",
       "next": "a8eb4e5c-3438-11e9-b9a2-02420aff0008-17-90ed-6700-34dd-b150-69fc-1e67-16bd-1e4e-b900-8873",
       "previous": "8ad994e2-3437-11e9-b9a2-02420aff0008-17-f5dd-00de-dd80-9968-e1f4-de31-f3bf-f862-1c6d-7977"
      },
      {
       "current": "7a805d36-3439-11e9-b9a2-02420aff0008-19-0e0a-c4df-c75a-5b9b-d246-0d93-5369-d93d-8169-e4fb",
       "next": "a8eb4e5c-3438-11e9-b9a2-02420aff0008-18-6700-34dd-b150-69fc-1e67-16bd-1e4e-b900-8873-049c",
       "previous": "8ad994e2-3437-11e9-b9a2-02420aff0008-18-00de-dd80-9968-e1f4-de31-f3bf-f862-1c6d-7977-c34c"
      },
      {
       "current": "7a805d36-3439-11e9-b9a2-02420aff0008-20-c4df-c75a-5b9b-d246-0d93-5369-d93d-8169-e4fb-5958",
       "next": "a8eb4e5c-3438-11e9-b9a2-02420aff0008-19-34dd-b150-69fc-1e67-16bd-1e4e-b900-8873-049c-1d6d",
       "previous": "8ad994e2-3437-11e9-b9a2-02420aff0008-19-dd80-9968-e1f4-de31-f3bf-f862-1c6d-7977-c34c-7b10"
      },
      {
       "current": "7a805d36-3439-11e9-b9a2-02420aff0008-21-c75a-5b9b-d246-0d93-5369-d93d-8169-e4fb-5958-4900",
       "next": "a8eb4e5c-3438-11e9-b9a2-02420aff0008-20-b150-69fc-1e67-16bd-1e4e-b900-8873-049c-1d6d-0153",
       "previous": "8ad994e2-3437-11e9-b9a2-02420aff0008-20-9968-e1f4-de31-f3bf-f862-1c6d-7977-c34c-7b10-1c67"
      }
     ],
     "next": "a8eb4e5c-3438-11e9-b9a2-02420aff0008-21-69fc-1e67-16bd-1e4e-b900-8873-049c-1d6d-0153-9159",
     "previous": "8ad994e2-3437-11e9-b9a2-02420aff0008-21-e1f4-de31-f3bf-f862-1c6d-7977-c34c-7b10-1c67-a622"
    }
   },
   "source": [
    "`~/ansible/inventory`に配置する。"
   ]
  },
  {
   "cell_type": "code",
   "execution_count": null,
   "metadata": {
    "lc_cell_meme": {
     "current": "a8eb4e5c-3438-11e9-b9a2-02420aff0008-21-69fc-1e67-16bd-1e4e-b900-8873-049c-1d6d-0153-9159",
     "execution_end_time": "2022-04-28T09:15:23.962828Z",
     "history": [
      {
       "current": "a8eb4e5c-3438-11e9-b9a2-02420aff0008-17-90ed-6700-34dd-b150-69fc-1e67-16bd-1e4e-b900-8873",
       "next": "7a805e76-3439-11e9-b9a2-02420aff0008-16-0e99-6780-5601-1023-2e30-9afe-bd7a-0e7f-15ce-5974",
       "previous": "7a805d36-3439-11e9-b9a2-02420aff0008-16-5aa1-f693-9c91-0e0a-c4df-c75a-5b9b-d246-0d93-5369"
      },
      {
       "current": "a8eb4e5c-3438-11e9-b9a2-02420aff0008-18-6700-34dd-b150-69fc-1e67-16bd-1e4e-b900-8873-049c",
       "next": "7a805e76-3439-11e9-b9a2-02420aff0008-17-6780-5601-1023-2e30-9afe-bd7a-0e7f-15ce-5974-8bd7",
       "previous": "7a805d36-3439-11e9-b9a2-02420aff0008-17-f693-9c91-0e0a-c4df-c75a-5b9b-d246-0d93-5369-d93d"
      },
      {
       "current": "a8eb4e5c-3438-11e9-b9a2-02420aff0008-19-34dd-b150-69fc-1e67-16bd-1e4e-b900-8873-049c-1d6d",
       "next": "7a805e76-3439-11e9-b9a2-02420aff0008-18-5601-1023-2e30-9afe-bd7a-0e7f-15ce-5974-8bd7-63cb",
       "previous": "7a805d36-3439-11e9-b9a2-02420aff0008-18-9c91-0e0a-c4df-c75a-5b9b-d246-0d93-5369-d93d-8169"
      },
      {
       "current": "a8eb4e5c-3438-11e9-b9a2-02420aff0008-20-b150-69fc-1e67-16bd-1e4e-b900-8873-049c-1d6d-0153",
       "next": "7a805e76-3439-11e9-b9a2-02420aff0008-19-1023-2e30-9afe-bd7a-0e7f-15ce-5974-8bd7-63cb-620f",
       "previous": "7a805d36-3439-11e9-b9a2-02420aff0008-19-0e0a-c4df-c75a-5b9b-d246-0d93-5369-d93d-8169-e4fb"
      },
      {
       "current": "a8eb4e5c-3438-11e9-b9a2-02420aff0008-21-69fc-1e67-16bd-1e4e-b900-8873-049c-1d6d-0153-9159",
       "next": "7a805e76-3439-11e9-b9a2-02420aff0008-20-2e30-9afe-bd7a-0e7f-15ce-5974-8bd7-63cb-620f-a3f2",
       "previous": "7a805d36-3439-11e9-b9a2-02420aff0008-20-c4df-c75a-5b9b-d246-0d93-5369-d93d-8169-e4fb-5958"
      }
     ],
     "next": "7a805e76-3439-11e9-b9a2-02420aff0008-21-9afe-bd7a-0e7f-15ce-5974-8bd7-63cb-620f-a3f2-1b24",
     "previous": "7a805d36-3439-11e9-b9a2-02420aff0008-21-c75a-5b9b-d246-0d93-5369-d93d-8169-e4fb-5958-4900"
    }
   },
   "outputs": [],
   "source": [
    "!ansible -b -m file -a 'path=/jupyter/users/{teacher_id}/ansible owner={teacher_id} group={teacher_id} state=directory' {target_hub} -l {target_group}"
   ]
  },
  {
   "cell_type": "code",
   "execution_count": null,
   "metadata": {
    "lc_cell_meme": {
     "current": "7a805e76-3439-11e9-b9a2-02420aff0008-21-9afe-bd7a-0e7f-15ce-5974-8bd7-63cb-620f-a3f2-1b24",
     "execution_end_time": "2022-04-28T09:15:28.996453Z",
     "history": [
      {
       "current": "7a805e76-3439-11e9-b9a2-02420aff0008-17-6780-5601-1023-2e30-9afe-bd7a-0e7f-15ce-5974-8bd7",
       "next": "0e9b0516-343a-11e9-b9a2-02420aff0008-16-f14f-8725-f21b-9d44-00dc-2286-1647-4e07-30ee-5175",
       "previous": "a8eb4e5c-3438-11e9-b9a2-02420aff0008-16-4964-90ed-6700-34dd-b150-69fc-1e67-16bd-1e4e-b900"
      },
      {
       "current": "7a805e76-3439-11e9-b9a2-02420aff0008-18-5601-1023-2e30-9afe-bd7a-0e7f-15ce-5974-8bd7-63cb",
       "next": "0e9b0516-343a-11e9-b9a2-02420aff0008-17-8725-f21b-9d44-00dc-2286-1647-4e07-30ee-5175-6675",
       "previous": "a8eb4e5c-3438-11e9-b9a2-02420aff0008-17-90ed-6700-34dd-b150-69fc-1e67-16bd-1e4e-b900-8873"
      },
      {
       "current": "7a805e76-3439-11e9-b9a2-02420aff0008-19-1023-2e30-9afe-bd7a-0e7f-15ce-5974-8bd7-63cb-620f",
       "next": "0e9b0516-343a-11e9-b9a2-02420aff0008-18-f21b-9d44-00dc-2286-1647-4e07-30ee-5175-6675-3041",
       "previous": "a8eb4e5c-3438-11e9-b9a2-02420aff0008-18-6700-34dd-b150-69fc-1e67-16bd-1e4e-b900-8873-049c"
      },
      {
       "current": "7a805e76-3439-11e9-b9a2-02420aff0008-20-2e30-9afe-bd7a-0e7f-15ce-5974-8bd7-63cb-620f-a3f2",
       "next": "0e9b0516-343a-11e9-b9a2-02420aff0008-19-9d44-00dc-2286-1647-4e07-30ee-5175-6675-3041-710c",
       "previous": "a8eb4e5c-3438-11e9-b9a2-02420aff0008-19-34dd-b150-69fc-1e67-16bd-1e4e-b900-8873-049c-1d6d"
      },
      {
       "current": "7a805e76-3439-11e9-b9a2-02420aff0008-21-9afe-bd7a-0e7f-15ce-5974-8bd7-63cb-620f-a3f2-1b24",
       "next": "0e9b0516-343a-11e9-b9a2-02420aff0008-20-00dc-2286-1647-4e07-30ee-5175-6675-3041-710c-c540",
       "previous": "a8eb4e5c-3438-11e9-b9a2-02420aff0008-20-b150-69fc-1e67-16bd-1e4e-b900-8873-049c-1d6d-0153"
      }
     ],
     "next": "0e9b0516-343a-11e9-b9a2-02420aff0008-21-2286-1647-4e07-30ee-5175-6675-3041-710c-c540-5e5b",
     "previous": "a8eb4e5c-3438-11e9-b9a2-02420aff0008-21-69fc-1e67-16bd-1e4e-b900-8873-049c-1d6d-0153-9159"
    }
   },
   "outputs": [],
   "source": [
    "!ansible -b -m copy -a 'src={work_dir}/inventory dest=/jupyter/users/{teacher_id}/ansible/inventory owner={teacher_id} group={teacher_id}' {target_hub} -l {target_group}"
   ]
  },
  {
   "cell_type": "markdown",
   "metadata": {
    "lc_cell_meme": {
     "current": "0e9b0516-343a-11e9-b9a2-02420aff0008-21-2286-1647-4e07-30ee-5175-6675-3041-710c-c540-5e5b",
     "history": [
      {
       "current": "0e9b0516-343a-11e9-b9a2-02420aff0008-17-8725-f21b-9d44-00dc-2286-1647-4e07-30ee-5175-6675",
       "next": "0e9b070a-343a-11e9-b9a2-02420aff0008-16-828c-7bf8-4e9a-e3b8-09f0-5a97-6b66-9206-2e6c-828a",
       "previous": "7a805e76-3439-11e9-b9a2-02420aff0008-16-0e99-6780-5601-1023-2e30-9afe-bd7a-0e7f-15ce-5974"
      },
      {
       "current": "0e9b0516-343a-11e9-b9a2-02420aff0008-18-f21b-9d44-00dc-2286-1647-4e07-30ee-5175-6675-3041",
       "next": "0e9b070a-343a-11e9-b9a2-02420aff0008-17-7bf8-4e9a-e3b8-09f0-5a97-6b66-9206-2e6c-828a-487b",
       "previous": "7a805e76-3439-11e9-b9a2-02420aff0008-17-6780-5601-1023-2e30-9afe-bd7a-0e7f-15ce-5974-8bd7"
      },
      {
       "current": "0e9b0516-343a-11e9-b9a2-02420aff0008-19-9d44-00dc-2286-1647-4e07-30ee-5175-6675-3041-710c",
       "next": "0e9b070a-343a-11e9-b9a2-02420aff0008-18-4e9a-e3b8-09f0-5a97-6b66-9206-2e6c-828a-487b-3e16",
       "previous": "7a805e76-3439-11e9-b9a2-02420aff0008-18-5601-1023-2e30-9afe-bd7a-0e7f-15ce-5974-8bd7-63cb"
      },
      {
       "current": "0e9b0516-343a-11e9-b9a2-02420aff0008-20-00dc-2286-1647-4e07-30ee-5175-6675-3041-710c-c540",
       "next": "0e9b070a-343a-11e9-b9a2-02420aff0008-19-e3b8-09f0-5a97-6b66-9206-2e6c-828a-487b-3e16-b0a7",
       "previous": "7a805e76-3439-11e9-b9a2-02420aff0008-19-1023-2e30-9afe-bd7a-0e7f-15ce-5974-8bd7-63cb-620f"
      },
      {
       "current": "0e9b0516-343a-11e9-b9a2-02420aff0008-21-2286-1647-4e07-30ee-5175-6675-3041-710c-c540-5e5b",
       "next": "0e9b070a-343a-11e9-b9a2-02420aff0008-20-09f0-5a97-6b66-9206-2e6c-828a-487b-3e16-b0a7-f12f",
       "previous": "7a805e76-3439-11e9-b9a2-02420aff0008-20-2e30-9afe-bd7a-0e7f-15ce-5974-8bd7-63cb-620f-a3f2"
      }
     ],
     "next": "0e9b070a-343a-11e9-b9a2-02420aff0008-21-5a97-6b66-9206-2e6c-828a-487b-3e16-b0a7-f12f-0213",
     "previous": "7a805e76-3439-11e9-b9a2-02420aff0008-21-9afe-bd7a-0e7f-15ce-5974-8bd7-63cb-620f-a3f2-1b24"
    }
   },
   "source": [
    "## Grant sudo\n",
    "\n",
    "JupyterHubを構成するマシン上でのsudo権限を与える。"
   ]
  },
  {
   "cell_type": "code",
   "execution_count": null,
   "metadata": {
    "lc_cell_meme": {
     "current": "0e9b070a-343a-11e9-b9a2-02420aff0008-21-5a97-6b66-9206-2e6c-828a-487b-3e16-b0a7-f12f-0213",
     "execution_end_time": "2022-04-28T09:15:34.168217Z",
     "history": [
      {
       "current": "0e9b070a-343a-11e9-b9a2-02420aff0008-17-7bf8-4e9a-e3b8-09f0-5a97-6b66-9206-2e6c-828a-487b",
       "next": "0e9b120e-343a-11e9-b9a2-02420aff0008-16-639a-5350-9753-49b6-ff90-9640-f5ed-a54c-0a33-32a3",
       "previous": "0e9b0516-343a-11e9-b9a2-02420aff0008-16-f14f-8725-f21b-9d44-00dc-2286-1647-4e07-30ee-5175"
      },
      {
       "current": "0e9b070a-343a-11e9-b9a2-02420aff0008-18-4e9a-e3b8-09f0-5a97-6b66-9206-2e6c-828a-487b-3e16",
       "next": "0e9b120e-343a-11e9-b9a2-02420aff0008-17-5350-9753-49b6-ff90-9640-f5ed-a54c-0a33-32a3-1c18",
       "previous": "0e9b0516-343a-11e9-b9a2-02420aff0008-17-8725-f21b-9d44-00dc-2286-1647-4e07-30ee-5175-6675"
      },
      {
       "current": "0e9b070a-343a-11e9-b9a2-02420aff0008-19-e3b8-09f0-5a97-6b66-9206-2e6c-828a-487b-3e16-b0a7",
       "next": "0e9b120e-343a-11e9-b9a2-02420aff0008-18-9753-49b6-ff90-9640-f5ed-a54c-0a33-32a3-1c18-2015",
       "previous": "0e9b0516-343a-11e9-b9a2-02420aff0008-18-f21b-9d44-00dc-2286-1647-4e07-30ee-5175-6675-3041"
      },
      {
       "current": "0e9b070a-343a-11e9-b9a2-02420aff0008-20-09f0-5a97-6b66-9206-2e6c-828a-487b-3e16-b0a7-f12f",
       "next": "0e9b120e-343a-11e9-b9a2-02420aff0008-19-49b6-ff90-9640-f5ed-a54c-0a33-32a3-1c18-2015-32da",
       "previous": "0e9b0516-343a-11e9-b9a2-02420aff0008-19-9d44-00dc-2286-1647-4e07-30ee-5175-6675-3041-710c"
      },
      {
       "current": "0e9b070a-343a-11e9-b9a2-02420aff0008-21-5a97-6b66-9206-2e6c-828a-487b-3e16-b0a7-f12f-0213",
       "next": "0e9b120e-343a-11e9-b9a2-02420aff0008-20-ff90-9640-f5ed-a54c-0a33-32a3-1c18-2015-32da-3546",
       "previous": "0e9b0516-343a-11e9-b9a2-02420aff0008-20-00dc-2286-1647-4e07-30ee-5175-6675-3041-710c-c540"
      }
     ],
     "next": "0e9b120e-343a-11e9-b9a2-02420aff0008-21-9640-f5ed-a54c-0a33-32a3-1c18-2015-32da-3546-7195",
     "previous": "0e9b0516-343a-11e9-b9a2-02420aff0008-21-2286-1647-4e07-30ee-5175-6675-3041-710c-c540-5e5b"
    },
    "scrolled": true
   },
   "outputs": [],
   "source": [
    "!ansible -CD -b -m lineinfile -a 'dest=/etc/sudoers.d/{teacher_id} line=\"{teacher_id} ALL=(ALL) NOPASSWD: ALL\" create=yes' {target_hub} -l {target_group}\n",
    "!ansible -CD -b -m lineinfile -a 'dest=/etc/sudoers.d/{teacher_id} line=\"{teacher_id} ALL=(ALL) NOPASSWD: ALL\" create=yes' {target_nodes} -l {target_group}"
   ]
  },
  {
   "cell_type": "code",
   "execution_count": null,
   "metadata": {
    "lc_cell_meme": {
     "current": "0e9b120e-343a-11e9-b9a2-02420aff0008-21-9640-f5ed-a54c-0a33-32a3-1c18-2015-32da-3546-7195",
     "execution_end_time": "2022-04-28T09:15:39.322074Z",
     "history": [
      {
       "current": "0e9b120e-343a-11e9-b9a2-02420aff0008-17-5350-9753-49b6-ff90-9640-f5ed-a54c-0a33-32a3-1c18",
       "next": "c1bee2d4-db34-11e8-a64b-02420aff0006-16-a20c-caee-b98b-e6dc-0fa0-7915-37cb-7c3c-266f-31fb",
       "previous": "0e9b070a-343a-11e9-b9a2-02420aff0008-16-828c-7bf8-4e9a-e3b8-09f0-5a97-6b66-9206-2e6c-828a"
      },
      {
       "current": "0e9b120e-343a-11e9-b9a2-02420aff0008-18-9753-49b6-ff90-9640-f5ed-a54c-0a33-32a3-1c18-2015",
       "next": "c1bee2d4-db34-11e8-a64b-02420aff0006-17-caee-b98b-e6dc-0fa0-7915-37cb-7c3c-266f-31fb-1e5d",
       "previous": "0e9b070a-343a-11e9-b9a2-02420aff0008-17-7bf8-4e9a-e3b8-09f0-5a97-6b66-9206-2e6c-828a-487b"
      },
      {
       "current": "0e9b120e-343a-11e9-b9a2-02420aff0008-19-49b6-ff90-9640-f5ed-a54c-0a33-32a3-1c18-2015-32da",
       "next": "c1bee2d4-db34-11e8-a64b-02420aff0006-18-b98b-e6dc-0fa0-7915-37cb-7c3c-266f-31fb-1e5d-67a9",
       "previous": "0e9b070a-343a-11e9-b9a2-02420aff0008-18-4e9a-e3b8-09f0-5a97-6b66-9206-2e6c-828a-487b-3e16"
      },
      {
       "current": "0e9b120e-343a-11e9-b9a2-02420aff0008-20-ff90-9640-f5ed-a54c-0a33-32a3-1c18-2015-32da-3546",
       "next": "c1bee2d4-db34-11e8-a64b-02420aff0006-19-e6dc-0fa0-7915-37cb-7c3c-266f-31fb-1e5d-67a9-b49d",
       "previous": "0e9b070a-343a-11e9-b9a2-02420aff0008-19-e3b8-09f0-5a97-6b66-9206-2e6c-828a-487b-3e16-b0a7"
      },
      {
       "current": "0e9b120e-343a-11e9-b9a2-02420aff0008-21-9640-f5ed-a54c-0a33-32a3-1c18-2015-32da-3546-7195",
       "next": "c1bee2d4-db34-11e8-a64b-02420aff0006-20-0fa0-7915-37cb-7c3c-266f-31fb-1e5d-67a9-b49d-8657",
       "previous": "0e9b070a-343a-11e9-b9a2-02420aff0008-20-09f0-5a97-6b66-9206-2e6c-828a-487b-3e16-b0a7-f12f"
      }
     ],
     "next": "c1bee2d4-db34-11e8-a64b-02420aff0006-21-7915-37cb-7c3c-266f-31fb-1e5d-67a9-b49d-8657-48be",
     "previous": "0e9b070a-343a-11e9-b9a2-02420aff0008-21-5a97-6b66-9206-2e6c-828a-487b-3e16-b0a7-f12f-0213"
    }
   },
   "outputs": [],
   "source": [
    "!ansible -b -m lineinfile -a 'dest=/etc/sudoers.d/{teacher_id} line=\"{teacher_id} ALL=(ALL) NOPASSWD: ALL\" create=yes' {target_hub} -l {target_group}\n",
    "!ansible -b -m lineinfile -a 'dest=/etc/sudoers.d/{teacher_id} line=\"{teacher_id} ALL=(ALL) NOPASSWD: ALL\" create=yes' {target_nodes} -l {target_group}"
   ]
  },
  {
   "cell_type": "markdown",
   "metadata": {
    "lc_cell_meme": {
     "current": "c1bee2d4-db34-11e8-a64b-02420aff0006-21-7915-37cb-7c3c-266f-31fb-1e5d-67a9-b49d-8657-48be",
     "history": [
      {
       "current": "c1bee2d4-db34-11e8-a64b-02420aff0006-17-caee-b98b-e6dc-0fa0-7915-37cb-7c3c-266f-31fb-1e5d",
       "next": "d9ff13fe-488b-11e9-8bae-0242ac130002-16-efa6-4111-30cb-b3be-152c-2a50-44c6-140b-0d3a-d8ee",
       "previous": "0e9b120e-343a-11e9-b9a2-02420aff0008-16-639a-5350-9753-49b6-ff90-9640-f5ed-a54c-0a33-32a3"
      },
      {
       "current": "c1bee2d4-db34-11e8-a64b-02420aff0006-18-b98b-e6dc-0fa0-7915-37cb-7c3c-266f-31fb-1e5d-67a9",
       "next": "d9ff13fe-488b-11e9-8bae-0242ac130002-17-4111-30cb-b3be-152c-2a50-44c6-140b-0d3a-d8ee-b3cf",
       "previous": "0e9b120e-343a-11e9-b9a2-02420aff0008-17-5350-9753-49b6-ff90-9640-f5ed-a54c-0a33-32a3-1c18"
      },
      {
       "current": "c1bee2d4-db34-11e8-a64b-02420aff0006-19-e6dc-0fa0-7915-37cb-7c3c-266f-31fb-1e5d-67a9-b49d",
       "next": "d9ff13fe-488b-11e9-8bae-0242ac130002-18-30cb-b3be-152c-2a50-44c6-140b-0d3a-d8ee-b3cf-40e4",
       "previous": "0e9b120e-343a-11e9-b9a2-02420aff0008-18-9753-49b6-ff90-9640-f5ed-a54c-0a33-32a3-1c18-2015"
      },
      {
       "current": "c1bee2d4-db34-11e8-a64b-02420aff0006-20-0fa0-7915-37cb-7c3c-266f-31fb-1e5d-67a9-b49d-8657",
       "next": "d9ff13fe-488b-11e9-8bae-0242ac130002-19-b3be-152c-2a50-44c6-140b-0d3a-d8ee-b3cf-40e4-de90",
       "previous": "0e9b120e-343a-11e9-b9a2-02420aff0008-19-49b6-ff90-9640-f5ed-a54c-0a33-32a3-1c18-2015-32da"
      },
      {
       "current": "c1bee2d4-db34-11e8-a64b-02420aff0006-21-7915-37cb-7c3c-266f-31fb-1e5d-67a9-b49d-8657-48be",
       "next": "d9ff13fe-488b-11e9-8bae-0242ac130002-20-152c-2a50-44c6-140b-0d3a-d8ee-b3cf-40e4-de90-df3d",
       "previous": "0e9b120e-343a-11e9-b9a2-02420aff0008-20-ff90-9640-f5ed-a54c-0a33-32a3-1c18-2015-32da-3546"
      }
     ],
     "next": "d9ff13fe-488b-11e9-8bae-0242ac130002-21-2a50-44c6-140b-0d3a-d8ee-b3cf-40e4-de90-df3d-820c",
     "previous": "0e9b120e-343a-11e9-b9a2-02420aff0008-21-9640-f5ed-a54c-0a33-32a3-1c18-2015-32da-3546-7195"
    }
   },
   "source": [
    "## JupyterHubユーザの作成\n"
   ]
  },
  {
   "cell_type": "markdown",
   "metadata": {
    "lc_cell_meme": {
     "current": "d9ff13fe-488b-11e9-8bae-0242ac130002-21-2a50-44c6-140b-0d3a-d8ee-b3cf-40e4-de90-df3d-820c",
     "history": [
      {
       "current": "d9ff13fe-488b-11e9-8bae-0242ac130002-17-4111-30cb-b3be-152c-2a50-44c6-140b-0d3a-d8ee-b3cf",
       "next": "7d4d199f-9327-11ec-ace4-6b42dc3e1973",
       "previous": "c1bee2d4-db34-11e8-a64b-02420aff0006-16-a20c-caee-b98b-e6dc-0fa0-7915-37cb-7c3c-266f-31fb"
      },
      {
       "current": "d9ff13fe-488b-11e9-8bae-0242ac130002-18-30cb-b3be-152c-2a50-44c6-140b-0d3a-d8ee-b3cf-40e4",
       "next": "7d4d199f-9327-11ec-ace4-6b42dc3e1973-1-02cf",
       "previous": "c1bee2d4-db34-11e8-a64b-02420aff0006-17-caee-b98b-e6dc-0fa0-7915-37cb-7c3c-266f-31fb-1e5d"
      },
      {
       "current": "d9ff13fe-488b-11e9-8bae-0242ac130002-19-b3be-152c-2a50-44c6-140b-0d3a-d8ee-b3cf-40e4-de90",
       "next": "7d4d199f-9327-11ec-ace4-6b42dc3e1973-2-02cf-92ab",
       "previous": "c1bee2d4-db34-11e8-a64b-02420aff0006-18-b98b-e6dc-0fa0-7915-37cb-7c3c-266f-31fb-1e5d-67a9"
      },
      {
       "current": "d9ff13fe-488b-11e9-8bae-0242ac130002-20-152c-2a50-44c6-140b-0d3a-d8ee-b3cf-40e4-de90-df3d",
       "next": "7d4d199f-9327-11ec-ace4-6b42dc3e1973-3-02cf-92ab-3615",
       "previous": "c1bee2d4-db34-11e8-a64b-02420aff0006-19-e6dc-0fa0-7915-37cb-7c3c-266f-31fb-1e5d-67a9-b49d"
      },
      {
       "current": "d9ff13fe-488b-11e9-8bae-0242ac130002-21-2a50-44c6-140b-0d3a-d8ee-b3cf-40e4-de90-df3d-820c",
       "next": "7d4d199f-9327-11ec-ace4-6b42dc3e1973-4-02cf-92ab-3615-e9de",
       "previous": "c1bee2d4-db34-11e8-a64b-02420aff0006-20-0fa0-7915-37cb-7c3c-266f-31fb-1e5d-67a9-b49d-8657"
      }
     ],
     "next": "7d4d199f-9327-11ec-ace4-6b42dc3e1973-5-02cf-92ab-3615-e9de-ad78",
     "previous": "c1bee2d4-db34-11e8-a64b-02420aff0006-21-7915-37cb-7c3c-266f-31fb-1e5d-67a9-b49d-8657-48be"
    }
   },
   "source": [
    "ローカルユーザー追加"
   ]
  },
  {
   "cell_type": "code",
   "execution_count": null,
   "metadata": {
    "lc_cell_meme": {
     "current": "7d4d199f-9327-11ec-ace4-6b42dc3e1973-5-02cf-92ab-3615-e9de-ad78",
     "execution_end_time": "2022-04-28T09:15:50.964666Z",
     "history": [
      {
       "current": "7d4d199f-9327-11ec-ace4-6b42dc3e1973-1-02cf",
       "next": "712af076-d830-11e8-a64b-02420aff0006-16-7881-9305-c635-9f7a-2181-3830-1362-c5dc-c440-d444",
       "previous": "d9ff13fe-488b-11e9-8bae-0242ac130002-16-efa6-4111-30cb-b3be-152c-2a50-44c6-140b-0d3a-d8ee"
      },
      {
       "current": "7d4d199f-9327-11ec-ace4-6b42dc3e1973-2-02cf-92ab",
       "next": "712af076-d830-11e8-a64b-02420aff0006-17-9305-c635-9f7a-2181-3830-1362-c5dc-c440-d444-7cde",
       "previous": "d9ff13fe-488b-11e9-8bae-0242ac130002-17-4111-30cb-b3be-152c-2a50-44c6-140b-0d3a-d8ee-b3cf"
      },
      {
       "current": "7d4d199f-9327-11ec-ace4-6b42dc3e1973-3-02cf-92ab-3615",
       "next": "712af076-d830-11e8-a64b-02420aff0006-18-c635-9f7a-2181-3830-1362-c5dc-c440-d444-7cde-b7f6",
       "previous": "d9ff13fe-488b-11e9-8bae-0242ac130002-18-30cb-b3be-152c-2a50-44c6-140b-0d3a-d8ee-b3cf-40e4"
      },
      {
       "current": "7d4d199f-9327-11ec-ace4-6b42dc3e1973-4-02cf-92ab-3615-e9de",
       "next": "712af076-d830-11e8-a64b-02420aff0006-19-9f7a-2181-3830-1362-c5dc-c440-d444-7cde-b7f6-f253",
       "previous": "d9ff13fe-488b-11e9-8bae-0242ac130002-19-b3be-152c-2a50-44c6-140b-0d3a-d8ee-b3cf-40e4-de90"
      },
      {
       "current": "7d4d199f-9327-11ec-ace4-6b42dc3e1973-5-02cf-92ab-3615-e9de-ad78",
       "next": "712af076-d830-11e8-a64b-02420aff0006-20-2181-3830-1362-c5dc-c440-d444-7cde-b7f6-f253-2c8f",
       "previous": "d9ff13fe-488b-11e9-8bae-0242ac130002-20-152c-2a50-44c6-140b-0d3a-d8ee-b3cf-40e4-de90-df3d"
      }
     ],
     "next": "712af076-d830-11e8-a64b-02420aff0006-21-3830-1362-c5dc-c440-d444-7cde-b7f6-f253-2c8f-f668",
     "previous": "d9ff13fe-488b-11e9-8bae-0242ac130002-21-2a50-44c6-140b-0d3a-d8ee-b3cf-40e4-de90-df3d-820c"
    }
   },
   "outputs": [],
   "source": [
    "msg_stdout = !ansible -m debug -a 'msg={{{{ auth_proxy_image }}}}' {target_hub} -l {target_group}\n",
    "auth_proxy_image = json.loads(''.join([msg_stdout[0].split()[-1]] + msg_stdout[1:]))['msg']\n",
    "auth_proxy_image"
   ]
  },
  {
   "cell_type": "code",
   "execution_count": null,
   "metadata": {
    "lc_cell_meme": {
     "current": "712af076-d830-11e8-a64b-02420aff0006-21-3830-1362-c5dc-c440-d444-7cde-b7f6-f253-2c8f-f668",
     "execution_end_time": "2022-04-28T09:16:38.927633Z",
     "history": [
      {
       "current": "712af076-d830-11e8-a64b-02420aff0006-18-c635-9f7a-2181-3830-1362-c5dc-c440-d444-7cde-b7f6",
       "next": "712af076-d830-11e8-a64b-02420aff0006-18-c635-9f7a-2181-3830-1362-c5dc-c440-d444-7cde-c4e1",
       "previous": "7d4d199f-9327-11ec-ace4-6b42dc3e1973-1-02cf"
      },
      {
       "current": "712af076-d830-11e8-a64b-02420aff0006-19-9f7a-2181-3830-1362-c5dc-c440-d444-7cde-b7f6-f253",
       "next": "712af076-d830-11e8-a64b-02420aff0006-19-9f7a-2181-3830-1362-c5dc-c440-d444-7cde-c4e1-1738",
       "previous": "7d4d199f-9327-11ec-ace4-6b42dc3e1973-2-02cf-92ab"
      },
      {
       "current": "712af076-d830-11e8-a64b-02420aff0006-19-9f7a-2181-3830-1362-c5dc-c440-d444-7cde-b7f6-f253",
       "next": "712af076-d830-11e8-a64b-02420aff0006-20-2181-3830-1362-c5dc-c440-d444-7cde-c4e1-1738-c58a",
       "previous": "7d4d199f-9327-11ec-ace4-6b42dc3e1973-3-02cf-92ab-3615"
      },
      {
       "current": "712af076-d830-11e8-a64b-02420aff0006-20-2181-3830-1362-c5dc-c440-d444-7cde-b7f6-f253-2c8f",
       "next": "d9ff1b06-488b-11e9-8bae-0242ac130002-19-6975-1edb-8755-0b4e-6a36-2a44-961e-ac09-0ef3-6d1a",
       "previous": "7d4d199f-9327-11ec-ace4-6b42dc3e1973-3-02cf-92ab-3615"
      },
      {
       "current": "712af076-d830-11e8-a64b-02420aff0006-21-3830-1362-c5dc-c440-d444-7cde-b7f6-f253-2c8f-f668",
       "next": "d9ff1b06-488b-11e9-8bae-0242ac130002-20-1edb-8755-0b4e-6a36-2a44-961e-ac09-0ef3-6d1a-35de",
       "previous": "7d4d199f-9327-11ec-ace4-6b42dc3e1973-4-02cf-92ab-3615-e9de"
      }
     ],
     "next": "d9ff1b06-488b-11e9-8bae-0242ac130002-21-8755-0b4e-6a36-2a44-961e-ac09-0ef3-6d1a-35de-60cb",
     "previous": "7d4d199f-9327-11ec-ace4-6b42dc3e1973-5-02cf-92ab-3615-e9de-ad78"
    }
   },
   "outputs": [],
   "source": [
    "service_id = !ansible -b -a 'docker service create -d \\\n",
    "                       --restart-condition=none \\\n",
    "                       --network courseware-backend \\\n",
    "                       --mount type=bind,src=/etc/jupyterhub/hub-const.php,dst=/var/www/lib/hub-const.php \\\n",
    "                       {auth_proxy_image} php /var/www/bin/add-local-user.php {teacher_email}' {target_hub} -l {target_group}\n",
    "service_id = service_id[1].split()[0][:16]\n",
    "retries = 6\n",
    "while retries > 0:\n",
    "    state = !ansible -b -a 'docker service ps {service_id}' {target_hub} -l {target_group}\n",
    "    state = state[2]\n",
    "    if 'Complete' in state:\n",
    "        break\n",
    "    time.sleep(5)\n",
    "    retries -= 1\n",
    "!ansible -b -a 'docker service ps {service_id}' {target_hub} -l {target_group}\n",
    "!ansible -b -a 'docker service logs {service_id}' {target_hub} -l {target_group}\n",
    "teacher_info_stdout = !ansible -b -a 'docker service logs {service_id}' {target_hub} -l {target_group}\n",
    "teacher_info_stdout = teacher_info_stdout[1].split(' ')[-1]\n",
    "\n",
    "!ansible -b -a 'docker service rm {service_id}' {target_hub} -l {target_group}\n",
    "print(teacher_info_stdout)"
   ]
  },
  {
   "cell_type": "markdown",
   "metadata": {
    "lc_cell_meme": {
     "current": "d9ff1b06-488b-11e9-8bae-0242ac130002-21-8755-0b4e-6a36-2a44-961e-ac09-0ef3-6d1a-35de-60cb",
     "history": [
      {
       "current": "d9ff1b06-488b-11e9-8bae-0242ac130002-18-330e-6975-1edb-8755-0b4e-6a36-2a44-961e-ac09-0ef3",
       "next": "50c5e644-db35-11e8-a64b-02420aff0006-17-c6e3-7214-9669-ae55-9062-b717-b5e7-6816-8de3-676e",
       "previous": "712af076-d830-11e8-a64b-02420aff0006-18-c635-9f7a-2181-3830-1362-c5dc-c440-d444-7cde-c4e1"
      },
      {
       "current": "d9ff1b06-488b-11e9-8bae-0242ac130002-19-6975-1edb-8755-0b4e-6a36-2a44-961e-ac09-0ef3-6d1a",
       "next": "50c5e644-db35-11e8-a64b-02420aff0006-18-7214-9669-ae55-9062-b717-b5e7-6816-8de3-676e-33ed",
       "previous": "712af076-d830-11e8-a64b-02420aff0006-19-9f7a-2181-3830-1362-c5dc-c440-d444-7cde-c4e1-1738"
      },
      {
       "current": "d9ff1b06-488b-11e9-8bae-0242ac130002-19-6975-1edb-8755-0b4e-6a36-2a44-961e-ac09-0ef3-6d1a",
       "next": "50c5e644-db35-11e8-a64b-02420aff0006-19-9669-ae55-9062-b717-b5e7-6816-8de3-676e-33ed-c44b",
       "previous": "712af076-d830-11e8-a64b-02420aff0006-20-2181-3830-1362-c5dc-c440-d444-7cde-c4e1-1738-c58a"
      },
      {
       "current": "d9ff1b06-488b-11e9-8bae-0242ac130002-20-1edb-8755-0b4e-6a36-2a44-961e-ac09-0ef3-6d1a-35de",
       "next": "50c5e644-db35-11e8-a64b-02420aff0006-19-9669-ae55-9062-b717-b5e7-6816-8de3-676e-33ed-c44b",
       "previous": "712af076-d830-11e8-a64b-02420aff0006-19-9f7a-2181-3830-1362-c5dc-c440-d444-7cde-b7f6-f253"
      },
      {
       "current": "d9ff1b06-488b-11e9-8bae-0242ac130002-21-8755-0b4e-6a36-2a44-961e-ac09-0ef3-6d1a-35de-60cb",
       "next": "50c5e644-db35-11e8-a64b-02420aff0006-20-ae55-9062-b717-b5e7-6816-8de3-676e-33ed-c44b-f372",
       "previous": "712af076-d830-11e8-a64b-02420aff0006-20-2181-3830-1362-c5dc-c440-d444-7cde-b7f6-f253-2c8f"
      }
     ],
     "next": "50c5e644-db35-11e8-a64b-02420aff0006-21-9062-b717-b5e7-6816-8de3-676e-33ed-c44b-f372-f39e",
     "previous": "712af076-d830-11e8-a64b-02420aff0006-21-3830-1362-c5dc-c440-d444-7cde-b7f6-f253-2c8f-f668"
    }
   },
   "source": [
    "対応するadminのJupyterHubユーザー追加\n",
    "\n",
    "初回のユーザー作成には、JupyterHub APIが使用できないので、直接DBを変更して、ユーザーを追加する。"
   ]
  },
  {
   "cell_type": "code",
   "execution_count": null,
   "metadata": {
    "lc_cell_meme": {
     "current": "50c5e644-db35-11e8-a64b-02420aff0006-21-9062-b717-b5e7-6816-8de3-676e-33ed-c44b-f372-f39e",
     "execution_end_time": "2022-04-28T09:26:29.388891Z",
     "history": [
      {
       "current": "50c5e644-db35-11e8-a64b-02420aff0006-17-c6e3-7214-9669-ae55-9062-b717-b5e7-6816-8de3-676e",
       "next": "ac57da0e-d832-11e8-a64b-02420aff0006-16-63f8-b22f-7432-b7c9-4d6b-31bf-aa03-af26-ad11-2297",
       "previous": "d9ff1b06-488b-11e9-8bae-0242ac130002-16-9488-eeb4-330e-6975-1edb-8755-0b4e-6a36-2a44-961e"
      },
      {
       "current": "50c5e644-db35-11e8-a64b-02420aff0006-18-7214-9669-ae55-9062-b717-b5e7-6816-8de3-676e-33ed",
       "next": "ac57da0e-d832-11e8-a64b-02420aff0006-17-b22f-7432-b7c9-4d6b-31bf-aa03-af26-ad11-2297-e6c6",
       "previous": "d9ff1b06-488b-11e9-8bae-0242ac130002-17-eeb4-330e-6975-1edb-8755-0b4e-6a36-2a44-961e-ac09"
      },
      {
       "current": "50c5e644-db35-11e8-a64b-02420aff0006-19-9669-ae55-9062-b717-b5e7-6816-8de3-676e-33ed-c44b",
       "next": "ac57da0e-d832-11e8-a64b-02420aff0006-18-7432-b7c9-4d6b-31bf-aa03-af26-ad11-2297-e6c6-c228",
       "previous": "d9ff1b06-488b-11e9-8bae-0242ac130002-18-330e-6975-1edb-8755-0b4e-6a36-2a44-961e-ac09-0ef3"
      },
      {
       "current": "50c5e644-db35-11e8-a64b-02420aff0006-20-ae55-9062-b717-b5e7-6816-8de3-676e-33ed-c44b-f372",
       "next": "ac57da0e-d832-11e8-a64b-02420aff0006-19-b7c9-4d6b-31bf-aa03-af26-ad11-2297-e6c6-c228-e077",
       "previous": "d9ff1b06-488b-11e9-8bae-0242ac130002-19-6975-1edb-8755-0b4e-6a36-2a44-961e-ac09-0ef3-6d1a"
      },
      {
       "current": "50c5e644-db35-11e8-a64b-02420aff0006-21-9062-b717-b5e7-6816-8de3-676e-33ed-c44b-f372-f39e",
       "next": "ac57da0e-d832-11e8-a64b-02420aff0006-20-4d6b-31bf-aa03-af26-ad11-2297-e6c6-c228-e077-c700",
       "previous": "d9ff1b06-488b-11e9-8bae-0242ac130002-20-1edb-8755-0b4e-6a36-2a44-961e-ac09-0ef3-6d1a-35de"
      }
     ],
     "next": "ac57da0e-d832-11e8-a64b-02420aff0006-21-31bf-aa03-af26-ad11-2297-e6c6-c228-e077-c700-d710",
     "previous": "d9ff1b06-488b-11e9-8bae-0242ac130002-21-8755-0b4e-6a36-2a44-961e-ac09-0ef3-6d1a-35de-60cb"
    }
   },
   "outputs": [],
   "source": [
    "import random\n",
    "import string\n",
    "cookie_id = ''.join([random.choice(\"abcdef\" + string.digits) for _ in range(32)])\n",
    "cookie_id"
   ]
  },
  {
   "cell_type": "code",
   "execution_count": null,
   "metadata": {
    "lc_cell_meme": {
     "current": "ac57da0e-d832-11e8-a64b-02420aff0006-21-31bf-aa03-af26-ad11-2297-e6c6-c228-e077-c700-d710",
     "execution_end_time": "2022-04-28T09:26:32.188589Z",
     "history": [
      {
       "current": "ac57da0e-d832-11e8-a64b-02420aff0006-17-b22f-7432-b7c9-4d6b-31bf-aa03-af26-ad11-2297-e6c6",
       "next": "9ca69578-db20-11e8-a64b-02420aff0006-16-970c-3d37-0c0c-df04-3a73-9dea-d83a-9a23-5f2e-8a13",
       "previous": "50c5e644-db35-11e8-a64b-02420aff0006-16-f3c6-c6e3-7214-9669-ae55-9062-b717-b5e7-6816-8de3"
      },
      {
       "current": "ac57da0e-d832-11e8-a64b-02420aff0006-18-7432-b7c9-4d6b-31bf-aa03-af26-ad11-2297-e6c6-c228",
       "next": "9ca69578-db20-11e8-a64b-02420aff0006-17-3d37-0c0c-df04-3a73-9dea-d83a-9a23-5f2e-8a13-ff60",
       "previous": "50c5e644-db35-11e8-a64b-02420aff0006-17-c6e3-7214-9669-ae55-9062-b717-b5e7-6816-8de3-676e"
      },
      {
       "current": "ac57da0e-d832-11e8-a64b-02420aff0006-19-b7c9-4d6b-31bf-aa03-af26-ad11-2297-e6c6-c228-e077",
       "next": "9ca69578-db20-11e8-a64b-02420aff0006-18-0c0c-df04-3a73-9dea-d83a-9a23-5f2e-8a13-ff60-71c3",
       "previous": "50c5e644-db35-11e8-a64b-02420aff0006-18-7214-9669-ae55-9062-b717-b5e7-6816-8de3-676e-33ed"
      },
      {
       "current": "ac57da0e-d832-11e8-a64b-02420aff0006-20-4d6b-31bf-aa03-af26-ad11-2297-e6c6-c228-e077-c700",
       "next": "9ca69578-db20-11e8-a64b-02420aff0006-19-df04-3a73-9dea-d83a-9a23-5f2e-8a13-ff60-71c3-8a00",
       "previous": "50c5e644-db35-11e8-a64b-02420aff0006-19-9669-ae55-9062-b717-b5e7-6816-8de3-676e-33ed-c44b"
      },
      {
       "current": "ac57da0e-d832-11e8-a64b-02420aff0006-21-31bf-aa03-af26-ad11-2297-e6c6-c228-e077-c700-d710",
       "next": "9ca69578-db20-11e8-a64b-02420aff0006-20-3a73-9dea-d83a-9a23-5f2e-8a13-ff60-71c3-8a00-1749",
       "previous": "50c5e644-db35-11e8-a64b-02420aff0006-20-ae55-9062-b717-b5e7-6816-8de3-676e-33ed-c44b-f372"
      }
     ],
     "next": "9ca69578-db20-11e8-a64b-02420aff0006-21-9dea-d83a-9a23-5f2e-8a13-ff60-71c3-8a00-1749-cb08",
     "previous": "50c5e644-db35-11e8-a64b-02420aff0006-21-9062-b717-b5e7-6816-8de3-676e-33ed-c44b-f372-f39e"
    }
   },
   "outputs": [],
   "source": [
    "from datetime import datetime\n",
    "sql_filename = datetime.now().strftime('%Y%m%d_%H%M%S') + '.sql'\n",
    "with open(os.path.join(work_dir, sql_filename), 'w') as f:\n",
    "    f.write('''\n",
    "INSERT INTO users (name, admin, cookie_id, last_activity) VALUES ('{teacher_id}', TRUE, '{cookie_id}', '{now}');\n",
    "'''.format(teacher_id=teacher_id, cookie_id=cookie_id, now=datetime.now().isoformat()))\n",
    "!cat {work_dir}/{sql_filename}"
   ]
  },
  {
   "cell_type": "code",
   "execution_count": null,
   "metadata": {
    "lc_cell_meme": {
     "current": "9ca69578-db20-11e8-a64b-02420aff0006-21-9dea-d83a-9a23-5f2e-8a13-ff60-71c3-8a00-1749-cb08",
     "execution_end_time": "2022-04-28T09:27:11.854906Z",
     "history": [
      {
       "current": "9ca69578-db20-11e8-a64b-02420aff0006-17-3d37-0c0c-df04-3a73-9dea-d83a-9a23-5f2e-8a13-ff60",
       "next": "89cf3148-d838-11e8-a64b-02420aff0006-16-31dd-9f6e-4b0b-237d-a501-84c9-e651-bd66-0d88-5a57",
       "previous": "ac57da0e-d832-11e8-a64b-02420aff0006-16-63f8-b22f-7432-b7c9-4d6b-31bf-aa03-af26-ad11-2297"
      },
      {
       "current": "9ca69578-db20-11e8-a64b-02420aff0006-18-0c0c-df04-3a73-9dea-d83a-9a23-5f2e-8a13-ff60-71c3",
       "next": "89cf3148-d838-11e8-a64b-02420aff0006-17-9f6e-4b0b-237d-a501-84c9-e651-bd66-0d88-5a57-bdb7",
       "previous": "ac57da0e-d832-11e8-a64b-02420aff0006-17-b22f-7432-b7c9-4d6b-31bf-aa03-af26-ad11-2297-e6c6"
      },
      {
       "current": "9ca69578-db20-11e8-a64b-02420aff0006-19-df04-3a73-9dea-d83a-9a23-5f2e-8a13-ff60-71c3-8a00",
       "next": "89cf3148-d838-11e8-a64b-02420aff0006-18-4b0b-237d-a501-84c9-e651-bd66-0d88-5a57-bdb7-dbe2",
       "previous": "ac57da0e-d832-11e8-a64b-02420aff0006-18-7432-b7c9-4d6b-31bf-aa03-af26-ad11-2297-e6c6-c228"
      },
      {
       "current": "9ca69578-db20-11e8-a64b-02420aff0006-20-3a73-9dea-d83a-9a23-5f2e-8a13-ff60-71c3-8a00-1749",
       "next": "89cf3148-d838-11e8-a64b-02420aff0006-19-237d-a501-84c9-e651-bd66-0d88-5a57-bdb7-dbe2-c733",
       "previous": "ac57da0e-d832-11e8-a64b-02420aff0006-19-b7c9-4d6b-31bf-aa03-af26-ad11-2297-e6c6-c228-e077"
      },
      {
       "current": "9ca69578-db20-11e8-a64b-02420aff0006-21-9dea-d83a-9a23-5f2e-8a13-ff60-71c3-8a00-1749-cb08",
       "next": "89cf3148-d838-11e8-a64b-02420aff0006-20-a501-84c9-e651-bd66-0d88-5a57-bdb7-dbe2-c733-711c",
       "previous": "ac57da0e-d832-11e8-a64b-02420aff0006-20-4d6b-31bf-aa03-af26-ad11-2297-e6c6-c228-e077-c700"
      }
     ],
     "next": "89cf3148-d838-11e8-a64b-02420aff0006-21-84c9-e651-bd66-0d88-5a57-bdb7-dbe2-c733-711c-83e9",
     "previous": "ac57da0e-d832-11e8-a64b-02420aff0006-21-31bf-aa03-af26-ad11-2297-e6c6-c228-e077-c700-d710"
    },
    "scrolled": true
   },
   "outputs": [],
   "source": [
    "!ansible -b -m copy -a 'src={work_dir}/{sql_filename} dest=/exchange/{sql_filename}' {target_hub}\n",
    "service_id = !ansible -b -a 'docker service create -d --restart-condition=none -e PGPASSWORD={db_pass} \\\n",
    "                 --network courseware-backend \\\n",
    "                 --mount type=bind,src=/exchange/{sql_filename},dst=/tmp/{sql_filename},ro=1 \\\n",
    "                 postgres \\\n",
    "                 psql -h postgres -U {db_user} -d {db_name} -f /tmp/{sql_filename}' {target_hub} -l {target_group}\n",
    "service_id = service_id[1]\n",
    "retries = 6\n",
    "while retries > 0:\n",
    "    state = !ansible -b -a 'docker service ps {service_id}' {target_hub} -l {target_group}\n",
    "    state = state[2]\n",
    "    if 'Complete' in state:\n",
    "        break\n",
    "    time.sleep(5)\n",
    "    retries -= 1\n",
    "!ansible -b -a 'docker service ps {service_id}' {target_hub} -l {target_group}\n",
    "!ansible -b -a 'docker service logs {service_id}' {target_hub} -l {target_group}\n",
    "!ansible -b -a 'docker service rm {service_id}' {target_hub} -l {target_group}\n",
    "!ansible -b -m file -a 'dest=/exchange/{sql_filename} state=absent' {target_hub} -l {target_group}\n",
    "service_id"
   ]
  },
  {
   "cell_type": "code",
   "execution_count": null,
   "metadata": {
    "lc_cell_meme": {
     "current": "89cf3148-d838-11e8-a64b-02420aff0006-21-84c9-e651-bd66-0d88-5a57-bdb7-dbe2-c733-711c-83e9",
     "execution_end_time": "2022-04-28T09:27:31.770885Z",
     "history": [
      {
       "current": "89cf3148-d838-11e8-a64b-02420aff0006-17-9f6e-4b0b-237d-a501-84c9-e651-bd66-0d88-5a57-bdb7",
       "next": "90b9329a-6c4a-11ea-beb1-0242ac120002-12-9b7b-811a-9c0f-aa82-8a8b-c74a-1f17-a4cd-cf8a-a2e1",
       "previous": "9ca69578-db20-11e8-a64b-02420aff0006-16-970c-3d37-0c0c-df04-3a73-9dea-d83a-9a23-5f2e-8a13"
      },
      {
       "current": "89cf3148-d838-11e8-a64b-02420aff0006-18-4b0b-237d-a501-84c9-e651-bd66-0d88-5a57-bdb7-dbe2",
       "next": "90b9329a-6c4a-11ea-beb1-0242ac120002-13-811a-9c0f-aa82-8a8b-c74a-1f17-a4cd-cf8a-a2e1-67bb",
       "previous": "9ca69578-db20-11e8-a64b-02420aff0006-17-3d37-0c0c-df04-3a73-9dea-d83a-9a23-5f2e-8a13-ff60"
      },
      {
       "current": "89cf3148-d838-11e8-a64b-02420aff0006-19-237d-a501-84c9-e651-bd66-0d88-5a57-bdb7-dbe2-c733",
       "next": "90b9329a-6c4a-11ea-beb1-0242ac120002-14-9c0f-aa82-8a8b-c74a-1f17-a4cd-cf8a-a2e1-67bb-0880",
       "previous": "9ca69578-db20-11e8-a64b-02420aff0006-18-0c0c-df04-3a73-9dea-d83a-9a23-5f2e-8a13-ff60-71c3"
      },
      {
       "current": "89cf3148-d838-11e8-a64b-02420aff0006-20-a501-84c9-e651-bd66-0d88-5a57-bdb7-dbe2-c733-711c",
       "next": "90b9329a-6c4a-11ea-beb1-0242ac120002-15-aa82-8a8b-c74a-1f17-a4cd-cf8a-a2e1-67bb-0880-901a",
       "previous": "9ca69578-db20-11e8-a64b-02420aff0006-19-df04-3a73-9dea-d83a-9a23-5f2e-8a13-ff60-71c3-8a00"
      },
      {
       "current": "89cf3148-d838-11e8-a64b-02420aff0006-21-84c9-e651-bd66-0d88-5a57-bdb7-dbe2-c733-711c-83e9",
       "next": "90b9329a-6c4a-11ea-beb1-0242ac120002-16-8a8b-c74a-1f17-a4cd-cf8a-a2e1-67bb-0880-901a-bd25",
       "previous": "9ca69578-db20-11e8-a64b-02420aff0006-20-3a73-9dea-d83a-9a23-5f2e-8a13-ff60-71c3-8a00-1749"
      }
     ],
     "next": "90b9329a-6c4a-11ea-beb1-0242ac120002-17-c74a-1f17-a4cd-cf8a-a2e1-67bb-0880-901a-bd25-9b4a",
     "previous": "9ca69578-db20-11e8-a64b-02420aff0006-21-9dea-d83a-9a23-5f2e-8a13-ff60-71c3-8a00-1749-cb08"
    }
   },
   "outputs": [],
   "source": [
    "service_id = !ansible -b -a 'docker service create -d --restart-condition=none -e PGPASSWORD={db_pass} \\\n",
    "                 --network courseware-backend \\\n",
    "                 postgres \\\n",
    "                 psql -h postgres -U {db_user} -d {db_name} -c \"SELECT * FROM users;\"' {target_hub} -l {target_group}\n",
    "service_id = service_id[1]\n",
    "retries = 6\n",
    "while retries > 0:\n",
    "    state = !ansible -b -a 'docker service ps {service_id}' {target_hub} -l {target_group}\n",
    "    state = state[2]\n",
    "    if 'Complete' in state:\n",
    "        break\n",
    "    time.sleep(5)\n",
    "    retries -= 1\n",
    "!ansible -b -a 'docker service ps {service_id}' {target_hub} -l {target_group}\n",
    "!ansible -b -a 'docker service logs {service_id}' {target_hub} -l {target_group}\n",
    "!ansible -b -a 'docker service rm {service_id}' {target_hub} -l {target_group}\n",
    "service_id"
   ]
  },
  {
   "cell_type": "markdown",
   "metadata": {
    "lc_cell_meme": {
     "current": "90b9329a-6c4a-11ea-beb1-0242ac120002-17-c74a-1f17-a4cd-cf8a-a2e1-67bb-0880-901a-bd25-9b4a",
     "history": [
      {
       "current": "90b9329a-6c4a-11ea-beb1-0242ac120002-13-811a-9c0f-aa82-8a8b-c74a-1f17-a4cd-cf8a-a2e1-67bb",
       "next": "d83dedd6-6c4a-11ea-beb1-0242ac120002-12-9559-d8f4-74ba-d572-bb15-0e42-fbc8-1507-f6f7-dc6f",
       "previous": "89cf3148-d838-11e8-a64b-02420aff0006-16-31dd-9f6e-4b0b-237d-a501-84c9-e651-bd66-0d88-5a57"
      },
      {
       "current": "90b9329a-6c4a-11ea-beb1-0242ac120002-14-9c0f-aa82-8a8b-c74a-1f17-a4cd-cf8a-a2e1-67bb-0880",
       "next": "d83dedd6-6c4a-11ea-beb1-0242ac120002-13-d8f4-74ba-d572-bb15-0e42-fbc8-1507-f6f7-dc6f-d7e2",
       "previous": "89cf3148-d838-11e8-a64b-02420aff0006-17-9f6e-4b0b-237d-a501-84c9-e651-bd66-0d88-5a57-bdb7"
      },
      {
       "current": "90b9329a-6c4a-11ea-beb1-0242ac120002-15-aa82-8a8b-c74a-1f17-a4cd-cf8a-a2e1-67bb-0880-901a",
       "next": "d83dedd6-6c4a-11ea-beb1-0242ac120002-14-74ba-d572-bb15-0e42-fbc8-1507-f6f7-dc6f-d7e2-7721",
       "previous": "89cf3148-d838-11e8-a64b-02420aff0006-18-4b0b-237d-a501-84c9-e651-bd66-0d88-5a57-bdb7-dbe2"
      },
      {
       "current": "90b9329a-6c4a-11ea-beb1-0242ac120002-16-8a8b-c74a-1f17-a4cd-cf8a-a2e1-67bb-0880-901a-bd25",
       "next": "d83dedd6-6c4a-11ea-beb1-0242ac120002-15-d572-bb15-0e42-fbc8-1507-f6f7-dc6f-d7e2-7721-0c89",
       "previous": "89cf3148-d838-11e8-a64b-02420aff0006-19-237d-a501-84c9-e651-bd66-0d88-5a57-bdb7-dbe2-c733"
      },
      {
       "current": "90b9329a-6c4a-11ea-beb1-0242ac120002-17-c74a-1f17-a4cd-cf8a-a2e1-67bb-0880-901a-bd25-9b4a",
       "next": "d83dedd6-6c4a-11ea-beb1-0242ac120002-16-bb15-0e42-fbc8-1507-f6f7-dc6f-d7e2-7721-0c89-307b",
       "previous": "89cf3148-d838-11e8-a64b-02420aff0006-20-a501-84c9-e651-bd66-0d88-5a57-bdb7-dbe2-c733-711c"
      }
     ],
     "next": "d83dedd6-6c4a-11ea-beb1-0242ac120002-17-0e42-fbc8-1507-f6f7-dc6f-d7e2-7721-0c89-307b-8cd8",
     "previous": "89cf3148-d838-11e8-a64b-02420aff0006-21-84c9-e651-bd66-0d88-5a57-bdb7-dbe2-c733-711c-83e9"
    }
   },
   "source": [
    "# コンテンツ用ディレクトリの作成"
   ]
  },
  {
   "cell_type": "code",
   "execution_count": null,
   "metadata": {
    "lc_cell_meme": {
     "current": "d83dedd6-6c4a-11ea-beb1-0242ac120002-17-0e42-fbc8-1507-f6f7-dc6f-d7e2-7721-0c89-307b-8cd8",
     "execution_end_time": "2022-04-28T09:36:15.199388Z",
     "history": [
      {
       "current": "d83dedd6-6c4a-11ea-beb1-0242ac120002-13-d8f4-74ba-d572-bb15-0e42-fbc8-1507-f6f7-dc6f-d7e2",
       "next": "d83deff2-6c4a-11ea-beb1-0242ac120002-12-825a-8ca0-b410-6603-e65f-a606-fe18-c513-8cd5-a1c1",
       "previous": "90b9329a-6c4a-11ea-beb1-0242ac120002-12-9b7b-811a-9c0f-aa82-8a8b-c74a-1f17-a4cd-cf8a-a2e1"
      },
      {
       "current": "d83dedd6-6c4a-11ea-beb1-0242ac120002-14-74ba-d572-bb15-0e42-fbc8-1507-f6f7-dc6f-d7e2-7721",
       "next": "d83deff2-6c4a-11ea-beb1-0242ac120002-13-8ca0-b410-6603-e65f-a606-fe18-c513-8cd5-a1c1-0ad2",
       "previous": "90b9329a-6c4a-11ea-beb1-0242ac120002-13-811a-9c0f-aa82-8a8b-c74a-1f17-a4cd-cf8a-a2e1-67bb"
      },
      {
       "current": "d83dedd6-6c4a-11ea-beb1-0242ac120002-15-d572-bb15-0e42-fbc8-1507-f6f7-dc6f-d7e2-7721-0c89",
       "next": "d83deff2-6c4a-11ea-beb1-0242ac120002-14-b410-6603-e65f-a606-fe18-c513-8cd5-a1c1-0ad2-9bd8",
       "previous": "90b9329a-6c4a-11ea-beb1-0242ac120002-14-9c0f-aa82-8a8b-c74a-1f17-a4cd-cf8a-a2e1-67bb-0880"
      },
      {
       "current": "d83dedd6-6c4a-11ea-beb1-0242ac120002-16-bb15-0e42-fbc8-1507-f6f7-dc6f-d7e2-7721-0c89-307b",
       "next": "d83deff2-6c4a-11ea-beb1-0242ac120002-15-6603-e65f-a606-fe18-c513-8cd5-a1c1-0ad2-9bd8-6926",
       "previous": "90b9329a-6c4a-11ea-beb1-0242ac120002-15-aa82-8a8b-c74a-1f17-a4cd-cf8a-a2e1-67bb-0880-901a"
      },
      {
       "current": "d83dedd6-6c4a-11ea-beb1-0242ac120002-17-0e42-fbc8-1507-f6f7-dc6f-d7e2-7721-0c89-307b-8cd8",
       "next": "d83deff2-6c4a-11ea-beb1-0242ac120002-16-e65f-a606-fe18-c513-8cd5-a1c1-0ad2-9bd8-6926-3bb0",
       "previous": "90b9329a-6c4a-11ea-beb1-0242ac120002-16-8a8b-c74a-1f17-a4cd-cf8a-a2e1-67bb-0880-901a-bd25"
      }
     ],
     "next": "d83deff2-6c4a-11ea-beb1-0242ac120002-17-a606-fe18-c513-8cd5-a1c1-0ad2-9bd8-6926-3bb0-fb41",
     "previous": "90b9329a-6c4a-11ea-beb1-0242ac120002-17-c74a-1f17-a4cd-cf8a-a2e1-67bb-0880-901a-bd25-9b4a"
    }
   },
   "outputs": [],
   "source": [
    "!ansible -CDv -b -m file -a 'path=/jupyter/admin/admin_tools state=directory' {target_hub} -l {target_group}\n",
    "!ansible -CDv -b -m file -a 'path=/jupyter/admin/tools state=directory' {target_hub} -l {target_group}"
   ]
  },
  {
   "cell_type": "code",
   "execution_count": null,
   "metadata": {
    "lc_cell_meme": {
     "current": "d83deff2-6c4a-11ea-beb1-0242ac120002-17-a606-fe18-c513-8cd5-a1c1-0ad2-9bd8-6926-3bb0-fb41",
     "execution_end_time": "2022-04-28T09:36:20.310431Z",
     "history": [
      {
       "current": "d83deff2-6c4a-11ea-beb1-0242ac120002-13-8ca0-b410-6603-e65f-a606-fe18-c513-8cd5-a1c1-0ad2",
       "next": "90b935ba-6c4a-11ea-beb1-0242ac120002-12-702c-4dd4-6f14-a0ad-a198-a810-cfb4-44ac-051d-b817",
       "previous": "d83dedd6-6c4a-11ea-beb1-0242ac120002-12-9559-d8f4-74ba-d572-bb15-0e42-fbc8-1507-f6f7-dc6f"
      },
      {
       "current": "d83deff2-6c4a-11ea-beb1-0242ac120002-14-b410-6603-e65f-a606-fe18-c513-8cd5-a1c1-0ad2-9bd8",
       "next": "90b935ba-6c4a-11ea-beb1-0242ac120002-13-4dd4-6f14-a0ad-a198-a810-cfb4-44ac-051d-b817-f8de",
       "previous": "d83dedd6-6c4a-11ea-beb1-0242ac120002-13-d8f4-74ba-d572-bb15-0e42-fbc8-1507-f6f7-dc6f-d7e2"
      },
      {
       "current": "d83deff2-6c4a-11ea-beb1-0242ac120002-15-6603-e65f-a606-fe18-c513-8cd5-a1c1-0ad2-9bd8-6926",
       "next": "90b935ba-6c4a-11ea-beb1-0242ac120002-14-6f14-a0ad-a198-a810-cfb4-44ac-051d-b817-f8de-2c22",
       "previous": "d83dedd6-6c4a-11ea-beb1-0242ac120002-14-74ba-d572-bb15-0e42-fbc8-1507-f6f7-dc6f-d7e2-7721"
      },
      {
       "current": "d83deff2-6c4a-11ea-beb1-0242ac120002-16-e65f-a606-fe18-c513-8cd5-a1c1-0ad2-9bd8-6926-3bb0",
       "next": "90b935ba-6c4a-11ea-beb1-0242ac120002-15-a0ad-a198-a810-cfb4-44ac-051d-b817-f8de-2c22-8627",
       "previous": "d83dedd6-6c4a-11ea-beb1-0242ac120002-15-d572-bb15-0e42-fbc8-1507-f6f7-dc6f-d7e2-7721-0c89"
      },
      {
       "current": "d83deff2-6c4a-11ea-beb1-0242ac120002-17-a606-fe18-c513-8cd5-a1c1-0ad2-9bd8-6926-3bb0-fb41",
       "next": "90b935ba-6c4a-11ea-beb1-0242ac120002-16-a198-a810-cfb4-44ac-051d-b817-f8de-2c22-8627-8ea5",
       "previous": "d83dedd6-6c4a-11ea-beb1-0242ac120002-16-bb15-0e42-fbc8-1507-f6f7-dc6f-d7e2-7721-0c89-307b"
      }
     ],
     "next": "90b935ba-6c4a-11ea-beb1-0242ac120002-17-a810-cfb4-44ac-051d-b817-f8de-2c22-8627-8ea5-19da",
     "previous": "d83dedd6-6c4a-11ea-beb1-0242ac120002-17-0e42-fbc8-1507-f6f7-dc6f-d7e2-7721-0c89-307b-8cd8"
    }
   },
   "outputs": [],
   "source": [
    "!ansible -b -m file -a 'path=/jupyter/admin/admin_tools state=directory' {target_hub} -l {target_group}\n",
    "!ansible -b -m file -a 'path=/jupyter/admin/tools state=directory' {target_hub} -l {target_group}"
   ]
  },
  {
   "cell_type": "code",
   "execution_count": null,
   "metadata": {
    "lc_cell_meme": {
     "current": "90b935ba-6c4a-11ea-beb1-0242ac120002-17-a810-cfb4-44ac-051d-b817-f8de-2c22-8627-8ea5-19da",
     "execution_end_time": "2022-04-28T09:36:25.432019Z",
     "history": [
      {
       "current": "90b935ba-6c4a-11ea-beb1-0242ac120002-13-4dd4-6f14-a0ad-a198-a810-cfb4-44ac-051d-b817-f8de",
       "next": "90b9377c-6c4a-11ea-beb1-0242ac120002-12-583e-0020-fe76-85bd-24c8-7967-724f-0241-5319-5510",
       "previous": "d83deff2-6c4a-11ea-beb1-0242ac120002-12-825a-8ca0-b410-6603-e65f-a606-fe18-c513-8cd5-a1c1"
      },
      {
       "current": "90b935ba-6c4a-11ea-beb1-0242ac120002-14-6f14-a0ad-a198-a810-cfb4-44ac-051d-b817-f8de-2c22",
       "next": "90b9377c-6c4a-11ea-beb1-0242ac120002-13-0020-fe76-85bd-24c8-7967-724f-0241-5319-5510-3d0f",
       "previous": "d83deff2-6c4a-11ea-beb1-0242ac120002-13-8ca0-b410-6603-e65f-a606-fe18-c513-8cd5-a1c1-0ad2"
      },
      {
       "current": "90b935ba-6c4a-11ea-beb1-0242ac120002-15-a0ad-a198-a810-cfb4-44ac-051d-b817-f8de-2c22-8627",
       "next": "90b9377c-6c4a-11ea-beb1-0242ac120002-14-fe76-85bd-24c8-7967-724f-0241-5319-5510-3d0f-7f9a",
       "previous": "d83deff2-6c4a-11ea-beb1-0242ac120002-14-b410-6603-e65f-a606-fe18-c513-8cd5-a1c1-0ad2-9bd8"
      },
      {
       "current": "90b935ba-6c4a-11ea-beb1-0242ac120002-16-a198-a810-cfb4-44ac-051d-b817-f8de-2c22-8627-8ea5",
       "next": "90b9377c-6c4a-11ea-beb1-0242ac120002-15-85bd-24c8-7967-724f-0241-5319-5510-3d0f-7f9a-a622",
       "previous": "d83deff2-6c4a-11ea-beb1-0242ac120002-15-6603-e65f-a606-fe18-c513-8cd5-a1c1-0ad2-9bd8-6926"
      },
      {
       "current": "90b935ba-6c4a-11ea-beb1-0242ac120002-17-a810-cfb4-44ac-051d-b817-f8de-2c22-8627-8ea5-19da",
       "next": "90b9377c-6c4a-11ea-beb1-0242ac120002-16-24c8-7967-724f-0241-5319-5510-3d0f-7f9a-a622-f0a0",
       "previous": "d83deff2-6c4a-11ea-beb1-0242ac120002-16-e65f-a606-fe18-c513-8cd5-a1c1-0ad2-9bd8-6926-3bb0"
      }
     ],
     "next": "90b9377c-6c4a-11ea-beb1-0242ac120002-17-7967-724f-0241-5319-5510-3d0f-7f9a-a622-f0a0-0fa2",
     "previous": "d83deff2-6c4a-11ea-beb1-0242ac120002-17-a606-fe18-c513-8cd5-a1c1-0ad2-9bd8-6926-3bb0-fb41"
    }
   },
   "outputs": [],
   "source": [
    "!ansible -CDv -b -m file -a 'path=/jupyter/admin/textbook state=directory mode=0777' {target_hub} -l {target_group}\n",
    "!ansible -CDv -b -m file -a 'path=/jupyter/admin/info state=directory mode=0777' {target_hub} -l {target_group}"
   ]
  },
  {
   "cell_type": "code",
   "execution_count": null,
   "metadata": {
    "lc_cell_meme": {
     "current": "90b9377c-6c4a-11ea-beb1-0242ac120002-17-7967-724f-0241-5319-5510-3d0f-7f9a-a622-f0a0-0fa2",
     "execution_end_time": "2022-04-28T09:36:30.533222Z",
     "history": [
      {
       "current": "90b9377c-6c4a-11ea-beb1-0242ac120002-13-0020-fe76-85bd-24c8-7967-724f-0241-5319-5510-3d0f",
       "next": "673f1cd7-932b-11ec-b914-6b42dc3e1973",
       "previous": "90b935ba-6c4a-11ea-beb1-0242ac120002-12-702c-4dd4-6f14-a0ad-a198-a810-cfb4-44ac-051d-b817"
      },
      {
       "current": "90b9377c-6c4a-11ea-beb1-0242ac120002-14-fe76-85bd-24c8-7967-724f-0241-5319-5510-3d0f-7f9a",
       "next": "673f1cd7-932b-11ec-b914-6b42dc3e1973-1-e822",
       "previous": "90b935ba-6c4a-11ea-beb1-0242ac120002-13-4dd4-6f14-a0ad-a198-a810-cfb4-44ac-051d-b817-f8de"
      },
      {
       "current": "90b9377c-6c4a-11ea-beb1-0242ac120002-15-85bd-24c8-7967-724f-0241-5319-5510-3d0f-7f9a-a622",
       "next": "673f1cd7-932b-11ec-b914-6b42dc3e1973-2-e822-3a4c",
       "previous": "90b935ba-6c4a-11ea-beb1-0242ac120002-14-6f14-a0ad-a198-a810-cfb4-44ac-051d-b817-f8de-2c22"
      },
      {
       "current": "90b9377c-6c4a-11ea-beb1-0242ac120002-16-24c8-7967-724f-0241-5319-5510-3d0f-7f9a-a622-f0a0",
       "next": "673f1cd7-932b-11ec-b914-6b42dc3e1973-3-e822-3a4c-25a3",
       "previous": "90b935ba-6c4a-11ea-beb1-0242ac120002-15-a0ad-a198-a810-cfb4-44ac-051d-b817-f8de-2c22-8627"
      },
      {
       "current": "90b9377c-6c4a-11ea-beb1-0242ac120002-17-7967-724f-0241-5319-5510-3d0f-7f9a-a622-f0a0-0fa2",
       "next": "673f1cd7-932b-11ec-b914-6b42dc3e1973-4-e822-3a4c-25a3-f240",
       "previous": "90b935ba-6c4a-11ea-beb1-0242ac120002-16-a198-a810-cfb4-44ac-051d-b817-f8de-2c22-8627-8ea5"
      }
     ],
     "next": "673f1cd7-932b-11ec-b914-6b42dc3e1973-5-e822-3a4c-25a3-f240-afd4",
     "previous": "90b935ba-6c4a-11ea-beb1-0242ac120002-17-a810-cfb4-44ac-051d-b817-f8de-2c22-8627-8ea5-19da"
    }
   },
   "outputs": [],
   "source": [
    "!ansible -b -m file -a 'path=/jupyter/admin/textbook state=directory mode=0777' {target_hub} -l {target_group}\n",
    "!ansible -b -m file -a 'path=/jupyter/admin/info state=directory mode=0777' {target_hub} -l {target_group}"
   ]
  },
  {
   "cell_type": "markdown",
   "metadata": {
    "lc_cell_meme": {
     "current": "673f1cd7-932b-11ec-b914-6b42dc3e1973-5-e822-3a4c-25a3-f240-afd4",
     "history": [
      {
       "current": "673f1cd7-932b-11ec-b914-6b42dc3e1973-1-e822",
       "next": "e5d5d69c-f68e-11ea-9bfc-02420a01001a-8-fc6e-41c7-ae08-5ac0-6d64-6f69-efe2-9285",
       "previous": "90b9377c-6c4a-11ea-beb1-0242ac120002-12-583e-0020-fe76-85bd-24c8-7967-724f-0241-5319-5510"
      },
      {
       "current": "673f1cd7-932b-11ec-b914-6b42dc3e1973-2-e822-3a4c",
       "next": "e5d5d69c-f68e-11ea-9bfc-02420a01001a-9-fc6e-41c7-ae08-5ac0-6d64-6f69-efe2-9285-ef34",
       "previous": "90b9377c-6c4a-11ea-beb1-0242ac120002-13-0020-fe76-85bd-24c8-7967-724f-0241-5319-5510-3d0f"
      },
      {
       "current": "673f1cd7-932b-11ec-b914-6b42dc3e1973-3-e822-3a4c-25a3",
       "next": "e5d5d69c-f68e-11ea-9bfc-02420a01001a-10-fc6e-41c7-ae08-5ac0-6d64-6f69-efe2-9285-ef34-211a",
       "previous": "90b9377c-6c4a-11ea-beb1-0242ac120002-14-fe76-85bd-24c8-7967-724f-0241-5319-5510-3d0f-7f9a"
      },
      {
       "current": "673f1cd7-932b-11ec-b914-6b42dc3e1973-4-e822-3a4c-25a3-f240",
       "next": "e5d5d69c-f68e-11ea-9bfc-02420a01001a-11-41c7-ae08-5ac0-6d64-6f69-efe2-9285-ef34-211a-bc6b",
       "previous": "90b9377c-6c4a-11ea-beb1-0242ac120002-15-85bd-24c8-7967-724f-0241-5319-5510-3d0f-7f9a-a622"
      },
      {
       "current": "673f1cd7-932b-11ec-b914-6b42dc3e1973-5-e822-3a4c-25a3-f240-afd4",
       "next": "e5d5d69c-f68e-11ea-9bfc-02420a01001a-12-ae08-5ac0-6d64-6f69-efe2-9285-ef34-211a-bc6b-5ec2",
       "previous": "90b9377c-6c4a-11ea-beb1-0242ac120002-16-24c8-7967-724f-0241-5319-5510-3d0f-7f9a-a622-f0a0"
      }
     ],
     "next": "e5d5d69c-f68e-11ea-9bfc-02420a01001a-13-5ac0-6d64-6f69-efe2-9285-ef34-211a-bc6b-5ec2-664b",
     "previous": "90b9377c-6c4a-11ea-beb1-0242ac120002-17-7967-724f-0241-5319-5510-3d0f-7f9a-a622-f0a0-0fa2"
    }
   },
   "source": [
    "コンテンツは、管理者ユーザーでCoursewareHubにログインし、「D06_CoursewareHubコンテンツの配備.ipynb」を実行して配備してください。"
   ]
  },
  {
   "cell_type": "markdown",
   "metadata": {
    "lc_cell_meme": {
     "current": "e5d5d69c-f68e-11ea-9bfc-02420a01001a-13-5ac0-6d64-6f69-efe2-9285-ef34-211a-bc6b-5ec2-664b",
     "history": [
      {
       "current": "e5d5d69c-f68e-11ea-9bfc-02420a01001a-9-fc6e-41c7-ae08-5ac0-6d64-6f69-efe2-9285-ef34",
       "next": "9cc2c8bc-8e09-11eb-be99-0242ac120002-5-745c-df9f-0f33-2ee5-28d3",
       "previous": "673f1cd7-932b-11ec-b914-6b42dc3e1973"
      },
      {
       "current": "e5d5d69c-f68e-11ea-9bfc-02420a01001a-10-fc6e-41c7-ae08-5ac0-6d64-6f69-efe2-9285-ef34-211a",
       "next": "9cc2c8bc-8e09-11eb-be99-0242ac120002-6-745c-df9f-0f33-2ee5-28d3-317a",
       "previous": "673f1cd7-932b-11ec-b914-6b42dc3e1973-1-e822"
      },
      {
       "current": "e5d5d69c-f68e-11ea-9bfc-02420a01001a-11-41c7-ae08-5ac0-6d64-6f69-efe2-9285-ef34-211a-bc6b",
       "next": "9cc2c8bc-8e09-11eb-be99-0242ac120002-7-745c-df9f-0f33-2ee5-28d3-317a-bff4",
       "previous": "673f1cd7-932b-11ec-b914-6b42dc3e1973-2-e822-3a4c"
      },
      {
       "current": "e5d5d69c-f68e-11ea-9bfc-02420a01001a-12-ae08-5ac0-6d64-6f69-efe2-9285-ef34-211a-bc6b-5ec2",
       "next": "9cc2c8bc-8e09-11eb-be99-0242ac120002-8-745c-df9f-0f33-2ee5-28d3-317a-bff4-e07a",
       "previous": "673f1cd7-932b-11ec-b914-6b42dc3e1973-3-e822-3a4c-25a3"
      },
      {
       "current": "e5d5d69c-f68e-11ea-9bfc-02420a01001a-13-5ac0-6d64-6f69-efe2-9285-ef34-211a-bc6b-5ec2-664b",
       "next": "9cc2c8bc-8e09-11eb-be99-0242ac120002-9-745c-df9f-0f33-2ee5-28d3-317a-bff4-e07a-371f",
       "previous": "673f1cd7-932b-11ec-b914-6b42dc3e1973-4-e822-3a4c-25a3-f240"
      }
     ],
     "next": "9cc2c8bc-8e09-11eb-be99-0242ac120002-10-745c-df9f-0f33-2ee5-28d3-317a-bff4-e07a-371f-6f12",
     "previous": "673f1cd7-932b-11ec-b914-6b42dc3e1973-5-e822-3a4c-25a3-f240-afd4"
    }
   },
   "source": [
    "# SELinux設定\n",
    "\n",
    "対象のSELinuxの状態を調べ、SELinuxが有効の場合は、それ以降の設定を行う。"
   ]
  },
  {
   "cell_type": "code",
   "execution_count": null,
   "metadata": {
    "lc_cell_meme": {
     "current": "9cc2c8bc-8e09-11eb-be99-0242ac120002-10-745c-df9f-0f33-2ee5-28d3-317a-bff4-e07a-371f-6f12",
     "execution_end_time": "2022-04-28T09:37:14.843897Z",
     "history": [
      {
       "current": "9cc2c8bc-8e09-11eb-be99-0242ac120002-6-745c-df9f-0f33-2ee5-28d3-317a",
       "next": "e5d5db06-f68e-11ea-9bfc-02420a01001a-8-9d97-0407-6e42-4b90-34da-ce5b-0c79-f05b",
       "previous": "e5d5d69c-f68e-11ea-9bfc-02420a01001a-8-fc6e-41c7-ae08-5ac0-6d64-6f69-efe2-9285"
      },
      {
       "current": "9cc2c8bc-8e09-11eb-be99-0242ac120002-7-745c-df9f-0f33-2ee5-28d3-317a-bff4",
       "next": "e5d5db06-f68e-11ea-9bfc-02420a01001a-9-9d97-0407-6e42-4b90-34da-ce5b-0c79-f05b-4744",
       "previous": "e5d5d69c-f68e-11ea-9bfc-02420a01001a-9-fc6e-41c7-ae08-5ac0-6d64-6f69-efe2-9285-ef34"
      },
      {
       "current": "9cc2c8bc-8e09-11eb-be99-0242ac120002-8-745c-df9f-0f33-2ee5-28d3-317a-bff4-e07a",
       "next": "e5d5db06-f68e-11ea-9bfc-02420a01001a-10-9d97-0407-6e42-4b90-34da-ce5b-0c79-f05b-4744-7a31",
       "previous": "e5d5d69c-f68e-11ea-9bfc-02420a01001a-10-fc6e-41c7-ae08-5ac0-6d64-6f69-efe2-9285-ef34-211a"
      },
      {
       "current": "9cc2c8bc-8e09-11eb-be99-0242ac120002-9-745c-df9f-0f33-2ee5-28d3-317a-bff4-e07a-371f",
       "next": "e5d5db06-f68e-11ea-9bfc-02420a01001a-11-0407-6e42-4b90-34da-ce5b-0c79-f05b-4744-7a31-5d61",
       "previous": "e5d5d69c-f68e-11ea-9bfc-02420a01001a-11-41c7-ae08-5ac0-6d64-6f69-efe2-9285-ef34-211a-bc6b"
      },
      {
       "current": "9cc2c8bc-8e09-11eb-be99-0242ac120002-10-745c-df9f-0f33-2ee5-28d3-317a-bff4-e07a-371f-6f12",
       "next": "e5d5db06-f68e-11ea-9bfc-02420a01001a-12-6e42-4b90-34da-ce5b-0c79-f05b-4744-7a31-5d61-32a4",
       "previous": "e5d5d69c-f68e-11ea-9bfc-02420a01001a-12-ae08-5ac0-6d64-6f69-efe2-9285-ef34-211a-bc6b-5ec2"
      }
     ],
     "next": "e5d5db06-f68e-11ea-9bfc-02420a01001a-13-4b90-34da-ce5b-0c79-f05b-4744-7a31-5d61-32a4-2acb",
     "previous": "e5d5d69c-f68e-11ea-9bfc-02420a01001a-13-5ac0-6d64-6f69-efe2-9285-ef34-211a-bc6b-5ec2-664b"
    }
   },
   "outputs": [],
   "source": [
    "!ansible -b -a 'getenforce' {target_group}"
   ]
  },
  {
   "cell_type": "code",
   "execution_count": null,
   "metadata": {
    "lc_cell_meme": {
     "current": "e5d5db06-f68e-11ea-9bfc-02420a01001a-13-4b90-34da-ce5b-0c79-f05b-4744-7a31-5d61-32a4-2acb",
     "execution_end_time": "2022-04-28T09:37:23.886293Z",
     "history": [
      {
       "current": "e5d5db06-f68e-11ea-9bfc-02420a01001a-9-9d97-0407-6e42-4b90-34da-ce5b-0c79-f05b-4744",
       "next": "74340b3e-f68f-11ea-9bfc-02420a01001a-8-892a-78c4-1e04-8fba-a867-0b00-9735-25df",
       "previous": "9cc2c8bc-8e09-11eb-be99-0242ac120002-5-745c-df9f-0f33-2ee5-28d3"
      },
      {
       "current": "e5d5db06-f68e-11ea-9bfc-02420a01001a-10-9d97-0407-6e42-4b90-34da-ce5b-0c79-f05b-4744-7a31",
       "next": "74340b3e-f68f-11ea-9bfc-02420a01001a-9-892a-78c4-1e04-8fba-a867-0b00-9735-25df-a228",
       "previous": "9cc2c8bc-8e09-11eb-be99-0242ac120002-6-745c-df9f-0f33-2ee5-28d3-317a"
      },
      {
       "current": "e5d5db06-f68e-11ea-9bfc-02420a01001a-11-0407-6e42-4b90-34da-ce5b-0c79-f05b-4744-7a31-5d61",
       "next": "74340b3e-f68f-11ea-9bfc-02420a01001a-10-892a-78c4-1e04-8fba-a867-0b00-9735-25df-a228-fbff",
       "previous": "9cc2c8bc-8e09-11eb-be99-0242ac120002-7-745c-df9f-0f33-2ee5-28d3-317a-bff4"
      },
      {
       "current": "e5d5db06-f68e-11ea-9bfc-02420a01001a-12-6e42-4b90-34da-ce5b-0c79-f05b-4744-7a31-5d61-32a4",
       "next": "74340b3e-f68f-11ea-9bfc-02420a01001a-11-78c4-1e04-8fba-a867-0b00-9735-25df-a228-fbff-0376",
       "previous": "9cc2c8bc-8e09-11eb-be99-0242ac120002-8-745c-df9f-0f33-2ee5-28d3-317a-bff4-e07a"
      },
      {
       "current": "e5d5db06-f68e-11ea-9bfc-02420a01001a-13-4b90-34da-ce5b-0c79-f05b-4744-7a31-5d61-32a4-2acb",
       "next": "74340b3e-f68f-11ea-9bfc-02420a01001a-12-1e04-8fba-a867-0b00-9735-25df-a228-fbff-0376-1f94",
       "previous": "9cc2c8bc-8e09-11eb-be99-0242ac120002-9-745c-df9f-0f33-2ee5-28d3-317a-bff4-e07a-371f"
      }
     ],
     "next": "74340b3e-f68f-11ea-9bfc-02420a01001a-13-8fba-a867-0b00-9735-25df-a228-fbff-0376-1f94-be53",
     "previous": "9cc2c8bc-8e09-11eb-be99-0242ac120002-10-745c-df9f-0f33-2ee5-28d3-317a-bff4-e07a-371f-6f12"
    },
    "scrolled": true
   },
   "outputs": [],
   "source": [
    "!ansible -CDv -b -m sefcontext -a 'target=\"/jupyter/users/[^/]+/\\.ssh(/.*)?\" ftype=a setype=ssh_home_t' {target_group}"
   ]
  },
  {
   "cell_type": "code",
   "execution_count": null,
   "metadata": {
    "lc_cell_meme": {
     "current": "74340b3e-f68f-11ea-9bfc-02420a01001a-13-8fba-a867-0b00-9735-25df-a228-fbff-0376-1f94-be53",
     "execution_end_time": "2022-04-28T09:37:31.191164Z",
     "history": [
      {
       "current": "74340b3e-f68f-11ea-9bfc-02420a01001a-9-892a-78c4-1e04-8fba-a867-0b00-9735-25df-a228",
       "next": "74340d82-f68f-11ea-9bfc-02420a01001a-8-f53b-abea-55bc-24a9-45be-3da4-b456-61d5",
       "previous": "e5d5db06-f68e-11ea-9bfc-02420a01001a-8-9d97-0407-6e42-4b90-34da-ce5b-0c79-f05b"
      },
      {
       "current": "74340b3e-f68f-11ea-9bfc-02420a01001a-10-892a-78c4-1e04-8fba-a867-0b00-9735-25df-a228-fbff",
       "next": "74340d82-f68f-11ea-9bfc-02420a01001a-9-f53b-abea-55bc-24a9-45be-3da4-b456-61d5-db43",
       "previous": "e5d5db06-f68e-11ea-9bfc-02420a01001a-9-9d97-0407-6e42-4b90-34da-ce5b-0c79-f05b-4744"
      },
      {
       "current": "74340b3e-f68f-11ea-9bfc-02420a01001a-11-78c4-1e04-8fba-a867-0b00-9735-25df-a228-fbff-0376",
       "next": "74340d82-f68f-11ea-9bfc-02420a01001a-10-f53b-abea-55bc-24a9-45be-3da4-b456-61d5-db43-d35d",
       "previous": "e5d5db06-f68e-11ea-9bfc-02420a01001a-10-9d97-0407-6e42-4b90-34da-ce5b-0c79-f05b-4744-7a31"
      },
      {
       "current": "74340b3e-f68f-11ea-9bfc-02420a01001a-12-1e04-8fba-a867-0b00-9735-25df-a228-fbff-0376-1f94",
       "next": "74340d82-f68f-11ea-9bfc-02420a01001a-11-abea-55bc-24a9-45be-3da4-b456-61d5-db43-d35d-4610",
       "previous": "e5d5db06-f68e-11ea-9bfc-02420a01001a-11-0407-6e42-4b90-34da-ce5b-0c79-f05b-4744-7a31-5d61"
      },
      {
       "current": "74340b3e-f68f-11ea-9bfc-02420a01001a-13-8fba-a867-0b00-9735-25df-a228-fbff-0376-1f94-be53",
       "next": "74340d82-f68f-11ea-9bfc-02420a01001a-12-55bc-24a9-45be-3da4-b456-61d5-db43-d35d-4610-bce8",
       "previous": "e5d5db06-f68e-11ea-9bfc-02420a01001a-12-6e42-4b90-34da-ce5b-0c79-f05b-4744-7a31-5d61-32a4"
      }
     ],
     "next": "74340d82-f68f-11ea-9bfc-02420a01001a-13-24a9-45be-3da4-b456-61d5-db43-d35d-4610-bce8-345c",
     "previous": "e5d5db06-f68e-11ea-9bfc-02420a01001a-13-4b90-34da-ce5b-0c79-f05b-4744-7a31-5d61-32a4-2acb"
    },
    "scrolled": true
   },
   "outputs": [],
   "source": [
    "!ansible -b -m sefcontext -a 'target=\"/jupyter/users/[^/]+/\\.ssh(/.*)?\" ftype=a setype=ssh_home_t' {target_group}"
   ]
  },
  {
   "cell_type": "code",
   "execution_count": null,
   "metadata": {
    "lc_cell_meme": {
     "current": "74340d82-f68f-11ea-9bfc-02420a01001a-13-24a9-45be-3da4-b456-61d5-db43-d35d-4610-bce8-345c",
     "execution_end_time": "2022-04-28T09:37:33.950442Z",
     "history": [
      {
       "current": "74340d82-f68f-11ea-9bfc-02420a01001a-10-f53b-abea-55bc-24a9-45be-3da4-b456-61d5-db43-d35d",
       "next": "92676d3e-f690-11ea-9bfc-02420a01001a-9-d4e1-c3da-5be3-2c30-4957-30a1-b0c5-c530-002a",
       "previous": "74340b3e-f68f-11ea-9bfc-02420a01001a-9-892a-78c4-1e04-8fba-a867-0b00-9735-25df-a228"
      },
      {
       "current": "74340d82-f68f-11ea-9bfc-02420a01001a-10-f53b-abea-55bc-24a9-45be-3da4-b456-61d5-db43-d35d",
       "next": "92676d3e-f690-11ea-9bfc-02420a01001a-10-d4e1-c3da-5be3-2c30-4957-30a1-b0c5-c530-002a-0a5c",
       "previous": "74340b3e-f68f-11ea-9bfc-02420a01001a-10-892a-78c4-1e04-8fba-a867-0b00-9735-25df-a228-fbff"
      },
      {
       "current": "74340d82-f68f-11ea-9bfc-02420a01001a-11-abea-55bc-24a9-45be-3da4-b456-61d5-db43-d35d-4610",
       "next": "4f3503f6-c122-11ec-8fb6-0242ac120004",
       "previous": "74340b3e-f68f-11ea-9bfc-02420a01001a-10-892a-78c4-1e04-8fba-a867-0b00-9735-25df-a228-fbff"
      },
      {
       "current": "74340d82-f68f-11ea-9bfc-02420a01001a-12-55bc-24a9-45be-3da4-b456-61d5-db43-d35d-4610-bce8",
       "next": "4f3503f6-c122-11ec-8fb6-0242ac120004-1-9d0f",
       "previous": "74340b3e-f68f-11ea-9bfc-02420a01001a-11-78c4-1e04-8fba-a867-0b00-9735-25df-a228-fbff-0376"
      },
      {
       "current": "74340d82-f68f-11ea-9bfc-02420a01001a-13-24a9-45be-3da4-b456-61d5-db43-d35d-4610-bce8-345c",
       "next": "4f3503f6-c122-11ec-8fb6-0242ac120004-2-9d0f-59b8",
       "previous": "74340b3e-f68f-11ea-9bfc-02420a01001a-12-1e04-8fba-a867-0b00-9735-25df-a228-fbff-0376-1f94"
      }
     ],
     "next": "4f3503f6-c122-11ec-8fb6-0242ac120004-3-9d0f-59b8-7060",
     "previous": "74340b3e-f68f-11ea-9bfc-02420a01001a-13-8fba-a867-0b00-9735-25df-a228-fbff-0376-1f94-be53"
    }
   },
   "outputs": [],
   "source": [
    "!ansible -b -a 'restorecon -ir /jupyter/users'  {target_group}"
   ]
  },
  {
   "cell_type": "code",
   "execution_count": null,
   "metadata": {
    "lc_cell_meme": {
     "current": "4f3503f6-c122-11ec-8fb6-0242ac120004-3-9d0f-59b8-7060",
     "execution_end_time": "2022-04-28T09:37:35.905372Z",
     "history": [
      {
       "current": "4f3503f6-c122-11ec-8fb6-0242ac120004-1-9d0f",
       "next": "92676d3e-f690-11ea-9bfc-02420a01001a-10-d4e1-c3da-5be3-2c30-4957-30a1-b0c5-c530-002a-0a5c",
       "previous": "74340d82-f68f-11ea-9bfc-02420a01001a-10-f53b-abea-55bc-24a9-45be-3da4-b456-61d5-db43-d35d"
      },
      {
       "current": "4f3503f6-c122-11ec-8fb6-0242ac120004-2-9d0f-59b8",
       "next": "92676d3e-f690-11ea-9bfc-02420a01001a-11-c3da-5be3-2c30-4957-30a1-b0c5-c530-002a-0a5c-de88",
       "previous": "74340d82-f68f-11ea-9bfc-02420a01001a-11-abea-55bc-24a9-45be-3da4-b456-61d5-db43-d35d-4610"
      },
      {
       "current": "4f3503f6-c122-11ec-8fb6-0242ac120004-3-9d0f-59b8-7060",
       "next": "92676d3e-f690-11ea-9bfc-02420a01001a-12-5be3-2c30-4957-30a1-b0c5-c530-002a-0a5c-de88-9627",
       "previous": "74340d82-f68f-11ea-9bfc-02420a01001a-12-55bc-24a9-45be-3da4-b456-61d5-db43-d35d-4610-bce8"
      }
     ],
     "next": "92676d3e-f690-11ea-9bfc-02420a01001a-13-2c30-4957-30a1-b0c5-c530-002a-0a5c-de88-9627-b0e5",
     "previous": "74340d82-f68f-11ea-9bfc-02420a01001a-13-24a9-45be-3da4-b456-61d5-db43-d35d-4610-bce8-345c"
    }
   },
   "outputs": [],
   "source": [
    "msg_stdout = !ansible -m debug -a 'msg={{{{ nfs_server_role }}}}' {target_hub} -l {target_group}\n",
    "nfs_server_role = json.loads(''.join([msg_stdout[0].split()[-1]] + msg_stdout[1:]))['msg']\n",
    "nfs_server_role"
   ]
  },
  {
   "cell_type": "code",
   "execution_count": null,
   "metadata": {
    "lc_cell_meme": {
     "current": "92676d3e-f690-11ea-9bfc-02420a01001a-13-2c30-4957-30a1-b0c5-c530-002a-0a5c-de88-9627-b0e5",
     "execution_end_time": "2022-04-28T09:37:40.156498Z",
     "history": [
      {
       "current": "92676d3e-f690-11ea-9bfc-02420a01001a-10-d4e1-c3da-5be3-2c30-4957-30a1-b0c5-c530-002a-0a5c",
       "next": "d9d4c8e2-f690-11ea-9bfc-02420a01001a-9-afbb-2726-630b-72b8-d69c-e1e5-5299-7db8-5993",
       "previous": "74340d82-f68f-11ea-9bfc-02420a01001a-9-f53b-abea-55bc-24a9-45be-3da4-b456-61d5-db43"
      },
      {
       "current": "92676d3e-f690-11ea-9bfc-02420a01001a-10-d4e1-c3da-5be3-2c30-4957-30a1-b0c5-c530-002a-0a5c",
       "next": "d9d4c8e2-f690-11ea-9bfc-02420a01001a-10-afbb-2726-630b-72b8-d69c-e1e5-5299-7db8-5993-346e",
       "previous": "74340d82-f68f-11ea-9bfc-02420a01001a-10-f53b-abea-55bc-24a9-45be-3da4-b456-61d5-db43-d35d"
      },
      {
       "current": "92676d3e-f690-11ea-9bfc-02420a01001a-11-c3da-5be3-2c30-4957-30a1-b0c5-c530-002a-0a5c-de88",
       "next": "d9d4c8e2-f690-11ea-9bfc-02420a01001a-10-afbb-2726-630b-72b8-d69c-e1e5-5299-7db8-5993-346e",
       "previous": "4f3503f6-c122-11ec-8fb6-0242ac120004"
      },
      {
       "current": "92676d3e-f690-11ea-9bfc-02420a01001a-12-5be3-2c30-4957-30a1-b0c5-c530-002a-0a5c-de88-9627",
       "next": "d9d4c8e2-f690-11ea-9bfc-02420a01001a-11-2726-630b-72b8-d69c-e1e5-5299-7db8-5993-346e-5c25",
       "previous": "4f3503f6-c122-11ec-8fb6-0242ac120004-1-9d0f"
      },
      {
       "current": "92676d3e-f690-11ea-9bfc-02420a01001a-13-2c30-4957-30a1-b0c5-c530-002a-0a5c-de88-9627-b0e5",
       "next": "d9d4c8e2-f690-11ea-9bfc-02420a01001a-12-630b-72b8-d69c-e1e5-5299-7db8-5993-346e-5c25-fb4d",
       "previous": "4f3503f6-c122-11ec-8fb6-0242ac120004-2-9d0f-59b8"
      }
     ],
     "next": "d9d4c8e2-f690-11ea-9bfc-02420a01001a-13-72b8-d69c-e1e5-5299-7db8-5993-346e-5c25-fb4d-f7ad",
     "previous": "4f3503f6-c122-11ec-8fb6-0242ac120004-3-9d0f-59b8-7060"
    }
   },
   "outputs": [],
   "source": [
    "if nfs_server_role == 'nfs_server_dedicated':\n",
    "    # NFS専用サーバー使用で、managerノードがNFSクライアントの場合は、こちらも実施\n",
    "    !ansible -CDv -b -m seboolean -a 'name=use_nfs_home_dirs state=yes persistent=yes'  {target_hub} -l {target_group}\n",
    "!ansible -CDv -b -m seboolean -a 'name=use_nfs_home_dirs state=yes persistent=yes'  {target_nodes} -l {target_group}"
   ]
  },
  {
   "cell_type": "code",
   "execution_count": null,
   "metadata": {
    "lc_cell_meme": {
     "current": "d9d4c8e2-f690-11ea-9bfc-02420a01001a-13-72b8-d69c-e1e5-5299-7db8-5993-346e-5c25-fb4d-f7ad",
     "execution_end_time": "2022-04-28T09:37:44.758321Z",
     "history": [
      {
       "current": "d9d4c8e2-f690-11ea-9bfc-02420a01001a-9-afbb-2726-630b-72b8-d69c-e1e5-5299-7db8-5993",
       "next": "2e8d956c-4bd4-11e9-b2d5-0242ac130002-16-b6a3-23df-92ce-4825-31f4-9f19-d3b3-29b6-59c4-f1fe",
       "previous": "92676d3e-f690-11ea-9bfc-02420a01001a-8-d4e1-c3da-5be3-2c30-4957-30a1-b0c5-c530"
      },
      {
       "current": "d9d4c8e2-f690-11ea-9bfc-02420a01001a-10-afbb-2726-630b-72b8-d69c-e1e5-5299-7db8-5993-346e",
       "next": "2e8d956c-4bd4-11e9-b2d5-0242ac130002-17-23df-92ce-4825-31f4-9f19-d3b3-29b6-59c4-f1fe-2aef",
       "previous": "92676d3e-f690-11ea-9bfc-02420a01001a-9-d4e1-c3da-5be3-2c30-4957-30a1-b0c5-c530-002a"
      },
      {
       "current": "d9d4c8e2-f690-11ea-9bfc-02420a01001a-11-2726-630b-72b8-d69c-e1e5-5299-7db8-5993-346e-5c25",
       "next": "2e8d956c-4bd4-11e9-b2d5-0242ac130002-18-92ce-4825-31f4-9f19-d3b3-29b6-59c4-f1fe-2aef-25c9",
       "previous": "92676d3e-f690-11ea-9bfc-02420a01001a-10-d4e1-c3da-5be3-2c30-4957-30a1-b0c5-c530-002a-0a5c"
      },
      {
       "current": "d9d4c8e2-f690-11ea-9bfc-02420a01001a-12-630b-72b8-d69c-e1e5-5299-7db8-5993-346e-5c25-fb4d",
       "next": "57046e66-c6a2-11ec-ac8a-0242ac120004",
       "previous": "92676d3e-f690-11ea-9bfc-02420a01001a-11-c3da-5be3-2c30-4957-30a1-b0c5-c530-002a-0a5c-de88"
      },
      {
       "current": "d9d4c8e2-f690-11ea-9bfc-02420a01001a-13-72b8-d69c-e1e5-5299-7db8-5993-346e-5c25-fb4d-f7ad",
       "next": "57046e66-c6a2-11ec-ac8a-0242ac120004-1-1b9f",
       "previous": "92676d3e-f690-11ea-9bfc-02420a01001a-12-5be3-2c30-4957-30a1-b0c5-c530-002a-0a5c-de88-9627"
      }
     ],
     "next": "57046e66-c6a2-11ec-ac8a-0242ac120004-2-1b9f-6e89",
     "previous": "92676d3e-f690-11ea-9bfc-02420a01001a-13-2c30-4957-30a1-b0c5-c530-002a-0a5c-de88-9627-b0e5"
    }
   },
   "outputs": [],
   "source": [
    "if nfs_server_role == 'nfs_server_dedicated':\n",
    "    # NFS専用サーバー使用で、managerノードがNFSクライアントの場合は、こちらも実施\n",
    "    !ansible -b -m seboolean -a 'name=use_nfs_home_dirs state=yes persistent=yes'  {target_hub} -l {target_group}\n",
    "!ansible -b -m seboolean -a 'name=use_nfs_home_dirs state=yes persistent=yes'  {target_nodes} -l {target_group}"
   ]
  },
  {
   "cell_type": "markdown",
   "metadata": {
    "lc_cell_meme": {
     "current": "57046e66-c6a2-11ec-ac8a-0242ac120004-2-1b9f-6e89",
     "history": [
      {
       "current": "57046e66-c6a2-11ec-ac8a-0242ac120004-1-1b9f",
       "next": "57047082-c6a2-11ec-ac8a-0242ac120004",
       "previous": "d9d4c8e2-f690-11ea-9bfc-02420a01001a-11-2726-630b-72b8-d69c-e1e5-5299-7db8-5993-346e-5c25"
      },
      {
       "current": "57046e66-c6a2-11ec-ac8a-0242ac120004-2-1b9f-6e89",
       "next": "57047082-c6a2-11ec-ac8a-0242ac120004-1-cf20",
       "previous": "d9d4c8e2-f690-11ea-9bfc-02420a01001a-12-630b-72b8-d69c-e1e5-5299-7db8-5993-346e-5c25-fb4d"
      }
     ],
     "next": "57047082-c6a2-11ec-ac8a-0242ac120004-2-cf20-814d",
     "previous": "d9d4c8e2-f690-11ea-9bfc-02420a01001a-13-72b8-d69c-e1e5-5299-7db8-5993-346e-5c25-fb4d-f7ad"
    }
   },
   "source": [
    "# コンテンツ配備用Notebookをコピー\n",
    "\n",
    "管理者ユーザーのディレクトリに、「D06_CoursewareHubコンテンツの配備.ipynb」をコピーします。"
   ]
  },
  {
   "cell_type": "code",
   "execution_count": null,
   "metadata": {
    "lc_cell_meme": {
     "current": "57047082-c6a2-11ec-ac8a-0242ac120004-2-cf20-814d",
     "execution_end_time": "2022-04-28T09:39:40.010066Z",
     "history": [
      {
       "current": "57047082-c6a2-11ec-ac8a-0242ac120004",
       "next": "2e8d956c-4bd4-11e9-b2d5-0242ac130002-19-4825-31f4-9f19-d3b3-29b6-59c4-f1fe-2aef-25c9-6b07",
       "previous": "57046e66-c6a2-11ec-ac8a-0242ac120004"
      },
      {
       "current": "57047082-c6a2-11ec-ac8a-0242ac120004-1-cf20",
       "next": "4c5f2516-c6d7-11ec-ac8a-0242ac120004",
       "previous": "57046e66-c6a2-11ec-ac8a-0242ac120004"
      },
      {
       "current": "57047082-c6a2-11ec-ac8a-0242ac120004-2-cf20-814d",
       "next": "4c5f2516-c6d7-11ec-ac8a-0242ac120004-1-c424",
       "previous": "57046e66-c6a2-11ec-ac8a-0242ac120004-1-1b9f"
      }
     ],
     "next": "4c5f2516-c6d7-11ec-ac8a-0242ac120004-2-c424-6714",
     "previous": "57046e66-c6a2-11ec-ac8a-0242ac120004-2-1b9f-6e89"
    }
   },
   "outputs": [],
   "source": [
    "!ansible -b -m copy -a 'src=D06_CoursewareHubコンテンツの配備.ipynb dest=/jupyter/users/{teacher_id}/ owner={teacher_id} group={teacher_group}' {target_hub} -l {target_group}"
   ]
  },
  {
   "cell_type": "markdown",
   "metadata": {
    "lc_cell_meme": {
     "current": "4c5f2516-c6d7-11ec-ac8a-0242ac120004-2-c424-6714",
     "history": [
      {
       "current": "4c5f2516-c6d7-11ec-ac8a-0242ac120004-1-c424",
       "next": "4c5f2688-c6d7-11ec-ac8a-0242ac120004",
       "previous": "57047082-c6a2-11ec-ac8a-0242ac120004"
      },
      {
       "current": "4c5f2516-c6d7-11ec-ac8a-0242ac120004-2-c424-6714",
       "next": "4c5f2688-c6d7-11ec-ac8a-0242ac120004-1-b11b",
       "previous": "57047082-c6a2-11ec-ac8a-0242ac120004-1-cf20"
      }
     ],
     "next": "4c5f2688-c6d7-11ec-ac8a-0242ac120004-2-b11b-26e1",
     "previous": "57047082-c6a2-11ec-ac8a-0242ac120004-2-cf20-814d"
    }
   },
   "source": [
    "以下の管理者ユーザーでログインし、D06_CoursewareHubコンテンツの配備.ipynb」を実行して、コンテンツを配備します。"
   ]
  },
  {
   "cell_type": "code",
   "execution_count": null,
   "metadata": {
    "lc_cell_meme": {
     "current": "4c5f2688-c6d7-11ec-ac8a-0242ac120004-2-b11b-26e1",
     "execution_end_time": "2022-04-28T09:40:51.907470Z",
     "history": [
      {
       "current": "4c5f2688-c6d7-11ec-ac8a-0242ac120004-1-b11b",
       "next": "2e8d956c-4bd4-11e9-b2d5-0242ac130002-19-4825-31f4-9f19-d3b3-29b6-59c4-f1fe-2aef-25c9-6b07",
       "previous": "4c5f2516-c6d7-11ec-ac8a-0242ac120004"
      },
      {
       "current": "4c5f2688-c6d7-11ec-ac8a-0242ac120004-2-b11b-26e1",
       "next": "2e8d956c-4bd4-11e9-b2d5-0242ac130002-20-31f4-9f19-d3b3-29b6-59c4-f1fe-2aef-25c9-6b07-3cb2",
       "previous": "4c5f2516-c6d7-11ec-ac8a-0242ac120004-1-c424"
      }
     ],
     "next": "2e8d956c-4bd4-11e9-b2d5-0242ac130002-21-9f19-d3b3-29b6-59c4-f1fe-2aef-25c9-6b07-3cb2-4665",
     "previous": "4c5f2516-c6d7-11ec-ac8a-0242ac120004-2-c424-6714"
    }
   },
   "outputs": [],
   "source": [
    "teacher_email"
   ]
  },
  {
   "cell_type": "markdown",
   "metadata": {
    "lc_cell_meme": {
     "current": "2e8d956c-4bd4-11e9-b2d5-0242ac130002-21-9f19-d3b3-29b6-59c4-f1fe-2aef-25c9-6b07-3cb2-4665",
     "history": [
      {
       "current": "2e8d956c-4bd4-11e9-b2d5-0242ac130002-18-92ce-4825-31f4-9f19-d3b3-29b6-59c4-f1fe-2aef-25c9",
       "next": "c008f332-4c52-11e9-b2d5-0242ac130002-17-235a-9e67-da5a-0748-a356-0585-1667-446c-56ea-39bc",
       "previous": "d9d4c8e2-f690-11ea-9bfc-02420a01001a-9-afbb-2726-630b-72b8-d69c-e1e5-5299-7db8-5993"
      },
      {
       "current": "2e8d956c-4bd4-11e9-b2d5-0242ac130002-19-4825-31f4-9f19-d3b3-29b6-59c4-f1fe-2aef-25c9-6b07",
       "next": "c008f332-4c52-11e9-b2d5-0242ac130002-18-9e67-da5a-0748-a356-0585-1667-446c-56ea-39bc-343e",
       "previous": "d9d4c8e2-f690-11ea-9bfc-02420a01001a-10-afbb-2726-630b-72b8-d69c-e1e5-5299-7db8-5993-346e"
      },
      {
       "current": "2e8d956c-4bd4-11e9-b2d5-0242ac130002-19-4825-31f4-9f19-d3b3-29b6-59c4-f1fe-2aef-25c9-6b07",
       "next": "c008f332-4c52-11e9-b2d5-0242ac130002-19-da5a-0748-a356-0585-1667-446c-56ea-39bc-343e-af04",
       "previous": "57047082-c6a2-11ec-ac8a-0242ac120004"
      },
      {
       "current": "2e8d956c-4bd4-11e9-b2d5-0242ac130002-20-31f4-9f19-d3b3-29b6-59c4-f1fe-2aef-25c9-6b07-3cb2",
       "next": "c008f332-4c52-11e9-b2d5-0242ac130002-19-da5a-0748-a356-0585-1667-446c-56ea-39bc-343e-af04",
       "previous": "4c5f2688-c6d7-11ec-ac8a-0242ac120004"
      },
      {
       "current": "2e8d956c-4bd4-11e9-b2d5-0242ac130002-21-9f19-d3b3-29b6-59c4-f1fe-2aef-25c9-6b07-3cb2-4665",
       "next": "c008f332-4c52-11e9-b2d5-0242ac130002-20-0748-a356-0585-1667-446c-56ea-39bc-343e-af04-ef70",
       "previous": "4c5f2688-c6d7-11ec-ac8a-0242ac120004-1-b11b"
      }
     ],
     "next": "c008f332-4c52-11e9-b2d5-0242ac130002-21-a356-0585-1667-446c-56ea-39bc-343e-af04-ef70-90d6",
     "previous": "4c5f2688-c6d7-11ec-ac8a-0242ac120004-2-b11b-26e1"
    }
   },
   "source": [
    "# 後始末"
   ]
  },
  {
   "cell_type": "code",
   "execution_count": null,
   "metadata": {
    "lc_cell_meme": {
     "current": "c008f332-4c52-11e9-b2d5-0242ac130002-21-a356-0585-1667-446c-56ea-39bc-343e-af04-ef70-90d6",
     "execution_end_time": "2022-04-28T09:47:22.354336Z",
     "history": [
      {
       "current": "c008f332-4c52-11e9-b2d5-0242ac130002-17-235a-9e67-da5a-0748-a356-0585-1667-446c-56ea-39bc",
       "next": "1e5f960c-4c67-11e9-b2d5-0242ac130002-16-e725-f8e7-094f-7d2d-e624-3330-6c22-eae0-0195-e12b",
       "previous": "2e8d956c-4bd4-11e9-b2d5-0242ac130002-16-b6a3-23df-92ce-4825-31f4-9f19-d3b3-29b6-59c4-f1fe"
      },
      {
       "current": "c008f332-4c52-11e9-b2d5-0242ac130002-18-9e67-da5a-0748-a356-0585-1667-446c-56ea-39bc-343e",
       "next": "1e5f960c-4c67-11e9-b2d5-0242ac130002-17-f8e7-094f-7d2d-e624-3330-6c22-eae0-0195-e12b-a319",
       "previous": "2e8d956c-4bd4-11e9-b2d5-0242ac130002-17-23df-92ce-4825-31f4-9f19-d3b3-29b6-59c4-f1fe-2aef"
      },
      {
       "current": "c008f332-4c52-11e9-b2d5-0242ac130002-19-da5a-0748-a356-0585-1667-446c-56ea-39bc-343e-af04",
       "next": "1e5f960c-4c67-11e9-b2d5-0242ac130002-18-094f-7d2d-e624-3330-6c22-eae0-0195-e12b-a319-3572",
       "previous": "2e8d956c-4bd4-11e9-b2d5-0242ac130002-18-92ce-4825-31f4-9f19-d3b3-29b6-59c4-f1fe-2aef-25c9"
      },
      {
       "current": "c008f332-4c52-11e9-b2d5-0242ac130002-20-0748-a356-0585-1667-446c-56ea-39bc-343e-af04-ef70",
       "next": "1e5f960c-4c67-11e9-b2d5-0242ac130002-19-7d2d-e624-3330-6c22-eae0-0195-e12b-a319-3572-c27f",
       "previous": "2e8d956c-4bd4-11e9-b2d5-0242ac130002-19-4825-31f4-9f19-d3b3-29b6-59c4-f1fe-2aef-25c9-6b07"
      },
      {
       "current": "c008f332-4c52-11e9-b2d5-0242ac130002-21-a356-0585-1667-446c-56ea-39bc-343e-af04-ef70-90d6",
       "next": "1e5f960c-4c67-11e9-b2d5-0242ac130002-20-e624-3330-6c22-eae0-0195-e12b-a319-3572-c27f-0e9f",
       "previous": "2e8d956c-4bd4-11e9-b2d5-0242ac130002-20-31f4-9f19-d3b3-29b6-59c4-f1fe-2aef-25c9-6b07-3cb2"
      }
     ],
     "next": "1e5f960c-4c67-11e9-b2d5-0242ac130002-21-3330-6c22-eae0-0195-e12b-a319-3572-c27f-0e9f-6b3b",
     "previous": "2e8d956c-4bd4-11e9-b2d5-0242ac130002-21-9f19-d3b3-29b6-59c4-f1fe-2aef-25c9-6b07-3cb2-4665"
    }
   },
   "outputs": [],
   "source": [
    "!rm -rf {work_dir}"
   ]
  },
  {
   "cell_type": "code",
   "execution_count": null,
   "metadata": {
    "lc_cell_meme": {
     "current": "1e5f960c-4c67-11e9-b2d5-0242ac130002-21-3330-6c22-eae0-0195-e12b-a319-3572-c27f-0e9f-6b3b",
     "history": [
      {
       "current": "1e5f960c-4c67-11e9-b2d5-0242ac130002-17-f8e7-094f-7d2d-e624-3330-6c22-eae0-0195-e12b-a319",
       "next": null,
       "previous": "c008f332-4c52-11e9-b2d5-0242ac130002-16-efe4-235a-9e67-da5a-0748-a356-0585-1667-446c-56ea"
      },
      {
       "current": "1e5f960c-4c67-11e9-b2d5-0242ac130002-18-094f-7d2d-e624-3330-6c22-eae0-0195-e12b-a319-3572",
       "next": null,
       "previous": "c008f332-4c52-11e9-b2d5-0242ac130002-17-235a-9e67-da5a-0748-a356-0585-1667-446c-56ea-39bc"
      },
      {
       "current": "1e5f960c-4c67-11e9-b2d5-0242ac130002-19-7d2d-e624-3330-6c22-eae0-0195-e12b-a319-3572-c27f",
       "next": null,
       "previous": "c008f332-4c52-11e9-b2d5-0242ac130002-18-9e67-da5a-0748-a356-0585-1667-446c-56ea-39bc-343e"
      },
      {
       "current": "1e5f960c-4c67-11e9-b2d5-0242ac130002-20-e624-3330-6c22-eae0-0195-e12b-a319-3572-c27f-0e9f",
       "next": null,
       "previous": "c008f332-4c52-11e9-b2d5-0242ac130002-19-da5a-0748-a356-0585-1667-446c-56ea-39bc-343e-af04"
      },
      {
       "current": "1e5f960c-4c67-11e9-b2d5-0242ac130002-21-3330-6c22-eae0-0195-e12b-a319-3572-c27f-0e9f-6b3b",
       "next": null,
       "previous": "c008f332-4c52-11e9-b2d5-0242ac130002-20-0748-a356-0585-1667-446c-56ea-39bc-343e-af04-ef70"
      }
     ],
     "next": null,
     "previous": "c008f332-4c52-11e9-b2d5-0242ac130002-21-a356-0585-1667-446c-56ea-39bc-343e-af04-ef70-90d6"
    }
   },
   "outputs": [],
   "source": []
  }
 ],
 "metadata": {
  "kernelspec": {
   "display_name": "Python 3",
   "language": "python",
   "name": "python3"
  },
  "language_info": {
   "file_extension": ".py",
   "mimetype": "text/x-python",
   "name": "python",
   "nbconvert_exporter": "python",
   "pygments_lexer": "ipython3",
   "version": "3.10.4"
  },
  "lc_notebook_meme": {
   "current": "cecbcfb0-4c53-11e9-b2d5-0242ac130002"
  },
  "toc": {
   "base_numbering": 1,
   "nav_menu": {},
   "number_sections": true,
   "sideBar": true,
   "skip_h1_title": false,
   "title_cell": "Table of Contents",
   "title_sidebar": "Contents",
   "toc_cell": false,
   "toc_position": {
    "height": "calc(100% - 180px)",
    "left": "10px",
    "top": "150px",
    "width": "379.797px"
   },
   "toc_section_display": true,
   "toc_window_display": true
  }
 },
 "nbformat": 4,
 "nbformat_minor": 2
}
