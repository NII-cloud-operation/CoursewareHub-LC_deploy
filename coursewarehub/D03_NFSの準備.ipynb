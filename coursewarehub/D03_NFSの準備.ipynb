{
 "cells": [
  {
   "cell_type": "markdown",
   "metadata": {
    "lc_cell_meme": {
     "current": "8c9d8c82-163e-11e9-9b3e-02420aff0006-16-8f4e-98da-2a16-80f7-bdb7-1d6c-fe9e-3f0a-6e71-8087",
     "history": [
      {
       "current": "8c9d8c82-163e-11e9-9b3e-02420aff0006-13-a74f-a9c3-6fb7-8f4e-98da-2a16-80f7-bdb7-1d6c-fe9e",
       "next": "98a63b86-d364-11e8-a64b-02420aff0006-12-cdd2-615e-f234-4757-b4ba-10fd-c01c-d19b-8ab1-f92c",
       "previous": null
      },
      {
       "current": "8c9d8c82-163e-11e9-9b3e-02420aff0006-13-a74f-a9c3-6fb7-8f4e-98da-2a16-80f7-bdb7-1d6c-fe9e",
       "next": "98a63b86-d364-11e8-a64b-02420aff0006-13-615e-f234-4757-b4ba-10fd-c01c-d19b-8ab1-f92c-2111",
       "previous": null
      },
      {
       "current": "8c9d8c82-163e-11e9-9b3e-02420aff0006-14-a9c3-6fb7-8f4e-98da-2a16-80f7-bdb7-1d6c-fe9e-3f0a",
       "next": "98a63b86-d364-11e8-a64b-02420aff0006-14-f234-4757-b4ba-10fd-c01c-d19b-8ab1-f92c-67d7-4938",
       "previous": null
      },
      {
       "current": "8c9d8c82-163e-11e9-9b3e-02420aff0006-15-6fb7-8f4e-98da-2a16-80f7-bdb7-1d6c-fe9e-3f0a-6e71",
       "next": "98a63b86-d364-11e8-a64b-02420aff0006-15-4757-b4ba-10fd-c01c-d19b-8ab1-f92c-67d7-4938-00d2",
       "previous": null
      },
      {
       "current": "8c9d8c82-163e-11e9-9b3e-02420aff0006-16-8f4e-98da-2a16-80f7-bdb7-1d6c-fe9e-3f0a-6e71-8087",
       "next": "98a63b86-d364-11e8-a64b-02420aff0006-16-b4ba-10fd-c01c-d19b-8ab1-f92c-67d7-4938-00d2-4b19",
       "previous": null
      }
     ],
     "next": "98a63b86-d364-11e8-a64b-02420aff0006-17-10fd-c01c-d19b-8ab1-f92c-67d7-4938-00d2-4b19-60e0",
     "previous": null
    }
   },
   "source": [
    "# About: NFSの準備\n",
    "\n",
    "CoursewareHub用のNFSを準備する\n",
    "\n",
    "* NFSサーバーの設定\n",
    "  * NFS serverのインストール\n",
    "  * CoursewareHubのノードへのexportを設定\n",
    "* CousewareHubのノードにNFSマウントを設定\n",
    "  * NFS clientのインストール\n",
    "  * fstabの設定"
   ]
  },
  {
   "cell_type": "markdown",
   "metadata": {
    "lc_cell_meme": {
     "current": "98a63b86-d364-11e8-a64b-02420aff0006-17-10fd-c01c-d19b-8ab1-f92c-67d7-4938-00d2-4b19-60e0",
     "history": [
      {
       "current": "98a63b86-d364-11e8-a64b-02420aff0006-13-615e-f234-4757-b4ba-10fd-c01c-d19b-8ab1-f92c-67d7",
       "next": "30306cab-0f87-11ec-975c-c7638f7e44c5-3-4852-98d7-287d",
       "previous": "8c9d8c82-163e-11e9-9b3e-02420aff0006-12-d6f1-a74f-a9c3-6fb7-8f4e-98da-2a16-80f7-bdb7-1d6c"
      },
      {
       "current": "98a63b86-d364-11e8-a64b-02420aff0006-14-f234-4757-b4ba-10fd-c01c-d19b-8ab1-f92c-67d7-4938",
       "next": "30306cab-0f87-11ec-975c-c7638f7e44c5-4-4852-98d7-287d-6995",
       "previous": "0beee207-8e2f-11ec-adcf-6b42dc3e1973"
      },
      {
       "current": "98a63b86-d364-11e8-a64b-02420aff0006-15-4757-b4ba-10fd-c01c-d19b-8ab1-f92c-67d7-4938-00d2",
       "next": "30306cab-0f87-11ec-975c-c7638f7e44c5-5-4852-98d7-287d-6995-52ef",
       "previous": "8c9d8c82-163e-11e9-9b3e-02420aff0006-13-a74f-a9c3-6fb7-8f4e-98da-2a16-80f7-bdb7-1d6c-fe9e"
      },
      {
       "current": "98a63b86-d364-11e8-a64b-02420aff0006-16-b4ba-10fd-c01c-d19b-8ab1-f92c-67d7-4938-00d2-4b19",
       "next": "30306cab-0f87-11ec-975c-c7638f7e44c5-6-4852-98d7-287d-6995-52ef-890d",
       "previous": "8c9d8c82-163e-11e9-9b3e-02420aff0006-14-a9c3-6fb7-8f4e-98da-2a16-80f7-bdb7-1d6c-fe9e-3f0a"
      },
      {
       "current": "98a63b86-d364-11e8-a64b-02420aff0006-17-10fd-c01c-d19b-8ab1-f92c-67d7-4938-00d2-4b19-60e0",
       "next": "30306cab-0f87-11ec-975c-c7638f7e44c5-7-4852-98d7-287d-6995-52ef-890d-1e7f",
       "previous": "8c9d8c82-163e-11e9-9b3e-02420aff0006-15-6fb7-8f4e-98da-2a16-80f7-bdb7-1d6c-fe9e-3f0a-6e71"
      }
     ],
     "next": "30306cab-0f87-11ec-975c-c7638f7e44c5-8-4852-98d7-287d-6995-52ef-890d-1e7f-c3e2",
     "previous": "8c9d8c82-163e-11e9-9b3e-02420aff0006-16-8f4e-98da-2a16-80f7-bdb7-1d6c-fe9e-3f0a-6e71-8087"
    }
   },
   "source": [
    "# Notebookと環境のBinding\n",
    "\n",
    "Inventoryファイルと、Inventory中のgroup名でBind対象ホストを指示する。"
   ]
  },
  {
   "cell_type": "markdown",
   "metadata": {
    "lc_cell_meme": {
     "current": "30306cab-0f87-11ec-975c-c7638f7e44c5-8-4852-98d7-287d-6995-52ef-890d-1e7f-c3e2",
     "history": [
      {
       "current": "30306cab-0f87-11ec-975c-c7638f7e44c5-4-4852-98d7-287d-6995",
       "next": "bee36054-0f87-11ec-a987-c7638f7e44c5-3-cc6c-9efb-66ea",
       "previous": "98a63b86-d364-11e8-a64b-02420aff0006-12-cdd2-615e-f234-4757-b4ba-10fd-c01c-d19b-8ab1-f92c"
      },
      {
       "current": "30306cab-0f87-11ec-975c-c7638f7e44c5-5-4852-98d7-287d-6995-52ef",
       "next": "bee36054-0f87-11ec-a987-c7638f7e44c5-4-cc6c-9efb-66ea-a410",
       "previous": "98a63b86-d364-11e8-a64b-02420aff0006-13-615e-f234-4757-b4ba-10fd-c01c-d19b-8ab1-f92c-67d7"
      },
      {
       "current": "30306cab-0f87-11ec-975c-c7638f7e44c5-6-4852-98d7-287d-6995-52ef-890d",
       "next": "bee36054-0f87-11ec-a987-c7638f7e44c5-5-cc6c-9efb-66ea-a410-c348",
       "previous": "98a63b86-d364-11e8-a64b-02420aff0006-14-f234-4757-b4ba-10fd-c01c-d19b-8ab1-f92c-67d7-4938"
      },
      {
       "current": "30306cab-0f87-11ec-975c-c7638f7e44c5-7-4852-98d7-287d-6995-52ef-890d-1e7f",
       "next": "bee36054-0f87-11ec-a987-c7638f7e44c5-6-cc6c-9efb-66ea-a410-c348-a116",
       "previous": "98a63b86-d364-11e8-a64b-02420aff0006-15-4757-b4ba-10fd-c01c-d19b-8ab1-f92c-67d7-4938-00d2"
      },
      {
       "current": "30306cab-0f87-11ec-975c-c7638f7e44c5-8-4852-98d7-287d-6995-52ef-890d-1e7f-c3e2",
       "next": "bee36054-0f87-11ec-a987-c7638f7e44c5-7-cc6c-9efb-66ea-a410-c348-a116-d72f",
       "previous": "98a63b86-d364-11e8-a64b-02420aff0006-16-b4ba-10fd-c01c-d19b-8ab1-f92c-67d7-4938-00d2-4b19"
      }
     ],
     "next": "bee36054-0f87-11ec-a987-c7638f7e44c5-8-cc6c-9efb-66ea-a410-c348-a116-d72f-a632",
     "previous": "98a63b86-d364-11e8-a64b-02420aff0006-17-10fd-c01c-d19b-8ab1-f92c-67d7-4938-00d2-4b19-60e0"
    }
   },
   "source": [
    "\n",
    "- `hosts_file`: Inventoryファイル\n",
    "- `target_group`: Ansible Inventory中に定義されているグループ( `[グループ名]` のように`[]`で囲まれた定義 )のうち、CoursewareHub構築に使うグループ名を指定します。\n"
   ]
  },
  {
   "cell_type": "code",
   "execution_count": null,
   "metadata": {
    "deletable": false,
    "editable": false,
    "lc_cell_meme": {
     "current": "bee36054-0f87-11ec-a987-c7638f7e44c5-8-cc6c-9efb-66ea-a410-c348-a116-d72f-a632",
     "execution_end_time": "2022-04-27T11:21:44.987195Z",
     "history": [
      {
       "current": "bee36054-0f87-11ec-a987-c7638f7e44c5-4-cc6c-9efb-66ea-a410",
       "next": "98a63d3e-d364-11e8-a64b-02420aff0006-12-f300-acf8-1799-7139-6878-b3a6-54e6-8b2c-93a7-5ae3",
       "previous": "30306cab-0f87-11ec-975c-c7638f7e44c5-3-4852-98d7-287d"
      },
      {
       "current": "bee36054-0f87-11ec-a987-c7638f7e44c5-5-cc6c-9efb-66ea-a410-c348",
       "next": "98a63d3e-d364-11e8-a64b-02420aff0006-13-acf8-1799-7139-6878-b3a6-54e6-8b2c-93a7-5ae3-d668",
       "previous": "30306cab-0f87-11ec-975c-c7638f7e44c5-4-4852-98d7-287d-6995"
      },
      {
       "current": "bee36054-0f87-11ec-a987-c7638f7e44c5-6-cc6c-9efb-66ea-a410-c348-a116",
       "next": "98a63d3e-d364-11e8-a64b-02420aff0006-14-1799-7139-6878-b3a6-54e6-8b2c-93a7-5ae3-d668-e7cc",
       "previous": "30306cab-0f87-11ec-975c-c7638f7e44c5-5-4852-98d7-287d-6995-52ef"
      },
      {
       "current": "bee36054-0f87-11ec-a987-c7638f7e44c5-7-cc6c-9efb-66ea-a410-c348-a116-d72f",
       "next": "98a63d3e-d364-11e8-a64b-02420aff0006-15-7139-6878-b3a6-54e6-8b2c-93a7-5ae3-d668-e7cc-6cbb",
       "previous": "30306cab-0f87-11ec-975c-c7638f7e44c5-6-4852-98d7-287d-6995-52ef-890d"
      },
      {
       "current": "bee36054-0f87-11ec-a987-c7638f7e44c5-8-cc6c-9efb-66ea-a410-c348-a116-d72f-a632",
       "next": "98a63d3e-d364-11e8-a64b-02420aff0006-16-6878-b3a6-54e6-8b2c-93a7-5ae3-d668-e7cc-6cbb-f9f7",
       "previous": "30306cab-0f87-11ec-975c-c7638f7e44c5-7-4852-98d7-287d-6995-52ef-890d-1e7f"
      }
     ],
     "next": "98a63d3e-d364-11e8-a64b-02420aff0006-17-b3a6-54e6-8b2c-93a7-5ae3-d668-e7cc-6cbb-f9f7-0ca3",
     "previous": "30306cab-0f87-11ec-975c-c7638f7e44c5-8-4852-98d7-287d-6995-52ef-890d-1e7f-c3e2"
    },
    "run_through_control": {
     "frozen": false
    },
    "scrolled": true
   },
   "outputs": [],
   "source": [
    "hosts_file = './cwhtest0001_inventory'\n",
    "target_group = 'cwhtest0001'\n",
    "\n",
    "# 接続確認\n",
    "%env ANSIBLE_INVENTORY={hosts_file}\n",
    "!ansible -m ping {target_group}"
   ]
  },
  {
   "cell_type": "markdown",
   "metadata": {
    "lc_cell_meme": {
     "current": "98a63d3e-d364-11e8-a64b-02420aff0006-17-b3a6-54e6-8b2c-93a7-5ae3-d668-e7cc-6cbb-f9f7-0ca3",
     "history": [
      {
       "current": "98a63d3e-d364-11e8-a64b-02420aff0006-13-acf8-1799-7139-6878-b3a6-54e6-8b2c-93a7-5ae3-d668",
       "next": "98a63df2-d364-11e8-a64b-02420aff0006-12-fc98-8079-ba4a-8cce-04e7-0c4f-80c6-0986-de5c-7bc5",
       "previous": "bee36054-0f87-11ec-a987-c7638f7e44c5-3-cc6c-9efb-66ea"
      },
      {
       "current": "98a63d3e-d364-11e8-a64b-02420aff0006-14-1799-7139-6878-b3a6-54e6-8b2c-93a7-5ae3-d668-e7cc",
       "next": "98a63df2-d364-11e8-a64b-02420aff0006-13-8079-ba4a-8cce-04e7-0c4f-80c6-0986-de5c-7bc5-bcaa",
       "previous": "bee36054-0f87-11ec-a987-c7638f7e44c5-4-cc6c-9efb-66ea-a410"
      },
      {
       "current": "98a63d3e-d364-11e8-a64b-02420aff0006-15-7139-6878-b3a6-54e6-8b2c-93a7-5ae3-d668-e7cc-6cbb",
       "next": "98a63df2-d364-11e8-a64b-02420aff0006-14-ba4a-8cce-04e7-0c4f-80c6-0986-de5c-7bc5-bcaa-1d60",
       "previous": "bee36054-0f87-11ec-a987-c7638f7e44c5-5-cc6c-9efb-66ea-a410-c348"
      },
      {
       "current": "98a63d3e-d364-11e8-a64b-02420aff0006-16-6878-b3a6-54e6-8b2c-93a7-5ae3-d668-e7cc-6cbb-f9f7",
       "next": "98a63df2-d364-11e8-a64b-02420aff0006-15-8cce-04e7-0c4f-80c6-0986-de5c-7bc5-bcaa-1d60-b71d",
       "previous": "bee36054-0f87-11ec-a987-c7638f7e44c5-6-cc6c-9efb-66ea-a410-c348-a116"
      },
      {
       "current": "98a63d3e-d364-11e8-a64b-02420aff0006-17-b3a6-54e6-8b2c-93a7-5ae3-d668-e7cc-6cbb-f9f7-0ca3",
       "next": "98a63df2-d364-11e8-a64b-02420aff0006-16-04e7-0c4f-80c6-0986-de5c-7bc5-bcaa-1d60-b71d-3d52",
       "previous": "bee36054-0f87-11ec-a987-c7638f7e44c5-7-cc6c-9efb-66ea-a410-c348-a116-d72f"
      }
     ],
     "next": "98a63df2-d364-11e8-a64b-02420aff0006-17-0c4f-80c6-0986-de5c-7bc5-bcaa-1d60-b71d-3d52-00a4",
     "previous": "bee36054-0f87-11ec-a987-c7638f7e44c5-8-cc6c-9efb-66ea-a410-c348-a116-d72f-a632"
    }
   },
   "source": [
    "NFSサーバーを含むAnsibleのgroup名を指定する。対象が正しいか、Ansible pingモジュールで動作確認する。"
   ]
  },
  {
   "cell_type": "code",
   "execution_count": null,
   "metadata": {
    "ExecuteTime": {
     "end_time": "2019-04-19T06:13:37.273763Z",
     "start_time": "2019-04-19T06:13:30.536774Z"
    },
    "deletable": false,
    "editable": false,
    "lc_cell_meme": {
     "current": "98a63df2-d364-11e8-a64b-02420aff0006-17-0c4f-80c6-0986-de5c-7bc5-bcaa-1d60-b71d-3d52-00a4",
     "execution_end_time": "2022-04-27T11:21:48.580310Z",
     "history": [
      {
       "current": "98a63df2-d364-11e8-a64b-02420aff0006-13-8079-ba4a-8cce-04e7-0c4f-80c6-0986-de5c-7bc5-bcaa",
       "next": "98a63e88-d364-11e8-a64b-02420aff0006-12-92b4-6848-7496-de1d-a59c-e85f-7a19-a8d9-ec7b-5151",
       "previous": "98a63d3e-d364-11e8-a64b-02420aff0006-12-f300-acf8-1799-7139-6878-b3a6-54e6-8b2c-93a7-5ae3"
      },
      {
       "current": "98a63df2-d364-11e8-a64b-02420aff0006-14-ba4a-8cce-04e7-0c4f-80c6-0986-de5c-7bc5-bcaa-1d60",
       "next": "98a63e88-d364-11e8-a64b-02420aff0006-13-6848-7496-de1d-a59c-e85f-7a19-a8d9-ec7b-5151-78d7",
       "previous": "98a63d3e-d364-11e8-a64b-02420aff0006-13-acf8-1799-7139-6878-b3a6-54e6-8b2c-93a7-5ae3-d668"
      },
      {
       "current": "98a63df2-d364-11e8-a64b-02420aff0006-15-8cce-04e7-0c4f-80c6-0986-de5c-7bc5-bcaa-1d60-b71d",
       "next": "98a63e88-d364-11e8-a64b-02420aff0006-14-7496-de1d-a59c-e85f-7a19-a8d9-ec7b-5151-78d7-c7ae",
       "previous": "98a63d3e-d364-11e8-a64b-02420aff0006-14-1799-7139-6878-b3a6-54e6-8b2c-93a7-5ae3-d668-e7cc"
      },
      {
       "current": "98a63df2-d364-11e8-a64b-02420aff0006-16-04e7-0c4f-80c6-0986-de5c-7bc5-bcaa-1d60-b71d-3d52",
       "next": "98a63e88-d364-11e8-a64b-02420aff0006-15-de1d-a59c-e85f-7a19-a8d9-ec7b-5151-78d7-c7ae-0ac0",
       "previous": "98a63d3e-d364-11e8-a64b-02420aff0006-15-7139-6878-b3a6-54e6-8b2c-93a7-5ae3-d668-e7cc-6cbb"
      },
      {
       "current": "98a63df2-d364-11e8-a64b-02420aff0006-17-0c4f-80c6-0986-de5c-7bc5-bcaa-1d60-b71d-3d52-00a4",
       "next": "98a63e88-d364-11e8-a64b-02420aff0006-16-a59c-e85f-7a19-a8d9-ec7b-5151-78d7-c7ae-0ac0-efe7",
       "previous": "98a63d3e-d364-11e8-a64b-02420aff0006-16-6878-b3a6-54e6-8b2c-93a7-5ae3-d668-e7cc-6cbb-f9f7"
      }
     ],
     "next": "98a63e88-d364-11e8-a64b-02420aff0006-17-e85f-7a19-a8d9-ec7b-5151-78d7-c7ae-0ac0-efe7-b83f",
     "previous": "98a63d3e-d364-11e8-a64b-02420aff0006-17-b3a6-54e6-8b2c-93a7-5ae3-d668-e7cc-6cbb-f9f7-0ca3"
    },
    "run_through_control": {
     "frozen": false
    }
   },
   "outputs": [],
   "source": [
    "target_server = 'cwhub_nfs_server'\n",
    "\n",
    "!ansible -m ping {target_server} -l {target_group}"
   ]
  },
  {
   "cell_type": "markdown",
   "metadata": {
    "lc_cell_meme": {
     "current": "98a63e88-d364-11e8-a64b-02420aff0006-17-e85f-7a19-a8d9-ec7b-5151-78d7-c7ae-0ac0-efe7-b83f",
     "history": [
      {
       "current": "98a63e88-d364-11e8-a64b-02420aff0006-13-6848-7496-de1d-a59c-e85f-7a19-a8d9-ec7b-5151-78d7",
       "next": "98a63f0a-d364-11e8-a64b-02420aff0006-13-0389-418f-57f4-fe3e-2114-6190-a2b6-a290-c3b2-544e",
       "previous": "98a63df2-d364-11e8-a64b-02420aff0006-13-8079-ba4a-8cce-04e7-0c4f-80c6-0986-de5c-7bc5-bcaa"
      },
      {
       "current": "98a63e88-d364-11e8-a64b-02420aff0006-14-7496-de1d-a59c-e85f-7a19-a8d9-ec7b-5151-78d7-c7ae",
       "next": "98a63f0a-d364-11e8-a64b-02420aff0006-11-7d84-a3f3-0389-418f-57f4-fe3e-2114-1bfa-c7c6-920b",
       "previous": "98a63df2-d364-11e8-a64b-02420aff0006-13-8079-ba4a-8cce-04e7-0c4f-80c6-0986-de5c-7bc5-bcaa"
      },
      {
       "current": "98a63e88-d364-11e8-a64b-02420aff0006-15-de1d-a59c-e85f-7a19-a8d9-ec7b-5151-78d7-c7ae-0ac0",
       "next": "98a63f0a-d364-11e8-a64b-02420aff0006-12-a3f3-0389-418f-57f4-fe3e-2114-1bfa-c7c6-920b-3c7d",
       "previous": "98a63df2-d364-11e8-a64b-02420aff0006-14-ba4a-8cce-04e7-0c4f-80c6-0986-de5c-7bc5-bcaa-1d60"
      },
      {
       "current": "98a63e88-d364-11e8-a64b-02420aff0006-16-a59c-e85f-7a19-a8d9-ec7b-5151-78d7-c7ae-0ac0-efe7",
       "next": "98a63f0a-d364-11e8-a64b-02420aff0006-13-0389-418f-57f4-fe3e-2114-1bfa-c7c6-920b-3c7d-9d4a",
       "previous": "98a63df2-d364-11e8-a64b-02420aff0006-15-8cce-04e7-0c4f-80c6-0986-de5c-7bc5-bcaa-1d60-b71d"
      },
      {
       "current": "98a63e88-d364-11e8-a64b-02420aff0006-17-e85f-7a19-a8d9-ec7b-5151-78d7-c7ae-0ac0-efe7-b83f",
       "next": "98a63f0a-d364-11e8-a64b-02420aff0006-14-418f-57f4-fe3e-2114-1bfa-c7c6-920b-3c7d-9d4a-69d2",
       "previous": "98a63df2-d364-11e8-a64b-02420aff0006-16-04e7-0c4f-80c6-0986-de5c-7bc5-bcaa-1d60-b71d-3d52"
      }
     ],
     "next": "98a63f0a-d364-11e8-a64b-02420aff0006-15-57f4-fe3e-2114-1bfa-c7c6-920b-3c7d-9d4a-69d2-1735",
     "previous": "98a63df2-d364-11e8-a64b-02420aff0006-17-0c4f-80c6-0986-de5c-7bc5-bcaa-1d60-b71d-3d52-00a4"
    }
   },
   "source": [
    "clientとするnodeはAnsibleのgroup名で定義されている。対象が正しいか、Ansible pingモジュールで動作確認する。"
   ]
  },
  {
   "cell_type": "code",
   "execution_count": null,
   "metadata": {
    "ExecuteTime": {
     "end_time": "2019-04-19T06:13:52.540126Z",
     "start_time": "2019-04-19T06:13:44.546411Z"
    },
    "deletable": false,
    "editable": false,
    "lc_cell_meme": {
     "current": "98a63f0a-d364-11e8-a64b-02420aff0006-15-57f4-fe3e-2114-1bfa-c7c6-920b-3c7d-9d4a-69d2-1735",
     "execution_end_time": "2022-04-27T11:21:52.822984Z",
     "history": [
      {
       "current": "98a63f0a-d364-11e8-a64b-02420aff0006-11-7d84-a3f3-0389-418f-57f4-fe3e-2114-1bfa-c7c6-920b",
       "next": "98a63f0a-d364-11e8-a64b-02420aff0006-13-0389-418f-57f4-fe3e-2114-6190-a2b6-a290-c3b2-544e",
       "previous": "98a63e88-d364-11e8-a64b-02420aff0006-13-6848-7496-de1d-a59c-e85f-7a19-a8d9-ec7b-5151-78d7"
      },
      {
       "current": "98a63f0a-d364-11e8-a64b-02420aff0006-12-a3f3-0389-418f-57f4-fe3e-2114-1bfa-c7c6-920b-3c7d",
       "next": "e034bb30-d364-11e8-a64b-02420aff0006-13-874d-1996-08f3-ccf7-3376-005f-000b-d90b-9c2f-1386",
       "previous": "98a63e88-d364-11e8-a64b-02420aff0006-13-6848-7496-de1d-a59c-e85f-7a19-a8d9-ec7b-5151-78d7"
      },
      {
       "current": "98a63f0a-d364-11e8-a64b-02420aff0006-13-0389-418f-57f4-fe3e-2114-1bfa-c7c6-920b-3c7d-9d4a",
       "next": "e034bb30-d364-11e8-a64b-02420aff0006-14-1996-08f3-ccf7-3376-005f-000b-d90b-9c2f-1386-7c52",
       "previous": "98a63e88-d364-11e8-a64b-02420aff0006-14-7496-de1d-a59c-e85f-7a19-a8d9-ec7b-5151-78d7-c7ae"
      },
      {
       "current": "98a63f0a-d364-11e8-a64b-02420aff0006-14-418f-57f4-fe3e-2114-1bfa-c7c6-920b-3c7d-9d4a-69d2",
       "next": "e034bb30-d364-11e8-a64b-02420aff0006-15-08f3-ccf7-3376-005f-000b-d90b-9c2f-1386-7c52-1b24",
       "previous": "98a63e88-d364-11e8-a64b-02420aff0006-15-de1d-a59c-e85f-7a19-a8d9-ec7b-5151-78d7-c7ae-0ac0"
      },
      {
       "current": "98a63f0a-d364-11e8-a64b-02420aff0006-15-57f4-fe3e-2114-1bfa-c7c6-920b-3c7d-9d4a-69d2-1735",
       "next": "e034bb30-d364-11e8-a64b-02420aff0006-16-ccf7-3376-005f-000b-d90b-9c2f-1386-7c52-1b24-39cb",
       "previous": "98a63e88-d364-11e8-a64b-02420aff0006-16-a59c-e85f-7a19-a8d9-ec7b-5151-78d7-c7ae-0ac0-efe7"
      }
     ],
     "next": "e034bb30-d364-11e8-a64b-02420aff0006-17-3376-005f-000b-d90b-9c2f-1386-7c52-1b24-39cb-3aa3",
     "previous": "98a63e88-d364-11e8-a64b-02420aff0006-17-e85f-7a19-a8d9-ec7b-5151-78d7-c7ae-0ac0-efe7-b83f"
    },
    "run_through_control": {
     "frozen": false
    }
   },
   "outputs": [],
   "source": [
    "import json\n",
    "import re\n",
    "result = !ansible -m debug -a 'msg={{{{ nfsnodes_group }}}}' {target_server}\n",
    "firstline_pattern = re.compile(r'^.*\\s*\\=\\>\\s*({.*)$')\n",
    "result = '\\n'.join([firstline_pattern.match(result[0]).group(1)] + result[1:])\n",
    "target_nodes = json.loads(result)['msg']\n",
    "\n",
    "!ansible -m ping {target_nodes}"
   ]
  },
  {
   "cell_type": "markdown",
   "metadata": {
    "lc_cell_meme": {
     "current": "e034bb30-d364-11e8-a64b-02420aff0006-17-3376-005f-000b-d90b-9c2f-1386-7c52-1b24-39cb-3aa3",
     "history": [
      {
       "current": "e034bb30-d364-11e8-a64b-02420aff0006-13-874d-1996-08f3-ccf7-3376-005f-000b-d90b-9c2f-1386",
       "next": "27b66f6c-d365-11e8-a64b-02420aff0006-13-f279-c8ae-2ed6-9461-96b7-e0e8-20dc-3247-1ba3-487b",
       "previous": "98a63f0a-d364-11e8-a64b-02420aff0006-13-0389-418f-57f4-fe3e-2114-6190-a2b6-a290-c3b2-544e"
      },
      {
       "current": "e034bb30-d364-11e8-a64b-02420aff0006-14-1996-08f3-ccf7-3376-005f-000b-d90b-9c2f-1386-7c52",
       "next": "27b66f6c-d365-11e8-a64b-02420aff0006-13-f279-c8ae-2ed6-9461-96b7-e0e8-20dc-3247-1ba3-487b",
       "previous": "98a63f0a-d364-11e8-a64b-02420aff0006-11-7d84-a3f3-0389-418f-57f4-fe3e-2114-1bfa-c7c6-920b"
      },
      {
       "current": "e034bb30-d364-11e8-a64b-02420aff0006-15-08f3-ccf7-3376-005f-000b-d90b-9c2f-1386-7c52-1b24",
       "next": "27b66f6c-d365-11e8-a64b-02420aff0006-14-c8ae-2ed6-9461-96b7-e0e8-20dc-3247-1ba3-487b-096b",
       "previous": "98a63f0a-d364-11e8-a64b-02420aff0006-12-a3f3-0389-418f-57f4-fe3e-2114-1bfa-c7c6-920b-3c7d"
      },
      {
       "current": "e034bb30-d364-11e8-a64b-02420aff0006-16-ccf7-3376-005f-000b-d90b-9c2f-1386-7c52-1b24-39cb",
       "next": "27b66f6c-d365-11e8-a64b-02420aff0006-15-2ed6-9461-96b7-e0e8-20dc-3247-1ba3-487b-096b-759d",
       "previous": "98a63f0a-d364-11e8-a64b-02420aff0006-13-0389-418f-57f4-fe3e-2114-1bfa-c7c6-920b-3c7d-9d4a"
      },
      {
       "current": "e034bb30-d364-11e8-a64b-02420aff0006-17-3376-005f-000b-d90b-9c2f-1386-7c52-1b24-39cb-3aa3",
       "next": "27b66f6c-d365-11e8-a64b-02420aff0006-16-9461-96b7-e0e8-20dc-3247-1ba3-487b-096b-759d-4093",
       "previous": "98a63f0a-d364-11e8-a64b-02420aff0006-14-418f-57f4-fe3e-2114-1bfa-c7c6-920b-3c7d-9d4a-69d2"
      }
     ],
     "next": "27b66f6c-d365-11e8-a64b-02420aff0006-17-96b7-e0e8-20dc-3247-1ba3-487b-096b-759d-4093-1526",
     "previous": "98a63f0a-d364-11e8-a64b-02420aff0006-15-57f4-fe3e-2114-1bfa-c7c6-920b-3c7d-9d4a-69d2-1735"
    }
   },
   "source": [
    "各々のノードには、servicenet_ip変数が定義されている必要がある。"
   ]
  },
  {
   "cell_type": "code",
   "execution_count": null,
   "metadata": {
    "ExecuteTime": {
     "end_time": "2019-04-19T06:14:04.306729Z",
     "start_time": "2019-04-19T06:13:59.784674Z"
    },
    "deletable": false,
    "editable": false,
    "lc_cell_meme": {
     "current": "27b66f6c-d365-11e8-a64b-02420aff0006-17-96b7-e0e8-20dc-3247-1ba3-487b-096b-759d-4093-1526",
     "execution_end_time": "2022-04-27T11:21:56.507606Z",
     "history": [
      {
       "current": "27b66f6c-d365-11e8-a64b-02420aff0006-13-f279-c8ae-2ed6-9461-96b7-e0e8-20dc-3247-1ba3-487b",
       "next": "8d584fe2-d366-11e8-a64b-02420aff0006-12-4c31-6e4f-3c04-2a85-28ef-3103-2f59-f719-46bc-775f",
       "previous": "e034bb30-d364-11e8-a64b-02420aff0006-12-8e66-874d-1996-08f3-ccf7-3376-005f-000b-d90b-9c2f"
      },
      {
       "current": "27b66f6c-d365-11e8-a64b-02420aff0006-14-c8ae-2ed6-9461-96b7-e0e8-20dc-3247-1ba3-487b-096b",
       "next": "8d584fe2-d366-11e8-a64b-02420aff0006-13-6e4f-3c04-2a85-28ef-3103-2f59-f719-46bc-775f-e3bd",
       "previous": "e034bb30-d364-11e8-a64b-02420aff0006-13-874d-1996-08f3-ccf7-3376-005f-000b-d90b-9c2f-1386"
      },
      {
       "current": "27b66f6c-d365-11e8-a64b-02420aff0006-15-2ed6-9461-96b7-e0e8-20dc-3247-1ba3-487b-096b-759d",
       "next": "8d584fe2-d366-11e8-a64b-02420aff0006-14-3c04-2a85-28ef-3103-2f59-f719-46bc-775f-e3bd-589c",
       "previous": "e034bb30-d364-11e8-a64b-02420aff0006-14-1996-08f3-ccf7-3376-005f-000b-d90b-9c2f-1386-7c52"
      },
      {
       "current": "27b66f6c-d365-11e8-a64b-02420aff0006-16-9461-96b7-e0e8-20dc-3247-1ba3-487b-096b-759d-4093",
       "next": "8d584fe2-d366-11e8-a64b-02420aff0006-15-2a85-28ef-3103-2f59-f719-46bc-775f-e3bd-589c-e387",
       "previous": "e034bb30-d364-11e8-a64b-02420aff0006-15-08f3-ccf7-3376-005f-000b-d90b-9c2f-1386-7c52-1b24"
      },
      {
       "current": "27b66f6c-d365-11e8-a64b-02420aff0006-17-96b7-e0e8-20dc-3247-1ba3-487b-096b-759d-4093-1526",
       "next": "8d584fe2-d366-11e8-a64b-02420aff0006-16-28ef-3103-2f59-f719-46bc-775f-e3bd-589c-e387-eac9",
       "previous": "e034bb30-d364-11e8-a64b-02420aff0006-16-ccf7-3376-005f-000b-d90b-9c2f-1386-7c52-1b24-39cb"
      }
     ],
     "next": "8d584fe2-d366-11e8-a64b-02420aff0006-17-3103-2f59-f719-46bc-775f-e3bd-589c-e387-eac9-754a",
     "previous": "e034bb30-d364-11e8-a64b-02420aff0006-17-3376-005f-000b-d90b-9c2f-1386-7c52-1b24-39cb-3aa3"
    },
    "run_through_control": {
     "frozen": false
    },
    "scrolled": true
   },
   "outputs": [],
   "source": [
    "!ansible -m debug -a 'msg={{{{ servicenet_ip }}}}' {target_server} -l {target_group}\n",
    "!ansible -m debug -a 'msg={{{{ servicenet_ip }}}}' {target_nodes} -l {target_group}"
   ]
  },
  {
   "cell_type": "markdown",
   "metadata": {
    "lc_cell_meme": {
     "current": "8d584fe2-d366-11e8-a64b-02420aff0006-17-3103-2f59-f719-46bc-775f-e3bd-589c-e387-eac9-754a",
     "history": [
      {
       "current": "8d584fe2-d366-11e8-a64b-02420aff0006-13-6e4f-3c04-2a85-28ef-3103-2f59-f719-46bc-775f-e3bd",
       "next": "8d585244-d366-11e8-a64b-02420aff0006-12-344c-c58e-1eaf-1aea-69be-28be-4d1a-ce16-d786-d1ac",
       "previous": "27b66f6c-d365-11e8-a64b-02420aff0006-12-7b0c-f279-c8ae-2ed6-9461-96b7-e0e8-20dc-3247-1ba3"
      },
      {
       "current": "8d584fe2-d366-11e8-a64b-02420aff0006-14-3c04-2a85-28ef-3103-2f59-f719-46bc-775f-e3bd-589c",
       "next": "8d585244-d366-11e8-a64b-02420aff0006-13-c58e-1eaf-1aea-69be-28be-4d1a-ce16-d786-d1ac-bd28",
       "previous": "27b66f6c-d365-11e8-a64b-02420aff0006-13-f279-c8ae-2ed6-9461-96b7-e0e8-20dc-3247-1ba3-487b"
      },
      {
       "current": "8d584fe2-d366-11e8-a64b-02420aff0006-15-2a85-28ef-3103-2f59-f719-46bc-775f-e3bd-589c-e387",
       "next": "8d585244-d366-11e8-a64b-02420aff0006-14-1eaf-1aea-69be-28be-4d1a-ce16-d786-d1ac-bd28-432c",
       "previous": "27b66f6c-d365-11e8-a64b-02420aff0006-14-c8ae-2ed6-9461-96b7-e0e8-20dc-3247-1ba3-487b-096b"
      },
      {
       "current": "8d584fe2-d366-11e8-a64b-02420aff0006-16-28ef-3103-2f59-f719-46bc-775f-e3bd-589c-e387-eac9",
       "next": "8d585244-d366-11e8-a64b-02420aff0006-15-1aea-69be-28be-4d1a-ce16-d786-d1ac-bd28-432c-067c",
       "previous": "27b66f6c-d365-11e8-a64b-02420aff0006-15-2ed6-9461-96b7-e0e8-20dc-3247-1ba3-487b-096b-759d"
      },
      {
       "current": "8d584fe2-d366-11e8-a64b-02420aff0006-17-3103-2f59-f719-46bc-775f-e3bd-589c-e387-eac9-754a",
       "next": "8d585244-d366-11e8-a64b-02420aff0006-16-69be-28be-4d1a-ce16-d786-d1ac-bd28-432c-067c-5782",
       "previous": "27b66f6c-d365-11e8-a64b-02420aff0006-16-9461-96b7-e0e8-20dc-3247-1ba3-487b-096b-759d-4093"
      }
     ],
     "next": "8d585244-d366-11e8-a64b-02420aff0006-17-28be-4d1a-ce16-d786-d1ac-bd28-432c-067c-5782-4a17",
     "previous": "27b66f6c-d365-11e8-a64b-02420aff0006-17-96b7-e0e8-20dc-3247-1ba3-487b-096b-759d-4093-1526"
    }
   },
   "source": [
    "デフォルトユーザを取得しておく。"
   ]
  },
  {
   "cell_type": "code",
   "execution_count": null,
   "metadata": {
    "ExecuteTime": {
     "end_time": "2019-04-19T06:14:10.572604Z",
     "start_time": "2019-04-19T06:14:06.655083Z"
    },
    "deletable": false,
    "editable": false,
    "lc_cell_meme": {
     "current": "8d585244-d366-11e8-a64b-02420aff0006-17-28be-4d1a-ce16-d786-d1ac-bd28-432c-067c-5782-4a17",
     "execution_end_time": "2022-04-27T11:21:57.756875Z",
     "history": [
      {
       "current": "8d585244-d366-11e8-a64b-02420aff0006-13-c58e-1eaf-1aea-69be-28be-4d1a-ce16-d786-d1ac-bd28",
       "next": "d52f0f4a-d366-11e8-a64b-02420aff0006-12-6d59-61ec-d996-1aaa-1e10-85cc-e85a-3507-61c7-9933",
       "previous": "8d584fe2-d366-11e8-a64b-02420aff0006-12-4c31-6e4f-3c04-2a85-28ef-3103-2f59-f719-46bc-775f"
      },
      {
       "current": "8d585244-d366-11e8-a64b-02420aff0006-14-1eaf-1aea-69be-28be-4d1a-ce16-d786-d1ac-bd28-432c",
       "next": "0beee363-8e2f-11ec-b896-6b42dc3e1973",
       "previous": "8d584fe2-d366-11e8-a64b-02420aff0006-13-6e4f-3c04-2a85-28ef-3103-2f59-f719-46bc-775f-e3bd"
      },
      {
       "current": "8d585244-d366-11e8-a64b-02420aff0006-15-1aea-69be-28be-4d1a-ce16-d786-d1ac-bd28-432c-067c",
       "next": "d52f0f4a-d366-11e8-a64b-02420aff0006-13-61ec-d996-1aaa-1e10-85cc-e85a-3507-61c7-9933-379c",
       "previous": "8d584fe2-d366-11e8-a64b-02420aff0006-14-3c04-2a85-28ef-3103-2f59-f719-46bc-775f-e3bd-589c"
      },
      {
       "current": "8d585244-d366-11e8-a64b-02420aff0006-16-69be-28be-4d1a-ce16-d786-d1ac-bd28-432c-067c-5782",
       "next": "d52f0f4a-d366-11e8-a64b-02420aff0006-14-d996-1aaa-1e10-85cc-e85a-3507-61c7-9933-379c-dafe",
       "previous": "8d584fe2-d366-11e8-a64b-02420aff0006-15-2a85-28ef-3103-2f59-f719-46bc-775f-e3bd-589c-e387"
      },
      {
       "current": "8d585244-d366-11e8-a64b-02420aff0006-17-28be-4d1a-ce16-d786-d1ac-bd28-432c-067c-5782-4a17",
       "next": "d52f0f4a-d366-11e8-a64b-02420aff0006-15-1aaa-1e10-85cc-e85a-3507-61c7-9933-379c-dafe-f80c",
       "previous": "8d584fe2-d366-11e8-a64b-02420aff0006-16-28ef-3103-2f59-f719-46bc-775f-e3bd-589c-e387-eac9"
      }
     ],
     "next": "d52f0f4a-d366-11e8-a64b-02420aff0006-16-1e10-85cc-e85a-3507-61c7-9933-379c-dafe-f80c-af08",
     "previous": "8d584fe2-d366-11e8-a64b-02420aff0006-17-3103-2f59-f719-46bc-775f-e3bd-589c-e387-eac9-754a"
    },
    "run_through_control": {
     "frozen": false
    }
   },
   "outputs": [],
   "source": [
    "result = !ansible -a whoami {target_server}\n",
    "default_user = result[1]\n",
    "default_user"
   ]
  },
  {
   "cell_type": "markdown",
   "metadata": {
    "lc_cell_meme": {
     "current": "d52f0f4a-d366-11e8-a64b-02420aff0006-16-1e10-85cc-e85a-3507-61c7-9933-379c-dafe-f80c-af08",
     "history": [
      {
       "current": "d52f0f4a-d366-11e8-a64b-02420aff0006-13-61ec-d996-1aaa-1e10-85cc-e85a-3507-61c7-9933-379c",
       "next": "b37197ee-0f96-11ec-838f-c7638f7e44c5-1-edbb",
       "previous": "8d585244-d366-11e8-a64b-02420aff0006-12-344c-c58e-1eaf-1aea-69be-28be-4d1a-ce16-d786-d1ac"
      },
      {
       "current": "d52f0f4a-d366-11e8-a64b-02420aff0006-13-61ec-d996-1aaa-1e10-85cc-e85a-3507-61c7-9933-379c",
       "next": "b37197ee-0f96-11ec-838f-c7638f7e44c5-2-edbb-af43",
       "previous": "8d585244-d366-11e8-a64b-02420aff0006-13-c58e-1eaf-1aea-69be-28be-4d1a-ce16-d786-d1ac-6ea8"
      },
      {
       "current": "d52f0f4a-d366-11e8-a64b-02420aff0006-14-d996-1aaa-1e10-85cc-e85a-3507-61c7-9933-379c-dafe",
       "next": "b37197ee-0f96-11ec-838f-c7638f7e44c5-2-edbb-af43",
       "previous": "8d585244-d366-11e8-a64b-02420aff0006-14-1eaf-1aea-69be-28be-4d1a-ce16-d786-d1ac-bd28-432c"
      },
      {
       "current": "d52f0f4a-d366-11e8-a64b-02420aff0006-15-1aaa-1e10-85cc-e85a-3507-61c7-9933-379c-dafe-f80c",
       "next": "b37197ee-0f96-11ec-838f-c7638f7e44c5-3-edbb-af43-534a",
       "previous": "8d585244-d366-11e8-a64b-02420aff0006-15-1aea-69be-28be-4d1a-ce16-d786-d1ac-bd28-432c-067c"
      },
      {
       "current": "d52f0f4a-d366-11e8-a64b-02420aff0006-16-1e10-85cc-e85a-3507-61c7-9933-379c-dafe-f80c-af08",
       "next": "b37197ee-0f96-11ec-838f-c7638f7e44c5-4-edbb-af43-534a-1ecb",
       "previous": "8d585244-d366-11e8-a64b-02420aff0006-16-69be-28be-4d1a-ce16-d786-d1ac-bd28-432c-067c-5782"
      }
     ],
     "next": "b37197ee-0f96-11ec-838f-c7638f7e44c5-5-edbb-af43-534a-1ecb-5a53",
     "previous": "8d585244-d366-11e8-a64b-02420aff0006-17-28be-4d1a-ce16-d786-d1ac-bd28-432c-067c-5782-4a17"
    }
   },
   "source": [
    "# Playbookの準備"
   ]
  },
  {
   "cell_type": "code",
   "execution_count": null,
   "metadata": {
    "deletable": false,
    "editable": false,
    "lc_cell_meme": {
     "current": "b37197ee-0f96-11ec-838f-c7638f7e44c5-5-edbb-af43-534a-1ecb-5a53",
     "execution_end_time": "2022-04-27T11:28:11.417277Z",
     "history": [
      {
       "current": "b37197ee-0f96-11ec-838f-c7638f7e44c5-1-edbb",
       "next": "1c5e3846-d367-11e8-a64b-02420aff0006-11-6936-49ce-bcd7-b336-cdbc-8d8c-0377-34ec-ef11-6805",
       "previous": "d52f0f4a-d366-11e8-a64b-02420aff0006-11-9a7a-6d59-61ec-d996-1aaa-1e10-85cc-e85a-3507-61c7"
      },
      {
       "current": "b37197ee-0f96-11ec-838f-c7638f7e44c5-2-edbb-af43",
       "next": "1c5e3846-d367-11e8-a64b-02420aff0006-12-49ce-bcd7-b336-cdbc-8d8c-0377-34ec-ef11-6805-2e9b",
       "previous": "d52f0f4a-d366-11e8-a64b-02420aff0006-12-6d59-61ec-d996-1aaa-1e10-85cc-e85a-3507-61c7-9933"
      },
      {
       "current": "b37197ee-0f96-11ec-838f-c7638f7e44c5-3-edbb-af43-534a",
       "next": "1c5e3846-d367-11e8-a64b-02420aff0006-13-bcd7-b336-cdbc-8d8c-0377-34ec-ef11-6805-2e9b-774e",
       "previous": "d52f0f4a-d366-11e8-a64b-02420aff0006-13-61ec-d996-1aaa-1e10-85cc-e85a-3507-61c7-9933-379c"
      },
      {
       "current": "b37197ee-0f96-11ec-838f-c7638f7e44c5-4-edbb-af43-534a-1ecb",
       "next": "1c5e3846-d367-11e8-a64b-02420aff0006-14-b336-cdbc-8d8c-0377-34ec-ef11-6805-2e9b-774e-5537",
       "previous": "d52f0f4a-d366-11e8-a64b-02420aff0006-14-d996-1aaa-1e10-85cc-e85a-3507-61c7-9933-379c-dafe"
      },
      {
       "current": "b37197ee-0f96-11ec-838f-c7638f7e44c5-5-edbb-af43-534a-1ecb-5a53",
       "next": "1c5e3846-d367-11e8-a64b-02420aff0006-15-cdbc-8d8c-0377-34ec-ef11-6805-2e9b-774e-5537-6fd8",
       "previous": "d52f0f4a-d366-11e8-a64b-02420aff0006-15-1aaa-1e10-85cc-e85a-3507-61c7-9933-379c-dafe-f80c"
      }
     ],
     "next": "1c5e3846-d367-11e8-a64b-02420aff0006-16-8d8c-0377-34ec-ef11-6805-2e9b-774e-5537-6fd8-5dcc",
     "previous": "d52f0f4a-d366-11e8-a64b-02420aff0006-16-1e10-85cc-e85a-3507-61c7-9933-379c-dafe-f80c-af08"
    },
    "run_through_control": {
     "frozen": false
    }
   },
   "outputs": [],
   "source": [
    "import tempfile\n",
    "work_dir = tempfile.mkdtemp()\n",
    "work_dir"
   ]
  },
  {
   "cell_type": "code",
   "execution_count": null,
   "metadata": {
    "ExecuteTime": {
     "end_time": "2019-04-19T06:14:49.245986Z",
     "start_time": "2019-04-19T06:14:39.902752Z"
    },
    "deletable": false,
    "editable": false,
    "lc_cell_meme": {
     "current": "1c5e3846-d367-11e8-a64b-02420aff0006-16-8d8c-0377-34ec-ef11-6805-2e9b-774e-5537-6fd8-5dcc",
     "execution_end_time": "2022-04-27T11:28:18.224170Z",
     "history": [
      {
       "current": "1c5e3846-d367-11e8-a64b-02420aff0006-12-49ce-bcd7-b336-cdbc-8d8c-0377-34ec-ef11-6805-2e9b",
       "next": "aca1a88c-ab10-11e7-a38f-0242ac120002-11-5ab2-0d7d-22c9-917c-13a9-8c56-c9dd-c49d-29fd-66c9",
       "previous": "b37197ee-0f96-11ec-838f-c7638f7e44c5"
      },
      {
       "current": "1c5e3846-d367-11e8-a64b-02420aff0006-13-bcd7-b336-cdbc-8d8c-0377-34ec-ef11-6805-2e9b-774e",
       "next": "aca1a88c-ab10-11e7-a38f-0242ac120002-12-0d7d-22c9-917c-13a9-8c56-c9dd-c49d-29fd-66c9-15ca",
       "previous": "b37197ee-0f96-11ec-838f-c7638f7e44c5-1-edbb"
      },
      {
       "current": "1c5e3846-d367-11e8-a64b-02420aff0006-14-b336-cdbc-8d8c-0377-34ec-ef11-6805-2e9b-774e-5537",
       "next": "aca1a88c-ab10-11e7-a38f-0242ac120002-13-22c9-917c-13a9-8c56-c9dd-c49d-29fd-66c9-15ca-510c",
       "previous": "b37197ee-0f96-11ec-838f-c7638f7e44c5-2-edbb-af43"
      },
      {
       "current": "1c5e3846-d367-11e8-a64b-02420aff0006-15-cdbc-8d8c-0377-34ec-ef11-6805-2e9b-774e-5537-6fd8",
       "next": "aca1a88c-ab10-11e7-a38f-0242ac120002-14-917c-13a9-8c56-c9dd-c49d-29fd-66c9-15ca-510c-8e18",
       "previous": "b37197ee-0f96-11ec-838f-c7638f7e44c5-3-edbb-af43-534a"
      },
      {
       "current": "1c5e3846-d367-11e8-a64b-02420aff0006-16-8d8c-0377-34ec-ef11-6805-2e9b-774e-5537-6fd8-5dcc",
       "next": "aca1a88c-ab10-11e7-a38f-0242ac120002-15-13a9-8c56-c9dd-c49d-29fd-66c9-15ca-510c-8e18-2b47",
       "previous": "b37197ee-0f96-11ec-838f-c7638f7e44c5-4-edbb-af43-534a-1ecb"
      }
     ],
     "next": "aca1a88c-ab10-11e7-a38f-0242ac120002-16-8c56-c9dd-c49d-29fd-66c9-15ca-510c-8e18-2b47-b0dc",
     "previous": "b37197ee-0f96-11ec-838f-c7638f7e44c5-5-edbb-af43-534a-1ecb-5a53"
    },
    "run_through_control": {
     "frozen": false
    }
   },
   "outputs": [],
   "source": [
    "!rm -fr {work_dir}/jupyterhub-deploy\n",
    "!git clone https://github.com/NII-cloud-operation/CoursewareHub-LC_jupyterhub-deploy.git {work_dir}/jupyterhub-deploy"
   ]
  },
  {
   "cell_type": "markdown",
   "metadata": {
    "lc_cell_meme": {
     "current": "aca1a88c-ab10-11e7-a38f-0242ac120002-16-8c56-c9dd-c49d-29fd-66c9-15ca-510c-8e18-2b47-b0dc",
     "history": [
      {
       "current": "aca1a88c-ab10-11e7-a38f-0242ac120002-12-0d7d-22c9-917c-13a9-8c56-c9dd-c49d-29fd-66c9-15ca",
       "next": "aca1ace2-ab10-11e7-a38f-0242ac120002-11-e930-a9fe-3bdb-286b-a475-a3ba-6f95-4f2e-955f-eb15",
       "previous": "1c5e3846-d367-11e8-a64b-02420aff0006-11-6936-49ce-bcd7-b336-cdbc-8d8c-0377-34ec-ef11-6805"
      },
      {
       "current": "aca1a88c-ab10-11e7-a38f-0242ac120002-13-22c9-917c-13a9-8c56-c9dd-c49d-29fd-66c9-15ca-510c",
       "next": "aca1ace2-ab10-11e7-a38f-0242ac120002-12-a9fe-3bdb-286b-a475-a3ba-6f95-4f2e-955f-eb15-4343",
       "previous": "1c5e3846-d367-11e8-a64b-02420aff0006-12-49ce-bcd7-b336-cdbc-8d8c-0377-34ec-ef11-6805-2e9b"
      },
      {
       "current": "aca1a88c-ab10-11e7-a38f-0242ac120002-14-917c-13a9-8c56-c9dd-c49d-29fd-66c9-15ca-510c-8e18",
       "next": "aca1ace2-ab10-11e7-a38f-0242ac120002-13-3bdb-286b-a475-a3ba-6f95-4f2e-955f-eb15-4343-ef54",
       "previous": "1c5e3846-d367-11e8-a64b-02420aff0006-13-bcd7-b336-cdbc-8d8c-0377-34ec-ef11-6805-2e9b-774e"
      },
      {
       "current": "aca1a88c-ab10-11e7-a38f-0242ac120002-15-13a9-8c56-c9dd-c49d-29fd-66c9-15ca-510c-8e18-2b47",
       "next": "aca1ace2-ab10-11e7-a38f-0242ac120002-14-286b-a475-a3ba-6f95-4f2e-955f-eb15-4343-ef54-e403",
       "previous": "1c5e3846-d367-11e8-a64b-02420aff0006-14-b336-cdbc-8d8c-0377-34ec-ef11-6805-2e9b-774e-5537"
      },
      {
       "current": "aca1a88c-ab10-11e7-a38f-0242ac120002-16-8c56-c9dd-c49d-29fd-66c9-15ca-510c-8e18-2b47-b0dc",
       "next": "aca1ace2-ab10-11e7-a38f-0242ac120002-15-a475-a3ba-6f95-4f2e-955f-eb15-4343-ef54-e403-b80b",
       "previous": "1c5e3846-d367-11e8-a64b-02420aff0006-15-cdbc-8d8c-0377-34ec-ef11-6805-2e9b-774e-5537-6fd8"
      }
     ],
     "next": "aca1ace2-ab10-11e7-a38f-0242ac120002-16-a3ba-6f95-4f2e-955f-eb15-4343-ef54-e403-b80b-596a",
     "previous": "1c5e3846-d367-11e8-a64b-02420aff0006-16-8d8c-0377-34ec-ef11-6805-2e9b-774e-5537-6fd8-5dcc"
    }
   },
   "source": [
    "Check the roles..."
   ]
  },
  {
   "cell_type": "code",
   "execution_count": null,
   "metadata": {
    "ExecuteTime": {
     "end_time": "2019-04-19T06:14:51.266711Z",
     "start_time": "2019-04-19T06:14:50.556606Z"
    },
    "deletable": false,
    "editable": false,
    "lc_cell_meme": {
     "current": "aca1ace2-ab10-11e7-a38f-0242ac120002-16-a3ba-6f95-4f2e-955f-eb15-4343-ef54-e403-b80b-596a",
     "execution_end_time": "2022-04-27T11:28:19.667452Z",
     "history": [
      {
       "current": "aca1ace2-ab10-11e7-a38f-0242ac120002-12-a9fe-3bdb-286b-a475-a3ba-6f95-4f2e-955f-eb15-4343",
       "next": "236effb4-3b60-11ea-9fe0-0242ac120002-11-637a-8050-58a1-acb1-4707-0122-7275-e18d-317b-3116",
       "previous": "aca1a88c-ab10-11e7-a38f-0242ac120002-11-5ab2-0d7d-22c9-917c-13a9-8c56-c9dd-c49d-29fd-66c9"
      },
      {
       "current": "aca1ace2-ab10-11e7-a38f-0242ac120002-13-3bdb-286b-a475-a3ba-6f95-4f2e-955f-eb15-4343-ef54",
       "next": "236effb4-3b60-11ea-9fe0-0242ac120002-12-8050-58a1-acb1-4707-0122-7275-e18d-317b-3116-620d",
       "previous": "aca1a88c-ab10-11e7-a38f-0242ac120002-12-0d7d-22c9-917c-13a9-8c56-c9dd-c49d-29fd-66c9-15ca"
      },
      {
       "current": "aca1ace2-ab10-11e7-a38f-0242ac120002-14-286b-a475-a3ba-6f95-4f2e-955f-eb15-4343-ef54-e403",
       "next": "236effb4-3b60-11ea-9fe0-0242ac120002-13-58a1-acb1-4707-0122-7275-e18d-317b-3116-620d-41e9",
       "previous": "aca1a88c-ab10-11e7-a38f-0242ac120002-13-22c9-917c-13a9-8c56-c9dd-c49d-29fd-66c9-15ca-510c"
      },
      {
       "current": "aca1ace2-ab10-11e7-a38f-0242ac120002-15-a475-a3ba-6f95-4f2e-955f-eb15-4343-ef54-e403-b80b",
       "next": "236effb4-3b60-11ea-9fe0-0242ac120002-14-acb1-4707-0122-7275-e18d-317b-3116-620d-41e9-fef8",
       "previous": "aca1a88c-ab10-11e7-a38f-0242ac120002-14-917c-13a9-8c56-c9dd-c49d-29fd-66c9-15ca-510c-8e18"
      },
      {
       "current": "aca1ace2-ab10-11e7-a38f-0242ac120002-16-a3ba-6f95-4f2e-955f-eb15-4343-ef54-e403-b80b-596a",
       "next": "236effb4-3b60-11ea-9fe0-0242ac120002-15-4707-0122-7275-e18d-317b-3116-620d-41e9-fef8-4067",
       "previous": "aca1a88c-ab10-11e7-a38f-0242ac120002-15-13a9-8c56-c9dd-c49d-29fd-66c9-15ca-510c-8e18-2b47"
      }
     ],
     "next": "236effb4-3b60-11ea-9fe0-0242ac120002-16-0122-7275-e18d-317b-3116-620d-41e9-fef8-4067-db3d",
     "previous": "aca1a88c-ab10-11e7-a38f-0242ac120002-16-8c56-c9dd-c49d-29fd-66c9-15ca-510c-8e18-2b47-b0dc"
    },
    "run_through_control": {
     "frozen": false
    }
   },
   "outputs": [],
   "source": [
    "!ls -la {work_dir}/jupyterhub-deploy/roles"
   ]
  },
  {
   "cell_type": "code",
   "execution_count": null,
   "metadata": {
    "deletable": false,
    "editable": false,
    "lc_cell_meme": {
     "current": "236effb4-3b60-11ea-9fe0-0242ac120002-16-0122-7275-e18d-317b-3116-620d-41e9-fef8-4067-db3d",
     "execution_end_time": "2022-04-27T11:28:21.829840Z",
     "history": [
      {
       "current": "236effb4-3b60-11ea-9fe0-0242ac120002-12-8050-58a1-acb1-4707-0122-7275-e18d-317b-3116-620d",
       "next": "a67c3d98-ab1d-11e7-a38f-0242ac120002-11-1f59-cb60-c0cf-85cb-2ed6-9d9a-a167-4c1b-71c5-6f62",
       "previous": "aca1ace2-ab10-11e7-a38f-0242ac120002-11-e930-a9fe-3bdb-286b-a475-a3ba-6f95-4f2e-955f-eb15"
      },
      {
       "current": "236effb4-3b60-11ea-9fe0-0242ac120002-13-58a1-acb1-4707-0122-7275-e18d-317b-3116-620d-41e9",
       "next": "a67c3d98-ab1d-11e7-a38f-0242ac120002-12-cb60-c0cf-85cb-2ed6-9d9a-a167-4c1b-71c5-6f62-73b6",
       "previous": "aca1ace2-ab10-11e7-a38f-0242ac120002-12-a9fe-3bdb-286b-a475-a3ba-6f95-4f2e-955f-eb15-4343"
      },
      {
       "current": "236effb4-3b60-11ea-9fe0-0242ac120002-14-acb1-4707-0122-7275-e18d-317b-3116-620d-41e9-fef8",
       "next": "a67c3d98-ab1d-11e7-a38f-0242ac120002-13-c0cf-85cb-2ed6-9d9a-a167-4c1b-71c5-6f62-73b6-6650",
       "previous": "aca1ace2-ab10-11e7-a38f-0242ac120002-13-3bdb-286b-a475-a3ba-6f95-4f2e-955f-eb15-4343-ef54"
      },
      {
       "current": "236effb4-3b60-11ea-9fe0-0242ac120002-15-4707-0122-7275-e18d-317b-3116-620d-41e9-fef8-4067",
       "next": "a67c3d98-ab1d-11e7-a38f-0242ac120002-14-85cb-2ed6-9d9a-a167-4c1b-71c5-6f62-73b6-6650-b059",
       "previous": "aca1ace2-ab10-11e7-a38f-0242ac120002-14-286b-a475-a3ba-6f95-4f2e-955f-eb15-4343-ef54-e403"
      },
      {
       "current": "236effb4-3b60-11ea-9fe0-0242ac120002-16-0122-7275-e18d-317b-3116-620d-41e9-fef8-4067-db3d",
       "next": "a67c3d98-ab1d-11e7-a38f-0242ac120002-15-2ed6-9d9a-a167-4c1b-71c5-6f62-73b6-6650-b059-bbc3",
       "previous": "aca1ace2-ab10-11e7-a38f-0242ac120002-15-a475-a3ba-6f95-4f2e-955f-eb15-4343-ef54-e403-b80b"
      }
     ],
     "next": "a67c3d98-ab1d-11e7-a38f-0242ac120002-16-9d9a-a167-4c1b-71c5-6f62-73b6-6650-b059-bbc3-ea39",
     "previous": "aca1ace2-ab10-11e7-a38f-0242ac120002-16-a3ba-6f95-4f2e-955f-eb15-4343-ef54-e403-b80b-596a"
    },
    "run_through_control": {
     "frozen": false
    },
    "scrolled": true
   },
   "outputs": [],
   "source": [
    "!cd {work_dir}/jupyterhub-deploy/ && git log -n 5"
   ]
  },
  {
   "cell_type": "markdown",
   "metadata": {
    "lc_cell_meme": {
     "current": "a67c3d98-ab1d-11e7-a38f-0242ac120002-16-9d9a-a167-4c1b-71c5-6f62-73b6-6650-b059-bbc3-ea39",
     "history": [
      {
       "current": "a67c3d98-ab1d-11e7-a38f-0242ac120002-12-cb60-c0cf-85cb-2ed6-9d9a-a167-4c1b-71c5-6f62-73b6",
       "next": "6815ec6e-384e-11ea-9fe0-0242ac120002-13-c621-76d5-a803-813e-fe43-bbc5-e5a6-e214-fd24-c21e",
       "previous": "236effb4-3b60-11ea-9fe0-0242ac120002-11-637a-8050-58a1-acb1-4707-0122-7275-e18d-317b-3116"
      },
      {
       "current": "a67c3d98-ab1d-11e7-a38f-0242ac120002-13-c0cf-85cb-2ed6-9d9a-a167-4c1b-71c5-6f62-73b6-6650",
       "next": "6815ec6e-384e-11ea-9fe0-0242ac120002-14-76d5-a803-813e-fe43-bbc5-e5a6-e214-fd24-c21e-1fc1",
       "previous": "236effb4-3b60-11ea-9fe0-0242ac120002-12-8050-58a1-acb1-4707-0122-7275-e18d-317b-3116-620d"
      },
      {
       "current": "a67c3d98-ab1d-11e7-a38f-0242ac120002-14-85cb-2ed6-9d9a-a167-4c1b-71c5-6f62-73b6-6650-b059",
       "next": "6815ec6e-384e-11ea-9fe0-0242ac120002-15-a803-813e-fe43-bbc5-e5a6-e214-fd24-c21e-1fc1-1c75",
       "previous": "236effb4-3b60-11ea-9fe0-0242ac120002-13-58a1-acb1-4707-0122-7275-e18d-317b-3116-620d-41e9"
      },
      {
       "current": "a67c3d98-ab1d-11e7-a38f-0242ac120002-15-2ed6-9d9a-a167-4c1b-71c5-6f62-73b6-6650-b059-bbc3",
       "next": "6815ec6e-384e-11ea-9fe0-0242ac120002-16-813e-fe43-bbc5-e5a6-e214-fd24-c21e-1fc1-1c75-d2f6",
       "previous": "236effb4-3b60-11ea-9fe0-0242ac120002-14-acb1-4707-0122-7275-e18d-317b-3116-620d-41e9-fef8"
      },
      {
       "current": "a67c3d98-ab1d-11e7-a38f-0242ac120002-16-9d9a-a167-4c1b-71c5-6f62-73b6-6650-b059-bbc3-ea39",
       "next": "6815ec6e-384e-11ea-9fe0-0242ac120002-17-fe43-bbc5-e5a6-e214-fd24-c21e-1fc1-1c75-d2f6-b88a",
       "previous": "236effb4-3b60-11ea-9fe0-0242ac120002-15-4707-0122-7275-e18d-317b-3116-620d-41e9-fef8-4067"
      }
     ],
     "next": "6815ec6e-384e-11ea-9fe0-0242ac120002-18-bbc5-e5a6-e214-fd24-c21e-1fc1-1c75-d2f6-b88a-845a",
     "previous": "236effb4-3b60-11ea-9fe0-0242ac120002-16-0122-7275-e18d-317b-3116-620d-41e9-fef8-4067-db3d"
    }
   },
   "source": [
    "# NFS serverのインストールと設定"
   ]
  },
  {
   "cell_type": "markdown",
   "metadata": {
    "lc_cell_meme": {
     "current": "6815ec6e-384e-11ea-9fe0-0242ac120002-18-bbc5-e5a6-e214-fd24-c21e-1fc1-1c75-d2f6-b88a-845a",
     "history": [
      {
       "current": "6815ec6e-384e-11ea-9fe0-0242ac120002-14-76d5-a803-813e-fe43-bbc5-e5a6-e214-fd24-c21e-1fc1",
       "next": "af9d48d4-384e-11ea-9fe0-0242ac120002-11-0854-14ee-9503-b0e2-073b-9be7-94f1-d1ba-78dc-8bcc",
       "previous": "a67c3d98-ab1d-11e7-a38f-0242ac120002-11-1f59-cb60-c0cf-85cb-2ed6-9d9a-a167-4c1b-71c5-6f62"
      },
      {
       "current": "6815ec6e-384e-11ea-9fe0-0242ac120002-15-a803-813e-fe43-bbc5-e5a6-e214-fd24-c21e-1fc1-1c75",
       "next": "af9d48d4-384e-11ea-9fe0-0242ac120002-12-14ee-9503-b0e2-073b-9be7-94f1-d1ba-78dc-8bcc-7321",
       "previous": "a67c3d98-ab1d-11e7-a38f-0242ac120002-12-cb60-c0cf-85cb-2ed6-9d9a-a167-4c1b-71c5-6f62-73b6"
      },
      {
       "current": "6815ec6e-384e-11ea-9fe0-0242ac120002-16-813e-fe43-bbc5-e5a6-e214-fd24-c21e-1fc1-1c75-d2f6",
       "next": "af9d48d4-384e-11ea-9fe0-0242ac120002-13-9503-b0e2-073b-9be7-94f1-d1ba-78dc-8bcc-7321-2bb1",
       "previous": "a67c3d98-ab1d-11e7-a38f-0242ac120002-13-c0cf-85cb-2ed6-9d9a-a167-4c1b-71c5-6f62-73b6-6650"
      },
      {
       "current": "6815ec6e-384e-11ea-9fe0-0242ac120002-17-fe43-bbc5-e5a6-e214-fd24-c21e-1fc1-1c75-d2f6-b88a",
       "next": "af9d48d4-384e-11ea-9fe0-0242ac120002-14-b0e2-073b-9be7-94f1-d1ba-78dc-8bcc-7321-2bb1-c3c1",
       "previous": "a67c3d98-ab1d-11e7-a38f-0242ac120002-14-85cb-2ed6-9d9a-a167-4c1b-71c5-6f62-73b6-6650-b059"
      },
      {
       "current": "6815ec6e-384e-11ea-9fe0-0242ac120002-18-bbc5-e5a6-e214-fd24-c21e-1fc1-1c75-d2f6-b88a-845a",
       "next": "af9d48d4-384e-11ea-9fe0-0242ac120002-15-073b-9be7-94f1-d1ba-78dc-8bcc-7321-2bb1-c3c1-af32",
       "previous": "a67c3d98-ab1d-11e7-a38f-0242ac120002-15-2ed6-9d9a-a167-4c1b-71c5-6f62-73b6-6650-b059-bbc3"
      }
     ],
     "next": "af9d48d4-384e-11ea-9fe0-0242ac120002-16-9be7-94f1-d1ba-78dc-8bcc-7321-2bb1-c3c1-af32-6108",
     "previous": "a67c3d98-ab1d-11e7-a38f-0242ac120002-16-9d9a-a167-4c1b-71c5-6f62-73b6-6650-b059-bbc3-ea39"
    }
   },
   "source": [
    "NFSサーバーとCoursewareHubのmasterノードが共用の場合は、以下のAnsible roleを使用する。\n",
    "\n",
    "`nfs_server_roles = ['nfs_server']`\n",
    "\n",
    "NFSサーバーとCousewareHubのmasterノードを分離する場合は、以下のAnsible roleを使用する。\n",
    "\n",
    "`nfs_server_roles = ['nfs_server_dedicated']`"
   ]
  },
  {
   "cell_type": "code",
   "execution_count": null,
   "metadata": {
    "deletable": false,
    "editable": false,
    "lc_cell_meme": {
     "current": "af9d48d4-384e-11ea-9fe0-0242ac120002-16-9be7-94f1-d1ba-78dc-8bcc-7321-2bb1-c3c1-af32-6108",
     "execution_end_time": "2022-04-27T11:29:01.496886Z",
     "history": [
      {
       "current": "af9d48d4-384e-11ea-9fe0-0242ac120002-13-9503-b0e2-073b-9be7-94f1-d1ba-78dc-8bcc-7321-2bb1",
       "next": "6815edfe-384e-11ea-9fe0-0242ac120002-12-2193-999c-f32b-856e-4e49-5ea2-c661-4cf1-ab9b-9ca7",
       "previous": "6815ec6e-384e-11ea-9fe0-0242ac120002-14-76d5-a803-813e-fe43-bbc5-e5a6-e214-fd24-c21e-1fc1"
      },
      {
       "current": "af9d48d4-384e-11ea-9fe0-0242ac120002-13-9503-b0e2-073b-9be7-94f1-d1ba-78dc-8bcc-7321-2bb1",
       "next": "6815edfe-384e-11ea-9fe0-0242ac120002-13-999c-f32b-856e-4e49-5ea2-c661-4cf1-ab9b-9ca7-379e",
       "previous": "6815ec6e-384e-11ea-9fe0-0242ac120002-15-a803-813e-fe43-bbc5-e5a6-e214-fd24-c21e-1fc1-1c75"
      },
      {
       "current": "af9d48d4-384e-11ea-9fe0-0242ac120002-14-b0e2-073b-9be7-94f1-d1ba-78dc-8bcc-7321-2bb1-c3c1",
       "next": "0c1fbdb8-ab1f-11e7-a38f-0242ac120002-13-92e3-a27c-97a0-1a80-c502-4337-5bff-398d-94f5-e50d",
       "previous": "6815ec6e-384e-11ea-9fe0-0242ac120002-15-a803-813e-fe43-bbc5-e5a6-e214-fd24-c21e-1fc1-1c75"
      },
      {
       "current": "af9d48d4-384e-11ea-9fe0-0242ac120002-15-073b-9be7-94f1-d1ba-78dc-8bcc-7321-2bb1-c3c1-af32",
       "next": "0c1fbdb8-ab1f-11e7-a38f-0242ac120002-14-a27c-97a0-1a80-c502-4337-5bff-398d-94f5-e50d-3f3b",
       "previous": "6815ec6e-384e-11ea-9fe0-0242ac120002-16-813e-fe43-bbc5-e5a6-e214-fd24-c21e-1fc1-1c75-d2f6"
      },
      {
       "current": "af9d48d4-384e-11ea-9fe0-0242ac120002-16-9be7-94f1-d1ba-78dc-8bcc-7321-2bb1-c3c1-af32-6108",
       "next": "0c1fbdb8-ab1f-11e7-a38f-0242ac120002-15-97a0-1a80-c502-4337-5bff-398d-94f5-e50d-3f3b-02cb",
       "previous": "6815ec6e-384e-11ea-9fe0-0242ac120002-17-fe43-bbc5-e5a6-e214-fd24-c21e-1fc1-1c75-d2f6-b88a"
      }
     ],
     "next": "0c1fbdb8-ab1f-11e7-a38f-0242ac120002-16-1a80-c502-4337-5bff-398d-94f5-e50d-3f3b-02cb-1f45",
     "previous": "6815ec6e-384e-11ea-9fe0-0242ac120002-18-bbc5-e5a6-e214-fd24-c21e-1fc1-1c75-d2f6-b88a-845a"
    },
    "run_through_control": {
     "frozen": false
    }
   },
   "outputs": [],
   "source": [
    "msg_stdout = !ansible -m debug -a 'msg={{{{ nfs_server_role }}}}' {target_server} -l {target_group}\n",
    "nfs_server_role = json.loads(''.join([msg_stdout[0].split()[-1]] + msg_stdout[1:]))['msg']\n",
    "nfs_server_role\n",
    "\n",
    "# nfs_server_roles = ['nfs_server']\n",
    "# nfs_server_roles = ['nfs_server_dedicated']\n",
    "\n",
    "nfs_server_roles = [ nfs_server_role ]\n",
    "nfs_server_roles"
   ]
  },
  {
   "cell_type": "code",
   "execution_count": null,
   "metadata": {
    "ExecuteTime": {
     "end_time": "2019-04-19T06:15:20.281065Z",
     "start_time": "2019-04-19T06:15:19.543522Z"
    },
    "deletable": false,
    "editable": false,
    "lc_cell_meme": {
     "current": "0c1fbdb8-ab1f-11e7-a38f-0242ac120002-16-1a80-c502-4337-5bff-398d-94f5-e50d-3f3b-02cb-1f45",
     "execution_end_time": "2022-04-27T11:29:06.486337Z",
     "history": [
      {
       "current": "0c1fbdb8-ab1f-11e7-a38f-0242ac120002-13-92e3-a27c-97a0-1a80-c502-4337-5bff-398d-94f5-e50d",
       "next": "5b1d16d6-ab24-11e7-a38f-0242ac120002-12-dab6-5edc-3567-0aa1-1657-d9fb-bd47-c18a-8c4b-d141",
       "previous": "6815edfe-384e-11ea-9fe0-0242ac120002-12-2193-999c-f32b-856e-4e49-5ea2-c661-4cf1-ab9b-9ca7"
      },
      {
       "current": "0c1fbdb8-ab1f-11e7-a38f-0242ac120002-13-92e3-a27c-97a0-1a80-c502-4337-5bff-398d-94f5-e50d",
       "next": "5b1d16d6-ab24-11e7-a38f-0242ac120002-13-5edc-3567-0aa1-1657-d9fb-bd47-c18a-8c4b-d141-3d91",
       "previous": "6815edfe-384e-11ea-9fe0-0242ac120002-13-999c-f32b-856e-4e49-5ea2-c661-4cf1-ab9b-9ca7-379e"
      },
      {
       "current": "0c1fbdb8-ab1f-11e7-a38f-0242ac120002-14-a27c-97a0-1a80-c502-4337-5bff-398d-94f5-e50d-3f3b",
       "next": "5b1d16d6-ab24-11e7-a38f-0242ac120002-13-5edc-3567-0aa1-1657-d9fb-bd47-c18a-8c4b-d141-3d91",
       "previous": "af9d48d4-384e-11ea-9fe0-0242ac120002-13-9503-b0e2-073b-9be7-94f1-d1ba-78dc-8bcc-7321-2bb1"
      },
      {
       "current": "0c1fbdb8-ab1f-11e7-a38f-0242ac120002-15-97a0-1a80-c502-4337-5bff-398d-94f5-e50d-3f3b-02cb",
       "next": "5b1d16d6-ab24-11e7-a38f-0242ac120002-14-3567-0aa1-1657-d9fb-bd47-c18a-8c4b-d141-3d91-9765",
       "previous": "af9d48d4-384e-11ea-9fe0-0242ac120002-14-b0e2-073b-9be7-94f1-d1ba-78dc-8bcc-7321-2bb1-c3c1"
      },
      {
       "current": "0c1fbdb8-ab1f-11e7-a38f-0242ac120002-16-1a80-c502-4337-5bff-398d-94f5-e50d-3f3b-02cb-1f45",
       "next": "5b1d16d6-ab24-11e7-a38f-0242ac120002-15-0aa1-1657-d9fb-bd47-c18a-8c4b-d141-3d91-9765-06bb",
       "previous": "af9d48d4-384e-11ea-9fe0-0242ac120002-15-073b-9be7-94f1-d1ba-78dc-8bcc-7321-2bb1-c3c1-af32"
      }
     ],
     "next": "5b1d16d6-ab24-11e7-a38f-0242ac120002-16-1657-d9fb-bd47-c18a-8c4b-d141-3d91-9765-06bb-27fa",
     "previous": "af9d48d4-384e-11ea-9fe0-0242ac120002-16-9be7-94f1-d1ba-78dc-8bcc-7321-2bb1-c3c1-af32-6108"
    },
    "run_through_control": {
     "frozen": false
    }
   },
   "outputs": [],
   "source": [
    "import os\n",
    "import yaml\n",
    "with open(os.path.join(work_dir, 'jupyterhub-deploy/deploy-nfs-server.yml'), 'w') as f:\n",
    "    f.write(yaml.dump([{'hosts': target_server,\n",
    "                       'become': True,\n",
    "                       'roles': nfs_server_roles}]))\n",
    "!cat {work_dir}/jupyterhub-deploy/deploy-nfs-server.yml"
   ]
  },
  {
   "cell_type": "markdown",
   "metadata": {
    "lc_cell_meme": {
     "current": "5b1d16d6-ab24-11e7-a38f-0242ac120002-16-1657-d9fb-bd47-c18a-8c4b-d141-3d91-9765-06bb-27fa",
     "history": [
      {
       "current": "5b1d16d6-ab24-11e7-a38f-0242ac120002-12-dab6-5edc-3567-0aa1-1657-d9fb-bd47-c18a-8c4b-d141",
       "next": "71bfaa24-ab20-11e7-a38f-0242ac120002-11-1acd-f1b9-abb8-4bab-9ffc-85f2-52dd-6c51-f723-adc6",
       "previous": "0c1fbdb8-ab1f-11e7-a38f-0242ac120002-11-5744-ce13-92e3-a27c-97a0-1a80-c502-4337-5bff-398d"
      },
      {
       "current": "5b1d16d6-ab24-11e7-a38f-0242ac120002-13-5edc-3567-0aa1-1657-d9fb-bd47-c18a-8c4b-d141-3d91",
       "next": "71bfaa24-ab20-11e7-a38f-0242ac120002-12-f1b9-abb8-4bab-9ffc-85f2-52dd-6c51-f723-adc6-253e",
       "previous": "0c1fbdb8-ab1f-11e7-a38f-0242ac120002-12-ce13-92e3-a27c-97a0-1a80-c502-4337-5bff-398d-94f5"
      },
      {
       "current": "5b1d16d6-ab24-11e7-a38f-0242ac120002-14-3567-0aa1-1657-d9fb-bd47-c18a-8c4b-d141-3d91-9765",
       "next": "71bfaa24-ab20-11e7-a38f-0242ac120002-13-abb8-4bab-9ffc-85f2-52dd-6c51-f723-adc6-253e-de04",
       "previous": "0c1fbdb8-ab1f-11e7-a38f-0242ac120002-13-92e3-a27c-97a0-1a80-c502-4337-5bff-398d-94f5-e50d"
      },
      {
       "current": "5b1d16d6-ab24-11e7-a38f-0242ac120002-15-0aa1-1657-d9fb-bd47-c18a-8c4b-d141-3d91-9765-06bb",
       "next": "71bfaa24-ab20-11e7-a38f-0242ac120002-14-4bab-9ffc-85f2-52dd-6c51-f723-adc6-253e-de04-a497",
       "previous": "0c1fbdb8-ab1f-11e7-a38f-0242ac120002-14-a27c-97a0-1a80-c502-4337-5bff-398d-94f5-e50d-3f3b"
      },
      {
       "current": "5b1d16d6-ab24-11e7-a38f-0242ac120002-16-1657-d9fb-bd47-c18a-8c4b-d141-3d91-9765-06bb-27fa",
       "next": "71bfaa24-ab20-11e7-a38f-0242ac120002-15-9ffc-85f2-52dd-6c51-f723-adc6-253e-de04-a497-86e2",
       "previous": "0c1fbdb8-ab1f-11e7-a38f-0242ac120002-15-97a0-1a80-c502-4337-5bff-398d-94f5-e50d-3f3b-02cb"
      }
     ],
     "next": "71bfaa24-ab20-11e7-a38f-0242ac120002-16-85f2-52dd-6c51-f723-adc6-253e-de04-a497-86e2-6536",
     "previous": "0c1fbdb8-ab1f-11e7-a38f-0242ac120002-16-1a80-c502-4337-5bff-398d-94f5-e50d-3f3b-02cb-1f45"
    }
   },
   "source": [
    "Now, dry-run first..."
   ]
  },
  {
   "cell_type": "code",
   "execution_count": null,
   "metadata": {
    "ExecuteTime": {
     "end_time": "2019-04-19T06:16:41.478896Z",
     "start_time": "2019-04-19T06:15:33.909414Z"
    },
    "deletable": false,
    "editable": false,
    "lc_cell_meme": {
     "current": "71bfaa24-ab20-11e7-a38f-0242ac120002-16-85f2-52dd-6c51-f723-adc6-253e-de04-a497-86e2-6536",
     "execution_end_time": "2022-04-27T11:41:33.379846Z",
     "history": [
      {
       "current": "71bfaa24-ab20-11e7-a38f-0242ac120002-12-f1b9-abb8-4bab-9ffc-85f2-52dd-6c51-f723-adc6-253e",
       "next": "5b1d1a00-ab24-11e7-a38f-0242ac120002-11-0ef1-1c99-f132-3969-1b78-40cf-1989-8080-f26a-8434",
       "previous": "5b1d16d6-ab24-11e7-a38f-0242ac120002-11-f948-dab6-5edc-3567-0aa1-1657-d9fb-bd47-c18a-8c4b"
      },
      {
       "current": "71bfaa24-ab20-11e7-a38f-0242ac120002-13-abb8-4bab-9ffc-85f2-52dd-6c51-f723-adc6-253e-de04",
       "next": "5b1d1a00-ab24-11e7-a38f-0242ac120002-12-1c99-f132-3969-1b78-40cf-1989-8080-f26a-8434-5bcb",
       "previous": "5b1d16d6-ab24-11e7-a38f-0242ac120002-12-dab6-5edc-3567-0aa1-1657-d9fb-bd47-c18a-8c4b-d141"
      },
      {
       "current": "71bfaa24-ab20-11e7-a38f-0242ac120002-14-4bab-9ffc-85f2-52dd-6c51-f723-adc6-253e-de04-a497",
       "next": "5b1d1a00-ab24-11e7-a38f-0242ac120002-13-f132-3969-1b78-40cf-1989-8080-f26a-8434-5bcb-0fad",
       "previous": "5b1d16d6-ab24-11e7-a38f-0242ac120002-13-5edc-3567-0aa1-1657-d9fb-bd47-c18a-8c4b-d141-3d91"
      },
      {
       "current": "71bfaa24-ab20-11e7-a38f-0242ac120002-15-9ffc-85f2-52dd-6c51-f723-adc6-253e-de04-a497-86e2",
       "next": "5b1d1a00-ab24-11e7-a38f-0242ac120002-14-3969-1b78-40cf-1989-8080-f26a-8434-5bcb-0fad-dbea",
       "previous": "5b1d16d6-ab24-11e7-a38f-0242ac120002-14-3567-0aa1-1657-d9fb-bd47-c18a-8c4b-d141-3d91-9765"
      },
      {
       "current": "71bfaa24-ab20-11e7-a38f-0242ac120002-16-85f2-52dd-6c51-f723-adc6-253e-de04-a497-86e2-6536",
       "next": "5b1d1a00-ab24-11e7-a38f-0242ac120002-15-1b78-40cf-1989-8080-f26a-8434-5bcb-0fad-dbea-5fe9",
       "previous": "5b1d16d6-ab24-11e7-a38f-0242ac120002-15-0aa1-1657-d9fb-bd47-c18a-8c4b-d141-3d91-9765-06bb"
      }
     ],
     "next": "5b1d1a00-ab24-11e7-a38f-0242ac120002-16-40cf-1989-8080-f26a-8434-5bcb-0fad-dbea-5fe9-fa59",
     "previous": "5b1d16d6-ab24-11e7-a38f-0242ac120002-16-1657-d9fb-bd47-c18a-8c4b-d141-3d91-9765-06bb-27fa"
    },
    "run_through_control": {
     "frozen": false
    },
    "scrolled": true
   },
   "outputs": [],
   "source": [
    "!ansible-playbook -CDv {work_dir}/jupyterhub-deploy/deploy-nfs-server.yml -l {target_group}"
   ]
  },
  {
   "cell_type": "markdown",
   "metadata": {
    "lc_cell_meme": {
     "current": "5b1d1a00-ab24-11e7-a38f-0242ac120002-16-40cf-1989-8080-f26a-8434-5bcb-0fad-dbea-5fe9-fa59",
     "history": [
      {
       "current": "5b1d1a00-ab24-11e7-a38f-0242ac120002-12-1c99-f132-3969-1b78-40cf-1989-8080-f26a-8434-5bcb",
       "next": "5b1d1c30-ab24-11e7-a38f-0242ac120002-11-ab27-8915-9339-e7b4-c35f-aeac-494c-608a-09f4-187d",
       "previous": "71bfaa24-ab20-11e7-a38f-0242ac120002-11-1acd-f1b9-abb8-4bab-9ffc-85f2-52dd-6c51-f723-adc6"
      },
      {
       "current": "5b1d1a00-ab24-11e7-a38f-0242ac120002-13-f132-3969-1b78-40cf-1989-8080-f26a-8434-5bcb-0fad",
       "next": "5b1d1c30-ab24-11e7-a38f-0242ac120002-12-8915-9339-e7b4-c35f-aeac-494c-608a-09f4-187d-09bc",
       "previous": "71bfaa24-ab20-11e7-a38f-0242ac120002-12-f1b9-abb8-4bab-9ffc-85f2-52dd-6c51-f723-adc6-253e"
      },
      {
       "current": "5b1d1a00-ab24-11e7-a38f-0242ac120002-14-3969-1b78-40cf-1989-8080-f26a-8434-5bcb-0fad-dbea",
       "next": "5b1d1c30-ab24-11e7-a38f-0242ac120002-13-9339-e7b4-c35f-aeac-494c-608a-09f4-187d-09bc-d65e",
       "previous": "71bfaa24-ab20-11e7-a38f-0242ac120002-13-abb8-4bab-9ffc-85f2-52dd-6c51-f723-adc6-253e-de04"
      },
      {
       "current": "5b1d1a00-ab24-11e7-a38f-0242ac120002-15-1b78-40cf-1989-8080-f26a-8434-5bcb-0fad-dbea-5fe9",
       "next": "5b1d1c30-ab24-11e7-a38f-0242ac120002-14-e7b4-c35f-aeac-494c-608a-09f4-187d-09bc-d65e-2e49",
       "previous": "71bfaa24-ab20-11e7-a38f-0242ac120002-14-4bab-9ffc-85f2-52dd-6c51-f723-adc6-253e-de04-a497"
      },
      {
       "current": "5b1d1a00-ab24-11e7-a38f-0242ac120002-16-40cf-1989-8080-f26a-8434-5bcb-0fad-dbea-5fe9-fa59",
       "next": "5b1d1c30-ab24-11e7-a38f-0242ac120002-15-c35f-aeac-494c-608a-09f4-187d-09bc-d65e-2e49-87a1",
       "previous": "71bfaa24-ab20-11e7-a38f-0242ac120002-15-9ffc-85f2-52dd-6c51-f723-adc6-253e-de04-a497-86e2"
      }
     ],
     "next": "5b1d1c30-ab24-11e7-a38f-0242ac120002-16-aeac-494c-608a-09f4-187d-09bc-d65e-2e49-87a1-44b5",
     "previous": "71bfaa24-ab20-11e7-a38f-0242ac120002-16-85f2-52dd-6c51-f723-adc6-253e-de04-a497-86e2-6536"
    }
   },
   "source": [
    "It seems OK, apply it to hosts."
   ]
  },
  {
   "cell_type": "code",
   "execution_count": null,
   "metadata": {
    "ExecuteTime": {
     "end_time": "2019-04-19T06:17:58.083747Z",
     "start_time": "2019-04-19T06:16:47.491686Z"
    },
    "deletable": false,
    "editable": false,
    "lc_cell_meme": {
     "current": "5b1d1c30-ab24-11e7-a38f-0242ac120002-16-aeac-494c-608a-09f4-187d-09bc-d65e-2e49-87a1-44b5",
     "execution_end_time": "2022-04-27T11:41:51.573762Z",
     "history": [
      {
       "current": "5b1d1c30-ab24-11e7-a38f-0242ac120002-12-8915-9339-e7b4-c35f-aeac-494c-608a-09f4-187d-09bc",
       "next": "31b11c88-ab25-11e7-a38f-0242ac120002-11-0e94-f600-90f9-a9a8-0b18-e607-b7f4-8230-fd9a-60f7",
       "previous": "5b1d1a00-ab24-11e7-a38f-0242ac120002-11-0ef1-1c99-f132-3969-1b78-40cf-1989-8080-f26a-8434"
      },
      {
       "current": "5b1d1c30-ab24-11e7-a38f-0242ac120002-13-9339-e7b4-c35f-aeac-494c-608a-09f4-187d-09bc-d65e",
       "next": "31b11c88-ab25-11e7-a38f-0242ac120002-12-f600-90f9-a9a8-0b18-e607-b7f4-8230-fd9a-60f7-9c95",
       "previous": "5b1d1a00-ab24-11e7-a38f-0242ac120002-12-1c99-f132-3969-1b78-40cf-1989-8080-f26a-8434-5bcb"
      },
      {
       "current": "5b1d1c30-ab24-11e7-a38f-0242ac120002-14-e7b4-c35f-aeac-494c-608a-09f4-187d-09bc-d65e-2e49",
       "next": "31b11c88-ab25-11e7-a38f-0242ac120002-13-90f9-a9a8-0b18-e607-b7f4-8230-fd9a-60f7-9c95-0c74",
       "previous": "5b1d1a00-ab24-11e7-a38f-0242ac120002-13-f132-3969-1b78-40cf-1989-8080-f26a-8434-5bcb-0fad"
      },
      {
       "current": "5b1d1c30-ab24-11e7-a38f-0242ac120002-15-c35f-aeac-494c-608a-09f4-187d-09bc-d65e-2e49-87a1",
       "next": "31b11c88-ab25-11e7-a38f-0242ac120002-14-a9a8-0b18-e607-b7f4-8230-fd9a-60f7-9c95-0c74-6aed",
       "previous": "5b1d1a00-ab24-11e7-a38f-0242ac120002-14-3969-1b78-40cf-1989-8080-f26a-8434-5bcb-0fad-dbea"
      },
      {
       "current": "5b1d1c30-ab24-11e7-a38f-0242ac120002-16-aeac-494c-608a-09f4-187d-09bc-d65e-2e49-87a1-44b5",
       "next": "31b11c88-ab25-11e7-a38f-0242ac120002-15-0b18-e607-b7f4-8230-fd9a-60f7-9c95-0c74-6aed-cb3e",
       "previous": "5b1d1a00-ab24-11e7-a38f-0242ac120002-15-1b78-40cf-1989-8080-f26a-8434-5bcb-0fad-dbea-5fe9"
      }
     ],
     "next": "31b11c88-ab25-11e7-a38f-0242ac120002-16-e607-b7f4-8230-fd9a-60f7-9c95-0c74-6aed-cb3e-e78c",
     "previous": "5b1d1a00-ab24-11e7-a38f-0242ac120002-16-40cf-1989-8080-f26a-8434-5bcb-0fad-dbea-5fe9-fa59"
    },
    "run_through_control": {
     "frozen": false
    },
    "scrolled": true
   },
   "outputs": [],
   "source": [
    "!ansible-playbook {work_dir}/jupyterhub-deploy/deploy-nfs-server.yml -l {target_group}"
   ]
  },
  {
   "cell_type": "markdown",
   "metadata": {
    "lc_cell_meme": {
     "current": "31b11c88-ab25-11e7-a38f-0242ac120002-16-e607-b7f4-8230-fd9a-60f7-9c95-0c74-6aed-cb3e-e78c",
     "history": [
      {
       "current": "31b11c88-ab25-11e7-a38f-0242ac120002-12-f600-90f9-a9a8-0b18-e607-b7f4-8230-fd9a-60f7-9c95",
       "next": "31b1200c-ab25-11e7-a38f-0242ac120002-11-3617-24cb-40d1-ae0f-e33a-32a6-4a45-1c7a-11c5-bda6",
       "previous": "5b1d1c30-ab24-11e7-a38f-0242ac120002-11-ab27-8915-9339-e7b4-c35f-aeac-494c-608a-09f4-187d"
      },
      {
       "current": "31b11c88-ab25-11e7-a38f-0242ac120002-13-90f9-a9a8-0b18-e607-b7f4-8230-fd9a-60f7-9c95-0c74",
       "next": "31b1200c-ab25-11e7-a38f-0242ac120002-12-24cb-40d1-ae0f-e33a-32a6-4a45-1c7a-11c5-bda6-ffec",
       "previous": "5b1d1c30-ab24-11e7-a38f-0242ac120002-12-8915-9339-e7b4-c35f-aeac-494c-608a-09f4-187d-09bc"
      },
      {
       "current": "31b11c88-ab25-11e7-a38f-0242ac120002-14-a9a8-0b18-e607-b7f4-8230-fd9a-60f7-9c95-0c74-6aed",
       "next": "31b1200c-ab25-11e7-a38f-0242ac120002-13-40d1-ae0f-e33a-32a6-4a45-1c7a-11c5-bda6-ffec-c8d3",
       "previous": "5b1d1c30-ab24-11e7-a38f-0242ac120002-13-9339-e7b4-c35f-aeac-494c-608a-09f4-187d-09bc-d65e"
      },
      {
       "current": "31b11c88-ab25-11e7-a38f-0242ac120002-15-0b18-e607-b7f4-8230-fd9a-60f7-9c95-0c74-6aed-cb3e",
       "next": "31b1200c-ab25-11e7-a38f-0242ac120002-14-ae0f-e33a-32a6-4a45-1c7a-11c5-bda6-ffec-c8d3-b7de",
       "previous": "5b1d1c30-ab24-11e7-a38f-0242ac120002-14-e7b4-c35f-aeac-494c-608a-09f4-187d-09bc-d65e-2e49"
      },
      {
       "current": "31b11c88-ab25-11e7-a38f-0242ac120002-16-e607-b7f4-8230-fd9a-60f7-9c95-0c74-6aed-cb3e-e78c",
       "next": "31b1200c-ab25-11e7-a38f-0242ac120002-15-e33a-32a6-4a45-1c7a-11c5-bda6-ffec-c8d3-b7de-fb14",
       "previous": "5b1d1c30-ab24-11e7-a38f-0242ac120002-15-c35f-aeac-494c-608a-09f4-187d-09bc-d65e-2e49-87a1"
      }
     ],
     "next": "31b1200c-ab25-11e7-a38f-0242ac120002-16-32a6-4a45-1c7a-11c5-bda6-ffec-c8d3-b7de-fb14-f21e",
     "previous": "5b1d1c30-ab24-11e7-a38f-0242ac120002-16-aeac-494c-608a-09f4-187d-09bc-d65e-2e49-87a1-44b5"
    }
   },
   "source": [
    "# NFS clientのインストールと設定"
   ]
  },
  {
   "cell_type": "code",
   "execution_count": null,
   "metadata": {
    "ExecuteTime": {
     "end_time": "2019-04-19T07:35:19.465173Z",
     "start_time": "2019-04-19T07:35:18.599769Z"
    },
    "deletable": false,
    "editable": false,
    "lc_cell_meme": {
     "current": "31b1200c-ab25-11e7-a38f-0242ac120002-16-32a6-4a45-1c7a-11c5-bda6-ffec-c8d3-b7de-fb14-f21e",
     "execution_end_time": "2022-04-27T11:45:05.810798Z",
     "history": [
      {
       "current": "31b1200c-ab25-11e7-a38f-0242ac120002-12-24cb-40d1-ae0f-e33a-32a6-4a45-1c7a-11c5-bda6-ffec",
       "next": "31b12458-ab25-11e7-a38f-0242ac120002-11-eaa2-e424-5d2d-62df-4921-ba45-33d7-3f69-c070-27bc",
       "previous": "31b11c88-ab25-11e7-a38f-0242ac120002-11-0e94-f600-90f9-a9a8-0b18-e607-b7f4-8230-fd9a-60f7"
      },
      {
       "current": "31b1200c-ab25-11e7-a38f-0242ac120002-13-40d1-ae0f-e33a-32a6-4a45-1c7a-11c5-bda6-ffec-c8d3",
       "next": "31b12458-ab25-11e7-a38f-0242ac120002-12-e424-5d2d-62df-4921-ba45-33d7-3f69-c070-27bc-c686",
       "previous": "31b11c88-ab25-11e7-a38f-0242ac120002-12-f600-90f9-a9a8-0b18-e607-b7f4-8230-fd9a-60f7-9c95"
      },
      {
       "current": "31b1200c-ab25-11e7-a38f-0242ac120002-14-ae0f-e33a-32a6-4a45-1c7a-11c5-bda6-ffec-c8d3-b7de",
       "next": "31b12458-ab25-11e7-a38f-0242ac120002-13-5d2d-62df-4921-ba45-33d7-3f69-c070-27bc-c686-7b97",
       "previous": "31b11c88-ab25-11e7-a38f-0242ac120002-13-90f9-a9a8-0b18-e607-b7f4-8230-fd9a-60f7-9c95-0c74"
      },
      {
       "current": "31b1200c-ab25-11e7-a38f-0242ac120002-15-e33a-32a6-4a45-1c7a-11c5-bda6-ffec-c8d3-b7de-fb14",
       "next": "31b12458-ab25-11e7-a38f-0242ac120002-14-62df-4921-ba45-33d7-3f69-c070-27bc-c686-7b97-5daf",
       "previous": "31b11c88-ab25-11e7-a38f-0242ac120002-14-a9a8-0b18-e607-b7f4-8230-fd9a-60f7-9c95-0c74-6aed"
      },
      {
       "current": "31b1200c-ab25-11e7-a38f-0242ac120002-16-32a6-4a45-1c7a-11c5-bda6-ffec-c8d3-b7de-fb14-f21e",
       "next": "31b12458-ab25-11e7-a38f-0242ac120002-15-4921-ba45-33d7-3f69-c070-27bc-c686-7b97-5daf-79f3",
       "previous": "31b11c88-ab25-11e7-a38f-0242ac120002-15-0b18-e607-b7f4-8230-fd9a-60f7-9c95-0c74-6aed-cb3e"
      }
     ],
     "next": "31b12458-ab25-11e7-a38f-0242ac120002-16-ba45-33d7-3f69-c070-27bc-c686-7b97-5daf-79f3-e819",
     "previous": "31b11c88-ab25-11e7-a38f-0242ac120002-16-e607-b7f4-8230-fd9a-60f7-9c95-0c74-6aed-cb3e-e78c"
    },
    "run_through_control": {
     "frozen": false
    }
   },
   "outputs": [],
   "source": [
    "with open(os.path.join(work_dir, 'jupyterhub-deploy/deploy-nfs-client.yml'), 'w') as f:\n",
    "    f.write(yaml.dump([{'hosts': target_nodes,\n",
    "                       'become': True,\n",
    "                       'roles': ['nfs_client']}]))\n",
    "!cat {work_dir}/jupyterhub-deploy/deploy-nfs-client.yml"
   ]
  },
  {
   "cell_type": "code",
   "execution_count": null,
   "metadata": {
    "ExecuteTime": {
     "end_time": "2019-04-19T07:35:50.137493Z",
     "start_time": "2019-04-19T07:35:21.893284Z"
    },
    "deletable": false,
    "editable": false,
    "lc_cell_meme": {
     "current": "31b12458-ab25-11e7-a38f-0242ac120002-16-ba45-33d7-3f69-c070-27bc-c686-7b97-5daf-79f3-e819",
     "execution_end_time": "2022-04-27T11:46:22.607300Z",
     "history": [
      {
       "current": "31b12458-ab25-11e7-a38f-0242ac120002-12-e424-5d2d-62df-4921-ba45-33d7-3f69-c070-27bc-c686",
       "next": "31b12660-ab25-11e7-a38f-0242ac120002-11-7608-d43c-039b-45a7-13a2-c54a-c507-51cf-90c2-c9f9",
       "previous": "31b1200c-ab25-11e7-a38f-0242ac120002-11-3617-24cb-40d1-ae0f-e33a-32a6-4a45-1c7a-11c5-bda6"
      },
      {
       "current": "31b12458-ab25-11e7-a38f-0242ac120002-13-5d2d-62df-4921-ba45-33d7-3f69-c070-27bc-c686-7b97",
       "next": "31b12660-ab25-11e7-a38f-0242ac120002-12-d43c-039b-45a7-13a2-c54a-c507-51cf-90c2-c9f9-df37",
       "previous": "31b1200c-ab25-11e7-a38f-0242ac120002-12-24cb-40d1-ae0f-e33a-32a6-4a45-1c7a-11c5-bda6-ffec"
      },
      {
       "current": "31b12458-ab25-11e7-a38f-0242ac120002-14-62df-4921-ba45-33d7-3f69-c070-27bc-c686-7b97-5daf",
       "next": "31b12660-ab25-11e7-a38f-0242ac120002-13-039b-45a7-13a2-c54a-c507-51cf-90c2-c9f9-df37-3a5e",
       "previous": "31b1200c-ab25-11e7-a38f-0242ac120002-13-40d1-ae0f-e33a-32a6-4a45-1c7a-11c5-bda6-ffec-c8d3"
      },
      {
       "current": "31b12458-ab25-11e7-a38f-0242ac120002-15-4921-ba45-33d7-3f69-c070-27bc-c686-7b97-5daf-79f3",
       "next": "31b12660-ab25-11e7-a38f-0242ac120002-14-45a7-13a2-c54a-c507-51cf-90c2-c9f9-df37-3a5e-7082",
       "previous": "31b1200c-ab25-11e7-a38f-0242ac120002-14-ae0f-e33a-32a6-4a45-1c7a-11c5-bda6-ffec-c8d3-b7de"
      },
      {
       "current": "31b12458-ab25-11e7-a38f-0242ac120002-16-ba45-33d7-3f69-c070-27bc-c686-7b97-5daf-79f3-e819",
       "next": "31b12660-ab25-11e7-a38f-0242ac120002-15-13a2-c54a-c507-51cf-90c2-c9f9-df37-3a5e-7082-725b",
       "previous": "31b1200c-ab25-11e7-a38f-0242ac120002-15-e33a-32a6-4a45-1c7a-11c5-bda6-ffec-c8d3-b7de-fb14"
      }
     ],
     "next": "31b12660-ab25-11e7-a38f-0242ac120002-16-c54a-c507-51cf-90c2-c9f9-df37-3a5e-7082-725b-b792",
     "previous": "31b1200c-ab25-11e7-a38f-0242ac120002-16-32a6-4a45-1c7a-11c5-bda6-ffec-c8d3-b7de-fb14-f21e"
    },
    "run_through_control": {
     "frozen": false
    },
    "scrolled": true
   },
   "outputs": [],
   "source": [
    "!ansible-playbook -CDv {work_dir}/jupyterhub-deploy/deploy-nfs-client.yml -l {target_group}"
   ]
  },
  {
   "cell_type": "markdown",
   "metadata": {
    "lc_cell_meme": {
     "current": "31b12660-ab25-11e7-a38f-0242ac120002-16-c54a-c507-51cf-90c2-c9f9-df37-3a5e-7082-725b-b792",
     "history": [
      {
       "current": "31b12660-ab25-11e7-a38f-0242ac120002-12-d43c-039b-45a7-13a2-c54a-c507-51cf-90c2-c9f9-df37",
       "next": "31b12872-ab25-11e7-a38f-0242ac120002-11-cf4c-c670-0192-8077-7d75-de0e-4acd-fbc2-c7ee-683f",
       "previous": "31b12458-ab25-11e7-a38f-0242ac120002-11-eaa2-e424-5d2d-62df-4921-ba45-33d7-3f69-c070-27bc"
      },
      {
       "current": "31b12660-ab25-11e7-a38f-0242ac120002-13-039b-45a7-13a2-c54a-c507-51cf-90c2-c9f9-df37-3a5e",
       "next": "31b12872-ab25-11e7-a38f-0242ac120002-12-c670-0192-8077-7d75-de0e-4acd-fbc2-c7ee-683f-a911",
       "previous": "31b12458-ab25-11e7-a38f-0242ac120002-12-e424-5d2d-62df-4921-ba45-33d7-3f69-c070-27bc-c686"
      },
      {
       "current": "31b12660-ab25-11e7-a38f-0242ac120002-14-45a7-13a2-c54a-c507-51cf-90c2-c9f9-df37-3a5e-7082",
       "next": "31b12872-ab25-11e7-a38f-0242ac120002-13-0192-8077-7d75-de0e-4acd-fbc2-c7ee-683f-a911-6ee0",
       "previous": "31b12458-ab25-11e7-a38f-0242ac120002-13-5d2d-62df-4921-ba45-33d7-3f69-c070-27bc-c686-7b97"
      },
      {
       "current": "31b12660-ab25-11e7-a38f-0242ac120002-15-13a2-c54a-c507-51cf-90c2-c9f9-df37-3a5e-7082-725b",
       "next": "31b12872-ab25-11e7-a38f-0242ac120002-14-8077-7d75-de0e-4acd-fbc2-c7ee-683f-a911-6ee0-6d43",
       "previous": "31b12458-ab25-11e7-a38f-0242ac120002-14-62df-4921-ba45-33d7-3f69-c070-27bc-c686-7b97-5daf"
      },
      {
       "current": "31b12660-ab25-11e7-a38f-0242ac120002-16-c54a-c507-51cf-90c2-c9f9-df37-3a5e-7082-725b-b792",
       "next": "31b12872-ab25-11e7-a38f-0242ac120002-15-7d75-de0e-4acd-fbc2-c7ee-683f-a911-6ee0-6d43-dcb0",
       "previous": "31b12458-ab25-11e7-a38f-0242ac120002-15-4921-ba45-33d7-3f69-c070-27bc-c686-7b97-5daf-79f3"
      }
     ],
     "next": "31b12872-ab25-11e7-a38f-0242ac120002-16-de0e-4acd-fbc2-c7ee-683f-a911-6ee0-6d43-dcb0-d15c",
     "previous": "31b12458-ab25-11e7-a38f-0242ac120002-16-ba45-33d7-3f69-c070-27bc-c686-7b97-5daf-79f3-e819"
    }
   },
   "source": [
    "OK, apply it."
   ]
  },
  {
   "cell_type": "code",
   "execution_count": null,
   "metadata": {
    "ExecuteTime": {
     "end_time": "2019-04-19T08:06:16.384062Z",
     "start_time": "2019-04-19T08:05:45.192461Z"
    },
    "deletable": false,
    "editable": false,
    "lc_cell_meme": {
     "current": "31b12872-ab25-11e7-a38f-0242ac120002-16-de0e-4acd-fbc2-c7ee-683f-a911-6ee0-6d43-dcb0-d15c",
     "execution_end_time": "2022-04-27T11:46:28.518713Z",
     "history": [
      {
       "current": "31b12872-ab25-11e7-a38f-0242ac120002-12-c670-0192-8077-7d75-de0e-4acd-fbc2-c7ee-683f-a911",
       "next": "d0bb4db6-ab35-11e7-a38f-0242ac120002-11-b7bf-ea86-eeb6-88c5-d530-aaf1-4774-2cf2-8dac-8cf5",
       "previous": "31b12660-ab25-11e7-a38f-0242ac120002-11-7608-d43c-039b-45a7-13a2-c54a-c507-51cf-90c2-c9f9"
      },
      {
       "current": "31b12872-ab25-11e7-a38f-0242ac120002-13-0192-8077-7d75-de0e-4acd-fbc2-c7ee-683f-a911-6ee0",
       "next": "d0bb4db6-ab35-11e7-a38f-0242ac120002-12-ea86-eeb6-88c5-d530-aaf1-4774-2cf2-8dac-8cf5-6fc1",
       "previous": "31b12660-ab25-11e7-a38f-0242ac120002-12-d43c-039b-45a7-13a2-c54a-c507-51cf-90c2-c9f9-df37"
      },
      {
       "current": "31b12872-ab25-11e7-a38f-0242ac120002-14-8077-7d75-de0e-4acd-fbc2-c7ee-683f-a911-6ee0-6d43",
       "next": "d0bb4db6-ab35-11e7-a38f-0242ac120002-13-eeb6-88c5-d530-aaf1-4774-2cf2-8dac-8cf5-6fc1-e6ad",
       "previous": "31b12660-ab25-11e7-a38f-0242ac120002-13-039b-45a7-13a2-c54a-c507-51cf-90c2-c9f9-df37-3a5e"
      },
      {
       "current": "31b12872-ab25-11e7-a38f-0242ac120002-15-7d75-de0e-4acd-fbc2-c7ee-683f-a911-6ee0-6d43-dcb0",
       "next": "d0bb4db6-ab35-11e7-a38f-0242ac120002-14-88c5-d530-aaf1-4774-2cf2-8dac-8cf5-6fc1-e6ad-8622",
       "previous": "31b12660-ab25-11e7-a38f-0242ac120002-14-45a7-13a2-c54a-c507-51cf-90c2-c9f9-df37-3a5e-7082"
      },
      {
       "current": "31b12872-ab25-11e7-a38f-0242ac120002-16-de0e-4acd-fbc2-c7ee-683f-a911-6ee0-6d43-dcb0-d15c",
       "next": "d0bb4db6-ab35-11e7-a38f-0242ac120002-15-d530-aaf1-4774-2cf2-8dac-8cf5-6fc1-e6ad-8622-2254",
       "previous": "31b12660-ab25-11e7-a38f-0242ac120002-15-13a2-c54a-c507-51cf-90c2-c9f9-df37-3a5e-7082-725b"
      }
     ],
     "next": "d0bb4db6-ab35-11e7-a38f-0242ac120002-16-aaf1-4774-2cf2-8dac-8cf5-6fc1-e6ad-8622-2254-101c",
     "previous": "31b12660-ab25-11e7-a38f-0242ac120002-16-c54a-c507-51cf-90c2-c9f9-df37-3a5e-7082-725b-b792"
    },
    "run_through_control": {
     "frozen": false
    },
    "scrolled": true
   },
   "outputs": [],
   "source": [
    "!ansible-playbook {work_dir}/jupyterhub-deploy/deploy-nfs-client.yml -l {target_group}"
   ]
  },
  {
   "cell_type": "markdown",
   "metadata": {
    "lc_cell_meme": {
     "current": "d0bb4db6-ab35-11e7-a38f-0242ac120002-16-aaf1-4774-2cf2-8dac-8cf5-6fc1-e6ad-8622-2254-101c",
     "history": [
      {
       "current": "d0bb4db6-ab35-11e7-a38f-0242ac120002-12-ea86-eeb6-88c5-d530-aaf1-4774-2cf2-8dac-8cf5-6fc1",
       "next": "89343458-ab35-11e7-a38f-0242ac120002-11-610b-f847-b44a-694d-aeb9-f793-3706-9fbe-6348-183f",
       "previous": "31b12872-ab25-11e7-a38f-0242ac120002-11-cf4c-c670-0192-8077-7d75-de0e-4acd-fbc2-c7ee-683f"
      },
      {
       "current": "d0bb4db6-ab35-11e7-a38f-0242ac120002-13-eeb6-88c5-d530-aaf1-4774-2cf2-8dac-8cf5-6fc1-e6ad",
       "next": "89343458-ab35-11e7-a38f-0242ac120002-12-f847-b44a-694d-aeb9-f793-3706-9fbe-6348-183f-d8e8",
       "previous": "31b12872-ab25-11e7-a38f-0242ac120002-12-c670-0192-8077-7d75-de0e-4acd-fbc2-c7ee-683f-a911"
      },
      {
       "current": "d0bb4db6-ab35-11e7-a38f-0242ac120002-14-88c5-d530-aaf1-4774-2cf2-8dac-8cf5-6fc1-e6ad-8622",
       "next": "89343458-ab35-11e7-a38f-0242ac120002-13-b44a-694d-aeb9-f793-3706-9fbe-6348-183f-d8e8-2f26",
       "previous": "31b12872-ab25-11e7-a38f-0242ac120002-13-0192-8077-7d75-de0e-4acd-fbc2-c7ee-683f-a911-6ee0"
      },
      {
       "current": "d0bb4db6-ab35-11e7-a38f-0242ac120002-15-d530-aaf1-4774-2cf2-8dac-8cf5-6fc1-e6ad-8622-2254",
       "next": "89343458-ab35-11e7-a38f-0242ac120002-14-694d-aeb9-f793-3706-9fbe-6348-183f-d8e8-2f26-5614",
       "previous": "31b12872-ab25-11e7-a38f-0242ac120002-14-8077-7d75-de0e-4acd-fbc2-c7ee-683f-a911-6ee0-6d43"
      },
      {
       "current": "d0bb4db6-ab35-11e7-a38f-0242ac120002-16-aaf1-4774-2cf2-8dac-8cf5-6fc1-e6ad-8622-2254-101c",
       "next": "89343458-ab35-11e7-a38f-0242ac120002-15-aeb9-f793-3706-9fbe-6348-183f-d8e8-2f26-5614-e125",
       "previous": "31b12872-ab25-11e7-a38f-0242ac120002-15-7d75-de0e-4acd-fbc2-c7ee-683f-a911-6ee0-6d43-dcb0"
      }
     ],
     "next": "89343458-ab35-11e7-a38f-0242ac120002-16-f793-3706-9fbe-6348-183f-d8e8-2f26-5614-e125-09fc",
     "previous": "31b12872-ab25-11e7-a38f-0242ac120002-16-de0e-4acd-fbc2-c7ee-683f-a911-6ee0-6d43-dcb0-d15c"
    }
   },
   "source": [
    "# NFSの動作確認\n"
   ]
  },
  {
   "cell_type": "code",
   "execution_count": null,
   "metadata": {
    "ExecuteTime": {
     "end_time": "2019-04-19T08:06:24.252170Z",
     "start_time": "2019-04-19T08:06:19.611643Z"
    },
    "deletable": false,
    "editable": false,
    "lc_cell_meme": {
     "current": "89343458-ab35-11e7-a38f-0242ac120002-16-f793-3706-9fbe-6348-183f-d8e8-2f26-5614-e125-09fc",
     "execution_end_time": "2022-04-27T11:46:59.313267Z",
     "history": [
      {
       "current": "89343458-ab35-11e7-a38f-0242ac120002-12-f847-b44a-694d-aeb9-f793-3706-9fbe-6348-183f-d8e8",
       "next": "d900dee0-0f9c-11ec-87e3-c7638f7e44c5",
       "previous": "d0bb4db6-ab35-11e7-a38f-0242ac120002-11-b7bf-ea86-eeb6-88c5-d530-aaf1-4774-2cf2-8dac-8cf5"
      },
      {
       "current": "89343458-ab35-11e7-a38f-0242ac120002-13-b44a-694d-aeb9-f793-3706-9fbe-6348-183f-d8e8-2f26",
       "next": "d900dee0-0f9c-11ec-87e3-c7638f7e44c5-1-65ef",
       "previous": "d0bb4db6-ab35-11e7-a38f-0242ac120002-12-ea86-eeb6-88c5-d530-aaf1-4774-2cf2-8dac-8cf5-6fc1"
      },
      {
       "current": "89343458-ab35-11e7-a38f-0242ac120002-14-694d-aeb9-f793-3706-9fbe-6348-183f-d8e8-2f26-5614",
       "next": "d900dee0-0f9c-11ec-87e3-c7638f7e44c5-2-65ef-494a",
       "previous": "d0bb4db6-ab35-11e7-a38f-0242ac120002-13-eeb6-88c5-d530-aaf1-4774-2cf2-8dac-8cf5-6fc1-e6ad"
      },
      {
       "current": "89343458-ab35-11e7-a38f-0242ac120002-15-aeb9-f793-3706-9fbe-6348-183f-d8e8-2f26-5614-e125",
       "next": "d900dee0-0f9c-11ec-87e3-c7638f7e44c5-3-65ef-494a-9dde",
       "previous": "d0bb4db6-ab35-11e7-a38f-0242ac120002-14-88c5-d530-aaf1-4774-2cf2-8dac-8cf5-6fc1-e6ad-8622"
      },
      {
       "current": "89343458-ab35-11e7-a38f-0242ac120002-16-f793-3706-9fbe-6348-183f-d8e8-2f26-5614-e125-09fc",
       "next": "d900dee0-0f9c-11ec-87e3-c7638f7e44c5-4-65ef-494a-9dde-7374",
       "previous": "d0bb4db6-ab35-11e7-a38f-0242ac120002-15-d530-aaf1-4774-2cf2-8dac-8cf5-6fc1-e6ad-8622-2254"
      }
     ],
     "next": "d900dee0-0f9c-11ec-87e3-c7638f7e44c5-5-65ef-494a-9dde-7374-f0d7",
     "previous": "d0bb4db6-ab35-11e7-a38f-0242ac120002-16-aaf1-4774-2cf2-8dac-8cf5-6fc1-e6ad-8622-2254-101c"
    },
    "run_through_control": {
     "frozen": false
    },
    "scrolled": true
   },
   "outputs": [],
   "source": [
    "!ansible -a 'df -h' {target_nodes} -l {target_group}"
   ]
  },
  {
   "cell_type": "markdown",
   "metadata": {
    "lc_cell_meme": {
     "current": "d900dee0-0f9c-11ec-87e3-c7638f7e44c5-5-65ef-494a-9dde-7374-f0d7",
     "history": [
      {
       "current": "d900dee0-0f9c-11ec-87e3-c7638f7e44c5-1-65ef",
       "next": "7de2b76c-ab37-11e7-a38f-0242ac120002-11-5a62-41a3-a176-ca52-8a1b-0011-9e30-e983-37e1-4cc9",
       "previous": "89343458-ab35-11e7-a38f-0242ac120002-11-610b-f847-b44a-694d-aeb9-f793-3706-9fbe-6348-183f"
      },
      {
       "current": "d900dee0-0f9c-11ec-87e3-c7638f7e44c5-2-65ef-494a",
       "next": "7de2b76c-ab37-11e7-a38f-0242ac120002-12-41a3-a176-ca52-8a1b-0011-9e30-e983-37e1-4cc9-46ee",
       "previous": "89343458-ab35-11e7-a38f-0242ac120002-12-f847-b44a-694d-aeb9-f793-3706-9fbe-6348-183f-d8e8"
      },
      {
       "current": "d900dee0-0f9c-11ec-87e3-c7638f7e44c5-3-65ef-494a-9dde",
       "next": "7de2b76c-ab37-11e7-a38f-0242ac120002-13-a176-ca52-8a1b-0011-9e30-e983-37e1-4cc9-46ee-db9f",
       "previous": "89343458-ab35-11e7-a38f-0242ac120002-13-b44a-694d-aeb9-f793-3706-9fbe-6348-183f-d8e8-2f26"
      },
      {
       "current": "d900dee0-0f9c-11ec-87e3-c7638f7e44c5-4-65ef-494a-9dde-7374",
       "next": "7de2b76c-ab37-11e7-a38f-0242ac120002-14-ca52-8a1b-0011-9e30-e983-37e1-4cc9-46ee-db9f-c650",
       "previous": "89343458-ab35-11e7-a38f-0242ac120002-14-694d-aeb9-f793-3706-9fbe-6348-183f-d8e8-2f26-5614"
      },
      {
       "current": "d900dee0-0f9c-11ec-87e3-c7638f7e44c5-5-65ef-494a-9dde-7374-f0d7",
       "next": "7de2b76c-ab37-11e7-a38f-0242ac120002-15-8a1b-0011-9e30-e983-37e1-4cc9-46ee-db9f-c650-e95c",
       "previous": "89343458-ab35-11e7-a38f-0242ac120002-15-aeb9-f793-3706-9fbe-6348-183f-d8e8-2f26-5614-e125"
      }
     ],
     "next": "7de2b76c-ab37-11e7-a38f-0242ac120002-16-0011-9e30-e983-37e1-4cc9-46ee-db9f-c650-e95c-b7d9",
     "previous": "89343458-ab35-11e7-a38f-0242ac120002-16-f793-3706-9fbe-6348-183f-d8e8-2f26-5614-e125-09fc"
    }
   },
   "source": [
    "ファイルが見えるか、確認する。"
   ]
  },
  {
   "cell_type": "code",
   "execution_count": null,
   "metadata": {
    "ExecuteTime": {
     "end_time": "2019-04-19T08:06:36.221878Z",
     "start_time": "2019-04-19T08:06:26.163942Z"
    },
    "deletable": false,
    "editable": false,
    "lc_cell_meme": {
     "current": "7de2b76c-ab37-11e7-a38f-0242ac120002-16-0011-9e30-e983-37e1-4cc9-46ee-db9f-c650-e95c-b7d9",
     "execution_end_time": "2022-04-27T11:47:10.478243Z",
     "history": [
      {
       "current": "7de2b76c-ab37-11e7-a38f-0242ac120002-13-a176-ca52-8a1b-0011-9e30-e983-37e1-4cc9-46ee-db9f",
       "next": "ef055dae-d36e-11e8-a64b-02420aff0006-13-1dd2-d06a-4337-e05a-59b7-38b2-25a0-6e1c-ab1b-a17b",
       "previous": "d900dee0-0f9c-11ec-87e3-c7638f7e44c5-2-65ef-494a"
      },
      {
       "current": "7de2b76c-ab37-11e7-a38f-0242ac120002-13-a176-ca52-8a1b-0011-9e30-e983-37e1-4cc9-46ee-db9f",
       "next": "ea5324ca-8e3a-11ec-920f-6b42dc3e1973",
       "previous": "d900dee0-0f9c-11ec-87e3-c7638f7e44c5-2-65ef-494a"
      },
      {
       "current": "7de2b76c-ab37-11e7-a38f-0242ac120002-14-ca52-8a1b-0011-9e30-e983-37e1-4cc9-46ee-db9f-c650",
       "next": "ef055dae-d36e-11e8-a64b-02420aff0006-13-1dd2-d06a-4337-e05a-59b7-38b2-25a0-6e1c-ab1b-a17b",
       "previous": "d900dee0-0f9c-11ec-87e3-c7638f7e44c5-2-65ef-494a"
      },
      {
       "current": "7de2b76c-ab37-11e7-a38f-0242ac120002-15-8a1b-0011-9e30-e983-37e1-4cc9-46ee-db9f-c650-e95c",
       "next": "ef055dae-d36e-11e8-a64b-02420aff0006-14-d06a-4337-e05a-59b7-38b2-25a0-6e1c-ab1b-a17b-93b4",
       "previous": "d900dee0-0f9c-11ec-87e3-c7638f7e44c5-3-65ef-494a-9dde"
      },
      {
       "current": "7de2b76c-ab37-11e7-a38f-0242ac120002-16-0011-9e30-e983-37e1-4cc9-46ee-db9f-c650-e95c-b7d9",
       "next": "ef055dae-d36e-11e8-a64b-02420aff0006-15-4337-e05a-59b7-38b2-25a0-6e1c-ab1b-a17b-93b4-73a1",
       "previous": "d900dee0-0f9c-11ec-87e3-c7638f7e44c5-4-65ef-494a-9dde-7374"
      }
     ],
     "next": "ef055dae-d36e-11e8-a64b-02420aff0006-16-e05a-59b7-38b2-25a0-6e1c-ab1b-a17b-93b4-73a1-a13b",
     "previous": "d900dee0-0f9c-11ec-87e3-c7638f7e44c5-5-65ef-494a-9dde-7374-f0d7"
    },
    "run_through_control": {
     "frozen": false
    }
   },
   "outputs": [],
   "source": [
    "!ansible -a 'ls -la {{{{ nfspath }}}}/exchange' {target_server} -l {target_group}\n",
    "!ansible -a 'ls -la /exchange' {target_nodes} -l {target_group}"
   ]
  },
  {
   "cell_type": "markdown",
   "metadata": {
    "lc_cell_meme": {
     "current": "ef055dae-d36e-11e8-a64b-02420aff0006-16-e05a-59b7-38b2-25a0-6e1c-ab1b-a17b-93b4-73a1-a13b",
     "history": [
      {
       "current": "ef055dae-d36e-11e8-a64b-02420aff0006-13-1dd2-d06a-4337-e05a-59b7-38b2-25a0-6e1c-ab1b-a17b",
       "next": "7ea20db0-ac81-11e7-a38f-0242ac120002-13-330f-9594-ad64-8006-6c2b-f836-1288-962e-43a5-e470",
       "previous": "086682e1-8e3c-11ec-af49-6b42dc3e1973"
      },
      {
       "current": "ef055dae-d36e-11e8-a64b-02420aff0006-13-1dd2-d06a-4337-e05a-59b7-38b2-25a0-6e1c-ab1b-a17b",
       "next": "7ea20db0-ac81-11e7-a38f-0242ac120002-13-330f-9594-ad64-8006-6c2b-f836-1288-962e-43a5-e470",
       "previous": "31f1d778-8e3b-11ec-b24b-6b42dc3e1973-2-6ca1-a29d"
      },
      {
       "current": "ef055dae-d36e-11e8-a64b-02420aff0006-14-d06a-4337-e05a-59b7-38b2-25a0-6e1c-ab1b-a17b-93b4",
       "next": "7ea20db0-ac81-11e7-a38f-0242ac120002-13-330f-9594-ad64-8006-6c2b-f836-1288-962e-43a5-e470",
       "previous": "7de2b76c-ab37-11e7-a38f-0242ac120002-13-a176-ca52-8a1b-0011-9e30-e983-37e1-4cc9-46ee-db9f"
      },
      {
       "current": "ef055dae-d36e-11e8-a64b-02420aff0006-15-4337-e05a-59b7-38b2-25a0-6e1c-ab1b-a17b-93b4-73a1",
       "next": "7ea20db0-ac81-11e7-a38f-0242ac120002-14-9594-ad64-8006-6c2b-f836-1288-962e-43a5-e470-0cf3",
       "previous": "7de2b76c-ab37-11e7-a38f-0242ac120002-14-ca52-8a1b-0011-9e30-e983-37e1-4cc9-46ee-db9f-c650"
      },
      {
       "current": "ef055dae-d36e-11e8-a64b-02420aff0006-16-e05a-59b7-38b2-25a0-6e1c-ab1b-a17b-93b4-73a1-a13b",
       "next": "7ea20db0-ac81-11e7-a38f-0242ac120002-15-ad64-8006-6c2b-f836-1288-962e-43a5-e470-0cf3-3456",
       "previous": "7de2b76c-ab37-11e7-a38f-0242ac120002-15-8a1b-0011-9e30-e983-37e1-4cc9-46ee-db9f-c650-e95c"
      }
     ],
     "next": "7ea20db0-ac81-11e7-a38f-0242ac120002-16-8006-6c2b-f836-1288-962e-43a5-e470-0cf3-3456-4cff",
     "previous": "7de2b76c-ab37-11e7-a38f-0242ac120002-16-0011-9e30-e983-37e1-4cc9-46ee-db9f-c650-e95c-b7d9"
    }
   },
   "source": [
    "## 動作確認その1"
   ]
  },
  {
   "cell_type": "markdown",
   "metadata": {
    "lc_cell_meme": {
     "current": "7ea20db0-ac81-11e7-a38f-0242ac120002-16-8006-6c2b-f836-1288-962e-43a5-e470-0cf3-3456-4cff",
     "history": [
      {
       "current": "7ea20db0-ac81-11e7-a38f-0242ac120002-12-f4ba-330f-9594-ad64-8006-6c2b-f836-1288-962e-43a5",
       "next": "fa26e044-ab34-11e7-a38f-0242ac120002-11-248b-5414-d584-3926-6959-f530-f3db-082b-ed77-d697",
       "previous": "ef055dae-d36e-11e8-a64b-02420aff0006-11-738c-6a2e-1dd2-d06a-4337-e05a-59b7-38b2-25a0-6e1c"
      },
      {
       "current": "7ea20db0-ac81-11e7-a38f-0242ac120002-13-330f-9594-ad64-8006-6c2b-f836-1288-962e-43a5-e470",
       "next": "fa26e044-ab34-11e7-a38f-0242ac120002-12-5414-d584-3926-6959-f530-f3db-082b-ed77-d697-a304",
       "previous": "ef055dae-d36e-11e8-a64b-02420aff0006-12-6a2e-1dd2-d06a-4337-e05a-59b7-38b2-25a0-6e1c-ab1b"
      },
      {
       "current": "7ea20db0-ac81-11e7-a38f-0242ac120002-14-9594-ad64-8006-6c2b-f836-1288-962e-43a5-e470-0cf3",
       "next": "fa26e044-ab34-11e7-a38f-0242ac120002-13-d584-3926-6959-f530-f3db-082b-ed77-d697-a304-aa02",
       "previous": "ef055dae-d36e-11e8-a64b-02420aff0006-13-1dd2-d06a-4337-e05a-59b7-38b2-25a0-6e1c-ab1b-a17b"
      },
      {
       "current": "7ea20db0-ac81-11e7-a38f-0242ac120002-15-ad64-8006-6c2b-f836-1288-962e-43a5-e470-0cf3-3456",
       "next": "fa26e044-ab34-11e7-a38f-0242ac120002-14-3926-6959-f530-f3db-082b-ed77-d697-a304-aa02-c314",
       "previous": "ef055dae-d36e-11e8-a64b-02420aff0006-14-d06a-4337-e05a-59b7-38b2-25a0-6e1c-ab1b-a17b-93b4"
      },
      {
       "current": "7ea20db0-ac81-11e7-a38f-0242ac120002-16-8006-6c2b-f836-1288-962e-43a5-e470-0cf3-3456-4cff",
       "next": "fa26e044-ab34-11e7-a38f-0242ac120002-15-6959-f530-f3db-082b-ed77-d697-a304-aa02-c314-3d94",
       "previous": "ef055dae-d36e-11e8-a64b-02420aff0006-15-4337-e05a-59b7-38b2-25a0-6e1c-ab1b-a17b-93b4-73a1"
      }
     ],
     "next": "fa26e044-ab34-11e7-a38f-0242ac120002-16-f530-f3db-082b-ed77-d697-a304-aa02-c314-3d94-a9fb",
     "previous": "ef055dae-d36e-11e8-a64b-02420aff0006-16-e05a-59b7-38b2-25a0-6e1c-ab1b-a17b-93b4-73a1-a13b"
    }
   },
   "source": [
    "Create a test file on `/exchange`..."
   ]
  },
  {
   "cell_type": "code",
   "execution_count": null,
   "metadata": {
    "ExecuteTime": {
     "end_time": "2019-04-19T08:06:44.412959Z",
     "start_time": "2019-04-19T08:06:39.715360Z"
    },
    "deletable": false,
    "editable": false,
    "lc_cell_meme": {
     "current": "fa26e044-ab34-11e7-a38f-0242ac120002-16-f530-f3db-082b-ed77-d697-a304-aa02-c314-3d94-a9fb",
     "execution_end_time": "2022-04-27T11:47:12.851192Z",
     "history": [
      {
       "current": "fa26e044-ab34-11e7-a38f-0242ac120002-12-5414-d584-3926-6959-f530-f3db-082b-ed77-d697-a304",
       "next": "c569904c-ab37-11e7-a38f-0242ac120002-11-6d4b-676e-bd66-0752-0e51-423e-1a9b-1f10-cb06-cfcf",
       "previous": "7ea20db0-ac81-11e7-a38f-0242ac120002-11-3156-f4ba-330f-9594-ad64-8006-6c2b-f836-1288-962e"
      },
      {
       "current": "fa26e044-ab34-11e7-a38f-0242ac120002-13-d584-3926-6959-f530-f3db-082b-ed77-d697-a304-aa02",
       "next": "c569904c-ab37-11e7-a38f-0242ac120002-12-676e-bd66-0752-0e51-423e-1a9b-1f10-cb06-cfcf-07c5",
       "previous": "7ea20db0-ac81-11e7-a38f-0242ac120002-12-f4ba-330f-9594-ad64-8006-6c2b-f836-1288-962e-43a5"
      },
      {
       "current": "fa26e044-ab34-11e7-a38f-0242ac120002-14-3926-6959-f530-f3db-082b-ed77-d697-a304-aa02-c314",
       "next": "c569904c-ab37-11e7-a38f-0242ac120002-13-bd66-0752-0e51-423e-1a9b-1f10-cb06-cfcf-07c5-33fe",
       "previous": "7ea20db0-ac81-11e7-a38f-0242ac120002-13-330f-9594-ad64-8006-6c2b-f836-1288-962e-43a5-e470"
      },
      {
       "current": "fa26e044-ab34-11e7-a38f-0242ac120002-15-6959-f530-f3db-082b-ed77-d697-a304-aa02-c314-3d94",
       "next": "c569904c-ab37-11e7-a38f-0242ac120002-14-0752-0e51-423e-1a9b-1f10-cb06-cfcf-07c5-33fe-7de8",
       "previous": "7ea20db0-ac81-11e7-a38f-0242ac120002-14-9594-ad64-8006-6c2b-f836-1288-962e-43a5-e470-0cf3"
      },
      {
       "current": "fa26e044-ab34-11e7-a38f-0242ac120002-16-f530-f3db-082b-ed77-d697-a304-aa02-c314-3d94-a9fb",
       "next": "c569904c-ab37-11e7-a38f-0242ac120002-15-0e51-423e-1a9b-1f10-cb06-cfcf-07c5-33fe-7de8-a5f8",
       "previous": "7ea20db0-ac81-11e7-a38f-0242ac120002-15-ad64-8006-6c2b-f836-1288-962e-43a5-e470-0cf3-3456"
      }
     ],
     "next": "c569904c-ab37-11e7-a38f-0242ac120002-16-423e-1a9b-1f10-cb06-cfcf-07c5-33fe-7de8-a5f8-f26f",
     "previous": "7ea20db0-ac81-11e7-a38f-0242ac120002-16-8006-6c2b-f836-1288-962e-43a5-e470-0cf3-3456-4cff"
    },
    "run_through_control": {
     "frozen": false
    }
   },
   "outputs": [],
   "source": [
    "!ansible -b -a 'touch {{{{ nfspath }}}}/exchange/test' {target_server} -l {target_group}"
   ]
  },
  {
   "cell_type": "markdown",
   "metadata": {
    "lc_cell_meme": {
     "current": "c569904c-ab37-11e7-a38f-0242ac120002-16-423e-1a9b-1f10-cb06-cfcf-07c5-33fe-7de8-a5f8-f26f",
     "history": [
      {
       "current": "c569904c-ab37-11e7-a38f-0242ac120002-12-676e-bd66-0752-0e51-423e-1a9b-1f10-cb06-cfcf-07c5",
       "next": "c56994fc-ab37-11e7-a38f-0242ac120002-11-b394-a8d6-d18f-1e05-a525-d733-3963-a644-8414-b233",
       "previous": "fa26e044-ab34-11e7-a38f-0242ac120002-11-248b-5414-d584-3926-6959-f530-f3db-082b-ed77-d697"
      },
      {
       "current": "c569904c-ab37-11e7-a38f-0242ac120002-13-bd66-0752-0e51-423e-1a9b-1f10-cb06-cfcf-07c5-33fe",
       "next": "c56994fc-ab37-11e7-a38f-0242ac120002-12-a8d6-d18f-1e05-a525-d733-3963-a644-8414-b233-03cf",
       "previous": "fa26e044-ab34-11e7-a38f-0242ac120002-12-5414-d584-3926-6959-f530-f3db-082b-ed77-d697-a304"
      },
      {
       "current": "c569904c-ab37-11e7-a38f-0242ac120002-14-0752-0e51-423e-1a9b-1f10-cb06-cfcf-07c5-33fe-7de8",
       "next": "c56994fc-ab37-11e7-a38f-0242ac120002-13-d18f-1e05-a525-d733-3963-a644-8414-b233-03cf-205f",
       "previous": "fa26e044-ab34-11e7-a38f-0242ac120002-13-d584-3926-6959-f530-f3db-082b-ed77-d697-a304-aa02"
      },
      {
       "current": "c569904c-ab37-11e7-a38f-0242ac120002-15-0e51-423e-1a9b-1f10-cb06-cfcf-07c5-33fe-7de8-a5f8",
       "next": "c56994fc-ab37-11e7-a38f-0242ac120002-14-1e05-a525-d733-3963-a644-8414-b233-03cf-205f-862b",
       "previous": "fa26e044-ab34-11e7-a38f-0242ac120002-14-3926-6959-f530-f3db-082b-ed77-d697-a304-aa02-c314"
      },
      {
       "current": "c569904c-ab37-11e7-a38f-0242ac120002-16-423e-1a9b-1f10-cb06-cfcf-07c5-33fe-7de8-a5f8-f26f",
       "next": "c56994fc-ab37-11e7-a38f-0242ac120002-15-a525-d733-3963-a644-8414-b233-03cf-205f-862b-e225",
       "previous": "fa26e044-ab34-11e7-a38f-0242ac120002-15-6959-f530-f3db-082b-ed77-d697-a304-aa02-c314-3d94"
      }
     ],
     "next": "c56994fc-ab37-11e7-a38f-0242ac120002-16-d733-3963-a644-8414-b233-03cf-205f-862b-e225-aab2",
     "previous": "fa26e044-ab34-11e7-a38f-0242ac120002-16-f530-f3db-082b-ed77-d697-a304-aa02-c314-3d94-a9fb"
    }
   },
   "source": [
    "Check whether `exchange` directory of hub and nodes are sync."
   ]
  },
  {
   "cell_type": "code",
   "execution_count": null,
   "metadata": {
    "ExecuteTime": {
     "end_time": "2019-04-19T08:06:57.697975Z",
     "start_time": "2019-04-19T08:06:48.675224Z"
    },
    "deletable": false,
    "editable": false,
    "lc_cell_meme": {
     "current": "c56994fc-ab37-11e7-a38f-0242ac120002-16-d733-3963-a644-8414-b233-03cf-205f-862b-e225-aab2",
     "execution_end_time": "2022-04-27T11:47:17.449171Z",
     "history": [
      {
       "current": "c56994fc-ab37-11e7-a38f-0242ac120002-12-a8d6-d18f-1e05-a525-d733-3963-a644-8414-b233-03cf",
       "next": "7ea21116-ac81-11e7-a38f-0242ac120002-11-34e5-1193-58fb-fbea-67d6-981c-6453-ab0c-2709-7a9b",
       "previous": "c569904c-ab37-11e7-a38f-0242ac120002-11-6d4b-676e-bd66-0752-0e51-423e-1a9b-1f10-cb06-cfcf"
      },
      {
       "current": "c56994fc-ab37-11e7-a38f-0242ac120002-13-d18f-1e05-a525-d733-3963-a644-8414-b233-03cf-205f",
       "next": "7ea21116-ac81-11e7-a38f-0242ac120002-12-1193-58fb-fbea-67d6-981c-6453-ab0c-2709-7a9b-e76e",
       "previous": "c569904c-ab37-11e7-a38f-0242ac120002-12-676e-bd66-0752-0e51-423e-1a9b-1f10-cb06-cfcf-07c5"
      },
      {
       "current": "c56994fc-ab37-11e7-a38f-0242ac120002-14-1e05-a525-d733-3963-a644-8414-b233-03cf-205f-862b",
       "next": "7ea21116-ac81-11e7-a38f-0242ac120002-13-58fb-fbea-67d6-981c-6453-ab0c-2709-7a9b-e76e-2e1c",
       "previous": "c569904c-ab37-11e7-a38f-0242ac120002-13-bd66-0752-0e51-423e-1a9b-1f10-cb06-cfcf-07c5-33fe"
      },
      {
       "current": "c56994fc-ab37-11e7-a38f-0242ac120002-15-a525-d733-3963-a644-8414-b233-03cf-205f-862b-e225",
       "next": "7ea21116-ac81-11e7-a38f-0242ac120002-14-fbea-67d6-981c-6453-ab0c-2709-7a9b-e76e-2e1c-0a8c",
       "previous": "c569904c-ab37-11e7-a38f-0242ac120002-14-0752-0e51-423e-1a9b-1f10-cb06-cfcf-07c5-33fe-7de8"
      },
      {
       "current": "c56994fc-ab37-11e7-a38f-0242ac120002-16-d733-3963-a644-8414-b233-03cf-205f-862b-e225-aab2",
       "next": "7ea21116-ac81-11e7-a38f-0242ac120002-15-67d6-981c-6453-ab0c-2709-7a9b-e76e-2e1c-0a8c-e310",
       "previous": "c569904c-ab37-11e7-a38f-0242ac120002-15-0e51-423e-1a9b-1f10-cb06-cfcf-07c5-33fe-7de8-a5f8"
      }
     ],
     "next": "7ea21116-ac81-11e7-a38f-0242ac120002-16-981c-6453-ab0c-2709-7a9b-e76e-2e1c-0a8c-e310-6d81",
     "previous": "c569904c-ab37-11e7-a38f-0242ac120002-16-423e-1a9b-1f10-cb06-cfcf-07c5-33fe-7de8-a5f8-f26f"
    },
    "run_through_control": {
     "frozen": false
    }
   },
   "outputs": [],
   "source": [
    "!ansible -a 'ls -la {{{{ nfspath }}}}/exchange' {target_server} -l {target_group}\n",
    "!ansible -a 'ls -la /exchange' {target_nodes} -l {target_group}"
   ]
  },
  {
   "cell_type": "markdown",
   "metadata": {
    "lc_cell_meme": {
     "current": "7ea21116-ac81-11e7-a38f-0242ac120002-16-981c-6453-ab0c-2709-7a9b-e76e-2e1c-0a8c-e310-6d81",
     "history": [
      {
       "current": "7ea21116-ac81-11e7-a38f-0242ac120002-12-1193-58fb-fbea-67d6-981c-6453-ab0c-2709-7a9b-e76e",
       "next": "547ccff6-ab38-11e7-a38f-0242ac120002-11-ffb1-0c5b-1bac-2dd0-37c1-f4a6-83f9-76ee-b0bc-086f",
       "previous": "c56994fc-ab37-11e7-a38f-0242ac120002-11-b394-a8d6-d18f-1e05-a525-d733-3963-a644-8414-b233"
      },
      {
       "current": "7ea21116-ac81-11e7-a38f-0242ac120002-13-58fb-fbea-67d6-981c-6453-ab0c-2709-7a9b-e76e-2e1c",
       "next": "547ccff6-ab38-11e7-a38f-0242ac120002-12-0c5b-1bac-2dd0-37c1-f4a6-83f9-76ee-b0bc-086f-81a7",
       "previous": "c56994fc-ab37-11e7-a38f-0242ac120002-12-a8d6-d18f-1e05-a525-d733-3963-a644-8414-b233-03cf"
      },
      {
       "current": "7ea21116-ac81-11e7-a38f-0242ac120002-14-fbea-67d6-981c-6453-ab0c-2709-7a9b-e76e-2e1c-0a8c",
       "next": "547ccff6-ab38-11e7-a38f-0242ac120002-13-1bac-2dd0-37c1-f4a6-83f9-76ee-b0bc-086f-81a7-18af",
       "previous": "c56994fc-ab37-11e7-a38f-0242ac120002-13-d18f-1e05-a525-d733-3963-a644-8414-b233-03cf-205f"
      },
      {
       "current": "7ea21116-ac81-11e7-a38f-0242ac120002-15-67d6-981c-6453-ab0c-2709-7a9b-e76e-2e1c-0a8c-e310",
       "next": "547ccff6-ab38-11e7-a38f-0242ac120002-14-2dd0-37c1-f4a6-83f9-76ee-b0bc-086f-81a7-18af-33c8",
       "previous": "c56994fc-ab37-11e7-a38f-0242ac120002-14-1e05-a525-d733-3963-a644-8414-b233-03cf-205f-862b"
      },
      {
       "current": "7ea21116-ac81-11e7-a38f-0242ac120002-16-981c-6453-ab0c-2709-7a9b-e76e-2e1c-0a8c-e310-6d81",
       "next": "547ccff6-ab38-11e7-a38f-0242ac120002-15-37c1-f4a6-83f9-76ee-b0bc-086f-81a7-18af-33c8-69c7",
       "previous": "c56994fc-ab37-11e7-a38f-0242ac120002-15-a525-d733-3963-a644-8414-b233-03cf-205f-862b-e225"
      }
     ],
     "next": "547ccff6-ab38-11e7-a38f-0242ac120002-16-f4a6-83f9-76ee-b0bc-086f-81a7-18af-33c8-69c7-e9ff",
     "previous": "c56994fc-ab37-11e7-a38f-0242ac120002-16-d733-3963-a644-8414-b233-03cf-205f-862b-e225-aab2"
    }
   },
   "source": [
    "OK, the test file also appears in NFS clients.\n",
    "\n",
    "Remove the test file."
   ]
  },
  {
   "cell_type": "code",
   "execution_count": null,
   "metadata": {
    "ExecuteTime": {
     "end_time": "2019-04-19T08:07:03.234381Z",
     "start_time": "2019-04-19T08:06:58.435020Z"
    },
    "deletable": false,
    "editable": false,
    "lc_cell_meme": {
     "current": "547ccff6-ab38-11e7-a38f-0242ac120002-16-f4a6-83f9-76ee-b0bc-086f-81a7-18af-33c8-69c7-e9ff",
     "execution_end_time": "2022-04-27T11:47:21.312981Z",
     "history": [
      {
       "current": "547ccff6-ab38-11e7-a38f-0242ac120002-12-0c5b-1bac-2dd0-37c1-f4a6-83f9-76ee-b0bc-086f-81a7",
       "next": "c569974a-ab37-11e7-a38f-0242ac120002-11-fd5e-1edf-f391-2e8a-453b-8625-60af-97cf-0f96-d156",
       "previous": "7ea21116-ac81-11e7-a38f-0242ac120002-11-34e5-1193-58fb-fbea-67d6-981c-6453-ab0c-2709-7a9b"
      },
      {
       "current": "547ccff6-ab38-11e7-a38f-0242ac120002-13-1bac-2dd0-37c1-f4a6-83f9-76ee-b0bc-086f-81a7-18af",
       "next": "c569974a-ab37-11e7-a38f-0242ac120002-12-1edf-f391-2e8a-453b-8625-60af-97cf-0f96-d156-7833",
       "previous": "7ea21116-ac81-11e7-a38f-0242ac120002-12-1193-58fb-fbea-67d6-981c-6453-ab0c-2709-7a9b-e76e"
      },
      {
       "current": "547ccff6-ab38-11e7-a38f-0242ac120002-14-2dd0-37c1-f4a6-83f9-76ee-b0bc-086f-81a7-18af-33c8",
       "next": "c569974a-ab37-11e7-a38f-0242ac120002-13-f391-2e8a-453b-8625-60af-97cf-0f96-d156-7833-27ed",
       "previous": "7ea21116-ac81-11e7-a38f-0242ac120002-13-58fb-fbea-67d6-981c-6453-ab0c-2709-7a9b-e76e-2e1c"
      },
      {
       "current": "547ccff6-ab38-11e7-a38f-0242ac120002-15-37c1-f4a6-83f9-76ee-b0bc-086f-81a7-18af-33c8-69c7",
       "next": "c569974a-ab37-11e7-a38f-0242ac120002-14-2e8a-453b-8625-60af-97cf-0f96-d156-7833-27ed-a5ff",
       "previous": "7ea21116-ac81-11e7-a38f-0242ac120002-14-fbea-67d6-981c-6453-ab0c-2709-7a9b-e76e-2e1c-0a8c"
      },
      {
       "current": "547ccff6-ab38-11e7-a38f-0242ac120002-16-f4a6-83f9-76ee-b0bc-086f-81a7-18af-33c8-69c7-e9ff",
       "next": "c569974a-ab37-11e7-a38f-0242ac120002-15-453b-8625-60af-97cf-0f96-d156-7833-27ed-a5ff-43a2",
       "previous": "7ea21116-ac81-11e7-a38f-0242ac120002-15-67d6-981c-6453-ab0c-2709-7a9b-e76e-2e1c-0a8c-e310"
      }
     ],
     "next": "c569974a-ab37-11e7-a38f-0242ac120002-16-8625-60af-97cf-0f96-d156-7833-27ed-a5ff-43a2-74d7",
     "previous": "7ea21116-ac81-11e7-a38f-0242ac120002-16-981c-6453-ab0c-2709-7a9b-e76e-2e1c-0a8c-e310-6d81"
    },
    "run_through_control": {
     "frozen": false
    }
   },
   "outputs": [],
   "source": [
    "!ansible -b -a 'rm {{{{ nfspath }}}}/exchange/test' {target_server} -l {target_group}"
   ]
  },
  {
   "cell_type": "code",
   "execution_count": null,
   "metadata": {
    "ExecuteTime": {
     "end_time": "2019-04-19T08:07:14.393186Z",
     "start_time": "2019-04-19T08:07:04.248214Z"
    },
    "deletable": false,
    "editable": false,
    "lc_cell_meme": {
     "current": "c569974a-ab37-11e7-a38f-0242ac120002-16-8625-60af-97cf-0f96-d156-7833-27ed-a5ff-43a2-74d7",
     "execution_end_time": "2022-04-27T11:47:25.950501Z",
     "history": [
      {
       "current": "c569974a-ab37-11e7-a38f-0242ac120002-12-1edf-f391-2e8a-453b-8625-60af-97cf-0f96-d156-7833",
       "next": "e384b272-ab38-11e7-a38f-0242ac120002-11-f2f9-450b-e92d-535d-c078-7c8a-b40a-0632-482c-d99f",
       "previous": "547ccff6-ab38-11e7-a38f-0242ac120002-11-ffb1-0c5b-1bac-2dd0-37c1-f4a6-83f9-76ee-b0bc-086f"
      },
      {
       "current": "c569974a-ab37-11e7-a38f-0242ac120002-13-f391-2e8a-453b-8625-60af-97cf-0f96-d156-7833-27ed",
       "next": "e384b272-ab38-11e7-a38f-0242ac120002-12-450b-e92d-535d-c078-7c8a-b40a-0632-482c-d99f-42b5",
       "previous": "547ccff6-ab38-11e7-a38f-0242ac120002-12-0c5b-1bac-2dd0-37c1-f4a6-83f9-76ee-b0bc-086f-81a7"
      },
      {
       "current": "c569974a-ab37-11e7-a38f-0242ac120002-14-2e8a-453b-8625-60af-97cf-0f96-d156-7833-27ed-a5ff",
       "next": "e384b272-ab38-11e7-a38f-0242ac120002-13-e92d-535d-c078-7c8a-b40a-0632-482c-d99f-42b5-873b",
       "previous": "547ccff6-ab38-11e7-a38f-0242ac120002-13-1bac-2dd0-37c1-f4a6-83f9-76ee-b0bc-086f-81a7-18af"
      },
      {
       "current": "c569974a-ab37-11e7-a38f-0242ac120002-15-453b-8625-60af-97cf-0f96-d156-7833-27ed-a5ff-43a2",
       "next": "e384b272-ab38-11e7-a38f-0242ac120002-14-535d-c078-7c8a-b40a-0632-482c-d99f-42b5-873b-c8a9",
       "previous": "547ccff6-ab38-11e7-a38f-0242ac120002-14-2dd0-37c1-f4a6-83f9-76ee-b0bc-086f-81a7-18af-33c8"
      },
      {
       "current": "c569974a-ab37-11e7-a38f-0242ac120002-16-8625-60af-97cf-0f96-d156-7833-27ed-a5ff-43a2-74d7",
       "next": "e384b272-ab38-11e7-a38f-0242ac120002-15-c078-7c8a-b40a-0632-482c-d99f-42b5-873b-c8a9-5049",
       "previous": "547ccff6-ab38-11e7-a38f-0242ac120002-15-37c1-f4a6-83f9-76ee-b0bc-086f-81a7-18af-33c8-69c7"
      }
     ],
     "next": "e384b272-ab38-11e7-a38f-0242ac120002-16-7c8a-b40a-0632-482c-d99f-42b5-873b-c8a9-5049-0132",
     "previous": "547ccff6-ab38-11e7-a38f-0242ac120002-16-f4a6-83f9-76ee-b0bc-086f-81a7-18af-33c8-69c7-e9ff"
    },
    "run_through_control": {
     "frozen": false
    }
   },
   "outputs": [],
   "source": [
    "!ansible -a 'ls -la {{{{ nfspath }}}}/exchange' {target_server} -l {target_group}\n",
    "!ansible -a 'ls -la /exchange' {target_nodes} -l {target_group}"
   ]
  },
  {
   "cell_type": "markdown",
   "metadata": {
    "lc_cell_meme": {
     "current": "e384b272-ab38-11e7-a38f-0242ac120002-16-7c8a-b40a-0632-482c-d99f-42b5-873b-c8a9-5049-0132",
     "history": [
      {
       "current": "e384b272-ab38-11e7-a38f-0242ac120002-12-450b-e92d-535d-c078-7c8a-b40a-0632-482c-d99f-42b5",
       "next": "498aafce-6a06-11eb-9f44-0242ac120002-3-3a10-c1d1-3339",
       "previous": "c569974a-ab37-11e7-a38f-0242ac120002-11-fd5e-1edf-f391-2e8a-453b-8625-60af-97cf-0f96-d156"
      },
      {
       "current": "e384b272-ab38-11e7-a38f-0242ac120002-13-e92d-535d-c078-7c8a-b40a-0632-482c-d99f-42b5-873b",
       "next": "498aafce-6a06-11eb-9f44-0242ac120002-4-3a10-c1d1-3339-7c07",
       "previous": "c569974a-ab37-11e7-a38f-0242ac120002-12-1edf-f391-2e8a-453b-8625-60af-97cf-0f96-d156-7833"
      },
      {
       "current": "e384b272-ab38-11e7-a38f-0242ac120002-14-535d-c078-7c8a-b40a-0632-482c-d99f-42b5-873b-c8a9",
       "next": "498aafce-6a06-11eb-9f44-0242ac120002-5-3a10-c1d1-3339-7c07-0f75",
       "previous": "c569974a-ab37-11e7-a38f-0242ac120002-13-f391-2e8a-453b-8625-60af-97cf-0f96-d156-7833-27ed"
      },
      {
       "current": "e384b272-ab38-11e7-a38f-0242ac120002-15-c078-7c8a-b40a-0632-482c-d99f-42b5-873b-c8a9-5049",
       "next": "498aafce-6a06-11eb-9f44-0242ac120002-6-3a10-c1d1-3339-7c07-0f75-adaf",
       "previous": "c569974a-ab37-11e7-a38f-0242ac120002-14-2e8a-453b-8625-60af-97cf-0f96-d156-7833-27ed-a5ff"
      },
      {
       "current": "e384b272-ab38-11e7-a38f-0242ac120002-16-7c8a-b40a-0632-482c-d99f-42b5-873b-c8a9-5049-0132",
       "next": "498aafce-6a06-11eb-9f44-0242ac120002-7-3a10-c1d1-3339-7c07-0f75-adaf-01f0",
       "previous": "c569974a-ab37-11e7-a38f-0242ac120002-15-453b-8625-60af-97cf-0f96-d156-7833-27ed-a5ff-43a2"
      }
     ],
     "next": "498aafce-6a06-11eb-9f44-0242ac120002-8-3a10-c1d1-3339-7c07-0f75-adaf-01f0-59f1",
     "previous": "c569974a-ab37-11e7-a38f-0242ac120002-16-8625-60af-97cf-0f96-d156-7833-27ed-a5ff-43a2-74d7"
    }
   },
   "source": [
    "## 再起動しても動く？\n",
    "\n",
    "Reboot VM... NFS clientだけ。\n",
    "\n",
    "NFS serverは再起動しない"
   ]
  },
  {
   "cell_type": "code",
   "execution_count": null,
   "metadata": {
    "deletable": false,
    "editable": false,
    "lc_cell_meme": {
     "current": "498aafce-6a06-11eb-9f44-0242ac120002-8-3a10-c1d1-3339-7c07-0f75-adaf-01f0-59f1",
     "execution_end_time": "2022-04-27T11:48:40.346182Z",
     "history": [
      {
       "current": "498aafce-6a06-11eb-9f44-0242ac120002-4-3a10-c1d1-3339-7c07",
       "next": "ef055f66-d36e-11e8-a64b-02420aff0006-11-6996-fd80-c805-c68b-44af-1ec0-42a5-7a21-951a-355c",
       "previous": "e384b272-ab38-11e7-a38f-0242ac120002-11-f2f9-450b-e92d-535d-c078-7c8a-b40a-0632-482c-d99f"
      },
      {
       "current": "498aafce-6a06-11eb-9f44-0242ac120002-5-3a10-c1d1-3339-7c07-0f75",
       "next": "ef055f66-d36e-11e8-a64b-02420aff0006-12-fd80-c805-c68b-44af-1ec0-42a5-7a21-951a-355c-8640",
       "previous": "e384b272-ab38-11e7-a38f-0242ac120002-12-450b-e92d-535d-c078-7c8a-b40a-0632-482c-d99f-42b5"
      },
      {
       "current": "498aafce-6a06-11eb-9f44-0242ac120002-6-3a10-c1d1-3339-7c07-0f75-adaf",
       "next": "ef055f66-d36e-11e8-a64b-02420aff0006-13-c805-c68b-44af-1ec0-42a5-7a21-951a-355c-8640-6c22",
       "previous": "e384b272-ab38-11e7-a38f-0242ac120002-13-e92d-535d-c078-7c8a-b40a-0632-482c-d99f-42b5-873b"
      },
      {
       "current": "498aafce-6a06-11eb-9f44-0242ac120002-7-3a10-c1d1-3339-7c07-0f75-adaf-01f0",
       "next": "ef055f66-d36e-11e8-a64b-02420aff0006-14-c68b-44af-1ec0-42a5-7a21-951a-355c-8640-6c22-4be1",
       "previous": "e384b272-ab38-11e7-a38f-0242ac120002-14-535d-c078-7c8a-b40a-0632-482c-d99f-42b5-873b-c8a9"
      },
      {
       "current": "498aafce-6a06-11eb-9f44-0242ac120002-8-3a10-c1d1-3339-7c07-0f75-adaf-01f0-59f1",
       "next": "ef055f66-d36e-11e8-a64b-02420aff0006-15-44af-1ec0-42a5-7a21-951a-355c-8640-6c22-4be1-b24a",
       "previous": "e384b272-ab38-11e7-a38f-0242ac120002-15-c078-7c8a-b40a-0632-482c-d99f-42b5-873b-c8a9-5049"
      }
     ],
     "next": "ef055f66-d36e-11e8-a64b-02420aff0006-16-1ec0-42a5-7a21-951a-355c-8640-6c22-4be1-b24a-9e8c",
     "previous": "e384b272-ab38-11e7-a38f-0242ac120002-16-7c8a-b40a-0632-482c-d99f-42b5-873b-c8a9-5049-0132"
    },
    "run_through_control": {
     "frozen": false
    }
   },
   "outputs": [],
   "source": [
    "!ansible -b -m reboot {target_nodes} -l {target_group}"
   ]
  },
  {
   "cell_type": "markdown",
   "metadata": {
    "lc_cell_meme": {
     "current": "ef055f66-d36e-11e8-a64b-02420aff0006-16-1ec0-42a5-7a21-951a-355c-8640-6c22-4be1-b24a-9e8c",
     "history": [
      {
       "current": "ef055f66-d36e-11e8-a64b-02420aff0006-12-fd80-c805-c68b-44af-1ec0-42a5-7a21-951a-355c-8640",
       "next": "463640d2-d353-11e8-a64b-02420aff0006-11-60ed-fcb0-e039-17f8-7501-9da6-1219-dc53-b226-7dc3",
       "previous": "498aafce-6a06-11eb-9f44-0242ac120002-3-3a10-c1d1-3339"
      },
      {
       "current": "ef055f66-d36e-11e8-a64b-02420aff0006-13-c805-c68b-44af-1ec0-42a5-7a21-951a-355c-8640-6c22",
       "next": "463640d2-d353-11e8-a64b-02420aff0006-12-fcb0-e039-17f8-7501-9da6-1219-dc53-b226-7dc3-2208",
       "previous": "498aafce-6a06-11eb-9f44-0242ac120002-4-3a10-c1d1-3339-7c07"
      },
      {
       "current": "ef055f66-d36e-11e8-a64b-02420aff0006-14-c68b-44af-1ec0-42a5-7a21-951a-355c-8640-6c22-4be1",
       "next": "463640d2-d353-11e8-a64b-02420aff0006-13-e039-17f8-7501-9da6-1219-dc53-b226-7dc3-2208-66a7",
       "previous": "498aafce-6a06-11eb-9f44-0242ac120002-5-3a10-c1d1-3339-7c07-0f75"
      },
      {
       "current": "ef055f66-d36e-11e8-a64b-02420aff0006-15-44af-1ec0-42a5-7a21-951a-355c-8640-6c22-4be1-b24a",
       "next": "463640d2-d353-11e8-a64b-02420aff0006-14-17f8-7501-9da6-1219-dc53-b226-7dc3-2208-66a7-11d0",
       "previous": "498aafce-6a06-11eb-9f44-0242ac120002-6-3a10-c1d1-3339-7c07-0f75-adaf"
      },
      {
       "current": "ef055f66-d36e-11e8-a64b-02420aff0006-16-1ec0-42a5-7a21-951a-355c-8640-6c22-4be1-b24a-9e8c",
       "next": "463640d2-d353-11e8-a64b-02420aff0006-15-7501-9da6-1219-dc53-b226-7dc3-2208-66a7-11d0-daf4",
       "previous": "498aafce-6a06-11eb-9f44-0242ac120002-7-3a10-c1d1-3339-7c07-0f75-adaf-01f0"
      }
     ],
     "next": "463640d2-d353-11e8-a64b-02420aff0006-16-9da6-1219-dc53-b226-7dc3-2208-66a7-11d0-daf4-e229",
     "previous": "498aafce-6a06-11eb-9f44-0242ac120002-8-3a10-c1d1-3339-7c07-0f75-adaf-01f0-59f1"
    }
   },
   "source": [
    "## 動作確認その2\n",
    "\n",
    "再起動後でも動くか？"
   ]
  },
  {
   "cell_type": "code",
   "execution_count": null,
   "metadata": {
    "ExecuteTime": {
     "end_time": "2019-04-19T08:17:47.487168Z",
     "start_time": "2019-04-19T08:17:41.985608Z"
    },
    "deletable": false,
    "editable": false,
    "lc_cell_meme": {
     "current": "463640d2-d353-11e8-a64b-02420aff0006-16-9da6-1219-dc53-b226-7dc3-2208-66a7-11d0-daf4-e229",
     "execution_end_time": "2022-04-27T11:48:45.151165Z",
     "history": [
      {
       "current": "463640d2-d353-11e8-a64b-02420aff0006-12-fcb0-e039-17f8-7501-9da6-1219-dc53-b226-7dc3-2208",
       "next": "20d7c664-d36f-11e8-a64b-02420aff0006-11-514b-0aed-9269-ecfd-0bf3-a2dd-b718-26c4-3da5-2903",
       "previous": "ef055f66-d36e-11e8-a64b-02420aff0006-11-6996-fd80-c805-c68b-44af-1ec0-42a5-7a21-951a-355c"
      },
      {
       "current": "463640d2-d353-11e8-a64b-02420aff0006-13-e039-17f8-7501-9da6-1219-dc53-b226-7dc3-2208-66a7",
       "next": "20d7c664-d36f-11e8-a64b-02420aff0006-12-0aed-9269-ecfd-0bf3-a2dd-b718-26c4-3da5-2903-3c60",
       "previous": "ef055f66-d36e-11e8-a64b-02420aff0006-12-fd80-c805-c68b-44af-1ec0-42a5-7a21-951a-355c-8640"
      },
      {
       "current": "463640d2-d353-11e8-a64b-02420aff0006-14-17f8-7501-9da6-1219-dc53-b226-7dc3-2208-66a7-11d0",
       "next": "20d7c664-d36f-11e8-a64b-02420aff0006-13-9269-ecfd-0bf3-a2dd-b718-26c4-3da5-2903-3c60-5223",
       "previous": "ef055f66-d36e-11e8-a64b-02420aff0006-13-c805-c68b-44af-1ec0-42a5-7a21-951a-355c-8640-6c22"
      },
      {
       "current": "463640d2-d353-11e8-a64b-02420aff0006-15-7501-9da6-1219-dc53-b226-7dc3-2208-66a7-11d0-daf4",
       "next": "20d7c664-d36f-11e8-a64b-02420aff0006-14-ecfd-0bf3-a2dd-b718-26c4-3da5-2903-3c60-5223-71cd",
       "previous": "ef055f66-d36e-11e8-a64b-02420aff0006-14-c68b-44af-1ec0-42a5-7a21-951a-355c-8640-6c22-4be1"
      },
      {
       "current": "463640d2-d353-11e8-a64b-02420aff0006-16-9da6-1219-dc53-b226-7dc3-2208-66a7-11d0-daf4-e229",
       "next": "20d7c664-d36f-11e8-a64b-02420aff0006-15-0bf3-a2dd-b718-26c4-3da5-2903-3c60-5223-71cd-b176",
       "previous": "ef055f66-d36e-11e8-a64b-02420aff0006-15-44af-1ec0-42a5-7a21-951a-355c-8640-6c22-4be1-b24a"
      }
     ],
     "next": "20d7c664-d36f-11e8-a64b-02420aff0006-16-a2dd-b718-26c4-3da5-2903-3c60-5223-71cd-b176-2902",
     "previous": "ef055f66-d36e-11e8-a64b-02420aff0006-16-1ec0-42a5-7a21-951a-355c-8640-6c22-4be1-b24a-9e8c"
    },
    "run_through_control": {
     "frozen": false
    }
   },
   "outputs": [],
   "source": [
    "!ansible -b -a 'touch {{{{ nfspath }}}}/exchange/test' {target_server} -l {target_group}"
   ]
  },
  {
   "cell_type": "code",
   "execution_count": null,
   "metadata": {
    "ExecuteTime": {
     "end_time": "2019-04-19T08:18:00.272938Z",
     "start_time": "2019-04-19T08:17:47.576936Z"
    },
    "deletable": false,
    "editable": false,
    "lc_cell_meme": {
     "current": "20d7c664-d36f-11e8-a64b-02420aff0006-16-a2dd-b718-26c4-3da5-2903-3c60-5223-71cd-b176-2902",
     "execution_end_time": "2022-04-27T11:48:49.817483Z",
     "history": [
      {
       "current": "20d7c664-d36f-11e8-a64b-02420aff0006-12-0aed-9269-ecfd-0bf3-a2dd-b718-26c4-3da5-2903-3c60",
       "next": "20d7c7e0-d36f-11e8-a64b-02420aff0006-11-d490-9cd3-0cf5-da0a-917b-02c8-9860-982d-9664-2681",
       "previous": "463640d2-d353-11e8-a64b-02420aff0006-11-60ed-fcb0-e039-17f8-7501-9da6-1219-dc53-b226-7dc3"
      },
      {
       "current": "20d7c664-d36f-11e8-a64b-02420aff0006-13-9269-ecfd-0bf3-a2dd-b718-26c4-3da5-2903-3c60-5223",
       "next": "20d7c7e0-d36f-11e8-a64b-02420aff0006-12-9cd3-0cf5-da0a-917b-02c8-9860-982d-9664-2681-31ef",
       "previous": "463640d2-d353-11e8-a64b-02420aff0006-12-fcb0-e039-17f8-7501-9da6-1219-dc53-b226-7dc3-2208"
      },
      {
       "current": "20d7c664-d36f-11e8-a64b-02420aff0006-14-ecfd-0bf3-a2dd-b718-26c4-3da5-2903-3c60-5223-71cd",
       "next": "20d7c7e0-d36f-11e8-a64b-02420aff0006-13-0cf5-da0a-917b-02c8-9860-982d-9664-2681-31ef-757d",
       "previous": "463640d2-d353-11e8-a64b-02420aff0006-13-e039-17f8-7501-9da6-1219-dc53-b226-7dc3-2208-66a7"
      },
      {
       "current": "20d7c664-d36f-11e8-a64b-02420aff0006-15-0bf3-a2dd-b718-26c4-3da5-2903-3c60-5223-71cd-b176",
       "next": "20d7c7e0-d36f-11e8-a64b-02420aff0006-14-da0a-917b-02c8-9860-982d-9664-2681-31ef-757d-3723",
       "previous": "463640d2-d353-11e8-a64b-02420aff0006-14-17f8-7501-9da6-1219-dc53-b226-7dc3-2208-66a7-11d0"
      },
      {
       "current": "20d7c664-d36f-11e8-a64b-02420aff0006-16-a2dd-b718-26c4-3da5-2903-3c60-5223-71cd-b176-2902",
       "next": "20d7c7e0-d36f-11e8-a64b-02420aff0006-15-917b-02c8-9860-982d-9664-2681-31ef-757d-3723-b049",
       "previous": "463640d2-d353-11e8-a64b-02420aff0006-15-7501-9da6-1219-dc53-b226-7dc3-2208-66a7-11d0-daf4"
      }
     ],
     "next": "20d7c7e0-d36f-11e8-a64b-02420aff0006-16-02c8-9860-982d-9664-2681-31ef-757d-3723-b049-085d",
     "previous": "463640d2-d353-11e8-a64b-02420aff0006-16-9da6-1219-dc53-b226-7dc3-2208-66a7-11d0-daf4-e229"
    },
    "run_through_control": {
     "frozen": false
    },
    "scrolled": true
   },
   "outputs": [],
   "source": [
    "!ansible -a 'ls -la {{{{ nfspath }}}}/exchange' {target_server} -l {target_group}\n",
    "!ansible -a 'ls -la /exchange' {target_nodes} -l {target_group}"
   ]
  },
  {
   "cell_type": "code",
   "execution_count": null,
   "metadata": {
    "ExecuteTime": {
     "end_time": "2019-04-19T08:18:10.144194Z",
     "start_time": "2019-04-19T08:18:00.323243Z"
    },
    "deletable": false,
    "editable": false,
    "lc_cell_meme": {
     "current": "20d7c7e0-d36f-11e8-a64b-02420aff0006-16-02c8-9860-982d-9664-2681-31ef-757d-3723-b049-085d",
     "execution_end_time": "2022-04-27T11:48:52.251808Z",
     "history": [
      {
       "current": "20d7c7e0-d36f-11e8-a64b-02420aff0006-12-9cd3-0cf5-da0a-917b-02c8-9860-982d-9664-2681-31ef",
       "next": "20d7c89e-d36f-11e8-a64b-02420aff0006-11-45b3-795a-f0c0-ac1c-63b9-b1d9-9296-3896-b7d3-b9c7",
       "previous": "20d7c664-d36f-11e8-a64b-02420aff0006-11-514b-0aed-9269-ecfd-0bf3-a2dd-b718-26c4-3da5-2903"
      },
      {
       "current": "20d7c7e0-d36f-11e8-a64b-02420aff0006-13-0cf5-da0a-917b-02c8-9860-982d-9664-2681-31ef-757d",
       "next": "20d7c89e-d36f-11e8-a64b-02420aff0006-12-795a-f0c0-ac1c-63b9-b1d9-9296-3896-b7d3-b9c7-f72d",
       "previous": "20d7c664-d36f-11e8-a64b-02420aff0006-12-0aed-9269-ecfd-0bf3-a2dd-b718-26c4-3da5-2903-3c60"
      },
      {
       "current": "20d7c7e0-d36f-11e8-a64b-02420aff0006-14-da0a-917b-02c8-9860-982d-9664-2681-31ef-757d-3723",
       "next": "20d7c89e-d36f-11e8-a64b-02420aff0006-13-f0c0-ac1c-63b9-b1d9-9296-3896-b7d3-b9c7-f72d-56de",
       "previous": "20d7c664-d36f-11e8-a64b-02420aff0006-13-9269-ecfd-0bf3-a2dd-b718-26c4-3da5-2903-3c60-5223"
      },
      {
       "current": "20d7c7e0-d36f-11e8-a64b-02420aff0006-15-917b-02c8-9860-982d-9664-2681-31ef-757d-3723-b049",
       "next": "20d7c89e-d36f-11e8-a64b-02420aff0006-14-ac1c-63b9-b1d9-9296-3896-b7d3-b9c7-f72d-56de-fcb5",
       "previous": "20d7c664-d36f-11e8-a64b-02420aff0006-14-ecfd-0bf3-a2dd-b718-26c4-3da5-2903-3c60-5223-71cd"
      },
      {
       "current": "20d7c7e0-d36f-11e8-a64b-02420aff0006-16-02c8-9860-982d-9664-2681-31ef-757d-3723-b049-085d",
       "next": "20d7c89e-d36f-11e8-a64b-02420aff0006-15-63b9-b1d9-9296-3896-b7d3-b9c7-f72d-56de-fcb5-ae9e",
       "previous": "20d7c664-d36f-11e8-a64b-02420aff0006-15-0bf3-a2dd-b718-26c4-3da5-2903-3c60-5223-71cd-b176"
      }
     ],
     "next": "20d7c89e-d36f-11e8-a64b-02420aff0006-16-b1d9-9296-3896-b7d3-b9c7-f72d-56de-fcb5-ae9e-2564",
     "previous": "20d7c664-d36f-11e8-a64b-02420aff0006-16-a2dd-b718-26c4-3da5-2903-3c60-5223-71cd-b176-2902"
    },
    "run_through_control": {
     "frozen": false
    }
   },
   "outputs": [],
   "source": [
    "!ansible -b -a 'rm {{{{ nfspath }}}}/exchange/test' {target_server} -l {target_group}"
   ]
  },
  {
   "cell_type": "code",
   "execution_count": null,
   "metadata": {
    "ExecuteTime": {
     "end_time": "2019-04-19T08:18:19.330455Z",
     "start_time": "2019-04-19T08:18:10.234041Z"
    },
    "deletable": false,
    "editable": false,
    "lc_cell_meme": {
     "current": "20d7c89e-d36f-11e8-a64b-02420aff0006-16-b1d9-9296-3896-b7d3-b9c7-f72d-56de-fcb5-ae9e-2564",
     "execution_end_time": "2022-04-27T12:04:03.494515Z",
     "history": [
      {
       "current": "20d7c89e-d36f-11e8-a64b-02420aff0006-12-795a-f0c0-ac1c-63b9-b1d9-9296-3896-b7d3-b9c7-f72d",
       "next": "2e8d956c-4bd4-11e9-b2d5-0242ac130002-11-50c7-cc2d-dc6b-5355-e370-f83e-cb0d-9577-d267-00b8",
       "previous": "20d7c7e0-d36f-11e8-a64b-02420aff0006-11-d490-9cd3-0cf5-da0a-917b-02c8-9860-982d-9664-2681"
      },
      {
       "current": "20d7c89e-d36f-11e8-a64b-02420aff0006-13-f0c0-ac1c-63b9-b1d9-9296-3896-b7d3-b9c7-f72d-56de",
       "next": "2e8d956c-4bd4-11e9-b2d5-0242ac130002-12-cc2d-dc6b-5355-e370-f83e-cb0d-9577-d267-00b8-a2dc",
       "previous": "20d7c7e0-d36f-11e8-a64b-02420aff0006-12-9cd3-0cf5-da0a-917b-02c8-9860-982d-9664-2681-31ef"
      },
      {
       "current": "20d7c89e-d36f-11e8-a64b-02420aff0006-14-ac1c-63b9-b1d9-9296-3896-b7d3-b9c7-f72d-56de-fcb5",
       "next": "2e8d956c-4bd4-11e9-b2d5-0242ac130002-13-dc6b-5355-e370-f83e-cb0d-9577-d267-00b8-a2dc-5904",
       "previous": "20d7c7e0-d36f-11e8-a64b-02420aff0006-13-0cf5-da0a-917b-02c8-9860-982d-9664-2681-31ef-757d"
      },
      {
       "current": "20d7c89e-d36f-11e8-a64b-02420aff0006-15-63b9-b1d9-9296-3896-b7d3-b9c7-f72d-56de-fcb5-ae9e",
       "next": "2e8d956c-4bd4-11e9-b2d5-0242ac130002-14-5355-e370-f83e-cb0d-9577-d267-00b8-a2dc-5904-0723",
       "previous": "20d7c7e0-d36f-11e8-a64b-02420aff0006-14-da0a-917b-02c8-9860-982d-9664-2681-31ef-757d-3723"
      },
      {
       "current": "20d7c89e-d36f-11e8-a64b-02420aff0006-16-b1d9-9296-3896-b7d3-b9c7-f72d-56de-fcb5-ae9e-2564",
       "next": "2e8d956c-4bd4-11e9-b2d5-0242ac130002-15-e370-f83e-cb0d-9577-d267-00b8-a2dc-5904-0723-4e51",
       "previous": "20d7c7e0-d36f-11e8-a64b-02420aff0006-15-917b-02c8-9860-982d-9664-2681-31ef-757d-3723-b049"
      }
     ],
     "next": "2e8d956c-4bd4-11e9-b2d5-0242ac130002-16-f83e-cb0d-9577-d267-00b8-a2dc-5904-0723-4e51-3b2f",
     "previous": "20d7c7e0-d36f-11e8-a64b-02420aff0006-16-02c8-9860-982d-9664-2681-31ef-757d-3723-b049-085d"
    },
    "run_through_control": {
     "frozen": false
    }
   },
   "outputs": [],
   "source": [
    "!ansible -a 'ls -la {{{{ nfspath }}}}/exchange' {target_server} -l {target_group}\n",
    "!ansible -a 'ls -la /exchange' {target_nodes} -l {target_group}"
   ]
  },
  {
   "cell_type": "markdown",
   "metadata": {
    "lc_cell_meme": {
     "current": "2e8d956c-4bd4-11e9-b2d5-0242ac130002-16-f83e-cb0d-9577-d267-00b8-a2dc-5904-0723-4e51-3b2f",
     "history": [
      {
       "current": "2e8d956c-4bd4-11e9-b2d5-0242ac130002-12-cc2d-dc6b-5355-e370-f83e-cb0d-9577-d267-00b8-a2dc",
       "next": "c008f332-4c52-11e9-b2d5-0242ac130002-11-a91a-19f8-7f0a-8973-bb65-c361-2aa8-4aac-448b-cadb",
       "previous": "20d7c89e-d36f-11e8-a64b-02420aff0006-11-45b3-795a-f0c0-ac1c-63b9-b1d9-9296-3896-b7d3-b9c7"
      },
      {
       "current": "2e8d956c-4bd4-11e9-b2d5-0242ac130002-13-dc6b-5355-e370-f83e-cb0d-9577-d267-00b8-a2dc-5904",
       "next": "c008f332-4c52-11e9-b2d5-0242ac130002-12-19f8-7f0a-8973-bb65-c361-2aa8-4aac-448b-cadb-625b",
       "previous": "20d7c89e-d36f-11e8-a64b-02420aff0006-12-795a-f0c0-ac1c-63b9-b1d9-9296-3896-b7d3-b9c7-f72d"
      },
      {
       "current": "2e8d956c-4bd4-11e9-b2d5-0242ac130002-14-5355-e370-f83e-cb0d-9577-d267-00b8-a2dc-5904-0723",
       "next": "c008f332-4c52-11e9-b2d5-0242ac130002-13-7f0a-8973-bb65-c361-2aa8-4aac-448b-cadb-625b-7008",
       "previous": "20d7c89e-d36f-11e8-a64b-02420aff0006-13-f0c0-ac1c-63b9-b1d9-9296-3896-b7d3-b9c7-f72d-56de"
      },
      {
       "current": "2e8d956c-4bd4-11e9-b2d5-0242ac130002-15-e370-f83e-cb0d-9577-d267-00b8-a2dc-5904-0723-4e51",
       "next": "c008f332-4c52-11e9-b2d5-0242ac130002-14-8973-bb65-c361-2aa8-4aac-448b-cadb-625b-7008-31aa",
       "previous": "20d7c89e-d36f-11e8-a64b-02420aff0006-14-ac1c-63b9-b1d9-9296-3896-b7d3-b9c7-f72d-56de-fcb5"
      },
      {
       "current": "2e8d956c-4bd4-11e9-b2d5-0242ac130002-16-f83e-cb0d-9577-d267-00b8-a2dc-5904-0723-4e51-3b2f",
       "next": "c008f332-4c52-11e9-b2d5-0242ac130002-15-bb65-c361-2aa8-4aac-448b-cadb-625b-7008-31aa-d112",
       "previous": "20d7c89e-d36f-11e8-a64b-02420aff0006-15-63b9-b1d9-9296-3896-b7d3-b9c7-f72d-56de-fcb5-ae9e"
      }
     ],
     "next": "c008f332-4c52-11e9-b2d5-0242ac130002-16-c361-2aa8-4aac-448b-cadb-625b-7008-31aa-d112-4b79",
     "previous": "20d7c89e-d36f-11e8-a64b-02420aff0006-16-b1d9-9296-3896-b7d3-b9c7-f72d-56de-fcb5-ae9e-2564"
    }
   },
   "source": [
    "# 後始末"
   ]
  },
  {
   "cell_type": "code",
   "execution_count": null,
   "metadata": {
    "ExecuteTime": {
     "end_time": "2019-04-19T08:22:25.470592Z",
     "start_time": "2019-04-19T08:22:24.739961Z"
    },
    "deletable": false,
    "editable": false,
    "lc_cell_meme": {
     "current": "c008f332-4c52-11e9-b2d5-0242ac130002-16-c361-2aa8-4aac-448b-cadb-625b-7008-31aa-d112-4b79",
     "execution_end_time": "2022-04-27T12:04:04.634542Z",
     "history": [
      {
       "current": "c008f332-4c52-11e9-b2d5-0242ac130002-12-19f8-7f0a-8973-bb65-c361-2aa8-4aac-448b-cadb-625b",
       "next": "f71e9857-0f9d-11ec-b38b-c7638f7e44c5",
       "previous": "2e8d956c-4bd4-11e9-b2d5-0242ac130002-11-50c7-cc2d-dc6b-5355-e370-f83e-cb0d-9577-d267-00b8"
      },
      {
       "current": "c008f332-4c52-11e9-b2d5-0242ac130002-13-7f0a-8973-bb65-c361-2aa8-4aac-448b-cadb-625b-7008",
       "next": "f71e9857-0f9d-11ec-b38b-c7638f7e44c5-1-0a23",
       "previous": "2e8d956c-4bd4-11e9-b2d5-0242ac130002-12-cc2d-dc6b-5355-e370-f83e-cb0d-9577-d267-00b8-a2dc"
      },
      {
       "current": "c008f332-4c52-11e9-b2d5-0242ac130002-14-8973-bb65-c361-2aa8-4aac-448b-cadb-625b-7008-31aa",
       "next": "f71e9857-0f9d-11ec-b38b-c7638f7e44c5-2-0a23-261a",
       "previous": "2e8d956c-4bd4-11e9-b2d5-0242ac130002-13-dc6b-5355-e370-f83e-cb0d-9577-d267-00b8-a2dc-5904"
      },
      {
       "current": "c008f332-4c52-11e9-b2d5-0242ac130002-15-bb65-c361-2aa8-4aac-448b-cadb-625b-7008-31aa-d112",
       "next": "f71e9857-0f9d-11ec-b38b-c7638f7e44c5-3-0a23-261a-0de8",
       "previous": "2e8d956c-4bd4-11e9-b2d5-0242ac130002-14-5355-e370-f83e-cb0d-9577-d267-00b8-a2dc-5904-0723"
      },
      {
       "current": "c008f332-4c52-11e9-b2d5-0242ac130002-16-c361-2aa8-4aac-448b-cadb-625b-7008-31aa-d112-4b79",
       "next": "f71e9857-0f9d-11ec-b38b-c7638f7e44c5-4-0a23-261a-0de8-8094",
       "previous": "2e8d956c-4bd4-11e9-b2d5-0242ac130002-15-e370-f83e-cb0d-9577-d267-00b8-a2dc-5904-0723-4e51"
      }
     ],
     "next": "f71e9857-0f9d-11ec-b38b-c7638f7e44c5-5-0a23-261a-0de8-8094-ba3c",
     "previous": "2e8d956c-4bd4-11e9-b2d5-0242ac130002-16-f83e-cb0d-9577-d267-00b8-a2dc-5904-0723-4e51-3b2f"
    },
    "run_through_control": {
     "frozen": false
    }
   },
   "outputs": [],
   "source": [
    "!rm -rf {work_dir}"
   ]
  },
  {
   "cell_type": "code",
   "execution_count": null,
   "metadata": {
    "lc_cell_meme": {
     "current": "f71e9857-0f9d-11ec-b38b-c7638f7e44c5-5-0a23-261a-0de8-8094-ba3c",
     "history": [
      {
       "current": "f71e9857-0f9d-11ec-b38b-c7638f7e44c5-1-0a23",
       "next": null,
       "previous": "c008f332-4c52-11e9-b2d5-0242ac130002-11-a91a-19f8-7f0a-8973-bb65-c361-2aa8-4aac-448b-cadb"
      },
      {
       "current": "f71e9857-0f9d-11ec-b38b-c7638f7e44c5-2-0a23-261a",
       "next": null,
       "previous": "c008f332-4c52-11e9-b2d5-0242ac130002-12-19f8-7f0a-8973-bb65-c361-2aa8-4aac-448b-cadb-625b"
      },
      {
       "current": "f71e9857-0f9d-11ec-b38b-c7638f7e44c5-3-0a23-261a-0de8",
       "next": null,
       "previous": "c008f332-4c52-11e9-b2d5-0242ac130002-13-7f0a-8973-bb65-c361-2aa8-4aac-448b-cadb-625b-7008"
      },
      {
       "current": "f71e9857-0f9d-11ec-b38b-c7638f7e44c5-4-0a23-261a-0de8-8094",
       "next": null,
       "previous": "c008f332-4c52-11e9-b2d5-0242ac130002-14-8973-bb65-c361-2aa8-4aac-448b-cadb-625b-7008-31aa"
      },
      {
       "current": "f71e9857-0f9d-11ec-b38b-c7638f7e44c5-5-0a23-261a-0de8-8094-ba3c",
       "next": null,
       "previous": "c008f332-4c52-11e9-b2d5-0242ac130002-15-bb65-c361-2aa8-4aac-448b-cadb-625b-7008-31aa-d112"
      }
     ],
     "next": null,
     "previous": "c008f332-4c52-11e9-b2d5-0242ac130002-16-c361-2aa8-4aac-448b-cadb-625b-7008-31aa-d112-4b79"
    }
   },
   "outputs": [],
   "source": []
  }
 ],
 "metadata": {
  "kernelspec": {
   "display_name": "Python 3",
   "language": "python",
   "name": "python3"
  },
  "language_info": {
   "file_extension": ".py",
   "mimetype": "text/x-python",
   "name": "python",
   "nbconvert_exporter": "python",
   "pygments_lexer": "ipython3",
   "version": "3.9.10"
  },
  "lc_notebook_meme": {
   "current": "2e8d92a6-4bd4-11e9-b2d5-0242ac130002"
  },
  "toc": {
   "base_numbering": 1,
   "nav_menu": {},
   "number_sections": true,
   "sideBar": true,
   "skip_h1_title": false,
   "title_cell": "Table of Contents",
   "title_sidebar": "Contents",
   "toc_cell": false,
   "toc_position": {
    "height": "676px",
    "left": "80px",
    "top": "111.125px",
    "width": "287.797px"
   },
   "toc_section_display": true,
   "toc_window_display": true
  }
 },
 "nbformat": 4,
 "nbformat_minor": 2
}
